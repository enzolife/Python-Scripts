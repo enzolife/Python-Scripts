{
 "cells": [
  {
   "cell_type": "code",
   "execution_count": 86,
   "metadata": {
    "collapsed": true
   },
   "outputs": [],
   "source": [
    "import smtplib"
   ]
  },
  {
   "cell_type": "code",
   "execution_count": 87,
   "metadata": {
    "collapsed": false
   },
   "outputs": [],
   "source": [
    "# 简易邮件发送\n",
    "server = smtplib.SMTP('smtp.gmail.com', 587)\n",
    "server.starttls()\n",
    "server.login(\"enzolife.sife.sysu@gmail.com\", \"enzo81037997\")\n",
    " \n",
    "msg = \"YOUR MESSAGE!\"\n",
    "# server.sendmail(\"enzolife.sife.sysu@gmail.com\", \"enzolife@foxmail.com\", msg)\n",
    "# server.quit()"
   ]
  },
  {
   "cell_type": "code",
   "execution_count": 88,
   "metadata": {
    "collapsed": false
   },
   "outputs": [],
   "source": [
    "# 稍微复杂一点，可以写from/to/subject等\n",
    "from email.mime.multipart import MIMEMultipart\n",
    "from email.mime.text import MIMEText"
   ]
  },
  {
   "cell_type": "code",
   "execution_count": 89,
   "metadata": {
    "collapsed": false,
    "scrolled": true
   },
   "outputs": [],
   "source": [
    "fromaddr = \"enzolife.sife.sysu@gmail.com\"\n",
    "toaddr = \"enzolife@foxmail.com\"\n",
    "msg = MIMEMultipart()\n",
    "msg['From'] = fromaddr\n",
    "msg['To'] = toaddr\n",
    "msg['Subject'] = \"Hello,world!\"\n",
    " \n",
    "body = \"YOUR MESSAGE HERE\"\n",
    "msg.attach(MIMEText(body, 'plain'))\n",
    " \n",
    "server = smtplib.SMTP('smtp.gmail.com', 587)\n",
    "server.starttls()\n",
    "server.login(fromaddr, \"enzo81037997\")\n",
    "text = msg.as_string()\n",
    "# server.sendmail(fromaddr, toaddr, text)\n",
    "# server.quit()"
   ]
  },
  {
   "cell_type": "code",
   "execution_count": 90,
   "metadata": {
    "collapsed": false
   },
   "outputs": [],
   "source": [
    "# 再复杂一点，可以添加attachment\n",
    "import smtplib  \n",
    "from email.header import Header  \n",
    "from email.mime.text import MIMEText  \n",
    "from email.mime.multipart import MIMEMultipart  \n",
    "import os.path  "
   ]
  },
  {
   "cell_type": "code",
   "execution_count": 99,
   "metadata": {
    "collapsed": false,
    "scrolled": true,
    "slideshow": {
     "slide_type": "-"
    }
   },
   "outputs": [
    {
     "ename": "SSLEOFError",
     "evalue": "EOF occurred in violation of protocol (_ssl.c:645)",
     "output_type": "error",
     "traceback": [
      "\u001b[0;31m---------------------------------------------------------------------------\u001b[0m",
      "\u001b[0;31mSSLEOFError\u001b[0m                               Traceback (most recent call last)",
      "\u001b[0;32m<ipython-input-99-a5a2ee226cfc>\u001b[0m in \u001b[0;36m<module>\u001b[0;34m()\u001b[0m\n\u001b[1;32m     47\u001b[0m \u001b[1;32mif\u001b[0m  \u001b[0m__name__\u001b[0m \u001b[1;33m==\u001b[0m\u001b[1;34m\"__main__\"\u001b[0m\u001b[1;33m:\u001b[0m\u001b[1;33m\u001b[0m\u001b[0m\n\u001b[1;32m     48\u001b[0m     \u001b[1;31m#注意：附件的路径字符串应为unicode编码\u001b[0m\u001b[1;33m\u001b[0m\u001b[1;33m\u001b[0m\u001b[0m\n\u001b[0;32m---> 49\u001b[0;31m     \u001b[0mmailtest\u001b[0m\u001b[1;33m(\u001b[0m\u001b[0mfrom_addr\u001b[0m\u001b[1;33m,\u001b[0m\u001b[0mto_addr\u001b[0m\u001b[1;33m,\u001b[0m\u001b[0mmail_subject\u001b[0m\u001b[1;33m,\u001b[0m\u001b[0mmail_body\u001b[0m\u001b[1;33m,\u001b[0m\u001b[0mmail_attachment\u001b[0m\u001b[1;33m)\u001b[0m\u001b[1;33m\u001b[0m\u001b[0m\n\u001b[0m",
      "\u001b[0;32m<ipython-input-99-a5a2ee226cfc>\u001b[0m in \u001b[0;36mmailtest\u001b[0;34m(from_addr, to_addr, subject, content, attfile)\u001b[0m\n\u001b[1;32m     32\u001b[0m     \u001b[1;31m#发送邮件\u001b[0m\u001b[1;33m\u001b[0m\u001b[1;33m\u001b[0m\u001b[0m\n\u001b[1;32m     33\u001b[0m     \u001b[0mserver\u001b[0m \u001b[1;33m=\u001b[0m \u001b[0msmtplib\u001b[0m\u001b[1;33m.\u001b[0m\u001b[0mSMTP\u001b[0m\u001b[1;33m(\u001b[0m\u001b[1;34m'smtp.gmail.com'\u001b[0m\u001b[1;33m,\u001b[0m \u001b[1;36m587\u001b[0m\u001b[1;33m)\u001b[0m\u001b[1;33m\u001b[0m\u001b[0m\n\u001b[0;32m---> 34\u001b[0;31m     \u001b[0mserver\u001b[0m\u001b[1;33m.\u001b[0m\u001b[0mstarttls\u001b[0m\u001b[1;33m(\u001b[0m\u001b[1;33m)\u001b[0m\u001b[1;33m\u001b[0m\u001b[0m\n\u001b[0m\u001b[1;32m     35\u001b[0m     \u001b[0mserver\u001b[0m\u001b[1;33m.\u001b[0m\u001b[0mlogin\u001b[0m\u001b[1;33m(\u001b[0m\u001b[0mfrom_addr\u001b[0m\u001b[1;33m,\u001b[0m \u001b[1;34m\"enzo81037997\"\u001b[0m\u001b[1;33m)\u001b[0m\u001b[1;33m\u001b[0m\u001b[0m\n\u001b[1;32m     36\u001b[0m     \u001b[0mserver\u001b[0m\u001b[1;33m.\u001b[0m\u001b[0msendmail\u001b[0m\u001b[1;33m(\u001b[0m\u001b[0mmsg\u001b[0m\u001b[1;33m[\u001b[0m\u001b[1;34m'from'\u001b[0m\u001b[1;33m]\u001b[0m\u001b[1;33m,\u001b[0m \u001b[0mmsg\u001b[0m\u001b[1;33m[\u001b[0m\u001b[1;34m'to'\u001b[0m\u001b[1;33m]\u001b[0m\u001b[1;33m,\u001b[0m\u001b[0mmsg\u001b[0m\u001b[1;33m.\u001b[0m\u001b[0mas_string\u001b[0m\u001b[1;33m(\u001b[0m\u001b[1;33m)\u001b[0m\u001b[1;33m)\u001b[0m\u001b[1;33m\u001b[0m\u001b[0m\n",
      "\u001b[0;32mC:\\Users\\kuang\\Anaconda3\\lib\\smtplib.py\u001b[0m in \u001b[0;36mstarttls\u001b[0;34m(self, keyfile, certfile, context)\u001b[0m\n\u001b[1;32m    764\u001b[0m                                                      keyfile=keyfile)\n\u001b[1;32m    765\u001b[0m             self.sock = context.wrap_socket(self.sock,\n\u001b[0;32m--> 766\u001b[0;31m                                             server_hostname=self._host)\n\u001b[0m\u001b[1;32m    767\u001b[0m             \u001b[0mself\u001b[0m\u001b[1;33m.\u001b[0m\u001b[0mfile\u001b[0m \u001b[1;33m=\u001b[0m \u001b[1;32mNone\u001b[0m\u001b[1;33m\u001b[0m\u001b[0m\n\u001b[1;32m    768\u001b[0m             \u001b[1;31m# RFC 3207:\u001b[0m\u001b[1;33m\u001b[0m\u001b[1;33m\u001b[0m\u001b[0m\n",
      "\u001b[0;32mC:\\Users\\kuang\\Anaconda3\\lib\\ssl.py\u001b[0m in \u001b[0;36mwrap_socket\u001b[0;34m(self, sock, server_side, do_handshake_on_connect, suppress_ragged_eofs, server_hostname)\u001b[0m\n\u001b[1;32m    375\u001b[0m                          \u001b[0msuppress_ragged_eofs\u001b[0m\u001b[1;33m=\u001b[0m\u001b[0msuppress_ragged_eofs\u001b[0m\u001b[1;33m,\u001b[0m\u001b[1;33m\u001b[0m\u001b[0m\n\u001b[1;32m    376\u001b[0m                          \u001b[0mserver_hostname\u001b[0m\u001b[1;33m=\u001b[0m\u001b[0mserver_hostname\u001b[0m\u001b[1;33m,\u001b[0m\u001b[1;33m\u001b[0m\u001b[0m\n\u001b[0;32m--> 377\u001b[0;31m                          _context=self)\n\u001b[0m\u001b[1;32m    378\u001b[0m \u001b[1;33m\u001b[0m\u001b[0m\n\u001b[1;32m    379\u001b[0m     def wrap_bio(self, incoming, outgoing, server_side=False,\n",
      "\u001b[0;32mC:\\Users\\kuang\\Anaconda3\\lib\\ssl.py\u001b[0m in \u001b[0;36m__init__\u001b[0;34m(self, sock, keyfile, certfile, server_side, cert_reqs, ssl_version, ca_certs, do_handshake_on_connect, family, type, proto, fileno, suppress_ragged_eofs, npn_protocols, ciphers, server_hostname, _context)\u001b[0m\n\u001b[1;32m    750\u001b[0m                         \u001b[1;31m# non-blocking\u001b[0m\u001b[1;33m\u001b[0m\u001b[1;33m\u001b[0m\u001b[0m\n\u001b[1;32m    751\u001b[0m                         \u001b[1;32mraise\u001b[0m \u001b[0mValueError\u001b[0m\u001b[1;33m(\u001b[0m\u001b[1;34m\"do_handshake_on_connect should not be specified for non-blocking sockets\"\u001b[0m\u001b[1;33m)\u001b[0m\u001b[1;33m\u001b[0m\u001b[0m\n\u001b[0;32m--> 752\u001b[0;31m                     \u001b[0mself\u001b[0m\u001b[1;33m.\u001b[0m\u001b[0mdo_handshake\u001b[0m\u001b[1;33m(\u001b[0m\u001b[1;33m)\u001b[0m\u001b[1;33m\u001b[0m\u001b[0m\n\u001b[0m\u001b[1;32m    753\u001b[0m \u001b[1;33m\u001b[0m\u001b[0m\n\u001b[1;32m    754\u001b[0m             \u001b[1;32mexcept\u001b[0m \u001b[1;33m(\u001b[0m\u001b[0mOSError\u001b[0m\u001b[1;33m,\u001b[0m \u001b[0mValueError\u001b[0m\u001b[1;33m)\u001b[0m\u001b[1;33m:\u001b[0m\u001b[1;33m\u001b[0m\u001b[0m\n",
      "\u001b[0;32mC:\\Users\\kuang\\Anaconda3\\lib\\ssl.py\u001b[0m in \u001b[0;36mdo_handshake\u001b[0;34m(self, block)\u001b[0m\n\u001b[1;32m    986\u001b[0m             \u001b[1;32mif\u001b[0m \u001b[0mtimeout\u001b[0m \u001b[1;33m==\u001b[0m \u001b[1;36m0.0\u001b[0m \u001b[1;32mand\u001b[0m \u001b[0mblock\u001b[0m\u001b[1;33m:\u001b[0m\u001b[1;33m\u001b[0m\u001b[0m\n\u001b[1;32m    987\u001b[0m                 \u001b[0mself\u001b[0m\u001b[1;33m.\u001b[0m\u001b[0msettimeout\u001b[0m\u001b[1;33m(\u001b[0m\u001b[1;32mNone\u001b[0m\u001b[1;33m)\u001b[0m\u001b[1;33m\u001b[0m\u001b[0m\n\u001b[0;32m--> 988\u001b[0;31m             \u001b[0mself\u001b[0m\u001b[1;33m.\u001b[0m\u001b[0m_sslobj\u001b[0m\u001b[1;33m.\u001b[0m\u001b[0mdo_handshake\u001b[0m\u001b[1;33m(\u001b[0m\u001b[1;33m)\u001b[0m\u001b[1;33m\u001b[0m\u001b[0m\n\u001b[0m\u001b[1;32m    989\u001b[0m         \u001b[1;32mfinally\u001b[0m\u001b[1;33m:\u001b[0m\u001b[1;33m\u001b[0m\u001b[0m\n\u001b[1;32m    990\u001b[0m             \u001b[0mself\u001b[0m\u001b[1;33m.\u001b[0m\u001b[0msettimeout\u001b[0m\u001b[1;33m(\u001b[0m\u001b[0mtimeout\u001b[0m\u001b[1;33m)\u001b[0m\u001b[1;33m\u001b[0m\u001b[0m\n",
      "\u001b[0;32mC:\\Users\\kuang\\Anaconda3\\lib\\ssl.py\u001b[0m in \u001b[0;36mdo_handshake\u001b[0;34m(self)\u001b[0m\n\u001b[1;32m    631\u001b[0m     \u001b[1;32mdef\u001b[0m \u001b[0mdo_handshake\u001b[0m\u001b[1;33m(\u001b[0m\u001b[0mself\u001b[0m\u001b[1;33m)\u001b[0m\u001b[1;33m:\u001b[0m\u001b[1;33m\u001b[0m\u001b[0m\n\u001b[1;32m    632\u001b[0m         \u001b[1;34m\"\"\"Start the SSL/TLS handshake.\"\"\"\u001b[0m\u001b[1;33m\u001b[0m\u001b[0m\n\u001b[0;32m--> 633\u001b[0;31m         \u001b[0mself\u001b[0m\u001b[1;33m.\u001b[0m\u001b[0m_sslobj\u001b[0m\u001b[1;33m.\u001b[0m\u001b[0mdo_handshake\u001b[0m\u001b[1;33m(\u001b[0m\u001b[1;33m)\u001b[0m\u001b[1;33m\u001b[0m\u001b[0m\n\u001b[0m\u001b[1;32m    634\u001b[0m         \u001b[1;32mif\u001b[0m \u001b[0mself\u001b[0m\u001b[1;33m.\u001b[0m\u001b[0mcontext\u001b[0m\u001b[1;33m.\u001b[0m\u001b[0mcheck_hostname\u001b[0m\u001b[1;33m:\u001b[0m\u001b[1;33m\u001b[0m\u001b[0m\n\u001b[1;32m    635\u001b[0m             \u001b[1;32mif\u001b[0m \u001b[1;32mnot\u001b[0m \u001b[0mself\u001b[0m\u001b[1;33m.\u001b[0m\u001b[0mserver_hostname\u001b[0m\u001b[1;33m:\u001b[0m\u001b[1;33m\u001b[0m\u001b[0m\n",
      "\u001b[0;31mSSLEOFError\u001b[0m: EOF occurred in violation of protocol (_ssl.c:645)"
     ]
    }
   ],
   "source": [
    "def mailtest(from_addr,to_addr,subject,content,attfile):  \n",
    "    #创建一个带附件的实例  \n",
    "    msg = MIMEMultipart()  \n",
    "  \n",
    "    #添加邮件内容  \n",
    "    #注意，要指定邮件内容的编码为utf-8，否则中文会有乱码  \n",
    "    text_msg = MIMEText(content,'plain','utf-8')  \n",
    "    msg.attach(text_msg)  \n",
    "      \n",
    "    #构造附件  \n",
    "    #注意：传入的参数attfile为unicode，否则带中文的目录或名称的文件读不出来  \n",
    "    #      basename 为文件名称，由于传入的参数attfile为unicode编码，此处的basename也为unicode编码  \n",
    "    basename = os.path.basename(attfile)  \n",
    "      \n",
    "    #注意：指定att的编码方式为gb2312  \n",
    "    att = MIMEText(open(attfile, 'rb').read(), 'base64', 'gb2312')  \n",
    "    att[\"Content-Type\"] = 'application/octet-stream'  \n",
    "      \n",
    "    #注意：此处basename要转换为gb2312编码，否则中文会有乱码。  \n",
    "    #      特别，此处的basename为unicode编码，所以可以用basename.encode('gb2312')  \n",
    "    #            如果basename为utf-8编码，要用basename.decode('utf-8').encode('gb2312') \n",
    "    #              Enzo把这段2312去掉了\n",
    "    att[\"Content-Disposition\"] = 'attachment; filename=%s' % basename  \n",
    "    msg.attach(att)  \n",
    "    \n",
    "    #加邮件头  \n",
    "    msg['from'] = from_addr  \n",
    "    msg['to'] = to_addr  \n",
    "    #主题指定utf-8编码，否则中文会有乱码  \n",
    "    msg['subject'] = Header(subject, 'utf-8')  \n",
    "      \n",
    "    #发送邮件  \n",
    "    server = smtplib.SMTP('smtp.gmail.com', 587)\n",
    "    server.starttls()\n",
    "    server.login(from_addr, \"enzo81037997\")\n",
    "    server.sendmail(msg['from'], msg['to'],msg.as_string())  \n",
    "    server.close\n",
    "    server.quit()\n",
    "    \n",
    "#邮件基本信息\n",
    "from_addr = 'enzolife.sife.sysu@gmail.com'\n",
    "to_addr = 'enzolife@foxmail.com'\n",
    "mail_subject = \"[BI] Test Email with Attachment\"\n",
    "mail_body = \"Mail Body\"\n",
    "mail_attachment = \"D:\\\\Program Files (x86)\\\\百度云同步盘\\\\Dropbox\\\\Shopee 2016.4.12\\\\2016.5.25 Enzo's Report Folder\\\\Site Performance Report\\\\Cross Border Listing Dashboard (MSM).pdf\"\n",
    "    \n",
    "if  __name__ ==\"__main__\":  \n",
    "    #注意：附件的路径字符串应为unicode编码  \n",
    "    mailtest(from_addr,to_addr,mail_subject,mail_body,mail_attachment)  "
   ]
  },
  {
   "cell_type": "code",
   "execution_count": 100,
   "metadata": {
    "collapsed": true
   },
   "outputs": [],
   "source": [
    "# 再再复杂一点，可以添加多个attachment；可以添加一个文件夹的所有文件\n",
    "from email.mime.text import MIMEText  \n",
    "from email.mime.multipart import MIMEMultipart   \n",
    "import smtplib  \n",
    "import os,sys"
   ]
  },
  {
   "cell_type": "code",
   "execution_count": 103,
   "metadata": {
    "collapsed": false
   },
   "outputs": [],
   "source": [
    "def mailtest_with_multiple_att(from_addr,to_addr,subject,content,attpath):  \n",
    "    #创建一个带附件的实例  \n",
    "    msg = MIMEMultipart()  \n",
    "  \n",
    "    #添加邮件内容  \n",
    "    #注意，要指定邮件内容的编码为utf-8，否则中文会有乱码  \n",
    "    text_msg = MIMEText(content,'plain','utf-8')  \n",
    "    msg.attach(text_msg)  \n",
    "      \n",
    "    #构造附件  \n",
    "    #注意：传入的参数attfile为unicode，否则带中文的目录或名称的文件读不出来  \n",
    "    #      basename 为文件名称，由于传入的参数attfile为unicode编码，此处的basename也为unicode编码  \n",
    "    basename = os.path.basename(attpath)  \n",
    "\n",
    "    os.chdir(attpath)    \n",
    "    dir = os.getcwd()  \n",
    "\n",
    "    for fn in os.listdir(dir): ##返回字符串文件名\n",
    "\n",
    "        #注意：指定att的编码方式为gb2312  \n",
    "        att = MIMEText(open(fn, 'rb').read(), 'base64', 'gb2312')  \n",
    "        att[\"Content-Type\"] = 'application/octet-stream'  \n",
    "\n",
    "        #注意：此处basename要转换为gb2312编码，否则中文会有乱码。  \n",
    "        #      特别，此处的basename为unicode编码，所以可以用basename.encode('gb2312')  \n",
    "        #            如果basename为utf-8编码，要用basename.decode('utf-8').encode('gb2312') \n",
    "        #              Enzo把这段2312去掉了\n",
    "        att[\"Content-Disposition\"] = 'attachment; filename=' + fn  \n",
    "        msg.attach(att)\n",
    "    \n",
    "    #加邮件头  \n",
    "    msg['from'] = from_addr  \n",
    "    msg['to'] = to_addr  \n",
    "    #主题指定utf-8编码，否则中文会有乱码  \n",
    "    msg['subject'] = Header(subject, 'utf-8')  \n",
    "      \n",
    "    #发送邮件  \n",
    "    server = smtplib.SMTP('smtp.gmail.com', 587)\n",
    "    server.starttls()\n",
    "    server.login(from_addr, \"enzo81037997\")\n",
    "    server.sendmail(msg['from'], msg['to'],msg.as_string())  \n",
    "    server.close\n",
    "    server.quit()\n",
    "    \n",
    "#邮件基本信息\n",
    "from_addr = 'enzolife.sife.sysu@gmail.com'\n",
    "to_addr = 'enzolife@foxmail.com'\n",
    "mail_subject = \"[BI] Test Email with Attachment\"\n",
    "mail_body = \"Mail Body\"\n",
    "mail_attachment_path = \"D:\\\\Program Files (x86)\\\\百度云同步盘\\\\Dropbox\\\\Shopee 2016.4.12\\\\2016.5.25 Enzo's Report Folder\\\\Delivery Performance Report\"\n",
    "    \n",
    "if  __name__ ==\"__main__\":  \n",
    "    #注意：附件的路径字符串应为unicode编码  \n",
    "    mailtest_with_multiple_att(from_addr,to_addr,mail_subject,mail_body,mail_attachment_path)"
   ]
  },
  {
   "cell_type": "code",
   "execution_count": 104,
   "metadata": {
    "collapsed": true
   },
   "outputs": [],
   "source": [
    "# 再再再复杂一点，添加文件夹内指定后缀的文件"
   ]
  },
  {
   "cell_type": "code",
   "execution_count": 106,
   "metadata": {
    "collapsed": true
   },
   "outputs": [],
   "source": [
    "def mailtest_with_selected_multiple_att(from_addr,to_addr,subject,content,attpath,condition):  \n",
    "    #创建一个带附件的实例  \n",
    "    msg = MIMEMultipart()  \n",
    "  \n",
    "    #添加邮件内容  \n",
    "    #注意，要指定邮件内容的编码为utf-8，否则中文会有乱码  \n",
    "    text_msg = MIMEText(content,'plain','utf-8')  \n",
    "    msg.attach(text_msg)  \n",
    "      \n",
    "    #构造附件  \n",
    "    #注意：传入的参数attfile为unicode，否则带中文的目录或名称的文件读不出来  \n",
    "    #      basename 为文件名称，由于传入的参数attfile为unicode编码，此处的basename也为unicode编码  \n",
    "    basename = os.path.basename(attpath)  \n",
    "\n",
    "    os.chdir(attpath)    \n",
    "    dir = os.getcwd()  \n",
    "\n",
    "    for fn in os.listdir(dir): ##返回字符串文件名\n",
    "        \n",
    "        if fn.find(condition) != -1:\n",
    "            \n",
    "            #注意：指定att的编码方式为gb2312  \n",
    "            att = MIMEText(open(fn, 'rb').read(), 'base64', 'gb2312')  \n",
    "            att[\"Content-Type\"] = 'application/octet-stream'  \n",
    "\n",
    "            #注意：此处basename要转换为gb2312编码，否则中文会有乱码。  \n",
    "            #      特别，此处的basename为unicode编码，所以可以用basename.encode('gb2312')  \n",
    "            #            如果basename为utf-8编码，要用basename.decode('utf-8').encode('gb2312') \n",
    "            #              Enzo把这段2312去掉了\n",
    "            att[\"Content-Disposition\"] = 'attachment; filename=' + fn  \n",
    "            msg.attach(att)\n",
    "    \n",
    "    #加邮件头  \n",
    "    msg['from'] = from_addr  \n",
    "    msg['to'] = to_addr  \n",
    "    #主题指定utf-8编码，否则中文会有乱码  \n",
    "    msg['subject'] = Header(subject, 'utf-8')  \n",
    "      \n",
    "    #发送邮件  \n",
    "    server = smtplib.SMTP('smtp.gmail.com', 587)\n",
    "    server.starttls()\n",
    "    server.login(from_addr, \"enzo81037997\")\n",
    "    server.sendmail(msg['from'], msg['to'],msg.as_string())  \n",
    "    server.close\n",
    "    server.quit()\n",
    "    \n",
    "#邮件基本信息\n",
    "from_addr = 'enzolife.sife.sysu@gmail.com'\n",
    "to_addr = 'enzolife@foxmail.com'\n",
    "mail_subject = \"[BI] Test Email with Attachment\"\n",
    "mail_body = \"Mail Body\"\n",
    "mail_attachment_path = \"D:\\\\Program Files (x86)\\\\百度云同步盘\\\\Dropbox\\\\Shopee 2016.4.12\\\\2016.5.25 Enzo's Report Folder\\\\Delivery Performance Report\"\n",
    "# 查找条件，大小写敏感\n",
    "attachment_condition = \"Pickup\"\n",
    "    \n",
    "if  __name__ ==\"__main__\":  \n",
    "    #注意：附件的路径字符串应为unicode编码  \n",
    "    mailtest_with_selected_multiple_att(from_addr,to_addr,mail_subject,mail_body,mail_attachment_path,attachment_condition)"
   ]
  }
 ],
 "metadata": {
  "anaconda-cloud": {},
  "kernelspec": {
   "display_name": "Python [conda root]",
   "language": "python",
   "name": "conda-root-py"
  },
  "language_info": {
   "codemirror_mode": {
    "name": "ipython",
    "version": 3
   },
   "file_extension": ".py",
   "mimetype": "text/x-python",
   "name": "python",
   "nbconvert_exporter": "python",
   "pygments_lexer": "ipython3",
   "version": "3.5.2"
  }
 },
 "nbformat": 4,
 "nbformat_minor": 1
}
