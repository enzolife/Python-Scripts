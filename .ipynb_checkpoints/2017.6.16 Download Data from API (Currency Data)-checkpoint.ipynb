{
 "cells": [
  {
   "cell_type": "code",
   "execution_count": 24,
   "metadata": {
    "collapsed": true
   },
   "outputs": [],
   "source": [
    "import urllib\n",
    "from xml.etree import ElementTree as ET"
   ]
  },
  {
   "cell_type": "code",
   "execution_count": 25,
   "metadata": {
    "collapsed": false
   },
   "outputs": [],
   "source": [
    "requestURL = 'http://query.yahooapis.com/v1/public/yql?q=select%20*%20from%20yahoo.finance.xchange%20where%20pair%20in%20(%22USDSGD%22,%20%22USDMYR%22,%20%22USDTWD%22,%20%22USDIDR%22,%20%22USDTHB%22)&env=store://datatables.org/alltableswithkeys'"
   ]
  },
  {
   "cell_type": "code",
   "execution_count": 26,
   "metadata": {
    "collapsed": false,
    "scrolled": true
   },
   "outputs": [
    {
     "name": "stdout",
     "output_type": "stream",
     "text": [
      "<Element 'query' at 0x00000170282D2098>\n",
      "\n",
      "\n"
     ]
    }
   ],
   "source": [
    "root = ET.parse(urllib.request.urlopen(requestURL)).getroot()\n",
    "print(root)\n",
    "print('\\n')"
   ]
  },
  {
   "cell_type": "code",
   "execution_count": 28,
   "metadata": {
    "collapsed": false
   },
   "outputs": [
    {
     "name": "stdout",
     "output_type": "stream",
     "text": [
      "USD/SGD\n",
      "1.3825\n",
      "USD/MYR\n",
      "4.2740\n",
      "USD/TWD\n",
      "30.3480\n",
      "USD/IDR\n",
      "13296.0000\n",
      "USD/THB\n",
      "33.9200\n"
     ]
    }
   ],
   "source": [
    "items = root.findall('results/rate')\n",
    "for item in items:\n",
    "     print(item.find('Name').text)\n",
    "     print(item.find('Rate').text)"
   ]
  }
 ],
 "metadata": {
  "anaconda-cloud": {},
  "kernelspec": {
   "display_name": "Python [default]",
   "language": "python",
   "name": "python3"
  },
  "language_info": {
   "codemirror_mode": {
    "name": "ipython",
    "version": 3
   },
   "file_extension": ".py",
   "mimetype": "text/x-python",
   "name": "python",
   "nbconvert_exporter": "python",
   "pygments_lexer": "ipython3",
   "version": "3.5.2"
  }
 },
 "nbformat": 4,
 "nbformat_minor": 2
}
