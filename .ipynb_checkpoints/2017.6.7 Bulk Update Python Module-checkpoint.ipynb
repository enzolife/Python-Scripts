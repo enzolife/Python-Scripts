{
 "cells": [
  {
   "cell_type": "code",
   "execution_count": null,
   "metadata": {
    "collapsed": false
   },
   "outputs": [
    {
     "name": "stdout",
     "output_type": "stream",
     "text": [
      "xlwt is updated\n",
      "xlwings is updated\n",
      "XlsxWriter is updated\n",
      "xlrd is updated\n",
      "wrapt is updated\n",
      "win-unicode-console is updated\n",
      "widgetsnbextension is updated\n",
      "wheel is updated\n",
      "Werkzeug is updated\n",
      "wcwidth is updated\n",
      "unicodecsv is updated\n",
      "traitlets is updated\n",
      "tornado is updated\n",
      "toolz is updated\n"
     ]
    }
   ],
   "source": [
    "import pip\n",
    "from subprocess import call\n",
    " \n",
    "for dist in pip.get_installed_distributions():\n",
    "    call(\"pip install --upgrade \" + dist.project_name, shell=True)\n",
    "    print('%s is updated' % dist.project_name)"
   ]
  }
 ],
 "metadata": {
  "kernelspec": {
   "display_name": "Python 3",
   "language": "python",
   "name": "python3"
  },
  "language_info": {
   "codemirror_mode": {
    "name": "ipython",
    "version": 3
   },
   "file_extension": ".py",
   "mimetype": "text/x-python",
   "name": "python",
   "nbconvert_exporter": "python",
   "pygments_lexer": "ipython3",
   "version": "3.6.0"
  }
 },
 "nbformat": 4,
 "nbformat_minor": 2
}
