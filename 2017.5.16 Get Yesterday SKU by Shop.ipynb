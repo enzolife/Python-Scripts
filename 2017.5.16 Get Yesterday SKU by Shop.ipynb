{
 "cells": [
  {
   "cell_type": "code",
   "execution_count": 1,
   "metadata": {
    "collapsed": true
   },
   "outputs": [],
   "source": [
    "# -*- coding: utf-8 -*-\n",
    "\n",
    "from pandas import Series, DataFrame\n",
    "import pandas as pd\n",
    "import glob\n",
    "import os"
   ]
  },
  {
   "cell_type": "code",
   "execution_count": 2,
   "metadata": {
    "collapsed": false
   },
   "outputs": [],
   "source": [
    "path = 'D:\\\\Program Files (x86)\\\\百度云同步盘\\\\Dropbox\\\\Shopee 2016.4.12\\\\2016.4.23 Data Visualization\\\\Listing' # use your path"
   ]
  },
  {
   "cell_type": "code",
   "execution_count": 3,
   "metadata": {
    "collapsed": false
   },
   "outputs": [
    {
     "data": {
      "text/plain": [
       "['D:\\\\Program Files (x86)\\\\百度云同步盘\\\\Dropbox\\\\Shopee 2016.4.12\\\\2016.4.23 Data Visualization\\\\Listing\\\\ID\\\\ID_listing_0.csv',\n",
       " 'D:\\\\Program Files (x86)\\\\百度云同步盘\\\\Dropbox\\\\Shopee 2016.4.12\\\\2016.4.23 Data Visualization\\\\Listing\\\\ID\\\\ID_listing_1.csv',\n",
       " 'D:\\\\Program Files (x86)\\\\百度云同步盘\\\\Dropbox\\\\Shopee 2016.4.12\\\\2016.4.23 Data Visualization\\\\Listing\\\\my\\\\MY_listing_0.csv',\n",
       " 'D:\\\\Program Files (x86)\\\\百度云同步盘\\\\Dropbox\\\\Shopee 2016.4.12\\\\2016.4.23 Data Visualization\\\\Listing\\\\my\\\\MY_listing_1.csv',\n",
       " 'D:\\\\Program Files (x86)\\\\百度云同步盘\\\\Dropbox\\\\Shopee 2016.4.12\\\\2016.4.23 Data Visualization\\\\Listing\\\\my\\\\MY_listing_2.csv',\n",
       " 'D:\\\\Program Files (x86)\\\\百度云同步盘\\\\Dropbox\\\\Shopee 2016.4.12\\\\2016.4.23 Data Visualization\\\\Listing\\\\SG\\\\SG_listing_0.csv',\n",
       " 'D:\\\\Program Files (x86)\\\\百度云同步盘\\\\Dropbox\\\\Shopee 2016.4.12\\\\2016.4.23 Data Visualization\\\\Listing\\\\SG\\\\SG_listing_1.csv',\n",
       " 'D:\\\\Program Files (x86)\\\\百度云同步盘\\\\Dropbox\\\\Shopee 2016.4.12\\\\2016.4.23 Data Visualization\\\\Listing\\\\TH\\\\TH_listing_0.csv',\n",
       " 'D:\\\\Program Files (x86)\\\\百度云同步盘\\\\Dropbox\\\\Shopee 2016.4.12\\\\2016.4.23 Data Visualization\\\\Listing\\\\TH\\\\TH_listing_1.csv',\n",
       " 'D:\\\\Program Files (x86)\\\\百度云同步盘\\\\Dropbox\\\\Shopee 2016.4.12\\\\2016.4.23 Data Visualization\\\\Listing\\\\TW\\\\TW_listing_0.csv',\n",
       " 'D:\\\\Program Files (x86)\\\\百度云同步盘\\\\Dropbox\\\\Shopee 2016.4.12\\\\2016.4.23 Data Visualization\\\\Listing\\\\TW\\\\TW_listing_1.csv',\n",
       " 'D:\\\\Program Files (x86)\\\\百度云同步盘\\\\Dropbox\\\\Shopee 2016.4.12\\\\2016.4.23 Data Visualization\\\\Listing\\\\TW\\\\TW_listing_2.csv',\n",
       " 'D:\\\\Program Files (x86)\\\\百度云同步盘\\\\Dropbox\\\\Shopee 2016.4.12\\\\2016.4.23 Data Visualization\\\\Listing\\\\TW\\\\TW_listing_3.csv',\n",
       " 'D:\\\\Program Files (x86)\\\\百度云同步盘\\\\Dropbox\\\\Shopee 2016.4.12\\\\2016.4.23 Data Visualization\\\\Listing\\\\TW\\\\TW_listing_4.csv',\n",
       " 'D:\\\\Program Files (x86)\\\\百度云同步盘\\\\Dropbox\\\\Shopee 2016.4.12\\\\2016.4.23 Data Visualization\\\\Listing\\\\TW\\\\TW_listing_5.csv',\n",
       " 'D:\\\\Program Files (x86)\\\\百度云同步盘\\\\Dropbox\\\\Shopee 2016.4.12\\\\2016.4.23 Data Visualization\\\\Listing\\\\TW\\\\TW_listing_6.csv',\n",
       " 'D:\\\\Program Files (x86)\\\\百度云同步盘\\\\Dropbox\\\\Shopee 2016.4.12\\\\2016.4.23 Data Visualization\\\\Listing\\\\TW\\\\TW_listing_7.csv']"
      ]
     },
     "execution_count": 3,
     "metadata": {},
     "output_type": "execute_result"
    }
   ],
   "source": [
    "allFiles = glob.glob(path + \"\\\\*\\\\*.csv\")\n",
    "allFiles"
   ]
  },
  {
   "cell_type": "code",
   "execution_count": 4,
   "metadata": {
    "collapsed": false,
    "scrolled": false
   },
   "outputs": [
    {
     "name": "stderr",
     "output_type": "stream",
     "text": [
      "C:\\Users\\Enzo.kuang\\Anaconda3\\lib\\site-packages\\IPython\\core\\interactiveshell.py:2717: DtypeWarning: Columns (28,29,30,31,32) have mixed types. Specify dtype option on import or set low_memory=False.\n",
      "  interactivity=interactivity, compiler=compiler, result=result)\n",
      "C:\\Users\\Enzo.kuang\\Anaconda3\\lib\\site-packages\\IPython\\core\\interactiveshell.py:2717: DtypeWarning: Columns (29,30,31,32) have mixed types. Specify dtype option on import or set low_memory=False.\n",
      "  interactivity=interactivity, compiler=compiler, result=result)\n",
      "C:\\Users\\Enzo.kuang\\Anaconda3\\lib\\site-packages\\IPython\\core\\interactiveshell.py:2717: DtypeWarning: Columns (28,29,30,31) have mixed types. Specify dtype option on import or set low_memory=False.\n",
      "  interactivity=interactivity, compiler=compiler, result=result)\n",
      "C:\\Users\\Enzo.kuang\\Anaconda3\\lib\\site-packages\\IPython\\core\\interactiveshell.py:2717: DtypeWarning: Columns (5,28,29,30,31) have mixed types. Specify dtype option on import or set low_memory=False.\n",
      "  interactivity=interactivity, compiler=compiler, result=result)\n",
      "C:\\Users\\Enzo.kuang\\Anaconda3\\lib\\site-packages\\IPython\\core\\interactiveshell.py:2717: DtypeWarning: Columns (28,29) have mixed types. Specify dtype option on import or set low_memory=False.\n",
      "  interactivity=interactivity, compiler=compiler, result=result)\n",
      "C:\\Users\\Enzo.kuang\\Anaconda3\\lib\\site-packages\\IPython\\core\\interactiveshell.py:2717: DtypeWarning: Columns (30,31,32) have mixed types. Specify dtype option on import or set low_memory=False.\n",
      "  interactivity=interactivity, compiler=compiler, result=result)\n"
     ]
    }
   ],
   "source": [
    "frame = pd.DataFrame()\n",
    "list_ = []\n",
    "for file_ in allFiles:\n",
    "    pwd = os.getcwd() # 首先取初始工作目录\n",
    "    os.chdir(os.path.dirname(file_)) # 然后取SG/MY/TW/ID/TH这个文件夹\n",
    "    \n",
    "    df = pd.read_csv(os.path.basename(file_),index_col=None, header=0) # 读取这份文件，不用带上前面那一堆路径\n",
    "    list_.append(df)\n",
    "    \n",
    "    os.chdir(pwd)\n",
    "\n",
    "frame = pd.concat(list_)"
   ]
  },
  {
   "cell_type": "code",
   "execution_count": 5,
   "metadata": {
    "collapsed": false
   },
   "outputs": [],
   "source": [
    "# 求昨天的公式\n",
    "import datetime\n",
    "d = datetime.date.today() + datetime.timedelta(days=-1)"
   ]
  },
  {
   "cell_type": "code",
   "execution_count": null,
   "metadata": {
    "collapsed": true
   },
   "outputs": [],
   "source": [
    "# 输出的目录\n",
    "output_file_path = \"D:\\\\Program Files (x86)\\\\百度云同步盘\\\\Dropbox\\\\Shopee 2016.4.12\\\\2017.2.21 Shop Level Summary\\\\Yesterday\\\\\""
   ]
  },
  {
   "cell_type": "code",
   "execution_count": null,
   "metadata": {
    "collapsed": false,
    "scrolled": true
   },
   "outputs": [],
   "source": [
    "# 计算Yesterday New SKUs\n",
    "frame['Date Created']= pd.to_datetime(frame['Date Created'])\n",
    "\n",
    "frame3 = frame[(frame['Date Created']==d)]\n",
    "grouped3 = frame3['Product ID'].groupby([frame3['Seller User ID'],frame3['Shop ID'],frame3['Username'],frame3['Country']])\n",
    "\n",
    "Yesterday_New_SKUs_by_Shop = grouped3.agg({'Product ID':{'New SKUs': 'count'}})\n",
    "Yesterday_New_SKUs_by_Shop.columns = Yesterday_New_SKUs_by_Shop.columns.droplevel(0)"
   ]
  },
  {
   "cell_type": "code",
   "execution_count": null,
   "metadata": {
    "collapsed": true
   },
   "outputs": [],
   "source": [
    "Yesterday_New_SKUs_by_Shop.to_csv(output_file_path + 'Yesterday_New_SKUs_by_Shop.csv', sep=',', encoding='utf-8')"
   ]
  },
  {
   "cell_type": "code",
   "execution_count": null,
   "metadata": {
    "collapsed": false,
    "scrolled": true
   },
   "outputs": [],
   "source": [
    "# 计算Yesterday New Live SKUs\n",
    "frame4 = frame[(frame['Date Created']==d) & (frame['Status'] == 'Normal')]\n",
    "grouped4 = frame4['Product ID'].groupby([frame4['Seller User ID'],frame4['Shop ID'],frame4['Username'],frame4['Country']])\n",
    "\n",
    "Yesterday_New_Live_SKUs_by_Shop = grouped4.agg({'Product ID':{'New Live SKUs': 'count'}})\n",
    "Yesterday_New_Live_SKUs_by_Shop.columns = Yesterday_New_Live_SKUs_by_Shop.columns.droplevel(0)"
   ]
  },
  {
   "cell_type": "code",
   "execution_count": null,
   "metadata": {
    "collapsed": true
   },
   "outputs": [],
   "source": [
    "Yesterday_New_Live_SKUs_by_Shop.to_csv(output_file_path + 'Yesterday_New_Live_SKUs_by_Shop.csv', sep=',', encoding='utf-8')"
   ]
  },
  {
   "cell_type": "code",
   "execution_count": null,
   "metadata": {
    "collapsed": false,
    "scrolled": true
   },
   "outputs": [],
   "source": [
    "# 计算Cumulative SKUs\n",
    "grouped = frame['Product ID'].groupby([frame['Seller User ID'],frame['Shop ID'],frame['Username'],frame['Country']])\n",
    "\n",
    "Cumulative_SKUs_by_Shop = grouped.agg({'Product ID':{'Cumulative SKUs': 'count'}})\n",
    "Cumulative_SKUs_by_Shop.columns = Cumulative_SKUs_by_Shop.columns.droplevel(0)"
   ]
  },
  {
   "cell_type": "code",
   "execution_count": null,
   "metadata": {
    "collapsed": true
   },
   "outputs": [],
   "source": [
    "Cumulative_SKUs_by_Shop.to_csv(output_file_path + 'Cumulative_SKUs_by_Shop.csv', sep=',', encoding='utf-8')"
   ]
  },
  {
   "cell_type": "code",
   "execution_count": null,
   "metadata": {
    "collapsed": false,
    "scrolled": true
   },
   "outputs": [],
   "source": [
    "# 计算Cumulative Live SKUs\n",
    "frame2 = frame.loc[frame['Status'] == 'Normal']\n",
    "grouped2 = frame2['Product ID'].groupby([frame2['Seller User ID'],frame2['Shop ID'],frame2['Username'],frame2['Country']])\n",
    "\n",
    "Cumulative_Live_SKUs_by_Shop = grouped2.agg({'Product ID':{'Cumulative Live SKUs': 'count'}})\n",
    "Cumulative_Live_SKUs_by_Shop.columns = Cumulative_Live_SKUs_by_Shop.columns.droplevel(0)"
   ]
  },
  {
   "cell_type": "code",
   "execution_count": null,
   "metadata": {
    "collapsed": true
   },
   "outputs": [],
   "source": [
    "Cumulative_Live_SKUs_by_Shop.to_csv(output_file_path + 'Cumulative_Live_SKUs_by_Shop.csv', sep=',', encoding='utf-8')"
   ]
  }
 ],
 "metadata": {
  "anaconda-cloud": {},
  "kernelspec": {
   "display_name": "Python [default]",
   "language": "python",
   "name": "python3"
  },
  "language_info": {
   "codemirror_mode": {
    "name": "ipython",
    "version": 3
   },
   "file_extension": ".py",
   "mimetype": "text/x-python",
   "name": "python",
   "nbconvert_exporter": "python",
   "pygments_lexer": "ipython3",
   "version": "3.5.2"
  }
 },
 "nbformat": 4,
 "nbformat_minor": 1
}
