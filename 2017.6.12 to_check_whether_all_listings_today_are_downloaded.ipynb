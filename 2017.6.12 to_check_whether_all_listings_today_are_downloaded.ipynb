{
 "cells": [
  {
   "cell_type": "code",
   "execution_count": 1,
   "metadata": {
    "collapsed": true
   },
   "outputs": [],
   "source": [
    "# -*- coding: utf-8 -*-\n",
    "\n",
    "from pandas import Series, DataFrame\n",
    "import pandas as pd\n",
    "import glob\n",
    "import os\n",
    "import "
   ]
  },
  {
   "cell_type": "code",
   "execution_count": 41,
   "metadata": {
    "collapsed": false
   },
   "outputs": [
    {
     "name": "stderr",
     "output_type": "stream",
     "text": [
      "C:\\Users\\kuang\\Anaconda3\\lib\\site-packages\\IPython\\core\\interactiveshell.py:2827: DtypeWarning: Columns (28,29,30,31,32) have mixed types. Specify dtype option on import or set low_memory=False.\n",
      "  if self.run_code(code, result):\n",
      "C:\\Users\\kuang\\Anaconda3\\lib\\site-packages\\IPython\\core\\interactiveshell.py:2827: DtypeWarning: Columns (29,30,31,32) have mixed types. Specify dtype option on import or set low_memory=False.\n",
      "  if self.run_code(code, result):\n",
      "C:\\Users\\kuang\\Anaconda3\\lib\\site-packages\\IPython\\core\\interactiveshell.py:2827: DtypeWarning: Columns (28,29,30,31) have mixed types. Specify dtype option on import or set low_memory=False.\n",
      "  if self.run_code(code, result):\n",
      "C:\\Users\\kuang\\Anaconda3\\lib\\site-packages\\IPython\\core\\interactiveshell.py:2827: DtypeWarning: Columns (5,28,29,30,31) have mixed types. Specify dtype option on import or set low_memory=False.\n",
      "  if self.run_code(code, result):\n",
      "C:\\Users\\kuang\\Anaconda3\\lib\\site-packages\\IPython\\core\\interactiveshell.py:2827: DtypeWarning: Columns (28,29) have mixed types. Specify dtype option on import or set low_memory=False.\n",
      "  if self.run_code(code, result):\n",
      "C:\\Users\\kuang\\Anaconda3\\lib\\site-packages\\IPython\\core\\interactiveshell.py:2827: DtypeWarning: Columns (30,31,32) have mixed types. Specify dtype option on import or set low_memory=False.\n",
      "  if self.run_code(code, result):\n"
     ]
    },
    {
     "data": {
      "text/plain": [
       "'finish'"
      ]
     },
     "execution_count": 41,
     "metadata": {},
     "output_type": "execute_result"
    }
   ],
   "source": [
    "def to_check_whether_all_listings_today_are_downloaded(path):\n",
    "    \n",
    "    country_list = []\n",
    "    \n",
    "    allFiles = glob.glob(path + \"\\\\*\\\\*.csv\")\n",
    "    \n",
    "    frame = pd.DataFrame()\n",
    "    list_ = []\n",
    "    for file_ in allFiles:\n",
    "        pwd = os.getcwd() # 首先取初始工作目录\n",
    "        os.chdir(os.path.dirname(file_)) # 然后取SG/MY/TW/ID/TH这个文件夹\n",
    "        \n",
    "        country_name = os.path.basename(file_).split('_')[0]\n",
    "        \n",
    "        # 如果原来已经有了这个国家，就不用添加进去了\n",
    "        if country_name not in country_list:\n",
    "\n",
    "            country_list.append(country_name)\n",
    "\n",
    "        country_list.sort()\n",
    "    \n",
    "    # 如果所有国家都齐备\n",
    "    if country_list == ['ID','MY','SG','TH','TW']:\n",
    "        for file_ in allFiles:\n",
    "            pwd = os.getcwd() # 首先取初始工作目录\n",
    "            os.chdir(os.path.dirname(file_)) # 然后取SG/MY/TW/ID/TH这个文件夹\n",
    "\n",
    "            df = pd.read_csv(os.path.basename(file_),index_col=None, header=0) # 读取这份文件，不用带上前面那一堆路径\n",
    "            list_.append(df)\n",
    "\n",
    "            os.chdir(pwd)\n",
    "\n",
    "        frame = pd.concat(list_)\n",
    "        \n",
    "    return \"finish\""
   ]
  }
 ],
 "metadata": {
  "kernelspec": {
   "display_name": "Python [conda root]",
   "language": "python",
   "name": "conda-root-py"
  },
  "language_info": {
   "codemirror_mode": {
    "name": "ipython",
    "version": 3
   },
   "file_extension": ".py",
   "mimetype": "text/x-python",
   "name": "python",
   "nbconvert_exporter": "python",
   "pygments_lexer": "ipython3",
   "version": "3.5.2"
  }
 },
 "nbformat": 4,
 "nbformat_minor": 1
}
