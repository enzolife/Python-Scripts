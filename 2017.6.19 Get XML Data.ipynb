{
 "cells": [
  {
   "cell_type": "code",
   "execution_count": 2,
   "metadata": {
    "collapsed": false
   },
   "outputs": [
    {
     "name": "stdout",
     "output_type": "stream",
     "text": [
      "Tomasz Früboes: Python 3.6 – Critical Mass Reached?\n",
      "Sun, 18 Jun 2017 21:03:35 +0000\n",
      "http://pragmaticpython.com/2017/06/18/python-3-6-critical-mass-reached/\n",
      "\n",
      "tryexceptpass: That varies quite a bit depending on what you’re doing and how you need to use the result that you…\n",
      "Sun, 18 Jun 2017 19:45:20 +0000\n",
      "https://medium.com/@tryexceptpass/that-varies-quite-a-bit-depending-on-what-youre-doing-and-how-you-need-to-use-the-result-that-you-4e72382782ee?source=rss-138c0eb26be5------2\n",
      "\n",
      "Chris Warrick: Unix locales vs Unicode (‘ascii’ codec can’t encode character…)\n",
      "Sun, 18 Jun 2017 18:40:00 +0000\n",
      "https://chriswarrick.com/blog/2017/06/18/unix-locales-vs-unicode/\n",
      "\n",
      "Sandipan Dey: Deep Learning with TensorFlow in Python\n",
      "Sat, 17 Jun 2017 22:31:53 +0000\n",
      "\n",
      "\n",
      "Python Insider: Python 3.6.2rc1 is now available for testing\n",
      "Sat, 17 Jun 2017 22:30:01 +0000\n",
      "http://feedproxy.google.com/~r/PythonInsider/~3/baNrM_WAwNY/python-362rc1-is-now-available-for.html\n",
      "\n",
      "Weekly Python StackOverflow Report: (lxxviii) stackoverflow python report\n",
      "Sat, 17 Jun 2017 21:40:00 +0000\n",
      "http://python-weekly.blogspot.com/2017/06/lxxviii-stackoverflow-python-report.html\n",
      "\n",
      "Ned Batchelder: Triangular Fibonacci numbers\n",
      "Sat, 17 Jun 2017 16:43:13 +0000\n",
      "https://nedbatchelder.com//blog/201706/triangular_fibonacci_numbers.html\n",
      "\n",
      "Flavio Coelho: Curso de introdução a criptomoedas - Aula 01\n",
      "Sat, 17 Jun 2017 13:50:44 +0000\n",
      "http://feedproxy.google.com/~r/PythonInScience/~3/wf3w-v3U0eM/curso-de-introducao-criptomoedas-aula-01.html\n",
      "\n",
      "Catalin George Festila: Translate with goslate python module .\n",
      "Sat, 17 Jun 2017 09:20:48 +0000\n",
      "http://python-catalin.blogspot.com/2017/06/translate-with-goslate-python-module.html\n",
      "\n",
      "Python Data: Forecasting Time-Series data with Prophet – Part 2\n",
      "Fri, 16 Jun 2017 20:27:39 +0000\n",
      "http://pythondata.com/forecasting-time-series-data-with-prophet-part-2/\n",
      "\n",
      "Peter Bengtsson: Fastest way to find out if a file exists in S3 (with boto3)\n",
      "Fri, 16 Jun 2017 18:35:14 +0000\n",
      "https://www.peterbe.com/plog/fastest-way-to-find-out-if-a-file-exists-in-s3\n",
      "\n",
      "Anwesha Das: PyLadies Pune June meet up\n",
      "Fri, 16 Jun 2017 18:03:01 +0000\n",
      "http://anweshadas.in/pyladies-pune-june-2017/\n",
      "\n",
      "Catalin George Festila: Python Qt4 - part 002.\n",
      "Fri, 16 Jun 2017 13:25:17 +0000\n",
      "http://python-catalin.blogspot.com/2017/06/python-qt4-part-002.html\n",
      "\n",
      "EuroPython: EuroPython 2017: Django Girls Workshop\n",
      "Fri, 16 Jun 2017 13:01:48 +0000\n",
      "http://blog.europython.eu/post/161889412837\n",
      "\n",
      "Python Piedmont Triad User Group: PYPTUG Monthly meeting \"Kivy\" June 27\n",
      "Fri, 16 Jun 2017 12:36:19 +0000\n",
      "http://www.pyptug.org/2017/06/pyptug-monthly-meeting-kivy-june-27.html\n",
      "\n",
      "Ned Batchelder: Math factoid of the day: 55\n",
      "Fri, 16 Jun 2017 11:33:00 +0000\n",
      "https://nedbatchelder.com//blog/201706/math_factoid_of_the_day_55.html\n",
      "\n",
      "S. Lott: Python Resources\n",
      "Fri, 16 Jun 2017 08:00:12 +0000\n",
      "http://slott-softwarearchitect.blogspot.com/2017/06/python-resources.html\n",
      "\n",
      "Import Python: import python weekly Issue No 130 - fast sudoku solver, colorama, ShutIt, audio analysis and more\n",
      "Fri, 16 Jun 2017 06:59:54 +0000\n",
      "http://importpython.com/blog/post/import-python-weekly-issue-no-130-fast-sudoku-solver-colorama-shutit-audio-analysis-and-more\n",
      "\n",
      "Full Stack Python: Dialing Outbound Phone Calls with a Bottle Web App\n",
      "Fri, 16 Jun 2017 04:00:00 +0000\n",
      "https://www.fullstackpython.com/dial-outbound-phone-calls-python-bottle.html\n",
      "\n",
      "Peter Hoffmann: PyCon.DE 2017 Karlsruhe - Early Bird Ticket Sale\n",
      "Fri, 16 Jun 2017 00:00:00 +0000\n",
      "http://peter-hoffmann.com/2017/pyconde-2017-karlsruhe-early-bird-ticket-sale.html\n",
      "\n",
      "DataCamp: PySpark Cheat Sheet: Spark DataFrames in Python\n",
      "Thu, 15 Jun 2017 21:12:47 +0000\n",
      "http://www.datacamp.com/community/blog/pyspark-sql-cheat-sheet\n",
      "\n",
      "DataCamp: Introducing Our Instructor Pages!\n",
      "Thu, 15 Jun 2017 19:05:06 +0000\n",
      "http://www.datacamp.com/community/blog/introducing-instructor-pages\n",
      "\n",
      "PyCharm: Template Debugging\n",
      "Thu, 15 Jun 2017 18:09:10 +0000\n",
      "http://feedproxy.google.com/~r/Pycharm/~3/d0xWzvnpmns/\n",
      "\n",
      "Mike Driscoll: Python 101: Working with Dates and Time\n",
      "Thu, 15 Jun 2017 17:15:11 +0000\n",
      "http://www.blog.pythonlibrary.org/2017/06/15/python-101-working-with-dates-and-time/\n",
      "\n",
      "PyCharm: PyCharm 2017.1.4 is now available\n",
      "Thu, 15 Jun 2017 16:04:09 +0000\n",
      "http://feedproxy.google.com/~r/Pycharm/~3/9HdLljbfifE/\n",
      "\n"
     ]
    }
   ],
   "source": [
    "from urllib.request import urlopen\n",
    "from xml.etree.ElementTree import parse\n",
    "\n",
    "# Download the RSS feed and parse it\n",
    "u = urlopen('http://planet.python.org/rss20.xml')\n",
    "doc = parse(u)\n",
    "\n",
    "# Extract and output tags of interest\n",
    "for item in doc.iterfind('channel/item'):\n",
    "    title = item.findtext('title')\n",
    "    date = item.findtext('pubDate')\n",
    "    link = item.findtext('link')\n",
    "\n",
    "    print(title)\n",
    "    print(date)\n",
    "    print(link)\n",
    "    print()"
   ]
  },
  {
   "cell_type": "code",
   "execution_count": 5,
   "metadata": {
    "collapsed": false
   },
   "outputs": [
    {
     "data": {
      "text/plain": [
       "<xml.etree.ElementTree.ElementTree at 0x1d77537a7b8>"
      ]
     },
     "execution_count": 5,
     "metadata": {},
     "output_type": "execute_result"
    }
   ],
   "source": [
    "doc"
   ]
  },
  {
   "cell_type": "code",
   "execution_count": 6,
   "metadata": {
    "collapsed": false
   },
   "outputs": [
    {
     "data": {
      "text/plain": [
       "<Element 'title' at 0x000001D775479B88>"
      ]
     },
     "execution_count": 6,
     "metadata": {},
     "output_type": "execute_result"
    }
   ],
   "source": [
    "e = doc.find('channel/title')\n",
    "e"
   ]
  },
  {
   "cell_type": "code",
   "execution_count": 8,
   "metadata": {
    "collapsed": false
   },
   "outputs": [
    {
     "data": {
      "text/plain": [
       "'title'"
      ]
     },
     "execution_count": 8,
     "metadata": {},
     "output_type": "execute_result"
    }
   ],
   "source": [
    "e.tag"
   ]
  },
  {
   "cell_type": "code",
   "execution_count": 11,
   "metadata": {
    "collapsed": false
   },
   "outputs": [
    {
     "data": {
      "text/plain": [
       "'Planet Python'"
      ]
     },
     "execution_count": 11,
     "metadata": {},
     "output_type": "execute_result"
    }
   ],
   "source": [
    "e.text"
   ]
  },
  {
   "cell_type": "code",
   "execution_count": 12,
   "metadata": {
    "collapsed": false
   },
   "outputs": [],
   "source": [
    "e.get('some_attribute')"
   ]
  }
 ],
 "metadata": {
  "kernelspec": {
   "display_name": "Python [conda root]",
   "language": "python",
   "name": "conda-root-py"
  },
  "language_info": {
   "codemirror_mode": {
    "name": "ipython",
    "version": 3
   },
   "file_extension": ".py",
   "mimetype": "text/x-python",
   "name": "python",
   "nbconvert_exporter": "python",
   "pygments_lexer": "ipython3",
   "version": "3.5.2"
  }
 },
 "nbformat": 4,
 "nbformat_minor": 1
}
