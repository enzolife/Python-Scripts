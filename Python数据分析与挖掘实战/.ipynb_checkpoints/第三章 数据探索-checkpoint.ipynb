{
 "cells": [
  {
   "cell_type": "code",
   "execution_count": 95,
   "metadata": {
    "collapsed": true
   },
   "outputs": [],
   "source": [
    "import pandas as pd\n",
    "import os"
   ]
  },
  {
   "cell_type": "code",
   "execution_count": 96,
   "metadata": {},
   "outputs": [
    {
     "data": {
      "text/plain": [
       "'C:\\\\Users\\\\kuang\\\\Documents\\\\Python-Scripts\\\\Python数据分析与挖掘实战'"
      ]
     },
     "execution_count": 96,
     "metadata": {},
     "output_type": "execute_result"
    }
   ],
   "source": [
    "os.getcwd()"
   ]
  },
  {
   "cell_type": "code",
   "execution_count": 97,
   "metadata": {},
   "outputs": [
    {
     "name": "stderr",
     "output_type": "stream",
     "text": [
      "C:\\Users\\kuang\\Anaconda3\\lib\\site-packages\\numpy\\lib\\function_base.py:3834: RuntimeWarning: Invalid value encountered in percentile\n",
      "  RuntimeWarning)\n"
     ]
    },
    {
     "data": {
      "text/html": [
       "<div>\n",
       "<table border=\"1\" class=\"dataframe\">\n",
       "  <thead>\n",
       "    <tr style=\"text-align: right;\">\n",
       "      <th></th>\n",
       "      <th>销量</th>\n",
       "    </tr>\n",
       "  </thead>\n",
       "  <tbody>\n",
       "    <tr>\n",
       "      <th>count</th>\n",
       "      <td>200.000000</td>\n",
       "    </tr>\n",
       "    <tr>\n",
       "      <th>mean</th>\n",
       "      <td>2755.214700</td>\n",
       "    </tr>\n",
       "    <tr>\n",
       "      <th>std</th>\n",
       "      <td>751.029772</td>\n",
       "    </tr>\n",
       "    <tr>\n",
       "      <th>min</th>\n",
       "      <td>22.000000</td>\n",
       "    </tr>\n",
       "    <tr>\n",
       "      <th>25%</th>\n",
       "      <td>NaN</td>\n",
       "    </tr>\n",
       "    <tr>\n",
       "      <th>50%</th>\n",
       "      <td>NaN</td>\n",
       "    </tr>\n",
       "    <tr>\n",
       "      <th>75%</th>\n",
       "      <td>NaN</td>\n",
       "    </tr>\n",
       "    <tr>\n",
       "      <th>max</th>\n",
       "      <td>9106.440000</td>\n",
       "    </tr>\n",
       "  </tbody>\n",
       "</table>\n",
       "</div>"
      ],
      "text/plain": [
       "                销量\n",
       "count   200.000000\n",
       "mean   2755.214700\n",
       "std     751.029772\n",
       "min      22.000000\n",
       "25%            NaN\n",
       "50%            NaN\n",
       "75%            NaN\n",
       "max    9106.440000"
      ]
     },
     "execution_count": 97,
     "metadata": {},
     "output_type": "execute_result"
    }
   ],
   "source": [
    "catering_sale = './data/catering_sale.xls'\n",
    "data = pd.read_excel(catering_sale, index_col=u'日期')\n",
    "data.describe()"
   ]
  },
  {
   "cell_type": "code",
   "execution_count": 98,
   "metadata": {},
   "outputs": [
    {
     "data": {
      "text/plain": [
       "201"
      ]
     },
     "execution_count": 98,
     "metadata": {},
     "output_type": "execute_result"
    }
   ],
   "source": [
    "len(data)"
   ]
  },
  {
   "cell_type": "code",
   "execution_count": 99,
   "metadata": {
    "collapsed": true
   },
   "outputs": [],
   "source": [
    "import matplotlib.pyplot as plt"
   ]
  },
  {
   "cell_type": "code",
   "execution_count": 100,
   "metadata": {
    "collapsed": true
   },
   "outputs": [],
   "source": [
    "plt.rcParams['font.sans-serif'] = ['SimHei'] # 用来正常显示中文标签\n",
    "plt.rcParams['axes.unicode_minus'] = False # 用来正常显示负号"
   ]
  },
  {
   "cell_type": "code",
   "execution_count": 101,
   "metadata": {},
   "outputs": [
    {
     "data": {
      "text/plain": [
       "<matplotlib.figure.Figure at 0x24de5a5c668>"
      ]
     },
     "execution_count": 101,
     "metadata": {},
     "output_type": "execute_result"
    }
   ],
   "source": [
    "plt.figure() # 建立图像"
   ]
  },
  {
   "cell_type": "code",
   "execution_count": 102,
   "metadata": {},
   "outputs": [],
   "source": [
    "p = data.boxplot(return_type='dict') # 画箱线图，直接使用DataFrame的方法\n",
    "x = p['fliers'][0].get_xdata() # 'files'即为异常值的标签\n",
    "y = p['fliers'][0].get_ydata()\n",
    "y.sort()"
   ]
  },
  {
   "cell_type": "code",
   "execution_count": 103,
   "metadata": {},
   "outputs": [
    {
     "data": {
      "text/plain": [
       "{'boxes': [<matplotlib.lines.Line2D at 0x24de5b045f8>],\n",
       " 'caps': [<matplotlib.lines.Line2D at 0x24de5b0bf98>,\n",
       "  <matplotlib.lines.Line2D at 0x24de5b118d0>],\n",
       " 'fliers': [<matplotlib.lines.Line2D at 0x24de5b16940>],\n",
       " 'means': [],\n",
       " 'medians': [<matplotlib.lines.Line2D at 0x24de5b11a58>],\n",
       " 'whiskers': [<matplotlib.lines.Line2D at 0x24de5b04ef0>,\n",
       "  <matplotlib.lines.Line2D at 0x24de5b0b860>]}"
      ]
     },
     "execution_count": 103,
     "metadata": {},
     "output_type": "execute_result"
    }
   ],
   "source": [
    "p"
   ]
  },
  {
   "cell_type": "code",
   "execution_count": 104,
   "metadata": {},
   "outputs": [
    {
     "data": {
      "text/plain": [
       "[<matplotlib.lines.Line2D at 0x24de5b16940>]"
      ]
     },
     "execution_count": 104,
     "metadata": {},
     "output_type": "execute_result"
    }
   ],
   "source": [
    "p['fliers']"
   ]
  },
  {
   "cell_type": "code",
   "execution_count": 105,
   "metadata": {},
   "outputs": [
    {
     "data": {
      "text/plain": [
       "<matplotlib.lines.Line2D at 0x24de5b16940>"
      ]
     },
     "execution_count": 105,
     "metadata": {},
     "output_type": "execute_result"
    }
   ],
   "source": [
    "p['fliers'][0]"
   ]
  },
  {
   "cell_type": "code",
   "execution_count": 106,
   "metadata": {},
   "outputs": [
    {
     "data": {
      "text/plain": [
       "array([ 1.,  1.,  1.,  1.,  1.,  1.,  1.,  1.])"
      ]
     },
     "execution_count": 106,
     "metadata": {},
     "output_type": "execute_result"
    }
   ],
   "source": [
    "x"
   ]
  },
  {
   "cell_type": "code",
   "execution_count": 107,
   "metadata": {},
   "outputs": [
    {
     "data": {
      "text/plain": [
       "8"
      ]
     },
     "execution_count": 107,
     "metadata": {},
     "output_type": "execute_result"
    }
   ],
   "source": [
    "len(x)"
   ]
  },
  {
   "cell_type": "code",
   "execution_count": 108,
   "metadata": {},
   "outputs": [
    {
     "data": {
      "text/plain": [
       "array([   22.  ,    51.  ,    60.  ,   865.  ,  4060.3 ,  4065.2 ,\n",
       "        6607.4 ,  9106.44])"
      ]
     },
     "execution_count": 108,
     "metadata": {},
     "output_type": "execute_result"
    }
   ],
   "source": [
    "y"
   ]
  },
  {
   "cell_type": "code",
   "execution_count": 109,
   "metadata": {},
   "outputs": [],
   "source": [
    "for i in range(len(x)):\n",
    "    if i > 0:\n",
    "        plt.annotate(y[i], xy = (x[i], y[i]), xytext = (x[i] + 0.05 - 0.8 / (y[i] - y[i - 1]), y[i]))\n",
    "    else:\n",
    "        plt.annotate(y[i], xy = (x[i], y[i]), xytext = (x[i] + 0.08, y[i]))"
   ]
  },
  {
   "cell_type": "code",
   "execution_count": 110,
   "metadata": {},
   "outputs": [
    {
     "data": {
      "image/png": "[encoded data removed]",
      "text/plain": [
       "<matplotlib.figure.Figure at 0x24de5a5c668>"
      ]
     },
     "metadata": {},
     "output_type": "display_data"
    }
   ],
   "source": [
    "plt.show()"
   ]
  },
  {
   "cell_type": "code",
   "execution_count": 111,
   "metadata": {
    "collapsed": true
   },
   "outputs": [],
   "source": [
    "from __future__ import print_function"
   ]
  },
  {
   "cell_type": "code",
   "execution_count": 112,
   "metadata": {
    "collapsed": true
   },
   "outputs": [],
   "source": [
    "data = data[(data[u'销量'] > 400) & (data[u'销量'] < 5000)] # 过滤异常数据"
   ]
  },
  {
   "cell_type": "code",
   "execution_count": 113,
   "metadata": {
    "collapsed": true
   },
   "outputs": [],
   "source": [
    "statistics = data.describe()"
   ]
  },
  {
   "cell_type": "code",
   "execution_count": 114,
   "metadata": {},
   "outputs": [
    {
     "data": {
      "text/plain": [
       "pandas.core.frame.DataFrame"
      ]
     },
     "execution_count": 114,
     "metadata": {},
     "output_type": "execute_result"
    }
   ],
   "source": [
    "type(statistics)"
   ]
  },
  {
   "cell_type": "code",
   "execution_count": 116,
   "metadata": {
    "collapsed": true
   },
   "outputs": [],
   "source": [
    "statistics.loc['range'] = statistics.loc['max'] - statistics.loc['min'] # 极差\n",
    "statistics.loc['var'] = statistics.loc['std'] / statistics.loc['mean'] # 变异系数\n",
    "statistics.loc['dis'] = statistics.loc['75%'] - statistics.loc['25%'] # 四分位数间距"
   ]
  },
  {
   "cell_type": "code",
   "execution_count": 117,
   "metadata": {},
   "outputs": [
    {
     "name": "stdout",
     "output_type": "stream",
     "text": [
      "                销量\n",
      "count   195.000000\n",
      "mean   2744.595385\n",
      "std     424.739407\n",
      "min     865.000000\n",
      "25%    2460.600000\n",
      "50%    2655.900000\n",
      "75%    3023.200000\n",
      "max    4065.200000\n",
      "range  3200.200000\n",
      "var       0.154755\n",
      "dis     562.600000\n"
     ]
    }
   ],
   "source": [
    "print(statistics)"
   ]
  },
  {
   "cell_type": "code",
   "execution_count": 122,
   "metadata": {},
   "outputs": [
    {
     "name": "stderr",
     "output_type": "stream",
     "text": [
      "C:\\Users\\kuang\\Anaconda3\\lib\\site-packages\\ipykernel\\__main__.py:4: FutureWarning: sort is deprecated, use sort_values(inplace=True) for INPLACE sorting\n"
     ]
    },
    {
     "data": {
      "text/plain": [
       "菜品名\n",
       "A1     9173\n",
       "A2     5729\n",
       "A3     4811\n",
       "A4     3594\n",
       "A5     3195\n",
       "A6     3026\n",
       "A7     2378\n",
       "A8     1970\n",
       "A9     1877\n",
       "A10    1782\n",
       "Name: 盈利, dtype: int64"
      ]
     },
     "execution_count": 122,
     "metadata": {},
     "output_type": "execute_result"
    }
   ],
   "source": [
    "dish_profit = './data/catering_dish_profit.xls' # 餐饮菜品盈利数据\n",
    "data = pd.read_excel(dish_profit, index_col=u'菜品名')\n",
    "data = data[u'盈利'].copy()\n",
    "data.sort(ascending=False)\n",
    "data"
   ]
  },
  {
   "cell_type": "code",
   "execution_count": 123,
   "metadata": {
    "collapsed": true
   },
   "outputs": [],
   "source": [
    "import matplotlib.pyplot as plt"
   ]
  },
  {
   "cell_type": "code",
   "execution_count": 124,
   "metadata": {
    "collapsed": true
   },
   "outputs": [],
   "source": [
    "plt.rcParams['font.sans-serif'] = ['SimHei'] # 用来正常显示中文标签\n",
    "plt.rcParams['axes.unicode_minus'] = False # 用来正常显示负号"
   ]
  },
  {
   "cell_type": "code",
   "execution_count": 125,
   "metadata": {},
   "outputs": [
    {
     "data": {
      "text/plain": [
       "<matplotlib.figure.Figure at 0x24de5acd1d0>"
      ]
     },
     "execution_count": 125,
     "metadata": {},
     "output_type": "execute_result"
    }
   ],
   "source": [
    "plt.figure()"
   ]
  },
  {
   "cell_type": "code",
   "execution_count": 126,
   "metadata": {},
   "outputs": [
    {
     "data": {
      "text/plain": [
       "<matplotlib.axes._subplots.AxesSubplot at 0x24de5b79e10>"
      ]
     },
     "execution_count": 126,
     "metadata": {},
     "output_type": "execute_result"
    }
   ],
   "source": [
    "data.plot(kind='bar')"
   ]
  },
  {
   "cell_type": "code",
   "execution_count": 128,
   "metadata": {},
   "outputs": [
    {
     "data": {
      "text/plain": [
       "菜品名\n",
       "A1     0.244385\n",
       "A2     0.397016\n",
       "A3     0.525190\n",
       "A4     0.620940\n",
       "A5     0.706061\n",
       "A6     0.786679\n",
       "A7     0.850033\n",
       "A8     0.902518\n",
       "A9     0.952524\n",
       "A10    1.000000\n",
       "Name: 盈利, dtype: float64"
      ]
     },
     "execution_count": 128,
     "metadata": {},
     "output_type": "execute_result"
    }
   ],
   "source": [
    "plt.ylabel(u'盈利（元）')\n",
    "p = 1.0 * data.cumsum()/data.sum()\n",
    "p.plot(color = 'r', secondary_y = True, style = '-o', linewidth = 2)\n",
    "p"
   ]
  },
  {
   "cell_type": "code",
   "execution_count": 129,
   "metadata": {},
   "outputs": [
    {
     "data": {
      "text/plain": [
       "<matplotlib.text.Annotation at 0x24de5ce0588>"
      ]
     },
     "execution_count": 129,
     "metadata": {},
     "output_type": "execute_result"
    }
   ],
   "source": [
    "plt.annotate(format(p[6], '.4%'), xy = (6, p[6]), xytext = (6*0.9, p[6]*0.9), arrowprops=dict(arrowstyle='->', connectionstyle='arc3, rad=.2'))"
   ]
  },
  {
   "cell_type": "code",
   "execution_count": 130,
   "metadata": {},
   "outputs": [
    {
     "data": {
      "image/png": "[encoded data removed]",
      "text/plain": [
       "<matplotlib.figure.Figure at 0x24de5acd1d0>"
      ]
     },
     "metadata": {},
     "output_type": "display_data"
    }
   ],
   "source": [
    "plt.ylabel(u'盈利（比例）')\n",
    "plt.show()"
   ]
  },
  {
   "cell_type": "code",
   "execution_count": 131,
   "metadata": {
    "collapsed": true
   },
   "outputs": [],
   "source": [
    "catering_sale = './data/catering_sale_all.xls'\n",
    "data = pd.read_excel(catering_sale, index_col = u'日期')"
   ]
  },
  {
   "cell_type": "code",
   "execution_count": 132,
   "metadata": {},
   "outputs": [
    {
     "data": {
      "text/html": [
       "<div>\n",
       "<table border=\"1\" class=\"dataframe\">\n",
       "  <thead>\n",
       "    <tr style=\"text-align: right;\">\n",
       "      <th></th>\n",
       "      <th>百合酱蒸凤爪</th>\n",
       "      <th>翡翠蒸香茜饺</th>\n",
       "      <th>金银蒜汁蒸排骨</th>\n",
       "      <th>乐膳真味鸡</th>\n",
       "      <th>蜜汁焗餐包</th>\n",
       "      <th>生炒菜心</th>\n",
       "      <th>铁板酸菜豆腐</th>\n",
       "      <th>香煎韭菜饺</th>\n",
       "      <th>香煎罗卜糕</th>\n",
       "      <th>原汁原味菜心</th>\n",
       "    </tr>\n",
       "  </thead>\n",
       "  <tbody>\n",
       "    <tr>\n",
       "      <th>百合酱蒸凤爪</th>\n",
       "      <td>1.000000</td>\n",
       "      <td>0.009206</td>\n",
       "      <td>0.016799</td>\n",
       "      <td>0.455638</td>\n",
       "      <td>0.098085</td>\n",
       "      <td>0.308496</td>\n",
       "      <td>0.204898</td>\n",
       "      <td>0.127448</td>\n",
       "      <td>-0.090276</td>\n",
       "      <td>0.428316</td>\n",
       "    </tr>\n",
       "    <tr>\n",
       "      <th>翡翠蒸香茜饺</th>\n",
       "      <td>0.009206</td>\n",
       "      <td>1.000000</td>\n",
       "      <td>0.304434</td>\n",
       "      <td>-0.012279</td>\n",
       "      <td>0.058745</td>\n",
       "      <td>-0.180446</td>\n",
       "      <td>-0.026908</td>\n",
       "      <td>0.062344</td>\n",
       "      <td>0.270276</td>\n",
       "      <td>0.020462</td>\n",
       "    </tr>\n",
       "    <tr>\n",
       "      <th>金银蒜汁蒸排骨</th>\n",
       "      <td>0.016799</td>\n",
       "      <td>0.304434</td>\n",
       "      <td>1.000000</td>\n",
       "      <td>0.035135</td>\n",
       "      <td>0.096218</td>\n",
       "      <td>-0.184290</td>\n",
       "      <td>0.187272</td>\n",
       "      <td>0.121543</td>\n",
       "      <td>0.077808</td>\n",
       "      <td>0.029074</td>\n",
       "    </tr>\n",
       "    <tr>\n",
       "      <th>乐膳真味鸡</th>\n",
       "      <td>0.455638</td>\n",
       "      <td>-0.012279</td>\n",
       "      <td>0.035135</td>\n",
       "      <td>1.000000</td>\n",
       "      <td>0.016006</td>\n",
       "      <td>0.325462</td>\n",
       "      <td>0.297692</td>\n",
       "      <td>-0.068866</td>\n",
       "      <td>-0.030222</td>\n",
       "      <td>0.421878</td>\n",
       "    </tr>\n",
       "    <tr>\n",
       "      <th>蜜汁焗餐包</th>\n",
       "      <td>0.098085</td>\n",
       "      <td>0.058745</td>\n",
       "      <td>0.096218</td>\n",
       "      <td>0.016006</td>\n",
       "      <td>1.000000</td>\n",
       "      <td>0.308454</td>\n",
       "      <td>0.502025</td>\n",
       "      <td>0.155428</td>\n",
       "      <td>0.171005</td>\n",
       "      <td>0.527844</td>\n",
       "    </tr>\n",
       "    <tr>\n",
       "      <th>生炒菜心</th>\n",
       "      <td>0.308496</td>\n",
       "      <td>-0.180446</td>\n",
       "      <td>-0.184290</td>\n",
       "      <td>0.325462</td>\n",
       "      <td>0.308454</td>\n",
       "      <td>1.000000</td>\n",
       "      <td>0.369787</td>\n",
       "      <td>0.038233</td>\n",
       "      <td>0.049898</td>\n",
       "      <td>0.122988</td>\n",
       "    </tr>\n",
       "    <tr>\n",
       "      <th>铁板酸菜豆腐</th>\n",
       "      <td>0.204898</td>\n",
       "      <td>-0.026908</td>\n",
       "      <td>0.187272</td>\n",
       "      <td>0.297692</td>\n",
       "      <td>0.502025</td>\n",
       "      <td>0.369787</td>\n",
       "      <td>1.000000</td>\n",
       "      <td>0.095543</td>\n",
       "      <td>0.157958</td>\n",
       "      <td>0.567332</td>\n",
       "    </tr>\n",
       "    <tr>\n",
       "      <th>香煎韭菜饺</th>\n",
       "      <td>0.127448</td>\n",
       "      <td>0.062344</td>\n",
       "      <td>0.121543</td>\n",
       "      <td>-0.068866</td>\n",
       "      <td>0.155428</td>\n",
       "      <td>0.038233</td>\n",
       "      <td>0.095543</td>\n",
       "      <td>1.000000</td>\n",
       "      <td>0.178336</td>\n",
       "      <td>0.049689</td>\n",
       "    </tr>\n",
       "    <tr>\n",
       "      <th>香煎罗卜糕</th>\n",
       "      <td>-0.090276</td>\n",
       "      <td>0.270276</td>\n",
       "      <td>0.077808</td>\n",
       "      <td>-0.030222</td>\n",
       "      <td>0.171005</td>\n",
       "      <td>0.049898</td>\n",
       "      <td>0.157958</td>\n",
       "      <td>0.178336</td>\n",
       "      <td>1.000000</td>\n",
       "      <td>0.088980</td>\n",
       "    </tr>\n",
       "    <tr>\n",
       "      <th>原汁原味菜心</th>\n",
       "      <td>0.428316</td>\n",
       "      <td>0.020462</td>\n",
       "      <td>0.029074</td>\n",
       "      <td>0.421878</td>\n",
       "      <td>0.527844</td>\n",
       "      <td>0.122988</td>\n",
       "      <td>0.567332</td>\n",
       "      <td>0.049689</td>\n",
       "      <td>0.088980</td>\n",
       "      <td>1.000000</td>\n",
       "    </tr>\n",
       "  </tbody>\n",
       "</table>\n",
       "</div>"
      ],
      "text/plain": [
       "           百合酱蒸凤爪    翡翠蒸香茜饺   金银蒜汁蒸排骨     乐膳真味鸡     蜜汁焗餐包      生炒菜心    铁板酸菜豆腐  \\\n",
       "百合酱蒸凤爪   1.000000  0.009206  0.016799  0.455638  0.098085  0.308496  0.204898   \n",
       "翡翠蒸香茜饺   0.009206  1.000000  0.304434 -0.012279  0.058745 -0.180446 -0.026908   \n",
       "金银蒜汁蒸排骨  0.016799  0.304434  1.000000  0.035135  0.096218 -0.184290  0.187272   \n",
       "乐膳真味鸡    0.455638 -0.012279  0.035135  1.000000  0.016006  0.325462  0.297692   \n",
       "蜜汁焗餐包    0.098085  0.058745  0.096218  0.016006  1.000000  0.308454  0.502025   \n",
       "生炒菜心     0.308496 -0.180446 -0.184290  0.325462  0.308454  1.000000  0.369787   \n",
       "铁板酸菜豆腐   0.204898 -0.026908  0.187272  0.297692  0.502025  0.369787  1.000000   \n",
       "香煎韭菜饺    0.127448  0.062344  0.121543 -0.068866  0.155428  0.038233  0.095543   \n",
       "香煎罗卜糕   -0.090276  0.270276  0.077808 -0.030222  0.171005  0.049898  0.157958   \n",
       "原汁原味菜心   0.428316  0.020462  0.029074  0.421878  0.527844  0.122988  0.567332   \n",
       "\n",
       "            香煎韭菜饺     香煎罗卜糕    原汁原味菜心  \n",
       "百合酱蒸凤爪   0.127448 -0.090276  0.428316  \n",
       "翡翠蒸香茜饺   0.062344  0.270276  0.020462  \n",
       "金银蒜汁蒸排骨  0.121543  0.077808  0.029074  \n",
       "乐膳真味鸡   -0.068866 -0.030222  0.421878  \n",
       "蜜汁焗餐包    0.155428  0.171005  0.527844  \n",
       "生炒菜心     0.038233  0.049898  0.122988  \n",
       "铁板酸菜豆腐   0.095543  0.157958  0.567332  \n",
       "香煎韭菜饺    1.000000  0.178336  0.049689  \n",
       "香煎罗卜糕    0.178336  1.000000  0.088980  \n",
       "原汁原味菜心   0.049689  0.088980  1.000000  "
      ]
     },
     "execution_count": 132,
     "metadata": {},
     "output_type": "execute_result"
    }
   ],
   "source": [
    "data.corr()"
   ]
  },
  {
   "cell_type": "code",
   "execution_count": 133,
   "metadata": {},
   "outputs": [
    {
     "data": {
      "text/plain": [
       "百合酱蒸凤爪     1.000000\n",
       "翡翠蒸香茜饺     0.009206\n",
       "金银蒜汁蒸排骨    0.016799\n",
       "乐膳真味鸡      0.455638\n",
       "蜜汁焗餐包      0.098085\n",
       "生炒菜心       0.308496\n",
       "铁板酸菜豆腐     0.204898\n",
       "香煎韭菜饺      0.127448\n",
       "香煎罗卜糕     -0.090276\n",
       "原汁原味菜心     0.428316\n",
       "Name: 百合酱蒸凤爪, dtype: float64"
      ]
     },
     "execution_count": 133,
     "metadata": {},
     "output_type": "execute_result"
    }
   ],
   "source": [
    "data.corr()[u'百合酱蒸凤爪']"
   ]
  },
  {
   "cell_type": "code",
   "execution_count": 135,
   "metadata": {},
   "outputs": [
    {
     "data": {
      "text/plain": [
       "0.0092058030518364746"
      ]
     },
     "execution_count": 135,
     "metadata": {},
     "output_type": "execute_result"
    }
   ],
   "source": [
    "data[u'百合酱蒸凤爪'].corr(data[u'翡翠蒸香茜饺'])"
   ]
  },
  {
   "cell_type": "code",
   "execution_count": 136,
   "metadata": {
    "collapsed": true
   },
   "outputs": [],
   "source": [
    "D = pd.Series(range(0, 20))"
   ]
  },
  {
   "cell_type": "code",
   "execution_count": 137,
   "metadata": {},
   "outputs": [
    {
     "data": {
      "text/plain": [
       "0       0\n",
       "1       1\n",
       "2       3\n",
       "3       6\n",
       "4      10\n",
       "5      15\n",
       "6      21\n",
       "7      28\n",
       "8      36\n",
       "9      45\n",
       "10     55\n",
       "11     66\n",
       "12     78\n",
       "13     91\n",
       "14    105\n",
       "15    120\n",
       "16    136\n",
       "17    153\n",
       "18    171\n",
       "19    190\n",
       "dtype: int32"
      ]
     },
     "execution_count": 137,
     "metadata": {},
     "output_type": "execute_result"
    }
   ],
   "source": [
    "D.cumsum()"
   ]
  },
  {
   "cell_type": "code",
   "execution_count": 139,
   "metadata": {},
   "outputs": [
    {
     "name": "stderr",
     "output_type": "stream",
     "text": [
      "C:\\Users\\kuang\\Anaconda3\\lib\\site-packages\\ipykernel\\__main__.py:1: FutureWarning: pd.rolling_sum is deprecated for Series and will be removed in a future version, replace with \n",
      "\tSeries.rolling(center=False,window=3).sum()\n",
      "  if __name__ == '__main__':\n"
     ]
    },
    {
     "data": {
      "text/plain": [
       "0      NaN\n",
       "1      NaN\n",
       "2      3.0\n",
       "3      6.0\n",
       "4      9.0\n",
       "5     12.0\n",
       "6     15.0\n",
       "7     18.0\n",
       "8     21.0\n",
       "9     24.0\n",
       "10    27.0\n",
       "11    30.0\n",
       "12    33.0\n",
       "13    36.0\n",
       "14    39.0\n",
       "15    42.0\n",
       "16    45.0\n",
       "17    48.0\n",
       "18    51.0\n",
       "19    54.0\n",
       "dtype: float64"
      ]
     },
     "execution_count": 139,
     "metadata": {},
     "output_type": "execute_result"
    }
   ],
   "source": [
    "pd.rolling_sum(D, 3)"
   ]
  }
 ],
 "metadata": {
  "anaconda-cloud": {},
  "kernelspec": {
   "display_name": "Python [default]",
   "language": "python",
   "name": "python3"
  },
  "language_info": {
   "codemirror_mode": {
    "name": "ipython",
    "version": 3
   },
   "file_extension": ".py",
   "mimetype": "text/x-python",
   "name": "python",
   "nbconvert_exporter": "python",
   "pygments_lexer": "ipython3",
   "version": "3.5.2"
  }
 },
 "nbformat": 4,
 "nbformat_minor": 1
}
