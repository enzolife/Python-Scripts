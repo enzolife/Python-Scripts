{
 "cells": [
  {
   "cell_type": "code",
   "execution_count": 2,
   "metadata": {},
   "outputs": [],
   "source": [
    "import numpy as np\n",
    "import matplotlib.pyplot as plt\n",
    "import pandas as pd\n",
    "import mglearn"
   ]
  },
  {
   "cell_type": "code",
   "execution_count": 3,
   "metadata": {},
   "outputs": [
    {
     "name": "stderr",
     "output_type": "stream",
     "text": [
      "C:\\Users\\Enzo.kuang\\Anaconda3\\lib\\site-packages\\sklearn\\utils\\deprecation.py:75: DeprecationWarning: Function make_blobs is deprecated; Please import make_blobs directly from scikit-learn\n",
      "  warnings.warn(msg, category=DeprecationWarning)\n"
     ]
    }
   ],
   "source": [
    "# 生成数据集\n",
    "X, y = mglearn.datasets.make_forge()"
   ]
  },
  {
   "cell_type": "code",
   "execution_count": 4,
   "metadata": {
    "scrolled": true
   },
   "outputs": [
    {
     "data": {
      "text/plain": [
       "array([[  9.96346605,   4.59676542],\n",
       "       [ 11.0329545 ,  -0.16816717],\n",
       "       [ 11.54155807,   5.21116083],\n",
       "       [  8.69289001,   1.54322016],\n",
       "       [  8.1062269 ,   4.28695977],\n",
       "       [  8.30988863,   4.80623966],\n",
       "       [ 11.93027136,   4.64866327],\n",
       "       [  9.67284681,  -0.20283165],\n",
       "       [  8.34810316,   5.13415623],\n",
       "       [  8.67494727,   4.47573059],\n",
       "       [  9.17748385,   5.09283177],\n",
       "       [ 10.24028948,   2.45544401],\n",
       "       [  8.68937095,   1.48709629],\n",
       "       [  8.92229526,  -0.63993225],\n",
       "       [  9.49123469,   4.33224792],\n",
       "       [  9.25694192,   5.13284858],\n",
       "       [  7.99815287,   4.8525051 ],\n",
       "       [  8.18378052,   1.29564214],\n",
       "       [  8.7337095 ,   2.49162431],\n",
       "       [  9.32298256,   5.09840649],\n",
       "       [ 10.06393839,   0.99078055],\n",
       "       [  9.50048972,  -0.26430318],\n",
       "       [  8.34468785,   1.63824349],\n",
       "       [  9.50169345,   1.93824624],\n",
       "       [  9.15072323,   5.49832246],\n",
       "       [ 11.563957  ,   1.3389402 ]])"
      ]
     },
     "execution_count": 4,
     "metadata": {},
     "output_type": "execute_result"
    }
   ],
   "source": [
    "X"
   ]
  },
  {
   "cell_type": "code",
   "execution_count": 5,
   "metadata": {},
   "outputs": [
    {
     "data": {
      "text/plain": [
       "array([1, 0, 1, 0, 0, 1, 1, 0, 1, 1, 1, 1, 0, 0, 1, 1, 1, 0, 0, 1, 0, 0, 0,\n",
       "       0, 1, 0])"
      ]
     },
     "execution_count": 5,
     "metadata": {},
     "output_type": "execute_result"
    }
   ],
   "source": [
    "y"
   ]
  },
  {
   "cell_type": "code",
   "execution_count": 6,
   "metadata": {},
   "outputs": [
    {
     "data": {
      "text/plain": [
       "[<matplotlib.lines.Line2D at 0x1cf6d6b35c0>,\n",
       " <matplotlib.lines.Line2D at 0x1cf671b7588>]"
      ]
     },
     "execution_count": 6,
     "metadata": {},
     "output_type": "execute_result"
    },
    {
     "data": {
      "image/png": "[encoded data removed]",
      "text/plain": [
       "<matplotlib.figure.Figure at 0x1cf6d2d9860>"
      ]
     },
     "metadata": {
      "needs_background": "light"
     },
     "output_type": "display_data"
    }
   ],
   "source": [
    "# 数据集绘图\n",
    "mglearn.discrete_scatter(X[:, 0], X[:, 1], y)"
   ]
  },
  {
   "cell_type": "code",
   "execution_count": 7,
   "metadata": {},
   "outputs": [
    {
     "data": {
      "text/plain": [
       "<matplotlib.text.Text at 0x1cf6d728cf8>"
      ]
     },
     "execution_count": 7,
     "metadata": {},
     "output_type": "execute_result"
    },
    {
     "data": {
      "image/png": "[encoded data removed]",
      "text/plain": [
       "<matplotlib.figure.Figure at 0x1cf6d70be48>"
      ]
     },
     "metadata": {
      "needs_background": "light"
     },
     "output_type": "display_data"
    }
   ],
   "source": [
    "plt.legend(['Class 0', 'Class 1'], loc=4)\n",
    "plt.xlabel('First Feature')\n",
    "plt.ylabel('Second Feature')"
   ]
  },
  {
   "cell_type": "code",
   "execution_count": 8,
   "metadata": {},
   "outputs": [
    {
     "data": {
      "text/plain": [
       "(26, 2)"
      ]
     },
     "execution_count": 8,
     "metadata": {},
     "output_type": "execute_result"
    }
   ],
   "source": [
    "X.shape"
   ]
  },
  {
   "cell_type": "code",
   "execution_count": 9,
   "metadata": {},
   "outputs": [],
   "source": [
    "plt.show()"
   ]
  },
  {
   "cell_type": "code",
   "execution_count": 11,
   "metadata": {
    "scrolled": true
   },
   "outputs": [
    {
     "data": {
      "text/plain": [
       "array([[-0.75275929],\n",
       "       [ 2.70428584],\n",
       "       [ 1.39196365],\n",
       "       [ 0.59195091],\n",
       "       [-2.06388816],\n",
       "       [-2.06403288],\n",
       "       [-2.65149833],\n",
       "       [ 2.19705687],\n",
       "       [ 0.60669007],\n",
       "       [ 1.24843547],\n",
       "       [-2.87649303],\n",
       "       [ 2.81945911],\n",
       "       [ 1.99465584],\n",
       "       [-1.72596534],\n",
       "       [-1.9090502 ],\n",
       "       [-1.89957294],\n",
       "       [-1.17454654],\n",
       "       [ 0.14853859],\n",
       "       [-0.40832989],\n",
       "       [-1.25262516],\n",
       "       [ 0.67111737],\n",
       "       [-2.16303684],\n",
       "       [-1.24713211],\n",
       "       [-0.80182894],\n",
       "       [-0.26358009],\n",
       "       [ 1.71105577],\n",
       "       [-1.80195731],\n",
       "       [ 0.08540663],\n",
       "       [ 0.55448741],\n",
       "       [-2.72129752],\n",
       "       [ 0.64526911],\n",
       "       [-1.97685526],\n",
       "       [-2.60969044],\n",
       "       [ 2.69331322],\n",
       "       [ 2.7937922 ],\n",
       "       [ 1.85038409],\n",
       "       [-1.17231738],\n",
       "       [-2.41396732],\n",
       "       [ 1.10539816],\n",
       "       [-0.35908504]])"
      ]
     },
     "execution_count": 11,
     "metadata": {},
     "output_type": "execute_result"
    }
   ],
   "source": [
    "X, y = mglearn.datasets.make_wave(n_samples=40)\n",
    "X"
   ]
  },
  {
   "cell_type": "code",
   "execution_count": 12,
   "metadata": {},
   "outputs": [
    {
     "data": {
      "text/plain": [
       "array([-0.44822073,  0.33122576,  0.77932073,  0.03497884, -1.38773632,\n",
       "       -2.47196233, -1.52730805,  1.49417157,  1.00032374,  0.22956153,\n",
       "       -1.05979555,  0.7789638 ,  0.75418806, -1.51369739, -1.67303415,\n",
       "       -0.90496988,  0.08448544, -0.52734666, -0.54114599, -0.3409073 ,\n",
       "        0.21778193, -1.12469096,  0.37299129,  0.09756349, -0.98618122,\n",
       "        0.96695428, -1.13455014,  0.69798591,  0.43655826, -0.95652133,\n",
       "        0.03527881, -2.08581717, -0.47411033,  1.53708251,  0.86893293,\n",
       "        1.87664889,  0.0945257 , -1.41502356,  0.25438895,  0.09398858])"
      ]
     },
     "execution_count": 12,
     "metadata": {},
     "output_type": "execute_result"
    }
   ],
   "source": [
    "y"
   ]
  },
  {
   "cell_type": "code",
   "execution_count": 13,
   "metadata": {},
   "outputs": [
    {
     "data": {
      "text/plain": [
       "<matplotlib.text.Text at 0x1cf6d796ef0>"
      ]
     },
     "execution_count": 13,
     "metadata": {},
     "output_type": "execute_result"
    },
    {
     "data": {
      "image/png": "[encoded data removed]",
      "text/plain": [
       "<matplotlib.figure.Figure at 0x1cf6d7333c8>"
      ]
     },
     "metadata": {
      "needs_background": "light"
     },
     "output_type": "display_data"
    }
   ],
   "source": [
    "plt.plot(X, y, 'o')\n",
    "plt.ylim(-3, 3)\n",
    "plt.xlabel('Feature')\n",
    "plt.ylabel('Target')"
   ]
  },
  {
   "cell_type": "code",
   "execution_count": 14,
   "metadata": {
    "scrolled": true
   },
   "outputs": [
    {
     "data": {
      "text/plain": [
       "{'DESCR': 'Breast Cancer Wisconsin (Diagnostic) Database\\n=============================================\\n\\nNotes\\n-----\\nData Set Characteristics:\\n    :Number of Instances: 569\\n\\n    :Number of Attributes: 30 numeric, predictive attributes and the class\\n\\n    :Attribute Information:\\n        - radius (mean of distances from center to points on the perimeter)\\n        - texture (standard deviation of gray-scale values)\\n        - perimeter\\n        - area\\n        - smoothness (local variation in radius lengths)\\n        - compactness (perimeter^2 / area - 1.0)\\n        - concavity (severity of concave portions of the contour)\\n        - concave points (number of concave portions of the contour)\\n        - symmetry \\n        - fractal dimension (\"coastline approximation\" - 1)\\n\\n        The mean, standard error, and \"worst\" or largest (mean of the three\\n        largest values) of these features were computed for each image,\\n        resulting in 30 features.  For instance, field 3 is Mean Radius, field\\n        13 is Radius SE, field 23 is Worst Radius.\\n\\n        - class:\\n                - WDBC-Malignant\\n                - WDBC-Benign\\n\\n    :Summary Statistics:\\n\\n    ===================================== ====== ======\\n                                           Min    Max\\n    ===================================== ====== ======\\n    radius (mean):                        6.981  28.11\\n    texture (mean):                       9.71   39.28\\n    perimeter (mean):                     43.79  188.5\\n    area (mean):                          143.5  2501.0\\n    smoothness (mean):                    0.053  0.163\\n    compactness (mean):                   0.019  0.345\\n    concavity (mean):                     0.0    0.427\\n    concave points (mean):                0.0    0.201\\n    symmetry (mean):                      0.106  0.304\\n    fractal dimension (mean):             0.05   0.097\\n    radius (standard error):              0.112  2.873\\n    texture (standard error):             0.36   4.885\\n    perimeter (standard error):           0.757  21.98\\n    area (standard error):                6.802  542.2\\n    smoothness (standard error):          0.002  0.031\\n    compactness (standard error):         0.002  0.135\\n    concavity (standard error):           0.0    0.396\\n    concave points (standard error):      0.0    0.053\\n    symmetry (standard error):            0.008  0.079\\n    fractal dimension (standard error):   0.001  0.03\\n    radius (worst):                       7.93   36.04\\n    texture (worst):                      12.02  49.54\\n    perimeter (worst):                    50.41  251.2\\n    area (worst):                         185.2  4254.0\\n    smoothness (worst):                   0.071  0.223\\n    compactness (worst):                  0.027  1.058\\n    concavity (worst):                    0.0    1.252\\n    concave points (worst):               0.0    0.291\\n    symmetry (worst):                     0.156  0.664\\n    fractal dimension (worst):            0.055  0.208\\n    ===================================== ====== ======\\n\\n    :Missing Attribute Values: None\\n\\n    :Class Distribution: 212 - Malignant, 357 - Benign\\n\\n    :Creator:  Dr. William H. Wolberg, W. Nick Street, Olvi L. Mangasarian\\n\\n    :Donor: Nick Street\\n\\n    :Date: November, 1995\\n\\nThis is a copy of UCI ML Breast Cancer Wisconsin (Diagnostic) datasets.\\nhttps://goo.gl/U2Uwz2\\n\\nFeatures are computed from a digitized image of a fine needle\\naspirate (FNA) of a breast mass.  They describe\\ncharacteristics of the cell nuclei present in the image.\\n\\nSeparating plane described above was obtained using\\nMultisurface Method-Tree (MSM-T) [K. P. Bennett, \"Decision Tree\\nConstruction Via Linear Programming.\" Proceedings of the 4th\\nMidwest Artificial Intelligence and Cognitive Science Society,\\npp. 97-101, 1992], a classification method which uses linear\\nprogramming to construct a decision tree.  Relevant features\\nwere selected using an exhaustive search in the space of 1-4\\nfeatures and 1-3 separating planes.\\n\\nThe actual linear program used to obtain the separating plane\\nin the 3-dimensional space is that described in:\\n[K. P. Bennett and O. L. Mangasarian: \"Robust Linear\\nProgramming Discrimination of Two Linearly Inseparable Sets\",\\nOptimization Methods and Software 1, 1992, 23-34].\\n\\nThis database is also available through the UW CS ftp server:\\n\\nftp ftp.cs.wisc.edu\\ncd math-prog/cpo-dataset/machine-learn/WDBC/\\n\\nReferences\\n----------\\n   - W.N. Street, W.H. Wolberg and O.L. Mangasarian. Nuclear feature extraction \\n     for breast tumor diagnosis. IS&T/SPIE 1993 International Symposium on \\n     Electronic Imaging: Science and Technology, volume 1905, pages 861-870,\\n     San Jose, CA, 1993.\\n   - O.L. Mangasarian, W.N. Street and W.H. Wolberg. Breast cancer diagnosis and \\n     prognosis via linear programming. Operations Research, 43(4), pages 570-577, \\n     July-August 1995.\\n   - W.H. Wolberg, W.N. Street, and O.L. Mangasarian. Machine learning techniques\\n     to diagnose breast cancer from fine-needle aspirates. Cancer Letters 77 (1994) \\n     163-171.\\n',\n",
       " 'data': array([[  1.79900000e+01,   1.03800000e+01,   1.22800000e+02, ...,\n",
       "           2.65400000e-01,   4.60100000e-01,   1.18900000e-01],\n",
       "        [  2.05700000e+01,   1.77700000e+01,   1.32900000e+02, ...,\n",
       "           1.86000000e-01,   2.75000000e-01,   8.90200000e-02],\n",
       "        [  1.96900000e+01,   2.12500000e+01,   1.30000000e+02, ...,\n",
       "           2.43000000e-01,   3.61300000e-01,   8.75800000e-02],\n",
       "        ..., \n",
       "        [  1.66000000e+01,   2.80800000e+01,   1.08300000e+02, ...,\n",
       "           1.41800000e-01,   2.21800000e-01,   7.82000000e-02],\n",
       "        [  2.06000000e+01,   2.93300000e+01,   1.40100000e+02, ...,\n",
       "           2.65000000e-01,   4.08700000e-01,   1.24000000e-01],\n",
       "        [  7.76000000e+00,   2.45400000e+01,   4.79200000e+01, ...,\n",
       "           0.00000000e+00,   2.87100000e-01,   7.03900000e-02]]),\n",
       " 'feature_names': array(['mean radius', 'mean texture', 'mean perimeter', 'mean area',\n",
       "        'mean smoothness', 'mean compactness', 'mean concavity',\n",
       "        'mean concave points', 'mean symmetry', 'mean fractal dimension',\n",
       "        'radius error', 'texture error', 'perimeter error', 'area error',\n",
       "        'smoothness error', 'compactness error', 'concavity error',\n",
       "        'concave points error', 'symmetry error', 'fractal dimension error',\n",
       "        'worst radius', 'worst texture', 'worst perimeter', 'worst area',\n",
       "        'worst smoothness', 'worst compactness', 'worst concavity',\n",
       "        'worst concave points', 'worst symmetry', 'worst fractal dimension'],\n",
       "       dtype='<U23'),\n",
       " 'target': array([0, 0, 0, 0, 0, 0, 0, 0, 0, 0, 0, 0, 0, 0, 0, 0, 0, 0, 0, 1, 1, 1, 0,\n",
       "        0, 0, 0, 0, 0, 0, 0, 0, 0, 0, 0, 0, 0, 0, 1, 0, 0, 0, 0, 0, 0, 0, 0,\n",
       "        1, 0, 1, 1, 1, 1, 1, 0, 0, 1, 0, 0, 1, 1, 1, 1, 0, 1, 0, 0, 1, 1, 1,\n",
       "        1, 0, 1, 0, 0, 1, 0, 1, 0, 0, 1, 1, 1, 0, 0, 1, 0, 0, 0, 1, 1, 1, 0,\n",
       "        1, 1, 0, 0, 1, 1, 1, 0, 0, 1, 1, 1, 1, 0, 1, 1, 0, 1, 1, 1, 1, 1, 1,\n",
       "        1, 1, 0, 0, 0, 1, 0, 0, 1, 1, 1, 0, 0, 1, 0, 1, 0, 0, 1, 0, 0, 1, 1,\n",
       "        0, 1, 1, 0, 1, 1, 1, 1, 0, 1, 1, 1, 1, 1, 1, 1, 1, 1, 0, 1, 1, 1, 1,\n",
       "        0, 0, 1, 0, 1, 1, 0, 0, 1, 1, 0, 0, 1, 1, 1, 1, 0, 1, 1, 0, 0, 0, 1,\n",
       "        0, 1, 0, 1, 1, 1, 0, 1, 1, 0, 0, 1, 0, 0, 0, 0, 1, 0, 0, 0, 1, 0, 1,\n",
       "        0, 1, 1, 0, 1, 0, 0, 0, 0, 1, 1, 0, 0, 1, 1, 1, 0, 1, 1, 1, 1, 1, 0,\n",
       "        0, 1, 1, 0, 1, 1, 0, 0, 1, 0, 1, 1, 1, 1, 0, 1, 1, 1, 1, 1, 0, 1, 0,\n",
       "        0, 0, 0, 0, 0, 0, 0, 0, 0, 0, 0, 0, 0, 1, 1, 1, 1, 1, 1, 0, 1, 0, 1,\n",
       "        1, 0, 1, 1, 0, 1, 0, 0, 1, 1, 1, 1, 1, 1, 1, 1, 1, 1, 1, 1, 1, 0, 1,\n",
       "        1, 0, 1, 0, 1, 1, 1, 1, 1, 1, 1, 1, 1, 1, 1, 1, 1, 1, 0, 1, 1, 1, 0,\n",
       "        1, 0, 1, 1, 1, 1, 0, 0, 0, 1, 1, 1, 1, 0, 1, 0, 1, 0, 1, 1, 1, 0, 1,\n",
       "        1, 1, 1, 1, 1, 1, 0, 0, 0, 1, 1, 1, 1, 1, 1, 1, 1, 1, 1, 1, 0, 0, 1,\n",
       "        0, 0, 0, 1, 0, 0, 1, 1, 1, 1, 1, 0, 1, 1, 1, 1, 1, 0, 1, 1, 1, 0, 1,\n",
       "        1, 0, 0, 1, 1, 1, 1, 1, 1, 0, 1, 1, 1, 1, 1, 1, 1, 0, 1, 1, 1, 1, 1,\n",
       "        0, 1, 1, 0, 1, 1, 1, 1, 1, 1, 1, 1, 1, 1, 1, 1, 0, 1, 0, 0, 1, 0, 1,\n",
       "        1, 1, 1, 1, 0, 1, 1, 0, 1, 0, 1, 1, 0, 1, 0, 1, 1, 1, 1, 1, 1, 1, 1,\n",
       "        0, 0, 1, 1, 1, 1, 1, 1, 0, 1, 1, 1, 1, 1, 1, 1, 1, 1, 1, 0, 1, 1, 1,\n",
       "        1, 1, 1, 1, 0, 1, 0, 1, 1, 0, 1, 1, 1, 1, 1, 0, 0, 1, 0, 1, 0, 1, 1,\n",
       "        1, 1, 1, 0, 1, 1, 0, 1, 0, 1, 0, 0, 1, 1, 1, 0, 1, 1, 1, 1, 1, 1, 1,\n",
       "        1, 1, 1, 1, 0, 1, 0, 0, 1, 1, 1, 1, 1, 1, 1, 1, 1, 1, 1, 1, 1, 1, 1,\n",
       "        1, 1, 1, 1, 1, 1, 1, 1, 1, 1, 0, 0, 0, 0, 0, 0, 1]),\n",
       " 'target_names': array(['malignant', 'benign'],\n",
       "       dtype='<U9')}"
      ]
     },
     "execution_count": 14,
     "metadata": {},
     "output_type": "execute_result"
    }
   ],
   "source": [
    "from sklearn.datasets import load_breast_cancer\n",
    "cancer = load_breast_cancer()\n",
    "cancer"
   ]
  },
  {
   "cell_type": "code",
   "execution_count": 15,
   "metadata": {},
   "outputs": [
    {
     "data": {
      "text/plain": [
       "dict_keys(['DESCR', 'target_names', 'data', 'target', 'feature_names'])"
      ]
     },
     "execution_count": 15,
     "metadata": {},
     "output_type": "execute_result"
    }
   ],
   "source": [
    "cancer.keys()"
   ]
  },
  {
   "cell_type": "code",
   "execution_count": 16,
   "metadata": {},
   "outputs": [
    {
     "data": {
      "text/plain": [
       "(569, 30)"
      ]
     },
     "execution_count": 16,
     "metadata": {},
     "output_type": "execute_result"
    }
   ],
   "source": [
    "cancer.data.shape"
   ]
  },
  {
   "cell_type": "code",
   "execution_count": 18,
   "metadata": {},
   "outputs": [
    {
     "data": {
      "text/plain": [
       "{'benign': 357, 'malignant': 212}"
      ]
     },
     "execution_count": 18,
     "metadata": {},
     "output_type": "execute_result"
    }
   ],
   "source": [
    "{n: v for n, v in zip(cancer.target_names, np.bincount(cancer.target))}"
   ]
  },
  {
   "cell_type": "code",
   "execution_count": 19,
   "metadata": {},
   "outputs": [
    {
     "data": {
      "text/plain": [
       "array(['mean radius', 'mean texture', 'mean perimeter', 'mean area',\n",
       "       'mean smoothness', 'mean compactness', 'mean concavity',\n",
       "       'mean concave points', 'mean symmetry', 'mean fractal dimension',\n",
       "       'radius error', 'texture error', 'perimeter error', 'area error',\n",
       "       'smoothness error', 'compactness error', 'concavity error',\n",
       "       'concave points error', 'symmetry error', 'fractal dimension error',\n",
       "       'worst radius', 'worst texture', 'worst perimeter', 'worst area',\n",
       "       'worst smoothness', 'worst compactness', 'worst concavity',\n",
       "       'worst concave points', 'worst symmetry', 'worst fractal dimension'],\n",
       "      dtype='<U23')"
      ]
     },
     "execution_count": 19,
     "metadata": {},
     "output_type": "execute_result"
    }
   ],
   "source": [
    "cancer.feature_names"
   ]
  },
  {
   "cell_type": "code",
   "execution_count": 21,
   "metadata": {
    "scrolled": true
   },
   "outputs": [
    {
     "data": {
      "text/plain": [
       "{'DESCR': \"Boston House Prices dataset\\n===========================\\n\\nNotes\\n------\\nData Set Characteristics:  \\n\\n    :Number of Instances: 506 \\n\\n    :Number of Attributes: 13 numeric/categorical predictive\\n    \\n    :Median Value (attribute 14) is usually the target\\n\\n    :Attribute Information (in order):\\n        - CRIM     per capita crime rate by town\\n        - ZN       proportion of residential land zoned for lots over 25,000 sq.ft.\\n        - INDUS    proportion of non-retail business acres per town\\n        - CHAS     Charles River dummy variable (= 1 if tract bounds river; 0 otherwise)\\n        - NOX      nitric oxides concentration (parts per 10 million)\\n        - RM       average number of rooms per dwelling\\n        - AGE      proportion of owner-occupied units built prior to 1940\\n        - DIS      weighted distances to five Boston employment centres\\n        - RAD      index of accessibility to radial highways\\n        - TAX      full-value property-tax rate per $10,000\\n        - PTRATIO  pupil-teacher ratio by town\\n        - B        1000(Bk - 0.63)^2 where Bk is the proportion of blacks by town\\n        - LSTAT    % lower status of the population\\n        - MEDV     Median value of owner-occupied homes in $1000's\\n\\n    :Missing Attribute Values: None\\n\\n    :Creator: Harrison, D. and Rubinfeld, D.L.\\n\\nThis is a copy of UCI ML housing dataset.\\nhttp://archive.ics.uci.edu/ml/datasets/Housing\\n\\n\\nThis dataset was taken from the StatLib library which is maintained at Carnegie Mellon University.\\n\\nThe Boston house-price data of Harrison, D. and Rubinfeld, D.L. 'Hedonic\\nprices and the demand for clean air', J. Environ. Economics & Management,\\nvol.5, 81-102, 1978.   Used in Belsley, Kuh & Welsch, 'Regression diagnostics\\n...', Wiley, 1980.   N.B. Various transformations are used in the table on\\npages 244-261 of the latter.\\n\\nThe Boston house-price data has been used in many machine learning papers that address regression\\nproblems.   \\n     \\n**References**\\n\\n   - Belsley, Kuh & Welsch, 'Regression diagnostics: Identifying Influential Data and Sources of Collinearity', Wiley, 1980. 244-261.\\n   - Quinlan,R. (1993). Combining Instance-Based and Model-Based Learning. In Proceedings on the Tenth International Conference of Machine Learning, 236-243, University of Massachusetts, Amherst. Morgan Kaufmann.\\n   - many more! (see http://archive.ics.uci.edu/ml/datasets/Housing)\\n\",\n",
       " 'data': array([[  6.32000000e-03,   1.80000000e+01,   2.31000000e+00, ...,\n",
       "           1.53000000e+01,   3.96900000e+02,   4.98000000e+00],\n",
       "        [  2.73100000e-02,   0.00000000e+00,   7.07000000e+00, ...,\n",
       "           1.78000000e+01,   3.96900000e+02,   9.14000000e+00],\n",
       "        [  2.72900000e-02,   0.00000000e+00,   7.07000000e+00, ...,\n",
       "           1.78000000e+01,   3.92830000e+02,   4.03000000e+00],\n",
       "        ..., \n",
       "        [  6.07600000e-02,   0.00000000e+00,   1.19300000e+01, ...,\n",
       "           2.10000000e+01,   3.96900000e+02,   5.64000000e+00],\n",
       "        [  1.09590000e-01,   0.00000000e+00,   1.19300000e+01, ...,\n",
       "           2.10000000e+01,   3.93450000e+02,   6.48000000e+00],\n",
       "        [  4.74100000e-02,   0.00000000e+00,   1.19300000e+01, ...,\n",
       "           2.10000000e+01,   3.96900000e+02,   7.88000000e+00]]),\n",
       " 'feature_names': array(['CRIM', 'ZN', 'INDUS', 'CHAS', 'NOX', 'RM', 'AGE', 'DIS', 'RAD',\n",
       "        'TAX', 'PTRATIO', 'B', 'LSTAT'],\n",
       "       dtype='<U7'),\n",
       " 'target': array([ 24. ,  21.6,  34.7,  33.4,  36.2,  28.7,  22.9,  27.1,  16.5,\n",
       "         18.9,  15. ,  18.9,  21.7,  20.4,  18.2,  19.9,  23.1,  17.5,\n",
       "         20.2,  18.2,  13.6,  19.6,  15.2,  14.5,  15.6,  13.9,  16.6,\n",
       "         14.8,  18.4,  21. ,  12.7,  14.5,  13.2,  13.1,  13.5,  18.9,\n",
       "         20. ,  21. ,  24.7,  30.8,  34.9,  26.6,  25.3,  24.7,  21.2,\n",
       "         19.3,  20. ,  16.6,  14.4,  19.4,  19.7,  20.5,  25. ,  23.4,\n",
       "         18.9,  35.4,  24.7,  31.6,  23.3,  19.6,  18.7,  16. ,  22.2,\n",
       "         25. ,  33. ,  23.5,  19.4,  22. ,  17.4,  20.9,  24.2,  21.7,\n",
       "         22.8,  23.4,  24.1,  21.4,  20. ,  20.8,  21.2,  20.3,  28. ,\n",
       "         23.9,  24.8,  22.9,  23.9,  26.6,  22.5,  22.2,  23.6,  28.7,\n",
       "         22.6,  22. ,  22.9,  25. ,  20.6,  28.4,  21.4,  38.7,  43.8,\n",
       "         33.2,  27.5,  26.5,  18.6,  19.3,  20.1,  19.5,  19.5,  20.4,\n",
       "         19.8,  19.4,  21.7,  22.8,  18.8,  18.7,  18.5,  18.3,  21.2,\n",
       "         19.2,  20.4,  19.3,  22. ,  20.3,  20.5,  17.3,  18.8,  21.4,\n",
       "         15.7,  16.2,  18. ,  14.3,  19.2,  19.6,  23. ,  18.4,  15.6,\n",
       "         18.1,  17.4,  17.1,  13.3,  17.8,  14. ,  14.4,  13.4,  15.6,\n",
       "         11.8,  13.8,  15.6,  14.6,  17.8,  15.4,  21.5,  19.6,  15.3,\n",
       "         19.4,  17. ,  15.6,  13.1,  41.3,  24.3,  23.3,  27. ,  50. ,\n",
       "         50. ,  50. ,  22.7,  25. ,  50. ,  23.8,  23.8,  22.3,  17.4,\n",
       "         19.1,  23.1,  23.6,  22.6,  29.4,  23.2,  24.6,  29.9,  37.2,\n",
       "         39.8,  36.2,  37.9,  32.5,  26.4,  29.6,  50. ,  32. ,  29.8,\n",
       "         34.9,  37. ,  30.5,  36.4,  31.1,  29.1,  50. ,  33.3,  30.3,\n",
       "         34.6,  34.9,  32.9,  24.1,  42.3,  48.5,  50. ,  22.6,  24.4,\n",
       "         22.5,  24.4,  20. ,  21.7,  19.3,  22.4,  28.1,  23.7,  25. ,\n",
       "         23.3,  28.7,  21.5,  23. ,  26.7,  21.7,  27.5,  30.1,  44.8,\n",
       "         50. ,  37.6,  31.6,  46.7,  31.5,  24.3,  31.7,  41.7,  48.3,\n",
       "         29. ,  24. ,  25.1,  31.5,  23.7,  23.3,  22. ,  20.1,  22.2,\n",
       "         23.7,  17.6,  18.5,  24.3,  20.5,  24.5,  26.2,  24.4,  24.8,\n",
       "         29.6,  42.8,  21.9,  20.9,  44. ,  50. ,  36. ,  30.1,  33.8,\n",
       "         43.1,  48.8,  31. ,  36.5,  22.8,  30.7,  50. ,  43.5,  20.7,\n",
       "         21.1,  25.2,  24.4,  35.2,  32.4,  32. ,  33.2,  33.1,  29.1,\n",
       "         35.1,  45.4,  35.4,  46. ,  50. ,  32.2,  22. ,  20.1,  23.2,\n",
       "         22.3,  24.8,  28.5,  37.3,  27.9,  23.9,  21.7,  28.6,  27.1,\n",
       "         20.3,  22.5,  29. ,  24.8,  22. ,  26.4,  33.1,  36.1,  28.4,\n",
       "         33.4,  28.2,  22.8,  20.3,  16.1,  22.1,  19.4,  21.6,  23.8,\n",
       "         16.2,  17.8,  19.8,  23.1,  21. ,  23.8,  23.1,  20.4,  18.5,\n",
       "         25. ,  24.6,  23. ,  22.2,  19.3,  22.6,  19.8,  17.1,  19.4,\n",
       "         22.2,  20.7,  21.1,  19.5,  18.5,  20.6,  19. ,  18.7,  32.7,\n",
       "         16.5,  23.9,  31.2,  17.5,  17.2,  23.1,  24.5,  26.6,  22.9,\n",
       "         24.1,  18.6,  30.1,  18.2,  20.6,  17.8,  21.7,  22.7,  22.6,\n",
       "         25. ,  19.9,  20.8,  16.8,  21.9,  27.5,  21.9,  23.1,  50. ,\n",
       "         50. ,  50. ,  50. ,  50. ,  13.8,  13.8,  15. ,  13.9,  13.3,\n",
       "         13.1,  10.2,  10.4,  10.9,  11.3,  12.3,   8.8,   7.2,  10.5,\n",
       "          7.4,  10.2,  11.5,  15.1,  23.2,   9.7,  13.8,  12.7,  13.1,\n",
       "         12.5,   8.5,   5. ,   6.3,   5.6,   7.2,  12.1,   8.3,   8.5,\n",
       "          5. ,  11.9,  27.9,  17.2,  27.5,  15. ,  17.2,  17.9,  16.3,\n",
       "          7. ,   7.2,   7.5,  10.4,   8.8,   8.4,  16.7,  14.2,  20.8,\n",
       "         13.4,  11.7,   8.3,  10.2,  10.9,  11. ,   9.5,  14.5,  14.1,\n",
       "         16.1,  14.3,  11.7,  13.4,   9.6,   8.7,   8.4,  12.8,  10.5,\n",
       "         17.1,  18.4,  15.4,  10.8,  11.8,  14.9,  12.6,  14.1,  13. ,\n",
       "         13.4,  15.2,  16.1,  17.8,  14.9,  14.1,  12.7,  13.5,  14.9,\n",
       "         20. ,  16.4,  17.7,  19.5,  20.2,  21.4,  19.9,  19. ,  19.1,\n",
       "         19.1,  20.1,  19.9,  19.6,  23.2,  29.8,  13.8,  13.3,  16.7,\n",
       "         12. ,  14.6,  21.4,  23. ,  23.7,  25. ,  21.8,  20.6,  21.2,\n",
       "         19.1,  20.6,  15.2,   7. ,   8.1,  13.6,  20.1,  21.8,  24.5,\n",
       "         23.1,  19.7,  18.3,  21.2,  17.5,  16.8,  22.4,  20.6,  23.9,\n",
       "         22. ,  11.9])}"
      ]
     },
     "execution_count": 21,
     "metadata": {},
     "output_type": "execute_result"
    }
   ],
   "source": [
    "from sklearn.datasets import load_boston\n",
    "boston = load_boston()\n",
    "boston"
   ]
  },
  {
   "cell_type": "code",
   "execution_count": 22,
   "metadata": {},
   "outputs": [
    {
     "data": {
      "text/plain": [
       "(506, 13)"
      ]
     },
     "execution_count": 22,
     "metadata": {},
     "output_type": "execute_result"
    }
   ],
   "source": [
    "boston.data.shape"
   ]
  },
  {
   "cell_type": "code",
   "execution_count": 23,
   "metadata": {},
   "outputs": [],
   "source": [
    "X, y = mglearn.datasets.load_extended_boston()"
   ]
  },
  {
   "cell_type": "code",
   "execution_count": 24,
   "metadata": {
    "scrolled": true
   },
   "outputs": [
    {
     "data": {
      "text/plain": [
       "array([[  0.00000000e+00,   1.80000000e-01,   6.78152493e-02, ...,\n",
       "          1.00000000e+00,   8.96799117e-02,   8.04248656e-03],\n",
       "       [  2.35922539e-04,   0.00000000e+00,   2.42302053e-01, ...,\n",
       "          1.00000000e+00,   2.04470199e-01,   4.18080621e-02],\n",
       "       [  2.35697744e-04,   0.00000000e+00,   2.42302053e-01, ...,\n",
       "          9.79579831e-01,   6.28144504e-02,   4.02790570e-03],\n",
       "       ..., \n",
       "       [  6.11892474e-04,   0.00000000e+00,   4.20454545e-01, ...,\n",
       "          1.00000000e+00,   1.07891832e-01,   1.16406475e-02],\n",
       "       [  1.16072990e-03,   0.00000000e+00,   4.20454545e-01, ...,\n",
       "          9.82676920e-01,   1.29930407e-01,   1.71795127e-02],\n",
       "       [  4.61841693e-04,   0.00000000e+00,   4.20454545e-01, ...,\n",
       "          1.00000000e+00,   1.69701987e-01,   2.87987643e-02]])"
      ]
     },
     "execution_count": 24,
     "metadata": {},
     "output_type": "execute_result"
    }
   ],
   "source": [
    "X"
   ]
  },
  {
   "cell_type": "code",
   "execution_count": 25,
   "metadata": {
    "scrolled": true
   },
   "outputs": [
    {
     "data": {
      "text/plain": [
       "array([ 24. ,  21.6,  34.7,  33.4,  36.2,  28.7,  22.9,  27.1,  16.5,\n",
       "        18.9,  15. ,  18.9,  21.7,  20.4,  18.2,  19.9,  23.1,  17.5,\n",
       "        20.2,  18.2,  13.6,  19.6,  15.2,  14.5,  15.6,  13.9,  16.6,\n",
       "        14.8,  18.4,  21. ,  12.7,  14.5,  13.2,  13.1,  13.5,  18.9,\n",
       "        20. ,  21. ,  24.7,  30.8,  34.9,  26.6,  25.3,  24.7,  21.2,\n",
       "        19.3,  20. ,  16.6,  14.4,  19.4,  19.7,  20.5,  25. ,  23.4,\n",
       "        18.9,  35.4,  24.7,  31.6,  23.3,  19.6,  18.7,  16. ,  22.2,\n",
       "        25. ,  33. ,  23.5,  19.4,  22. ,  17.4,  20.9,  24.2,  21.7,\n",
       "        22.8,  23.4,  24.1,  21.4,  20. ,  20.8,  21.2,  20.3,  28. ,\n",
       "        23.9,  24.8,  22.9,  23.9,  26.6,  22.5,  22.2,  23.6,  28.7,\n",
       "        22.6,  22. ,  22.9,  25. ,  20.6,  28.4,  21.4,  38.7,  43.8,\n",
       "        33.2,  27.5,  26.5,  18.6,  19.3,  20.1,  19.5,  19.5,  20.4,\n",
       "        19.8,  19.4,  21.7,  22.8,  18.8,  18.7,  18.5,  18.3,  21.2,\n",
       "        19.2,  20.4,  19.3,  22. ,  20.3,  20.5,  17.3,  18.8,  21.4,\n",
       "        15.7,  16.2,  18. ,  14.3,  19.2,  19.6,  23. ,  18.4,  15.6,\n",
       "        18.1,  17.4,  17.1,  13.3,  17.8,  14. ,  14.4,  13.4,  15.6,\n",
       "        11.8,  13.8,  15.6,  14.6,  17.8,  15.4,  21.5,  19.6,  15.3,\n",
       "        19.4,  17. ,  15.6,  13.1,  41.3,  24.3,  23.3,  27. ,  50. ,\n",
       "        50. ,  50. ,  22.7,  25. ,  50. ,  23.8,  23.8,  22.3,  17.4,\n",
       "        19.1,  23.1,  23.6,  22.6,  29.4,  23.2,  24.6,  29.9,  37.2,\n",
       "        39.8,  36.2,  37.9,  32.5,  26.4,  29.6,  50. ,  32. ,  29.8,\n",
       "        34.9,  37. ,  30.5,  36.4,  31.1,  29.1,  50. ,  33.3,  30.3,\n",
       "        34.6,  34.9,  32.9,  24.1,  42.3,  48.5,  50. ,  22.6,  24.4,\n",
       "        22.5,  24.4,  20. ,  21.7,  19.3,  22.4,  28.1,  23.7,  25. ,\n",
       "        23.3,  28.7,  21.5,  23. ,  26.7,  21.7,  27.5,  30.1,  44.8,\n",
       "        50. ,  37.6,  31.6,  46.7,  31.5,  24.3,  31.7,  41.7,  48.3,\n",
       "        29. ,  24. ,  25.1,  31.5,  23.7,  23.3,  22. ,  20.1,  22.2,\n",
       "        23.7,  17.6,  18.5,  24.3,  20.5,  24.5,  26.2,  24.4,  24.8,\n",
       "        29.6,  42.8,  21.9,  20.9,  44. ,  50. ,  36. ,  30.1,  33.8,\n",
       "        43.1,  48.8,  31. ,  36.5,  22.8,  30.7,  50. ,  43.5,  20.7,\n",
       "        21.1,  25.2,  24.4,  35.2,  32.4,  32. ,  33.2,  33.1,  29.1,\n",
       "        35.1,  45.4,  35.4,  46. ,  50. ,  32.2,  22. ,  20.1,  23.2,\n",
       "        22.3,  24.8,  28.5,  37.3,  27.9,  23.9,  21.7,  28.6,  27.1,\n",
       "        20.3,  22.5,  29. ,  24.8,  22. ,  26.4,  33.1,  36.1,  28.4,\n",
       "        33.4,  28.2,  22.8,  20.3,  16.1,  22.1,  19.4,  21.6,  23.8,\n",
       "        16.2,  17.8,  19.8,  23.1,  21. ,  23.8,  23.1,  20.4,  18.5,\n",
       "        25. ,  24.6,  23. ,  22.2,  19.3,  22.6,  19.8,  17.1,  19.4,\n",
       "        22.2,  20.7,  21.1,  19.5,  18.5,  20.6,  19. ,  18.7,  32.7,\n",
       "        16.5,  23.9,  31.2,  17.5,  17.2,  23.1,  24.5,  26.6,  22.9,\n",
       "        24.1,  18.6,  30.1,  18.2,  20.6,  17.8,  21.7,  22.7,  22.6,\n",
       "        25. ,  19.9,  20.8,  16.8,  21.9,  27.5,  21.9,  23.1,  50. ,\n",
       "        50. ,  50. ,  50. ,  50. ,  13.8,  13.8,  15. ,  13.9,  13.3,\n",
       "        13.1,  10.2,  10.4,  10.9,  11.3,  12.3,   8.8,   7.2,  10.5,\n",
       "         7.4,  10.2,  11.5,  15.1,  23.2,   9.7,  13.8,  12.7,  13.1,\n",
       "        12.5,   8.5,   5. ,   6.3,   5.6,   7.2,  12.1,   8.3,   8.5,\n",
       "         5. ,  11.9,  27.9,  17.2,  27.5,  15. ,  17.2,  17.9,  16.3,\n",
       "         7. ,   7.2,   7.5,  10.4,   8.8,   8.4,  16.7,  14.2,  20.8,\n",
       "        13.4,  11.7,   8.3,  10.2,  10.9,  11. ,   9.5,  14.5,  14.1,\n",
       "        16.1,  14.3,  11.7,  13.4,   9.6,   8.7,   8.4,  12.8,  10.5,\n",
       "        17.1,  18.4,  15.4,  10.8,  11.8,  14.9,  12.6,  14.1,  13. ,\n",
       "        13.4,  15.2,  16.1,  17.8,  14.9,  14.1,  12.7,  13.5,  14.9,\n",
       "        20. ,  16.4,  17.7,  19.5,  20.2,  21.4,  19.9,  19. ,  19.1,\n",
       "        19.1,  20.1,  19.9,  19.6,  23.2,  29.8,  13.8,  13.3,  16.7,\n",
       "        12. ,  14.6,  21.4,  23. ,  23.7,  25. ,  21.8,  20.6,  21.2,\n",
       "        19.1,  20.6,  15.2,   7. ,   8.1,  13.6,  20.1,  21.8,  24.5,\n",
       "        23.1,  19.7,  18.3,  21.2,  17.5,  16.8,  22.4,  20.6,  23.9,\n",
       "        22. ,  11.9])"
      ]
     },
     "execution_count": 25,
     "metadata": {},
     "output_type": "execute_result"
    }
   ],
   "source": [
    "y"
   ]
  },
  {
   "cell_type": "code",
   "execution_count": 26,
   "metadata": {},
   "outputs": [
    {
     "data": {
      "text/plain": [
       "(506, 104)"
      ]
     },
     "execution_count": 26,
     "metadata": {},
     "output_type": "execute_result"
    }
   ],
   "source": [
    "X.shape"
   ]
  },
  {
   "cell_type": "code",
   "execution_count": 28,
   "metadata": {},
   "outputs": [
    {
     "name": "stderr",
     "output_type": "stream",
     "text": [
      "C:\\Users\\Enzo.kuang\\Anaconda3\\lib\\site-packages\\sklearn\\utils\\deprecation.py:75: DeprecationWarning: Function make_blobs is deprecated; Please import make_blobs directly from scikit-learn\n",
      "  warnings.warn(msg, category=DeprecationWarning)\n"
     ]
    },
    {
     "data": {
      "image/png": "[encoded data removed]",
      "text/plain": [
       "<matplotlib.figure.Figure at 0x1cf6d7add68>"
      ]
     },
     "metadata": {
      "needs_background": "light"
     },
     "output_type": "display_data"
    }
   ],
   "source": [
    "mglearn.plots.plot_knn_classification(n_neighbors=1)"
   ]
  },
  {
   "cell_type": "code",
   "execution_count": 29,
   "metadata": {},
   "outputs": [
    {
     "name": "stderr",
     "output_type": "stream",
     "text": [
      "C:\\Users\\Enzo.kuang\\Anaconda3\\lib\\site-packages\\sklearn\\utils\\deprecation.py:75: DeprecationWarning: Function make_blobs is deprecated; Please import make_blobs directly from scikit-learn\n",
      "  warnings.warn(msg, category=DeprecationWarning)\n"
     ]
    },
    {
     "data": {
      "image/png": "[encoded data removed]",
      "text/plain": [
       "<matplotlib.figure.Figure at 0x1cf6e8a89e8>"
      ]
     },
     "metadata": {
      "needs_background": "light"
     },
     "output_type": "display_data"
    }
   ],
   "source": [
    "mglearn.plots.plot_knn_classification(n_neighbors=3)"
   ]
  },
  {
   "cell_type": "code",
   "execution_count": 31,
   "metadata": {},
   "outputs": [
    {
     "name": "stderr",
     "output_type": "stream",
     "text": [
      "C:\\Users\\Enzo.kuang\\Anaconda3\\lib\\site-packages\\sklearn\\utils\\deprecation.py:75: DeprecationWarning: Function make_blobs is deprecated; Please import make_blobs directly from scikit-learn\n",
      "  warnings.warn(msg, category=DeprecationWarning)\n"
     ]
    }
   ],
   "source": [
    "from sklearn.model_selection import train_test_split\n",
    "X, y = mglearn.datasets.make_forge()\n",
    "X_train, X_test, y_train, y_test = train_test_split(X, y, random_state=0)"
   ]
  },
  {
   "cell_type": "code",
   "execution_count": 32,
   "metadata": {},
   "outputs": [],
   "source": [
    "from sklearn.neighbors import KNeighborsClassifier\n",
    "clf = KNeighborsClassifier(n_neighbors=3)"
   ]
  },
  {
   "cell_type": "code",
   "execution_count": 33,
   "metadata": {},
   "outputs": [
    {
     "data": {
      "text/plain": [
       "KNeighborsClassifier(algorithm='auto', leaf_size=30, metric='minkowski',\n",
       "           metric_params=None, n_jobs=1, n_neighbors=3, p=2,\n",
       "           weights='uniform')"
      ]
     },
     "execution_count": 33,
     "metadata": {},
     "output_type": "execute_result"
    }
   ],
   "source": [
    "clf.fit(X_train, y_train)"
   ]
  },
  {
   "cell_type": "code",
   "execution_count": 34,
   "metadata": {},
   "outputs": [
    {
     "data": {
      "text/plain": [
       "array([1, 0, 1, 0, 1, 0, 0])"
      ]
     },
     "execution_count": 34,
     "metadata": {},
     "output_type": "execute_result"
    }
   ],
   "source": [
    "clf.predict(X_test)"
   ]
  },
  {
   "cell_type": "code",
   "execution_count": 35,
   "metadata": {},
   "outputs": [
    {
     "data": {
      "text/plain": [
       "0.8571428571428571"
      ]
     },
     "execution_count": 35,
     "metadata": {},
     "output_type": "execute_result"
    }
   ],
   "source": [
    "clf.score(X_test, y_test)"
   ]
  },
  {
   "cell_type": "code",
   "execution_count": 36,
   "metadata": {},
   "outputs": [
    {
     "data": {
      "image/png": "[encoded data removed]",
      "text/plain": [
       "<matplotlib.figure.Figure at 0x1cf6e961748>"
      ]
     },
     "metadata": {
      "needs_background": "light"
     },
     "output_type": "display_data"
    }
   ],
   "source": [
    "fig, axes = plt.subplots(1, 3, figsize=(10, 3))"
   ]
  },
  {
   "cell_type": "code",
   "execution_count": 39,
   "metadata": {},
   "outputs": [
    {
     "data": {
      "text/plain": [
       "<matplotlib.legend.Legend at 0x1cf6e95a7f0>"
      ]
     },
     "execution_count": 39,
     "metadata": {},
     "output_type": "execute_result"
    }
   ],
   "source": [
    "for n_neighbors, ax in zip([1, 3, 9], axes):\n",
    "    # fit方法返回对象本身，所以我们可以将实例化和拟合放在一行代码中\n",
    "    clf = KNeighborsClassifier(n_neighbors=n_neighbors).fit(X, y)\n",
    "    mglearn.plots.plot_2d_separator(clf, X, fill=True, eps=0.5, ax=ax, alpha=.4)\n",
    "    mglearn.discrete_scatter(X[:, 0], X[:, 1], y, ax=ax)\n",
    "    ax.set_title(\"{} neighbor(s)\".format(n_neighbors))\n",
    "    ax.set_xlabel(\"feature 0\")\n",
    "    ax.set_ylabel(\"feature 1\")\n",
    "axes[0].legend(loc=3)"
   ]
  },
  {
   "cell_type": "code",
   "execution_count": 63,
   "metadata": {},
   "outputs": [],
   "source": [
    "from sklearn.datasets import load_breast_cancer\n",
    "cancer = load_breast_cancer()\n",
    "X_train, X_test, y_train, y_test = train_test_split(cancer.data, cancer.target, stratify=cancer.target, random_state=66)"
   ]
  },
  {
   "cell_type": "code",
   "execution_count": 64,
   "metadata": {},
   "outputs": [],
   "source": [
    "training_accuracy = []\n",
    "test_accuracy = []"
   ]
  },
  {
   "cell_type": "code",
   "execution_count": 65,
   "metadata": {},
   "outputs": [],
   "source": [
    "# n_neighbors取值从1到10\n",
    "neighbors_settings = range(1, 11)"
   ]
  },
  {
   "cell_type": "code",
   "execution_count": 66,
   "metadata": {},
   "outputs": [],
   "source": [
    "for n_neighbors in neighbors_settings:\n",
    "    # 构建模型\n",
    "    clf = KNeighborsClassifier(n_neighbors=n_neighbors)\n",
    "    clf.fit(X_train, y_train)\n",
    "    # 记录训练集精度\n",
    "    training_accuracy.append(clf.score(X_train, y_train))\n",
    "    # 记录泛化精度\n",
    "    test_accuracy.append(clf.score(X_test, y_test))"
   ]
  },
  {
   "cell_type": "code",
   "execution_count": 67,
   "metadata": {},
   "outputs": [
    {
     "data": {
      "text/plain": [
       "range(1, 11)"
      ]
     },
     "execution_count": 67,
     "metadata": {},
     "output_type": "execute_result"
    }
   ],
   "source": [
    "neighbors_settings"
   ]
  },
  {
   "cell_type": "code",
   "execution_count": 68,
   "metadata": {
    "scrolled": true
   },
   "outputs": [
    {
     "data": {
      "text/plain": [
       "[1.0,\n",
       " 0.97652582159624413,\n",
       " 0.95774647887323938,\n",
       " 0.95539906103286387,\n",
       " 0.94835680751173712,\n",
       " 0.9460093896713615,\n",
       " 0.94366197183098588,\n",
       " 0.94131455399061037,\n",
       " 0.93427230046948362,\n",
       " 0.93896713615023475]"
      ]
     },
     "execution_count": 68,
     "metadata": {},
     "output_type": "execute_result"
    }
   ],
   "source": [
    "training_accuracy"
   ]
  },
  {
   "cell_type": "code",
   "execution_count": 70,
   "metadata": {},
   "outputs": [
    {
     "data": {
      "text/plain": [
       "[0.90209790209790208,\n",
       " 0.88811188811188813,\n",
       " 0.92307692307692313,\n",
       " 0.92307692307692313,\n",
       " 0.92307692307692313,\n",
       " 0.93706293706293708,\n",
       " 0.93006993006993011,\n",
       " 0.93006993006993011,\n",
       " 0.91608391608391604,\n",
       " 0.91608391608391604]"
      ]
     },
     "execution_count": 70,
     "metadata": {},
     "output_type": "execute_result"
    }
   ],
   "source": [
    "test_accuracy"
   ]
  },
  {
   "cell_type": "code",
   "execution_count": 69,
   "metadata": {},
   "outputs": [
    {
     "data": {
      "text/plain": [
       "<matplotlib.legend.Legend at 0x1cf00157f28>"
      ]
     },
     "execution_count": 69,
     "metadata": {},
     "output_type": "execute_result"
    },
    {
     "data": {
      "image/png": "[encoded data removed]",
      "text/plain": [
       "<matplotlib.figure.Figure at 0x1cf6e9237f0>"
      ]
     },
     "metadata": {
      "needs_background": "light"
     },
     "output_type": "display_data"
    }
   ],
   "source": [
    "plt.plot(neighbors_settings, training_accuracy, label='training accuracy')\n",
    "plt.plot(neighbors_settings, test_accuracy, label='test accuracy')\n",
    "plt.ylabel('Accuracy')\n",
    "plt.xlabel('n_neighbors')\n",
    "plt.legend()"
   ]
  },
  {
   "cell_type": "code",
   "execution_count": 72,
   "metadata": {},
   "outputs": [
    {
     "data": {
      "image/png": "[encoded data removed]",
      "text/plain": [
       "<matplotlib.figure.Figure at 0x1cf00168dd8>"
      ]
     },
     "metadata": {
      "needs_background": "light"
     },
     "output_type": "display_data"
    }
   ],
   "source": [
    "mglearn.plots.plot_knn_regression(n_neighbors=1)"
   ]
  },
  {
   "cell_type": "code",
   "execution_count": 73,
   "metadata": {},
   "outputs": [
    {
     "data": {
      "image/png": "[encoded data removed]",
      "text/plain": [
       "<matplotlib.figure.Figure at 0x1cf00175d30>"
      ]
     },
     "metadata": {
      "needs_background": "light"
     },
     "output_type": "display_data"
    }
   ],
   "source": [
    "mglearn.plots.plot_knn_regression(n_neighbors=3)"
   ]
  },
  {
   "cell_type": "code",
   "execution_count": 74,
   "metadata": {
    "scrolled": true
   },
   "outputs": [
    {
     "data": {
      "text/plain": [
       "array([[-0.75275929],\n",
       "       [ 2.70428584],\n",
       "       [ 1.39196365],\n",
       "       [ 0.59195091],\n",
       "       [-2.06388816],\n",
       "       [-2.06403288],\n",
       "       [-2.65149833],\n",
       "       [ 2.19705687],\n",
       "       [ 0.60669007],\n",
       "       [ 1.24843547],\n",
       "       [-2.87649303],\n",
       "       [ 2.81945911],\n",
       "       [ 1.99465584],\n",
       "       [-1.72596534],\n",
       "       [-1.9090502 ],\n",
       "       [-1.89957294],\n",
       "       [-1.17454654],\n",
       "       [ 0.14853859],\n",
       "       [-0.40832989],\n",
       "       [-1.25262516],\n",
       "       [ 0.67111737],\n",
       "       [-2.16303684],\n",
       "       [-1.24713211],\n",
       "       [-0.80182894],\n",
       "       [-0.26358009],\n",
       "       [ 1.71105577],\n",
       "       [-1.80195731],\n",
       "       [ 0.08540663],\n",
       "       [ 0.55448741],\n",
       "       [-2.72129752],\n",
       "       [ 0.64526911],\n",
       "       [-1.97685526],\n",
       "       [-2.60969044],\n",
       "       [ 2.69331322],\n",
       "       [ 2.7937922 ],\n",
       "       [ 1.85038409],\n",
       "       [-1.17231738],\n",
       "       [-2.41396732],\n",
       "       [ 1.10539816],\n",
       "       [-0.35908504]])"
      ]
     },
     "execution_count": 74,
     "metadata": {},
     "output_type": "execute_result"
    }
   ],
   "source": [
    "from sklearn.neighbors import KNeighborsRegressor\n",
    "X, y = mglearn.datasets.make_wave(n_samples=40)\n",
    "X"
   ]
  },
  {
   "cell_type": "code",
   "execution_count": 75,
   "metadata": {},
   "outputs": [
    {
     "data": {
      "text/plain": [
       "(40, 1)"
      ]
     },
     "execution_count": 75,
     "metadata": {},
     "output_type": "execute_result"
    }
   ],
   "source": [
    "X.shape"
   ]
  },
  {
   "cell_type": "code",
   "execution_count": 76,
   "metadata": {},
   "outputs": [
    {
     "data": {
      "text/plain": [
       "array([-0.44822073,  0.33122576,  0.77932073,  0.03497884, -1.38773632,\n",
       "       -2.47196233, -1.52730805,  1.49417157,  1.00032374,  0.22956153,\n",
       "       -1.05979555,  0.7789638 ,  0.75418806, -1.51369739, -1.67303415,\n",
       "       -0.90496988,  0.08448544, -0.52734666, -0.54114599, -0.3409073 ,\n",
       "        0.21778193, -1.12469096,  0.37299129,  0.09756349, -0.98618122,\n",
       "        0.96695428, -1.13455014,  0.69798591,  0.43655826, -0.95652133,\n",
       "        0.03527881, -2.08581717, -0.47411033,  1.53708251,  0.86893293,\n",
       "        1.87664889,  0.0945257 , -1.41502356,  0.25438895,  0.09398858])"
      ]
     },
     "execution_count": 76,
     "metadata": {},
     "output_type": "execute_result"
    }
   ],
   "source": [
    "y"
   ]
  },
  {
   "cell_type": "code",
   "execution_count": 77,
   "metadata": {},
   "outputs": [],
   "source": [
    "# 将wave数据集分为训练集和测试集\n",
    "X_train, X_test, y_train, y_test = train_test_split(X, y, random_state=0)"
   ]
  },
  {
   "cell_type": "code",
   "execution_count": 78,
   "metadata": {},
   "outputs": [
    {
     "data": {
      "text/plain": [
       "KNeighborsRegressor(algorithm='auto', leaf_size=30, metric='minkowski',\n",
       "          metric_params=None, n_jobs=1, n_neighbors=3, p=2,\n",
       "          weights='uniform')"
      ]
     },
     "execution_count": 78,
     "metadata": {},
     "output_type": "execute_result"
    }
   ],
   "source": [
    "# 模型实例化，并将邻居个数设为3\n",
    "reg = KNeighborsRegressor(n_neighbors=3)\n",
    "# 利用训练数据和训练目标值来拟合模型\n",
    "reg.fit(X_train, y_train)"
   ]
  },
  {
   "cell_type": "code",
   "execution_count": 79,
   "metadata": {},
   "outputs": [
    {
     "data": {
      "text/plain": [
       "array([-0.05396539,  0.35686046,  1.13671923, -1.89415682, -1.13881398,\n",
       "       -1.63113382,  0.35686046,  0.91241374, -0.44680446, -1.13881398])"
      ]
     },
     "execution_count": 79,
     "metadata": {},
     "output_type": "execute_result"
    }
   ],
   "source": [
    "reg.predict(X_test)"
   ]
  },
  {
   "cell_type": "code",
   "execution_count": 80,
   "metadata": {},
   "outputs": [
    {
     "data": {
      "text/plain": [
       "0.83441724462496036"
      ]
     },
     "execution_count": 80,
     "metadata": {},
     "output_type": "execute_result"
    }
   ],
   "source": [
    "reg.score(X_test, y_test)"
   ]
  },
  {
   "cell_type": "code",
   "execution_count": 84,
   "metadata": {
    "scrolled": true
   },
   "outputs": [
    {
     "data": {
      "text/plain": [
       "array([[-3.        ],\n",
       "       [-2.99399399],\n",
       "       [-2.98798799],\n",
       "       [-2.98198198],\n",
       "       [-2.97597598],\n",
       "       [-2.96996997],\n",
       "       [-2.96396396],\n",
       "       [-2.95795796],\n",
       "       [-2.95195195],\n",
       "       [-2.94594595],\n",
       "       [-2.93993994],\n",
       "       [-2.93393393],\n",
       "       [-2.92792793],\n",
       "       [-2.92192192],\n",
       "       [-2.91591592],\n",
       "       [-2.90990991],\n",
       "       [-2.9039039 ],\n",
       "       [-2.8978979 ],\n",
       "       [-2.89189189],\n",
       "       [-2.88588589],\n",
       "       [-2.87987988],\n",
       "       [-2.87387387],\n",
       "       [-2.86786787],\n",
       "       [-2.86186186],\n",
       "       [-2.85585586],\n",
       "       [-2.84984985],\n",
       "       [-2.84384384],\n",
       "       [-2.83783784],\n",
       "       [-2.83183183],\n",
       "       [-2.82582583],\n",
       "       [-2.81981982],\n",
       "       [-2.81381381],\n",
       "       [-2.80780781],\n",
       "       [-2.8018018 ],\n",
       "       [-2.7957958 ],\n",
       "       [-2.78978979],\n",
       "       [-2.78378378],\n",
       "       [-2.77777778],\n",
       "       [-2.77177177],\n",
       "       [-2.76576577],\n",
       "       [-2.75975976],\n",
       "       [-2.75375375],\n",
       "       [-2.74774775],\n",
       "       [-2.74174174],\n",
       "       [-2.73573574],\n",
       "       [-2.72972973],\n",
       "       [-2.72372372],\n",
       "       [-2.71771772],\n",
       "       [-2.71171171],\n",
       "       [-2.70570571],\n",
       "       [-2.6996997 ],\n",
       "       [-2.69369369],\n",
       "       [-2.68768769],\n",
       "       [-2.68168168],\n",
       "       [-2.67567568],\n",
       "       [-2.66966967],\n",
       "       [-2.66366366],\n",
       "       [-2.65765766],\n",
       "       [-2.65165165],\n",
       "       [-2.64564565],\n",
       "       [-2.63963964],\n",
       "       [-2.63363363],\n",
       "       [-2.62762763],\n",
       "       [-2.62162162],\n",
       "       [-2.61561562],\n",
       "       [-2.60960961],\n",
       "       [-2.6036036 ],\n",
       "       [-2.5975976 ],\n",
       "       [-2.59159159],\n",
       "       [-2.58558559],\n",
       "       [-2.57957958],\n",
       "       [-2.57357357],\n",
       "       [-2.56756757],\n",
       "       [-2.56156156],\n",
       "       [-2.55555556],\n",
       "       [-2.54954955],\n",
       "       [-2.54354354],\n",
       "       [-2.53753754],\n",
       "       [-2.53153153],\n",
       "       [-2.52552553],\n",
       "       [-2.51951952],\n",
       "       [-2.51351351],\n",
       "       [-2.50750751],\n",
       "       [-2.5015015 ],\n",
       "       [-2.4954955 ],\n",
       "       [-2.48948949],\n",
       "       [-2.48348348],\n",
       "       [-2.47747748],\n",
       "       [-2.47147147],\n",
       "       [-2.46546547],\n",
       "       [-2.45945946],\n",
       "       [-2.45345345],\n",
       "       [-2.44744745],\n",
       "       [-2.44144144],\n",
       "       [-2.43543544],\n",
       "       [-2.42942943],\n",
       "       [-2.42342342],\n",
       "       [-2.41741742],\n",
       "       [-2.41141141],\n",
       "       [-2.40540541],\n",
       "       [-2.3993994 ],\n",
       "       [-2.39339339],\n",
       "       [-2.38738739],\n",
       "       [-2.38138138],\n",
       "       [-2.37537538],\n",
       "       [-2.36936937],\n",
       "       [-2.36336336],\n",
       "       [-2.35735736],\n",
       "       [-2.35135135],\n",
       "       [-2.34534535],\n",
       "       [-2.33933934],\n",
       "       [-2.33333333],\n",
       "       [-2.32732733],\n",
       "       [-2.32132132],\n",
       "       [-2.31531532],\n",
       "       [-2.30930931],\n",
       "       [-2.3033033 ],\n",
       "       [-2.2972973 ],\n",
       "       [-2.29129129],\n",
       "       [-2.28528529],\n",
       "       [-2.27927928],\n",
       "       [-2.27327327],\n",
       "       [-2.26726727],\n",
       "       [-2.26126126],\n",
       "       [-2.25525526],\n",
       "       [-2.24924925],\n",
       "       [-2.24324324],\n",
       "       [-2.23723724],\n",
       "       [-2.23123123],\n",
       "       [-2.22522523],\n",
       "       [-2.21921922],\n",
       "       [-2.21321321],\n",
       "       [-2.20720721],\n",
       "       [-2.2012012 ],\n",
       "       [-2.1951952 ],\n",
       "       [-2.18918919],\n",
       "       [-2.18318318],\n",
       "       [-2.17717718],\n",
       "       [-2.17117117],\n",
       "       [-2.16516517],\n",
       "       [-2.15915916],\n",
       "       [-2.15315315],\n",
       "       [-2.14714715],\n",
       "       [-2.14114114],\n",
       "       [-2.13513514],\n",
       "       [-2.12912913],\n",
       "       [-2.12312312],\n",
       "       [-2.11711712],\n",
       "       [-2.11111111],\n",
       "       [-2.10510511],\n",
       "       [-2.0990991 ],\n",
       "       [-2.09309309],\n",
       "       [-2.08708709],\n",
       "       [-2.08108108],\n",
       "       [-2.07507508],\n",
       "       [-2.06906907],\n",
       "       [-2.06306306],\n",
       "       [-2.05705706],\n",
       "       [-2.05105105],\n",
       "       [-2.04504505],\n",
       "       [-2.03903904],\n",
       "       [-2.03303303],\n",
       "       [-2.02702703],\n",
       "       [-2.02102102],\n",
       "       [-2.01501502],\n",
       "       [-2.00900901],\n",
       "       [-2.003003  ],\n",
       "       [-1.996997  ],\n",
       "       [-1.99099099],\n",
       "       [-1.98498498],\n",
       "       [-1.97897898],\n",
       "       [-1.97297297],\n",
       "       [-1.96696697],\n",
       "       [-1.96096096],\n",
       "       [-1.95495495],\n",
       "       [-1.94894895],\n",
       "       [-1.94294294],\n",
       "       [-1.93693694],\n",
       "       [-1.93093093],\n",
       "       [-1.92492492],\n",
       "       [-1.91891892],\n",
       "       [-1.91291291],\n",
       "       [-1.90690691],\n",
       "       [-1.9009009 ],\n",
       "       [-1.89489489],\n",
       "       [-1.88888889],\n",
       "       [-1.88288288],\n",
       "       [-1.87687688],\n",
       "       [-1.87087087],\n",
       "       [-1.86486486],\n",
       "       [-1.85885886],\n",
       "       [-1.85285285],\n",
       "       [-1.84684685],\n",
       "       [-1.84084084],\n",
       "       [-1.83483483],\n",
       "       [-1.82882883],\n",
       "       [-1.82282282],\n",
       "       [-1.81681682],\n",
       "       [-1.81081081],\n",
       "       [-1.8048048 ],\n",
       "       [-1.7987988 ],\n",
       "       [-1.79279279],\n",
       "       [-1.78678679],\n",
       "       [-1.78078078],\n",
       "       [-1.77477477],\n",
       "       [-1.76876877],\n",
       "       [-1.76276276],\n",
       "       [-1.75675676],\n",
       "       [-1.75075075],\n",
       "       [-1.74474474],\n",
       "       [-1.73873874],\n",
       "       [-1.73273273],\n",
       "       [-1.72672673],\n",
       "       [-1.72072072],\n",
       "       [-1.71471471],\n",
       "       [-1.70870871],\n",
       "       [-1.7027027 ],\n",
       "       [-1.6966967 ],\n",
       "       [-1.69069069],\n",
       "       [-1.68468468],\n",
       "       [-1.67867868],\n",
       "       [-1.67267267],\n",
       "       [-1.66666667],\n",
       "       [-1.66066066],\n",
       "       [-1.65465465],\n",
       "       [-1.64864865],\n",
       "       [-1.64264264],\n",
       "       [-1.63663664],\n",
       "       [-1.63063063],\n",
       "       [-1.62462462],\n",
       "       [-1.61861862],\n",
       "       [-1.61261261],\n",
       "       [-1.60660661],\n",
       "       [-1.6006006 ],\n",
       "       [-1.59459459],\n",
       "       [-1.58858859],\n",
       "       [-1.58258258],\n",
       "       [-1.57657658],\n",
       "       [-1.57057057],\n",
       "       [-1.56456456],\n",
       "       [-1.55855856],\n",
       "       [-1.55255255],\n",
       "       [-1.54654655],\n",
       "       [-1.54054054],\n",
       "       [-1.53453453],\n",
       "       [-1.52852853],\n",
       "       [-1.52252252],\n",
       "       [-1.51651652],\n",
       "       [-1.51051051],\n",
       "       [-1.5045045 ],\n",
       "       [-1.4984985 ],\n",
       "       [-1.49249249],\n",
       "       [-1.48648649],\n",
       "       [-1.48048048],\n",
       "       [-1.47447447],\n",
       "       [-1.46846847],\n",
       "       [-1.46246246],\n",
       "       [-1.45645646],\n",
       "       [-1.45045045],\n",
       "       [-1.44444444],\n",
       "       [-1.43843844],\n",
       "       [-1.43243243],\n",
       "       [-1.42642643],\n",
       "       [-1.42042042],\n",
       "       [-1.41441441],\n",
       "       [-1.40840841],\n",
       "       [-1.4024024 ],\n",
       "       [-1.3963964 ],\n",
       "       [-1.39039039],\n",
       "       [-1.38438438],\n",
       "       [-1.37837838],\n",
       "       [-1.37237237],\n",
       "       [-1.36636637],\n",
       "       [-1.36036036],\n",
       "       [-1.35435435],\n",
       "       [-1.34834835],\n",
       "       [-1.34234234],\n",
       "       [-1.33633634],\n",
       "       [-1.33033033],\n",
       "       [-1.32432432],\n",
       "       [-1.31831832],\n",
       "       [-1.31231231],\n",
       "       [-1.30630631],\n",
       "       [-1.3003003 ],\n",
       "       [-1.29429429],\n",
       "       [-1.28828829],\n",
       "       [-1.28228228],\n",
       "       [-1.27627628],\n",
       "       [-1.27027027],\n",
       "       [-1.26426426],\n",
       "       [-1.25825826],\n",
       "       [-1.25225225],\n",
       "       [-1.24624625],\n",
       "       [-1.24024024],\n",
       "       [-1.23423423],\n",
       "       [-1.22822823],\n",
       "       [-1.22222222],\n",
       "       [-1.21621622],\n",
       "       [-1.21021021],\n",
       "       [-1.2042042 ],\n",
       "       [-1.1981982 ],\n",
       "       [-1.19219219],\n",
       "       [-1.18618619],\n",
       "       [-1.18018018],\n",
       "       [-1.17417417],\n",
       "       [-1.16816817],\n",
       "       [-1.16216216],\n",
       "       [-1.15615616],\n",
       "       [-1.15015015],\n",
       "       [-1.14414414],\n",
       "       [-1.13813814],\n",
       "       [-1.13213213],\n",
       "       [-1.12612613],\n",
       "       [-1.12012012],\n",
       "       [-1.11411411],\n",
       "       [-1.10810811],\n",
       "       [-1.1021021 ],\n",
       "       [-1.0960961 ],\n",
       "       [-1.09009009],\n",
       "       [-1.08408408],\n",
       "       [-1.07807808],\n",
       "       [-1.07207207],\n",
       "       [-1.06606607],\n",
       "       [-1.06006006],\n",
       "       [-1.05405405],\n",
       "       [-1.04804805],\n",
       "       [-1.04204204],\n",
       "       [-1.03603604],\n",
       "       [-1.03003003],\n",
       "       [-1.02402402],\n",
       "       [-1.01801802],\n",
       "       [-1.01201201],\n",
       "       [-1.00600601],\n",
       "       [-1.        ],\n",
       "       [-0.99399399],\n",
       "       [-0.98798799],\n",
       "       [-0.98198198],\n",
       "       [-0.97597598],\n",
       "       [-0.96996997],\n",
       "       [-0.96396396],\n",
       "       [-0.95795796],\n",
       "       [-0.95195195],\n",
       "       [-0.94594595],\n",
       "       [-0.93993994],\n",
       "       [-0.93393393],\n",
       "       [-0.92792793],\n",
       "       [-0.92192192],\n",
       "       [-0.91591592],\n",
       "       [-0.90990991],\n",
       "       [-0.9039039 ],\n",
       "       [-0.8978979 ],\n",
       "       [-0.89189189],\n",
       "       [-0.88588589],\n",
       "       [-0.87987988],\n",
       "       [-0.87387387],\n",
       "       [-0.86786787],\n",
       "       [-0.86186186],\n",
       "       [-0.85585586],\n",
       "       [-0.84984985],\n",
       "       [-0.84384384],\n",
       "       [-0.83783784],\n",
       "       [-0.83183183],\n",
       "       [-0.82582583],\n",
       "       [-0.81981982],\n",
       "       [-0.81381381],\n",
       "       [-0.80780781],\n",
       "       [-0.8018018 ],\n",
       "       [-0.7957958 ],\n",
       "       [-0.78978979],\n",
       "       [-0.78378378],\n",
       "       [-0.77777778],\n",
       "       [-0.77177177],\n",
       "       [-0.76576577],\n",
       "       [-0.75975976],\n",
       "       [-0.75375375],\n",
       "       [-0.74774775],\n",
       "       [-0.74174174],\n",
       "       [-0.73573574],\n",
       "       [-0.72972973],\n",
       "       [-0.72372372],\n",
       "       [-0.71771772],\n",
       "       [-0.71171171],\n",
       "       [-0.70570571],\n",
       "       [-0.6996997 ],\n",
       "       [-0.69369369],\n",
       "       [-0.68768769],\n",
       "       [-0.68168168],\n",
       "       [-0.67567568],\n",
       "       [-0.66966967],\n",
       "       [-0.66366366],\n",
       "       [-0.65765766],\n",
       "       [-0.65165165],\n",
       "       [-0.64564565],\n",
       "       [-0.63963964],\n",
       "       [-0.63363363],\n",
       "       [-0.62762763],\n",
       "       [-0.62162162],\n",
       "       [-0.61561562],\n",
       "       [-0.60960961],\n",
       "       [-0.6036036 ],\n",
       "       [-0.5975976 ],\n",
       "       [-0.59159159],\n",
       "       [-0.58558559],\n",
       "       [-0.57957958],\n",
       "       [-0.57357357],\n",
       "       [-0.56756757],\n",
       "       [-0.56156156],\n",
       "       [-0.55555556],\n",
       "       [-0.54954955],\n",
       "       [-0.54354354],\n",
       "       [-0.53753754],\n",
       "       [-0.53153153],\n",
       "       [-0.52552553],\n",
       "       [-0.51951952],\n",
       "       [-0.51351351],\n",
       "       [-0.50750751],\n",
       "       [-0.5015015 ],\n",
       "       [-0.4954955 ],\n",
       "       [-0.48948949],\n",
       "       [-0.48348348],\n",
       "       [-0.47747748],\n",
       "       [-0.47147147],\n",
       "       [-0.46546547],\n",
       "       [-0.45945946],\n",
       "       [-0.45345345],\n",
       "       [-0.44744745],\n",
       "       [-0.44144144],\n",
       "       [-0.43543544],\n",
       "       [-0.42942943],\n",
       "       [-0.42342342],\n",
       "       [-0.41741742],\n",
       "       [-0.41141141],\n",
       "       [-0.40540541],\n",
       "       [-0.3993994 ],\n",
       "       [-0.39339339],\n",
       "       [-0.38738739],\n",
       "       [-0.38138138],\n",
       "       [-0.37537538],\n",
       "       [-0.36936937],\n",
       "       [-0.36336336],\n",
       "       [-0.35735736],\n",
       "       [-0.35135135],\n",
       "       [-0.34534535],\n",
       "       [-0.33933934],\n",
       "       [-0.33333333],\n",
       "       [-0.32732733],\n",
       "       [-0.32132132],\n",
       "       [-0.31531532],\n",
       "       [-0.30930931],\n",
       "       [-0.3033033 ],\n",
       "       [-0.2972973 ],\n",
       "       [-0.29129129],\n",
       "       [-0.28528529],\n",
       "       [-0.27927928],\n",
       "       [-0.27327327],\n",
       "       [-0.26726727],\n",
       "       [-0.26126126],\n",
       "       [-0.25525526],\n",
       "       [-0.24924925],\n",
       "       [-0.24324324],\n",
       "       [-0.23723724],\n",
       "       [-0.23123123],\n",
       "       [-0.22522523],\n",
       "       [-0.21921922],\n",
       "       [-0.21321321],\n",
       "       [-0.20720721],\n",
       "       [-0.2012012 ],\n",
       "       [-0.1951952 ],\n",
       "       [-0.18918919],\n",
       "       [-0.18318318],\n",
       "       [-0.17717718],\n",
       "       [-0.17117117],\n",
       "       [-0.16516517],\n",
       "       [-0.15915916],\n",
       "       [-0.15315315],\n",
       "       [-0.14714715],\n",
       "       [-0.14114114],\n",
       "       [-0.13513514],\n",
       "       [-0.12912913],\n",
       "       [-0.12312312],\n",
       "       [-0.11711712],\n",
       "       [-0.11111111],\n",
       "       [-0.10510511],\n",
       "       [-0.0990991 ],\n",
       "       [-0.09309309],\n",
       "       [-0.08708709],\n",
       "       [-0.08108108],\n",
       "       [-0.07507508],\n",
       "       [-0.06906907],\n",
       "       [-0.06306306],\n",
       "       [-0.05705706],\n",
       "       [-0.05105105],\n",
       "       [-0.04504505],\n",
       "       [-0.03903904],\n",
       "       [-0.03303303],\n",
       "       [-0.02702703],\n",
       "       [-0.02102102],\n",
       "       [-0.01501502],\n",
       "       [-0.00900901],\n",
       "       [-0.003003  ],\n",
       "       [ 0.003003  ],\n",
       "       [ 0.00900901],\n",
       "       [ 0.01501502],\n",
       "       [ 0.02102102],\n",
       "       [ 0.02702703],\n",
       "       [ 0.03303303],\n",
       "       [ 0.03903904],\n",
       "       [ 0.04504505],\n",
       "       [ 0.05105105],\n",
       "       [ 0.05705706],\n",
       "       [ 0.06306306],\n",
       "       [ 0.06906907],\n",
       "       [ 0.07507508],\n",
       "       [ 0.08108108],\n",
       "       [ 0.08708709],\n",
       "       [ 0.09309309],\n",
       "       [ 0.0990991 ],\n",
       "       [ 0.10510511],\n",
       "       [ 0.11111111],\n",
       "       [ 0.11711712],\n",
       "       [ 0.12312312],\n",
       "       [ 0.12912913],\n",
       "       [ 0.13513514],\n",
       "       [ 0.14114114],\n",
       "       [ 0.14714715],\n",
       "       [ 0.15315315],\n",
       "       [ 0.15915916],\n",
       "       [ 0.16516517],\n",
       "       [ 0.17117117],\n",
       "       [ 0.17717718],\n",
       "       [ 0.18318318],\n",
       "       [ 0.18918919],\n",
       "       [ 0.1951952 ],\n",
       "       [ 0.2012012 ],\n",
       "       [ 0.20720721],\n",
       "       [ 0.21321321],\n",
       "       [ 0.21921922],\n",
       "       [ 0.22522523],\n",
       "       [ 0.23123123],\n",
       "       [ 0.23723724],\n",
       "       [ 0.24324324],\n",
       "       [ 0.24924925],\n",
       "       [ 0.25525526],\n",
       "       [ 0.26126126],\n",
       "       [ 0.26726727],\n",
       "       [ 0.27327327],\n",
       "       [ 0.27927928],\n",
       "       [ 0.28528529],\n",
       "       [ 0.29129129],\n",
       "       [ 0.2972973 ],\n",
       "       [ 0.3033033 ],\n",
       "       [ 0.30930931],\n",
       "       [ 0.31531532],\n",
       "       [ 0.32132132],\n",
       "       [ 0.32732733],\n",
       "       [ 0.33333333],\n",
       "       [ 0.33933934],\n",
       "       [ 0.34534535],\n",
       "       [ 0.35135135],\n",
       "       [ 0.35735736],\n",
       "       [ 0.36336336],\n",
       "       [ 0.36936937],\n",
       "       [ 0.37537538],\n",
       "       [ 0.38138138],\n",
       "       [ 0.38738739],\n",
       "       [ 0.39339339],\n",
       "       [ 0.3993994 ],\n",
       "       [ 0.40540541],\n",
       "       [ 0.41141141],\n",
       "       [ 0.41741742],\n",
       "       [ 0.42342342],\n",
       "       [ 0.42942943],\n",
       "       [ 0.43543544],\n",
       "       [ 0.44144144],\n",
       "       [ 0.44744745],\n",
       "       [ 0.45345345],\n",
       "       [ 0.45945946],\n",
       "       [ 0.46546547],\n",
       "       [ 0.47147147],\n",
       "       [ 0.47747748],\n",
       "       [ 0.48348348],\n",
       "       [ 0.48948949],\n",
       "       [ 0.4954955 ],\n",
       "       [ 0.5015015 ],\n",
       "       [ 0.50750751],\n",
       "       [ 0.51351351],\n",
       "       [ 0.51951952],\n",
       "       [ 0.52552553],\n",
       "       [ 0.53153153],\n",
       "       [ 0.53753754],\n",
       "       [ 0.54354354],\n",
       "       [ 0.54954955],\n",
       "       [ 0.55555556],\n",
       "       [ 0.56156156],\n",
       "       [ 0.56756757],\n",
       "       [ 0.57357357],\n",
       "       [ 0.57957958],\n",
       "       [ 0.58558559],\n",
       "       [ 0.59159159],\n",
       "       [ 0.5975976 ],\n",
       "       [ 0.6036036 ],\n",
       "       [ 0.60960961],\n",
       "       [ 0.61561562],\n",
       "       [ 0.62162162],\n",
       "       [ 0.62762763],\n",
       "       [ 0.63363363],\n",
       "       [ 0.63963964],\n",
       "       [ 0.64564565],\n",
       "       [ 0.65165165],\n",
       "       [ 0.65765766],\n",
       "       [ 0.66366366],\n",
       "       [ 0.66966967],\n",
       "       [ 0.67567568],\n",
       "       [ 0.68168168],\n",
       "       [ 0.68768769],\n",
       "       [ 0.69369369],\n",
       "       [ 0.6996997 ],\n",
       "       [ 0.70570571],\n",
       "       [ 0.71171171],\n",
       "       [ 0.71771772],\n",
       "       [ 0.72372372],\n",
       "       [ 0.72972973],\n",
       "       [ 0.73573574],\n",
       "       [ 0.74174174],\n",
       "       [ 0.74774775],\n",
       "       [ 0.75375375],\n",
       "       [ 0.75975976],\n",
       "       [ 0.76576577],\n",
       "       [ 0.77177177],\n",
       "       [ 0.77777778],\n",
       "       [ 0.78378378],\n",
       "       [ 0.78978979],\n",
       "       [ 0.7957958 ],\n",
       "       [ 0.8018018 ],\n",
       "       [ 0.80780781],\n",
       "       [ 0.81381381],\n",
       "       [ 0.81981982],\n",
       "       [ 0.82582583],\n",
       "       [ 0.83183183],\n",
       "       [ 0.83783784],\n",
       "       [ 0.84384384],\n",
       "       [ 0.84984985],\n",
       "       [ 0.85585586],\n",
       "       [ 0.86186186],\n",
       "       [ 0.86786787],\n",
       "       [ 0.87387387],\n",
       "       [ 0.87987988],\n",
       "       [ 0.88588589],\n",
       "       [ 0.89189189],\n",
       "       [ 0.8978979 ],\n",
       "       [ 0.9039039 ],\n",
       "       [ 0.90990991],\n",
       "       [ 0.91591592],\n",
       "       [ 0.92192192],\n",
       "       [ 0.92792793],\n",
       "       [ 0.93393393],\n",
       "       [ 0.93993994],\n",
       "       [ 0.94594595],\n",
       "       [ 0.95195195],\n",
       "       [ 0.95795796],\n",
       "       [ 0.96396396],\n",
       "       [ 0.96996997],\n",
       "       [ 0.97597598],\n",
       "       [ 0.98198198],\n",
       "       [ 0.98798799],\n",
       "       [ 0.99399399],\n",
       "       [ 1.        ],\n",
       "       [ 1.00600601],\n",
       "       [ 1.01201201],\n",
       "       [ 1.01801802],\n",
       "       [ 1.02402402],\n",
       "       [ 1.03003003],\n",
       "       [ 1.03603604],\n",
       "       [ 1.04204204],\n",
       "       [ 1.04804805],\n",
       "       [ 1.05405405],\n",
       "       [ 1.06006006],\n",
       "       [ 1.06606607],\n",
       "       [ 1.07207207],\n",
       "       [ 1.07807808],\n",
       "       [ 1.08408408],\n",
       "       [ 1.09009009],\n",
       "       [ 1.0960961 ],\n",
       "       [ 1.1021021 ],\n",
       "       [ 1.10810811],\n",
       "       [ 1.11411411],\n",
       "       [ 1.12012012],\n",
       "       [ 1.12612613],\n",
       "       [ 1.13213213],\n",
       "       [ 1.13813814],\n",
       "       [ 1.14414414],\n",
       "       [ 1.15015015],\n",
       "       [ 1.15615616],\n",
       "       [ 1.16216216],\n",
       "       [ 1.16816817],\n",
       "       [ 1.17417417],\n",
       "       [ 1.18018018],\n",
       "       [ 1.18618619],\n",
       "       [ 1.19219219],\n",
       "       [ 1.1981982 ],\n",
       "       [ 1.2042042 ],\n",
       "       [ 1.21021021],\n",
       "       [ 1.21621622],\n",
       "       [ 1.22222222],\n",
       "       [ 1.22822823],\n",
       "       [ 1.23423423],\n",
       "       [ 1.24024024],\n",
       "       [ 1.24624625],\n",
       "       [ 1.25225225],\n",
       "       [ 1.25825826],\n",
       "       [ 1.26426426],\n",
       "       [ 1.27027027],\n",
       "       [ 1.27627628],\n",
       "       [ 1.28228228],\n",
       "       [ 1.28828829],\n",
       "       [ 1.29429429],\n",
       "       [ 1.3003003 ],\n",
       "       [ 1.30630631],\n",
       "       [ 1.31231231],\n",
       "       [ 1.31831832],\n",
       "       [ 1.32432432],\n",
       "       [ 1.33033033],\n",
       "       [ 1.33633634],\n",
       "       [ 1.34234234],\n",
       "       [ 1.34834835],\n",
       "       [ 1.35435435],\n",
       "       [ 1.36036036],\n",
       "       [ 1.36636637],\n",
       "       [ 1.37237237],\n",
       "       [ 1.37837838],\n",
       "       [ 1.38438438],\n",
       "       [ 1.39039039],\n",
       "       [ 1.3963964 ],\n",
       "       [ 1.4024024 ],\n",
       "       [ 1.40840841],\n",
       "       [ 1.41441441],\n",
       "       [ 1.42042042],\n",
       "       [ 1.42642643],\n",
       "       [ 1.43243243],\n",
       "       [ 1.43843844],\n",
       "       [ 1.44444444],\n",
       "       [ 1.45045045],\n",
       "       [ 1.45645646],\n",
       "       [ 1.46246246],\n",
       "       [ 1.46846847],\n",
       "       [ 1.47447447],\n",
       "       [ 1.48048048],\n",
       "       [ 1.48648649],\n",
       "       [ 1.49249249],\n",
       "       [ 1.4984985 ],\n",
       "       [ 1.5045045 ],\n",
       "       [ 1.51051051],\n",
       "       [ 1.51651652],\n",
       "       [ 1.52252252],\n",
       "       [ 1.52852853],\n",
       "       [ 1.53453453],\n",
       "       [ 1.54054054],\n",
       "       [ 1.54654655],\n",
       "       [ 1.55255255],\n",
       "       [ 1.55855856],\n",
       "       [ 1.56456456],\n",
       "       [ 1.57057057],\n",
       "       [ 1.57657658],\n",
       "       [ 1.58258258],\n",
       "       [ 1.58858859],\n",
       "       [ 1.59459459],\n",
       "       [ 1.6006006 ],\n",
       "       [ 1.60660661],\n",
       "       [ 1.61261261],\n",
       "       [ 1.61861862],\n",
       "       [ 1.62462462],\n",
       "       [ 1.63063063],\n",
       "       [ 1.63663664],\n",
       "       [ 1.64264264],\n",
       "       [ 1.64864865],\n",
       "       [ 1.65465465],\n",
       "       [ 1.66066066],\n",
       "       [ 1.66666667],\n",
       "       [ 1.67267267],\n",
       "       [ 1.67867868],\n",
       "       [ 1.68468468],\n",
       "       [ 1.69069069],\n",
       "       [ 1.6966967 ],\n",
       "       [ 1.7027027 ],\n",
       "       [ 1.70870871],\n",
       "       [ 1.71471471],\n",
       "       [ 1.72072072],\n",
       "       [ 1.72672673],\n",
       "       [ 1.73273273],\n",
       "       [ 1.73873874],\n",
       "       [ 1.74474474],\n",
       "       [ 1.75075075],\n",
       "       [ 1.75675676],\n",
       "       [ 1.76276276],\n",
       "       [ 1.76876877],\n",
       "       [ 1.77477477],\n",
       "       [ 1.78078078],\n",
       "       [ 1.78678679],\n",
       "       [ 1.79279279],\n",
       "       [ 1.7987988 ],\n",
       "       [ 1.8048048 ],\n",
       "       [ 1.81081081],\n",
       "       [ 1.81681682],\n",
       "       [ 1.82282282],\n",
       "       [ 1.82882883],\n",
       "       [ 1.83483483],\n",
       "       [ 1.84084084],\n",
       "       [ 1.84684685],\n",
       "       [ 1.85285285],\n",
       "       [ 1.85885886],\n",
       "       [ 1.86486486],\n",
       "       [ 1.87087087],\n",
       "       [ 1.87687688],\n",
       "       [ 1.88288288],\n",
       "       [ 1.88888889],\n",
       "       [ 1.89489489],\n",
       "       [ 1.9009009 ],\n",
       "       [ 1.90690691],\n",
       "       [ 1.91291291],\n",
       "       [ 1.91891892],\n",
       "       [ 1.92492492],\n",
       "       [ 1.93093093],\n",
       "       [ 1.93693694],\n",
       "       [ 1.94294294],\n",
       "       [ 1.94894895],\n",
       "       [ 1.95495495],\n",
       "       [ 1.96096096],\n",
       "       [ 1.96696697],\n",
       "       [ 1.97297297],\n",
       "       [ 1.97897898],\n",
       "       [ 1.98498498],\n",
       "       [ 1.99099099],\n",
       "       [ 1.996997  ],\n",
       "       [ 2.003003  ],\n",
       "       [ 2.00900901],\n",
       "       [ 2.01501502],\n",
       "       [ 2.02102102],\n",
       "       [ 2.02702703],\n",
       "       [ 2.03303303],\n",
       "       [ 2.03903904],\n",
       "       [ 2.04504505],\n",
       "       [ 2.05105105],\n",
       "       [ 2.05705706],\n",
       "       [ 2.06306306],\n",
       "       [ 2.06906907],\n",
       "       [ 2.07507508],\n",
       "       [ 2.08108108],\n",
       "       [ 2.08708709],\n",
       "       [ 2.09309309],\n",
       "       [ 2.0990991 ],\n",
       "       [ 2.10510511],\n",
       "       [ 2.11111111],\n",
       "       [ 2.11711712],\n",
       "       [ 2.12312312],\n",
       "       [ 2.12912913],\n",
       "       [ 2.13513514],\n",
       "       [ 2.14114114],\n",
       "       [ 2.14714715],\n",
       "       [ 2.15315315],\n",
       "       [ 2.15915916],\n",
       "       [ 2.16516517],\n",
       "       [ 2.17117117],\n",
       "       [ 2.17717718],\n",
       "       [ 2.18318318],\n",
       "       [ 2.18918919],\n",
       "       [ 2.1951952 ],\n",
       "       [ 2.2012012 ],\n",
       "       [ 2.20720721],\n",
       "       [ 2.21321321],\n",
       "       [ 2.21921922],\n",
       "       [ 2.22522523],\n",
       "       [ 2.23123123],\n",
       "       [ 2.23723724],\n",
       "       [ 2.24324324],\n",
       "       [ 2.24924925],\n",
       "       [ 2.25525526],\n",
       "       [ 2.26126126],\n",
       "       [ 2.26726727],\n",
       "       [ 2.27327327],\n",
       "       [ 2.27927928],\n",
       "       [ 2.28528529],\n",
       "       [ 2.29129129],\n",
       "       [ 2.2972973 ],\n",
       "       [ 2.3033033 ],\n",
       "       [ 2.30930931],\n",
       "       [ 2.31531532],\n",
       "       [ 2.32132132],\n",
       "       [ 2.32732733],\n",
       "       [ 2.33333333],\n",
       "       [ 2.33933934],\n",
       "       [ 2.34534535],\n",
       "       [ 2.35135135],\n",
       "       [ 2.35735736],\n",
       "       [ 2.36336336],\n",
       "       [ 2.36936937],\n",
       "       [ 2.37537538],\n",
       "       [ 2.38138138],\n",
       "       [ 2.38738739],\n",
       "       [ 2.39339339],\n",
       "       [ 2.3993994 ],\n",
       "       [ 2.40540541],\n",
       "       [ 2.41141141],\n",
       "       [ 2.41741742],\n",
       "       [ 2.42342342],\n",
       "       [ 2.42942943],\n",
       "       [ 2.43543544],\n",
       "       [ 2.44144144],\n",
       "       [ 2.44744745],\n",
       "       [ 2.45345345],\n",
       "       [ 2.45945946],\n",
       "       [ 2.46546547],\n",
       "       [ 2.47147147],\n",
       "       [ 2.47747748],\n",
       "       [ 2.48348348],\n",
       "       [ 2.48948949],\n",
       "       [ 2.4954955 ],\n",
       "       [ 2.5015015 ],\n",
       "       [ 2.50750751],\n",
       "       [ 2.51351351],\n",
       "       [ 2.51951952],\n",
       "       [ 2.52552553],\n",
       "       [ 2.53153153],\n",
       "       [ 2.53753754],\n",
       "       [ 2.54354354],\n",
       "       [ 2.54954955],\n",
       "       [ 2.55555556],\n",
       "       [ 2.56156156],\n",
       "       [ 2.56756757],\n",
       "       [ 2.57357357],\n",
       "       [ 2.57957958],\n",
       "       [ 2.58558559],\n",
       "       [ 2.59159159],\n",
       "       [ 2.5975976 ],\n",
       "       [ 2.6036036 ],\n",
       "       [ 2.60960961],\n",
       "       [ 2.61561562],\n",
       "       [ 2.62162162],\n",
       "       [ 2.62762763],\n",
       "       [ 2.63363363],\n",
       "       [ 2.63963964],\n",
       "       [ 2.64564565],\n",
       "       [ 2.65165165],\n",
       "       [ 2.65765766],\n",
       "       [ 2.66366366],\n",
       "       [ 2.66966967],\n",
       "       [ 2.67567568],\n",
       "       [ 2.68168168],\n",
       "       [ 2.68768769],\n",
       "       [ 2.69369369],\n",
       "       [ 2.6996997 ],\n",
       "       [ 2.70570571],\n",
       "       [ 2.71171171],\n",
       "       [ 2.71771772],\n",
       "       [ 2.72372372],\n",
       "       [ 2.72972973],\n",
       "       [ 2.73573574],\n",
       "       [ 2.74174174],\n",
       "       [ 2.74774775],\n",
       "       [ 2.75375375],\n",
       "       [ 2.75975976],\n",
       "       [ 2.76576577],\n",
       "       [ 2.77177177],\n",
       "       [ 2.77777778],\n",
       "       [ 2.78378378],\n",
       "       [ 2.78978979],\n",
       "       [ 2.7957958 ],\n",
       "       [ 2.8018018 ],\n",
       "       [ 2.80780781],\n",
       "       [ 2.81381381],\n",
       "       [ 2.81981982],\n",
       "       [ 2.82582583],\n",
       "       [ 2.83183183],\n",
       "       [ 2.83783784],\n",
       "       [ 2.84384384],\n",
       "       [ 2.84984985],\n",
       "       [ 2.85585586],\n",
       "       [ 2.86186186],\n",
       "       [ 2.86786787],\n",
       "       [ 2.87387387],\n",
       "       [ 2.87987988],\n",
       "       [ 2.88588589],\n",
       "       [ 2.89189189],\n",
       "       [ 2.8978979 ],\n",
       "       [ 2.9039039 ],\n",
       "       [ 2.90990991],\n",
       "       [ 2.91591592],\n",
       "       [ 2.92192192],\n",
       "       [ 2.92792793],\n",
       "       [ 2.93393393],\n",
       "       [ 2.93993994],\n",
       "       [ 2.94594595],\n",
       "       [ 2.95195195],\n",
       "       [ 2.95795796],\n",
       "       [ 2.96396396],\n",
       "       [ 2.96996997],\n",
       "       [ 2.97597598],\n",
       "       [ 2.98198198],\n",
       "       [ 2.98798799],\n",
       "       [ 2.99399399],\n",
       "       [ 3.        ]])"
      ]
     },
     "execution_count": 84,
     "metadata": {},
     "output_type": "execute_result"
    },
    {
     "data": {
      "image/png": "[encoded data removed]",
      "text/plain": [
       "<matplotlib.figure.Figure at 0x1cf6e8a8630>"
      ]
     },
     "metadata": {
      "needs_background": "light"
     },
     "output_type": "display_data"
    }
   ],
   "source": [
    "flg, axes = plt.subplots(1, 3, figsize=(15, 4))\n",
    "# 创建1000个数据点，在-3和3之间均匀分布\n",
    "line = np.linspace(-3, 3, 1000).reshape(-1, 1)\n",
    "line"
   ]
  },
  {
   "cell_type": "code",
   "execution_count": 89,
   "metadata": {},
   "outputs": [
    {
     "data": {
      "text/plain": [
       "<matplotlib.legend.Legend at 0x1cf6e8f9908>"
      ]
     },
     "execution_count": 89,
     "metadata": {},
     "output_type": "execute_result"
    }
   ],
   "source": [
    "for n_neighbor, ax in zip([1, 3, 9], axes):\n",
    "    reg = KNeighborsRegressor(n_neighbors=n_neighbors)\n",
    "    reg.fit(X_train, y_train)\n",
    "    ax.plot(line, reg.predict(line))\n",
    "    ax.plot(X_train, y_train, '^', c=mglearn.cm2(0), markersize=8)\n",
    "    ax.plot(X_test, y_test, 'v', c=mglearn.cm2(1), markersize=8)\n",
    "    ax.set_xlabel(\"Feature\")\n",
    "    ax.set_ylabel(\"Target\")\n",
    "axes[0].legend(['Model Predictions', 'Training Data/Target', 'Test Data/Target'], loc='best')"
   ]
  },
  {
   "cell_type": "code",
   "execution_count": 90,
   "metadata": {},
   "outputs": [
    {
     "name": "stdout",
     "output_type": "stream",
     "text": [
      "w[0]: 0.393906  b: -0.031804\n"
     ]
    },
    {
     "data": {
      "image/png": "[encoded data removed]",
      "text/plain": [
       "<matplotlib.figure.Figure at 0x1cf6981e2e8>"
      ]
     },
     "metadata": {
      "needs_background": "light"
     },
     "output_type": "display_data"
    }
   ],
   "source": [
    "mglearn.plots.plot_linear_regression_wave()"
   ]
  },
  {
   "cell_type": "code",
   "execution_count": 91,
   "metadata": {
    "scrolled": true
   },
   "outputs": [
    {
     "data": {
      "text/plain": [
       "array([[-0.75275929],\n",
       "       [ 2.70428584],\n",
       "       [ 1.39196365],\n",
       "       [ 0.59195091],\n",
       "       [-2.06388816],\n",
       "       [-2.06403288],\n",
       "       [-2.65149833],\n",
       "       [ 2.19705687],\n",
       "       [ 0.60669007],\n",
       "       [ 1.24843547],\n",
       "       [-2.87649303],\n",
       "       [ 2.81945911],\n",
       "       [ 1.99465584],\n",
       "       [-1.72596534],\n",
       "       [-1.9090502 ],\n",
       "       [-1.89957294],\n",
       "       [-1.17454654],\n",
       "       [ 0.14853859],\n",
       "       [-0.40832989],\n",
       "       [-1.25262516],\n",
       "       [ 0.67111737],\n",
       "       [-2.16303684],\n",
       "       [-1.24713211],\n",
       "       [-0.80182894],\n",
       "       [-0.26358009],\n",
       "       [ 1.71105577],\n",
       "       [-1.80195731],\n",
       "       [ 0.08540663],\n",
       "       [ 0.55448741],\n",
       "       [-2.72129752],\n",
       "       [ 0.64526911],\n",
       "       [-1.97685526],\n",
       "       [-2.60969044],\n",
       "       [ 2.69331322],\n",
       "       [ 2.7937922 ],\n",
       "       [ 1.85038409],\n",
       "       [-1.17231738],\n",
       "       [-2.41396732],\n",
       "       [ 1.10539816],\n",
       "       [-0.35908504],\n",
       "       [-2.26777059],\n",
       "       [-0.02893854],\n",
       "       [-2.79366887],\n",
       "       [ 2.45592241],\n",
       "       [-1.44732011],\n",
       "       [ 0.97513371],\n",
       "       [-1.12973354],\n",
       "       [ 0.12040813],\n",
       "       [ 0.28026168],\n",
       "       [-1.89087327],\n",
       "       [ 2.81750777],\n",
       "       [ 1.65079694],\n",
       "       [ 2.63699365],\n",
       "       [ 2.3689641 ],\n",
       "       [ 0.58739987],\n",
       "       [ 2.53124541],\n",
       "       [-2.46904499],\n",
       "       [-1.82410283],\n",
       "       [-2.72863627],\n",
       "       [-1.04801802]])"
      ]
     },
     "execution_count": 91,
     "metadata": {},
     "output_type": "execute_result"
    }
   ],
   "source": [
    "from sklearn.linear_model import LinearRegression\n",
    "X, y = mglearn.datasets.make_wave(n_samples=60)\n",
    "X"
   ]
  },
  {
   "cell_type": "code",
   "execution_count": 92,
   "metadata": {},
   "outputs": [
    {
     "data": {
      "text/plain": [
       "array([-1.18073311,  0.50015912,  0.13772889,  1.17396178, -1.32035898,\n",
       "       -2.37364735, -0.70117304,  1.20319981,  0.29262945,  0.44971554,\n",
       "       -0.48647165,  1.39515571,  1.0738403 , -1.30838148, -1.27708305,\n",
       "       -0.94575843, -0.32691082,  0.26134393, -1.25635546, -0.74646948,\n",
       "        0.96250584, -0.75240909, -0.17851354,  0.13368988, -0.38575444,\n",
       "        0.79900059, -1.11948406,  0.97923163,  0.65823236, -0.08137001,\n",
       "       -0.72142625, -1.0767626 , -0.83684971,  0.70945882,  0.95081838,\n",
       "        0.38109799, -0.19612826, -0.9139074 ,  0.81263817, -0.93416482,\n",
       "       -1.7113156 , -0.32309571, -0.44713127,  1.19812891, -0.75150632,\n",
       "        0.40012342, -0.02565504,  0.77613985,  0.23938228, -1.58831973,\n",
       "        0.73141352,  0.25092544,  1.01581268,  1.28948157,  0.65213403,\n",
       "        0.82614241, -1.7240941 , -1.54664568, -1.03731593, -0.49131681])"
      ]
     },
     "execution_count": 92,
     "metadata": {},
     "output_type": "execute_result"
    }
   ],
   "source": [
    "y"
   ]
  },
  {
   "cell_type": "code",
   "execution_count": 93,
   "metadata": {},
   "outputs": [],
   "source": [
    "X_train, X_test, y_train, y_test = train_test_split(X, y, random_state=42)"
   ]
  },
  {
   "cell_type": "code",
   "execution_count": 95,
   "metadata": {},
   "outputs": [
    {
     "data": {
      "text/plain": [
       "LinearRegression(copy_X=True, fit_intercept=True, n_jobs=1, normalize=False)"
      ]
     },
     "execution_count": 95,
     "metadata": {},
     "output_type": "execute_result"
    }
   ],
   "source": [
    "lr = LinearRegression().fit(X_train, y_train)\n",
    "lr"
   ]
  },
  {
   "cell_type": "code",
   "execution_count": 96,
   "metadata": {},
   "outputs": [
    {
     "data": {
      "text/plain": [
       "array([ 0.39390555])"
      ]
     },
     "execution_count": 96,
     "metadata": {},
     "output_type": "execute_result"
    }
   ],
   "source": [
    "lr.coef_"
   ]
  },
  {
   "cell_type": "code",
   "execution_count": 97,
   "metadata": {},
   "outputs": [
    {
     "data": {
      "text/plain": [
       "-0.031804343026759746"
      ]
     },
     "execution_count": 97,
     "metadata": {},
     "output_type": "execute_result"
    }
   ],
   "source": [
    "lr.intercept_"
   ]
  },
  {
   "cell_type": "code",
   "execution_count": 98,
   "metadata": {},
   "outputs": [
    {
     "data": {
      "text/plain": [
       "0.67008903150757559"
      ]
     },
     "execution_count": 98,
     "metadata": {},
     "output_type": "execute_result"
    }
   ],
   "source": [
    "lr.score(X_train, y_train)"
   ]
  },
  {
   "cell_type": "code",
   "execution_count": 99,
   "metadata": {},
   "outputs": [
    {
     "data": {
      "text/plain": [
       "0.65933685968637001"
      ]
     },
     "execution_count": 99,
     "metadata": {},
     "output_type": "execute_result"
    }
   ],
   "source": [
    "lr.score(X_test, y_test)"
   ]
  },
  {
   "cell_type": "code",
   "execution_count": 100,
   "metadata": {},
   "outputs": [],
   "source": [
    "X, y = mglearn.datasets.load_extended_boston()\n",
    "X_train, X_test, y_train, y_test = train_test_split(X, y, random_state=0)\n",
    "lr = LinearRegression().fit(X_train, y_train)"
   ]
  },
  {
   "cell_type": "code",
   "execution_count": 101,
   "metadata": {},
   "outputs": [
    {
     "data": {
      "text/plain": [
       "0.95235264368642392"
      ]
     },
     "execution_count": 101,
     "metadata": {},
     "output_type": "execute_result"
    }
   ],
   "source": [
    "lr.score(X_train, y_train)"
   ]
  },
  {
   "cell_type": "code",
   "execution_count": 102,
   "metadata": {},
   "outputs": [
    {
     "data": {
      "text/plain": [
       "0.60577548929356584"
      ]
     },
     "execution_count": 102,
     "metadata": {},
     "output_type": "execute_result"
    }
   ],
   "source": [
    "lr.score(X_test, y_test)"
   ]
  },
  {
   "cell_type": "code",
   "execution_count": 103,
   "metadata": {},
   "outputs": [],
   "source": [
    "from sklearn.linear_model import Ridge"
   ]
  },
  {
   "cell_type": "code",
   "execution_count": 104,
   "metadata": {},
   "outputs": [],
   "source": [
    "ridge = Ridge().fit(X_train, y_train)"
   ]
  },
  {
   "cell_type": "code",
   "execution_count": 105,
   "metadata": {},
   "outputs": [
    {
     "data": {
      "text/plain": [
       "0.88605785603958342"
      ]
     },
     "execution_count": 105,
     "metadata": {},
     "output_type": "execute_result"
    }
   ],
   "source": [
    "ridge.score(X_train, y_train)"
   ]
  },
  {
   "cell_type": "code",
   "execution_count": 106,
   "metadata": {},
   "outputs": [
    {
     "data": {
      "text/plain": [
       "0.75271396003069435"
      ]
     },
     "execution_count": 106,
     "metadata": {},
     "output_type": "execute_result"
    }
   ],
   "source": [
    "ridge.score(X_test, y_test)"
   ]
  },
  {
   "cell_type": "code",
   "execution_count": 107,
   "metadata": {},
   "outputs": [],
   "source": [
    "ridge10 = Ridge(alpha=10).fit(X_train, y_train)"
   ]
  },
  {
   "cell_type": "code",
   "execution_count": 108,
   "metadata": {},
   "outputs": [
    {
     "data": {
      "text/plain": [
       "0.78834615112332529"
      ]
     },
     "execution_count": 108,
     "metadata": {},
     "output_type": "execute_result"
    }
   ],
   "source": [
    "ridge10.score(X_train, y_train)"
   ]
  },
  {
   "cell_type": "code",
   "execution_count": 109,
   "metadata": {},
   "outputs": [
    {
     "data": {
      "text/plain": [
       "0.63589673274477332"
      ]
     },
     "execution_count": 109,
     "metadata": {},
     "output_type": "execute_result"
    }
   ],
   "source": [
    "ridge10.score(X_test, y_test)"
   ]
  },
  {
   "cell_type": "code",
   "execution_count": 110,
   "metadata": {},
   "outputs": [],
   "source": [
    "ridge01 = Ridge(alpha=0.1).fit(X_train, y_train)"
   ]
  },
  {
   "cell_type": "code",
   "execution_count": 111,
   "metadata": {},
   "outputs": [
    {
     "data": {
      "text/plain": [
       "0.92857820820107406"
      ]
     },
     "execution_count": 111,
     "metadata": {},
     "output_type": "execute_result"
    }
   ],
   "source": [
    "ridge01.score(X_train, y_train)"
   ]
  },
  {
   "cell_type": "code",
   "execution_count": 112,
   "metadata": {},
   "outputs": [
    {
     "data": {
      "text/plain": [
       "0.77179336888449679"
      ]
     },
     "execution_count": 112,
     "metadata": {},
     "output_type": "execute_result"
    }
   ],
   "source": [
    "ridge01.score(X_test, y_test)"
   ]
  },
  {
   "cell_type": "code",
   "execution_count": null,
   "metadata": {},
   "outputs": [],
   "source": []
  }
 ],
 "metadata": {
  "anaconda-cloud": {},
  "kernelspec": {
   "display_name": "Python 3",
   "language": "python",
   "name": "python3"
  },
  "language_info": {
   "codemirror_mode": {
    "name": "ipython",
    "version": 3
   },
   "file_extension": ".py",
   "mimetype": "text/x-python",
   "name": "python",
   "nbconvert_exporter": "python",
   "pygments_lexer": "ipython3",
   "version": "3.5.6"
  }
 },
 "nbformat": 4,
 "nbformat_minor": 1
}
