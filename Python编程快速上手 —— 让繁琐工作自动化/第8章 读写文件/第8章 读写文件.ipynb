{
 "cells": [
  {
   "cell_type": "code",
   "execution_count": 1,
   "metadata": {
    "collapsed": true
   },
   "outputs": [],
   "source": [
    "# 8.1 文件与文件路径\n",
    "    # 8.1.1 Windows上的倒斜杠以及OS X和Linux上的正斜杠"
   ]
  },
  {
   "cell_type": "code",
   "execution_count": 2,
   "metadata": {
    "collapsed": false
   },
   "outputs": [
    {
     "data": {
      "text/plain": [
       "'usr\\\\bin\\\\spam'"
      ]
     },
     "execution_count": 2,
     "metadata": {},
     "output_type": "execute_result"
    }
   ],
   "source": [
    "import os\n",
    "os.path.join('usr','bin','spam')"
   ]
  },
  {
   "cell_type": "code",
   "execution_count": 3,
   "metadata": {
    "collapsed": false
   },
   "outputs": [
    {
     "name": "stdout",
     "output_type": "stream",
     "text": [
      "C:\\Users\\asweigart\\accounts.txt\n",
      "C:\\Users\\asweigart\\details.csv\n",
      "C:\\Users\\asweigart\\invite.docx\n"
     ]
    }
   ],
   "source": [
    "myFiles = ['accounts.txt','details.csv','invite.docx']\n",
    "for filename in myFiles:\n",
    "    print(os.path.join('C:\\\\Users\\\\asweigart',filename))"
   ]
  },
  {
   "cell_type": "code",
   "execution_count": 4,
   "metadata": {
    "collapsed": true
   },
   "outputs": [],
   "source": [
    "    # 8.1.2 当前工作目录"
   ]
  },
  {
   "cell_type": "code",
   "execution_count": 5,
   "metadata": {
    "collapsed": false
   },
   "outputs": [
    {
     "data": {
      "text/plain": [
       "'C:\\\\Users\\\\kuang\\\\Documents\\\\Python Scripts\\\\Python编程快速上手 —— 让繁琐工作自动化\\\\第8章 读写文件'"
      ]
     },
     "execution_count": 5,
     "metadata": {},
     "output_type": "execute_result"
    }
   ],
   "source": [
    "import os\n",
    "os.getcwd()"
   ]
  },
  {
   "cell_type": "code",
   "execution_count": 6,
   "metadata": {
    "collapsed": false
   },
   "outputs": [
    {
     "data": {
      "text/plain": [
       "'C:\\\\Windows\\\\System32'"
      ]
     },
     "execution_count": 6,
     "metadata": {},
     "output_type": "execute_result"
    }
   ],
   "source": [
    "os.chdir('C:\\\\Windows\\\\System32')\n",
    "os.getcwd()"
   ]
  },
  {
   "cell_type": "code",
   "execution_count": 7,
   "metadata": {
    "collapsed": false
   },
   "outputs": [],
   "source": [
    "    # 8.1.3 绝对路径与相对路径"
   ]
  },
  {
   "cell_type": "code",
   "execution_count": 8,
   "metadata": {
    "collapsed": true
   },
   "outputs": [],
   "source": [
    "    # 8.1.4 用os.makedirs()创建新文件夹"
   ]
  },
  {
   "cell_type": "code",
   "execution_count": 9,
   "metadata": {
    "collapsed": false
   },
   "outputs": [
    {
     "ename": "FileExistsError",
     "evalue": "[WinError 183] 当文件已存在时，无法创建该文件。: 'C:\\\\dilicious\\\\walnut\\\\waffles'",
     "output_type": "error",
     "traceback": [
      "\u001b[0;31m---------------------------------------------------------------------------\u001b[0m",
      "\u001b[0;31mFileExistsError\u001b[0m                           Traceback (most recent call last)",
      "\u001b[0;32m<ipython-input-9-a11db443fa13>\u001b[0m in \u001b[0;36m<module>\u001b[0;34m()\u001b[0m\n\u001b[1;32m      1\u001b[0m \u001b[1;32mimport\u001b[0m \u001b[0mos\u001b[0m\u001b[1;33m\u001b[0m\u001b[0m\n\u001b[0;32m----> 2\u001b[0;31m \u001b[0mos\u001b[0m\u001b[1;33m.\u001b[0m\u001b[0mmakedirs\u001b[0m\u001b[1;33m(\u001b[0m\u001b[1;34m'C:\\\\dilicious\\\\walnut\\\\waffles'\u001b[0m\u001b[1;33m)\u001b[0m\u001b[1;33m\u001b[0m\u001b[0m\n\u001b[0m",
      "\u001b[0;32mC:\\Users\\kuang\\Anaconda3\\lib\\os.py\u001b[0m in \u001b[0;36mmakedirs\u001b[0;34m(name, mode, exist_ok)\u001b[0m\n\u001b[1;32m    239\u001b[0m             \u001b[1;32mreturn\u001b[0m\u001b[1;33m\u001b[0m\u001b[0m\n\u001b[1;32m    240\u001b[0m     \u001b[1;32mtry\u001b[0m\u001b[1;33m:\u001b[0m\u001b[1;33m\u001b[0m\u001b[0m\n\u001b[0;32m--> 241\u001b[0;31m         \u001b[0mmkdir\u001b[0m\u001b[1;33m(\u001b[0m\u001b[0mname\u001b[0m\u001b[1;33m,\u001b[0m \u001b[0mmode\u001b[0m\u001b[1;33m)\u001b[0m\u001b[1;33m\u001b[0m\u001b[0m\n\u001b[0m\u001b[1;32m    242\u001b[0m     \u001b[1;32mexcept\u001b[0m \u001b[0mOSError\u001b[0m\u001b[1;33m:\u001b[0m\u001b[1;33m\u001b[0m\u001b[0m\n\u001b[1;32m    243\u001b[0m         \u001b[1;31m# Cannot rely on checking for EEXIST, since the operating system\u001b[0m\u001b[1;33m\u001b[0m\u001b[1;33m\u001b[0m\u001b[0m\n",
      "\u001b[0;31mFileExistsError\u001b[0m: [WinError 183] 当文件已存在时，无法创建该文件。: 'C:\\\\dilicious\\\\walnut\\\\waffles'"
     ]
    }
   ],
   "source": [
    "import os\n",
    "os.makedirs('C:\\\\dilicious\\\\walnut\\\\waffles')"
   ]
  },
  {
   "cell_type": "code",
   "execution_count": 10,
   "metadata": {
    "collapsed": true
   },
   "outputs": [],
   "source": [
    "    # 8.1.5 os.path模块"
   ]
  },
  {
   "cell_type": "code",
   "execution_count": 11,
   "metadata": {
    "collapsed": true
   },
   "outputs": [],
   "source": [
    "    # 8.1.6 处理绝对路径和相对路径"
   ]
  },
  {
   "cell_type": "code",
   "execution_count": 12,
   "metadata": {
    "collapsed": false
   },
   "outputs": [
    {
     "data": {
      "text/plain": [
       "'C:\\\\Windows\\\\System32'"
      ]
     },
     "execution_count": 12,
     "metadata": {},
     "output_type": "execute_result"
    }
   ],
   "source": [
    "os.path.abspath('.')"
   ]
  },
  {
   "cell_type": "code",
   "execution_count": 13,
   "metadata": {
    "collapsed": false
   },
   "outputs": [
    {
     "data": {
      "text/plain": [
       "'C:\\\\Windows\\\\System32\\\\Scripts'"
      ]
     },
     "execution_count": 13,
     "metadata": {},
     "output_type": "execute_result"
    }
   ],
   "source": [
    "os.path.abspath('.\\\\Scripts')"
   ]
  },
  {
   "cell_type": "code",
   "execution_count": 14,
   "metadata": {
    "collapsed": false
   },
   "outputs": [
    {
     "data": {
      "text/plain": [
       "False"
      ]
     },
     "execution_count": 14,
     "metadata": {},
     "output_type": "execute_result"
    }
   ],
   "source": [
    "os.path.isabs('.')"
   ]
  },
  {
   "cell_type": "code",
   "execution_count": 15,
   "metadata": {
    "collapsed": false
   },
   "outputs": [
    {
     "data": {
      "text/plain": [
       "True"
      ]
     },
     "execution_count": 15,
     "metadata": {},
     "output_type": "execute_result"
    }
   ],
   "source": [
    "os.path.isabs(os.path.abspath('.'))"
   ]
  },
  {
   "cell_type": "code",
   "execution_count": 16,
   "metadata": {
    "collapsed": false
   },
   "outputs": [
    {
     "data": {
      "text/plain": [
       "'Windows'"
      ]
     },
     "execution_count": 16,
     "metadata": {},
     "output_type": "execute_result"
    }
   ],
   "source": [
    "os.path.relpath('C:\\\\Windows','C:\\\\')"
   ]
  },
  {
   "cell_type": "code",
   "execution_count": 17,
   "metadata": {
    "collapsed": false
   },
   "outputs": [
    {
     "data": {
      "text/plain": [
       "'..\\\\..\\\\Windows'"
      ]
     },
     "execution_count": 17,
     "metadata": {},
     "output_type": "execute_result"
    }
   ],
   "source": [
    "os.path.relpath('C:\\\\Windows','C:\\\\spam\\\\eggs')"
   ]
  },
  {
   "cell_type": "code",
   "execution_count": 18,
   "metadata": {
    "collapsed": false
   },
   "outputs": [
    {
     "data": {
      "text/plain": [
       "'C:\\\\Windows\\\\System32'"
      ]
     },
     "execution_count": 18,
     "metadata": {},
     "output_type": "execute_result"
    }
   ],
   "source": [
    "os.getcwd()"
   ]
  },
  {
   "cell_type": "code",
   "execution_count": 19,
   "metadata": {
    "collapsed": false
   },
   "outputs": [
    {
     "data": {
      "text/plain": [
       "'calc.exe'"
      ]
     },
     "execution_count": 19,
     "metadata": {},
     "output_type": "execute_result"
    }
   ],
   "source": [
    "path = 'C:\\\\Windows\\\\System32\\\\calc.exe'\n",
    "os.path.basename(path)"
   ]
  },
  {
   "cell_type": "code",
   "execution_count": 20,
   "metadata": {
    "collapsed": false
   },
   "outputs": [
    {
     "data": {
      "text/plain": [
       "'C:\\\\Windows\\\\System32'"
      ]
     },
     "execution_count": 20,
     "metadata": {},
     "output_type": "execute_result"
    }
   ],
   "source": [
    "os.path.dirname(path)"
   ]
  },
  {
   "cell_type": "code",
   "execution_count": 21,
   "metadata": {
    "collapsed": false
   },
   "outputs": [
    {
     "data": {
      "text/plain": [
       "('C:\\\\Windows\\\\System32', 'calc.exe')"
      ]
     },
     "execution_count": 21,
     "metadata": {},
     "output_type": "execute_result"
    }
   ],
   "source": [
    "calcFilePath = 'C:\\\\Windows\\\\System32\\\\calc.exe'\n",
    "os.path.split(calcFilePath)"
   ]
  },
  {
   "cell_type": "code",
   "execution_count": 22,
   "metadata": {
    "collapsed": false
   },
   "outputs": [
    {
     "data": {
      "text/plain": [
       "('C:\\\\Windows\\\\System32', 'calc.exe')"
      ]
     },
     "execution_count": 22,
     "metadata": {},
     "output_type": "execute_result"
    }
   ],
   "source": [
    "(os.path.dirname(calcFilePath),os.path.basename(calcFilePath))"
   ]
  },
  {
   "cell_type": "code",
   "execution_count": 23,
   "metadata": {
    "collapsed": false
   },
   "outputs": [
    {
     "data": {
      "text/plain": [
       "['C:', 'Windows', 'System32', 'calc.exe']"
      ]
     },
     "execution_count": 23,
     "metadata": {},
     "output_type": "execute_result"
    }
   ],
   "source": [
    "calcFilePath.split(os.path.sep)"
   ]
  },
  {
   "cell_type": "code",
   "execution_count": 24,
   "metadata": {
    "collapsed": false
   },
   "outputs": [
    {
     "data": {
      "text/plain": [
       "['/usr/bin']"
      ]
     },
     "execution_count": 24,
     "metadata": {},
     "output_type": "execute_result"
    }
   ],
   "source": [
    "'/usr/bin'.split(os.path.sep)"
   ]
  },
  {
   "cell_type": "code",
   "execution_count": 25,
   "metadata": {
    "collapsed": true
   },
   "outputs": [],
   "source": [
    "    # 8.1.7 查看文件大小和文件夹内容"
   ]
  },
  {
   "cell_type": "code",
   "execution_count": 26,
   "metadata": {
    "collapsed": false
   },
   "outputs": [
    {
     "data": {
      "text/plain": [
       "32256"
      ]
     },
     "execution_count": 26,
     "metadata": {},
     "output_type": "execute_result"
    }
   ],
   "source": [
    "os.path.getsize('C:\\\\Windows\\\\System32\\\\calc.exe')"
   ]
  },
  {
   "cell_type": "code",
   "execution_count": 27,
   "metadata": {
    "collapsed": false
   },
   "outputs": [
    {
     "data": {
      "text/plain": [
       "['0409',\n",
       " '1033',\n",
       " '@AudioToastIcon.png',\n",
       " '@BackgroundAccessToastIcon.png',\n",
       " '@edptoastimage.png',\n",
       " '@EnrollmentToastIcon.png',\n",
       " '@language_notification_icon.png',\n",
       " '@optionalfeatures.png',\n",
       " '@VpnToastIcon.png',\n",
       " '@WiFiNotificationIcon.png',\n",
       " '@WindowsHelloFaceToastIcon.png',\n",
       " 'aadauthhelper.dll',\n",
       " 'aadcloudap.dll',\n",
       " 'aadtb.dll',\n",
       " 'AboveLockAppHost.dll',\n",
       " 'accesor.dll',\n",
       " 'accessibilitycpl.dll',\n",
       " 'accountaccessor.dll',\n",
       " 'AccountsRt.dll',\n",
       " 'ACCTRES.dll',\n",
       " 'acledit.dll',\n",
       " 'aclui.dll',\n",
       " 'acmigration.dll',\n",
       " 'ACPBackgroundManagerPolicy.dll',\n",
       " 'AcpiServiceVnA64.dll',\n",
       " 'acppage.dll',\n",
       " 'acproxy.dll',\n",
       " 'ActionCenter.dll',\n",
       " 'ActionCenterCPL.dll',\n",
       " 'ActionQueue.dll',\n",
       " 'ActivationClient.dll',\n",
       " 'ActivationManager.dll',\n",
       " 'activeds.dll',\n",
       " 'activeds.tlb',\n",
       " 'ActiveSyncCsp.dll',\n",
       " 'ActiveSyncProvider.dll',\n",
       " 'actxprxy.dll',\n",
       " 'acu.exe',\n",
       " 'AddressParser.dll',\n",
       " 'adhapi.dll',\n",
       " 'adhsvc.dll',\n",
       " 'AdmTmpl.dll',\n",
       " 'adprovider.dll',\n",
       " 'adrclient.dll',\n",
       " 'adsldp.dll',\n",
       " 'adsldpc.dll',\n",
       " 'adsmsext.dll',\n",
       " 'adsnt.dll',\n",
       " 'adtschema.dll',\n",
       " 'AdvancedInstallers',\n",
       " 'advapi32.dll',\n",
       " 'advapi32res.dll',\n",
       " 'advpack.dll',\n",
       " 'aeevts.dll',\n",
       " 'aeinv.dll',\n",
       " 'aepic.dll',\n",
       " 'AERTAC64.dll',\n",
       " 'AERTAR64.dll',\n",
       " 'AgentService.exe',\n",
       " 'aitstatic.exe',\n",
       " 'AJRouter.dll',\n",
       " 'alg.exe',\n",
       " 'AllJoynDiscoveryPlugin.dll',\n",
       " 'amcompat.tlb',\n",
       " 'amsi.dll',\n",
       " 'amsiproxy.dll',\n",
       " 'amstream.dll',\n",
       " 'apds.dll',\n",
       " 'APHostClient.dll',\n",
       " 'APHostRes.dll',\n",
       " 'APHostService.dll',\n",
       " 'apisetschema.dll',\n",
       " 'ApnDatabase.xml',\n",
       " 'AppCapture.dll',\n",
       " 'AppContracts.dll',\n",
       " 'AppExtension.dll',\n",
       " 'apphelp.dll',\n",
       " 'Apphlpdm.dll',\n",
       " 'AppHostRegistrationVerifier.exe',\n",
       " 'appidapi.dll',\n",
       " 'appidcertstorecheck.exe',\n",
       " 'appidpolicyconverter.exe',\n",
       " 'AppIdPolicyEngineApi.dll',\n",
       " 'appidsvc.dll',\n",
       " 'appidtel.exe',\n",
       " 'appinfo.dll',\n",
       " 'ApplicationFrame.dll',\n",
       " 'ApplicationFrameHost.exe',\n",
       " 'AppLocker',\n",
       " 'AppLockerCSP.dll',\n",
       " 'ApplySettingsTemplateCatalog.exe',\n",
       " 'AppManagementConfiguration.dll',\n",
       " 'appmgmt',\n",
       " 'appmgmts.dll',\n",
       " 'appmgr.dll',\n",
       " 'AppointmentActivation.dll',\n",
       " 'AppointmentApis.dll',\n",
       " 'appraiser',\n",
       " 'appraiser.dll',\n",
       " 'AppReadiness.dll',\n",
       " 'apprepapi.dll',\n",
       " 'apprepsync.dll',\n",
       " 'ApproveChildRequest.exe',\n",
       " 'appsruprov.dll',\n",
       " 'AppVCatalog.dll',\n",
       " 'AppVClient.exe',\n",
       " 'AppvClientEventLog.dll',\n",
       " 'AppVClientPS.dll',\n",
       " 'AppVDllSurrogate.exe',\n",
       " 'AppVEntStreamingManager.dll',\n",
       " 'AppVEntSubsystemController.dll',\n",
       " 'AppVEntSubsystems64.dll',\n",
       " 'AppVEntVirtualization.dll',\n",
       " 'appverif.chm',\n",
       " 'appverif.exe',\n",
       " 'appvetwclientres.dll',\n",
       " 'appvetwsharedperformance.dll',\n",
       " 'appvetwstreamingux.dll',\n",
       " 'AppVFileSystemMetadata.dll',\n",
       " 'AppVIntegration.dll',\n",
       " 'AppVManifest.dll',\n",
       " 'AppVNice.exe',\n",
       " 'AppVOrchestration.dll',\n",
       " 'AppVPolicy.dll',\n",
       " 'AppVPublishing.dll',\n",
       " 'AppVReporting.dll',\n",
       " 'AppVScripting.dll',\n",
       " 'AppVSentinel.dll',\n",
       " 'AppVShNotify.exe',\n",
       " 'AppVStreamingUX.dll',\n",
       " 'AppVStreamingUX.exe',\n",
       " 'AppVStreamingUX.exe.config',\n",
       " 'AppVStreamMap.dll',\n",
       " 'AppVTerminator.dll',\n",
       " 'appwiz.cpl',\n",
       " 'AppxAllUserStore.dll',\n",
       " 'AppXApplicabilityBlob.dll',\n",
       " 'AppxApplicabilityEngine.dll',\n",
       " 'AppXDeploymentClient.dll',\n",
       " 'AppXDeploymentExtensions.desktop.dll',\n",
       " 'AppXDeploymentExtensions.onecore.dll',\n",
       " 'AppXDeploymentServer.dll',\n",
       " 'AppxPackaging.dll',\n",
       " 'AppxProvisioning.xml',\n",
       " 'AppxSip.dll',\n",
       " 'AppxStreamingDataSourcePS.dll',\n",
       " 'AppxSysprep.dll',\n",
       " 'ar-SA',\n",
       " 'ARP.EXE',\n",
       " 'asferror.dll',\n",
       " 'aspnet_counters.dll',\n",
       " 'AssignedAccessCsp.dll',\n",
       " 'asycfilt.dll',\n",
       " 'at.exe',\n",
       " 'AtBroker.exe',\n",
       " 'atl.dll',\n",
       " 'atl100.dll',\n",
       " 'atlthunk.dll',\n",
       " 'atmfd.dll',\n",
       " 'atmlib.dll',\n",
       " 'attrib.exe',\n",
       " 'audiodg.exe',\n",
       " 'AudioEndpointBuilder.dll',\n",
       " 'AudioEng.dll',\n",
       " 'AUDIOKSE.dll',\n",
       " 'audioLibVc.dll',\n",
       " 'AudioSes.dll',\n",
       " 'audiosrv.dll',\n",
       " 'AudioSrvPolicyManager.dll',\n",
       " 'auditcse.dll',\n",
       " 'AuditNativeSnapIn.dll',\n",
       " 'auditpol.exe',\n",
       " 'auditpolcore.dll',\n",
       " 'AuditPolicyGPInterop.dll',\n",
       " 'auditpolmsg.dll',\n",
       " 'AuthBroker.dll',\n",
       " 'AuthBrokerUI.dll',\n",
       " 'AuthExt.dll',\n",
       " 'authfwcfg.dll',\n",
       " 'AuthFWGP.dll',\n",
       " 'AuthFWSnapin.dll',\n",
       " 'AuthFWWizFwk.dll',\n",
       " 'AuthHost.exe',\n",
       " 'AuthHostProxy.dll',\n",
       " 'authui.dll',\n",
       " 'authz.dll',\n",
       " 'autochk.exe',\n",
       " 'autoconv.exe',\n",
       " 'autofmt.exe',\n",
       " 'autoplay.dll',\n",
       " 'avicap32.dll',\n",
       " 'avifil32.dll',\n",
       " 'avrt.dll',\n",
       " 'AxInstSv.dll',\n",
       " 'AxInstUI.exe',\n",
       " 'azman.msc',\n",
       " 'azroles.dll',\n",
       " 'azroleui.dll',\n",
       " 'AzSqlExt.dll',\n",
       " 'AzureSettingSyncProvider.dll',\n",
       " 'baaupdate.exe',\n",
       " 'BackgroundMediaPolicy.dll',\n",
       " 'backgroundTaskHost.exe',\n",
       " 'BackgroundTransferHost.exe',\n",
       " 'BarcodeProvisioningPlugin.dll',\n",
       " 'basecsp.dll',\n",
       " 'basesrv.dll',\n",
       " 'batmeter.dll',\n",
       " 'bcastdvr.exe',\n",
       " 'bcastdvr.proxy.dll',\n",
       " 'BcastDVRHelper.dll',\n",
       " 'bcd.dll',\n",
       " 'bcdboot.exe',\n",
       " 'bcdedit.exe',\n",
       " 'bcdprov.dll',\n",
       " 'bcdsrv.dll',\n",
       " 'BCP47Langs.dll',\n",
       " 'bcrypt.dll',\n",
       " 'bcryptprimitives.dll',\n",
       " 'bdaplgin.ax',\n",
       " 'bdechangepin.exe',\n",
       " 'BdeHdCfg.exe',\n",
       " 'BdeHdCfgLib.dll',\n",
       " 'bderepair.dll',\n",
       " 'bdesvc.dll',\n",
       " 'BdeSysprep.dll',\n",
       " 'bdeui.dll',\n",
       " 'BdeUISrv.exe',\n",
       " 'bdeunlock.exe',\n",
       " 'BFE.DLL',\n",
       " 'bfebfbff0005dt.dat',\n",
       " 'bg-BG',\n",
       " 'bi.dll',\n",
       " 'bidispl.dll',\n",
       " 'BingASDS.dll',\n",
       " 'BingMaps.dll',\n",
       " 'BingOnlineServices.dll',\n",
       " 'BioCredProv.dll',\n",
       " 'BioIso.exe',\n",
       " 'bisrv.dll',\n",
       " 'BitLockerDeviceEncryption.exe',\n",
       " 'BitLockerWizard.exe',\n",
       " 'BitLockerWizardElev.exe',\n",
       " 'bitsadmin.exe',\n",
       " 'bitsigd.dll',\n",
       " 'bitsperf.dll',\n",
       " 'BitsProxy.dll',\n",
       " 'biwinrt.dll',\n",
       " 'BlbEvents.dll',\n",
       " 'blbres.dll',\n",
       " 'blb_ps.dll',\n",
       " 'BluetoothApis.dll',\n",
       " 'BluetoothDesktopHandlers.dll',\n",
       " 'Boot',\n",
       " 'boot.sdi',\n",
       " 'bootcfg.exe',\n",
       " 'bootim.exe',\n",
       " 'BootMenuUX.dll',\n",
       " 'bootsect.exe',\n",
       " 'bootstr.dll',\n",
       " 'bootux.dll',\n",
       " 'BOOTVID.DLL',\n",
       " 'bopomofo.uce',\n",
       " 'bridgeres.dll',\n",
       " 'bridgeunattend.exe',\n",
       " 'BrokerLib.dll',\n",
       " 'browcli.dll',\n",
       " 'browser.dll',\n",
       " 'browserbroker.dll',\n",
       " 'BrowserSettingSync.dll',\n",
       " 'browser_broker.exe',\n",
       " 'browseui.dll',\n",
       " 'bthci.dll',\n",
       " 'BthHFSrv.dll',\n",
       " 'BthMtpContextHandler.dll',\n",
       " 'bthpanapi.dll',\n",
       " 'BthpanContextHandler.dll',\n",
       " 'Bthprops',\n",
       " 'bthprops.cpl',\n",
       " 'BthRadioMedia.dll',\n",
       " 'bthserv.dll',\n",
       " 'BthTelemetry.dll',\n",
       " 'bthudtask.exe',\n",
       " 'btpanui.dll',\n",
       " 'Bubbles.scr',\n",
       " 'BWContextHandler.dll',\n",
       " 'ByteCodeGenerator.exe',\n",
       " 'cabapi.dll',\n",
       " 'cabinet.dll',\n",
       " 'cabview.dll',\n",
       " 'cacls.exe',\n",
       " 'calc.exe',\n",
       " 'CallButtons.dll',\n",
       " 'CallButtons.ProxyStub.dll',\n",
       " 'CallHistoryClient.dll',\n",
       " 'CameraCaptureUI.dll',\n",
       " 'CameraSettingsUIHost.exe',\n",
       " 'capauthz.dll',\n",
       " 'capiprovider.dll',\n",
       " 'capisp.dll',\n",
       " 'CastingShellExt.dll',\n",
       " 'CastLaunch.dll',\n",
       " 'CastSrv.exe',\n",
       " 'CatRoot',\n",
       " 'catroot2',\n",
       " 'catsrv.dll',\n",
       " 'catsrvps.dll',\n",
       " 'catsrvut.dll',\n",
       " 'CbtBackgroundManagerPolicy.dll',\n",
       " 'cca.dll',\n",
       " 'CCBDMBDI.dll',\n",
       " 'CCBHDSNCtrl.dll',\n",
       " 'CCBKCAPI.dll',\n",
       " 'CCBKCAPIV2.dll',\n",
       " 'CCBKCSP.dll',\n",
       " 'CCBKCSP.sig',\n",
       " 'CCBKCSPV2.dll',\n",
       " 'CCBKCSPV2.sig',\n",
       " 'CCBNetSignCom.dll',\n",
       " 'CCBSignCom.ocx',\n",
       " 'CCB_CIDC_CSP.dll',\n",
       " 'CCB_DM_UI.dll',\n",
       " 'CCB_GMSignCom.dll',\n",
       " 'ccb_hdcsp.dll',\n",
       " 'CCB_HDZB_CCID_USBKey2G',\n",
       " 'CCB_HD_TokenV2.dll',\n",
       " 'ccb_tdrmanager.dll',\n",
       " 'cdd.dll',\n",
       " 'cdosys.dll',\n",
       " 'cdp.dll',\n",
       " 'cdpreference.exe',\n",
       " 'cdprt.dll',\n",
       " 'cdpsvc.dll',\n",
       " 'cdpusersvc.dll',\n",
       " 'CellularAPI.dll',\n",
       " 'cemapi.dll',\n",
       " 'cero.rs',\n",
       " 'certca.dll',\n",
       " 'certcli.dll',\n",
       " 'certCredProvider.dll',\n",
       " 'certenc.dll',\n",
       " 'CertEnroll.dll',\n",
       " 'CertEnrollCtrl.exe',\n",
       " 'CertEnrollUI.dll',\n",
       " 'certlm.msc',\n",
       " 'certmgr.dll',\n",
       " 'certmgr.msc',\n",
       " 'CertPKICmdlet.dll',\n",
       " 'CertPolEng.dll',\n",
       " 'certprop.dll',\n",
       " 'certreq.exe',\n",
       " 'certutil.exe',\n",
       " 'cewmdm.dll',\n",
       " 'cfgbkend.dll',\n",
       " 'cfgmgr32.dll',\n",
       " 'CfgSPCellular.dll',\n",
       " 'CfgSPPolicy.dll',\n",
       " 'cfmifs.dll',\n",
       " 'cfmifsproxy.dll',\n",
       " 'Chakra.dll',\n",
       " 'Chakradiag.dll',\n",
       " 'Chakrathunk.dll',\n",
       " 'change.exe',\n",
       " 'changepk.exe',\n",
       " 'charmap.exe',\n",
       " 'chartv.dll',\n",
       " 'ChatApis.dll',\n",
       " 'chcp.com',\n",
       " 'CheckNetIsolation.exe',\n",
       " 'chglogon.exe',\n",
       " 'chgport.exe',\n",
       " 'chgusr.exe',\n",
       " 'chkdsk.exe',\n",
       " 'chkntfs.exe',\n",
       " 'chkwudrv.dll',\n",
       " 'choice.exe',\n",
       " 'ChsPinyinRanker.dll',\n",
       " 'ChsStrokeDS.dll',\n",
       " 'chs_singlechar_pinyin.dat',\n",
       " 'ChtCangjieDS.dll',\n",
       " 'ChtHkStrokeDS.dll',\n",
       " 'ChtQuickDS.dll',\n",
       " 'ChxAPDS.dll',\n",
       " 'ChxHAPDS.dll',\n",
       " 'chxinputrouter.dll',\n",
       " 'chxranker.dll',\n",
       " 'CHxReadingStringIME.dll',\n",
       " 'ci.dll',\n",
       " 'cic.dll',\n",
       " 'cipher.exe',\n",
       " 'CIRCoInst.dll',\n",
       " 'CIWmi.dll',\n",
       " 'clb.dll',\n",
       " 'clbcatq.dll',\n",
       " 'cleanmgr.exe',\n",
       " 'clfsw32.dll',\n",
       " 'cliconfg.dll',\n",
       " 'cliconfg.exe',\n",
       " 'cliconfg.rll',\n",
       " 'clip.exe',\n",
       " 'ClipboardServer.dll',\n",
       " 'Clipc.dll',\n",
       " 'ClipSVC.dll',\n",
       " 'ClipUp.exe',\n",
       " 'cloudAP.dll',\n",
       " 'CloudBackupSettings.dll',\n",
       " 'CloudDomainJoinAUG.dll',\n",
       " 'CloudDomainJoinDataModelServer.dll',\n",
       " 'CloudExperienceHost.dll',\n",
       " 'CloudExperienceHostBroker.dll',\n",
       " 'CloudExperienceHostBroker.exe',\n",
       " 'CloudExperienceHostCommon.dll',\n",
       " 'CloudExperienceHostUser.dll',\n",
       " 'CloudNotifications.exe',\n",
       " 'CloudStorageWizard.exe',\n",
       " 'clrhost.dll',\n",
       " 'clusapi.dll',\n",
       " 'cmcfg32.dll',\n",
       " 'cmd.exe',\n",
       " 'cmdext.dll',\n",
       " 'cmdial32.dll',\n",
       " 'cmdkey.exe',\n",
       " 'cmdl32.exe',\n",
       " 'cmgrcspps.dll',\n",
       " 'cmifw.dll',\n",
       " 'cmintegrator.dll',\n",
       " 'cmlua.dll',\n",
       " 'cmmon32.exe',\n",
       " 'cmpbk32.dll',\n",
       " 'cmstp.exe',\n",
       " 'cmstplua.dll',\n",
       " 'cmutil.dll',\n",
       " 'cngcredui.dll',\n",
       " 'cngprovider.dll',\n",
       " 'cnvfat.dll',\n",
       " 'cob-au.rs',\n",
       " 'CodeIntegrity',\n",
       " 'cofire.exe',\n",
       " 'cofiredm.dll',\n",
       " 'coin99ip.dll',\n",
       " 'coin99itp.dll',\n",
       " 'colbact.dll',\n",
       " 'COLORCNV.DLL',\n",
       " 'colorcpl.exe',\n",
       " 'colorui.dll',\n",
       " 'Com',\n",
       " 'combase.dll',\n",
       " 'comcat.dll',\n",
       " 'comctl32.dll',\n",
       " 'comdlg32.dll',\n",
       " 'comexp.msc',\n",
       " 'coml2.dll',\n",
       " 'comp.exe',\n",
       " 'compact.exe',\n",
       " 'CompatTelRunner.exe',\n",
       " 'compmgmt.msc',\n",
       " 'CompMgmtLauncher.exe',\n",
       " 'CompPkgSup.dll',\n",
       " 'compstui.dll',\n",
       " 'ComputerDefaults.exe',\n",
       " 'comrepl.dll',\n",
       " 'comres.dll',\n",
       " 'comsnap.dll',\n",
       " 'comsvcs.dll',\n",
       " 'comuid.dll',\n",
       " 'concrt140.dll',\n",
       " 'concrt140d.dll',\n",
       " 'CONEQMSAPOGUILibrary.dll',\n",
       " 'config',\n",
       " 'configmanager2.dll',\n",
       " 'Configuration',\n",
       " 'configurationclient.dll',\n",
       " 'ConfigureExpandedStorage.dll',\n",
       " 'conhost.exe',\n",
       " 'ConhostV1.dll',\n",
       " 'ConhostV2.dll',\n",
       " 'connect.dll',\n",
       " 'ConnectedAccountState.dll',\n",
       " 'consent.exe',\n",
       " 'ConsentUX.dll',\n",
       " 'console.dll',\n",
       " 'ConsoleLogon.dll',\n",
       " 'ContactActivation.dll',\n",
       " 'ContactApis.dll',\n",
       " 'ContactHarvesterDS.dll',\n",
       " 'container.dll',\n",
       " 'container_xml.dll',\n",
       " 'ContentDeliveryManager.Utilities.dll',\n",
       " 'control.exe',\n",
       " 'convert.exe',\n",
       " 'coreaudiopolicymanagerext.dll',\n",
       " 'coredpus.dll',\n",
       " 'CoreMessaging.dll',\n",
       " 'CoreMmRes.dll',\n",
       " 'CoreUIComponents.dll',\n",
       " 'correngine.dll',\n",
       " 'Cortana.Persona.dll',\n",
       " 'CortanaMapiHelper.dll',\n",
       " 'CortanaMapiHelper.ProxyStub.dll',\n",
       " 'CourtesyEngine.dll',\n",
       " 'CPFilters.dll',\n",
       " 'cp_resources.bin',\n",
       " 'CredentialMigrationHandler.dll',\n",
       " 'CredentialUIBroker.exe',\n",
       " 'CredProvDataModel.dll',\n",
       " 'credprovhost.dll',\n",
       " 'credprovs.dll',\n",
       " 'credprovslegacy.dll',\n",
       " 'credssp.dll',\n",
       " 'credui.dll',\n",
       " 'credwiz.exe',\n",
       " 'crypt32.dll',\n",
       " 'cryptbase.dll',\n",
       " 'cryptcatsvc.dll',\n",
       " 'cryptdlg.dll',\n",
       " 'cryptdll.dll',\n",
       " 'cryptext.dll',\n",
       " 'cryptnet.dll',\n",
       " 'cryptngc.dll',\n",
       " 'CryptoWinRT.dll',\n",
       " 'cryptsp.dll',\n",
       " 'cryptsvc.dll',\n",
       " 'crypttpmeksvc.dll',\n",
       " 'cryptui.dll',\n",
       " 'cryptuiwizard.dll',\n",
       " 'cryptxml.dll',\n",
       " 'cs-CZ',\n",
       " 'cscapi.dll',\n",
       " 'cscdll.dll',\n",
       " 'CscMig.dll',\n",
       " 'cscobj.dll',\n",
       " 'cscript.exe',\n",
       " 'cscsvc.dll',\n",
       " 'cscui.dll',\n",
       " 'CspCellularSettings.dll',\n",
       " 'CspProxy.dll',\n",
       " 'csrr.rs',\n",
       " 'csrsrv.dll',\n",
       " 'csrss.exe',\n",
       " 'CSystemEventsBrokerClient.dll',\n",
       " 'ctfmon.exe',\n",
       " 'cttune.exe',\n",
       " 'cttunesvr.exe',\n",
       " 'cuzzapi.dll',\n",
       " 'CX64APO.dll',\n",
       " 'CX64Proxy.dll',\n",
       " 'C_037.NLS',\n",
       " 'C_10000.NLS',\n",
       " 'C_10001.NLS',\n",
       " 'C_10002.NLS',\n",
       " 'C_10003.NLS',\n",
       " 'C_10004.NLS',\n",
       " 'C_10005.NLS',\n",
       " 'C_10006.NLS',\n",
       " 'C_10007.NLS',\n",
       " 'C_10008.NLS',\n",
       " 'C_10010.NLS',\n",
       " 'C_10017.NLS',\n",
       " 'C_10021.NLS',\n",
       " 'C_10029.NLS',\n",
       " 'C_10079.NLS',\n",
       " 'C_10081.NLS',\n",
       " 'C_10082.NLS',\n",
       " 'C_1026.NLS',\n",
       " 'C_1047.NLS',\n",
       " 'C_1140.NLS',\n",
       " 'C_1141.NLS',\n",
       " 'C_1142.NLS',\n",
       " 'C_1143.NLS',\n",
       " 'C_1144.NLS',\n",
       " 'C_1145.NLS',\n",
       " 'C_1146.NLS',\n",
       " 'C_1147.NLS',\n",
       " 'C_1148.NLS',\n",
       " 'C_1149.NLS',\n",
       " 'C_1250.NLS',\n",
       " 'C_1251.NLS',\n",
       " 'C_1252.NLS',\n",
       " 'C_1253.NLS',\n",
       " 'C_1254.NLS',\n",
       " 'C_1255.NLS',\n",
       " 'C_1256.NLS',\n",
       " 'C_1257.NLS',\n",
       " 'C_1258.NLS',\n",
       " 'C_1361.NLS',\n",
       " 'C_20000.NLS',\n",
       " 'C_20001.NLS',\n",
       " 'C_20002.NLS',\n",
       " 'C_20003.NLS',\n",
       " 'C_20004.NLS',\n",
       " 'C_20005.NLS',\n",
       " 'C_20105.NLS',\n",
       " 'C_20106.NLS',\n",
       " 'C_20107.NLS',\n",
       " 'C_20108.NLS',\n",
       " 'C_20127.NLS',\n",
       " 'C_20261.NLS',\n",
       " 'C_20269.NLS',\n",
       " 'C_20273.NLS',\n",
       " 'C_20277.NLS',\n",
       " 'C_20278.NLS',\n",
       " 'C_20280.NLS',\n",
       " 'C_20284.NLS',\n",
       " 'C_20285.NLS',\n",
       " 'C_20290.NLS',\n",
       " 'C_20297.NLS',\n",
       " 'C_20420.NLS',\n",
       " 'C_20423.NLS',\n",
       " 'C_20424.NLS',\n",
       " 'C_20833.NLS',\n",
       " 'C_20838.NLS',\n",
       " 'C_20866.NLS',\n",
       " 'C_20871.NLS',\n",
       " 'C_20880.NLS',\n",
       " 'C_20905.NLS',\n",
       " 'C_20924.NLS',\n",
       " 'C_20932.NLS',\n",
       " 'C_20936.NLS',\n",
       " 'C_20949.NLS',\n",
       " 'C_21025.NLS',\n",
       " 'C_21027.NLS',\n",
       " 'C_21866.NLS',\n",
       " 'C_28591.NLS',\n",
       " 'C_28592.NLS',\n",
       " 'C_28593.NLS',\n",
       " 'C_28594.NLS',\n",
       " 'C_28595.NLS',\n",
       " 'C_28596.NLS',\n",
       " 'C_28597.NLS',\n",
       " 'C_28598.NLS',\n",
       " 'C_28599.NLS',\n",
       " 'c_28603.nls',\n",
       " 'C_28605.NLS',\n",
       " 'C_437.NLS',\n",
       " 'C_500.NLS',\n",
       " 'C_708.NLS',\n",
       " 'C_720.NLS',\n",
       " 'C_737.NLS',\n",
       " 'C_775.NLS',\n",
       " 'C_850.NLS',\n",
       " 'C_852.NLS',\n",
       " 'C_855.NLS',\n",
       " 'C_857.NLS',\n",
       " 'C_858.NLS',\n",
       " 'C_860.NLS',\n",
       " 'C_861.NLS',\n",
       " 'C_862.NLS',\n",
       " 'C_863.NLS',\n",
       " 'C_864.NLS',\n",
       " 'C_865.NLS',\n",
       " 'C_866.NLS',\n",
       " 'C_869.NLS',\n",
       " 'C_870.NLS',\n",
       " 'C_874.NLS',\n",
       " 'C_875.NLS',\n",
       " 'C_932.NLS',\n",
       " 'C_936.NLS',\n",
       " 'C_949.NLS',\n",
       " 'C_950.NLS',\n",
       " 'C_G18030.DLL',\n",
       " 'c_GSM7.DLL',\n",
       " 'C_IS2022.DLL',\n",
       " 'C_ISCII.DLL',\n",
       " 'd2d1.dll',\n",
       " 'd2d1debug2.dll',\n",
       " 'd3d10.dll',\n",
       " 'd3d10core.dll',\n",
       " 'd3d10level9.dll',\n",
       " 'd3d10ref.dll',\n",
       " 'd3d10sdklayers.dll',\n",
       " 'd3d10warp.dll',\n",
       " 'd3d10_1.dll',\n",
       " 'd3d10_1core.dll',\n",
       " 'd3d11.dll',\n",
       " 'd3d11ref.dll',\n",
       " 'd3d11sdklayers.dll',\n",
       " 'd3d11_1sdklayers.dll',\n",
       " 'd3d11_2sdklayers.dll',\n",
       " 'D3D12.dll',\n",
       " 'd3d8thk.dll',\n",
       " 'd3d9.dll',\n",
       " 'D3DCompiler_47.dll',\n",
       " 'd3dref9.dll',\n",
       " 'D4CSP_CCB.dll',\n",
       " 'D4CSP_CCBs.dll',\n",
       " 'D4DevEx01_CCB.dll',\n",
       " 'D4Pinpad_CCB.dll',\n",
       " 'D4Token_CCB.dll',\n",
       " 'D4VD_CCB.dll',\n",
       " 'da-DK',\n",
       " 'dab.dll',\n",
       " 'dabapi.dll',\n",
       " 'DAConn.dll',\n",
       " 'dafBth.dll',\n",
       " 'DafCdp.dll',\n",
       " 'DafDnsSd.dll',\n",
       " 'dafDockingProvider.dll',\n",
       " 'DafGip.dll',\n",
       " 'DAFIoT.dll',\n",
       " 'dafpos.dll',\n",
       " 'DafPrintProvider.dll',\n",
       " 'dafupnp.dll',\n",
       " 'dafWCN.dll',\n",
       " 'dafWfdProvider.dll',\n",
       " 'DAFWiProv.dll',\n",
       " 'DAFWSD.dll',\n",
       " 'DAMediaManager.dll',\n",
       " 'DAMM.dll',\n",
       " 'DaOtpCredentialProvider.dll',\n",
       " 'das.dll',\n",
       " 'dasHost.exe',\n",
       " 'dataclen.dll',\n",
       " 'DataExchange.dll',\n",
       " 'DataExchangeHost.exe',\n",
       " 'DataSenseHandlers.dll',\n",
       " 'DataSenseLiveTileTask.exe',\n",
       " 'datusage.dll',\n",
       " 'davclnt.dll',\n",
       " 'davhlpr.dll',\n",
       " 'DavSyncProvider.dll',\n",
       " 'DAX2',\n",
       " 'daxexec.dll',\n",
       " 'dbgcore.dll',\n",
       " 'dbgeng.dll',\n",
       " 'dbghelp.dll',\n",
       " 'DbgModel.dll',\n",
       " 'dbnetlib.dll',\n",
       " 'dbnmpntw.dll',\n",
       " 'dccw.exe',\n",
       " 'dciman32.dll',\n",
       " 'dcntel.dll',\n",
       " 'dcomcnfg.exe',\n",
       " 'dcomp.dll',\n",
       " 'dcpapi.dll',\n",
       " 'dcpsvc.dll',\n",
       " 'dcpurapi.dll',\n",
       " 'DDACLSys.dll',\n",
       " 'DdcWnsListener.dll',\n",
       " 'DDDS.dll',\n",
       " 'DDFs',\n",
       " 'ddodiag.exe',\n",
       " 'DDOIProxy.dll',\n",
       " 'DDORes.dll',\n",
       " 'DDPA64.dll',\n",
       " 'DDPA64F3.dll',\n",
       " 'ddpchunk.dll',\n",
       " 'DDPD64A.dll',\n",
       " 'DDPD64AF3.dll',\n",
       " 'DDPO64A.dll',\n",
       " 'DDPO64AF3.dll',\n",
       " 'DDPP64A.dll',\n",
       " 'DDPP64AF3.dll',\n",
       " 'ddptrace.dll',\n",
       " 'ddputils.dll',\n",
       " 'ddp_ps.dll',\n",
       " 'ddraw.dll',\n",
       " 'ddrawex.dll',\n",
       " 'de-DE',\n",
       " 'DefaultDeviceManager.dll',\n",
       " 'DefaultHrtfs.bin',\n",
       " 'DefaultPrinterProvider.dll',\n",
       " 'DefaultQuestions.json',\n",
       " 'Defrag.exe',\n",
       " 'defragproxy.dll',\n",
       " 'defragres.dll',\n",
       " 'defragsvc.dll',\n",
       " 'delegatorprovider.dll',\n",
       " 'desk.cpl',\n",
       " 'deskadp.dll',\n",
       " 'deskmon.dll',\n",
       " 'DESKTOP-KNRFVKS_defaultuser0_HistoryPrediction.bin',\n",
       " 'DESKTOP-M7P1NB6_Administrator_HistoryPrediction.bin',\n",
       " 'DesktopShellExt.dll',\n",
       " 'DevDispItemProvider.dll',\n",
       " 'DeveloperOptionsSettingsHandlers.dll',\n",
       " 'devenum.dll',\n",
       " 'deviceaccess.dll',\n",
       " 'deviceassociation.dll',\n",
       " 'DeviceCensus.exe',\n",
       " 'DeviceCenter.dll',\n",
       " 'DeviceCredential.dll',\n",
       " 'DeviceDirectoryClient.dll',\n",
       " 'DeviceDisplayStatusManager.dll',\n",
       " 'DeviceDriverRetrievalClient.dll',\n",
       " 'DeviceEject.exe',\n",
       " 'DeviceElementSource.dll',\n",
       " 'DeviceEnroller.exe',\n",
       " 'DeviceFlows.DataModel.dll',\n",
       " 'DeviceMetadataRetrievalClient.dll',\n",
       " 'devicengccredprov.dll',\n",
       " 'DevicePairing.dll',\n",
       " 'DevicePairingFolder.dll',\n",
       " 'DevicePairingProxy.dll',\n",
       " 'DevicePairingWizard.exe',\n",
       " 'DeviceProperties.exe',\n",
       " 'DeviceReactivation.dll',\n",
       " 'deviceregistration.dll',\n",
       " 'DeviceSetupManager.dll',\n",
       " 'DeviceSetupManagerAPI.dll',\n",
       " 'DeviceSetupStatusProvider.dll',\n",
       " 'DevicesFlowBroker.dll',\n",
       " 'DeviceUxRes.dll',\n",
       " 'devinv.dll',\n",
       " 'devmgmt.msc',\n",
       " 'devmgr.dll',\n",
       " 'DevModeRunAsUserConfig.msc',\n",
       " 'devobj.dll',\n",
       " 'DevPropMgr.dll',\n",
       " 'DevQueryBroker.dll',\n",
       " 'devrtl.dll',\n",
       " 'dfdts.dll',\n",
       " 'DFDWiz.exe',\n",
       " 'dfrgui.exe',\n",
       " 'dfscli.dll',\n",
       " 'dfshim.dll',\n",
       " 'DfsShlEx.dll',\n",
       " 'dggpext.dll',\n",
       " 'dhcpcmonitor.dll',\n",
       " 'dhcpcore.dll',\n",
       " 'dhcpcore6.dll',\n",
       " 'dhcpcsvc.dll',\n",
       " 'dhcpcsvc6.dll',\n",
       " 'dhcpsapi.dll',\n",
       " 'DiagCpl.dll',\n",
       " 'DiagnosticLogCSP.dll',\n",
       " 'diagperf.dll',\n",
       " 'DiagSvcs',\n",
       " 'diagtrack.dll',\n",
       " 'dialclient.dll',\n",
       " 'dialer.exe',\n",
       " 'dialserver.dll',\n",
       " 'DictationManager.dll',\n",
       " 'difxapi.dll',\n",
       " 'dimsjob.dll',\n",
       " 'dimsroam.dll',\n",
       " 'dinput.dll',\n",
       " 'dinput8.dll',\n",
       " 'Direct2DDesktop.dll',\n",
       " 'directmanipulation.dll',\n",
       " 'discan.dll',\n",
       " 'diskmgmt.msc',\n",
       " 'diskpart.exe',\n",
       " 'diskperf.exe',\n",
       " 'diskraid.exe',\n",
       " 'DiskSnapshot.conf',\n",
       " 'DiskSnapshot.exe',\n",
       " 'Dism',\n",
       " 'Dism.exe',\n",
       " 'DismApi.dll',\n",
       " 'dispci.dll',\n",
       " 'dispdiag.exe',\n",
       " 'dispex.dll',\n",
       " 'Display.dll',\n",
       " 'DisplayAudiox64.cab',\n",
       " 'DisplayManager.dll',\n",
       " 'DisplaySwitch.exe',\n",
       " 'djctq.rs',\n",
       " 'djoin.exe',\n",
       " 'dllhost.exe',\n",
       " 'dllhst3g.exe',\n",
       " 'dlnashext.dll',\n",
       " 'DmApiSetExtImplDesktop.dll',\n",
       " 'DMAppsRes.dll',\n",
       " 'dmcertinst.exe',\n",
       " 'dmcfghost.exe',\n",
       " 'dmcfgutils.dll',\n",
       " 'dmclient.exe',\n",
       " 'dmcmnutils.dll',\n",
       " 'dmcommandlineutils.dll',\n",
       " 'dmcsps.dll',\n",
       " 'dmdlgs.dll',\n",
       " 'dmdskmgr.dll',\n",
       " 'dmdskres.dll',\n",
       " 'dmdskres2.dll',\n",
       " 'dmenrollengine.dll',\n",
       " 'dmenterprisediagnostics.dll',\n",
       " 'dmintf.dll',\n",
       " 'dmiso8601utils.dll',\n",
       " 'dmloader.dll',\n",
       " 'DmNotificationBroker.exe',\n",
       " 'dmocx.dll',\n",
       " 'dmoleaututils.dll',\n",
       " 'DmOmaCpMo.exe',\n",
       " 'dmprocessxmlfiltered.dll',\n",
       " 'dmpushproxy.dll',\n",
       " 'DMPushRouterCore.dll',\n",
       " 'DMRServer.dll',\n",
       " 'dmsynth.dll',\n",
       " 'dmusic.dll',\n",
       " 'dmutil.dll',\n",
       " 'dmvdsitf.dll',\n",
       " 'dmview.ocx',\n",
       " 'dmwappushsvc.dll',\n",
       " 'dmwmicsp.dll',\n",
       " 'dmxmlhelputils.dll',\n",
       " 'dns-sd.exe',\n",
       " 'dnsapi.dll',\n",
       " 'dnscacheugc.exe',\n",
       " 'dnscmmc.dll',\n",
       " 'dnsext.dll',\n",
       " 'dnshc.dll',\n",
       " 'dnsrslvr.dll',\n",
       " 'dnssd.dll',\n",
       " 'dnssdX.dll',\n",
       " 'DockInterface.ProxyStub.dll',\n",
       " 'docprop.dll',\n",
       " 'DocumentPerformanceEvents.dll',\n",
       " 'DolbyDAX2APOProp.dll',\n",
       " 'DolbyDAX2APOv201.dll',\n",
       " 'DolbyDAX2APOv211.dll',\n",
       " 'DolbyDecMFT.dll',\n",
       " 'domgmt.dll',\n",
       " 'doskey.exe',\n",
       " 'dosvc.dll',\n",
       " 'dot3api.dll',\n",
       " 'dot3cfg.dll',\n",
       " 'Dot3Conn.dll',\n",
       " 'dot3dlg.dll',\n",
       " 'dot3gpclnt.dll',\n",
       " 'dot3gpui.dll',\n",
       " 'dot3hc.dll',\n",
       " 'dot3mm.dll',\n",
       " 'dot3msm.dll',\n",
       " 'dot3svc.dll',\n",
       " 'dot3ui.dll',\n",
       " 'downlevel',\n",
       " 'dpapi.dll',\n",
       " 'dpapimig.exe',\n",
       " 'dpapiprovider.dll',\n",
       " 'dpapisrv.dll',\n",
       " 'DpiScaling.exe',\n",
       " 'dpnaddr.dll',\n",
       " 'dpnathlp.dll',\n",
       " 'dpnet.dll',\n",
       " 'dpnhpast.dll',\n",
       " 'dpnhupnp.dll',\n",
       " 'dpnlobby.dll',\n",
       " 'dpnsvr.exe',\n",
       " 'dps.dll',\n",
       " 'dpx.dll',\n",
       " 'driverquery.exe',\n",
       " 'drivers',\n",
       " 'DriverStore',\n",
       " 'drprov.dll',\n",
       " 'drt.dll',\n",
       " 'drtprov.dll',\n",
       " 'drttransport.dll',\n",
       " 'drvcfg.exe',\n",
       " 'drvinst.exe',\n",
       " 'drvstore.dll',\n",
       " 'dsauth.dll',\n",
       " 'dsc',\n",
       " 'DscCore.dll',\n",
       " 'DscCoreConfProv.dll',\n",
       " 'dsclient.dll',\n",
       " 'dscproxy.dll',\n",
       " 'DscTimer.dll',\n",
       " 'dsdmo.dll',\n",
       " 'dskquota.dll',\n",
       " 'dskquoui.dll',\n",
       " 'DsmUserTask.exe',\n",
       " 'dsound.dll',\n",
       " 'dsparse.dll',\n",
       " 'dsprop.dll',\n",
       " 'dsquery.dll',\n",
       " 'dsreg.dll',\n",
       " 'dsregcmd.exe',\n",
       " 'dsrole.dll',\n",
       " 'dssec.dat',\n",
       " 'dssec.dll',\n",
       " 'dssenh.dll',\n",
       " 'dssvc.dll',\n",
       " 'dstokenclean.exe',\n",
       " 'Dsui.dll',\n",
       " 'dsuiext.dll',\n",
       " 'dswave.dll',\n",
       " 'DTSBassEnhancementDLL64.dll',\n",
       " 'DTSBoostDLL64.dll',\n",
       " 'DTSGainCompensatorDLL64.dll',\n",
       " 'DTSGFXAPO64.dll',\n",
       " 'DTSGFXAPONS64.dll',\n",
       " 'dtsh.dll',\n",
       " 'DTSLFXAPO64.dll',\n",
       " 'DTSLimiterDLL64.dll',\n",
       " 'DTSNeoPCDLL64.dll',\n",
       " 'DTSS2HeadphoneDLL64.dll',\n",
       " 'DTSS2SpeakerDLL64.dll',\n",
       " 'DTSSymmetryDLL64.dll',\n",
       " 'DTSU2PGFX64.dll',\n",
       " 'DTSU2PLFX64.dll',\n",
       " 'DTSU2PREC64.dll',\n",
       " 'DTSVoiceClarityDLL64.dll',\n",
       " 'DuCsps.dll',\n",
       " 'dui70.dll',\n",
       " 'duser.dll',\n",
       " 'dusmtask.exe',\n",
       " 'dvdplay.exe',\n",
       " 'dwm.exe',\n",
       " 'dwmapi.dll',\n",
       " 'dwmcore.dll',\n",
       " ...]"
      ]
     },
     "execution_count": 27,
     "metadata": {},
     "output_type": "execute_result"
    }
   ],
   "source": [
    "os.listdir('C:\\\\Windows\\\\System32')"
   ]
  },
  {
   "cell_type": "code",
   "execution_count": 28,
   "metadata": {
    "collapsed": false
   },
   "outputs": [
    {
     "ename": "PermissionError",
     "evalue": "[WinError 5] 拒绝访问。: 'C:\\\\Windows\\\\System32\\\\config'",
     "output_type": "error",
     "traceback": [
      "\u001b[0;31m---------------------------------------------------------------------------\u001b[0m",
      "\u001b[0;31mPermissionError\u001b[0m                           Traceback (most recent call last)",
      "\u001b[0;32m<ipython-input-28-a05f6a224076>\u001b[0m in \u001b[0;36m<module>\u001b[0;34m()\u001b[0m\n\u001b[1;32m      1\u001b[0m \u001b[0mtotalSize\u001b[0m \u001b[1;33m=\u001b[0m \u001b[1;36m0\u001b[0m\u001b[1;33m\u001b[0m\u001b[0m\n\u001b[1;32m      2\u001b[0m \u001b[1;32mfor\u001b[0m \u001b[0mfilename\u001b[0m \u001b[1;32min\u001b[0m \u001b[0mos\u001b[0m\u001b[1;33m.\u001b[0m\u001b[0mlistdir\u001b[0m\u001b[1;33m(\u001b[0m\u001b[1;34m'C:\\\\Windows\\\\System32'\u001b[0m\u001b[1;33m)\u001b[0m\u001b[1;33m:\u001b[0m\u001b[1;33m\u001b[0m\u001b[0m\n\u001b[0;32m----> 3\u001b[0;31m     \u001b[0mtotalSize\u001b[0m \u001b[1;33m=\u001b[0m \u001b[0mtotalSize\u001b[0m \u001b[1;33m+\u001b[0m \u001b[0mos\u001b[0m\u001b[1;33m.\u001b[0m\u001b[0mpath\u001b[0m\u001b[1;33m.\u001b[0m\u001b[0mgetsize\u001b[0m\u001b[1;33m(\u001b[0m\u001b[0mos\u001b[0m\u001b[1;33m.\u001b[0m\u001b[0mpath\u001b[0m\u001b[1;33m.\u001b[0m\u001b[0mjoin\u001b[0m\u001b[1;33m(\u001b[0m\u001b[1;34m'C:\\\\Windows\\\\System32'\u001b[0m\u001b[1;33m,\u001b[0m\u001b[0mfilename\u001b[0m\u001b[1;33m)\u001b[0m\u001b[1;33m)\u001b[0m\u001b[1;33m\u001b[0m\u001b[0m\n\u001b[0m\u001b[1;32m      4\u001b[0m \u001b[0mprint\u001b[0m\u001b[1;33m(\u001b[0m\u001b[0mtotalSize\u001b[0m\u001b[1;33m)\u001b[0m\u001b[1;33m\u001b[0m\u001b[0m\n",
      "\u001b[0;32mC:\\Users\\kuang\\Anaconda3\\lib\\genericpath.py\u001b[0m in \u001b[0;36mgetsize\u001b[0;34m(filename)\u001b[0m\n\u001b[1;32m     48\u001b[0m \u001b[1;32mdef\u001b[0m \u001b[0mgetsize\u001b[0m\u001b[1;33m(\u001b[0m\u001b[0mfilename\u001b[0m\u001b[1;33m)\u001b[0m\u001b[1;33m:\u001b[0m\u001b[1;33m\u001b[0m\u001b[0m\n\u001b[1;32m     49\u001b[0m     \u001b[1;34m\"\"\"Return the size of a file, reported by os.stat().\"\"\"\u001b[0m\u001b[1;33m\u001b[0m\u001b[0m\n\u001b[0;32m---> 50\u001b[0;31m     \u001b[1;32mreturn\u001b[0m \u001b[0mos\u001b[0m\u001b[1;33m.\u001b[0m\u001b[0mstat\u001b[0m\u001b[1;33m(\u001b[0m\u001b[0mfilename\u001b[0m\u001b[1;33m)\u001b[0m\u001b[1;33m.\u001b[0m\u001b[0mst_size\u001b[0m\u001b[1;33m\u001b[0m\u001b[0m\n\u001b[0m\u001b[1;32m     51\u001b[0m \u001b[1;33m\u001b[0m\u001b[0m\n\u001b[1;32m     52\u001b[0m \u001b[1;33m\u001b[0m\u001b[0m\n",
      "\u001b[0;31mPermissionError\u001b[0m: [WinError 5] 拒绝访问。: 'C:\\\\Windows\\\\System32\\\\config'"
     ]
    }
   ],
   "source": [
    "totalSize = 0\n",
    "for filename in os.listdir('C:\\\\Windows\\\\System32'):\n",
    "    totalSize = totalSize + os.path.getsize(os.path.join('C:\\\\Windows\\\\System32',filename))\n",
    "print(totalSize)"
   ]
  },
  {
   "cell_type": "code",
   "execution_count": 29,
   "metadata": {
    "collapsed": true
   },
   "outputs": [],
   "source": [
    "    # 8.1.8 检查路径有效性"
   ]
  },
  {
   "cell_type": "code",
   "execution_count": 30,
   "metadata": {
    "collapsed": false
   },
   "outputs": [
    {
     "data": {
      "text/plain": [
       "True"
      ]
     },
     "execution_count": 30,
     "metadata": {},
     "output_type": "execute_result"
    }
   ],
   "source": [
    "os.path.exists('C:\\\\Windows')"
   ]
  },
  {
   "cell_type": "code",
   "execution_count": 31,
   "metadata": {
    "collapsed": false
   },
   "outputs": [
    {
     "data": {
      "text/plain": [
       "False"
      ]
     },
     "execution_count": 31,
     "metadata": {},
     "output_type": "execute_result"
    }
   ],
   "source": [
    "os.path.exists('C:\\\\some_made_up_folder')"
   ]
  },
  {
   "cell_type": "code",
   "execution_count": 32,
   "metadata": {
    "collapsed": false
   },
   "outputs": [
    {
     "data": {
      "text/plain": [
       "True"
      ]
     },
     "execution_count": 32,
     "metadata": {},
     "output_type": "execute_result"
    }
   ],
   "source": [
    "os.path.isdir('C:\\\\Windows\\\\System32')"
   ]
  },
  {
   "cell_type": "code",
   "execution_count": 33,
   "metadata": {
    "collapsed": false
   },
   "outputs": [
    {
     "data": {
      "text/plain": [
       "False"
      ]
     },
     "execution_count": 33,
     "metadata": {},
     "output_type": "execute_result"
    }
   ],
   "source": [
    "os.path.isfile('C:\\\\Windows\\\\System32')"
   ]
  },
  {
   "cell_type": "code",
   "execution_count": 34,
   "metadata": {
    "collapsed": false
   },
   "outputs": [
    {
     "data": {
      "text/plain": [
       "False"
      ]
     },
     "execution_count": 34,
     "metadata": {},
     "output_type": "execute_result"
    }
   ],
   "source": [
    "os.path.isdir('C:\\\\Windows\\\\System32\\\\calc.exe')"
   ]
  },
  {
   "cell_type": "code",
   "execution_count": 35,
   "metadata": {
    "collapsed": false
   },
   "outputs": [
    {
     "data": {
      "text/plain": [
       "True"
      ]
     },
     "execution_count": 35,
     "metadata": {},
     "output_type": "execute_result"
    }
   ],
   "source": [
    "os.path.exists('D:\\\\')"
   ]
  },
  {
   "cell_type": "code",
   "execution_count": 36,
   "metadata": {
    "collapsed": true
   },
   "outputs": [],
   "source": [
    "# 8.2 文件读写过程\n",
    "    # 8.2.1 用open()函数打开文件"
   ]
  },
  {
   "cell_type": "code",
   "execution_count": 37,
   "metadata": {
    "collapsed": false
   },
   "outputs": [
    {
     "ename": "FileNotFoundError",
     "evalue": "[Errno 2] No such file or directory: 'C:\\\\Users\\\\your_home_folder\\\\hello.txt'",
     "output_type": "error",
     "traceback": [
      "\u001b[0;31m---------------------------------------------------------------------------\u001b[0m",
      "\u001b[0;31mFileNotFoundError\u001b[0m                         Traceback (most recent call last)",
      "\u001b[0;32m<ipython-input-37-cbd0e92a42a7>\u001b[0m in \u001b[0;36m<module>\u001b[0;34m()\u001b[0m\n\u001b[0;32m----> 1\u001b[0;31m \u001b[0mhelloFile\u001b[0m \u001b[1;33m=\u001b[0m \u001b[0mopen\u001b[0m\u001b[1;33m(\u001b[0m\u001b[1;34m'C:\\\\Users\\\\your_home_folder\\\\hello.txt'\u001b[0m\u001b[1;33m)\u001b[0m\u001b[1;33m\u001b[0m\u001b[0m\n\u001b[0m",
      "\u001b[0;31mFileNotFoundError\u001b[0m: [Errno 2] No such file or directory: 'C:\\\\Users\\\\your_home_folder\\\\hello.txt'"
     ]
    }
   ],
   "source": [
    "helloFile = open('C:\\\\Users\\\\your_home_folder\\\\hello.txt')    "
   ]
  },
  {
   "cell_type": "code",
   "execution_count": 38,
   "metadata": {
    "collapsed": false
   },
   "outputs": [
    {
     "ename": "FileNotFoundError",
     "evalue": "[Errno 2] No such file or directory: '/Users/your_home_folder/hello.txt'",
     "output_type": "error",
     "traceback": [
      "\u001b[0;31m---------------------------------------------------------------------------\u001b[0m",
      "\u001b[0;31mFileNotFoundError\u001b[0m                         Traceback (most recent call last)",
      "\u001b[0;32m<ipython-input-38-699d8bf33b3f>\u001b[0m in \u001b[0;36m<module>\u001b[0;34m()\u001b[0m\n\u001b[0;32m----> 1\u001b[0;31m \u001b[0mhelloFile\u001b[0m \u001b[1;33m=\u001b[0m \u001b[0mopen\u001b[0m\u001b[1;33m(\u001b[0m\u001b[1;34m'/Users/your_home_folder/hello.txt'\u001b[0m\u001b[1;33m)\u001b[0m\u001b[1;33m\u001b[0m\u001b[0m\n\u001b[0m",
      "\u001b[0;31mFileNotFoundError\u001b[0m: [Errno 2] No such file or directory: '/Users/your_home_folder/hello.txt'"
     ]
    }
   ],
   "source": [
    "helloFile = open('/Users/your_home_folder/hello.txt')"
   ]
  },
  {
   "cell_type": "code",
   "execution_count": 39,
   "metadata": {
    "collapsed": true
   },
   "outputs": [],
   "source": [
    "    # 8.2.2 读取文件内容"
   ]
  },
  {
   "cell_type": "code",
   "execution_count": 40,
   "metadata": {
    "collapsed": false
   },
   "outputs": [
    {
     "data": {
      "text/plain": [
       "'C:\\\\Users\\\\kuang\\\\Documents\\\\Python Scripts\\\\test.txt'"
      ]
     },
     "execution_count": 40,
     "metadata": {},
     "output_type": "execute_result"
    }
   ],
   "source": [
    "helloFilePath = os.path.join('C:\\\\','Users','kuang','Documents','Python Scripts','test.txt')\n",
    "helloFilePath"
   ]
  },
  {
   "cell_type": "code",
   "execution_count": 41,
   "metadata": {
    "collapsed": false
   },
   "outputs": [
    {
     "data": {
      "text/plain": [
       "'Hello world!\\nAre you okay?'"
      ]
     },
     "execution_count": 41,
     "metadata": {},
     "output_type": "execute_result"
    }
   ],
   "source": [
    "helloFile = open(helloFilePath)  \n",
    "helloContent = helloFile.read()\n",
    "helloContent"
   ]
  },
  {
   "cell_type": "code",
   "execution_count": 42,
   "metadata": {
    "collapsed": false
   },
   "outputs": [
    {
     "data": {
      "text/plain": [
       "['Hello world!\\n', 'Are you okay?']"
      ]
     },
     "execution_count": 42,
     "metadata": {},
     "output_type": "execute_result"
    }
   ],
   "source": [
    "sonnetFile = open(helloFilePath)\n",
    "sonnetFile.readlines()"
   ]
  },
  {
   "cell_type": "code",
   "execution_count": 43,
   "metadata": {
    "collapsed": true
   },
   "outputs": [],
   "source": [
    "    # 8.2.3 写入文件"
   ]
  },
  {
   "cell_type": "code",
   "execution_count": 44,
   "metadata": {
    "collapsed": false
   },
   "outputs": [
    {
     "ename": "PermissionError",
     "evalue": "[Errno 13] Permission denied: 'bacon.txt'",
     "output_type": "error",
     "traceback": [
      "\u001b[0;31m---------------------------------------------------------------------------\u001b[0m",
      "\u001b[0;31mPermissionError\u001b[0m                           Traceback (most recent call last)",
      "\u001b[0;32m<ipython-input-44-d46c3f37fdd0>\u001b[0m in \u001b[0;36m<module>\u001b[0;34m()\u001b[0m\n\u001b[0;32m----> 1\u001b[0;31m \u001b[0mbaconFile\u001b[0m \u001b[1;33m=\u001b[0m \u001b[0mopen\u001b[0m\u001b[1;33m(\u001b[0m\u001b[1;34m'bacon.txt'\u001b[0m\u001b[1;33m,\u001b[0m\u001b[1;34m'w'\u001b[0m\u001b[1;33m)\u001b[0m\u001b[1;33m\u001b[0m\u001b[0m\n\u001b[0m\u001b[1;32m      2\u001b[0m \u001b[0mbaconFile\u001b[0m\u001b[1;33m.\u001b[0m\u001b[0mwrite\u001b[0m\u001b[1;33m(\u001b[0m\u001b[1;34m'Hello world!\\n'\u001b[0m\u001b[1;33m)\u001b[0m\u001b[1;33m\u001b[0m\u001b[0m\n",
      "\u001b[0;31mPermissionError\u001b[0m: [Errno 13] Permission denied: 'bacon.txt'"
     ]
    }
   ],
   "source": [
    "baconFile = open('bacon.txt','w')\n",
    "baconFile.write('Hello world!\\n')"
   ]
  },
  {
   "cell_type": "code",
   "execution_count": 45,
   "metadata": {
    "collapsed": false
   },
   "outputs": [
    {
     "ename": "NameError",
     "evalue": "name 'baconFile' is not defined",
     "output_type": "error",
     "traceback": [
      "\u001b[0;31m---------------------------------------------------------------------------\u001b[0m",
      "\u001b[0;31mNameError\u001b[0m                                 Traceback (most recent call last)",
      "\u001b[0;32m<ipython-input-45-d1b7aa7f98ea>\u001b[0m in \u001b[0;36m<module>\u001b[0;34m()\u001b[0m\n\u001b[0;32m----> 1\u001b[0;31m \u001b[0mbaconFile\u001b[0m\u001b[1;33m.\u001b[0m\u001b[0mclose\u001b[0m\u001b[1;33m(\u001b[0m\u001b[1;33m)\u001b[0m\u001b[1;33m\u001b[0m\u001b[0m\n\u001b[0m\u001b[1;32m      2\u001b[0m \u001b[0mbaconFile\u001b[0m \u001b[1;33m=\u001b[0m \u001b[0mopen\u001b[0m\u001b[1;33m(\u001b[0m\u001b[1;34m'bacon.txt'\u001b[0m\u001b[1;33m,\u001b[0m\u001b[1;34m'a'\u001b[0m\u001b[1;33m)\u001b[0m\u001b[1;33m\u001b[0m\u001b[0m\n\u001b[1;32m      3\u001b[0m \u001b[0mbaconFile\u001b[0m\u001b[1;33m.\u001b[0m\u001b[0mwrite\u001b[0m\u001b[1;33m(\u001b[0m\u001b[1;34m'Bacon is not a vegetable.'\u001b[0m\u001b[1;33m)\u001b[0m\u001b[1;33m\u001b[0m\u001b[0m\n",
      "\u001b[0;31mNameError\u001b[0m: name 'baconFile' is not defined"
     ]
    }
   ],
   "source": [
    "baconFile.close()\n",
    "baconFile = open('bacon.txt','a')\n",
    "baconFile.write('Bacon is not a vegetable.')"
   ]
  },
  {
   "cell_type": "code",
   "execution_count": 46,
   "metadata": {
    "collapsed": true
   },
   "outputs": [],
   "source": [
    "# 8.3 用shelve模块保存变量"
   ]
  },
  {
   "cell_type": "code",
   "execution_count": 47,
   "metadata": {
    "collapsed": false
   },
   "outputs": [
    {
     "ename": "PermissionError",
     "evalue": "[Errno 13] Permission denied: 'mydata.dat'",
     "output_type": "error",
     "traceback": [
      "\u001b[0;31m---------------------------------------------------------------------------\u001b[0m",
      "\u001b[0;31mFileNotFoundError\u001b[0m                         Traceback (most recent call last)",
      "\u001b[0;32mC:\\Users\\kuang\\Anaconda3\\lib\\dbm\\dumb.py\u001b[0m in \u001b[0;36m_create\u001b[0;34m(self, flag)\u001b[0m\n\u001b[1;32m     80\u001b[0m         \u001b[1;32mtry\u001b[0m\u001b[1;33m:\u001b[0m\u001b[1;33m\u001b[0m\u001b[0m\n\u001b[0;32m---> 81\u001b[0;31m             \u001b[0mf\u001b[0m \u001b[1;33m=\u001b[0m \u001b[0m_io\u001b[0m\u001b[1;33m.\u001b[0m\u001b[0mopen\u001b[0m\u001b[1;33m(\u001b[0m\u001b[0mself\u001b[0m\u001b[1;33m.\u001b[0m\u001b[0m_datfile\u001b[0m\u001b[1;33m,\u001b[0m \u001b[1;34m'r'\u001b[0m\u001b[1;33m,\u001b[0m \u001b[0mencoding\u001b[0m\u001b[1;33m=\u001b[0m\u001b[1;34m\"Latin-1\"\u001b[0m\u001b[1;33m)\u001b[0m\u001b[1;33m\u001b[0m\u001b[0m\n\u001b[0m\u001b[1;32m     82\u001b[0m         \u001b[1;32mexcept\u001b[0m \u001b[0mOSError\u001b[0m\u001b[1;33m:\u001b[0m\u001b[1;33m\u001b[0m\u001b[0m\n",
      "\u001b[0;31mFileNotFoundError\u001b[0m: [Errno 2] No such file or directory: 'mydata.dat'",
      "\nDuring handling of the above exception, another exception occurred:\n",
      "\u001b[0;31mPermissionError\u001b[0m                           Traceback (most recent call last)",
      "\u001b[0;32m<ipython-input-47-a23e49099a7c>\u001b[0m in \u001b[0;36m<module>\u001b[0;34m()\u001b[0m\n\u001b[1;32m      1\u001b[0m \u001b[1;32mimport\u001b[0m \u001b[0mshelve\u001b[0m\u001b[1;33m\u001b[0m\u001b[0m\n\u001b[0;32m----> 2\u001b[0;31m \u001b[0mshelfFile\u001b[0m \u001b[1;33m=\u001b[0m \u001b[0mshelve\u001b[0m\u001b[1;33m.\u001b[0m\u001b[0mopen\u001b[0m\u001b[1;33m(\u001b[0m\u001b[1;34m'mydata'\u001b[0m\u001b[1;33m)\u001b[0m\u001b[1;33m\u001b[0m\u001b[0m\n\u001b[0m\u001b[1;32m      3\u001b[0m \u001b[0mcats\u001b[0m \u001b[1;33m=\u001b[0m \u001b[1;33m[\u001b[0m\u001b[1;34m'Zophie'\u001b[0m\u001b[1;33m,\u001b[0m\u001b[1;34m'Pooka'\u001b[0m\u001b[1;33m,\u001b[0m\u001b[1;34m'Simon'\u001b[0m\u001b[1;33m]\u001b[0m\u001b[1;33m\u001b[0m\u001b[0m\n\u001b[1;32m      4\u001b[0m \u001b[0mshelfFile\u001b[0m\u001b[1;33m[\u001b[0m\u001b[1;34m'cats'\u001b[0m\u001b[1;33m]\u001b[0m \u001b[1;33m=\u001b[0m \u001b[0mcats\u001b[0m\u001b[1;33m\u001b[0m\u001b[0m\n\u001b[1;32m      5\u001b[0m \u001b[0mshelfFile\u001b[0m\u001b[1;33m.\u001b[0m\u001b[0mclose\u001b[0m\u001b[1;33m(\u001b[0m\u001b[1;33m)\u001b[0m\u001b[1;33m\u001b[0m\u001b[0m\n",
      "\u001b[0;32mC:\\Users\\kuang\\Anaconda3\\lib\\shelve.py\u001b[0m in \u001b[0;36mopen\u001b[0;34m(filename, flag, protocol, writeback)\u001b[0m\n\u001b[1;32m    241\u001b[0m     \"\"\"\n\u001b[1;32m    242\u001b[0m \u001b[1;33m\u001b[0m\u001b[0m\n\u001b[0;32m--> 243\u001b[0;31m     \u001b[1;32mreturn\u001b[0m \u001b[0mDbfilenameShelf\u001b[0m\u001b[1;33m(\u001b[0m\u001b[0mfilename\u001b[0m\u001b[1;33m,\u001b[0m \u001b[0mflag\u001b[0m\u001b[1;33m,\u001b[0m \u001b[0mprotocol\u001b[0m\u001b[1;33m,\u001b[0m \u001b[0mwriteback\u001b[0m\u001b[1;33m)\u001b[0m\u001b[1;33m\u001b[0m\u001b[0m\n\u001b[0m",
      "\u001b[0;32mC:\\Users\\kuang\\Anaconda3\\lib\\shelve.py\u001b[0m in \u001b[0;36m__init__\u001b[0;34m(self, filename, flag, protocol, writeback)\u001b[0m\n\u001b[1;32m    225\u001b[0m     \u001b[1;32mdef\u001b[0m \u001b[0m__init__\u001b[0m\u001b[1;33m(\u001b[0m\u001b[0mself\u001b[0m\u001b[1;33m,\u001b[0m \u001b[0mfilename\u001b[0m\u001b[1;33m,\u001b[0m \u001b[0mflag\u001b[0m\u001b[1;33m=\u001b[0m\u001b[1;34m'c'\u001b[0m\u001b[1;33m,\u001b[0m \u001b[0mprotocol\u001b[0m\u001b[1;33m=\u001b[0m\u001b[1;32mNone\u001b[0m\u001b[1;33m,\u001b[0m \u001b[0mwriteback\u001b[0m\u001b[1;33m=\u001b[0m\u001b[1;32mFalse\u001b[0m\u001b[1;33m)\u001b[0m\u001b[1;33m:\u001b[0m\u001b[1;33m\u001b[0m\u001b[0m\n\u001b[1;32m    226\u001b[0m         \u001b[1;32mimport\u001b[0m \u001b[0mdbm\u001b[0m\u001b[1;33m\u001b[0m\u001b[0m\n\u001b[0;32m--> 227\u001b[0;31m         \u001b[0mShelf\u001b[0m\u001b[1;33m.\u001b[0m\u001b[0m__init__\u001b[0m\u001b[1;33m(\u001b[0m\u001b[0mself\u001b[0m\u001b[1;33m,\u001b[0m \u001b[0mdbm\u001b[0m\u001b[1;33m.\u001b[0m\u001b[0mopen\u001b[0m\u001b[1;33m(\u001b[0m\u001b[0mfilename\u001b[0m\u001b[1;33m,\u001b[0m \u001b[0mflag\u001b[0m\u001b[1;33m)\u001b[0m\u001b[1;33m,\u001b[0m \u001b[0mprotocol\u001b[0m\u001b[1;33m,\u001b[0m \u001b[0mwriteback\u001b[0m\u001b[1;33m)\u001b[0m\u001b[1;33m\u001b[0m\u001b[0m\n\u001b[0m\u001b[1;32m    228\u001b[0m \u001b[1;33m\u001b[0m\u001b[0m\n\u001b[1;32m    229\u001b[0m \u001b[1;33m\u001b[0m\u001b[0m\n",
      "\u001b[0;32mC:\\Users\\kuang\\Anaconda3\\lib\\dbm\\__init__.py\u001b[0m in \u001b[0;36mopen\u001b[0;34m(file, flag, mode)\u001b[0m\n\u001b[1;32m     92\u001b[0m     \u001b[1;32melse\u001b[0m\u001b[1;33m:\u001b[0m\u001b[1;33m\u001b[0m\u001b[0m\n\u001b[1;32m     93\u001b[0m         \u001b[0mmod\u001b[0m \u001b[1;33m=\u001b[0m \u001b[0m_modules\u001b[0m\u001b[1;33m[\u001b[0m\u001b[0mresult\u001b[0m\u001b[1;33m]\u001b[0m\u001b[1;33m\u001b[0m\u001b[0m\n\u001b[0;32m---> 94\u001b[0;31m     \u001b[1;32mreturn\u001b[0m \u001b[0mmod\u001b[0m\u001b[1;33m.\u001b[0m\u001b[0mopen\u001b[0m\u001b[1;33m(\u001b[0m\u001b[0mfile\u001b[0m\u001b[1;33m,\u001b[0m \u001b[0mflag\u001b[0m\u001b[1;33m,\u001b[0m \u001b[0mmode\u001b[0m\u001b[1;33m)\u001b[0m\u001b[1;33m\u001b[0m\u001b[0m\n\u001b[0m\u001b[1;32m     95\u001b[0m \u001b[1;33m\u001b[0m\u001b[0m\n\u001b[1;32m     96\u001b[0m \u001b[1;33m\u001b[0m\u001b[0m\n",
      "\u001b[0;32mC:\\Users\\kuang\\Anaconda3\\lib\\dbm\\dumb.py\u001b[0m in \u001b[0;36mopen\u001b[0;34m(file, flag, mode)\u001b[0m\n\u001b[1;32m    301\u001b[0m         \u001b[1;31m# Turn off any bits that are set in the umask\u001b[0m\u001b[1;33m\u001b[0m\u001b[1;33m\u001b[0m\u001b[0m\n\u001b[1;32m    302\u001b[0m         \u001b[0mmode\u001b[0m \u001b[1;33m=\u001b[0m \u001b[0mmode\u001b[0m \u001b[1;33m&\u001b[0m \u001b[1;33m(\u001b[0m\u001b[1;33m~\u001b[0m\u001b[0mum\u001b[0m\u001b[1;33m)\u001b[0m\u001b[1;33m\u001b[0m\u001b[0m\n\u001b[0;32m--> 303\u001b[0;31m     \u001b[1;32mreturn\u001b[0m \u001b[0m_Database\u001b[0m\u001b[1;33m(\u001b[0m\u001b[0mfile\u001b[0m\u001b[1;33m,\u001b[0m \u001b[0mmode\u001b[0m\u001b[1;33m,\u001b[0m \u001b[0mflag\u001b[0m\u001b[1;33m=\u001b[0m\u001b[0mflag\u001b[0m\u001b[1;33m)\u001b[0m\u001b[1;33m\u001b[0m\u001b[0m\n\u001b[0m",
      "\u001b[0;32mC:\\Users\\kuang\\Anaconda3\\lib\\dbm\\dumb.py\u001b[0m in \u001b[0;36m__init__\u001b[0;34m(self, filebasename, mode, flag)\u001b[0m\n\u001b[1;32m     67\u001b[0m \u001b[1;33m\u001b[0m\u001b[0m\n\u001b[1;32m     68\u001b[0m         \u001b[1;31m# Handle the creation\u001b[0m\u001b[1;33m\u001b[0m\u001b[1;33m\u001b[0m\u001b[0m\n\u001b[0;32m---> 69\u001b[0;31m         \u001b[0mself\u001b[0m\u001b[1;33m.\u001b[0m\u001b[0m_create\u001b[0m\u001b[1;33m(\u001b[0m\u001b[0mflag\u001b[0m\u001b[1;33m)\u001b[0m\u001b[1;33m\u001b[0m\u001b[0m\n\u001b[0m\u001b[1;32m     70\u001b[0m         \u001b[0mself\u001b[0m\u001b[1;33m.\u001b[0m\u001b[0m_update\u001b[0m\u001b[1;33m(\u001b[0m\u001b[1;33m)\u001b[0m\u001b[1;33m\u001b[0m\u001b[0m\n\u001b[1;32m     71\u001b[0m \u001b[1;33m\u001b[0m\u001b[0m\n",
      "\u001b[0;32mC:\\Users\\kuang\\Anaconda3\\lib\\dbm\\dumb.py\u001b[0m in \u001b[0;36m_create\u001b[0;34m(self, flag)\u001b[0m\n\u001b[1;32m     81\u001b[0m             \u001b[0mf\u001b[0m \u001b[1;33m=\u001b[0m \u001b[0m_io\u001b[0m\u001b[1;33m.\u001b[0m\u001b[0mopen\u001b[0m\u001b[1;33m(\u001b[0m\u001b[0mself\u001b[0m\u001b[1;33m.\u001b[0m\u001b[0m_datfile\u001b[0m\u001b[1;33m,\u001b[0m \u001b[1;34m'r'\u001b[0m\u001b[1;33m,\u001b[0m \u001b[0mencoding\u001b[0m\u001b[1;33m=\u001b[0m\u001b[1;34m\"Latin-1\"\u001b[0m\u001b[1;33m)\u001b[0m\u001b[1;33m\u001b[0m\u001b[0m\n\u001b[1;32m     82\u001b[0m         \u001b[1;32mexcept\u001b[0m \u001b[0mOSError\u001b[0m\u001b[1;33m:\u001b[0m\u001b[1;33m\u001b[0m\u001b[0m\n\u001b[0;32m---> 83\u001b[0;31m             \u001b[1;32mwith\u001b[0m \u001b[0m_io\u001b[0m\u001b[1;33m.\u001b[0m\u001b[0mopen\u001b[0m\u001b[1;33m(\u001b[0m\u001b[0mself\u001b[0m\u001b[1;33m.\u001b[0m\u001b[0m_datfile\u001b[0m\u001b[1;33m,\u001b[0m \u001b[1;34m'w'\u001b[0m\u001b[1;33m,\u001b[0m \u001b[0mencoding\u001b[0m\u001b[1;33m=\u001b[0m\u001b[1;34m\"Latin-1\"\u001b[0m\u001b[1;33m)\u001b[0m \u001b[1;32mas\u001b[0m \u001b[0mf\u001b[0m\u001b[1;33m:\u001b[0m\u001b[1;33m\u001b[0m\u001b[0m\n\u001b[0m\u001b[1;32m     84\u001b[0m                 \u001b[0mself\u001b[0m\u001b[1;33m.\u001b[0m\u001b[0m_chmod\u001b[0m\u001b[1;33m(\u001b[0m\u001b[0mself\u001b[0m\u001b[1;33m.\u001b[0m\u001b[0m_datfile\u001b[0m\u001b[1;33m)\u001b[0m\u001b[1;33m\u001b[0m\u001b[0m\n\u001b[1;32m     85\u001b[0m         \u001b[1;32melse\u001b[0m\u001b[1;33m:\u001b[0m\u001b[1;33m\u001b[0m\u001b[0m\n",
      "\u001b[0;31mPermissionError\u001b[0m: [Errno 13] Permission denied: 'mydata.dat'"
     ]
    }
   ],
   "source": [
    "import shelve\n",
    "shelfFile = shelve.open('mydata')\n",
    "cats = ['Zophie','Pooka','Simon']\n",
    "shelfFile['cats'] = cats\n",
    "shelfFile.close()"
   ]
  },
  {
   "cell_type": "code",
   "execution_count": null,
   "metadata": {
    "collapsed": true
   },
   "outputs": [],
   "source": []
  }
 ],
 "metadata": {
  "anaconda-cloud": {},
  "kernelspec": {
   "display_name": "Python [conda root]",
   "language": "python",
   "name": "conda-root-py"
  },
  "language_info": {
   "codemirror_mode": {
    "name": "ipython",
    "version": 3
   },
   "file_extension": ".py",
   "mimetype": "text/x-python",
   "name": "python",
   "nbconvert_exporter": "python",
   "pygments_lexer": "ipython3",
   "version": "3.5.2"
  }
 },
 "nbformat": 4,
 "nbformat_minor": 1
}
