{
 "cells": [
  {
   "cell_type": "code",
   "execution_count": 71,
   "metadata": {
    "collapsed": false
   },
   "outputs": [],
   "source": [
    "import requests\n",
    "import time\n",
    "import datetime\n",
    "import pandas as pd\n",
    "\n",
    "import hashlib\n",
    "import hmac\n",
    "import base64\n",
    "\n",
    "import json\n",
    "\n",
    "from pandas.io.json import json_normalize\n",
    "\n",
    "import numpy\n",
    "import logging"
   ]
  },
  {
   "cell_type": "code",
   "execution_count": 72,
   "metadata": {
    "collapsed": true
   },
   "outputs": [],
   "source": [
    "# Current time stamp\n",
    "timestamp = int(time.time())"
   ]
  },
  {
   "cell_type": "code",
   "execution_count": 73,
   "metadata": {
    "collapsed": false
   },
   "outputs": [],
   "source": [
    "logging.basicConfig(level=logging.INFO, format=' %(asctime)s - %(levelname)s - %(message)s')"
   ]
  },
  {
   "cell_type": "code",
   "execution_count": 74,
   "metadata": {
    "collapsed": true
   },
   "outputs": [],
   "source": [
    "logging.info('yes')"
   ]
  },
  {
   "cell_type": "code",
   "execution_count": 62,
   "metadata": {
    "collapsed": false
   },
   "outputs": [],
   "source": [
    "# Date\n",
    "today_date = datetime.date.today() + datetime.timedelta(days=0)\n",
    "yesterday_date = datetime.date.today() + datetime.timedelta(days=-1)\n",
    "seven_days_before_date = datetime.date.today() + datetime.timedelta(days=-7)"
   ]
  },
  {
   "cell_type": "code",
   "execution_count": 63,
   "metadata": {
    "collapsed": false
   },
   "outputs": [],
   "source": [
    "# shop parameter list\n",
    "# partner_id, shopid, shop_name, shop_key\n",
    "shop_parameter_list = [\\\n",
    "   [12156, 25482220, 'tengus.tw', '60dbb2b5bcd937be4d6101cf70677908da72f4988c533d0c07b997fd22acd4f2'],\n",
    "   [14689, 53580963, 'qianjiaozi.my', '93815a723e386c9b91379a94f31538853582e02e085e180e0d52c841f7b53e19'],\n",
    "   [12156, 59848325, 'tengus.my', '60dbb2b5bcd937be4d6101cf70677908da72f4988c533d0c07b997fd22acd4f2'],\n",
    "   [12156, 59846508, 'tengus.id', '60dbb2b5bcd937be4d6101cf70677908da72f4988c533d0c07b997fd22acd4f2'],\n",
    "   [16363, 58707738, 'qianjiaozi', 'ff53513499d845aa1a2fccc7d3731f43a6ce8939d0375a1cc4f31eb1cb916ea3'],\n",
    "   [12156, 62417386, 'tengus1.id', '60dbb2b5bcd937be4d6101cf70677908da72f4988c533d0c07b997fd22acd4f2'],\n",
    "   [12156, 62417551, 'tengus2.id', '60dbb2b5bcd937be4d6101cf70677908da72f4988c533d0c07b997fd22acd4f2'],\n",
    "   [12156, 62416366, 'tengus1.tw', '60dbb2b5bcd937be4d6101cf70677908da72f4988c533d0c07b997fd22acd4f2'],\n",
    "   [12156, 62416544, 'tengus2.tw', '60dbb2b5bcd937be4d6101cf70677908da72f4988c533d0c07b997fd22acd4f2'],\n",
    "   [12156, 62418141, 'tengus1.my', '60dbb2b5bcd937be4d6101cf70677908da72f4988c533d0c07b997fd22acd4f2'],\n",
    "   [12156, 62418493, 'tengus2.my', '60dbb2b5bcd937be4d6101cf70677908da72f4988c533d0c07b997fd22acd4f2'],\n",
    "   [16363, 63534861, 'qianjiaozitw1', 'ff53513499d845aa1a2fccc7d3731f43a6ce8939d0375a1cc4f31eb1cb916ea3'],\n",
    "   # [17701, 62887142, 'yilanlu.tw', ''],\n",
    "   [16363, 66377809, 'qianjiaozi1', 'ff53513499d845aa1a2fccc7d3731f43a6ce8939d0375a1cc4f31eb1cb916ea3']\n",
    "  ]\n",
    "\n",
    "columns = ['partner_id', 'shopid', 'shop_name', 'shop_key']\n",
    "shop_parameter_df = pd.DataFrame(shop_parameter_list, columns=columns)\n",
    "# shop_parameter_df"
   ]
  },
  {
   "cell_type": "code",
   "execution_count": 64,
   "metadata": {
    "collapsed": true
   },
   "outputs": [],
   "source": [
    "# get_auth_signature\n",
    "def get_auth_signature(url, payload, shop_key):\n",
    "    # API Key\n",
    "    shopee_secret = shop_key\n",
    "    # Post Message\n",
    "    post_message = url + '|' + json.dumps(payload)\n",
    "    # HMAC-SHA256\n",
    "    message = bytes(post_message, 'utf-8')\n",
    "    secret = bytes(shopee_secret, 'utf-8')\n",
    "    hash = hmac.new(secret, message, hashlib.sha256)\n",
    "    auth_signature = hash.hexdigest()\n",
    "    return auth_signature"
   ]
  },
  {
   "cell_type": "code",
   "execution_count": 55,
   "metadata": {
    "collapsed": true
   },
   "outputs": [],
   "source": [
    "# URL\n",
    "url = 'https://partner.shopeemobile.com/api/v1/items/get'"
   ]
  },
  {
   "cell_type": "code",
   "execution_count": 68,
   "metadata": {
    "collapsed": false,
    "scrolled": true
   },
   "outputs": [],
   "source": [
    "# get all item for each shop & get item_detail for each item\n",
    "for key, shop in shop_parameter_df.iterrows():\n",
    "    all_item_list = pd.DataFrame()\n",
    "    # parameter\n",
    "    partner_id = shop['partner_id']\n",
    "    shopid = shop['shopid']\n",
    "    shop_key = shop['shop_key']\n",
    "    shop_name = shop['shop_name']\n",
    "    timestamp = int(time.time())\n",
    "    \n",
    "    # get all item\n",
    "    logging.info('Retrieving item from ' + shop_name + '.')\n",
    "    max_page = 200\n",
    "    pagination_entries_per_page = 100\n",
    "    i = 0\n",
    "\n",
    "    try:\n",
    "        while i <= max_page:\n",
    "            # start entry\n",
    "            start_entry = i * pagination_entries_per_page\n",
    "\n",
    "            # Parameter\n",
    "            pagination_offset = start_entry\n",
    "\n",
    "            # payload\n",
    "            payload = {\"partner_id\":partner_id,\n",
    "                       \"shopid\":shopid,\n",
    "                       \"timestamp\":timestamp,\n",
    "                       \"pagination_offset\":pagination_offset,\n",
    "                       \"pagination_entries_per_page\":pagination_entries_per_page}\n",
    "            # Auth Signature\n",
    "            Auth_signature = get_auth_signature(url, payload, shop_key)\n",
    "            # HTML Header\n",
    "            headers = {\"Host\": \"partner.shopeemobile.com\",\n",
    "                        \"Content-Type\": \"application/json\",\n",
    "                        \"Content-Length\": \"89\",\n",
    "                        \"Authorization\": Auth_signature}\n",
    "            # HTML Body\n",
    "            payload = json.dumps(payload)\n",
    "            # Post Request\n",
    "            r = requests.post(url, data=payload, headers=headers)\n",
    "            # 打印原始Json\n",
    "            parsed = json.loads(r.text)\n",
    "            # 漂亮打印Json\n",
    "            item_list = json_normalize(parsed['items'])\n",
    "            # 排除update_time\n",
    "            selected_column = ['item_id', 'shopid', 'status']\n",
    "            item_list = item_list[selected_column]\n",
    "\n",
    "            # 合并\n",
    "            if i == 0:\n",
    "                all_item_list = item_list\n",
    "            else:\n",
    "                all_item_list = all_item_list.append(item_list)\n",
    "            i += 1\n",
    "            logging.info('Retrieving item from page ' + str(i))\n",
    "    except:\n",
    "        pass\n",
    "\n",
    "    # 判断item_list是否非空\n",
    "    if all_item_list.empty:\n",
    "        logging.info('No item in shopid:' + str(shopid) + '.')\n",
    "    else:\n",
    "        # 去重\n",
    "        logging.info('Remove duplicate records.')\n",
    "        all_item_list = all_item_list.drop_duplicates('item_id').reset_index()\n",
    "        logging.info('Retrieved item list.')\n",
    "        \n",
    "        # get item detail\n",
    "        item_detail_url = 'https://partner.shopeemobile.com/api/v1/item/get'\n",
    "        \n",
    "        item_detal_list = pd.DataFrame()\n",
    "        \n",
    "        for key, item in all_item_list.iterrows():\n",
    "            try:\n",
    "                item_id = item['item_id']\n",
    "                logging.info('Now retrieving ' + str(item_id) + ' detail.')\n",
    "                # payload\n",
    "                payload = {\"partner_id\":partner_id,\n",
    "                           \"shopid\":shopid,\n",
    "                           \"timestamp\":timestamp,\n",
    "                           \"item_id\": item_id}\n",
    "                # Auth Signature\n",
    "                Auth_signature = get_auth_signature(item_detail_url, payload, shop_key)\n",
    "                # HTML Header\n",
    "                headers = {\"Host\": \"partner.shopeemobile.com\",\n",
    "                            \"Content-Type\": \"application/json\",\n",
    "                            \"Content-Length\": \"89\",\n",
    "                            \"Authorization\": Auth_signature}\n",
    "                # HTML Body\n",
    "                payload = json.dumps(payload)\n",
    "                # Post Request\n",
    "                r = requests.post(item_detail_url, data=payload, headers=headers)\n",
    "                # 打印原始Json\n",
    "                parsed = json.loads(r.text)\n",
    "                # 漂亮打印Json\n",
    "                item_detail = json_normalize(parsed['item'])\n",
    "                item_detal_list = item_detal_list.append(item_detail)\n",
    "                # print(item_detail)\n",
    "                logging.info('Retrieved ' + str(item_id) + ' detail.')\n",
    "            except:\n",
    "                pass\n",
    "        \n",
    "        item_detal_list.to_csv(\"D://item_detail_list_ \" + str(shopid)+ \".csv\", sep=',')"
   ]
  }
 ],
 "metadata": {
  "kernelspec": {
   "display_name": "Python 3",
   "language": "python",
   "name": "python3"
  },
  "language_info": {
   "codemirror_mode": {
    "name": "ipython",
    "version": 3
   },
   "file_extension": ".py",
   "mimetype": "text/x-python",
   "name": "python",
   "nbconvert_exporter": "python",
   "pygments_lexer": "ipython3",
   "version": "3.6.0"
  }
 },
 "nbformat": 4,
 "nbformat_minor": 2
}
