{
 "cells": [
  {
   "cell_type": "code",
   "execution_count": 19,
   "metadata": {
    "collapsed": true
   },
   "outputs": [],
   "source": [
    "from selenium import webdriver\n",
    "from selenium.webdriver.common.keys import Keys\n",
    "import pandas as pd\n",
    "import time\n",
    "import logging"
   ]
  },
  {
   "cell_type": "code",
   "execution_count": 20,
   "metadata": {
    "collapsed": true
   },
   "outputs": [],
   "source": [
    "logging.basicConfig(level=logging.INFO, format=' %(asctime)s - %(levelname)s - %(message)s')"
   ]
  },
  {
   "cell_type": "code",
   "execution_count": 21,
   "metadata": {
    "collapsed": true
   },
   "outputs": [],
   "source": [
    "# 屏幕最大化，且指定下载目录\n",
    "options = webdriver.ChromeOptions()\n",
    "options.add_argument(\"--start-maximized\")\n",
    "\n",
    "prefs = {\"profile.default_content_settings.popups\": 0,\n",
    "         \"directory_upgrade\": True}\n",
    "options.add_experimental_option(\"prefs\", prefs)"
   ]
  },
  {
   "cell_type": "code",
   "execution_count": 22,
   "metadata": {
    "collapsed": true
   },
   "outputs": [],
   "source": [
    "# 使用chromedriver才可以用开发者权限\n",
    "chrome_driver_path = \"D://Program Files (x86)//百度云同步盘//我的软件//chromedriver.exe\"\n",
    "# browser = webdriver.Chrome(chrome_driver_path, chrome_options=options)"
   ]
  },
  {
   "cell_type": "code",
   "execution_count": 23,
   "metadata": {
    "collapsed": false,
    "scrolled": true
   },
   "outputs": [],
   "source": [
    "# 所需参数\n",
    "# 站点；站点后缀；账户；密码；站点top卖家shopid；top卖家username（方便识别）\n",
    "shop_list = [['tw', 'tw', 23070969, 'poweradapter.tw', 'kuangyiqiao1991', 9469128, 'alonso.tw'],\n",
    "             ['tw', 'tw', 25482220, 'tengus.tw', 'tengus1803', 23068230, 'iu.tw'],\n",
    "             ['tw', 'tw', 58707738, 'qianjiaozi', 'qianjiaozi888', 23068230, 'iu.tw'],\n",
    "             ['tw', 'tw', 66377809, 'qianjiaozi1', 'qianjiaozi888', 23068230, 'iu.tw'],\n",
    "             ['tw', 'tw', 62416366, 'tengus1.tw', 'tengus1803', 23068230, 'iu.tw'],\n",
    "             ['tw', 'tw', 62416544, 'tengus2.tw', 'tengus1803', 23068230, 'iu.tw'],\n",
    "             ['tw', 'tw', 63534861, 'qianjiaozitw1', 'tengus1803', 23068230, 'iu.tw'],\n",
    "             ['my', 'com.my', 53580963, 'qianjiaozi.my', 'tengus1803', 10891137, 'winners.my'],\n",
    "             ['my', 'com.my', 59848325, 'tengus.my', 'tengus1803', 10891137, 'winners.my'],\n",
    "             ['my', 'com.my', 62418141, 'tengus1.my', 'tengus1803', 10891137, 'winners.my'],\n",
    "             ['my', 'com.my', 62418493, 'tengus2.my', 'tengus1803', 10891137, 'winners.my'],\n",
    "             ['id', 'co.id', 59846508, 'tengus.id', 'tengus1803', 28135012, 'sunnyfun.id'],\n",
    "             ['id', 'co.id', 62417386, 'tengus1.id', 'tengus1803', 28135012, 'sunnyfun.id'],\n",
    "             ['id', 'co.id', 62417551, 'tengus2.id', 'tengus1803', 28135012, 'sunnyfun.id']]"
   ]
  },
  {
   "cell_type": "code",
   "execution_count": 24,
   "metadata": {
    "collapsed": false
   },
   "outputs": [],
   "source": [
    "# 转换为dataframe\n",
    "shop_df_columns = ['site', 'site_suffix', 'shopid', 'acc', 'pwd', 'top_shop_id', 'top_shop_username']\n",
    "shop_df = pd.DataFrame(shop_list, columns=shop_df_columns)"
   ]
  },
  {
   "cell_type": "code",
   "execution_count": 25,
   "metadata": {
    "collapsed": true
   },
   "outputs": [],
   "source": [
    "# 取关后关注函数\n",
    "def add_and_cancel_fans(site, site_suffix, shopid, acc, pwd, top_shop_id, top_shop_username):\n",
    "    # 打开浏览器\n",
    "    browser = webdriver.Chrome(chrome_driver_path, chrome_options=options)\n",
    "    \n",
    "    # main page\n",
    "    main_page_url = \"http://shopee.\" + site_suffix\n",
    "    browser.get(main_page_url)\n",
    "    \n",
    "    # remove ads, refresh again\n",
    "    browser.get(main_page_url)\n",
    "    time.sleep(10)\n",
    "    \n",
    "    # login\n",
    "    LoginElem = browser.find_elements_by_css_selector('.navbar__link.navbar__link--account.navbar__link--tappable.navbar__link--hoverable.navbar__link-text.navbar__link-text--medium')\n",
    "    \n",
    "    # 点击登入，弹出账户密码输入框\n",
    "    LoginElem[1].click()\n",
    "    time.sleep(10)\n",
    "    \n",
    "    # 输入\n",
    "    acc_password_input_elem = browser.find_elements_by_css_selector('.input-with-status__input')\n",
    "    try:\n",
    "        acc_password_input_elem[0].click()\n",
    "        acc_password_input_elem[0].send_keys(acc)\n",
    "        acc_password_input_elem[1].click()\n",
    "        acc_password_input_elem[1].send_keys(pwd)\n",
    "    except:\n",
    "        time.sleep(30)\n",
    "        acc_password_input_elem = browser.find_elements_by_css_selector('.input-with-status__input')\n",
    "        acc_password_input_elem[0].click()\n",
    "        acc_password_input_elem[0].send_keys(acc)\n",
    "        acc_password_input_elem[1].click()\n",
    "        acc_password_input_elem[1].send_keys(pwd)\n",
    "    time.sleep(10)\n",
    "    \n",
    "    # 点击提交\n",
    "    Login_button_elem = browser.find_elements_by_css_selector('.shopee-button-solid.shopee-button-solid--primary')\n",
    "    Login_button_elem[0].click()\n",
    "    time.sleep(10)\n",
    "    \n",
    "    # switch to my fans list\n",
    "    my_fans_list_page = 'https://shopee.' + site_suffix + '/shop/' + str(shopid) + '/following/?__classic__=1'\n",
    "    browser.get(my_fans_list_page)\n",
    "    \n",
    "    # cancel certain number of following fans\n",
    "    to_cancel_num_of_following = 400\n",
    "    num_of_following_display = len(browser.find_elements_by_css_selector('.clickable_area.middle-centered-div'))\n",
    "    \n",
    "    # page down until we get at least 500 fans to cancel\n",
    "    while num_of_following_display <= 500:\n",
    "        body = browser.find_element_by_css_selector('body')\n",
    "        body.send_keys(Keys.END)\n",
    "        time.sleep(5)\n",
    "        num_of_following_display = len(browser.find_elements_by_css_selector('.clickable_area.middle-centered-div'))\n",
    "    following_buttons = browser.find_elements_by_css_selector('.btn-follow.active.follow.L14')\n",
    "    \n",
    "    # page up to the top\n",
    "    scroll_to_the_top = browser.find_element_by_css_selector('body').send_keys(Keys.CONTROL + Keys.HOME)\n",
    "    \n",
    "    # start to cancel following\n",
    "    i = 0\n",
    "    total_cancel_num_of_following = to_cancel_num_of_following\n",
    "    while i <= total_cancel_num_of_following - 1:\n",
    "        while to_cancel_num_of_following > 0:\n",
    "            print('Now run the ' + str(i + 1) + ' time.')\n",
    "            if following_buttons[i].text == '关注中':\n",
    "                shopid = following_buttons[i].get_attribute('shopid')\n",
    "                following_buttons[i].click()\n",
    "                time.sleep(5)\n",
    "                to_cancel_num_of_following -= 1\n",
    "                i += 1\n",
    "                logging.info(str(shopid) + ' is not following now, ' + str(to_cancel_num_of_following) + ' following remains.')\n",
    "    \n",
    "    # add fans from Top Seller's shop\n",
    "    top_shop_url = 'https://shopee.' + site_suffix + '/shop/' + str(shopid) + '/followers/?__classic__=1'\n",
    "    browser.get(top_shop_url)\n",
    "    \n",
    "    # add certain number of fans\n",
    "    to_add_num_of_following = 400\n",
    "    num_of_following_display = len(browser.find_elements_by_css_selector('.clickable_area.middle-centered-div'))\n",
    "    \n",
    "    # page down until we get at least 400 fans to cancel\n",
    "    while num_of_following_display <= 1000:\n",
    "        body = browser.find_element_by_css_selector('body')\n",
    "        # body.send_keys(Keys.PAGE_DOWN)\n",
    "        body.send_keys(Keys.END)\n",
    "        time.sleep(5)\n",
    "        num_of_following_display = len(browser.find_elements_by_css_selector('.clickable_area.middle-centered-div'))\n",
    "    following_buttons = browser.find_elements_by_css_selector('.btn-follow.follow.L14')\n",
    "    \n",
    "    # start to follow buyers from top shop\n",
    "    i = 0\n",
    "    total_add_num_of_following = to_add_num_of_following\n",
    "    scroll_to_the_top = browser.find_element_by_css_selector('body').send_keys(Keys.CONTROL + Keys.HOME)\n",
    "\n",
    "    while i <= total_add_num_of_following - 1:  \n",
    "        while to_add_num_of_following > 0:\n",
    "            print('Now run the ' + str(i + 1) + ' time.')\n",
    "            if following_buttons[i].text == '+ 关注':\n",
    "                # print(following_buttons[i].text)\n",
    "                shopid = following_buttons[i].get_attribute('shopid')\n",
    "                following_buttons[i].click()\n",
    "                time.sleep(5)\n",
    "                to_add_num_of_following -= 1\n",
    "                logging.info(str(shopid) + ' is following now, ' + str(to_add_num_of_following) + ' following remains.')\n",
    "            else:\n",
    "                logging.info('Skip this one. It\\'s following already.')\n",
    "            i += 1    \n",
    "    \n",
    "    # 关闭\n",
    "    browser.quit()"
   ]
  },
  {
   "cell_type": "code",
   "execution_count": 26,
   "metadata": {
    "collapsed": false,
    "scrolled": false
   },
   "outputs": [
    {
     "name": "stderr",
     "output_type": "stream",
     "text": [
      " 2018-05-10 00:05:40,964 - INFO - Now it's running the script on poweradapter.tw.\n"
     ]
    },
    {
     "ename": "KeyboardInterrupt",
     "evalue": "",
     "output_type": "error",
     "traceback": [
      "\u001b[0;31m---------------------------------------------------------------------------\u001b[0m",
      "\u001b[0;31mKeyboardInterrupt\u001b[0m                         Traceback (most recent call last)",
      "\u001b[0;32m<ipython-input-26-82d3c92d65b9>\u001b[0m in \u001b[0;36m<module>\u001b[0;34m()\u001b[0m\n\u001b[1;32m     11\u001b[0m     \u001b[1;31m# 执行\u001b[0m\u001b[1;33m\u001b[0m\u001b[1;33m\u001b[0m\u001b[0m\n\u001b[1;32m     12\u001b[0m     \u001b[0mlogging\u001b[0m\u001b[1;33m.\u001b[0m\u001b[0minfo\u001b[0m\u001b[1;33m(\u001b[0m\u001b[1;34m'Now it\\'s running the script on '\u001b[0m \u001b[1;33m+\u001b[0m \u001b[0macc\u001b[0m \u001b[1;33m+\u001b[0m \u001b[1;34m'.'\u001b[0m\u001b[1;33m)\u001b[0m\u001b[1;33m\u001b[0m\u001b[0m\n\u001b[0;32m---> 13\u001b[0;31m     \u001b[0madd_and_cancel_fans\u001b[0m\u001b[1;33m(\u001b[0m\u001b[0msite\u001b[0m\u001b[1;33m,\u001b[0m \u001b[0msite_suffix\u001b[0m\u001b[1;33m,\u001b[0m \u001b[0mshopid\u001b[0m\u001b[1;33m,\u001b[0m \u001b[0macc\u001b[0m\u001b[1;33m,\u001b[0m \u001b[0mpwd\u001b[0m\u001b[1;33m,\u001b[0m \u001b[0mtop_shop_id\u001b[0m\u001b[1;33m,\u001b[0m \u001b[0mtop_shop_username\u001b[0m\u001b[1;33m)\u001b[0m\u001b[1;33m\u001b[0m\u001b[0m\n\u001b[0m",
      "\u001b[0;32m<ipython-input-25-c6cdf1106d4c>\u001b[0m in \u001b[0;36madd_and_cancel_fans\u001b[0;34m(site, site_suffix, shopid, acc, pwd, top_shop_id, top_shop_username)\u001b[0m\n\u001b[1;32m     52\u001b[0m         \u001b[0mbody\u001b[0m \u001b[1;33m=\u001b[0m \u001b[0mbrowser\u001b[0m\u001b[1;33m.\u001b[0m\u001b[0mfind_element_by_css_selector\u001b[0m\u001b[1;33m(\u001b[0m\u001b[1;34m'body'\u001b[0m\u001b[1;33m)\u001b[0m\u001b[1;33m\u001b[0m\u001b[0m\n\u001b[1;32m     53\u001b[0m         \u001b[0mbody\u001b[0m\u001b[1;33m.\u001b[0m\u001b[0msend_keys\u001b[0m\u001b[1;33m(\u001b[0m\u001b[0mKeys\u001b[0m\u001b[1;33m.\u001b[0m\u001b[0mEND\u001b[0m\u001b[1;33m)\u001b[0m\u001b[1;33m\u001b[0m\u001b[0m\n\u001b[0;32m---> 54\u001b[0;31m         \u001b[0mtime\u001b[0m\u001b[1;33m.\u001b[0m\u001b[0msleep\u001b[0m\u001b[1;33m(\u001b[0m\u001b[1;36m5\u001b[0m\u001b[1;33m)\u001b[0m\u001b[1;33m\u001b[0m\u001b[0m\n\u001b[0m\u001b[1;32m     55\u001b[0m         \u001b[0mnum_of_following_display\u001b[0m \u001b[1;33m=\u001b[0m \u001b[0mlen\u001b[0m\u001b[1;33m(\u001b[0m\u001b[0mbrowser\u001b[0m\u001b[1;33m.\u001b[0m\u001b[0mfind_elements_by_css_selector\u001b[0m\u001b[1;33m(\u001b[0m\u001b[1;34m'.clickable_area.middle-centered-div'\u001b[0m\u001b[1;33m)\u001b[0m\u001b[1;33m)\u001b[0m\u001b[1;33m\u001b[0m\u001b[0m\n\u001b[1;32m     56\u001b[0m     \u001b[0mfollowing_buttons\u001b[0m \u001b[1;33m=\u001b[0m \u001b[0mbrowser\u001b[0m\u001b[1;33m.\u001b[0m\u001b[0mfind_elements_by_css_selector\u001b[0m\u001b[1;33m(\u001b[0m\u001b[1;34m'.btn-follow.active.follow.L14'\u001b[0m\u001b[1;33m)\u001b[0m\u001b[1;33m\u001b[0m\u001b[0m\n",
      "\u001b[0;31mKeyboardInterrupt\u001b[0m: "
     ]
    }
   ],
   "source": [
    "# 历遍所有shop\n",
    "for index, my_shop in shop_df.iterrows():\n",
    "    site = my_shop[0]\n",
    "    site_suffix = my_shop[1]\n",
    "    shopid = my_shop[2]\n",
    "    acc = my_shop[3]\n",
    "    pwd = my_shop[4]\n",
    "    top_shop_id = my_shop[5]\n",
    "    top_shop_username = my_shop[6]\n",
    "    \n",
    "    # 执行\n",
    "    logging.info('Now it\\'s running the script on ' + acc + '.')\n",
    "    add_and_cancel_fans(site, site_suffix, shopid, acc, pwd, top_shop_id, top_shop_username)"
   ]
  }
 ],
 "metadata": {
  "anaconda-cloud": {},
  "kernelspec": {
   "display_name": "Python [default]",
   "language": "python",
   "name": "python3"
  },
  "language_info": {
   "codemirror_mode": {
    "name": "ipython",
    "version": 3
   },
   "file_extension": ".py",
   "mimetype": "text/x-python",
   "name": "python",
   "nbconvert_exporter": "python",
   "pygments_lexer": "ipython3",
   "version": "3.5.2"
  }
 },
 "nbformat": 4,
 "nbformat_minor": 1
}
