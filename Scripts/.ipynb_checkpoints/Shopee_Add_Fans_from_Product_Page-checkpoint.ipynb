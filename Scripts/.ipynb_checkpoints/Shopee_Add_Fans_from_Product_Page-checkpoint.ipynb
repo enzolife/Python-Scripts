{
 "cells": [
  {
   "cell_type": "code",
   "execution_count": 57,
   "metadata": {
    "collapsed": true
   },
   "outputs": [],
   "source": [
    "from selenium import webdriver\n",
    "import pandas as pd\n",
    "import time"
   ]
  },
  {
   "cell_type": "code",
   "execution_count": 58,
   "metadata": {
    "collapsed": true
   },
   "outputs": [],
   "source": [
    "# 使用chromedriver才可以用开发者权限\n",
    "chrome_driver_path = \"D://Program Files (x86)//百度云同步盘//我的软件//chromedriver.exe\"\n",
    "browser = webdriver.Chrome(chrome_driver_path)"
   ]
  },
  {
   "cell_type": "code",
   "execution_count": 59,
   "metadata": {
    "collapsed": false
   },
   "outputs": [
    {
     "data": {
      "text/plain": [
       "selenium.webdriver.chrome.webdriver.WebDriver"
      ]
     },
     "execution_count": 59,
     "metadata": {},
     "output_type": "execute_result"
    }
   ],
   "source": [
    "type(browser)"
   ]
  },
  {
   "cell_type": "code",
   "execution_count": 60,
   "metadata": {
    "collapsed": true
   },
   "outputs": [],
   "source": [
    "# browser.get('https://shopee.tw/%E2%9C%A811.14%E8%A3%9C%E8%B2%A8-%E7%8F%BE%E8%B2%A8-3%E5%8C%85%E8%B5%B7-80-%E5%8C%85-%E8%B2%B710%E8%B4%881%E5%9C%88%E5%9C%88%E2%9C%A8-%E9%9F%93%E5%9C%8B-naebro-%E7%B1%B3%E7%B3%95%E7%88%86%E7%B1%B3%E8%8A%B1-%E7%B1%B3%E9%A4%85-%E5%AF%B6%E5%AF%B6%E9%A4%85%E4%B9%BE-i.2648057.146097108')"
   ]
  },
  {
   "cell_type": "code",
   "execution_count": 61,
   "metadata": {
    "collapsed": false
   },
   "outputs": [
    {
     "data": {
      "text/plain": [
       "\"\\nshop_owner_name = browser.find_element_by_css_selector('.product-page-seller-info__shop-name')\\nshop_owner_name.text\\n\""
      ]
     },
     "execution_count": 61,
     "metadata": {},
     "output_type": "execute_result"
    }
   ],
   "source": [
    "# 找商家名\n",
    "'''\n",
    "shop_owner_name = browser.find_element_by_css_selector('.product-page-seller-info__shop-name')\n",
    "shop_owner_name.text\n",
    "'''"
   ]
  },
  {
   "cell_type": "code",
   "execution_count": 62,
   "metadata": {
    "collapsed": false
   },
   "outputs": [
    {
     "data": {
      "text/plain": [
       "\"\\nproduct_comment = browser.find_elements_by_css_selector('.product-page__tab-link')\\nproduct_comment[2].click()\\n\""
      ]
     },
     "execution_count": 62,
     "metadata": {},
     "output_type": "execute_result"
    }
   ],
   "source": [
    "# 点击“商品留言”\n",
    "'''\n",
    "product_comment = browser.find_elements_by_css_selector('.product-page__tab-link')\n",
    "product_comment[2].click()\n",
    "'''"
   ]
  },
  {
   "cell_type": "code",
   "execution_count": 63,
   "metadata": {
    "collapsed": false,
    "scrolled": true
   },
   "outputs": [
    {
     "data": {
      "text/plain": [
       "\"\\ncomment_person_name = browser.find_elements_by_css_selector('.shopee-product-comment-item__author-name')\\ncomment_person_name[1].get_attribute('href')\\n\""
      ]
     },
     "execution_count": 63,
     "metadata": {},
     "output_type": "execute_result"
    }
   ],
   "source": [
    "# 列出评价者主页\n",
    "'''\n",
    "comment_person_name = browser.find_elements_by_css_selector('.shopee-product-comment-item__author-name')\n",
    "comment_person_name[1].get_attribute('href')\n",
    "'''"
   ]
  },
  {
   "cell_type": "code",
   "execution_count": 64,
   "metadata": {
    "collapsed": false,
    "scrolled": true
   },
   "outputs": [
    {
     "data": {
      "text/plain": [
       "\"\\nnext_page_button = browser.find_elements_by_css_selector('.shopee-icon-button.shopee-icon-button--right')\\nnext_page_button[1].click()\\n\""
      ]
     },
     "execution_count": 64,
     "metadata": {},
     "output_type": "execute_result"
    }
   ],
   "source": [
    "# 点击下一页\n",
    "'''\n",
    "next_page_button = browser.find_elements_by_css_selector('.shopee-icon-button.shopee-icon-button--right')\n",
    "next_page_button[1].click()\n",
    "'''"
   ]
  },
  {
   "cell_type": "code",
   "execution_count": 65,
   "metadata": {
    "collapsed": false
   },
   "outputs": [
    {
     "data": {
      "text/html": [
       "<div>\n",
       "<table border=\"1\" class=\"dataframe\">\n",
       "  <thead>\n",
       "    <tr style=\"text-align: right;\">\n",
       "      <th></th>\n",
       "      <th>Unnamed: 0</th>\n",
       "      <th>product_names</th>\n",
       "      <th>product_price</th>\n",
       "      <th>product_rating</th>\n",
       "      <th>product_sold</th>\n",
       "      <th>product_url</th>\n",
       "    </tr>\n",
       "  </thead>\n",
       "  <tbody>\n",
       "    <tr>\n",
       "      <th>0</th>\n",
       "      <td>0</td>\n",
       "      <td>?11.14補貨/現貨/3包起$80/包-買10贈1圈圈? 韓國 naebro 米糕爆米花/...</td>\n",
       "      <td>$85</td>\n",
       "      <td>(2120)</td>\n",
       "      <td>已售出 772</td>\n",
       "      <td>https://shopee.tw/%E2%9C%A811.14%E8%A3%9C%E8%B...</td>\n",
       "    </tr>\n",
       "  </tbody>\n",
       "</table>\n",
       "</div>"
      ],
      "text/plain": [
       "   Unnamed: 0                                      product_names  \\\n",
       "0           0  ?11.14補貨/現貨/3包起$80/包-買10贈1圈圈? 韓國 naebro 米糕爆米花/...   \n",
       "\n",
       "  product_price product_rating product_sold  \\\n",
       "0           $85         (2120)      已售出 772   \n",
       "\n",
       "                                         product_url  \n",
       "0  https://shopee.tw/%E2%9C%A811.14%E8%A3%9C%E8%B...  "
      ]
     },
     "execution_count": 65,
     "metadata": {},
     "output_type": "execute_result"
    }
   ],
   "source": [
    "# 先读取Top Product列表\n",
    "top_product_path = \"D://shopee_product_list.csv\"\n",
    "top_product = pd.read_csv(top_product_path, sep=',', encoding='gbk')\n",
    "top_product[:1]"
   ]
  },
  {
   "cell_type": "code",
   "execution_count": null,
   "metadata": {
    "collapsed": false,
    "scrolled": true
   },
   "outputs": [],
   "source": [
    "# 创建空的list\n",
    "comment_person_name_list = []\n",
    "\n",
    "for product_url in top_product[:2][\"product_url\"]:\n",
    "    browser.get(product_url)\n",
    "    time.sleep(10)\n",
    "\n",
    "    # 点击“商品留言”\n",
    "    product_comment = browser.find_elements_by_css_selector('.product-page__tab-link')\n",
    "    product_comment[2].click()\n",
    "    \n",
    "    for i in range(5):\n",
    "\n",
    "        # 列出评价者主页\n",
    "        comment_person_name = browser.find_elements_by_css_selector('.shopee-product-comment-item__author-name')\n",
    "        \n",
    "        # 获取评论者主页URL\n",
    "        for comment_person_url in comment_person_name:\n",
    "            comment_person_name_list.append(comment_person_url.get_attribute('href'))\n",
    "\n",
    "        # 点击下一页\n",
    "        next_page_button = browser.find_elements_by_css_selector('.shopee-icon-button.shopee-icon-button--right')\n",
    "        next_page_button[-1].click()\n",
    "        \n",
    "        i = i + 1\n",
    "        \n",
    "#转换为data frame\n",
    "comment_person_url_data_frame = pd.DataFrame({'comment_person_url': comment_person_name_list})\n",
    "# 去重\n",
    "comment_person_url_data_frame.drop_duplicates(subset='comment_person_url')\n",
    "#导出\n",
    "comment_person_url_data_frame.to_csv('D://comment_person_url.csv', sep=',')"
   ]
  },
  {
   "cell_type": "code",
   "execution_count": null,
   "metadata": {
    "collapsed": true
   },
   "outputs": [],
   "source": []
  }
 ],
 "metadata": {
  "kernelspec": {
   "display_name": "Python 3",
   "language": "python",
   "name": "python3"
  },
  "language_info": {
   "codemirror_mode": {
    "name": "ipython",
    "version": 3
   },
   "file_extension": ".py",
   "mimetype": "text/x-python",
   "name": "python",
   "nbconvert_exporter": "python",
   "pygments_lexer": "ipython3",
   "version": "3.6.0"
  }
 },
 "nbformat": 4,
 "nbformat_minor": 2
}
