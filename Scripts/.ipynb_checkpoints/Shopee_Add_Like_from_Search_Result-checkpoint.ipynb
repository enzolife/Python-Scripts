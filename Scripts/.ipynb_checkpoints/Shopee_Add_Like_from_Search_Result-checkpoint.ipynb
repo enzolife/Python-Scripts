{
 "cells": [
  {
   "cell_type": "code",
   "execution_count": 1,
   "metadata": {
    "collapsed": false
   },
   "outputs": [],
   "source": [
    "from selenium import webdriver\n",
    "import pandas as pd\n",
    "import time"
   ]
  },
  {
   "cell_type": "code",
   "execution_count": 2,
   "metadata": {
    "collapsed": false
   },
   "outputs": [],
   "source": [
    "# 使用chromedriver才可以用开发者权限\n",
    "chrome_driver_path = \"D://Program Files (x86)//百度云同步盘//我的软件//chromedriver.exe\"\n",
    "browser = webdriver.Chrome(chrome_driver_path)"
   ]
  },
  {
   "cell_type": "code",
   "execution_count": 3,
   "metadata": {
    "collapsed": false
   },
   "outputs": [
    {
     "data": {
      "text/plain": [
       "selenium.webdriver.chrome.webdriver.WebDriver"
      ]
     },
     "execution_count": 3,
     "metadata": {},
     "output_type": "execute_result"
    }
   ],
   "source": [
    "type(browser)"
   ]
  },
  {
   "cell_type": "code",
   "execution_count": 4,
   "metadata": {
    "collapsed": false,
    "scrolled": false
   },
   "outputs": [],
   "source": [
    "browser.get('http://shopee.tw/yu001157')"
   ]
  },
  {
   "cell_type": "code",
   "execution_count": 5,
   "metadata": {
    "collapsed": false
   },
   "outputs": [
    {
     "data": {
      "text/plain": [
       "'登入'"
      ]
     },
     "execution_count": 5,
     "metadata": {},
     "output_type": "execute_result"
    }
   ],
   "source": [
    "LoginElem = browser.find_elements_by_css_selector('.navbar__link.navbar__link--account.navbar__link--tappable.navbar__link--hoverable.navbar__link-text.navbar__link-text--medium')\n",
    "'''\n",
    "有关Selenium Compound class names not permitted的错误\n",
    "可以参考https://stackoverflow.com/questions/37771604/selenium-compound-class-names-not-permitted\n",
    "使用css_selector解决即可\n",
    "'''\n",
    "LoginElem[1].text"
   ]
  },
  {
   "cell_type": "code",
   "execution_count": 6,
   "metadata": {
    "collapsed": false
   },
   "outputs": [],
   "source": [
    "# 点击登入，弹出账户密码输入框\n",
    "LoginElem[1].click()"
   ]
  },
  {
   "cell_type": "code",
   "execution_count": 7,
   "metadata": {
    "collapsed": false
   },
   "outputs": [],
   "source": [
    "acc_password_input_elem = browser.find_elements_by_css_selector('.input-with-status__input')\n",
    "try:\n",
    "    acc_password_input_elem[0].click()\n",
    "    acc_password_input_elem[0].send_keys('tengus.tw')\n",
    "    acc_password_input_elem[1].click()\n",
    "    acc_password_input_elem[1].send_keys('tengus1706')\n",
    "except:\n",
    "    time.sleep(30)\n",
    "    acc_password_input_elem = browser.find_elements_by_css_selector('.input-with-status__input')\n",
    "    acc_password_input_elem[0].click()\n",
    "    acc_password_input_elem[0].send_keys('tengus.tw')\n",
    "    acc_password_input_elem[1].click()\n",
    "    acc_password_input_elem[1].send_keys('tengus1706')"
   ]
  },
  {
   "cell_type": "code",
   "execution_count": 8,
   "metadata": {
    "collapsed": false
   },
   "outputs": [
    {
     "data": {
      "text/plain": [
       "'登入'"
      ]
     },
     "execution_count": 8,
     "metadata": {},
     "output_type": "execute_result"
    }
   ],
   "source": [
    "Login_buttom_elem = browser.find_elements_by_css_selector('.shopee-button-solid.shopee-button-solid--primary')\n",
    "Login_buttom_elem[1].text"
   ]
  },
  {
   "cell_type": "code",
   "execution_count": 9,
   "metadata": {
    "collapsed": true
   },
   "outputs": [],
   "source": [
    "Login_buttom_elem[1].click()"
   ]
  },
  {
   "cell_type": "code",
   "execution_count": 10,
   "metadata": {
    "collapsed": true
   },
   "outputs": [],
   "source": [
    "# browser.get('https://shopee.tw/%E5%AC%B0%E5%B9%BC%E7%AB%A5%E8%88%87%E6%AF%8D%E8%A6%AA-cat.100?categoryName=%E5%AC%B0%E5%B9%BC%E7%AB%A5%E8%88%87%E6%AF%8D%E8%A6%AA&page=0&sortBy=sales')"
   ]
  },
  {
   "cell_type": "code",
   "execution_count": 11,
   "metadata": {
    "collapsed": false
   },
   "outputs": [],
   "source": [
    "search_page_max = 50\n",
    "search_page_url_part1 = 'https://shopee.tw/嬰幼童與母親-cat.100?categoryName=嬰幼童與母親&page='\n",
    "search_page_url_part3 = ''\n",
    "\n",
    "# column_name = ['product_names', 'product_url', 'product_price', 'product_sold', 'product_rating']\n",
    "# product_info_data_frame = pd.DataFrame()\n",
    "# print(product_info_data_frame)"
   ]
  },
  {
   "cell_type": "code",
   "execution_count": 12,
   "metadata": {
    "collapsed": false
   },
   "outputs": [],
   "source": [
    "browser.get(\"https://shopee.tw/%E5%AC%B0%E5%B9%BC%E7%AB%A5%E8%88%87%E6%AF%8D%E8%A6%AA-cat.100?categoryName=%E5%AC%B0%E5%B9%BC%E7%AB%A5%E8%88%87%E6%AF%8D%E8%A6%AA&page=0\")"
   ]
  },
  {
   "cell_type": "code",
   "execution_count": null,
   "metadata": {
    "collapsed": false,
    "scrolled": true
   },
   "outputs": [
    {
     "data": {
      "text/plain": [
       "\"\\nproduct_names = browser.find_elements_by_css_selector('.shopee-item-card__text-name')\\nproduct_likes = browser.find_elements_by_css_selector('.shopee-svg-icon.icon-like-2')\\n\\ntry:\\n    # 查找关键元素\\n    product_names = browser.find_elements_by_css_selector('.shopee-item-card__text-name')\\n    product_likes = browser.find_elements_by_css_selector('.shopee-svg-icon.icon-like-2')\\n\\n    for product_like, product_name in zip(product_likes, product_names):\\n        product_like.click()\\n        print(product_name.text)\\n        time.sleep(10)\\nexcept:\\n    print('Was not able to find an element with that name.')\\n\""
      ]
     },
     "execution_count": 13,
     "metadata": {},
     "output_type": "execute_result"
    }
   ],
   "source": [
    "'''\n",
    "product_names = browser.find_elements_by_css_selector('.shopee-item-card__text-name')\n",
    "product_likes = browser.find_elements_by_css_selector('.shopee-svg-icon.icon-like-2')\n",
    "\n",
    "try:\n",
    "    # 查找关键元素\n",
    "    product_names = browser.find_elements_by_css_selector('.shopee-item-card__text-name')\n",
    "    product_likes = browser.find_elements_by_css_selector('.shopee-svg-icon.icon-like-2')\n",
    "\n",
    "    for product_like, product_name in zip(product_likes, product_names):\n",
    "        product_like.click()\n",
    "        print(product_name.text)\n",
    "        time.sleep(10)\n",
    "except:\n",
    "    print('Was not able to find an element with that name.')\n",
    "'''"
   ]
  },
  {
   "cell_type": "code",
   "execution_count": null,
   "metadata": {
    "collapsed": false,
    "scrolled": true
   },
   "outputs": [
    {
     "name": "stdout",
     "output_type": "stream",
     "text": [
      "Now open page 1\n",
      "搬家賠售出清倉鼠鸚鵡蜜袋鼯吊床 is clicked. And 1 products are clicked on page 1\n",
      "🎉本月促銷現貨貓玩具劍麻鼠/劍麻球/啾啾鼠/沙沙繩球 is clicked. And 2 products are clicked on page 1\n",
      "Not able to click.\n",
      "搬家賠售倉鼠回饋社團專區 is clicked. And 3 products are clicked on page 1\n",
      "Not able to click.\n",
      "Not able to click.\n",
      "Not able to click.\n",
      "Not able to click.\n",
      "Not able to click.\n"
     ]
    }
   ],
   "source": [
    "# for i in range(1, search_page_max + 1):\n",
    "for i in range(1, search_page_max + 51):\n",
    "    search_page_url = search_page_url_part1 + str(i) + search_page_url_part3\n",
    "    # 打开搜索列表页\n",
    "    browser.get(search_page_url)\n",
    "    time.sleep(10)\n",
    "    print('Now open page ' + str(i))\n",
    "    \n",
    "    num_of_clicked_product = 1\n",
    "\n",
    "    try:\n",
    "        # 查找关键元素\n",
    "        product_names = browser.find_elements_by_css_selector('.shopee-item-card__text-name')\n",
    "        product_likes = browser.find_elements_by_css_selector('.shopee-svg-icon.icon-like-2')\n",
    "\n",
    "        for product_like, product_name in zip(product_likes, product_names):\n",
    "            try:\n",
    "                product_like.click()\n",
    "                print(product_name.text + ' is clicked. And ' + str(num_of_clicked_product) + ' products are clicked on page ' + str(i))\n",
    "                num_of_clicked_product += 1\n",
    "                time.sleep(30)\n",
    "            except:\n",
    "                print('Not able to click.')\n",
    "    except:\n",
    "        print('Was not able to find an element with that name.')"
   ]
  }
 ],
 "metadata": {
  "kernelspec": {
   "display_name": "Python 3",
   "language": "python",
   "name": "python3"
  },
  "language_info": {
   "codemirror_mode": {
    "name": "ipython",
    "version": 3
   },
   "file_extension": ".py",
   "mimetype": "text/x-python",
   "name": "python",
   "nbconvert_exporter": "python",
   "pygments_lexer": "ipython3",
   "version": "3.6.0"
  }
 },
 "nbformat": 4,
 "nbformat_minor": 2
}
