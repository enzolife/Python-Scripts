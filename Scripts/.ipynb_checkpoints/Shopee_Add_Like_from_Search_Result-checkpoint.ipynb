{
 "cells": [
  {
   "cell_type": "code",
   "execution_count": 1,
   "metadata": {
    "collapsed": false
   },
   "outputs": [],
   "source": [
    "from selenium import webdriver\n",
    "import pandas as pd\n",
    "import time"
   ]
  },
  {
   "cell_type": "code",
   "execution_count": 2,
   "metadata": {
    "collapsed": false
   },
   "outputs": [],
   "source": [
    "# 使用chromedriver才可以用开发者权限\n",
    "chrome_driver_path = \"D://Program Files (x86)//百度云同步盘//我的软件//chromedriver.exe\"\n",
    "browser = webdriver.Chrome(chrome_driver_path)"
   ]
  },
  {
   "cell_type": "code",
   "execution_count": 3,
   "metadata": {
    "collapsed": false
   },
   "outputs": [
    {
     "data": {
      "text/plain": [
       "selenium.webdriver.chrome.webdriver.WebDriver"
      ]
     },
     "execution_count": 3,
     "metadata": {},
     "output_type": "execute_result"
    }
   ],
   "source": [
    "type(browser)"
   ]
  },
  {
   "cell_type": "code",
   "execution_count": 4,
   "metadata": {
    "collapsed": false,
    "scrolled": false
   },
   "outputs": [],
   "source": [
    "browser.get('http://shopee.tw/yu001157')"
   ]
  },
  {
   "cell_type": "code",
   "execution_count": 5,
   "metadata": {
    "collapsed": false
   },
   "outputs": [
    {
     "data": {
      "text/plain": [
       "'登入'"
      ]
     },
     "execution_count": 5,
     "metadata": {},
     "output_type": "execute_result"
    }
   ],
   "source": [
    "LoginElem = browser.find_elements_by_css_selector('.navbar__link.navbar__link--account.navbar__link--tappable.navbar__link--hoverable.navbar__link-text.navbar__link-text--medium')\n",
    "'''\n",
    "有关Selenium Compound class names not permitted的错误\n",
    "可以参考https://stackoverflow.com/questions/37771604/selenium-compound-class-names-not-permitted\n",
    "使用css_selector解决即可\n",
    "'''\n",
    "LoginElem[1].text"
   ]
  },
  {
   "cell_type": "code",
   "execution_count": 6,
   "metadata": {
    "collapsed": false
   },
   "outputs": [],
   "source": [
    "# 点击登入，弹出账户密码输入框\n",
    "LoginElem[1].click()"
   ]
  },
  {
   "cell_type": "code",
   "execution_count": 7,
   "metadata": {
    "collapsed": false
   },
   "outputs": [],
   "source": [
    "acc_password_input_elem = browser.find_elements_by_css_selector('.input-with-status__input')\n",
    "try:\n",
    "    acc_password_input_elem[0].click()\n",
    "    acc_password_input_elem[0].send_keys('poweradapter.tw')\n",
    "    acc_password_input_elem[1].click()\n",
    "    acc_password_input_elem[1].send_keys('kuangyiqiao1991')\n",
    "except:\n",
    "    time.sleep(30)\n",
    "    acc_password_input_elem = browser.find_elements_by_css_selector('.input-with-status__input')\n",
    "    acc_password_input_elem[0].click()\n",
    "    acc_password_input_elem[0].send_keys('poweradapter.tw')\n",
    "    acc_password_input_elem[1].click()\n",
    "    acc_password_input_elem[1].send_keys('kuangyiqiao1991')"
   ]
  },
  {
   "cell_type": "code",
   "execution_count": 8,
   "metadata": {
    "collapsed": false
   },
   "outputs": [
    {
     "data": {
      "text/plain": [
       "'登入'"
      ]
     },
     "execution_count": 8,
     "metadata": {},
     "output_type": "execute_result"
    }
   ],
   "source": [
    "Login_buttom_elem = browser.find_elements_by_css_selector('.shopee-button-solid.shopee-button-solid--primary')\n",
    "Login_buttom_elem[1].text"
   ]
  },
  {
   "cell_type": "code",
   "execution_count": 9,
   "metadata": {
    "collapsed": true
   },
   "outputs": [],
   "source": [
    "Login_buttom_elem[1].click()"
   ]
  },
  {
   "cell_type": "code",
   "execution_count": 10,
   "metadata": {
    "collapsed": true
   },
   "outputs": [],
   "source": [
    "# browser.get('https://shopee.tw/%E5%AC%B0%E5%B9%BC%E7%AB%A5%E8%88%87%E6%AF%8D%E8%A6%AA-cat.100?categoryName=%E5%AC%B0%E5%B9%BC%E7%AB%A5%E8%88%87%E6%AF%8D%E8%A6%AA&page=0&sortBy=sales')"
   ]
  },
  {
   "cell_type": "code",
   "execution_count": 11,
   "metadata": {
    "collapsed": false
   },
   "outputs": [],
   "source": [
    "search_page_max = 50\n",
    "search_page_url_part1 = 'https://shopee.tw/3C相關-cat.69?categoryName=3C相關&page='\n",
    "search_page_url_part3 = ''\n",
    "\n",
    "# column_name = ['product_names', 'product_url', 'product_price', 'product_sold', 'product_rating']\n",
    "# product_info_data_frame = pd.DataFrame()\n",
    "# print(product_info_data_frame)"
   ]
  },
  {
   "cell_type": "code",
   "execution_count": 12,
   "metadata": {
    "collapsed": false
   },
   "outputs": [],
   "source": [
    "# browser.get(\"https://shopee.tw/%E5%AC%B0%E5%B9%BC%E7%AB%A5%E8%88%87%E6%AF%8D%E8%A6%AA-cat.100?categoryName=%E5%AC%B0%E5%B9%BC%E7%AB%A5%E8%88%87%E6%AF%8D%E8%A6%AA&page=0\")"
   ]
  },
  {
   "cell_type": "code",
   "execution_count": 13,
   "metadata": {
    "collapsed": false,
    "scrolled": true
   },
   "outputs": [
    {
     "data": {
      "text/plain": [
       "\"\\nproduct_names = browser.find_elements_by_css_selector('.shopee-item-card__text-name')\\nproduct_likes = browser.find_elements_by_css_selector('.shopee-svg-icon.icon-like-2')\\n\\ntry:\\n    # 查找关键元素\\n    product_names = browser.find_elements_by_css_selector('.shopee-item-card__text-name')\\n    product_likes = browser.find_elements_by_css_selector('.shopee-svg-icon.icon-like-2')\\n\\n    for product_like, product_name in zip(product_likes, product_names):\\n        product_like.click()\\n        print(product_name.text)\\n        time.sleep(10)\\nexcept:\\n    print('Was not able to find an element with that name.')\\n\""
      ]
     },
     "execution_count": 13,
     "metadata": {},
     "output_type": "execute_result"
    }
   ],
   "source": [
    "'''\n",
    "product_names = browser.find_elements_by_css_selector('.shopee-item-card__text-name')\n",
    "product_likes = browser.find_elements_by_css_selector('.shopee-svg-icon.icon-like-2')\n",
    "\n",
    "try:\n",
    "    # 查找关键元素\n",
    "    product_names = browser.find_elements_by_css_selector('.shopee-item-card__text-name')\n",
    "    product_likes = browser.find_elements_by_css_selector('.shopee-svg-icon.icon-like-2')\n",
    "\n",
    "    for product_like, product_name in zip(product_likes, product_names):\n",
    "        product_like.click()\n",
    "        print(product_name.text)\n",
    "        time.sleep(10)\n",
    "except:\n",
    "    print('Was not able to find an element with that name.')\n",
    "'''"
   ]
  },
  {
   "cell_type": "code",
   "execution_count": 14,
   "metadata": {
    "collapsed": false,
    "scrolled": true
   },
   "outputs": [
    {
     "name": "stdout",
     "output_type": "stream",
     "text": [
      "Now open page 1\n",
      "小昊子 無敵王 光學滑鼠 人體工學 USB 三鍵式 發光 可愛 高解析 (不挑款) IK-M01 is clicked. And 1 products are clicked on page 1\n",
      "小昊子 無敵王 3Port Hub Micro USB 贈轉接頭 迷你 讀卡機 外接 OTG707 is clicked. And 2 products are clicked on page 1\n",
      "小昊子 Kolin 歌林 1A AC轉USB 充電器 圓型造型 方便 可愛 四款顏色 KEX-SHAU01 is clicked. And 3 products are clicked on page 1\n",
      "Not able to click.\n",
      "小昊子 無敵王 二合一晶片讀卡機 ATM晶片卡 記憶卡 自然人憑證 工商憑證 CG616 is clicked. And 4 products are clicked on page 1\n",
      "小昊子 Kolin 歌林 1.0A AC轉USB 充電器 橢圓型造型 隨插即用 三款顏色 KEX-SHAU02 is clicked. And 5 products are clicked on page 1\n",
      "小昊子 無敵王 Micro USB發光傳輸/充電線 手機 HTC LG 三星 JIK-064 is clicked. And 6 products are clicked on page 1\n",
      "小昊子 Kolin 歌林 3.1A AC轉USB 充電器 2埠 方便 手機 平板 簡約 KEX-SHAU04 is clicked. And 7 products are clicked on page 1\n",
      "Not able to click.\n",
      "小昊子 無敵王 光學滑鼠 人體工學 USB 三鍵式 網狀設計 舒適 高解析 (不挑款) IK-M03 is clicked. And 8 products are clicked on page 1\n",
      "小昊子 Kolin 歌林 3.1A AC轉USB 充電器 3埠 方便 快速 四款顏色 KEX-SHAU03 is clicked. And 9 products are clicked on page 1\n",
      "小昊子 無敵王 多功能手機 Micro USB 贈轉接頭 迷你 讀卡機 記憶卡 OTG772 is clicked. And 10 products are clicked on page 1\n",
      "小昊子 無敵王 ATM 智慧晶片 讀卡機 記憶卡 時尚經典 自然人憑證 工商憑證 CI693 is clicked. And 11 products are clicked on page 1\n",
      "小昊子 無敵王 USB 2合1 隨插即用 Micro SD 記憶卡 讀卡機 迷你 OTG111 is clicked. And 12 products are clicked on page 1\n",
      "C款-創意留言板時鐘 多功能螢光 留言板鬧鐘 LED鬧鐘-有HUB/USB-2.0 畢業禮物 交換禮物 聖誕節禮物 情人 is clicked. And 13 products are clicked on page 1\n",
      "通用型電腦鍵盤保護膜 鍵盤防髒套（現貨) 鍵盤保護防髒膠膜 桌上型鍵盤保護膜透明鍵盤套 電腦3C周邊用品 鍵盤防髒膜 is clicked. And 14 products are clicked on page 1\n",
      "Sp2 相印機 列印機 sp-2 打印機 另售拍立得相機 拍立得底片 空白底片 水晶殼 皮革套 相機包 皮套 保護殼 is clicked. And 15 products are clicked on page 1\n",
      "【現貨】Ysl 流沙行動電源 iPhone6 iPhone7 無線充電 背蓋充 行動電源 i7手機殼 背夾 背充 is clicked. And 16 products are clicked on page 1\n",
      "40x40cm 送USB電源線 LED摺疊 攝影棚 大攝影棚 可攜式 商品攝影 贈黑白背景布 40cm 40*40 is clicked. And 17 products are clicked on page 1\n",
      "現貨【日韓大尺寸辦公桌墊】 超大電腦墊 辦公桌墊 清新多功能超大電腦墊 PVC防水墊 滑鼠墊 is clicked. And 18 products are clicked on page 1\n",
      "拍立得底片 空白底片 10張入@156 另促銷6卷=60張以上 特價每卷@155 mini8 mini25 is clicked. And 19 products are clicked on page 1\n",
      "穿戴裝置 智能手環 智慧手環 LINE 運動手環 藍芽觸控型 來電顯示 比小米手環好用 智能手錶 is clicked. And 20 products are clicked on page 1\n",
      "打火機 電熱絲 可替換 點煙器 電子打火機 防風打火機 USB打火機 免瓦斯 非菸盒 生日 情人節 交換 禮物 is clicked. And 21 products are clicked on page 1\n",
      "鑽石 螢幕架 獨家金屬圓弧角 螢幕架發明者12週年大回饋!特價200 is clicked. And 22 products are clicked on page 1\n",
      "12.7mm SSD第二顆硬碟托架/光碟機轉接硬碟 12.7mm SATA3 現貨 is clicked. And 23 products are clicked on page 1\n",
      "【贈五大好禮】wacom繪圖板 電繪板手寫板WACOM bamboo CTL-471 is clicked. And 24 products are clicked on page 1\n",
      "全新 Transcend 創見 T.Sonic MP330 8G 8GB MP3 Line-in錄音 is clicked. And 25 products are clicked on page 1\n",
      "鏡面殼 I7 I7P I6 N5 N4 N3 N2 S4.S5.S6.s6 s7 edge.J7.A8【AB564】 is clicked. And 26 products are clicked on page 1\n",
      "特價◆Sunsonny 電競滑鼠 漂亮酷炫 引擎尾燈 6鍵 電競滑鼠 遊戲 鋼鐵人 T-M30 滑鼠 有線滑鼠 is clicked. And 27 products are clicked on page 1\n",
      "限時特價 👑 空白底片 空白拍立得底片 透明底片 白邊底片 另售 拍立得相機 白色底片 拍立得相紙 mini9 is clicked. And 28 products are clicked on page 1\n",
      "【可超取 送三好禮】鐳氪星 真青軸繁體注音倉頡 可換軸 機械鍵盤 機械式鍵盤 真機械 遊戲鍵盤 電競鍵盤 26鍵無衝 is clicked. And 29 products are clicked on page 1\n",
      "(金士曼)Apple Watch 38mm 42mm 9H 防爆 鋼化玻璃膜 保護貼 全版本通用 不鏽鋼 強化膜 is clicked. And 30 products are clicked on page 1\n",
      "150M 無線 wifi 網卡 usb 發射接收器 802.11n 天線版 小米 360可參考 is clicked. And 31 products are clicked on page 1\n",
      "【景平數位】全新 Instax Mini 拍立得 底片 空白 2019/06~特價中 is clicked. And 32 products are clicked on page 1\n",
      "[日本製防窺片] 7.0HD-19.5HD 16:9 寬螢幕防窺片，防窺膜、防眩光、防刮、抗藍光，送螢幕擦拭布 is clicked. And 33 products are clicked on page 1\n",
      "[送鼠墊] 羅技 M558 無線藍芽滑鼠 蘋果專用 MAC滑鼠 is clicked. And 34 products are clicked on page 1\n",
      "LED護眼閱讀臺燈USB LED夾子燈 夾燈 檯燈 書桌燈 臥室 床頭燈 寫字燈 護眼學習/閱讀/工作 is clicked. And 35 products are clicked on page 1\n",
      "現貨【原廠正品】LIEQI 034 無變形 手機 廣角鏡頭 0.4X-0.6X 廣角鏡 x15微距 LQ034 is clicked. And 36 products are clicked on page 1\n",
      "小小兵 史迪奇 貓爪 小叮噹 兔 拉拉熊 美國隊長 USB 64G 創意 情人節 訂製 生日 婚禮 結婚 隨身碟 is clicked. And 37 products are clicked on page 1\n",
      "CASIO ZR5000 ZR3500 ZR1500 ZR1200 ZR1000 兩段可拆式 掛鍊 脖子掛鍊 相機繩 長 is clicked. And 38 products are clicked on page 1\n",
      "【全家蒸氣】美國閃電 Ni80 發熱絲 20 22 24 26 28 AWG Lightning Vapes 長25FT is clicked. And 39 products are clicked on page 1\n",
      "【菲林因斯特】拍立得邊框貼紙 奇奇蒂蒂 小熊維尼 熊抱哥 唐老鴨 小飛象 相框貼裝飾空白底片 mini8 25 70 is clicked. And 40 products are clicked on page 1\n",
      "【菲林因斯特】LG Pocket photo 相印機專用底片 相紙30張/ PD239 PD251 PD261 用 is clicked. And 41 products are clicked on page 1\n",
      "200公分 麻繩 彩色麻繩 可夾木頭夾 做 拍立得底片牆 is clicked. And 42 products are clicked on page 1\n",
      "可愛棉質怪物皮套 相機包 CASIO TR70 TR60 TR50 TR600 TR550 保護套 TR500 TR80 is clicked. And 43 products are clicked on page 1\n",
      "CASIO ZR65 ZR55 ZR50 皮套 相機皮套 兩件式皮套 相機包 相機保護套 自拍神器 附送背帶 is clicked. And 44 products are clicked on page 1\n",
      "台南弘明攝影 FUJI 富士拍立得自拍鏡 mini7 mini8 mini9用 微距近拍鏡 自拍鏡 近拍 is clicked. And 45 products are clicked on page 1\n",
      "金屬時尚小夾子mp3音樂撥放器/男生女生運動夜跑必備(須插記憶卡) is clicked. And 46 products are clicked on page 1\n",
      "（樂源）2張200元英文版mac 蘋果鍵盤膜macbook pro retina air 13吋13.3吋15.4吋漸變 is clicked. And 47 products are clicked on page 1\n",
      "（台中可自取）Mini拍立得底片平口保護套100枚Mini 70 90 8 7S 25 50S 55 SP1 Pringo is clicked. And 48 products are clicked on page 1\n",
      "Now open page 2\n",
      "Not able to click.\n",
      "Not able to click.\n",
      "Now open page 3\n",
      "Not able to click.\n",
      "Not able to click.\n",
      "Now open page 4\n",
      "Not able to click.\n",
      "Not able to click.\n",
      "Now open page 5\n",
      "Not able to click.\n",
      "Not able to click.\n",
      "Now open page 6\n",
      "Not able to click.\n",
      "Not able to click.\n",
      "Now open page 7\n",
      "Not able to click.\n",
      "Not able to click.\n",
      "Now open page 8\n",
      "Not able to click.\n",
      "Not able to click.\n",
      "Now open page 9\n",
      "Not able to click.\n",
      "Not able to click.\n",
      "Now open page 10\n",
      "Not able to click.\n",
      "Not able to click.\n",
      "Now open page 11\n",
      "Not able to click.\n",
      "Not able to click.\n",
      "Now open page 12\n",
      "Not able to click.\n",
      "Not able to click.\n",
      "Now open page 13\n",
      "Not able to click.\n",
      "Not able to click.\n",
      "Now open page 14\n",
      "Now open page 15\n",
      "Now open page 16\n",
      "Not able to click.\n",
      "Not able to click.\n",
      "Now open page 17\n",
      "Not able to click.\n",
      "Not able to click.\n",
      "Now open page 18\n",
      "Not able to click.\n",
      "Not able to click.\n",
      "Now open page 19\n",
      "Not able to click.\n",
      "Not able to click.\n",
      "Now open page 20\n",
      "Not able to click.\n",
      "Not able to click.\n",
      "Now open page 21\n",
      "Not able to click.\n",
      "Not able to click.\n",
      "Now open page 22\n",
      "Not able to click.\n",
      "Not able to click.\n",
      "Now open page 23\n",
      "Not able to click.\n",
      "Not able to click.\n",
      "Now open page 24\n",
      "Not able to click.\n",
      "Not able to click.\n",
      "Now open page 25\n",
      "Not able to click.\n",
      "Not able to click.\n",
      "Now open page 26\n",
      "Not able to click.\n",
      "Not able to click.\n",
      "Now open page 27\n",
      "Not able to click.\n",
      "Not able to click.\n",
      "Now open page 28\n",
      "Not able to click.\n",
      "Not able to click.\n",
      "Now open page 29\n",
      "Not able to click.\n",
      "Not able to click.\n",
      "Now open page 30\n",
      "Not able to click.\n",
      "Not able to click.\n",
      "Now open page 31\n",
      "Not able to click.\n",
      "Not able to click.\n",
      "Now open page 32\n",
      "Not able to click.\n",
      "Not able to click.\n",
      "Now open page 33\n",
      "Not able to click.\n",
      "Not able to click.\n",
      "Now open page 34\n",
      "Not able to click.\n",
      "Not able to click.\n",
      "Now open page 35\n",
      "Not able to click.\n",
      "Not able to click.\n",
      "Now open page 36\n",
      "Not able to click.\n",
      "Not able to click.\n",
      "Now open page 37\n",
      "Not able to click.\n",
      "Not able to click.\n",
      "Now open page 38\n",
      "Not able to click.\n",
      "Not able to click.\n",
      "Now open page 39\n",
      "Not able to click.\n",
      "Not able to click.\n",
      "Now open page 40\n",
      "Not able to click.\n",
      "Not able to click.\n",
      "Now open page 41\n",
      "Not able to click.\n",
      "Not able to click.\n",
      "Now open page 42\n",
      "Not able to click.\n",
      "Not able to click.\n",
      "Now open page 43\n",
      "Not able to click.\n",
      "Not able to click.\n",
      "Now open page 44\n",
      "Not able to click.\n",
      "Not able to click.\n",
      "Now open page 45\n",
      "Not able to click.\n",
      "Not able to click.\n",
      "Now open page 46\n",
      "Not able to click.\n",
      "Not able to click.\n",
      "Now open page 47\n",
      "Now open page 48\n",
      "Now open page 49\n",
      "Not able to click.\n",
      "Not able to click.\n",
      "Now open page 50\n",
      "Not able to click.\n",
      "Not able to click.\n",
      "Now open page 51\n",
      "Not able to click.\n",
      "Not able to click.\n",
      "Now open page 52\n",
      "Not able to click.\n",
      "Not able to click.\n",
      "Now open page 53\n",
      "Not able to click.\n",
      "Not able to click.\n",
      "Now open page 54\n",
      "Not able to click.\n",
      "Not able to click.\n",
      "Now open page 55\n",
      "Not able to click.\n",
      "Not able to click.\n",
      "Now open page 56\n",
      "Not able to click.\n",
      "Not able to click.\n",
      "Now open page 57\n",
      "Not able to click.\n",
      "Not able to click.\n",
      "Now open page 58\n",
      "Not able to click.\n",
      "Not able to click.\n",
      "Now open page 59\n",
      "Not able to click.\n",
      "Not able to click.\n",
      "Now open page 60\n",
      "Not able to click.\n",
      "Not able to click.\n",
      "Now open page 61\n",
      "Not able to click.\n",
      "Not able to click.\n",
      "Now open page 62\n",
      "Not able to click.\n",
      "Not able to click.\n",
      "Now open page 63\n",
      "Not able to click.\n",
      "Not able to click.\n",
      "Now open page 64\n",
      "Not able to click.\n",
      "Not able to click.\n",
      "Now open page 65\n",
      "Not able to click.\n",
      "Not able to click.\n",
      "Now open page 66\n",
      "Not able to click.\n",
      "Not able to click.\n",
      "Now open page 67\n",
      "Not able to click.\n",
      "Not able to click.\n",
      "Now open page 68\n",
      "Not able to click.\n",
      "Not able to click.\n",
      "Now open page 69\n",
      "Not able to click.\n",
      "Not able to click.\n",
      "Now open page 70\n",
      "Not able to click.\n",
      "Not able to click.\n",
      "Now open page 71\n",
      "Not able to click.\n",
      "Not able to click.\n",
      "Now open page 72\n",
      "Not able to click.\n",
      "Not able to click.\n",
      "Now open page 73\n",
      "Not able to click.\n",
      "Not able to click.\n",
      "Now open page 74\n",
      "Not able to click.\n",
      "Not able to click.\n",
      "Now open page 75\n",
      "Not able to click.\n",
      "Not able to click.\n",
      "Now open page 76\n",
      "Not able to click.\n",
      "Not able to click.\n",
      "Now open page 77\n",
      "Not able to click.\n",
      "Not able to click.\n",
      "Now open page 78\n",
      "Not able to click.\n",
      "Not able to click.\n",
      "Now open page 79\n",
      "Not able to click.\n",
      "Not able to click.\n",
      "Now open page 80\n",
      "Not able to click.\n",
      "Not able to click.\n",
      "Now open page 81\n",
      "Not able to click.\n",
      "Not able to click.\n",
      "Now open page 82\n",
      "Not able to click.\n",
      "Not able to click.\n",
      "Now open page 83\n",
      "Not able to click.\n",
      "Not able to click.\n",
      "Now open page 84\n",
      "Not able to click.\n",
      "Not able to click.\n",
      "Now open page 85\n",
      "Not able to click.\n",
      "Not able to click.\n",
      "Now open page 86\n",
      "Not able to click.\n",
      "Not able to click.\n",
      "Now open page 87\n",
      "Not able to click.\n",
      "Not able to click.\n",
      "Now open page 88\n",
      "Not able to click.\n",
      "Not able to click.\n",
      "Now open page 89\n",
      "Not able to click.\n",
      "Not able to click.\n",
      "Now open page 90\n",
      "Not able to click.\n",
      "Not able to click.\n",
      "Now open page 91\n",
      "Not able to click.\n",
      "Not able to click.\n",
      "Now open page 92\n",
      "Not able to click.\n",
      "Not able to click.\n",
      "Now open page 93\n",
      "Not able to click.\n",
      "Not able to click.\n",
      "Now open page 94\n",
      "Not able to click.\n",
      "Not able to click.\n",
      "Now open page 95\n",
      "Not able to click.\n",
      "Not able to click.\n",
      "Now open page 96\n",
      "Not able to click.\n",
      "Not able to click.\n",
      "Now open page 97\n",
      "Not able to click.\n",
      "Not able to click.\n",
      "Now open page 98\n",
      "Not able to click.\n",
      "Not able to click.\n",
      "Now open page 99\n",
      "Not able to click.\n",
      "Not able to click.\n",
      "Now open page 100\n",
      "Not able to click.\n",
      "Not able to click.\n"
     ]
    }
   ],
   "source": [
    "# for i in range(1, search_page_max + 1):\n",
    "for i in range(1, search_page_max + 51):\n",
    "    search_page_url = search_page_url_part1 + str(i) + search_page_url_part3\n",
    "    # 打开搜索列表页\n",
    "    browser.get(search_page_url)\n",
    "    time.sleep(10)\n",
    "    print('Now open page ' + str(i))\n",
    "    \n",
    "    num_of_clicked_product = 1\n",
    "\n",
    "    try:\n",
    "        # 查找关键元素\n",
    "        product_names = browser.find_elements_by_css_selector('.shopee-item-card__text-name')\n",
    "        product_likes = browser.find_elements_by_css_selector('.shopee-svg-icon.icon-like-2')\n",
    "\n",
    "        for product_like, product_name in zip(product_likes, product_names):\n",
    "            try:\n",
    "                product_like.click()\n",
    "                print(product_name.text + ' is clicked. And ' + str(num_of_clicked_product) + ' products are clicked on page ' + str(i))\n",
    "                num_of_clicked_product += 1\n",
    "                time.sleep(30)\n",
    "            except:\n",
    "                print('Not able to click.')\n",
    "    except:\n",
    "        print('Was not able to find an element with that name.')"
   ]
  }
 ],
 "metadata": {
  "kernelspec": {
   "display_name": "Python 3",
   "language": "python",
   "name": "python3"
  },
  "language_info": {
   "codemirror_mode": {
    "name": "ipython",
    "version": 3
   },
   "file_extension": ".py",
   "mimetype": "text/x-python",
   "name": "python",
   "nbconvert_exporter": "python",
   "pygments_lexer": "ipython3",
   "version": "3.6.0"
  }
 },
 "nbformat": 4,
 "nbformat_minor": 2
}
