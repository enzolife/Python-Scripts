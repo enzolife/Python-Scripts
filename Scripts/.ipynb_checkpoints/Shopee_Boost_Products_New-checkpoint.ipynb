{
 "cells": [
  {
   "cell_type": "code",
   "execution_count": 10,
   "metadata": {
    "collapsed": true
   },
   "outputs": [],
   "source": [
    "from selenium import webdriver\n",
    "from selenium.webdriver.common.keys import Keys\n",
    "import pandas as pd\n",
    "import time\n",
    "import datetime\n",
    "import logging\n",
    "import os\n",
    "\n",
    "import random"
   ]
  },
  {
   "cell_type": "code",
   "execution_count": 11,
   "metadata": {
    "collapsed": true
   },
   "outputs": [],
   "source": [
    "# Date\n",
    "today_date = datetime.date.today() + datetime.timedelta(days=0)\n",
    "yesterday_date = datetime.date.today() + datetime.timedelta(days=-1)\n",
    "seven_days_before_date = datetime.date.today() + datetime.timedelta(days=-7)\n",
    "\n",
    "today_date_string = today_date.strftime('%Y_%m_%d')"
   ]
  },
  {
   "cell_type": "code",
   "execution_count": 12,
   "metadata": {
    "collapsed": true
   },
   "outputs": [],
   "source": [
    "log_file_name = 'shopee_add_and_cancel_fans_log\\\\shopee_add_and_cancel_fans_log_' + today_date_string + '.txt'\n",
    "\n",
    "# logging.basicConfig(filename=log_file_name, level=logging.INFO, format='%(asctime)s - %(levelname)s - %(message)s')\n",
    "\n",
    "logging.basicConfig(level=logging.INFO, format='%(asctime)s - %(levelname)s - %(message)s')"
   ]
  },
  {
   "cell_type": "code",
   "execution_count": 13,
   "metadata": {
    "collapsed": true
   },
   "outputs": [],
   "source": [
    "# 屏幕最大化，且指定下载目录\n",
    "options = webdriver.ChromeOptions()\n",
    "options.add_argument(\"--start-maximized\")\n",
    "\n",
    "prefs = {\"profile.default_content_settings.popups\": 0,\n",
    "         \"directory_upgrade\": True}\n",
    "options.add_experimental_option(\"prefs\", prefs)"
   ]
  },
  {
   "cell_type": "code",
   "execution_count": 14,
   "metadata": {
    "collapsed": true
   },
   "outputs": [],
   "source": [
    "# 使用chromedriver才可以用开发者权限\n",
    "chrome_driver_path = \"D://Program Files (x86)//百度云同步盘//我的软件//chromedriver.exe\"\n",
    "# browser = webdriver.Chrome(chrome_driver_path, chrome_options=options)"
   ]
  },
  {
   "cell_type": "code",
   "execution_count": 15,
   "metadata": {
    "collapsed": false
   },
   "outputs": [],
   "source": [
    "# 所需参数\n",
    "# 站点；站点后缀；账户；密码；站点top卖家shopid；top卖家username（方便识别）\n",
    "shop_list = [['tw', 'tw', 23070969, 'poweradapter.tw', 'kuangyiqiao1991', 9469128, 'alonso.tw'],\n",
    "             ['tw', 'tw', 25482220, 'tengus.tw', 'tengus1803', 23068230, 'iu.tw'],\n",
    "             ['tw', 'tw', 58707738, 'qianjiaozi', 'qianjiaozi888', 26513957, 'beibei.tw'],\n",
    "             ['tw', 'tw', 66377809, 'qianjiaozi1', 'qianjiaozi888', 23068230, 'iu.tw'],\n",
    "             ['tw', 'tw', 62416366, 'tengus1.tw', 'tengus1803', 23068230, 'iu.tw'],\n",
    "             ['tw', 'tw', 62416544, 'tengus2.tw', 'tengus1803', 23068230, 'iu.tw'],\n",
    "             ['tw', 'tw', 63534861, 'qianjiaozitw1', 'tengus1803', 23068230, 'iu.tw'],\n",
    "             ['tw', 'tw', 62887142, 'yilanlu.tw', 'yilanlu888', 23481977, 'huoyi.tw'],\n",
    "             ['my', 'com.my', 53580963, 'qianjiaozi.my', 'tengus1803', 10891137, 'winners.my'],\n",
    "             ['my', 'com.my', 59848325, 'tengus.my', 'tengus1803', 10891137, 'winners.my'],\n",
    "             ['my', 'com.my', 62418141, 'tengus1.my', 'tengus1803', 10891137, 'winners.my'],\n",
    "             ['my', 'com.my', 62418493, 'tengus2.my', 'tengus1803', 10891137, 'winners.my'],\n",
    "             ['id', 'co.id', 59846508, 'tengus.id', 'tengus1803', 28135012, 'sunnyfun.id'],\n",
    "             ['id', 'co.id', 62417386, 'tengus1.id', 'tengus1803', 28135012, 'sunnyfun.id'],\n",
    "             ['id', 'co.id', 62417551, 'tengus2.id', 'tengus1803', 28135012, 'sunnyfun.id']\n",
    "            ]"
   ]
  },
  {
   "cell_type": "code",
   "execution_count": 16,
   "metadata": {
    "collapsed": true
   },
   "outputs": [],
   "source": [
    "# 转换为dataframe\n",
    "shop_df_columns = ['site', 'site_suffix', 'shopid', 'acc', 'pwd', 'top_shop_id', 'top_shop_username']\n",
    "shop_df = pd.DataFrame(shop_list, columns=shop_df_columns)"
   ]
  },
  {
   "cell_type": "code",
   "execution_count": null,
   "metadata": {
    "collapsed": true
   },
   "outputs": [],
   "source": [
    "# 商品置顶函数\n",
    "def boost_product(site, site_suffix, shopid, acc, pwd):\n",
    "    # 打开浏览器\n",
    "    logging.info('Open the browser.')\n",
    "    browser = webdriver.Chrome(chrome_driver_path, chrome_options=options)\n",
    "    \n",
    "    # main page\n",
    "    main_page_url = \"http://shopee.\" + site_suffix\n",
    "    browser.get(main_page_url)\n",
    "    time.sleep(10)\n",
    "    \n",
    "    # remove ads, refresh again\n",
    "    browser.get(main_page_url)\n",
    "    time.sleep(10)\n",
    "\n",
    "    # if the shop is on my site, should press the button to choose language\n",
    "    if site == 'my':\n",
    "        language_selector = browser.find_elements_by_css_selector('.shopee-button-outline.shopee-button-outline--primary-reverse')\n",
    "        language_selector[2].click()\n",
    "        logging.info('Choose Chinese as language.')\n",
    "        time.sleep(10)\n",
    "    \n",
    "    # login\n",
    "    logging.info('Start to login.')\n",
    "    LoginElem = browser.find_elements_by_css_selector('.navbar__link.navbar__link--account.navbar__link--tappable.navbar__link--hoverable.navbar__link-text.navbar__link-text--medium')\n",
    "    \n",
    "    # 点击登入，弹出账户密码输入框\n",
    "    LoginElem[1].click()\n",
    "    time.sleep(10)\n",
    "    \n",
    "    # 输入\n",
    "    acc_password_input_elem = browser.find_elements_by_css_selector('.input-with-status__input')\n",
    "    try:\n",
    "        acc_password_input_elem[0].click()\n",
    "        acc_password_input_elem[0].send_keys(acc)\n",
    "        acc_password_input_elem[1].click()\n",
    "        acc_password_input_elem[1].send_keys(pwd)\n",
    "    except:\n",
    "        time.sleep(30)\n",
    "        acc_password_input_elem = browser.find_elements_by_css_selector('.input-with-status__input')\n",
    "        acc_password_input_elem[0].click()\n",
    "        acc_password_input_elem[0].send_keys(acc)\n",
    "        acc_password_input_elem[1].click()\n",
    "        acc_password_input_elem[1].send_keys(pwd)\n",
    "    time.sleep(10)\n",
    "    \n",
    "    # 点击提交\n",
    "    Login_button_elem = browser.find_elements_by_css_selector('.shopee-button-solid.shopee-button-solid--primary')\n",
    "    Login_button_elem[0].click()\n",
    "    time.sleep(10)\n",
    "    \n",
    "    # switch to my seller center\n",
    "    logging.info('Switch to my seller center.')\n",
    "    seller_center_main_page = 'https://seller.shopee.' + site_suffix\n",
    "    browser.get(seller_center_main_page)\n",
    "    time.sleep(10)\n",
    "    \n",
    "    # my products page\n",
    "    logging.info('Switch to my products page')\n",
    "    my_products = browser.find_elements_by_css_selector('.home-big-button__title')\n",
    "    my_products[0].click()\n",
    "    time.sleep(10)\n",
    "    \n",
    "    # product boost\n",
    "    try:\n",
    "        my_products_boost = browser.find_elements_by_css_selector('.shopee-button.shopee-button--inactive.shopee-button--frameless.shopee-button--medium.ember-view')\n",
    "        logging.info('There are ' + str(len(my_products_boost)) + ' products can be boosted on the product list page.')\n",
    "        # random select 5 products to boost\n",
    "        random_num_list = random.sample(range(0, len(my_products_boost)-1), 5)\n",
    "        for index, random_num in enumerate(random_num_list):\n",
    "            my_products_boost[random_num].click()\n",
    "            logging.info('Boost ' + str(index + 1) + ' product.')\n",
    "        logging.info('Product Boost is completed.')\n",
    "    except:\n",
    "        pass\n",
    "    \n",
    "    # 关闭\n",
    "    browser.quit()"
   ]
  },
  {
   "cell_type": "code",
   "execution_count": null,
   "metadata": {
    "collapsed": false,
    "scrolled": false
   },
   "outputs": [
    {
     "name": "stderr",
     "output_type": "stream",
     "text": [
      "2018-05-18 15:09:44,063 - INFO - Now it's running the script on poweradapter.tw.\n",
      "2018-05-18 15:09:44,064 - INFO - Open the browser.\n",
      "2018-05-18 15:10:19,359 - INFO - Start to login.\n",
      "2018-05-18 15:10:49,791 - INFO - Switch to my seller center.\n",
      "2018-05-18 15:11:01,344 - INFO - Switch to my products page\n",
      "2018-05-18 15:11:11,437 - INFO - There are 0 products on the product list page.\n",
      "2018-05-18 15:11:14,486 - INFO - Finished running the script on poweradapter.tw.\n",
      "2018-05-18 15:11:14,487 - INFO - Now it's running the script on tengus.tw.\n",
      "2018-05-18 15:11:14,487 - INFO - Open the browser.\n",
      "2018-05-18 15:11:46,054 - INFO - Start to login.\n",
      "2018-05-18 15:12:16,435 - INFO - Switch to my seller center.\n",
      "2018-05-18 15:12:45,890 - INFO - Switch to my products page\n",
      "2018-05-18 15:12:55,961 - INFO - There are 0 products on the product list page.\n",
      "2018-05-18 15:12:59,014 - INFO - Finished running the script on tengus.tw.\n",
      "2018-05-18 15:12:59,016 - INFO - Now it's running the script on qianjiaozi.\n",
      "2018-05-18 15:12:59,018 - INFO - Open the browser.\n",
      "2018-05-18 15:13:29,997 - INFO - Start to login.\n",
      "2018-05-18 15:14:00,402 - INFO - Switch to my seller center.\n",
      "2018-05-18 15:14:12,452 - INFO - Switch to my products page\n",
      "2018-05-18 15:14:22,553 - INFO - There are 0 products on the product list page.\n",
      "2018-05-18 15:14:25,591 - INFO - Finished running the script on qianjiaozi.\n",
      "2018-05-18 15:14:25,592 - INFO - Now it's running the script on qianjiaozi1.\n",
      "2018-05-18 15:14:25,592 - INFO - Open the browser.\n",
      "2018-05-18 15:14:56,629 - INFO - Start to login.\n",
      "2018-05-18 15:15:27,041 - INFO - Switch to my seller center.\n",
      "2018-05-18 15:15:38,872 - INFO - Switch to my products page\n",
      "2018-05-18 15:15:48,966 - INFO - There are 0 products on the product list page.\n",
      "2018-05-18 15:15:52,017 - INFO - Finished running the script on qianjiaozi1.\n",
      "2018-05-18 15:15:52,018 - INFO - Now it's running the script on tengus1.tw.\n",
      "2018-05-18 15:15:52,018 - INFO - Open the browser.\n"
     ]
    }
   ],
   "source": [
    "# 历遍所有shop\n",
    "for index, my_shop in shop_df.iterrows():\n",
    "    site = my_shop[0]\n",
    "    site_suffix = my_shop[1]\n",
    "    shopid = my_shop[2]\n",
    "    acc = my_shop[3]\n",
    "    pwd = my_shop[4]\n",
    "    \n",
    "    # 执行\n",
    "    try:\n",
    "        logging.info('Now it\\'s running the script on ' + acc + '.')\n",
    "        boost_product(site, site_suffix, shopid, acc, pwd)\n",
    "        logging.info('Finished running the script on ' + acc + '.')\n",
    "    except Exception as err:\n",
    "        logging.info('An exception occurred: ' + str(err) + '.')"
   ]
  }
 ],
 "metadata": {
  "anaconda-cloud": {},
  "kernelspec": {
   "display_name": "Python 3",
   "language": "python",
   "name": "python3"
  },
  "language_info": {
   "codemirror_mode": {
    "name": "ipython",
    "version": 3
   },
   "file_extension": ".py",
   "mimetype": "text/x-python",
   "name": "python",
   "nbconvert_exporter": "python",
   "pygments_lexer": "ipython3",
   "version": "3.6.0"
  }
 },
 "nbformat": 4,
 "nbformat_minor": 1
}
