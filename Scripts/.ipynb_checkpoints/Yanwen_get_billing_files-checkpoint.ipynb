{
 "cells": [
  {
   "cell_type": "code",
   "execution_count": 1,
   "metadata": {
    "collapsed": true
   },
   "outputs": [],
   "source": [
    "from selenium import webdriver\n",
    "from selenium.webdriver.common.keys import Keys\n",
    "import pandas as pd\n",
    "import time\n",
    "import os\n",
    "import zipfile\n",
    "import shutil"
   ]
  },
  {
   "cell_type": "code",
   "execution_count": 2,
   "metadata": {
    "collapsed": true
   },
   "outputs": [],
   "source": [
    "# 屏幕最大化，且指定下载目录\n",
    "options = webdriver.ChromeOptions()\n",
    "options.add_argument(\"--start-maximized\")\n",
    "\n",
    "prefs = {\"profile.default_content_settings.popups\": 0,\n",
    "         \"download.default_directory\": r\"D:\\Program Files (x86)\\百度云同步盘\\Dropbox\\-E·J- 2014.5.1\\2016.12.15 店小秘数据分析\\2017.10.24 各渠道运费明细\\燕文\\\\\", # IMPORTANT - ENDING SLASH V IMPORTANT\n",
    "         \"directory_upgrade\": True}\n",
    "options.add_experimental_option(\"prefs\", prefs)"
   ]
  },
  {
   "cell_type": "code",
   "execution_count": 3,
   "metadata": {
    "collapsed": true
   },
   "outputs": [],
   "source": [
    "# 使用chromedriver才可以用开发者权限\n",
    "chrome_driver_path = \".//chrome_driver//chromedriver.exe\"\n",
    "browser = webdriver.Chrome(chrome_driver_path, chrome_options=options)"
   ]
  },
  {
   "cell_type": "code",
   "execution_count": 4,
   "metadata": {
    "collapsed": true
   },
   "outputs": [],
   "source": [
    "browser.get('http://portal.yw56.com.cn/login')"
   ]
  },
  {
   "cell_type": "code",
   "execution_count": 5,
   "metadata": {
    "collapsed": true
   },
   "outputs": [],
   "source": [
    "yw_account = 401614\n",
    "yw_psw = 401614"
   ]
  },
  {
   "cell_type": "code",
   "execution_count": 6,
   "metadata": {
    "collapsed": true
   },
   "outputs": [],
   "source": [
    "def find_elements_by_css_selector(class_name, order_num):\n",
    "    class_name = class_name.replace(\" \", \".\")\n",
    "    class_name = '.' + class_name\n",
    "    return browser.find_elements_by_css_selector(class_name)[order_num]"
   ]
  },
  {
   "cell_type": "code",
   "execution_count": 7,
   "metadata": {
    "collapsed": true
   },
   "outputs": [],
   "source": [
    "time.sleep(5)\n",
    "yw_account_input = find_elements_by_css_selector('ant-input ant-input-lg', 0)\n",
    "yw_psw_input = find_elements_by_css_selector('ant-input ant-input-lg', 1)"
   ]
  },
  {
   "cell_type": "code",
   "execution_count": 8,
   "metadata": {
    "collapsed": true
   },
   "outputs": [],
   "source": [
    "# 输入账户密码登录\n",
    "yw_account_input.click()\n",
    "yw_account_input.send_keys(yw_account)\n",
    "yw_psw_input.click()\n",
    "yw_psw_input.send_keys(yw_psw)\n",
    "time.sleep(10)"
   ]
  },
  {
   "cell_type": "code",
   "execution_count": 9,
   "metadata": {
    "collapsed": true
   },
   "outputs": [],
   "source": [
    "# 登录\n",
    "login_button = find_elements_by_css_selector(\"ant-btn antd-pro-components-login-index-submit ant-btn-primary ant-btn-lg\", 0)\n",
    "login_button.click()\n",
    "time.sleep(10)"
   ]
  },
  {
   "cell_type": "code",
   "execution_count": null,
   "metadata": {
    "collapsed": true
   },
   "outputs": [],
   "source": [
    "# 点击我的历史账单\n",
    "browser.get('https://portal.yw56.com.cn/bill/historyBill')\n",
    "time.sleep(5)"
   ]
  },
  {
   "cell_type": "code",
   "execution_count": null,
   "metadata": {},
   "outputs": [],
   "source": [
    "# 选择‘账单’\n",
    "find_elements_by_css_selector('ant-select ant-select-enabled', 1).click()\n",
    "time.sleep(5)\n",
    "browser.find_element_by_xpath(\"//ul[@class='ant-select-dropdown-menu  ant-select-dropdown-menu-root ant-select-dropdown-menu-vertical']/li[text()='账单']\").click()"
   ]
  },
  {
   "cell_type": "code",
   "execution_count": null,
   "metadata": {
    "collapsed": true
   },
   "outputs": [],
   "source": [
    "# 选择‘账单’\n",
    "# https://stackoverflow.com/questions/7867537/selenium-python-drop-down-menu-option-value\n",
    "# browser.find_element_by_xpath(\"//select[@name='transType']/option[text()='账单']\").click()"
   ]
  },
  {
   "cell_type": "code",
   "execution_count": null,
   "metadata": {
    "collapsed": true
   },
   "outputs": [],
   "source": [
    "# 日期选择器\n",
    "import datetime as dt\n",
    "from datetime import timedelta\n",
    "today_date = dt.datetime.today()\n",
    "ninety_days_ago = today_date - timedelta(days=120)\n",
    "ninety_days_ago_str_format = ninety_days_ago.strftime('%Y-%m-%d')\n",
    "today_date_str_format = today_date.strftime('%Y-%m-%d')\n",
    "# ninety_days_ago_str_format"
   ]
  },
  {
   "cell_type": "code",
   "execution_count": null,
   "metadata": {
    "collapsed": true
   },
   "outputs": [],
   "source": [
    "# 设置日期\n",
    "find_elements_by_css_selector('ant-calendar-picker-input ant-input', 0).click()\n",
    "time.sleep(5)"
   ]
  },
  {
   "cell_type": "code",
   "execution_count": null,
   "metadata": {
    "collapsed": true
   },
   "outputs": [],
   "source": [
    "# 选择结束日期\n",
    "find_elements_by_css_selector('ant-calendar-cell ant-calendar-last-day-of-month', -1).click()"
   ]
  },
  {
   "cell_type": "code",
   "execution_count": null,
   "metadata": {
    "collapsed": true
   },
   "outputs": [],
   "source": [
    "# 翻上一页\n",
    "find_elements_by_css_selector('ant-calendar-prev-month-btn', 0).click()\n",
    "find_elements_by_css_selector('ant-calendar-prev-month-btn', 0).click()"
   ]
  },
  {
   "cell_type": "code",
   "execution_count": null,
   "metadata": {
    "collapsed": true
   },
   "outputs": [],
   "source": [
    "# 选择起始日期\n",
    "find_elements_by_css_selector('ant-calendar-cell ant-calendar-last-month-cell', 0).click()"
   ]
  },
  {
   "cell_type": "code",
   "execution_count": null,
   "metadata": {
    "collapsed": true
   },
   "outputs": [],
   "source": [
    "# find_elements_by_css_selector('ant-calendar-picker', 0).click()\n",
    "# start_date = find_elements_by_css_selector('ant-calendar-range-picker-input', 0)\n",
    "# start_date.click()\n",
    "# time.sleep(2)\n",
    "# start_date.clear()\n",
    "# time.sleep(5)\n",
    "# start_date.send_keys(ninety_days_ago_str_format)\n",
    "# start_date.setAttribute(\"value\", ninety_days_ago_str_format)\n",
    "# browser.execute_script(\"arguments[0].setAttribute('value', '\" + ninety_days_ago_str_format + \"')\", start_date);\n",
    "\n",
    "# end_date = find_elements_by_css_selector('ant-calendar-range-picker-input', 1)\n",
    "\n",
    "# browser.execute_script(\"arguments[0].setAttribute('value', '\" + today_date_str_format + \"')\", end_date);"
   ]
  },
  {
   "cell_type": "code",
   "execution_count": null,
   "metadata": {
    "collapsed": true
   },
   "outputs": [],
   "source": [
    "# 点击查询\n",
    "search_bill = find_elements_by_css_selector(\"ant-btn ant-btn-primary\", 0)\n",
    "search_bill.click()\n",
    "time.sleep(10)"
   ]
  },
  {
   "cell_type": "code",
   "execution_count": null,
   "metadata": {
    "collapsed": true
   },
   "outputs": [],
   "source": [
    "# # 设置条目数\n",
    "# num_of_rows = find_elements_by_css_selector('btn-group dropup', 0)\n",
    "# num_of_rows.click()\n",
    "\n",
    "# # 点击最大条目数\n",
    "# # https://stackoverflow.com/questions/34583524/python-selenium-click-on-all-li-in-ul\n",
    "# # https://stackoverflow.com/questions/18026766/selenium-select-element-with-multiple-attributes\n",
    "# num_of_max_rows = browser.find_elements_by_xpath(\"//ul[@class = 'dropdown-menu'][@role = 'menu']//li[not(@class)]\")\n",
    "# # num_of_max_rows[-1].text\n",
    "# num_of_max_rows[-1].click()\n",
    "# time.sleep(5)"
   ]
  },
  {
   "cell_type": "code",
   "execution_count": null,
   "metadata": {
    "collapsed": true
   },
   "outputs": [],
   "source": [
    "# # 查看有多少条记录\n",
    "# # https://stackoverflow.com/questions/14831041/how-to-count-no-of-rows-in-table-from-web-application-using-selenium-python-webd\n",
    "# row_count = len(browser.find_elements_by_xpath(\"//table[@id='table']/tbody/tr\"))\n",
    "# print(row_count)\n",
    "# time.sleep(5)"
   ]
  },
  {
   "cell_type": "code",
   "execution_count": null,
   "metadata": {
    "collapsed": true
   },
   "outputs": [],
   "source": [
    "# # 点击每条账单\n",
    "# '''\n",
    "# bill_id = 0\n",
    "# bill_location = browser.find_elements_by_xpath(\"//table[@id='table']/tbody/tr[@data-index='\" + str(bill_id) + \"']/td\")[5]\n",
    "# bill_html = \"http://portal.yw56.com.cn\" + bill_location.get_attribute('innerHTML').split('\"')[1].replace('amp;','')\n",
    "# browser.get(bill_html)\n",
    "# '''"
   ]
  },
  {
   "cell_type": "code",
   "execution_count": null,
   "metadata": {
    "collapsed": true
   },
   "outputs": [],
   "source": [
    "# # 点击下载\n",
    "# '''\n",
    "# bill_download = find_elements_by_css_selector(\"btn\", 1)\n",
    "# bill_download.click()\n",
    "# '''"
   ]
  },
  {
   "cell_type": "code",
   "execution_count": null,
   "metadata": {
    "collapsed": true
   },
   "outputs": [],
   "source": [
    "# 逐条点击\n",
    "item_in_page = len(browser.find_elements_by_css_selector('.ant-table-row.ant-table-row-level-0'))\n",
    "# browser.find_element_by_xpath(\"//tbody[@class='ant-table-tbody']/tr[@data-row-key='0']/td[6]\").click()\n",
    "# time.sleep(5)"
   ]
  },
  {
   "cell_type": "code",
   "execution_count": null,
   "metadata": {
    "collapsed": true
   },
   "outputs": [],
   "source": [
    "# 点击下载\n",
    "# find_elements_by_css_selector('ant-btn ant-btn-primary', 1).click()\n",
    "# time.sleep(5)"
   ]
  },
  {
   "cell_type": "code",
   "execution_count": null,
   "metadata": {
    "scrolled": true
   },
   "outputs": [],
   "source": [
    "# 逐个下载\n",
    "i = 1\n",
    "fanye = 0\n",
    "try:\n",
    "    while i <= item_in_page:\n",
    "        get_result = True\n",
    "        while get_result == True:\n",
    "            try:\n",
    "                print('there are {} item in this page'.format(item_in_page))\n",
    "                # 回到账单页\n",
    "                browser.get('https://portal.yw56.com.cn/bill/historyBill')\n",
    "                time.sleep(5)\n",
    "                # 选择‘账单’\n",
    "                find_elements_by_css_selector('ant-select ant-select-enabled', 1).click()\n",
    "                time.sleep(5)\n",
    "                browser.find_element_by_xpath(\"//ul[@class='ant-select-dropdown-menu  ant-select-dropdown-menu-root ant-select-dropdown-menu-vertical']/li[text()='账单']\").click()\n",
    "                time.sleep(5)\n",
    "                # 设置日期\n",
    "                find_elements_by_css_selector('ant-calendar-picker-input ant-input', 0).click()\n",
    "                time.sleep(5)\n",
    "                # 选择结束日期\n",
    "                find_elements_by_css_selector('ant-calendar-cell ant-calendar-last-day-of-month', -1).click()    \n",
    "                time.sleep(5)\n",
    "                # 翻上一页\n",
    "                find_elements_by_css_selector('ant-calendar-prev-month-btn', 0).click()\n",
    "                time.sleep(5)\n",
    "                find_elements_by_css_selector('ant-calendar-prev-month-btn', 0).click()\n",
    "                time.sleep(5)\n",
    "                # 选择起始日期\n",
    "                find_elements_by_css_selector('ant-calendar-cell ant-calendar-last-month-cell', 0).click()\n",
    "                time.sleep(5)\n",
    "                # 点击查询\n",
    "                search_bill = find_elements_by_css_selector(\"ant-btn ant-btn-primary\", 0)\n",
    "                search_bill.click()\n",
    "                time.sleep(5)\n",
    "\n",
    "                # 观察是否需要翻页\n",
    "                if fanye > 0:\n",
    "                    for w in range(fanye):\n",
    "                        find_elements_by_css_selector('ant-pagination-next', 0).click()\n",
    "                        print('翻页')\n",
    "                        time.sleep(5)\n",
    "\n",
    "                # 去到页面底部\n",
    "                body = browser.find_element_by_css_selector('body')\n",
    "                body.send_keys(Keys.END)\n",
    "                time.sleep(5)\n",
    "                if i <= 5:\n",
    "                    body.send_keys(Keys.CONTROL + Keys.HOME)\n",
    "                    time.sleep(5)\n",
    "\n",
    "                # 本页有多少结果\n",
    "                item_in_page = len(browser.find_elements_by_css_selector('.ant-table-row.ant-table-row-level-0'))\n",
    "                print('{} item in page'.format(item_in_page))                        \n",
    "                        \n",
    "                # 点击账单金额\n",
    "                browser.find_element_by_xpath(\"//tbody[@class='ant-table-tbody']/tr[@data-row-key='\" + str(i - 1) + \"']/td[6]\").click()\n",
    "                print('点击了账单金额')\n",
    "                time.sleep(5)\n",
    "                # 点击下载\n",
    "                find_elements_by_css_selector('ant-btn ant-btn-primary', 1).click()\n",
    "                print('点击了账单下载')\n",
    "                time.sleep(5)\n",
    "\n",
    "                # 再点击下一个账单\n",
    "                i = i + 1\n",
    "\n",
    "                # 如果 i > 10，则点击下一页\n",
    "                if i > 10:\n",
    "                    find_elements_by_css_selector('ant-pagination-next', 0).click()\n",
    "                    time.sleep(5)\n",
    "                    item_in_page = len(browser.find_elements_by_css_selector('.ant-table-row.ant-table-row-level-0'))\n",
    "                    i = 1\n",
    "                    fanye = fanye + 1\n",
    "                    \n",
    "                get_result = False\n",
    "            except Exception as err:\n",
    "                print('Exception occurred: ' + str(err))\n",
    "                get_result = True\n",
    "\n",
    "except Exception as err:\n",
    "    print('Exception occurred: ' + str(err))"
   ]
  },
  {
   "cell_type": "code",
   "execution_count": null,
   "metadata": {
    "collapsed": true
   },
   "outputs": [],
   "source": [
    "# for i in range(row_count):\n",
    "#     # 点击我的历史账单\n",
    "#     browser.get('http://portal.yw56.com.cn/bill/index?type=1')\n",
    "#     # 选择‘账单’\n",
    "#     # https://stackoverflow.com/questions/7867537/selenium-python-drop-down-menu-option-value\n",
    "#     browser.find_element_by_xpath(\"//select[@name='transType']/option[text()='账单']\").click()\n",
    "#     # 日期选择器\n",
    "#     today_date = dt.datetime.today()\n",
    "#     ninety_days_ago = today_date - timedelta(days=90)\n",
    "#     ninety_days_ago_str_format = ninety_days_ago.strftime('%Y-%m-%d')\n",
    "#     # ninety_days_ago_str_format\n",
    "#     # 设置日期\n",
    "#     start_date = find_elements_by_css_selector('form-control', 0)\n",
    "#     start_date.clear()\n",
    "#     start_date.send_keys(ninety_days_ago_str_format)\n",
    "#     # 点击查询\n",
    "#     search_bill = find_elements_by_css_selector(\"btn\", 0)\n",
    "#     search_bill.click()\n",
    "#     time.sleep(10)\n",
    "#     # 设置条目数\n",
    "#     num_of_rows = find_elements_by_css_selector('btn-group dropup', 0)\n",
    "#     num_of_rows.click()\n",
    "#     # 点击最大条目数\n",
    "#     # https://stackoverflow.com/questions/34583524/python-selenium-click-on-all-li-in-ul\n",
    "#     # https://stackoverflow.com/questions/18026766/selenium-select-element-with-multiple-attributes\n",
    "#     num_of_max_rows = browser.find_elements_by_xpath(\"//ul[@class = 'dropdown-menu'][@role = 'menu']//li[not(@class)]\")\n",
    "#     # num_of_max_rows[-1].text\n",
    "#     num_of_max_rows[-1].click()\n",
    "#     time.sleep(5)\n",
    "#     # 点击每条账单\n",
    "#     bill_id = i\n",
    "#     try:\n",
    "#         bill_location = browser.find_elements_by_xpath(\"//table[@id='table']/tbody/tr[@data-index='\" + str(bill_id) + \"']/td\")[5]\n",
    "#         print(bill_location)\n",
    "#         bill_html = \"http://portal.yw56.com.cn\" + bill_location.get_attribute('innerHTML').split('\"')[1].replace('amp;','')\n",
    "#         print(bill_html)\n",
    "#         browser.get(bill_html)\n",
    "#         # 点击下载\n",
    "#         bill_download = find_elements_by_css_selector(\"btn\", 1)\n",
    "#         bill_download.click()\n",
    "#         time.sleep(5)\n",
    "#     except Exception as err:\n",
    "#         print('Exception occurred: ' + str(err))"
   ]
  }
 ],
 "metadata": {
  "anaconda-cloud": {},
  "kernelspec": {
   "display_name": "Python [default]",
   "language": "python",
   "name": "python3"
  }
 },
 "nbformat": 4,
 "nbformat_minor": 1
}
