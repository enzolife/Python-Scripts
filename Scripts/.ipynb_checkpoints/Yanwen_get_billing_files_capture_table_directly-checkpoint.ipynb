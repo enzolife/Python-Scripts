{
 "cells": [
  {
   "cell_type": "code",
   "execution_count": 339,
   "metadata": {
    "collapsed": true
   },
   "outputs": [],
   "source": [
    "from selenium import webdriver\n",
    "from selenium.webdriver.common.keys import Keys\n",
    "import pandas as pd\n",
    "import time\n",
    "import os\n",
    "import zipfile\n",
    "import shutil"
   ]
  },
  {
   "cell_type": "code",
   "execution_count": 295,
   "metadata": {
    "collapsed": true
   },
   "outputs": [],
   "source": [
    "# 屏幕最大化，且指定下载目录\n",
    "options = webdriver.ChromeOptions()\n",
    "options.add_argument(\"--start-maximized\")\n",
    "\n",
    "prefs = {\"profile.default_content_settings.popups\": 0,\n",
    "         \"download.default_directory\": r\"D:\\Program Files (x86)\\百度云同步盘\\Dropbox\\-E·J- 2014.5.1\\2016.12.15 店小秘数据分析\\2017.10.24 各渠道运费明细\\燕文\\\\\", # IMPORTANT - ENDING SLASH V IMPORTANT\n",
    "         \"directory_upgrade\": True}\n",
    "options.add_experimental_option(\"prefs\", prefs)"
   ]
  },
  {
   "cell_type": "code",
   "execution_count": 296,
   "metadata": {
    "collapsed": true
   },
   "outputs": [],
   "source": [
    "# 使用chromedriver才可以用开发者权限\n",
    "chrome_driver_path = \".//chrome_driver//chromedriver.exe\"\n",
    "browser = webdriver.Chrome(chrome_driver_path, chrome_options=options)"
   ]
  },
  {
   "cell_type": "code",
   "execution_count": 361,
   "metadata": {
    "collapsed": true
   },
   "outputs": [],
   "source": [
    "browser.get('http://portal.yw56.com.cn/login')"
   ]
  },
  {
   "cell_type": "code",
   "execution_count": 362,
   "metadata": {
    "collapsed": true
   },
   "outputs": [],
   "source": [
    "yw_account = 401614\n",
    "yw_psw = 401614"
   ]
  },
  {
   "cell_type": "code",
   "execution_count": 363,
   "metadata": {
    "collapsed": true
   },
   "outputs": [],
   "source": [
    "def find_elements_by_css_selector(class_name, order_num):\n",
    "    class_name = class_name.replace(\" \", \".\")\n",
    "    class_name = '.' + class_name\n",
    "    return browser.find_elements_by_css_selector(class_name)[order_num]"
   ]
  },
  {
   "cell_type": "code",
   "execution_count": 364,
   "metadata": {
    "collapsed": true
   },
   "outputs": [],
   "source": [
    "time.sleep(5)\n",
    "yw_account_input = find_elements_by_css_selector('ant-input ant-input-lg', 0)\n",
    "yw_psw_input = find_elements_by_css_selector('ant-input ant-input-lg', 1)"
   ]
  },
  {
   "cell_type": "code",
   "execution_count": 365,
   "metadata": {
    "collapsed": true
   },
   "outputs": [],
   "source": [
    "# 输入账户密码登录\n",
    "yw_account_input.click()\n",
    "yw_account_input.send_keys(yw_account)\n",
    "yw_psw_input.click()\n",
    "yw_psw_input.send_keys(yw_psw)\n",
    "time.sleep(10)"
   ]
  },
  {
   "cell_type": "code",
   "execution_count": 366,
   "metadata": {
    "collapsed": true
   },
   "outputs": [],
   "source": [
    "# 登录\n",
    "login_button = find_elements_by_css_selector(\"ant-btn antd-pro-components-login-index-submit ant-btn-primary ant-btn-lg\", 0)\n",
    "login_button.click()\n",
    "time.sleep(10)"
   ]
  },
  {
   "cell_type": "code",
   "execution_count": 367,
   "metadata": {
    "collapsed": true
   },
   "outputs": [],
   "source": [
    "# 点击我的历史账单\n",
    "browser.get('https://portal.yw56.com.cn/bill/historyBill/401614')"
   ]
  },
  {
   "cell_type": "code",
   "execution_count": 368,
   "metadata": {
    "collapsed": true
   },
   "outputs": [],
   "source": [
    "# 选择‘账单’\n",
    "find_elements_by_css_selector('ant-select ant-select-enabled', 1).click()\n",
    "time.sleep(5)\n",
    "browser.find_element_by_xpath(\"//ul[@class='ant-select-dropdown-menu  ant-select-dropdown-menu-root ant-select-dropdown-menu-vertical']/li[text()='账单']\").click()"
   ]
  },
  {
   "cell_type": "code",
   "execution_count": 369,
   "metadata": {
    "collapsed": true
   },
   "outputs": [],
   "source": [
    "# 选择‘账单’\n",
    "# https://stackoverflow.com/questions/7867537/selenium-python-drop-down-menu-option-value\n",
    "# browser.find_element_by_xpath(\"//select[@name='transType']/option[text()='账单']\").click()"
   ]
  },
  {
   "cell_type": "code",
   "execution_count": 370,
   "metadata": {
    "collapsed": true
   },
   "outputs": [],
   "source": [
    "# 日期选择器\n",
    "import datetime as dt\n",
    "from datetime import timedelta\n",
    "today_date = dt.datetime.today()\n",
    "ninety_days_ago = today_date - timedelta(days=120)\n",
    "ninety_days_ago_str_format = ninety_days_ago.strftime('%Y-%m-%d')\n",
    "today_date_str_format = today_date.strftime('%Y-%m-%d')\n",
    "# ninety_days_ago_str_format"
   ]
  },
  {
   "cell_type": "code",
   "execution_count": 371,
   "metadata": {
    "collapsed": true
   },
   "outputs": [],
   "source": [
    "# 设置日期\n",
    "find_elements_by_css_selector('ant-calendar-picker-input ant-input', 0).click()"
   ]
  },
  {
   "cell_type": "code",
   "execution_count": 372,
   "metadata": {
    "collapsed": true
   },
   "outputs": [],
   "source": [
    "# 选择结束日期\n",
    "find_elements_by_css_selector('ant-calendar-cell ant-calendar-last-day-of-month', -1).click()"
   ]
  },
  {
   "cell_type": "code",
   "execution_count": 373,
   "metadata": {
    "collapsed": true
   },
   "outputs": [],
   "source": [
    "# 翻上一页\n",
    "find_elements_by_css_selector('ant-calendar-prev-month-btn', 0).click()\n",
    "find_elements_by_css_selector('ant-calendar-prev-month-btn', 0).click()"
   ]
  },
  {
   "cell_type": "code",
   "execution_count": 374,
   "metadata": {
    "collapsed": true
   },
   "outputs": [],
   "source": [
    "# 选择起始日期\n",
    "find_elements_by_css_selector('ant-calendar-cell ant-calendar-last-month-cell', 0).click()"
   ]
  },
  {
   "cell_type": "code",
   "execution_count": 375,
   "metadata": {
    "collapsed": true
   },
   "outputs": [],
   "source": [
    "# find_elements_by_css_selector('ant-calendar-picker', 0).click()\n",
    "# start_date = find_elements_by_css_selector('ant-calendar-range-picker-input', 0)\n",
    "# start_date.click()\n",
    "# time.sleep(2)\n",
    "# start_date.clear()\n",
    "# time.sleep(5)\n",
    "# start_date.send_keys(ninety_days_ago_str_format)\n",
    "# start_date.setAttribute(\"value\", ninety_days_ago_str_format)\n",
    "# browser.execute_script(\"arguments[0].setAttribute('value', '\" + ninety_days_ago_str_format + \"')\", start_date);\n",
    "\n",
    "# end_date = find_elements_by_css_selector('ant-calendar-range-picker-input', 1)\n",
    "\n",
    "# browser.execute_script(\"arguments[0].setAttribute('value', '\" + today_date_str_format + \"')\", end_date);"
   ]
  },
  {
   "cell_type": "code",
   "execution_count": 376,
   "metadata": {
    "collapsed": true
   },
   "outputs": [],
   "source": [
    "# 点击查询\n",
    "search_bill = find_elements_by_css_selector(\"ant-btn ant-btn-primary\", 0)\n",
    "search_bill.click()\n",
    "time.sleep(10)"
   ]
  },
  {
   "cell_type": "code",
   "execution_count": 377,
   "metadata": {
    "collapsed": true
   },
   "outputs": [],
   "source": [
    "# # 设置条目数\n",
    "# num_of_rows = find_elements_by_css_selector('btn-group dropup', 0)\n",
    "# num_of_rows.click()\n",
    "\n",
    "# # 点击最大条目数\n",
    "# # https://stackoverflow.com/questions/34583524/python-selenium-click-on-all-li-in-ul\n",
    "# # https://stackoverflow.com/questions/18026766/selenium-select-element-with-multiple-attributes\n",
    "# num_of_max_rows = browser.find_elements_by_xpath(\"//ul[@class = 'dropdown-menu'][@role = 'menu']//li[not(@class)]\")\n",
    "# # num_of_max_rows[-1].text\n",
    "# num_of_max_rows[-1].click()\n",
    "# time.sleep(5)"
   ]
  },
  {
   "cell_type": "code",
   "execution_count": 378,
   "metadata": {
    "collapsed": true
   },
   "outputs": [],
   "source": [
    "# # 查看有多少条记录\n",
    "# # https://stackoverflow.com/questions/14831041/how-to-count-no-of-rows-in-table-from-web-application-using-selenium-python-webd\n",
    "# row_count = len(browser.find_elements_by_xpath(\"//table[@id='table']/tbody/tr\"))\n",
    "# print(row_count)\n",
    "# time.sleep(5)"
   ]
  },
  {
   "cell_type": "code",
   "execution_count": 379,
   "metadata": {
    "collapsed": true
   },
   "outputs": [],
   "source": [
    "# # 点击每条账单\n",
    "# '''\n",
    "# bill_id = 0\n",
    "# bill_location = browser.find_elements_by_xpath(\"//table[@id='table']/tbody/tr[@data-index='\" + str(bill_id) + \"']/td\")[5]\n",
    "# bill_html = \"http://portal.yw56.com.cn\" + bill_location.get_attribute('innerHTML').split('\"')[1].replace('amp;','')\n",
    "# browser.get(bill_html)\n",
    "# '''"
   ]
  },
  {
   "cell_type": "code",
   "execution_count": 380,
   "metadata": {
    "collapsed": true
   },
   "outputs": [],
   "source": [
    "# # 点击下载\n",
    "# '''\n",
    "# bill_download = find_elements_by_css_selector(\"btn\", 1)\n",
    "# bill_download.click()\n",
    "# '''"
   ]
  },
  {
   "cell_type": "code",
   "execution_count": 381,
   "metadata": {
    "collapsed": true
   },
   "outputs": [],
   "source": [
    "# 逐条点击\n",
    "item_in_page = len(browser.find_elements_by_css_selector('.ant-table-row.ant-table-row-level-0'))\n",
    "# browser.find_element_by_xpath(\"//tbody[@class='ant-table-tbody']/tr[@data-row-key='0']/td[6]\").click()\n",
    "# time.sleep(5)"
   ]
  },
  {
   "cell_type": "code",
   "execution_count": 382,
   "metadata": {
    "collapsed": true
   },
   "outputs": [],
   "source": [
    "# 点击下载\n",
    "# find_elements_by_css_selector('ant-btn ant-btn-primary', 1).click()\n",
    "# time.sleep(5)"
   ]
  },
  {
   "cell_type": "code",
   "execution_count": 385,
   "metadata": {},
   "outputs": [
    {
     "name": "stdout",
     "output_type": "stream",
     "text": [
      "there are 10 item in this page\n"
     ]
    },
    {
     "ename": "KeyboardInterrupt",
     "evalue": "",
     "output_type": "error",
     "traceback": [
      "\u001b[0;31m---------------------------------------------------------------------------\u001b[0m",
      "\u001b[0;31mKeyboardInterrupt\u001b[0m                         Traceback (most recent call last)",
      "\u001b[0;32m<ipython-input-385-5a75df7922c9>\u001b[0m in \u001b[0;36m<module>\u001b[0;34m()\u001b[0m\n\u001b[1;32m      6\u001b[0m         \u001b[0mprint\u001b[0m\u001b[1;33m(\u001b[0m\u001b[1;34m'there are {} item in this page'\u001b[0m\u001b[1;33m.\u001b[0m\u001b[0mformat\u001b[0m\u001b[1;33m(\u001b[0m\u001b[0mitem_in_page\u001b[0m\u001b[1;33m)\u001b[0m\u001b[1;33m)\u001b[0m\u001b[1;33m\u001b[0m\u001b[0m\n\u001b[1;32m      7\u001b[0m         \u001b[1;31m# 回到账单页\u001b[0m\u001b[1;33m\u001b[0m\u001b[1;33m\u001b[0m\u001b[0m\n\u001b[0;32m----> 8\u001b[0;31m         \u001b[0mbrowser\u001b[0m\u001b[1;33m.\u001b[0m\u001b[0mget\u001b[0m\u001b[1;33m(\u001b[0m\u001b[1;34m'https://portal.yw56.com.cn/bill/historyBill/401614'\u001b[0m\u001b[1;33m)\u001b[0m\u001b[1;33m\u001b[0m\u001b[0m\n\u001b[0m\u001b[1;32m      9\u001b[0m         \u001b[0mtime\u001b[0m\u001b[1;33m.\u001b[0m\u001b[0msleep\u001b[0m\u001b[1;33m(\u001b[0m\u001b[1;36m5\u001b[0m\u001b[1;33m)\u001b[0m\u001b[1;33m\u001b[0m\u001b[0m\n\u001b[1;32m     10\u001b[0m         \u001b[1;31m# 选择‘账单’\u001b[0m\u001b[1;33m\u001b[0m\u001b[1;33m\u001b[0m\u001b[0m\n",
      "\u001b[0;32mC:\\Users\\kuang\\Anaconda3\\lib\\site-packages\\selenium\\webdriver\\remote\\webdriver.py\u001b[0m in \u001b[0;36mget\u001b[0;34m(self, url)\u001b[0m\n\u001b[1;32m    321\u001b[0m         \u001b[0mLoads\u001b[0m \u001b[0ma\u001b[0m \u001b[0mweb\u001b[0m \u001b[0mpage\u001b[0m \u001b[1;32min\u001b[0m \u001b[0mthe\u001b[0m \u001b[0mcurrent\u001b[0m \u001b[0mbrowser\u001b[0m \u001b[0msession\u001b[0m\u001b[1;33m.\u001b[0m\u001b[1;33m\u001b[0m\u001b[0m\n\u001b[1;32m    322\u001b[0m         \"\"\"\n\u001b[0;32m--> 323\u001b[0;31m         \u001b[0mself\u001b[0m\u001b[1;33m.\u001b[0m\u001b[0mexecute\u001b[0m\u001b[1;33m(\u001b[0m\u001b[0mCommand\u001b[0m\u001b[1;33m.\u001b[0m\u001b[0mGET\u001b[0m\u001b[1;33m,\u001b[0m \u001b[1;33m{\u001b[0m\u001b[1;34m'url'\u001b[0m\u001b[1;33m:\u001b[0m \u001b[0murl\u001b[0m\u001b[1;33m}\u001b[0m\u001b[1;33m)\u001b[0m\u001b[1;33m\u001b[0m\u001b[0m\n\u001b[0m\u001b[1;32m    324\u001b[0m \u001b[1;33m\u001b[0m\u001b[0m\n\u001b[1;32m    325\u001b[0m     \u001b[1;33m@\u001b[0m\u001b[0mproperty\u001b[0m\u001b[1;33m\u001b[0m\u001b[0m\n",
      "\u001b[0;32mC:\\Users\\kuang\\Anaconda3\\lib\\site-packages\\selenium\\webdriver\\remote\\webdriver.py\u001b[0m in \u001b[0;36mexecute\u001b[0;34m(self, driver_command, params)\u001b[0m\n\u001b[1;32m    307\u001b[0m \u001b[1;33m\u001b[0m\u001b[0m\n\u001b[1;32m    308\u001b[0m         \u001b[0mparams\u001b[0m \u001b[1;33m=\u001b[0m \u001b[0mself\u001b[0m\u001b[1;33m.\u001b[0m\u001b[0m_wrap_value\u001b[0m\u001b[1;33m(\u001b[0m\u001b[0mparams\u001b[0m\u001b[1;33m)\u001b[0m\u001b[1;33m\u001b[0m\u001b[0m\n\u001b[0;32m--> 309\u001b[0;31m         \u001b[0mresponse\u001b[0m \u001b[1;33m=\u001b[0m \u001b[0mself\u001b[0m\u001b[1;33m.\u001b[0m\u001b[0mcommand_executor\u001b[0m\u001b[1;33m.\u001b[0m\u001b[0mexecute\u001b[0m\u001b[1;33m(\u001b[0m\u001b[0mdriver_command\u001b[0m\u001b[1;33m,\u001b[0m \u001b[0mparams\u001b[0m\u001b[1;33m)\u001b[0m\u001b[1;33m\u001b[0m\u001b[0m\n\u001b[0m\u001b[1;32m    310\u001b[0m         \u001b[1;32mif\u001b[0m \u001b[0mresponse\u001b[0m\u001b[1;33m:\u001b[0m\u001b[1;33m\u001b[0m\u001b[0m\n\u001b[1;32m    311\u001b[0m             \u001b[0mself\u001b[0m\u001b[1;33m.\u001b[0m\u001b[0merror_handler\u001b[0m\u001b[1;33m.\u001b[0m\u001b[0mcheck_response\u001b[0m\u001b[1;33m(\u001b[0m\u001b[0mresponse\u001b[0m\u001b[1;33m)\u001b[0m\u001b[1;33m\u001b[0m\u001b[0m\n",
      "\u001b[0;32mC:\\Users\\kuang\\Anaconda3\\lib\\site-packages\\selenium\\webdriver\\remote\\remote_connection.py\u001b[0m in \u001b[0;36mexecute\u001b[0;34m(self, command, params)\u001b[0m\n\u001b[1;32m    458\u001b[0m         \u001b[0mpath\u001b[0m \u001b[1;33m=\u001b[0m \u001b[0mstring\u001b[0m\u001b[1;33m.\u001b[0m\u001b[0mTemplate\u001b[0m\u001b[1;33m(\u001b[0m\u001b[0mcommand_info\u001b[0m\u001b[1;33m[\u001b[0m\u001b[1;36m1\u001b[0m\u001b[1;33m]\u001b[0m\u001b[1;33m)\u001b[0m\u001b[1;33m.\u001b[0m\u001b[0msubstitute\u001b[0m\u001b[1;33m(\u001b[0m\u001b[0mparams\u001b[0m\u001b[1;33m)\u001b[0m\u001b[1;33m\u001b[0m\u001b[0m\n\u001b[1;32m    459\u001b[0m         \u001b[0murl\u001b[0m \u001b[1;33m=\u001b[0m \u001b[1;34m'%s%s'\u001b[0m \u001b[1;33m%\u001b[0m \u001b[1;33m(\u001b[0m\u001b[0mself\u001b[0m\u001b[1;33m.\u001b[0m\u001b[0m_url\u001b[0m\u001b[1;33m,\u001b[0m \u001b[0mpath\u001b[0m\u001b[1;33m)\u001b[0m\u001b[1;33m\u001b[0m\u001b[0m\n\u001b[0;32m--> 460\u001b[0;31m         \u001b[1;32mreturn\u001b[0m \u001b[0mself\u001b[0m\u001b[1;33m.\u001b[0m\u001b[0m_request\u001b[0m\u001b[1;33m(\u001b[0m\u001b[0mcommand_info\u001b[0m\u001b[1;33m[\u001b[0m\u001b[1;36m0\u001b[0m\u001b[1;33m]\u001b[0m\u001b[1;33m,\u001b[0m \u001b[0murl\u001b[0m\u001b[1;33m,\u001b[0m \u001b[0mbody\u001b[0m\u001b[1;33m=\u001b[0m\u001b[0mdata\u001b[0m\u001b[1;33m)\u001b[0m\u001b[1;33m\u001b[0m\u001b[0m\n\u001b[0m\u001b[1;32m    461\u001b[0m \u001b[1;33m\u001b[0m\u001b[0m\n\u001b[1;32m    462\u001b[0m     \u001b[1;32mdef\u001b[0m \u001b[0m_request\u001b[0m\u001b[1;33m(\u001b[0m\u001b[0mself\u001b[0m\u001b[1;33m,\u001b[0m \u001b[0mmethod\u001b[0m\u001b[1;33m,\u001b[0m \u001b[0murl\u001b[0m\u001b[1;33m,\u001b[0m \u001b[0mbody\u001b[0m\u001b[1;33m=\u001b[0m\u001b[1;32mNone\u001b[0m\u001b[1;33m)\u001b[0m\u001b[1;33m:\u001b[0m\u001b[1;33m\u001b[0m\u001b[0m\n",
      "\u001b[0;32mC:\\Users\\kuang\\Anaconda3\\lib\\site-packages\\selenium\\webdriver\\remote\\remote_connection.py\u001b[0m in \u001b[0;36m_request\u001b[0;34m(self, method, url, body)\u001b[0m\n\u001b[1;32m    482\u001b[0m             \u001b[1;32mtry\u001b[0m\u001b[1;33m:\u001b[0m\u001b[1;33m\u001b[0m\u001b[0m\n\u001b[1;32m    483\u001b[0m                 \u001b[0mself\u001b[0m\u001b[1;33m.\u001b[0m\u001b[0m_conn\u001b[0m\u001b[1;33m.\u001b[0m\u001b[0mrequest\u001b[0m\u001b[1;33m(\u001b[0m\u001b[0mmethod\u001b[0m\u001b[1;33m,\u001b[0m \u001b[0mparsed_url\u001b[0m\u001b[1;33m.\u001b[0m\u001b[0mpath\u001b[0m\u001b[1;33m,\u001b[0m \u001b[0mbody\u001b[0m\u001b[1;33m,\u001b[0m \u001b[0mheaders\u001b[0m\u001b[1;33m)\u001b[0m\u001b[1;33m\u001b[0m\u001b[0m\n\u001b[0;32m--> 484\u001b[0;31m                 \u001b[0mresp\u001b[0m \u001b[1;33m=\u001b[0m \u001b[0mself\u001b[0m\u001b[1;33m.\u001b[0m\u001b[0m_conn\u001b[0m\u001b[1;33m.\u001b[0m\u001b[0mgetresponse\u001b[0m\u001b[1;33m(\u001b[0m\u001b[1;33m)\u001b[0m\u001b[1;33m\u001b[0m\u001b[0m\n\u001b[0m\u001b[1;32m    485\u001b[0m             \u001b[1;32mexcept\u001b[0m \u001b[1;33m(\u001b[0m\u001b[0mhttplib\u001b[0m\u001b[1;33m.\u001b[0m\u001b[0mHTTPException\u001b[0m\u001b[1;33m,\u001b[0m \u001b[0msocket\u001b[0m\u001b[1;33m.\u001b[0m\u001b[0merror\u001b[0m\u001b[1;33m)\u001b[0m\u001b[1;33m:\u001b[0m\u001b[1;33m\u001b[0m\u001b[0m\n\u001b[1;32m    486\u001b[0m                 \u001b[0mself\u001b[0m\u001b[1;33m.\u001b[0m\u001b[0m_conn\u001b[0m\u001b[1;33m.\u001b[0m\u001b[0mclose\u001b[0m\u001b[1;33m(\u001b[0m\u001b[1;33m)\u001b[0m\u001b[1;33m\u001b[0m\u001b[0m\n",
      "\u001b[0;32mC:\\Users\\kuang\\Anaconda3\\lib\\http\\client.py\u001b[0m in \u001b[0;36mgetresponse\u001b[0;34m(self)\u001b[0m\n\u001b[1;32m   1195\u001b[0m         \u001b[1;32mtry\u001b[0m\u001b[1;33m:\u001b[0m\u001b[1;33m\u001b[0m\u001b[0m\n\u001b[1;32m   1196\u001b[0m             \u001b[1;32mtry\u001b[0m\u001b[1;33m:\u001b[0m\u001b[1;33m\u001b[0m\u001b[0m\n\u001b[0;32m-> 1197\u001b[0;31m                 \u001b[0mresponse\u001b[0m\u001b[1;33m.\u001b[0m\u001b[0mbegin\u001b[0m\u001b[1;33m(\u001b[0m\u001b[1;33m)\u001b[0m\u001b[1;33m\u001b[0m\u001b[0m\n\u001b[0m\u001b[1;32m   1198\u001b[0m             \u001b[1;32mexcept\u001b[0m \u001b[0mConnectionError\u001b[0m\u001b[1;33m:\u001b[0m\u001b[1;33m\u001b[0m\u001b[0m\n\u001b[1;32m   1199\u001b[0m                 \u001b[0mself\u001b[0m\u001b[1;33m.\u001b[0m\u001b[0mclose\u001b[0m\u001b[1;33m(\u001b[0m\u001b[1;33m)\u001b[0m\u001b[1;33m\u001b[0m\u001b[0m\n",
      "\u001b[0;32mC:\\Users\\kuang\\Anaconda3\\lib\\http\\client.py\u001b[0m in \u001b[0;36mbegin\u001b[0;34m(self)\u001b[0m\n\u001b[1;32m    295\u001b[0m         \u001b[1;31m# read until we get a non-100 response\u001b[0m\u001b[1;33m\u001b[0m\u001b[1;33m\u001b[0m\u001b[0m\n\u001b[1;32m    296\u001b[0m         \u001b[1;32mwhile\u001b[0m \u001b[1;32mTrue\u001b[0m\u001b[1;33m:\u001b[0m\u001b[1;33m\u001b[0m\u001b[0m\n\u001b[0;32m--> 297\u001b[0;31m             \u001b[0mversion\u001b[0m\u001b[1;33m,\u001b[0m \u001b[0mstatus\u001b[0m\u001b[1;33m,\u001b[0m \u001b[0mreason\u001b[0m \u001b[1;33m=\u001b[0m \u001b[0mself\u001b[0m\u001b[1;33m.\u001b[0m\u001b[0m_read_status\u001b[0m\u001b[1;33m(\u001b[0m\u001b[1;33m)\u001b[0m\u001b[1;33m\u001b[0m\u001b[0m\n\u001b[0m\u001b[1;32m    298\u001b[0m             \u001b[1;32mif\u001b[0m \u001b[0mstatus\u001b[0m \u001b[1;33m!=\u001b[0m \u001b[0mCONTINUE\u001b[0m\u001b[1;33m:\u001b[0m\u001b[1;33m\u001b[0m\u001b[0m\n\u001b[1;32m    299\u001b[0m                 \u001b[1;32mbreak\u001b[0m\u001b[1;33m\u001b[0m\u001b[0m\n",
      "\u001b[0;32mC:\\Users\\kuang\\Anaconda3\\lib\\http\\client.py\u001b[0m in \u001b[0;36m_read_status\u001b[0;34m(self)\u001b[0m\n\u001b[1;32m    256\u001b[0m \u001b[1;33m\u001b[0m\u001b[0m\n\u001b[1;32m    257\u001b[0m     \u001b[1;32mdef\u001b[0m \u001b[0m_read_status\u001b[0m\u001b[1;33m(\u001b[0m\u001b[0mself\u001b[0m\u001b[1;33m)\u001b[0m\u001b[1;33m:\u001b[0m\u001b[1;33m\u001b[0m\u001b[0m\n\u001b[0;32m--> 258\u001b[0;31m         \u001b[0mline\u001b[0m \u001b[1;33m=\u001b[0m \u001b[0mstr\u001b[0m\u001b[1;33m(\u001b[0m\u001b[0mself\u001b[0m\u001b[1;33m.\u001b[0m\u001b[0mfp\u001b[0m\u001b[1;33m.\u001b[0m\u001b[0mreadline\u001b[0m\u001b[1;33m(\u001b[0m\u001b[0m_MAXLINE\u001b[0m \u001b[1;33m+\u001b[0m \u001b[1;36m1\u001b[0m\u001b[1;33m)\u001b[0m\u001b[1;33m,\u001b[0m \u001b[1;34m\"iso-8859-1\"\u001b[0m\u001b[1;33m)\u001b[0m\u001b[1;33m\u001b[0m\u001b[0m\n\u001b[0m\u001b[1;32m    259\u001b[0m         \u001b[1;32mif\u001b[0m \u001b[0mlen\u001b[0m\u001b[1;33m(\u001b[0m\u001b[0mline\u001b[0m\u001b[1;33m)\u001b[0m \u001b[1;33m>\u001b[0m \u001b[0m_MAXLINE\u001b[0m\u001b[1;33m:\u001b[0m\u001b[1;33m\u001b[0m\u001b[0m\n\u001b[1;32m    260\u001b[0m             \u001b[1;32mraise\u001b[0m \u001b[0mLineTooLong\u001b[0m\u001b[1;33m(\u001b[0m\u001b[1;34m\"status line\"\u001b[0m\u001b[1;33m)\u001b[0m\u001b[1;33m\u001b[0m\u001b[0m\n",
      "\u001b[0;32mC:\\Users\\kuang\\Anaconda3\\lib\\socket.py\u001b[0m in \u001b[0;36mreadinto\u001b[0;34m(self, b)\u001b[0m\n\u001b[1;32m    573\u001b[0m         \u001b[1;32mwhile\u001b[0m \u001b[1;32mTrue\u001b[0m\u001b[1;33m:\u001b[0m\u001b[1;33m\u001b[0m\u001b[0m\n\u001b[1;32m    574\u001b[0m             \u001b[1;32mtry\u001b[0m\u001b[1;33m:\u001b[0m\u001b[1;33m\u001b[0m\u001b[0m\n\u001b[0;32m--> 575\u001b[0;31m                 \u001b[1;32mreturn\u001b[0m \u001b[0mself\u001b[0m\u001b[1;33m.\u001b[0m\u001b[0m_sock\u001b[0m\u001b[1;33m.\u001b[0m\u001b[0mrecv_into\u001b[0m\u001b[1;33m(\u001b[0m\u001b[0mb\u001b[0m\u001b[1;33m)\u001b[0m\u001b[1;33m\u001b[0m\u001b[0m\n\u001b[0m\u001b[1;32m    576\u001b[0m             \u001b[1;32mexcept\u001b[0m \u001b[0mtimeout\u001b[0m\u001b[1;33m:\u001b[0m\u001b[1;33m\u001b[0m\u001b[0m\n\u001b[1;32m    577\u001b[0m                 \u001b[0mself\u001b[0m\u001b[1;33m.\u001b[0m\u001b[0m_timeout_occurred\u001b[0m \u001b[1;33m=\u001b[0m \u001b[1;32mTrue\u001b[0m\u001b[1;33m\u001b[0m\u001b[0m\n",
      "\u001b[0;31mKeyboardInterrupt\u001b[0m: "
     ]
    }
   ],
   "source": [
    "# 逐个下载\n",
    "i = 1\n",
    "fanye = 0\n",
    "try:\n",
    "    while i <= item_in_page:\n",
    "        print('there are {} item in this page'.format(item_in_page))\n",
    "        # 回到账单页\n",
    "        browser.get('https://portal.yw56.com.cn/bill/historyBill/401614')\n",
    "        time.sleep(5)\n",
    "        # 选择‘账单’\n",
    "        find_elements_by_css_selector('ant-select ant-select-enabled', 1).click()\n",
    "        time.sleep(5)\n",
    "        browser.find_element_by_xpath(\"//ul[@class='ant-select-dropdown-menu  ant-select-dropdown-menu-root ant-select-dropdown-menu-vertical']/li[text()='账单']\").click()\n",
    "        time.sleep(5)\n",
    "        # 设置日期\n",
    "        find_elements_by_css_selector('ant-calendar-picker-input ant-input', 0).click()\n",
    "        time.sleep(5)\n",
    "        # 选择结束日期\n",
    "        find_elements_by_css_selector('ant-calendar-cell ant-calendar-last-day-of-month', -1).click()    \n",
    "        time.sleep(5)\n",
    "        # 翻上一页\n",
    "        find_elements_by_css_selector('ant-calendar-prev-month-btn', 0).click()\n",
    "        time.sleep(5)\n",
    "        find_elements_by_css_selector('ant-calendar-prev-month-btn', 0).click()\n",
    "        time.sleep(5)\n",
    "        # 选择起始日期\n",
    "        find_elements_by_css_selector('ant-calendar-cell ant-calendar-last-month-cell', 0).click()\n",
    "        time.sleep(5)\n",
    "        # 点击查询\n",
    "        search_bill = find_elements_by_css_selector(\"ant-btn ant-btn-primary\", 0)\n",
    "        search_bill.click()\n",
    "        time.sleep(5)\n",
    "        \n",
    "        # 去到页面底部\n",
    "        body = browser.find_element_by_css_selector('body')\n",
    "        body.send_keys(Keys.END)\n",
    "        time.sleep(5)\n",
    "        body.send_keys(Keys.CONTROL + Keys.HOME)\n",
    "        time.sleep(5)\n",
    "        \n",
    "        # 本页有多少结果\n",
    "        item_in_page = len(browser.find_elements_by_css_selector('.ant-table-row.ant-table-row-level-0'))\n",
    "        \n",
    "        # 观察是否需要翻页\n",
    "        if fanye > 0:\n",
    "            for w in range(fanye):\n",
    "                find_elements_by_css_selector('ant-pagination-next', 0).click()\n",
    "                time.sleep(5)\n",
    "                \n",
    "        # 点击账单金额\n",
    "        browser.find_element_by_xpath(\"//tbody[@class='ant-table-tbody']/tr[@data-row-key='\" + str(i - 1) + \"']/td[6]\").click()\n",
    "        time.sleep(5)\n",
    "        # 点击下载\n",
    "        find_elements_by_css_selector('ant-btn ant-btn-primary', 1).click()\n",
    "        time.sleep(5)\n",
    "                \n",
    "        # 再点击下一个账单\n",
    "        i = i + 1\n",
    "\n",
    "        # 如果 i > 10，则点击下一页\n",
    "        if i > 10:\n",
    "            find_elements_by_css_selector('ant-pagination-next', 0).click()\n",
    "            time.sleep(5)\n",
    "            item_in_page = len(browser.find_elements_by_css_selector('.ant-table-row.ant-table-row-level-0'))\n",
    "            i = 1\n",
    "            fanye = fanye + 1\n",
    "except Exception as err:\n",
    "    print('Exception occurred: ' + str(err))"
   ]
  },
  {
   "cell_type": "code",
   "execution_count": 384,
   "metadata": {
    "collapsed": true
   },
   "outputs": [],
   "source": [
    "# for i in range(row_count):\n",
    "#     # 点击我的历史账单\n",
    "#     browser.get('http://portal.yw56.com.cn/bill/index?type=1')\n",
    "#     # 选择‘账单’\n",
    "#     # https://stackoverflow.com/questions/7867537/selenium-python-drop-down-menu-option-value\n",
    "#     browser.find_element_by_xpath(\"//select[@name='transType']/option[text()='账单']\").click()\n",
    "#     # 日期选择器\n",
    "#     today_date = dt.datetime.today()\n",
    "#     ninety_days_ago = today_date - timedelta(days=90)\n",
    "#     ninety_days_ago_str_format = ninety_days_ago.strftime('%Y-%m-%d')\n",
    "#     # ninety_days_ago_str_format\n",
    "#     # 设置日期\n",
    "#     start_date = find_elements_by_css_selector('form-control', 0)\n",
    "#     start_date.clear()\n",
    "#     start_date.send_keys(ninety_days_ago_str_format)\n",
    "#     # 点击查询\n",
    "#     search_bill = find_elements_by_css_selector(\"btn\", 0)\n",
    "#     search_bill.click()\n",
    "#     time.sleep(10)\n",
    "#     # 设置条目数\n",
    "#     num_of_rows = find_elements_by_css_selector('btn-group dropup', 0)\n",
    "#     num_of_rows.click()\n",
    "#     # 点击最大条目数\n",
    "#     # https://stackoverflow.com/questions/34583524/python-selenium-click-on-all-li-in-ul\n",
    "#     # https://stackoverflow.com/questions/18026766/selenium-select-element-with-multiple-attributes\n",
    "#     num_of_max_rows = browser.find_elements_by_xpath(\"//ul[@class = 'dropdown-menu'][@role = 'menu']//li[not(@class)]\")\n",
    "#     # num_of_max_rows[-1].text\n",
    "#     num_of_max_rows[-1].click()\n",
    "#     time.sleep(5)\n",
    "#     # 点击每条账单\n",
    "#     bill_id = i\n",
    "#     try:\n",
    "#         bill_location = browser.find_elements_by_xpath(\"//table[@id='table']/tbody/tr[@data-index='\" + str(bill_id) + \"']/td\")[5]\n",
    "#         print(bill_location)\n",
    "#         bill_html = \"http://portal.yw56.com.cn\" + bill_location.get_attribute('innerHTML').split('\"')[1].replace('amp;','')\n",
    "#         print(bill_html)\n",
    "#         browser.get(bill_html)\n",
    "#         # 点击下载\n",
    "#         bill_download = find_elements_by_css_selector(\"btn\", 1)\n",
    "#         bill_download.click()\n",
    "#         time.sleep(5)\n",
    "#     except Exception as err:\n",
    "#         print('Exception occurred: ' + str(err))"
   ]
  }
 ],
 "metadata": {
  "anaconda-cloud": {},
  "kernelspec": {
   "display_name": "Python [default]",
   "language": "python",
   "name": "python3"
  },
  "language_info": {
   "codemirror_mode": {
    "name": "ipython",
    "version": 3
   },
   "file_extension": ".py",
   "mimetype": "text/x-python",
   "name": "python",
   "nbconvert_exporter": "python",
   "pygments_lexer": "ipython3",
   "version": "3.5.2"
  }
 },
 "nbformat": 4,
 "nbformat_minor": 1
}
