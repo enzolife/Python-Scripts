{
 "cells": [
  {
   "cell_type": "code",
   "execution_count": 11,
   "metadata": {
    "collapsed": true
   },
   "outputs": [],
   "source": [
    "import pandas as pd\n",
    "import os\n",
    "import logging"
   ]
  },
  {
   "cell_type": "code",
   "execution_count": 12,
   "metadata": {
    "collapsed": true
   },
   "outputs": [],
   "source": [
    "logging.basicConfig(level=logging.INFO, format=' %(asctime)s - %(levelname)s - %(message)s')"
   ]
  },
  {
   "cell_type": "code",
   "execution_count": 13,
   "metadata": {
    "collapsed": true
   },
   "outputs": [],
   "source": [
    "baojiadan_folder = 'D:\\\\Program Files (x86)\\\\百度云同步盘\\\\Dropbox\\\\-E·J- 2014.5.1\\\\2015.9.26 燕文\\\\'"
   ]
  },
  {
   "cell_type": "code",
   "execution_count": 14,
   "metadata": {
    "collapsed": true
   },
   "outputs": [],
   "source": [
    "baojiadan_file_list = list()"
   ]
  },
  {
   "cell_type": "code",
   "execution_count": 15,
   "metadata": {
    "collapsed": true
   },
   "outputs": [],
   "source": [
    "for file_name in os.listdir(baojiadan_folder):\n",
    "    if file_name.startswith('广州燕文WISH报价单'):\n",
    "        baojiadan_file_list.append(file_name)"
   ]
  },
  {
   "cell_type": "code",
   "execution_count": 16,
   "metadata": {
    "collapsed": true
   },
   "outputs": [],
   "source": [
    "latest_baojiadan_file_name = baojiadan_file_list[-1]\n",
    "# latest_baojiadan_file_name"
   ]
  },
  {
   "cell_type": "code",
   "execution_count": 17,
   "metadata": {
    "collapsed": true
   },
   "outputs": [],
   "source": [
    "latest_baojiadan_path = os.path.join(baojiadan_folder, latest_baojiadan_file_name)\n",
    "# latest_baojiadan_path"
   ]
  },
  {
   "cell_type": "code",
   "execution_count": 18,
   "metadata": {
    "collapsed": true
   },
   "outputs": [],
   "source": [
    "baojiadan_sheets_dict = pd.read_excel(latest_baojiadan_path, sheetname=None)\n",
    "# type(baojiadan)"
   ]
  },
  {
   "cell_type": "code",
   "execution_count": 19,
   "metadata": {
    "collapsed": true
   },
   "outputs": [],
   "source": [
    "wanted_shipping_service_list = ['WISH燕文航空经济小包-普货',\n",
    "                                'WISH燕文航空经济小包-特货',\n",
    "                                'WISH燕文航空挂号小包-普货',\n",
    "                                'WISH燕文航空挂号小包-特货',\n",
    "                                'WISH燕文专线平邮小包-普货',\n",
    "                                'WISH燕文专线平邮小包-特货',\n",
    "                                'WISH燕文专线追踪小包-普货',\n",
    "                                'WISH燕文专线追踪小包-特货',\n",
    "                                'WISH燕邮宝平邮-特货',\n",
    "                                'WISH燕邮宝挂号-特货',\n",
    "                                'WISH燕文C优先小包',\n",
    "                                'WISH燕文C平邮小包',\n",
    "                                'WISH燕文C挂号小包',\n",
    "                                'WISH燕文航空易派小包-普货',\n",
    "                                'WISH燕文航空易派小包-特货',\n",
    "                                'WISH燕特快-普货',\n",
    "                                'WISH燕特快-特货'\n",
    "]"
   ]
  },
  {
   "cell_type": "code",
   "execution_count": 20,
   "metadata": {
    "scrolled": true
   },
   "outputs": [
    {
     "name": "stderr",
     "output_type": "stream",
     "text": [
      " 2019-09-05 21:32:11,508 - INFO - WISH燕文航空经济小包-普货 is ready to export.\n",
      " 2019-09-05 21:32:11,530 - INFO - WISH燕文航空经济小包-普货 exported.\n",
      " 2019-09-05 21:32:11,531 - INFO - WISH燕文航空经济小包-特货 is ready to export.\n",
      " 2019-09-05 21:32:11,559 - INFO - WISH燕文航空经济小包-特货 exported.\n",
      " 2019-09-05 21:32:11,559 - INFO - WISH燕文航空挂号小包-普货 is ready to export.\n",
      " 2019-09-05 21:32:11,601 - INFO - WISH燕文航空挂号小包-普货 exported.\n",
      " 2019-09-05 21:32:11,603 - INFO - WISH燕文航空挂号小包-特货 is ready to export.\n",
      " 2019-09-05 21:32:11,620 - INFO - WISH燕文航空挂号小包-特货 exported.\n",
      " 2019-09-05 21:32:11,621 - INFO - WISH燕文专线平邮小包-普货 is ready to export.\n",
      " 2019-09-05 21:32:11,627 - INFO - WISH燕文专线平邮小包-普货 exported.\n",
      " 2019-09-05 21:32:11,628 - INFO - WISH燕文专线平邮小包-特货 is ready to export.\n",
      " 2019-09-05 21:32:11,633 - INFO - WISH燕文专线平邮小包-特货 exported.\n",
      " 2019-09-05 21:32:11,634 - INFO - WISH燕文专线追踪小包-普货 is ready to export.\n",
      " 2019-09-05 21:32:11,643 - INFO - WISH燕文专线追踪小包-普货 exported.\n",
      " 2019-09-05 21:32:11,643 - INFO - WISH燕文专线追踪小包-特货 is ready to export.\n",
      " 2019-09-05 21:32:11,650 - INFO - WISH燕文专线追踪小包-特货 exported.\n",
      " 2019-09-05 21:32:11,651 - INFO - WISH燕邮宝平邮-特货 is ready to export.\n",
      " 2019-09-05 21:32:11,656 - INFO - WISH燕邮宝平邮-特货 exported.\n",
      " 2019-09-05 21:32:11,657 - INFO - WISH燕邮宝挂号-特货 is ready to export.\n",
      " 2019-09-05 21:32:11,662 - INFO - WISH燕邮宝挂号-特货 exported.\n",
      " 2019-09-05 21:32:11,663 - INFO - WISH燕文C优先小包 is ready to export.\n",
      " 2019-09-05 21:32:11,673 - INFO - WISH燕文C优先小包 exported.\n",
      " 2019-09-05 21:32:11,673 - INFO - WISH燕文C平邮小包 is ready to export.\n",
      " 2019-09-05 21:32:11,692 - INFO - WISH燕文C平邮小包 exported.\n",
      " 2019-09-05 21:32:11,693 - INFO - WISH燕文C挂号小包 is ready to export.\n",
      " 2019-09-05 21:32:11,726 - INFO - WISH燕文C挂号小包 exported.\n",
      " 2019-09-05 21:32:11,728 - INFO - WISH燕文航空易派小包-普货 is ready to export.\n",
      " 2019-09-05 21:32:11,741 - INFO - WISH燕文航空易派小包-普货 exported.\n",
      " 2019-09-05 21:32:11,741 - INFO - WISH燕文航空易派小包-特货 is ready to export.\n",
      " 2019-09-05 21:32:11,750 - INFO - WISH燕文航空易派小包-特货 exported.\n",
      " 2019-09-05 21:32:11,751 - INFO - WISH燕特快-普货 is ready to export.\n",
      " 2019-09-05 21:32:11,761 - INFO - WISH燕特快-普货 exported.\n",
      " 2019-09-05 21:32:11,762 - INFO - WISH燕特快-特货 is ready to export.\n",
      " 2019-09-05 21:32:11,769 - INFO - WISH燕特快-特货 exported.\n"
     ]
    }
   ],
   "source": [
    "export_path = os.path.join(baojiadan_folder, '报价单','燕文（wish）报价表格.xlsx')\n",
    "writer = pd.ExcelWriter(export_path)\n",
    "\n",
    "for service_name in wanted_shipping_service_list:\n",
    "    if service_name in baojiadan_sheets_dict.keys():\n",
    "        logging.info(service_name + ' is ready to export.')\n",
    "        df = baojiadan_sheets_dict[service_name]\n",
    "        try:\n",
    "            for c in df.columns:\n",
    "                for index, r in enumerate(df[c]):\n",
    "                    if r == '国家':\n",
    "                        country_cell_location = [index, c]\n",
    "                        # print(country_cell_location)\n",
    "                        break\n",
    "            df = df[country_cell_location[0]:]\n",
    "            df = df.dropna(how='all')\n",
    "            df = df[df[country_cell_location[1]].str.len() < 10]\n",
    "            \n",
    "            df.to_excel(writer, sheet_name=service_name, index=False)\n",
    "            logging.info(service_name + ' exported.')\n",
    "            # df.to_csv(os.path.join(baojiadan_folder, '报价单', key + '.csv'))\n",
    "        except:\n",
    "            logging.info(service_name + ' failed to export.')\n",
    "            pass\n",
    "        # df.to_csv(os.path.join(baojiadan_folder, '报价单', key + '.xlsx'))\n",
    "        \n",
    "writer.save()"
   ]
  }
 ],
 "metadata": {
  "anaconda-cloud": {},
  "kernelspec": {
   "display_name": "Python [default]",
   "language": "python",
   "name": "python3"
  },
  "language_info": {
   "codemirror_mode": {
    "name": "ipython",
    "version": 3
   },
   "file_extension": ".py",
   "mimetype": "text/x-python",
   "name": "python",
   "nbconvert_exporter": "python",
   "pygments_lexer": "ipython3",
   "version": "3.5.2"
  }
 },
 "nbformat": 4,
 "nbformat_minor": 1
}
