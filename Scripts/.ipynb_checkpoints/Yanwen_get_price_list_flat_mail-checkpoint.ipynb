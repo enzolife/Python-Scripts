{
 "cells": [
  {
   "cell_type": "code",
   "execution_count": 1,
   "metadata": {
    "collapsed": true
   },
   "outputs": [],
   "source": [
    "import pandas as pd\n",
    "import os\n",
    "import logging"
   ]
  },
  {
   "cell_type": "code",
   "execution_count": 2,
   "metadata": {
    "collapsed": true
   },
   "outputs": [],
   "source": [
    "logging.basicConfig(level=logging.INFO, format=' %(asctime)s - %(levelname)s - %(message)s')"
   ]
  },
  {
   "cell_type": "code",
   "execution_count": 3,
   "metadata": {
    "collapsed": true
   },
   "outputs": [],
   "source": [
    "baojiadan_folder = 'D:\\\\Program Files (x86)\\\\百度云同步盘\\\\Dropbox\\\\-E·J- 2014.5.1\\\\2015.9.26 燕文\\\\'"
   ]
  },
  {
   "cell_type": "code",
   "execution_count": 4,
   "metadata": {
    "collapsed": true
   },
   "outputs": [],
   "source": [
    "baojiadan_file_list = list()"
   ]
  },
  {
   "cell_type": "code",
   "execution_count": 5,
   "metadata": {
    "collapsed": true
   },
   "outputs": [],
   "source": [
    "for file_name in os.listdir(baojiadan_folder):\n",
    "    if file_name.startswith('广州燕文线下报价单'):\n",
    "        baojiadan_file_list.append(file_name)"
   ]
  },
  {
   "cell_type": "code",
   "execution_count": 6,
   "metadata": {
    "collapsed": true
   },
   "outputs": [],
   "source": [
    "latest_baojiadan_file_name = baojiadan_file_list[-1]\n",
    "# latest_baojiadan_file_name"
   ]
  },
  {
   "cell_type": "code",
   "execution_count": 7,
   "metadata": {
    "collapsed": true
   },
   "outputs": [],
   "source": [
    "latest_baojiadan_path = os.path.join(baojiadan_folder, latest_baojiadan_file_name)\n",
    "# latest_baojiadan_path"
   ]
  },
  {
   "cell_type": "code",
   "execution_count": 8,
   "metadata": {
    "collapsed": true
   },
   "outputs": [],
   "source": [
    "baojiadan_sheets_dict = pd.read_excel(latest_baojiadan_path, sheetname=None)\n",
    "# type(baojiadan)"
   ]
  },
  {
   "cell_type": "code",
   "execution_count": 9,
   "metadata": {
    "collapsed": true
   },
   "outputs": [],
   "source": [
    "wanted_shipping_service_list = ['燕文专线追踪小包-普货',\n",
    "                                '燕文专线追踪小包-特货',\n",
    "                                '燕文航空挂号小包(普货)',\n",
    "                                '燕文航空挂号小包-特货',\n",
    "                                '燕文C挂号小包',\n",
    "                                '燕文C优先小包',\n",
    "                                '燕文简易挂号小包-普货',\n",
    "                                '燕文简易挂号小包-特货',\n",
    "                                '燕邮宝挂号',\n",
    "                                '燕文航空易派小包-普货',\n",
    "                                '燕文航空易派小包-特货',\n",
    "                                '中英Hermes专线-普货',\n",
    "                                '燕文英国快线',\n",
    "                                '燕文英国快线-特货',\n",
    "                                '英国YODEL专线(不含电小包)',\n",
    "                                '燕文法国快线',\n",
    "                                '燕文德国快线-普货',\n",
    "                                '燕文EWE澳洲快线',\n",
    "                                '中邮深圳挂号小包',\n",
    "                                '中邮深圳线下E邮宝-普货',\n",
    "                                '中邮深圳线下E邮宝-特货',\n",
    "                                '中邮广州挂号小包',\n",
    "                                '中邮广州E邮宝(线下)',\n",
    "                                '湖南E邮宝',\n",
    "                                '中邮郑州线下E邮宝',\n",
    "                                '中邮新疆挂号小包',\n",
    "                                '中邮新疆E邮宝(线下)',\n",
    "                                '中邮北京中俄陆运E邮宝',\n",
    "                                '燕文DE香港挂号小包',\n",
    "                                '燕文DE香港挂号小包-特货',\n",
    "                                '燕文NL挂号小包-普货',\n",
    "                                '燕文NL挂号小包-特货',\n",
    "                                '燕文NL挂号小包(配电)',\n",
    "                                '燕文NL-epacket小包-特货',\n",
    "                                '燕文TR挂号小包',\n",
    "                                '燕文SG挂号小包',\n",
    "                                '燕文MY挂号小包',\n",
    "                                '燕文K邮宝-特货',\n",
    "                                '燕文CH-epacket小包'\n",
    "]"
   ]
  },
  {
   "cell_type": "code",
   "execution_count": 10,
   "metadata": {
    "scrolled": true
   },
   "outputs": [
    {
     "name": "stderr",
     "output_type": "stream",
     "text": [
      " 2020-04-07 23:40:25,967 - INFO - 燕文专线追踪小包-普货 is ready to export.\n",
      " 2020-04-07 23:40:25,979 - INFO - max tier for 燕文专线追踪小包-普货 is 1\n",
      " 2020-04-07 23:40:25,996 - INFO - 燕文专线追踪小包-普货 exported.\n",
      " 2020-04-07 23:40:25,997 - INFO - 燕文专线追踪小包-特货 is ready to export.\n",
      " 2020-04-07 23:40:26,008 - INFO - max tier for 燕文专线追踪小包-特货 is 1\n",
      " 2020-04-07 23:40:26,025 - INFO - 燕文专线追踪小包-特货 exported.\n",
      " 2020-04-07 23:40:26,026 - INFO - 燕文航空挂号小包(普货) is ready to export.\n",
      " 2020-04-07 23:40:26,091 - INFO - max tier for 燕文航空挂号小包(普货) is 3\n",
      " 2020-04-07 23:40:26,159 - INFO - 燕文航空挂号小包(普货) exported.\n",
      " 2020-04-07 23:40:26,161 - INFO - 燕文航空挂号小包-特货 is ready to export.\n"
     ]
    },
    {
     "name": "stdout",
     "output_type": "stream",
     "text": [
      "Could not operate 0.35 with block values can't multiply sequence by non-int of type 'float'\n",
      "Could not operate 0.35 with block values can't multiply sequence by non-int of type 'float'\n"
     ]
    },
    {
     "name": "stderr",
     "output_type": "stream",
     "text": [
      " 2020-04-07 23:40:26,209 - INFO - max tier for 燕文航空挂号小包-特货 is 3\n",
      " 2020-04-07 23:40:26,272 - INFO - 燕文航空挂号小包-特货 exported.\n",
      " 2020-04-07 23:40:26,273 - INFO - 燕文C挂号小包 is ready to export.\n",
      " 2020-04-07 23:40:26,323 - INFO - max tier for 燕文C挂号小包 is 3\n",
      " 2020-04-07 23:40:26,396 - INFO - 燕文C挂号小包 exported.\n",
      " 2020-04-07 23:40:26,397 - INFO - 燕文C优先小包 is ready to export.\n",
      " 2020-04-07 23:40:26,416 - INFO - max tier for 燕文C优先小包 is 3\n",
      " 2020-04-07 23:40:26,434 - INFO - 燕文C优先小包 exported.\n",
      " 2020-04-07 23:40:26,434 - INFO - 燕文简易挂号小包-普货 is ready to export.\n",
      " 2020-04-07 23:40:26,446 - INFO - max tier for 燕文简易挂号小包-普货 is 1\n",
      " 2020-04-07 23:40:26,452 - INFO - 燕文简易挂号小包-普货 exported.\n",
      " 2020-04-07 23:40:26,453 - INFO - 燕文简易挂号小包-特货 is ready to export.\n",
      " 2020-04-07 23:40:26,507 - INFO - max tier for 燕文简易挂号小包-特货 is 1\n",
      " 2020-04-07 23:40:26,511 - INFO - 燕文简易挂号小包-特货 exported.\n",
      " 2020-04-07 23:40:26,512 - INFO - 燕文航空易派小包-普货 is ready to export.\n",
      " 2020-04-07 23:40:26,523 - INFO - max tier for 燕文航空易派小包-普货 is 1\n",
      " 2020-04-07 23:40:26,537 - INFO - 燕文航空易派小包-普货 exported.\n",
      " 2020-04-07 23:40:26,538 - INFO - 燕文航空易派小包-特货 is ready to export.\n",
      " 2020-04-07 23:40:26,579 - INFO - max tier for 燕文航空易派小包-特货 is 1\n",
      " 2020-04-07 23:40:26,594 - INFO - 燕文航空易派小包-特货 exported.\n",
      " 2020-04-07 23:40:26,595 - INFO - 燕文英国快线 is ready to export.\n",
      " 2020-04-07 23:40:26,640 - INFO - max tier for 燕文英国快线 is 1\n",
      " 2020-04-07 23:40:26,644 - INFO - 燕文英国快线 exported.\n",
      " 2020-04-07 23:40:26,645 - INFO - 燕文英国快线-特货 is ready to export.\n"
     ]
    },
    {
     "name": "stdout",
     "output_type": "stream",
     "text": [
      "Could not operate 0.35 with block values can't multiply sequence by non-int of type 'float'\n",
      "could not convert string to float: '燕文简易挂号小包-特货'\n",
      "Could not operate 0.35 with block values can't multiply sequence by non-int of type 'float'\n",
      "could not convert string to float: '燕文航空易派小包-特货'\n",
      "could not convert string to float: '燕文英国快线'\n"
     ]
    },
    {
     "name": "stderr",
     "output_type": "stream",
     "text": [
      " 2020-04-07 23:40:26,694 - INFO - max tier for 燕文英国快线-特货 is 1\n",
      " 2020-04-07 23:40:26,697 - INFO - 燕文英国快线-特货 exported.\n",
      " 2020-04-07 23:40:26,698 - INFO - 英国YODEL专线(不含电小包) is ready to export.\n",
      " 2020-04-07 23:40:26,750 - INFO - max tier for 英国YODEL专线(不含电小包) is 1\n",
      " 2020-04-07 23:40:26,754 - INFO - 英国YODEL专线(不含电小包) exported.\n",
      " 2020-04-07 23:40:26,755 - INFO - 燕文法国快线 is ready to export.\n",
      " 2020-04-07 23:40:26,803 - INFO - max tier for 燕文法国快线 is 1\n",
      " 2020-04-07 23:40:26,807 - INFO - 燕文法国快线 exported.\n",
      " 2020-04-07 23:40:26,808 - INFO - 燕文德国快线-普货 is ready to export.\n",
      " 2020-04-07 23:40:26,862 - INFO - max tier for 燕文德国快线-普货 is 1\n",
      " 2020-04-07 23:40:26,868 - INFO - 燕文德国快线-普货 exported.\n",
      " 2020-04-07 23:40:26,869 - INFO - 燕文EWE澳洲快线 is ready to export.\n",
      " 2020-04-07 23:40:26,884 - INFO - max tier for 燕文EWE澳洲快线 is 1\n",
      " 2020-04-07 23:40:26,888 - INFO - 燕文EWE澳洲快线 exported.\n",
      " 2020-04-07 23:40:26,889 - INFO - 中邮深圳挂号小包 is ready to export.\n"
     ]
    },
    {
     "name": "stdout",
     "output_type": "stream",
     "text": [
      "could not convert string to float: '燕文英国快线-特货'\n",
      "could not convert string to float: '英国YODEL专线(不含电小包)'\n",
      "could not convert string to float: '燕文法国快线'\n",
      "could not convert string to float: '燕文德国快线-普货'\n",
      "Could not operate 0.35 with block values can't multiply sequence by non-int of type 'float'\n"
     ]
    },
    {
     "name": "stderr",
     "output_type": "stream",
     "text": [
      " 2020-04-07 23:40:26,944 - INFO - max tier for 中邮深圳挂号小包 is 3\n",
      " 2020-04-07 23:40:27,012 - INFO - 中邮深圳挂号小包 exported.\n",
      " 2020-04-07 23:40:27,013 - INFO - 中邮深圳线下E邮宝-普货 is ready to export.\n",
      " 2020-04-07 23:40:27,027 - INFO - max tier for 中邮深圳线下E邮宝-普货 is 3\n",
      " 2020-04-07 23:40:27,042 - INFO - 中邮深圳线下E邮宝-普货 exported.\n",
      " 2020-04-07 23:40:27,043 - INFO - 中邮深圳线下E邮宝-特货 is ready to export.\n",
      " 2020-04-07 23:40:27,059 - INFO - max tier for 中邮深圳线下E邮宝-特货 is 3\n",
      " 2020-04-07 23:40:27,066 - INFO - 中邮深圳线下E邮宝-特货 exported.\n",
      " 2020-04-07 23:40:27,067 - INFO - 中邮广州挂号小包 is ready to export.\n",
      " 2020-04-07 23:40:27,127 - INFO - max tier for 中邮广州挂号小包 is 3\n",
      " 2020-04-07 23:40:27,196 - INFO - 中邮广州挂号小包 exported.\n",
      " 2020-04-07 23:40:27,197 - INFO - 中邮广州E邮宝(线下) is ready to export.\n",
      " 2020-04-07 23:40:27,213 - INFO - max tier for 中邮广州E邮宝(线下) is 3\n",
      " 2020-04-07 23:40:27,236 - INFO - 中邮广州E邮宝(线下) exported.\n",
      " 2020-04-07 23:40:27,237 - INFO - 湖南E邮宝 is ready to export.\n",
      " 2020-04-07 23:40:27,255 - INFO - max tier for 湖南E邮宝 is 3\n",
      " 2020-04-07 23:40:27,276 - INFO - 湖南E邮宝 exported.\n",
      " 2020-04-07 23:40:27,277 - INFO - 中邮郑州线下E邮宝 is ready to export.\n",
      " 2020-04-07 23:40:27,293 - INFO - max tier for 中邮郑州线下E邮宝 is 3\n",
      " 2020-04-07 23:40:27,310 - INFO - 中邮郑州线下E邮宝 exported.\n",
      " 2020-04-07 23:40:27,310 - INFO - 中邮新疆挂号小包 is ready to export.\n",
      " 2020-04-07 23:40:27,356 - INFO - max tier for 中邮新疆挂号小包 is 3\n",
      " 2020-04-07 23:40:27,362 - INFO - 中邮新疆挂号小包 exported.\n",
      " 2020-04-07 23:40:27,363 - INFO - 中邮新疆E邮宝(线下) is ready to export.\n",
      " 2020-04-07 23:40:27,384 - INFO - max tier for 中邮新疆E邮宝(线下) is 3\n",
      " 2020-04-07 23:40:27,389 - INFO - 中邮新疆E邮宝(线下) exported.\n",
      " 2020-04-07 23:40:27,390 - INFO - 中邮北京中俄陆运E邮宝 is ready to export.\n",
      " 2020-04-07 23:40:27,407 - INFO - max tier for 中邮北京中俄陆运E邮宝 is 3\n",
      " 2020-04-07 23:40:27,412 - INFO - 中邮北京中俄陆运E邮宝 exported.\n",
      " 2020-04-07 23:40:27,413 - INFO - 燕文DE香港挂号小包 is ready to export.\n",
      " 2020-04-07 23:40:27,457 - INFO - max tier for 燕文DE香港挂号小包 is 1\n",
      " 2020-04-07 23:40:27,473 - INFO - 燕文DE香港挂号小包 exported.\n",
      " 2020-04-07 23:40:27,474 - INFO - 燕文DE香港挂号小包-特货 is ready to export.\n",
      " 2020-04-07 23:40:27,521 - INFO - max tier for 燕文DE香港挂号小包-特货 is 1\n",
      " 2020-04-07 23:40:27,529 - INFO - 燕文DE香港挂号小包-特货 exported.\n",
      " 2020-04-07 23:40:27,530 - INFO - 燕文NL挂号小包-普货 is ready to export.\n",
      " 2020-04-07 23:40:27,580 - INFO - max tier for 燕文NL挂号小包-普货 is 1\n",
      " 2020-04-07 23:40:27,592 - INFO - 燕文NL挂号小包-普货 exported.\n",
      " 2020-04-07 23:40:27,592 - INFO - 燕文NL挂号小包-特货 is ready to export.\n",
      " 2020-04-07 23:40:27,636 - INFO - max tier for 燕文NL挂号小包-特货 is 1\n",
      " 2020-04-07 23:40:27,653 - INFO - 燕文NL挂号小包-特货 exported.\n",
      " 2020-04-07 23:40:27,654 - INFO - 燕文NL挂号小包(配电) is ready to export.\n"
     ]
    },
    {
     "name": "stdout",
     "output_type": "stream",
     "text": [
      "could not convert string to float: '燕文DE香港挂号小包'\n",
      "could not convert string to float: '燕文DE香港挂号小包-特货'\n",
      "could not convert string to float: '燕文NL挂号小包-普货'\n",
      "could not convert string to float: '燕文NL挂号小包-特货'\n"
     ]
    },
    {
     "name": "stderr",
     "output_type": "stream",
     "text": [
      " 2020-04-07 23:40:27,709 - INFO - max tier for 燕文NL挂号小包(配电) is 1\n",
      " 2020-04-07 23:40:27,716 - INFO - 燕文NL挂号小包(配电) exported.\n",
      " 2020-04-07 23:40:27,717 - INFO - 燕文NL-epacket小包-特货 is ready to export.\n",
      " 2020-04-07 23:40:27,768 - INFO - max tier for 燕文NL-epacket小包-特货 is 1\n",
      " 2020-04-07 23:40:27,774 - INFO - 燕文NL-epacket小包-特货 exported.\n",
      " 2020-04-07 23:40:27,775 - INFO - 燕文TR挂号小包 is ready to export.\n",
      " 2020-04-07 23:40:27,817 - INFO - max tier for 燕文TR挂号小包 is 1\n",
      " 2020-04-07 23:40:27,824 - INFO - 燕文TR挂号小包 exported.\n",
      " 2020-04-07 23:40:27,825 - INFO - 燕文SG挂号小包 is ready to export.\n",
      " 2020-04-07 23:40:27,871 - INFO - max tier for 燕文SG挂号小包 is 1\n"
     ]
    },
    {
     "name": "stdout",
     "output_type": "stream",
     "text": [
      "could not convert string to float: '燕文NL挂号小包(配电)'\n",
      "could not convert string to float: '燕文NL-epacket小包-特货'\n",
      "could not convert string to float: '燕文TR挂号小包'\n",
      "could not convert string to float: '燕文SG挂号小包'\n"
     ]
    },
    {
     "name": "stderr",
     "output_type": "stream",
     "text": [
      " 2020-04-07 23:40:27,914 - INFO - 燕文SG挂号小包 exported.\n",
      " 2020-04-07 23:40:27,915 - INFO - 燕文MY挂号小包 is ready to export.\n",
      " 2020-04-07 23:40:27,965 - INFO - max tier for 燕文MY挂号小包 is 2\n",
      " 2020-04-07 23:40:28,022 - INFO - 燕文MY挂号小包 exported.\n",
      " 2020-04-07 23:40:28,023 - INFO - 燕文K邮宝-特货 is ready to export.\n",
      " 2020-04-07 23:40:28,066 - INFO - max tier for 燕文K邮宝-特货 is 1\n",
      " 2020-04-07 23:40:28,070 - INFO - 燕文K邮宝-特货 exported.\n",
      " 2020-04-07 23:40:28,071 - INFO - 燕文CH-epacket小包 is ready to export.\n",
      " 2020-04-07 23:40:28,130 - INFO - max tier for 燕文CH-epacket小包 is 1\n",
      " 2020-04-07 23:40:28,135 - INFO - 燕文CH-epacket小包 exported.\n"
     ]
    },
    {
     "name": "stdout",
     "output_type": "stream",
     "text": [
      "could not convert string to float: '燕文MY挂号小包'\n",
      "could not convert string to float: '燕文K邮宝-特货'\n",
      "could not convert string to float: '燕文CH-epacket小包'\n"
     ]
    }
   ],
   "source": [
    "export_path = os.path.join(baojiadan_folder, '报价单','燕文报价表格.xlsx')\n",
    "writer = pd.ExcelWriter(export_path)\n",
    "\n",
    "pd_to_merge = []\n",
    "\n",
    "for service_name in wanted_shipping_service_list:\n",
    "    if service_name in baojiadan_sheets_dict.keys():\n",
    "        logging.info(service_name + ' is ready to export.')\n",
    "        df = baojiadan_sheets_dict[service_name]\n",
    "        try:\n",
    "            for c in df.columns:\n",
    "                for index, r in enumerate(df[c]):\n",
    "                    if r == '国家':\n",
    "                        country_cell_location = [index, c]\n",
    "#                         print(country_cell_location)\n",
    "                    if r == '价格使用说明:':\n",
    "                        end_location = [index, c]\n",
    "#                         print(country_cell_location)\n",
    "                        break\n",
    "            df = df[country_cell_location[0]+1:end_location[0]]\n",
    "            df = df.dropna(how='all')\n",
    "            df = df[df[country_cell_location[1]].str.len() < 10]\n",
    "            df['service_name'] = service_name\n",
    "#             print(df.head(5))\n",
    "            \n",
    "#             tiers = [1, 2, 3]\n",
    "#             for tier in tiers:\n",
    "#                 this_c_name = 'tier_' + str(tier)\n",
    "#                 next_c = tier + 1\n",
    "#                 try:\n",
    "#                     df[this_c_name + '_base'] = df[[tier]]\n",
    "#                     df[this_c_name + '_surcharge'] = df[[next_c]]\n",
    "#                     df[this_c_name + '_total'] = df[[tier]].astype(float) * 0.35 + df[this_c_name + '_surcharge'].astype(float)\n",
    "#                 except Exception as err:\n",
    "#                     print(str(err))\n",
    "            \n",
    "            kg = 0.35\n",
    "            tiers = [1, 2, 3]\n",
    "            for tier in tiers:\n",
    "                this_c_name = 'tier_' + str(tier)\n",
    "                column_num = 2 * tier - 1\n",
    "                try:\n",
    "                    df[this_c_name + '_kg_fee'] = df[[column_num]] * kg\n",
    "                    df[this_c_name + '_kg_fee'] = df[this_c_name + '_kg_fee'].astype(float)\n",
    "                    df[this_c_name + '_surcharge'] = df[[column_num + 1]].astype(float)\n",
    "                    df[this_c_name + '_total'] = df[this_c_name + '_kg_fee'] + df[this_c_name + '_surcharge']\n",
    "                    max_tier = tier\n",
    "                except Exception as err:\n",
    "                    print(str(err))\n",
    "                    max_tier = tier - 1\n",
    "                    break\n",
    "            logging.info('max tier for ' + service_name + ' is ' + str(max_tier))\n",
    "\n",
    "            # 某几个特殊渠道，要修改max_tier\n",
    "            if service_name in ('燕文C优先小包',\n",
    "                                '中邮深圳线下E邮宝-普货',\n",
    "                                '中邮深圳线下E邮宝-特货',\n",
    "                                '中邮广州E邮宝(线下)',\n",
    "                                '湖南E邮宝',\n",
    "                                '中邮郑州线下E邮宝',\n",
    "                                '中邮新疆E邮宝(线下)',\n",
    "                                '中邮北京中俄陆运E邮宝'):\n",
    "                max_tier = 1\n",
    "            \n",
    "            for_merge_tier_kg_fee = 'tier_' + str(max_tier) + '_kg_fee'\n",
    "            for_merge_tier_surcharge = 'tier_' + str(max_tier) + '_surcharge'\n",
    "            for_merge_tier_total = 'tier_' + str(max_tier) + '_total'\n",
    "            \n",
    "            df_for_merge = df[['service_name', service_name, for_merge_tier_kg_fee, for_merge_tier_surcharge, for_merge_tier_total]]\n",
    "            df_for_merge = df_for_merge.rename(columns={df_for_merge.columns[1]: \"country\",\n",
    "                                                        df_for_merge.columns[2]: \"kg_fee\",\n",
    "                                                        df_for_merge.columns[3]: \"surcharge\", \n",
    "                                                        df_for_merge.columns[4]: \"total\"})\n",
    "            \n",
    "            # 中邮渠道需要乘以折扣\n",
    "            service_discount = 0.93\n",
    "            if service_name in ('中邮深圳挂号小包'):\n",
    "                df_for_merge['total'] = df_for_merge['total'] * service_discount\n",
    "            \n",
    "            pd_to_merge.append(df_for_merge)\n",
    "    \n",
    "            df.to_excel(writer, sheet_name=service_name, index=False)\n",
    "            logging.info(service_name + ' exported.')\n",
    "            # df.to_csv(os.path.join(baojiadan_folder, '报价单', key + '.csv'))\n",
    "        except Exception as err:\n",
    "            logging.info(service_name + ' failed to export. ' + str(err))\n",
    "            pass\n",
    "        # df.to_csv(os.path.join(baojiadan_folder, '报价单', key + '.xlsx'))\n",
    "        \n",
    "writer.save()\n",
    "\n",
    "# 合并计算结果\n",
    "final_merger = pd.concat(pd_to_merge).reset_index()\n",
    "\n",
    "# 检查一个渠道对同一个国家有多少种计算结果\n",
    "final_merger.groupby(['service_name', 'country']).agg({'total': 'count'}).reset_index().to_csv(os.path.join(baojiadan_folder, '报价单', '燕文线下发货渠道国家表.csv'))\n",
    "\n",
    "# 分组排名\n",
    "final_merger['rn'] = final_merger.sort_values(['total'], ascending=[True]).groupby(['country']).cumcount() + 1\n",
    "final_merger = final_merger.sort_values(['country', 'rn'], ascending=[True, True])\n",
    "final_merger = final_merger[final_merger['rn'] <= 3]\n",
    "final_merger.to_csv(os.path.join(baojiadan_folder, '报价单', '燕文线下发货合并表.csv'))\n",
    "\n",
    "final_merger = final_merger[final_merger['rn'] == 1]\n",
    "final_merger.sort_values(['service_name', 'total'], ascending=[True, True]).to_csv(os.path.join(baojiadan_folder, '报价单', '燕文线下发货合并表（最优解）.csv'))"
   ]
  }
 ],
 "metadata": {
  "anaconda-cloud": {},
  "kernelspec": {
   "display_name": "Python [default]",
   "language": "python",
   "name": "python3"
  },
  "language_info": {
   "codemirror_mode": {
    "name": "ipython",
    "version": 3
   },
   "file_extension": ".py",
   "mimetype": "text/x-python",
   "name": "python",
   "nbconvert_exporter": "python",
   "pygments_lexer": "ipython3",
   "version": "3.5.2"
  }
 },
 "nbformat": 4,
 "nbformat_minor": 1
}
