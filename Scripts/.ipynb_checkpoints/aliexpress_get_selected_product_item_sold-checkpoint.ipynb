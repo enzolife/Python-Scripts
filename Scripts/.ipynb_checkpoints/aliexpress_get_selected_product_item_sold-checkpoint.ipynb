{
 "cells": [
  {
   "cell_type": "code",
   "execution_count": 1,
   "metadata": {},
   "outputs": [],
   "source": [
    "from selenium import webdriver\n",
    "from selenium.webdriver.common.keys import Keys\n",
    "import pandas as pd\n",
    "import time\n",
    "import os\n",
    "import zipfile\n",
    "import shutil\n",
    "from datetime import date\n",
    "import logging"
   ]
  },
  {
   "cell_type": "code",
   "execution_count": 2,
   "metadata": {},
   "outputs": [],
   "source": [
    "# 获取脚本的当前路径，避免计划执行时路径出错\n",
    "home_dir = os.path.dirname(os.path.realpath(__file__))\n",
    "# 更换workding directory\n",
    "working_directory = home_dir\n",
    "os.chdir(working_directory)"
   ]
  },
  {
   "cell_type": "code",
   "execution_count": 3,
   "metadata": {},
   "outputs": [],
   "source": [
    "logging.basicConfig(level=logging.INFO, format='%(asctime)s - %(levelname)s - %(message)s')"
   ]
  },
  {
   "cell_type": "code",
   "execution_count": 4,
   "metadata": {},
   "outputs": [],
   "source": [
    "# 屏幕最大化，且指定下载目录\n",
    "options = webdriver.ChromeOptions()\n",
    "options.add_argument(\"--start-maximized\")\n",
    "# 添加翻墙配置\n",
    "# 参考 https://www.codetd.com/article/4692519\n",
    "# options.add_argument('--proxy-server=socks5://127.0.0.1:1080')\n",
    "\n",
    "prefs = {\"profile.default_content_settings.popups\": 0,\n",
    "         # \"download.default_directory\": r\"D:\\Program Files (x86)\\百度云同步盘\\Dropbox\\-E·J- 2014.5.1\\2016.12.15 店小秘数据分析\\\\\", # IMPORTANT - ENDING SLASH V IMPORTANT\n",
    "         \"directory_upgrade\": True}\n",
    "options.add_experimental_option(\"prefs\", prefs)"
   ]
  },
  {
   "cell_type": "code",
   "execution_count": 5,
   "metadata": {},
   "outputs": [
    {
     "name": "stderr",
     "output_type": "stream",
     "text": [
      "C:\\ProgramData\\Anaconda3\\lib\\site-packages\\ipykernel_launcher.py:3: DeprecationWarning: use options instead of chrome_options\n",
      "  This is separate from the ipykernel package so we can avoid doing imports until\n"
     ]
    }
   ],
   "source": [
    "# 使用chromedriver才可以用开发者权限\n",
    "chrome_driver_path = \".//chrome_driver//chromedriver.exe\"\n",
    "browser = webdriver.Chrome(chrome_driver_path, chrome_options=options)"
   ]
  },
  {
   "cell_type": "code",
   "execution_count": 6,
   "metadata": {},
   "outputs": [],
   "source": [
    "# 重刷页面的脚本\n",
    "def open_page(browser, page_url):\n",
    "    i = 0\n",
    "    while i == 0:\n",
    "        try:\n",
    "            # browser = webdriver.Chrome(chrome_driver_path, chrome_options=options)\n",
    "            browser.get(page_url)\n",
    "            time.sleep(10)\n",
    "            i = 1\n",
    "        except:\n",
    "            pass\n",
    "        \n",
    "# 刷新\n",
    "def refresh_page(browser):\n",
    "    i = 0\n",
    "    while i == 0:\n",
    "        try:\n",
    "            # browser = webdriver.Chrome(chrome_driver_path, chrome_options=options)\n",
    "            browser.refresh()\n",
    "            time.sleep(10)\n",
    "            i = 1\n",
    "        except:\n",
    "            pass"
   ]
  },
  {
   "cell_type": "code",
   "execution_count": 7,
   "metadata": {},
   "outputs": [],
   "source": [
    "aliexpress_home_page = 'https://www.aliexpress.com/'\n",
    "\n",
    "open_page(browser, aliexpress_home_page)\n",
    "\n",
    "# remove ads, refresh again\n",
    "for i in range(5):\n",
    "    # browser.refresh()\n",
    "    # time.sleep(10)\n",
    "    refresh_page(browser)"
   ]
  },
  {
   "cell_type": "code",
   "execution_count": 8,
   "metadata": {},
   "outputs": [],
   "source": [
    "selected_item_id_list = [32597758635,\n",
    "32942144691,\n",
    "32810164959,\n",
    "32632600938,\n",
    "33002563321,\n",
    "32810112786,\n",
    "32888170029,\n",
    "32788890848,\n",
    "32880886831,\n",
    "32874982263,\n",
    "32959239179,\n",
    "32850704130,\n",
    "32959386419,\n",
    "32788890852,\n",
    "32993977479,\n",
    "4000069793865,\n",
    "32343136892,\n",
    "32790959319,\n",
    "32954653412,\n",
    "32617572014,\n",
    "32788932952,\n",
    "32942053060,\n",
    "32957115062,\n",
    "32865455717,\n",
    "32971072372,\n",
    "33006223242,\n",
    "33035020392,\n",
    "32852427227,\n",
    "32887697518,\n",
    "33053088336,\n",
    "4000223489312,\n",
    "32862921368,\n",
    "32992033664,\n",
    "4000223461794,\n",
    "32818464811,\n",
    "33055562905,\n",
    "32799435466,\n",
    "32327844257,\n",
    "32858191355,\n",
    "32881314860,\n",
    "32982582725,\n",
    "32500831234,\n",
    "32827720628,\n",
    "32910850460,\n",
    "32887647476,\n",
    "32342515676,\n",
    "32531261115,\n",
    "32979767907,\n",
    "33003521931,\n",
    "32619544738,\n",
    "32998526782,\n",
    "32489626448,\n",
    "32851896442,\n",
    "32888118667,\n",
    "33037121126,\n",
    "33016171172,\n",
    "32803469620\n",
    "]"
   ]
  },
  {
   "cell_type": "code",
   "execution_count": 9,
   "metadata": {},
   "outputs": [],
   "source": [
    "# item_url = 'https://www.aliexpress.com/item/---/' + str(selected_item_id_list[0]) + '.html'\n",
    "# item_url"
   ]
  },
  {
   "cell_type": "code",
   "execution_count": 10,
   "metadata": {},
   "outputs": [],
   "source": [
    "# browser.get(item_url)"
   ]
  },
  {
   "cell_type": "code",
   "execution_count": 11,
   "metadata": {},
   "outputs": [],
   "source": [
    "# item_sold = browser.find_elements_by_css_selector('.product-reviewer-sold')[0]\n",
    "# item_sold.text"
   ]
  },
  {
   "cell_type": "code",
   "execution_count": 12,
   "metadata": {},
   "outputs": [],
   "source": [
    "result_df = pd.DataFrame()"
   ]
  },
  {
   "cell_type": "code",
   "execution_count": 13,
   "metadata": {},
   "outputs": [],
   "source": [
    "item_id_list, item_sold_list, item_name_list = list(), list(), list()"
   ]
  },
  {
   "cell_type": "code",
   "execution_count": null,
   "metadata": {
    "scrolled": true
   },
   "outputs": [
    {
     "name": "stderr",
     "output_type": "stream",
     "text": [
      "2019-11-25 23:27:40,135 - INFO - 32597758635 has been finished.\n",
      "2019-11-25 23:27:51,899 - INFO - 32942144691 has been finished.\n",
      "2019-11-25 23:28:03,570 - INFO - 32810164959 has been finished.\n",
      "2019-11-25 23:28:15,393 - INFO - 32632600938 has been finished.\n",
      "2019-11-25 23:28:27,522 - INFO - 33002563321 has been finished.\n",
      "2019-11-25 23:28:39,644 - INFO - 32810112786 has been finished.\n",
      "2019-11-25 23:28:51,350 - INFO - 32888170029 has been finished.\n",
      "2019-11-25 23:29:03,213 - INFO - 32788890848 has been finished.\n",
      "2019-11-25 23:29:17,312 - INFO - 32880886831 has been finished.\n",
      "2019-11-25 23:29:28,984 - INFO - 32874982263 has been finished.\n",
      "2019-11-25 23:29:40,699 - INFO - 32959239179 has been finished.\n",
      "2019-11-25 23:29:52,843 - INFO - 32850704130 has been finished.\n",
      "2019-11-25 23:30:04,379 - INFO - 32959386419 has been finished.\n",
      "2019-11-25 23:30:16,012 - INFO - 32788890852 has been finished.\n",
      "2019-11-25 23:30:27,576 - INFO - 32993977479 has been finished.\n",
      "2019-11-25 23:30:39,047 - INFO - 4000069793865 has not been finished.\n",
      "2019-11-25 23:30:50,842 - INFO - 32343136892 has been finished.\n",
      "2019-11-25 23:31:02,868 - INFO - 32790959319 has been finished.\n",
      "2019-11-25 23:31:14,555 - INFO - 32954653412 has been finished.\n",
      "2019-11-25 23:31:31,679 - INFO - 32617572014 has been finished.\n",
      "2019-11-25 23:31:43,477 - INFO - 32788932952 has been finished.\n",
      "2019-11-25 23:31:55,165 - INFO - 32942053060 has been finished.\n",
      "2019-11-25 23:32:06,671 - INFO - 32957115062 has been finished.\n",
      "2019-11-25 23:32:18,479 - INFO - 32865455717 has been finished.\n",
      "2019-11-25 23:32:29,640 - INFO - 32971072372 has not been finished.\n",
      "2019-11-25 23:32:42,118 - INFO - 33006223242 has been finished.\n",
      "2019-11-25 23:32:53,648 - INFO - 33035020392 has been finished.\n",
      "2019-11-25 23:33:05,536 - INFO - 32852427227 has been finished.\n",
      "2019-11-25 23:33:16,756 - INFO - 32887697518 has been finished.\n",
      "2019-11-25 23:33:28,415 - INFO - 33053088336 has been finished.\n",
      "2019-11-25 23:33:39,562 - INFO - 4000223489312 has not been finished.\n",
      "2019-11-25 23:33:51,110 - INFO - 32862921368 has been finished.\n",
      "2019-11-25 23:34:02,954 - INFO - 32992033664 has been finished.\n",
      "2019-11-25 23:34:14,281 - INFO - 4000223461794 has not been finished.\n",
      "2019-11-25 23:34:26,786 - INFO - 32818464811 has been finished.\n",
      "2019-11-25 23:34:38,646 - INFO - 33055562905 has been finished.\n",
      "2019-11-25 23:34:50,637 - INFO - 32799435466 has been finished.\n",
      "2019-11-25 23:35:02,677 - INFO - 32327844257 has been finished.\n",
      "2019-11-25 23:35:14,458 - INFO - 32858191355 has been finished.\n",
      "2019-11-25 23:35:26,861 - INFO - 32881314860 has not been finished.\n",
      "2019-11-25 23:35:39,326 - INFO - 32982582725 has been finished.\n"
     ]
    }
   ],
   "source": [
    "for item_id in selected_item_id_list:\n",
    "    try:\n",
    "        item_url = 'https://www.aliexpress.com/item/---/' + str(item_id) + '.html'\n",
    "        open_page(browser, item_url)\n",
    "\n",
    "        item_sold = browser.find_elements_by_css_selector('.product-reviewer-sold')[0].text\n",
    "        item_name = browser.find_elements_by_css_selector('.product-title')[0].text\n",
    "\n",
    "        item_id_list.append(item_id)\n",
    "        item_sold_list.append(item_sold)\n",
    "        item_name_list.append(item_name)\n",
    "\n",
    "        logging.info(str(item_id) + ' has been finished.')\n",
    "    except:\n",
    "        logging.info(str(item_id) + ' has not been finished.')\n",
    "    \n",
    "result_df['item_id'] = item_id_list\n",
    "result_df['item_sold'] = item_sold_list\n",
    "result_df['item_name'] = item_name_list"
   ]
  },
  {
   "cell_type": "code",
   "execution_count": null,
   "metadata": {},
   "outputs": [],
   "source": [
    "today = date.today()\n",
    "d1 = today.strftime(\"%Y-%m-%d\")\n",
    "\n",
    "result_df.to_csv('../aliexpress_selected_product_crawling/' + d1 + '.csv')\n",
    "browser.quit()"
   ]
  }
 ],
 "metadata": {
  "anaconda-cloud": {},
  "kernelspec": {
   "display_name": "Python 3",
   "language": "python",
   "name": "python3"
  },
  "language_info": {
   "codemirror_mode": {
    "name": "ipython",
    "version": 3
   },
   "file_extension": ".py",
   "mimetype": "text/x-python",
   "name": "python",
   "nbconvert_exporter": "python",
   "pygments_lexer": "ipython3",
   "version": "3.7.3"
  }
 },
 "nbformat": 4,
 "nbformat_minor": 1
}
