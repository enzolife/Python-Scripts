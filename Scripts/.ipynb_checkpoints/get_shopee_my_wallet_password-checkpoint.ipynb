{
 "cells": [
  {
   "cell_type": "code",
   "execution_count": 1,
   "metadata": {
    "collapsed": true
   },
   "outputs": [],
   "source": [
    "from selenium import webdriver\n",
    "import pandas as pd\n",
    "import time\n",
    "import os\n",
    "import zipfile\n",
    "import shutil\n",
    "import math"
   ]
  },
  {
   "cell_type": "code",
   "execution_count": 2,
   "metadata": {
    "collapsed": true
   },
   "outputs": [],
   "source": [
    "from get_redash_query_result import get_shop_performance_by_certain_period, get_fresh_query_result"
   ]
  },
  {
   "cell_type": "code",
   "execution_count": 3,
   "metadata": {
    "collapsed": false
   },
   "outputs": [],
   "source": [
    "from get_particular_date import get_today_date"
   ]
  },
  {
   "cell_type": "code",
   "execution_count": 4,
   "metadata": {
    "collapsed": false
   },
   "outputs": [],
   "source": [
    "# params = {'p_date_after': '2018-08-20'}\n",
    "params = {}\n",
    "# 使用20180828 reset password list\n",
    "to_reset_password_user_list = get_fresh_query_result('http://10.12.5.53',\n",
    "                                 4716,\n",
    "                                 'PrsLn6Mf09MuBxBTrAEeRdT3gyqKzbG20obScoEV',\n",
    "                                 params)"
   ]
  },
  {
   "cell_type": "code",
   "execution_count": 5,
   "metadata": {
    "collapsed": false
   },
   "outputs": [],
   "source": [
    "# 更换workding directory\n",
    "working_directory = \"D:\\\\Program Files (x86)\\\\百度云同步盘\\\\Dropbox\\\\Shopee 2016.4.12\\\\2018.8.28 reset mywallet password\"\n",
    "os.chdir(working_directory)"
   ]
  },
  {
   "cell_type": "code",
   "execution_count": 6,
   "metadata": {
    "collapsed": false
   },
   "outputs": [],
   "source": [
    "# 选取非空的Userid，去重\n",
    "to_reset_password_user_list_user_id_not_null = to_reset_password_user_list[to_reset_password_user_list['userid'] > 0]['userid'].drop_duplicates()"
   ]
  },
  {
   "cell_type": "code",
   "execution_count": 7,
   "metadata": {
    "collapsed": false
   },
   "outputs": [
    {
     "data": {
      "text/plain": [
       "0    53602128\n",
       "1    53604592\n",
       "2    53608147\n",
       "3    51667333\n",
       "4    53607104\n",
       "Name: userid, dtype: int64"
      ]
     },
     "execution_count": 7,
     "metadata": {},
     "output_type": "execute_result"
    }
   ],
   "source": [
    "to_reset_password_user_list_user_id_not_null.head()"
   ]
  },
  {
   "cell_type": "code",
   "execution_count": 8,
   "metadata": {
    "collapsed": false
   },
   "outputs": [
    {
     "data": {
      "text/plain": [
       "2483"
      ]
     },
     "execution_count": 8,
     "metadata": {},
     "output_type": "execute_result"
    }
   ],
   "source": [
    "# 数据集大小\n",
    "user_len = len(to_reset_password_user_list_user_id_not_null)\n",
    "user_len"
   ]
  },
  {
   "cell_type": "code",
   "execution_count": 9,
   "metadata": {
    "collapsed": false
   },
   "outputs": [],
   "source": [
    "# 向上取整\n",
    "max_i = (int(user_len / 10000) + 1)"
   ]
  },
  {
   "cell_type": "code",
   "execution_count": 10,
   "metadata": {
    "collapsed": false
   },
   "outputs": [],
   "source": [
    "for i in range(0, max_i):\n",
    "    to_reset_user_list_folder = \"to_reset_user_list\"\n",
    "    \n",
    "    today_to_upload_userid_folder_path = os.path.join(to_reset_user_list_folder, str(get_today_date()))\n",
    "    \n",
    "    # 判断今天的文件夹是否生成\n",
    "    if not os.path.exists(today_to_upload_userid_folder_path):\n",
    "        os.makedirs(today_to_upload_userid_folder_path)\n",
    "    \n",
    "    to_reset_password_user_list_user_id_not_null[i * 10000:(i + 1) * 10000].astype(int).drop_duplicates().to_csv(os.path.join(to_reset_user_list_folder, str(get_today_date()), str(i + 1) + '.csv'), sep=',', index=False)"
   ]
  },
  {
   "cell_type": "code",
   "execution_count": 11,
   "metadata": {
    "collapsed": false
   },
   "outputs": [],
   "source": [
    "# 屏幕最大化，且指定下载目录\n",
    "options = webdriver.ChromeOptions()\n",
    "options.add_argument(\"--start-maximized\")\n",
    "\n",
    "# 指定下载目录\n",
    "# 判断今天的文件夹是否生成\n",
    "result_userid_list_folder = 'reset_password_list'\n",
    "today_result_userid_folder_path = os.path.join(result_userid_list_folder, str(get_today_date()))\n",
    "\n",
    "if not os.path.exists(today_result_userid_folder_path):\n",
    "    os.makedirs(today_result_userid_folder_path)\n",
    "\n",
    "prefs = {\"profile.default_content_settings.popups\": 0,\n",
    "         \"download.default_directory\": os.path.join(os.getcwd(), today_result_userid_folder_path), # IMPORTANT - ENDING SLASH V IMPORTANT\n",
    "         # \"download.default_directory\": r\"D:\\\\\", # IMPORTANT - ENDING SLASH V IMPORTANT\n",
    "         \"directory_upgrade\": True}\n",
    "options.add_experimental_option(\"prefs\", prefs)"
   ]
  },
  {
   "cell_type": "code",
   "execution_count": 12,
   "metadata": {
    "collapsed": true
   },
   "outputs": [],
   "source": [
    "# 使用chromedriver才可以用开发者权限\n",
    "chrome_driver_path = \"D://Program Files (x86)//百度云同步盘//我的软件//chromedriver.exe\"\n",
    "browser = webdriver.Chrome(chrome_driver_path, chrome_options=options)"
   ]
  },
  {
   "cell_type": "code",
   "execution_count": 13,
   "metadata": {
    "collapsed": true
   },
   "outputs": [],
   "source": [
    "# 打开页面\n",
    "browser.get('https://seller.shopee.sg/admin/payment/wallet/cbseller/password/')\n",
    "time.sleep(10)"
   ]
  },
  {
   "cell_type": "code",
   "execution_count": 14,
   "metadata": {
    "collapsed": true
   },
   "outputs": [],
   "source": [
    "# 输入账户\n",
    "browser.find_elements_by_css_selector('.whsOnd.zHQkBf')[0].send_keys('shopeecb1@shopee.com')\n",
    "time.sleep(10)"
   ]
  },
  {
   "cell_type": "code",
   "execution_count": 15,
   "metadata": {
    "collapsed": true
   },
   "outputs": [],
   "source": [
    "# 点击下一步\n",
    "browser.find_elements_by_css_selector('.RveJvd.snByac')[1].click()\n",
    "time.sleep(10)"
   ]
  },
  {
   "cell_type": "code",
   "execution_count": 16,
   "metadata": {
    "collapsed": false
   },
   "outputs": [],
   "source": [
    "# 输入密码\n",
    "browser.find_elements_by_css_selector('.whsOnd.zHQkBf')[0].send_keys('shopee2017')\n",
    "time.sleep(10)"
   ]
  },
  {
   "cell_type": "code",
   "execution_count": 17,
   "metadata": {
    "collapsed": true
   },
   "outputs": [],
   "source": [
    "# 点击下一步\n",
    "browser.find_elements_by_css_selector('.RveJvd.snByac')[0].click()\n",
    "time.sleep(10)"
   ]
  },
  {
   "cell_type": "code",
   "execution_count": 18,
   "metadata": {
    "collapsed": true
   },
   "outputs": [],
   "source": [
    "browser.get('https://seller.shopee.sg/admin/payment/wallet/cbseller/password/')\n",
    "time.sleep(10)"
   ]
  },
  {
   "cell_type": "code",
   "execution_count": 19,
   "metadata": {
    "collapsed": false
   },
   "outputs": [],
   "source": [
    "# 历遍今天文件夹中的userid list，下载\n",
    "for filename in os.listdir(today_to_upload_userid_folder_path):\n",
    "    if filename.endswith(\".csv\"): \n",
    "        file_path = os.path.join(os.getcwd(), today_to_upload_userid_folder_path, filename)\n",
    "        browser.find_element_by_xpath(\"//input[@type='file']\").send_keys(file_path)\n",
    "        time.sleep(5)\n",
    "        browser.find_elements_by_css_selector(\".shopee-button.payment-password__button.shopee-button--primary.shopee-button--large\")[1].click()"
   ]
  },
  {
   "cell_type": "code",
   "execution_count": 20,
   "metadata": {
    "collapsed": false
   },
   "outputs": [],
   "source": [
    "# 把所有结果合并\n",
    "time.sleep(10)\n",
    "os.chdir(os.path.join(working_directory, today_result_userid_folder_path))\n",
    "combined_result_csv = pd.concat([pd.read_csv(f) for f in os.listdir()])\n",
    "combined_result_csv['date'] = get_today_date()\n",
    "combined_result_csv.to_csv(\"combined_result.csv\", sep=',', index=False)"
   ]
  },
  {
   "cell_type": "code",
   "execution_count": 21,
   "metadata": {
    "collapsed": true
   },
   "outputs": [],
   "source": [
    "# 关闭\n",
    "browser.quit()"
   ]
  }
 ],
 "metadata": {
  "kernelspec": {
   "display_name": "Python 3",
   "language": "python",
   "name": "python3"
  },
  "language_info": {
   "codemirror_mode": {
    "name": "ipython",
    "version": 3
   },
   "file_extension": ".py",
   "mimetype": "text/x-python",
   "name": "python",
   "nbconvert_exporter": "python",
   "pygments_lexer": "ipython3",
   "version": "3.6.0"
  }
 },
 "nbformat": 4,
 "nbformat_minor": 2
}
