{
 "cells": [
  {
   "cell_type": "markdown",
   "metadata": {},
   "source": [
    "## python"
   ]
  },
  {
   "cell_type": "raw",
   "metadata": {},
   "source": [
    ">>> x = [1, 2]\n",
    ">>> y = x\n",
    ">>> y = [1, 2, 3]\n",
    ">>> z = x\n",
    ">>> z = z.append(4)\n",
    ">>> x\n",
    "\n",
    "______"
   ]
  },
  {
   "cell_type": "raw",
   "metadata": {},
   "source": [
    ">>> 0 and 1/0\n",
    "\n",
    "______"
   ]
  },
  {
   "cell_type": "raw",
   "metadata": {},
   "source": [
    ">>> def much(wow):\n",
    "        if much == wow:\n",
    "            such = lambda wow: wow\n",
    "            def wow(much):\n",
    "                return such(much)\n",
    "            return wow\n",
    "        return 99\n",
    "\n",
    ">>> wow = 6\n",
    ">>> much(much)(wow)\n",
    "\n",
    "______"
   ]
  },
  {
   "cell_type": "raw",
   "metadata": {},
   "source": [
    "Given an integer, write a function to determine if it is a power of three.\n",
    "\n",
    "def is_power_of_three(n):\n",
    "    \"\"\"\n",
    "    Example:\n",
    "    >>> is_power_of_three(8)\n",
    "    False\n",
    "    >>> is_power_of_three(27)\n",
    "    True\n",
    "    >>> is_power_of_three(0)\n",
    "    False\n",
    "    \"\"\"\n",
    "    \n",
    "    \n",
    "    \n",
    "    \n",
    "    \n",
    "    \n",
    "    \n",
    "    \n",
    "    \n",
    "    \n",
    "    \n",
    "    \n",
    "    \n",
    "    \n",
    "    \n",
    "    \n",
    "    \n",
    "    \n",
    "    "
   ]
  },
  {
   "cell_type": "raw",
   "metadata": {},
   "source": [
    "Given an integer, write a function to determine if it is a prime number.\n",
    "A prime number is a natural number greater than 1 that cannot be formed by multiplying two smaller natural numbers. \n",
    "\n",
    "def is_prime(n):\n",
    "    \"\"\"\n",
    "    Example:\n",
    "    >>> is_prime(10)\n",
    "    False\n",
    "    >>> is_prime(3)\n",
    "    True\n",
    "    \"\"\"\n",
    "    \n",
    "    \n",
    "    \n",
    "    \n",
    "    \n",
    "    \n",
    "    \n",
    "    \n",
    "    \n",
    "    \n",
    "    \n",
    "    \n",
    "    \n",
    "    \n",
    "    \n",
    "    \n",
    "    "
   ]
  },
  {
   "cell_type": "markdown",
   "metadata": {},
   "source": [
    "## SQL"
   ]
  },
  {
   "cell_type": "raw",
   "metadata": {},
   "source": [
    "Table: Person\n",
    "\n",
    "+-------------+---------+\n",
    "| Column Name | Type    |\n",
    "+-------------+---------+\n",
    "| PersonId    | int     |\n",
    "| FirstName   | varchar |\n",
    "| LastName    | varchar |\n",
    "+-------------+---------+\n",
    "PersonId is the primary key column for this table.\n",
    "Table: Address\n",
    "\n",
    "+-------------+---------+\n",
    "| Column Name | Type    |\n",
    "+-------------+---------+\n",
    "| AddressId   | int     |\n",
    "| PersonId    | int     |\n",
    "| City        | varchar |\n",
    "| State       | varchar |\n",
    "+-------------+---------+\n",
    "AddressId is the primary key column for this table.\n",
    " \n",
    "\n",
    "Write a SQL query for a report that provides the following information for each person in the Person table, regardless if there is an address for each of those people:\n",
    "\n",
    "PersonId, FirstName, LastName, City, State\n",
    "\n",
    "\n",
    "\n",
    "\n",
    "\n",
    "\n",
    "\n",
    "\n",
    "\n",
    "\n",
    "\n",
    "\n",
    "\n",
    "\n",
    "\n",
    "\n"
   ]
  },
  {
   "cell_type": "raw",
   "metadata": {},
   "source": [
    "Write a SQL query to find all duplicate emails in a table named Person.\n",
    "\n",
    "+----+---------+\n",
    "| Id | Email   |\n",
    "+----+---------+\n",
    "| 1  | a@b.com |\n",
    "| 2  | c@d.com |\n",
    "| 3  | a@b.com |\n",
    "+----+---------+\n",
    "For example, your query should return the following for the above table:\n",
    "\n",
    "+---------+\n",
    "| Email   |\n",
    "+---------+\n",
    "| a@b.com |\n",
    "+---------+\n",
    "Note: All emails are in lowercase.\n",
    "\n",
    "\n",
    "\n",
    "\n",
    "\n",
    "\n",
    "\n",
    "\n",
    "\n",
    "\n",
    "\n",
    "\n",
    "\n",
    "\n",
    "\n",
    "\n",
    "\n"
   ]
  },
  {
   "cell_type": "raw",
   "metadata": {},
   "source": [
    "Please describe the excution sequence of this query: \n",
    "\n",
    "\n",
    "SELECT a.shop_id, a.shop_name, b.order_id, c.order_date\n",
    "FROM table_1 AS a\n",
    "LEFT JOIN table_2 AS b ON a.shop_id = b.shop_id\n",
    "LEFT JOIN table_3 AS c ON b.order_id = c.order_id\n",
    "WHERE c.order_date >= '2018-07-01'::TIMESTAMP\n",
    "\n",
    "\n",
    "\n",
    "\n",
    "\n",
    "\n",
    "\n",
    "\n",
    "\n",
    "\n",
    "\n",
    "\n",
    "\n",
    "\n",
    "\n",
    "\n",
    "\n",
    "\n"
   ]
  },
  {
   "cell_type": "raw",
   "metadata": {},
   "source": [
    "Please write a query to get the top 3 item_id (has most distinct order_ids) for each category and their order count together with its rank for each category.\n",
    "\n",
    "\n",
    "Table: item_sales_infomation\n",
    "\n",
    "+-------------+----------+\n",
    "| Column Name | Type     |\n",
    "+-------------+----------+\n",
    "| item_id     | int      |\n",
    "| order_id    | int      |\n",
    "| category    | varchar  |\n",
    "| sold_date   | timestamp|\n",
    "+-------------+----------+\n",
    "\n",
    "\n",
    "Your query should return the following output for the above table:\n",
    "\n",
    "+----------+---------------+------------+------+\n",
    "|  item_id |  order_count  |  category  | rank |\n",
    "+----------+---------------+------------+------+\n",
    "|   t3902  |      2599     |  Clothes   |   1  |\n",
    "|   t7892  |      2320     |  Clothes   |   2  |\n",
    "|   t1829  |      1878     |  Clothes   |   3  |\n",
    "|   k1290  |      1299     |  Shoes     |   1  |\n",
    "|   k4729  |      872      |  Shoes     |   2  |\n",
    "|   k0173  |      729      |  Shoes     |   3  |\n",
    "...                                            |\n",
    "+----------+---------------+------------+------+\n",
    "\n",
    "\n",
    "\n",
    "\n",
    "\n",
    "\n",
    "\n",
    "\n",
    "\n",
    "\n",
    "\n",
    "\n",
    "\n",
    "\n",
    "\n",
    "\n",
    "\n",
    "\n",
    "\n",
    "\n",
    "\n"
   ]
  },
  {
   "cell_type": "raw",
   "metadata": {},
   "source": [
    "Write a SQL query to get how many orders each seller had in each country in a table named seller_sales_information.\n",
    "\n",
    "\n",
    "Table: seller_sales_infomation\n",
    "\n",
    "+----------+-----------+---------------+\n",
    "| order_id | seller_id | order_country |\n",
    "+----------+-----------+---------------+\n",
    "|   c409   |    a01    |      CN       |\n",
    "|   c372   |    a01    |      CN       |\n",
    "|   c302   |    a01    |      CN       |\n",
    "|   t121   |    a01    |      TH       |\n",
    "|   s201   |    b01    |      SG       |\n",
    "|   t242   |    b01    |      TH       |\n",
    "|   c563   |    c01    |      CN       |\n",
    "|   s507   |    c01    |      SG       |\n",
    "+----------+-----------+---------------+\n",
    "\n",
    "\n",
    "Your query should return the following output for the above table:\n",
    "(for the seller who doesn't have an order in a certain country, output 0 in total_orders for that country)\n",
    "+-----------+---------------+--------------+\n",
    "| seller_id | order_country | total_orders |\n",
    "+-----------+---------------+--------------+\n",
    "|    a01    |       CN      |      3       |\n",
    "|    a01    |       SG      |      0       |\n",
    "|    a01    |       TH      |      1       |\n",
    "|    b01    |       CN      |      0       |\n",
    "|    b01    |       SG      |      1       |\n",
    "|    b01    |       TH      |      1       |\n",
    "|    c01    |       CN      |      1       |\n",
    "|    c01    |       SG      |      1       |\n",
    "|    c01    |       TH      |      0       |\n",
    "+-----------+---------------+--------------+\n",
    "\n",
    "\n",
    "\n",
    "Please write a query to get desired output.\n",
    "\n",
    "\n",
    "\n",
    "\n",
    "\n",
    "\n",
    "\n",
    "\n",
    "\n",
    "\n",
    "\n",
    "\n",
    "\n",
    "\n"
   ]
  },
  {
   "cell_type": "markdown",
   "metadata": {},
   "source": [
    "## Statistics"
   ]
  },
  {
   "cell_type": "raw",
   "metadata": {},
   "source": [
    "1.The following data is from a random sample: 5, 1, 3, 3, 8. Compute the sample mean, sample standard deviation and sample median? Sample mean: 4 ;Sample variance : 7; Sample median: 3\n",
    "\n",
    "\n",
    "\n",
    "\n",
    "\n",
    "2.Suppose X is a random variable with E(X) = 5 and Var(X) = 2. What is E(X**2)?\n",
    "\n",
    "\n",
    "\n",
    "\n",
    "\n",
    "\n",
    "3.Suppose that P(A)=0.4, P(B)=0.3 and P((A ∪ B)**C) = 0.42. Are A and B independent?\n",
    "\n",
    "\n",
    "\n",
    "\n",
    "\n",
    "\n",
    "\n",
    "4.There are 3 arrangements of the word DAD, namely DAD, ADD, and DDA. How many arrangements are there of the word PROBABILITY? 9979200\n",
    "\n",
    "\n",
    "\n",
    "\n",
    "\n",
    "\n",
    "\n",
    "5.Suppose you are taking a multiple-choice test with c choices for each question. In answering a question on this test, the probability that you know the answer is p. If you don’t know the answer, you choose one at random. What is the probability that you knew the answer to a question, given that you answered it correctly? p/(p+(1-p)/c)\n",
    "\n",
    "\n",
    "\n",
    "\n",
    "\n",
    "\n",
    "\n",
    "6. Flip a coin 1000 times, got 538 heads and 462 tails, explain how would you calculate whether the difference is significant enough to question the fairness of the coin (other than by coincidence)\n",
    "\n",
    "\n",
    "\n",
    "\n",
    "\n",
    "\n"
   ]
  },
  {
   "cell_type": "markdown",
   "metadata": {},
   "source": [
    "## database"
   ]
  },
  {
   "cell_type": "raw",
   "metadata": {},
   "source": [
    "What is primary key and foreign key?\n",
    "\n",
    "\n",
    "\n",
    "\n"
   ]
  },
  {
   "cell_type": "raw",
   "metadata": {},
   "source": [
    "Please explain what is the pros and cons of indexing for a table in a database and why?\n",
    "\n",
    "\n",
    "\n",
    "\n"
   ]
  },
  {
   "cell_type": "markdown",
   "metadata": {},
   "source": [
    "## engineering"
   ]
  },
  {
   "cell_type": "raw",
   "metadata": {},
   "source": [
    "What is the difference between thread and process, and when to utilize which when doing parallel programming?\n",
    "\n",
    "\n",
    "\n",
    "\n"
   ]
  },
  {
   "cell_type": "raw",
   "metadata": {},
   "source": [
    "How do you intend to process 100G csv file (for an aggregation result) with 8G memory laptop?\n",
    "\n",
    "\n",
    "\n",
    "\n",
    "\n"
   ]
  },
  {
   "cell_type": "markdown",
   "metadata": {},
   "source": [
    "## machine learning"
   ]
  },
  {
   "cell_type": "raw",
   "metadata": {},
   "source": [
    "Please describe a commonly used machine learning pipeline.\n",
    "\n",
    "\n",
    "\n",
    "\n",
    "\n"
   ]
  },
  {
   "cell_type": "markdown",
   "metadata": {},
   "source": [
    "## Analysis"
   ]
  },
  {
   "cell_type": "raw",
   "metadata": {},
   "source": [
    "There are many things affecting the conversion rate (CV) of a shop (orders / views by customers), please list at least 3 factors which might affect CV and your corresponding strategy for a higher CV.\n",
    "\n",
    "\n",
    "\n",
    "\n",
    "\n",
    "\n",
    "\n",
    "\n",
    "\n",
    "\n",
    "\n",
    "\n",
    "\n",
    "\n",
    "\n"
   ]
  },
  {
   "cell_type": "raw",
   "metadata": {},
   "source": [
    "What do you think are the most important aspects in business analysis, and what is your strength?\n",
    "\n",
    "\n",
    "\n",
    "\n",
    "\n",
    "\n",
    "\n",
    "\n",
    "\n",
    "\n"
   ]
  }
 ],
 "metadata": {
  "kernelspec": {
   "display_name": "Python 3",
   "language": "python",
   "name": "python3"
  },
  "language_info": {
   "codemirror_mode": {
    "name": "ipython",
    "version": 3
   },
   "file_extension": ".py",
   "mimetype": "text/x-python",
   "name": "python",
   "nbconvert_exporter": "python",
   "pygments_lexer": "ipython3",
   "version": "3.6.0"
  }
 },
 "nbformat": 4,
 "nbformat_minor": 2
}
