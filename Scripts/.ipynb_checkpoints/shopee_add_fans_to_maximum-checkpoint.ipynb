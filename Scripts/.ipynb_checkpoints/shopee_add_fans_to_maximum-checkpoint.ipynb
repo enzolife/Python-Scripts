{
 "cells": [
  {
   "cell_type": "code",
   "execution_count": 133,
   "metadata": {
    "collapsed": true
   },
   "outputs": [],
   "source": [
    "from selenium import webdriver\n",
    "from selenium.webdriver.common.keys import Keys\n",
    "import pandas as pd\n",
    "import time"
   ]
  },
  {
   "cell_type": "code",
   "execution_count": 134,
   "metadata": {
    "collapsed": true
   },
   "outputs": [],
   "source": [
    "# 屏幕最大化，且指定下载目录\n",
    "options = webdriver.ChromeOptions()\n",
    "options.add_argument(\"--start-maximized\")\n",
    "\n",
    "prefs = {\"profile.default_content_settings.popups\": 0,\n",
    "         \"directory_upgrade\": True}\n",
    "options.add_experimental_option(\"prefs\", prefs)"
   ]
  },
  {
   "cell_type": "code",
   "execution_count": 135,
   "metadata": {
    "collapsed": true
   },
   "outputs": [],
   "source": [
    "# 使用chromedriver才可以用开发者权限\n",
    "chrome_driver_path = \".//chrome_driver//chromedriver.exe\"\n",
    "browser = webdriver.Chrome(chrome_driver_path, chrome_options=options)"
   ]
  },
  {
   "cell_type": "code",
   "execution_count": 136,
   "metadata": {
    "collapsed": true
   },
   "outputs": [],
   "source": [
    "# main page\n",
    "main_page_url = \"http://shopee.tw\"\n",
    "browser.get(main_page_url)\n",
    "\n",
    "# remove ads, refresh again\n",
    "browser.get(main_page_url)\n",
    "time.sleep(10)"
   ]
  },
  {
   "cell_type": "code",
   "execution_count": 137,
   "metadata": {
    "collapsed": false
   },
   "outputs": [],
   "source": [
    "# login\n",
    "LoginElem = browser.find_elements_by_css_selector('.navbar__link.navbar__link--account.navbar__link--tappable.navbar__link--hoverable.navbar__link-text.navbar__link-text--medium')\n",
    "'''\n",
    "有关Selenium Compound class names not permitted的错误\n",
    "可以参考https://stackoverflow.com/questions/37771604/selenium-compound-class-names-not-permitted\n",
    "使用css_selector解决即可\n",
    "'''\n",
    "# 点击登入，弹出账户密码输入框\n",
    "LoginElem[1].click()\n",
    "time.sleep(10)"
   ]
  },
  {
   "cell_type": "code",
   "execution_count": 138,
   "metadata": {
    "collapsed": true
   },
   "outputs": [],
   "source": [
    "acc_password_input_elem = browser.find_elements_by_css_selector('.input-with-status__input')\n",
    "try:\n",
    "    acc_password_input_elem[0].click()\n",
    "    acc_password_input_elem[0].send_keys('tengus2.tw')\n",
    "    acc_password_input_elem[1].click()\n",
    "    acc_password_input_elem[1].send_keys('tengus1803')\n",
    "except:\n",
    "    time.sleep(30)\n",
    "    acc_password_input_elem = browser.find_elements_by_css_selector('.input-with-status__input')\n",
    "    acc_password_input_elem[0].click()\n",
    "    acc_password_input_elem[0].send_keys('tengus2.tw')\n",
    "    acc_password_input_elem[1].click()\n",
    "    acc_password_input_elem[1].send_keys('tengus1803')\n",
    "time.sleep(10)"
   ]
  },
  {
   "cell_type": "code",
   "execution_count": 139,
   "metadata": {
    "collapsed": false
   },
   "outputs": [],
   "source": [
    "Login_button_elem = browser.find_elements_by_css_selector('.shopee-button-solid.shopee-button-solid--primary')\n",
    "time.sleep(10)\n",
    "Login_button_elem[0].click()"
   ]
  },
  {
   "cell_type": "code",
   "execution_count": 140,
   "metadata": {
    "collapsed": false
   },
   "outputs": [],
   "source": [
    "# change current tab size\n",
    "# browser.set_window_size(400, 862)    "
   ]
  },
  {
   "cell_type": "code",
   "execution_count": 141,
   "metadata": {
    "collapsed": false
   },
   "outputs": [],
   "source": [
    "# add fans from Top Seller's shop\n",
    "top_shop_id = 23068230\n",
    "top_shop_url = 'https://shopee.tw/shop/' + str(top_shop_id) + '/followers/?__classic__=1'\n",
    "browser.get(top_shop_url)"
   ]
  },
  {
   "cell_type": "code",
   "execution_count": 142,
   "metadata": {
    "collapsed": true
   },
   "outputs": [],
   "source": [
    "# add certain number of fans\n",
    "to_add_num_of_following = 400\n",
    "num_of_following_display = len(browser.find_elements_by_css_selector('.clickable_area.middle-centered-div'))"
   ]
  },
  {
   "cell_type": "code",
   "execution_count": 143,
   "metadata": {
    "collapsed": false
   },
   "outputs": [],
   "source": [
    "# page down until we get at least 400 fans to cancel\n",
    "# while num_of_following_display <= 1000:\n",
    "    # body = browser.find_element_by_css_selector('body')\n",
    "    # body.send_keys(Keys.PAGE_DOWN)\n",
    "    # body.send_keys(Keys.END)\n",
    "    # time.sleep(5)\n",
    "    # num_of_following_display = len(browser.find_elements_by_css_selector('.clickable_area.middle-centered-div'))\n",
    "    \n",
    "# num_of_following_display"
   ]
  },
  {
   "cell_type": "code",
   "execution_count": 144,
   "metadata": {
    "collapsed": false
   },
   "outputs": [],
   "source": [
    "# following_buttons = browser.find_elements_by_css_selector('.btn-follow.follow.L14')\n",
    "# len(following_buttons)"
   ]
  },
  {
   "cell_type": "code",
   "execution_count": 145,
   "metadata": {
    "collapsed": true
   },
   "outputs": [],
   "source": [
    "i = 0\n",
    "total_add_num_of_following = to_add_num_of_following"
   ]
  },
  {
   "cell_type": "code",
   "execution_count": 146,
   "metadata": {
    "collapsed": true
   },
   "outputs": [],
   "source": [
    "browser.find_element_by_css_selector('body').send_keys(Keys.CONTROL + Keys.HOME)"
   ]
  },
  {
   "cell_type": "code",
   "execution_count": 147,
   "metadata": {
    "collapsed": false,
    "scrolled": true
   },
   "outputs": [
    {
     "name": "stdout",
     "output_type": "stream",
     "text": [
      "Now we have 20 following buttons on the screen.\n",
      "Now run the 1 time.\n",
      "19072697 is following now, 399 following remains.\n",
      "Now we have 20 following buttons on the screen.\n",
      "Now run the 2 time.\n",
      "Skip this one. It's following already.\n",
      "Now we have 20 following buttons on the screen.\n",
      "Now run the 3 time.\n",
      "Skip this one. It's following already.\n",
      "Now we have 20 following buttons on the screen.\n",
      "Now run the 4 time.\n",
      "Skip this one. It's following already.\n",
      "Now we have 20 following buttons on the screen.\n",
      "Now run the 5 time.\n",
      "Skip this one. It's following already.\n",
      "Now we have 20 following buttons on the screen.\n",
      "Now run the 6 time.\n",
      "Skip this one. It's following already.\n",
      "Now we have 20 following buttons on the screen.\n",
      "Now run the 7 time.\n",
      "Skip this one. It's following already.\n",
      "Now we have 20 following buttons on the screen.\n",
      "Now run the 8 time.\n",
      "Skip this one. It's following already.\n",
      "Now we have 20 following buttons on the screen.\n",
      "Now run the 9 time.\n",
      "Skip this one. It's following already.\n",
      "Now we have 20 following buttons on the screen.\n",
      "Now run the 10 time.\n",
      "Skip this one. It's following already.\n",
      "Now we have 20 following buttons on the screen.\n",
      "Now run the 11 time.\n",
      "Skip this one. It's following already.\n",
      "Now we have 20 following buttons on the screen.\n",
      "Now run the 12 time.\n",
      "Skip this one. It's following already.\n",
      "Now we have 20 following buttons on the screen.\n",
      "Now run the 13 time.\n",
      "Skip this one. It's following already.\n",
      "Now we have 20 following buttons on the screen.\n",
      "Now run the 14 time.\n",
      "Skip this one. It's following already.\n",
      "Now we have 20 following buttons on the screen.\n",
      "Now run the 15 time.\n",
      "Skip this one. It's following already.\n",
      "Now we have 20 following buttons on the screen.\n",
      "Now run the 16 time.\n",
      "Skip this one. It's following already.\n",
      "Now we have 20 following buttons on the screen.\n",
      "Now run the 17 time.\n",
      "Skip this one. It's following already.\n",
      "Now we have 20 following buttons on the screen.\n",
      "Now run the 18 time.\n",
      "Skip this one. It's following already.\n",
      "Now we have 20 following buttons on the screen.\n",
      "Now run the 19 time.\n",
      "Skip this one. It's following already.\n",
      "Now we have 20 following buttons on the screen.\n",
      "Now run the 20 time.\n",
      "Skip this one. It's following already.\n",
      "Now we have 40 following buttons on the screen.\n",
      "Now run the 21 time.\n",
      "Skip this one. It's following already.\n",
      "Now we have 40 following buttons on the screen.\n",
      "Now run the 22 time.\n",
      "Skip this one. It's following already.\n",
      "Now we have 40 following buttons on the screen.\n",
      "Now run the 23 time.\n",
      "Skip this one. It's following already.\n",
      "Now we have 40 following buttons on the screen.\n",
      "Now run the 24 time.\n",
      "Skip this one. It's following already.\n",
      "Now we have 40 following buttons on the screen.\n",
      "Now run the 25 time.\n",
      "Skip this one. It's following already.\n",
      "Now we have 40 following buttons on the screen.\n",
      "Now run the 26 time.\n",
      "Skip this one. It's following already.\n",
      "Now we have 40 following buttons on the screen.\n",
      "Now run the 27 time.\n",
      "Skip this one. It's following already.\n",
      "Now we have 40 following buttons on the screen.\n",
      "Now run the 28 time.\n",
      "Skip this one. It's following already.\n",
      "Now we have 40 following buttons on the screen.\n",
      "Now run the 29 time.\n",
      "Skip this one. It's following already.\n",
      "Now we have 40 following buttons on the screen.\n",
      "Now run the 30 time.\n",
      "Skip this one. It's following already.\n",
      "Now we have 40 following buttons on the screen.\n",
      "Now run the 31 time.\n",
      "Skip this one. It's following already.\n",
      "Now we have 40 following buttons on the screen.\n",
      "Now run the 32 time.\n",
      "Skip this one. It's following already.\n",
      "Now we have 40 following buttons on the screen.\n",
      "Now run the 33 time.\n",
      "Skip this one. It's following already.\n",
      "Now we have 40 following buttons on the screen.\n",
      "Now run the 34 time.\n",
      "Skip this one. It's following already.\n",
      "Now we have 40 following buttons on the screen.\n",
      "Now run the 35 time.\n",
      "Skip this one. It's following already.\n",
      "Now we have 40 following buttons on the screen.\n",
      "Now run the 36 time.\n",
      "Skip this one. It's following already.\n",
      "Now we have 40 following buttons on the screen.\n",
      "Now run the 37 time.\n",
      "Skip this one. It's following already.\n",
      "Now we have 40 following buttons on the screen.\n",
      "Now run the 38 time.\n",
      "Skip this one. It's following already.\n",
      "Now we have 40 following buttons on the screen.\n",
      "Now run the 39 time.\n",
      "Skip this one. It's following already.\n",
      "Now we have 40 following buttons on the screen.\n",
      "Now run the 40 time.\n",
      "Skip this one. It's following already.\n",
      "Now we have 40 following buttons on the screen.\n",
      "Now run the 41 time.\n"
     ]
    },
    {
     "ename": "IndexError",
     "evalue": "list index out of range",
     "output_type": "error",
     "traceback": [
      "\u001b[0;31m---------------------------------------------------------------------------\u001b[0m",
      "\u001b[0;31mIndexError\u001b[0m                                Traceback (most recent call last)",
      "\u001b[0;32m<ipython-input-147-e9c7edf1660b>\u001b[0m in \u001b[0;36m<module>\u001b[0;34m()\u001b[0m\n\u001b[1;32m      8\u001b[0m         \u001b[0mprint\u001b[0m\u001b[1;33m(\u001b[0m\u001b[1;34m'Now we have '\u001b[0m \u001b[1;33m+\u001b[0m \u001b[0mstr\u001b[0m\u001b[1;33m(\u001b[0m\u001b[0mlen\u001b[0m\u001b[1;33m(\u001b[0m\u001b[0mfollowing_buttons\u001b[0m\u001b[1;33m)\u001b[0m\u001b[1;33m)\u001b[0m \u001b[1;33m+\u001b[0m \u001b[1;34m' following buttons on the screen.'\u001b[0m\u001b[1;33m)\u001b[0m\u001b[1;33m\u001b[0m\u001b[0m\n\u001b[1;32m      9\u001b[0m         \u001b[0mprint\u001b[0m\u001b[1;33m(\u001b[0m\u001b[1;34m'Now run the '\u001b[0m \u001b[1;33m+\u001b[0m \u001b[0mstr\u001b[0m\u001b[1;33m(\u001b[0m\u001b[0mi\u001b[0m \u001b[1;33m+\u001b[0m \u001b[1;36m1\u001b[0m\u001b[1;33m)\u001b[0m \u001b[1;33m+\u001b[0m \u001b[1;34m' time.'\u001b[0m\u001b[1;33m)\u001b[0m\u001b[1;33m\u001b[0m\u001b[0m\n\u001b[0;32m---> 10\u001b[0;31m         \u001b[1;32mif\u001b[0m \u001b[0mfollowing_buttons\u001b[0m\u001b[1;33m[\u001b[0m\u001b[0mi\u001b[0m\u001b[1;33m]\u001b[0m\u001b[1;33m.\u001b[0m\u001b[0mtext\u001b[0m \u001b[1;33m==\u001b[0m \u001b[1;34m'+ 關注'\u001b[0m\u001b[1;33m:\u001b[0m\u001b[1;33m\u001b[0m\u001b[0m\n\u001b[0m\u001b[1;32m     11\u001b[0m             \u001b[1;31m# print(following_buttons[i].text)\u001b[0m\u001b[1;33m\u001b[0m\u001b[1;33m\u001b[0m\u001b[0m\n\u001b[1;32m     12\u001b[0m             \u001b[0mshopid\u001b[0m \u001b[1;33m=\u001b[0m \u001b[0mfollowing_buttons\u001b[0m\u001b[1;33m[\u001b[0m\u001b[0mi\u001b[0m\u001b[1;33m]\u001b[0m\u001b[1;33m.\u001b[0m\u001b[0mget_attribute\u001b[0m\u001b[1;33m(\u001b[0m\u001b[1;34m'shopid'\u001b[0m\u001b[1;33m)\u001b[0m\u001b[1;33m\u001b[0m\u001b[0m\n",
      "\u001b[0;31mIndexError\u001b[0m: list index out of range"
     ]
    }
   ],
   "source": [
    "while i <= total_add_num_of_following - 1:  \n",
    "    while to_add_num_of_following > 0:\n",
    "        if i + 1 > len(following_buttons):\n",
    "            browser.find_element_by_css_selector('body').send_keys(Keys.PAGE_DOWN)\n",
    "            time.sleep(5)\n",
    "        \n",
    "        following_buttons = browser.find_elements_by_css_selector('.btn-follow.follow.L14')\n",
    "        print('Now we have ' + str(len(following_buttons)) + ' following buttons on the screen.')\n",
    "        print('Now run the ' + str(i + 1) + ' time.')\n",
    "        if following_buttons[i].text == '+ 關注':\n",
    "            # print(following_buttons[i].text)\n",
    "            shopid = following_buttons[i].get_attribute('shopid')\n",
    "            following_buttons[i].click()\n",
    "            time.sleep(5)\n",
    "            to_add_num_of_following -= 1\n",
    "            print(str(shopid) + ' is following now, ' + str(to_add_num_of_following) + ' following remains.')\n",
    "        else:\n",
    "            print('Skip this one. It\\'s following already.')\n",
    "        i += 1"
   ]
  },
  {
   "cell_type": "code",
   "execution_count": null,
   "metadata": {
    "collapsed": true
   },
   "outputs": [],
   "source": [
    "# 关闭\n",
    "browser.quit()"
   ]
  }
 ],
 "metadata": {
  "anaconda-cloud": {},
  "kernelspec": {
   "display_name": "Python 3",
   "language": "python",
   "name": "python3"
  },
  "language_info": {
   "codemirror_mode": {
    "name": "ipython",
    "version": 3
   },
   "file_extension": ".py",
   "mimetype": "text/x-python",
   "name": "python",
   "nbconvert_exporter": "python",
   "pygments_lexer": "ipython3",
   "version": "3.6.0"
  }
 },
 "nbformat": 4,
 "nbformat_minor": 1
}
