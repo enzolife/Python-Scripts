{
 "cells": [
  {
   "cell_type": "code",
   "execution_count": null,
   "metadata": {},
   "outputs": [],
   "source": [
    "from selenium import webdriver\n",
    "from selenium.webdriver.common.keys import Keys\n",
    "import pandas as pd\n",
    "import time\n",
    "import logging\n",
    "import os\n",
    "import datetime"
   ]
  },
  {
   "cell_type": "code",
   "execution_count": null,
   "metadata": {},
   "outputs": [],
   "source": [
    "# # 获取脚本的当前路径，避免计划执行时路径出错\n",
    "# home_dir = os.path.dirname(os.path.realpath(__file__))\n",
    "# # 更换workding directory\n",
    "# working_directory = home_dir\n",
    "# os.chdir(working_directory)"
   ]
  },
  {
   "cell_type": "code",
   "execution_count": null,
   "metadata": {},
   "outputs": [],
   "source": [
    "logging.basicConfig(level=logging.INFO, format=' %(asctime)s - %(levelname)s - %(message)s')"
   ]
  },
  {
   "cell_type": "code",
   "execution_count": null,
   "metadata": {},
   "outputs": [],
   "source": [
    "# 屏幕最大化，且指定下载目录\n",
    "options = webdriver.ChromeOptions()\n",
    "options.add_argument(\"--start-maximized\")\n",
    "\n",
    "prefs = {\"profile.default_content_settings.popups\": 0,\n",
    "         \"directory_upgrade\": True,\n",
    "         \"profile.default_content_setting_values.notifications\" : 2}\n",
    "options.add_experimental_option(\"prefs\", prefs)"
   ]
  },
  {
   "cell_type": "code",
   "execution_count": null,
   "metadata": {},
   "outputs": [],
   "source": [
    "# 使用chromedriver才可以用开发者权限\n",
    "chrome_driver_path = \".//chrome_driver//chromedriver.exe\" # 获取脚本的当前路径，避免计划执行时路径出错\n",
    "# home_dir = os.path.dirname(os.path.realpath(__file__))\n",
    "# # 更换workding directory\n",
    "# working_directory = home_dir\n",
    "# os.chdir(working_directory)r//chromedriver.exe\"\n",
    "# browser = webdriver.Chrome(chrome_driver_path, chrome_options=options)"
   ]
  },
  {
   "cell_type": "code",
   "execution_count": null,
   "metadata": {},
   "outputs": [],
   "source": [
    "# main page\n",
    "# main_page_url = \"http://shopee.sg\"\n",
    "\n",
    "# shop_info = [[\"https://shopee.co.id\", 'tengus.id', 'tengus1803', 11184349, '+ Ikuti'],\n",
    "#              ['https://shopee.sg', 'tengus1.sg', 'tengus1803', 11918, '+ Follow'],\n",
    "#              ['https://shopee.ph', 'tengus.ph', 'tengus1803', 2215148, '+ Follow']]\n",
    "\n",
    "shop_info = [['https://shopee.sg', 'tengus1.sg', 'tengus1803', 11918, '+ Follow'],\n",
    "             ['https://shopee.ph', 'tengus.ph', 'tengus1803', 2215148, '+ Follow'],\n",
    "             ['https://shopee.com.my', 'tengus2.my', 'tengus1803', 145423, '+ Follow']]\n",
    "\n",
    "# shop_info = [['https://shopee.ph', 'tengus.ph', 'tengus1803', 2215148, '+ Follow']]\n",
    "\n",
    "# main_page_url = \"http://shopee.co.id\"\n",
    "# browser.get(main_page_url)\n",
    "\n",
    "# # remove ads, refresh again\n",
    "# for i in range(5):\n",
    "#     browser.get(main_page_url)\n",
    "#     time.sleep(10)"
   ]
  },
  {
   "cell_type": "code",
   "execution_count": null,
   "metadata": {},
   "outputs": [],
   "source": [
    "# 重刷页面的脚本\n",
    "def open_page(browser, page_url):\n",
    "    i = 0\n",
    "    while i == 0:\n",
    "        try:\n",
    "            # browser = webdriver.Chrome(chrome_driver_path, chrome_options=options)\n",
    "            browser.get(page_url)\n",
    "            time.sleep(10)\n",
    "            i = 1\n",
    "        except:\n",
    "            pass\n",
    "        \n",
    "# 刷新\n",
    "def refresh_page(browser):\n",
    "    i = 0\n",
    "    while i == 0:\n",
    "        try:\n",
    "            # browser = webdriver.Chrome(chrome_driver_path, chrome_options=options)\n",
    "            browser.refresh()\n",
    "            time.sleep(10)\n",
    "            i = 1\n",
    "        except:\n",
    "            pass"
   ]
  },
  {
   "cell_type": "code",
   "execution_count": null,
   "metadata": {},
   "outputs": [],
   "source": [
    "# 关注及关注中多语言\n",
    "following_language = ['关注中', '關注中', 'Following', 'Mengikuti', 'กำลังติดตาม']\n",
    "not_following_language = ['+ 关注', '+ 關注', '+ Follow', '+ Ikuti', \"+ ติดตาม\"]"
   ]
  },
  {
   "cell_type": "code",
   "execution_count": null,
   "metadata": {
    "scrolled": true
   },
   "outputs": [],
   "source": [
    "for shop in shop_info:\n",
    "    home_page = shop[0]\n",
    "    shop_name = shop[1]\n",
    "    shop_psw = shop[2]\n",
    "    top_shop_id = shop[3]\n",
    "    follow_button_text = shop[4]\n",
    "    \n",
    "    browser = webdriver.Chrome(chrome_driver_path, chrome_options=options)\n",
    "    open_page(browser, home_page)\n",
    "    \n",
    "    # remove ads, refresh again\n",
    "    for i in range(5):\n",
    "        refresh_page(browser)\n",
    "\n",
    "    # if the shop is on my site, should press the button to choose language\n",
    "    if home_page == 'https://shopee.com.my':\n",
    "        language_selector = browser.find_elements_by_css_selector('.shopee-button-outline.shopee-button-outline--primary-reverse')\n",
    "        language_selector[2].click()\n",
    "        logging.info('Choose Chinese as language.')\n",
    "        time.sleep(10)        \n",
    "        \n",
    "    # login\n",
    "    LoginElem = browser.find_elements_by_css_selector('.navbar__link.navbar__link--account.navbar__link--tappable.navbar__link--hoverable.navbar__link-text.navbar__link-text--medium')\n",
    "    '''\n",
    "    有关Selenium Compound class names not permitted的错误\n",
    "    可以参考https://stackoverflow.com/questions/37771604/selenium-compound-class-names-not-permitted\n",
    "    使用css_selector解决即可\n",
    "    '''\n",
    "    # 点击登入，弹出账户密码输入框\n",
    "    LoginElem[1].click()\n",
    "    time.sleep(10)\n",
    "    \n",
    "    acc_password_input_elem = browser.find_elements_by_css_selector('._3Ojta0._2A9mXk')\n",
    "    try:\n",
    "        acc_password_input_elem[0].click()\n",
    "        acc_password_input_elem[0].send_keys(shop_name)\n",
    "        acc_password_input_elem[1].click()\n",
    "        acc_password_input_elem[1].send_keys(shop_psw)    \n",
    "    except:\n",
    "        time.sleep(30)\n",
    "        acc_password_input_elem[0].click()\n",
    "        acc_password_input_elem[0].send_keys(shop_name)\n",
    "        acc_password_input_elem[1].click()\n",
    "        acc_password_input_elem[1].send_keys(shop_psw)  \n",
    "\n",
    "    time.sleep(10) \n",
    "    \n",
    "    Login_button_elem = browser.find_elements_by_css_selector('._1BMmPI._37G57D._7h_6kj._1qIIqG._3JP5il')\n",
    "    time.sleep(10)\n",
    "    Login_button_elem[0].click()\n",
    "    time.sleep(10)    \n",
    "    \n",
    "    top_shop_url = home_page + '/shop/' + str(top_shop_id) + '/followers/?__classic__=1'\n",
    "    open_page(browser, top_shop_url)\n",
    "    \n",
    "#     # add certain number of fans\n",
    "#     to_add_num_of_following = 400\n",
    "#     num_of_following_display = len(browser.find_elements_by_css_selector('.clickable_area.middle-centered-div'))\n",
    "    \n",
    "#     following_buttons = browser.find_elements_by_css_selector('.btn-follow.follow.L14')\n",
    "#     # len(following_buttons)   \n",
    "    \n",
    "#     i = 0\n",
    "#     total_add_num_of_following = to_add_num_of_following\n",
    "    \n",
    "#     browser.find_element_by_css_selector('body').send_keys(Keys.CONTROL + Keys.HOME)\n",
    "    \n",
    "#     while i <= total_add_num_of_following - 1:  \n",
    "#         while to_add_num_of_following > 0:\n",
    "#             if i + 1 > len(following_buttons):\n",
    "#                 browser.find_element_by_css_selector('body').send_keys(Keys.PAGE_DOWN)\n",
    "#                 time.sleep(10)\n",
    "\n",
    "#             following_buttons = browser.find_elements_by_css_selector('.btn-follow.follow.L14')\n",
    "#             logging.info('Now we have ' + str(len(following_buttons)) + ' following buttons on the screen.')\n",
    "#             logging.info('Now run the ' + str(i + 1) + ' time.')\n",
    "#             # if following_buttons[i].text == '+ 關注':\n",
    "#             # if following_buttons[i].text == '+ ติดตาม':\n",
    "#             # if following_buttons[i].text == '+ Follow':\n",
    "#             if following_buttons[i].text == follow_button_text:\n",
    "#                 # print(following_buttons[i].text)\n",
    "#                 shopid = following_buttons[i].get_attribute('shopid')\n",
    "#                 following_buttons[i].click()\n",
    "#                 time.sleep(5)\n",
    "#                 to_add_num_of_following -= 1\n",
    "#                 logging.info(str(shopid) + ' is following now, ' + str(to_add_num_of_following) + ' following remains.')\n",
    "#             else:\n",
    "#                 logging.warning('Skip this one. It\\'s following already.')\n",
    "#             i += 1    \n",
    "\n",
    "\n",
    "    # add certain number of fans\n",
    "    to_add_num_of_following = 400\n",
    "    num_of_following_display = len(browser.find_elements_by_css_selector('.clickable_area.middle-centered-div'))\n",
    "    \n",
    "    # page down until we get at least 400 fans to cancel\n",
    "    logging.info('Start to roll down.')\n",
    "    while num_of_following_display <= 5000:\n",
    "        body = browser.find_element_by_css_selector('body')\n",
    "        # body.send_keys(Keys.PAGE_DOWN)\n",
    "        body.send_keys(Keys.END)\n",
    "        time.sleep(2)\n",
    "        num_of_following_display = len(browser.find_elements_by_css_selector('.clickable_area.middle-centered-div'))\n",
    "    following_buttons = browser.find_elements_by_css_selector('.btn-follow.follow.L14')\n",
    "    \n",
    "    # start to follow buyers from top shop\n",
    "    logging.info('Start to follow buyers.')\n",
    "    i = 0\n",
    "    total_add_num_of_following = to_add_num_of_following\n",
    "    scroll_to_the_top = browser.find_element_by_css_selector('body').send_keys(Keys.CONTROL + Keys.HOME)\n",
    "\n",
    "    while i <= total_add_num_of_following - 1:  \n",
    "        while to_add_num_of_following > 0:\n",
    "            logging.info('Now run the ' + str(i + 1) + ' time.')\n",
    "            if following_buttons[i].text in not_following_language:\n",
    "                # print(following_buttons[i].text)\n",
    "                buyer_shopid = following_buttons[i].get_attribute('shopid')\n",
    "                following_buttons[i].click()\n",
    "                time.sleep(1)\n",
    "                to_add_num_of_following -= 1\n",
    "                logging.info(shop_name + ': ' + str(buyer_shopid) + ' is following now, ' + str(to_add_num_of_following) + ' following remains.')\n",
    "            else:\n",
    "                logging.info('Skip this one. It\\'s following already.')\n",
    "            i += 1                \n",
    "            \n",
    "            \n",
    "    # 关闭\n",
    "    browser.quit()"
   ]
  },
  {
   "cell_type": "code",
   "execution_count": null,
   "metadata": {},
   "outputs": [],
   "source": [
    "# # login\n",
    "# LoginElem = browser.find_elements_by_css_selector('.navbar__link.navbar__link--account.navbar__link--tappable.navbar__link--hoverable.navbar__link-text.navbar__link-text--medium')\n",
    "# '''\n",
    "# 有关Selenium Compound class names not permitted的错误\n",
    "# 可以参考https://stackoverflow.com/questions/37771604/selenium-compound-class-names-not-permitted\n",
    "# 使用css_selector解决即可\n",
    "# '''\n",
    "# # 点击登入，弹出账户密码输入框\n",
    "# LoginElem[1].click()\n",
    "# time.sleep(10)"
   ]
  },
  {
   "cell_type": "code",
   "execution_count": null,
   "metadata": {},
   "outputs": [],
   "source": [
    "# acc_password_input_elem = browser.find_elements_by_css_selector('._2QBp41._1b-IZR')\n",
    "# try:\n",
    "# #     acc_password_input_elem[0].click()\n",
    "# #     acc_password_input_elem[0].send_keys('tengus1.sg')\n",
    "# #     acc_password_input_elem[1].click()\n",
    "# #     acc_password_input_elem[1].send_keys('tengus1803')\n",
    "    \n",
    "#     acc_password_input_elem[0].click()\n",
    "#     acc_password_input_elem[0].send_keys('tengus.id')\n",
    "#     acc_password_input_elem[1].click()\n",
    "#     acc_password_input_elem[1].send_keys('tengus1803')    \n",
    "# except:\n",
    "#     time.sleep(30)\n",
    "# #     acc_password_input_elem = browser.find_elements_by_css_selector('._2QBp41._1b-IZR')\n",
    "# #     acc_password_input_elem[0].click()\n",
    "# #     acc_password_input_elem[0].send_keys('tengus1.sg')\n",
    "# #     acc_password_input_elem[1].click()\n",
    "# #     acc_password_input_elem[1].send_keys('tengus1803')\n",
    "\n",
    "#     acc_password_input_elem[0].click()\n",
    "#     acc_password_input_elem[0].send_keys('tengus.id')\n",
    "#     acc_password_input_elem[1].click()\n",
    "#     acc_password_input_elem[1].send_keys('tengus1803')  \n",
    "\n",
    "# time.sleep(10)"
   ]
  },
  {
   "cell_type": "code",
   "execution_count": null,
   "metadata": {},
   "outputs": [],
   "source": [
    "# Login_button_elem = browser.find_elements_by_css_selector('._2DvX7K._3j9-lD._3ddytl.SjORHu')\n",
    "# time.sleep(10)\n",
    "# Login_button_elem[0].click()\n",
    "# time.sleep(10)"
   ]
  },
  {
   "cell_type": "code",
   "execution_count": null,
   "metadata": {},
   "outputs": [],
   "source": [
    "# change current tab size\n",
    "# browser.set_window_size(400, 862)    "
   ]
  },
  {
   "cell_type": "code",
   "execution_count": null,
   "metadata": {},
   "outputs": [],
   "source": [
    "# # add fans from Top Seller's shop\n",
    "# # top_shop_id = 11918 # sg\n",
    "# top_shop_id = 145423 # id\n",
    "\n",
    "# # top_shop_url = 'https://shopee.sg/shop/' + str(top_shop_id) + '/followers/?__classic__=1'\n",
    "# top_shop_url = 'https://shopee.co.id/shop/' + str(top_shop_id) + '/followers/?__classic__=1'\n",
    "# browser.get(top_shop_url)"
   ]
  },
  {
   "cell_type": "code",
   "execution_count": null,
   "metadata": {},
   "outputs": [],
   "source": [
    "# # add certain number of fans\n",
    "# to_add_num_of_following = 400\n",
    "# num_of_following_display = len(browser.find_elements_by_css_selector('.clickable_area.middle-centered-div'))"
   ]
  },
  {
   "cell_type": "code",
   "execution_count": null,
   "metadata": {},
   "outputs": [],
   "source": [
    "# page down until we get at least 400 fans to cancel\n",
    "# while num_of_following_display <= 1000:\n",
    "    # body = browser.find_element_by_css_selector('body')\n",
    "    # body.send_keys(Keys.PAGE_DOWN)\n",
    "    # body.send_keys(Keys.END)\n",
    "    # time.sleep(5)\n",
    "    # num_of_following_display = len(browser.find_elements_by_css_selector('.clickable_area.middle-centered-div'))\n",
    "    \n",
    "# num_of_following_display"
   ]
  },
  {
   "cell_type": "code",
   "execution_count": null,
   "metadata": {},
   "outputs": [],
   "source": [
    "# following_buttons = browser.find_elements_by_css_selector('.btn-follow.follow.L14')\n",
    "# # len(following_buttons)"
   ]
  },
  {
   "cell_type": "code",
   "execution_count": null,
   "metadata": {},
   "outputs": [],
   "source": [
    "# i = 0\n",
    "# total_add_num_of_following = to_add_num_of_following"
   ]
  },
  {
   "cell_type": "code",
   "execution_count": null,
   "metadata": {},
   "outputs": [],
   "source": [
    "# browser.find_element_by_css_selector('body').send_keys(Keys.CONTROL + Keys.HOME)"
   ]
  },
  {
   "cell_type": "code",
   "execution_count": null,
   "metadata": {
    "scrolled": true
   },
   "outputs": [],
   "source": [
    "# while i <= total_add_num_of_following - 1:  \n",
    "#     while to_add_num_of_following > 0:\n",
    "#         if i + 1 > len(following_buttons):\n",
    "#             browser.find_element_by_css_selector('body').send_keys(Keys.PAGE_DOWN)\n",
    "#             time.sleep(10)\n",
    "        \n",
    "#         following_buttons = browser.find_elements_by_css_selector('.btn-follow.follow.L14')\n",
    "#         logging.info('Now we have ' + str(len(following_buttons)) + ' following buttons on the screen.')\n",
    "#         logging.info('Now run the ' + str(i + 1) + ' time.')\n",
    "#         # if following_buttons[i].text == '+ 關注':\n",
    "#         # if following_buttons[i].text == '+ ติดตาม':\n",
    "#         # if following_buttons[i].text == '+ Follow':\n",
    "#         if following_buttons[i].text == '+ Ikuti':\n",
    "#             # print(following_buttons[i].text)\n",
    "#             shopid = following_buttons[i].get_attribute('shopid')\n",
    "#             following_buttons[i].click()\n",
    "#             time.sleep(5)\n",
    "#             to_add_num_of_following -= 1\n",
    "#             logging.info(str(shopid) + ' is following now, ' + str(to_add_num_of_following) + ' following remains.')\n",
    "#         else:\n",
    "#             logging.warning('Skip this one. It\\'s following already.')\n",
    "#         i += 1"
   ]
  },
  {
   "cell_type": "code",
   "execution_count": null,
   "metadata": {},
   "outputs": [],
   "source": [
    "# # 关闭\n",
    "# browser.quit()"
   ]
  }
 ],
 "metadata": {
  "anaconda-cloud": {},
  "kernelspec": {
   "display_name": "Python 3",
   "language": "python",
   "name": "python3"
  },
  "language_info": {
   "codemirror_mode": {
    "name": "ipython",
    "version": 3
   },
   "file_extension": ".py",
   "mimetype": "text/x-python",
   "name": "python",
   "nbconvert_exporter": "python",
   "pygments_lexer": "ipython3",
   "version": "3.7.3"
  }
 },
 "nbformat": 4,
 "nbformat_minor": 1
}
