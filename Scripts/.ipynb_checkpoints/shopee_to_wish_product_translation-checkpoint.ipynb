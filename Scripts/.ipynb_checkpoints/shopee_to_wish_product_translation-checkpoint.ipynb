{
 "cells": [
  {
   "cell_type": "code",
   "execution_count": 15,
   "metadata": {
    "collapsed": true
   },
   "outputs": [],
   "source": [
    "import pandas as pd\n",
    "import os\n",
    "import time\n",
    "import logging\n",
    "from datetime import date"
   ]
  },
  {
   "cell_type": "code",
   "execution_count": 16,
   "metadata": {
   },
   "outputs": [],
   "source": [
    "from googletrans import Translator"
   ]
  },
  {
   "cell_type": "code",
   "execution_count": 17,
   "metadata": {
    "collapsed": true
   },
   "outputs": [],
   "source": [
    "proxy = 'http://127.0.0.1:1080'\n",
    "os.environ['http_proxy'] = proxy \n",
    "os.environ['HTTP_PROXY'] = proxy\n",
    "os.environ['https_proxy'] = proxy\n",
    "os.environ['HTTPS_PROXY'] = proxy"
   ]
  },
  {
   "cell_type": "code",
   "execution_count": 18,
   "metadata": {
    "collapsed": true
   },
   "outputs": [],
   "source": [
    "logging.basicConfig(level=logging.INFO, format=' %(asctime)s - %(levelname)s - %(message)s')"
   ]
  },
  {
   "cell_type": "code",
   "execution_count": 19,
   "metadata": {
    "collapsed": true
   },
   "outputs": [],
   "source": [
    "translator = Translator(service_urls=[\n",
    "      'translate.google.com',\n",
    "      'translate.google.co.kr',\n",
    "    ])"
   ]
  },
  {
   "cell_type": "code",
   "execution_count": 23,
   "metadata": {},
   "outputs": [
    {
     "data": {
      "text/html": [
       "<div>\n",
       "<table border=\"1\" class=\"dataframe\">\n",
       "  <thead>\n",
       "    <tr style=\"text-align: right;\">\n",
       "      <th></th>\n",
       "      <th>*ParentSKU</th>\n",
       "      <th>*产品标题</th>\n",
       "      <th>*产品描述</th>\n",
       "    </tr>\n",
       "  </thead>\n",
       "  <tbody>\n",
       "    <tr>\n",
       "      <th>0</th>\n",
       "      <td>614488092281_5614小猫咪粉色</td>\n",
       "      <td>夏季新款婴幼儿爬服纯棉短袖宝宝哈衣创意款卡通造型儿童连体衣</td>\n",
       "      <td>货源类别:现货\\n颜色:5614小猫咪粉色,5614小猫咪蓝色\\n产品类别:连身衣、爬服\\n...</td>\n",
       "    </tr>\n",
       "    <tr>\n",
       "      <th>1</th>\n",
       "      <td>614488092281_5614小猫咪蓝色</td>\n",
       "      <td>夏季新款婴幼儿爬服纯棉短袖宝宝哈衣创意款卡通造型儿童连体衣</td>\n",
       "      <td>货源类别:现货\\n颜色:5614小猫咪粉色,5614小猫咪蓝色\\n产品类别:连身衣、爬服\\n...</td>\n",
       "    </tr>\n",
       "    <tr>\n",
       "      <th>2</th>\n",
       "      <td>602628082511_蓝色小猪L码</td>\n",
       "      <td>婴儿抱被新生儿纯棉春秋薄棉防惊跳襁褓包巾80克棉</td>\n",
       "      <td>图案:卡通,动物\\n货号:1098\\n品牌:BDL/比多乐\\n货源类别:现货\\n产品类别:包...</td>\n",
       "    </tr>\n",
       "    <tr>\n",
       "      <th>3</th>\n",
       "      <td>602628082511_粉色小猪L码</td>\n",
       "      <td>婴儿抱被新生儿纯棉春秋薄棉防惊跳襁褓包巾80克棉</td>\n",
       "      <td>图案:卡通,动物\\n货号:1098\\n品牌:BDL/比多乐\\n货源类别:现货\\n产品类别:包...</td>\n",
       "    </tr>\n",
       "    <tr>\n",
       "      <th>4</th>\n",
       "      <td>602628082511_橙色小猪L码</td>\n",
       "      <td>婴儿抱被新生儿纯棉春秋薄棉防惊跳襁褓包巾80克棉</td>\n",
       "      <td>图案:卡通,动物\\n货号:1098\\n品牌:BDL/比多乐\\n货源类别:现货\\n产品类别:包...</td>\n",
       "    </tr>\n",
       "  </tbody>\n",
       "</table>\n",
       "</div>"
      ],
      "text/plain": [
       "               *ParentSKU                          *产品标题  \\\n",
       "0  614488092281_5614小猫咪粉色  夏季新款婴幼儿爬服纯棉短袖宝宝哈衣创意款卡通造型儿童连体衣   \n",
       "1  614488092281_5614小猫咪蓝色  夏季新款婴幼儿爬服纯棉短袖宝宝哈衣创意款卡通造型儿童连体衣   \n",
       "2     602628082511_蓝色小猪L码       婴儿抱被新生儿纯棉春秋薄棉防惊跳襁褓包巾80克棉   \n",
       "3     602628082511_粉色小猪L码       婴儿抱被新生儿纯棉春秋薄棉防惊跳襁褓包巾80克棉   \n",
       "4     602628082511_橙色小猪L码       婴儿抱被新生儿纯棉春秋薄棉防惊跳襁褓包巾80克棉   \n",
       "\n",
       "                                               *产品描述  \n",
       "0  货源类别:现货\\n颜色:5614小猫咪粉色,5614小猫咪蓝色\\n产品类别:连身衣、爬服\\n...  \n",
       "1  货源类别:现货\\n颜色:5614小猫咪粉色,5614小猫咪蓝色\\n产品类别:连身衣、爬服\\n...  \n",
       "2  图案:卡通,动物\\n货号:1098\\n品牌:BDL/比多乐\\n货源类别:现货\\n产品类别:包...  \n",
       "3  图案:卡通,动物\\n货号:1098\\n品牌:BDL/比多乐\\n货源类别:现货\\n产品类别:包...  \n",
       "4  图案:卡通,动物\\n货号:1098\\n品牌:BDL/比多乐\\n货源类别:现货\\n产品类别:包...  "
      ]
     },
     "execution_count": 23,
     "metadata": {},
     "output_type": "execute_result"
    }
   ],
   "source": [
    "folder_path = '..//shopee_product_translation'\n",
    "tw_site_product_list = pd.read_excel(os.path.join(folder_path, 'wish产品上新表.xlsx'), sheetname='产品名+产品描述')\n",
    "tw_site_product_list.head(5)"
   ]
  },
  {
   "cell_type": "code",
   "execution_count": 21,
   "metadata": {},
   "outputs": [],
   "source": [
    "today = date.today()\n",
    "d1 = today.strftime(\"%Y_%m_%d\")\n",
    "\n",
    "translate_columns = ['*产品标题', '*产品描述']"
   ]
  },
  {
   "cell_type": "code",
   "execution_count": 22,
   "metadata": {},
   "outputs": [],
   "source": [
    "for index, row in tw_site_product_list.iterrows():\n",
    "    translated = 0\n",
    "    while translated == 0:\n",
    "        try:\n",
    "            list_to_translate = []\n",
    "            for i, value in enumerate(translate_columns):\n",
    "                list_to_translate.append(row[translate_columns[i]])\n",
    "\n",
    "            # translate_language = 'id'\n",
    "            translate_language = 'en'\n",
    "            translator = Translator(service_urls=['translate.google.com'])\n",
    "            list_be_translated = translator.translate(list_to_translate, dest=translate_language, src='zh-CN')\n",
    "            # list_be_translated = translator.translate(list_to_translate, dest=translate_language)\n",
    "            time.sleep(10)\n",
    "\n",
    "            i = 0\n",
    "            for translate_language in list_be_translated:\n",
    "                tw_site_product_list.at[index, translate_columns[i]] = translate_language.text\n",
    "                i += 1\n",
    "\n",
    "            if (index + 1) % 100 == 0:\n",
    "                logging.info(str(index + 1) + ' rows have been translated.')\n",
    "\n",
    "            tw_site_product_list.to_excel(os.path.join(folder_path, 'translated_product_' + d1 + '.xlsx'), index=False)\n",
    "            translated = 1\n",
    "        except Exception as err:\n",
    "            logging.warning(str(index + 1) + ' rows have not been translated. Error message: ' + str(err) + ', try again.')\n",
    "            pass        "
   ]
  }
 ],
 "metadata": {
  "anaconda-cloud": {},
  "kernelspec": {
   "display_name": "Python [conda env:Anaconda3]",
   "language": "python",
   "name": "conda-env-Anaconda3-py"
  },
  "language_info": {
   "codemirror_mode": {
    "name": "ipython",
    "version": 3
   },
   "file_extension": ".py",
   "mimetype": "text/x-python",
   "name": "python",
   "nbconvert_exporter": "python",
   "pygments_lexer": "ipython3",
   "version": "3.5.2"
  }
 },
 "nbformat": 4,
 "nbformat_minor": 1
}
