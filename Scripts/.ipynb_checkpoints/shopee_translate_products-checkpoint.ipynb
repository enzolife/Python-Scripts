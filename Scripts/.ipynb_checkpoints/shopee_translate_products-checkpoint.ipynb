{
 "cells": [
  {
   "cell_type": "code",
   "execution_count": 261,
   "metadata": {},
   "outputs": [],
   "source": [
    "import pandas as pd\n",
    "import os\n",
    "import time\n",
    "import logging\n",
    "from datetime import date"
   ]
  },
  {
   "cell_type": "code",
   "execution_count": 262,
   "metadata": {},
   "outputs": [],
   "source": [
    "from googletrans import Translator"
   ]
  },
  {
   "cell_type": "code",
   "execution_count": 263,
   "metadata": {},
   "outputs": [],
   "source": [
    "# # 获取脚本的当前路径，避免计划执行时路径出错\n",
    "# home_dir = os.path.dirname(os.path.realpath(__file__))\n",
    "# # 更换workding directory\n",
    "# working_directory = home_dir\n",
    "# os.chdir(working_directory)"
   ]
  },
  {
   "cell_type": "code",
   "execution_count": 264,
   "metadata": {},
   "outputs": [],
   "source": [
    "proxy = 'http://127.0.0.1:1080'\n",
    "os.environ['http_proxy'] = proxy \n",
    "os.environ['HTTP_PROXY'] = proxy\n",
    "os.environ['https_proxy'] = proxy\n",
    "os.environ['HTTPS_PROXY'] = proxy"
   ]
  },
  {
   "cell_type": "code",
   "execution_count": 265,
   "metadata": {},
   "outputs": [],
   "source": [
    "# translator = Translator(service_urls=[\n",
    "#       'translate.google.com',\n",
    "#       'translate.google.co.kr',\n",
    "#     ])\n",
    "# translator.translate('韩国', dest='ko').text"
   ]
  },
  {
   "cell_type": "code",
   "execution_count": 266,
   "metadata": {},
   "outputs": [],
   "source": [
    "logging.basicConfig(level=logging.INFO, format=' %(asctime)s - %(levelname)s - %(message)s')"
   ]
  },
  {
   "cell_type": "code",
   "execution_count": 267,
   "metadata": {},
   "outputs": [],
   "source": [
    "folder_path = '../shopee_product_translation/'\n",
    "tw_site_product_list = pd.read_excel(os.path.join(folder_path, 'tengus_tw_product_list.xlsx'))\n",
    "# tw_site_product_list = pd.read_excel(os.path.join(folder_path, 'translated_product_2019_10_19.xlsx'))\n",
    "# tw_site_product_list = tw_site_product_list[tw_site_product_list['是否翻译'] == 'no']\n",
    "# tw_site_product_list.head(5)"
   ]
  },
  {
   "cell_type": "code",
   "execution_count": 268,
   "metadata": {},
   "outputs": [],
   "source": [
    "# tw_site_product_list.columns"
   ]
  },
  {
   "cell_type": "code",
   "execution_count": 269,
   "metadata": {},
   "outputs": [],
   "source": [
    "# tw_site# 获取脚本的当前路径，避免计划执行时路径出错\n",
    "# home_dir = os.path.dirname(os.path.realpath(__file__))\n",
    "# # 更换workding directory\n",
    "# working_directory = home_dir\n",
    "# os.chdir(working_directory)_product_list = tw_site_product_list[tw_site_product_list['产品id'] == 2496637042]"
   ]
  },
  {
   "cell_type": "code",
   "execution_count": 270,
   "metadata": {
    "scrolled": false
   },
   "outputs": [],
   "source": [
    "# top_cat_in_tw = tw_site_product_list[['分类ID', '产品id']].groupby('分类ID').agg({'产品id': 'nunique'}).reset_index().sort_values(by='产品id', ascending=False).reset_index().head(5)\n",
    "# top_cat_in_tw"
   ]
  },
  {
   "cell_type": "code",
   "execution_count": 271,
   "metadata": {},
   "outputs": [],
   "source": [
    "# top_cat_id = top_cat_in_tw['分类ID'][0]\n",
    "# top_cat_id"
   ]
  },
  {
   "cell_type": "code",
   "execution_count": 272,
   "metadata": {},
   "outputs": [],
   "source": [
    "output_excel_columns = [\n",
    "                        '变种名称',\n",
    "                        '变种属性名称一',\n",
    "                        '变种属性名称二',\n",
    "                        '变种属性值一',\n",
    "                        '变种属性值二',\n",
    "                        '*价格（必填）',\n",
    "                        '促销价',\n",
    "                        '折扣活动ID',\n",
    "                        '*库存（必填）',\n",
    "                        '*重量(kg)(必填）',\n",
    "                        '*主图（URL）地址（必填）',\n",
    "                        '附图1',\n",
    "                        '附图2',\n",
    "                        '附图3',\n",
    "                        '附图4',\n",
    "                        '附图5',\n",
    "                        '附图6',\n",
    "                        '附图7',\n",
    "                        '附图8',\n",
    "                        '变种图',\n",
    "                        '长(cm)',\n",
    "                        '宽(cm)',\n",
    "                        '高(cm)',\n",
    "                        '发货期',\n",
    "                        '来源URL',\n",
    "                        '尺码图'\n",
    "]"
   ]
  },
  {
   "cell_type": "code",
   "execution_count": 273,
   "metadata": {},
   "outputs": [],
   "source": [
    "tw_site_product_list_selected_columns = ['分类ID', '产品属性', 'Parent SKU', '产品标题', '产品描述', 'sku', '变种名称', '变种属性名称一',\n",
    "       '变种属性名称二', '变种属性值一', '变种属性值二', '价格', '促销价', '折扣活动ID', '库存', '重量', '主图（URL）地址', '附图1',\n",
    "       '附图2', '附图3', '附图4', '附图5', '附图6', '附图7', '附图8地址', '变种图', '长（cm）',\n",
    "       '宽（cm）', '高（cm）', '发货期', '来源URL', '尺码图']"
   ]
  },
  {
   "cell_type": "code",
   "execution_count": 274,
   "metadata": {},
   "outputs": [],
   "source": [
    "tw_site_product_list_with_selected_columns = tw_site_product_list[tw_site_product_list_selected_columns]\n",
    "# tw_site_product_list_with_selected_columns.head(5)"
   ]
  },
  {
   "cell_type": "code",
   "execution_count": 275,
   "metadata": {},
   "outputs": [],
   "source": [
    "# tw_site_product_list_with_selected_columns = tw_site_product_list_with_selected_columns[tw_site_product_list_with_selected_columns['分类ID'] == top_cat_id].reset_index()\n",
    "# tw_site_product_list_with_selected_columns"
   ]
  },
  {
   "cell_type": "code",
   "execution_count": 276,
   "metadata": {},
   "outputs": [
    {
     "name": "stderr",
     "output_type": "stream",
     "text": [
      "C:\\ProgramData\\Anaconda3\\lib\\site-packages\\ipykernel_launcher.py:2: SettingWithCopyWarning: \n",
      "A value is trying to be set on a copy of a slice from a DataFrame.\n",
      "Try using .loc[row_indexer,col_indexer] = value instead\n",
      "\n",
      "See the caveats in the documentation: http://pandas.pydata.org/pandas-docs/stable/user_guide/indexing.html#returning-a-view-versus-a-copy\n",
      "  \n"
     ]
    }
   ],
   "source": [
    "# 把1688的来源url拆出来，把productid填充为parent sku\n",
    "tw_site_product_list_with_selected_columns['Parent SKU'] = tw_site_product_list_with_selected_columns['来源URL'].str.split(\"/\", n = 4, expand = True)[4].str.split(\".\", n = 1, expand=True)[0]\n",
    "# tw_site_product_list_with_selected_columns.head(5)"
   ]
  },
  {
   "cell_type": "code",
   "execution_count": 277,
   "metadata": {},
   "outputs": [],
   "source": [
    "# remove emoji\n",
    "import re\n",
    "\n",
    "emoji_pattern = re.compile(\n",
    "                u'['\n",
    "                u'\\U0001F300-\\U0001F64F'\n",
    "                u'\\U0001F680-\\U0001F6FF'\n",
    "                u'\\u2600-\\u2B55'\n",
    "                u'\\u23cf'\n",
    "                u'\\u23e9'\n",
    "                u'\\u231a'\n",
    "                u'\\u3030'\n",
    "                u'\\ufe0f'\n",
    "                u\"\\U0001F600-\\U0001F64F\"  # emoticons\n",
    "                u\"\\U0001F300-\\U0001F5FF\"  # symbols & pictographs\n",
    "                u'\\U00010000-\\U0010ffff'\n",
    "                u'\\U0001F1E0-\\U0001F1FF'  # flags (iOS)\n",
    "                u'\\U00002702-\\U000027B0]+', flags=re.UNICODE)\n",
    "\n",
    "def remove_emoji(text):\n",
    "    return emoji_pattern.sub(r'', text)\n",
    "\n",
    "# remove_emoji('ins爆款 🥕胡蘿卜🥕寶寶針織竹節棉爬服 嬰兒兔裝 嬰兒連身衣 寶寶包屁衣連身衣 中間開襟包屁衣 寶寶連體衣哈衣爬服')"
   ]
  },
  {
   "cell_type": "code",
   "execution_count": 278,
   "metadata": {},
   "outputs": [
    {
     "name": "stderr",
     "output_type": "stream",
     "text": [
      "C:\\ProgramData\\Anaconda3\\lib\\site-packages\\ipykernel_launcher.py:1: SettingWithCopyWarning: \n",
      "A value is trying to be set on a copy of a slice from a DataFrame.\n",
      "Try using .loc[row_indexer,col_indexer] = value instead\n",
      "\n",
      "See the caveats in the documentation: http://pandas.pydata.org/pandas-docs/stable/user_guide/indexing.html#returning-a-view-versus-a-copy\n",
      "  \"\"\"Entry point for launching an IPython kernel.\n",
      "C:\\ProgramData\\Anaconda3\\lib\\site-packages\\ipykernel_launcher.py:2: SettingWithCopyWarning: \n",
      "A value is trying to be set on a copy of a slice from a DataFrame.\n",
      "Try using .loc[row_indexer,col_indexer] = value instead\n",
      "\n",
      "See the caveats in the documentation: http://pandas.pydata.org/pandas-docs/stable/user_guide/indexing.html#returning-a-view-versus-a-copy\n",
      "  \n"
     ]
    }
   ],
   "source": [
    "tw_site_product_list_with_selected_columns['产品标题'] = [remove_emoji(x) for x in tw_site_product_list_with_selected_columns['产品标题']]\n",
    "tw_site_product_list_with_selected_columns['产品描述'] = [remove_emoji(x) for x in tw_site_product_list_with_selected_columns['产品描述']]"
   ]
  },
  {
   "cell_type": "code",
   "execution_count": 279,
   "metadata": {},
   "outputs": [],
   "source": [
    "# 去掉某些字眼\n",
    "def remove_words(text, word):\n",
    "    return text.replace(word, \"\")\n",
    "\n",
    "# remove_words('爆款哈哈ha', '爆款')"
   ]
  },
  {
   "cell_type": "code",
   "execution_count": 280,
   "metadata": {},
   "outputs": [
    {
     "name": "stderr",
     "output_type": "stream",
     "text": [
      "C:\\ProgramData\\Anaconda3\\lib\\site-packages\\ipykernel_launcher.py:9: SettingWithCopyWarning: \n",
      "A value is trying to be set on a copy of a slice from a DataFrame.\n",
      "Try using .loc[row_indexer,col_indexer] = value instead\n",
      "\n",
      "See the caveats in the documentation: http://pandas.pydata.org/pandas-docs/stable/user_guide/indexing.html#returning-a-view-versus-a-copy\n",
      "  if __name__ == '__main__':\n",
      "C:\\ProgramData\\Anaconda3\\lib\\site-packages\\ipykernel_launcher.py:10: SettingWithCopyWarning: \n",
      "A value is trying to be set on a copy of a slice from a DataFrame.\n",
      "Try using .loc[row_indexer,col_indexer] = value instead\n",
      "\n",
      "See the caveats in the documentation: http://pandas.pydata.org/pandas-docs/stable/user_guide/indexing.html#returning-a-view-versus-a-copy\n",
      "  # Remove the CWD from sys.path while we load stuff.\n"
     ]
    }
   ],
   "source": [
    "# 需要去除的字眼\n",
    "words_to_remove = ['爆款', 'Aliexpress', 'AliExpres',\n",
    "                   'Wish', 'wish', 'Ebay', 'ebay',\n",
    "                   'amazon', 'Amazon', '速卖通' ,\n",
    "                   '2019', '2018', '一件代发',\n",
    "                   '代发', '批发', 'Ins', 'INS', 'ins']\n",
    "\n",
    "for word in words_to_remove:\n",
    "    tw_site_product_list_with_selected_columns['产品标题'] = [remove_words(x, word) for x in tw_site_product_list_with_selected_columns['产品标题']]\n",
    "    tw_site_product_list_with_selected_columns['产品描述'] = [remove_words(x, word) for x in tw_site_product_list_with_selected_columns['产品描述']]"
   ]
  },
  {
   "cell_type": "code",
   "execution_count": 281,
   "metadata": {},
   "outputs": [
    {
     "name": "stderr",
     "output_type": "stream",
     "text": [
      "C:\\ProgramData\\Anaconda3\\lib\\site-packages\\ipykernel_launcher.py:2: SettingWithCopyWarning: \n",
      "A value is trying to be set on a copy of a slice from a DataFrame.\n",
      "Try using .loc[row_indexer,col_indexer] = value instead\n",
      "\n",
      "See the caveats in the documentation: http://pandas.pydata.org/pandas-docs/stable/user_guide/indexing.html#returning-a-view-versus-a-copy\n",
      "  \n",
      "C:\\ProgramData\\Anaconda3\\lib\\site-packages\\ipykernel_launcher.py:3: SettingWithCopyWarning: \n",
      "A value is trying to be set on a copy of a slice from a DataFrame.\n",
      "Try using .loc[row_indexer,col_indexer] = value instead\n",
      "\n",
      "See the caveats in the documentation: http://pandas.pydata.org/pandas-docs/stable/user_guide/indexing.html#returning-a-view-versus-a-copy\n",
      "  This is separate from the ipykernel package so we can avoid doing imports until\n",
      "C:\\ProgramData\\Anaconda3\\lib\\site-packages\\ipykernel_launcher.py:4: SettingWithCopyWarning: \n",
      "A value is trying to be set on a copy of a slice from a DataFrame.\n",
      "Try using .loc[row_indexer,col_indexer] = value instead\n",
      "\n",
      "See the caveats in the documentation: http://pandas.pydata.org/pandas-docs/stable/user_guide/indexing.html#returning-a-view-versus-a-copy\n",
      "  after removing the cwd from sys.path.\n",
      "C:\\ProgramData\\Anaconda3\\lib\\site-packages\\ipykernel_launcher.py:5: SettingWithCopyWarning: \n",
      "A value is trying to be set on a copy of a slice from a DataFrame.\n",
      "Try using .loc[row_indexer,col_indexer] = value instead\n",
      "\n",
      "See the caveats in the documentation: http://pandas.pydata.org/pandas-docs/stable/user_guide/indexing.html#returning-a-view-versus-a-copy\n",
      "  \"\"\"\n"
     ]
    }
   ],
   "source": [
    "# 物流属性\n",
    "tw_site_product_list_with_selected_columns['长（cm）'] = tw_site_product_list_with_selected_columns['长（cm）'].fillna(18)\n",
    "tw_site_product_list_with_selected_columns['宽（cm）'] = tw_site_product_list_with_selected_columns['宽（cm）'].fillna(13)\n",
    "tw_site_product_list_with_selected_columns['高（cm）'] = tw_site_product_list_with_selected_columns['高（cm）'].fillna(5)\n",
    "tw_site_product_list_with_selected_columns['发货期'] = tw_site_product_list_with_selected_columns['发货期'].fillna(2)"
   ]
  },
  {
   "cell_type": "code",
   "execution_count": 282,
   "metadata": {},
   "outputs": [
    {
     "data": {
      "text/plain": [
       "{'Color'}"
      ]
     },
     "execution_count": 282,
     "metadata": {},
     "output_type": "execute_result"
    }
   ],
   "source": [
    "set(tw_site_product_list_with_selected_columns['变种属性名称一'].tolist())"
   ]
  },
  {
   "cell_type": "code",
   "execution_count": 283,
   "metadata": {},
   "outputs": [
    {
     "data": {
      "text/plain": [
       "{nan,\n",
       " nan,\n",
       " nan,\n",
       " nan,\n",
       " nan,\n",
       " nan,\n",
       " nan,\n",
       " nan,\n",
       " nan,\n",
       " nan,\n",
       " nan,\n",
       " nan,\n",
       " nan,\n",
       " nan,\n",
       " nan,\n",
       " nan,\n",
       " nan,\n",
       " nan,\n",
       " nan,\n",
       " nan,\n",
       " nan,\n",
       " nan,\n",
       " nan,\n",
       " nan,\n",
       " nan,\n",
       " nan,\n",
       " nan,\n",
       " nan,\n",
       " nan,\n",
       " nan,\n",
       " nan,\n",
       " nan,\n",
       " nan,\n",
       " nan,\n",
       " nan,\n",
       " nan,\n",
       " nan,\n",
       " nan,\n",
       " nan,\n",
       " nan,\n",
       " nan,\n",
       " nan,\n",
       " nan,\n",
       " nan,\n",
       " nan,\n",
       " nan,\n",
       " nan,\n",
       " nan,\n",
       " nan,\n",
       " nan,\n",
       " nan,\n",
       " nan,\n",
       " nan,\n",
       " nan,\n",
       " nan,\n",
       " nan,\n",
       " nan,\n",
       " nan,\n",
       " nan,\n",
       " nan,\n",
       " nan,\n",
       " nan,\n",
       " nan,\n",
       " nan,\n",
       " nan,\n",
       " nan,\n",
       " nan,\n",
       " nan,\n",
       " nan,\n",
       " nan,\n",
       " nan,\n",
       " nan,\n",
       " nan,\n",
       " nan,\n",
       " nan,\n",
       " nan,\n",
       " nan,\n",
       " nan,\n",
       " nan,\n",
       " nan,\n",
       " nan,\n",
       " nan,\n",
       " nan,\n",
       " nan,\n",
       " nan,\n",
       " nan,\n",
       " nan,\n",
       " nan,\n",
       " nan,\n",
       " nan,\n",
       " nan,\n",
       " nan,\n",
       " nan,\n",
       " nan,\n",
       " nan,\n",
       " nan,\n",
       " nan,\n",
       " nan,\n",
       " nan,\n",
       " nan,\n",
       " nan,\n",
       " nan,\n",
       " nan,\n",
       " nan,\n",
       " nan,\n",
       " nan,\n",
       " nan,\n",
       " nan,\n",
       " nan,\n",
       " nan,\n",
       " nan,\n",
       " nan,\n",
       " nan,\n",
       " nan,\n",
       " nan,\n",
       " nan,\n",
       " nan,\n",
       " nan,\n",
       " nan,\n",
       " nan,\n",
       " nan,\n",
       " nan,\n",
       " nan,\n",
       " nan,\n",
       " nan,\n",
       " nan,\n",
       " nan,\n",
       " nan,\n",
       " nan,\n",
       " nan,\n",
       " nan,\n",
       " nan,\n",
       " nan,\n",
       " nan,\n",
       " nan,\n",
       " nan,\n",
       " nan,\n",
       " nan,\n",
       " nan,\n",
       " nan,\n",
       " nan,\n",
       " nan,\n",
       " nan,\n",
       " nan,\n",
       " nan,\n",
       " nan,\n",
       " nan,\n",
       " nan,\n",
       " nan,\n",
       " nan,\n",
       " nan,\n",
       " nan,\n",
       " nan,\n",
       " nan,\n",
       " nan,\n",
       " nan,\n",
       " nan,\n",
       " nan,\n",
       " nan,\n",
       " nan,\n",
       " nan,\n",
       " nan,\n",
       " nan,\n",
       " nan,\n",
       " nan,\n",
       " nan,\n",
       " nan,\n",
       " nan,\n",
       " nan,\n",
       " nan}"
      ]
     },
     "execution_count": 283,
     "metadata": {},
     "output_type": "execute_result"
    }
   ],
   "source": [
    "set(tw_site_product_list_with_selected_columns['变种属性名称二'].tolist())"
   ]
  },
  {
   "cell_type": "code",
   "execution_count": 284,
   "metadata": {},
   "outputs": [
    {
     "data": {
      "text/plain": [
       "{'10号',\n",
       " '10号小熊吃蜂蜜',\n",
       " '10号蓝色小西服',\n",
       " '10号黄色小狗',\n",
       " '10蓝色圆点大象',\n",
       " '11号',\n",
       " '11号小熊开汽车',\n",
       " '11号绿色狮子',\n",
       " '11号蓝色小兔兔',\n",
       " '11号蓝色米奇',\n",
       " '12号粉色小花朵',\n",
       " '12号蓝色西服',\n",
       " '12号长颈鹿',\n",
       " '13号',\n",
       " '13号绿色青蛙',\n",
       " '13号黄色小羊',\n",
       " '14号',\n",
       " '14号绿色小鸟',\n",
       " '14号蓝色小毛驴',\n",
       " '15号',\n",
       " '15号小熊开汽车',\n",
       " '15号红色大草莓',\n",
       " '16号唱歌青蛙',\n",
       " '16号红色摩托车',\n",
       " '17号小蜜蜂',\n",
       " '17号粉色兔子',\n",
       " '18号',\n",
       " '18号小汽车',\n",
       " '19号',\n",
       " '19号小熊',\n",
       " '1号',\n",
       " '1号大草莓',\n",
       " '1号粉色小兔子',\n",
       " '1号黄色长颈鹿猴子',\n",
       " '20号小熊打篮球',\n",
       " '20号紫色昆虫',\n",
       " '21号粉色小猪猪',\n",
       " '22号长颈鹿',\n",
       " '23号',\n",
       " '24号',\n",
       " '2号',\n",
       " '2号大黄鸭',\n",
       " '2号粉色表情兔',\n",
       " '2号蓝色白色',\n",
       " '2号黄花大象',\n",
       " '3号',\n",
       " '3号动物乐园',\n",
       " '3号浅绿三角形',\n",
       " '3号粉色花朵',\n",
       " '3号蓝色小奶牛',\n",
       " '4号猴子',\n",
       " '4号粉色兔子',\n",
       " '4号绿色恐龙',\n",
       " '4号肉粉花瓣',\n",
       " '5号',\n",
       " '5号卡其蝴蝶结',\n",
       " '5号快乐小马',\n",
       " '5号粉色大猪',\n",
       " '5号绿色小青蛙',\n",
       " '6号',\n",
       " '6号红色大汽车',\n",
       " '6号红色长颈鹿',\n",
       " '6号蓝色汽车',\n",
       " '6号青蛙',\n",
       " '7号',\n",
       " '7号小螃蟹',\n",
       " '7号绿色猴子',\n",
       " '7号蓝色小汽车',\n",
       " '7号黄底五角星',\n",
       " '8号',\n",
       " '8号小汽车',\n",
       " '8号彩色云朵',\n",
       " '8号快乐小马',\n",
       " '8号绿色螃蟹',\n",
       " '9号小狮子',\n",
       " '9号红色小熊开车',\n",
       " '9号蓝色猴子',\n",
       " '9号蓝色精灵',\n",
       " '印花款兰色',\n",
       " '印花款粉色',\n",
       " '印花款颜色均配',\n",
       " '印花款黄色',\n",
       " '小猪配齐',\n",
       " '小白兔吃萝卜',\n",
       " '彩云追月',\n",
       " '橘色',\n",
       " '橘色熊猫',\n",
       " '橙色',\n",
       " '水粉色',\n",
       " '浅灰色',\n",
       " '浅蓝色',\n",
       " '淡紫色',\n",
       " '淡蓝色',\n",
       " '深蓝星星',\n",
       " '混色均配',\n",
       " '珠联璧合',\n",
       " '白色',\n",
       " '百花齐放',\n",
       " '粉色',\n",
       " '粉色圆点',\n",
       " '粉色小猪',\n",
       " '粉色小马',\n",
       " '粉色蜜蜂',\n",
       " '粉色龙猫',\n",
       " '紫罗兰',\n",
       " '紫色小猪',\n",
       " '紫色碎花',\n",
       " '红色圆点',\n",
       " '红色条纹',\n",
       " '纯色款粉色',\n",
       " '纯色款蓝色',\n",
       " '纯色款颜色均配',\n",
       " '纯色款黄色',\n",
       " '绿色',\n",
       " '绿色小羊',\n",
       " '绿色小鹿',\n",
       " '绿色条纹',\n",
       " '绿色猴子',\n",
       " '绿色蜜蜂',\n",
       " '绿色蝴蝶',\n",
       " '肉粉色',\n",
       " '花色均配',\n",
       " '花色随机',\n",
       " '蓝色',\n",
       " '蓝色大象',\n",
       " '蓝色小熊',\n",
       " '蓝色小鸭',\n",
       " '蓝色蜜蜂',\n",
       " '蓝色鲸鱼',\n",
       " '蓝色龙猫',\n",
       " '西瓜红',\n",
       " '颜色均配',\n",
       " '颜色随机',\n",
       " '高密度29*29cm',\n",
       " '高密度8件套',\n",
       " '鸟语花香',\n",
       " '黄色',\n",
       " '黄色兔子',\n",
       " '黄色汽车',\n",
       " '黄色碎花',\n",
       " '黄色蜜蜂'}"
      ]
     },
     "execution_count": 284,
     "metadata": {},
     "output_type": "execute_result"
    }
   ],
   "source": [
    "set(tw_site_product_list_with_selected_columns['变种属性值一'].tolist())"
   ]
  },
  {
   "cell_type": "code",
   "execution_count": 285,
   "metadata": {
    "scrolled": true
   },
   "outputs": [
    {
     "data": {
      "text/plain": [
       "{nan,\n",
       " nan,\n",
       " nan,\n",
       " nan,\n",
       " nan,\n",
       " nan,\n",
       " nan,\n",
       " nan,\n",
       " nan,\n",
       " nan,\n",
       " nan,\n",
       " nan,\n",
       " nan,\n",
       " nan,\n",
       " nan,\n",
       " nan,\n",
       " nan,\n",
       " nan,\n",
       " nan,\n",
       " nan,\n",
       " nan,\n",
       " nan,\n",
       " nan,\n",
       " nan,\n",
       " nan,\n",
       " nan,\n",
       " nan,\n",
       " nan,\n",
       " nan,\n",
       " nan,\n",
       " nan,\n",
       " nan,\n",
       " nan,\n",
       " nan,\n",
       " nan,\n",
       " nan,\n",
       " nan,\n",
       " nan,\n",
       " nan,\n",
       " nan,\n",
       " nan,\n",
       " nan,\n",
       " nan,\n",
       " nan,\n",
       " nan,\n",
       " nan,\n",
       " nan,\n",
       " nan,\n",
       " nan,\n",
       " nan,\n",
       " nan,\n",
       " nan,\n",
       " nan,\n",
       " nan,\n",
       " nan,\n",
       " nan,\n",
       " nan,\n",
       " nan,\n",
       " nan,\n",
       " nan,\n",
       " nan,\n",
       " nan,\n",
       " nan,\n",
       " nan,\n",
       " nan,\n",
       " nan,\n",
       " nan,\n",
       " nan,\n",
       " nan,\n",
       " nan,\n",
       " nan,\n",
       " nan,\n",
       " nan,\n",
       " nan,\n",
       " nan,\n",
       " nan,\n",
       " nan,\n",
       " nan,\n",
       " nan,\n",
       " nan,\n",
       " nan,\n",
       " nan,\n",
       " nan,\n",
       " nan,\n",
       " nan,\n",
       " nan,\n",
       " nan,\n",
       " nan,\n",
       " nan,\n",
       " nan,\n",
       " nan,\n",
       " nan,\n",
       " nan,\n",
       " nan,\n",
       " nan,\n",
       " nan,\n",
       " nan,\n",
       " nan,\n",
       " nan,\n",
       " nan,\n",
       " nan,\n",
       " nan,\n",
       " nan,\n",
       " nan,\n",
       " nan,\n",
       " nan,\n",
       " nan,\n",
       " nan,\n",
       " nan,\n",
       " nan,\n",
       " nan,\n",
       " nan,\n",
       " nan,\n",
       " nan,\n",
       " nan,\n",
       " nan,\n",
       " nan,\n",
       " nan,\n",
       " nan,\n",
       " nan,\n",
       " nan,\n",
       " nan,\n",
       " nan,\n",
       " nan,\n",
       " nan,\n",
       " nan,\n",
       " nan,\n",
       " nan,\n",
       " nan,\n",
       " nan,\n",
       " nan,\n",
       " nan,\n",
       " nan,\n",
       " nan,\n",
       " nan,\n",
       " nan,\n",
       " nan,\n",
       " nan,\n",
       " nan,\n",
       " nan,\n",
       " nan,\n",
       " nan,\n",
       " nan,\n",
       " nan,\n",
       " nan,\n",
       " nan,\n",
       " nan,\n",
       " nan,\n",
       " nan,\n",
       " nan,\n",
       " nan,\n",
       " nan,\n",
       " nan,\n",
       " nan,\n",
       " nan,\n",
       " nan,\n",
       " nan,\n",
       " nan,\n",
       " nan,\n",
       " nan,\n",
       " nan,\n",
       " nan,\n",
       " nan,\n",
       " nan,\n",
       " nan,\n",
       " nan,\n",
       " nan,\n",
       " nan,\n",
       " nan,\n",
       " nan}"
      ]
     },
     "execution_count": 285,
     "metadata": {},
     "output_type": "execute_result"
    }
   ],
   "source": [
    "set(tw_site_product_list_with_selected_columns['变种属性值二'].tolist())"
   ]
  },
  {
   "cell_type": "code",
   "execution_count": 286,
   "metadata": {},
   "outputs": [],
   "source": [
    "# translate_currency = 458.61\n",
    "# profit_rate = 1.2\n",
    "# tw_site_product_list_with_selected_columns['价格'] = tw_site_product_list_with_selected_columns['价格'] * translate_currency / profit_rate"
   ]
  },
  {
   "cell_type": "code",
   "execution_count": 287,
   "metadata": {},
   "outputs": [],
   "source": [
    "# tw_site_product_list_with_selected_columns.head(5)"
   ]
  },
  {
   "cell_type": "code",
   "execution_count": 288,
   "metadata": {},
   "outputs": [],
   "source": [
    "translator = Translator(service_urls=[\n",
    "      'translate.google.com',\n",
    "      'translate.google.co.kr',\n",
    "    ])\n",
    "# translator.translate('韩国', dest='ko').text"
   ]
  },
  {
   "cell_type": "code",
   "execution_count": 289,
   "metadata": {},
   "outputs": [],
   "source": [
    "# translations = translator.translate(['The quick brown fox', 'jumps over', 'the lazy dog'], dest='ko')\n",
    "# for translation in translations:\n",
    "#     print(translation.origin, ' -> ', translation.text)"
   ]
  },
  {
   "cell_type": "code",
   "execution_count": 290,
   "metadata": {},
   "outputs": [],
   "source": [
    "translate_columns = ['产品标题', '产品描述', '变种名称', '变种属性名称一', '变种属性名称二', '变种属性值一', '变种属性值二']\n",
    "# translate_columns = ['产品标题']\n",
    "# translate_columns = ['产品描述', '变种名称', '变种属性名称一', '变种属性名称二', '变种属性值一', '变种属性值二']"
   ]
  },
  {
   "cell_type": "code",
   "execution_count": 291,
   "metadata": {},
   "outputs": [],
   "source": [
    "# 把空值填充为string格式\n",
    "tw_site_product_list_with_selected_columns[translate_columns] = tw_site_product_list_with_selected_columns[translate_columns].fillna(value='不需翻译')"
   ]
  },
  {
   "cell_type": "code",
   "execution_count": 292,
   "metadata": {},
   "outputs": [
    {
     "name": "stderr",
     "output_type": "stream",
     "text": [
      " 2019-12-26 11:36:19,797 - INFO - variation list: {'不需翻译', 'Color'}\n"
     ]
    }
   ],
   "source": [
    "# 把variation_name做一些删减\n",
    "variation_list = set(list(tw_site_product_list_with_selected_columns['变种属性名称一'].unique()) + list(tw_site_product_list_with_selected_columns['变种属性名称二'].unique()))\n",
    "logging.info('variation list: ' + str(variation_list))"
   ]
  },
  {
   "cell_type": "code",
   "execution_count": 293,
   "metadata": {
    "scrolled": true
   },
   "outputs": [
    {
     "name": "stderr",
     "output_type": "stream",
     "text": [
      "C:\\ProgramData\\Anaconda3\\lib\\site-packages\\ipykernel_launcher.py:97: SettingWithCopyWarning: \n",
      "A value is trying to be set on a copy of a slice from a DataFrame.\n",
      "Try using .loc[row_indexer,col_indexer] = value instead\n",
      "\n",
      "See the caveats in the documentation: http://pandas.pydata.org/pandas-docs/stable/user_guide/indexing.html#returning-a-view-versus-a-copy\n",
      "C:\\ProgramData\\Anaconda3\\lib\\site-packages\\ipykernel_launcher.py:98: SettingWithCopyWarning: \n",
      "A value is trying to be set on a copy of a slice from a DataFrame.\n",
      "Try using .loc[row_indexer,col_indexer] = value instead\n",
      "\n",
      "See the caveats in the documentation: http://pandas.pydata.org/pandas-docs/stable/user_guide/indexing.html#returning-a-view-versus-a-copy\n",
      "C:\\ProgramData\\Anaconda3\\lib\\site-packages\\ipykernel_launcher.py:99: SettingWithCopyWarning: \n",
      "A value is trying to be set on a copy of a slice from a DataFrame.\n",
      "Try using .loc[row_indexer,col_indexer] = value instead\n",
      "\n",
      "See the caveats in the documentation: http://pandas.pydata.org/pandas-docs/stable/user_guide/indexing.html#returning-a-view-versus-a-copy\n",
      "C:\\ProgramData\\Anaconda3\\lib\\site-packages\\ipykernel_launcher.py:100: SettingWithCopyWarning: \n",
      "A value is trying to be set on a copy of a slice from a DataFrame.\n",
      "Try using .loc[row_indexer,col_indexer] = value instead\n",
      "\n",
      "See the caveats in the documentation: http://pandas.pydata.org/pandas-docs/stable/user_guide/indexing.html#returning-a-view-versus-a-copy\n"
     ]
    }
   ],
   "source": [
    "# 对变种名进行优化\n",
    "variation_rename = {'适合身高': '身高',\n",
    "                    '童袜尺码': '尺码',\n",
    "                    '不需翻译': 'not set',\n",
    "                    '73CM': '73cm',\n",
    "                    '100cm 少量现货': '100cm',\n",
    "                    '100CM建议体重32斤内': '100cm',\n",
    "                    '110CM建议体重36斤内': '110cm',\n",
    "                    '120CM建议体重40斤内': '120cm',\n",
    "                    '73CM建议体重18斤内': '73cm',\n",
    "                    '80CM建议体重23斤内': '80cm',\n",
    "                    '90CM建议体重28斤内': '90cm',\n",
    "                    '编码': 'no size',\n",
    "                    'XXL码（建议身高130-150cm）':'XXL',\n",
    "                    'L码 （建议身高100-100cm）':'L ',\n",
    "                    'XL码(建议身高115-130cm)':'XL',\n",
    "                    '20/21（实际内长12.4cm）':'20/21',\n",
    "                    '22/23（实际内长13.6cm）':'22/23',\n",
    "                    '24/25（实际内长14.7cm）':'24/25',\n",
    "                    '26/27（实际内长15.9CM）':'26/27',\n",
    "                    '28/29（实际内长17cm）':'28/29',\n",
    "                    '袋装（加大 6-18个月）':'6-18月',\n",
    "                    '袋装（常规 0-12个月）':'0-12月',\n",
    "                    'M码（2-4岁 防滑底）':'M',\n",
    "                    'S码（0-2岁 防滑底）':'S',\n",
    "                    'M（1-3岁 防滑底）':'M',\n",
    "                    'M（2-4岁 防滑底）':'M',\n",
    "                    'S（0-1岁 防滑底）':'S',\n",
    "                    'S（0-2岁 防滑底）':'S',\n",
    "                    'S (6-12)个月':'S ',\n",
    "                    'S （6-12个月）':'S ',\n",
    "                    'XS( 0-6个)月':'XS',\n",
    "                    '12-24个月闭档':'12-24月',\n",
    "                    '32*12.5cm':'32*12.5cm',\n",
    "                    'L码24-36个月':'L',\n",
    "                    'XL码 9-12岁':'XL',\n",
    "                    'XL码（5-8岁）':'XL',\n",
    "                    'XS（0-6个月）':'XS',\n",
    "                    '6-12个月闭档':'6-12月',\n",
    "                    'L码 7-10岁':'L',\n",
    "                    'L码（3-5岁）':'L',\n",
    "                    'L码（7-9岁）':'L',\n",
    "                    'M （1-3）岁':'M ',\n",
    "                    'M码（1-3岁）':'M',\n",
    "                    'M码（4-6岁）':'M',\n",
    "                    'S码（0-1岁）':'S',\n",
    "                    'S码（1-3岁）':'S',\n",
    "                    'XL码 5-8岁':'XL',\n",
    "                    'XL码9-12岁':'XL',\n",
    "                    '（0-1岁）均码':'0-1岁',\n",
    "                    'L码 3-5岁':'L',\n",
    "                    'L码 5-8岁':'L',\n",
    "                    'L（3-5岁）':'L',\n",
    "                    'M码 1-3岁':'M',\n",
    "                    'M码 3-5岁':'M',\n",
    "                    'M码 4-6岁':'M',\n",
    "                    'M（1-3岁）':'M',\n",
    "                    'S码 0-1岁':'S',\n",
    "                    'S码 1-3岁':'S',\n",
    "                    '（1-3岁）均码':'1-3岁',\n",
    "                    '12*9CM':'12*9CM',\n",
    "                    '12-24月':'12-24月',\n",
    "                    '2-4岁闭档':'2-4岁',\n",
    "                    '4-6岁闭档':'4-6岁',\n",
    "                    '6-12个月':'6-12月',\n",
    "                    '6-18个月':'6-18月',\n",
    "                    'L码3-5岁':'L',\n",
    "                    'L码4-6岁':'L',\n",
    "                    'L码5-8岁':'L',\n",
    "                    'L码6-8岁':'L',\n",
    "                    'M码1-3岁':'M',\n",
    "                    'M码2-4岁':'M',\n",
    "                    'M码3-5岁':'M',\n",
    "                    'S码0-1岁':'S',\n",
    "                    'S码0-2岁':'S',\n",
    "                    'S码1-3岁':'S',\n",
    "                    '0-2岁':'0-2岁',\n",
    "                    '1-3岁':'1-3岁',\n",
    "                    '11CM':'11CM',\n",
    "                    '11cm':'11cm',\n",
    "                    '12CM':'12CM',\n",
    "                    '12cm':'12cm',\n",
    "                    '13CM':'13CM',\n",
    "                    '13cm':'13cm',\n",
    "                    '14cm':'14cm',\n",
    "                    '2-4岁':'2-4岁',\n",
    "                    '28CM':'28CM',\n",
    "                    '28cm':'28cm',\n",
    "                    '3-5岁':'3-5岁',\n",
    "                    '35CM':'35CM',\n",
    "                    '35cm':'35cm',\n",
    "                    '4-6岁':'4-6岁',\n",
    "                    '45CM':'45CM',\n",
    "                    '45cm':'45cm',\n",
    "                    '5-8岁':'5-8岁',\n",
    "                    '均码':'均码'\n",
    "}\n",
    "tw_site_product_list_with_selected_columns['变种属性名称一'] = tw_site_product_list_with_selected_columns['变种属性名称一'].apply(lambda x: variation_rename[x] if x in variation_rename else x)\n",
    "tw_site_product_list_with_selected_columns['变种属性名称二'] = tw_site_product_list_with_selected_columns['变种属性名称二'].apply(lambda x: variation_rename[x] if x in variation_rename else x)\n",
    "tw_site_product_list_with_selected_columns['变种属性值一'] = tw_site_product_list_with_selected_columns['变种属性值一'].apply(lambda x: variation_rename[x] if x in variation_rename else x)\n",
    "tw_site_product_list_with_selected_columns['变种属性值二'] = tw_site_product_list_with_selected_columns['变种属性值二'].apply(lambda x: variation_rename[x] if x in variation_rename else x)"
   ]
  },
  {
   "cell_type": "code",
   "execution_count": 294,
   "metadata": {
    "scrolled": true
   },
   "outputs": [
    {
     "name": "stderr",
     "output_type": "stream",
     "text": [
      "C:\\ProgramData\\Anaconda3\\lib\\site-packages\\ipykernel_launcher.py:3: SettingWithCopyWarning: \n",
      "A value is trying to be set on a copy of a slice from a DataFrame.\n",
      "Try using .loc[row_indexer,col_indexer] = value instead\n",
      "\n",
      "See the caveats in the documentation: http://pandas.pydata.org/pandas-docs/stable/user_guide/indexing.html#returning-a-view-versus-a-copy\n",
      "  This is separate from the ipykernel package so we can avoid doing imports until\n",
      "C:\\ProgramData\\Anaconda3\\lib\\site-packages\\ipykernel_launcher.py:4: SettingWithCopyWarning: \n",
      "A value is trying to be set on a copy of a slice from a DataFrame.\n",
      "Try using .loc[row_indexer,col_indexer] = value instead\n",
      "\n",
      "See the caveats in the documentation: http://pandas.pydata.org/pandas-docs/stable/user_guide/indexing.html#returning-a-view-versus-a-copy\n",
      "  after removing the cwd from sys.path.\n",
      "C:\\ProgramData\\Anaconda3\\lib\\site-packages\\ipykernel_launcher.py:6: SettingWithCopyWarning: \n",
      "A value is trying to be set on a copy of a slice from a DataFrame.\n",
      "Try using .loc[row_indexer,col_indexer] = value instead\n",
      "\n",
      "See the caveats in the documentation: http://pandas.pydata.org/pandas-docs/stable/user_guide/indexing.html#returning-a-view-versus-a-copy\n",
      "  \n"
     ]
    }
   ],
   "source": [
    "# 给变种属性值一、二做适当缩减\n",
    "# 先把索引列取出来\n",
    "tw_site_product_list_with_selected_columns['index'] = tw_site_product_list_with_selected_columns.index\n",
    "tw_site_product_list_with_selected_columns['变种属性值一'] = tw_site_product_list_with_selected_columns['index'].groupby([tw_site_product_list_with_selected_columns['Parent SKU'],tw_site_product_list_with_selected_columns['变种属性值二']]).rank(ascending=1,method='dense')\n",
    "\n",
    "tw_site_product_list_with_selected_columns['变种属性值一'] = tw_site_product_list_with_selected_columns['变种属性值一'].apply(str)"
   ]
  },
  {
   "cell_type": "code",
   "execution_count": 295,
   "metadata": {},
   "outputs": [],
   "source": [
    "tw_site_product_list_with_selected_columns = tw_site_product_list_with_selected_columns.drop(['index'], axis=1)\n",
    "# tw_site_product_list_with_selected_columns.head(5)"
   ]
  },
  {
   "cell_type": "code",
   "execution_count": 296,
   "metadata": {},
   "outputs": [],
   "source": [
    "# 国家&折扣id\n",
    "country_info = {'th': 1035824326,\n",
    "                'id': 1040198485,\n",
    "                'sg': 1052622558,\n",
    "                'my': 1052836213,\n",
    "                'ph': 1039479999}\n",
    "# country_info['th']\n",
    "\n",
    "# 国家&需藏运费\n",
    "country_logistics_info = {'th': 40,\n",
    "                          'id': 12800,\n",
    "                          'sg': 2.15,\n",
    "                          'my': 0.75,\n",
    "                          'ph': 90}\n",
    "\n",
    "# 语言\n",
    "translated_country_name = {'th': 'th',\n",
    "                           'id': 'id',\n",
    "                           'sg': 'en',\n",
    "                           'my': 'en',\n",
    "                           'ph': 'en'}"
   ]
  },
  {
   "cell_type": "code",
   "execution_count": 297,
   "metadata": {},
   "outputs": [],
   "source": [
    "# 选择国家\n",
    "selected_country = 'sg'\n",
    "\n",
    "# 藏运费+各种费率，系数1.28\n",
    "tw_site_product_list_with_selected_columns['价格'] = tw_site_product_list_with_selected_columns['价格'] + country_logistics_info[selected_country]\n",
    "tw_site_product_list_with_selected_columns['价格'] = tw_site_product_list_with_selected_columns['价格'] * 1.28\n",
    "\n",
    "# 价格 折扣价\n",
    "tw_site_product_list_with_selected_columns['促销价'] = tw_site_product_list_with_selected_columns['价格']\n",
    "\n",
    "# 印尼不能折1折\n",
    "tw_site_product_list_with_selected_columns['价格'] = tw_site_product_list_with_selected_columns['价格'] * 10\n",
    "tw_site_product_list_with_selected_columns['折扣活动ID'] = country_info[selected_country]\n",
    "\n",
    "# 重量\n",
    "tw_site_product_list_with_selected_columns['重量'] = 0.3\n",
    "\n",
    "# tw_site_product_list_with_selected_columns.head(5)"
   ]
  },
  {
   "cell_type": "code",
   "execution_count": 298,
   "metadata": {},
   "outputs": [
    {
     "name": "stderr",
     "output_type": "stream",
     "text": [
      "C:\\ProgramData\\Anaconda3\\lib\\site-packages\\ipykernel_launcher.py:3: SettingWithCopyWarning: \n",
      "A value is trying to be set on a copy of a slice from a DataFrame\n",
      "\n",
      "See the caveats in the documentation: http://pandas.pydata.org/pandas-docs/stable/user_guide/indexing.html#returning-a-view-versus-a-copy\n",
      "  This is separate from the ipykernel package so we can avoid doing imports until\n"
     ]
    }
   ],
   "source": [
    "# 判断库存是否超过了1k\n",
    "# tw_site_product_list_with_selected_columns['库存'] = tw_site_product_list_with_selected_columns['库存'].apply(lambda x: x if x > 0 else 0)\n",
    "tw_site_product_list_with_selected_columns['库存'][tw_site_product_list_with_selected_columns['库存'] >= 1000] = 1000 "
   ]
  },
  {
   "cell_type": "code",
   "execution_count": 299,
   "metadata": {},
   "outputs": [],
   "source": [
    "tw_site_product_list_with_selected_columns.to_excel(os.path.join(folder_path, 'to_be_translated_product.xlsx'), index=False)"
   ]
  },
  {
   "cell_type": "code",
   "execution_count": 300,
   "metadata": {},
   "outputs": [],
   "source": [
    "# 对variation_value做一些删减\n",
    "# variation_value_list = set(list(tw_site_product_list_with_selected_columns['变种属性值一'].unique()) + list(tw_site_product_list_with_selected_columns['变种属性值一'].unique()))\n",
    "# logging.info('variation value list: ' + str(variation_value_list))"
   ]
  },
  {
   "cell_type": "code",
   "execution_count": 301,
   "metadata": {},
   "outputs": [],
   "source": [
    "# tw_site_product_list_with_selected_columns = tw_site_product_list_with_selected_columns[:5]\n",
    "# # tw_site_product_list_with_selected_columns"
   ]
  },
  {
   "cell_type": "code",
   "execution_count": 302,
   "metadata": {},
   "outputs": [],
   "source": [
    "today = date.today()\n",
    "d1 = today.strftime(\"%Y_%m_%d\")"
   ]
  },
  {
   "cell_type": "code",
   "execution_count": 303,
   "metadata": {
    "scrolled": true
   },
   "outputs": [],
   "source": [
    "# for index, row in tw_site_product_list_with_selected_columns.iterrows():\n",
    "#     try:\n",
    "#         list_to_translate = []\n",
    "#         for i, value in enumerate(translate_columns):\n",
    "#             list_to_translate.append(row[translate_columns[i]])\n",
    "        \n",
    "#         translate_language = 'en'\n",
    "#         translator = Translator(service_urls=['translate.google.com'])\n",
    "#         list_be_translated = translator.translate(list_to_translate, dest=translate_language, src='zh-CN')\n",
    "#         # list_be_translated = translator.translate(list_to_translate, dest=translate_language)\n",
    "#         time.sleep(10)\n",
    "        \n",
    "#         i = 0\n",
    "#         for translate_language in list_be_translated:\n",
    "#             tw_site_product_list_with_selected_columns.at[index, translate_columns[i]] = translate_language.text\n",
    "#             i += 1\n",
    "        \n",
    "#         if (index + 1) % 5 == 0:\n",
    "#             logging.info(str(index + 1) + ' rows have been translated.')\n",
    "            \n",
    "#         tw_site_product_list_with_selected_columns.to_excel(os.path.join(folder_path, 'translated_product_' + d1 + '.xlsx'), index=False)\n",
    "#     except Exception as err:\n",
    "#         logging.warning(str(index + 1) + ' rows have not been translated. Error message: ' + str(err))\n",
    "#         pass"
   ]
  },
  {
   "cell_type": "code",
   "execution_count": 304,
   "metadata": {},
   "outputs": [
    {
     "name": "stderr",
     "output_type": "stream",
     "text": [
      " 2019-12-26 12:01:05,191 - INFO - 100 rows have been translated.\n"
     ]
    }
   ],
   "source": [
    "for index, row in tw_site_product_list_with_selected_columns.iterrows():\n",
    "    translated = 0\n",
    "    while translated == 0:\n",
    "        try:\n",
    "            list_to_translate = []\n",
    "            for i, value in enumerate(translate_columns):\n",
    "                list_to_translate.append(row[translate_columns[i]])\n",
    "\n",
    "            # translate_language = 'id'\n",
    "            translate_language = translated_country_name[selected_country]\n",
    "            translator = Translator(service_urls=['translate.google.com'])\n",
    "            list_be_translated = translator.translate(list_to_translate, dest=translate_language, src='zh-CN')\n",
    "            # list_be_translated = translator.translate(list_to_translate, dest=translate_language)\n",
    "            time.sleep(10)\n",
    "\n",
    "            i = 0\n",
    "            for translate_language in list_be_translated:\n",
    "                tw_site_product_list_with_selected_columns.at[index, translate_columns[i]] = translate_language.text\n",
    "                i += 1\n",
    "\n",
    "            if (index + 1) % 100 == 0:\n",
    "                logging.info(str(index + 1) + ' rows have been translated.')\n",
    "\n",
    "            tw_site_product_list_with_selected_columns.to_excel(os.path.join(folder_path, 'translated_product_' + selected_country + '_' + d1 + '.xlsx'), index=False)\n",
    "            translated = 1\n",
    "        except Exception as err:\n",
    "            logging.warning(str(index + 1) + ' rows have not been translated. Error message: ' + str(err) + ', try again.')\n",
    "            pass        "
   ]
  },
  {
   "cell_type": "code",
   "execution_count": 305,
   "metadata": {},
   "outputs": [],
   "source": [
    "# 优化结果\n",
    "output_path = os.path.join(folder_path, 'translated_product_' + selected_country + '_' + d1 + '.xlsx')\n",
    "dianxiaomi_product_list = pd.read_excel(output_path)\n",
    "\n",
    "dianxiaomi_product_list['产品标题'] = dianxiaomi_product_list['产品标题'].apply(lambda x: x[:100])\n",
    "\n",
    "variation_name_key_value = {\n",
    "    'ไม่จำเป็นต้องแปล': 'size',\n",
    "    'ไม่ได้ตั้งค่า': 'size',\n",
    "    'เหมาะสำหรับความสูง': 'ความสูง',\n",
    "    'ข้อมูลจำเพาะ (กว้าง * ยาวซม.)': 'size',\n",
    "    'tidak diatur': 'size'\n",
    "}\n",
    "\n",
    "dianxiaomi_product_list['变种属性名称二'] = dianxiaomi_product_list['变种属性名称二'].apply(lambda x: variation_name_key_value[x] if x in variation_name_key_value else x)"
   ]
  },
  {
   "cell_type": "code",
   "execution_count": null,
   "metadata": {},
   "outputs": [],
   "source": [
    "# 把随机颜色替换成random_color"
   ]
  },
  {
   "cell_type": "code",
   "execution_count": 306,
   "metadata": {},
   "outputs": [],
   "source": [
    "# dianxiaomi_product_list['index'] = dianxiaomi_product_list.index\n",
    "# dianxiaomi_product_list['变种属性值一'] = dianxiaomi_product_list['index'].groupby([dianxiaomi_product_list['Parent SKU'],dianxiaomi_product_list['变种属性值二']]).rank(ascending=1,method='dense')\n",
    "\n",
    "# dianxiaomi_product_list['变种属性值一'] = dianxiaomi_product_list['变种属性值一'].apply(str)"
   ]
  },
  {
   "cell_type": "code",
   "execution_count": 307,
   "metadata": {},
   "outputs": [],
   "source": [
    "dianxiaomi_product_list.to_excel(os.path.join(folder_path, 'translated_product_' + selected_country + '_' + d1 + '_edited(1).xlsx'), index=False)"
   ]
  },
  {
   "cell_type": "code",
   "execution_count": 308,
   "metadata": {
    "scrolled": true
   },
   "outputs": [],
   "source": [
    "# for translate_column in translate_columns:\n",
    "#     # tw_site_product_list_with_selected_columns[translate_column] = tw_site_product_list_with_selected_columns[translate_column].fillna(0)\n",
    "#     # tw_site_product_list_with_selected_columns[translate_column]  = [translator.translate(x, dest=translate_language).text \n",
    "#                                                                      # for x in tw_site_product_list_with_selected_columns[translate_column]]\n",
    "#     for index, row in tw_site_product_list_with_selected_columns.iterrows():\n",
    "#         try:\n",
    "#             orginal_text = tw_site_product_list_with_selected_columns.at[index, translate_column]\n",
    "#             tw_site_product_list_with_selected_columns.at[index, translate_column] = translator.translate(row[translate_column], dest=translate_language).text\n",
    "#             # print(row[translate_column])\n",
    "#             logging.info(translate_column + ' - ' + str(index + 1) + ' rows have been translated.')\n",
    "#             # logging.info(orginal_text + ' -> ' + tw_site_product_list_with_selected_columns.at[index, translate_column])\n",
    "#             time.sleep(5)\n",
    "#         except:\n",
    "#             logging.warning(translate_column + ' - ' + str(index + 1) + ' rows have not been translated.')\n",
    "#             pass\n",
    "        \n",
    "#     # print(tw_site_product_list_with_selected_columns.head(5))\n",
    "    \n",
    "#     tw_site_product_list_with_selected_columns.to_excel(os.path.join(folder_path, 'tw_translated_product(1).xlsx'), index=False)\n",
    "#     logging.info(str(translate_column) + ' is done.')"
   ]
  }
 ],
 "metadata": {
  "anaconda-cloud": {},
  "kernelspec": {
   "display_name": "Python 3",
   "language": "python",
   "name": "python3"
  },
  "language_info": {
   "codemirror_mode": {
    "name": "ipython",
    "version": 3
   },
   "file_extension": ".py",
   "mimetype": "text/x-python",
   "name": "python",
   "nbconvert_exporter": "python",
   "pygments_lexer": "ipython3",
   "version": "3.7.3"
  }
 },
 "nbformat": 4,
 "nbformat_minor": 1
}
