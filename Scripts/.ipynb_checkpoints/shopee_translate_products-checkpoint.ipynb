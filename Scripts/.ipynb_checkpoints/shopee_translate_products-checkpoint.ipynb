{
 "cells": [
  {
   "cell_type": "code",
   "execution_count": 5,
   "metadata": {
    "collapsed": true
   },
   "outputs": [],
   "source": [
    "import pandas as pd\n",
    "import os\n",
    "import time\n",
    "import logging\n",
    "from datetime import date"
   ]
  },
  {
   "cell_type": "code",
   "execution_count": 6,
   "metadata": {
    "collapsed": true
   },
   "outputs": [],
   "source": [
    "# # 获取脚本的当前路径，避免计划执行时路径出错\n",
    "# home_dir = os.path.dirname(os.path.realpath(__file__))\n",
    "# # 更换workding directory\n",
    "# working_directory = home_dir\n",
    "# os.chdir(working_directory)"
   ]
  },
  {
   "cell_type": "code",
   "execution_count": 7,
   "metadata": {
    "collapsed": true
   },
   "outputs": [],
   "source": [
    "logging.basicConfig(level=logging.INFO, format=' %(asctime)s - %(levelname)s - %(message)s')"
   ]
  },
  {
   "cell_type": "code",
   "execution_count": 8,
   "metadata": {},
   "outputs": [],
   "source": [
    "folder_path = '../shopee_product_translation/'\n",
    "# tw_site_product_list = pd.read_excel(os.path.join(folder_path, 'tengus_tw_product_list.xlsx'))\n",
    "tw_site_product_list = pd.read_excel(os.path.join(folder_path, 'translated_product_2019_10_15.xlsx'))\n",
    "tw_site_product_list = tw_site_product_list[tw_site_product_list['是否翻译'] == 'no']\n",
    "# tw_site_product_list.head(5)"
   ]
  },
  {
   "cell_type": "code",
   "execution_count": 9,
   "metadata": {
    "collapsed": true
   },
   "outputs": [],
   "source": [
    "# tw_site_product_list.columns"
   ]
  },
  {
   "cell_type": "code",
   "execution_count": 10,
   "metadata": {
    "collapsed": true
   },
   "outputs": [],
   "source": [
    "# tw_site_product_list = tw_site_product_list[tw_site_product_list['产品id'] == 2496637042]"
   ]
  },
  {
   "cell_type": "code",
   "execution_count": 11,
   "metadata": {
    "collapsed": true,
    "scrolled": false
   },
   "outputs": [],
   "source": [
    "# top_cat_in_tw = tw_site_product_list[['分类ID', '产品id']].groupby('分类ID').agg({'产品id': 'nunique'}).reset_index().sort_values(by='产品id', ascending=False).reset_index().head(5)\n",
    "# top_cat_in_tw"
   ]
  },
  {
   "cell_type": "code",
   "execution_count": 12,
   "metadata": {
    "collapsed": true
   },
   "outputs": [],
   "source": [
    "# top_cat_id = top_cat_in_tw['分类ID'][0]\n",
    "# top_cat_id"
   ]
  },
  {
   "cell_type": "code",
   "execution_count": 13,
   "metadata": {
    "collapsed": true
   },
   "outputs": [],
   "source": [
    "output_excel_columns = [\n",
    "                        '原有行',\n",
    "                        '是否翻译',\n",
    "                        '变种名称',\n",
    "                        '变种属性名称一',\n",
    "                        '变种属性名称二',\n",
    "                        '变种属性值一',\n",
    "                        '变种属性值二',\n",
    "                        '*价格（必填）',\n",
    "                        '*库存（必填）',\n",
    "                        '*重量(kg)(必填）',\n",
    "                        '*主图（URL）地址（必填）',\n",
    "                        '附图1',\n",
    "                        '附图2',\n",
    "                        '附图3',\n",
    "                        '附图4',\n",
    "                        '附图5',\n",
    "                        '附图6',\n",
    "                        '附图7',\n",
    "                        '附图8',\n",
    "                        '变种图',\n",
    "                        '长(cm)',\n",
    "                        '宽(cm)',\n",
    "                        '高(cm)',\n",
    "                        '发货期',\n",
    "                        '来源URL',\n",
    "                        '尺码图'\n",
    "]"
   ]
  },
  {
   "cell_type": "code",
   "execution_count": 14,
   "metadata": {
    "collapsed": true
   },
   "outputs": [],
   "source": [
    "tw_site_product_list_selected_columns = ['分类ID', '产品属性', 'Parent SKU', '产品标题', '产品描述', 'sku', '变种名称', '变种属性名称一',\n",
    "       '变种属性名称二', '变种属性值一', '变种属性值二', '价格', '库存', '重量', '主图（URL）地址', '附图1',\n",
    "       '附图2', '附图3', '附图4', '附图5', '附图6', '附图7', '附图8地址', '变种图', '长（cm）',\n",
    "       '宽（cm）', '高（cm）', '发货期', '来源URL', '尺码图']"
   ]
  },
  {
   "cell_type": "code",
   "execution_count": 15,
   "metadata": {},
   "outputs": [
    {
     "data": {
      "text/html": [
       "<div>\n",
       "<table border=\"1\" class=\"dataframe\">\n",
       "  <thead>\n",
       "    <tr style=\"text-align: right;\">\n",
       "      <th></th>\n",
       "      <th>分类ID</th>\n",
       "      <th>产品属性</th>\n",
       "      <th>Parent SKU</th>\n",
       "      <th>产品标题</th>\n",
       "      <th>产品描述</th>\n",
       "      <th>sku</th>\n",
       "      <th>变种名称</th>\n",
       "      <th>变种属性名称一</th>\n",
       "      <th>变种属性名称二</th>\n",
       "      <th>变种属性值一</th>\n",
       "      <th>...</th>\n",
       "      <th>附图6</th>\n",
       "      <th>附图7</th>\n",
       "      <th>附图8地址</th>\n",
       "      <th>变种图</th>\n",
       "      <th>长（cm）</th>\n",
       "      <th>宽（cm）</th>\n",
       "      <th>高（cm）</th>\n",
       "      <th>发货期</th>\n",
       "      <th>来源URL</th>\n",
       "      <th>尺码图</th>\n",
       "    </tr>\n",
       "  </thead>\n",
       "  <tbody>\n",
       "    <tr>\n",
       "      <th>0</th>\n",
       "      <td>8305</td>\n",
       "      <td>[{\"mandatory\":false,\"attribute_id\":9541,\"attri...</td>\n",
       "      <td>5.561653e+11</td>\n",
       "      <td>嬰兒兔裝 嬰兒长袖包屁衣 寶寶連身衣 寶寶連體衣 嬰兒長袖包屁衣 寶寶包屁衣 寶寶爬爬服 寶...</td>\n",
       "      <td>款號：SY1293\\n材質：100%純棉\\n特點：吸濕透氣，柔軟舒適\\n尺碼：59cm、66...</td>\n",
       "      <td>SY1293-淺藍色-59cm</td>\n",
       "      <td>淺藍色-59cm-0~3個月</td>\n",
       "      <td>Variation</td>\n",
       "      <td>not set</td>\n",
       "      <td>淺藍色-59cm-0~3個月</td>\n",
       "      <td>...</td>\n",
       "      <td>NaN</td>\n",
       "      <td>NaN</td>\n",
       "      <td>NaN</td>\n",
       "      <td>NaN</td>\n",
       "      <td>18</td>\n",
       "      <td>13</td>\n",
       "      <td>5</td>\n",
       "      <td>2</td>\n",
       "      <td>https://detail.1688.com/offer/556165346360.htm...</td>\n",
       "      <td>NaN</td>\n",
       "    </tr>\n",
       "    <tr>\n",
       "      <th>1</th>\n",
       "      <td>8305</td>\n",
       "      <td>[{\"mandatory\":false,\"attribute_id\":9541,\"attri...</td>\n",
       "      <td>5.561653e+11</td>\n",
       "      <td>嬰兒兔裝 嬰兒长袖包屁衣 寶寶連身衣 寶寶連體衣 嬰兒長袖包屁衣 寶寶包屁衣 寶寶爬爬服 寶...</td>\n",
       "      <td>款號：SY1293\\n材質：100%純棉\\n特點：吸濕透氣，柔軟舒適\\n尺碼：59cm、66...</td>\n",
       "      <td>SY1293-淺藍色-66cm</td>\n",
       "      <td>淺藍色-66cm-3~6個月</td>\n",
       "      <td>Variation</td>\n",
       "      <td>not set</td>\n",
       "      <td>淺藍色-66cm-3~6個月</td>\n",
       "      <td>...</td>\n",
       "      <td>NaN</td>\n",
       "      <td>NaN</td>\n",
       "      <td>NaN</td>\n",
       "      <td>NaN</td>\n",
       "      <td>18</td>\n",
       "      <td>13</td>\n",
       "      <td>5</td>\n",
       "      <td>2</td>\n",
       "      <td>https://detail.1688.com/offer/556165346360.htm...</td>\n",
       "      <td>NaN</td>\n",
       "    </tr>\n",
       "    <tr>\n",
       "      <th>2</th>\n",
       "      <td>8305</td>\n",
       "      <td>[{\"mandatory\":false,\"attribute_id\":9541,\"attri...</td>\n",
       "      <td>5.561653e+11</td>\n",
       "      <td>嬰兒兔裝 嬰兒长袖包屁衣 寶寶連身衣 寶寶連體衣 嬰兒長袖包屁衣 寶寶包屁衣 寶寶爬爬服 寶...</td>\n",
       "      <td>款號：SY1293\\n材質：100%純棉\\n特點：吸濕透氣，柔軟舒適\\n尺碼：59cm、66...</td>\n",
       "      <td>SY1293-淺藍色-73CM</td>\n",
       "      <td>淺藍色-73CM-6~12個月</td>\n",
       "      <td>Variation</td>\n",
       "      <td>not set</td>\n",
       "      <td>淺藍色-73CM-6~12個月</td>\n",
       "      <td>...</td>\n",
       "      <td>NaN</td>\n",
       "      <td>NaN</td>\n",
       "      <td>NaN</td>\n",
       "      <td>NaN</td>\n",
       "      <td>18</td>\n",
       "      <td>13</td>\n",
       "      <td>5</td>\n",
       "      <td>2</td>\n",
       "      <td>https://detail.1688.com/offer/556165346360.htm...</td>\n",
       "      <td>NaN</td>\n",
       "    </tr>\n",
       "    <tr>\n",
       "      <th>3</th>\n",
       "      <td>8305</td>\n",
       "      <td>[{\"mandatory\":false,\"attribute_id\":9541,\"attri...</td>\n",
       "      <td>5.561653e+11</td>\n",
       "      <td>嬰兒兔裝 嬰兒长袖包屁衣 寶寶連身衣 寶寶連體衣 嬰兒長袖包屁衣 寶寶包屁衣 寶寶爬爬服 寶...</td>\n",
       "      <td>款號：SY1293\\n材質：100%純棉\\n特點：吸濕透氣，柔軟舒適\\n尺碼：59cm、66...</td>\n",
       "      <td>SY1293-淺藍色-80cm</td>\n",
       "      <td>淺藍色-80cm-12~18個月</td>\n",
       "      <td>Variation</td>\n",
       "      <td>not set</td>\n",
       "      <td>淺藍色-80cm-12~18個月</td>\n",
       "      <td>...</td>\n",
       "      <td>NaN</td>\n",
       "      <td>NaN</td>\n",
       "      <td>NaN</td>\n",
       "      <td>NaN</td>\n",
       "      <td>18</td>\n",
       "      <td>13</td>\n",
       "      <td>5</td>\n",
       "      <td>2</td>\n",
       "      <td>https://detail.1688.com/offer/556165346360.htm...</td>\n",
       "      <td>NaN</td>\n",
       "    </tr>\n",
       "    <tr>\n",
       "      <th>4</th>\n",
       "      <td>8305</td>\n",
       "      <td>[{\"mandatory\":false,\"attribute_id\":9541,\"attri...</td>\n",
       "      <td>5.561653e+11</td>\n",
       "      <td>嬰兒兔裝 嬰兒长袖包屁衣 寶寶連身衣 寶寶連體衣 嬰兒長袖包屁衣 寶寶包屁衣 寶寶爬爬服 寶...</td>\n",
       "      <td>款號：SY1293\\n材質：100%純棉\\n特點：吸濕透氣，柔軟舒適\\n尺碼：59cm、66...</td>\n",
       "      <td>SY1293-淺藍色-90cm</td>\n",
       "      <td>淺藍色-90cm-18~24個月</td>\n",
       "      <td>Variation</td>\n",
       "      <td>not set</td>\n",
       "      <td>淺藍色-90cm-18~24個月</td>\n",
       "      <td>...</td>\n",
       "      <td>NaN</td>\n",
       "      <td>NaN</td>\n",
       "      <td>NaN</td>\n",
       "      <td>NaN</td>\n",
       "      <td>18</td>\n",
       "      <td>13</td>\n",
       "      <td>5</td>\n",
       "      <td>2</td>\n",
       "      <td>https://detail.1688.com/offer/556165346360.htm...</td>\n",
       "      <td>NaN</td>\n",
       "    </tr>\n",
       "  </tbody>\n",
       "</table>\n",
       "<p>5 rows × 30 columns</p>\n",
       "</div>"
      ],
      "text/plain": [
       "   分类ID                                               产品属性    Parent SKU  \\\n",
       "0  8305  [{\"mandatory\":false,\"attribute_id\":9541,\"attri...  5.561653e+11   \n",
       "1  8305  [{\"mandatory\":false,\"attribute_id\":9541,\"attri...  5.561653e+11   \n",
       "2  8305  [{\"mandatory\":false,\"attribute_id\":9541,\"attri...  5.561653e+11   \n",
       "3  8305  [{\"mandatory\":false,\"attribute_id\":9541,\"attri...  5.561653e+11   \n",
       "4  8305  [{\"mandatory\":false,\"attribute_id\":9541,\"attri...  5.561653e+11   \n",
       "\n",
       "                                                产品标题  \\\n",
       "0  嬰兒兔裝 嬰兒长袖包屁衣 寶寶連身衣 寶寶連體衣 嬰兒長袖包屁衣 寶寶包屁衣 寶寶爬爬服 寶...   \n",
       "1  嬰兒兔裝 嬰兒长袖包屁衣 寶寶連身衣 寶寶連體衣 嬰兒長袖包屁衣 寶寶包屁衣 寶寶爬爬服 寶...   \n",
       "2  嬰兒兔裝 嬰兒长袖包屁衣 寶寶連身衣 寶寶連體衣 嬰兒長袖包屁衣 寶寶包屁衣 寶寶爬爬服 寶...   \n",
       "3  嬰兒兔裝 嬰兒长袖包屁衣 寶寶連身衣 寶寶連體衣 嬰兒長袖包屁衣 寶寶包屁衣 寶寶爬爬服 寶...   \n",
       "4  嬰兒兔裝 嬰兒长袖包屁衣 寶寶連身衣 寶寶連體衣 嬰兒長袖包屁衣 寶寶包屁衣 寶寶爬爬服 寶...   \n",
       "\n",
       "                                                产品描述              sku  \\\n",
       "0  款號：SY1293\\n材質：100%純棉\\n特點：吸濕透氣，柔軟舒適\\n尺碼：59cm、66...  SY1293-淺藍色-59cm   \n",
       "1  款號：SY1293\\n材質：100%純棉\\n特點：吸濕透氣，柔軟舒適\\n尺碼：59cm、66...  SY1293-淺藍色-66cm   \n",
       "2  款號：SY1293\\n材質：100%純棉\\n特點：吸濕透氣，柔軟舒適\\n尺碼：59cm、66...  SY1293-淺藍色-73CM   \n",
       "3  款號：SY1293\\n材質：100%純棉\\n特點：吸濕透氣，柔軟舒適\\n尺碼：59cm、66...  SY1293-淺藍色-80cm   \n",
       "4  款號：SY1293\\n材質：100%純棉\\n特點：吸濕透氣，柔軟舒適\\n尺碼：59cm、66...  SY1293-淺藍色-90cm   \n",
       "\n",
       "               变种名称    变种属性名称一  变种属性名称二            变种属性值一 ...   附图6  附图7  \\\n",
       "0    淺藍色-59cm-0~3個月  Variation  not set    淺藍色-59cm-0~3個月 ...   NaN  NaN   \n",
       "1    淺藍色-66cm-3~6個月  Variation  not set    淺藍色-66cm-3~6個月 ...   NaN  NaN   \n",
       "2   淺藍色-73CM-6~12個月  Variation  not set   淺藍色-73CM-6~12個月 ...   NaN  NaN   \n",
       "3  淺藍色-80cm-12~18個月  Variation  not set  淺藍色-80cm-12~18個月 ...   NaN  NaN   \n",
       "4  淺藍色-90cm-18~24個月  Variation  not set  淺藍色-90cm-18~24個月 ...   NaN  NaN   \n",
       "\n",
       "   附图8地址  变种图 长（cm） 宽（cm） 高（cm） 发货期  \\\n",
       "0    NaN  NaN    18    13     5   2   \n",
       "1    NaN  NaN    18    13     5   2   \n",
       "2    NaN  NaN    18    13     5   2   \n",
       "3    NaN  NaN    18    13     5   2   \n",
       "4    NaN  NaN    18    13     5   2   \n",
       "\n",
       "                                               来源URL  尺码图  \n",
       "0  https://detail.1688.com/offer/556165346360.htm...  NaN  \n",
       "1  https://detail.1688.com/offer/556165346360.htm...  NaN  \n",
       "2  https://detail.1688.com/offer/556165346360.htm...  NaN  \n",
       "3  https://detail.1688.com/offer/556165346360.htm...  NaN  \n",
       "4  https://detail.1688.com/offer/556165346360.htm...  NaN  \n",
       "\n",
       "[5 rows x 30 columns]"
      ]
     },
     "execution_count": 15,
     "metadata": {},
     "output_type": "execute_result"
    }
   ],
   "source": [
    "tw_site_product_list_with_selected_columns = tw_site_product_list[tw_site_product_list_selected_columns]\n",
    "tw_site_product_list_with_selected_columns.head(5)"
   ]
  },
  {
   "cell_type": "code",
   "execution_count": 16,
   "metadata": {
    "collapsed": true
   },
   "outputs": [],
   "source": [
    "# tw_site_product_list_with_selected_columns = tw_site_product_list_with_selected_columns[tw_site_product_list_with_selected_columns['分类ID'] == top_cat_id].reset_index()\n",
    "# tw_site_product_list_with_selected_columns"
   ]
  },
  {
   "cell_type": "code",
   "execution_count": 17,
   "metadata": {},
   "outputs": [
    {
     "name": "stderr",
     "output_type": "stream",
     "text": [
      "C:\\Users\\kuang\\Anaconda3\\lib\\site-packages\\ipykernel\\__main__.py:2: SettingWithCopyWarning: \n",
      "A value is trying to be set on a copy of a slice from a DataFrame.\n",
      "Try using .loc[row_indexer,col_indexer] = value instead\n",
      "\n",
      "See the caveats in the documentation: http://pandas.pydata.org/pandas-docs/stable/indexing.html#indexing-view-versus-copy\n",
      "  from ipykernel import kernelapp as app\n"
     ]
    }
   ],
   "source": [
    "# 把1688的来源url拆出来，把productid填充为parent sku\n",
    "tw_site_product_list_with_selected_columns['Parent SKU'] = tw_site_product_list_with_selected_columns['来源URL'].str.split(\"/\", n = 4, expand = True)[4].str.split(\".\", n = 1, expand=True)[0]\n",
    "# tw_site_product_list_with_selected_columns.head(5)"
   ]
  },
  {
   "cell_type": "code",
   "execution_count": 18,
   "metadata": {},
   "outputs": [
    {
     "data": {
      "text/plain": [
       "'ins爆款 胡蘿卜寶寶針織竹節棉爬服 嬰兒兔裝 嬰兒連身衣 寶寶包屁衣連身衣 中間開襟包屁衣 寶寶連體衣哈衣爬服'"
      ]
     },
     "execution_count": 18,
     "metadata": {},
     "output_type": "execute_result"
    }
   ],
   "source": [
    "# remove emoji\n",
    "import re\n",
    "\n",
    "emoji_pattern = re.compile(\n",
    "                u'['\n",
    "                u'\\U0001F300-\\U0001F64F'\n",
    "                u'\\U0001F680-\\U0001F6FF'\n",
    "                u'\\u2600-\\u2B55'\n",
    "                u'\\u23cf'\n",
    "                u'\\u23e9'\n",
    "                u'\\u231a'\n",
    "                u'\\u3030'\n",
    "                u'\\ufe0f'\n",
    "                u\"\\U0001F600-\\U0001F64F\"  # emoticons\n",
    "                u\"\\U0001F300-\\U0001F5FF\"  # symbols & pictographs\n",
    "                u'\\U00010000-\\U0010ffff'\n",
    "                u'\\U0001F1E0-\\U0001F1FF'  # flags (iOS)\n",
    "                u'\\U00002702-\\U000027B0]+', flags=re.UNICODE)\n",
    "\n",
    "def remove_emoji(text):\n",
    "    return emoji_pattern.sub(r'', text)\n",
    "\n",
    "remove_emoji('ins爆款 🥕胡蘿卜🥕寶寶針織竹節棉爬服 嬰兒兔裝 嬰兒連身衣 寶寶包屁衣連身衣 中間開襟包屁衣 寶寶連體衣哈衣爬服')"
   ]
  },
  {
   "cell_type": "code",
   "execution_count": 19,
   "metadata": {},
   "outputs": [
    {
     "name": "stderr",
     "output_type": "stream",
     "text": [
      "C:\\Users\\kuang\\Anaconda3\\lib\\site-packages\\ipykernel\\__main__.py:1: SettingWithCopyWarning: \n",
      "A value is trying to be set on a copy of a slice from a DataFrame.\n",
      "Try using .loc[row_indexer,col_indexer] = value instead\n",
      "\n",
      "See the caveats in the documentation: http://pandas.pydata.org/pandas-docs/stable/indexing.html#indexing-view-versus-copy\n",
      "  if __name__ == '__main__':\n",
      "C:\\Users\\kuang\\Anaconda3\\lib\\site-packages\\ipykernel\\__main__.py:2: SettingWithCopyWarning: \n",
      "A value is trying to be set on a copy of a slice from a DataFrame.\n",
      "Try using .loc[row_indexer,col_indexer] = value instead\n",
      "\n",
      "See the caveats in the documentation: http://pandas.pydata.org/pandas-docs/stable/indexing.html#indexing-view-versus-copy\n",
      "  from ipykernel import kernelapp as app\n"
     ]
    }
   ],
   "source": [
    "tw_site_product_list_with_selected_columns['产品标题'] = [remove_emoji(x) for x in tw_site_product_list_with_selected_columns['产品标题']]\n",
    "tw_site_product_list_with_selected_columns['产品描述'] = [remove_emoji(x) for x in tw_site_product_list_with_selected_columns['产品描述']]"
   ]
  },
  {
   "cell_type": "code",
   "execution_count": 20,
   "metadata": {},
   "outputs": [
    {
     "name": "stderr",
     "output_type": "stream",
     "text": [
      "C:\\Users\\kuang\\Anaconda3\\lib\\site-packages\\ipykernel\\__main__.py:1: SettingWithCopyWarning: \n",
      "A value is trying to be set on a copy of a slice from a DataFrame.\n",
      "Try using .loc[row_indexer,col_indexer] = value instead\n",
      "\n",
      "See the caveats in the documentation: http://pandas.pydata.org/pandas-docs/stable/indexing.html#indexing-view-versus-copy\n",
      "  if __name__ == '__main__':\n",
      "C:\\Users\\kuang\\Anaconda3\\lib\\site-packages\\ipykernel\\__main__.py:2: SettingWithCopyWarning: \n",
      "A value is trying to be set on a copy of a slice from a DataFrame.\n",
      "Try using .loc[row_indexer,col_indexer] = value instead\n",
      "\n",
      "See the caveats in the documentation: http://pandas.pydata.org/pandas-docs/stable/indexing.html#indexing-view-versus-copy\n",
      "  from ipykernel import kernelapp as app\n",
      "C:\\Users\\kuang\\Anaconda3\\lib\\site-packages\\ipykernel\\__main__.py:3: SettingWithCopyWarning: \n",
      "A value is trying to be set on a copy of a slice from a DataFrame.\n",
      "Try using .loc[row_indexer,col_indexer] = value instead\n",
      "\n",
      "See the caveats in the documentation: http://pandas.pydata.org/pandas-docs/stable/indexing.html#indexing-view-versus-copy\n",
      "  app.launch_new_instance()\n",
      "C:\\Users\\kuang\\Anaconda3\\lib\\site-packages\\ipykernel\\__main__.py:4: SettingWithCopyWarning: \n",
      "A value is trying to be set on a copy of a slice from a DataFrame.\n",
      "Try using .loc[row_indexer,col_indexer] = value instead\n",
      "\n",
      "See the caveats in the documentation: http://pandas.pydata.org/pandas-docs/stable/indexing.html#indexing-view-versus-copy\n"
     ]
    }
   ],
   "source": [
    "tw_site_product_list_with_selected_columns['长（cm）'] = tw_site_product_list_with_selected_columns['长（cm）'].fillna(18)\n",
    "tw_site_product_list_with_selected_columns['宽（cm）'] = tw_site_product_list_with_selected_columns['宽（cm）'].fillna(13)\n",
    "tw_site_product_list_with_selected_columns['高（cm）'] = tw_site_product_list_with_selected_columns['高（cm）'].fillna(5)\n",
    "tw_site_product_list_with_selected_columns['发货期'] = tw_site_product_list_with_selected_columns['发货期'].fillna(2)"
   ]
  },
  {
   "cell_type": "code",
   "execution_count": 21,
   "metadata": {},
   "outputs": [
    {
     "name": "stderr",
     "output_type": "stream",
     "text": [
      "C:\\Users\\kuang\\Anaconda3\\lib\\site-packages\\ipykernel\\__main__.py:3: SettingWithCopyWarning: \n",
      "A value is trying to be set on a copy of a slice from a DataFrame.\n",
      "Try using .loc[row_indexer,col_indexer] = value instead\n",
      "\n",
      "See the caveats in the documentation: http://pandas.pydata.org/pandas-docs/stable/indexing.html#indexing-view-versus-copy\n",
      "  app.launch_new_instance()\n"
     ]
    }
   ],
   "source": [
    "translate_currency = 0.045\n",
    "profit_rate = 1.2\n",
    "tw_site_product_list_with_selected_columns['价格'] = tw_site_product_list_with_selected_columns['价格'] * translate_currency / profit_rate"
   ]
  },
  {
   "cell_type": "code",
   "execution_count": 22,
   "metadata": {
    "collapsed": true
   },
   "outputs": [],
   "source": [
    "# tw_site_product_list_with_selected_columns.head(5)"
   ]
  },
  {
   "cell_type": "code",
   "execution_count": 23,
   "metadata": {
    "collapsed": true
   },
   "outputs": [],
   "source": [
    "from googletrans import Translator"
   ]
  },
  {
   "cell_type": "code",
   "execution_count": 24,
   "metadata": {},
   "outputs": [
    {
     "data": {
      "text/plain": [
       "'한국'"
      ]
     },
     "execution_count": 24,
     "metadata": {},
     "output_type": "execute_result"
    }
   ],
   "source": [
    "translator = Translator(service_urls=[\n",
    "      'translate.google.com',\n",
    "      'translate.google.co.kr',\n",
    "    ])\n",
    "translator.translate('韩国', dest='ko').text"
   ]
  },
  {
   "cell_type": "code",
   "execution_count": 25,
   "metadata": {
    "collapsed": true
   },
   "outputs": [],
   "source": [
    "# translations = translator.translate(['The quick brown fox', 'jumps over', 'the lazy dog'], dest='ko')\n",
    "# for translation in translations:\n",
    "#     print(translation.origin, ' -> ', translation.text)"
   ]
  },
  {
   "cell_type": "code",
   "execution_count": 26,
   "metadata": {
    "collapsed": true
   },
   "outputs": [],
   "source": [
    "translate_columns = ['产品标题', '产品描述', '变种名称', '变种属性名称一', '变种属性名称二', '变种属性值一', '变种属性值二']\n",
    "# translate_columns = ['产品标题']\n",
    "# translate_columns = ['产品描述', '变种名称', '变种属性名称一', '变种属性名称二', '变种属性值一', '变种属性值二']"
   ]
  },
  {
   "cell_type": "code",
   "execution_count": 27,
   "metadata": {},
   "outputs": [
    {
     "name": "stderr",
     "output_type": "stream",
     "text": [
      "C:\\Users\\kuang\\Anaconda3\\lib\\site-packages\\pandas\\core\\frame.py:2378: SettingWithCopyWarning: \n",
      "A value is trying to be set on a copy of a slice from a DataFrame.\n",
      "Try using .loc[row_indexer,col_indexer] = value instead\n",
      "\n",
      "See the caveats in the documentation: http://pandas.pydata.org/pandas-docs/stable/indexing.html#indexing-view-versus-copy\n",
      "  self[k1] = value[k2]\n"
     ]
    }
   ],
   "source": [
    "# 把空值填充为string格式\n",
    "tw_site_product_list_with_selected_columns[translate_columns] = tw_site_product_list_with_selected_columns[translate_columns].fillna(value='不需翻译')"
   ]
  },
  {
   "cell_type": "code",
   "execution_count": 28,
   "metadata": {},
   "outputs": [
    {
     "name": "stderr",
     "output_type": "stream",
     "text": [
      " 2019-10-19 10:22:40,794 - INFO - variation list: {'Variation', 'not set', '尺碼', '款式'}\n"
     ]
    }
   ],
   "source": [
    "# 把variation_name做一些删减\n",
    "variation_list = set(list(tw_site_product_list_with_selected_columns['变种属性名称一'].unique()) + list(tw_site_product_list_with_selected_columns['变种属性名称二'].unique()))\n",
    "logging.info('variation list: ' + str(variation_list))"
   ]
  },
  {
   "cell_type": "code",
   "execution_count": 29,
   "metadata": {},
   "outputs": [
    {
     "name": "stderr",
     "output_type": "stream",
     "text": [
      "C:\\Users\\kuang\\Anaconda3\\lib\\site-packages\\ipykernel\\__main__.py:2: SettingWithCopyWarning: \n",
      "A value is trying to be set on a copy of a slice from a DataFrame.\n",
      "Try using .loc[row_indexer,col_indexer] = value instead\n",
      "\n",
      "See the caveats in the documentation: http://pandas.pydata.org/pandas-docs/stable/indexing.html#indexing-view-versus-copy\n",
      "  from ipykernel import kernelapp as app\n",
      "C:\\Users\\kuang\\Anaconda3\\lib\\site-packages\\ipykernel\\__main__.py:3: SettingWithCopyWarning: \n",
      "A value is trying to be set on a copy of a slice from a DataFrame.\n",
      "Try using .loc[row_indexer,col_indexer] = value instead\n",
      "\n",
      "See the caveats in the documentation: http://pandas.pydata.org/pandas-docs/stable/indexing.html#indexing-view-versus-copy\n",
      "  app.launch_new_instance()\n"
     ]
    }
   ],
   "source": [
    "variation_rename = {'适合身高': '身高', '童袜尺码': '尺码', '不需翻译': 'not set'}\n",
    "tw_site_product_list_with_selected_columns['变种属性名称一'] = tw_site_product_list_with_selected_columns['变种属性名称一'].apply(lambda x: variation_rename[x] if x in variation_rename else x)\n",
    "tw_site_product_list_with_selected_columns['变种属性名称二'] = tw_site_product_list_with_selected_columns['变种属性名称二'].apply(lambda x: variation_rename[x] if x in variation_rename else x)"
   ]
  },
  {
   "cell_type": "code",
   "execution_count": 30,
   "metadata": {
    "collapsed": true
   },
   "outputs": [],
   "source": [
    "# 对variation_value做一些删减\n",
    "# variation_value_list = set(list(tw_site_product_list_with_selected_columns['变种属性值一'].unique()) + list(tw_site_product_list_with_selected_columns['变种属性值一'].unique()))\n",
    "# logging.info('variation value list: ' + str(variation_value_list))"
   ]
  },
  {
   "cell_type": "code",
   "execution_count": 31,
   "metadata": {
    "collapsed": true
   },
   "outputs": [],
   "source": [
    "# tw_site_product_list_with_selected_columns = tw_site_product_list_with_selected_columns[:5]\n",
    "# # tw_site_product_list_with_selected_columns"
   ]
  },
  {
   "cell_type": "code",
   "execution_count": null,
   "metadata": {
    "collapsed": true
   },
   "outputs": [],
   "source": [
    "today = date.today()\n",
    "d1 = today.strftime(\"%Y_%m_%d\")"
   ]
  },
  {
   "cell_type": "code",
   "execution_count": null,
   "metadata": {
    "collapsed": true
   },
   "outputs": [],
   "source": [
    "for index, row in tw_site_product_list_with_selected_columns.iterrows():\n",
    "    try:\n",
    "        list_to_translate = []\n",
    "        for i, value in enumerate(translate_columns):\n",
    "            list_to_translate.append(row[translate_columns[i]])\n",
    "        \n",
    "        translate_language = 'en'\n",
    "        translator = Translator(service_urls=['translate.google.com'])\n",
    "        list_be_translated = translator.translate(list_to_translate, dest=translate_language, src='zh-CN')\n",
    "        # list_be_translated = translator.translate(list_to_translate, dest=translate_language)\n",
    "        time.sleep(10)\n",
    "        \n",
    "        i = 0\n",
    "        for translate_language in list_be_translated:\n",
    "            tw_site_product_list_with_selected_columns.at[index, translate_columns[i]] = translate_language.text\n",
    "            i += 1\n",
    "        \n",
    "        if (index + 1) % 5 == 0:\n",
    "            logging.info(str(index + 1) + ' rows have been translated.')\n",
    "            \n",
    "        tw_site_product_list_with_selected_columns.to_excel(os.path.join(folder_path, 'translated_product_' + d1 + '.xlsx'), index=False)\n",
    "    except Exception as err:\n",
    "        logging.warning(str(index + 1) + ' rows have not been translated. Error message: ' + str(err))\n",
    "        pass"
   ]
  },
  {
   "cell_type": "code",
   "execution_count": null,
   "metadata": {
    "collapsed": true,
    "scrolled": true
   },
   "outputs": [],
   "source": [
    "# for translate_column in translate_columns:\n",
    "#     # tw_site_product_list_with_selected_columns[translate_column] = tw_site_product_list_with_selected_columns[translate_column].fillna(0)\n",
    "#     # tw_site_product_list_with_selected_columns[translate_column]  = [translator.translate(x, dest=translate_language).text \n",
    "#                                                                      # for x in tw_site_product_list_with_selected_columns[translate_column]]\n",
    "#     for index, row in tw_site_product_list_with_selected_columns.iterrows():\n",
    "#         try:\n",
    "#             orginal_text = tw_site_product_list_with_selected_columns.at[index, translate_column]\n",
    "#             tw_site_product_list_with_selected_columns.at[index, translate_column] = translator.translate(row[translate_column], dest=translate_language).text\n",
    "#             # print(row[translate_column])\n",
    "#             logging.info(translate_column + ' - ' + str(index + 1) + ' rows have been translated.')\n",
    "#             # logging.info(orginal_text + ' -> ' + tw_site_product_list_with_selected_columns.at[index, translate_column])\n",
    "#             time.sleep(5)\n",
    "#         except:\n",
    "#             logging.warning(translate_column + ' - ' + str(index + 1) + ' rows have not been translated.')\n",
    "#             pass\n",
    "        \n",
    "#     # print(tw_site_product_list_with_selected_columns.head(5))\n",
    "    \n",
    "#     tw_site_product_list_with_selected_columns.to_excel(os.path.join(folder_path, 'tw_translated_product(1).xlsx'), index=False)\n",
    "#     logging.info(str(translate_column) + ' is done.')"
   ]
  }
 ],
 "metadata": {
  "anaconda-cloud": {},
  "kernelspec": {
   "display_name": "Python [default]",
   "language": "python",
   "name": "python3"
  },
  "language_info": {
   "codemirror_mode": {
    "name": "ipython",
    "version": 3
   },
   "file_extension": ".py",
   "mimetype": "text/x-python",
   "name": "python",
   "nbconvert_exporter": "python",
   "pygments_lexer": "ipython3",
   "version": "3.5.2"
  }
 },
 "nbformat": 4,
 "nbformat_minor": 1
}
