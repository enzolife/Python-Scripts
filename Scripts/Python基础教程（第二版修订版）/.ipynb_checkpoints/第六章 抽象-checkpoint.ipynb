{
 "cells": [
  {
   "cell_type": "code",
   "execution_count": 2,
   "metadata": {},
   "outputs": [],
   "source": [
    "# 6.3 创建函数\n",
    "# 6.3.1 文档化函数"
   ]
  },
  {
   "cell_type": "code",
   "execution_count": 3,
   "metadata": {},
   "outputs": [],
   "source": [
    "def square(x):\n",
    "    'Calculates the square of the number x.'\n",
    "    return x*x"
   ]
  },
  {
   "cell_type": "code",
   "execution_count": 4,
   "metadata": {},
   "outputs": [
    {
     "data": {
      "text/plain": [
       "'Calculates the square of the number x.'"
      ]
     },
     "execution_count": 4,
     "metadata": {},
     "output_type": "execute_result"
    }
   ],
   "source": [
    "square.__doc__"
   ]
  },
  {
   "cell_type": "code",
   "execution_count": 5,
   "metadata": {},
   "outputs": [
    {
     "name": "stdout",
     "output_type": "stream",
     "text": [
      "Help on function square in module __main__:\n",
      "\n",
      "square(x)\n",
      "    Calculates the square of the number x.\n",
      "\n"
     ]
    }
   ],
   "source": [
    "help(square)"
   ]
  },
  {
   "cell_type": "code",
   "execution_count": 6,
   "metadata": {},
   "outputs": [],
   "source": [
    "# 6.4 参数魔法\n",
    "# 6.4.4 收集参数"
   ]
  },
  {
   "cell_type": "code",
   "execution_count": 7,
   "metadata": {},
   "outputs": [],
   "source": [
    "def print_params(*params):\n",
    "    print(params)"
   ]
  },
  {
   "cell_type": "code",
   "execution_count": 8,
   "metadata": {},
   "outputs": [
    {
     "name": "stdout",
     "output_type": "stream",
     "text": [
      "('Testing',)\n"
     ]
    }
   ],
   "source": [
    "print_params('Testing')"
   ]
  },
  {
   "cell_type": "code",
   "execution_count": 9,
   "metadata": {},
   "outputs": [
    {
     "name": "stdout",
     "output_type": "stream",
     "text": [
      "(1, 2, 3)\n"
     ]
    }
   ],
   "source": [
    "print_params(1, 2, 3)"
   ]
  },
  {
   "cell_type": "code",
   "execution_count": 10,
   "metadata": {},
   "outputs": [],
   "source": [
    "def print_params_2(title, *params):\n",
    "    print(title)\n",
    "    print(params)"
   ]
  },
  {
   "cell_type": "code",
   "execution_count": 11,
   "metadata": {},
   "outputs": [
    {
     "name": "stdout",
     "output_type": "stream",
     "text": [
      "Params:\n",
      "(1, 2, 3)\n"
     ]
    }
   ],
   "source": [
    "print_params_2('Params:', 1, 2, 3)"
   ]
  },
  {
   "cell_type": "code",
   "execution_count": 12,
   "metadata": {},
   "outputs": [
    {
     "name": "stdout",
     "output_type": "stream",
     "text": [
      "nothing:\n",
      "()\n"
     ]
    }
   ],
   "source": [
    "print_params_2('nothing:')"
   ]
  },
  {
   "cell_type": "code",
   "execution_count": 13,
   "metadata": {},
   "outputs": [],
   "source": [
    "def print_params_3(**params):\n",
    "    print(params)"
   ]
  },
  {
   "cell_type": "code",
   "execution_count": 14,
   "metadata": {},
   "outputs": [
    {
     "name": "stdout",
     "output_type": "stream",
     "text": [
      "{'x': 1, 'z': 3, 'y': 2}\n"
     ]
    }
   ],
   "source": [
    "print_params_3(x=1, y=2, z=3)"
   ]
  },
  {
   "cell_type": "code",
   "execution_count": 15,
   "metadata": {},
   "outputs": [],
   "source": [
    "def print_params_4(x, y, z=3, *pospar, **keypar):\n",
    "    print(x, y, z)\n",
    "    print(pospar)\n",
    "    print(keypar)"
   ]
  },
  {
   "cell_type": "code",
   "execution_count": 16,
   "metadata": {},
   "outputs": [
    {
     "name": "stdout",
     "output_type": "stream",
     "text": [
      "1 2 3\n",
      "(5, 6, 7)\n",
      "{'foo': 1, 'bar': 2}\n"
     ]
    }
   ],
   "source": [
    "print_params_4(1, 2, 3, 5, 6, 7, foo=1, bar=2)"
   ]
  },
  {
   "cell_type": "code",
   "execution_count": 17,
   "metadata": {},
   "outputs": [
    {
     "name": "stdout",
     "output_type": "stream",
     "text": [
      "1 2 3\n",
      "()\n",
      "{}\n"
     ]
    }
   ],
   "source": [
    "print_params_4(1, 2)"
   ]
  },
  {
   "cell_type": "code",
   "execution_count": 18,
   "metadata": {},
   "outputs": [],
   "source": [
    "# 6.4.5 参数收集的逆过程"
   ]
  },
  {
   "cell_type": "code",
   "execution_count": 19,
   "metadata": {},
   "outputs": [],
   "source": [
    "def add(x, y): return x + y"
   ]
  },
  {
   "cell_type": "code",
   "execution_count": 20,
   "metadata": {},
   "outputs": [],
   "source": [
    "params = (1, 2)"
   ]
  },
  {
   "cell_type": "code",
   "execution_count": 21,
   "metadata": {},
   "outputs": [
    {
     "data": {
      "text/plain": [
       "3"
      ]
     },
     "execution_count": 21,
     "metadata": {},
     "output_type": "execute_result"
    }
   ],
   "source": [
    "add(*params)"
   ]
  },
  {
   "cell_type": "code",
   "execution_count": 22,
   "metadata": {},
   "outputs": [],
   "source": [
    "def with_stars(**kwds):\n",
    "    print(kwds['name'], 'is', kwds['age'], 'years old')"
   ]
  },
  {
   "cell_type": "code",
   "execution_count": 23,
   "metadata": {},
   "outputs": [],
   "source": [
    "def without_stars(kwds):\n",
    "    print(kwds['name'], 'is', kwds['age'], 'years old')"
   ]
  },
  {
   "cell_type": "code",
   "execution_count": 24,
   "metadata": {},
   "outputs": [],
   "source": [
    "args = {'name': 'Mr. Gumby', 'age': 42}"
   ]
  },
  {
   "cell_type": "code",
   "execution_count": 25,
   "metadata": {},
   "outputs": [
    {
     "name": "stdout",
     "output_type": "stream",
     "text": [
      "Mr. Gumby is 42 years old\n"
     ]
    }
   ],
   "source": [
    "with_stars(**args)"
   ]
  },
  {
   "cell_type": "code",
   "execution_count": 26,
   "metadata": {},
   "outputs": [
    {
     "name": "stdout",
     "output_type": "stream",
     "text": [
      "Mr. Gumby is 42 years old\n"
     ]
    }
   ],
   "source": [
    "without_stars(args)"
   ]
  },
  {
   "cell_type": "code",
   "execution_count": 27,
   "metadata": {},
   "outputs": [],
   "source": [
    "# 6.4.6 练习使用参数\n",
    "def story(**kwds):\n",
    "    return 'Once upon a time, there was a %(job)s called %(name)s.' % kwds\n"
   ]
  },
  {
   "cell_type": "code",
   "execution_count": 45,
   "metadata": {},
   "outputs": [],
   "source": [
    "def power(x, y, *others):\n",
    "    if others:\n",
    "        print('Received redundant parameters:', others)\n",
    "    return pow(x, y)\n",
    "\n",
    "def interval(start, stop=None, step=1):\n",
    "    'Imitates range() for step > 0'\n",
    "    if stop is None:\n",
    "        start, stop = 0, start\n",
    "    result = []\n",
    "    i = start\n",
    "    while i < stop:\n",
    "        result.append(i)\n",
    "        i += step\n",
    "    return result"
   ]
  },
  {
   "cell_type": "code",
   "execution_count": 29,
   "metadata": {},
   "outputs": [
    {
     "name": "stdout",
     "output_type": "stream",
     "text": [
      "Once upon a time, there was a king called Gumby.\n"
     ]
    }
   ],
   "source": [
    "print(story(job='king', name='Gumby'))"
   ]
  },
  {
   "cell_type": "code",
   "execution_count": 30,
   "metadata": {},
   "outputs": [
    {
     "name": "stdout",
     "output_type": "stream",
     "text": [
      "Once upon a time, there was a king called Gumby.\n"
     ]
    }
   ],
   "source": [
    "print(story(job='king', name='Gumby', test='test'))"
   ]
  },
  {
   "cell_type": "code",
   "execution_count": 31,
   "metadata": {},
   "outputs": [
    {
     "name": "stdout",
     "output_type": "stream",
     "text": [
      "Once upon a time, there was a brave knight called Sir Robin.\n"
     ]
    }
   ],
   "source": [
    "print(story(name='Sir Robin', job='brave knight'))"
   ]
  },
  {
   "cell_type": "code",
   "execution_count": 33,
   "metadata": {},
   "outputs": [
    {
     "name": "stdout",
     "output_type": "stream",
     "text": [
      "Once upon a time, there was a language called Python.\n"
     ]
    }
   ],
   "source": [
    "params = {'job': 'language', 'name': 'Python'}\n",
    "print(story(**params))"
   ]
  },
  {
   "cell_type": "code",
   "execution_count": 34,
   "metadata": {},
   "outputs": [],
   "source": [
    "del params['job']"
   ]
  },
  {
   "cell_type": "code",
   "execution_count": 35,
   "metadata": {},
   "outputs": [
    {
     "name": "stdout",
     "output_type": "stream",
     "text": [
      "Once upon a time, there was a stroke of genius called Python.\n"
     ]
    }
   ],
   "source": [
    "print(story(job='stroke of genius', **params))"
   ]
  },
  {
   "cell_type": "code",
   "execution_count": 36,
   "metadata": {},
   "outputs": [
    {
     "data": {
      "text/plain": [
       "8"
      ]
     },
     "execution_count": 36,
     "metadata": {},
     "output_type": "execute_result"
    }
   ],
   "source": [
    "power(2, 3)"
   ]
  },
  {
   "cell_type": "code",
   "execution_count": 37,
   "metadata": {},
   "outputs": [
    {
     "data": {
      "text/plain": [
       "9"
      ]
     },
     "execution_count": 37,
     "metadata": {},
     "output_type": "execute_result"
    }
   ],
   "source": [
    "power(3, 2)"
   ]
  },
  {
   "cell_type": "code",
   "execution_count": 38,
   "metadata": {},
   "outputs": [
    {
     "data": {
      "text/plain": [
       "8"
      ]
     },
     "execution_count": 38,
     "metadata": {},
     "output_type": "execute_result"
    }
   ],
   "source": [
    "power(y=3, x=2)"
   ]
  },
  {
   "cell_type": "code",
   "execution_count": 40,
   "metadata": {},
   "outputs": [
    {
     "data": {
      "text/plain": [
       "(5, 5)"
      ]
     },
     "execution_count": 40,
     "metadata": {},
     "output_type": "execute_result"
    }
   ],
   "source": [
    "params = (5,) * 2\n",
    "params"
   ]
  },
  {
   "cell_type": "code",
   "execution_count": 41,
   "metadata": {},
   "outputs": [
    {
     "data": {
      "text/plain": [
       "3125"
      ]
     },
     "execution_count": 41,
     "metadata": {},
     "output_type": "execute_result"
    }
   ],
   "source": [
    "power(*params)"
   ]
  },
  {
   "cell_type": "code",
   "execution_count": 42,
   "metadata": {},
   "outputs": [
    {
     "ename": "TypeError",
     "evalue": "power() argument after ** must be a mapping, not tuple",
     "output_type": "error",
     "traceback": [
      "\u001b[0;31m---------------------------------------------------------------------------\u001b[0m",
      "\u001b[0;31mTypeError\u001b[0m                                 Traceback (most recent call last)",
      "\u001b[0;32m<ipython-input-42-ae7b4339c579>\u001b[0m in \u001b[0;36m<module>\u001b[0;34m()\u001b[0m\n\u001b[0;32m----> 1\u001b[0;31m \u001b[0mpower\u001b[0m\u001b[0;34m(\u001b[0m\u001b[0;34m**\u001b[0m\u001b[0mparams\u001b[0m\u001b[0;34m)\u001b[0m\u001b[0;34m\u001b[0m\u001b[0m\n\u001b[0m",
      "\u001b[0;31mTypeError\u001b[0m: power() argument after ** must be a mapping, not tuple"
     ]
    }
   ],
   "source": [
    "power(**params)"
   ]
  },
  {
   "cell_type": "code",
   "execution_count": 43,
   "metadata": {},
   "outputs": [
    {
     "name": "stdout",
     "output_type": "stream",
     "text": [
      "Received redundant parameters: ('Hello, world',)\n"
     ]
    },
    {
     "data": {
      "text/plain": [
       "27"
      ]
     },
     "execution_count": 43,
     "metadata": {},
     "output_type": "execute_result"
    }
   ],
   "source": [
    "power(3, 3, 'Hello, world')"
   ]
  },
  {
   "cell_type": "code",
   "execution_count": 46,
   "metadata": {},
   "outputs": [
    {
     "data": {
      "text/plain": [
       "[0, 1, 2, 3, 4, 5, 6, 7, 8, 9]"
      ]
     },
     "execution_count": 46,
     "metadata": {},
     "output_type": "execute_result"
    }
   ],
   "source": [
    "interval(10)"
   ]
  },
  {
   "cell_type": "code",
   "execution_count": 47,
   "metadata": {},
   "outputs": [
    {
     "data": {
      "text/plain": [
       "[1, 2, 3, 4]"
      ]
     },
     "execution_count": 47,
     "metadata": {},
     "output_type": "execute_result"
    }
   ],
   "source": [
    "interval(1, 5)"
   ]
  },
  {
   "cell_type": "code",
   "execution_count": 49,
   "metadata": {},
   "outputs": [
    {
     "data": {
      "text/plain": [
       "[3, 7, 11]"
      ]
     },
     "execution_count": 49,
     "metadata": {},
     "output_type": "execute_result"
    }
   ],
   "source": [
    "interval(3, 12, 4)"
   ]
  },
  {
   "cell_type": "code",
   "execution_count": 51,
   "metadata": {},
   "outputs": [
    {
     "name": "stdout",
     "output_type": "stream",
     "text": [
      "Received redundant parameters: (5, 6)\n"
     ]
    },
    {
     "data": {
      "text/plain": [
       "81"
      ]
     },
     "execution_count": 51,
     "metadata": {},
     "output_type": "execute_result"
    }
   ],
   "source": [
    "power(*interval(3, 7))"
   ]
  },
  {
   "cell_type": "code",
   "execution_count": 52,
   "metadata": {},
   "outputs": [],
   "source": [
    "# 6.5 作用域"
   ]
  },
  {
   "cell_type": "code",
   "execution_count": 53,
   "metadata": {},
   "outputs": [],
   "source": [
    "x = 1"
   ]
  },
  {
   "cell_type": "code",
   "execution_count": 55,
   "metadata": {},
   "outputs": [],
   "source": [
    "scope = vars()"
   ]
  },
  {
   "cell_type": "code",
   "execution_count": 56,
   "metadata": {},
   "outputs": [
    {
     "data": {
      "text/plain": [
       "{'In': ['',\n",
       "  \"def power(x, y, *others):\\n    if others:\\n        print('Received redundant parameters:', others)\\n    return pow(x, y)\\n\\ndef interval(start, stop=None, step=1):\\n    'Imitates range() for step > 0'\\n    if stop is None:\\n        start, stop = 0, start\\n    result = []\\n    i = start\\n    while i < stop:\\n        result.append()\\n        i += step\\n    return result\",\n",
       "  '# 6.3 创建函数\\n# 6.3.1 文档化函数',\n",
       "  \"def square(x):\\n    'Calculates the square of the number x.'\\n    return x*x\",\n",
       "  'square.__doc__',\n",
       "  'help(square)',\n",
       "  '# 6.4 参数魔法\\n# 6.4.4 收集参数',\n",
       "  'def print_params(*params):\\n    print(params)',\n",
       "  \"print_params('Testing')\",\n",
       "  'print_params(1, 2, 3)',\n",
       "  'def print_params_2(title, *params):\\n    print(title)\\n    print(params)',\n",
       "  \"print_params_2('Params:', 1, 2, 3)\",\n",
       "  \"print_params_2('nothing:')\",\n",
       "  'def print_params_3(**params):\\n    print(params)',\n",
       "  'print_params_3(x=1, y=2, z=3)',\n",
       "  'def print_params_4(x, y, z=3, *pospar, **keypar):\\n    print(x, y, z)\\n    print(pospar)\\n    print(keypar)',\n",
       "  'print_params_4(1, 2, 3, 5, 6, 7, foo=1, bar=2)',\n",
       "  'print_params_4(1, 2)',\n",
       "  '# 6.4.5 参数收集的逆过程',\n",
       "  'def add(x, y): return x + y',\n",
       "  'params = (1, 2)',\n",
       "  'add(*params)',\n",
       "  \"def with_stars(**kwds):\\n    print(kwds['name'], 'is', kwds['age'], 'years old')\",\n",
       "  \"def without_stars(kwds):\\n    print(kwds['name'], 'is', kwds['age'], 'years old')\",\n",
       "  \"args = {'name': 'Mr. Gumby', 'age': 42}\",\n",
       "  'with_stars(**args)',\n",
       "  'without_stars(args)',\n",
       "  \"# 6.4.6 练习使用参数\\ndef story(**kwds):\\n    return 'Once upon a time, there was a %(job)s called %(name)s.' % kwds\",\n",
       "  \"def power(x, y, *others):\\n    if others:\\n        print('Received redundant parameters:', others)\\n    return pow(x, y)\\n\\ndef interval(start, stop=None, step=1):\\n    'Imitates range() for step > 0'\\n    if stop is None:\\n        start, stop = 0, start\\n    result = []\\n    i = start\\n    while i < stop:\\n        result.append()\\n        i += step\\n    return result\",\n",
       "  \"print(story(job='king', name='Gumby'))\",\n",
       "  \"print(story(job='king', name='Gumby', test='test'))\",\n",
       "  \"print(story(name='Sir Robin', job='brave knight'))\",\n",
       "  \"params = {'job': 'language', 'name': 'Python'}\\nprint(story(params))\",\n",
       "  \"params = {'job': 'language', 'name': 'Python'}\\nprint(story(**params))\",\n",
       "  \"del params['job']\",\n",
       "  \"print(story(job='stroke of genius', **params))\",\n",
       "  'power(2, 3)',\n",
       "  'power(3, 2)',\n",
       "  'power(y=3, x=2)',\n",
       "  'params = (5,) * 2',\n",
       "  'params = (5,) * 2\\nparams',\n",
       "  'power(*params)',\n",
       "  'power(**params)',\n",
       "  \"power(3, 3, 'Hello, world')\",\n",
       "  'interval(10)',\n",
       "  \"def power(x, y, *others):\\n    if others:\\n        print('Received redundant parameters:', others)\\n    return pow(x, y)\\n\\ndef interval(start, stop=None, step=1):\\n    'Imitates range() for step > 0'\\n    if stop is None:\\n        start, stop = 0, start\\n    result = []\\n    i = start\\n    while i < stop:\\n        result.append(i)\\n        i += step\\n    return result\",\n",
       "  'interval(10)',\n",
       "  'interval(1, 5)',\n",
       "  'inteval(3, 12, 4)',\n",
       "  'interval(3, 12, 4)',\n",
       "  'power(*inteval(3, 7))',\n",
       "  'power(*interval(3, 7))',\n",
       "  '# 6.5 作用域',\n",
       "  'x = 1',\n",
       "  'scope = var()',\n",
       "  'scope = vars()',\n",
       "  'scope'],\n",
       " 'Out': {4: 'Calculates the square of the number x.',\n",
       "  21: 3,\n",
       "  36: 8,\n",
       "  37: 9,\n",
       "  38: 8,\n",
       "  40: (5, 5),\n",
       "  41: 3125,\n",
       "  43: 27,\n",
       "  46: [0, 1, 2, 3, 4, 5, 6, 7, 8, 9],\n",
       "  47: [1, 2, 3, 4],\n",
       "  49: [3, 7, 11],\n",
       "  51: 81},\n",
       " '_': 81,\n",
       " '_21': 3,\n",
       " '_36': 8,\n",
       " '_37': 9,\n",
       " '_38': 8,\n",
       " '_4': 'Calculates the square of the number x.',\n",
       " '_40': (5, 5),\n",
       " '_41': 3125,\n",
       " '_43': 27,\n",
       " '_46': [0, 1, 2, 3, 4, 5, 6, 7, 8, 9],\n",
       " '_47': [1, 2, 3, 4],\n",
       " '_49': [3, 7, 11],\n",
       " '_51': 81,\n",
       " '__': [3, 7, 11],\n",
       " '___': [1, 2, 3, 4],\n",
       " '__builtin__': <module 'builtins' (built-in)>,\n",
       " '__builtins__': <module 'builtins' (built-in)>,\n",
       " '__doc__': 'Automatically created module for IPython interactive environment',\n",
       " '__loader__': None,\n",
       " '__name__': '__main__',\n",
       " '__package__': None,\n",
       " '__spec__': None,\n",
       " '_dh': ['/Users/kuangjianjie/PycharmProjects/Python-Scripts/Scripts/Python基础教程（第二版修订版）'],\n",
       " '_i': 'scope = vars()',\n",
       " '_i1': \"def power(x, y, *others):\\n    if others:\\n        print('Received redundant parameters:', others)\\n    return pow(x, y)\\n\\ndef interval(start, stop=None, step=1):\\n    'Imitates range() for step > 0'\\n    if stop is None:\\n        start, stop = 0, start\\n    result = []\\n    i = start\\n    while i < stop:\\n        result.append()\\n        i += step\\n    return result\",\n",
       " '_i10': 'def print_params_2(title, *params):\\n    print(title)\\n    print(params)',\n",
       " '_i11': \"print_params_2('Params:', 1, 2, 3)\",\n",
       " '_i12': \"print_params_2('nothing:')\",\n",
       " '_i13': 'def print_params_3(**params):\\n    print(params)',\n",
       " '_i14': 'print_params_3(x=1, y=2, z=3)',\n",
       " '_i15': 'def print_params_4(x, y, z=3, *pospar, **keypar):\\n    print(x, y, z)\\n    print(pospar)\\n    print(keypar)',\n",
       " '_i16': 'print_params_4(1, 2, 3, 5, 6, 7, foo=1, bar=2)',\n",
       " '_i17': 'print_params_4(1, 2)',\n",
       " '_i18': '# 6.4.5 参数收集的逆过程',\n",
       " '_i19': 'def add(x, y): return x + y',\n",
       " '_i2': '# 6.3 创建函数\\n# 6.3.1 文档化函数',\n",
       " '_i20': 'params = (1, 2)',\n",
       " '_i21': 'add(*params)',\n",
       " '_i22': \"def with_stars(**kwds):\\n    print(kwds['name'], 'is', kwds['age'], 'years old')\",\n",
       " '_i23': \"def without_stars(kwds):\\n    print(kwds['name'], 'is', kwds['age'], 'years old')\",\n",
       " '_i24': \"args = {'name': 'Mr. Gumby', 'age': 42}\",\n",
       " '_i25': 'with_stars(**args)',\n",
       " '_i26': 'without_stars(args)',\n",
       " '_i27': \"# 6.4.6 练习使用参数\\ndef story(**kwds):\\n    return 'Once upon a time, there was a %(job)s called %(name)s.' % kwds\",\n",
       " '_i28': \"def power(x, y, *others):\\n    if others:\\n        print('Received redundant parameters:', others)\\n    return pow(x, y)\\n\\ndef interval(start, stop=None, step=1):\\n    'Imitates range() for step > 0'\\n    if stop is None:\\n        start, stop = 0, start\\n    result = []\\n    i = start\\n    while i < stop:\\n        result.append()\\n        i += step\\n    return result\",\n",
       " '_i29': \"print(story(job='king', name='Gumby'))\",\n",
       " '_i3': \"def square(x):\\n    'Calculates the square of the number x.'\\n    return x*x\",\n",
       " '_i30': \"print(story(job='king', name='Gumby', test='test'))\",\n",
       " '_i31': \"print(story(name='Sir Robin', job='brave knight'))\",\n",
       " '_i32': \"params = {'job': 'language', 'name': 'Python'}\\nprint(story(params))\",\n",
       " '_i33': \"params = {'job': 'language', 'name': 'Python'}\\nprint(story(**params))\",\n",
       " '_i34': \"del params['job']\",\n",
       " '_i35': \"print(story(job='stroke of genius', **params))\",\n",
       " '_i36': 'power(2, 3)',\n",
       " '_i37': 'power(3, 2)',\n",
       " '_i38': 'power(y=3, x=2)',\n",
       " '_i39': 'params = (5,) * 2',\n",
       " '_i4': 'square.__doc__',\n",
       " '_i40': 'params = (5,) * 2\\nparams',\n",
       " '_i41': 'power(*params)',\n",
       " '_i42': 'power(**params)',\n",
       " '_i43': \"power(3, 3, 'Hello, world')\",\n",
       " '_i44': 'interval(10)',\n",
       " '_i45': \"def power(x, y, *others):\\n    if others:\\n        print('Received redundant parameters:', others)\\n    return pow(x, y)\\n\\ndef interval(start, stop=None, step=1):\\n    'Imitates range() for step > 0'\\n    if stop is None:\\n        start, stop = 0, start\\n    result = []\\n    i = start\\n    while i < stop:\\n        result.append(i)\\n        i += step\\n    return result\",\n",
       " '_i46': 'interval(10)',\n",
       " '_i47': 'interval(1, 5)',\n",
       " '_i48': 'inteval(3, 12, 4)',\n",
       " '_i49': 'interval(3, 12, 4)',\n",
       " '_i5': 'help(square)',\n",
       " '_i50': 'power(*inteval(3, 7))',\n",
       " '_i51': 'power(*interval(3, 7))',\n",
       " '_i52': '# 6.5 作用域',\n",
       " '_i53': 'x = 1',\n",
       " '_i54': 'scope = var()',\n",
       " '_i55': 'scope = vars()',\n",
       " '_i56': 'scope',\n",
       " '_i6': '# 6.4 参数魔法\\n# 6.4.4 收集参数',\n",
       " '_i7': 'def print_params(*params):\\n    print(params)',\n",
       " '_i8': \"print_params('Testing')\",\n",
       " '_i9': 'print_params(1, 2, 3)',\n",
       " '_ih': ['',\n",
       "  \"def power(x, y, *others):\\n    if others:\\n        print('Received redundant parameters:', others)\\n    return pow(x, y)\\n\\ndef interval(start, stop=None, step=1):\\n    'Imitates range() for step > 0'\\n    if stop is None:\\n        start, stop = 0, start\\n    result = []\\n    i = start\\n    while i < stop:\\n        result.append()\\n        i += step\\n    return result\",\n",
       "  '# 6.3 创建函数\\n# 6.3.1 文档化函数',\n",
       "  \"def square(x):\\n    'Calculates the square of the number x.'\\n    return x*x\",\n",
       "  'square.__doc__',\n",
       "  'help(square)',\n",
       "  '# 6.4 参数魔法\\n# 6.4.4 收集参数',\n",
       "  'def print_params(*params):\\n    print(params)',\n",
       "  \"print_params('Testing')\",\n",
       "  'print_params(1, 2, 3)',\n",
       "  'def print_params_2(title, *params):\\n    print(title)\\n    print(params)',\n",
       "  \"print_params_2('Params:', 1, 2, 3)\",\n",
       "  \"print_params_2('nothing:')\",\n",
       "  'def print_params_3(**params):\\n    print(params)',\n",
       "  'print_params_3(x=1, y=2, z=3)',\n",
       "  'def print_params_4(x, y, z=3, *pospar, **keypar):\\n    print(x, y, z)\\n    print(pospar)\\n    print(keypar)',\n",
       "  'print_params_4(1, 2, 3, 5, 6, 7, foo=1, bar=2)',\n",
       "  'print_params_4(1, 2)',\n",
       "  '# 6.4.5 参数收集的逆过程',\n",
       "  'def add(x, y): return x + y',\n",
       "  'params = (1, 2)',\n",
       "  'add(*params)',\n",
       "  \"def with_stars(**kwds):\\n    print(kwds['name'], 'is', kwds['age'], 'years old')\",\n",
       "  \"def without_stars(kwds):\\n    print(kwds['name'], 'is', kwds['age'], 'years old')\",\n",
       "  \"args = {'name': 'Mr. Gumby', 'age': 42}\",\n",
       "  'with_stars(**args)',\n",
       "  'without_stars(args)',\n",
       "  \"# 6.4.6 练习使用参数\\ndef story(**kwds):\\n    return 'Once upon a time, there was a %(job)s called %(name)s.' % kwds\",\n",
       "  \"def power(x, y, *others):\\n    if others:\\n        print('Received redundant parameters:', others)\\n    return pow(x, y)\\n\\ndef interval(start, stop=None, step=1):\\n    'Imitates range() for step > 0'\\n    if stop is None:\\n        start, stop = 0, start\\n    result = []\\n    i = start\\n    while i < stop:\\n        result.append()\\n        i += step\\n    return result\",\n",
       "  \"print(story(job='king', name='Gumby'))\",\n",
       "  \"print(story(job='king', name='Gumby', test='test'))\",\n",
       "  \"print(story(name='Sir Robin', job='brave knight'))\",\n",
       "  \"params = {'job': 'language', 'name': 'Python'}\\nprint(story(params))\",\n",
       "  \"params = {'job': 'language', 'name': 'Python'}\\nprint(story(**params))\",\n",
       "  \"del params['job']\",\n",
       "  \"print(story(job='stroke of genius', **params))\",\n",
       "  'power(2, 3)',\n",
       "  'power(3, 2)',\n",
       "  'power(y=3, x=2)',\n",
       "  'params = (5,) * 2',\n",
       "  'params = (5,) * 2\\nparams',\n",
       "  'power(*params)',\n",
       "  'power(**params)',\n",
       "  \"power(3, 3, 'Hello, world')\",\n",
       "  'interval(10)',\n",
       "  \"def power(x, y, *others):\\n    if others:\\n        print('Received redundant parameters:', others)\\n    return pow(x, y)\\n\\ndef interval(start, stop=None, step=1):\\n    'Imitates range() for step > 0'\\n    if stop is None:\\n        start, stop = 0, start\\n    result = []\\n    i = start\\n    while i < stop:\\n        result.append(i)\\n        i += step\\n    return result\",\n",
       "  'interval(10)',\n",
       "  'interval(1, 5)',\n",
       "  'inteval(3, 12, 4)',\n",
       "  'interval(3, 12, 4)',\n",
       "  'power(*inteval(3, 7))',\n",
       "  'power(*interval(3, 7))',\n",
       "  '# 6.5 作用域',\n",
       "  'x = 1',\n",
       "  'scope = var()',\n",
       "  'scope = vars()',\n",
       "  'scope'],\n",
       " '_ii': 'scope = var()',\n",
       " '_iii': 'x = 1',\n",
       " '_oh': {4: 'Calculates the square of the number x.',\n",
       "  21: 3,\n",
       "  36: 8,\n",
       "  37: 9,\n",
       "  38: 8,\n",
       "  40: (5, 5),\n",
       "  41: 3125,\n",
       "  43: 27,\n",
       "  46: [0, 1, 2, 3, 4, 5, 6, 7, 8, 9],\n",
       "  47: [1, 2, 3, 4],\n",
       "  49: [3, 7, 11],\n",
       "  51: 81},\n",
       " 'add': <function __main__.add(x, y)>,\n",
       " 'args': {'age': 42, 'name': 'Mr. Gumby'},\n",
       " 'exit': <IPython.core.autocall.ZMQExitAutocall at 0x104960fd0>,\n",
       " 'get_ipython': <bound method InteractiveShell.get_ipython of <ipykernel.zmqshell.ZMQInteractiveShell object at 0x10491e7f0>>,\n",
       " 'interval': <function __main__.interval(start, stop=None, step=1)>,\n",
       " 'params': (5, 5),\n",
       " 'power': <function __main__.power(x, y, *others)>,\n",
       " 'print_params': <function __main__.print_params(*params)>,\n",
       " 'print_params_2': <function __main__.print_params_2(title, *params)>,\n",
       " 'print_params_3': <function __main__.print_params_3(**params)>,\n",
       " 'print_params_4': <function __main__.print_params_4(x, y, z=3, *pospar, **keypar)>,\n",
       " 'quit': <IPython.core.autocall.ZMQExitAutocall at 0x104960fd0>,\n",
       " 'scope': {...},\n",
       " 'square': <function __main__.square(x)>,\n",
       " 'story': <function __main__.story(**kwds)>,\n",
       " 'with_stars': <function __main__.with_stars(**kwds)>,\n",
       " 'without_stars': <function __main__.without_stars(kwds)>,\n",
       " 'x': 1}"
      ]
     },
     "execution_count": 56,
     "metadata": {},
     "output_type": "execute_result"
    }
   ],
   "source": [
    "scope"
   ]
  },
  {
   "cell_type": "code",
   "execution_count": 57,
   "metadata": {},
   "outputs": [],
   "source": [
    "scope['x'] += 1"
   ]
  },
  {
   "cell_type": "code",
   "execution_count": 58,
   "metadata": {},
   "outputs": [
    {
     "data": {
      "text/plain": [
       "2"
      ]
     },
     "execution_count": 58,
     "metadata": {},
     "output_type": "execute_result"
    }
   ],
   "source": [
    "x"
   ]
  },
  {
   "cell_type": "code",
   "execution_count": 59,
   "metadata": {},
   "outputs": [
    {
     "data": {
      "text/plain": [
       "{'In': ['',\n",
       "  \"def power(x, y, *others):\\n    if others:\\n        print('Received redundant parameters:', others)\\n    return pow(x, y)\\n\\ndef interval(start, stop=None, step=1):\\n    'Imitates range() for step > 0'\\n    if stop is None:\\n        start, stop = 0, start\\n    result = []\\n    i = start\\n    while i < stop:\\n        result.append()\\n        i += step\\n    return result\",\n",
       "  '# 6.3 创建函数\\n# 6.3.1 文档化函数',\n",
       "  \"def square(x):\\n    'Calculates the square of the number x.'\\n    return x*x\",\n",
       "  'square.__doc__',\n",
       "  'help(square)',\n",
       "  '# 6.4 参数魔法\\n# 6.4.4 收集参数',\n",
       "  'def print_params(*params):\\n    print(params)',\n",
       "  \"print_params('Testing')\",\n",
       "  'print_params(1, 2, 3)',\n",
       "  'def print_params_2(title, *params):\\n    print(title)\\n    print(params)',\n",
       "  \"print_params_2('Params:', 1, 2, 3)\",\n",
       "  \"print_params_2('nothing:')\",\n",
       "  'def print_params_3(**params):\\n    print(params)',\n",
       "  'print_params_3(x=1, y=2, z=3)',\n",
       "  'def print_params_4(x, y, z=3, *pospar, **keypar):\\n    print(x, y, z)\\n    print(pospar)\\n    print(keypar)',\n",
       "  'print_params_4(1, 2, 3, 5, 6, 7, foo=1, bar=2)',\n",
       "  'print_params_4(1, 2)',\n",
       "  '# 6.4.5 参数收集的逆过程',\n",
       "  'def add(x, y): return x + y',\n",
       "  'params = (1, 2)',\n",
       "  'add(*params)',\n",
       "  \"def with_stars(**kwds):\\n    print(kwds['name'], 'is', kwds['age'], 'years old')\",\n",
       "  \"def without_stars(kwds):\\n    print(kwds['name'], 'is', kwds['age'], 'years old')\",\n",
       "  \"args = {'name': 'Mr. Gumby', 'age': 42}\",\n",
       "  'with_stars(**args)',\n",
       "  'without_stars(args)',\n",
       "  \"# 6.4.6 练习使用参数\\ndef story(**kwds):\\n    return 'Once upon a time, there was a %(job)s called %(name)s.' % kwds\",\n",
       "  \"def power(x, y, *others):\\n    if others:\\n        print('Received redundant parameters:', others)\\n    return pow(x, y)\\n\\ndef interval(start, stop=None, step=1):\\n    'Imitates range() for step > 0'\\n    if stop is None:\\n        start, stop = 0, start\\n    result = []\\n    i = start\\n    while i < stop:\\n        result.append()\\n        i += step\\n    return result\",\n",
       "  \"print(story(job='king', name='Gumby'))\",\n",
       "  \"print(story(job='king', name='Gumby', test='test'))\",\n",
       "  \"print(story(name='Sir Robin', job='brave knight'))\",\n",
       "  \"params = {'job': 'language', 'name': 'Python'}\\nprint(story(params))\",\n",
       "  \"params = {'job': 'language', 'name': 'Python'}\\nprint(story(**params))\",\n",
       "  \"del params['job']\",\n",
       "  \"print(story(job='stroke of genius', **params))\",\n",
       "  'power(2, 3)',\n",
       "  'power(3, 2)',\n",
       "  'power(y=3, x=2)',\n",
       "  'params = (5,) * 2',\n",
       "  'params = (5,) * 2\\nparams',\n",
       "  'power(*params)',\n",
       "  'power(**params)',\n",
       "  \"power(3, 3, 'Hello, world')\",\n",
       "  'interval(10)',\n",
       "  \"def power(x, y, *others):\\n    if others:\\n        print('Received redundant parameters:', others)\\n    return pow(x, y)\\n\\ndef interval(start, stop=None, step=1):\\n    'Imitates range() for step > 0'\\n    if stop is None:\\n        start, stop = 0, start\\n    result = []\\n    i = start\\n    while i < stop:\\n        result.append(i)\\n        i += step\\n    return result\",\n",
       "  'interval(10)',\n",
       "  'interval(1, 5)',\n",
       "  'inteval(3, 12, 4)',\n",
       "  'interval(3, 12, 4)',\n",
       "  'power(*inteval(3, 7))',\n",
       "  'power(*interval(3, 7))',\n",
       "  '# 6.5 作用域',\n",
       "  'x = 1',\n",
       "  'scope = var()',\n",
       "  'scope = vars()',\n",
       "  'scope',\n",
       "  \"scope['x'] += 1\",\n",
       "  'x',\n",
       "  'scope'],\n",
       " 'Out': {4: 'Calculates the square of the number x.',\n",
       "  21: 3,\n",
       "  36: 8,\n",
       "  37: 9,\n",
       "  38: 8,\n",
       "  40: (5, 5),\n",
       "  41: 3125,\n",
       "  43: 27,\n",
       "  46: [0, 1, 2, 3, 4, 5, 6, 7, 8, 9],\n",
       "  47: [1, 2, 3, 4],\n",
       "  49: [3, 7, 11],\n",
       "  51: 81,\n",
       "  56: {...},\n",
       "  58: 2},\n",
       " '_': 2,\n",
       " '_21': 3,\n",
       " '_36': 8,\n",
       " '_37': 9,\n",
       " '_38': 8,\n",
       " '_4': 'Calculates the square of the number x.',\n",
       " '_40': (5, 5),\n",
       " '_41': 3125,\n",
       " '_43': 27,\n",
       " '_46': [0, 1, 2, 3, 4, 5, 6, 7, 8, 9],\n",
       " '_47': [1, 2, 3, 4],\n",
       " '_49': [3, 7, 11],\n",
       " '_51': 81,\n",
       " '_56': {...},\n",
       " '_58': 2,\n",
       " '__': {...},\n",
       " '___': 81,\n",
       " '__builtin__': <module 'builtins' (built-in)>,\n",
       " '__builtins__': <module 'builtins' (built-in)>,\n",
       " '__doc__': 'Automatically created module for IPython interactive environment',\n",
       " '__loader__': None,\n",
       " '__name__': '__main__',\n",
       " '__package__': None,\n",
       " '__spec__': None,\n",
       " '_dh': ['/Users/kuangjianjie/PycharmProjects/Python-Scripts/Scripts/Python基础教程（第二版修订版）'],\n",
       " '_i': 'x',\n",
       " '_i1': \"def power(x, y, *others):\\n    if others:\\n        print('Received redundant parameters:', others)\\n    return pow(x, y)\\n\\ndef interval(start, stop=None, step=1):\\n    'Imitates range() for step > 0'\\n    if stop is None:\\n        start, stop = 0, start\\n    result = []\\n    i = start\\n    while i < stop:\\n        result.append()\\n        i += step\\n    return result\",\n",
       " '_i10': 'def print_params_2(title, *params):\\n    print(title)\\n    print(params)',\n",
       " '_i11': \"print_params_2('Params:', 1, 2, 3)\",\n",
       " '_i12': \"print_params_2('nothing:')\",\n",
       " '_i13': 'def print_params_3(**params):\\n    print(params)',\n",
       " '_i14': 'print_params_3(x=1, y=2, z=3)',\n",
       " '_i15': 'def print_params_4(x, y, z=3, *pospar, **keypar):\\n    print(x, y, z)\\n    print(pospar)\\n    print(keypar)',\n",
       " '_i16': 'print_params_4(1, 2, 3, 5, 6, 7, foo=1, bar=2)',\n",
       " '_i17': 'print_params_4(1, 2)',\n",
       " '_i18': '# 6.4.5 参数收集的逆过程',\n",
       " '_i19': 'def add(x, y): return x + y',\n",
       " '_i2': '# 6.3 创建函数\\n# 6.3.1 文档化函数',\n",
       " '_i20': 'params = (1, 2)',\n",
       " '_i21': 'add(*params)',\n",
       " '_i22': \"def with_stars(**kwds):\\n    print(kwds['name'], 'is', kwds['age'], 'years old')\",\n",
       " '_i23': \"def without_stars(kwds):\\n    print(kwds['name'], 'is', kwds['age'], 'years old')\",\n",
       " '_i24': \"args = {'name': 'Mr. Gumby', 'age': 42}\",\n",
       " '_i25': 'with_stars(**args)',\n",
       " '_i26': 'without_stars(args)',\n",
       " '_i27': \"# 6.4.6 练习使用参数\\ndef story(**kwds):\\n    return 'Once upon a time, there was a %(job)s called %(name)s.' % kwds\",\n",
       " '_i28': \"def power(x, y, *others):\\n    if others:\\n        print('Received redundant parameters:', others)\\n    return pow(x, y)\\n\\ndef interval(start, stop=None, step=1):\\n    'Imitates range() for step > 0'\\n    if stop is None:\\n        start, stop = 0, start\\n    result = []\\n    i = start\\n    while i < stop:\\n        result.append()\\n        i += step\\n    return result\",\n",
       " '_i29': \"print(story(job='king', name='Gumby'))\",\n",
       " '_i3': \"def square(x):\\n    'Calculates the square of the number x.'\\n    return x*x\",\n",
       " '_i30': \"print(story(job='king', name='Gumby', test='test'))\",\n",
       " '_i31': \"print(story(name='Sir Robin', job='brave knight'))\",\n",
       " '_i32': \"params = {'job': 'language', 'name': 'Python'}\\nprint(story(params))\",\n",
       " '_i33': \"params = {'job': 'language', 'name': 'Python'}\\nprint(story(**params))\",\n",
       " '_i34': \"del params['job']\",\n",
       " '_i35': \"print(story(job='stroke of genius', **params))\",\n",
       " '_i36': 'power(2, 3)',\n",
       " '_i37': 'power(3, 2)',\n",
       " '_i38': 'power(y=3, x=2)',\n",
       " '_i39': 'params = (5,) * 2',\n",
       " '_i4': 'square.__doc__',\n",
       " '_i40': 'params = (5,) * 2\\nparams',\n",
       " '_i41': 'power(*params)',\n",
       " '_i42': 'power(**params)',\n",
       " '_i43': \"power(3, 3, 'Hello, world')\",\n",
       " '_i44': 'interval(10)',\n",
       " '_i45': \"def power(x, y, *others):\\n    if others:\\n        print('Received redundant parameters:', others)\\n    return pow(x, y)\\n\\ndef interval(start, stop=None, step=1):\\n    'Imitates range() for step > 0'\\n    if stop is None:\\n        start, stop = 0, start\\n    result = []\\n    i = start\\n    while i < stop:\\n        result.append(i)\\n        i += step\\n    return result\",\n",
       " '_i46': 'interval(10)',\n",
       " '_i47': 'interval(1, 5)',\n",
       " '_i48': 'inteval(3, 12, 4)',\n",
       " '_i49': 'interval(3, 12, 4)',\n",
       " '_i5': 'help(square)',\n",
       " '_i50': 'power(*inteval(3, 7))',\n",
       " '_i51': 'power(*interval(3, 7))',\n",
       " '_i52': '# 6.5 作用域',\n",
       " '_i53': 'x = 1',\n",
       " '_i54': 'scope = var()',\n",
       " '_i55': 'scope = vars()',\n",
       " '_i56': 'scope',\n",
       " '_i57': \"scope['x'] += 1\",\n",
       " '_i58': 'x',\n",
       " '_i59': 'scope',\n",
       " '_i6': '# 6.4 参数魔法\\n# 6.4.4 收集参数',\n",
       " '_i7': 'def print_params(*params):\\n    print(params)',\n",
       " '_i8': \"print_params('Testing')\",\n",
       " '_i9': 'print_params(1, 2, 3)',\n",
       " '_ih': ['',\n",
       "  \"def power(x, y, *others):\\n    if others:\\n        print('Received redundant parameters:', others)\\n    return pow(x, y)\\n\\ndef interval(start, stop=None, step=1):\\n    'Imitates range() for step > 0'\\n    if stop is None:\\n        start, stop = 0, start\\n    result = []\\n    i = start\\n    while i < stop:\\n        result.append()\\n        i += step\\n    return result\",\n",
       "  '# 6.3 创建函数\\n# 6.3.1 文档化函数',\n",
       "  \"def square(x):\\n    'Calculates the square of the number x.'\\n    return x*x\",\n",
       "  'square.__doc__',\n",
       "  'help(square)',\n",
       "  '# 6.4 参数魔法\\n# 6.4.4 收集参数',\n",
       "  'def print_params(*params):\\n    print(params)',\n",
       "  \"print_params('Testing')\",\n",
       "  'print_params(1, 2, 3)',\n",
       "  'def print_params_2(title, *params):\\n    print(title)\\n    print(params)',\n",
       "  \"print_params_2('Params:', 1, 2, 3)\",\n",
       "  \"print_params_2('nothing:')\",\n",
       "  'def print_params_3(**params):\\n    print(params)',\n",
       "  'print_params_3(x=1, y=2, z=3)',\n",
       "  'def print_params_4(x, y, z=3, *pospar, **keypar):\\n    print(x, y, z)\\n    print(pospar)\\n    print(keypar)',\n",
       "  'print_params_4(1, 2, 3, 5, 6, 7, foo=1, bar=2)',\n",
       "  'print_params_4(1, 2)',\n",
       "  '# 6.4.5 参数收集的逆过程',\n",
       "  'def add(x, y): return x + y',\n",
       "  'params = (1, 2)',\n",
       "  'add(*params)',\n",
       "  \"def with_stars(**kwds):\\n    print(kwds['name'], 'is', kwds['age'], 'years old')\",\n",
       "  \"def without_stars(kwds):\\n    print(kwds['name'], 'is', kwds['age'], 'years old')\",\n",
       "  \"args = {'name': 'Mr. Gumby', 'age': 42}\",\n",
       "  'with_stars(**args)',\n",
       "  'without_stars(args)',\n",
       "  \"# 6.4.6 练习使用参数\\ndef story(**kwds):\\n    return 'Once upon a time, there was a %(job)s called %(name)s.' % kwds\",\n",
       "  \"def power(x, y, *others):\\n    if others:\\n        print('Received redundant parameters:', others)\\n    return pow(x, y)\\n\\ndef interval(start, stop=None, step=1):\\n    'Imitates range() for step > 0'\\n    if stop is None:\\n        start, stop = 0, start\\n    result = []\\n    i = start\\n    while i < stop:\\n        result.append()\\n        i += step\\n    return result\",\n",
       "  \"print(story(job='king', name='Gumby'))\",\n",
       "  \"print(story(job='king', name='Gumby', test='test'))\",\n",
       "  \"print(story(name='Sir Robin', job='brave knight'))\",\n",
       "  \"params = {'job': 'language', 'name': 'Python'}\\nprint(story(params))\",\n",
       "  \"params = {'job': 'language', 'name': 'Python'}\\nprint(story(**params))\",\n",
       "  \"del params['job']\",\n",
       "  \"print(story(job='stroke of genius', **params))\",\n",
       "  'power(2, 3)',\n",
       "  'power(3, 2)',\n",
       "  'power(y=3, x=2)',\n",
       "  'params = (5,) * 2',\n",
       "  'params = (5,) * 2\\nparams',\n",
       "  'power(*params)',\n",
       "  'power(**params)',\n",
       "  \"power(3, 3, 'Hello, world')\",\n",
       "  'interval(10)',\n",
       "  \"def power(x, y, *others):\\n    if others:\\n        print('Received redundant parameters:', others)\\n    return pow(x, y)\\n\\ndef interval(start, stop=None, step=1):\\n    'Imitates range() for step > 0'\\n    if stop is None:\\n        start, stop = 0, start\\n    result = []\\n    i = start\\n    while i < stop:\\n        result.append(i)\\n        i += step\\n    return result\",\n",
       "  'interval(10)',\n",
       "  'interval(1, 5)',\n",
       "  'inteval(3, 12, 4)',\n",
       "  'interval(3, 12, 4)',\n",
       "  'power(*inteval(3, 7))',\n",
       "  'power(*interval(3, 7))',\n",
       "  '# 6.5 作用域',\n",
       "  'x = 1',\n",
       "  'scope = var()',\n",
       "  'scope = vars()',\n",
       "  'scope',\n",
       "  \"scope['x'] += 1\",\n",
       "  'x',\n",
       "  'scope'],\n",
       " '_ii': \"scope['x'] += 1\",\n",
       " '_iii': 'scope',\n",
       " '_oh': {4: 'Calculates the square of the number x.',\n",
       "  21: 3,\n",
       "  36: 8,\n",
       "  37: 9,\n",
       "  38: 8,\n",
       "  40: (5, 5),\n",
       "  41: 3125,\n",
       "  43: 27,\n",
       "  46: [0, 1, 2, 3, 4, 5, 6, 7, 8, 9],\n",
       "  47: [1, 2, 3, 4],\n",
       "  49: [3, 7, 11],\n",
       "  51: 81,\n",
       "  56: {...},\n",
       "  58: 2},\n",
       " 'add': <function __main__.add(x, y)>,\n",
       " 'args': {'age': 42, 'name': 'Mr. Gumby'},\n",
       " 'exit': <IPython.core.autocall.ZMQExitAutocall at 0x104960fd0>,\n",
       " 'get_ipython': <bound method InteractiveShell.get_ipython of <ipykernel.zmqshell.ZMQInteractiveShell object at 0x10491e7f0>>,\n",
       " 'interval': <function __main__.interval(start, stop=None, step=1)>,\n",
       " 'params': (5, 5),\n",
       " 'power': <function __main__.power(x, y, *others)>,\n",
       " 'print_params': <function __main__.print_params(*params)>,\n",
       " 'print_params_2': <function __main__.print_params_2(title, *params)>,\n",
       " 'print_params_3': <function __main__.print_params_3(**params)>,\n",
       " 'print_params_4': <function __main__.print_params_4(x, y, z=3, *pospar, **keypar)>,\n",
       " 'quit': <IPython.core.autocall.ZMQExitAutocall at 0x104960fd0>,\n",
       " 'scope': {...},\n",
       " 'square': <function __main__.square(x)>,\n",
       " 'story': <function __main__.story(**kwds)>,\n",
       " 'with_stars': <function __main__.with_stars(**kwds)>,\n",
       " 'without_stars': <function __main__.without_stars(kwds)>,\n",
       " 'x': 2}"
      ]
     },
     "execution_count": 59,
     "metadata": {},
     "output_type": "execute_result"
    }
   ],
   "source": [
    "scope"
   ]
  },
  {
   "cell_type": "code",
   "execution_count": 60,
   "metadata": {},
   "outputs": [],
   "source": [
    "def foo(): x = 42"
   ]
  },
  {
   "cell_type": "code",
   "execution_count": 61,
   "metadata": {},
   "outputs": [],
   "source": [
    "x = 1"
   ]
  },
  {
   "cell_type": "code",
   "execution_count": 62,
   "metadata": {},
   "outputs": [],
   "source": [
    "foo()"
   ]
  },
  {
   "cell_type": "code",
   "execution_count": 63,
   "metadata": {},
   "outputs": [
    {
     "data": {
      "text/plain": [
       "1"
      ]
     },
     "execution_count": 63,
     "metadata": {},
     "output_type": "execute_result"
    }
   ],
   "source": [
    "x"
   ]
  },
  {
   "cell_type": "code",
   "execution_count": 65,
   "metadata": {},
   "outputs": [],
   "source": [
    "def output(x): print(x)"
   ]
  },
  {
   "cell_type": "code",
   "execution_count": 66,
   "metadata": {},
   "outputs": [],
   "source": [
    "x = 1"
   ]
  },
  {
   "cell_type": "code",
   "execution_count": 67,
   "metadata": {},
   "outputs": [],
   "source": [
    "y = 2"
   ]
  },
  {
   "cell_type": "code",
   "execution_count": 68,
   "metadata": {},
   "outputs": [
    {
     "name": "stdout",
     "output_type": "stream",
     "text": [
      "2\n"
     ]
    }
   ],
   "source": [
    "output(y)"
   ]
  },
  {
   "cell_type": "code",
   "execution_count": 69,
   "metadata": {},
   "outputs": [],
   "source": [
    "def combine(parameter): print(parameter + external)"
   ]
  },
  {
   "cell_type": "code",
   "execution_count": 70,
   "metadata": {},
   "outputs": [],
   "source": [
    "external = 'berry'"
   ]
  },
  {
   "cell_type": "code",
   "execution_count": 71,
   "metadata": {},
   "outputs": [
    {
     "name": "stdout",
     "output_type": "stream",
     "text": [
      "Shrubberry\n"
     ]
    }
   ],
   "source": [
    "combine('Shrub')"
   ]
  },
  {
   "cell_type": "code",
   "execution_count": 72,
   "metadata": {},
   "outputs": [
    {
     "data": {
      "text/plain": [
       "{'In': ['',\n",
       "  \"def power(x, y, *others):\\n    if others:\\n        print('Received redundant parameters:', others)\\n    return pow(x, y)\\n\\ndef interval(start, stop=None, step=1):\\n    'Imitates range() for step > 0'\\n    if stop is None:\\n        start, stop = 0, start\\n    result = []\\n    i = start\\n    while i < stop:\\n        result.append()\\n        i += step\\n    return result\",\n",
       "  '# 6.3 创建函数\\n# 6.3.1 文档化函数',\n",
       "  \"def square(x):\\n    'Calculates the square of the number x.'\\n    return x*x\",\n",
       "  'square.__doc__',\n",
       "  'help(square)',\n",
       "  '# 6.4 参数魔法\\n# 6.4.4 收集参数',\n",
       "  'def print_params(*params):\\n    print(params)',\n",
       "  \"print_params('Testing')\",\n",
       "  'print_params(1, 2, 3)',\n",
       "  'def print_params_2(title, *params):\\n    print(title)\\n    print(params)',\n",
       "  \"print_params_2('Params:', 1, 2, 3)\",\n",
       "  \"print_params_2('nothing:')\",\n",
       "  'def print_params_3(**params):\\n    print(params)',\n",
       "  'print_params_3(x=1, y=2, z=3)',\n",
       "  'def print_params_4(x, y, z=3, *pospar, **keypar):\\n    print(x, y, z)\\n    print(pospar)\\n    print(keypar)',\n",
       "  'print_params_4(1, 2, 3, 5, 6, 7, foo=1, bar=2)',\n",
       "  'print_params_4(1, 2)',\n",
       "  '# 6.4.5 参数收集的逆过程',\n",
       "  'def add(x, y): return x + y',\n",
       "  'params = (1, 2)',\n",
       "  'add(*params)',\n",
       "  \"def with_stars(**kwds):\\n    print(kwds['name'], 'is', kwds['age'], 'years old')\",\n",
       "  \"def without_stars(kwds):\\n    print(kwds['name'], 'is', kwds['age'], 'years old')\",\n",
       "  \"args = {'name': 'Mr. Gumby', 'age': 42}\",\n",
       "  'with_stars(**args)',\n",
       "  'without_stars(args)',\n",
       "  \"# 6.4.6 练习使用参数\\ndef story(**kwds):\\n    return 'Once upon a time, there was a %(job)s called %(name)s.' % kwds\",\n",
       "  \"def power(x, y, *others):\\n    if others:\\n        print('Received redundant parameters:', others)\\n    return pow(x, y)\\n\\ndef interval(start, stop=None, step=1):\\n    'Imitates range() for step > 0'\\n    if stop is None:\\n        start, stop = 0, start\\n    result = []\\n    i = start\\n    while i < stop:\\n        result.append()\\n        i += step\\n    return result\",\n",
       "  \"print(story(job='king', name='Gumby'))\",\n",
       "  \"print(story(job='king', name='Gumby', test='test'))\",\n",
       "  \"print(story(name='Sir Robin', job='brave knight'))\",\n",
       "  \"params = {'job': 'language', 'name': 'Python'}\\nprint(story(params))\",\n",
       "  \"params = {'job': 'language', 'name': 'Python'}\\nprint(story(**params))\",\n",
       "  \"del params['job']\",\n",
       "  \"print(story(job='stroke of genius', **params))\",\n",
       "  'power(2, 3)',\n",
       "  'power(3, 2)',\n",
       "  'power(y=3, x=2)',\n",
       "  'params = (5,) * 2',\n",
       "  'params = (5,) * 2\\nparams',\n",
       "  'power(*params)',\n",
       "  'power(**params)',\n",
       "  \"power(3, 3, 'Hello, world')\",\n",
       "  'interval(10)',\n",
       "  \"def power(x, y, *others):\\n    if others:\\n        print('Received redundant parameters:', others)\\n    return pow(x, y)\\n\\ndef interval(start, stop=None, step=1):\\n    'Imitates range() for step > 0'\\n    if stop is None:\\n        start, stop = 0, start\\n    result = []\\n    i = start\\n    while i < stop:\\n        result.append(i)\\n        i += step\\n    return result\",\n",
       "  'interval(10)',\n",
       "  'interval(1, 5)',\n",
       "  'inteval(3, 12, 4)',\n",
       "  'interval(3, 12, 4)',\n",
       "  'power(*inteval(3, 7))',\n",
       "  'power(*interval(3, 7))',\n",
       "  '# 6.5 作用域',\n",
       "  'x = 1',\n",
       "  'scope = var()',\n",
       "  'scope = vars()',\n",
       "  'scope',\n",
       "  \"scope['x'] += 1\",\n",
       "  'x',\n",
       "  'scope',\n",
       "  'def foo(): x = 42',\n",
       "  'x = 1',\n",
       "  'foo()',\n",
       "  'x',\n",
       "  'def output(x): print x',\n",
       "  'def output(x): print(x)',\n",
       "  'x = 1',\n",
       "  'y = 2',\n",
       "  'output(y)',\n",
       "  'def combine(parameter): print(parameter + external)',\n",
       "  \"external = 'berry'\",\n",
       "  \"combine('Shrub')\",\n",
       "  'globals()'],\n",
       " 'Out': {4: 'Calculates the square of the number x.',\n",
       "  21: 3,\n",
       "  36: 8,\n",
       "  37: 9,\n",
       "  38: 8,\n",
       "  40: (5, 5),\n",
       "  41: 3125,\n",
       "  43: 27,\n",
       "  46: [0, 1, 2, 3, 4, 5, 6, 7, 8, 9],\n",
       "  47: [1, 2, 3, 4],\n",
       "  49: [3, 7, 11],\n",
       "  51: 81,\n",
       "  56: {...},\n",
       "  58: 2,\n",
       "  59: {...},\n",
       "  63: 1},\n",
       " '_': 1,\n",
       " '_21': 3,\n",
       " '_36': 8,\n",
       " '_37': 9,\n",
       " '_38': 8,\n",
       " '_4': 'Calculates the square of the number x.',\n",
       " '_40': (5, 5),\n",
       " '_41': 3125,\n",
       " '_43': 27,\n",
       " '_46': [0, 1, 2, 3, 4, 5, 6, 7, 8, 9],\n",
       " '_47': [1, 2, 3, 4],\n",
       " '_49': [3, 7, 11],\n",
       " '_51': 81,\n",
       " '_56': {...},\n",
       " '_58': 2,\n",
       " '_59': {...},\n",
       " '_63': 1,\n",
       " '__': {...},\n",
       " '___': 2,\n",
       " '__builtin__': <module 'builtins' (built-in)>,\n",
       " '__builtins__': <module 'builtins' (built-in)>,\n",
       " '__doc__': 'Automatically created module for IPython interactive environment',\n",
       " '__loader__': None,\n",
       " '__name__': '__main__',\n",
       " '__package__': None,\n",
       " '__spec__': None,\n",
       " '_dh': ['/Users/kuangjianjie/PycharmProjects/Python-Scripts/Scripts/Python基础教程（第二版修订版）'],\n",
       " '_i': \"combine('Shrub')\",\n",
       " '_i1': \"def power(x, y, *others):\\n    if others:\\n        print('Received redundant parameters:', others)\\n    return pow(x, y)\\n\\ndef interval(start, stop=None, step=1):\\n    'Imitates range() for step > 0'\\n    if stop is None:\\n        start, stop = 0, start\\n    result = []\\n    i = start\\n    while i < stop:\\n        result.append()\\n        i += step\\n    return result\",\n",
       " '_i10': 'def print_params_2(title, *params):\\n    print(title)\\n    print(params)',\n",
       " '_i11': \"print_params_2('Params:', 1, 2, 3)\",\n",
       " '_i12': \"print_params_2('nothing:')\",\n",
       " '_i13': 'def print_params_3(**params):\\n    print(params)',\n",
       " '_i14': 'print_params_3(x=1, y=2, z=3)',\n",
       " '_i15': 'def print_params_4(x, y, z=3, *pospar, **keypar):\\n    print(x, y, z)\\n    print(pospar)\\n    print(keypar)',\n",
       " '_i16': 'print_params_4(1, 2, 3, 5, 6, 7, foo=1, bar=2)',\n",
       " '_i17': 'print_params_4(1, 2)',\n",
       " '_i18': '# 6.4.5 参数收集的逆过程',\n",
       " '_i19': 'def add(x, y): return x + y',\n",
       " '_i2': '# 6.3 创建函数\\n# 6.3.1 文档化函数',\n",
       " '_i20': 'params = (1, 2)',\n",
       " '_i21': 'add(*params)',\n",
       " '_i22': \"def with_stars(**kwds):\\n    print(kwds['name'], 'is', kwds['age'], 'years old')\",\n",
       " '_i23': \"def without_stars(kwds):\\n    print(kwds['name'], 'is', kwds['age'], 'years old')\",\n",
       " '_i24': \"args = {'name': 'Mr. Gumby', 'age': 42}\",\n",
       " '_i25': 'with_stars(**args)',\n",
       " '_i26': 'without_stars(args)',\n",
       " '_i27': \"# 6.4.6 练习使用参数\\ndef story(**kwds):\\n    return 'Once upon a time, there was a %(job)s called %(name)s.' % kwds\",\n",
       " '_i28': \"def power(x, y, *others):\\n    if others:\\n        print('Received redundant parameters:', others)\\n    return pow(x, y)\\n\\ndef interval(start, stop=None, step=1):\\n    'Imitates range() for step > 0'\\n    if stop is None:\\n        start, stop = 0, start\\n    result = []\\n    i = start\\n    while i < stop:\\n        result.append()\\n        i += step\\n    return result\",\n",
       " '_i29': \"print(story(job='king', name='Gumby'))\",\n",
       " '_i3': \"def square(x):\\n    'Calculates the square of the number x.'\\n    return x*x\",\n",
       " '_i30': \"print(story(job='king', name='Gumby', test='test'))\",\n",
       " '_i31': \"print(story(name='Sir Robin', job='brave knight'))\",\n",
       " '_i32': \"params = {'job': 'language', 'name': 'Python'}\\nprint(story(params))\",\n",
       " '_i33': \"params = {'job': 'language', 'name': 'Python'}\\nprint(story(**params))\",\n",
       " '_i34': \"del params['job']\",\n",
       " '_i35': \"print(story(job='stroke of genius', **params))\",\n",
       " '_i36': 'power(2, 3)',\n",
       " '_i37': 'power(3, 2)',\n",
       " '_i38': 'power(y=3, x=2)',\n",
       " '_i39': 'params = (5,) * 2',\n",
       " '_i4': 'square.__doc__',\n",
       " '_i40': 'params = (5,) * 2\\nparams',\n",
       " '_i41': 'power(*params)',\n",
       " '_i42': 'power(**params)',\n",
       " '_i43': \"power(3, 3, 'Hello, world')\",\n",
       " '_i44': 'interval(10)',\n",
       " '_i45': \"def power(x, y, *others):\\n    if others:\\n        print('Received redundant parameters:', others)\\n    return pow(x, y)\\n\\ndef interval(start, stop=None, step=1):\\n    'Imitates range() for step > 0'\\n    if stop is None:\\n        start, stop = 0, start\\n    result = []\\n    i = start\\n    while i < stop:\\n        result.append(i)\\n        i += step\\n    return result\",\n",
       " '_i46': 'interval(10)',\n",
       " '_i47': 'interval(1, 5)',\n",
       " '_i48': 'inteval(3, 12, 4)',\n",
       " '_i49': 'interval(3, 12, 4)',\n",
       " '_i5': 'help(square)',\n",
       " '_i50': 'power(*inteval(3, 7))',\n",
       " '_i51': 'power(*interval(3, 7))',\n",
       " '_i52': '# 6.5 作用域',\n",
       " '_i53': 'x = 1',\n",
       " '_i54': 'scope = var()',\n",
       " '_i55': 'scope = vars()',\n",
       " '_i56': 'scope',\n",
       " '_i57': \"scope['x'] += 1\",\n",
       " '_i58': 'x',\n",
       " '_i59': 'scope',\n",
       " '_i6': '# 6.4 参数魔法\\n# 6.4.4 收集参数',\n",
       " '_i60': 'def foo(): x = 42',\n",
       " '_i61': 'x = 1',\n",
       " '_i62': 'foo()',\n",
       " '_i63': 'x',\n",
       " '_i64': 'def output(x): print x',\n",
       " '_i65': 'def output(x): print(x)',\n",
       " '_i66': 'x = 1',\n",
       " '_i67': 'y = 2',\n",
       " '_i68': 'output(y)',\n",
       " '_i69': 'def combine(parameter): print(parameter + external)',\n",
       " '_i7': 'def print_params(*params):\\n    print(params)',\n",
       " '_i70': \"external = 'berry'\",\n",
       " '_i71': \"combine('Shrub')\",\n",
       " '_i72': 'globals()',\n",
       " '_i8': \"print_params('Testing')\",\n",
       " '_i9': 'print_params(1, 2, 3)',\n",
       " '_ih': ['',\n",
       "  \"def power(x, y, *others):\\n    if others:\\n        print('Received redundant parameters:', others)\\n    return pow(x, y)\\n\\ndef interval(start, stop=None, step=1):\\n    'Imitates range() for step > 0'\\n    if stop is None:\\n        start, stop = 0, start\\n    result = []\\n    i = start\\n    while i < stop:\\n        result.append()\\n        i += step\\n    return result\",\n",
       "  '# 6.3 创建函数\\n# 6.3.1 文档化函数',\n",
       "  \"def square(x):\\n    'Calculates the square of the number x.'\\n    return x*x\",\n",
       "  'square.__doc__',\n",
       "  'help(square)',\n",
       "  '# 6.4 参数魔法\\n# 6.4.4 收集参数',\n",
       "  'def print_params(*params):\\n    print(params)',\n",
       "  \"print_params('Testing')\",\n",
       "  'print_params(1, 2, 3)',\n",
       "  'def print_params_2(title, *params):\\n    print(title)\\n    print(params)',\n",
       "  \"print_params_2('Params:', 1, 2, 3)\",\n",
       "  \"print_params_2('nothing:')\",\n",
       "  'def print_params_3(**params):\\n    print(params)',\n",
       "  'print_params_3(x=1, y=2, z=3)',\n",
       "  'def print_params_4(x, y, z=3, *pospar, **keypar):\\n    print(x, y, z)\\n    print(pospar)\\n    print(keypar)',\n",
       "  'print_params_4(1, 2, 3, 5, 6, 7, foo=1, bar=2)',\n",
       "  'print_params_4(1, 2)',\n",
       "  '# 6.4.5 参数收集的逆过程',\n",
       "  'def add(x, y): return x + y',\n",
       "  'params = (1, 2)',\n",
       "  'add(*params)',\n",
       "  \"def with_stars(**kwds):\\n    print(kwds['name'], 'is', kwds['age'], 'years old')\",\n",
       "  \"def without_stars(kwds):\\n    print(kwds['name'], 'is', kwds['age'], 'years old')\",\n",
       "  \"args = {'name': 'Mr. Gumby', 'age': 42}\",\n",
       "  'with_stars(**args)',\n",
       "  'without_stars(args)',\n",
       "  \"# 6.4.6 练习使用参数\\ndef story(**kwds):\\n    return 'Once upon a time, there was a %(job)s called %(name)s.' % kwds\",\n",
       "  \"def power(x, y, *others):\\n    if others:\\n        print('Received redundant parameters:', others)\\n    return pow(x, y)\\n\\ndef interval(start, stop=None, step=1):\\n    'Imitates range() for step > 0'\\n    if stop is None:\\n        start, stop = 0, start\\n    result = []\\n    i = start\\n    while i < stop:\\n        result.append()\\n        i += step\\n    return result\",\n",
       "  \"print(story(job='king', name='Gumby'))\",\n",
       "  \"print(story(job='king', name='Gumby', test='test'))\",\n",
       "  \"print(story(name='Sir Robin', job='brave knight'))\",\n",
       "  \"params = {'job': 'language', 'name': 'Python'}\\nprint(story(params))\",\n",
       "  \"params = {'job': 'language', 'name': 'Python'}\\nprint(story(**params))\",\n",
       "  \"del params['job']\",\n",
       "  \"print(story(job='stroke of genius', **params))\",\n",
       "  'power(2, 3)',\n",
       "  'power(3, 2)',\n",
       "  'power(y=3, x=2)',\n",
       "  'params = (5,) * 2',\n",
       "  'params = (5,) * 2\\nparams',\n",
       "  'power(*params)',\n",
       "  'power(**params)',\n",
       "  \"power(3, 3, 'Hello, world')\",\n",
       "  'interval(10)',\n",
       "  \"def power(x, y, *others):\\n    if others:\\n        print('Received redundant parameters:', others)\\n    return pow(x, y)\\n\\ndef interval(start, stop=None, step=1):\\n    'Imitates range() for step > 0'\\n    if stop is None:\\n        start, stop = 0, start\\n    result = []\\n    i = start\\n    while i < stop:\\n        result.append(i)\\n        i += step\\n    return result\",\n",
       "  'interval(10)',\n",
       "  'interval(1, 5)',\n",
       "  'inteval(3, 12, 4)',\n",
       "  'interval(3, 12, 4)',\n",
       "  'power(*inteval(3, 7))',\n",
       "  'power(*interval(3, 7))',\n",
       "  '# 6.5 作用域',\n",
       "  'x = 1',\n",
       "  'scope = var()',\n",
       "  'scope = vars()',\n",
       "  'scope',\n",
       "  \"scope['x'] += 1\",\n",
       "  'x',\n",
       "  'scope',\n",
       "  'def foo(): x = 42',\n",
       "  'x = 1',\n",
       "  'foo()',\n",
       "  'x',\n",
       "  'def output(x): print x',\n",
       "  'def output(x): print(x)',\n",
       "  'x = 1',\n",
       "  'y = 2',\n",
       "  'output(y)',\n",
       "  'def combine(parameter): print(parameter + external)',\n",
       "  \"external = 'berry'\",\n",
       "  \"combine('Shrub')\",\n",
       "  'globals()'],\n",
       " '_ii': \"external = 'berry'\",\n",
       " '_iii': 'def combine(parameter): print(parameter + external)',\n",
       " '_oh': {4: 'Calculates the square of the number x.',\n",
       "  21: 3,\n",
       "  36: 8,\n",
       "  37: 9,\n",
       "  38: 8,\n",
       "  40: (5, 5),\n",
       "  41: 3125,\n",
       "  43: 27,\n",
       "  46: [0, 1, 2, 3, 4, 5, 6, 7, 8, 9],\n",
       "  47: [1, 2, 3, 4],\n",
       "  49: [3, 7, 11],\n",
       "  51: 81,\n",
       "  56: {...},\n",
       "  58: 2,\n",
       "  59: {...},\n",
       "  63: 1},\n",
       " 'add': <function __main__.add(x, y)>,\n",
       " 'args': {'age': 42, 'name': 'Mr. Gumby'},\n",
       " 'combine': <function __main__.combine(parameter)>,\n",
       " 'exit': <IPython.core.autocall.ZMQExitAutocall at 0x104960fd0>,\n",
       " 'external': 'berry',\n",
       " 'foo': <function __main__.foo()>,\n",
       " 'get_ipython': <bound method InteractiveShell.get_ipython of <ipykernel.zmqshell.ZMQInteractiveShell object at 0x10491e7f0>>,\n",
       " 'interval': <function __main__.interval(start, stop=None, step=1)>,\n",
       " 'output': <function __main__.output(x)>,\n",
       " 'params': (5, 5),\n",
       " 'power': <function __main__.power(x, y, *others)>,\n",
       " 'print_params': <function __main__.print_params(*params)>,\n",
       " 'print_params_2': <function __main__.print_params_2(title, *params)>,\n",
       " 'print_params_3': <function __main__.print_params_3(**params)>,\n",
       " 'print_params_4': <function __main__.print_params_4(x, y, z=3, *pospar, **keypar)>,\n",
       " 'quit': <IPython.core.autocall.ZMQExitAutocall at 0x104960fd0>,\n",
       " 'scope': {...},\n",
       " 'square': <function __main__.square(x)>,\n",
       " 'story': <function __main__.story(**kwds)>,\n",
       " 'with_stars': <function __main__.with_stars(**kwds)>,\n",
       " 'without_stars': <function __main__.without_stars(kwds)>,\n",
       " 'x': 1,\n",
       " 'y': 2}"
      ]
     },
     "execution_count": 72,
     "metadata": {},
     "output_type": "execute_result"
    }
   ],
   "source": [
    "globals()"
   ]
  },
  {
   "cell_type": "code",
   "execution_count": 73,
   "metadata": {},
   "outputs": [],
   "source": [
    "def combine(parameter):\n",
    "    print(parameter + globals()['parameter'])"
   ]
  },
  {
   "cell_type": "code",
   "execution_count": 74,
   "metadata": {},
   "outputs": [],
   "source": [
    "parameter = 'berry'"
   ]
  },
  {
   "cell_type": "code",
   "execution_count": 75,
   "metadata": {},
   "outputs": [
    {
     "name": "stdout",
     "output_type": "stream",
     "text": [
      "Shrubberry\n"
     ]
    }
   ],
   "source": [
    "combine('Shrub')"
   ]
  },
  {
   "cell_type": "code",
   "execution_count": 76,
   "metadata": {},
   "outputs": [],
   "source": [
    "x = 1"
   ]
  },
  {
   "cell_type": "code",
   "execution_count": 77,
   "metadata": {},
   "outputs": [],
   "source": [
    "def change_global():\n",
    "    global x\n",
    "    x = x + 1"
   ]
  },
  {
   "cell_type": "code",
   "execution_count": 78,
   "metadata": {},
   "outputs": [],
   "source": [
    "change_global()"
   ]
  },
  {
   "cell_type": "code",
   "execution_count": 79,
   "metadata": {},
   "outputs": [
    {
     "data": {
      "text/plain": [
       "2"
      ]
     },
     "execution_count": 79,
     "metadata": {},
     "output_type": "execute_result"
    }
   ],
   "source": [
    "x"
   ]
  },
  {
   "cell_type": "code",
   "execution_count": 80,
   "metadata": {},
   "outputs": [],
   "source": [
    "# 6.6 递归"
   ]
  },
  {
   "cell_type": "code",
   "execution_count": 81,
   "metadata": {},
   "outputs": [],
   "source": [
    "# 6.6.1 两个经典：阶乘和幂"
   ]
  },
  {
   "cell_type": "code",
   "execution_count": 82,
   "metadata": {},
   "outputs": [],
   "source": [
    "def factorial(n):\n",
    "    result = n\n",
    "    for i in range(1, n):\n",
    "        result *= i\n",
    "    return result"
   ]
  },
  {
   "cell_type": "code",
   "execution_count": 83,
   "metadata": {},
   "outputs": [],
   "source": [
    "def factorial(n):\n",
    "    if n == 1:\n",
    "        return 1\n",
    "    else:\n",
    "        return n * factorial(n-1)"
   ]
  },
  {
   "cell_type": "code",
   "execution_count": 84,
   "metadata": {},
   "outputs": [
    {
     "data": {
      "text/plain": [
       "3628800"
      ]
     },
     "execution_count": 84,
     "metadata": {},
     "output_type": "execute_result"
    }
   ],
   "source": [
    "factorial(10)"
   ]
  },
  {
   "cell_type": "code",
   "execution_count": 85,
   "metadata": {},
   "outputs": [],
   "source": [
    "def power(x, n):\n",
    "    result = 1\n",
    "    for i in range(n):\n",
    "        result *= x\n",
    "    return result"
   ]
  },
  {
   "cell_type": "code",
   "execution_count": 86,
   "metadata": {},
   "outputs": [],
   "source": [
    "def power(x, n):\n",
    "    if n == 0:\n",
    "        return 1\n",
    "    else:\n",
    "        return x * power(x, n-1)"
   ]
  },
  {
   "cell_type": "code",
   "execution_count": 87,
   "metadata": {},
   "outputs": [],
   "source": [
    "# 6.2.2 另外一个经典：二分法查找"
   ]
  },
  {
   "cell_type": "code",
   "execution_count": 93,
   "metadata": {},
   "outputs": [],
   "source": [
    "def search(sequence, number, lower=0, upper=None):\n",
    "    if upper is None: upper = len(sequence) - 1\n",
    "    if lower == upper:\n",
    "        assert number == sequence[upper]\n",
    "        return upper\n",
    "    else:\n",
    "        middle = (lower + upper) // 2\n",
    "        if number > sequence[middle]:\n",
    "            return search(sequence, number, middle+1, upper)\n",
    "        else:\n",
    "            return search(sequence, number, lower, middle)"
   ]
  },
  {
   "cell_type": "code",
   "execution_count": 94,
   "metadata": {},
   "outputs": [],
   "source": [
    "seq = [34, 67, 8, 123, 4, 100, 95]"
   ]
  },
  {
   "cell_type": "code",
   "execution_count": 95,
   "metadata": {},
   "outputs": [],
   "source": [
    "seq.sort()"
   ]
  },
  {
   "cell_type": "code",
   "execution_count": 96,
   "metadata": {},
   "outputs": [
    {
     "data": {
      "text/plain": [
       "[4, 8, 34, 67, 95, 100, 123]"
      ]
     },
     "execution_count": 96,
     "metadata": {},
     "output_type": "execute_result"
    }
   ],
   "source": [
    "seq"
   ]
  },
  {
   "cell_type": "code",
   "execution_count": 97,
   "metadata": {},
   "outputs": [
    {
     "data": {
      "text/plain": [
       "2"
      ]
     },
     "execution_count": 97,
     "metadata": {},
     "output_type": "execute_result"
    }
   ],
   "source": [
    "search(seq, 34)"
   ]
  },
  {
   "cell_type": "code",
   "execution_count": 98,
   "metadata": {},
   "outputs": [
    {
     "data": {
      "text/plain": [
       "5"
      ]
     },
     "execution_count": 98,
     "metadata": {},
     "output_type": "execute_result"
    }
   ],
   "source": [
    "search(seq, 100)"
   ]
  },
  {
   "cell_type": "code",
   "execution_count": 99,
   "metadata": {},
   "outputs": [
    {
     "data": {
      "text/plain": [
       "<map at 0x104ab96a0>"
      ]
     },
     "execution_count": 99,
     "metadata": {},
     "output_type": "execute_result"
    }
   ],
   "source": [
    "map(str, range(10))"
   ]
  },
  {
   "cell_type": "code",
   "execution_count": 101,
   "metadata": {},
   "outputs": [],
   "source": [
    "def func(x):\n",
    "    return x.isalnum()"
   ]
  },
  {
   "cell_type": "code",
   "execution_count": 102,
   "metadata": {},
   "outputs": [],
   "source": [
    "seq = ['foo', 'x41', '?!', '***']"
   ]
  },
  {
   "cell_type": "code",
   "execution_count": 103,
   "metadata": {},
   "outputs": [
    {
     "data": {
      "text/plain": [
       "<filter at 0x104ab9588>"
      ]
     },
     "execution_count": 103,
     "metadata": {},
     "output_type": "execute_result"
    }
   ],
   "source": [
    "filter(func, seq)"
   ]
  },
  {
   "cell_type": "code",
   "execution_count": 104,
   "metadata": {},
   "outputs": [
    {
     "data": {
      "text/plain": [
       "['foo', 'x41']"
      ]
     },
     "execution_count": 104,
     "metadata": {},
     "output_type": "execute_result"
    }
   ],
   "source": [
    "[x for x in seq if x.isalnum()]"
   ]
  },
  {
   "cell_type": "code",
   "execution_count": 105,
   "metadata": {},
   "outputs": [
    {
     "data": {
      "text/plain": [
       "<filter at 0x104ab97b8>"
      ]
     },
     "execution_count": 105,
     "metadata": {},
     "output_type": "execute_result"
    }
   ],
   "source": [
    "filter(lambda x: x.isalnum(), seq)"
   ]
  }
 ],
 "metadata": {
  "kernelspec": {
   "display_name": "Python 3",
   "language": "python",
   "name": "python3"
  },
  "language_info": {
   "codemirror_mode": {
    "name": "ipython",
    "version": 3
   },
   "file_extension": ".py",
   "mimetype": "text/x-python",
   "name": "python",
   "nbconvert_exporter": "python",
   "pygments_lexer": "ipython3",
   "version": "3.5.5"
  }
 },
 "nbformat": 4,
 "nbformat_minor": 2
}
