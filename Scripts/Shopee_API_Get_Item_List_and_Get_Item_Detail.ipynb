{
 "cells": [
  {
   "cell_type": "code",
   "execution_count": 50,
   "metadata": {
    "collapsed": false
   },
   "outputs": [],
   "source": [
    "import requests\n",
    "import time\n",
    "import datetime\n",
    "import pandas as pd\n",
    "\n",
    "import hashlib\n",
    "import hmac\n",
    "import base64\n",
    "\n",
    "import json\n",
    "\n",
    "from pprint import pprint \n",
    "\n",
    "from pandas.io.json import json_normalize\n",
    "\n",
    "import numpy\n",
    "import logging"
   ]
  },
  {
   "cell_type": "code",
   "execution_count": 51,
   "metadata": {
    "collapsed": true
   },
   "outputs": [],
   "source": [
    "# Current time stamp\n",
    "timestamp = int(time.time())"
   ]
  },
  {
   "cell_type": "code",
   "execution_count": 52,
   "metadata": {
    "collapsed": false
   },
   "outputs": [],
   "source": [
    "logging.basicConfig(level=logging.INFO, \n",
    "                    format=' %(asctime)s - %(levelname)s - %(message)s')"
   ]
  },
  {
   "cell_type": "code",
   "execution_count": 53,
   "metadata": {
    "collapsed": false
   },
   "outputs": [],
   "source": [
    "# Date\n",
    "today_date = datetime.date.today() + datetime.timedelta(days=0)\n",
    "yesterday_date = datetime.date.today() + datetime.timedelta(days=-1)\n",
    "seven_days_before_date = datetime.date.today() + datetime.timedelta(days=-7)"
   ]
  },
  {
   "cell_type": "code",
   "execution_count": 54,
   "metadata": {
    "collapsed": true
   },
   "outputs": [],
   "source": [
    "# Shop Parameter\n",
    "partner_id = 12155\n",
    "shopid = 23070969\n",
    "shop_key = 'de5e924b8ed680bc9b22a6c402058154340333ff05641a38069f2856a2f3e24e'"
   ]
  },
  {
   "cell_type": "code",
   "execution_count": 55,
   "metadata": {
    "collapsed": true
   },
   "outputs": [],
   "source": [
    "# get_auth_signature\n",
    "def get_auth_signature(url, payload):\n",
    "    # API Key\n",
    "    shopee_secret = shop_key\n",
    "    # Post Message\n",
    "    post_message = url + '|' + json.dumps(payload)\n",
    "    # HMAC-SHA256\n",
    "    message = bytes(post_message, 'utf-8')\n",
    "    secret = bytes(shopee_secret, 'utf-8')\n",
    "    hash = hmac.new(secret, message, hashlib.sha256)\n",
    "    auth_signature = hash.hexdigest()\n",
    "    return auth_signature"
   ]
  },
  {
   "cell_type": "code",
   "execution_count": 56,
   "metadata": {
    "collapsed": true
   },
   "outputs": [],
   "source": [
    "# URL\n",
    "url = 'https://partner.shopeemobile.com/api/v1/items/get'"
   ]
  },
  {
   "cell_type": "code",
   "execution_count": 57,
   "metadata": {
    "collapsed": false
   },
   "outputs": [
    {
     "name": "stderr",
     "output_type": "stream",
     "text": [
      " 2018-05-11 12:58:10,927 - INFO - Retrieving item from page 1\n",
      " 2018-05-11 12:58:11,189 - INFO - Retrieving item from page 2\n",
      " 2018-05-11 12:58:11,369 - INFO - Remove duplicate records.\n",
      " 2018-05-11 12:58:11,374 - INFO - Retrieved item list.\n"
     ]
    },
    {
     "name": "stdout",
     "output_type": "stream",
     "text": [
      "   index     item_id    shopid  status\n",
      "0      0  1121446661  23070969  NORMAL\n",
      "1      1  1121455576  23070969  NORMAL\n",
      "2      2  1121423066  23070969  NORMAL\n",
      "3      3   725349781  23070969  NORMAL\n",
      "4      4   725351767  23070969  NORMAL\n"
     ]
    }
   ],
   "source": [
    "# get all item\n",
    "max_page = 200\n",
    "pagination_entries_per_page = 100\n",
    "i = 0\n",
    "\n",
    "try:\n",
    "    while i <= max_page:\n",
    "        # start entry\n",
    "        start_entry = i * pagination_entries_per_page\n",
    "\n",
    "        # Parameter\n",
    "        pagination_offset = start_entry\n",
    "\n",
    "        # payload\n",
    "        payload = {\"partner_id\":partner_id,\n",
    "                   \"shopid\":shopid,\n",
    "                   \"timestamp\":timestamp,\n",
    "                   \"pagination_offset\":pagination_offset,\n",
    "                   \"pagination_entries_per_page\":pagination_entries_per_page}\n",
    "        # Auth Signature\n",
    "        Auth_signature = get_auth_signature(url, payload)\n",
    "        # HTML Header\n",
    "        headers = {\"Host\": \"partner.shopeemobile.com\",\n",
    "                    \"Content-Type\": \"application/json\",\n",
    "                    \"Content-Length\": \"89\",\n",
    "                    \"Authorization\": Auth_signature}\n",
    "        # HTML Body\n",
    "        payload = json.dumps(payload)\n",
    "        # Post Request\n",
    "        r = requests.post(url, data=payload, headers=headers)\n",
    "        # 打印原始Json\n",
    "        parsed = json.loads(r.text)\n",
    "        # 漂亮打印Json\n",
    "        item_list = json_normalize(parsed['items'])\n",
    "        # 排除update_time\n",
    "        selected_column = ['item_id', 'shopid', 'status']\n",
    "        item_list = item_list[selected_column]\n",
    "\n",
    "        # 合并\n",
    "        if i == 0:\n",
    "            all_item_list = item_list\n",
    "        else:\n",
    "            all_item_list = all_item_list.append(item_list)\n",
    "\n",
    "        i += 1\n",
    "        logging.info('Retrieving item from page ' + str(i))\n",
    "except:\n",
    "    pass\n",
    "\n",
    "# 去重\n",
    "logging.info('Remove duplicate records.')\n",
    "all_item_list = all_item_list.drop_duplicates('item_id').reset_index()\n",
    "logging.info('Retrieved item list.')\n",
    "print(all_item_list.head())"
   ]
  },
  {
   "cell_type": "code",
   "execution_count": 58,
   "metadata": {
    "collapsed": true
   },
   "outputs": [],
   "source": [
    "# get item detail\n",
    "item_detail_url = 'https://partner.shopeemobile.com/api/v1/item/get'"
   ]
  },
  {
   "cell_type": "code",
   "execution_count": 59,
   "metadata": {
    "collapsed": false
   },
   "outputs": [
    {
     "name": "stderr",
     "output_type": "stream",
     "text": [
      " 2018-05-11 12:58:11,415 - INFO - Now retrieving 1121446661 detail.\n",
      " 2018-05-11 12:58:11,702 - INFO - Retrieved 1121446661 detail.\n",
      " 2018-05-11 12:58:11,704 - INFO - Now retrieving 1121455576 detail.\n",
      " 2018-05-11 12:58:12,348 - INFO - Retrieved 1121455576 detail.\n",
      " 2018-05-11 12:58:12,351 - INFO - Now retrieving 1121423066 detail.\n",
      " 2018-05-11 12:58:12,633 - INFO - Retrieved 1121423066 detail.\n"
     ]
    }
   ],
   "source": [
    "item_detal_list = pd.DataFrame()\n",
    "\n",
    "for key, item in all_item_list[:3].iterrows():\n",
    "    try:\n",
    "        item_id = item['item_id']\n",
    "        logging.info('Now retrieving ' + str(item_id) + ' detail.')\n",
    "        # payload\n",
    "        payload = {\"partner_id\":partner_id,\n",
    "                   \"shopid\":shopid,\n",
    "                   \"timestamp\":timestamp,\n",
    "                   \"item_id\": item_id}\n",
    "        # Auth Signature\n",
    "        Auth_signature = get_auth_signature(item_detail_url, payload)\n",
    "        # HTML Header\n",
    "        headers = {\"Host\": \"partner.shopeemobile.com\",\n",
    "                    \"Content-Type\": \"application/json\",\n",
    "                    \"Content-Length\": \"89\",\n",
    "                    \"Authorization\": Auth_signature}\n",
    "        # HTML Body\n",
    "        payload = json.dumps(payload)\n",
    "        # Post Request\n",
    "        r = requests.post(item_detail_url, data=payload, headers=headers)\n",
    "        # 打印原始Json\n",
    "        parsed = json.loads(r.text)\n",
    "        # 漂亮打印Json\n",
    "        item_detail = json_normalize(parsed['item'])\n",
    "        item_detal_list = item_detal_list.append(item_detail)\n",
    "        # print(item_detail)\n",
    "        logging.info('Retrieved ' + str(item_id) + ' detail.')\n",
    "    except:\n",
    "        pass"
   ]
  },
  {
   "cell_type": "code",
   "execution_count": 60,
   "metadata": {
    "collapsed": true
   },
   "outputs": [],
   "source": [
    "item_detal_list.to_csv(\"D://item_detail_list.csv\", sep=',')"
   ]
  }
 ],
 "metadata": {
  "kernelspec": {
   "display_name": "Python 3",
   "language": "python",
   "name": "python3"
  },
  "language_info": {
   "codemirror_mode": {
    "name": "ipython",
    "version": 3
   },
   "file_extension": ".py",
   "mimetype": "text/x-python",
   "name": "python",
   "nbconvert_exporter": "python",
   "pygments_lexer": "ipython3",
   "version": "3.6.0"
  }
 },
 "nbformat": 4,
 "nbformat_minor": 2
}
