{
 "cells": [
  {
   "cell_type": "code",
   "execution_count": 138,
   "metadata": {
    "collapsed": false
   },
   "outputs": [],
   "source": [
    "import requests\n",
    "import time\n",
    "import datetime as dt\n",
    "import pandas as pd\n",
    "\n",
    "import hashlib\n",
    "import hmac\n",
    "import base64\n",
    "\n",
    "import json\n",
    "\n",
    "from pprint import pprint \n",
    "\n",
    "from pandas.io.json import json_normalize\n",
    "\n",
    "import numpy\n",
    "import logging"
   ]
  },
  {
   "cell_type": "code",
   "execution_count": 139,
   "metadata": {
    "collapsed": true
   },
   "outputs": [],
   "source": [
    "# Current time stamp\n",
    "timestamp = int(time.time())"
   ]
  },
  {
   "cell_type": "code",
   "execution_count": 140,
   "metadata": {
    "collapsed": false
   },
   "outputs": [],
   "source": [
    "logging.basicConfig(level=logging.INFO, \n",
    "                    format=' %(asctime)s - %(levelname)s - %(message)s')"
   ]
  },
  {
   "cell_type": "code",
   "execution_count": 141,
   "metadata": {
    "collapsed": false
   },
   "outputs": [],
   "source": [
    "# Date\n",
    "today_date = datetime.date.today() + datetime.timedelta(days=0)\n",
    "yesterday_date = datetime.date.today() + datetime.timedelta(days=-1)\n",
    "seven_days_before_date = datetime.date.today() + datetime.timedelta(days=-7)"
   ]
  },
  {
   "cell_type": "code",
   "execution_count": 142,
   "metadata": {
    "collapsed": true
   },
   "outputs": [],
   "source": [
    "# Shop Parameter\n",
    "partner_id = 12155\n",
    "shopid = 23070969\n",
    "shop_key = 'de5e924b8ed680bc9b22a6c402058154340333ff05641a38069f2856a2f3e24e'"
   ]
  },
  {
   "cell_type": "code",
   "execution_count": 143,
   "metadata": {
    "collapsed": true
   },
   "outputs": [],
   "source": [
    "# get_auth_signature\n",
    "def get_auth_signature(url, payload):\n",
    "    # API Key\n",
    "    shopee_secret = shop_key\n",
    "    # Post Message\n",
    "    post_message = url + '|' + json.dumps(payload)\n",
    "    # HMAC-SHA256\n",
    "    message = bytes(post_message, 'utf-8')\n",
    "    secret = bytes(shopee_secret, 'utf-8')\n",
    "    hash = hmac.new(secret, message, hashlib.sha256)\n",
    "    auth_signature = hash.hexdigest()\n",
    "    return auth_signature"
   ]
  },
  {
   "cell_type": "code",
   "execution_count": 144,
   "metadata": {
    "collapsed": true
   },
   "outputs": [],
   "source": [
    "# URL\n",
    "url = 'https://partner.shopeemobile.com/api/v1/items/get'"
   ]
  },
  {
   "cell_type": "code",
   "execution_count": 145,
   "metadata": {
    "collapsed": false
   },
   "outputs": [
    {
     "name": "stderr",
     "output_type": "stream",
     "text": [
      " 2018-05-12 15:50:33,928 - INFO - Starting new HTTPS connection (1): partner.shopeemobile.com\n",
      " 2018-05-12 15:50:34,463 - INFO - Retrieving item from page 1\n",
      " 2018-05-12 15:50:34,466 - INFO - Starting new HTTPS connection (1): partner.shopeemobile.com\n",
      " 2018-05-12 15:50:34,697 - INFO - Retrieving item from page 2\n",
      " 2018-05-12 15:50:34,700 - INFO - Starting new HTTPS connection (1): partner.shopeemobile.com\n",
      " 2018-05-12 15:50:34,996 - INFO - Remove duplicate records.\n",
      " 2018-05-12 15:50:34,999 - INFO - Retrieved item list.\n"
     ]
    },
    {
     "name": "stdout",
     "output_type": "stream",
     "text": [
      "   index     item_id    shopid  status\n",
      "0      0  1121446661  23070969  NORMAL\n",
      "1      1  1121455576  23070969  NORMAL\n",
      "2      2  1121423066  23070969  NORMAL\n",
      "3      3   725349781  23070969  NORMAL\n",
      "4      4   725351767  23070969  NORMAL\n"
     ]
    }
   ],
   "source": [
    "# get all item\n",
    "max_page = 200\n",
    "pagination_entries_per_page = 100\n",
    "i = 0\n",
    "\n",
    "try:\n",
    "    while i <= max_page:\n",
    "        # start entry\n",
    "        start_entry = i * pagination_entries_per_page\n",
    "\n",
    "        # Parameter\n",
    "        pagination_offset = start_entry\n",
    "\n",
    "        # payload\n",
    "        payload = {\"partner_id\":partner_id,\n",
    "                   \"shopid\":shopid,\n",
    "                   \"timestamp\":timestamp,\n",
    "                   \"pagination_offset\":pagination_offset,\n",
    "                   \"pagination_entries_per_page\":pagination_entries_per_page}\n",
    "        # Auth Signature\n",
    "        Auth_signature = get_auth_signature(url, payload)\n",
    "        # HTML Header\n",
    "        headers = {\"Host\": \"partner.shopeemobile.com\",\n",
    "                    \"Content-Type\": \"application/json\",\n",
    "                    \"Content-Length\": \"89\",\n",
    "                    \"Authorization\": Auth_signature}\n",
    "        # HTML Body\n",
    "        payload = json.dumps(payload)\n",
    "        # Post Request\n",
    "        r = requests.post(url, data=payload, headers=headers)\n",
    "        # 打印原始Json\n",
    "        parsed = json.loads(r.text)\n",
    "        # 漂亮打印Json\n",
    "        item_list = json_normalize(parsed['items'])\n",
    "        # 排除update_time\n",
    "        selected_column = ['item_id', 'shopid', 'status']\n",
    "        item_list = item_list[selected_column]\n",
    "\n",
    "        # 合并\n",
    "        if i == 0:\n",
    "            all_item_list = item_list\n",
    "        else:\n",
    "            all_item_list = all_item_list.append(item_list)\n",
    "\n",
    "        i += 1\n",
    "        logging.info('Retrieving item from page ' + str(i))\n",
    "except:\n",
    "    pass\n",
    "\n",
    "# 去重\n",
    "logging.info('Remove duplicate records.')\n",
    "all_item_list = all_item_list.drop_duplicates('item_id').reset_index()\n",
    "logging.info('Retrieved item list.')\n",
    "print(all_item_list.head())"
   ]
  },
  {
   "cell_type": "code",
   "execution_count": 146,
   "metadata": {
    "collapsed": true
   },
   "outputs": [],
   "source": [
    "# get item detail\n",
    "item_detail_url = 'https://partner.shopeemobile.com/api/v1/item/get'"
   ]
  },
  {
   "cell_type": "code",
   "execution_count": 147,
   "metadata": {
    "collapsed": false
   },
   "outputs": [
    {
     "name": "stderr",
     "output_type": "stream",
     "text": [
      " 2018-05-12 15:50:35,034 - INFO - Now retrieving 1121446661 detail.\n",
      " 2018-05-12 15:50:35,037 - INFO - Starting new HTTPS connection (1): partner.shopeemobile.com\n",
      " 2018-05-12 15:50:35,381 - INFO - Retrieved 1121446661 detail.\n",
      " 2018-05-12 15:50:35,382 - INFO - Now retrieving 1121455576 detail.\n",
      " 2018-05-12 15:50:35,385 - INFO - Starting new HTTPS connection (1): partner.shopeemobile.com\n",
      " 2018-05-12 15:50:35,832 - INFO - Retrieved 1121455576 detail.\n",
      " 2018-05-12 15:50:35,833 - INFO - Now retrieving 1121423066 detail.\n",
      " 2018-05-12 15:50:35,836 - INFO - Starting new HTTPS connection (1): partner.shopeemobile.com\n",
      " 2018-05-12 15:50:36,151 - INFO - Retrieved 1121423066 detail.\n"
     ]
    }
   ],
   "source": [
    "item_detail_list = pd.DataFrame()\n",
    "\n",
    "for key, item in all_item_list[:3].iterrows():\n",
    "    try:\n",
    "        item_id = item['item_id']\n",
    "        logging.info('Now retrieving ' + str(item_id) + ' detail.')\n",
    "        # payload\n",
    "        payload = {\"partner_id\":partner_id,\n",
    "                   \"shopid\":shopid,\n",
    "                   \"timestamp\":timestamp,\n",
    "                   \"item_id\": item_id}\n",
    "        # Auth Signature\n",
    "        Auth_signature = get_auth_signature(item_detail_url, payload)\n",
    "        # HTML Header\n",
    "        headers = {\"Host\": \"partner.shopeemobile.com\",\n",
    "                    \"Content-Type\": \"application/json\",\n",
    "                    \"Content-Length\": \"89\",\n",
    "                    \"Authorization\": Auth_signature}\n",
    "        # HTML Body\n",
    "        payload = json.dumps(payload)\n",
    "        # Post Request\n",
    "        r = requests.post(item_detail_url, data=payload, headers=headers)\n",
    "        # 打印原始Json\n",
    "        parsed = json.loads(r.text)\n",
    "        # 漂亮打印Json\n",
    "        item_detail = json_normalize(parsed['item'])\n",
    "        item_detail_list = item_detail_list.append(item_detail)\n",
    "        \n",
    "        # print(item_detail)\n",
    "        logging.info('Retrieved ' + str(item_id) + ' detail.')\n",
    "    except:\n",
    "        pass\n",
    "    \n",
    "# convert timestamp to date\n",
    "item_detail_list['create_time'] = pd.to_datetime(item_detail_list['create_time'], unit='s').dt.date\n",
    "item_detail_list['update_time'] = pd.to_datetime(item_detail_list['update_time'], unit='s').dt.date"
   ]
  },
  {
   "cell_type": "code",
   "execution_count": 148,
   "metadata": {
    "collapsed": false,
    "scrolled": true
   },
   "outputs": [
    {
     "data": {
      "text/html": [
       "<div>\n",
       "<table border=\"1\" class=\"dataframe\">\n",
       "  <thead>\n",
       "    <tr style=\"text-align: right;\">\n",
       "      <th></th>\n",
       "      <th>attributes</th>\n",
       "      <th>category_id</th>\n",
       "      <th>cmt_count</th>\n",
       "      <th>create_time</th>\n",
       "      <th>currency</th>\n",
       "      <th>days_to_ship</th>\n",
       "      <th>description</th>\n",
       "      <th>has_variation</th>\n",
       "      <th>images</th>\n",
       "      <th>item_id</th>\n",
       "      <th>...</th>\n",
       "      <th>rating_star</th>\n",
       "      <th>sales</th>\n",
       "      <th>shopid</th>\n",
       "      <th>status</th>\n",
       "      <th>stock</th>\n",
       "      <th>update_time</th>\n",
       "      <th>variations</th>\n",
       "      <th>views</th>\n",
       "      <th>weight</th>\n",
       "      <th>wholesales</th>\n",
       "    </tr>\n",
       "  </thead>\n",
       "  <tbody>\n",
       "    <tr>\n",
       "      <th>0</th>\n",
       "      <td>[{'attribute_type': 'STRING_TYPE', 'attribute_...</td>\n",
       "      <td>5804</td>\n",
       "      <td>0</td>\n",
       "      <td>2018-05-02</td>\n",
       "      <td>TWD</td>\n",
       "      <td>3</td>\n",
       "      <td>Fashion Patented High Quality Anti Slip Crash ...</td>\n",
       "      <td>True</td>\n",
       "      <td>[http://f.shopee.tw/file/a7a43d76b0361451988df...</td>\n",
       "      <td>1121446661</td>\n",
       "      <td>...</td>\n",
       "      <td>0.0</td>\n",
       "      <td>0</td>\n",
       "      <td>23070969</td>\n",
       "      <td>NORMAL</td>\n",
       "      <td>5000</td>\n",
       "      <td>2018-05-04</td>\n",
       "      <td>[{'update_time': 1525277454, 'price': 129.0, '...</td>\n",
       "      <td>0</td>\n",
       "      <td>0.1</td>\n",
       "      <td>[]</td>\n",
       "    </tr>\n",
       "    <tr>\n",
       "      <th>0</th>\n",
       "      <td>[{'attribute_type': 'STRING_TYPE', 'attribute_...</td>\n",
       "      <td>5804</td>\n",
       "      <td>0</td>\n",
       "      <td>2018-05-02</td>\n",
       "      <td>TWD</td>\n",
       "      <td>3</td>\n",
       "      <td>Lovely Cartoon Anti Slip Crash Proof Phone Cas...</td>\n",
       "      <td>True</td>\n",
       "      <td>[http://f.shopee.tw/file/43dd056d8d0a1fb574ce1...</td>\n",
       "      <td>1121455576</td>\n",
       "      <td>...</td>\n",
       "      <td>0.0</td>\n",
       "      <td>0</td>\n",
       "      <td>23070969</td>\n",
       "      <td>NORMAL</td>\n",
       "      <td>8000</td>\n",
       "      <td>2018-05-02</td>\n",
       "      <td>[{'update_time': 1525277452, 'price': 129.0, '...</td>\n",
       "      <td>0</td>\n",
       "      <td>0.1</td>\n",
       "      <td>[]</td>\n",
       "    </tr>\n",
       "    <tr>\n",
       "      <th>0</th>\n",
       "      <td>[{'attribute_type': 'STRING_TYPE', 'attribute_...</td>\n",
       "      <td>5804</td>\n",
       "      <td>0</td>\n",
       "      <td>2018-05-02</td>\n",
       "      <td>TWD</td>\n",
       "      <td>3</td>\n",
       "      <td>Fashion Patented High Quality Anti Slip Crash ...</td>\n",
       "      <td>True</td>\n",
       "      <td>[http://f.shopee.tw/file/e54a6fd53d6872355c7d3...</td>\n",
       "      <td>1121423066</td>\n",
       "      <td>...</td>\n",
       "      <td>0.0</td>\n",
       "      <td>0</td>\n",
       "      <td>23070969</td>\n",
       "      <td>NORMAL</td>\n",
       "      <td>9000</td>\n",
       "      <td>2018-05-02</td>\n",
       "      <td>[{'update_time': 1525276430, 'price': 199.0, '...</td>\n",
       "      <td>2</td>\n",
       "      <td>0.1</td>\n",
       "      <td>[]</td>\n",
       "    </tr>\n",
       "  </tbody>\n",
       "</table>\n",
       "<p>3 rows × 29 columns</p>\n",
       "</div>"
      ],
      "text/plain": [
       "                                          attributes  category_id  cmt_count  \\\n",
       "0  [{'attribute_type': 'STRING_TYPE', 'attribute_...         5804          0   \n",
       "0  [{'attribute_type': 'STRING_TYPE', 'attribute_...         5804          0   \n",
       "0  [{'attribute_type': 'STRING_TYPE', 'attribute_...         5804          0   \n",
       "\n",
       "  create_time currency  days_to_ship  \\\n",
       "0  2018-05-02      TWD             3   \n",
       "0  2018-05-02      TWD             3   \n",
       "0  2018-05-02      TWD             3   \n",
       "\n",
       "                                         description has_variation  \\\n",
       "0  Fashion Patented High Quality Anti Slip Crash ...          True   \n",
       "0  Lovely Cartoon Anti Slip Crash Proof Phone Cas...          True   \n",
       "0  Fashion Patented High Quality Anti Slip Crash ...          True   \n",
       "\n",
       "                                              images     item_id     ...      \\\n",
       "0  [http://f.shopee.tw/file/a7a43d76b0361451988df...  1121446661     ...       \n",
       "0  [http://f.shopee.tw/file/43dd056d8d0a1fb574ce1...  1121455576     ...       \n",
       "0  [http://f.shopee.tw/file/e54a6fd53d6872355c7d3...  1121423066     ...       \n",
       "\n",
       "  rating_star  sales    shopid  status  stock  update_time  \\\n",
       "0         0.0      0  23070969  NORMAL   5000   2018-05-04   \n",
       "0         0.0      0  23070969  NORMAL   8000   2018-05-02   \n",
       "0         0.0      0  23070969  NORMAL   9000   2018-05-02   \n",
       "\n",
       "                                          variations  views  weight  \\\n",
       "0  [{'update_time': 1525277454, 'price': 129.0, '...      0     0.1   \n",
       "0  [{'update_time': 1525277452, 'price': 129.0, '...      0     0.1   \n",
       "0  [{'update_time': 1525276430, 'price': 199.0, '...      2     0.1   \n",
       "\n",
       "   wholesales  \n",
       "0          []  \n",
       "0          []  \n",
       "0          []  \n",
       "\n",
       "[3 rows x 29 columns]"
      ]
     },
     "execution_count": 148,
     "metadata": {},
     "output_type": "execute_result"
    }
   ],
   "source": [
    "item_detail_list"
   ]
  },
  {
   "cell_type": "code",
   "execution_count": 149,
   "metadata": {
    "collapsed": true
   },
   "outputs": [],
   "source": [
    "# item_detail_list.to_csv(\"D://item_detail_list.csv\", sep=',')"
   ]
  }
 ],
 "metadata": {
  "anaconda-cloud": {},
  "kernelspec": {
   "display_name": "Python [default]",
   "language": "python",
   "name": "python3"
  },
  "language_info": {
   "codemirror_mode": {
    "name": "ipython",
    "version": 3
   },
   "file_extension": ".py",
   "mimetype": "text/x-python",
   "name": "python",
   "nbconvert_exporter": "python",
   "pygments_lexer": "ipython3",
   "version": "3.5.2"
  }
 },
 "nbformat": 4,
 "nbformat_minor": 2
}
