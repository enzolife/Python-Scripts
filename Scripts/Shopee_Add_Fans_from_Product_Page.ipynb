{
 "cells": [
  {
   "cell_type": "code",
   "execution_count": 1,
   "metadata": {
    "collapsed": true
   },
   "outputs": [],
   "source": [
    "from selenium import webdriver\n",
    "import pandas as pd\n",
    "import time"
   ]
  },
  {
   "cell_type": "code",
   "execution_count": 2,
   "metadata": {
    "collapsed": true
   },
   "outputs": [],
   "source": [
    "# 使用chromedriver才可以用开发者权限\n",
    "chrome_driver_path = \"D://Program Files (x86)//百度云同步盘//我的软件//chromedriver.exe\"\n",
    "browser = webdriver.Chrome(chrome_driver_path)"
   ]
  },
  {
   "cell_type": "code",
   "execution_count": 3,
   "metadata": {
    "collapsed": false
   },
   "outputs": [
    {
     "data": {
      "text/plain": [
       "selenium.webdriver.chrome.webdriver.WebDriver"
      ]
     },
     "execution_count": 3,
     "metadata": {},
     "output_type": "execute_result"
    }
   ],
   "source": [
    "type(browser)"
   ]
  },
  {
   "cell_type": "code",
   "execution_count": 4,
   "metadata": {
    "collapsed": true
   },
   "outputs": [],
   "source": [
    "# browser.get('https://shopee.tw/%E2%9C%A811.14%E8%A3%9C%E8%B2%A8-%E7%8F%BE%E8%B2%A8-3%E5%8C%85%E8%B5%B7-80-%E5%8C%85-%E8%B2%B710%E8%B4%881%E5%9C%88%E5%9C%88%E2%9C%A8-%E9%9F%93%E5%9C%8B-naebro-%E7%B1%B3%E7%B3%95%E7%88%86%E7%B1%B3%E8%8A%B1-%E7%B1%B3%E9%A4%85-%E5%AF%B6%E5%AF%B6%E9%A4%85%E4%B9%BE-i.2648057.146097108')"
   ]
  },
  {
   "cell_type": "code",
   "execution_count": 5,
   "metadata": {
    "collapsed": false
   },
   "outputs": [
    {
     "data": {
      "text/plain": [
       "\"\\nshop_owner_name = browser.find_element_by_css_selector('.product-page-seller-info__shop-name')\\nshop_owner_name.text\\n\""
      ]
     },
     "execution_count": 5,
     "metadata": {},
     "output_type": "execute_result"
    }
   ],
   "source": [
    "# 找商家名\n",
    "'''\n",
    "shop_owner_name = browser.find_element_by_css_selector('.product-page-seller-info__shop-name')\n",
    "shop_owner_name.text\n",
    "'''"
   ]
  },
  {
   "cell_type": "code",
   "execution_count": 6,
   "metadata": {
    "collapsed": false
   },
   "outputs": [
    {
     "data": {
      "text/plain": [
       "\"\\nproduct_comment = browser.find_elements_by_css_selector('.product-page__tab-link')\\nproduct_comment[2].click()\\n\""
      ]
     },
     "execution_count": 6,
     "metadata": {},
     "output_type": "execute_result"
    }
   ],
   "source": [
    "# 点击“商品留言”\n",
    "'''\n",
    "product_comment = browser.find_elements_by_css_selector('.product-page__tab-link')\n",
    "product_comment[2].click()\n",
    "'''"
   ]
  },
  {
   "cell_type": "code",
   "execution_count": 7,
   "metadata": {
    "collapsed": false,
    "scrolled": true
   },
   "outputs": [
    {
     "data": {
      "text/plain": [
       "\"\\ncomment_person_name = browser.find_elements_by_css_selector('.shopee-product-comment-item__author-name')\\ncomment_person_name[1].get_attribute('href')\\n\""
      ]
     },
     "execution_count": 7,
     "metadata": {},
     "output_type": "execute_result"
    }
   ],
   "source": [
    "# 列出评价者主页\n",
    "'''\n",
    "comment_person_name = browser.find_elements_by_css_selector('.shopee-product-comment-item__author-name')\n",
    "comment_person_name[1].get_attribute('href')\n",
    "'''"
   ]
  },
  {
   "cell_type": "code",
   "execution_count": 8,
   "metadata": {
    "collapsed": false,
    "scrolled": true
   },
   "outputs": [
    {
     "data": {
      "text/plain": [
       "\"\\nnext_page_button = browser.find_elements_by_css_selector('.shopee-icon-button.shopee-icon-button--right')\\nnext_page_button[1].click()\\n\""
      ]
     },
     "execution_count": 8,
     "metadata": {},
     "output_type": "execute_result"
    }
   ],
   "source": [
    "# 点击下一页\n",
    "'''\n",
    "next_page_button = browser.find_elements_by_css_selector('.shopee-icon-button.shopee-icon-button--right')\n",
    "next_page_button[1].click()\n",
    "'''"
   ]
  },
  {
   "cell_type": "code",
   "execution_count": 9,
   "metadata": {
    "collapsed": false
   },
   "outputs": [
    {
     "data": {
      "text/html": [
       "<div>\n",
       "<table border=\"1\" class=\"dataframe\">\n",
       "  <thead>\n",
       "    <tr style=\"text-align: right;\">\n",
       "      <th></th>\n",
       "      <th>itemid</th>\n",
       "      <th>shopid</th>\n",
       "      <th>country</th>\n",
       "      <th>main_category</th>\n",
       "      <th>sub_category</th>\n",
       "      <th>level3_category</th>\n",
       "      <th>product_name</th>\n",
       "      <th>product_url</th>\n",
       "      <th>product_analysis_url</th>\n",
       "      <th>Child Account Name</th>\n",
       "      <th>GP Account Name</th>\n",
       "      <th>GP Account Owner</th>\n",
       "      <th>num_of_orders</th>\n",
       "    </tr>\n",
       "  </thead>\n",
       "  <tbody>\n",
       "    <tr>\n",
       "      <th>0</th>\n",
       "      <td>438562650</td>\n",
       "      <td>12163366</td>\n",
       "      <td>TW</td>\n",
       "      <td>Mother &amp; Baby</td>\n",
       "      <td>Baby and Kids Toys</td>\n",
       "      <td>Plush Toys</td>\n",
       "      <td>現貨可批發！30cm款送圍巾 INS超讚英國經典微笑大牙治癒玩偶毛絨玩具全家族 抓娃娃機最愛...</td>\n",
       "      <td>https://shopee.tw/--i.12163366.438562650</td>\n",
       "      <td>http://www.shopee-redash.com/dashboard/-bi-pro...</td>\n",
       "      <td>beauty2u.tw</td>\n",
       "      <td>诺斯盾</td>\n",
       "      <td>Shelly Zhuo</td>\n",
       "      <td>488.833333</td>\n",
       "    </tr>\n",
       "  </tbody>\n",
       "</table>\n",
       "</div>"
      ],
      "text/plain": [
       "      itemid    shopid country  main_category        sub_category  \\\n",
       "0  438562650  12163366      TW  Mother & Baby  Baby and Kids Toys   \n",
       "\n",
       "  level3_category                                       product_name  \\\n",
       "0      Plush Toys  現貨可批發！30cm款送圍巾 INS超讚英國經典微笑大牙治癒玩偶毛絨玩具全家族 抓娃娃機最愛...   \n",
       "\n",
       "                                product_url  \\\n",
       "0  https://shopee.tw/--i.12163366.438562650   \n",
       "\n",
       "                                product_analysis_url Child Account Name  \\\n",
       "0  http://www.shopee-redash.com/dashboard/-bi-pro...        beauty2u.tw   \n",
       "\n",
       "  GP Account Name GP Account Owner  num_of_orders  \n",
       "0             诺斯盾      Shelly Zhuo     488.833333  "
      ]
     },
     "execution_count": 9,
     "metadata": {},
     "output_type": "execute_result"
    }
   ],
   "source": [
    "# 先读取Top Product列表\n",
    "top_product_path = \"D://shopee_tw_top_baby_product.csv\"\n",
    "top_product = pd.read_csv(top_product_path, sep=',')\n",
    "top_product[:1]"
   ]
  },
  {
   "cell_type": "code",
   "execution_count": 12,
   "metadata": {
    "collapsed": false,
    "scrolled": true
   },
   "outputs": [
    {
     "name": "stdout",
     "output_type": "stream",
     "text": [
      "An exception occurred: list index out of range\n",
      "An exception occurred: list index out of range\n",
      "1 product is captured.\n",
      "2 product is captured.\n",
      "3 product is captured.\n",
      "4 product is captured.\n",
      "5 product is captured.\n",
      "6 product is captured.\n",
      "7 product is captured.\n",
      "8 product is captured.\n",
      "9 product is captured.\n",
      "10 product is captured.\n",
      "11 product is captured.\n",
      "12 product is captured.\n",
      "An exception occurred: list index out of range\n",
      "13 product is captured.\n",
      "14 product is captured.\n",
      "15 product is captured.\n",
      "16 product is captured.\n",
      "17 product is captured.\n",
      "18 product is captured.\n",
      "19 product is captured.\n",
      "20 product is captured.\n",
      "21 product is captured.\n",
      "22 product is captured.\n",
      "23 product is captured.\n",
      "24 product is captured.\n",
      "25 product is captured.\n",
      "26 product is captured.\n",
      "27 product is captured.\n",
      "28 product is captured.\n",
      "29 product is captured.\n",
      "30 product is captured.\n",
      "31 product is captured.\n",
      "32 product is captured.\n",
      "33 product is captured.\n",
      "34 product is captured.\n",
      "35 product is captured.\n",
      "36 product is captured.\n",
      "37 product is captured.\n",
      "38 product is captured.\n",
      "39 product is captured.\n",
      "40 product is captured.\n",
      "41 product is captured.\n",
      "42 product is captured.\n",
      "43 product is captured.\n",
      "44 product is captured.\n",
      "45 product is captured.\n",
      "46 product is captured.\n",
      "47 product is captured.\n",
      "48 product is captured.\n",
      "49 product is captured.\n",
      "50 product is captured.\n",
      "51 product is captured.\n",
      "52 product is captured.\n",
      "An exception occurred: list index out of range\n",
      "An exception occurred: list index out of range\n",
      "An exception occurred: list index out of range\n",
      "An exception occurred: list index out of range\n",
      "An exception occurred: list index out of range\n",
      "An exception occurred: list index out of range\n",
      "An exception occurred: list index out of range\n",
      "An exception occurred: list index out of range\n",
      "An exception occurred: list index out of range\n",
      "An exception occurred: list index out of range\n",
      "An exception occurred: list index out of range\n",
      "An exception occurred: list index out of range\n",
      "An exception occurred: list index out of range\n",
      "An exception occurred: list index out of range\n",
      "An exception occurred: list index out of range\n",
      "An exception occurred: list index out of range\n",
      "An exception occurred: list index out of range\n",
      "An exception occurred: list index out of range\n",
      "An exception occurred: list index out of range\n",
      "An exception occurred: list index out of range\n",
      "An exception occurred: list index out of range\n",
      "An exception occurred: list index out of range\n",
      "An exception occurred: list index out of range\n",
      "An exception occurred: list index out of range\n",
      "An exception occurred: list index out of range\n",
      "An exception occurred: list index out of range\n",
      "An exception occurred: list index out of range\n",
      "An exception occurred: list index out of range\n",
      "An exception occurred: list index out of range\n",
      "An exception occurred: list index out of range\n",
      "An exception occurred: list index out of range\n",
      "An exception occurred: list index out of range\n",
      "An exception occurred: list index out of range\n",
      "An exception occurred: list index out of range\n",
      "An exception occurred: list index out of range\n",
      "An exception occurred: list index out of range\n",
      "An exception occurred: list index out of range\n",
      "An exception occurred: list index out of range\n",
      "An exception occurred: list index out of range\n",
      "An exception occurred: list index out of range\n",
      "An exception occurred: list index out of range\n",
      "An exception occurred: list index out of range\n",
      "An exception occurred: list index out of range\n",
      "An exception occurred: list index out of range\n",
      "An exception occurred: list index out of range\n"
     ]
    }
   ],
   "source": [
    "# 创建空的list\n",
    "comment_person_name_list = []\n",
    "run_time = 1\n",
    "\n",
    "for product_url in top_product[\"product_url\"][:100]:\n",
    "    browser.get(product_url)\n",
    "    \n",
    "    try:\n",
    "        # 点击“商品留言”\n",
    "        product_comment = browser.find_elements_by_css_selector('.product-page__tab-link')\n",
    "        product_comment[1].click()\n",
    "\n",
    "        for i in range(5):\n",
    "\n",
    "            # 列出评价者主页\n",
    "            comment_person_name = browser.find_elements_by_css_selector('.shopee-product-rating__author-name')\n",
    "\n",
    "            # 获取评论者主页URL\n",
    "            for comment_person_url in comment_person_name:\n",
    "                comment_person_name_list.append(comment_person_url.get_attribute('href'))\n",
    "\n",
    "            # 点击下一页\n",
    "            next_page_button = browser.find_elements_by_css_selector('.shopee-icon-button.shopee-icon-button--right')\n",
    "            next_page_button[-1].click()\n",
    "\n",
    "            time.sleep(10)\n",
    "\n",
    "            i = i + 1\n",
    "        \n",
    "        print(str(run_time) + ' product is captured.')\n",
    "        run_time += 1\n",
    "    except Exception as err:\n",
    "        print(\"An exception occurred: \" + str(err))\n",
    "        \n",
    "#转换为data frame\n",
    "comment_person_url_data_frame = pd.DataFrame({'comment_person_url': comment_person_name_list})\n",
    "# 去重\n",
    "comment_person_url_data_frame = comment_person_url_data_frame.drop_duplicates(subset='comment_person_url')\n",
    "#导出\n",
    "comment_person_url_data_frame.to_csv('D://comment_person_url.csv', sep=',')"
   ]
  }
 ],
 "metadata": {
  "kernelspec": {
   "display_name": "Python 3",
   "language": "python",
   "name": "python3"
  },
  "language_info": {
   "codemirror_mode": {
    "name": "ipython",
    "version": 3
   },
   "file_extension": ".py",
   "mimetype": "text/x-python",
   "name": "python",
   "nbconvert_exporter": "python",
   "pygments_lexer": "ipython3",
   "version": "3.6.0"
  }
 },
 "nbformat": 4,
 "nbformat_minor": 2
}
