{
 "cells": [
  {
   "cell_type": "code",
   "execution_count": 1,
   "metadata": {
    "collapsed": true
   },
   "outputs": [],
   "source": [
    "from selenium import webdriver\n",
    "import pandas as pd\n",
    "import time"
   ]
  },
  {
   "cell_type": "code",
   "execution_count": 2,
   "metadata": {
    "collapsed": true
   },
   "outputs": [],
   "source": [
    "# 使用chromedriver才可以用开发者权限\n",
    "chrome_driver_path = \"D://Program Files (x86)//百度云同步盘//我的软件//chromedriver.exe\"\n",
    "browser = webdriver.Chrome(chrome_driver_path)"
   ]
  },
  {
   "cell_type": "code",
   "execution_count": 3,
   "metadata": {
    "collapsed": false
   },
   "outputs": [
    {
     "data": {
      "text/plain": [
       "selenium.webdriver.chrome.webdriver.WebDriver"
      ]
     },
     "execution_count": 3,
     "metadata": {},
     "output_type": "execute_result"
    }
   ],
   "source": [
    "type(browser)"
   ]
  },
  {
   "cell_type": "code",
   "execution_count": 4,
   "metadata": {
    "collapsed": true
   },
   "outputs": [],
   "source": [
    "# browser.get('https://shopee.tw/%E2%9C%A811.14%E8%A3%9C%E8%B2%A8-%E7%8F%BE%E8%B2%A8-3%E5%8C%85%E8%B5%B7-80-%E5%8C%85-%E8%B2%B710%E8%B4%881%E5%9C%88%E5%9C%88%E2%9C%A8-%E9%9F%93%E5%9C%8B-naebro-%E7%B1%B3%E7%B3%95%E7%88%86%E7%B1%B3%E8%8A%B1-%E7%B1%B3%E9%A4%85-%E5%AF%B6%E5%AF%B6%E9%A4%85%E4%B9%BE-i.2648057.146097108')"
   ]
  },
  {
   "cell_type": "code",
   "execution_count": 5,
   "metadata": {
    "collapsed": false
   },
   "outputs": [
    {
     "data": {
      "text/plain": [
       "\"\\nshop_owner_name = browser.find_element_by_css_selector('.product-page-seller-info__shop-name')\\nshop_owner_name.text\\n\""
      ]
     },
     "execution_count": 5,
     "metadata": {},
     "output_type": "execute_result"
    }
   ],
   "source": [
    "# 找商家名\n",
    "'''\n",
    "shop_owner_name = browser.find_element_by_css_selector('.product-page-seller-info__shop-name')\n",
    "shop_owner_name.text\n",
    "'''"
   ]
  },
  {
   "cell_type": "code",
   "execution_count": 6,
   "metadata": {
    "collapsed": false
   },
   "outputs": [
    {
     "data": {
      "text/plain": [
       "\"\\nproduct_comment = browser.find_elements_by_css_selector('.product-page__tab-link')\\nproduct_comment[2].click()\\n\""
      ]
     },
     "execution_count": 6,
     "metadata": {},
     "output_type": "execute_result"
    }
   ],
   "source": [
    "# 点击“商品留言”\n",
    "'''\n",
    "product_comment = browser.find_elements_by_css_selector('.product-page__tab-link')\n",
    "product_comment[2].click()\n",
    "'''"
   ]
  },
  {
   "cell_type": "code",
   "execution_count": 7,
   "metadata": {
    "collapsed": false,
    "scrolled": true
   },
   "outputs": [
    {
     "data": {
      "text/plain": [
       "\"\\ncomment_person_name = browser.find_elements_by_css_selector('.shopee-product-comment-item__author-name')\\ncomment_person_name[1].get_attribute('href')\\n\""
      ]
     },
     "execution_count": 7,
     "metadata": {},
     "output_type": "execute_result"
    }
   ],
   "source": [
    "# 列出评价者主页\n",
    "'''\n",
    "comment_person_name = browser.find_elements_by_css_selector('.shopee-product-comment-item__author-name')\n",
    "comment_person_name[1].get_attribute('href')\n",
    "'''"
   ]
  },
  {
   "cell_type": "code",
   "execution_count": 8,
   "metadata": {
    "collapsed": false,
    "scrolled": true
   },
   "outputs": [
    {
     "data": {
      "text/plain": [
       "\"\\nnext_page_button = browser.find_elements_by_css_selector('.shopee-icon-button.shopee-icon-button--right')\\nnext_page_button[1].click()\\n\""
      ]
     },
     "execution_count": 8,
     "metadata": {},
     "output_type": "execute_result"
    }
   ],
   "source": [
    "# 点击下一页\n",
    "'''\n",
    "next_page_button = browser.find_elements_by_css_selector('.shopee-icon-button.shopee-icon-button--right')\n",
    "next_page_button[1].click()\n",
    "'''"
   ]
  },
  {
   "cell_type": "code",
   "execution_count": 9,
   "metadata": {
    "collapsed": false
   },
   "outputs": [
    {
     "data": {
      "text/html": [
       "<div>\n",
       "<table border=\"1\" class=\"dataframe\">\n",
       "  <thead>\n",
       "    <tr style=\"text-align: right;\">\n",
       "      <th></th>\n",
       "      <th>itemid</th>\n",
       "      <th>shopid</th>\n",
       "      <th>country</th>\n",
       "      <th>main_category</th>\n",
       "      <th>sub_category</th>\n",
       "      <th>level3_category</th>\n",
       "      <th>product_name</th>\n",
       "      <th>product_url</th>\n",
       "      <th>product_analysis_url</th>\n",
       "      <th>Child Account Name</th>\n",
       "      <th>GP Account Name</th>\n",
       "      <th>GP Account Owner</th>\n",
       "      <th>num_of_orders</th>\n",
       "    </tr>\n",
       "  </thead>\n",
       "  <tbody>\n",
       "    <tr>\n",
       "      <th>0</th>\n",
       "      <td>196475037</td>\n",
       "      <td>19058311</td>\n",
       "      <td>MY</td>\n",
       "      <td>Baby &amp; Toys</td>\n",
       "      <td>Baby Clothing</td>\n",
       "      <td>Baby Clothing</td>\n",
       "      <td>8 Pcs Set Newborn Kids Baby Clothing Outfits T...</td>\n",
       "      <td>https://shopee.com.my/--i.19058311.196475037</td>\n",
       "      <td>http://www.shopee-redash.com/dashboard/-bi-pro...</td>\n",
       "      <td>iu.my</td>\n",
       "      <td>Zehui</td>\n",
       "      <td>Cindy Jin</td>\n",
       "      <td>1864.726202</td>\n",
       "    </tr>\n",
       "  </tbody>\n",
       "</table>\n",
       "</div>"
      ],
      "text/plain": [
       "      itemid    shopid country main_category   sub_category level3_category  \\\n",
       "0  196475037  19058311      MY   Baby & Toys  Baby Clothing   Baby Clothing   \n",
       "\n",
       "                                        product_name  \\\n",
       "0  8 Pcs Set Newborn Kids Baby Clothing Outfits T...   \n",
       "\n",
       "                                    product_url  \\\n",
       "0  https://shopee.com.my/--i.19058311.196475037   \n",
       "\n",
       "                                product_analysis_url Child Account Name  \\\n",
       "0  http://www.shopee-redash.com/dashboard/-bi-pro...              iu.my   \n",
       "\n",
       "  GP Account Name GP Account Owner  num_of_orders  \n",
       "0           Zehui        Cindy Jin    1864.726202  "
      ]
     },
     "execution_count": 9,
     "metadata": {},
     "output_type": "execute_result"
    }
   ],
   "source": [
    "# 先读取Top Product列表\n",
    "top_product_path = \"D://shopee_my_top_baby_product(1).csv\"\n",
    "top_product = pd.read_csv(top_product_path, sep=',')\n",
    "top_product[:1]"
   ]
  },
  {
   "cell_type": "code",
   "execution_count": 10,
   "metadata": {
    "collapsed": false,
    "scrolled": true
   },
   "outputs": [
    {
     "name": "stdout",
     "output_type": "stream",
     "text": [
      "An exception occurred: Message: unknown error: Element <div class=\"product-page__tab-link\">...</div> is not clickable at point (630, 1027). Other element would receive the click: <div class=\"shopee-modal__overlay\"></div>\n",
      "  (Session info: chrome=63.0.3239.132)\n",
      "  (Driver info: chromedriver=2.33.506120 (e3e53437346286c0bc2d2dc9aa4915ba81d9023f),platform=Windows NT 10.0.16299 x86_64)\n",
      "\n",
      "An exception occurred: list index out of range\n",
      "An exception occurred: Message: unknown error: Element <div class=\"product-page__tab-link\">...</div> is not clickable at point (630, 938). Other element would receive the click: <div class=\"shopee-modal__overlay\"></div>\n",
      "  (Session info: chrome=63.0.3239.132)\n",
      "  (Driver info: chromedriver=2.33.506120 (e3e53437346286c0bc2d2dc9aa4915ba81d9023f),platform=Windows NT 10.0.16299 x86_64)\n",
      "\n",
      "An exception occurred: Message: unknown error: Element <div class=\"product-page__tab-link\">...</div> is not clickable at point (616, 938). Other element would receive the click: <div class=\"shopee-modal__overlay\"></div>\n",
      "  (Session info: chrome=63.0.3239.132)\n",
      "  (Driver info: chromedriver=2.33.506120 (e3e53437346286c0bc2d2dc9aa4915ba81d9023f),platform=Windows NT 10.0.16299 x86_64)\n",
      "\n",
      "1 product is captured.\n",
      "2 product is captured.\n",
      "3 product is captured.\n",
      "4 product is captured.\n",
      "5 product is captured.\n",
      "6 product is captured.\n",
      "7 product is captured.\n",
      "8 product is captured.\n",
      "9 product is captured.\n",
      "10 product is captured.\n",
      "11 product is captured.\n",
      "12 product is captured.\n",
      "13 product is captured.\n",
      "14 product is captured.\n",
      "15 product is captured.\n",
      "16 product is captured.\n",
      "17 product is captured.\n",
      "18 product is captured.\n",
      "An exception occurred: Message: stale element reference: element is not attached to the page document\n",
      "  (Session info: chrome=63.0.3239.132)\n",
      "  (Driver info: chromedriver=2.33.506120 (e3e53437346286c0bc2d2dc9aa4915ba81d9023f),platform=Windows NT 10.0.16299 x86_64)\n",
      "\n",
      "19 product is captured.\n",
      "20 product is captured.\n",
      "21 product is captured.\n",
      "22 product is captured.\n",
      "23 product is captured.\n",
      "24 product is captured.\n",
      "25 product is captured.\n",
      "26 product is captured.\n",
      "27 product is captured.\n",
      "28 product is captured.\n",
      "29 product is captured.\n",
      "30 product is captured.\n",
      "31 product is captured.\n",
      "32 product is captured.\n",
      "33 product is captured.\n",
      "34 product is captured.\n",
      "35 product is captured.\n",
      "36 product is captured.\n",
      "37 product is captured.\n",
      "38 product is captured.\n",
      "39 product is captured.\n",
      "40 product is captured.\n",
      "41 product is captured.\n",
      "42 product is captured.\n",
      "43 product is captured.\n",
      "An exception occurred: Message: unknown error: Element <button class=\"shopee-icon-button shopee-icon-button--right \">...</button> is not clickable at point (1503, 1037). Other element would receive the click: <div class=\"shopee-product-rating__main\">...</div>\n",
      "  (Session info: chrome=63.0.3239.132)\n",
      "  (Driver info: chromedriver=2.33.506120 (e3e53437346286c0bc2d2dc9aa4915ba81d9023f),platform=Windows NT 10.0.16299 x86_64)\n",
      "\n",
      "44 product is captured.\n",
      "45 product is captured.\n",
      "46 product is captured.\n",
      "47 product is captured.\n",
      "48 product is captured.\n",
      "49 product is captured.\n",
      "50 product is captured.\n",
      "An exception occurred: Message: stale element reference: element is not attached to the page document\n",
      "  (Session info: chrome=63.0.3239.132)\n",
      "  (Driver info: chromedriver=2.33.506120 (e3e53437346286c0bc2d2dc9aa4915ba81d9023f),platform=Windows NT 10.0.16299 x86_64)\n",
      "\n",
      "51 product is captured.\n",
      "52 product is captured.\n",
      "An exception occurred: Message: unknown error: Element <button class=\"shopee-icon-button shopee-icon-button--right \">...</button> is not clickable at point (1503, 1037). Other element would receive the click: <div class=\"shopee-product-rating__main\">...</div>\n",
      "  (Session info: chrome=63.0.3239.132)\n",
      "  (Driver info: chromedriver=2.33.506120 (e3e53437346286c0bc2d2dc9aa4915ba81d9023f),platform=Windows NT 10.0.16299 x86_64)\n",
      "\n",
      "53 product is captured.\n",
      "54 product is captured.\n",
      "55 product is captured.\n",
      "56 product is captured.\n",
      "57 product is captured.\n",
      "58 product is captured.\n",
      "59 product is captured.\n",
      "60 product is captured.\n",
      "61 product is captured.\n",
      "62 product is captured.\n",
      "63 product is captured.\n",
      "64 product is captured.\n",
      "65 product is captured.\n",
      "66 product is captured.\n",
      "67 product is captured.\n",
      "An exception occurred: Message: unknown error: Element <button class=\"shopee-icon-button shopee-icon-button--right \">...</button> is not clickable at point (1503, 1037). Other element would receive the click: <div class=\"shopee-product-rating__main\">...</div>\n",
      "  (Session info: chrome=63.0.3239.132)\n",
      "  (Driver info: chromedriver=2.33.506120 (e3e53437346286c0bc2d2dc9aa4915ba81d9023f),platform=Windows NT 10.0.16299 x86_64)\n",
      "\n",
      "68 product is captured.\n",
      "69 product is captured.\n",
      "70 product is captured.\n",
      "71 product is captured.\n",
      "72 product is captured.\n",
      "An exception occurred: Message: unknown error: Element <button class=\"shopee-icon-button shopee-icon-button--right \">...</button> is not clickable at point (1503, 1037). Other element would receive the click: <div class=\"shopee-product-rating__main\">...</div>\n",
      "  (Session info: chrome=63.0.3239.132)\n",
      "  (Driver info: chromedriver=2.33.506120 (e3e53437346286c0bc2d2dc9aa4915ba81d9023f),platform=Windows NT 10.0.16299 x86_64)\n",
      "\n",
      "73 product is captured.\n",
      "An exception occurred: Message: stale element reference: element is not attached to the page document\n",
      "  (Session info: chrome=63.0.3239.132)\n",
      "  (Driver info: chromedriver=2.33.506120 (e3e53437346286c0bc2d2dc9aa4915ba81d9023f),platform=Windows NT 10.0.16299 x86_64)\n",
      "\n",
      "74 product is captured.\n",
      "75 product is captured.\n",
      "76 product is captured.\n",
      "77 product is captured.\n",
      "An exception occurred: Message: stale element reference: element is not attached to the page document\n",
      "  (Session info: chrome=63.0.3239.132)\n",
      "  (Driver info: chromedriver=2.33.506120 (e3e53437346286c0bc2d2dc9aa4915ba81d9023f),platform=Windows NT 10.0.16299 x86_64)\n",
      "\n",
      "An exception occurred: Message: stale element reference: element is not attached to the page document\n",
      "  (Session info: chrome=63.0.3239.132)\n",
      "  (Driver info: chromedriver=2.33.506120 (e3e53437346286c0bc2d2dc9aa4915ba81d9023f),platform=Windows NT 10.0.16299 x86_64)\n",
      "\n",
      "78 product is captured.\n",
      "79 product is captured.\n",
      "80 product is captured.\n",
      "81 product is captured.\n",
      "82 product is captured.\n",
      "83 product is captured.\n",
      "84 product is captured.\n",
      "An exception occurred: Message: stale element reference: element is not attached to the page document\n",
      "  (Session info: chrome=63.0.3239.132)\n",
      "  (Driver info: chromedriver=2.33.506120 (e3e53437346286c0bc2d2dc9aa4915ba81d9023f),platform=Windows NT 10.0.16299 x86_64)\n",
      "\n",
      "85 product is captured.\n",
      "86 product is captured.\n"
     ]
    }
   ],
   "source": [
    "# 创建空的list\n",
    "comment_person_name_list = []\n",
    "run_time = 1\n",
    "\n",
    "for product_url in top_product[\"product_url\"][:100]:\n",
    "    browser.get(product_url)\n",
    "    \n",
    "    try:\n",
    "        # 点击“商品留言”\n",
    "        product_comment = browser.find_elements_by_css_selector('.product-page__tab-link')\n",
    "        product_comment[1].click()\n",
    "\n",
    "        for i in range(5):\n",
    "\n",
    "            # 列出评价者主页\n",
    "            comment_person_name = browser.find_elements_by_css_selector('.shopee-product-rating__author-name')\n",
    "\n",
    "            # 获取评论者主页URL\n",
    "            for comment_person_url in comment_person_name:\n",
    "                comment_person_name_list.append(comment_person_url.get_attribute('href'))\n",
    "\n",
    "            # 点击下一页\n",
    "            next_page_button = browser.find_elements_by_css_selector('.shopee-icon-button.shopee-icon-button--right')\n",
    "            next_page_button[-1].click()\n",
    "\n",
    "            time.sleep(10)\n",
    "\n",
    "            i = i + 1\n",
    "        \n",
    "        print(str(run_time) + ' product is captured.')\n",
    "        run_time += 1\n",
    "    except Exception as err:\n",
    "        print(\"An exception occurred: \" + str(err))\n",
    "        \n",
    "#转换为data frame\n",
    "comment_person_url_data_frame = pd.DataFrame({'comment_person_url': comment_person_name_list})\n",
    "# 去重\n",
    "comment_person_url_data_frame = comment_person_url_data_frame.drop_duplicates(subset='comment_person_url')\n",
    "#导出\n",
    "comment_person_url_data_frame.to_csv('D://comment_person_url.csv', sep=',')"
   ]
  }
 ],
 "metadata": {
  "kernelspec": {
   "display_name": "Python 3",
   "language": "python",
   "name": "python3"
  },
  "language_info": {
   "codemirror_mode": {
    "name": "ipython",
    "version": 3
   },
   "file_extension": ".py",
   "mimetype": "text/x-python",
   "name": "python",
   "nbconvert_exporter": "python",
   "pygments_lexer": "ipython3",
   "version": "3.6.0"
  }
 },
 "nbformat": 4,
 "nbformat_minor": 2
}
