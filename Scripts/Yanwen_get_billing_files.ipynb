{
 "cells": [
  {
   "cell_type": "code",
   "execution_count": 1,
   "metadata": {
    "collapsed": true
   },
   "outputs": [],
   "source": [
    "from selenium import webdriver\n",
    "import pandas as pd\n",
    "import time\n",
    "import os\n",
    "import zipfile\n",
    "import shutil"
   ]
  },
  {
   "cell_type": "code",
   "execution_count": 2,
   "metadata": {
    "collapsed": true
   },
   "outputs": [],
   "source": [
    "# 屏幕最大化，且指定下载目录\n",
    "options = webdriver.ChromeOptions()\n",
    "options.add_argument(\"--start-maximized\")\n",
    "\n",
    "prefs = {\"profile.default_content_settings.popups\": 0,\n",
    "         \"download.default_directory\": r\"D:\\Program Files (x86)\\百度云同步盘\\Dropbox\\-E·J- 2014.5.1\\2016.12.15 店小秘数据分析\\2017.10.24 各渠道运费明细\\燕文\\\\\", # IMPORTANT - ENDING SLASH V IMPORTANT\n",
    "         \"directory_upgrade\": True}\n",
    "options.add_experimental_option(\"prefs\", prefs)"
   ]
  },
  {
   "cell_type": "code",
   "execution_count": 3,
   "metadata": {
    "collapsed": true
   },
   "outputs": [],
   "source": [
    "# 使用chromedriver才可以用开发者权限\n",
    "chrome_driver_path = \".//chrome_driver//chromedriver.exe\"\n",
    "browser = webdriver.Chrome(chrome_driver_path, chrome_options=options)"
   ]
  },
  {
   "cell_type": "code",
   "execution_count": 4,
   "metadata": {
    "collapsed": true
   },
   "outputs": [],
   "source": [
    "browser.get('http://portal.yw56.com.cn/login')"
   ]
  },
  {
   "cell_type": "code",
   "execution_count": 5,
   "metadata": {
    "collapsed": true
   },
   "outputs": [],
   "source": [
    "yw_account = 401614\n",
    "yw_psw = 401614"
   ]
  },
  {
   "cell_type": "code",
   "execution_count": 6,
   "metadata": {
    "collapsed": true
   },
   "outputs": [],
   "source": [
    "def find_elements_by_css_selector(class_name, order_num):\n",
    "    class_name = class_name.replace(\" \", \".\")\n",
    "    class_name = '.' + class_name\n",
    "    return browser.find_elements_by_css_selector(class_name)[order_num]"
   ]
  },
  {
   "cell_type": "code",
   "execution_count": 7,
   "metadata": {
    "collapsed": true
   },
   "outputs": [],
   "source": [
    "yw_account_input = find_elements_by_css_selector('form-control form-control-solid placeholder-no-fix', 0)\n",
    "yw_psw_input = find_elements_by_css_selector('form-control form-control-solid placeholder-no-fix', 1)"
   ]
  },
  {
   "cell_type": "code",
   "execution_count": 8,
   "metadata": {
    "collapsed": true
   },
   "outputs": [],
   "source": [
    "# 输入账户密码登录\n",
    "yw_account_input.click()\n",
    "yw_account_input.send_keys(yw_account)\n",
    "yw_psw_input.click()\n",
    "yw_psw_input.send_keys(yw_psw)\n",
    "time.sleep(10)"
   ]
  },
  {
   "cell_type": "code",
   "execution_count": 9,
   "metadata": {
    "collapsed": true
   },
   "outputs": [],
   "source": [
    "# 登录\n",
    "login_button = find_elements_by_css_selector(\"btn btn-block ladda-button\", 0)\n",
    "login_button.click()\n",
    "time.sleep(10)"
   ]
  },
  {
   "cell_type": "code",
   "execution_count": 10,
   "metadata": {
    "collapsed": true
   },
   "outputs": [],
   "source": [
    "# 点击我的历史账单\n",
    "browser.get('http://portal.yw56.com.cn/bill/index?type=1')"
   ]
  },
  {
   "cell_type": "code",
   "execution_count": 11,
   "metadata": {
    "collapsed": true
   },
   "outputs": [],
   "source": [
    "# 选择‘账单’\n",
    "# https://stackoverflow.com/questions/7867537/selenium-python-drop-down-menu-option-value\n",
    "browser.find_element_by_xpath(\"//select[@name='transType']/option[text()='账单']\").click()"
   ]
  },
  {
   "cell_type": "code",
   "execution_count": 12,
   "metadata": {
    "collapsed": true
   },
   "outputs": [],
   "source": [
    "# 日期选择器\n",
    "import datetime as dt\n",
    "from datetime import timedelta\n",
    "today_date = dt.datetime.today()\n",
    "ninety_days_ago = today_date - timedelta(days=120)\n",
    "ninety_days_ago_str_format = ninety_days_ago.strftime('%Y-%m-%d')\n",
    "# ninety_days_ago_str_format"
   ]
  },
  {
   "cell_type": "code",
   "execution_count": 13,
   "metadata": {
    "collapsed": true
   },
   "outputs": [],
   "source": [
    "# 设置日期\n",
    "start_date = find_elements_by_css_selector('form-control', 0)\n",
    "start_date.clear()\n",
    "start_date.send_keys(ninety_days_ago_str_format)"
   ]
  },
  {
   "cell_type": "code",
   "execution_count": 14,
   "metadata": {
    "collapsed": true
   },
   "outputs": [],
   "source": [
    "# 点击查询\n",
    "search_bill = find_elements_by_css_selector(\"btn\", 0)\n",
    "search_bill.click()\n",
    "time.sleep(10)"
   ]
  },
  {
   "cell_type": "code",
   "execution_count": 15,
   "metadata": {
    "collapsed": true
   },
   "outputs": [],
   "source": [
    "# 设置条目数\n",
    "num_of_rows = find_elements_by_css_selector('btn-group dropup', 0)\n",
    "num_of_rows.click()\n",
    "\n",
    "# 点击最大条目数\n",
    "# https://stackoverflow.com/questions/34583524/python-selenium-click-on-all-li-in-ul\n",
    "# https://stackoverflow.com/questions/18026766/selenium-select-element-with-multiple-attributes\n",
    "num_of_max_rows = browser.find_elements_by_xpath(\"//ul[@class = 'dropdown-menu'][@role = 'menu']//li[not(@class)]\")\n",
    "# num_of_max_rows[-1].text\n",
    "num_of_max_rows[-1].click()\n",
    "time.sleep(5)"
   ]
  },
  {
   "cell_type": "code",
   "execution_count": 16,
   "metadata": {},
   "outputs": [
    {
     "name": "stdout",
     "output_type": "stream",
     "text": [
      "50\n"
     ]
    }
   ],
   "source": [
    "# 查看有多少条记录\n",
    "# https://stackoverflow.com/questions/14831041/how-to-count-no-of-rows-in-table-from-web-application-using-selenium-python-webd\n",
    "row_count = len(browser.find_elements_by_xpath(\"//table[@id='table']/tbody/tr\"))\n",
    "print(row_count)\n",
    "time.sleep(5)"
   ]
  },
  {
   "cell_type": "code",
   "execution_count": 17,
   "metadata": {},
   "outputs": [
    {
     "data": {
      "text/plain": [
       "'\\nbill_id = 0\\nbill_location = browser.find_elements_by_xpath(\"//table[@id=\\'table\\']/tbody/tr[@data-index=\\'\" + str(bill_id) + \"\\']/td\")[5]\\nbill_html = \"http://portal.yw56.com.cn\" + bill_location.get_attribute(\\'innerHTML\\').split(\\'\"\\')[1].replace(\\'amp;\\',\\'\\')\\nbrowser.get(bill_html)\\n'"
      ]
     },
     "execution_count": 17,
     "metadata": {},
     "output_type": "execute_result"
    }
   ],
   "source": [
    "# 点击每条账单\n",
    "'''\n",
    "bill_id = 0\n",
    "bill_location = browser.find_elements_by_xpath(\"//table[@id='table']/tbody/tr[@data-index='\" + str(bill_id) + \"']/td\")[5]\n",
    "bill_html = \"http://portal.yw56.com.cn\" + bill_location.get_attribute('innerHTML').split('\"')[1].replace('amp;','')\n",
    "browser.get(bill_html)\n",
    "'''"
   ]
  },
  {
   "cell_type": "code",
   "execution_count": 18,
   "metadata": {},
   "outputs": [
    {
     "data": {
      "text/plain": [
       "'\\nbill_download = find_elements_by_css_selector(\"btn\", 1)\\nbill_download.click()\\n'"
      ]
     },
     "execution_count": 18,
     "metadata": {},
     "output_type": "execute_result"
    }
   ],
   "source": [
    "# 点击下载\n",
    "'''\n",
    "bill_download = find_elements_by_css_selector(\"btn\", 1)\n",
    "bill_download.click()\n",
    "'''"
   ]
  },
  {
   "cell_type": "code",
   "execution_count": 19,
   "metadata": {
    "scrolled": true
   },
   "outputs": [
    {
     "name": "stdout",
     "output_type": "stream",
     "text": [
      "<selenium.webdriver.remote.webelement.WebElement (session=\"4b83735ca2ee3d8875659f4798baad56\", element=\"4be9b71f-47a5-41d4-b0fa-719da4b71406\")>\n",
      "Exception occurred: list index out of range\n",
      "<selenium.webdriver.remote.webelement.WebElement (session=\"4b83735ca2ee3d8875659f4798baad56\", element=\"5e6331f6-8942-4a39-a527-32af4e1afd87\")>\n",
      "http://portal.yw56.com.cn/bill/index?type=3&mainNo=TC01_2019-10-40_2019-10-40_04_401614_CNY&startDate=2019-10-01&endDate=2019-10-06&changeStatus=0&transType=TC01&billAmount=2183.58&rowNum=2\n",
      "<selenium.webdriver.remote.webelement.WebElement (session=\"4b83735ca2ee3d8875659f4798baad56\", element=\"62fecf4a-6f9b-4c2a-a431-e08c9a761d6b\")>\n",
      "http://portal.yw56.com.cn/bill/index?type=3&mainNo=TC01_2019-09-40_2019-09-40_04_401614_CNY&startDate=2019-09-30&endDate=2019-09-30&changeStatus=0&transType=TC01&billAmount=1169.69&rowNum=3\n",
      "<selenium.webdriver.remote.webelement.WebElement (session=\"4b83735ca2ee3d8875659f4798baad56\", element=\"80e85750-cbbf-4da1-aa28-810ed16b44be\")>\n",
      "Exception occurred: list index out of range\n",
      "<selenium.webdriver.remote.webelement.WebElement (session=\"4b83735ca2ee3d8875659f4798baad56\", element=\"938b4c3d-a9cc-4755-a390-2e45c773455c\")>\n",
      "http://portal.yw56.com.cn/bill/index?type=3&mainNo=TC01_2019-09-39_2019-09-39_04_401614_CNY&startDate=2019-09-23&endDate=2019-09-29&changeStatus=0&transType=TC01&billAmount=2240.71&rowNum=5\n",
      "<selenium.webdriver.remote.webelement.WebElement (session=\"4b83735ca2ee3d8875659f4798baad56\", element=\"a4769749-70c8-45c6-ab75-9231180ddf87\")>\n",
      "http://portal.yw56.com.cn/bill/index?type=3&mainNo=TC01_2019-09-39_2019-09-38_04_401614_CNY_3046&startDate=2019-09-23&endDate=2019-09-29&changeStatus=1&transType=TC01&billAmount=17.26&rowNum=6\n",
      "<selenium.webdriver.remote.webelement.WebElement (session=\"4b83735ca2ee3d8875659f4798baad56\", element=\"a5ad2fbf-733d-49a9-b490-a4bf2d4f7b54\")>\n",
      "Exception occurred: list index out of range\n",
      "<selenium.webdriver.remote.webelement.WebElement (session=\"4b83735ca2ee3d8875659f4798baad56\", element=\"c64ad7e1-1b56-4553-8811-79cb47637286\")>\n",
      "http://portal.yw56.com.cn/bill/index?type=3&mainNo=TC01_2019-09-38_2019-09-38_04_401614_CNY&startDate=2019-09-16&endDate=2019-09-22&changeStatus=0&transType=TC01&billAmount=3004.02&rowNum=8\n",
      "<selenium.webdriver.remote.webelement.WebElement (session=\"4b83735ca2ee3d8875659f4798baad56\", element=\"62397858-df3c-4f9f-bde3-19ff56b75c30\")>\n",
      "Exception occurred: list index out of range\n",
      "<selenium.webdriver.remote.webelement.WebElement (session=\"4b83735ca2ee3d8875659f4798baad56\", element=\"e6a9fb4f-ac3a-451a-ba50-ca8f2c8d949f\")>\n",
      "http://portal.yw56.com.cn/bill/index?type=3&mainNo=TC02_2019-09-37_2019-09-36_04_401614_CNY_0&startDate=2019-09-09&endDate=2019-09-15&changeStatus=1&transType=TC02&billAmount=-212.98&rowNum=10\n",
      "<selenium.webdriver.remote.webelement.WebElement (session=\"4b83735ca2ee3d8875659f4798baad56\", element=\"243f6158-e69b-41f4-865e-8f2535701a44\")>\n",
      "http://portal.yw56.com.cn/bill/index?type=3&mainNo=TC01_2019-09-37_2019-09-37_04_401614_CNY&startDate=2019-09-09&endDate=2019-09-15&changeStatus=0&transType=TC01&billAmount=3623.00&rowNum=11\n",
      "<selenium.webdriver.remote.webelement.WebElement (session=\"4b83735ca2ee3d8875659f4798baad56\", element=\"24148400-40b3-481c-bb94-fd4fc5872a10\")>\n",
      "http://portal.yw56.com.cn/bill/index?type=3&mainNo=TC01_2019-09-37_2019-09-36_04_401614_CNY_2826&startDate=2019-09-09&endDate=2019-09-15&changeStatus=1&transType=TC01&billAmount=4.34&rowNum=12\n",
      "<selenium.webdriver.remote.webelement.WebElement (session=\"4b83735ca2ee3d8875659f4798baad56\", element=\"08af9834-2aaf-4283-9412-be42c5de69b6\")>\n",
      "Exception occurred: list index out of range\n",
      "<selenium.webdriver.remote.webelement.WebElement (session=\"4b83735ca2ee3d8875659f4798baad56\", element=\"f6a9dc80-abe2-4e78-ab01-614745d75039\")>\n",
      "http://portal.yw56.com.cn/bill/index?type=3&mainNo=TC01_2019-09-36_2019-09-36_04_401614_CNY&startDate=2019-09-02&endDate=2019-09-08&changeStatus=0&transType=TC01&billAmount=3008.41&rowNum=14\n",
      "<selenium.webdriver.remote.webelement.WebElement (session=\"4b83735ca2ee3d8875659f4798baad56\", element=\"aee3f76c-bf7d-443b-8807-19695840ac03\")>\n",
      "http://portal.yw56.com.cn/bill/index?type=3&mainNo=TC02_2019-09-36_2019-08-32_04_401614_CNY_0&startDate=2019-09-02&endDate=2019-09-08&changeStatus=1&transType=TC02&billAmount=-35.14&rowNum=15\n",
      "<selenium.webdriver.remote.webelement.WebElement (session=\"4b83735ca2ee3d8875659f4798baad56\", element=\"580c1ee9-7626-4b7c-9d81-59911bf59444\")>\n",
      "Exception occurred: list index out of range\n",
      "<selenium.webdriver.remote.webelement.WebElement (session=\"4b83735ca2ee3d8875659f4798baad56\", element=\"1d9c633c-5af8-44aa-a5a5-18b6213680bb\")>\n",
      "http://portal.yw56.com.cn/bill/index?type=3&mainNo=TC01_2019-08-35_2019-08-35_04_401614_CNY&startDate=2019-08-26&endDate=2019-08-31&changeStatus=0&transType=TC01&billAmount=3440.24&rowNum=17\n",
      "<selenium.webdriver.remote.webelement.WebElement (session=\"4b83735ca2ee3d8875659f4798baad56\", element=\"061eec08-8dad-4195-bcca-93b80bece505\")>\n",
      "Exception occurred: list index out of range\n",
      "<selenium.webdriver.remote.webelement.WebElement (session=\"4b83735ca2ee3d8875659f4798baad56\", element=\"83333abc-1434-4684-bac1-cfaeaa8ca0b1\")>\n",
      "http://portal.yw56.com.cn/bill/index?type=3&mainNo=TC02_2019-08-34_2019-07-31_04_401614_CNY_0&startDate=2019-08-19&endDate=2019-08-25&changeStatus=1&transType=TC02&billAmount=-34.13&rowNum=19\n",
      "<selenium.webdriver.remote.webelement.WebElement (session=\"4b83735ca2ee3d8875659f4798baad56\", element=\"46dc8c1a-7676-4a54-8af2-9bf7e4354a55\")>\n",
      "http://portal.yw56.com.cn/bill/index?type=3&mainNo=TC01_2019-08-34_2019-08-34_04_401614_CNY&startDate=2019-08-19&endDate=2019-08-25&changeStatus=0&transType=TC01&billAmount=2421.91&rowNum=20\n",
      "<selenium.webdriver.remote.webelement.WebElement (session=\"4b83735ca2ee3d8875659f4798baad56\", element=\"e6c5fc71-f6ce-4d78-a2e6-29620b9516a7\")>\n",
      "Exception occurred: list index out of range\n",
      "<selenium.webdriver.remote.webelement.WebElement (session=\"4b83735ca2ee3d8875659f4798baad56\", element=\"f6af8e8e-a066-4598-8392-0d02fe62b7c5\")>\n",
      "http://portal.yw56.com.cn/bill/index?type=3&mainNo=TC01_2019-08-33_2019-08-33_04_401614_CNY&startDate=2019-08-12&endDate=2019-08-18&changeStatus=0&transType=TC01&billAmount=2004.69&rowNum=22\n",
      "<selenium.webdriver.remote.webelement.WebElement (session=\"4b83735ca2ee3d8875659f4798baad56\", element=\"a1f36826-7c27-4ed0-b184-d2afcf386047\")>\n",
      "Exception occurred: list index out of range\n",
      "<selenium.webdriver.remote.webelement.WebElement (session=\"4b83735ca2ee3d8875659f4798baad56\", element=\"5e025094-c19c-4796-b9a2-6734c6b0bcb6\")>\n",
      "http://portal.yw56.com.cn/bill/index?type=3&mainNo=TC01_2019-08-32_2019-08-32_04_401614_CNY&startDate=2019-08-05&endDate=2019-08-11&changeStatus=0&transType=TC01&billAmount=2848.50&rowNum=24\n",
      "<selenium.webdriver.remote.webelement.WebElement (session=\"4b83735ca2ee3d8875659f4798baad56\", element=\"d4b0696b-18e1-430a-9ce2-a2ea8e234bbc\")>\n",
      "Exception occurred: list index out of range\n",
      "<selenium.webdriver.remote.webelement.WebElement (session=\"4b83735ca2ee3d8875659f4798baad56\", element=\"f030e931-c408-4c6a-92e5-2ef4801c5260\")>\n",
      "Exception occurred: list index out of range\n",
      "<selenium.webdriver.remote.webelement.WebElement (session=\"4b83735ca2ee3d8875659f4798baad56\", element=\"7ccee3c9-79ac-4890-b3dc-8a4994b30a64\")>\n",
      "http://portal.yw56.com.cn/bill/index?type=3&mainNo=TC01_2019-08-31_2019-08-31_04_401614_CNY&startDate=2019-08-01&endDate=2019-08-04&changeStatus=0&transType=TC01&billAmount=781.57&rowNum=27\n",
      "<selenium.webdriver.remote.webelement.WebElement (session=\"4b83735ca2ee3d8875659f4798baad56\", element=\"c1409b20-6143-4b71-b880-6ce838097c0f\")>\n",
      "http://portal.yw56.com.cn/bill/index?type=3&mainNo=TC01_2019-07-31_2019-07-31_04_401614_CNY&startDate=2019-07-29&endDate=2019-07-31&changeStatus=0&transType=TC01&billAmount=1584.95&rowNum=28\n",
      "<selenium.webdriver.remote.webelement.WebElement (session=\"4b83735ca2ee3d8875659f4798baad56\", element=\"4f21f68e-bf43-400b-b1d2-39c28bd59657\")>\n",
      "Exception occurred: list index out of range\n",
      "<selenium.webdriver.remote.webelement.WebElement (session=\"4b83735ca2ee3d8875659f4798baad56\", element=\"14d1e0f3-4c45-41a3-b90d-aa9917d40176\")>\n",
      "http://portal.yw56.com.cn/bill/index?type=3&mainNo=TC01_2019-07-30_2019-07-30_04_401614_CNY&startDate=2019-07-22&endDate=2019-07-28&changeStatus=0&transType=TC01&billAmount=2286.69&rowNum=30\n"
     ]
    },
    {
     "name": "stdout",
     "output_type": "stream",
     "text": [
      "<selenium.webdriver.remote.webelement.WebElement (session=\"4b83735ca2ee3d8875659f4798baad56\", element=\"30736af7-92b2-4b0c-897a-4b3eba6d24be\")>\n",
      "Exception occurred: list index out of range\n",
      "<selenium.webdriver.remote.webelement.WebElement (session=\"4b83735ca2ee3d8875659f4798baad56\", element=\"31349c62-7224-4eb0-973c-439bf4af547e\")>\n",
      "http://portal.yw56.com.cn/bill/index?type=3&mainNo=TC01_2019-07-29_2019-07-29_04_401614_CNY&startDate=2019-07-15&endDate=2019-07-21&changeStatus=0&transType=TC01&billAmount=2947.78&rowNum=32\n",
      "<selenium.webdriver.remote.webelement.WebElement (session=\"4b83735ca2ee3d8875659f4798baad56\", element=\"5dc4a06b-020d-4055-820b-4993d400d3e7\")>\n",
      "Exception occurred: list index out of range\n",
      "<selenium.webdriver.remote.webelement.WebElement (session=\"4b83735ca2ee3d8875659f4798baad56\", element=\"4a4619ce-71c3-4b57-bc66-acd1d4ab2bd3\")>\n",
      "Exception occurred: list index out of range\n",
      "<selenium.webdriver.remote.webelement.WebElement (session=\"4b83735ca2ee3d8875659f4798baad56\", element=\"304efd24-29c4-42f4-a110-4f6b8fdda63e\")>\n",
      "Exception occurred: list index out of range\n",
      "<selenium.webdriver.remote.webelement.WebElement (session=\"4b83735ca2ee3d8875659f4798baad56\", element=\"10608e8f-c3c7-4bc3-8c6b-1892523bf2b1\")>\n",
      "Exception occurred: list index out of range\n",
      "<selenium.webdriver.remote.webelement.WebElement (session=\"4b83735ca2ee3d8875659f4798baad56\", element=\"4693292f-d60b-438f-986e-7549967a8c6a\")>\n",
      "Exception occurred: list index out of range\n",
      "<selenium.webdriver.remote.webelement.WebElement (session=\"4b83735ca2ee3d8875659f4798baad56\", element=\"37a83187-7629-42dd-84b2-6023d275cae1\")>\n",
      "http://portal.yw56.com.cn/bill/index?type=3&mainNo=TC01_2019-07-28_2019-07-28_04_401614_CNY&startDate=2019-07-08&endDate=2019-07-14&changeStatus=0&transType=TC01&billAmount=3018.52&rowNum=38\n",
      "Exception occurred: list index out of range\n",
      "Exception occurred: list index out of range\n",
      "Exception occurred: list index out of range\n",
      "Exception occurred: list index out of range\n",
      "Exception occurred: list index out of range\n",
      "Exception occurred: list index out of range\n",
      "Exception occurred: list index out of range\n",
      "Exception occurred: list index out of range\n",
      "Exception occurred: list index out of range\n",
      "Exception occurred: list index out of range\n",
      "Exception occurred: list index out of range\n",
      "Exception occurred: list index out of range\n"
     ]
    }
   ],
   "source": [
    "for i in range(row_count):\n",
    "    # 点击我的历史账单\n",
    "    browser.get('http://portal.yw56.com.cn/bill/index?type=1')\n",
    "    # 选择‘账单’\n",
    "    # https://stackoverflow.com/questions/7867537/selenium-python-drop-down-menu-option-value\n",
    "    browser.find_element_by_xpath(\"//select[@name='transType']/option[text()='账单']\").click()\n",
    "    # 日期选择器\n",
    "    today_date = dt.datetime.today()\n",
    "    ninety_days_ago = today_date - timedelta(days=90)\n",
    "    ninety_days_ago_str_format = ninety_days_ago.strftime('%Y-%m-%d')\n",
    "    # ninety_days_ago_str_format\n",
    "    # 设置日期\n",
    "    start_date = find_elements_by_css_selector('form-control', 0)\n",
    "    start_date.clear()\n",
    "    start_date.send_keys(ninety_days_ago_str_format)\n",
    "    # 点击查询\n",
    "    search_bill = find_elements_by_css_selector(\"btn\", 0)\n",
    "    search_bill.click()\n",
    "    time.sleep(10)\n",
    "    # 设置条目数\n",
    "    num_of_rows = find_elements_by_css_selector('btn-group dropup', 0)\n",
    "    num_of_rows.click()\n",
    "    # 点击最大条目数\n",
    "    # https://stackoverflow.com/questions/34583524/python-selenium-click-on-all-li-in-ul\n",
    "    # https://stackoverflow.com/questions/18026766/selenium-select-element-with-multiple-attributes\n",
    "    num_of_max_rows = browser.find_elements_by_xpath(\"//ul[@class = 'dropdown-menu'][@role = 'menu']//li[not(@class)]\")\n",
    "    # num_of_max_rows[-1].text\n",
    "    num_of_max_rows[-1].click()\n",
    "    time.sleep(5)\n",
    "    # 点击每条账单\n",
    "    bill_id = i\n",
    "    try:\n",
    "        bill_location = browser.find_elements_by_xpath(\"//table[@id='table']/tbody/tr[@data-index='\" + str(bill_id) + \"']/td\")[5]\n",
    "        print(bill_location)\n",
    "        bill_html = \"http://portal.yw56.com.cn\" + bill_location.get_attribute('innerHTML').split('\"')[1].replace('amp;','')\n",
    "        print(bill_html)\n",
    "        browser.get(bill_html)\n",
    "        # 点击下载\n",
    "        bill_download = find_elements_by_css_selector(\"btn\", 1)\n",
    "        bill_download.click()\n",
    "        time.sleep(5)\n",
    "    except Exception as err:\n",
    "        print('Exception occurred: ' + str(err))"
   ]
  }
 ],
 "metadata": {
  "anaconda-cloud": {},
  "kernelspec": {
   "display_name": "Python [default]",
   "language": "python",
   "name": "python3"
  },
  "language_info": {
   "codemirror_mode": {
    "name": "ipython",
    "version": 3
   },
   "file_extension": ".py",
   "mimetype": "text/x-python",
   "name": "python",
   "nbconvert_exporter": "python",
   "pygments_lexer": "ipython3",
   "version": "3.5.2"
  }
 },
 "nbformat": 4,
 "nbformat_minor": 1
}
