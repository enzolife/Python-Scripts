{
 "cells": [
  {
   "cell_type": "code",
   "execution_count": 1,
   "metadata": {
    "collapsed": true
   },
   "outputs": [],
   "source": [
    "from selenium import webdriver\n",
    "import pandas as pd\n",
    "import time\n",
    "import os\n",
    "import zipfile\n",
    "import shutil"
   ]
  },
  {
   "cell_type": "code",
   "execution_count": 2,
   "metadata": {
    "collapsed": true
   },
   "outputs": [],
   "source": [
    "# 屏幕最大化，且指定下载目录\n",
    "options = webdriver.ChromeOptions()\n",
    "options.add_argument(\"--start-maximized\")\n",
    "\n",
    "prefs = {\"profile.default_content_settings.popups\": 0,\n",
    "         \"download.default_directory\": r\"D:\\Program Files (x86)\\百度云同步盘\\Dropbox\\-E·J- 2014.5.1\\2016.12.15 店小秘数据分析\\2017.10.24 各渠道运费明细\\燕文\\\\\", # IMPORTANT - ENDING SLASH V IMPORTANT\n",
    "         \"directory_upgrade\": True}\n",
    "options.add_experimental_option(\"prefs\", prefs)"
   ]
  },
  {
   "cell_type": "code",
   "execution_count": 3,
   "metadata": {
    "collapsed": true
   },
   "outputs": [],
   "source": [
    "# 使用chromedriver才可以用开发者权限\n",
    "chrome_driver_path = \".//chrome_driver//chromedriver.exe\"\n",
    "browser = webdriver.Chrome(chrome_driver_path, chrome_options=options)"
   ]
  },
  {
   "cell_type": "code",
   "execution_count": 4,
   "metadata": {
    "collapsed": true
   },
   "outputs": [],
   "source": [
    "browser.get('http://portal.yw56.com.cn/login')"
   ]
  },
  {
   "cell_type": "code",
   "execution_count": 5,
   "metadata": {
    "collapsed": true
   },
   "outputs": [],
   "source": [
    "yw_account = 401614\n",
    "yw_psw = 401614"
   ]
  },
  {
   "cell_type": "code",
   "execution_count": 6,
   "metadata": {
    "collapsed": true
   },
   "outputs": [],
   "source": [
    "def find_elements_by_css_selector(class_name, order_num):\n",
    "    class_name = class_name.replace(\" \", \".\")\n",
    "    class_name = '.' + class_name\n",
    "    return browser.find_elements_by_css_selector(class_name)[order_num]"
   ]
  },
  {
   "cell_type": "code",
   "execution_count": 7,
   "metadata": {
    "collapsed": true
   },
   "outputs": [],
   "source": [
    "yw_account_input = find_elements_by_css_selector('form-control form-control-solid placeholder-no-fix', 0)\n",
    "yw_psw_input = find_elements_by_css_selector('form-control form-control-solid placeholder-no-fix', 1)"
   ]
  },
  {
   "cell_type": "code",
   "execution_count": 8,
   "metadata": {
    "collapsed": true
   },
   "outputs": [],
   "source": [
    "# 输入账户密码登录\n",
    "yw_account_input.click()\n",
    "yw_account_input.send_keys(yw_account)\n",
    "yw_psw_input.click()\n",
    "yw_psw_input.send_keys(yw_psw)\n",
    "time.sleep(10)"
   ]
  },
  {
   "cell_type": "code",
   "execution_count": 9,
   "metadata": {
    "collapsed": true
   },
   "outputs": [],
   "source": [
    "# 登录\n",
    "login_button = find_elements_by_css_selector(\"btn btn-block ladda-button\", 0)\n",
    "login_button.click()\n",
    "time.sleep(10)"
   ]
  },
  {
   "cell_type": "code",
   "execution_count": 12,
   "metadata": {
    "collapsed": true
   },
   "outputs": [],
   "source": [
    "# 点击我的历史账单\n",
    "browser.get('http://portal.yw56.com.cn/bill/index?type=1')"
   ]
  },
  {
   "cell_type": "code",
   "execution_count": 13,
   "metadata": {},
   "outputs": [],
   "source": [
    "# 选择‘账单’\n",
    "# https://stackoverflow.com/questions/7867537/selenium-python-drop-down-menu-option-value\n",
    "browser.find_element_by_xpath(\"//select[@name='transType']/option[text()='账单']\").click()"
   ]
  },
  {
   "cell_type": "code",
   "execution_count": 14,
   "metadata": {
    "collapsed": true
   },
   "outputs": [],
   "source": [
    "# 日期选择器\n",
    "import datetime as dt\n",
    "from datetime import timedelta\n",
    "today_date = dt.datetime.today()\n",
    "ninety_days_ago = today_date - timedelta(days=120)\n",
    "ninety_days_ago_str_format = ninety_days_ago.strftime('%Y-%m-%d')\n",
    "# ninety_days_ago_str_format"
   ]
  },
  {
   "cell_type": "code",
   "execution_count": 15,
   "metadata": {
    "collapsed": true
   },
   "outputs": [],
   "source": [
    "# 设置日期\n",
    "start_date = find_elements_by_css_selector('form-control', 0)\n",
    "start_date.clear()\n",
    "start_date.send_keys(ninety_days_ago_str_format)"
   ]
  },
  {
   "cell_type": "code",
   "execution_count": 16,
   "metadata": {
    "collapsed": true
   },
   "outputs": [],
   "source": [
    "# 点击查询\n",
    "search_bill = find_elements_by_css_selector(\"btn\", 0)\n",
    "search_bill.click()\n",
    "time.sleep(10)"
   ]
  },
  {
   "cell_type": "code",
   "execution_count": 17,
   "metadata": {
    "collapsed": true
   },
   "outputs": [],
   "source": [
    "# 设置条目数\n",
    "num_of_rows = find_elements_by_css_selector('btn-group dropup', 0)\n",
    "num_of_rows.click()\n",
    "\n",
    "# 点击最大条目数\n",
    "# https://stackoverflow.com/questions/34583524/python-selenium-click-on-all-li-in-ul\n",
    "# https://stackoverflow.com/questions/18026766/selenium-select-element-with-multiple-attributes\n",
    "num_of_max_rows = browser.find_elements_by_xpath(\"//ul[@class = 'dropdown-menu'][@role = 'menu']//li[not(@class)]\")\n",
    "# num_of_max_rows[-1].text\n",
    "num_of_max_rows[-1].click()\n",
    "time.sleep(5)"
   ]
  },
  {
   "cell_type": "code",
   "execution_count": 18,
   "metadata": {},
   "outputs": [
    {
     "name": "stdout",
     "output_type": "stream",
     "text": [
      "50\n"
     ]
    }
   ],
   "source": [
    "# 查看有多少条记录\n",
    "# https://stackoverflow.com/questions/14831041/how-to-count-no-of-rows-in-table-from-web-application-using-selenium-python-webd\n",
    "row_count = len(browser.find_elements_by_xpath(\"//table[@id='table']/tbody/tr\"))\n",
    "print(row_count)\n",
    "time.sleep(5)"
   ]
  },
  {
   "cell_type": "code",
   "execution_count": 19,
   "metadata": {},
   "outputs": [
    {
     "data": {
      "text/plain": [
       "'\\nbill_id = 0\\nbill_location = browser.find_elements_by_xpath(\"//table[@id=\\'table\\']/tbody/tr[@data-index=\\'\" + str(bill_id) + \"\\']/td\")[5]\\nbill_html = \"http://portal.yw56.com.cn\" + bill_location.get_attribute(\\'innerHTML\\').split(\\'\"\\')[1].replace(\\'amp;\\',\\'\\')\\nbrowser.get(bill_html)\\n'"
      ]
     },
     "execution_count": 19,
     "metadata": {},
     "output_type": "execute_result"
    }
   ],
   "source": [
    "# 点击每条账单\n",
    "'''\n",
    "bill_id = 0\n",
    "bill_location = browser.find_elements_by_xpath(\"//table[@id='table']/tbody/tr[@data-index='\" + str(bill_id) + \"']/td\")[5]\n",
    "bill_html = \"http://portal.yw56.com.cn\" + bill_location.get_attribute('innerHTML').split('\"')[1].replace('amp;','')\n",
    "browser.get(bill_html)\n",
    "'''"
   ]
  },
  {
   "cell_type": "code",
   "execution_count": null,
   "metadata": {},
   "outputs": [
    {
     "data": {
      "text/plain": [
       "'\\nbill_download = find_elements_by_css_selector(\"btn\", 1)\\nbill_download.click()\\n'"
      ]
     },
     "execution_count": 20,
     "metadata": {},
     "output_type": "execute_result"
    }
   ],
   "source": [
    "# 点击下载\n",
    "'''\n",
    "bill_download = find_elements_by_css_selector(\"btn\", 1)\n",
    "bill_download.click()\n",
    "'''"
   ]
  },
  {
   "cell_type": "code",
   "execution_count": null,
   "metadata": {
    "scrolled": true
   },
   "outputs": [
    {
     "name": "stdout",
     "output_type": "stream",
     "text": [
      "<selenium.webdriver.remote.webelement.WebElement (session=\"2165ada2338336edb878c81c2f56ca5f\", element=\"a53a4e8a-8e07-48eb-a736-8a1354c56310\")>\n",
      "http://portal.yw56.com.cn/bill/index?type=3&mainNo=TC15_2019-11-45_2019-11-45_04_401614_CNY&startDate=2019-11-04&endDate=2019-11-10&changeStatus=0&transType=TC15&billAmount=-8.11&rowNum=1\n",
      "<selenium.webdriver.remote.webelement.WebElement (session=\"2165ada2338336edb878c81c2f56ca5f\", element=\"8942bfe1-c150-4ad0-8e7f-d99faed1e426\")>\n",
      "http://portal.yw56.com.cn/bill/index?type=3&mainNo=TC01_2019-11-45_2019-11-45_04_401614_CNY&startDate=2019-11-04&endDate=2019-11-10&changeStatus=0&transType=TC01&billAmount=2386.11&rowNum=2\n",
      "<selenium.webdriver.remote.webelement.WebElement (session=\"2165ada2338336edb878c81c2f56ca5f\", element=\"7265a1d3-ad11-4cab-9e21-e6b433e337d2\")>\n",
      "http://portal.yw56.com.cn/bill/index?type=3&mainNo=TC15_2019-11-44_2019-11-44_04_401614_CNY&startDate=2019-11-01&endDate=2019-11-03&changeStatus=0&transType=TC15&billAmount=-5.02&rowNum=3\n",
      "<selenium.webdriver.remote.webelement.WebElement (session=\"2165ada2338336edb878c81c2f56ca5f\", element=\"b7d2420a-3047-42f4-8968-8e00950e671c\")>\n",
      "http://portal.yw56.com.cn/bill/index?type=3&mainNo=TC15_2019-10-44_2019-10-44_04_401614_CNY&startDate=2019-10-28&endDate=2019-10-31&changeStatus=0&transType=TC15&billAmount=-6.82&rowNum=4\n",
      "<selenium.webdriver.remote.webelement.WebElement (session=\"2165ada2338336edb878c81c2f56ca5f\", element=\"8fd7d0e6-4cbf-4d2f-86d0-6a6f528725c1\")>\n",
      "http://portal.yw56.com.cn/bill/index?type=3&mainNo=TC01_2019-11-44_2019-11-44_04_401614_CNY&startDate=2019-11-01&endDate=2019-11-03&changeStatus=0&transType=TC01&billAmount=755.46&rowNum=5\n",
      "<selenium.webdriver.remote.webelement.WebElement (session=\"2165ada2338336edb878c81c2f56ca5f\", element=\"561094b0-028e-4efa-ba84-fb26a60833b6\")>\n",
      "http://portal.yw56.com.cn/bill/index?type=3&mainNo=TC01_2019-10-44_2019-10-44_04_401614_CNY&startDate=2019-10-28&endDate=2019-10-31&changeStatus=0&transType=TC01&billAmount=2127.41&rowNum=6\n",
      "<selenium.webdriver.remote.webelement.WebElement (session=\"2165ada2338336edb878c81c2f56ca5f\", element=\"c9d61047-2272-4104-860f-fd8a83c1a8fb\")>\n",
      "http://portal.yw56.com.cn/bill/index?type=3&mainNo=TC01_2019-10-44_2019-10-43_04_401614_CNY_3396&startDate=2019-10-28&endDate=2019-10-31&changeStatus=1&transType=TC01&billAmount=46.70&rowNum=7\n",
      "<selenium.webdriver.remote.webelement.WebElement (session=\"2165ada2338336edb878c81c2f56ca5f\", element=\"ca56cb44-7c7d-407a-a84a-9f8ca43ef159\")>\n",
      "http://portal.yw56.com.cn/bill/index?type=3&mainNo=TC15_2019-10-43_2019-10-43_04_401614_CNY&startDate=2019-10-21&endDate=2019-10-27&changeStatus=0&transType=TC15&billAmount=-15.43&rowNum=8\n",
      "<selenium.webdriver.remote.webelement.WebElement (session=\"2165ada2338336edb878c81c2f56ca5f\", element=\"d152ebbe-3797-4b46-b1a1-f9c63d0b86e9\")>\n",
      "http://portal.yw56.com.cn/bill/index?type=3&mainNo=TC01_2019-10-43_2019-10-43_04_401614_CNY&startDate=2019-10-21&endDate=2019-10-27&changeStatus=0&transType=TC01&billAmount=2417.01&rowNum=9\n",
      "<selenium.webdriver.remote.webelement.WebElement (session=\"2165ada2338336edb878c81c2f56ca5f\", element=\"a71cba8d-e1d7-49af-b6ed-86bb1846902d\")>\n",
      "http://portal.yw56.com.cn/bill/index?type=3&mainNo=TC15_2019-10-42_2019-10-42_04_401614_CNY&startDate=2019-10-14&endDate=2019-10-20&changeStatus=0&transType=TC15&billAmount=-11.60&rowNum=10\n",
      "<selenium.webdriver.remote.webelement.WebElement (session=\"2165ada2338336edb878c81c2f56ca5f\", element=\"ad60457c-1494-45f0-985d-105b19fedf6c\")>\n",
      "http://portal.yw56.com.cn/bill/index?type=3&mainNo=TC01_2019-10-42_2019-10-42_04_401614_CNY&startDate=2019-10-14&endDate=2019-10-20&changeStatus=0&transType=TC01&billAmount=2349.38&rowNum=11\n",
      "<selenium.webdriver.remote.webelement.WebElement (session=\"2165ada2338336edb878c81c2f56ca5f\", element=\"e858c173-679e-4417-b3d9-ab852673c740\")>\n",
      "http://portal.yw56.com.cn/bill/index?type=3&mainNo=TC15_2019-10-41_2019-10-41_04_401614_CNY&startDate=2019-10-07&endDate=2019-10-13&changeStatus=0&transType=TC15&billAmount=-12.69&rowNum=12\n",
      "<selenium.webdriver.remote.webelement.WebElement (session=\"2165ada2338336edb878c81c2f56ca5f\", element=\"ea18db04-50d2-46be-a476-727c53ccd73e\")>\n",
      "http://portal.yw56.com.cn/bill/index?type=3&mainNo=TC01_2019-10-41_2019-10-41_04_401614_CNY&startDate=2019-10-07&endDate=2019-10-13&changeStatus=0&transType=TC01&billAmount=2855.66&rowNum=13\n",
      "<selenium.webdriver.remote.webelement.WebElement (session=\"2165ada2338336edb878c81c2f56ca5f\", element=\"363d8326-7e5a-4cc3-ad06-323ceebc8953\")>\n",
      "http://portal.yw56.com.cn/bill/index?type=3&mainNo=TC15_2019-10-40_2019-10-40_04_401614_CNY&startDate=2019-10-01&endDate=2019-10-06&changeStatus=0&transType=TC15&billAmount=-10.58&rowNum=14\n",
      "<selenium.webdriver.remote.webelement.WebElement (session=\"2165ada2338336edb878c81c2f56ca5f\", element=\"9aa74645-c9a7-4ce8-a26a-93ba12ccd0b3\")>\n",
      "http://portal.yw56.com.cn/bill/index?type=3&mainNo=TC01_2019-10-40_2019-10-40_04_401614_CNY&startDate=2019-10-01&endDate=2019-10-06&changeStatus=0&transType=TC01&billAmount=2183.58&rowNum=15\n",
      "<selenium.webdriver.remote.webelement.WebElement (session=\"2165ada2338336edb878c81c2f56ca5f\", element=\"6a8a6bcb-69fd-49ce-af60-97428ab79d16\")>\n",
      "http://portal.yw56.com.cn/bill/index?type=3&mainNo=TC01_2019-09-40_2019-09-40_04_401614_CNY&startDate=2019-09-30&endDate=2019-09-30&changeStatus=0&transType=TC01&billAmount=1169.69&rowNum=16\n",
      "<selenium.webdriver.remote.webelement.WebElement (session=\"2165ada2338336edb878c81c2f56ca5f\", element=\"6b9ff656-cc1b-4bb5-8bac-fc639c7fe6ed\")>\n",
      "http://portal.yw56.com.cn/bill/index?type=3&mainNo=TC15_2019-09-39_2019-09-39_04_401614_CNY&startDate=2019-09-23&endDate=2019-09-29&changeStatus=0&transType=TC15&billAmount=-12.84&rowNum=17\n",
      "<selenium.webdriver.remote.webelement.WebElement (session=\"2165ada2338336edb878c81c2f56ca5f\", element=\"933fdc27-f3e9-4ff3-bbf0-c13fba18fcea\")>\n",
      "http://portal.yw56.com.cn/bill/index?type=3&mainNo=TC01_2019-09-39_2019-09-39_04_401614_CNY&startDate=2019-09-23&endDate=2019-09-29&changeStatus=0&transType=TC01&billAmount=2240.71&rowNum=18\n",
      "<selenium.webdriver.remote.webelement.WebElement (session=\"2165ada2338336edb878c81c2f56ca5f\", element=\"84d74edf-7596-460d-894d-5114ce6a0aa1\")>\n",
      "http://portal.yw56.com.cn/bill/index?type=3&mainNo=TC01_2019-09-39_2019-09-38_04_401614_CNY_3046&startDate=2019-09-23&endDate=2019-09-29&changeStatus=1&transType=TC01&billAmount=17.26&rowNum=19\n",
      "<selenium.webdriver.remote.webelement.WebElement (session=\"2165ada2338336edb878c81c2f56ca5f\", element=\"1f3e376f-0383-40c7-bdb4-19bf2fb05a73\")>\n",
      "http://portal.yw56.com.cn/bill/index?type=3&mainNo=TC15_2019-09-38_2019-09-38_04_401614_CNY&startDate=2019-09-16&endDate=2019-09-22&changeStatus=0&transType=TC15&billAmount=-12.07&rowNum=20\n",
      "<selenium.webdriver.remote.webelement.WebElement (session=\"2165ada2338336edb878c81c2f56ca5f\", element=\"f811b7e7-d820-4f8b-b926-9d526d83e8a7\")>\n",
      "http://portal.yw56.com.cn/bill/index?type=3&mainNo=TC01_2019-09-38_2019-09-38_04_401614_CNY&startDate=2019-09-16&endDate=2019-09-22&changeStatus=0&transType=TC01&billAmount=3004.02&rowNum=21\n",
      "<selenium.webdriver.remote.webelement.WebElement (session=\"2165ada2338336edb878c81c2f56ca5f\", element=\"e5f23efe-6db5-46de-9ace-84d0089e89c3\")>\n",
      "http://portal.yw56.com.cn/bill/index?type=3&mainNo=TC15_2019-09-37_2019-09-37_04_401614_CNY&startDate=2019-09-09&endDate=2019-09-15&changeStatus=0&transType=TC15&billAmount=-15.28&rowNum=22\n",
      "<selenium.webdriver.remote.webelement.WebElement (session=\"2165ada2338336edb878c81c2f56ca5f\", element=\"712670d3-7f62-44dc-b820-f0fd6aa7d557\")>\n",
      "http://portal.yw56.com.cn/bill/index?type=3&mainNo=TC02_2019-09-37_2019-09-36_04_401614_CNY_0&startDate=2019-09-09&endDate=2019-09-15&changeStatus=1&transType=TC02&billAmount=-212.98&rowNum=23\n"
     ]
    }
   ],
   "source": [
    "for i in range(row_count):\n",
    "    # 点击我的历史账单\n",
    "    browser.get('http://portal.yw56.com.cn/bill/index?type=1')\n",
    "    # 选择‘账单’\n",
    "    # https://stackoverflow.com/questions/7867537/selenium-python-drop-down-menu-option-value\n",
    "    browser.find_element_by_xpath(\"//select[@name='transType']/option[text()='账单']\").click()\n",
    "    # 日期选择器\n",
    "    today_date = dt.datetime.today()\n",
    "    ninety_days_ago = today_date - timedelta(days=90)\n",
    "    ninety_days_ago_str_format = ninety_days_ago.strftime('%Y-%m-%d')\n",
    "    # ninety_days_ago_str_format\n",
    "    # 设置日期\n",
    "    start_date = find_elements_by_css_selector('form-control', 0)\n",
    "    start_date.clear()\n",
    "    start_date.send_keys(ninety_days_ago_str_format)\n",
    "    # 点击查询\n",
    "    search_bill = find_elements_by_css_selector(\"btn\", 0)\n",
    "    search_bill.click()\n",
    "    time.sleep(10)\n",
    "    # 设置条目数\n",
    "    num_of_rows = find_elements_by_css_selector('btn-group dropup', 0)\n",
    "    num_of_rows.click()\n",
    "    # 点击最大条目数\n",
    "    # https://stackoverflow.com/questions/34583524/python-selenium-click-on-all-li-in-ul\n",
    "    # https://stackoverflow.com/questions/18026766/selenium-select-element-with-multiple-attributes\n",
    "    num_of_max_rows = browser.find_elements_by_xpath(\"//ul[@class = 'dropdown-menu'][@role = 'menu']//li[not(@class)]\")\n",
    "    # num_of_max_rows[-1].text\n",
    "    num_of_max_rows[-1].click()\n",
    "    time.sleep(5)\n",
    "    # 点击每条账单\n",
    "    bill_id = i\n",
    "    try:\n",
    "        bill_location = browser.find_elements_by_xpath(\"//table[@id='table']/tbody/tr[@data-index='\" + str(bill_id) + \"']/td\")[5]\n",
    "        print(bill_location)\n",
    "        bill_html = \"http://portal.yw56.com.cn\" + bill_location.get_attribute('innerHTML').split('\"')[1].replace('amp;','')\n",
    "        print(bill_html)\n",
    "        browser.get(bill_html)\n",
    "        # 点击下载\n",
    "        bill_download = find_elements_by_css_selector(\"btn\", 1)\n",
    "        bill_download.click()\n",
    "        time.sleep(5)\n",
    "    except Exception as err:\n",
    "        print('Exception occurred: ' + str(err))"
   ]
  }
 ],
 "metadata": {
  "anaconda-cloud": {},
  "kernelspec": {
   "display_name": "Python [default]",
   "language": "python",
   "name": "python3"
  },
  "language_info": {
   "codemirror_mode": {
    "name": "ipython",
    "version": 3
   },
   "file_extension": ".py",
   "mimetype": "text/x-python",
   "name": "python",
   "nbconvert_exporter": "python",
   "pygments_lexer": "ipython3",
   "version": "3.5.2"
  }
 },
 "nbformat": 4,
 "nbformat_minor": 1
}
