{
 "cells": [
  {
   "cell_type": "code",
   "execution_count": 1,
   "metadata": {
    "collapsed": true
   },
   "outputs": [],
   "source": [
    "from selenium import webdriver\n",
    "import pandas as pd\n",
    "import time\n",
    "import os\n",
    "import zipfile\n",
    "import shutil"
   ]
  },
  {
   "cell_type": "code",
   "execution_count": 2,
   "metadata": {
    "collapsed": true
   },
   "outputs": [],
   "source": [
    "# 屏幕最大化，且指定下载目录\n",
    "options = webdriver.ChromeOptions()\n",
    "options.add_argument(\"--start-maximized\")\n",
    "\n",
    "prefs = {\"profile.default_content_settings.popups\": 0,\n",
    "         \"download.default_directory\": r\"D:\\Program Files (x86)\\百度云同步盘\\Dropbox\\-E·J- 2014.5.1\\2016.12.15 店小秘数据分析\\2017.10.24 各渠道运费明细\\燕文\\\\\", # IMPORTANT - ENDING SLASH V IMPORTANT\n",
    "         \"directory_upgrade\": True}\n",
    "options.add_experimental_option(\"prefs\", prefs)"
   ]
  },
  {
   "cell_type": "code",
   "execution_count": 3,
   "metadata": {
    "collapsed": true
   },
   "outputs": [],
   "source": [
    "# 使用chromedriver才可以用开发者权限\n",
    "chrome_driver_path = \".//chrome_driver//chromedriver.exe\"\n",
    "browser = webdriver.Chrome(chrome_driver_path, chrome_options=options)"
   ]
  },
  {
   "cell_type": "code",
   "execution_count": 4,
   "metadata": {
    "collapsed": true
   },
   "outputs": [],
   "source": [
    "browser.get('http://portal.yw56.com.cn/login')"
   ]
  },
  {
   "cell_type": "code",
   "execution_count": 5,
   "metadata": {
    "collapsed": true
   },
   "outputs": [],
   "source": [
    "yw_account = 401614\n",
    "yw_psw = 401614"
   ]
  },
  {
   "cell_type": "code",
   "execution_count": 6,
   "metadata": {
    "collapsed": true
   },
   "outputs": [],
   "source": [
    "def find_elements_by_css_selector(class_name, order_num):\n",
    "    class_name = class_name.replace(\" \", \".\")\n",
    "    class_name = '.' + class_name\n",
    "    return browser.find_elements_by_css_selector(class_name)[order_num]"
   ]
  },
  {
   "cell_type": "code",
   "execution_count": 7,
   "metadata": {
    "collapsed": true
   },
   "outputs": [],
   "source": [
    "yw_account_input = find_elements_by_css_selector('form-control form-control-solid placeholder-no-fix', 0)\n",
    "yw_psw_input = find_elements_by_css_selector('form-control form-control-solid placeholder-no-fix', 1)"
   ]
  },
  {
   "cell_type": "code",
   "execution_count": 8,
   "metadata": {
    "collapsed": true
   },
   "outputs": [],
   "source": [
    "# 输入账户密码登录\n",
    "yw_account_input.click()\n",
    "yw_account_input.send_keys(yw_account)\n",
    "yw_psw_input.click()\n",
    "yw_psw_input.send_keys(yw_psw)\n",
    "time.sleep(10)"
   ]
  },
  {
   "cell_type": "code",
   "execution_count": 9,
   "metadata": {
    "collapsed": true
   },
   "outputs": [],
   "source": [
    "# 登录\n",
    "login_button = find_elements_by_css_selector(\"btn btn-block ladda-button\", 0)\n",
    "login_button.click()\n",
    "time.sleep(10)"
   ]
  },
  {
   "cell_type": "code",
   "execution_count": 10,
   "metadata": {
    "collapsed": true
   },
   "outputs": [],
   "source": [
    "# 点击我的历史账单\n",
    "browser.get('http://portal.yw56.com.cn/bill/index?type=1')"
   ]
  },
  {
   "cell_type": "code",
   "execution_count": 11,
   "metadata": {
    "collapsed": true
   },
   "outputs": [],
   "source": [
    "# 选择‘账单’\n",
    "# https://stackoverflow.com/questions/7867537/selenium-python-drop-down-menu-option-value\n",
    "browser.find_element_by_xpath(\"//select[@name='transType']/option[text()='账单']\").click()"
   ]
  },
  {
   "cell_type": "code",
   "execution_count": 12,
   "metadata": {
    "collapsed": true
   },
   "outputs": [],
   "source": [
    "# 日期选择器\n",
    "import datetime as dt\n",
    "from datetime import timedelta\n",
    "today_date = dt.datetime.today()\n",
    "ninety_days_ago = today_date - timedelta(days=120)\n",
    "ninety_days_ago_str_format = ninety_days_ago.strftime('%Y-%m-%d')\n",
    "# ninety_days_ago_str_format"
   ]
  },
  {
   "cell_type": "code",
   "execution_count": 13,
   "metadata": {
    "collapsed": true
   },
   "outputs": [],
   "source": [
    "# 设置日期\n",
    "start_date = find_elements_by_css_selector('form-control', 0)\n",
    "start_date.clear()\n",
    "start_date.send_keys(ninety_days_ago_str_format)"
   ]
  },
  {
   "cell_type": "code",
   "execution_count": 14,
   "metadata": {
    "collapsed": true
   },
   "outputs": [],
   "source": [
    "# 点击查询\n",
    "search_bill = find_elements_by_css_selector(\"btn\", 0)\n",
    "search_bill.click()\n",
    "time.sleep(10)"
   ]
  },
  {
   "cell_type": "code",
   "execution_count": 15,
   "metadata": {
    "collapsed": true
   },
   "outputs": [],
   "source": [
    "# 设置条目数\n",
    "num_of_rows = find_elements_by_css_selector('btn-group dropup', 0)\n",
    "num_of_rows.click()\n",
    "\n",
    "# 点击最大条目数\n",
    "# https://stackoverflow.com/questions/34583524/python-selenium-click-on-all-li-in-ul\n",
    "# https://stackoverflow.com/questions/18026766/selenium-select-element-with-multiple-attributes\n",
    "num_of_max_rows = browser.find_elements_by_xpath(\"//ul[@class = 'dropdown-menu'][@role = 'menu']//li[not(@class)]\")\n",
    "# num_of_max_rows[-1].text\n",
    "num_of_max_rows[-1].click()\n",
    "time.sleep(5)"
   ]
  },
  {
   "cell_type": "code",
   "execution_count": 16,
   "metadata": {},
   "outputs": [
    {
     "name": "stdout",
     "output_type": "stream",
     "text": [
      "50\n"
     ]
    }
   ],
   "source": [
    "# 查看有多少条记录\n",
    "# https://stackoverflow.com/questions/14831041/how-to-count-no-of-rows-in-table-from-web-application-using-selenium-python-webd\n",
    "row_count = len(browser.find_elements_by_xpath(\"//table[@id='table']/tbody/tr\"))\n",
    "print(row_count)\n",
    "time.sleep(5)"
   ]
  },
  {
   "cell_type": "code",
   "execution_count": 17,
   "metadata": {},
   "outputs": [
    {
     "data": {
      "text/plain": [
       "'\\nbill_id = 0\\nbill_location = browser.find_elements_by_xpath(\"//table[@id=\\'table\\']/tbody/tr[@data-index=\\'\" + str(bill_id) + \"\\']/td\")[5]\\nbill_html = \"http://portal.yw56.com.cn\" + bill_location.get_attribute(\\'innerHTML\\').split(\\'\"\\')[1].replace(\\'amp;\\',\\'\\')\\nbrowser.get(bill_html)\\n'"
      ]
     },
     "execution_count": 17,
     "metadata": {},
     "output_type": "execute_result"
    }
   ],
   "source": [
    "# 点击每条账单\n",
    "'''\n",
    "bill_id = 0\n",
    "bill_location = browser.find_elements_by_xpath(\"//table[@id='table']/tbody/tr[@data-index='\" + str(bill_id) + \"']/td\")[5]\n",
    "bill_html = \"http://portal.yw56.com.cn\" + bill_location.get_attribute('innerHTML').split('\"')[1].replace('amp;','')\n",
    "browser.get(bill_html)\n",
    "'''"
   ]
  },
  {
   "cell_type": "code",
   "execution_count": 18,
   "metadata": {},
   "outputs": [
    {
     "data": {
      "text/plain": [
       "'\\nbill_download = find_elements_by_css_selector(\"btn\", 1)\\nbill_download.click()\\n'"
      ]
     },
     "execution_count": 18,
     "metadata": {},
     "output_type": "execute_result"
    }
   ],
   "source": [
    "# 点击下载\n",
    "'''\n",
    "bill_download = find_elements_by_css_selector(\"btn\", 1)\n",
    "bill_download.click()\n",
    "'''"
   ]
  },
  {
   "cell_type": "code",
   "execution_count": 19,
   "metadata": {
    "scrolled": true
   },
   "outputs": [
    {
     "name": "stdout",
     "output_type": "stream",
     "text": [
      "<selenium.webdriver.remote.webelement.WebElement (session=\"832164b50f2510d9a2837425802f3b76\", element=\"a9fd6fb7-fd6c-4f19-9e17-972b8ec5b737\")>\n",
      "Exception occurred: list index out of range\n",
      "<selenium.webdriver.remote.webelement.WebElement (session=\"832164b50f2510d9a2837425802f3b76\", element=\"39b76d4e-3579-43c5-a411-015e7a0a20e4\")>\n",
      "http://portal.yw56.com.cn/bill/index?type=3&mainNo=TC01_2019-08-32_2019-08-32_04_401614_CNY&startDate=2019-08-05&endDate=2019-08-11&changeStatus=0&transType=TC01&billAmount=2848.50&rowNum=2\n",
      "<selenium.webdriver.remote.webelement.WebElement (session=\"832164b50f2510d9a2837425802f3b76\", element=\"1529f9bb-d310-4000-bfe2-80297babc9d6\")>\n",
      "Exception occurred: list index out of range\n",
      "<selenium.webdriver.remote.webelement.WebElement (session=\"832164b50f2510d9a2837425802f3b76\", element=\"503555f9-fb64-4c71-883d-b9f86eb30e7a\")>\n",
      "Exception occurred: list index out of range\n",
      "<selenium.webdriver.remote.webelement.WebElement (session=\"832164b50f2510d9a2837425802f3b76\", element=\"7d4931a4-3385-4d27-918a-f974c7a12875\")>\n",
      "http://portal.yw56.com.cn/bill/index?type=3&mainNo=TC01_2019-08-31_2019-08-31_04_401614_CNY&startDate=2019-08-01&endDate=2019-08-04&changeStatus=0&transType=TC01&billAmount=781.57&rowNum=5\n",
      "<selenium.webdriver.remote.webelement.WebElement (session=\"832164b50f2510d9a2837425802f3b76\", element=\"9c8e931d-d22b-4b7f-b03f-c4d3968dc8c2\")>\n",
      "http://portal.yw56.com.cn/bill/index?type=3&mainNo=TC01_2019-07-31_2019-07-31_04_401614_CNY&startDate=2019-07-29&endDate=2019-07-31&changeStatus=0&transType=TC01&billAmount=1584.95&rowNum=6\n",
      "<selenium.webdriver.remote.webelement.WebElement (session=\"832164b50f2510d9a2837425802f3b76\", element=\"eb4dd8eb-0b2a-425d-8407-472f639a60d7\")>\n",
      "Exception occurred: list index out of range\n",
      "<selenium.webdriver.remote.webelement.WebElement (session=\"832164b50f2510d9a2837425802f3b76\", element=\"774d7361-9198-4082-908c-221396c2fabb\")>\n",
      "http://portal.yw56.com.cn/bill/index?type=3&mainNo=TC01_2019-07-30_2019-07-30_04_401614_CNY&startDate=2019-07-22&endDate=2019-07-28&changeStatus=0&transType=TC01&billAmount=2286.69&rowNum=8\n",
      "<selenium.webdriver.remote.webelement.WebElement (session=\"832164b50f2510d9a2837425802f3b76\", element=\"f5c29ff9-fdf3-4070-8f94-e82ad1a80026\")>\n",
      "Exception occurred: list index out of range\n",
      "<selenium.webdriver.remote.webelement.WebElement (session=\"832164b50f2510d9a2837425802f3b76\", element=\"13dd031c-d29d-4fa9-996f-c469349fc9ed\")>\n",
      "http://portal.yw56.com.cn/bill/index?type=3&mainNo=TC01_2019-07-29_2019-07-29_04_401614_CNY&startDate=2019-07-15&endDate=2019-07-21&changeStatus=0&transType=TC01&billAmount=2947.78&rowNum=10\n",
      "<selenium.webdriver.remote.webelement.WebElement (session=\"832164b50f2510d9a2837425802f3b76\", element=\"1b427d91-14eb-4e58-b9be-fe20d61a9b9f\")>\n",
      "Exception occurred: list index out of range\n",
      "<selenium.webdriver.remote.webelement.WebElement (session=\"832164b50f2510d9a2837425802f3b76\", element=\"ac2a3c7f-21e1-4c5e-9464-1d404ad3f17b\")>\n",
      "Exception occurred: list index out of range\n",
      "<selenium.webdriver.remote.webelement.WebElement (session=\"832164b50f2510d9a2837425802f3b76\", element=\"24e88b22-00a3-413b-952f-f8a89fe3318b\")>\n",
      "Exception occurred: list index out of range\n",
      "<selenium.webdriver.remote.webelement.WebElement (session=\"832164b50f2510d9a2837425802f3b76\", element=\"6dfda976-8344-40e4-801e-d7c9a1203939\")>\n",
      "Exception occurred: list index out of range\n",
      "<selenium.webdriver.remote.webelement.WebElement (session=\"832164b50f2510d9a2837425802f3b76\", element=\"0e7aefd8-92cf-46ca-bd76-0812b2fe5526\")>\n",
      "Exception occurred: list index out of range\n",
      "<selenium.webdriver.remote.webelement.WebElement (session=\"832164b50f2510d9a2837425802f3b76\", element=\"73701bba-2a27-4e36-968c-3119af3bdb82\")>\n",
      "Exception occurred: list index out of range\n",
      "<selenium.webdriver.remote.webelement.WebElement (session=\"832164b50f2510d9a2837425802f3b76\", element=\"cbb6b492-f8dd-4cbe-bb8b-409da5a38115\")>\n",
      "http://portal.yw56.com.cn/bill/index?type=3&mainNo=TC02_2019-07-28_2019-07-27_04_401614_CNY_0&startDate=2019-07-08&endDate=2019-07-14&changeStatus=1&transType=TC02&billAmount=-80.38&rowNum=17\n",
      "<selenium.webdriver.remote.webelement.WebElement (session=\"832164b50f2510d9a2837425802f3b76\", element=\"c9e3231c-52e3-47d0-9dfc-0d7f3f428a60\")>\n",
      "http://portal.yw56.com.cn/bill/index?type=3&mainNo=TC01_2019-07-28_2019-07-28_04_401614_CNY&startDate=2019-07-08&endDate=2019-07-14&changeStatus=0&transType=TC01&billAmount=3018.52&rowNum=18\n",
      "<selenium.webdriver.remote.webelement.WebElement (session=\"832164b50f2510d9a2837425802f3b76\", element=\"f34e87b0-fa09-49b6-9946-578debb86fb2\")>\n",
      "http://portal.yw56.com.cn/bill/index?type=3&mainNo=TC02_2019-07-27_2019-06-25_04_401614_CNY_0&startDate=2019-07-01&endDate=2019-07-07&changeStatus=1&transType=TC02&billAmount=-128.73&rowNum=19\n",
      "<selenium.webdriver.remote.webelement.WebElement (session=\"832164b50f2510d9a2837425802f3b76\", element=\"e7ddd7a1-8763-47e8-bc74-527ff98fa71b\")>\n",
      "http://portal.yw56.com.cn/bill/index?type=3&mainNo=TC01_2019-07-27_2019-07-27_04_401614_CNY&startDate=2019-07-01&endDate=2019-07-07&changeStatus=0&transType=TC01&billAmount=3156.66&rowNum=20\n",
      "<selenium.webdriver.remote.webelement.WebElement (session=\"832164b50f2510d9a2837425802f3b76\", element=\"0686f6d7-269c-4788-96e4-ee07162cb558\")>\n",
      "http://portal.yw56.com.cn/bill/index?type=3&mainNo=TC02_2019-06-26_2019-06-25_04_401614_CNY_0&startDate=2019-06-24&endDate=2019-06-30&changeStatus=1&transType=TC02&billAmount=-92.33&rowNum=21\n",
      "<selenium.webdriver.remote.webelement.WebElement (session=\"832164b50f2510d9a2837425802f3b76\", element=\"a05d5671-f593-4a5a-a88d-57ff19aa5b75\")>\n",
      "http://portal.yw56.com.cn/bill/index?type=3&mainNo=TC02_2019-06-26_2019-06-23_04_401614_CNY_0&startDate=2019-06-24&endDate=2019-06-30&changeStatus=1&transType=TC02&billAmount=-34.13&rowNum=22\n",
      "<selenium.webdriver.remote.webelement.WebElement (session=\"832164b50f2510d9a2837425802f3b76\", element=\"b6689c80-b1b8-4c9a-a324-15de82761e1c\")>\n",
      "http://portal.yw56.com.cn/bill/index?type=3&mainNo=TC02_2019-06-26_2019-06-22_04_401614_CNY_0&startDate=2019-06-24&endDate=2019-06-30&changeStatus=1&transType=TC02&billAmount=-77.60&rowNum=23\n",
      "<selenium.webdriver.remote.webelement.WebElement (session=\"832164b50f2510d9a2837425802f3b76\", element=\"8b513006-ce87-409e-8704-96b01f8dd227\")>\n",
      "http://portal.yw56.com.cn/bill/index?type=3&mainNo=TC01_2019-06-26_2019-06-26_04_401614_CNY&startDate=2019-06-24&endDate=2019-06-30&changeStatus=0&transType=TC01&billAmount=4444.97&rowNum=24\n",
      "<selenium.webdriver.remote.webelement.WebElement (session=\"832164b50f2510d9a2837425802f3b76\", element=\"b813803e-5233-41c3-aa90-57d5e601a3fe\")>\n",
      "http://portal.yw56.com.cn/bill/index?type=3&mainNo=TC02_2019-06-25_2019-06-23_04_401614_CNY_0&startDate=2019-06-17&endDate=2019-06-23&changeStatus=1&transType=TC02&billAmount=-115.14&rowNum=25\n",
      "<selenium.webdriver.remote.webelement.WebElement (session=\"832164b50f2510d9a2837425802f3b76\", element=\"977123b6-ef63-4f57-ab80-ae3e6dbf0604\")>\n",
      "http://portal.yw56.com.cn/bill/index?type=3&mainNo=TC02_2019-06-25_2019-05-21_04_401614_CNY_0&startDate=2019-06-17&endDate=2019-06-23&changeStatus=1&transType=TC02&billAmount=-49.26&rowNum=26\n",
      "<selenium.webdriver.remote.webelement.WebElement (session=\"832164b50f2510d9a2837425802f3b76\", element=\"383a9bfa-96d2-43ba-8a98-c13939614218\")>\n",
      "http://portal.yw56.com.cn/bill/index?type=3&mainNo=TC01_2019-06-25_2019-06-25_04_401614_CNY&startDate=2019-06-17&endDate=2019-06-23&changeStatus=0&transType=TC01&billAmount=4380.81&rowNum=27\n",
      "<selenium.webdriver.remote.webelement.WebElement (session=\"832164b50f2510d9a2837425802f3b76\", element=\"06de4309-94eb-4f28-986b-49b8376df018\")>\n",
      "Exception occurred: list index out of range\n",
      "<selenium.webdriver.remote.webelement.WebElement (session=\"832164b50f2510d9a2837425802f3b76\", element=\"e28708d2-e352-4e8d-866d-82fa1c6acbe1\")>\n",
      "Exception occurred: list index out of range\n",
      "<selenium.webdriver.remote.webelement.WebElement (session=\"832164b50f2510d9a2837425802f3b76\", element=\"e25f1eec-933a-4852-98b9-881311be77fd\")>\n",
      "Exception occurred: list index out of range\n",
      "<selenium.webdriver.remote.webelement.WebElement (session=\"832164b50f2510d9a2837425802f3b76\", element=\"eb858781-c93d-452a-87c0-ac466bda5476\")>\n",
      "Exception occurred: list index out of range\n",
      "<selenium.webdriver.remote.webelement.WebElement (session=\"832164b50f2510d9a2837425802f3b76\", element=\"e9c73978-2599-48ac-a446-e29331a00104\")>\n",
      "http://portal.yw56.com.cn/bill/index?type=3&mainNo=TC02_2019-06-24_2019-06-22_04_401614_CNY_0&startDate=2019-06-10&endDate=2019-06-16&changeStatus=1&transType=TC02&billAmount=-34.02&rowNum=32\n"
     ]
    },
    {
     "name": "stdout",
     "output_type": "stream",
     "text": [
      "<selenium.webdriver.remote.webelement.WebElement (session=\"832164b50f2510d9a2837425802f3b76\", element=\"cdaa290f-1a6c-46f5-920f-adff4f4c5dd2\")>\n",
      "http://portal.yw56.com.cn/bill/index?type=3&mainNo=TC02_2019-06-24_2019-05-22_04_401614_CNY_0&startDate=2019-06-10&endDate=2019-06-16&changeStatus=1&transType=TC02&billAmount=-194.72&rowNum=33\n",
      "<selenium.webdriver.remote.webelement.WebElement (session=\"832164b50f2510d9a2837425802f3b76\", element=\"7338c012-0b6d-48b9-a5d7-3b7e16ccc2d1\")>\n",
      "http://portal.yw56.com.cn/bill/index?type=3&mainNo=TC02_2019-06-24_2019-05-21_04_401614_CNY_0&startDate=2019-06-10&endDate=2019-06-16&changeStatus=1&transType=TC02&billAmount=-199.66&rowNum=34\n",
      "<selenium.webdriver.remote.webelement.WebElement (session=\"832164b50f2510d9a2837425802f3b76\", element=\"90b143ba-f16a-4248-8755-0c10bbc776b9\")>\n",
      "http://portal.yw56.com.cn/bill/index?type=3&mainNo=TC02_2019-06-24_2019-05-20_04_401614_CNY_0&startDate=2019-06-10&endDate=2019-06-16&changeStatus=1&transType=TC02&billAmount=-80.03&rowNum=35\n",
      "<selenium.webdriver.remote.webelement.WebElement (session=\"832164b50f2510d9a2837425802f3b76\", element=\"5dfdb020-21f9-4a92-822f-f29f37dfe68c\")>\n",
      "http://portal.yw56.com.cn/bill/index?type=3&mainNo=TC01_2019-06-24_2019-06-24_04_401614_CNY&startDate=2019-06-10&endDate=2019-06-16&changeStatus=0&transType=TC01&billAmount=3375.49&rowNum=36\n",
      "<selenium.webdriver.remote.webelement.WebElement (session=\"832164b50f2510d9a2837425802f3b76\", element=\"8a03ffad-66d6-4b4e-955e-5b15d9790a54\")>\n",
      "http://portal.yw56.com.cn/bill/index?type=3&mainNo=TC01_2019-06-23_2019-06-23_04_401614_CNY&startDate=2019-06-03&endDate=2019-06-09&changeStatus=0&transType=TC01&billAmount=4205.51&rowNum=37\n",
      "<selenium.webdriver.remote.webelement.WebElement (session=\"832164b50f2510d9a2837425802f3b76\", element=\"f9012244-b2a2-4c77-824c-e5333d948942\")>\n",
      "http://portal.yw56.com.cn/bill/index?type=3&mainNo=TC01_2019-06-22_2019-06-22_04_401614_CNY&startDate=2019-06-01&endDate=2019-06-02&changeStatus=0&transType=TC01&billAmount=1049.14&rowNum=38\n",
      "<selenium.webdriver.remote.webelement.WebElement (session=\"832164b50f2510d9a2837425802f3b76\", element=\"5b278bc2-8990-4851-8120-a37d04b2fa8a\")>\n",
      "http://portal.yw56.com.cn/bill/index?type=3&mainNo=TC02_2019-05-22_2019-05-22_04_401614_CNY&startDate=2019-05-27&endDate=2019-05-31&changeStatus=0&transType=TC02&billAmount=-179.49&rowNum=39\n",
      "<selenium.webdriver.remote.webelement.WebElement (session=\"832164b50f2510d9a2837425802f3b76\", element=\"a3ae85d1-d5c2-4eca-ac2a-6e8c6c9e7854\")>\n",
      "http://portal.yw56.com.cn/bill/index?type=3&mainNo=TC01_2019-05-22_2019-05-22_04_401614_CNY&startDate=2019-05-27&endDate=2019-05-31&changeStatus=0&transType=TC01&billAmount=3665.52&rowNum=40\n",
      "<selenium.webdriver.remote.webelement.WebElement (session=\"832164b50f2510d9a2837425802f3b76\", element=\"12ded368-9c17-4950-bb9c-d49cf87dc840\")>\n",
      "http://portal.yw56.com.cn/bill/index?type=3&mainNo=TC01_2019-05-21_2019-05-21_04_401614_CNY&startDate=2019-05-20&endDate=2019-05-26&changeStatus=0&transType=TC01&billAmount=3807.05&rowNum=41\n",
      "Exception occurred: list index out of range\n",
      "Exception occurred: list index out of range\n",
      "Exception occurred: list index out of range\n",
      "Exception occurred: list index out of range\n",
      "Exception occurred: list index out of range\n",
      "Exception occurred: list index out of range\n",
      "Exception occurred: list index out of range\n",
      "Exception occurred: list index out of range\n",
      "Exception occurred: list index out of range\n"
     ]
    }
   ],
   "source": [
    "for i in range(row_count):\n",
    "    # 点击我的历史账单\n",
    "    browser.get('http://portal.yw56.com.cn/bill/index?type=1')\n",
    "    # 选择‘账单’\n",
    "    # https://stackoverflow.com/questions/7867537/selenium-python-drop-down-menu-option-value\n",
    "    browser.find_element_by_xpath(\"//select[@name='transType']/option[text()='账单']\").click()\n",
    "    # 日期选择器\n",
    "    today_date = dt.datetime.today()\n",
    "    ninety_days_ago = today_date - timedelta(days=90)\n",
    "    ninety_days_ago_str_format = ninety_days_ago.strftime('%Y-%m-%d')\n",
    "    # ninety_days_ago_str_format\n",
    "    # 设置日期\n",
    "    start_date = find_elements_by_css_selector('form-control', 0)\n",
    "    start_date.clear()\n",
    "    start_date.send_keys(ninety_days_ago_str_format)\n",
    "    # 点击查询\n",
    "    search_bill = find_elements_by_css_selector(\"btn\", 0)\n",
    "    search_bill.click()\n",
    "    time.sleep(10)\n",
    "    # 设置条目数\n",
    "    num_of_rows = find_elements_by_css_selector('btn-group dropup', 0)\n",
    "    num_of_rows.click()\n",
    "    # 点击最大条目数\n",
    "    # https://stackoverflow.com/questions/34583524/python-selenium-click-on-all-li-in-ul\n",
    "    # https://stackoverflow.com/questions/18026766/selenium-select-element-with-multiple-attributes\n",
    "    num_of_max_rows = browser.find_elements_by_xpath(\"//ul[@class = 'dropdown-menu'][@role = 'menu']//li[not(@class)]\")\n",
    "    # num_of_max_rows[-1].text\n",
    "    num_of_max_rows[-1].click()\n",
    "    time.sleep(5)\n",
    "    # 点击每条账单\n",
    "    bill_id = i\n",
    "    try:\n",
    "        bill_location = browser.find_elements_by_xpath(\"//table[@id='table']/tbody/tr[@data-index='\" + str(bill_id) + \"']/td\")[5]\n",
    "        print(bill_location)\n",
    "        bill_html = \"http://portal.yw56.com.cn\" + bill_location.get_attribute('innerHTML').split('\"')[1].replace('amp;','')\n",
    "        print(bill_html)\n",
    "        browser.get(bill_html)\n",
    "        # 点击下载\n",
    "        bill_download = find_elements_by_css_selector(\"btn\", 1)\n",
    "        bill_download.click()\n",
    "        time.sleep(5)\n",
    "    except Exception as err:\n",
    "        print('Exception occurred: ' + str(err))"
   ]
  }
 ],
 "metadata": {
  "anaconda-cloud": {},
  "kernelspec": {
   "display_name": "Python [default]",
   "language": "python",
   "name": "python3"
  },
  "language_info": {
   "codemirror_mode": {
    "name": "ipython",
    "version": 3
   },
   "file_extension": ".py",
   "mimetype": "text/x-python",
   "name": "python",
   "nbconvert_exporter": "python",
   "pygments_lexer": "ipython3",
   "version": "3.5.2"
  }
 },
 "nbformat": 4,
 "nbformat_minor": 1
}
