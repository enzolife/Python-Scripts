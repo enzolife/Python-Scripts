{
 "cells": [
  {
   "cell_type": "code",
   "execution_count": 20,
   "metadata": {
    "collapsed": true
   },
   "outputs": [],
   "source": [
    "from selenium import webdriver\n",
    "import pandas as pd\n",
    "import time\n",
    "import os\n",
    "import zipfile\n",
    "import shutil"
   ]
  },
  {
   "cell_type": "code",
   "execution_count": 21,
   "metadata": {
    "collapsed": true
   },
   "outputs": [],
   "source": [
    "# 屏幕最大化，且指定下载目录\n",
    "options = webdriver.ChromeOptions()\n",
    "options.add_argument(\"--start-maximized\")\n",
    "\n",
    "prefs = {\"profile.default_content_settings.popups\": 0,\n",
    "         \"download.default_directory\": r\"D:\\Program Files (x86)\\百度云同步盘\\Dropbox\\-E·J- 2014.5.1\\2016.12.15 店小秘数据分析\\2017.10.24 各渠道运费明细\\燕文\\\\\", # IMPORTANT - ENDING SLASH V IMPORTANT\n",
    "         \"directory_upgrade\": True}\n",
    "options.add_experimental_option(\"prefs\", prefs)"
   ]
  },
  {
   "cell_type": "code",
   "execution_count": 22,
   "metadata": {
    "collapsed": true
   },
   "outputs": [],
   "source": [
    "# 使用chromedriver才可以用开发者权限\n",
    "chrome_driver_path = \".//chrome_driver//chromedriver.exe\"\n",
    "browser = webdriver.Chrome(chrome_driver_path, chrome_options=options)"
   ]
  },
  {
   "cell_type": "code",
   "execution_count": 23,
   "metadata": {
    "collapsed": true
   },
   "outputs": [],
   "source": [
    "browser.get('http://portal.yw56.com.cn/login')"
   ]
  },
  {
   "cell_type": "code",
   "execution_count": 24,
   "metadata": {
    "collapsed": true
   },
   "outputs": [],
   "source": [
    "yw_account = 401614\n",
    "yw_psw = 401614"
   ]
  },
  {
   "cell_type": "code",
   "execution_count": 25,
   "metadata": {
    "collapsed": true
   },
   "outputs": [],
   "source": [
    "def find_elements_by_css_selector(class_name, order_num):\n",
    "    class_name = class_name.replace(\" \", \".\")\n",
    "    class_name = '.' + class_name\n",
    "    return browser.find_elements_by_css_selector(class_name)[order_num]"
   ]
  },
  {
   "cell_type": "code",
   "execution_count": 26,
   "metadata": {
    "collapsed": true
   },
   "outputs": [],
   "source": [
    "yw_account_input = find_elements_by_css_selector('form-control form-control-solid placeholder-no-fix', 0)\n",
    "yw_psw_input = find_elements_by_css_selector('form-control form-control-solid placeholder-no-fix', 1)"
   ]
  },
  {
   "cell_type": "code",
   "execution_count": 27,
   "metadata": {
    "collapsed": true
   },
   "outputs": [],
   "source": [
    "# 输入账户密码登录\n",
    "yw_account_input.click()\n",
    "yw_account_input.send_keys(yw_account)\n",
    "yw_psw_input.click()\n",
    "yw_psw_input.send_keys(yw_psw)\n",
    "time.sleep(10)"
   ]
  },
  {
   "cell_type": "code",
   "execution_count": 28,
   "metadata": {
    "collapsed": true
   },
   "outputs": [],
   "source": [
    "# 登录\n",
    "login_button = find_elements_by_css_selector(\"btn btn-block ladda-button\", 0)\n",
    "login_button.click()\n",
    "time.sleep(10)"
   ]
  },
  {
   "cell_type": "code",
   "execution_count": 29,
   "metadata": {
    "collapsed": true
   },
   "outputs": [],
   "source": [
    "# 点击我的历史账单\n",
    "browser.get('http://portal.yw56.com.cn/bill/index?type=1')"
   ]
  },
  {
   "cell_type": "code",
   "execution_count": 30,
   "metadata": {
    "collapsed": true
   },
   "outputs": [],
   "source": [
    "# 选择‘账单’\n",
    "# https://stackoverflow.com/questions/7867537/selenium-python-drop-down-menu-option-value\n",
    "browser.find_element_by_xpath(\"//select[@name='transType']/option[text()='账单']\").click()"
   ]
  },
  {
   "cell_type": "code",
   "execution_count": 31,
   "metadata": {
    "collapsed": true
   },
   "outputs": [],
   "source": [
    "# 日期选择器\n",
    "import datetime as dt\n",
    "from datetime import timedelta\n",
    "today_date = dt.datetime.today()\n",
    "ninety_days_ago = today_date - timedelta(days=90)\n",
    "ninety_days_ago_str_format = ninety_days_ago.strftime('%Y-%m-%d')\n",
    "# ninety_days_ago_str_format"
   ]
  },
  {
   "cell_type": "code",
   "execution_count": 32,
   "metadata": {
    "collapsed": true
   },
   "outputs": [],
   "source": [
    "# 设置日期\n",
    "start_date = find_elements_by_css_selector('form-control', 0)\n",
    "start_date.clear()\n",
    "start_date.send_keys(ninety_days_ago_str_format)"
   ]
  },
  {
   "cell_type": "code",
   "execution_count": 33,
   "metadata": {
    "collapsed": true
   },
   "outputs": [],
   "source": [
    "# 点击查询\n",
    "search_bill = find_elements_by_css_selector(\"btn\", 0)\n",
    "search_bill.click()\n",
    "time.sleep(10)"
   ]
  },
  {
   "cell_type": "code",
   "execution_count": 34,
   "metadata": {
    "collapsed": true
   },
   "outputs": [],
   "source": [
    "# 设置条目数\n",
    "num_of_rows = find_elements_by_css_selector('btn-group dropup', 0)\n",
    "num_of_rows.click()\n",
    "\n",
    "# 点击最大条目数\n",
    "# https://stackoverflow.com/questions/34583524/python-selenium-click-on-all-li-in-ul\n",
    "# https://stackoverflow.com/questions/18026766/selenium-select-element-with-multiple-attributes\n",
    "num_of_max_rows = browser.find_elements_by_xpath(\"//ul[@class = 'dropdown-menu'][@role = 'menu']//li[not(@class)]\")\n",
    "# num_of_max_rows[-1].text\n",
    "num_of_max_rows[-1].click()\n",
    "time.sleep(5)"
   ]
  },
  {
   "cell_type": "code",
   "execution_count": 35,
   "metadata": {},
   "outputs": [
    {
     "name": "stdout",
     "output_type": "stream",
     "text": [
      "46\n"
     ]
    }
   ],
   "source": [
    "# 查看有多少条记录\n",
    "# https://stackoverflow.com/questions/14831041/how-to-count-no-of-rows-in-table-from-web-application-using-selenium-python-webd\n",
    "row_count = len(browser.find_elements_by_xpath(\"//table[@id='table']/tbody/tr\"))\n",
    "print(row_count)\n",
    "time.sleep(5)"
   ]
  },
  {
   "cell_type": "code",
   "execution_count": 36,
   "metadata": {},
   "outputs": [
    {
     "data": {
      "text/plain": [
       "'\\nbill_id = 0\\nbill_location = browser.find_elements_by_xpath(\"//table[@id=\\'table\\']/tbody/tr[@data-index=\\'\" + str(bill_id) + \"\\']/td\")[5]\\nbill_html = \"http://portal.yw56.com.cn\" + bill_location.get_attribute(\\'innerHTML\\').split(\\'\"\\')[1].replace(\\'amp;\\',\\'\\')\\nbrowser.get(bill_html)\\n'"
      ]
     },
     "execution_count": 36,
     "metadata": {},
     "output_type": "execute_result"
    }
   ],
   "source": [
    "# 点击每条账单\n",
    "'''\n",
    "bill_id = 0\n",
    "bill_location = browser.find_elements_by_xpath(\"//table[@id='table']/tbody/tr[@data-index='\" + str(bill_id) + \"']/td\")[5]\n",
    "bill_html = \"http://portal.yw56.com.cn\" + bill_location.get_attribute('innerHTML').split('\"')[1].replace('amp;','')\n",
    "browser.get(bill_html)\n",
    "'''"
   ]
  },
  {
   "cell_type": "code",
   "execution_count": 37,
   "metadata": {},
   "outputs": [
    {
     "data": {
      "text/plain": [
       "'\\nbill_download = find_elements_by_css_selector(\"btn\", 1)\\nbill_download.click()\\n'"
      ]
     },
     "execution_count": 37,
     "metadata": {},
     "output_type": "execute_result"
    }
   ],
   "source": [
    "# 点击下载\n",
    "'''\n",
    "bill_download = find_elements_by_css_selector(\"btn\", 1)\n",
    "bill_download.click()\n",
    "'''"
   ]
  },
  {
   "cell_type": "code",
   "execution_count": 38,
   "metadata": {
    "scrolled": true
   },
   "outputs": [
    {
     "name": "stdout",
     "output_type": "stream",
     "text": [
      "<selenium.webdriver.remote.webelement.WebElement (session=\"82ca10ee6749631346af175657f19976\", element=\"0.22570309092154428-15\")>\n",
      "Exception occurred: list index out of range\n",
      "<selenium.webdriver.remote.webelement.WebElement (session=\"82ca10ee6749631346af175657f19976\", element=\"0.7321424176244604-15\")>\n",
      "Exception occurred: list index out of range\n",
      "<selenium.webdriver.remote.webelement.WebElement (session=\"82ca10ee6749631346af175657f19976\", element=\"0.1660559389859657-15\")>\n",
      "http://portal.yw56.com.cn/bill/index?type=3&mainNo=TC01_2019-08-31_2019-08-31_04_401614_CNY&startDate=2019-08-01&endDate=2019-08-04&changeStatus=0&transType=TC01&billAmount=781.57&rowNum=3\n",
      "<selenium.webdriver.remote.webelement.WebElement (session=\"82ca10ee6749631346af175657f19976\", element=\"0.3721115948695519-15\")>\n",
      "http://portal.yw56.com.cn/bill/index?type=3&mainNo=TC01_2019-07-31_2019-07-31_04_401614_CNY&startDate=2019-07-29&endDate=2019-07-31&changeStatus=0&transType=TC01&billAmount=1584.95&rowNum=4\n",
      "<selenium.webdriver.remote.webelement.WebElement (session=\"82ca10ee6749631346af175657f19976\", element=\"0.8081256918562558-15\")>\n",
      "Exception occurred: list index out of range\n",
      "<selenium.webdriver.remote.webelement.WebElement (session=\"82ca10ee6749631346af175657f19976\", element=\"0.1567344632957528-15\")>\n",
      "http://portal.yw56.com.cn/bill/index?type=3&mainNo=TC01_2019-07-30_2019-07-30_04_401614_CNY&startDate=2019-07-22&endDate=2019-07-28&changeStatus=0&transType=TC01&billAmount=2286.69&rowNum=6\n",
      "<selenium.webdriver.remote.webelement.WebElement (session=\"82ca10ee6749631346af175657f19976\", element=\"0.0742502338150881-15\")>\n",
      "Exception occurred: list index out of range\n",
      "<selenium.webdriver.remote.webelement.WebElement (session=\"82ca10ee6749631346af175657f19976\", element=\"0.8204146438172719-15\")>\n",
      "http://portal.yw56.com.cn/bill/index?type=3&mainNo=TC01_2019-07-29_2019-07-29_04_401614_CNY&startDate=2019-07-15&endDate=2019-07-21&changeStatus=0&transType=TC01&billAmount=2947.78&rowNum=8\n",
      "<selenium.webdriver.remote.webelement.WebElement (session=\"82ca10ee6749631346af175657f19976\", element=\"0.8173074716684998-15\")>\n",
      "Exception occurred: list index out of range\n",
      "<selenium.webdriver.remote.webelement.WebElement (session=\"82ca10ee6749631346af175657f19976\", element=\"0.0647275528149236-15\")>\n",
      "Exception occurred: list index out of range\n",
      "<selenium.webdriver.remote.webelement.WebElement (session=\"82ca10ee6749631346af175657f19976\", element=\"0.7946118371448763-15\")>\n",
      "Exception occurred: list index out of range\n",
      "<selenium.webdriver.remote.webelement.WebElement (session=\"82ca10ee6749631346af175657f19976\", element=\"0.7894334174741386-15\")>\n",
      "Exception occurred: list index out of range\n",
      "<selenium.webdriver.remote.webelement.WebElement (session=\"82ca10ee6749631346af175657f19976\", element=\"0.11700773683546295-15\")>\n",
      "Exception occurred: list index out of range\n",
      "<selenium.webdriver.remote.webelement.WebElement (session=\"82ca10ee6749631346af175657f19976\", element=\"0.3289001335489117-15\")>\n",
      "Exception occurred: list index out of range\n",
      "<selenium.webdriver.remote.webelement.WebElement (session=\"82ca10ee6749631346af175657f19976\", element=\"0.5467896109357329-15\")>\n",
      "http://portal.yw56.com.cn/bill/index?type=3&mainNo=TC02_2019-07-28_2019-07-27_04_401614_CNY_0&startDate=2019-07-08&endDate=2019-07-14&changeStatus=1&transType=TC02&billAmount=-80.38&rowNum=15\n",
      "<selenium.webdriver.remote.webelement.WebElement (session=\"82ca10ee6749631346af175657f19976\", element=\"0.15282865736947482-15\")>\n",
      "http://portal.yw56.com.cn/bill/index?type=3&mainNo=TC01_2019-07-28_2019-07-28_04_401614_CNY&startDate=2019-07-08&endDate=2019-07-14&changeStatus=0&transType=TC01&billAmount=3018.52&rowNum=16\n",
      "<selenium.webdriver.remote.webelement.WebElement (session=\"82ca10ee6749631346af175657f19976\", element=\"0.28835343188243967-15\")>\n",
      "http://portal.yw56.com.cn/bill/index?type=3&mainNo=TC02_2019-07-27_2019-06-25_04_401614_CNY_0&startDate=2019-07-01&endDate=2019-07-07&changeStatus=1&transType=TC02&billAmount=-128.73&rowNum=17\n",
      "<selenium.webdriver.remote.webelement.WebElement (session=\"82ca10ee6749631346af175657f19976\", element=\"0.23465778905002033-15\")>\n",
      "http://portal.yw56.com.cn/bill/index?type=3&mainNo=TC01_2019-07-27_2019-07-27_04_401614_CNY&startDate=2019-07-01&endDate=2019-07-07&changeStatus=0&transType=TC01&billAmount=3156.66&rowNum=18\n"
     ]
    },
    {
     "ename": "ElementNotVisibleException",
     "evalue": "Message: element not interactable\n  (Session info: chrome=75.0.3770.100)\n  (Driver info: chromedriver=74.0.3729.6 (255758eccf3d244491b8a1317aa76e1ce10d57e9-refs/branch-heads/3729@{#29}),platform=Windows NT 10.0.17134 x86_64)\n",
     "output_type": "error",
     "traceback": [
      "\u001b[0;31m---------------------------------------------------------------------------\u001b[0m",
      "\u001b[0;31mElementNotVisibleException\u001b[0m                Traceback (most recent call last)",
      "\u001b[0;32m<ipython-input-38-ad5d09bf0468>\u001b[0m in \u001b[0;36m<module>\u001b[0;34m()\u001b[0m\n\u001b[1;32m     20\u001b[0m     \u001b[1;31m# 设置条目数\u001b[0m\u001b[1;33m\u001b[0m\u001b[1;33m\u001b[0m\u001b[0m\n\u001b[1;32m     21\u001b[0m     \u001b[0mnum_of_rows\u001b[0m \u001b[1;33m=\u001b[0m \u001b[0mfind_elements_by_css_selector\u001b[0m\u001b[1;33m(\u001b[0m\u001b[1;34m'btn-group dropup'\u001b[0m\u001b[1;33m,\u001b[0m \u001b[1;36m0\u001b[0m\u001b[1;33m)\u001b[0m\u001b[1;33m\u001b[0m\u001b[0m\n\u001b[0;32m---> 22\u001b[0;31m     \u001b[0mnum_of_rows\u001b[0m\u001b[1;33m.\u001b[0m\u001b[0mclick\u001b[0m\u001b[1;33m(\u001b[0m\u001b[1;33m)\u001b[0m\u001b[1;33m\u001b[0m\u001b[0m\n\u001b[0m\u001b[1;32m     23\u001b[0m     \u001b[1;31m# 点击最大条目数\u001b[0m\u001b[1;33m\u001b[0m\u001b[1;33m\u001b[0m\u001b[0m\n\u001b[1;32m     24\u001b[0m     \u001b[1;31m# https://stackoverflow.com/questions/34583524/python-selenium-click-on-all-li-in-ul\u001b[0m\u001b[1;33m\u001b[0m\u001b[1;33m\u001b[0m\u001b[0m\n",
      "\u001b[0;32mC:\\Users\\kuang\\Anaconda3\\lib\\site-packages\\selenium\\webdriver\\remote\\webelement.py\u001b[0m in \u001b[0;36mclick\u001b[0;34m(self)\u001b[0m\n\u001b[1;32m     78\u001b[0m     \u001b[1;32mdef\u001b[0m \u001b[0mclick\u001b[0m\u001b[1;33m(\u001b[0m\u001b[0mself\u001b[0m\u001b[1;33m)\u001b[0m\u001b[1;33m:\u001b[0m\u001b[1;33m\u001b[0m\u001b[0m\n\u001b[1;32m     79\u001b[0m         \u001b[1;34m\"\"\"Clicks the element.\"\"\"\u001b[0m\u001b[1;33m\u001b[0m\u001b[0m\n\u001b[0;32m---> 80\u001b[0;31m         \u001b[0mself\u001b[0m\u001b[1;33m.\u001b[0m\u001b[0m_execute\u001b[0m\u001b[1;33m(\u001b[0m\u001b[0mCommand\u001b[0m\u001b[1;33m.\u001b[0m\u001b[0mCLICK_ELEMENT\u001b[0m\u001b[1;33m)\u001b[0m\u001b[1;33m\u001b[0m\u001b[0m\n\u001b[0m\u001b[1;32m     81\u001b[0m \u001b[1;33m\u001b[0m\u001b[0m\n\u001b[1;32m     82\u001b[0m     \u001b[1;32mdef\u001b[0m \u001b[0msubmit\u001b[0m\u001b[1;33m(\u001b[0m\u001b[0mself\u001b[0m\u001b[1;33m)\u001b[0m\u001b[1;33m:\u001b[0m\u001b[1;33m\u001b[0m\u001b[0m\n",
      "\u001b[0;32mC:\\Users\\kuang\\Anaconda3\\lib\\site-packages\\selenium\\webdriver\\remote\\webelement.py\u001b[0m in \u001b[0;36m_execute\u001b[0;34m(self, command, params)\u001b[0m\n\u001b[1;32m    499\u001b[0m             \u001b[0mparams\u001b[0m \u001b[1;33m=\u001b[0m \u001b[1;33m{\u001b[0m\u001b[1;33m}\u001b[0m\u001b[1;33m\u001b[0m\u001b[0m\n\u001b[1;32m    500\u001b[0m         \u001b[0mparams\u001b[0m\u001b[1;33m[\u001b[0m\u001b[1;34m'id'\u001b[0m\u001b[1;33m]\u001b[0m \u001b[1;33m=\u001b[0m \u001b[0mself\u001b[0m\u001b[1;33m.\u001b[0m\u001b[0m_id\u001b[0m\u001b[1;33m\u001b[0m\u001b[0m\n\u001b[0;32m--> 501\u001b[0;31m         \u001b[1;32mreturn\u001b[0m \u001b[0mself\u001b[0m\u001b[1;33m.\u001b[0m\u001b[0m_parent\u001b[0m\u001b[1;33m.\u001b[0m\u001b[0mexecute\u001b[0m\u001b[1;33m(\u001b[0m\u001b[0mcommand\u001b[0m\u001b[1;33m,\u001b[0m \u001b[0mparams\u001b[0m\u001b[1;33m)\u001b[0m\u001b[1;33m\u001b[0m\u001b[0m\n\u001b[0m\u001b[1;32m    502\u001b[0m \u001b[1;33m\u001b[0m\u001b[0m\n\u001b[1;32m    503\u001b[0m     \u001b[1;32mdef\u001b[0m \u001b[0mfind_element\u001b[0m\u001b[1;33m(\u001b[0m\u001b[0mself\u001b[0m\u001b[1;33m,\u001b[0m \u001b[0mby\u001b[0m\u001b[1;33m=\u001b[0m\u001b[0mBy\u001b[0m\u001b[1;33m.\u001b[0m\u001b[0mID\u001b[0m\u001b[1;33m,\u001b[0m \u001b[0mvalue\u001b[0m\u001b[1;33m=\u001b[0m\u001b[1;32mNone\u001b[0m\u001b[1;33m)\u001b[0m\u001b[1;33m:\u001b[0m\u001b[1;33m\u001b[0m\u001b[0m\n",
      "\u001b[0;32mC:\\Users\\kuang\\Anaconda3\\lib\\site-packages\\selenium\\webdriver\\remote\\webdriver.py\u001b[0m in \u001b[0;36mexecute\u001b[0;34m(self, driver_command, params)\u001b[0m\n\u001b[1;32m    309\u001b[0m         \u001b[0mresponse\u001b[0m \u001b[1;33m=\u001b[0m \u001b[0mself\u001b[0m\u001b[1;33m.\u001b[0m\u001b[0mcommand_executor\u001b[0m\u001b[1;33m.\u001b[0m\u001b[0mexecute\u001b[0m\u001b[1;33m(\u001b[0m\u001b[0mdriver_command\u001b[0m\u001b[1;33m,\u001b[0m \u001b[0mparams\u001b[0m\u001b[1;33m)\u001b[0m\u001b[1;33m\u001b[0m\u001b[0m\n\u001b[1;32m    310\u001b[0m         \u001b[1;32mif\u001b[0m \u001b[0mresponse\u001b[0m\u001b[1;33m:\u001b[0m\u001b[1;33m\u001b[0m\u001b[0m\n\u001b[0;32m--> 311\u001b[0;31m             \u001b[0mself\u001b[0m\u001b[1;33m.\u001b[0m\u001b[0merror_handler\u001b[0m\u001b[1;33m.\u001b[0m\u001b[0mcheck_response\u001b[0m\u001b[1;33m(\u001b[0m\u001b[0mresponse\u001b[0m\u001b[1;33m)\u001b[0m\u001b[1;33m\u001b[0m\u001b[0m\n\u001b[0m\u001b[1;32m    312\u001b[0m             response['value'] = self._unwrap_value(\n\u001b[1;32m    313\u001b[0m                 response.get('value', None))\n",
      "\u001b[0;32mC:\\Users\\kuang\\Anaconda3\\lib\\site-packages\\selenium\\webdriver\\remote\\errorhandler.py\u001b[0m in \u001b[0;36mcheck_response\u001b[0;34m(self, response)\u001b[0m\n\u001b[1;32m    235\u001b[0m         \u001b[1;32melif\u001b[0m \u001b[0mexception_class\u001b[0m \u001b[1;33m==\u001b[0m \u001b[0mUnexpectedAlertPresentException\u001b[0m \u001b[1;32mand\u001b[0m \u001b[1;34m'alert'\u001b[0m \u001b[1;32min\u001b[0m \u001b[0mvalue\u001b[0m\u001b[1;33m:\u001b[0m\u001b[1;33m\u001b[0m\u001b[0m\n\u001b[1;32m    236\u001b[0m             \u001b[1;32mraise\u001b[0m \u001b[0mexception_class\u001b[0m\u001b[1;33m(\u001b[0m\u001b[0mmessage\u001b[0m\u001b[1;33m,\u001b[0m \u001b[0mscreen\u001b[0m\u001b[1;33m,\u001b[0m \u001b[0mstacktrace\u001b[0m\u001b[1;33m,\u001b[0m \u001b[0mvalue\u001b[0m\u001b[1;33m[\u001b[0m\u001b[1;34m'alert'\u001b[0m\u001b[1;33m]\u001b[0m\u001b[1;33m.\u001b[0m\u001b[0mget\u001b[0m\u001b[1;33m(\u001b[0m\u001b[1;34m'text'\u001b[0m\u001b[1;33m)\u001b[0m\u001b[1;33m)\u001b[0m\u001b[1;33m\u001b[0m\u001b[0m\n\u001b[0;32m--> 237\u001b[0;31m         \u001b[1;32mraise\u001b[0m \u001b[0mexception_class\u001b[0m\u001b[1;33m(\u001b[0m\u001b[0mmessage\u001b[0m\u001b[1;33m,\u001b[0m \u001b[0mscreen\u001b[0m\u001b[1;33m,\u001b[0m \u001b[0mstacktrace\u001b[0m\u001b[1;33m)\u001b[0m\u001b[1;33m\u001b[0m\u001b[0m\n\u001b[0m\u001b[1;32m    238\u001b[0m \u001b[1;33m\u001b[0m\u001b[0m\n\u001b[1;32m    239\u001b[0m     \u001b[1;32mdef\u001b[0m \u001b[0m_value_or_default\u001b[0m\u001b[1;33m(\u001b[0m\u001b[0mself\u001b[0m\u001b[1;33m,\u001b[0m \u001b[0mobj\u001b[0m\u001b[1;33m,\u001b[0m \u001b[0mkey\u001b[0m\u001b[1;33m,\u001b[0m \u001b[0mdefault\u001b[0m\u001b[1;33m)\u001b[0m\u001b[1;33m:\u001b[0m\u001b[1;33m\u001b[0m\u001b[0m\n",
      "\u001b[0;31mElementNotVisibleException\u001b[0m: Message: element not interactable\n  (Session info: chrome=75.0.3770.100)\n  (Driver info: chromedriver=74.0.3729.6 (255758eccf3d244491b8a1317aa76e1ce10d57e9-refs/branch-heads/3729@{#29}),platform=Windows NT 10.0.17134 x86_64)\n"
     ]
    }
   ],
   "source": [
    "for i in range(row_count):\n",
    "    # 点击我的历史账单\n",
    "    browser.get('http://portal.yw56.com.cn/bill/index?type=1')\n",
    "    # 选择‘账单’\n",
    "    # https://stackoverflow.com/questions/7867537/selenium-python-drop-down-menu-option-value\n",
    "    browser.find_element_by_xpath(\"//select[@name='transType']/option[text()='账单']\").click()\n",
    "    # 日期选择器\n",
    "    today_date = dt.datetime.today()\n",
    "    ninety_days_ago = today_date - timedelta(days=90)\n",
    "    ninety_days_ago_str_format = ninety_days_ago.strftime('%Y-%m-%d')\n",
    "    # ninety_days_ago_str_format\n",
    "    # 设置日期\n",
    "    start_date = find_elements_by_css_selector('form-control', 0)\n",
    "    start_date.clear()\n",
    "    start_date.send_keys(ninety_days_ago_str_format)\n",
    "    # 点击查询\n",
    "    search_bill = find_elements_by_css_selector(\"btn\", 0)\n",
    "    search_bill.click()\n",
    "    time.sleep(10)\n",
    "    # 设置条目数\n",
    "    num_of_rows = find_elements_by_css_selector('btn-group dropup', 0)\n",
    "    num_of_rows.click()\n",
    "    # 点击最大条目数\n",
    "    # https://stackoverflow.com/questions/34583524/python-selenium-click-on-all-li-in-ul\n",
    "    # https://stackoverflow.com/questions/18026766/selenium-select-element-with-multiple-attributes\n",
    "    num_of_max_rows = browser.find_elements_by_xpath(\"//ul[@class = 'dropdown-menu'][@role = 'menu']//li[not(@class)]\")\n",
    "    # num_of_max_rows[-1].text\n",
    "    num_of_max_rows[-1].click()\n",
    "    time.sleep(5)\n",
    "    # 点击每条账单\n",
    "    bill_id = i\n",
    "    try:\n",
    "        bill_location = browser.find_elements_by_xpath(\"//table[@id='table']/tbody/tr[@data-index='\" + str(bill_id) + \"']/td\")[5]\n",
    "        print(bill_location)\n",
    "        bill_html = \"http://portal.yw56.com.cn\" + bill_location.get_attribute('innerHTML').split('\"')[1].replace('amp;','')\n",
    "        print(bill_html)\n",
    "        browser.get(bill_html)\n",
    "        # 点击下载\n",
    "        bill_download = find_elements_by_css_selector(\"btn\", 1)\n",
    "        bill_download.click()\n",
    "        time.sleep(5)\n",
    "    except Exception as err:\n",
    "        print('Exception occurred: ' + str(err))"
   ]
  }
 ],
 "metadata": {
  "anaconda-cloud": {},
  "kernelspec": {
   "display_name": "Python [default]",
   "language": "python",
   "name": "python3"
  }
 },
 "nbformat": 4,
 "nbformat_minor": 1
}
