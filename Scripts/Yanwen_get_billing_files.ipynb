{
 "cells": [
  {
   "cell_type": "code",
   "execution_count": 1,
   "metadata": {
    "collapsed": true
   },
   "outputs": [],
   "source": [
    "from selenium import webdriver\n",
    "import pandas as pd\n",
    "import time\n",
    "import os\n",
    "import zipfile\n",
    "import shutil"
   ]
  },
  {
   "cell_type": "code",
   "execution_count": 2,
   "metadata": {
    "collapsed": true
   },
   "outputs": [],
   "source": [
    "# 屏幕最大化，且指定下载目录\n",
    "options = webdriver.ChromeOptions()\n",
    "options.add_argument(\"--start-maximized\")\n",
    "\n",
    "prefs = {\"profile.default_content_settings.popups\": 0,\n",
    "         \"download.default_directory\": r\"D:\\Program Files (x86)\\百度云同步盘\\Dropbox\\-E·J- 2014.5.1\\2016.12.15 店小秘数据分析\\2017.10.24 各渠道运费明细\\燕文\\\\\", # IMPORTANT - ENDING SLASH V IMPORTANT\n",
    "         \"directory_upgrade\": True}\n",
    "options.add_experimental_option(\"prefs\", prefs)"
   ]
  },
  {
   "cell_type": "code",
   "execution_count": 3,
   "metadata": {
    "collapsed": true
   },
   "outputs": [],
   "source": [
    "# 使用chromedriver才可以用开发者权限\n",
    "chrome_driver_path = \".//chrome_driver//chromedriver.exe\"\n",
    "browser = webdriver.Chrome(chrome_driver_path, chrome_options=options)"
   ]
  },
  {
   "cell_type": "code",
   "execution_count": 4,
   "metadata": {
    "collapsed": true
   },
   "outputs": [],
   "source": [
    "browser.get('http://portal.yw56.com.cn/login')"
   ]
  },
  {
   "cell_type": "code",
   "execution_count": 5,
   "metadata": {
    "collapsed": true
   },
   "outputs": [],
   "source": [
    "yw_account = 401614\n",
    "yw_psw = 401614"
   ]
  },
  {
   "cell_type": "code",
   "execution_count": 6,
   "metadata": {
    "collapsed": true
   },
   "outputs": [],
   "source": [
    "def find_elements_by_css_selector(class_name, order_num):\n",
    "    class_name = class_name.replace(\" \", \".\")\n",
    "    class_name = '.' + class_name\n",
    "    return browser.find_elements_by_css_selector(class_name)[order_num]"
   ]
  },
  {
   "cell_type": "code",
   "execution_count": 7,
   "metadata": {
    "collapsed": true
   },
   "outputs": [],
   "source": [
    "yw_account_input = find_elements_by_css_selector('form-control form-control-solid placeholder-no-fix', 0)\n",
    "yw_psw_input = find_elements_by_css_selector('form-control form-control-solid placeholder-no-fix', 1)"
   ]
  },
  {
   "cell_type": "code",
   "execution_count": 8,
   "metadata": {
    "collapsed": true
   },
   "outputs": [],
   "source": [
    "# 输入账户密码登录\n",
    "yw_account_input.click()\n",
    "yw_account_input.send_keys(yw_account)\n",
    "yw_psw_input.click()\n",
    "yw_psw_input.send_keys(yw_psw)\n",
    "time.sleep(10)"
   ]
  },
  {
   "cell_type": "code",
   "execution_count": 9,
   "metadata": {
    "collapsed": true
   },
   "outputs": [],
   "source": [
    "# 登录\n",
    "login_button = find_elements_by_css_selector(\"btn btn-block ladda-button\", 0)\n",
    "login_button.click()\n",
    "time.sleep(10)"
   ]
  },
  {
   "cell_type": "code",
   "execution_count": 10,
   "metadata": {
    "collapsed": true
   },
   "outputs": [],
   "source": [
    "# 点击我的历史账单\n",
    "browser.get('http://portal.yw56.com.cn/bill/index?type=1')"
   ]
  },
  {
   "cell_type": "code",
   "execution_count": 11,
   "metadata": {
    "collapsed": true
   },
   "outputs": [],
   "source": [
    "# 选择‘账单’\n",
    "# https://stackoverflow.com/questions/7867537/selenium-python-drop-down-menu-option-value\n",
    "browser.find_element_by_xpath(\"//select[@name='transType']/option[text()='账单']\").click()"
   ]
  },
  {
   "cell_type": "code",
   "execution_count": 12,
   "metadata": {
    "collapsed": true
   },
   "outputs": [],
   "source": [
    "# 日期选择器\n",
    "import datetime as dt\n",
    "from datetime import timedelta\n",
    "today_date = dt.datetime.today()\n",
    "ninety_days_ago = today_date - timedelta(days=120)\n",
    "ninety_days_ago_str_format = ninety_days_ago.strftime('%Y-%m-%d')\n",
    "# ninety_days_ago_str_format"
   ]
  },
  {
   "cell_type": "code",
   "execution_count": 13,
   "metadata": {
    "collapsed": true
   },
   "outputs": [],
   "source": [
    "# 设置日期\n",
    "start_date = find_elements_by_css_selector('form-control', 0)\n",
    "start_date.clear()\n",
    "start_date.send_keys(ninety_days_ago_str_format)"
   ]
  },
  {
   "cell_type": "code",
   "execution_count": 14,
   "metadata": {
    "collapsed": true
   },
   "outputs": [],
   "source": [
    "# 点击查询\n",
    "search_bill = find_elements_by_css_selector(\"btn\", 0)\n",
    "search_bill.click()\n",
    "time.sleep(10)"
   ]
  },
  {
   "cell_type": "code",
   "execution_count": 15,
   "metadata": {
    "collapsed": true
   },
   "outputs": [],
   "source": [
    "# 设置条目数\n",
    "num_of_rows = find_elements_by_css_selector('btn-group dropup', 0)\n",
    "num_of_rows.click()\n",
    "\n",
    "# 点击最大条目数\n",
    "# https://stackoverflow.com/questions/34583524/python-selenium-click-on-all-li-in-ul\n",
    "# https://stackoverflow.com/questions/18026766/selenium-select-element-with-multiple-attributes\n",
    "num_of_max_rows = browser.find_elements_by_xpath(\"//ul[@class = 'dropdown-menu'][@role = 'menu']//li[not(@class)]\")\n",
    "# num_of_max_rows[-1].text\n",
    "num_of_max_rows[-1].click()\n",
    "time.sleep(5)"
   ]
  },
  {
   "cell_type": "code",
   "execution_count": 16,
   "metadata": {},
   "outputs": [
    {
     "name": "stdout",
     "output_type": "stream",
     "text": [
      "49\n"
     ]
    }
   ],
   "source": [
    "# 查看有多少条记录\n",
    "# https://stackoverflow.com/questions/14831041/how-to-count-no-of-rows-in-table-from-web-application-using-selenium-python-webd\n",
    "row_count = len(browser.find_elements_by_xpath(\"//table[@id='table']/tbody/tr\"))\n",
    "print(row_count)\n",
    "time.sleep(5)"
   ]
  },
  {
   "cell_type": "code",
   "execution_count": 17,
   "metadata": {},
   "outputs": [
    {
     "data": {
      "text/plain": [
       "'\\nbill_id = 0\\nbill_location = browser.find_elements_by_xpath(\"//table[@id=\\'table\\']/tbody/tr[@data-index=\\'\" + str(bill_id) + \"\\']/td\")[5]\\nbill_html = \"http://portal.yw56.com.cn\" + bill_location.get_attribute(\\'innerHTML\\').split(\\'\"\\')[1].replace(\\'amp;\\',\\'\\')\\nbrowser.get(bill_html)\\n'"
      ]
     },
     "execution_count": 17,
     "metadata": {},
     "output_type": "execute_result"
    }
   ],
   "source": [
    "# 点击每条账单\n",
    "'''\n",
    "bill_id = 0\n",
    "bill_location = browser.find_elements_by_xpath(\"//table[@id='table']/tbody/tr[@data-index='\" + str(bill_id) + \"']/td\")[5]\n",
    "bill_html = \"http://portal.yw56.com.cn\" + bill_location.get_attribute('innerHTML').split('\"')[1].replace('amp;','')\n",
    "browser.get(bill_html)\n",
    "'''"
   ]
  },
  {
   "cell_type": "code",
   "execution_count": 18,
   "metadata": {},
   "outputs": [
    {
     "data": {
      "text/plain": [
       "'\\nbill_download = find_elements_by_css_selector(\"btn\", 1)\\nbill_download.click()\\n'"
      ]
     },
     "execution_count": 18,
     "metadata": {},
     "output_type": "execute_result"
    }
   ],
   "source": [
    "# 点击下载\n",
    "'''\n",
    "bill_download = find_elements_by_css_selector(\"btn\", 1)\n",
    "bill_download.click()\n",
    "'''"
   ]
  },
  {
   "cell_type": "code",
   "execution_count": 19,
   "metadata": {
    "scrolled": true
   },
   "outputs": [
    {
     "name": "stdout",
     "output_type": "stream",
     "text": [
      "<selenium.webdriver.remote.webelement.WebElement (session=\"75f8660d4523857af23681fa6ace4de0\", element=\"acc806ac-83e9-4222-b21c-01ec011444dd\")>\n",
      "http://portal.yw56.com.cn/bill/index?type=3&mainNo=TC02_2020-04-14_2020-03-13_04_401614_CNY_0&startDate=2020-04-01&endDate=2020-04-05&changeStatus=1&transType=TC02&billAmount=-28.44&rowNum=1\n",
      "<selenium.webdriver.remote.webelement.WebElement (session=\"75f8660d4523857af23681fa6ace4de0\", element=\"73cd6c22-d4e8-40e9-b576-cd7d89121c7b\")>\n",
      "http://portal.yw56.com.cn/bill/index?type=3&mainNo=TC02_2020-04-14_2020-03-12_04_401614_CNY_0&startDate=2020-04-01&endDate=2020-04-05&changeStatus=1&transType=TC02&billAmount=-50.95&rowNum=2\n",
      "<selenium.webdriver.remote.webelement.WebElement (session=\"75f8660d4523857af23681fa6ace4de0\", element=\"5637c58a-45ca-4318-b217-a9192a88e3d1\")>\n",
      "http://portal.yw56.com.cn/bill/index?type=3&mainNo=TC01_2020-04-14_2020-04-14_04_401614_CNY&startDate=2020-04-01&endDate=2020-04-05&changeStatus=0&transType=TC01&billAmount=4270.97&rowNum=3\n",
      "<selenium.webdriver.remote.webelement.WebElement (session=\"75f8660d4523857af23681fa6ace4de0\", element=\"9d202a1c-9b8c-47c7-bc7a-9ee73c195261\")>\n",
      "http://portal.yw56.com.cn/bill/index?type=3&mainNo=TC01_2020-03-14_2020-03-14_04_401614_CNY&startDate=2020-03-30&endDate=2020-03-31&changeStatus=0&transType=TC01&billAmount=1135.06&rowNum=4\n",
      "<selenium.webdriver.remote.webelement.WebElement (session=\"75f8660d4523857af23681fa6ace4de0\", element=\"f6fec5d6-e24a-4c91-a2b7-447d615e62a0\")>\n",
      "http://portal.yw56.com.cn/bill/index?type=3&mainNo=TC15_2020-03-13_2020-03-13_04_401614_CNY&startDate=2020-03-23&endDate=2020-03-29&changeStatus=0&transType=TC15&billAmount=-5.76&rowNum=5\n",
      "<selenium.webdriver.remote.webelement.WebElement (session=\"75f8660d4523857af23681fa6ace4de0\", element=\"ba562c27-3b9a-4aa6-b0df-be954bb4e313\")>\n",
      "http://portal.yw56.com.cn/bill/index?type=3&mainNo=TC01_2020-03-13_2020-03-13_04_401614_CNY&startDate=2020-03-23&endDate=2020-03-29&changeStatus=0&transType=TC01&billAmount=3765.29&rowNum=6\n",
      "<selenium.webdriver.remote.webelement.WebElement (session=\"75f8660d4523857af23681fa6ace4de0\", element=\"cfe4ddd0-7ab2-4312-965e-e040de1a9499\")>\n",
      "http://portal.yw56.com.cn/bill/index?type=3&mainNo=TC01_2020-03-12_2020-03-12_04_401614_CNY&startDate=2020-03-16&endDate=2020-03-22&changeStatus=0&transType=TC01&billAmount=3436.40&rowNum=7\n",
      "<selenium.webdriver.remote.webelement.WebElement (session=\"75f8660d4523857af23681fa6ace4de0\", element=\"367a2592-7e4c-4ae8-ba55-89802fc69e68\")>\n",
      "http://portal.yw56.com.cn/bill/index?type=3&mainNo=TC02_2020-03-12_2020-03-10_04_401614_CNY_0&startDate=2020-03-16&endDate=2020-03-22&changeStatus=1&transType=TC02&billAmount=-36.83&rowNum=8\n",
      "<selenium.webdriver.remote.webelement.WebElement (session=\"75f8660d4523857af23681fa6ace4de0\", element=\"8ee9da2e-48ff-4132-8801-5a6f7b4ebdec\")>\n",
      "http://portal.yw56.com.cn/bill/index?type=3&mainNo=TC02_2020-03-12_2020-02-09_04_401614_CNY_0&startDate=2020-03-16&endDate=2020-03-22&changeStatus=1&transType=TC02&billAmount=-45.57&rowNum=9\n",
      "<selenium.webdriver.remote.webelement.WebElement (session=\"75f8660d4523857af23681fa6ace4de0\", element=\"557059cb-ee95-41ad-9878-554b4e5e2b4d\")>\n",
      "http://portal.yw56.com.cn/bill/index?type=3&mainNo=TC15_2020-03-12_2020-03-12_04_401614_CNY&startDate=2020-03-16&endDate=2020-03-22&changeStatus=0&transType=TC15&billAmount=-2.18&rowNum=10\n",
      "<selenium.webdriver.remote.webelement.WebElement (session=\"75f8660d4523857af23681fa6ace4de0\", element=\"2ccda6ed-941c-47a2-9339-d41d3ee09c78\")>\n",
      "http://portal.yw56.com.cn/bill/index?type=3&mainNo=TC02_2020-03-11_2020-03-10_04_401614_CNY_0&startDate=2020-03-09&endDate=2020-03-15&changeStatus=1&transType=TC02&billAmount=-45.49&rowNum=11\n",
      "<selenium.webdriver.remote.webelement.WebElement (session=\"75f8660d4523857af23681fa6ace4de0\", element=\"c967fa20-d076-4fe3-919d-4f8a81942a6d\")>\n",
      "http://portal.yw56.com.cn/bill/index?type=3&mainNo=TC02_2020-03-11_2019-11-46_04_401614_CNY_0&startDate=2020-03-09&endDate=2020-03-15&changeStatus=1&transType=TC02&billAmount=-35.41&rowNum=12\n",
      "<selenium.webdriver.remote.webelement.WebElement (session=\"75f8660d4523857af23681fa6ace4de0\", element=\"9194b3bc-7e7e-4b70-9ed6-ff13a1f72021\")>\n",
      "http://portal.yw56.com.cn/bill/index?type=3&mainNo=TC15_2020-03-11_2020-03-11_04_401614_CNY&startDate=2020-03-09&endDate=2020-03-15&changeStatus=0&transType=TC15&billAmount=-15.67&rowNum=13\n",
      "<selenium.webdriver.remote.webelement.WebElement (session=\"75f8660d4523857af23681fa6ace4de0\", element=\"c65adaa6-555c-4bb6-b780-0e9508244046\")>\n",
      "http://portal.yw56.com.cn/bill/index?type=3&mainNo=TC01_2020-03-11_2020-03-11_04_401614_CNY&startDate=2020-03-09&endDate=2020-03-15&changeStatus=0&transType=TC01&billAmount=3092.39&rowNum=14\n",
      "<selenium.webdriver.remote.webelement.WebElement (session=\"75f8660d4523857af23681fa6ace4de0\", element=\"4e61c04e-48c8-4dab-8345-ec89898beaa3\")>\n",
      "http://portal.yw56.com.cn/bill/index?type=3&mainNo=TC02_2020-03-11_2020-02-06_04_401614_CNY_0&startDate=2020-03-09&endDate=2020-03-15&changeStatus=1&transType=TC02&billAmount=-39.90&rowNum=15\n",
      "<selenium.webdriver.remote.webelement.WebElement (session=\"75f8660d4523857af23681fa6ace4de0\", element=\"249a20c8-2064-497b-9c3d-b53bc179a419\")>\n",
      "http://portal.yw56.com.cn/bill/index?type=3&mainNo=TC02_2020-03-11_2020-02-09_04_401614_CNY_0&startDate=2020-03-09&endDate=2020-03-15&changeStatus=1&transType=TC02&billAmount=-66.40&rowNum=16\n",
      "<selenium.webdriver.remote.webelement.WebElement (session=\"75f8660d4523857af23681fa6ace4de0\", element=\"3a6b8f9a-ee20-48d2-9f58-3f0aeed89849\")>\n",
      "http://portal.yw56.com.cn/bill/index?type=3&mainNo=TC15_2020-03-10_2020-03-10_04_401614_CNY&startDate=2020-03-02&endDate=2020-03-08&changeStatus=0&transType=TC15&billAmount=-6.35&rowNum=17\n",
      "<selenium.webdriver.remote.webelement.WebElement (session=\"75f8660d4523857af23681fa6ace4de0\", element=\"4cccec1d-198a-46ff-8f63-3d8942da5a3d\")>\n",
      "http://portal.yw56.com.cn/bill/index?type=3&mainNo=TC01_2020-03-10_2020-03-10_04_401614_CNY&startDate=2020-03-02&endDate=2020-03-08&changeStatus=0&transType=TC01&billAmount=3479.81&rowNum=18\n",
      "<selenium.webdriver.remote.webelement.WebElement (session=\"75f8660d4523857af23681fa6ace4de0\", element=\"a0eecde5-f6a4-46c2-898a-460dc9ca6b30\")>\n",
      "http://portal.yw56.com.cn/bill/index?type=3&mainNo=TC02_2020-03-10_2020-02-08_04_401614_CNY_0&startDate=2020-03-02&endDate=2020-03-08&changeStatus=1&transType=TC02&billAmount=-46.43&rowNum=19\n",
      "<selenium.webdriver.remote.webelement.WebElement (session=\"75f8660d4523857af23681fa6ace4de0\", element=\"e4fa2540-9230-4734-b497-7753f21137d7\")>\n",
      "http://portal.yw56.com.cn/bill/index?type=3&mainNo=TC15_2020-02-09_2020-02-08_04_401614_CNY_0&startDate=2020-02-24&endDate=2020-02-29&changeStatus=1&transType=TC15&billAmount=-3.73&rowNum=20\n",
      "<selenium.webdriver.remote.webelement.WebElement (session=\"75f8660d4523857af23681fa6ace4de0\", element=\"abecedc7-8037-4169-8641-d598025b9d19\")>\n",
      "http://portal.yw56.com.cn/bill/index?type=3&mainNo=TC15_2020-02-09_2020-02-09_04_401614_CNY&startDate=2020-02-24&endDate=2020-02-29&changeStatus=0&transType=TC15&billAmount=-7.82&rowNum=21\n",
      "<selenium.webdriver.remote.webelement.WebElement (session=\"75f8660d4523857af23681fa6ace4de0\", element=\"73bbf3ae-4538-46a0-947a-49e25fe2d9db\")>\n",
      "http://portal.yw56.com.cn/bill/index?type=3&mainNo=TC01_2020-02-09_2020-02-09_04_401614_CNY&startDate=2020-02-24&endDate=2020-02-29&changeStatus=0&transType=TC01&billAmount=5025.84&rowNum=22\n",
      "<selenium.webdriver.remote.webelement.WebElement (session=\"75f8660d4523857af23681fa6ace4de0\", element=\"147042f6-3f05-4b47-ab13-9423a96a4f28\")>\n",
      "http://portal.yw56.com.cn/bill/index?type=3&mainNo=TC02_2020-02-08_2020-01-04_04_401614_CNY_0&startDate=2020-02-17&endDate=2020-02-23&changeStatus=1&transType=TC02&billAmount=-37.19&rowNum=23\n",
      "<selenium.webdriver.remote.webelement.WebElement (session=\"75f8660d4523857af23681fa6ace4de0\", element=\"1083bdee-b4d5-47ad-b95e-3e3ca94463f5\")>\n",
      "http://portal.yw56.com.cn/bill/index?type=3&mainNo=TC02_2020-02-08_2020-01-01_04_401614_CNY_0&startDate=2020-02-17&endDate=2020-02-23&changeStatus=1&transType=TC02&billAmount=-34.97&rowNum=24\n",
      "<selenium.webdriver.remote.webelement.WebElement (session=\"75f8660d4523857af23681fa6ace4de0\", element=\"1fe11995-ceb7-495a-bac9-2eb9d63a578d\")>\n",
      "http://portal.yw56.com.cn/bill/index?type=3&mainNo=TC01_2020-02-08_2020-02-08_04_401614_CNY&startDate=2020-02-17&endDate=2020-02-23&changeStatus=0&transType=TC01&billAmount=983.64&rowNum=25\n"
     ]
    },
    {
     "name": "stdout",
     "output_type": "stream",
     "text": [
      "<selenium.webdriver.remote.webelement.WebElement (session=\"75f8660d4523857af23681fa6ace4de0\", element=\"adeb799e-13e6-45fc-b583-04377b09f1d5\")>\n",
      "http://portal.yw56.com.cn/bill/index?type=3&mainNo=TC02_2020-02-08_2020-02-07_04_401614_CNY_0&startDate=2020-02-17&endDate=2020-02-23&changeStatus=1&transType=TC02&billAmount=-46.04&rowNum=26\n",
      "<selenium.webdriver.remote.webelement.WebElement (session=\"75f8660d4523857af23681fa6ace4de0\", element=\"0a14366f-bfa8-4595-b971-078987b8e644\")>\n",
      "http://portal.yw56.com.cn/bill/index?type=3&mainNo=TC01_2020-02-07_2020-02-07_04_401614_CNY&startDate=2020-02-10&endDate=2020-02-16&changeStatus=0&transType=TC01&billAmount=1556.38&rowNum=27\n",
      "<selenium.webdriver.remote.webelement.WebElement (session=\"75f8660d4523857af23681fa6ace4de0\", element=\"b775de4f-2d91-4ab5-96c2-240cf6c6706e\")>\n",
      "http://portal.yw56.com.cn/bill/index?type=3&mainNo=TC15_2020-02-06_2020-02-06_04_401614_CNY&startDate=2020-02-03&endDate=2020-02-09&changeStatus=0&transType=TC15&billAmount=-11.24&rowNum=28\n",
      "<selenium.webdriver.remote.webelement.WebElement (session=\"75f8660d4523857af23681fa6ace4de0\", element=\"dc95478c-c98c-4744-a03c-7fe9de4fa43c\")>\n",
      "http://portal.yw56.com.cn/bill/index?type=3&mainNo=TC01_2020-02-06_2020-02-06_04_401614_CNY&startDate=2020-02-03&endDate=2020-02-09&changeStatus=0&transType=TC01&billAmount=3477.29&rowNum=29\n",
      "<selenium.webdriver.remote.webelement.WebElement (session=\"75f8660d4523857af23681fa6ace4de0\", element=\"491870d5-eda7-4ded-96ae-1dd3c234f6bb\")>\n",
      "http://portal.yw56.com.cn/bill/index?type=3&mainNo=TC01_2020-01-05_2020-01-05_04_401614_CNY&startDate=2020-01-27&endDate=2020-01-31&changeStatus=0&transType=TC01&billAmount=2919.67&rowNum=30\n",
      "<selenium.webdriver.remote.webelement.WebElement (session=\"75f8660d4523857af23681fa6ace4de0\", element=\"1e74439d-f208-4d51-8873-1eb9efac07f5\")>\n",
      "http://portal.yw56.com.cn/bill/index?type=3&mainNo=TC15_2020-01-04_2020-01-04_04_401614_CNY&startDate=2020-01-20&endDate=2020-01-26&changeStatus=0&transType=TC15&billAmount=-5.50&rowNum=31\n",
      "<selenium.webdriver.remote.webelement.WebElement (session=\"75f8660d4523857af23681fa6ace4de0\", element=\"c358e271-e0b1-4b09-a5d4-b082adaa8780\")>\n",
      "http://portal.yw56.com.cn/bill/index?type=3&mainNo=TC01_2020-01-04_2020-01-04_04_401614_CNY&startDate=2020-01-20&endDate=2020-01-26&changeStatus=0&transType=TC01&billAmount=2511.60&rowNum=32\n",
      "<selenium.webdriver.remote.webelement.WebElement (session=\"75f8660d4523857af23681fa6ace4de0\", element=\"abacd918-d903-47eb-837f-554257a77116\")>\n",
      "http://portal.yw56.com.cn/bill/index?type=3&mainNo=TC15_2020-01-03_2020-01-03_04_401614_CNY&startDate=2020-01-13&endDate=2020-01-19&changeStatus=0&transType=TC15&billAmount=-7.84&rowNum=33\n",
      "<selenium.webdriver.remote.webelement.WebElement (session=\"75f8660d4523857af23681fa6ace4de0\", element=\"bc7f005e-f7bf-464c-ab7d-7155a0443828\")>\n",
      "http://portal.yw56.com.cn/bill/index?type=3&mainNo=TC01_2020-01-03_2020-01-03_04_401614_CNY&startDate=2020-01-13&endDate=2020-01-19&changeStatus=0&transType=TC01&billAmount=3990.36&rowNum=34\n",
      "<selenium.webdriver.remote.webelement.WebElement (session=\"75f8660d4523857af23681fa6ace4de0\", element=\"15f1472e-2d44-408e-b15c-e6b8b17cadee\")>\n",
      "http://portal.yw56.com.cn/bill/index?type=3&mainNo=TC02_2020-01-02_2019-12-50_04_401614_CNY_0&startDate=2020-01-06&endDate=2020-01-12&changeStatus=1&transType=TC02&billAmount=-38.40&rowNum=35\n",
      "<selenium.webdriver.remote.webelement.WebElement (session=\"75f8660d4523857af23681fa6ace4de0\", element=\"195be110-e271-410b-a835-d6e772670259\")>\n",
      "http://portal.yw56.com.cn/bill/index?type=3&mainNo=TC02_2020-01-02_2019-10-44_04_401614_CNY_0&startDate=2020-01-06&endDate=2020-01-12&changeStatus=1&transType=TC02&billAmount=-55.87&rowNum=36\n",
      "<selenium.webdriver.remote.webelement.WebElement (session=\"75f8660d4523857af23681fa6ace4de0\", element=\"4679a552-f4f0-4099-b617-fb9e12d44b16\")>\n",
      "http://portal.yw56.com.cn/bill/index?type=3&mainNo=TC15_2020-01-02_2020-01-02_04_401614_CNY&startDate=2020-01-06&endDate=2020-01-12&changeStatus=0&transType=TC15&billAmount=-8.06&rowNum=37\n",
      "<selenium.webdriver.remote.webelement.WebElement (session=\"75f8660d4523857af23681fa6ace4de0\", element=\"065a2424-9783-4380-8752-634931dcf16b\")>\n",
      "http://portal.yw56.com.cn/bill/index?type=3&mainNo=TC01_2020-01-02_2020-01-02_04_401614_CNY&startDate=2020-01-06&endDate=2020-01-12&changeStatus=0&transType=TC01&billAmount=3413.60&rowNum=38\n",
      "Exception occurred: list index out of range\n",
      "Exception occurred: list index out of range\n",
      "Exception occurred: list index out of range\n",
      "Exception occurred: list index out of range\n",
      "Exception occurred: list index out of range\n",
      "Exception occurred: list index out of range\n",
      "Exception occurred: list index out of range\n",
      "Exception occurred: list index out of range\n",
      "Exception occurred: list index out of range\n",
      "Exception occurred: list index out of range\n",
      "Exception occurred: list index out of range\n"
     ]
    }
   ],
   "source": [
    "for i in range(row_count):\n",
    "    # 点击我的历史账单\n",
    "    browser.get('http://portal.yw56.com.cn/bill/index?type=1')\n",
    "    # 选择‘账单’\n",
    "    # https://stackoverflow.com/questions/7867537/selenium-python-drop-down-menu-option-value\n",
    "    browser.find_element_by_xpath(\"//select[@name='transType']/option[text()='账单']\").click()\n",
    "    # 日期选择器\n",
    "    today_date = dt.datetime.today()\n",
    "    ninety_days_ago = today_date - timedelta(days=90)\n",
    "    ninety_days_ago_str_format = ninety_days_ago.strftime('%Y-%m-%d')\n",
    "    # ninety_days_ago_str_format\n",
    "    # 设置日期\n",
    "    start_date = find_elements_by_css_selector('form-control', 0)\n",
    "    start_date.clear()\n",
    "    start_date.send_keys(ninety_days_ago_str_format)\n",
    "    # 点击查询\n",
    "    search_bill = find_elements_by_css_selector(\"btn\", 0)\n",
    "    search_bill.click()\n",
    "    time.sleep(10)\n",
    "    # 设置条目数\n",
    "    num_of_rows = find_elements_by_css_selector('btn-group dropup', 0)\n",
    "    num_of_rows.click()\n",
    "    # 点击最大条目数\n",
    "    # https://stackoverflow.com/questions/34583524/python-selenium-click-on-all-li-in-ul\n",
    "    # https://stackoverflow.com/questions/18026766/selenium-select-element-with-multiple-attributes\n",
    "    num_of_max_rows = browser.find_elements_by_xpath(\"//ul[@class = 'dropdown-menu'][@role = 'menu']//li[not(@class)]\")\n",
    "    # num_of_max_rows[-1].text\n",
    "    num_of_max_rows[-1].click()\n",
    "    time.sleep(5)\n",
    "    # 点击每条账单\n",
    "    bill_id = i\n",
    "    try:\n",
    "        bill_location = browser.find_elements_by_xpath(\"//table[@id='table']/tbody/tr[@data-index='\" + str(bill_id) + \"']/td\")[5]\n",
    "        print(bill_location)\n",
    "        bill_html = \"http://portal.yw56.com.cn\" + bill_location.get_attribute('innerHTML').split('\"')[1].replace('amp;','')\n",
    "        print(bill_html)\n",
    "        browser.get(bill_html)\n",
    "        # 点击下载\n",
    "        bill_download = find_elements_by_css_selector(\"btn\", 1)\n",
    "        bill_download.click()\n",
    "        time.sleep(5)\n",
    "    except Exception as err:\n",
    "        print('Exception occurred: ' + str(err))"
   ]
  }
 ],
 "metadata": {
  "anaconda-cloud": {},
  "kernelspec": {
   "display_name": "Python [default]",
   "language": "python",
   "name": "python3"
  },
  "language_info": {
   "codemirror_mode": {
    "name": "ipython",
    "version": 3
   },
   "file_extension": ".py",
   "mimetype": "text/x-python",
   "name": "python",
   "nbconvert_exporter": "python",
   "pygments_lexer": "ipython3",
   "version": "3.5.2"
  }
 },
 "nbformat": 4,
 "nbformat_minor": 1
}
