{
 "cells": [
  {
   "cell_type": "code",
   "execution_count": 1,
   "metadata": {
    "collapsed": true
   },
   "outputs": [],
   "source": [
    "from selenium import webdriver\n",
    "import pandas as pd\n",
    "import time\n",
    "import os\n",
    "import zipfile\n",
    "import shutil"
   ]
  },
  {
   "cell_type": "code",
   "execution_count": 2,
   "metadata": {
    "collapsed": true
   },
   "outputs": [],
   "source": [
    "# 屏幕最大化，且指定下载目录\n",
    "options = webdriver.ChromeOptions()\n",
    "options.add_argument(\"--start-maximized\")\n",
    "\n",
    "prefs = {\"profile.default_content_settings.popups\": 0,\n",
    "         \"download.default_directory\": r\"D:\\Program Files (x86)\\百度云同步盘\\Dropbox\\-E·J- 2014.5.1\\2016.12.15 店小秘数据分析\\2017.10.24 各渠道运费明细\\燕文\\\\\", # IMPORTANT - ENDING SLASH V IMPORTANT\n",
    "         \"directory_upgrade\": True}\n",
    "options.add_experimental_option(\"prefs\", prefs)"
   ]
  },
  {
   "cell_type": "code",
   "execution_count": 3,
   "metadata": {
    "collapsed": true
   },
   "outputs": [],
   "source": [
    "# 使用chromedriver才可以用开发者权限\n",
    "chrome_driver_path = \".//chrome_driver//chromedriver.exe\"\n",
    "browser = webdriver.Chrome(chrome_driver_path, chrome_options=options)"
   ]
  },
  {
   "cell_type": "code",
   "execution_count": 4,
   "metadata": {
    "collapsed": true
   },
   "outputs": [],
   "source": [
    "browser.get('http://portal.yw56.com.cn/login')"
   ]
  },
  {
   "cell_type": "code",
   "execution_count": 5,
   "metadata": {
    "collapsed": true
   },
   "outputs": [],
   "source": [
    "yw_account = 401614\n",
    "yw_psw = 401614"
   ]
  },
  {
   "cell_type": "code",
   "execution_count": 6,
   "metadata": {
    "collapsed": true
   },
   "outputs": [],
   "source": [
    "def find_elements_by_css_selector(class_name, order_num):\n",
    "    class_name = class_name.replace(\" \", \".\")\n",
    "    class_name = '.' + class_name\n",
    "    return browser.find_elements_by_css_selector(class_name)[order_num]"
   ]
  },
  {
   "cell_type": "code",
   "execution_count": 7,
   "metadata": {
    "collapsed": true
   },
   "outputs": [],
   "source": [
    "yw_account_input = find_elements_by_css_selector('form-control form-control-solid placeholder-no-fix', 0)\n",
    "yw_psw_input = find_elements_by_css_selector('form-control form-control-solid placeholder-no-fix', 1)"
   ]
  },
  {
   "cell_type": "code",
   "execution_count": 8,
   "metadata": {
    "collapsed": true
   },
   "outputs": [],
   "source": [
    "# 输入账户密码登录\n",
    "yw_account_input.click()\n",
    "yw_account_input.send_keys(yw_account)\n",
    "yw_psw_input.click()\n",
    "yw_psw_input.send_keys(yw_psw)\n",
    "time.sleep(10)"
   ]
  },
  {
   "cell_type": "code",
   "execution_count": 9,
   "metadata": {
    "collapsed": true
   },
   "outputs": [],
   "source": [
    "# 登录\n",
    "login_button = find_elements_by_css_selector(\"btn btn-block ladda-button\", 0)\n",
    "login_button.click()\n",
    "time.sleep(10)"
   ]
  },
  {
   "cell_type": "code",
   "execution_count": 10,
   "metadata": {
    "collapsed": true
   },
   "outputs": [],
   "source": [
    "# 点击我的历史账单\n",
    "browser.get('http://portal.yw56.com.cn/bill/index?type=1')"
   ]
  },
  {
   "cell_type": "code",
   "execution_count": 11,
   "metadata": {
    "collapsed": true
   },
   "outputs": [],
   "source": [
    "# 选择‘账单’\n",
    "# https://stackoverflow.com/questions/7867537/selenium-python-drop-down-menu-option-value\n",
    "browser.find_element_by_xpath(\"//select[@name='transType']/option[text()='账单']\").click()"
   ]
  },
  {
   "cell_type": "code",
   "execution_count": 12,
   "metadata": {
    "collapsed": true
   },
   "outputs": [],
   "source": [
    "# 日期选择器\n",
    "import datetime as dt\n",
    "from datetime import timedelta\n",
    "today_date = dt.datetime.today()\n",
    "ninety_days_ago = today_date - timedelta(days=120)\n",
    "ninety_days_ago_str_format = ninety_days_ago.strftime('%Y-%m-%d')\n",
    "# ninety_days_ago_str_format"
   ]
  },
  {
   "cell_type": "code",
   "execution_count": 13,
   "metadata": {
    "collapsed": true
   },
   "outputs": [],
   "source": [
    "# 设置日期\n",
    "start_date = find_elements_by_css_selector('form-control', 0)\n",
    "start_date.clear()\n",
    "start_date.send_keys(ninety_days_ago_str_format)"
   ]
  },
  {
   "cell_type": "code",
   "execution_count": 14,
   "metadata": {
    "collapsed": true
   },
   "outputs": [],
   "source": [
    "# 点击查询\n",
    "search_bill = find_elements_by_css_selector(\"btn\", 0)\n",
    "search_bill.click()\n",
    "time.sleep(10)"
   ]
  },
  {
   "cell_type": "code",
   "execution_count": 15,
   "metadata": {
    "collapsed": true
   },
   "outputs": [],
   "source": [
    "# 设置条目数\n",
    "num_of_rows = find_elements_by_css_selector('btn-group dropup', 0)\n",
    "num_of_rows.click()\n",
    "\n",
    "# 点击最大条目数\n",
    "# https://stackoverflow.com/questions/34583524/python-selenium-click-on-all-li-in-ul\n",
    "# https://stackoverflow.com/questions/18026766/selenium-select-element-with-multiple-attributes\n",
    "num_of_max_rows = browser.find_elements_by_xpath(\"//ul[@class = 'dropdown-menu'][@role = 'menu']//li[not(@class)]\")\n",
    "# num_of_max_rows[-1].text\n",
    "num_of_max_rows[-1].click()\n",
    "time.sleep(5)"
   ]
  },
  {
   "cell_type": "code",
   "execution_count": 16,
   "metadata": {},
   "outputs": [
    {
     "name": "stdout",
     "output_type": "stream",
     "text": [
      "50\n"
     ]
    }
   ],
   "source": [
    "# 查看有多少条记录\n",
    "# https://stackoverflow.com/questions/14831041/how-to-count-no-of-rows-in-table-from-web-application-using-selenium-python-webd\n",
    "row_count = len(browser.find_elements_by_xpath(\"//table[@id='table']/tbody/tr\"))\n",
    "print(row_count)\n",
    "time.sleep(5)"
   ]
  },
  {
   "cell_type": "code",
   "execution_count": 17,
   "metadata": {},
   "outputs": [
    {
     "data": {
      "text/plain": [
       "'\\nbill_id = 0\\nbill_location = browser.find_elements_by_xpath(\"//table[@id=\\'table\\']/tbody/tr[@data-index=\\'\" + str(bill_id) + \"\\']/td\")[5]\\nbill_html = \"http://portal.yw56.com.cn\" + bill_location.get_attribute(\\'innerHTML\\').split(\\'\"\\')[1].replace(\\'amp;\\',\\'\\')\\nbrowser.get(bill_html)\\n'"
      ]
     },
     "execution_count": 17,
     "metadata": {},
     "output_type": "execute_result"
    }
   ],
   "source": [
    "# 点击每条账单\n",
    "'''\n",
    "bill_id = 0\n",
    "bill_location = browser.find_elements_by_xpath(\"//table[@id='table']/tbody/tr[@data-index='\" + str(bill_id) + \"']/td\")[5]\n",
    "bill_html = \"http://portal.yw56.com.cn\" + bill_location.get_attribute('innerHTML').split('\"')[1].replace('amp;','')\n",
    "browser.get(bill_html)\n",
    "'''"
   ]
  },
  {
   "cell_type": "code",
   "execution_count": 18,
   "metadata": {},
   "outputs": [
    {
     "data": {
      "text/plain": [
       "'\\nbill_download = find_elements_by_css_selector(\"btn\", 1)\\nbill_download.click()\\n'"
      ]
     },
     "execution_count": 18,
     "metadata": {},
     "output_type": "execute_result"
    }
   ],
   "source": [
    "# 点击下载\n",
    "'''\n",
    "bill_download = find_elements_by_css_selector(\"btn\", 1)\n",
    "bill_download.click()\n",
    "'''"
   ]
  },
  {
   "cell_type": "code",
   "execution_count": 19,
   "metadata": {
    "scrolled": true
   },
   "outputs": [
    {
     "name": "stdout",
     "output_type": "stream",
     "text": [
      "<selenium.webdriver.remote.webelement.WebElement (session=\"eba6cf31143ff9ad74baf0328a6116ed\", element=\"696b9d5f-d112-42df-b080-6116f3a84685\")>\n",
      "Exception occurred: list index out of range\n",
      "<selenium.webdriver.remote.webelement.WebElement (session=\"eba6cf31143ff9ad74baf0328a6116ed\", element=\"c157a19f-c27a-43e6-a54b-745465d53642\")>\n",
      "http://portal.yw56.com.cn/bill/index?type=3&mainNo=TC01_2019-09-36_2019-09-36_04_401614_CNY&startDate=2019-09-02&endDate=2019-09-08&changeStatus=0&transType=TC01&billAmount=3008.41&rowNum=2\n",
      "<selenium.webdriver.remote.webelement.WebElement (session=\"eba6cf31143ff9ad74baf0328a6116ed\", element=\"c633025f-e15d-4726-bb8c-5dc5ecfe107b\")>\n",
      "http://portal.yw56.com.cn/bill/index?type=3&mainNo=TC02_2019-09-36_2019-08-32_04_401614_CNY_0&startDate=2019-09-02&endDate=2019-09-08&changeStatus=1&transType=TC02&billAmount=-35.14&rowNum=3\n",
      "<selenium.webdriver.remote.webelement.WebElement (session=\"eba6cf31143ff9ad74baf0328a6116ed\", element=\"7eade35a-7943-4f58-9021-22c3b53a2c56\")>\n",
      "Exception occurred: list index out of range\n",
      "<selenium.webdriver.remote.webelement.WebElement (session=\"eba6cf31143ff9ad74baf0328a6116ed\", element=\"d4c17ef2-77fd-4248-aade-80aca62a80cf\")>\n",
      "http://portal.yw56.com.cn/bill/index?type=3&mainNo=TC01_2019-08-35_2019-08-35_04_401614_CNY&startDate=2019-08-26&endDate=2019-08-31&changeStatus=0&transType=TC01&billAmount=3440.24&rowNum=5\n",
      "<selenium.webdriver.remote.webelement.WebElement (session=\"eba6cf31143ff9ad74baf0328a6116ed\", element=\"574a8b80-179a-4aa8-bf3b-e35591155cf7\")>\n",
      "Exception occurred: list index out of range\n",
      "<selenium.webdriver.remote.webelement.WebElement (session=\"eba6cf31143ff9ad74baf0328a6116ed\", element=\"2d91cbcf-19fd-4990-979d-e79e841aa2b5\")>\n",
      "http://portal.yw56.com.cn/bill/index?type=3&mainNo=TC02_2019-08-34_2019-07-31_04_401614_CNY_0&startDate=2019-08-19&endDate=2019-08-25&changeStatus=1&transType=TC02&billAmount=-34.13&rowNum=7\n",
      "<selenium.webdriver.remote.webelement.WebElement (session=\"eba6cf31143ff9ad74baf0328a6116ed\", element=\"83dc1184-7cd0-4451-ae1b-50a4342aaddb\")>\n",
      "http://portal.yw56.com.cn/bill/index?type=3&mainNo=TC01_2019-08-34_2019-08-34_04_401614_CNY&startDate=2019-08-19&endDate=2019-08-25&changeStatus=0&transType=TC01&billAmount=2421.91&rowNum=8\n",
      "<selenium.webdriver.remote.webelement.WebElement (session=\"eba6cf31143ff9ad74baf0328a6116ed\", element=\"6568b0ac-ccd0-43c3-806b-0e7897c55e4b\")>\n",
      "Exception occurred: list index out of range\n",
      "<selenium.webdriver.remote.webelement.WebElement (session=\"eba6cf31143ff9ad74baf0328a6116ed\", element=\"0ff4842b-ae92-480a-9c98-cbaee10a8745\")>\n",
      "http://portal.yw56.com.cn/bill/index?type=3&mainNo=TC01_2019-08-33_2019-08-33_04_401614_CNY&startDate=2019-08-12&endDate=2019-08-18&changeStatus=0&transType=TC01&billAmount=2004.69&rowNum=10\n",
      "<selenium.webdriver.remote.webelement.WebElement (session=\"eba6cf31143ff9ad74baf0328a6116ed\", element=\"4d9f1fce-2df9-4d78-8872-3f0aa3057e9d\")>\n",
      "Exception occurred: list index out of range\n",
      "<selenium.webdriver.remote.webelement.WebElement (session=\"eba6cf31143ff9ad74baf0328a6116ed\", element=\"db10f38a-bda9-4eab-8794-a6e869bcbf09\")>\n",
      "http://portal.yw56.com.cn/bill/index?type=3&mainNo=TC01_2019-08-32_2019-08-32_04_401614_CNY&startDate=2019-08-05&endDate=2019-08-11&changeStatus=0&transType=TC01&billAmount=2848.50&rowNum=12\n",
      "<selenium.webdriver.remote.webelement.WebElement (session=\"eba6cf31143ff9ad74baf0328a6116ed\", element=\"a11230b6-da44-4891-ad44-36afba5c44c1\")>\n",
      "Exception occurred: list index out of range\n",
      "<selenium.webdriver.remote.webelement.WebElement (session=\"eba6cf31143ff9ad74baf0328a6116ed\", element=\"d0ecf31e-a373-4fe2-bb6d-c4311984f983\")>\n",
      "Exception occurred: list index out of range\n",
      "<selenium.webdriver.remote.webelement.WebElement (session=\"eba6cf31143ff9ad74baf0328a6116ed\", element=\"cacf340e-3b72-4833-95b1-31835ec0ccc6\")>\n",
      "http://portal.yw56.com.cn/bill/index?type=3&mainNo=TC01_2019-08-31_2019-08-31_04_401614_CNY&startDate=2019-08-01&endDate=2019-08-04&changeStatus=0&transType=TC01&billAmount=781.57&rowNum=15\n",
      "<selenium.webdriver.remote.webelement.WebElement (session=\"eba6cf31143ff9ad74baf0328a6116ed\", element=\"18438f81-dc43-4911-8d06-8d2ecfdea82e\")>\n",
      "http://portal.yw56.com.cn/bill/index?type=3&mainNo=TC01_2019-07-31_2019-07-31_04_401614_CNY&startDate=2019-07-29&endDate=2019-07-31&changeStatus=0&transType=TC01&billAmount=1584.95&rowNum=16\n",
      "<selenium.webdriver.remote.webelement.WebElement (session=\"eba6cf31143ff9ad74baf0328a6116ed\", element=\"1df85e4f-c5f9-4944-9372-4ce0671bffba\")>\n",
      "Exception occurred: list index out of range\n",
      "<selenium.webdriver.remote.webelement.WebElement (session=\"eba6cf31143ff9ad74baf0328a6116ed\", element=\"517ec276-91cb-4cb5-b763-5c7300707878\")>\n",
      "http://portal.yw56.com.cn/bill/index?type=3&mainNo=TC01_2019-07-30_2019-07-30_04_401614_CNY&startDate=2019-07-22&endDate=2019-07-28&changeStatus=0&transType=TC01&billAmount=2286.69&rowNum=18\n",
      "<selenium.webdriver.remote.webelement.WebElement (session=\"eba6cf31143ff9ad74baf0328a6116ed\", element=\"9dee4072-fa68-403a-a792-2db456fa8196\")>\n",
      "Exception occurred: list index out of range\n",
      "<selenium.webdriver.remote.webelement.WebElement (session=\"eba6cf31143ff9ad74baf0328a6116ed\", element=\"3019101c-7202-4cd3-ac4d-4723d4c1b018\")>\n",
      "http://portal.yw56.com.cn/bill/index?type=3&mainNo=TC01_2019-07-29_2019-07-29_04_401614_CNY&startDate=2019-07-15&endDate=2019-07-21&changeStatus=0&transType=TC01&billAmount=2947.78&rowNum=20\n",
      "<selenium.webdriver.remote.webelement.WebElement (session=\"eba6cf31143ff9ad74baf0328a6116ed\", element=\"585b6ca5-6786-426f-82f4-635611351de3\")>\n",
      "Exception occurred: list index out of range\n",
      "<selenium.webdriver.remote.webelement.WebElement (session=\"eba6cf31143ff9ad74baf0328a6116ed\", element=\"5f05ece5-c4f3-4394-9306-ee8c44ca9e1f\")>\n",
      "Exception occurred: list index out of range\n",
      "<selenium.webdriver.remote.webelement.WebElement (session=\"eba6cf31143ff9ad74baf0328a6116ed\", element=\"50a8cbb1-4133-4050-9634-182105164f73\")>\n",
      "Exception occurred: list index out of range\n",
      "<selenium.webdriver.remote.webelement.WebElement (session=\"eba6cf31143ff9ad74baf0328a6116ed\", element=\"27a2ad91-c51e-4ceb-89e3-780a68df3d2e\")>\n",
      "Exception occurred: list index out of range\n",
      "<selenium.webdriver.remote.webelement.WebElement (session=\"eba6cf31143ff9ad74baf0328a6116ed\", element=\"d1156a32-7874-4d0c-8b66-2e0712ad8baf\")>\n",
      "Exception occurred: list index out of range\n",
      "<selenium.webdriver.remote.webelement.WebElement (session=\"eba6cf31143ff9ad74baf0328a6116ed\", element=\"aaa5d291-67f2-4cd8-a70e-32f7f5ce0013\")>\n",
      "Exception occurred: list index out of range\n",
      "<selenium.webdriver.remote.webelement.WebElement (session=\"eba6cf31143ff9ad74baf0328a6116ed\", element=\"be04d60e-a688-4b0d-8aa8-433f94e04f68\")>\n",
      "http://portal.yw56.com.cn/bill/index?type=3&mainNo=TC02_2019-07-28_2019-07-27_04_401614_CNY_0&startDate=2019-07-08&endDate=2019-07-14&changeStatus=1&transType=TC02&billAmount=-80.38&rowNum=27\n",
      "<selenium.webdriver.remote.webelement.WebElement (session=\"eba6cf31143ff9ad74baf0328a6116ed\", element=\"a4218beb-ac1e-4a86-a814-1e298f5755f8\")>\n",
      "http://portal.yw56.com.cn/bill/index?type=3&mainNo=TC01_2019-07-28_2019-07-28_04_401614_CNY&startDate=2019-07-08&endDate=2019-07-14&changeStatus=0&transType=TC01&billAmount=3018.52&rowNum=28\n",
      "<selenium.webdriver.remote.webelement.WebElement (session=\"eba6cf31143ff9ad74baf0328a6116ed\", element=\"0eab0f6f-8675-4f29-b4e7-aeeab066765d\")>\n",
      "http://portal.yw56.com.cn/bill/index?type=3&mainNo=TC02_2019-07-27_2019-06-25_04_401614_CNY_0&startDate=2019-07-01&endDate=2019-07-07&changeStatus=1&transType=TC02&billAmount=-128.73&rowNum=29\n",
      "<selenium.webdriver.remote.webelement.WebElement (session=\"eba6cf31143ff9ad74baf0328a6116ed\", element=\"63c4b102-0ddd-4acb-a475-08c13dcd8fba\")>\n",
      "http://portal.yw56.com.cn/bill/index?type=3&mainNo=TC01_2019-07-27_2019-07-27_04_401614_CNY&startDate=2019-07-01&endDate=2019-07-07&changeStatus=0&transType=TC01&billAmount=3156.66&rowNum=30\n",
      "<selenium.webdriver.remote.webelement.WebElement (session=\"eba6cf31143ff9ad74baf0328a6116ed\", element=\"4b965af2-5106-440d-9010-391bf72672b7\")>\n",
      "http://portal.yw56.com.cn/bill/index?type=3&mainNo=TC02_2019-06-26_2019-06-25_04_401614_CNY_0&startDate=2019-06-24&endDate=2019-06-30&changeStatus=1&transType=TC02&billAmount=-92.33&rowNum=31\n",
      "<selenium.webdriver.remote.webelement.WebElement (session=\"eba6cf31143ff9ad74baf0328a6116ed\", element=\"3665d727-cb21-42ed-909f-2b84c7b03e88\")>\n",
      "http://portal.yw56.com.cn/bill/index?type=3&mainNo=TC01_2019-06-26_2019-06-26_04_401614_CNY&startDate=2019-06-24&endDate=2019-06-30&changeStatus=0&transType=TC01&billAmount=4444.97&rowNum=32\n"
     ]
    },
    {
     "name": "stdout",
     "output_type": "stream",
     "text": [
      "<selenium.webdriver.remote.webelement.WebElement (session=\"eba6cf31143ff9ad74baf0328a6116ed\", element=\"bd00f349-d888-4087-8e30-629674fd7529\")>\n",
      "http://portal.yw56.com.cn/bill/index?type=3&mainNo=TC02_2019-06-25_2019-05-21_04_401614_CNY_0&startDate=2019-06-17&endDate=2019-06-23&changeStatus=1&transType=TC02&billAmount=-49.26&rowNum=33\n",
      "<selenium.webdriver.remote.webelement.WebElement (session=\"eba6cf31143ff9ad74baf0328a6116ed\", element=\"a742370a-398a-4b6f-ae98-1b37f10fb2a8\")>\n",
      "http://portal.yw56.com.cn/bill/index?type=3&mainNo=TC01_2019-06-25_2019-06-25_04_401614_CNY&startDate=2019-06-17&endDate=2019-06-23&changeStatus=0&transType=TC01&billAmount=4380.81&rowNum=34\n",
      "<selenium.webdriver.remote.webelement.WebElement (session=\"eba6cf31143ff9ad74baf0328a6116ed\", element=\"7f3479ff-4c0f-4bb1-8b66-ed21a8747e3d\")>\n",
      "Exception occurred: list index out of range\n",
      "<selenium.webdriver.remote.webelement.WebElement (session=\"eba6cf31143ff9ad74baf0328a6116ed\", element=\"e435da20-5174-48b7-8d23-be958dfb15ef\")>\n",
      "Exception occurred: list index out of range\n",
      "<selenium.webdriver.remote.webelement.WebElement (session=\"eba6cf31143ff9ad74baf0328a6116ed\", element=\"3d7201f0-66f1-433c-8f0d-9f5297af9fdd\")>\n",
      "http://portal.yw56.com.cn/bill/index?type=3&mainNo=TC02_2019-06-24_2019-05-22_04_401614_CNY_0&startDate=2019-06-10&endDate=2019-06-16&changeStatus=1&transType=TC02&billAmount=-194.72&rowNum=37\n",
      "<selenium.webdriver.remote.webelement.WebElement (session=\"eba6cf31143ff9ad74baf0328a6116ed\", element=\"8c835004-1b8f-499a-8565-af0ae39b4858\")>\n",
      "http://portal.yw56.com.cn/bill/index?type=3&mainNo=TC02_2019-06-24_2019-05-21_04_401614_CNY_0&startDate=2019-06-10&endDate=2019-06-16&changeStatus=1&transType=TC02&billAmount=-199.66&rowNum=38\n",
      "<selenium.webdriver.remote.webelement.WebElement (session=\"eba6cf31143ff9ad74baf0328a6116ed\", element=\"8a335f31-cf92-42ba-87af-255d03086dd3\")>\n",
      "http://portal.yw56.com.cn/bill/index?type=3&mainNo=TC02_2019-06-24_2019-05-20_04_401614_CNY_0&startDate=2019-06-10&endDate=2019-06-16&changeStatus=1&transType=TC02&billAmount=-80.03&rowNum=39\n",
      "<selenium.webdriver.remote.webelement.WebElement (session=\"eba6cf31143ff9ad74baf0328a6116ed\", element=\"7d75dc02-4f8e-424d-a64a-dd120f063ff0\")>\n",
      "http://portal.yw56.com.cn/bill/index?type=3&mainNo=TC01_2019-06-24_2019-06-24_04_401614_CNY&startDate=2019-06-10&endDate=2019-06-16&changeStatus=0&transType=TC01&billAmount=3375.49&rowNum=40\n",
      "Exception occurred: list index out of range\n",
      "Exception occurred: list index out of range\n",
      "Exception occurred: list index out of range\n",
      "Exception occurred: list index out of range\n",
      "Exception occurred: list index out of range\n",
      "Exception occurred: list index out of range\n",
      "Exception occurred: list index out of range\n",
      "Exception occurred: list index out of range\n",
      "Exception occurred: list index out of range\n",
      "Exception occurred: list index out of range\n"
     ]
    }
   ],
   "source": [
    "for i in range(row_count):\n",
    "    # 点击我的历史账单\n",
    "    browser.get('http://portal.yw56.com.cn/bill/index?type=1')\n",
    "    # 选择‘账单’\n",
    "    # https://stackoverflow.com/questions/7867537/selenium-python-drop-down-menu-option-value\n",
    "    browser.find_element_by_xpath(\"//select[@name='transType']/option[text()='账单']\").click()\n",
    "    # 日期选择器\n",
    "    today_date = dt.datetime.today()\n",
    "    ninety_days_ago = today_date - timedelta(days=90)\n",
    "    ninety_days_ago_str_format = ninety_days_ago.strftime('%Y-%m-%d')\n",
    "    # ninety_days_ago_str_format\n",
    "    # 设置日期\n",
    "    start_date = find_elements_by_css_selector('form-control', 0)\n",
    "    start_date.clear()\n",
    "    start_date.send_keys(ninety_days_ago_str_format)\n",
    "    # 点击查询\n",
    "    search_bill = find_elements_by_css_selector(\"btn\", 0)\n",
    "    search_bill.click()\n",
    "    time.sleep(10)\n",
    "    # 设置条目数\n",
    "    num_of_rows = find_elements_by_css_selector('btn-group dropup', 0)\n",
    "    num_of_rows.click()\n",
    "    # 点击最大条目数\n",
    "    # https://stackoverflow.com/questions/34583524/python-selenium-click-on-all-li-in-ul\n",
    "    # https://stackoverflow.com/questions/18026766/selenium-select-element-with-multiple-attributes\n",
    "    num_of_max_rows = browser.find_elements_by_xpath(\"//ul[@class = 'dropdown-menu'][@role = 'menu']//li[not(@class)]\")\n",
    "    # num_of_max_rows[-1].text\n",
    "    num_of_max_rows[-1].click()\n",
    "    time.sleep(5)\n",
    "    # 点击每条账单\n",
    "    bill_id = i\n",
    "    try:\n",
    "        bill_location = browser.find_elements_by_xpath(\"//table[@id='table']/tbody/tr[@data-index='\" + str(bill_id) + \"']/td\")[5]\n",
    "        print(bill_location)\n",
    "        bill_html = \"http://portal.yw56.com.cn\" + bill_location.get_attribute('innerHTML').split('\"')[1].replace('amp;','')\n",
    "        print(bill_html)\n",
    "        browser.get(bill_html)\n",
    "        # 点击下载\n",
    "        bill_download = find_elements_by_css_selector(\"btn\", 1)\n",
    "        bill_download.click()\n",
    "        time.sleep(5)\n",
    "    except Exception as err:\n",
    "        print('Exception occurred: ' + str(err))"
   ]
  }
 ],
 "metadata": {
  "anaconda-cloud": {},
  "kernelspec": {
   "display_name": "Python [default]",
   "language": "python",
   "name": "python3"
  },
  "language_info": {
   "codemirror_mode": {
    "name": "ipython",
    "version": 3
   },
   "file_extension": ".py",
   "mimetype": "text/x-python",
   "name": "python",
   "nbconvert_exporter": "python",
   "pygments_lexer": "ipython3",
   "version": "3.5.2"
  }
 },
 "nbformat": 4,
 "nbformat_minor": 1
}
