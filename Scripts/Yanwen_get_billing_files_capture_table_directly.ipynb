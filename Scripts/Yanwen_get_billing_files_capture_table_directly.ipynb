{
 "cells": [
  {
   "cell_type": "code",
   "execution_count": 31,
   "metadata": {
    "collapsed": true
   },
   "outputs": [],
   "source": [
    "from selenium import webdriver\n",
    "from selenium.webdriver.common.keys import Keys\n",
    "import pandas as pd\n",
    "import time\n",
    "import os\n",
    "import zipfile\n",
    "import shutil"
   ]
  },
  {
   "cell_type": "code",
   "execution_count": 32,
   "metadata": {
    "collapsed": true
   },
   "outputs": [],
   "source": [
    "# 屏幕最大化，且指定下载目录\n",
    "options = webdriver.ChromeOptions()\n",
    "options.add_argument(\"--start-maximized\")\n",
    "\n",
    "prefs = {\"profile.default_content_settings.popups\": 0,\n",
    "         \"download.default_directory\": r\"D:\\Program Files (x86)\\百度云同步盘\\Dropbox\\-E·J- 2014.5.1\\2016.12.15 店小秘数据分析\\2017.10.24 各渠道运费明细\\燕文\\\\\", # IMPORTANT - ENDING SLASH V IMPORTANT\n",
    "         \"directory_upgrade\": True}\n",
    "options.add_experimental_option(\"prefs\", prefs)"
   ]
  },
  {
   "cell_type": "code",
   "execution_count": 33,
   "metadata": {
    "collapsed": true
   },
   "outputs": [],
   "source": [
    "# 使用chromedriver才可以用开发者权限\n",
    "chrome_driver_path = \".//chrome_driver//chromedriver.exe\"\n",
    "browser = webdriver.Chrome(chrome_driver_path, chrome_options=options)"
   ]
  },
  {
   "cell_type": "code",
   "execution_count": 34,
   "metadata": {
    "collapsed": true
   },
   "outputs": [],
   "source": [
    "browser.get('http://portal.yw56.com.cn/login')"
   ]
  },
  {
   "cell_type": "code",
   "execution_count": 35,
   "metadata": {
    "collapsed": true
   },
   "outputs": [],
   "source": [
    "yw_account = 401614\n",
    "yw_psw = 401614"
   ]
  },
  {
   "cell_type": "code",
   "execution_count": 36,
   "metadata": {
    "collapsed": true
   },
   "outputs": [],
   "source": [
    "def find_elements_by_css_selector(class_name, order_num):\n",
    "    class_name = class_name.replace(\" \", \".\")\n",
    "    class_name = '.' + class_name\n",
    "    return browser.find_elements_by_css_selector(class_name)[order_num]"
   ]
  },
  {
   "cell_type": "code",
   "execution_count": 37,
   "metadata": {
    "collapsed": true
   },
   "outputs": [],
   "source": [
    "time.sleep(5)\n",
    "yw_account_input = find_elements_by_css_selector('ant-input ant-input-lg', 0)\n",
    "yw_psw_input = find_elements_by_css_selector('ant-input ant-input-lg', 1)"
   ]
  },
  {
   "cell_type": "code",
   "execution_count": 38,
   "metadata": {
    "collapsed": true
   },
   "outputs": [],
   "source": [
    "# 输入账户密码登录\n",
    "yw_account_input.click()\n",
    "yw_account_input.send_keys(yw_account)\n",
    "yw_psw_input.click()\n",
    "yw_psw_input.send_keys(yw_psw)\n",
    "time.sleep(10)"
   ]
  },
  {
   "cell_type": "code",
   "execution_count": 39,
   "metadata": {
    "collapsed": true
   },
   "outputs": [],
   "source": [
    "# 登录\n",
    "login_button = find_elements_by_css_selector(\"ant-btn antd-pro-components-login-index-submit ant-btn-primary ant-btn-lg\", 0)\n",
    "login_button.click()\n",
    "time.sleep(10)"
   ]
  },
  {
   "cell_type": "code",
   "execution_count": 40,
   "metadata": {
    "collapsed": true
   },
   "outputs": [],
   "source": [
    "# 点击我的历史账单\n",
    "browser.get('https://portal.yw56.com.cn/bill/historyBill/401614')"
   ]
  },
  {
   "cell_type": "code",
   "execution_count": 41,
   "metadata": {
    "collapsed": true
   },
   "outputs": [],
   "source": [
    "# 选择‘账单’\n",
    "find_elements_by_css_selector('ant-select ant-select-enabled', 1).click()\n",
    "time.sleep(5)\n",
    "browser.find_element_by_xpath(\"//ul[@class='ant-select-dropdown-menu  ant-select-dropdown-menu-root ant-select-dropdown-menu-vertical']/li[text()='账单']\").click()"
   ]
  },
  {
   "cell_type": "code",
   "execution_count": 42,
   "metadata": {
    "collapsed": true
   },
   "outputs": [],
   "source": [
    "# 选择‘账单’\n",
    "# https://stackoverflow.com/questions/7867537/selenium-python-drop-down-menu-option-value\n",
    "# browser.find_element_by_xpath(\"//select[@name='transType']/option[text()='账单']\").click()"
   ]
  },
  {
   "cell_type": "code",
   "execution_count": 43,
   "metadata": {
    "collapsed": true
   },
   "outputs": [],
   "source": [
    "# 日期选择器\n",
    "import datetime as dt\n",
    "from datetime import timedelta\n",
    "today_date = dt.datetime.today()\n",
    "ninety_days_ago = today_date - timedelta(days=120)\n",
    "ninety_days_ago_str_format = ninety_days_ago.strftime('%Y-%m-%d')\n",
    "today_date_str_format = today_date.strftime('%Y-%m-%d')\n",
    "# ninety_days_ago_str_format"
   ]
  },
  {
   "cell_type": "code",
   "execution_count": 44,
   "metadata": {
    "collapsed": true
   },
   "outputs": [],
   "source": [
    "# 设置日期\n",
    "find_elements_by_css_selector('ant-calendar-picker-input ant-input', 0).click()"
   ]
  },
  {
   "cell_type": "code",
   "execution_count": 45,
   "metadata": {
    "collapsed": true
   },
   "outputs": [],
   "source": [
    "# 选择结束日期\n",
    "find_elements_by_css_selector('ant-calendar-cell ant-calendar-last-day-of-month', -1).click()"
   ]
  },
  {
   "cell_type": "code",
   "execution_count": 46,
   "metadata": {
    "collapsed": true
   },
   "outputs": [],
   "source": [
    "# 翻上一页\n",
    "find_elements_by_css_selector('ant-calendar-prev-month-btn', 0).click()\n",
    "find_elements_by_css_selector('ant-calendar-prev-month-btn', 0).click()"
   ]
  },
  {
   "cell_type": "code",
   "execution_count": 47,
   "metadata": {
    "collapsed": true
   },
   "outputs": [],
   "source": [
    "# 选择起始日期\n",
    "find_elements_by_css_selector('ant-calendar-cell ant-calendar-last-month-cell', 0).click()"
   ]
  },
  {
   "cell_type": "code",
   "execution_count": 48,
   "metadata": {
    "collapsed": true
   },
   "outputs": [],
   "source": [
    "# find_elements_by_css_selector('ant-calendar-picker', 0).click()\n",
    "# start_date = find_elements_by_css_selector('ant-calendar-range-picker-input', 0)\n",
    "# start_date.click()\n",
    "# time.sleep(2)\n",
    "# start_date.clear()\n",
    "# time.sleep(5)\n",
    "# start_date.send_keys(ninety_days_ago_str_format)\n",
    "# start_date.setAttribute(\"value\", ninety_days_ago_str_format)\n",
    "# browser.execute_script(\"arguments[0].setAttribute('value', '\" + ninety_days_ago_str_format + \"')\", start_date);\n",
    "\n",
    "# end_date = find_elements_by_css_selector('ant-calendar-range-picker-input', 1)\n",
    "\n",
    "# browser.execute_script(\"arguments[0].setAttribute('value', '\" + today_date_str_format + \"')\", end_date);"
   ]
  },
  {
   "cell_type": "code",
   "execution_count": 49,
   "metadata": {
    "collapsed": true
   },
   "outputs": [],
   "source": [
    "# 点击查询\n",
    "search_bill = find_elements_by_css_selector(\"ant-btn ant-btn-primary\", 0)\n",
    "search_bill.click()\n",
    "time.sleep(10)"
   ]
  },
  {
   "cell_type": "code",
   "execution_count": 50,
   "metadata": {
    "collapsed": true
   },
   "outputs": [],
   "source": [
    "# # 设置条目数\n",
    "# num_of_rows = find_elements_by_css_selector('btn-group dropup', 0)\n",
    "# num_of_rows.click()\n",
    "\n",
    "# # 点击最大条目数\n",
    "# # https://stackoverflow.com/questions/34583524/python-selenium-click-on-all-li-in-ul\n",
    "# # https://stackoverflow.com/questions/18026766/selenium-select-element-with-multiple-attributes\n",
    "# num_of_max_rows = browser.find_elements_by_xpath(\"//ul[@class = 'dropdown-menu'][@role = 'menu']//li[not(@class)]\")\n",
    "# # num_of_max_rows[-1].text\n",
    "# num_of_max_rows[-1].click()\n",
    "# time.sleep(5)"
   ]
  },
  {
   "cell_type": "code",
   "execution_count": 51,
   "metadata": {
    "collapsed": true
   },
   "outputs": [],
   "source": [
    "# # 查看有多少条记录\n",
    "# # https://stackoverflow.com/questions/14831041/how-to-count-no-of-rows-in-table-from-web-application-using-selenium-python-webd\n",
    "# row_count = len(browser.find_elements_by_xpath(\"//table[@id='table']/tbody/tr\"))\n",
    "# print(row_count)\n",
    "# time.sleep(5)"
   ]
  },
  {
   "cell_type": "code",
   "execution_count": 52,
   "metadata": {
    "collapsed": true
   },
   "outputs": [],
   "source": [
    "# # 点击每条账单\n",
    "# '''\n",
    "# bill_id = 0\n",
    "# bill_location = browser.find_elements_by_xpath(\"//table[@id='table']/tbody/tr[@data-index='\" + str(bill_id) + \"']/td\")[5]\n",
    "# bill_html = \"http://portal.yw56.com.cn\" + bill_location.get_attribute('innerHTML').split('\"')[1].replace('amp;','')\n",
    "# browser.get(bill_html)\n",
    "# '''"
   ]
  },
  {
   "cell_type": "code",
   "execution_count": 53,
   "metadata": {
    "collapsed": true
   },
   "outputs": [],
   "source": [
    "# # 点击下载\n",
    "# '''\n",
    "# bill_download = find_elements_by_css_selector(\"btn\", 1)\n",
    "# bill_download.click()\n",
    "# '''"
   ]
  },
  {
   "cell_type": "code",
   "execution_count": 54,
   "metadata": {
    "collapsed": true
   },
   "outputs": [],
   "source": [
    "# 逐条点击\n",
    "item_in_page = len(browser.find_elements_by_css_selector('.ant-table-row.ant-table-row-level-0'))\n",
    "browser.find_element_by_xpath(\"//tbody[@class='ant-table-tbody']/tr[@data-row-key='0']/td[6]\").click()\n",
    "time.sleep(5)"
   ]
  },
  {
   "cell_type": "code",
   "execution_count": 55,
   "metadata": {},
   "outputs": [
    {
     "data": {
      "text/html": [
       "<div>\n",
       "<table border=\"1\" class=\"dataframe\">\n",
       "  <thead>\n",
       "    <tr style=\"text-align: right;\">\n",
       "      <th></th>\n",
       "      <th>序号</th>\n",
       "      <th>运单号</th>\n",
       "      <th>订单号</th>\n",
       "      <th>账单日期</th>\n",
       "      <th>目的地</th>\n",
       "      <th>交易类型</th>\n",
       "      <th>计费重量(克)</th>\n",
       "      <th>客户号</th>\n",
       "      <th>商户号</th>\n",
       "      <th>商户名称</th>\n",
       "      <th>产品名称</th>\n",
       "      <th>销售员</th>\n",
       "      <th>收款人</th>\n",
       "      <th>账单金额</th>\n",
       "    </tr>\n",
       "  </thead>\n",
       "  <tbody>\n",
       "    <tr>\n",
       "      <th>0</th>\n",
       "      <td>1</td>\n",
       "      <td>CP407467354CN</td>\n",
       "      <td>XMBN055575</td>\n",
       "      <td>2020-04-17</td>\n",
       "      <td>法国</td>\n",
       "      <td>应收退件</td>\n",
       "      <td>4498</td>\n",
       "      <td>401614</td>\n",
       "      <td>401614</td>\n",
       "      <td>广州市握力贸易有限公司</td>\n",
       "      <td>中邮大包(SAL)-上海</td>\n",
       "      <td>蔡毅</td>\n",
       "      <td>邱青琴</td>\n",
       "      <td>-277.57</td>\n",
       "    </tr>\n",
       "    <tr>\n",
       "      <th>1</th>\n",
       "      <td>2</td>\n",
       "      <td>1ZAY85926701692810</td>\n",
       "      <td>XMBN055511</td>\n",
       "      <td>2020-04-16</td>\n",
       "      <td>美国</td>\n",
       "      <td>应收退件</td>\n",
       "      <td>556</td>\n",
       "      <td>401614</td>\n",
       "      <td>401614</td>\n",
       "      <td>广州市握力贸易有限公司</td>\n",
       "      <td>香港UPS快捷</td>\n",
       "      <td>蔡毅</td>\n",
       "      <td>邱青琴</td>\n",
       "      <td>-128.50</td>\n",
       "    </tr>\n",
       "    <tr>\n",
       "      <th>2</th>\n",
       "      <td>3</td>\n",
       "      <td>VR206456235YP</td>\n",
       "      <td>XMBN055576</td>\n",
       "      <td>2020-04-15</td>\n",
       "      <td>乌克兰</td>\n",
       "      <td>应收退件</td>\n",
       "      <td>346</td>\n",
       "      <td>401614</td>\n",
       "      <td>401614</td>\n",
       "      <td>广州市握力贸易有限公司</td>\n",
       "      <td>燕文C优先小包</td>\n",
       "      <td>蔡毅</td>\n",
       "      <td>邱青琴</td>\n",
       "      <td>-40.87</td>\n",
       "    </tr>\n",
       "    <tr>\n",
       "      <th>3</th>\n",
       "      <td>4</td>\n",
       "      <td>VR206456142YP</td>\n",
       "      <td>XMBN055548</td>\n",
       "      <td>2020-04-15</td>\n",
       "      <td>以色列</td>\n",
       "      <td>应收退件</td>\n",
       "      <td>720</td>\n",
       "      <td>401614</td>\n",
       "      <td>401614</td>\n",
       "      <td>广州市握力贸易有限公司</td>\n",
       "      <td>燕文C优先小包</td>\n",
       "      <td>蔡毅</td>\n",
       "      <td>邱青琴</td>\n",
       "      <td>-71.00</td>\n",
       "    </tr>\n",
       "  </tbody>\n",
       "</table>\n",
       "</div>"
      ],
      "text/plain": [
       "   序号                  运单号        订单号         账单日期  目的地  交易类型  计费重量(克)  \\\n",
       "0    1       CP407467354CN  XMBN055575  2020-04-17   法国  应收退件     4498   \n",
       "1    2  1ZAY85926701692810  XMBN055511  2020-04-16   美国  应收退件      556   \n",
       "2    3       VR206456235YP  XMBN055576  2020-04-15  乌克兰  应收退件      346   \n",
       "3    4       VR206456142YP  XMBN055548  2020-04-15  以色列  应收退件      720   \n",
       "\n",
       "      客户号     商户号         商户名称          产品名称 销售员  收款人   账单金额   \n",
       "0  401614  401614  广州市握力贸易有限公司  中邮大包(SAL)-上海  蔡毅  邱青琴 -277.57  \n",
       "1  401614  401614  广州市握力贸易有限公司       香港UPS快捷  蔡毅  邱青琴 -128.50  \n",
       "2  401614  401614  广州市握力贸易有限公司       燕文C优先小包  蔡毅  邱青琴  -40.87  \n",
       "3  401614  401614  广州市握力贸易有限公司       燕文C优先小包  蔡毅  邱青琴  -71.00  "
      ]
     },
     "execution_count": 55,
     "metadata": {},
     "output_type": "execute_result"
    }
   ],
   "source": [
    "# 获取源码,解析出table\n",
    "html = browser.page_source\n",
    "tables = pd.read_html(html)[0]\n",
    "tables"
   ]
  },
  {
   "cell_type": "code",
   "execution_count": 56,
   "metadata": {
    "collapsed": true
   },
   "outputs": [],
   "source": [
    "# 点击下载\n",
    "# find_elements_by_css_selector('ant-btn ant-btn-primary', 1).click()\n",
    "# time.sleep(5)"
   ]
  },
  {
   "cell_type": "code",
   "execution_count": 78,
   "metadata": {
    "scrolled": true
   },
   "outputs": [
    {
     "name": "stdout",
     "output_type": "stream",
     "text": [
      "there are 10 item in this page\n",
      "['序号 ', '运单号', '订单号', '账单日期', '目的地', '交易类型', '计费重量(克)', '客户号', '商户号', '商户名称', '产品名称', '销售员', '收款人', '账单金额']\n",
      "                  运单号         订单号        账单日期  目的地  计费重量(克)          产品名称  \\\n",
      "0       CP407467354CN  XMBN055575  2020-04-17   法国   4498.0  中邮大包(SAL)-上海   \n",
      "1  1ZAY85926701692810  XMBN055511  2020-04-16   美国    556.0       香港UPS快捷   \n",
      "2       VR206456235YP  XMBN055576  2020-04-15  乌克兰    346.0       燕文C优先小包   \n",
      "3       VR206456142YP  XMBN055548  2020-04-15  以色列    720.0       燕文C优先小包   \n",
      "\n",
      "     账单金额  \n",
      "0 -277.57  \n",
      "1 -128.50  \n",
      "2  -40.87  \n",
      "3  -71.00  \n",
      "there are 10 item in this page\n",
      "['序号 ', '运单号', '订单号', '账单日期', '目的地', '交易类型', '计费重量(克)', '客户号', '商户号', '商户名称', '产品名称', '销售员', '收款人', '账单金额']\n",
      "                  运单号         订单号        账单日期  目的地  计费重量(克)          产品名称  \\\n",
      "0       CP407467354CN  XMBN055575  2020-04-17   法国   4498.0  中邮大包(SAL)-上海   \n",
      "1  1ZAY85926701692810  XMBN055511  2020-04-16   美国    556.0       香港UPS快捷   \n",
      "2       VR206456235YP  XMBN055576  2020-04-15  乌克兰    346.0       燕文C优先小包   \n",
      "3       VR206456142YP  XMBN055548  2020-04-15  以色列    720.0       燕文C优先小包   \n",
      "0  1ZAY85926701666518  XMBN055105  2020-04-06   美国   3582.0       香港UPS快捷   \n",
      "\n",
      "     账单金额  \n",
      "0 -277.57  \n",
      "1 -128.50  \n",
      "2  -40.87  \n",
      "3  -71.00  \n",
      "0 -213.31  \n",
      "there are 10 item in this page\n",
      "['序号 ', '运单号', '订单号', '账单日期', '目的地', '交易类型', '计费重量(克)', '客户号', '商户号', '商户名称', '产品名称', '销售员', '收款人', '账单金额']\n",
      "                  运单号         订单号        账单日期  目的地  计费重量(克)          产品名称  \\\n",
      "0       CP407467354CN  XMBN055575  2020-04-17   法国   4498.0  中邮大包(SAL)-上海   \n",
      "1  1ZAY85926701692810  XMBN055511  2020-04-16   美国    556.0       香港UPS快捷   \n",
      "2       VR206456235YP  XMBN055576  2020-04-15  乌克兰    346.0       燕文C优先小包   \n",
      "3       VR206456142YP  XMBN055548  2020-04-15  以色列    720.0       燕文C优先小包   \n",
      "0  1ZAY85926701666518  XMBN055105  2020-04-06   美国   3582.0       香港UPS快捷   \n",
      "\n",
      "     账单金额  \n",
      "0 -277.57  \n",
      "1 -128.50  \n",
      "2  -40.87  \n",
      "3  -71.00  \n",
      "0 -213.31  \n",
      "there are 10 item in this page\n",
      "['运单号', '订单号', '转单号', '参考号', '账单日期', '目的地', '计费重量(克)', '产品名称', '所属区域', '资费(元)', '折后资费(元)', '干线调拨费(元)', '附加费(元)', '账单金额']\n",
      "                  运单号         订单号        账单日期  目的地  计费重量(克)          产品名称  \\\n",
      "0       CP407467354CN  XMBN055575  2020-04-17   法国   4498.0  中邮大包(SAL)-上海   \n",
      "1  1ZAY85926701692810  XMBN055511  2020-04-16   美国    556.0       香港UPS快捷   \n",
      "2       VR206456235YP  XMBN055576  2020-04-15  乌克兰    346.0       燕文C优先小包   \n",
      "3       VR206456142YP  XMBN055548  2020-04-15  以色列    720.0       燕文C优先小包   \n",
      "0  1ZAY85926701666518  XMBN055105  2020-04-06   美国   3582.0       香港UPS快捷   \n",
      "\n",
      "     账单金额  \n",
      "0 -277.57  \n",
      "1 -128.50  \n",
      "2  -40.87  \n",
      "3  -71.00  \n",
      "0 -213.31  \n",
      "there are 10 item in this page\n",
      "['序号 ', '运单号', '订单号', '账单日期', '目的地', '交易类型', '计费重量(克)', '客户号', '商户号', '商户名称', '产品名称', '销售员', '收款人', '账单金额']\n",
      "                  运单号         订单号        账单日期  目的地  计费重量(克)          产品名称  \\\n",
      "0       CP407467354CN  XMBN055575  2020-04-17   法国   4498.0  中邮大包(SAL)-上海   \n",
      "1  1ZAY85926701692810  XMBN055511  2020-04-16   美国    556.0       香港UPS快捷   \n",
      "2       VR206456235YP  XMBN055576  2020-04-15  乌克兰    346.0       燕文C优先小包   \n",
      "3       VR206456142YP  XMBN055548  2020-04-15  以色列    720.0       燕文C优先小包   \n",
      "0  1ZAY85926701666518  XMBN055105  2020-04-06   美国   3582.0       香港UPS快捷   \n",
      "\n",
      "     账单金额  \n",
      "0 -277.57  \n",
      "1 -128.50  \n",
      "2  -40.87  \n",
      "3  -71.00  \n",
      "0 -213.31  \n",
      "there are 10 item in this page\n",
      "['运单号', '订单号', '转单号', '参考号', '账单日期', '目的地', '计费重量(克)', '产品名称', '所属区域', '资费(元)', '折后资费(元)', '干线调拨费(元)', '附加费(元)', '账单金额']\n",
      "                  运单号         订单号        账单日期  目的地  计费重量(克)          产品名称  \\\n",
      "0       CP407467354CN  XMBN055575  2020-04-17   法国   4498.0  中邮大包(SAL)-上海   \n",
      "1  1ZAY85926701692810  XMBN055511  2020-04-16   美国    556.0       香港UPS快捷   \n",
      "2       VR206456235YP  XMBN055576  2020-04-15  乌克兰    346.0       燕文C优先小包   \n",
      "3       VR206456142YP  XMBN055548  2020-04-15  以色列    720.0       燕文C优先小包   \n",
      "0  1ZAY85926701666518  XMBN055105  2020-04-06   美国   3582.0       香港UPS快捷   \n",
      "\n",
      "     账单金额  \n",
      "0 -277.57  \n",
      "1 -128.50  \n",
      "2  -40.87  \n",
      "3  -71.00  \n",
      "0 -213.31  \n",
      "there are 10 item in this page\n",
      "['运单号', '订单号', '转单号', '参考号', '账单日期', '目的地', '计费重量(克)', '产品名称', '所属区域', '资费(元)', '折后资费(元)', '干线调拨费(元)', '附加费(元)', '账单金额']\n",
      "                  运单号         订单号        账单日期  目的地  计费重量(克)          产品名称  \\\n",
      "0       CP407467354CN  XMBN055575  2020-04-17   法国   4498.0  中邮大包(SAL)-上海   \n",
      "1  1ZAY85926701692810  XMBN055511  2020-04-16   美国    556.0       香港UPS快捷   \n",
      "2       VR206456235YP  XMBN055576  2020-04-15  乌克兰    346.0       燕文C优先小包   \n",
      "3       VR206456142YP  XMBN055548  2020-04-15  以色列    720.0       燕文C优先小包   \n",
      "0  1ZAY85926701666518  XMBN055105  2020-04-06   美国   3582.0       香港UPS快捷   \n",
      "\n",
      "     账单金额  \n",
      "0 -277.57  \n",
      "1 -128.50  \n",
      "2  -40.87  \n",
      "3  -71.00  \n",
      "0 -213.31  \n",
      "there are 10 item in this page\n",
      "['序号 ', '运单号', '订单号', '账单日期', '目的地', '交易类型', '计费重量(克)', '客户号', '商户号', '商户名称', '产品名称', '销售员', '收款人', '账单金额']\n",
      "                  运单号         订单号        账单日期  目的地  计费重量(克)          产品名称  \\\n",
      "0       CP407467354CN  XMBN055575  2020-04-17   法国   4498.0  中邮大包(SAL)-上海   \n",
      "1  1ZAY85926701692810  XMBN055511  2020-04-16   美国    556.0       香港UPS快捷   \n",
      "2       VR206456235YP  XMBN055576  2020-04-15  乌克兰    346.0       燕文C优先小包   \n",
      "3       VR206456142YP  XMBN055548  2020-04-15  以色列    720.0       燕文C优先小包   \n",
      "0  1ZAY85926701666518  XMBN055105  2020-04-06   美国   3582.0       香港UPS快捷   \n",
      "\n",
      "     账单金额  \n",
      "0 -277.57  \n",
      "1 -128.50  \n",
      "2  -40.87  \n",
      "3  -71.00  \n",
      "0 -213.31  \n",
      "there are 10 item in this page\n",
      "['记账日期', '交易类型', '账单起始日期', '账单截止日期', '调整标记', '账单金额', '收款金额(元)', '其他金额(元)']\n",
      "Exception occurred: \"['运单号' '订单号' '账单日期' '目的地' '计费重量(克)' '产品名称'] not in index\"\n"
     ]
    }
   ],
   "source": [
    "# 逐个下载\n",
    "columns_to_select = ['运单号', '订单号', '账单日期', '目的地', '计费重量(克)', '产品名称', '账单金额']\n",
    "columns_to_change = {'账单金额(元)': '账单金额', \n",
    "                     '优惠返利(元)': '账单金额',\n",
    "                     '订单号 ': '订单号',\n",
    "                     '账单金额 ': '账单金额',\n",
    "                     '目地的': '目的地'}\n",
    "final_dataframe = pd.DataFrame(columns=columns_to_select)\n",
    "i = 1\n",
    "fanye = 0\n",
    "try:\n",
    "    while i <= item_in_page:\n",
    "        print('there are {} item in this page'.format(item_in_page))\n",
    "        # 回到账单页\n",
    "        browser.get('https://portal.yw56.com.cn/bill/historyBill/401614')\n",
    "        time.sleep(5)\n",
    "        # 选择‘账单’\n",
    "        find_elements_by_css_selector('ant-select ant-select-enabled', 1).click()\n",
    "        time.sleep(5)\n",
    "        browser.find_element_by_xpath(\"//ul[@class='ant-select-dropdown-menu  ant-select-dropdown-menu-root ant-select-dropdown-menu-vertical']/li[text()='账单']\").click()\n",
    "        time.sleep(5)\n",
    "        # 设置日期\n",
    "        find_elements_by_css_selector('ant-calendar-picker-input ant-input', 0).click()\n",
    "        time.sleep(5)\n",
    "        # 选择结束日期\n",
    "        find_elements_by_css_selector('ant-calendar-cell ant-calendar-last-day-of-month', -1).click()    \n",
    "        time.sleep(5)\n",
    "        # 翻上一页\n",
    "        find_elements_by_css_selector('ant-calendar-prev-month-btn', 0).click()\n",
    "        time.sleep(5)\n",
    "        find_elements_by_css_selector('ant-calendar-prev-month-btn', 0).click()\n",
    "        time.sleep(5)\n",
    "        # 选择起始日期\n",
    "        find_elements_by_css_selector('ant-calendar-cell ant-calendar-last-month-cell', 0).click()\n",
    "        time.sleep(5)\n",
    "        # 点击查询\n",
    "        search_bill = find_elements_by_css_selector(\"ant-btn ant-btn-primary\", 0)\n",
    "        search_bill.click()\n",
    "        time.sleep(5)\n",
    "        \n",
    "        # 去到页面底部\n",
    "        body = browser.find_element_by_css_selector('body')\n",
    "        body.send_keys(Keys.END)\n",
    "        time.sleep(5)\n",
    "        body.send_keys(Keys.CONTROL + Keys.HOME)\n",
    "        time.sleep(5)\n",
    "        \n",
    "        # 本页有多少结果\n",
    "        item_in_page = len(browser.find_elements_by_css_selector('.ant-table-row.ant-table-row-level-0'))\n",
    "        \n",
    "        # 观察是否需要翻页\n",
    "        if fanye > 0:\n",
    "            for w in range(fanye):\n",
    "                find_elements_by_css_selector('ant-pagination-next', 0).click()\n",
    "                time.sleep(5)\n",
    "\n",
    "        # 本页有多少结果\n",
    "        item_in_page = len(browser.find_elements_by_css_selector('.ant-table-row.ant-table-row-level-0'))\n",
    "                \n",
    "        # 点击账单金额\n",
    "        browser.find_element_by_xpath(\"//tbody[@class='ant-table-tbody']/tr[@data-row-key='\" + str(i - 1) + \"']/td[6]\").click()\n",
    "        time.sleep(5)\n",
    "\n",
    "        # 复制结果\n",
    "        html = browser.page_source\n",
    "        tables = pd.read_html(html)[0]\n",
    "        # 修改列标题\n",
    "        tables = tables.rename(columns=columns_to_change)\n",
    "        print(tables.columns.values.tolist())\n",
    "        # 只选定某些列\n",
    "        tables = tables[columns_to_select]\n",
    "        # print(tables)\n",
    "        \n",
    "        # 合并\n",
    "        final_dataframe = final_dataframe.append(tables)\n",
    "        # print(final_dataframe)\n",
    "        \n",
    "        bill_fanye = True\n",
    "        \n",
    "        while bill_fanye == True:\n",
    "            if len(browser.find_elements_by_css_selector('.ant-pagination-disabled.ant-pagination-next')) == 0:\n",
    "                # print(len(browser.find_elements_by_css_selector('..ant-pagination-disabled.ant-pagination-next')))\n",
    "                find_elements_by_css_selector('ant-pagination-next', 0).click()\n",
    "                time.sleep(5)\n",
    "                html = browser.page_source\n",
    "                tables = pd.read_html(html)[0]\n",
    "                # 修改列标题\n",
    "                tables = tables.rename(columns=columns_to_change)\n",
    "                # 只选定某些列\n",
    "                tables = tables[columns_to_select]\n",
    "                final_dataframe = final_dataframe.append(tables)\n",
    "                # print(tables.head(5))\n",
    "                # print(final_dataframe)\n",
    "            else:\n",
    "                bill_fanye = False\n",
    "\n",
    "        print(final_dataframe.head(5))\n",
    "        final_dataframe.to_csv('D:\\\\Program Files (x86)\\\\百度云同步盘\\\\Dropbox\\\\-E·J- 2014.5.1\\\\2016.12.15 店小秘数据分析\\\\2017.10.24 各渠道运费明细\\\\燕文\\\\燕文对账单.csv')\n",
    "\n",
    "        # 再点击下一个账单\n",
    "        i = i + 1\n",
    "\n",
    "        # 如果 i > 10，则点击下一页\n",
    "        if i > 10:\n",
    "            # find_elements_by_css_selector('ant-pagination-next', 0).click()\n",
    "            # time.sleep(5)\n",
    "            # item_in_page = len(browser.find_elements_by_css_selector('.ant-table-row.ant-table-row-level-0'))\n",
    "            i = 1\n",
    "            fanye = fanye + 1\n",
    "except Exception as err:\n",
    "    print('Exception occurred: ' + str(err))"
   ]
  },
  {
   "cell_type": "code",
   "execution_count": 58,
   "metadata": {
    "collapsed": true
   },
   "outputs": [],
   "source": [
    "# final_dataframe"
   ]
  },
  {
   "cell_type": "code",
   "execution_count": 59,
   "metadata": {
    "collapsed": true
   },
   "outputs": [],
   "source": [
    "# for i in range(row_count):\n",
    "#     # 点击我的历史账单\n",
    "#     browser.get('http://portal.yw56.com.cn/bill/index?type=1')\n",
    "#     # 选择‘账单’\n",
    "#     # https://stackoverflow.com/questions/7867537/selenium-python-drop-down-menu-option-value\n",
    "#     browser.find_element_by_xpath(\"//select[@name='transType']/option[text()='账单']\").click()\n",
    "#     # 日期选择器\n",
    "#     today_date = dt.datetime.today()\n",
    "#     ninety_days_ago = today_date - timedelta(days=90)\n",
    "#     ninety_days_ago_str_format = ninety_days_ago.strftime('%Y-%m-%d')\n",
    "#     # ninety_days_ago_str_format\n",
    "#     # 设置日期\n",
    "#     start_date = find_elements_by_css_selector('form-control', 0)\n",
    "#     start_date.clear()\n",
    "#     start_date.send_keys(ninety_days_ago_str_format)\n",
    "#     # 点击查询\n",
    "#     search_bill = find_elements_by_css_selector(\"btn\", 0)\n",
    "#     search_bill.click()\n",
    "#     time.sleep(10)\n",
    "#     # 设置条目数\n",
    "#     num_of_rows = find_elements_by_css_selector('btn-group dropup', 0)\n",
    "#     num_of_rows.click()\n",
    "#     # 点击最大条目数\n",
    "#     # https://stackoverflow.com/questions/34583524/python-selenium-click-on-all-li-in-ul\n",
    "#     # https://stackoverflow.com/questions/18026766/selenium-select-element-with-multiple-attributes\n",
    "#     num_of_max_rows = browser.find_elements_by_xpath(\"//ul[@class = 'dropdown-menu'][@role = 'menu']//li[not(@class)]\")\n",
    "#     # num_of_max_rows[-1].text\n",
    "#     num_of_max_rows[-1].click()\n",
    "#     time.sleep(5)\n",
    "#     # 点击每条账单\n",
    "#     bill_id = i\n",
    "#     try:\n",
    "#         bill_location = browser.find_elements_by_xpath(\"//table[@id='table']/tbody/tr[@data-index='\" + str(bill_id) + \"']/td\")[5]\n",
    "#         print(bill_location)\n",
    "#         bill_html = \"http://portal.yw56.com.cn\" + bill_location.get_attribute('innerHTML').split('\"')[1].replace('amp;','')\n",
    "#         print(bill_html)\n",
    "#         browser.get(bill_html)\n",
    "#         # 点击下载\n",
    "#         bill_download = find_elements_by_css_selector(\"btn\", 1)\n",
    "#         bill_download.click()\n",
    "#         time.sleep(5)\n",
    "#     except Exception as err:\n",
    "#         print('Exception occurred: ' + str(err))"
   ]
  }
 ],
 "metadata": {
  "anaconda-cloud": {},
  "kernelspec": {
   "display_name": "Python [default]",
   "language": "python",
   "name": "python3"
  },
  "language_info": {
   "codemirror_mode": {
    "name": "ipython",
    "version": 3
   },
   "file_extension": ".py",
   "mimetype": "text/x-python",
   "name": "python",
   "nbconvert_exporter": "python",
   "pygments_lexer": "ipython3",
   "version": "3.5.2"
  }
 },
 "nbformat": 4,
 "nbformat_minor": 1
}
