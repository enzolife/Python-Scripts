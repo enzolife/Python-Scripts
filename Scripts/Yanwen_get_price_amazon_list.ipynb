{
 "cells": [
  {
   "cell_type": "code",
   "execution_count": 1,
   "metadata": {
    "collapsed": true
   },
   "outputs": [],
   "source": [
    "import pandas as pd\n",
    "import os\n",
    "import logging"
   ]
  },
  {
   "cell_type": "code",
   "execution_count": 2,
   "metadata": {
    "collapsed": true
   },
   "outputs": [],
   "source": [
    "logging.basicConfig(level=logging.INFO, format=' %(asctime)s - %(levelname)s - %(message)s')"
   ]
  },
  {
   "cell_type": "code",
   "execution_count": 3,
   "metadata": {
    "collapsed": true
   },
   "outputs": [],
   "source": [
    "baojiadan_folder = 'D:\\\\Program Files (x86)\\\\百度云同步盘\\\\Dropbox\\\\-E·J- 2014.5.1\\\\2015.9.26 燕文\\\\'"
   ]
  },
  {
   "cell_type": "code",
   "execution_count": 4,
   "metadata": {
    "collapsed": true
   },
   "outputs": [],
   "source": [
    "baojiadan_file_list = list()"
   ]
  },
  {
   "cell_type": "code",
   "execution_count": 5,
   "metadata": {
    "collapsed": true
   },
   "outputs": [],
   "source": [
    "for file_name in os.listdir(baojiadan_folder):\n",
    "    if file_name.startswith('广州燕文亚马逊报价单'):\n",
    "        baojiadan_file_list.append(file_name)"
   ]
  },
  {
   "cell_type": "code",
   "execution_count": 6,
   "metadata": {
    "collapsed": true
   },
   "outputs": [],
   "source": [
    "latest_baojiadan_file_name = baojiadan_file_list[-1]\n",
    "# latest_baojiadan_file_name"
   ]
  },
  {
   "cell_type": "code",
   "execution_count": 7,
   "metadata": {
    "collapsed": true
   },
   "outputs": [],
   "source": [
    "latest_baojiadan_path = os.path.join(baojiadan_folder, latest_baojiadan_file_name)\n",
    "# latest_baojiadan_path"
   ]
  },
  {
   "cell_type": "code",
   "execution_count": 8,
   "metadata": {
    "collapsed": true
   },
   "outputs": [],
   "source": [
    "baojiadan_sheets_dict = pd.read_excel(latest_baojiadan_path, sheetname=None)\n",
    "# type(baojiadan)"
   ]
  },
  {
   "cell_type": "code",
   "execution_count": 9,
   "metadata": {
    "collapsed": true
   },
   "outputs": [],
   "source": [
    "wanted_shipping_service_list = ['亚马逊燕文航空挂号小包-普货',\n",
    "                                '亚马逊燕文航空挂号小包-特货',\n",
    "                                '亚马逊燕邮宝挂号-特货',\n",
    "                                '亚马逊燕文航空易派小包-普货',\n",
    "                                '亚马逊燕文航空易派小包-特货',\n",
    "                                '亚马逊燕文专线追踪小包-普货',\n",
    "                                '亚马逊燕文专线追踪小包-特货'\n",
    "]"
   ]
  },
  {
   "cell_type": "code",
   "execution_count": 10,
   "metadata": {
    "scrolled": true
   },
   "outputs": [
    {
     "name": "stderr",
     "output_type": "stream",
     "text": [
      " 2020-07-01 23:41:45,086 - INFO - 亚马逊燕文航空挂号小包-普货 is ready to export.\n",
      " 2020-07-01 23:41:45,208 - INFO - 亚马逊燕文航空挂号小包-普货 exported.\n",
      " 2020-07-01 23:41:45,209 - INFO - 亚马逊燕文航空挂号小包-特货 is ready to export.\n",
      " 2020-07-01 23:41:45,321 - INFO - 亚马逊燕文航空挂号小包-特货 exported.\n",
      " 2020-07-01 23:41:45,322 - INFO - 亚马逊燕邮宝挂号-特货 is ready to export.\n"
     ]
    },
    {
     "name": "stdout",
     "output_type": "stream",
     "text": [
      "  亚马逊燕文航空挂号小包-普货 Unnamed: 1 Unnamed: 2 Unnamed: 3 Unnamed: 4 Unnamed: 5  \\\n",
      "4             美国        100         25        100         25        100   \n",
      "5            加拿大        130         24        130         24        130   \n",
      "6             英国         58         17         58         17         58   \n",
      "7             法国         80         17         80         17         80   \n",
      "8             德国         70         17         70         17         70   \n",
      "\n",
      "  Unnamed: 6  返回主目录    service_name  \n",
      "4         25    NaN  亚马逊燕文航空挂号小包-普货  \n",
      "5         24    NaN  亚马逊燕文航空挂号小包-普货  \n",
      "6         17    NaN  亚马逊燕文航空挂号小包-普货  \n",
      "7         17    NaN  亚马逊燕文航空挂号小包-普货  \n",
      "8         17    NaN  亚马逊燕文航空挂号小包-普货  \n",
      "  亚马逊燕文航空挂号小包-特货 Unnamed: 1 Unnamed: 2 Unnamed: 3 Unnamed: 4 Unnamed: 5  \\\n",
      "4             美国        107         28        107         28        107   \n",
      "5            加拿大        130         24        130         24        130   \n",
      "6             英国         68         17         68         17         68   \n",
      "7             法国         80         17         80         17         80   \n",
      "8             德国         60         23         60         23         60   \n",
      "\n",
      "  Unnamed: 6  返回主目录    service_name  \n",
      "4         28    NaN  亚马逊燕文航空挂号小包-特货  \n",
      "5         24    NaN  亚马逊燕文航空挂号小包-特货  \n",
      "6         17    NaN  亚马逊燕文航空挂号小包-特货  \n",
      "7         17    NaN  亚马逊燕文航空挂号小包-特货  \n",
      "8         23    NaN  亚马逊燕文航空挂号小包-特货  \n"
     ]
    },
    {
     "name": "stderr",
     "output_type": "stream",
     "text": [
      " 2020-07-01 23:41:45,376 - INFO - 亚马逊燕邮宝挂号-特货 exported.\n",
      " 2020-07-01 23:41:45,377 - INFO - 亚马逊燕文航空易派小包-普货 is ready to export.\n",
      " 2020-07-01 23:41:45,440 - INFO - 亚马逊燕文航空易派小包-普货 exported.\n",
      " 2020-07-01 23:41:45,440 - INFO - 亚马逊燕文航空易派小包-特货 is ready to export.\n",
      " 2020-07-01 23:41:45,497 - INFO - 亚马逊燕文航空易派小包-特货 exported.\n",
      " 2020-07-01 23:41:45,498 - INFO - 亚马逊燕文专线追踪小包-普货 is ready to export.\n",
      " 2020-07-01 23:41:45,523 - INFO - 亚马逊燕文专线追踪小包-普货 exported.\n",
      " 2020-07-01 23:41:45,525 - INFO - 亚马逊燕文专线追踪小包-特货 is ready to export.\n",
      " 2020-07-01 23:41:45,552 - INFO - 亚马逊燕文专线追踪小包-特货 exported.\n"
     ]
    },
    {
     "name": "stdout",
     "output_type": "stream",
     "text": [
      "  亚马逊燕邮宝挂号-特货 Unnamed: 1 Unnamed: 2  返回主目录 service_name\n",
      "4          英国       47.5         30    NaN  亚马逊燕邮宝挂号-特货\n",
      "5          法国       46.5         18    NaN  亚马逊燕邮宝挂号-特货\n",
      "6          德国       47.5         21    NaN  亚马逊燕邮宝挂号-特货\n",
      "7         意大利       43.5         32    NaN  亚马逊燕邮宝挂号-特货\n",
      "8         西班牙       55.5         20    NaN  亚马逊燕邮宝挂号-特货\n",
      "could not convert string to float: '亚马逊燕邮宝挂号-特货'\n",
      "  亚马逊燕文航空易派小包-普货 Unnamed: 1 Unnamed: 2 Unnamed: 3 Unnamed: 4 Unnamed: 5  \\\n",
      "4             美国        100         25        100         25        100   \n",
      "5            加拿大        130         24        130         24        130   \n",
      "6             英国         58         17         58         17         58   \n",
      "7             法国         80         17         80         17         80   \n",
      "8             德国         70         17         70         17         70   \n",
      "\n",
      "  Unnamed: 6  返回主目录    service_name  \n",
      "4         25    NaN  亚马逊燕文航空易派小包-普货  \n",
      "5         24    NaN  亚马逊燕文航空易派小包-普货  \n",
      "6         17    NaN  亚马逊燕文航空易派小包-普货  \n",
      "7         17    NaN  亚马逊燕文航空易派小包-普货  \n",
      "8         17    NaN  亚马逊燕文航空易派小包-普货  \n",
      "  亚马逊燕文航空易派小包-特货 Unnamed: 1 Unnamed: 2  返回主目录    service_name\n",
      "4             美国        107         28    NaN  亚马逊燕文航空易派小包-特货\n",
      "5            加拿大        130         24    NaN  亚马逊燕文航空易派小包-特货\n",
      "6             英国         68         17    NaN  亚马逊燕文航空易派小包-特货\n",
      "7             法国         80         17    NaN  亚马逊燕文航空易派小包-特货\n",
      "8             德国         60         23    NaN  亚马逊燕文航空易派小包-特货\n",
      "could not convert string to float: '亚马逊燕文航空易派小包-特货'\n",
      "  亚马逊燕文专线追踪小包-普货 Unnamed: 1 Unnamed: 2    Unnamed: 3 Unnamed: 4  返回主目录  \\\n",
      "3             美国         95         16  0.001-0.2 KG       0.05    NaN   \n",
      "4             美国         90         15  0.201-0.4 KG       0.05    NaN   \n",
      "5             美国         90         15  0.401-0.7 KG       0.05    NaN   \n",
      "6             美国         85          9  0.701-1.5 KG       0.05    NaN   \n",
      "7             美国         85          9  1.501-2.0 KG       0.05    NaN   \n",
      "\n",
      "     service_name  \n",
      "3  亚马逊燕文专线追踪小包-普货  \n",
      "4  亚马逊燕文专线追踪小包-普货  \n",
      "5  亚马逊燕文专线追踪小包-普货  \n",
      "6  亚马逊燕文专线追踪小包-普货  \n",
      "7  亚马逊燕文专线追踪小包-普货  \n",
      "Could not operate 0.35 with block values can't multiply sequence by non-int of type 'float'\n",
      "could not convert string to float: '亚马逊燕文专线追踪小包-普货'\n",
      "  亚马逊燕文专线追踪小包-特货 Unnamed: 1 Unnamed: 2    Unnamed: 3 Unnamed: 4  返回主目录  \\\n",
      "3             美国        100       16.5  0.001-0.2 KG       0.05    NaN   \n",
      "4             美国         95         16  0.201-0.4 KG       0.05    NaN   \n",
      "5             美国         99         16  0.401-0.7 KG       0.05    NaN   \n",
      "6             美国         90          9  0.701-1.5 KG       0.05    NaN   \n",
      "7             美国         90          9  1.501-2.0 KG       0.05    NaN   \n",
      "\n",
      "     service_name  \n",
      "3  亚马逊燕文专线追踪小包-特货  \n",
      "4  亚马逊燕文专线追踪小包-特货  \n",
      "5  亚马逊燕文专线追踪小包-特货  \n",
      "6  亚马逊燕文专线追踪小包-特货  \n",
      "7  亚马逊燕文专线追踪小包-特货  \n",
      "Could not operate 0.35 with block values can't multiply sequence by non-int of type 'float'\n",
      "could not convert string to float: '亚马逊燕文专线追踪小包-特货'\n"
     ]
    }
   ],
   "source": [
    "export_path = os.path.join(baojiadan_folder, '报价单','燕文（amazon）报价表格.xlsx')\n",
    "writer = pd.ExcelWriter(export_path)\n",
    "\n",
    "pd_to_merge = []\n",
    "\n",
    "for service_name in wanted_shipping_service_list:\n",
    "    if service_name in baojiadan_sheets_dict.keys():\n",
    "        logging.info(service_name + ' is ready to export.')\n",
    "        df = baojiadan_sheets_dict[service_name]\n",
    "        try:\n",
    "            for c in df.columns:\n",
    "                for index, r in enumerate(df[c]):\n",
    "                    if r == '国家':\n",
    "                        country_cell_location = [index, c]\n",
    "#                         print(country_cell_location)\n",
    "                    if r == '价格使用说明:':\n",
    "                        end_location = [index, c]\n",
    "#                         print(country_cell_location)\n",
    "                        break\n",
    "            df = df[country_cell_location[0]+1:end_location[0]]\n",
    "            df = df.dropna(how='all')\n",
    "            df = df[df[country_cell_location[1]].str.len() < 10]\n",
    "            df['service_name'] = service_name\n",
    "            print(df.head(5))\n",
    "            \n",
    "#             tiers = [1, 2, 3]\n",
    "#             for tier in tiers:\n",
    "#                 this_c_name = 'tier_' + str(tier)\n",
    "#                 next_c = tier + 1\n",
    "#                 try:\n",
    "#                     df[this_c_name + '_base'] = df[[tier]]\n",
    "#                     df[this_c_name + '_surcharge'] = df[[next_c]]\n",
    "#                     df[this_c_name + '_total'] = df[[tier]].astype(float) * 0.35 + df[this_c_name + '_surcharge'].astype(float)\n",
    "#                 except Exception as err:\n",
    "#                     print(str(err))\n",
    "            \n",
    "            kg = 0.35\n",
    "            tiers = [1, 2, 3]\n",
    "            for tier in tiers:\n",
    "                this_c_name = 'tier_' + str(tier)\n",
    "                column_num = 2 * tier - 1\n",
    "                try:\n",
    "                    df[this_c_name + '_kg_fee'] = df[[column_num]] * kg\n",
    "                    df[this_c_name + '_kg_fee'] = df[this_c_name + '_kg_fee'].astype(float)\n",
    "                    df[this_c_name + '_surcharge'] = df[[column_num + 1]].astype(float)\n",
    "                    df[this_c_name + '_total'] = df[this_c_name + '_kg_fee'] + df[this_c_name + '_surcharge']\n",
    "                except Exception as err:\n",
    "                    print(str(err))\n",
    "                    \n",
    "#             df_for_merge = df[['service_name', 0, 'tier_1_total']]\n",
    "            \n",
    "#             pd_to_merge.append(df_for_merge)\n",
    "    \n",
    "            df.to_excel(writer, sheet_name=service_name, index=False)\n",
    "            logging.info(service_name + ' exported.')\n",
    "            # df.to_csv(os.path.join(baojiadan_folder, '报价单', key + '.csv'))\n",
    "        except Exception as err:\n",
    "            logging.info(service_name + ' failed to export. ' + str(err))\n",
    "            pass\n",
    "        # df.to_csv(os.path.join(baojiadan_folder, '报价单', key + '.xlsx'))\n",
    "        \n",
    "writer.save()"
   ]
  }
 ],
 "metadata": {
  "anaconda-cloud": {},
  "kernelspec": {
   "display_name": "Python [default]",
   "language": "python",
   "name": "python3"
  },
  "language_info": {
   "codemirror_mode": {
    "name": "ipython",
    "version": 3
   },
   "file_extension": ".py",
   "mimetype": "text/x-python",
   "name": "python",
   "nbconvert_exporter": "python",
   "pygments_lexer": "ipython3",
   "version": "3.5.2"
  }
 },
 "nbformat": 4,
 "nbformat_minor": 1
}
