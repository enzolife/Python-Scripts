{
 "cells": [
  {
   "cell_type": "code",
   "execution_count": 11,
   "metadata": {
    "collapsed": true
   },
   "outputs": [],
   "source": [
    "import pandas as pd\n",
    "import os\n",
    "import logging"
   ]
  },
  {
   "cell_type": "code",
   "execution_count": 12,
   "metadata": {
    "collapsed": true
   },
   "outputs": [],
   "source": [
    "logging.basicConfig(level=logging.INFO, format=' %(asctime)s - %(levelname)s - %(message)s')"
   ]
  },
  {
   "cell_type": "code",
   "execution_count": 13,
   "metadata": {
    "collapsed": true
   },
   "outputs": [],
   "source": [
    "baojiadan_folder = 'D:\\\\Program Files (x86)\\\\百度云同步盘\\\\Dropbox\\\\-E·J- 2014.5.1\\\\2015.9.26 燕文\\\\'"
   ]
  },
  {
   "cell_type": "code",
   "execution_count": 14,
   "metadata": {
    "collapsed": true
   },
   "outputs": [],
   "source": [
    "baojiadan_file_list = list()"
   ]
  },
  {
   "cell_type": "code",
   "execution_count": 15,
   "metadata": {
    "collapsed": true
   },
   "outputs": [],
   "source": [
    "for file_name in os.listdir(baojiadan_folder):\n",
    "    if file_name.startswith('广州燕文报价单'):\n",
    "        baojiadan_file_list.append(file_name)"
   ]
  },
  {
   "cell_type": "code",
   "execution_count": 16,
   "metadata": {
    "collapsed": true
   },
   "outputs": [],
   "source": [
    "latest_baojiadan_file_name = baojiadan_file_list[-1]\n",
    "# latest_baojiadan_file_name"
   ]
  },
  {
   "cell_type": "code",
   "execution_count": 17,
   "metadata": {
    "collapsed": true
   },
   "outputs": [],
   "source": [
    "latest_baojiadan_path = os.path.join(baojiadan_folder, latest_baojiadan_file_name)\n",
    "# latest_baojiadan_path"
   ]
  },
  {
   "cell_type": "code",
   "execution_count": 18,
   "metadata": {
    "collapsed": true
   },
   "outputs": [],
   "source": [
    "baojiadan_sheets_dict = pd.read_excel(latest_baojiadan_path, sheetname=None)\n",
    "# type(baojiadan)"
   ]
  },
  {
   "cell_type": "code",
   "execution_count": 19,
   "metadata": {
    "collapsed": true
   },
   "outputs": [],
   "source": [
    "wanted_shipping_service_list = [\n",
    "    '燕文专线追踪-普货',\n",
    "    '燕文专线追踪-特货',\n",
    "]\n"
   ]
  },
  {
   "cell_type": "code",
   "execution_count": 20,
   "metadata": {
    "scrolled": true
   },
   "outputs": [
    {
     "name": "stderr",
     "output_type": "stream",
     "text": [
      " 2022-05-02 18:08:46,210 - INFO - 燕文专线追踪-普货 is ready to export.\n",
      " 2022-05-02 18:08:46,232 - INFO - max tier for 燕文专线追踪-普货 is 3\n",
      " 2022-05-02 18:08:46,236 - INFO - 燕文专线追踪-普货 exported.\n",
      " 2022-05-02 18:08:46,238 - INFO - 燕文专线追踪-特货 is ready to export.\n",
      " 2022-05-02 18:08:46,261 - INFO - max tier for 燕文专线追踪-特货 is 3\n",
      " 2022-05-02 18:08:46,268 - INFO - 燕文专线追踪-特货 exported.\n",
      " 2022-05-02 18:08:46,269 - INFO - 燕文美国快线-普货 is ready to export.\n",
      " 2022-05-02 18:08:46,277 - INFO - max tier for 燕文美国快线-普货 is 0\n",
      " 2022-05-02 18:08:46,279 - INFO - 燕文美国快线-普货 failed to export. \"['tier_0_kg_fee' 'tier_0_surcharge' 'tier_0_total'] not in index\"\n",
      " 2022-05-02 18:08:46,280 - INFO - 燕文美国快线-特货 is ready to export.\n",
      " 2022-05-02 18:08:46,286 - INFO - max tier for 燕文美国快线-特货 is 0\n",
      " 2022-05-02 18:08:46,288 - INFO - 燕文美国快线-特货 failed to export. \"['tier_0_kg_fee' 'tier_0_surcharge' 'tier_0_total'] not in index\"\n",
      " 2022-05-02 18:08:46,288 - INFO - 燕文英国RM快线-普货 is ready to export.\n",
      " 2022-05-02 18:08:46,359 - INFO - max tier for 燕文英国RM快线-普货 is 0\n",
      " 2022-05-02 18:08:46,361 - INFO - 燕文英国RM快线-普货 failed to export. \"['tier_0_kg_fee' 'tier_0_surcharge' 'tier_0_total'] not in index\"\n",
      " 2022-05-02 18:08:46,361 - INFO - 燕文英国RM快线-特货 is ready to export.\n",
      " 2022-05-02 18:08:46,392 - INFO - max tier for 燕文英国RM快线-特货 is 0\n",
      " 2022-05-02 18:08:46,393 - INFO - 燕文英国RM快线-特货 failed to export. \"['tier_0_kg_fee' 'tier_0_surcharge' 'tier_0_total'] not in index\"\n",
      " 2022-05-02 18:08:46,394 - INFO - 燕文英国YODEL快线-普货 is ready to export.\n",
      " 2022-05-02 18:08:46,426 - INFO - max tier for 燕文英国YODEL快线-普货 is 0\n",
      " 2022-05-02 18:08:46,427 - INFO - 燕文英国YODEL快线-普货 failed to export. \"['tier_0_kg_fee' 'tier_0_surcharge' 'tier_0_total'] not in index\"\n",
      " 2022-05-02 18:08:46,428 - INFO - 燕文专线快递-普货 is ready to export.\n",
      " 2022-05-02 18:08:46,449 - INFO - max tier for 燕文专线快递-普货 is 3\n",
      " 2022-05-02 18:08:46,454 - INFO - 燕文专线快递-普货 exported.\n",
      " 2022-05-02 18:08:46,455 - INFO - 燕文专线快递-特货 is ready to export.\n",
      " 2022-05-02 18:08:46,476 - INFO - max tier for 燕文专线快递-特货 is 3\n",
      " 2022-05-02 18:08:46,482 - INFO - 燕文专线快递-特货 exported.\n"
     ]
    },
    {
     "name": "stdout",
     "output_type": "stream",
     "text": [
      "Could not operate 0.35 with block values can't multiply sequence by non-int of type 'float'\n",
      "Could not operate 0.35 with block values can't multiply sequence by non-int of type 'float'\n",
      "Could not operate 0.35 with block values can't multiply sequence by non-int of type 'float'\n",
      "Could not operate 0.35 with block values can't multiply sequence by non-int of type 'float'\n",
      "Could not operate 0.35 with block values can't multiply sequence by non-int of type 'float'\n"
     ]
    },
    {
     "name": "stderr",
     "output_type": "stream",
     "text": [
      " 2022-05-02 18:08:46,483 - INFO - 燕文专线追踪-普货 is ready to export.\n",
      " 2022-05-02 18:08:46,504 - INFO - max tier for 燕文专线追踪-普货 is 3\n",
      " 2022-05-02 18:08:46,512 - INFO - 燕文专线追踪-普货 exported.\n",
      " 2022-05-02 18:08:46,513 - INFO - 燕文专线追踪-特货 is ready to export.\n",
      " 2022-05-02 18:08:46,534 - INFO - max tier for 燕文专线追踪-特货 is 3\n",
      " 2022-05-02 18:08:46,539 - INFO - 燕文专线追踪-特货 exported.\n",
      " 2022-05-02 18:08:46,540 - INFO - 燕文英国HERMES快线-普货 is ready to export.\n",
      " 2022-05-02 18:08:46,546 - INFO - max tier for 燕文英国HERMES快线-普货 is 0\n",
      " 2022-05-02 18:08:46,548 - INFO - 燕文英国HERMES快线-普货 failed to export. \"['tier_0_kg_fee' 'tier_0_surcharge' 'tier_0_total'] not in index\"\n",
      " 2022-05-02 18:08:46,548 - INFO - 燕文法国快线-普货 is ready to export.\n",
      " 2022-05-02 18:08:46,554 - INFO - max tier for 燕文法国快线-普货 is 0\n",
      " 2022-05-02 18:08:46,555 - INFO - 燕文法国快线-普货 failed to export. \"['tier_0_kg_fee' 'tier_0_surcharge' 'tier_0_total'] not in index\"\n",
      " 2022-05-02 18:08:46,557 - INFO - 燕文德国快线-普货 is ready to export.\n",
      " 2022-05-02 18:08:46,564 - INFO - max tier for 燕文德国快线-普货 is 0\n",
      " 2022-05-02 18:08:46,564 - INFO - 燕文德国快线-普货 failed to export. \"['tier_0_kg_fee' 'tier_0_surcharge' 'tier_0_total'] not in index\"\n",
      " 2022-05-02 18:08:46,565 - INFO - 燕文Aramex快递-普货 is ready to export.\n",
      " 2022-05-02 18:08:46,585 - INFO - max tier for 燕文Aramex快递-普货 is 3\n",
      " 2022-05-02 18:08:46,593 - INFO - 燕文Aramex快递-普货 exported.\n",
      " 2022-05-02 18:08:46,594 - INFO - 燕文专线惠选-普货 is ready to export.\n",
      " 2022-05-02 18:08:46,612 - INFO - max tier for 燕文专线惠选-普货 is 3\n",
      " 2022-05-02 18:08:46,617 - INFO - 燕文专线惠选-普货 exported.\n",
      " 2022-05-02 18:08:46,618 - INFO - 燕文专线特品 is ready to export.\n",
      " 2022-05-02 18:08:46,637 - INFO - max tier for 燕文专线特品 is 3\n",
      " 2022-05-02 18:08:46,641 - INFO - 燕文专线特品 exported.\n",
      " 2022-05-02 18:08:46,642 - INFO - 燕文航空挂号-普货 is ready to export.\n",
      " 2022-05-02 18:08:46,661 - INFO - max tier for 燕文航空挂号-普货 is 3\n",
      " 2022-05-02 18:08:46,666 - INFO - 燕文航空挂号-普货 exported.\n",
      " 2022-05-02 18:08:46,667 - INFO - 燕文航空挂号-特货 is ready to export.\n",
      " 2022-05-02 18:08:46,685 - INFO - max tier for 燕文航空挂号-特货 is 3\n",
      " 2022-05-02 18:08:46,690 - INFO - 燕文航空挂号-特货 exported.\n",
      " 2022-05-02 18:08:46,691 - INFO - 简易挂号小包 is ready to export.\n",
      " 2022-05-02 18:08:46,709 - INFO - max tier for 简易挂号小包 is 3\n",
      " 2022-05-02 18:08:46,713 - INFO - 简易挂号小包 exported.\n",
      " 2022-05-02 18:08:46,714 - INFO - 燕邮宝挂号-特货 is ready to export.\n",
      " 2022-05-02 18:08:46,733 - INFO - max tier for 燕邮宝挂号-特货 is 3\n",
      " 2022-05-02 18:08:46,737 - INFO - 燕邮宝挂号-特货 exported.\n",
      " 2022-05-02 18:08:46,737 - INFO - 中邮华南挂号小包 is ready to export.\n"
     ]
    },
    {
     "name": "stdout",
     "output_type": "stream",
     "text": [
      "Could not operate 0.35 with block values can't multiply sequence by non-int of type 'float'\n",
      "Could not operate 0.35 with block values can't multiply sequence by non-int of type 'float'\n",
      "Could not operate 0.35 with block values can't multiply sequence by non-int of type 'float'\n"
     ]
    },
    {
     "name": "stderr",
     "output_type": "stream",
     "text": [
      " 2022-05-02 18:08:46,772 - INFO - max tier for 中邮华南挂号小包 is 0\n",
      " 2022-05-02 18:08:46,774 - INFO - 中邮华南挂号小包 failed to export. \"['tier_0_kg_fee' 'tier_0_surcharge' 'tier_0_total'] not in index\"\n",
      " 2022-05-02 18:08:46,774 - INFO - 中邮深圳线下E邮宝-特货 is ready to export.\n",
      " 2022-05-02 18:08:46,781 - INFO - max tier for 中邮深圳线下E邮宝-特货 is 0\n",
      " 2022-05-02 18:08:46,782 - INFO - 中邮深圳线下E邮宝-特货 failed to export. \"['tier_1_kg_fee' 'tier_1_surcharge' 'tier_1_total'] not in index\"\n",
      " 2022-05-02 18:08:46,784 - INFO - 中邮华南线下E邮宝-普货 is ready to export.\n",
      " 2022-05-02 18:08:46,789 - INFO - max tier for 中邮华南线下E邮宝-普货 is 0\n",
      " 2022-05-02 18:08:46,790 - INFO - 中邮华南线下E邮宝-普货 failed to export. \"['tier_0_kg_fee' 'tier_0_surcharge' 'tier_0_total'] not in index\"\n",
      " 2022-05-02 18:08:46,792 - INFO - 中邮深圳线下E邮宝-普货 is ready to export.\n",
      " 2022-05-02 18:08:46,798 - INFO - max tier for 中邮深圳线下E邮宝-普货 is 0\n",
      " 2022-05-02 18:08:46,799 - INFO - 中邮深圳线下E邮宝-普货 failed to export. \"['tier_1_kg_fee' 'tier_1_surcharge' 'tier_1_total'] not in index\"\n",
      " 2022-05-02 18:08:46,800 - INFO - 中邮广州线下E邮宝 is ready to export.\n",
      " 2022-05-02 18:08:46,806 - INFO - max tier for 中邮广州线下E邮宝 is 0\n",
      " 2022-05-02 18:08:46,807 - INFO - 中邮广州线下E邮宝 failed to export. \"['tier_0_kg_fee' 'tier_0_surcharge' 'tier_0_total'] not in index\"\n",
      " 2022-05-02 18:08:46,808 - INFO - 中邮深圳挂号小包 is ready to export.\n",
      " 2022-05-02 18:08:46,844 - INFO - max tier for 中邮深圳挂号小包 is 0\n",
      " 2022-05-02 18:08:46,845 - INFO - 中邮深圳挂号小包 failed to export. \"['tier_0_kg_fee' 'tier_0_surcharge' 'tier_0_total'] not in index\"\n",
      " 2022-05-02 18:08:46,846 - INFO - 中邮华南E特快 is ready to export.\n",
      " 2022-05-02 18:08:46,866 - INFO - max tier for 中邮华南E特快 is 3\n",
      " 2022-05-02 18:08:46,870 - INFO - 中邮华南E特快 exported.\n",
      " 2022-05-02 18:08:46,872 - INFO - 中邮上海线下E邮宝 is ready to export.\n",
      " 2022-05-02 18:08:46,879 - INFO - max tier for 中邮上海线下E邮宝 is 0\n",
      " 2022-05-02 18:08:46,881 - INFO - 中邮上海线下E邮宝 failed to export. \"['tier_0_kg_fee' 'tier_0_surcharge' 'tier_0_total'] not in index\"\n",
      " 2022-05-02 18:08:46,882 - INFO - 燕文DE香港挂号小包-特货 is ready to export.\n",
      " 2022-05-02 18:08:46,915 - INFO - max tier for 燕文DE香港挂号小包-特货 is 0\n",
      " 2022-05-02 18:08:46,916 - INFO - 燕文DE香港挂号小包-特货 failed to export. \"['tier_0_kg_fee' 'tier_0_surcharge' 'tier_0_total'] not in index\"\n",
      " 2022-05-02 18:08:46,917 - INFO - 燕文DE香港挂号小包 is ready to export.\n",
      " 2022-05-02 18:08:46,957 - INFO - max tier for 燕文DE香港挂号小包 is 0\n",
      " 2022-05-02 18:08:46,959 - INFO - 燕文DE香港挂号小包 failed to export. \"['tier_0_kg_fee' 'tier_0_surcharge' 'tier_0_total'] not in index\"\n"
     ]
    },
    {
     "name": "stdout",
     "output_type": "stream",
     "text": [
      "Could not operate 0.35 with block values can't multiply sequence by non-int of type 'float'\n",
      "Could not operate 0.35 with block values can't multiply sequence by non-int of type 'float'\n",
      "Could not operate 0.35 with block values can't multiply sequence by non-int of type 'float'\n",
      "Could not operate 0.35 with block values can't multiply sequence by non-int of type 'float'\n",
      "Could not operate 0.35 with block values can't multiply sequence by non-int of type 'float'\n",
      "Could not operate 0.35 with block values can't multiply sequence by non-int of type 'float'\n",
      "Could not operate 0.35 with block values can't multiply sequence by non-int of type 'float'\n",
      "Could not operate 0.35 with block values can't multiply sequence by non-int of type 'float'\n",
      "Could not operate 0.35 with block values can't multiply sequence by non-int of type 'float'\n"
     ]
    }
   ],
   "source": [
    "export_path = os.path.join(baojiadan_folder, '报价单','燕文报价表格.xlsx')\n",
    "writer = pd.ExcelWriter(export_path)\n",
    "\n",
    "pd_to_merge = []\n",
    "\n",
    "for service_name in wanted_shipping_service_list:\n",
    "    if service_name in baojiadan_sheets_dict.keys():\n",
    "        logging.info(service_name + ' is ready to export.')\n",
    "        df = baojiadan_sheets_dict[service_name]\n",
    "        try:\n",
    "            for c in df.columns:\n",
    "                for index, r in enumerate(df[c]):\n",
    "                    if r == '国家':\n",
    "                        country_cell_location = [index, c]\n",
    "#                         print(country_cell_location)\n",
    "                    if r == '价格使用说明:':\n",
    "                        end_location = [index, c]\n",
    "#                         print(country_cell_location)\n",
    "                        break\n",
    "            df = df[country_cell_location[0]+1:end_location[0]]\n",
    "            df = df.dropna(how='all')\n",
    "            df = df[df[country_cell_location[1]].str.len() < 10]\n",
    "            df['service_name'] = service_name\n",
    "#             print(df.head(5))\n",
    "            \n",
    "#             tiers = [1, 2, 3]\n",
    "#             for tier in tiers:\n",
    "#                 this_c_name = 'tier_' + str(tier)\n",
    "#                 next_c = tier + 1\n",
    "#                 try:\n",
    "#                     df[this_c_name + '_base'] = df[[tier]]\n",
    "#                     df[this_c_name + '_surcharge'] = df[[next_c]]\n",
    "#                     df[this_c_name + '_total'] = df[[tier]].astype(float) * 0.35 + df[this_c_name + '_surcharge'].astype(float)\n",
    "#                 except Exception as err:\n",
    "#                     print(str(err))\n",
    "            \n",
    "            kg = 0.35\n",
    "            tiers = [1, 2, 3]\n",
    "            for tier in tiers:\n",
    "                this_c_name = 'tier_' + str(tier)\n",
    "                column_num = 2 * tier - 1\n",
    "                try:\n",
    "                    df[this_c_name + '_kg_fee'] = df[[column_num]] * kg\n",
    "                    df[this_c_name + '_kg_fee'] = df[this_c_name + '_kg_fee'].astype(float)\n",
    "                    df[this_c_name + '_surcharge'] = df[[column_num + 1]].astype(float)\n",
    "                    df[this_c_name + '_total'] = df[this_c_name + '_kg_fee'] + df[this_c_name + '_surcharge']\n",
    "                    max_tier = tier\n",
    "                except Exception as err:\n",
    "                    print(str(err))\n",
    "                    max_tier = tier - 1\n",
    "                    break\n",
    "            logging.info('max tier for ' + service_name + ' is ' + str(max_tier))\n",
    "\n",
    "            # 某几个特殊渠道，要修改max_tier\n",
    "            if service_name in ('燕文C优先小包',\n",
    "                                '中邮深圳线下E邮宝-普货',\n",
    "                                '中邮深圳线下E邮宝-特货',\n",
    "                                '中邮广州E邮宝(线下)',\n",
    "                                '湖南E邮宝',\n",
    "                                '中邮郑州线下E邮宝',\n",
    "                                '中邮新疆E邮宝(线下)',\n",
    "                                '中邮北京中俄陆运E邮宝'):\n",
    "                max_tier = 1\n",
    "            \n",
    "            for_merge_tier_kg_fee = 'tier_' + str(max_tier) + '_kg_fee'\n",
    "            for_merge_tier_surcharge = 'tier_' + str(max_tier) + '_surcharge'\n",
    "            for_merge_tier_total = 'tier_' + str(max_tier) + '_total'\n",
    "            \n",
    "            df_for_merge = df[['service_name', service_name, for_merge_tier_kg_fee, for_merge_tier_surcharge, for_merge_tier_total]]\n",
    "            df_for_merge = df_for_merge.rename(columns={df_for_merge.columns[1]: \"country\",\n",
    "                                                        df_for_merge.columns[2]: \"kg_fee\",\n",
    "                                                        df_for_merge.columns[3]: \"surcharge\", \n",
    "                                                        df_for_merge.columns[4]: \"total\"})\n",
    "            \n",
    "            # 中邮渠道需要乘以折扣\n",
    "            service_discount = 0.93\n",
    "            if service_name in ('中邮深圳挂号小包'):\n",
    "                df_for_merge['total'] = df_for_merge['total'] * service_discount\n",
    "            \n",
    "            pd_to_merge.append(df_for_merge)\n",
    "    \n",
    "            df.to_excel(writer, sheet_name=service_name, index=False)\n",
    "            logging.info(service_name + ' exported.')\n",
    "            # df.to_csv(os.path.join(baojiadan_folder, '报价单', key + '.csv'))\n",
    "        except Exception as err:\n",
    "            logging.info(service_name + ' failed to export. ' + str(err))\n",
    "            pass\n",
    "        # df.to_csv(os.path.join(baojiadan_folder, '报价单', key + '.xlsx'))\n",
    "        \n",
    "writer.save()\n",
    "\n",
    "# 合并计算结果\n",
    "final_merger = pd.concat(pd_to_merge).reset_index()\n",
    "\n",
    "# 检查一个渠道对同一个国家有多少种计算结果\n",
    "final_merger.groupby(['service_name', 'country']).agg({'total': 'count'}).reset_index().to_csv(os.path.join(baojiadan_folder, '报价单', '燕文线下发货渠道国家表.csv'))\n",
    "\n",
    "# 分组排名\n",
    "final_merger['rn'] = final_merger.sort_values(['total'], ascending=[True]).groupby(['country']).cumcount() + 1\n",
    "final_merger = final_merger.sort_values(['country', 'rn'], ascending=[True, True])\n",
    "final_merger = final_merger[final_merger['rn'] <= 3]\n",
    "final_merger.to_csv(os.path.join(baojiadan_folder, '报价单', '燕文线下发货合并表.csv'))\n",
    "\n",
    "final_merger = final_merger[final_merger['rn'] == 1]\n",
    "final_merger.sort_values(['total'], ascending=[True]).to_csv(os.path.join(baojiadan_folder, '报价单', '燕文线下发货合并表（最优解）.csv'))\n",
    "\n",
    "# 重点国家\n",
    "focus_countries = ['法国',\n",
    "                    '西班牙',\n",
    "                    '美国',\n",
    "                    '加拿大',\n",
    "                    '中国',\n",
    "                    '俄罗斯',\n",
    "                    '以色列',\n",
    "                    '比利时',\n",
    "                    '荷兰',\n",
    "                    '英国',\n",
    "                    '约旦',\n",
    "                    '匈牙利',\n",
    "                    '澳大利亚',\n",
    "                    '波兰',\n",
    "                    '沙特阿拉伯',\n",
    "                    '瑞士',\n",
    "                    '德国',\n",
    "                    '爱尔兰',\n",
    "                    '黎巴嫩',\n",
    "                    '格鲁吉亚',\n",
    "                    '日本',\n",
    "                    '马耳他',\n",
    "                    '罗马尼亚',\n",
    "                    '墨西哥',\n",
    "                    '爱沙尼亚',\n",
    "                    '新加坡',\n",
    "                    '希腊',\n",
    "                    '印度',\n",
    "                    '葡萄牙',\n",
    "                    '新西兰',\n",
    "                    '奥地利',\n",
    "                    ]\n",
    "\n",
    "final_merger = final_merger[final_merger['country'].isin(focus_countries)]\n",
    "final_merger.sort_values(['total'], ascending=[True]).to_csv(os.path.join(baojiadan_folder, '报价单', '燕文线下发货合并表（最优解，重点国家）.csv'))"
   ]
  }
 ],
 "metadata": {
  "anaconda-cloud": {},
  "kernelspec": {
   "display_name": "Python [default]",
   "language": "python",
   "name": "python3"
  },
  "language_info": {
   "codemirror_mode": {
    "name": "ipython",
    "version": 3
   },
   "file_extension": ".py",
   "mimetype": "text/x-python",
   "name": "python",
   "nbconvert_exporter": "python",
   "pygments_lexer": "ipython3",
   "version": "3.5.2"
  }
 },
 "nbformat": 4,
 "nbformat_minor": 1
}
