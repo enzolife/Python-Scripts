{
 "cells": [
  {
   "cell_type": "code",
   "execution_count": 11,
   "metadata": {
    "collapsed": true
   },
   "outputs": [],
   "source": [
    "import pandas as pd\n",
    "import os\n",
    "import logging"
   ]
  },
  {
   "cell_type": "code",
   "execution_count": 12,
   "metadata": {
    "collapsed": true
   },
   "outputs": [],
   "source": [
    "logging.basicConfig(level=logging.INFO, format=' %(asctime)s - %(levelname)s - %(message)s')"
   ]
  },
  {
   "cell_type": "code",
   "execution_count": 13,
   "metadata": {
    "collapsed": true
   },
   "outputs": [],
   "source": [
    "baojiadan_folder = 'D:\\\\Program Files (x86)\\\\百度云同步盘\\\\Dropbox\\\\-E·J- 2014.5.1\\\\2015.9.26 燕文\\\\'"
   ]
  },
  {
   "cell_type": "code",
   "execution_count": 14,
   "metadata": {
    "collapsed": true
   },
   "outputs": [],
   "source": [
    "baojiadan_file_list = list()"
   ]
  },
  {
   "cell_type": "code",
   "execution_count": 15,
   "metadata": {
    "collapsed": true
   },
   "outputs": [],
   "source": [
    "for file_name in os.listdir(baojiadan_folder):\n",
    "    if file_name.startswith('广州燕文报价单'):\n",
    "        baojiadan_file_list.append(file_name)"
   ]
  },
  {
   "cell_type": "code",
   "execution_count": 16,
   "metadata": {
    "collapsed": true
   },
   "outputs": [],
   "source": [
    "latest_baojiadan_file_name = baojiadan_file_list[-1]\n",
    "# latest_baojiadan_file_name"
   ]
  },
  {
   "cell_type": "code",
   "execution_count": 17,
   "metadata": {
    "collapsed": true
   },
   "outputs": [],
   "source": [
    "latest_baojiadan_path = os.path.join(baojiadan_folder, latest_baojiadan_file_name)\n",
    "# latest_baojiadan_path"
   ]
  },
  {
   "cell_type": "code",
   "execution_count": 18,
   "metadata": {
    "collapsed": true
   },
   "outputs": [],
   "source": [
    "baojiadan_sheets_dict = pd.read_excel(latest_baojiadan_path, sheetname=None)\n",
    "# type(baojiadan)"
   ]
  },
  {
   "cell_type": "code",
   "execution_count": 19,
   "metadata": {
    "collapsed": true
   },
   "outputs": [],
   "source": [
    "wanted_shipping_service_list = ['燕文航空挂号小包-普货',\n",
    "                                '燕文航空挂号小包-特货',\n",
    "                                '燕文航空易派小包-普货',\n",
    "                                '燕文航空易派小包-特货',\n",
    "                                '燕文专线优先小包',\n",
    "                                '燕文专线追踪小包-普货',\n",
    "                                '燕文专线追踪小包-特货',\n",
    "                                '燕邮宝挂号',\n",
    "                                '燕文英国快线',\n",
    "                                '中英YODEL专线-标准',\n",
    "                                '中英YODEL专线-小包(不含电)',\n",
    "                                '中英YODEL专线-小包(含电)',\n",
    "                                '中邮北京挂号小包',\n",
    "                                '中邮北京线下E邮宝',\n",
    "                                '中邮广州挂号小包',\n",
    "                                '中邮深圳挂号小包',\n",
    "                                '比利时挂号小包（上海）',\n",
    "                                '比利时挂号小包（香港）',\n",
    "                                '德邮香港挂号小包',\n",
    "                                '德邮香港挂号小包-特货',\n",
    "                                '韩国epacket小包-深圳',\n",
    "                                '荷兰邮政e-packet小包-特货',\n",
    "                                '荷兰邮政挂号小包(不含电)',\n",
    "                                '荷兰邮政挂号小包(含电)',\n",
    "                                '荷兰邮政挂号小包(配电)',\n",
    "                                '马来西亚挂号小包-深圳',\n",
    "                                '瑞士邮政挂号小包(不含电)',\n",
    "                                '瑞士邮政挂号小包(含电)',\n",
    "                                '瑞邮派小包',\n",
    "                                '土耳其邮政挂号小包(不含电)',\n",
    "                                '土耳其邮政挂号小包(含电)',\n",
    "                                '香港邮政挂号小包',\n",
    "                                '新加坡邮政挂号小包',\n",
    "                                '燕文C挂号小包',\n",
    "                                '燕文C优先小包']"
   ]
  },
  {
   "cell_type": "code",
   "execution_count": 20,
   "metadata": {
    "scrolled": true
   },
   "outputs": [
    {
     "name": "stderr",
     "output_type": "stream",
     "text": [
      " 2019-08-10 16:54:58,499 - INFO - 燕文航空挂号小包-普货 is ready to export.\n",
      " 2019-08-10 16:54:58,541 - INFO - 燕文航空挂号小包-普货 exported.\n",
      " 2019-08-10 16:54:58,544 - INFO - 燕文航空挂号小包-特货 is ready to export.\n",
      " 2019-08-10 16:54:58,566 - INFO - 燕文航空挂号小包-特货 exported.\n",
      " 2019-08-10 16:54:58,570 - INFO - 燕文航空易派小包-普货 is ready to export.\n",
      " 2019-08-10 16:54:58,592 - INFO - 燕文航空易派小包-普货 exported.\n",
      " 2019-08-10 16:54:58,595 - INFO - 燕文航空易派小包-特货 is ready to export.\n",
      " 2019-08-10 16:54:58,612 - INFO - 燕文航空易派小包-特货 exported.\n",
      " 2019-08-10 16:54:58,618 - INFO - 燕文专线追踪小包-普货 is ready to export.\n",
      " 2019-08-10 16:54:58,640 - INFO - 燕文专线追踪小包-普货 exported.\n",
      " 2019-08-10 16:54:58,647 - INFO - 燕文专线追踪小包-特货 is ready to export.\n",
      " 2019-08-10 16:54:58,663 - INFO - 燕文专线追踪小包-特货 exported.\n",
      " 2019-08-10 16:54:58,668 - INFO - 燕邮宝挂号 is ready to export.\n",
      " 2019-08-10 16:54:58,679 - INFO - 燕邮宝挂号 exported.\n",
      " 2019-08-10 16:54:58,682 - INFO - 燕文英国快线 is ready to export.\n",
      " 2019-08-10 16:54:58,689 - INFO - 燕文英国快线 exported.\n",
      " 2019-08-10 16:54:58,690 - INFO - 中英YODEL专线-小包(不含电) is ready to export.\n",
      " 2019-08-10 16:54:58,697 - INFO - 中英YODEL专线-小包(不含电) exported.\n",
      " 2019-08-10 16:54:58,702 - INFO - 中英YODEL专线-小包(含电) is ready to export.\n",
      " 2019-08-10 16:54:58,710 - INFO - 中英YODEL专线-小包(含电) exported.\n",
      " 2019-08-10 16:54:58,712 - INFO - 中邮北京挂号小包 is ready to export.\n",
      " 2019-08-10 16:54:58,759 - INFO - 中邮北京挂号小包 exported.\n",
      " 2019-08-10 16:54:58,767 - INFO - 中邮北京线下E邮宝 is ready to export.\n",
      " 2019-08-10 16:54:58,778 - INFO - 中邮北京线下E邮宝 exported.\n",
      " 2019-08-10 16:54:58,781 - INFO - 中邮广州挂号小包 is ready to export.\n",
      " 2019-08-10 16:54:58,823 - INFO - 中邮广州挂号小包 exported.\n",
      " 2019-08-10 16:54:58,825 - INFO - 中邮深圳挂号小包 is ready to export.\n",
      " 2019-08-10 16:54:58,868 - INFO - 中邮深圳挂号小包 exported.\n",
      " 2019-08-10 16:54:58,874 - INFO - 德邮香港挂号小包 is ready to export.\n",
      " 2019-08-10 16:54:58,887 - INFO - 德邮香港挂号小包 exported.\n",
      " 2019-08-10 16:54:58,891 - INFO - 德邮香港挂号小包-特货 is ready to export.\n",
      " 2019-08-10 16:54:58,899 - INFO - 德邮香港挂号小包-特货 exported.\n",
      " 2019-08-10 16:54:58,902 - INFO - 韩国epacket小包-深圳 is ready to export.\n",
      " 2019-08-10 16:54:58,909 - INFO - 韩国epacket小包-深圳 exported.\n",
      " 2019-08-10 16:54:58,910 - INFO - 荷兰邮政e-packet小包-特货 is ready to export.\n",
      " 2019-08-10 16:54:58,920 - INFO - 荷兰邮政e-packet小包-特货 exported.\n",
      " 2019-08-10 16:54:58,921 - INFO - 荷兰邮政挂号小包(不含电) is ready to export.\n",
      " 2019-08-10 16:54:58,928 - INFO - 荷兰邮政挂号小包(不含电) exported.\n",
      " 2019-08-10 16:54:58,931 - INFO - 荷兰邮政挂号小包(含电) is ready to export.\n",
      " 2019-08-10 16:54:58,941 - INFO - 荷兰邮政挂号小包(含电) exported.\n",
      " 2019-08-10 16:54:58,944 - INFO - 荷兰邮政挂号小包(配电) is ready to export.\n",
      " 2019-08-10 16:54:58,951 - INFO - 荷兰邮政挂号小包(配电) exported.\n",
      " 2019-08-10 16:54:58,955 - INFO - 马来西亚挂号小包-深圳 is ready to export.\n",
      " 2019-08-10 16:54:58,986 - INFO - 马来西亚挂号小包-深圳 exported.\n",
      " 2019-08-10 16:54:58,992 - INFO - 瑞邮派小包 is ready to export.\n",
      " 2019-08-10 16:54:59,005 - INFO - 瑞邮派小包 exported.\n",
      " 2019-08-10 16:54:59,009 - INFO - 土耳其邮政挂号小包(不含电) is ready to export.\n",
      " 2019-08-10 16:54:59,019 - INFO - 土耳其邮政挂号小包(不含电) exported.\n",
      " 2019-08-10 16:54:59,023 - INFO - 土耳其邮政挂号小包(含电) is ready to export.\n",
      " 2019-08-10 16:54:59,030 - INFO - 土耳其邮政挂号小包(含电) exported.\n",
      " 2019-08-10 16:54:59,032 - INFO - 香港邮政挂号小包 is ready to export.\n",
      " 2019-08-10 16:54:59,042 - INFO - 香港邮政挂号小包 exported.\n",
      " 2019-08-10 16:54:59,045 - INFO - 新加坡邮政挂号小包 is ready to export.\n",
      " 2019-08-10 16:54:59,069 - INFO - 新加坡邮政挂号小包 exported.\n",
      " 2019-08-10 16:54:59,075 - INFO - 燕文C挂号小包 is ready to export.\n",
      " 2019-08-10 16:54:59,113 - INFO - 燕文C挂号小包 exported.\n",
      " 2019-08-10 16:54:59,116 - INFO - 燕文C优先小包 is ready to export.\n",
      " 2019-08-10 16:54:59,133 - INFO - 燕文C优先小包 exported.\n"
     ]
    }
   ],
   "source": [
    "export_path = os.path.join(baojiadan_folder, '报价单','燕文报价表格.xlsx')\n",
    "writer = pd.ExcelWriter(export_path)\n",
    "\n",
    "for service_name in wanted_shipping_service_list:\n",
    "    if service_name in baojiadan_sheets_dict.keys():\n",
    "        logging.info(service_name + ' is ready to export.')\n",
    "        df = baojiadan_sheets_dict[service_name]\n",
    "        try:\n",
    "            for c in df.columns:\n",
    "                for index, r in enumerate(df[c]):\n",
    "                    if r == '国家':\n",
    "                        country_cell_location = [index, c]\n",
    "                        # print(country_cell_location)\n",
    "                        break\n",
    "            df = df[country_cell_location[0]:]\n",
    "            df = df.dropna(how='all')\n",
    "            df = df[df[country_cell_location[1]].str.len() < 10]\n",
    "            \n",
    "            df.to_excel(writer, sheet_name=service_name, index=False)\n",
    "            logging.info(service_name + ' exported.')\n",
    "            # df.to_csv(os.path.join(baojiadan_folder, '报价单', key + '.csv'))\n",
    "        except:\n",
    "            logging.info(service_name + ' failed to export.')\n",
    "            pass\n",
    "        # df.to_csv(os.path.join(baojiadan_folder, '报价单', key + '.xlsx'))\n",
    "        \n",
    "writer.save()"
   ]
  }
 ],
 "metadata": {
  "anaconda-cloud": {},
  "kernelspec": {
   "display_name": "Python [default]",
   "language": "python",
   "name": "python3"
  },
  "language_info": {
   "codemirror_mode": {
    "name": "ipython",
    "version": 3
   },
   "file_extension": ".py",
   "mimetype": "text/x-python",
   "name": "python",
   "nbconvert_exporter": "python",
   "pygments_lexer": "ipython3",
   "version": "3.5.2"
  }
 },
 "nbformat": 4,
 "nbformat_minor": 1
}
