{
 "cells": [
  {
   "cell_type": "code",
   "execution_count": 21,
   "metadata": {
    "collapsed": true
   },
   "outputs": [],
   "source": [
    "import pandas as pd\n",
    "import os\n",
    "import logging"
   ]
  },
  {
   "cell_type": "code",
   "execution_count": 22,
   "metadata": {
    "collapsed": true
   },
   "outputs": [],
   "source": [
    "logging.basicConfig(level=logging.INFO, format=' %(asctime)s - %(levelname)s - %(message)s')"
   ]
  },
  {
   "cell_type": "code",
   "execution_count": 23,
   "metadata": {
    "collapsed": true
   },
   "outputs": [],
   "source": [
    "baojiadan_folder = 'D:\\\\Program Files (x86)\\\\百度云同步盘\\\\Dropbox\\\\-E·J- 2014.5.1\\\\2015.9.26 燕文\\\\'"
   ]
  },
  {
   "cell_type": "code",
   "execution_count": 24,
   "metadata": {
    "collapsed": true
   },
   "outputs": [],
   "source": [
    "baojiadan_file_list = list()"
   ]
  },
  {
   "cell_type": "code",
   "execution_count": 25,
   "metadata": {
    "collapsed": true
   },
   "outputs": [],
   "source": [
    "for file_name in os.listdir(baojiadan_folder):\n",
    "    if file_name.startswith('广州燕文线下报价单'):\n",
    "        baojiadan_file_list.append(file_name)"
   ]
  },
  {
   "cell_type": "code",
   "execution_count": 26,
   "metadata": {
    "collapsed": true
   },
   "outputs": [],
   "source": [
    "latest_baojiadan_file_name = baojiadan_file_list[-1]\n",
    "# latest_baojiadan_file_name"
   ]
  },
  {
   "cell_type": "code",
   "execution_count": 27,
   "metadata": {
    "collapsed": true
   },
   "outputs": [],
   "source": [
    "latest_baojiadan_path = os.path.join(baojiadan_folder, latest_baojiadan_file_name)\n",
    "# latest_baojiadan_path"
   ]
  },
  {
   "cell_type": "code",
   "execution_count": 28,
   "metadata": {
    "collapsed": true
   },
   "outputs": [],
   "source": [
    "baojiadan_sheets_dict = pd.read_excel(latest_baojiadan_path, sheetname=None)\n",
    "# type(baojiadan)"
   ]
  },
  {
   "cell_type": "code",
   "execution_count": 29,
   "metadata": {
    "collapsed": true
   },
   "outputs": [],
   "source": [
    "wanted_shipping_service_list = [\n",
    "                                '燕文航空经济小包(普货)',\n",
    "                                '燕文航空经济小包-特货',\n",
    "                                '燕文专线平邮小包-普货',\n",
    "                                '燕文专线平邮小包-特货',\n",
    "                                '燕邮宝平邮Mini-特货',\n",
    "                                '燕邮宝平邮-普货',\n",
    "                                '燕邮宝平邮-特货',\n",
    "                                '燕文英国快线平邮-普货',\n",
    "                                '燕文英国快线平邮-特货'\n",
    "\n",
    "]"
   ]
  },
  {
   "cell_type": "code",
   "execution_count": 30,
   "metadata": {
    "scrolled": true
   },
   "outputs": [
    {
     "name": "stderr",
     "output_type": "stream",
     "text": [
      " 2020-04-08 00:28:19,016 - INFO - 燕文航空经济小包(普货) is ready to export.\n",
      " 2020-04-08 00:28:19,077 - INFO - max tier for 燕文航空经济小包(普货) is 2\n",
      " 2020-04-08 00:28:19,135 - INFO - 燕文航空经济小包(普货) exported.\n",
      " 2020-04-08 00:28:19,135 - INFO - 燕文航空经济小包-特货 is ready to export.\n",
      " 2020-04-08 00:28:19,179 - INFO - max tier for 燕文航空经济小包-特货 is 2\n",
      " 2020-04-08 00:28:19,225 - INFO - 燕文航空经济小包-特货 exported.\n",
      " 2020-04-08 00:28:19,226 - INFO - 燕文专线平邮小包-普货 is ready to export.\n",
      " 2020-04-08 00:28:19,236 - INFO - max tier for 燕文专线平邮小包-普货 is 1\n",
      " 2020-04-08 00:28:19,248 - INFO - 燕文专线平邮小包-普货 exported.\n",
      " 2020-04-08 00:28:19,249 - INFO - 燕文专线平邮小包-特货 is ready to export.\n",
      " 2020-04-08 00:28:19,259 - INFO - max tier for 燕文专线平邮小包-特货 is 1\n",
      " 2020-04-08 00:28:19,268 - INFO - 燕文专线平邮小包-特货 exported.\n",
      " 2020-04-08 00:28:19,269 - INFO - 燕邮宝平邮Mini-特货 is ready to export.\n",
      " 2020-04-08 00:28:19,321 - INFO - max tier for 燕邮宝平邮Mini-特货 is 1\n"
     ]
    },
    {
     "name": "stdout",
     "output_type": "stream",
     "text": [
      "could not convert string to float: '燕文航空经济小包(普货)'\n",
      "could not convert string to float: '燕文航空经济小包-特货'\n",
      "Could not operate 0.35 with block values can't multiply sequence by non-int of type 'float'\n",
      "Could not operate 0.35 with block values can't multiply sequence by non-int of type 'float'\n",
      "could not convert string to float: '燕邮宝平邮Mini-特货'\n"
     ]
    },
    {
     "name": "stderr",
     "output_type": "stream",
     "text": [
      " 2020-04-08 00:28:19,327 - INFO - 燕邮宝平邮Mini-特货 exported.\n",
      " 2020-04-08 00:28:19,328 - INFO - 燕邮宝平邮-普货 is ready to export.\n",
      " 2020-04-08 00:28:19,338 - INFO - max tier for 燕邮宝平邮-普货 is 1\n",
      " 2020-04-08 00:28:19,349 - INFO - 燕邮宝平邮-普货 exported.\n",
      " 2020-04-08 00:28:19,349 - INFO - 燕邮宝平邮-特货 is ready to export.\n",
      " 2020-04-08 00:28:19,363 - INFO - max tier for 燕邮宝平邮-特货 is 1\n",
      " 2020-04-08 00:28:19,374 - INFO - 燕邮宝平邮-特货 exported.\n",
      " 2020-04-08 00:28:19,375 - INFO - 燕文英国快线平邮-普货 is ready to export.\n",
      " 2020-04-08 00:28:19,425 - INFO - max tier for 燕文英国快线平邮-普货 is 2\n",
      " 2020-04-08 00:28:19,429 - INFO - 燕文英国快线平邮-普货 exported.\n",
      " 2020-04-08 00:28:19,430 - INFO - 燕文英国快线平邮-特货 is ready to export.\n",
      " 2020-04-08 00:28:19,478 - INFO - max tier for 燕文英国快线平邮-特货 is 2\n",
      " 2020-04-08 00:28:19,482 - INFO - 燕文英国快线平邮-特货 exported.\n"
     ]
    },
    {
     "name": "stdout",
     "output_type": "stream",
     "text": [
      "Could not operate 0.35 with block values can't multiply sequence by non-int of type 'float'\n",
      "Could not operate 0.35 with block values can't multiply sequence by non-int of type 'float'\n",
      "could not convert string to float: '燕文英国快线平邮-普货'\n",
      "could not convert string to float: '燕文英国快线平邮-特货'\n"
     ]
    }
   ],
   "source": [
    "export_path = os.path.join(baojiadan_folder, '报价单','燕文报价表格（平邮）.xlsx')\n",
    "writer = pd.ExcelWriter(export_path)\n",
    "\n",
    "pd_to_merge = []\n",
    "\n",
    "for service_name in wanted_shipping_service_list:\n",
    "    if service_name in baojiadan_sheets_dict.keys():\n",
    "        logging.info(service_name + ' is ready to export.')\n",
    "        df = baojiadan_sheets_dict[service_name]\n",
    "        try:\n",
    "            for c in df.columns:\n",
    "                for index, r in enumerate(df[c]):\n",
    "                    if r == '国家':\n",
    "                        country_cell_location = [index, c]\n",
    "#                         print(country_cell_location)\n",
    "                    if r == '价格使用说明:':\n",
    "                        end_location = [index, c]\n",
    "#                         print(country_cell_location)\n",
    "                        break\n",
    "            df = df[country_cell_location[0]+1:end_location[0]]\n",
    "            df = df.dropna(how='all')\n",
    "            df = df[df[country_cell_location[1]].str.len() < 10]\n",
    "            df['service_name'] = service_name\n",
    "#             print(df.head(5))\n",
    "            \n",
    "#             tiers = [1, 2, 3]\n",
    "#             for tier in tiers:\n",
    "#                 this_c_name = 'tier_' + str(tier)\n",
    "#                 next_c = tier + 1\n",
    "#                 try:\n",
    "#                     df[this_c_name + '_base'] = df[[tier]]\n",
    "#                     df[this_c_name + '_surcharge'] = df[[next_c]]\n",
    "#                     df[this_c_name + '_total'] = df[[tier]].astype(float) * 0.35 + df[this_c_name + '_surcharge'].astype(float)\n",
    "#                 except Exception as err:\n",
    "#                     print(str(err))\n",
    "            \n",
    "            kg = 0.35\n",
    "            tiers = [1, 2, 3]\n",
    "            for tier in tiers:\n",
    "                this_c_name = 'tier_' + str(tier)\n",
    "                column_num = 2 * tier - 1\n",
    "                try:\n",
    "                    df[this_c_name + '_kg_fee'] = df[[column_num]] * kg\n",
    "                    df[this_c_name + '_kg_fee'] = df[this_c_name + '_kg_fee'].astype(float)\n",
    "                    df[this_c_name + '_surcharge'] = df[[column_num + 1]].astype(float)\n",
    "                    df[this_c_name + '_total'] = df[this_c_name + '_kg_fee'] + df[this_c_name + '_surcharge']\n",
    "                    max_tier = tier\n",
    "                except Exception as err:\n",
    "                    print(str(err))\n",
    "                    max_tier = tier - 1\n",
    "                    break\n",
    "            logging.info('max tier for ' + service_name + ' is ' + str(max_tier))\n",
    "\n",
    "            # 某几个特殊渠道，要修改max_tier\n",
    "            if service_name in ('燕文C优先小包',\n",
    "                                '中邮深圳线下E邮宝-普货',\n",
    "                                '中邮深圳线下E邮宝-特货',\n",
    "                                '中邮广州E邮宝(线下)',\n",
    "                                '湖南E邮宝',\n",
    "                                '中邮郑州线下E邮宝',\n",
    "                                '中邮新疆E邮宝(线下)',\n",
    "                                '中邮北京中俄陆运E邮宝'):\n",
    "                max_tier = 1\n",
    "            \n",
    "            for_merge_tier_kg_fee = 'tier_' + str(max_tier) + '_kg_fee'\n",
    "            for_merge_tier_surcharge = 'tier_' + str(max_tier) + '_surcharge'\n",
    "            for_merge_tier_total = 'tier_' + str(max_tier) + '_total'\n",
    "            \n",
    "            df_for_merge = df[['service_name', service_name, for_merge_tier_kg_fee, for_merge_tier_surcharge, for_merge_tier_total]]\n",
    "            df_for_merge = df_for_merge.rename(columns={df_for_merge.columns[1]: \"country\",\n",
    "                                                        df_for_merge.columns[2]: \"kg_fee\",\n",
    "                                                        df_for_merge.columns[3]: \"surcharge\", \n",
    "                                                        df_for_merge.columns[4]: \"total\"})\n",
    "            \n",
    "            # 中邮渠道需要乘以折扣\n",
    "            service_discount = 0.93\n",
    "            if service_name in ('中邮深圳挂号小包'):\n",
    "                df_for_merge['total'] = df_for_merge['total'] * service_discount\n",
    "            \n",
    "            pd_to_merge.append(df_for_merge)\n",
    "    \n",
    "            df.to_excel(writer, sheet_name=service_name, index=False)\n",
    "            logging.info(service_name + ' exported.')\n",
    "            # df.to_csv(os.path.join(baojiadan_folder, '报价单', key + '.csv'))\n",
    "        except Exception as err:\n",
    "            logging.info(service_name + ' failed to export. ' + str(err))\n",
    "            pass\n",
    "        # df.to_csv(os.path.join(baojiadan_folder, '报价单', key + '.xlsx'))\n",
    "        \n",
    "writer.save()\n",
    "\n",
    "# 合并计算结果\n",
    "final_merger = pd.concat(pd_to_merge).reset_index()\n",
    "\n",
    "# 检查一个渠道对同一个国家有多少种计算结果\n",
    "final_merger.groupby(['service_name', 'country']).agg({'total': 'count'}).reset_index().to_csv(os.path.join(baojiadan_folder, '报价单', '燕文线下发货渠道国家表（平邮）.csv'))\n",
    "\n",
    "# 分组排名\n",
    "final_merger['rn'] = final_merger.sort_values(['total'], ascending=[True]).groupby(['country']).cumcount() + 1\n",
    "final_merger = final_merger.sort_values(['country', 'rn'], ascending=[True, True])\n",
    "final_merger = final_merger[final_merger['rn'] <= 3]\n",
    "final_merger.to_csv(os.path.join(baojiadan_folder, '报价单', '燕文线下发货合并表（平邮）.csv'))\n",
    "\n",
    "final_merger = final_merger[final_merger['rn'] == 1]\n",
    "final_merger.sort_values(['service_name', 'total'], ascending=[True, True]).to_csv(os.path.join(baojiadan_folder, '报价单', '燕文线下发货合并表（最优解）（平邮）.csv'))"
   ]
  }
 ],
 "metadata": {
  "anaconda-cloud": {},
  "kernelspec": {
   "display_name": "Python [default]",
   "language": "python",
   "name": "python3"
  },
  "language_info": {
   "codemirror_mode": {
    "name": "ipython",
    "version": 3
   },
   "file_extension": ".py",
   "mimetype": "text/x-python",
   "name": "python",
   "nbconvert_exporter": "python",
   "pygments_lexer": "ipython3",
   "version": "3.5.2"
  }
 },
 "nbformat": 4,
 "nbformat_minor": 1
}
