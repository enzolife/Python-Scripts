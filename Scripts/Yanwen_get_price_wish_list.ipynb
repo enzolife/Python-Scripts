{
 "cells": [
  {
   "cell_type": "code",
   "execution_count": 41,
   "metadata": {
    "collapsed": true
   },
   "outputs": [],
   "source": [
    "import pandas as pd\n",
    "import os\n",
    "import logging"
   ]
  },
  {
   "cell_type": "code",
   "execution_count": 42,
   "metadata": {
    "collapsed": true
   },
   "outputs": [],
   "source": [
    "logging.basicConfig(level=logging.INFO, format=' %(asctime)s - %(levelname)s - %(message)s')"
   ]
  },
  {
   "cell_type": "code",
   "execution_count": 43,
   "metadata": {
    "collapsed": true
   },
   "outputs": [],
   "source": [
    "baojiadan_folder = 'D:\\\\Program Files (x86)\\\\百度云同步盘\\\\Dropbox\\\\-E·J- 2014.5.1\\\\2015.9.26 燕文\\\\'"
   ]
  },
  {
   "cell_type": "code",
   "execution_count": 44,
   "metadata": {
    "collapsed": true
   },
   "outputs": [],
   "source": [
    "baojiadan_file_list = list()"
   ]
  },
  {
   "cell_type": "code",
   "execution_count": 45,
   "metadata": {
    "collapsed": true
   },
   "outputs": [],
   "source": [
    "for file_name in os.listdir(baojiadan_folder):\n",
    "    if file_name.startswith('广州燕文WISH报价单'):\n",
    "        baojiadan_file_list.append(file_name)"
   ]
  },
  {
   "cell_type": "code",
   "execution_count": 46,
   "metadata": {
    "collapsed": true
   },
   "outputs": [],
   "source": [
    "latest_baojiadan_file_name = baojiadan_file_list[-1]\n",
    "# latest_baojiadan_file_name"
   ]
  },
  {
   "cell_type": "code",
   "execution_count": 47,
   "metadata": {
    "collapsed": true
   },
   "outputs": [],
   "source": [
    "latest_baojiadan_path = os.path.join(baojiadan_folder, latest_baojiadan_file_name)\n",
    "# latest_baojiadan_path"
   ]
  },
  {
   "cell_type": "code",
   "execution_count": 48,
   "metadata": {
    "collapsed": true
   },
   "outputs": [],
   "source": [
    "baojiadan_sheets_dict = pd.read_excel(latest_baojiadan_path, sheetname=None)\n",
    "# type(baojiadan)"
   ]
  },
  {
   "cell_type": "code",
   "execution_count": 49,
   "metadata": {
    "collapsed": true
   },
   "outputs": [],
   "source": [
    "wanted_shipping_service_list = ['Wish燕文航空经济小包-普货',\n",
    "                                'Wish燕文航空经济小包-特货',\n",
    "                                'Wish燕文专线平邮小包-普货',\n",
    "                                'Wish燕文专线平邮小包-特货',\n",
    "                                'WISH燕文C平邮小包',\n",
    "                                'Wish燕邮宝平邮-特货',\n",
    "                                'Wish燕文航空挂号小包-普货',\n",
    "                                'Wish燕文航空挂号小包-特货',\n",
    "                                'WISH燕文C挂号小包',\n",
    "                                'WISH燕文C优先小包',\n",
    "                                'Wish燕邮宝挂号-特货',\n",
    "                                'Wish燕文航空易派小包-普货',\n",
    "                                'Wish燕文航空易派小包-特货',\n",
    "                                'Wish燕文专线追踪小包-普货',\n",
    "                                'Wish燕文专线追踪小包-特货',\n",
    "                                'WISH燕特快-普货',\n",
    "                                'WISH燕特快-特货'\n",
    "]"
   ]
  },
  {
   "cell_type": "code",
   "execution_count": 50,
   "metadata": {
    "scrolled": true
   },
   "outputs": [
    {
     "name": "stderr",
     "output_type": "stream",
     "text": [
      " 2020-03-19 00:20:04,219 - INFO - Wish燕文航空经济小包-普货 is ready to export.\n",
      " 2020-03-19 00:20:04,396 - INFO - Wish燕文航空经济小包-普货 exported.\n",
      " 2020-03-19 00:20:04,397 - INFO - Wish燕文航空经济小包-特货 is ready to export.\n",
      " 2020-03-19 00:20:04,505 - INFO - Wish燕文航空经济小包-特货 exported.\n",
      " 2020-03-19 00:20:04,506 - INFO - Wish燕文专线平邮小包-普货 is ready to export.\n",
      " 2020-03-19 00:20:04,530 - INFO - Wish燕文专线平邮小包-普货 exported.\n",
      " 2020-03-19 00:20:04,531 - INFO - Wish燕文专线平邮小包-特货 is ready to export.\n"
     ]
    },
    {
     "name": "stdout",
     "output_type": "stream",
     "text": [
      "  Wish燕文航空经济小包-普货 Unnamed: 1 Unnamed: 2 Unnamed: 3 Unnamed: 4  返回主目录\n",
      "4              美国         78        6.5         57        6.3    NaN\n",
      "5             加拿大         80        6.3         58        6.8    NaN\n",
      "6              英国         78        6.3         70          5    NaN\n",
      "7              法国         70        6.5         56        6.8    NaN\n",
      "8              德国         75        6.5         53          7    NaN\n",
      "  Wish燕文航空经济小包-特货 Unnamed: 1 Unnamed: 2 Unnamed: 3 Unnamed: 4  返回主目录\n",
      "4              美国         78        5.8         56        6.5    NaN\n",
      "5             加拿大         80        6.3        128       0.45    NaN\n",
      "6              英国         78        6.5         70        5.5    NaN\n",
      "7              法国         69        6.5         70        5.5    NaN\n",
      "8              德国         74        6.5         52          7    NaN\n",
      "  Wish燕文专线平邮小包-普货 Unnamed: 1 Unnamed: 2      Unnamed: 3 Unnamed: 4  返回主目录\n",
      "3              英国       56.5        8.9  0.001-0.149 KG      0.001    NaN\n",
      "4              英国       85.5          5      0.5-2.0 KG      0.001    NaN\n",
      "5              法国       65.5        8.3    0.001-2.0 KG      0.001    NaN\n",
      "6              德国       62.5        8.5    0.001-2.0 KG      0.001    NaN\n",
      "7             意大利         78        7.5    0.001-2.0 KG      0.001    NaN\n",
      "Could not operate 0.35 with block values can't multiply sequence by non-int of type 'float'\n",
      "  Wish燕文专线平邮小包-特货 Unnamed: 1 Unnamed: 2      Unnamed: 3 Unnamed: 4  返回主目录\n",
      "3              英国         50        8.9  0.001-0.149 KG      0.001    NaN\n",
      "4              英国         80        5.3      0.5-2.0 KG      0.001    NaN\n",
      "5             西班牙         90          4    0.001-2.0 KG      0.001    NaN\n",
      "6            爱沙尼亚         80          8    0.001-2.0 KG      0.001    NaN\n",
      "7             比利时         68        8.5    0.001-2.0 KG      0.001    NaN\n"
     ]
    },
    {
     "name": "stderr",
     "output_type": "stream",
     "text": [
      " 2020-03-19 00:20:04,556 - INFO - Wish燕文专线平邮小包-特货 exported.\n",
      " 2020-03-19 00:20:04,556 - INFO - WISH燕文C平邮小包 is ready to export.\n",
      " 2020-03-19 00:20:04,655 - INFO - WISH燕文C平邮小包 exported.\n",
      " 2020-03-19 00:20:04,656 - INFO - Wish燕邮宝平邮-特货 is ready to export.\n",
      " 2020-03-19 00:20:04,717 - INFO - Wish燕邮宝平邮-特货 exported.\n",
      " 2020-03-19 00:20:04,717 - INFO - Wish燕文航空挂号小包-普货 is ready to export.\n"
     ]
    },
    {
     "name": "stdout",
     "output_type": "stream",
     "text": [
      "Could not operate 0.35 with block values can't multiply sequence by non-int of type 'float'\n",
      "  WISH燕文C平邮小包 Unnamed: 1 Unnamed: 2 Unnamed: 3  返回主目录\n",
      "3          美国       7.68      74.05      53.39    NaN\n",
      "4         加拿大       8.31      76.71      53.56    NaN\n",
      "5          英国       8.33      74.14      52.74    NaN\n",
      "6          法国       8.18       65.8       50.9    NaN\n",
      "7          德国       8.26       70.5      49.38    NaN\n",
      "  Wish燕邮宝平邮-特货 Unnamed: 1 Unnamed: 2 Unnamed: 3 Unnamed: 4  返回主目录\n",
      "4           美国         75        8.5         75        8.5    NaN\n",
      "5           英国         78        6.5         58          7    NaN\n",
      "6           法国         70          7         58          7    NaN\n",
      "7           德国         74        6.5         52          7    NaN\n",
      "8          西班牙         75          5         58          7    NaN\n",
      "  Wish燕文航空挂号小包-普货 Unnamed: 1 Unnamed: 2 Unnamed: 3 Unnamed: 4 Unnamed: 5  \\\n",
      "4              美国         62         14         62         14         62   \n",
      "5             加拿大         65         19         65         19         65   \n",
      "6              英国         38         17         38         17         38   \n",
      "7              法国         60         21         60         21         60   \n",
      "8              德国         60         16         60         16         60   \n",
      "\n",
      "  Unnamed: 6  返回主目录  \n",
      "4         14    NaN  \n",
      "5         19    NaN  \n",
      "6         17    NaN  \n",
      "7         21    NaN  \n",
      "8         16    NaN  \n"
     ]
    },
    {
     "name": "stderr",
     "output_type": "stream",
     "text": [
      " 2020-03-19 00:20:04,864 - INFO - Wish燕文航空挂号小包-普货 exported.\n",
      " 2020-03-19 00:20:04,865 - INFO - Wish燕文航空挂号小包-特货 is ready to export.\n",
      " 2020-03-19 00:20:04,970 - INFO - Wish燕文航空挂号小包-特货 exported.\n",
      " 2020-03-19 00:20:04,971 - INFO - WISH燕文C挂号小包 is ready to export.\n",
      " 2020-03-19 00:20:05,112 - INFO - WISH燕文C挂号小包 exported.\n",
      " 2020-03-19 00:20:05,113 - INFO - WISH燕文C优先小包 is ready to export.\n"
     ]
    },
    {
     "name": "stdout",
     "output_type": "stream",
     "text": [
      "  Wish燕文航空挂号小包-特货 Unnamed: 1 Unnamed: 2  返回主目录\n",
      "4              美国         65       14.5    NaN\n",
      "5             加拿大         65         19    NaN\n",
      "6              英国         48         17    NaN\n",
      "7              法国         68         21    NaN\n",
      "8              德国         65         26    NaN\n",
      "  WISH燕文C挂号小包 Unnamed: 1 Unnamed: 2 Unnamed: 3 Unnamed: 4 Unnamed: 5  \\\n",
      "4          美国       53.9       19.6         53       19.6         52   \n",
      "5         加拿大       57.9         17       57.9         17       57.9   \n",
      "6          英国         51       17.5         51       17.5         50   \n",
      "7          法国         67         13       49.3       15.4       49.3   \n",
      "8          德国       56.9       15.5         51       15.7       48.1   \n",
      "\n",
      "  Unnamed: 6  返回主目录  \n",
      "4       19.6    NaN  \n",
      "5         17    NaN  \n",
      "6       17.5    NaN  \n",
      "7       15.4    NaN  \n",
      "8       16.2    NaN  \n",
      "  WISH燕文C优先小包 Unnamed: 1 Unnamed: 2 Unnamed: 3 Unnamed: 4 Unnamed: 5  返回主目录\n",
      "3          美国       57.9       13.4       0.05      0.001          2    NaN\n",
      "4         加拿大       57.9         17      0.001      0.001          2    NaN\n",
      "5          英国         55         18      0.001      0.001      0.499    NaN\n",
      "6          英国         45         25        0.5        0.5      1.999    NaN\n",
      "7          英国         45         35          2          2          5    NaN\n"
     ]
    },
    {
     "name": "stderr",
     "output_type": "stream",
     "text": [
      " 2020-03-19 00:20:05,151 - INFO - WISH燕文C优先小包 exported.\n",
      " 2020-03-19 00:20:05,152 - INFO - Wish燕邮宝挂号-特货 is ready to export.\n",
      " 2020-03-19 00:20:05,212 - INFO - Wish燕邮宝挂号-特货 exported.\n",
      " 2020-03-19 00:20:05,213 - INFO - Wish燕文航空易派小包-普货 is ready to export.\n",
      " 2020-03-19 00:20:05,234 - INFO - Wish燕文航空易派小包-普货 exported.\n",
      " 2020-03-19 00:20:05,236 - INFO - Wish燕文航空易派小包-特货 is ready to export.\n",
      " 2020-03-19 00:20:05,305 - INFO - Wish燕文航空易派小包-特货 exported.\n",
      " 2020-03-19 00:20:05,305 - INFO - Wish燕文专线追踪小包-普货 is ready to export.\n",
      " 2020-03-19 00:20:05,332 - INFO - Wish燕文专线追踪小包-普货 exported.\n",
      " 2020-03-19 00:20:05,332 - INFO - Wish燕文专线追踪小包-特货 is ready to export.\n",
      " 2020-03-19 00:20:05,354 - INFO - Wish燕文专线追踪小包-特货 exported.\n",
      " 2020-03-19 00:20:05,355 - INFO - WISH燕特快-普货 is ready to export.\n",
      " 2020-03-19 00:20:05,381 - INFO - WISH燕特快-普货 exported.\n",
      " 2020-03-19 00:20:05,382 - INFO - WISH燕特快-特货 is ready to export.\n",
      " 2020-03-19 00:20:05,402 - INFO - WISH燕特快-特货 exported.\n"
     ]
    },
    {
     "name": "stdout",
     "output_type": "stream",
     "text": [
      "  Wish燕邮宝挂号-特货 Unnamed: 1 Unnamed: 2  返回主目录\n",
      "4           美国         65         14    NaN\n",
      "5           英国         48         17    NaN\n",
      "6           法国         65         18    NaN\n",
      "7           德国         60         17    NaN\n",
      "8          意大利         65         23    NaN\n",
      "  Wish燕文航空易派小包-普货 Unnamed: 1 Unnamed: 2    Unnamed: 3 Unnamed: 4  返回主目录\n",
      "3              美国       65.5         14  0.001-2.0 KG       0.05    NaN\n",
      "4             加拿大       62.5         18  0.001-2.0 KG       0.05    NaN\n",
      "5              英国       34.5       16.5  0.001-2.0 KG       0.05    NaN\n",
      "6              法国       52.5         17  0.001-2.0 KG       0.05    NaN\n",
      "7              德国         37         21  0.001-2.0 KG       0.05    NaN\n",
      "  Wish燕文航空易派小包-特货 Unnamed: 1 Unnamed: 2  返回主目录\n",
      "4              美国         63         14    NaN\n",
      "5             加拿大         57         21    NaN\n",
      "6              英国         42       16.5    NaN\n",
      "7              法国         61         17    NaN\n",
      "8              德国         44         21    NaN\n",
      "  Wish燕文专线追踪小包-普货 Unnamed: 1 Unnamed: 2    Unnamed: 3 Unnamed: 4  返回主目录\n",
      "3              美国         85         15  0.001-0.2 KG       0.05    NaN\n",
      "4              美国         84         14  0.201-0.4 KG       0.05    NaN\n",
      "5              美国         84         14  0.401-0.7 KG       0.05    NaN\n",
      "6              美国         84         14  0.701-1.5 KG       0.05    NaN\n",
      "7              美国         82          6  1.501-2.0 KG       0.05    NaN\n",
      "Could not operate 0.35 with block values can't multiply sequence by non-int of type 'float'\n",
      "  Wish燕文专线追踪小包-特货 Unnamed: 1 Unnamed: 2    Unnamed: 3 Unnamed: 4  返回主目录\n",
      "3              美国         86         15  0.001-0.2 KG       0.05    NaN\n",
      "4              美国         85       14.5  0.201-0.4 KG       0.05    NaN\n",
      "5              美国         85       14.5  0.401-0.7 KG       0.05    NaN\n",
      "6              美国         85         14  0.701-1.5 KG       0.05    NaN\n",
      "7              美国         83          6  1.501-2.0 KG       0.05    NaN\n",
      "Could not operate 0.35 with block values can't multiply sequence by non-int of type 'float'\n",
      "  WISH燕特快-普货 Unnamed: 1 Unnamed: 2     Unnamed: 3 Unnamed: 4  返回主目录\n",
      "3         德国       41.5         26  0.001-30.0 KG       0.05    NaN\n",
      "4        意大利       45.5         36  0.001-30.0 KG       0.05    NaN\n",
      "5        西班牙       39.5         27  0.001-30.0 KG       0.05    NaN\n",
      "6        爱尔兰       43.5         33  0.001-30.0 KG       0.05    NaN\n",
      "7       爱沙尼亚       69.5         36  0.001-30.0 KG       0.05    NaN\n",
      "Could not operate 0.35 with block values can't multiply sequence by non-int of type 'float'\n",
      "  WISH燕特快-特货 Unnamed: 1 Unnamed: 2     Unnamed: 3 Unnamed: 4  返回主目录\n",
      "3         德国         50         24   0.001-2.0 KG       0.05    NaN\n",
      "4         德国         49         33  2.001-30.0 KG       0.05    NaN\n",
      "5        俄罗斯         69         68  0.001-30.0 KG      0.001    NaN\n",
      "Could not operate 0.35 with block values can't multiply sequence by non-int of type 'float'\n"
     ]
    }
   ],
   "source": [
    "export_path = os.path.join(baojiadan_folder, '报价单','燕文（wish）报价表格.xlsx')\n",
    "writer = pd.ExcelWriter(export_path)\n",
    "\n",
    "for service_name in wanted_shipping_service_list:\n",
    "    if service_name in baojiadan_sheets_dict.keys():\n",
    "        logging.info(service_name + ' is ready to export.')\n",
    "        df = baojiadan_sheets_dict[service_name]\n",
    "        try:\n",
    "            for c in df.columns:\n",
    "                for index, r in enumerate(df[c]):\n",
    "                    if r == '国家':\n",
    "                        country_cell_location = [index, c]\n",
    "#                         print(country_cell_location)\n",
    "                    if r == '价格使用说明:':\n",
    "                        end_location = [index, c]\n",
    "#                         print(country_cell_location)\n",
    "                        break\n",
    "            df = df[country_cell_location[0]+1:end_location[0]]\n",
    "            df = df.dropna(how='all')\n",
    "            df = df[df[country_cell_location[1]].str.len() < 10]\n",
    "#             df['service_name'] = service_name\n",
    "            print(df.head(5))\n",
    "            \n",
    "#             tiers = [1, 2, 3]\n",
    "#             for tier in tiers:\n",
    "#                 this_c_name = 'tier_' + str(tier)\n",
    "#                 next_c = tier + 1\n",
    "#                 try:\n",
    "#                     df[this_c_name + '_base'] = df[[tier]]\n",
    "#                     df[this_c_name + '_surcharge'] = df[[next_c]]\n",
    "#                     df[this_c_name + '_total'] = df[[tier]].astype(float) * 0.35 + df[this_c_name + '_surcharge'].astype(float)\n",
    "#                 except Exception as err:\n",
    "#                     print(str(err))\n",
    "            \n",
    "            kg = 0.35\n",
    "            tiers = [1, 2, 3]\n",
    "            \n",
    "            if service_name == 'Wish燕文航空易派小包-普货':\n",
    "                tiers = [1]\n",
    "            \n",
    "            for tier in tiers:\n",
    "                this_c_name = 'tier_' + str(tier)\n",
    "                column_num = 2 * tier - 1\n",
    "                try:\n",
    "                    df[this_c_name + '_kg_fee'] = df[[column_num]] * kg\n",
    "                    df[this_c_name + '_kg_fee'] = df[this_c_name + '_kg_fee'].astype(float)\n",
    "                    df[this_c_name + '_surcharge'] = df[[column_num + 1]].astype(float)\n",
    "                    df[this_c_name + '_total'] = df[this_c_name + '_kg_fee'] + df[this_c_name + '_surcharge']\n",
    "                except Exception as err:\n",
    "                    print(str(err))\n",
    "                    \n",
    "#             df_for_merge = df[['service_name', 0, 'tier_1_total']]\n",
    "            \n",
    "#             pd_to_merge.append(df_for_merge)\n",
    "    \n",
    "            df.to_excel(writer, sheet_name=service_name, index=False)\n",
    "            logging.info(service_name + ' exported.')\n",
    "            # df.to_csv(os.path.join(baojiadan_folder, '报价单', key + '.csv'))\n",
    "        except Exception as err:\n",
    "            logging.info(service_name + ' failed to export. ' + str(err))\n",
    "            pass\n",
    "        # df.to_csv(os.path.join(baojiadan_folder, '报价单', key + '.xlsx'))\n",
    "        \n",
    "writer.save()"
   ]
  }
 ],
 "metadata": {
  "anaconda-cloud": {},
  "kernelspec": {
   "display_name": "Python [default]",
   "language": "python",
   "name": "python3"
  },
  "language_info": {
   "codemirror_mode": {
    "name": "ipython",
    "version": 3
   },
   "file_extension": ".py",
   "mimetype": "text/x-python",
   "name": "python",
   "nbconvert_exporter": "python",
   "pygments_lexer": "ipython3",
   "version": "3.5.2"
  }
 },
 "nbformat": 4,
 "nbformat_minor": 1
}
