{
 "cells": [
  {
   "cell_type": "code",
   "execution_count": 1,
   "metadata": {},
   "outputs": [],
   "source": [
    "import pandas as pd\n",
    "import os\n",
    "import logging"
   ]
  },
  {
   "cell_type": "code",
   "execution_count": 2,
   "metadata": {},
   "outputs": [],
   "source": [
    "logging.basicConfig(level=logging.INFO, format=' %(asctime)s - %(levelname)s - %(message)s')"
   ]
  },
  {
   "cell_type": "code",
   "execution_count": 3,
   "metadata": {},
   "outputs": [],
   "source": [
    "baojiadan_folder = 'D:\\\\Program Files (x86)\\\\百度云同步盘\\\\Dropbox\\\\-E·J- 2014.5.1\\\\2015.9.26 燕文\\\\'"
   ]
  },
  {
   "cell_type": "code",
   "execution_count": 4,
   "metadata": {},
   "outputs": [],
   "source": [
    "baojiadan_file_list = list()"
   ]
  },
  {
   "cell_type": "code",
   "execution_count": 5,
   "metadata": {},
   "outputs": [],
   "source": [
    "for file_name in os.listdir(baojiadan_folder):\n",
    "    if file_name.startswith('广州燕文WISH报价单'):\n",
    "        baojiadan_file_list.append(file_name)"
   ]
  },
  {
   "cell_type": "code",
   "execution_count": 6,
   "metadata": {},
   "outputs": [],
   "source": [
    "latest_baojiadan_file_name = baojiadan_file_list[-1]\n",
    "# latest_baojiadan_file_name"
   ]
  },
  {
   "cell_type": "code",
   "execution_count": 7,
   "metadata": {},
   "outputs": [],
   "source": [
    "latest_baojiadan_path = os.path.join(baojiadan_folder, latest_baojiadan_file_name)\n",
    "# latest_baojiadan_path"
   ]
  },
  {
   "cell_type": "code",
   "execution_count": 8,
   "metadata": {},
   "outputs": [
    {
     "name": "stderr",
     "output_type": "stream",
     "text": [
      "C:\\Users\\Enzo.kuang\\Anaconda3\\lib\\site-packages\\pandas\\util\\_decorators.py:118: FutureWarning: The `sheetname` keyword is deprecated, use `sheet_name` instead\n",
      "  return func(*args, **kwargs)\n"
     ]
    }
   ],
   "source": [
    "baojiadan_sheets_dict = pd.read_excel(latest_baojiadan_path, sheetname=None)\n",
    "# type(baojiadan)"
   ]
  },
  {
   "cell_type": "code",
   "execution_count": 9,
   "metadata": {},
   "outputs": [],
   "source": [
    "wanted_shipping_service_list = ['WISH燕文航空挂号小包-普货',\n",
    "                                'WISH燕文航空挂号小包-特货',\n",
    "                                'WISH燕文专线追踪小包-普货',\n",
    "                                'WISH燕文专线追踪小包-特货',\n",
    "                                'WISH燕邮宝挂号-特货',\n",
    "                                'WISH燕文航空易派小包-普货',\n",
    "                                'WISH燕文航空易派小包-特货',\n",
    "                                'WISH燕文C挂号小包',\n",
    "                                'WISH燕文C优先小包'\n",
    "]"
   ]
  },
  {
   "cell_type": "code",
   "execution_count": 10,
   "metadata": {
    "scrolled": true
   },
   "outputs": [
    {
     "name": "stderr",
     "output_type": "stream",
     "text": [
      " 2019-02-25 12:39:29,217 - INFO - WISH燕文航空挂号小包-普货 is ready to export.\n",
      " 2019-02-25 12:39:29,233 - INFO - WISH燕文航空挂号小包-普货 exported.\n",
      " 2019-02-25 12:39:29,234 - INFO - WISH燕文航空挂号小包-特货 is ready to export.\n",
      " 2019-02-25 12:39:29,244 - INFO - WISH燕文航空挂号小包-特货 exported.\n",
      " 2019-02-25 12:39:29,244 - INFO - WISH燕文专线追踪小包-普货 is ready to export.\n",
      " 2019-02-25 12:39:29,248 - INFO - WISH燕文专线追踪小包-普货 exported.\n",
      " 2019-02-25 12:39:29,249 - INFO - WISH燕文专线追踪小包-特货 is ready to export.\n",
      " 2019-02-25 12:39:29,254 - INFO - WISH燕文专线追踪小包-特货 exported.\n",
      " 2019-02-25 12:39:29,255 - INFO - WISH燕邮宝挂号-特货 is ready to export.\n",
      " 2019-02-25 12:39:29,258 - INFO - WISH燕邮宝挂号-特货 exported.\n",
      " 2019-02-25 12:39:29,259 - INFO - WISH燕文航空易派小包-普货 is ready to export.\n",
      " 2019-02-25 12:39:29,264 - INFO - WISH燕文航空易派小包-普货 exported.\n",
      " 2019-02-25 12:39:29,264 - INFO - WISH燕文航空易派小包-特货 is ready to export.\n",
      " 2019-02-25 12:39:29,269 - INFO - WISH燕文航空易派小包-特货 exported.\n",
      " 2019-02-25 12:39:29,269 - INFO - WISH燕文C挂号小包 is ready to export.\n",
      " 2019-02-25 12:39:29,297 - INFO - WISH燕文C挂号小包 exported.\n",
      " 2019-02-25 12:39:29,297 - INFO - WISH燕文C优先小包 is ready to export.\n",
      " 2019-02-25 12:39:29,302 - INFO - WISH燕文C优先小包 exported.\n"
     ]
    }
   ],
   "source": [
    "export_path = os.path.join(baojiadan_folder, '报价单','燕文（wish）报价表格.xlsx')\n",
    "writer = pd.ExcelWriter(export_path)\n",
    "\n",
    "for service_name in wanted_shipping_service_list:\n",
    "    if service_name in baojiadan_sheets_dict.keys():\n",
    "        logging.info(service_name + ' is ready to export.')\n",
    "        df = baojiadan_sheets_dict[service_name]\n",
    "        try:\n",
    "            for c in df.columns:\n",
    "                for index, r in enumerate(df[c]):\n",
    "                    if r == '国家':\n",
    "                        country_cell_location = [index, c]\n",
    "                        # print(country_cell_location)\n",
    "                        break\n",
    "            df = df[country_cell_location[0]:]\n",
    "            df = df.dropna(how='all')\n",
    "            df = df[df[country_cell_location[1]].str.len() < 10]\n",
    "            \n",
    "            df.to_excel(writer, sheet_name=service_name, index=False)\n",
    "            logging.info(service_name + ' exported.')\n",
    "            # df.to_csv(os.path.join(baojiadan_folder, '报价单', key + '.csv'))\n",
    "        except:\n",
    "            logging.info(service_name + ' failed to export.')\n",
    "            pass\n",
    "        # df.to_csv(os.path.join(baojiadan_folder, '报价单', key + '.xlsx'))\n",
    "        \n",
    "writer.save()"
   ]
  }
 ],
 "metadata": {
  "anaconda-cloud": {},
  "kernelspec": {
   "display_name": "Python 3",
   "language": "python",
   "name": "python3"
  },
  "language_info": {
   "codemirror_mode": {
    "name": "ipython",
    "version": 3
   },
   "file_extension": ".py",
   "mimetype": "text/x-python",
   "name": "python",
   "nbconvert_exporter": "python",
   "pygments_lexer": "ipython3",
   "version": "3.5.6"
  }
 },
 "nbformat": 4,
 "nbformat_minor": 1
}
