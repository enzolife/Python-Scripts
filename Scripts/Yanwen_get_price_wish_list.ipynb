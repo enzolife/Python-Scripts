{
 "cells": [
  {
   "cell_type": "code",
   "execution_count": 1,
   "metadata": {
    "collapsed": true
   },
   "outputs": [],
   "source": [
    "import pandas as pd\n",
    "import os\n",
    "import logging"
   ]
  },
  {
   "cell_type": "code",
   "execution_count": 2,
   "metadata": {
    "collapsed": true
   },
   "outputs": [],
   "source": [
    "logging.basicConfig(level=logging.INFO, format=' %(asctime)s - %(levelname)s - %(message)s')"
   ]
  },
  {
   "cell_type": "code",
   "execution_count": 3,
   "metadata": {
    "collapsed": true
   },
   "outputs": [],
   "source": [
    "baojiadan_folder = 'D:\\\\Program Files (x86)\\\\百度云同步盘\\\\Dropbox\\\\-E·J- 2014.5.1\\\\2015.9.26 燕文\\\\'"
   ]
  },
  {
   "cell_type": "code",
   "execution_count": 4,
   "metadata": {
    "collapsed": true
   },
   "outputs": [],
   "source": [
    "baojiadan_file_list = list()"
   ]
  },
  {
   "cell_type": "code",
   "execution_count": 5,
   "metadata": {
    "collapsed": true
   },
   "outputs": [],
   "source": [
    "for file_name in os.listdir(baojiadan_folder):\n",
    "    if file_name.startswith('广州燕文WISH报价单'):\n",
    "        baojiadan_file_list.append(file_name)"
   ]
  },
  {
   "cell_type": "code",
   "execution_count": 6,
   "metadata": {
    "collapsed": true
   },
   "outputs": [],
   "source": [
    "latest_baojiadan_file_name = baojiadan_file_list[-1]\n",
    "# latest_baojiadan_file_name"
   ]
  },
  {
   "cell_type": "code",
   "execution_count": 7,
   "metadata": {
    "collapsed": true
   },
   "outputs": [],
   "source": [
    "latest_baojiadan_path = os.path.join(baojiadan_folder, latest_baojiadan_file_name)\n",
    "# latest_baojiadan_path"
   ]
  },
  {
   "cell_type": "code",
   "execution_count": 8,
   "metadata": {
    "collapsed": true
   },
   "outputs": [],
   "source": [
    "baojiadan_sheets_dict = pd.read_excel(latest_baojiadan_path, sheetname=None)\n",
    "# type(baojiadan)"
   ]
  },
  {
   "cell_type": "code",
   "execution_count": 9,
   "metadata": {
    "collapsed": true
   },
   "outputs": [],
   "source": [
    "wanted_shipping_service_list = ['Wish燕文航空经济小包-普货',\n",
    "                                'Wish燕文航空经济小包-特货',\n",
    "                                'Wish燕文专线平邮小包-普货',\n",
    "                                'Wish燕文专线平邮小包-特货',\n",
    "                                'WISH燕文C平邮小包',\n",
    "                                'Wish燕邮宝平邮-特货',\n",
    "                                'Wish燕文航空挂号小包-普货',\n",
    "                                'Wish燕文航空挂号小包-特货',\n",
    "                                'WISH燕文C挂号小包',\n",
    "                                'WISH燕文C优先小包',\n",
    "                                'Wish燕邮宝挂号-特货',\n",
    "                                'Wish燕文航空易派小包-普货',\n",
    "                                'Wish燕文航空易派小包-特货',\n",
    "                                'Wish燕文专线追踪小包-普货',\n",
    "                                'Wish燕文专线追踪小包-特货',\n",
    "                                'WISH燕特快-普货',\n",
    "                                'WISH燕特快-特货'\n",
    "]"
   ]
  },
  {
   "cell_type": "code",
   "execution_count": 10,
   "metadata": {
    "scrolled": true
   },
   "outputs": [
    {
     "name": "stderr",
     "output_type": "stream",
     "text": [
      " 2020-07-22 00:02:37,579 - INFO - Wish燕文航空经济小包-普货 is ready to export.\n",
      " 2020-07-22 00:02:37,678 - INFO - Wish燕文航空经济小包-普货 exported.\n",
      " 2020-07-22 00:02:37,678 - INFO - Wish燕文航空经济小包-特货 is ready to export.\n",
      " 2020-07-22 00:02:37,784 - INFO - Wish燕文航空经济小包-特货 exported.\n",
      " 2020-07-22 00:02:37,785 - INFO - Wish燕文专线平邮小包-普货 is ready to export.\n",
      " 2020-07-22 00:02:37,811 - INFO - Wish燕文专线平邮小包-普货 exported.\n",
      " 2020-07-22 00:02:37,812 - INFO - Wish燕文专线平邮小包-特货 is ready to export.\n",
      " 2020-07-22 00:02:37,837 - INFO - Wish燕文专线平邮小包-特货 exported.\n"
     ]
    },
    {
     "name": "stdout",
     "output_type": "stream",
     "text": [
      "  Wish燕文航空经济小包-普货 Unnamed: 1 Unnamed: 2 Unnamed: 3 Unnamed: 4  返回主目录\n",
      "4              美国        110         13        110         13    NaN\n",
      "5              日本         52        7.3        115       0.65    NaN\n",
      "6              英国         65          9         65          9    NaN\n",
      "7              法国         76          9         76          9    NaN\n",
      "8              德国         80          9         80          9    NaN\n",
      "  Wish燕文航空经济小包-特货 Unnamed: 1 Unnamed: 2 Unnamed: 3 Unnamed: 4  返回主目录\n",
      "4              美国        110         13        110         13    NaN\n",
      "5              日本         58          9        115       0.65    NaN\n",
      "6              英国         65          9         65          9    NaN\n",
      "7              法国         76          9         76          9    NaN\n",
      "8              德国         95          9         95          9    NaN\n",
      "  Wish燕文专线平邮小包-普货 Unnamed: 1 Unnamed: 2      Unnamed: 3 Unnamed: 4  返回主目录\n",
      "3              英国       57.5        8.9  0.001-0.149 KG      0.001    NaN\n",
      "4              英国       76.5        5.5     0.15-2.0 KG      0.001    NaN\n",
      "5              法国       66.5        8.3    0.001-2.0 KG      0.001    NaN\n",
      "6              德国       67.5        8.5    0.001-2.0 KG       0.01    NaN\n",
      "7             意大利         77        7.7    0.001-2.0 KG      0.001    NaN\n",
      "Could not operate 0.35 with block values can't multiply sequence by non-int of type 'float'\n",
      "  Wish燕文专线平邮小包-特货 Unnamed: 1 Unnamed: 2      Unnamed: 3 Unnamed: 4  返回主目录\n",
      "3              英国         55        8.9  0.001-0.149 KG      0.001    NaN\n",
      "4              英国         75        6.5     0.15-2.0 KG      0.001    NaN\n",
      "5             西班牙         96          4    0.001-2.0 KG      0.001    NaN\n",
      "6            爱沙尼亚         90          9    0.001-2.0 KG      0.001    NaN\n",
      "7             比利时         88          8    0.001-2.0 KG       0.01    NaN\n",
      "Could not operate 0.35 with block values can't multiply sequence by non-int of type 'float'\n"
     ]
    },
    {
     "name": "stderr",
     "output_type": "stream",
     "text": [
      " 2020-07-22 00:02:37,838 - INFO - Wish燕邮宝平邮-特货 is ready to export.\n",
      " 2020-07-22 00:02:37,871 - INFO - Wish燕邮宝平邮-特货 exported.\n",
      " 2020-07-22 00:02:37,872 - INFO - Wish燕文航空挂号小包-普货 is ready to export.\n",
      " 2020-07-22 00:02:37,988 - INFO - Wish燕文航空挂号小包-普货 exported.\n",
      " 2020-07-22 00:02:37,989 - INFO - Wish燕文航空挂号小包-特货 is ready to export.\n"
     ]
    },
    {
     "name": "stdout",
     "output_type": "stream",
     "text": [
      "  Wish燕邮宝平邮-特货 Unnamed: 1 Unnamed: 2    Unnamed: 3 Unnamed: 4  返回主目录\n",
      "3           英国       45.5      10.35  0.001-2.0 KG       0.01    NaN\n",
      "4           法国       46.5       9.35  0.001-2.0 KG       0.01    NaN\n",
      "5           德国       48.5       9.35  0.001-2.0 KG       0.01    NaN\n",
      "6          意大利       41.5      22.35  0.001-2.0 KG       0.01    NaN\n",
      "7          西班牙       53.5      10.35  0.001-2.0 KG       0.01    NaN\n",
      "Could not operate 0.35 with block values can't multiply sequence by non-int of type 'float'\n",
      "  Wish燕文航空挂号小包-普货 Unnamed: 1 Unnamed: 2 Unnamed: 3 Unnamed: 4 Unnamed: 5  \\\n",
      "4              美国        100         25        100         25        100   \n",
      "5              日本         55         15         55         15         55   \n",
      "6              英国         48         17         48         17         48   \n",
      "7              法国         75         17         75         17         75   \n",
      "8              德国         65         17         65         17         65   \n",
      "\n",
      "  Unnamed: 6  返回主目录  \n",
      "4         25    NaN  \n",
      "5         15    NaN  \n",
      "6         17    NaN  \n",
      "7         17    NaN  \n",
      "8         17    NaN  \n",
      "  Wish燕文航空挂号小包-特货 Unnamed: 1 Unnamed: 2  返回主目录\n",
      "4              美国        107         28    NaN\n",
      "5              日本         60         17    NaN\n",
      "6              英国         53         17    NaN\n",
      "7              法国         75         17    NaN\n",
      "8              德国         55         23    NaN\n"
     ]
    },
    {
     "name": "stderr",
     "output_type": "stream",
     "text": [
      " 2020-07-22 00:02:38,079 - INFO - Wish燕文航空挂号小包-特货 exported.\n",
      " 2020-07-22 00:02:38,080 - INFO - WISH燕文C挂号小包 is ready to export.\n",
      " 2020-07-22 00:02:38,207 - INFO - WISH燕文C挂号小包 exported.\n",
      " 2020-07-22 00:02:38,208 - INFO - WISH燕文C优先小包 is ready to export.\n",
      " 2020-07-22 00:02:38,245 - INFO - WISH燕文C优先小包 exported.\n",
      " 2020-07-22 00:02:38,246 - INFO - Wish燕邮宝挂号-特货 is ready to export.\n",
      " 2020-07-22 00:02:38,279 - INFO - Wish燕邮宝挂号-特货 exported.\n",
      " 2020-07-22 00:02:38,281 - INFO - Wish燕文航空易派小包-普货 is ready to export.\n"
     ]
    },
    {
     "name": "stdout",
     "output_type": "stream",
     "text": [
      "  WISH燕文C挂号小包 Unnamed: 1 Unnamed: 2 Unnamed: 3 Unnamed: 4 Unnamed: 5  \\\n",
      "4          美国        100         25        100         25        100   \n",
      "5          日本         55         15         55         15         55   \n",
      "6          英国         48         17         48         17         48   \n",
      "7          法国         75         17         75         17         75   \n",
      "8          德国         65         17         65         17         65   \n",
      "\n",
      "  Unnamed: 6  返回主目录  \n",
      "4         25    NaN  \n",
      "5         15    NaN  \n",
      "6         17    NaN  \n",
      "7         17    NaN  \n",
      "8         17    NaN  \n",
      "  WISH燕文C优先小包 Unnamed: 1 Unnamed: 2    Unnamed: 3 Unnamed: 4  返回主目录\n",
      "3          美国        100         25  0.001-0.3 KG       0.05    NaN\n",
      "4          美国        100         25  0.301-2.0 KG       0.05    NaN\n",
      "5          日本         55         15  0.001-0.3 KG       0.05    NaN\n",
      "6          日本         55         15  0.301-2.0 KG       0.05    NaN\n",
      "7          英国         48         17  0.001-2.0 KG       0.05    NaN\n",
      "Could not operate 0.35 with block values can't multiply sequence by non-int of type 'float'\n",
      "  Wish燕邮宝挂号-特货 Unnamed: 1 Unnamed: 2    Unnamed: 3 Unnamed: 4  返回主目录\n",
      "3           英国       47.5         30  0.001-2.0 KG      0.001    NaN\n",
      "4           法国       46.5         18  0.001-2.0 KG      0.001    NaN\n",
      "5           德国       47.5         21  0.001-2.0 KG      0.001    NaN\n",
      "6          意大利       43.5         32  0.001-2.0 KG      0.001    NaN\n",
      "7          西班牙       55.5         20  0.001-2.0 KG      0.001    NaN\n",
      "Could not operate 0.35 with block values can't multiply sequence by non-int of type 'float'\n",
      "  Wish燕文航空易派小包-普货 Unnamed: 1 Unnamed: 2 Unnamed: 3 Unnamed: 4 Unnamed: 5  \\\n",
      "4              美国        100         25        100         25        100   \n",
      "5              日本         55         15         55         15         55   \n",
      "6              英国         48         17         48         17         48   \n",
      "7              法国         75         17         75         17         75   \n",
      "8              德国         70         17         70         17         70   \n",
      "\n",
      "  Unnamed: 6  返回主目录  \n",
      "4         25    NaN  \n",
      "5         15    NaN  \n",
      "6         17    NaN  \n",
      "7         17    NaN  \n",
      "8         17    NaN  \n"
     ]
    },
    {
     "name": "stderr",
     "output_type": "stream",
     "text": [
      " 2020-07-22 00:02:38,344 - INFO - Wish燕文航空易派小包-普货 exported.\n",
      " 2020-07-22 00:02:38,345 - INFO - Wish燕文航空易派小包-特货 is ready to export.\n",
      " 2020-07-22 00:02:38,412 - INFO - Wish燕文航空易派小包-特货 exported.\n",
      " 2020-07-22 00:02:38,413 - INFO - Wish燕文专线追踪小包-普货 is ready to export.\n",
      " 2020-07-22 00:02:38,439 - INFO - Wish燕文专线追踪小包-普货 exported.\n",
      " 2020-07-22 00:02:38,440 - INFO - Wish燕文专线追踪小包-特货 is ready to export.\n",
      " 2020-07-22 00:02:38,467 - INFO - Wish燕文专线追踪小包-特货 exported.\n",
      " 2020-07-22 00:02:38,468 - INFO - WISH燕特快-普货 is ready to export.\n",
      " 2020-07-22 00:02:38,501 - INFO - WISH燕特快-普货 exported.\n",
      " 2020-07-22 00:02:38,501 - INFO - WISH燕特快-特货 is ready to export.\n",
      " 2020-07-22 00:02:38,524 - INFO - WISH燕特快-特货 exported.\n"
     ]
    },
    {
     "name": "stdout",
     "output_type": "stream",
     "text": [
      "  Wish燕文航空易派小包-特货 Unnamed: 1 Unnamed: 2  返回主目录\n",
      "4              美国        107         28    NaN\n",
      "5              日本         60         17    NaN\n",
      "6              法国         75         17    NaN\n",
      "7              德国         55         23    NaN\n",
      "8             意大利         70         25    NaN\n",
      "  Wish燕文专线追踪小包-普货 Unnamed: 1 Unnamed: 2    Unnamed: 3 Unnamed: 4  返回主目录\n",
      "3              美国         95         16  0.001-0.2 KG       0.05    NaN\n",
      "4              美国         90         15  0.201-0.4 KG       0.05    NaN\n",
      "5              美国         90         15  0.401-0.7 KG       0.05    NaN\n",
      "6              美国         85          9  0.701-1.5 KG       0.05    NaN\n",
      "7              美国         85          9  1.501-2.0 KG       0.05    NaN\n",
      "Could not operate 0.35 with block values can't multiply sequence by non-int of type 'float'\n",
      "  Wish燕文专线追踪小包-特货 Unnamed: 1 Unnamed: 2    Unnamed: 3 Unnamed: 4  返回主目录\n",
      "3              美国        100       16.5  0.001-0.2 KG       0.05    NaN\n",
      "4              美国         95         16  0.201-0.4 KG       0.05    NaN\n",
      "5              美国         99         16  0.401-0.7 KG       0.05    NaN\n",
      "6              美国         90          9  0.701-1.5 KG       0.05    NaN\n",
      "7              美国         90          9  1.501-2.0 KG       0.05    NaN\n",
      "Could not operate 0.35 with block values can't multiply sequence by non-int of type 'float'\n",
      "  WISH燕特快-普货 Unnamed: 1 Unnamed: 2     Unnamed: 3 Unnamed: 4  返回主目录\n",
      "3         德国       57.5         26  0.001-30.0 KG       0.05    NaN\n",
      "4        意大利       62.5         36  0.001-30.0 KG       0.05    NaN\n",
      "5        西班牙       56.5         27  0.001-30.0 KG       0.05    NaN\n",
      "6        爱尔兰       60.5         34  0.001-30.0 KG       0.05    NaN\n",
      "7       爱沙尼亚       86.5         36  0.001-30.0 KG       0.05    NaN\n",
      "Could not operate 0.35 with block values can't multiply sequence by non-int of type 'float'\n",
      "  WISH燕特快-特货 Unnamed: 1 Unnamed: 2     Unnamed: 3 Unnamed: 4  返回主目录\n",
      "3         德国         74         27   0.001-2.0 KG       0.05    NaN\n",
      "4         德国         74         27  2.001-30.0 KG       0.05    NaN\n",
      "5        俄罗斯         69         68  0.001-30.0 KG      0.001    NaN\n",
      "Could not operate 0.35 with block values can't multiply sequence by non-int of type 'float'\n"
     ]
    }
   ],
   "source": [
    "export_path = os.path.join(baojiadan_folder, '报价单','燕文（wish）报价表格.xlsx')\n",
    "writer = pd.ExcelWriter(export_path)\n",
    "\n",
    "for service_name in wanted_shipping_service_list:\n",
    "    if service_name in baojiadan_sheets_dict.keys():\n",
    "        logging.info(service_name + ' is ready to export.')\n",
    "        df = baojiadan_sheets_dict[service_name]\n",
    "        try:\n",
    "            for c in df.columns:\n",
    "                for index, r in enumerate(df[c]):\n",
    "                    if r == '国家':\n",
    "                        country_cell_location = [index, c]\n",
    "#                         print(country_cell_location)\n",
    "                    if r == '价格使用说明:':\n",
    "                        end_location = [index, c]\n",
    "#                         print(country_cell_location)\n",
    "                        break\n",
    "            df = df[country_cell_location[0]+1:end_location[0]]\n",
    "            df = df.dropna(how='all')\n",
    "            df = df[df[country_cell_location[1]].str.len() < 10]\n",
    "#             df['service_name'] = service_name\n",
    "            print(df.head(5))\n",
    "            \n",
    "#             tiers = [1, 2, 3]\n",
    "#             for tier in tiers:\n",
    "#                 this_c_name = 'tier_' + str(tier)\n",
    "#                 next_c = tier + 1\n",
    "#                 try:\n",
    "#                     df[this_c_name + '_base'] = df[[tier]]\n",
    "#                     df[this_c_name + '_surcharge'] = df[[next_c]]\n",
    "#                     df[this_c_name + '_total'] = df[[tier]].astype(float) * 0.35 + df[this_c_name + '_surcharge'].astype(float)\n",
    "#                 except Exception as err:\n",
    "#                     print(str(err))\n",
    "            \n",
    "            kg = 0.35\n",
    "            tiers = [1, 2, 3]\n",
    "            \n",
    "            if service_name == 'Wish燕文航空易派小包-普货':\n",
    "                tiers = [1]\n",
    "            \n",
    "            for tier in tiers:\n",
    "                this_c_name = 'tier_' + str(tier)\n",
    "                column_num = 2 * tier - 1\n",
    "                try:\n",
    "                    df[this_c_name + '_kg_fee'] = df[[column_num]] * kg\n",
    "                    df[this_c_name + '_kg_fee'] = df[this_c_name + '_kg_fee'].astype(float)\n",
    "                    df[this_c_name + '_surcharge'] = df[[column_num + 1]].astype(float)\n",
    "                    df[this_c_name + '_total'] = df[this_c_name + '_kg_fee'] + df[this_c_name + '_surcharge']\n",
    "                except Exception as err:\n",
    "                    print(str(err))\n",
    "                    \n",
    "#             df_for_merge = df[['service_name', 0, 'tier_1_total']]\n",
    "            \n",
    "#             pd_to_merge.append(df_for_merge)\n",
    "    \n",
    "            df.to_excel(writer, sheet_name=service_name, index=False)\n",
    "            logging.info(service_name + ' exported.')\n",
    "            # df.to_csv(os.path.join(baojiadan_folder, '报价单', key + '.csv'))\n",
    "        except Exception as err:\n",
    "            logging.info(service_name + ' failed to export. ' + str(err))\n",
    "            pass\n",
    "        # df.to_csv(os.path.join(baojiadan_folder, '报价单', key + '.xlsx'))\n",
    "        \n",
    "writer.save()"
   ]
  }
 ],
 "metadata": {
  "anaconda-cloud": {},
  "kernelspec": {
   "display_name": "Python [default]",
   "language": "python",
   "name": "python3"
  },
  "language_info": {
   "codemirror_mode": {
    "name": "ipython",
    "version": 3
   },
   "file_extension": ".py",
   "mimetype": "text/x-python",
   "name": "python",
   "nbconvert_exporter": "python",
   "pygments_lexer": "ipython3",
   "version": "3.5.2"
  }
 },
 "nbformat": 4,
 "nbformat_minor": 1
}
