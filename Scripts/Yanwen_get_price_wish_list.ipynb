{
 "cells": [
  {
   "cell_type": "code",
   "execution_count": 1,
   "metadata": {
    "collapsed": true
   },
   "outputs": [],
   "source": [
    "import pandas as pd\n",
    "import os\n",
    "import logging"
   ]
  },
  {
   "cell_type": "code",
   "execution_count": 2,
   "metadata": {
    "collapsed": true
   },
   "outputs": [],
   "source": [
    "logging.basicConfig(level=logging.INFO, format=' %(asctime)s - %(levelname)s - %(message)s')"
   ]
  },
  {
   "cell_type": "code",
   "execution_count": 3,
   "metadata": {
    "collapsed": true
   },
   "outputs": [],
   "source": [
    "baojiadan_folder = 'D:\\\\Program Files (x86)\\\\百度云同步盘\\\\Dropbox\\\\-E·J- 2014.5.1\\\\2015.9.26 燕文\\\\'"
   ]
  },
  {
   "cell_type": "code",
   "execution_count": 4,
   "metadata": {
    "collapsed": true
   },
   "outputs": [],
   "source": [
    "baojiadan_file_list = list()"
   ]
  },
  {
   "cell_type": "code",
   "execution_count": 5,
   "metadata": {
    "collapsed": true
   },
   "outputs": [],
   "source": [
    "for file_name in os.listdir(baojiadan_folder):\n",
    "    if file_name.startswith('广州燕文WISH报价单'):\n",
    "        baojiadan_file_list.append(file_name)"
   ]
  },
  {
   "cell_type": "code",
   "execution_count": 6,
   "metadata": {
    "collapsed": true
   },
   "outputs": [],
   "source": [
    "latest_baojiadan_file_name = baojiadan_file_list[-1]\n",
    "# latest_baojiadan_file_name"
   ]
  },
  {
   "cell_type": "code",
   "execution_count": 7,
   "metadata": {
    "collapsed": true
   },
   "outputs": [],
   "source": [
    "latest_baojiadan_path = os.path.join(baojiadan_folder, latest_baojiadan_file_name)\n",
    "# latest_baojiadan_path"
   ]
  },
  {
   "cell_type": "code",
   "execution_count": 8,
   "metadata": {
    "collapsed": true
   },
   "outputs": [],
   "source": [
    "baojiadan_sheets_dict = pd.read_excel(latest_baojiadan_path, sheetname=None)\n",
    "# type(baojiadan)"
   ]
  },
  {
   "cell_type": "code",
   "execution_count": 9,
   "metadata": {
    "collapsed": true
   },
   "outputs": [],
   "source": [
    "wanted_shipping_service_list = ['Wish燕文航空经济小包-普货',\n",
    "                                'Wish燕文航空经济小包-特货',\n",
    "                                'Wish燕文专线平邮小包-普货',\n",
    "                                'Wish燕文专线平邮小包-特货',\n",
    "                                'WISH燕文C平邮小包',\n",
    "                                'Wish燕邮宝平邮-特货',\n",
    "                                'Wish燕文航空挂号小包-普货',\n",
    "                                'Wish燕文航空挂号小包-特货',\n",
    "                                'WISH燕文C挂号小包',\n",
    "                                'WISH燕文C优先小包',\n",
    "                                'Wish燕邮宝挂号-特货',\n",
    "                                'Wish燕文航空易派小包-普货',\n",
    "                                'Wish燕文航空易派小包-特货',\n",
    "                                'Wish燕文专线追踪小包-普货',\n",
    "                                'Wish燕文专线追踪小包-特货',\n",
    "                                'WISH燕特快-普货',\n",
    "                                'WISH燕特快-特货'\n",
    "]"
   ]
  },
  {
   "cell_type": "code",
   "execution_count": 10,
   "metadata": {
    "scrolled": true
   },
   "outputs": [
    {
     "name": "stderr",
     "output_type": "stream",
     "text": [
      " 2020-04-25 21:57:21,127 - INFO - Wish燕文航空经济小包-普货 is ready to export.\n",
      " 2020-04-25 21:57:21,231 - INFO - Wish燕文航空经济小包-普货 exported.\n",
      " 2020-04-25 21:57:21,232 - INFO - Wish燕文航空经济小包-特货 is ready to export.\n",
      " 2020-04-25 21:57:21,349 - INFO - Wish燕文航空经济小包-特货 exported.\n",
      " 2020-04-25 21:57:21,351 - INFO - Wish燕文专线平邮小包-普货 is ready to export.\n"
     ]
    },
    {
     "name": "stdout",
     "output_type": "stream",
     "text": [
      "  Wish燕文航空经济小包-普货 Unnamed: 1 Unnamed: 2 Unnamed: 3 Unnamed: 4  返回主目录\n",
      "4              美国         78        6.5         57        6.3    NaN\n",
      "5              英国         78        6.3         87        5.5    NaN\n",
      "6              法国         70        6.5         56        6.8    NaN\n",
      "7              德国         75        6.5         53          7    NaN\n",
      "8             西班牙         95          5         57        6.8    NaN\n",
      "  Wish燕文航空经济小包-特货 Unnamed: 1 Unnamed: 2 Unnamed: 3 Unnamed: 4  返回主目录\n",
      "4              美国         90        8.5         90        8.5    NaN\n",
      "5              英国         75        8.5         89          5    NaN\n",
      "6              德国         73        7.5         73        7.5    NaN\n",
      "7             西班牙         92          5        110        4.5    NaN\n",
      "8              荷兰         75        7.5         75        7.5    NaN\n",
      "  Wish燕文专线平邮小包-普货 Unnamed: 1 Unnamed: 2      Unnamed: 3 Unnamed: 4  返回主目录\n",
      "3              英国       56.5        8.9  0.001-0.149 KG      0.001    NaN\n",
      "4              英国       85.5          5     0.15-2.0 KG      0.001    NaN\n",
      "5              法国       65.5        8.3  0.001-0.149 KG      0.001    NaN\n",
      "6              法国       65.5        8.3     0.15-2.0 KG      0.001    NaN\n",
      "7              德国       62.5        8.5  0.001-0.149 KG      0.001    NaN\n",
      "Could not operate 0.35 with block values can't multiply sequence by non-int of type 'float'\n"
     ]
    },
    {
     "name": "stderr",
     "output_type": "stream",
     "text": [
      " 2020-04-25 21:57:21,388 - INFO - Wish燕文专线平邮小包-普货 exported.\n",
      " 2020-04-25 21:57:21,389 - INFO - Wish燕文专线平邮小包-特货 is ready to export.\n",
      " 2020-04-25 21:57:21,427 - INFO - Wish燕文专线平邮小包-特货 exported.\n",
      " 2020-04-25 21:57:21,428 - INFO - WISH燕文C平邮小包 is ready to export.\n",
      " 2020-04-25 21:57:21,594 - INFO - WISH燕文C平邮小包 exported.\n",
      " 2020-04-25 21:57:21,596 - INFO - Wish燕邮宝平邮-特货 is ready to export.\n"
     ]
    },
    {
     "name": "stdout",
     "output_type": "stream",
     "text": [
      "  Wish燕文专线平邮小包-特货 Unnamed: 1 Unnamed: 2      Unnamed: 3 Unnamed: 4  返回主目录\n",
      "3              英国         50        8.9  0.001-0.149 KG      0.001    NaN\n",
      "4              英国         80        5.3     0.15-2.0 KG      0.001    NaN\n",
      "5             西班牙         90          4  0.001-0.149 KG      0.001    NaN\n",
      "6             西班牙         90          4     0.15-2.0 KG      0.001    NaN\n",
      "7            爱沙尼亚         80          8  0.001-0.149 KG      0.001    NaN\n",
      "Could not operate 0.35 with block values can't multiply sequence by non-int of type 'float'\n",
      "  WISH燕文C平邮小包 Unnamed: 1 Unnamed: 2 Unnamed: 3  返回主目录\n",
      "3          美国       8.16      78.77      56.79    NaN\n",
      "4         加拿大       8.84       81.6      56.97    NaN\n",
      "5          英国       8.86      78.87       56.1    NaN\n",
      "6          法国        8.7         70      54.14    NaN\n",
      "7          德国       8.78         75      52.53    NaN\n",
      "  Wish燕邮宝平邮-特货 Unnamed: 1 Unnamed: 2    Unnamed: 3 Unnamed: 4  返回主目录\n",
      "3           英国       45.5      10.35  0.001-2.0 KG       0.01    NaN\n",
      "4           法国       46.5       9.35  0.001-2.0 KG       0.01    NaN\n",
      "5           德国       48.5       9.35  0.001-2.0 KG       0.01    NaN\n",
      "6          意大利       41.5      22.35  0.001-2.0 KG       0.01    NaN\n",
      "7          西班牙       53.5      10.35  0.001-2.0 KG       0.01    NaN\n",
      "Could not operate 0.35 with block values can't multiply sequence by non-int of type 'float'\n"
     ]
    },
    {
     "name": "stderr",
     "output_type": "stream",
     "text": [
      " 2020-04-25 21:57:21,619 - INFO - Wish燕邮宝平邮-特货 exported.\n",
      " 2020-04-25 21:57:21,621 - INFO - Wish燕文航空挂号小包-普货 is ready to export.\n",
      " 2020-04-25 21:57:21,737 - INFO - Wish燕文航空挂号小包-普货 exported.\n",
      " 2020-04-25 21:57:21,738 - INFO - Wish燕文航空挂号小包-特货 is ready to export.\n",
      " 2020-04-25 21:57:21,841 - INFO - Wish燕文航空挂号小包-特货 exported.\n",
      " 2020-04-25 21:57:21,842 - INFO - WISH燕文C挂号小包 is ready to export.\n"
     ]
    },
    {
     "name": "stdout",
     "output_type": "stream",
     "text": [
      "  Wish燕文航空挂号小包-普货 Unnamed: 1 Unnamed: 2 Unnamed: 3 Unnamed: 4 Unnamed: 5  \\\n",
      "4              美国         62         14         62         14         62   \n",
      "5             加拿大         80         21         80         21         80   \n",
      "6              英国         58         17         58         17         58   \n",
      "7              法国         90         21         90         21         90   \n",
      "8              德国         74         16         74         16         74   \n",
      "\n",
      "  Unnamed: 6  返回主目录  \n",
      "4         14    NaN  \n",
      "5         21    NaN  \n",
      "6         17    NaN  \n",
      "7         21    NaN  \n",
      "8         16    NaN  \n",
      "  Wish燕文航空挂号小包-特货 Unnamed: 1 Unnamed: 2  返回主目录\n",
      "4              美国         67       14.5    NaN\n",
      "5             加拿大         65       21.5    NaN\n",
      "6              英国         54         17    NaN\n",
      "7              法国         68         21    NaN\n",
      "8              德国         65         26    NaN\n",
      "  WISH燕文C挂号小包 Unnamed: 1 Unnamed: 2 Unnamed: 3 Unnamed: 4 Unnamed: 5  \\\n",
      "4          美国         55         20         54         20         53   \n",
      "5         加拿大         65         19         65         19         65   \n",
      "6          英国         51       17.5         51       17.5         50   \n",
      "7          法国         67         13      49.23      15.37      49.23   \n",
      "8          德国         58       15.8         52         16         49   \n",
      "\n",
      "  Unnamed: 6  返回主目录  \n",
      "4         20    NaN  \n",
      "5         19    NaN  \n",
      "6       17.5    NaN  \n",
      "7      15.37    NaN  \n",
      "8       16.5    NaN  \n"
     ]
    },
    {
     "name": "stderr",
     "output_type": "stream",
     "text": [
      " 2020-04-25 21:57:21,956 - INFO - WISH燕文C挂号小包 exported.\n",
      " 2020-04-25 21:57:21,957 - INFO - WISH燕文C优先小包 is ready to export.\n",
      " 2020-04-25 21:57:21,982 - INFO - WISH燕文C优先小包 exported.\n",
      " 2020-04-25 21:57:21,984 - INFO - Wish燕邮宝挂号-特货 is ready to export.\n",
      " 2020-04-25 21:57:22,007 - INFO - Wish燕邮宝挂号-特货 exported.\n",
      " 2020-04-25 21:57:22,009 - INFO - Wish燕文航空易派小包-普货 is ready to export.\n",
      " 2020-04-25 21:57:22,031 - INFO - Wish燕文航空易派小包-普货 exported.\n",
      " 2020-04-25 21:57:22,032 - INFO - Wish燕文航空易派小包-特货 is ready to export.\n",
      " 2020-04-25 21:57:22,106 - INFO - Wish燕文航空易派小包-特货 exported.\n",
      " 2020-04-25 21:57:22,107 - INFO - Wish燕文专线追踪小包-普货 is ready to export.\n",
      " 2020-04-25 21:57:22,128 - INFO - Wish燕文专线追踪小包-普货 exported.\n",
      " 2020-04-25 21:57:22,129 - INFO - Wish燕文专线追踪小包-特货 is ready to export.\n",
      " 2020-04-25 21:57:22,152 - INFO - Wish燕文专线追踪小包-特货 exported.\n",
      " 2020-04-25 21:57:22,153 - INFO - WISH燕特快-普货 is ready to export.\n",
      " 2020-04-25 21:57:22,180 - INFO - WISH燕特快-普货 exported.\n",
      " 2020-04-25 21:57:22,180 - INFO - WISH燕特快-特货 is ready to export.\n"
     ]
    },
    {
     "name": "stdout",
     "output_type": "stream",
     "text": [
      "  WISH燕文C优先小包 Unnamed: 1 Unnamed: 2      Unnamed: 3 Unnamed: 4  返回主目录\n",
      "3          美国         65         15    0.001-2.0 KG       0.05    NaN\n",
      "4         加拿大         65         19    0.001-2.0 KG      0.001    NaN\n",
      "5          英国         55         18  0.001-0.499 KG      0.001    NaN\n",
      "6          英国         45         25    0.5-1.999 KG      0.001    NaN\n",
      "7          英国         45         35      2.0-5.0 KG      0.001    NaN\n",
      "Could not operate 0.35 with block values can't multiply sequence by non-int of type 'float'\n",
      "  Wish燕邮宝挂号-特货 Unnamed: 1 Unnamed: 2    Unnamed: 3 Unnamed: 4  返回主目录\n",
      "3           英国       47.5         30  0.001-2.0 KG      0.001    NaN\n",
      "4           法国       46.5         18  0.001-2.0 KG      0.001    NaN\n",
      "5           德国       47.5         21  0.001-2.0 KG      0.001    NaN\n",
      "6          意大利       43.5         32  0.001-2.0 KG      0.001    NaN\n",
      "7          西班牙       55.5         20  0.001-2.0 KG      0.001    NaN\n",
      "Could not operate 0.35 with block values can't multiply sequence by non-int of type 'float'\n",
      "  Wish燕文航空易派小包-普货 Unnamed: 1 Unnamed: 2    Unnamed: 3 Unnamed: 4  返回主目录\n",
      "3              美国       65.5         14  0.001-2.0 KG       0.05    NaN\n",
      "4             加拿大       67.5         22  0.001-2.0 KG       0.05    NaN\n",
      "5              英国       57.5       16.5  0.001-2.0 KG       0.05    NaN\n",
      "6              法国         79         17  0.001-2.0 KG       0.05    NaN\n",
      "7              德国       54.5         22  0.001-2.0 KG       0.05    NaN\n",
      "  Wish燕文航空易派小包-特货 Unnamed: 1 Unnamed: 2  返回主目录\n",
      "4              美国         67         15    NaN\n",
      "5             加拿大         66         21    NaN\n",
      "6              英国         53       16.5    NaN\n",
      "7              法国         79         17    NaN\n",
      "8              德国         47         22    NaN\n",
      "  Wish燕文专线追踪小包-普货 Unnamed: 1 Unnamed: 2    Unnamed: 3 Unnamed: 4  返回主目录\n",
      "3              美国         88         15  0.001-0.2 KG       0.05    NaN\n",
      "4              美国         87         14  0.201-0.4 KG       0.05    NaN\n",
      "5              美国         87         14  0.401-0.7 KG       0.05    NaN\n",
      "6              美国         87         14  0.701-1.5 KG       0.05    NaN\n",
      "7              美国         85          8  1.501-2.0 KG       0.05    NaN\n",
      "Could not operate 0.35 with block values can't multiply sequence by non-int of type 'float'\n",
      "  Wish燕文专线追踪小包-特货 Unnamed: 1 Unnamed: 2    Unnamed: 3 Unnamed: 4  返回主目录\n",
      "3              美国         89         15  0.001-0.2 KG       0.05    NaN\n",
      "4              美国         88       14.5  0.201-0.4 KG       0.05    NaN\n",
      "5              美国         88       14.5  0.401-0.7 KG       0.05    NaN\n",
      "6              美国         88         14  0.701-1.5 KG       0.05    NaN\n",
      "7              美国         86          8  1.501-2.0 KG       0.05    NaN\n",
      "Could not operate 0.35 with block values can't multiply sequence by non-int of type 'float'\n",
      "  WISH燕特快-普货 Unnamed: 1 Unnamed: 2     Unnamed: 3 Unnamed: 4  返回主目录\n",
      "3         德国       60.5         26  0.001-30.0 KG       0.05    NaN\n",
      "4        意大利       65.5         36  0.001-30.0 KG       0.05    NaN\n",
      "5        西班牙       59.5         27  0.001-30.0 KG       0.05    NaN\n",
      "6        爱尔兰       63.5         34  0.001-30.0 KG       0.05    NaN\n",
      "7       爱沙尼亚       89.5         36  0.001-30.0 KG       0.05    NaN\n",
      "Could not operate 0.35 with block values can't multiply sequence by non-int of type 'float'\n",
      "  WISH燕特快-特货 Unnamed: 1 Unnamed: 2     Unnamed: 3 Unnamed: 4  返回主目录\n",
      "3         德国         57         26   0.001-2.0 KG       0.05    NaN\n",
      "4         德国         57         26  2.001-30.0 KG       0.05    NaN\n",
      "5        俄罗斯         69         68  0.001-30.0 KG      0.001    NaN\n",
      "Could not operate 0.35 with block values can't multiply sequence by non-int of type 'float'\n"
     ]
    },
    {
     "name": "stderr",
     "output_type": "stream",
     "text": [
      " 2020-04-25 21:57:22,200 - INFO - WISH燕特快-特货 exported.\n"
     ]
    }
   ],
   "source": [
    "export_path = os.path.join(baojiadan_folder, '报价单','燕文（wish）报价表格.xlsx')\n",
    "writer = pd.ExcelWriter(export_path)\n",
    "\n",
    "for service_name in wanted_shipping_service_list:\n",
    "    if service_name in baojiadan_sheets_dict.keys():\n",
    "        logging.info(service_name + ' is ready to export.')\n",
    "        df = baojiadan_sheets_dict[service_name]\n",
    "        try:\n",
    "            for c in df.columns:\n",
    "                for index, r in enumerate(df[c]):\n",
    "                    if r == '国家':\n",
    "                        country_cell_location = [index, c]\n",
    "#                         print(country_cell_location)\n",
    "                    if r == '价格使用说明:':\n",
    "                        end_location = [index, c]\n",
    "#                         print(country_cell_location)\n",
    "                        break\n",
    "            df = df[country_cell_location[0]+1:end_location[0]]\n",
    "            df = df.dropna(how='all')\n",
    "            df = df[df[country_cell_location[1]].str.len() < 10]\n",
    "#             df['service_name'] = service_name\n",
    "            print(df.head(5))\n",
    "            \n",
    "#             tiers = [1, 2, 3]\n",
    "#             for tier in tiers:\n",
    "#                 this_c_name = 'tier_' + str(tier)\n",
    "#                 next_c = tier + 1\n",
    "#                 try:\n",
    "#                     df[this_c_name + '_base'] = df[[tier]]\n",
    "#                     df[this_c_name + '_surcharge'] = df[[next_c]]\n",
    "#                     df[this_c_name + '_total'] = df[[tier]].astype(float) * 0.35 + df[this_c_name + '_surcharge'].astype(float)\n",
    "#                 except Exception as err:\n",
    "#                     print(str(err))\n",
    "            \n",
    "            kg = 0.35\n",
    "            tiers = [1, 2, 3]\n",
    "            \n",
    "            if service_name == 'Wish燕文航空易派小包-普货':\n",
    "                tiers = [1]\n",
    "            \n",
    "            for tier in tiers:\n",
    "                this_c_name = 'tier_' + str(tier)\n",
    "                column_num = 2 * tier - 1\n",
    "                try:\n",
    "                    df[this_c_name + '_kg_fee'] = df[[column_num]] * kg\n",
    "                    df[this_c_name + '_kg_fee'] = df[this_c_name + '_kg_fee'].astype(float)\n",
    "                    df[this_c_name + '_surcharge'] = df[[column_num + 1]].astype(float)\n",
    "                    df[this_c_name + '_total'] = df[this_c_name + '_kg_fee'] + df[this_c_name + '_surcharge']\n",
    "                except Exception as err:\n",
    "                    print(str(err))\n",
    "                    \n",
    "#             df_for_merge = df[['service_name', 0, 'tier_1_total']]\n",
    "            \n",
    "#             pd_to_merge.append(df_for_merge)\n",
    "    \n",
    "            df.to_excel(writer, sheet_name=service_name, index=False)\n",
    "            logging.info(service_name + ' exported.')\n",
    "            # df.to_csv(os.path.join(baojiadan_folder, '报价单', key + '.csv'))\n",
    "        except Exception as err:\n",
    "            logging.info(service_name + ' failed to export. ' + str(err))\n",
    "            pass\n",
    "        # df.to_csv(os.path.join(baojiadan_folder, '报价单', key + '.xlsx'))\n",
    "        \n",
    "writer.save()"
   ]
  }
 ],
 "metadata": {
  "anaconda-cloud": {},
  "kernelspec": {
   "display_name": "Python [default]",
   "language": "python",
   "name": "python3"
  },
  "language_info": {
   "codemirror_mode": {
    "name": "ipython",
    "version": 3
   },
   "file_extension": ".py",
   "mimetype": "text/x-python",
   "name": "python",
   "nbconvert_exporter": "python",
   "pygments_lexer": "ipython3",
   "version": "3.5.2"
  }
 },
 "nbformat": 4,
 "nbformat_minor": 1
}
