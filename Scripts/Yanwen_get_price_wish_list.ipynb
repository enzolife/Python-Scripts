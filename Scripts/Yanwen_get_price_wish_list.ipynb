{
 "cells": [
  {
   "cell_type": "code",
   "execution_count": 1,
   "metadata": {
    "collapsed": true
   },
   "outputs": [],
   "source": [
    "import pandas as pd\n",
    "import os\n",
    "import logging"
   ]
  },
  {
   "cell_type": "code",
   "execution_count": 2,
   "metadata": {
    "collapsed": true
   },
   "outputs": [],
   "source": [
    "logging.basicConfig(level=logging.INFO, format=' %(asctime)s - %(levelname)s - %(message)s')"
   ]
  },
  {
   "cell_type": "code",
   "execution_count": 3,
   "metadata": {
    "collapsed": true
   },
   "outputs": [],
   "source": [
    "baojiadan_folder = 'D:\\\\Program Files (x86)\\\\百度云同步盘\\\\Dropbox\\\\-E·J- 2014.5.1\\\\2015.9.26 燕文\\\\'"
   ]
  },
  {
   "cell_type": "code",
   "execution_count": 4,
   "metadata": {
    "collapsed": true
   },
   "outputs": [],
   "source": [
    "baojiadan_file_list = list()"
   ]
  },
  {
   "cell_type": "code",
   "execution_count": 5,
   "metadata": {
    "collapsed": true
   },
   "outputs": [],
   "source": [
    "for file_name in os.listdir(baojiadan_folder):\n",
    "    if file_name.startswith('广州燕文WISH报价单'):\n",
    "        baojiadan_file_list.append(file_name)"
   ]
  },
  {
   "cell_type": "code",
   "execution_count": 6,
   "metadata": {
    "collapsed": true
   },
   "outputs": [],
   "source": [
    "latest_baojiadan_file_name = baojiadan_file_list[-1]\n",
    "# latest_baojiadan_file_name"
   ]
  },
  {
   "cell_type": "code",
   "execution_count": 7,
   "metadata": {
    "collapsed": true
   },
   "outputs": [],
   "source": [
    "latest_baojiadan_path = os.path.join(baojiadan_folder, latest_baojiadan_file_name)\n",
    "# latest_baojiadan_path"
   ]
  },
  {
   "cell_type": "code",
   "execution_count": 8,
   "metadata": {},
   "outputs": [],
   "source": [
    "baojiadan_sheets_dict = pd.read_excel(latest_baojiadan_path, sheetname=None)\n",
    "# type(baojiadan)"
   ]
  },
  {
   "cell_type": "code",
   "execution_count": 9,
   "metadata": {
    "collapsed": true
   },
   "outputs": [],
   "source": [
    "wanted_shipping_service_list = ['WISH燕文航空挂号小包-普货',\n",
    "                                'WISH燕文航空挂号小包-特货',\n",
    "                                'WISH燕文专线追踪小包-普货',\n",
    "                                'WISH燕文专线追踪小包-特货',\n",
    "                                'WISH燕邮宝挂号-特货',\n",
    "                                'WISH燕文航空易派小包-普货',\n",
    "                                'WISH燕文航空易派小包-特货',\n",
    "                                'WISH燕文C挂号小包',\n",
    "                                'WISH燕文C优先小包'\n",
    "]"
   ]
  },
  {
   "cell_type": "code",
   "execution_count": 10,
   "metadata": {
    "scrolled": true
   },
   "outputs": [
    {
     "name": "stderr",
     "output_type": "stream",
     "text": [
      " 2019-04-11 10:35:16,799 - INFO - WISH燕文航空挂号小包-普货 is ready to export.\n",
      " 2019-04-11 10:35:16,854 - INFO - WISH燕文航空挂号小包-普货 exported.\n",
      " 2019-04-11 10:35:16,854 - INFO - WISH燕文航空挂号小包-特货 is ready to export.\n",
      " 2019-04-11 10:35:16,879 - INFO - WISH燕文航空挂号小包-特货 exported.\n",
      " 2019-04-11 10:35:16,879 - INFO - WISH燕文专线追踪小包-普货 is ready to export.\n",
      " 2019-04-11 10:35:16,894 - INFO - WISH燕文专线追踪小包-普货 exported.\n",
      " 2019-04-11 10:35:16,895 - INFO - WISH燕文专线追踪小包-特货 is ready to export.\n",
      " 2019-04-11 10:35:16,913 - INFO - WISH燕文专线追踪小包-特货 exported.\n",
      " 2019-04-11 10:35:16,914 - INFO - WISH燕邮宝挂号-特货 is ready to export.\n",
      " 2019-04-11 10:35:16,925 - INFO - WISH燕邮宝挂号-特货 exported.\n",
      " 2019-04-11 10:35:16,926 - INFO - WISH燕文航空易派小包-普货 is ready to export.\n",
      " 2019-04-11 10:35:16,940 - INFO - WISH燕文航空易派小包-普货 exported.\n",
      " 2019-04-11 10:35:16,942 - INFO - WISH燕文航空易派小包-特货 is ready to export.\n",
      " 2019-04-11 10:35:16,953 - INFO - WISH燕文航空易派小包-特货 exported.\n",
      " 2019-04-11 10:35:16,954 - INFO - WISH燕文C挂号小包 is ready to export.\n",
      " 2019-04-11 10:35:17,005 - INFO - WISH燕文C挂号小包 exported.\n",
      " 2019-04-11 10:35:17,006 - INFO - WISH燕文C优先小包 is ready to export.\n",
      " 2019-04-11 10:35:17,019 - INFO - WISH燕文C优先小包 exported.\n"
     ]
    }
   ],
   "source": [
    "export_path = os.path.join(baojiadan_folder, '报价单','燕文（wish）报价表格.xlsx')\n",
    "writer = pd.ExcelWriter(export_path)\n",
    "\n",
    "for service_name in wanted_shipping_service_list:\n",
    "    if service_name in baojiadan_sheets_dict.keys():\n",
    "        logging.info(service_name + ' is ready to export.')\n",
    "        df = baojiadan_sheets_dict[service_name]\n",
    "        try:\n",
    "            for c in df.columns:\n",
    "                for index, r in enumerate(df[c]):\n",
    "                    if r == '国家':\n",
    "                        country_cell_location = [index, c]\n",
    "                        # print(country_cell_location)\n",
    "                        break\n",
    "            df = df[country_cell_location[0]:]\n",
    "            df = df.dropna(how='all')\n",
    "            df = df[df[country_cell_location[1]].str.len() < 10]\n",
    "            \n",
    "            df.to_excel(writer, sheet_name=service_name, index=False)\n",
    "            logging.info(service_name + ' exported.')\n",
    "            # df.to_csv(os.path.join(baojiadan_folder, '报价单', key + '.csv'))\n",
    "        except:\n",
    "            logging.info(service_name + ' failed to export.')\n",
    "            pass\n",
    "        # df.to_csv(os.path.join(baojiadan_folder, '报价单', key + '.xlsx'))\n",
    "        \n",
    "writer.save()"
   ]
  }
 ],
 "metadata": {
  "anaconda-cloud": {},
  "kernelspec": {
   "display_name": "Python [default]",
   "language": "python",
   "name": "python3"
  },
  "language_info": {
   "codemirror_mode": {
    "name": "ipython",
    "version": 3
   },
   "file_extension": ".py",
   "mimetype": "text/x-python",
   "name": "python",
   "nbconvert_exporter": "python",
   "pygments_lexer": "ipython3",
   "version": "3.5.2"
  }
 },
 "nbformat": 4,
 "nbformat_minor": 1
}
