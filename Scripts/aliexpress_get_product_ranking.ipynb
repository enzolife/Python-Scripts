{
 "cells": [
  {
   "cell_type": "code",
   "execution_count": 10,
   "metadata": {},
   "outputs": [],
   "source": [
    "from selenium import webdriver\n",
    "from selenium.webdriver.common.keys import Keys\n",
    "import pandas as pd\n",
    "import time\n",
    "import os\n",
    "import zipfile\n",
    "import shutil\n",
    "from datetime import date"
   ]
  },
  {
   "cell_type": "code",
   "execution_count": 11,
   "metadata": {},
   "outputs": [],
   "source": [
    "# 获取脚本的当前路径，避免计划执行时路径出错\n",
    "home_dir = os.path.dirname(os.path.realpath(__file__))\n",
    "# 更换workding directory\n",
    "working_directory = home_dir\n",
    "os.chdir(working_directory)"
   ]
  },
  {
   "cell_type": "code",
   "execution_count": 12,
   "metadata": {},
   "outputs": [],
   "source": [
    "# 屏幕最大化，且指定下载目录\n",
    "options = webdriver.ChromeOptions()\n",
    "options.add_argument(\"--start-maximized\")\n",
    "# 添加翻墙配置\n",
    "# 参考 https://www.codetd.com/article/4692519\n",
    "# options.add_argument('--proxy-server=socks5://127.0.0.1:1080')\n",
    "\n",
    "prefs = {\"profile.default_content_settings.popups\": 0,\n",
    "         # \"download.default_directory\": r\"D:\\Program Files (x86)\\百度云同步盘\\Dropbox\\-E·J- 2014.5.1\\2016.12.15 店小秘数据分析\\\\\", # IMPORTANT - ENDING SLASH V IMPORTANT\n",
    "         \"directory_upgrade\": True}\n",
    "options.add_experimental_option(\"prefs\", prefs)"
   ]
  },
  {
   "cell_type": "code",
   "execution_count": 13,
   "metadata": {},
   "outputs": [
    {
     "name": "stderr",
     "output_type": "stream",
     "text": [
      "C:\\ProgramData\\Anaconda3\\lib\\site-packages\\ipykernel_launcher.py:3: DeprecationWarning: use options instead of chrome_options\n",
      "  This is separate from the ipykernel package so we can avoid doing imports until\n"
     ]
    }
   ],
   "source": [
    "# 使用chromedriver才可以用开发者权限\n",
    "chrome_driver_path = \".//chrome_driver//chromedriver.exe\"\n",
    "browser = webdriver.Chrome(chrome_driver_path, chrome_options=options)"
   ]
  },
  {
   "cell_type": "code",
   "execution_count": 14,
   "metadata": {},
   "outputs": [],
   "source": [
    "# 重刷页面的脚本\n",
    "def open_page(browser, page_url):\n",
    "    i = 0\n",
    "    while i == 0:\n",
    "        try:\n",
    "            # browser = webdriver.Chrome(chrome_driver_path, chrome_options=options)\n",
    "            browser.get(page_url)\n",
    "            time.sleep(10)\n",
    "            i = 1\n",
    "        except:\n",
    "            pass\n",
    "        \n",
    "# 刷新\n",
    "def refresh_page(browser):\n",
    "    i = 0\n",
    "    while i == 0:\n",
    "        try:\n",
    "            # browser = webdriver.Chrome(chrome_driver_path, chrome_options=options)\n",
    "            browser.refresh()\n",
    "            time.sleep(10)\n",
    "            i = 1\n",
    "        except:\n",
    "            pass"
   ]
  },
  {
   "cell_type": "code",
   "execution_count": 15,
   "metadata": {},
   "outputs": [],
   "source": [
    "aliexpress_home_page = 'https://www.aliexpress.com/'\n",
    "\n",
    "open_page(browser, aliexpress_home_page)\n",
    "\n",
    "# remove ads, refresh again\n",
    "for i in range(5):\n",
    "    # browser.refresh()\n",
    "    # time.sleep(10)\n",
    "    refresh_page(browser)"
   ]
  },
  {
   "cell_type": "code",
   "execution_count": 16,
   "metadata": {},
   "outputs": [],
   "source": [
    "# 点击搜索框\n",
    "search_box = browser.find_elements_by_css_selector('.search-key')[0]\n",
    "search_box.click()\n",
    "search_box.send_keys('universal laptop charger')\n",
    "time.sleep(5)"
   ]
  },
  {
   "cell_type": "code",
   "execution_count": 17,
   "metadata": {},
   "outputs": [],
   "source": [
    "# 点击搜索\n",
    "search_button = browser.find_elements_by_css_selector('.search-button')[0]\n",
    "search_button.click()\n",
    "time.sleep(5)"
   ]
  },
  {
   "cell_type": "code",
   "execution_count": 18,
   "metadata": {},
   "outputs": [],
   "source": [
    "# 翻页到最后\n",
    "body = browser.find_element_by_css_selector('body')\n",
    "for i in range(30):\n",
    "    body.send_keys(Keys.PAGE_DOWN)\n",
    "    time.sleep(2)\n",
    "body.send_keys(Keys.END)\n",
    "time.sleep(10)"
   ]
  },
  {
   "cell_type": "code",
   "execution_count": 19,
   "metadata": {},
   "outputs": [],
   "source": [
    "# 查找商品\n",
    "item_price = browser.find_elements_by_css_selector('.price-current')\n",
    "item_title = browser.find_elements_by_css_selector('.item-title')\n",
    "item_sold = browser.find_elements_by_css_selector('.sale-value-link')\n",
    "store_name = browser.find_elements_by_css_selector('.store-name')\n",
    "# print(len(item_price))\n",
    "# print(len(item_title))\n",
    "# print(len(item_sold))\n",
    "# print(len(store_name))"
   ]
  },
  {
   "cell_type": "code",
   "execution_count": 20,
   "metadata": {},
   "outputs": [],
   "source": [
    "result_df = pd.DataFrame()\n",
    "# result_df"
   ]
  },
  {
   "cell_type": "code",
   "execution_count": 21,
   "metadata": {
    "scrolled": true
   },
   "outputs": [],
   "source": [
    "item_price_list, item_title_list, item_sold_list, store_name_list, store_url_list, item_url_list = list(), list(), list(), list(), list(), list()\n",
    "\n",
    "for i in range(len(item_sold)):\n",
    "    item_price_list.append(item_price[i].text)\n",
    "    item_title_list.append(item_title[i].text)\n",
    "    item_sold_list.append(item_sold[i].text)\n",
    "    store_name_list.append(store_name[i].text)\n",
    "    store_url_list.append(store_name[i].get_attribute(\"href\"))\n",
    "    item_url_list.append(item_title[i].get_attribute(\"href\"))\n",
    "    \n",
    "result_df['item_price'] = item_price_list\n",
    "result_df['item_title'] = item_title_list\n",
    "result_df['item_sold'] = item_sold_list\n",
    "result_df['store_name'] = store_name_list\n",
    "result_df['store_url'] = store_url_list\n",
    "result_df['item_url'] = item_url_list\n",
    "result_df['rank'] = result_df.index + 1\n",
    "# result_df"
   ]
  },
  {
   "cell_type": "code",
   "execution_count": 22,
   "metadata": {},
   "outputs": [],
   "source": [
    "today = date.today()\n",
    "d1 = today.strftime(\"%Y-%m-%d\")\n",
    "\n",
    "result_df.to_csv('../aliexpress_product_ranking/' + d1 + '.csv')\n",
    "browser.quit()"
   ]
  }
 ],
 "metadata": {
  "anaconda-cloud": {},
  "kernelspec": {
   "display_name": "Python 3",
   "language": "python",
   "name": "python3"
  },
  "language_info": {
   "codemirror_mode": {
    "name": "ipython",
    "version": 3
   },
   "file_extension": ".py",
   "mimetype": "text/x-python",
   "name": "python",
   "nbconvert_exporter": "python",
   "pygments_lexer": "ipython3",
   "version": "3.7.3"
  }
 },
 "nbformat": 4,
 "nbformat_minor": 1
}
