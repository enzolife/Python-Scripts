{
 "cells": [
  {
   "cell_type": "code",
   "execution_count": 14,
   "metadata": {
    "collapsed": true
   },
   "outputs": [],
   "source": [
    "from selenium import webdriver\n",
    "from selenium.webdriver.common.keys import Keys\n",
    "import pandas as pd\n",
    "import time\n",
    "import os\n",
    "import zipfile\n",
    "import shutil\n",
    "from datetime import date\n",
    "import logging"
   ]
  },
  {
   "cell_type": "code",
   "execution_count": null,
   "metadata": {
    "collapsed": true
   },
   "outputs": [],
   "source": [
    "# 获取脚本的当前路径，避免计划执行时路径出错\n",
    "home_dir = os.path.dirname(os.path.realpath(__file__))\n",
    "# 更换workding directory\n",
    "working_directory = home_dir\n",
    "os.chdir(working_directory)"
   ]
  },
  {
   "cell_type": "code",
   "execution_count": 15,
   "metadata": {
    "collapsed": true
   },
   "outputs": [],
   "source": [
    "logging.basicConfig(level=logging.INFO, format='%(asctime)s - %(levelname)s - %(message)s')"
   ]
  },
  {
   "cell_type": "code",
   "execution_count": 16,
   "metadata": {
    "collapsed": true
   },
   "outputs": [],
   "source": [
    "# 屏幕最大化，且指定下载目录\n",
    "options = webdriver.ChromeOptions()\n",
    "options.add_argument(\"--start-maximized\")\n",
    "\n",
    "prefs = {\"profile.default_content_settings.popups\": 0,\n",
    "         # \"download.default_directory\": r\"D:\\Program Files (x86)\\百度云同步盘\\Dropbox\\-E·J- 2014.5.1\\2016.12.15 店小秘数据分析\\\\\", # IMPORTANT - ENDING SLASH V IMPORTANT\n",
    "         \"directory_upgrade\": True}\n",
    "options.add_experimental_option(\"prefs\", prefs)"
   ]
  },
  {
   "cell_type": "code",
   "execution_count": 17,
   "metadata": {
    "collapsed": true
   },
   "outputs": [],
   "source": [
    "# 使用chromedriver才可以用开发者权限\n",
    "chrome_driver_path = \".//chrome_driver//chromedriver.exe\"\n",
    "browser = webdriver.Chrome(chrome_driver_path, chrome_options=options)"
   ]
  },
  {
   "cell_type": "code",
   "execution_count": 18,
   "metadata": {
    "collapsed": true
   },
   "outputs": [],
   "source": [
    "browser.get('https://www.aliexpress.com/')\n",
    "time.sleep(5)\n",
    "browser.get('https://www.aliexpress.com/')\n",
    "time.sleep(5)"
   ]
  },
  {
   "cell_type": "code",
   "execution_count": 19,
   "metadata": {
    "collapsed": true
   },
   "outputs": [],
   "source": [
    "selected_item_id_list = [32597758635,\n",
    "32942144691,\n",
    "32810164959,\n",
    "32632600938,\n",
    "33002563321,\n",
    "32810112786,\n",
    "32888170029,\n",
    "32788890848,\n",
    "32880886831,\n",
    "32874982263,\n",
    "32959239179,\n",
    "32850704130,\n",
    "32959386419,\n",
    "32788890852,\n",
    "32993977479,\n",
    "4000069793865,\n",
    "32343136892,\n",
    "32790959319,\n",
    "32954653412,\n",
    "32617572014,\n",
    "32788932952,\n",
    "32942053060,\n",
    "32957115062,\n",
    "32865455717,\n",
    "32971072372,\n",
    "33006223242,\n",
    "33035020392,\n",
    "32852427227,\n",
    "32887697518,\n",
    "33053088336,\n",
    "4000223489312,\n",
    "32862921368,\n",
    "32992033664,\n",
    "4000223461794,\n",
    "32818464811,\n",
    "33055562905,\n",
    "32799435466,\n",
    "32327844257,\n",
    "32858191355,\n",
    "32881314860,\n",
    "32982582725,\n",
    "32500831234,\n",
    "32827720628,\n",
    "32910850460,\n",
    "32887647476,\n",
    "32342515676,\n",
    "32531261115,\n",
    "32979767907,\n",
    "33003521931,\n",
    "32619544738,\n",
    "32998526782,\n",
    "32489626448,\n",
    "32851896442,\n",
    "32888118667,\n",
    "33037121126,\n",
    "33016171172,\n",
    "32803469620\n",
    "]"
   ]
  },
  {
   "cell_type": "code",
   "execution_count": 20,
   "metadata": {
    "collapsed": true
   },
   "outputs": [],
   "source": [
    "# item_url = 'https://www.aliexpress.com/item/---/' + str(selected_item_id_list[0]) + '.html'\n",
    "# item_url"
   ]
  },
  {
   "cell_type": "code",
   "execution_count": 21,
   "metadata": {
    "collapsed": true
   },
   "outputs": [],
   "source": [
    "# browser.get(item_url)"
   ]
  },
  {
   "cell_type": "code",
   "execution_count": 22,
   "metadata": {
    "collapsed": true
   },
   "outputs": [],
   "source": [
    "# item_sold = browser.find_elements_by_css_selector('.product-reviewer-sold')[0]\n",
    "# item_sold.text"
   ]
  },
  {
   "cell_type": "code",
   "execution_count": 23,
   "metadata": {
    "collapsed": true
   },
   "outputs": [],
   "source": [
    "result_df = pd.DataFrame()"
   ]
  },
  {
   "cell_type": "code",
   "execution_count": 24,
   "metadata": {
    "collapsed": true
   },
   "outputs": [],
   "source": [
    "item_id_list, item_sold_list, item_name_list = list(), list(), list()"
   ]
  },
  {
   "cell_type": "code",
   "execution_count": 25,
   "metadata": {
    "scrolled": true
   },
   "outputs": [
    {
     "name": "stderr",
     "output_type": "stream",
     "text": [
      "2019-10-14 00:06:19,908 - INFO - 32597758635 has been finished.\n",
      "2019-10-14 00:06:26,755 - INFO - 32942144691 has been finished.\n",
      "2019-10-14 00:06:34,877 - INFO - 32810164959 has been finished.\n",
      "2019-10-14 00:06:43,471 - INFO - 32632600938 has been finished.\n",
      "2019-10-14 00:06:50,298 - INFO - 33002563321 has been finished.\n",
      "2019-10-14 00:06:58,477 - INFO - 32810112786 has been finished.\n",
      "2019-10-14 00:07:05,441 - INFO - 32888170029 has been finished.\n",
      "2019-10-14 00:07:14,033 - INFO - 32788890848 has been finished.\n",
      "2019-10-14 00:07:21,289 - INFO - 32880886831 has been finished.\n",
      "2019-10-14 00:07:28,387 - INFO - 32874982263 has been finished.\n",
      "2019-10-14 00:07:35,507 - INFO - 32959239179 has been finished.\n",
      "2019-10-14 00:07:42,337 - INFO - 32850704130 has been finished.\n",
      "2019-10-14 00:07:48,865 - INFO - 32959386419 has been finished.\n",
      "2019-10-14 00:07:56,281 - INFO - 32788890852 has been finished.\n",
      "2019-10-14 00:08:02,914 - INFO - 32993977479 has been finished.\n",
      "2019-10-14 00:08:09,778 - INFO - 4000069793865 has been finished.\n",
      "2019-10-14 00:08:16,693 - INFO - 32343136892 has been finished.\n",
      "2019-10-14 00:08:23,336 - INFO - 32790959319 has been finished.\n",
      "2019-10-14 00:08:30,123 - INFO - 32954653412 has been finished.\n",
      "2019-10-14 00:08:38,364 - INFO - 32617572014 has been finished.\n",
      "2019-10-14 00:08:45,309 - INFO - 32788932952 has been finished.\n",
      "2019-10-14 00:08:52,065 - INFO - 32942053060 has been finished.\n",
      "2019-10-14 00:08:58,914 - INFO - 32957115062 has been finished.\n",
      "2019-10-14 00:09:05,309 - INFO - 32865455717 has been finished.\n",
      "2019-10-14 00:09:11,690 - INFO - 32971072372 has been finished.\n",
      "2019-10-14 00:09:18,596 - INFO - 33006223242 has been finished.\n",
      "2019-10-14 00:09:25,616 - INFO - 33035020392 has been finished.\n",
      "2019-10-14 00:09:32,149 - INFO - 32852427227 has been finished.\n",
      "2019-10-14 00:09:38,979 - INFO - 32887697518 has been finished.\n",
      "2019-10-14 00:09:45,537 - INFO - 33053088336 has been finished.\n",
      "2019-10-14 00:09:51,754 - INFO - 4000223489312 has been finished.\n",
      "2019-10-14 00:09:58,106 - INFO - 32862921368 has been finished.\n",
      "2019-10-14 00:10:04,278 - INFO - 32992033664 has been finished.\n",
      "2019-10-14 00:10:10,475 - INFO - 4000223461794 has been finished.\n",
      "2019-10-14 00:10:17,027 - INFO - 32818464811 has been finished.\n",
      "2019-10-14 00:10:23,740 - INFO - 33055562905 has been finished.\n",
      "2019-10-14 00:10:30,202 - INFO - 32799435466 has been finished.\n",
      "2019-10-14 00:10:36,582 - INFO - 32327844257 has been finished.\n",
      "2019-10-14 00:10:43,237 - INFO - 32858191355 has been finished.\n",
      "2019-10-14 00:10:50,286 - INFO - 32881314860 has been finished.\n",
      "2019-10-14 00:10:56,676 - INFO - 32982582725 has been finished.\n",
      "2019-10-14 00:11:03,847 - INFO - 32500831234 has been finished.\n",
      "2019-10-14 00:11:10,099 - INFO - 32827720628 has been finished.\n",
      "2019-10-14 00:11:16,776 - INFO - 32910850460 has been finished.\n",
      "2019-10-14 00:11:23,074 - INFO - 32887647476 has been finished.\n",
      "2019-10-14 00:11:29,295 - INFO - 32342515676 has been finished.\n",
      "2019-10-14 00:11:35,563 - INFO - 32531261115 has been finished.\n",
      "2019-10-14 00:11:42,170 - INFO - 32979767907 has been finished.\n",
      "2019-10-14 00:11:50,910 - INFO - 33003521931 has been finished.\n",
      "2019-10-14 00:11:59,065 - INFO - 32619544738 has been finished.\n",
      "2019-10-14 00:12:05,699 - INFO - 32998526782 has been finished.\n",
      "2019-10-14 00:12:12,658 - INFO - 32489626448 has been finished.\n",
      "2019-10-14 00:12:21,463 - INFO - 32851896442 has been finished.\n",
      "2019-10-14 00:12:29,109 - INFO - 32888118667 has been finished.\n",
      "2019-10-14 00:12:38,544 - INFO - 33037121126 has been finished.\n",
      "2019-10-14 00:12:45,103 - INFO - 33016171172 has been finished.\n",
      "2019-10-14 00:12:51,854 - INFO - 32803469620 has been finished.\n",
      "2019-10-14 00:12:59,434 - INFO - 4000131355320 has been finished.\n",
      "2019-10-14 00:13:05,851 - INFO - 33027410897 has been finished.\n",
      "2019-10-14 00:13:12,729 - INFO - 32803617403 has been finished.\n",
      "2019-10-14 00:13:19,122 - INFO - 32964185065 has been finished.\n",
      "2019-10-14 00:13:26,016 - INFO - 32672034760 has been finished.\n",
      "2019-10-14 00:13:32,372 - INFO - 33063807272 has been finished.\n",
      "2019-10-14 00:13:39,359 - INFO - 4000052060355 has been finished.\n",
      "2019-10-14 00:13:47,533 - INFO - 32678406564 has been finished.\n",
      "2019-10-14 00:13:53,814 - INFO - 32889507635 has been finished.\n",
      "2019-10-14 00:14:00,465 - INFO - 32810991774 has been finished.\n",
      "2019-10-14 00:14:06,820 - INFO - 33018219380 has been finished.\n",
      "2019-10-14 00:14:12,972 - INFO - 32821069855 has been finished.\n",
      "2019-10-14 00:14:20,089 - INFO - 4000018022741 has been finished.\n",
      "2019-10-14 00:14:26,918 - INFO - 33027414763 has been finished.\n",
      "2019-10-14 00:14:33,370 - INFO - 32814894221 has been finished.\n",
      "2019-10-14 00:14:40,656 - INFO - 33055874024 has been finished.\n",
      "2019-10-14 00:14:47,029 - INFO - 1551834155 has been finished.\n",
      "2019-10-14 00:14:53,520 - INFO - 32954995489 has been finished.\n",
      "2019-10-14 00:15:00,298 - INFO - 4000087977155 has been finished.\n",
      "2019-10-14 00:15:06,960 - INFO - 32839270065 has been finished.\n",
      "2019-10-14 00:15:13,265 - INFO - 32606370302 has been finished.\n",
      "2019-10-14 00:15:19,443 - INFO - 32739690304 has been finished.\n"
     ]
    }
   ],
   "source": [
    "for item_id in selected_item_id_list:\n",
    "    try:\n",
    "        item_url = 'https://www.aliexpress.com/item/---/' + str(item_id) + '.html'\n",
    "        browser.get(item_url)\n",
    "        time.sleep(5)\n",
    "\n",
    "        item_sold = browser.find_elements_by_css_selector('.product-reviewer-sold')[0].text\n",
    "        item_name = browser.find_elements_by_css_selector('.product-title')[0].text\n",
    "\n",
    "        item_id_list.append(item_id)\n",
    "        item_sold_list.append(item_sold)\n",
    "        item_name_list.append(item_name)\n",
    "\n",
    "        logging.info(str(item_id) + ' has been finished.')\n",
    "    except:\n",
    "        logging.info(str(item_id) + ' has not been finished.')\n",
    "    \n",
    "result_df['item_id'] = item_id_list\n",
    "result_df['item_sold'] = item_sold_list\n",
    "result_df['item_name'] = item_name_list"
   ]
  },
  {
   "cell_type": "code",
   "execution_count": 26,
   "metadata": {
    "collapsed": true
   },
   "outputs": [],
   "source": [
    "today = date.today()\n",
    "d1 = today.strftime(\"%Y-%m-%d\")\n",
    "\n",
    "result_df.to_csv('../aliexpress_selected_product_crawling/' + d1 + '.csv')\n",
    "browser.quit()"
   ]
  }
 ],
 "metadata": {
  "anaconda-cloud": {},
  "kernelspec": {
   "display_name": "Python [default]",
   "language": "python",
   "name": "python3"
  },
  "language_info": {
   "codemirror_mode": {
    "name": "ipython",
    "version": 3
   },
   "file_extension": ".py",
   "mimetype": "text/x-python",
   "name": "python",
   "nbconvert_exporter": "python",
   "pygments_lexer": "ipython3",
   "version": "3.5.2"
  }
 },
 "nbformat": 4,
 "nbformat_minor": 1
}
