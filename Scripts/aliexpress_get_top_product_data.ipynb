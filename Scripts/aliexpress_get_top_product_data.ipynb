{
 "cells": [
  {
   "cell_type": "code",
   "execution_count": 223,
   "metadata": {
    "collapsed": true
   },
   "outputs": [],
   "source": [
    "from selenium import webdriver\n",
    "from selenium.webdriver.common.keys import Keys\n",
    "import pandas as pd\n",
    "import time\n",
    "import datetime\n",
    "import logging\n",
    "import os"
   ]
  },
  {
   "cell_type": "code",
   "execution_count": 246,
   "metadata": {},
   "outputs": [
    {
     "ename": "NameError",
     "evalue": "name '__file__' is not defined",
     "output_type": "error",
     "traceback": [
      "\u001b[0;31m---------------------------------------------------------------------------\u001b[0m",
      "\u001b[0;31mNameError\u001b[0m                                 Traceback (most recent call last)",
      "\u001b[0;32m<ipython-input-246-8d36aa1fa89c>\u001b[0m in \u001b[0;36m<module>\u001b[0;34m()\u001b[0m\n\u001b[1;32m      1\u001b[0m \u001b[1;31m# 获取脚本的当前路径，避免计划执行时路径出错\u001b[0m\u001b[1;33m\u001b[0m\u001b[1;33m\u001b[0m\u001b[0m\n\u001b[0;32m----> 2\u001b[0;31m \u001b[0mhome_dir\u001b[0m \u001b[1;33m=\u001b[0m \u001b[0mos\u001b[0m\u001b[1;33m.\u001b[0m\u001b[0mpath\u001b[0m\u001b[1;33m.\u001b[0m\u001b[0mdirname\u001b[0m\u001b[1;33m(\u001b[0m\u001b[0mos\u001b[0m\u001b[1;33m.\u001b[0m\u001b[0mpath\u001b[0m\u001b[1;33m.\u001b[0m\u001b[0mrealpath\u001b[0m\u001b[1;33m(\u001b[0m\u001b[0m__file__\u001b[0m\u001b[1;33m)\u001b[0m\u001b[1;33m)\u001b[0m\u001b[1;33m\u001b[0m\u001b[0m\n\u001b[0m\u001b[1;32m      3\u001b[0m \u001b[1;31m# 更换workding directory\u001b[0m\u001b[1;33m\u001b[0m\u001b[1;33m\u001b[0m\u001b[0m\n\u001b[1;32m      4\u001b[0m \u001b[0mworking_directory\u001b[0m \u001b[1;33m=\u001b[0m \u001b[0mhome_dir\u001b[0m\u001b[1;33m\u001b[0m\u001b[0m\n\u001b[1;32m      5\u001b[0m \u001b[1;31m# os.chdir(working_directory)\u001b[0m\u001b[1;33m\u001b[0m\u001b[1;33m\u001b[0m\u001b[0m\n",
      "\u001b[0;31mNameError\u001b[0m: name '__file__' is not defined"
     ]
    }
   ],
   "source": [
    "# # 获取脚本的当前路径，避免计划执行时路径出错\n",
    "# home_dir = os.path.dirname(os.path.realpath(__file__))\n",
    "# # 更换workding directory\n",
    "# working_directory = home_dir\n",
    "# os.chdir(working_directory)"
   ]
  },
  {
   "cell_type": "code",
   "execution_count": 225,
   "metadata": {
    "collapsed": true
   },
   "outputs": [],
   "source": [
    "# Date\n",
    "today_date = datetime.date.today() + datetime.timedelta(days=0)\n",
    "yesterday_date = datetime.date.today() + datetime.timedelta(days=-1)\n",
    "seven_days_before_date = datetime.date.today() + datetime.timedelta(days=-7)\n",
    "\n",
    "today_date_string = today_date.strftime('%Y_%m_%d')"
   ]
  },
  {
   "cell_type": "code",
   "execution_count": 226,
   "metadata": {},
   "outputs": [],
   "source": [
    "end_date = datetime.date.today() - datetime.timedelta(days=47)\n",
    "start_date = datetime.date.today() - datetime.timedelta(days=2)\n",
    "\n",
    "start_date_string = start_date.strftime('%Y-%m-%d')\n",
    "end_date_string = end_date.strftime('%Y-%m-%d')\n",
    "\n",
    "start_end_string = end_date_string + ' to ' + start_date_string\n",
    "# start_end_string"
   ]
  },
  {
   "cell_type": "code",
   "execution_count": 227,
   "metadata": {
    "collapsed": true
   },
   "outputs": [],
   "source": [
    "log_file_name = 'shopee_add_and_cancel_fans_log\\\\shopee_add_and_cancel_fans_log_' + today_date_string + '.txt'\n",
    "\n",
    "# logging.basicConfig(filename=log_file_name, level=logging.INFO, format='%(asctime)s - %(levelname)s - %(message)s')\n",
    "\n",
    "logging.basicConfig(level=logging.INFO, format='%(asctime)s - %(levelname)s - %(message)s')"
   ]
  },
  {
   "cell_type": "code",
   "execution_count": 228,
   "metadata": {},
   "outputs": [],
   "source": [
    "# 屏幕最大化，且指定下载目录\n",
    "options = webdriver.ChromeOptions()\n",
    "options.add_argument(\"--start-maximized\")\n",
    "options.add_argument(\"--disable-notifications\")\n",
    "\n",
    "prefs = {\"profile.default_content_settings.popups\": 0,\n",
    "         \"directory_upgrade\": True,\n",
    "         \"profile.default_content_setting_values.notifications\" : 2,\n",
    "         \"download.default_directory\": \"../aliexpress_top_product_data/\"}\n",
    "options.add_experimental_option(\"prefs\", prefs)"
   ]
  },
  {
   "cell_type": "code",
   "execution_count": 229,
   "metadata": {
    "collapsed": true
   },
   "outputs": [],
   "source": [
    "# 使用chromedriver才可以用开发者权限\n",
    "chrome_driver_path = \".//chrome_driver//chromedriver.exe\"\n",
    "browser = webdriver.Chrome(chrome_driver_path, chrome_options=options)"
   ]
  },
  {
   "cell_type": "code",
   "execution_count": 230,
   "metadata": {
    "collapsed": true
   },
   "outputs": [],
   "source": [
    "browser.get('https://gsp.aliexpress.com/')\n",
    "# browser.get('https://datamatrix.aliexpress.com/wsDlProductAnalysis.htm')"
   ]
  },
  {
   "cell_type": "code",
   "execution_count": 231,
   "metadata": {
    "collapsed": true
   },
   "outputs": [],
   "source": [
    "# 切换到输入密码的iframe\n",
    "browser.switch_to.frame('alibaba-login-box')"
   ]
  },
  {
   "cell_type": "code",
   "execution_count": 232,
   "metadata": {
    "collapsed": true
   },
   "outputs": [],
   "source": [
    "acc_password_class = \".fm-text\"\n",
    "acc_password_input_elem = browser.find_elements_by_css_selector(acc_password_class)\n",
    "# len(acc_password_input_elem)"
   ]
  },
  {
   "cell_type": "code",
   "execution_count": 233,
   "metadata": {
    "collapsed": true
   },
   "outputs": [],
   "source": [
    "# 输入账户密码登录\n",
    "time.sleep(10)\n",
    "acc_password_input_elem[0].click()\n",
    "acc_password_input_elem[0].send_keys('15622252963@163.com')\n",
    "acc_password_input_elem[1].click()\n",
    "acc_password_input_elem[1].send_keys('932584162apple')\n",
    "time.sleep(10)"
   ]
  },
  {
   "cell_type": "code",
   "execution_count": 234,
   "metadata": {},
   "outputs": [
    {
     "data": {
      "text/plain": [
       "selenium.webdriver.remote.webelement.WebElement"
      ]
     },
     "execution_count": 234,
     "metadata": {},
     "output_type": "execute_result"
    }
   ],
   "source": [
    "# 点击登录\n",
    "log_in_button = browser.find_element_by_css_selector('.fm-button.fm-submit')\n",
    "type(log_in_button)"
   ]
  },
  {
   "cell_type": "code",
   "execution_count": 235,
   "metadata": {},
   "outputs": [],
   "source": [
    "log_in_button.click()\n",
    "time.sleep(10)"
   ]
  },
  {
   "cell_type": "code",
   "execution_count": 236,
   "metadata": {},
   "outputs": [],
   "source": [
    "# 点击‘我的’\n",
    "profile_name = browser.find_element_by_css_selector('.profile-name')\n",
    "profile_name.click()\n",
    "time.sleep(5)\n",
    "\n",
    "# 点击语言\n",
    "select_content = browser.find_elements_by_css_selector('.select-content')[3]\n",
    "select_content.click()\n",
    "time.sleep(5)\n",
    "\n",
    "# 选择中文\n",
    "select_chinese = browser.find_elements_by_css_selector('.ae-layout-next-radio-label')[2]\n",
    "select_chinese.click()\n",
    "time.sleep(5)\n",
    "\n",
    "# 确认\n",
    "confirm_selection = browser.find_element_by_css_selector('.ae-layout-next-btn.ae-layout-next-medium.ae-layout-next-btn-primary.ae-layout-next-dialog-btn')\n",
    "confirm_selection.click()\n",
    "time.sleep(5)"
   ]
  },
  {
   "cell_type": "code",
   "execution_count": 237,
   "metadata": {
    "collapsed": true
   },
   "outputs": [],
   "source": [
    "browser.get('https://datamatrix.aliexpress.com/wsDlProductAnalysis.htm')"
   ]
  },
  {
   "cell_type": "code",
   "execution_count": 238,
   "metadata": {
    "collapsed": true
   },
   "outputs": [],
   "source": [
    "# 输入产品ID\n",
    "time.sleep(10)\n",
    "product_id_input_box = browser.find_element_by_css_selector('.new-text')\n",
    "product_id_input_box.click()\n",
    "product_id_input_box.send_keys('32597758635')\n",
    "time.sleep(5)\n",
    "\n",
    "# 点击搜索\n",
    "product_search_button = browser.find_element_by_css_selector('.ui-button.ui-button-primary.ui-button-large.new-button')\n",
    "product_search_button.click()\n",
    "time.sleep(5)"
   ]
  },
  {
   "cell_type": "code",
   "execution_count": 239,
   "metadata": {
    "collapsed": true
   },
   "outputs": [],
   "source": [
    "# 展开数据\n",
    "more_data = browser.find_element_by_css_selector('.operation-item.pdt-ana-more')\n",
    "more_data.click()\n",
    "time.sleep(5)"
   ]
  },
  {
   "cell_type": "code",
   "execution_count": 240,
   "metadata": {
    "collapsed": true
   },
   "outputs": [],
   "source": [
    "# # 选择日期范围\n",
    "# date_selection = browser.find_element_by_css_selector('.date-selection')\n",
    "# date_selection.clear()\n",
    "# date_selection.send_keys(start_end_string)\n",
    "# time.sleep(5)"
   ]
  },
  {
   "cell_type": "code",
   "execution_count": 241,
   "metadata": {
    "collapsed": true
   },
   "outputs": [],
   "source": [
    "# 选择自定义时间\n",
    "# customs_time_range = browser.find_element_by_xpath('//select[@id=\"core-data-select\"]/option[text()=\"自定义时间\"]')"
   ]
  },
  {
   "cell_type": "code",
   "execution_count": 242,
   "metadata": {
    "collapsed": true
   },
   "outputs": [],
   "source": [
    "# date_selection.click()\n",
    "# time.sleep(5)"
   ]
  },
  {
   "cell_type": "code",
   "execution_count": 243,
   "metadata": {
    "collapsed": true
   },
   "outputs": [],
   "source": [
    "# confirm_button = browser.find_elements_by_css_selector('.ui-button.ui-button-normal.ui-button-small')[0]\n",
    "# confirm_button.click()"
   ]
  },
  {
   "cell_type": "code",
   "execution_count": 244,
   "metadata": {
    "collapsed": true
   },
   "outputs": [],
   "source": [
    "# 下载\n",
    "download_data = browser.find_elements_by_css_selector('.ws-download.f-r')[1]\n",
    "download_data.click()\n",
    "time.sleep(5)"
   ]
  },
  {
   "cell_type": "code",
   "execution_count": null,
   "metadata": {
    "collapsed": true
   },
   "outputs": [],
   "source": []
  }
 ],
 "metadata": {
  "anaconda-cloud": {},
  "kernelspec": {
   "display_name": "Python [conda env:Anaconda3]",
   "language": "python",
   "name": "conda-env-Anaconda3-py"
  },
  "language_info": {
   "codemirror_mode": {
    "name": "ipython",
    "version": 3
   },
   "file_extension": ".py",
   "mimetype": "text/x-python",
   "name": "python",
   "nbconvert_exporter": "python",
   "pygments_lexer": "ipython3",
   "version": "3.5.2"
  }
 },
 "nbformat": 4,
 "nbformat_minor": 1
}
