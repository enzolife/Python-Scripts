{
 "cells": [
  {
   "cell_type": "code",
   "execution_count": 1,
   "metadata": {
    "collapsed": true
   },
   "outputs": [],
   "source": [
    "from selenium import webdriver\n",
    "import pandas as pd\n",
    "import time\n",
    "import os\n",
    "import zipfile\n",
    "import shutil"
   ]
  },
  {
   "cell_type": "code",
   "execution_count": 2,
   "metadata": {
    "collapsed": true
   },
   "outputs": [],
   "source": [
    "# 屏幕最大化，且指定下载目录\n",
    "options = webdriver.ChromeOptions()\n",
    "options.add_argument(\"--start-maximized\")\n",
    "\n",
    "prefs = {\"profile.default_content_settings.popups\": 0,\n",
    "         \"download.default_directory\": r\"D:\\Program Files (x86)\\百度云同步盘\\Dropbox\\-E·J- 2014.5.1\\2016.12.15 店小秘数据分析\\\\\", # IMPORTANT - ENDING SLASH V IMPORTANT\n",
    "         \"directory_upgrade\": True}\n",
    "options.add_experimental_option(\"prefs\", prefs)"
   ]
  },
  {
   "cell_type": "code",
   "execution_count": 3,
   "metadata": {
    "collapsed": true
   },
   "outputs": [],
   "source": [
    "# 使用chromedriver才可以用开发者权限\n",
    "chrome_driver_path = \".//chrome_driver//chromedriver.exe\"\n",
    "browser = webdriver.Chrome(chrome_driver_path, chrome_options=options)"
   ]
  },
  {
   "cell_type": "code",
   "execution_count": 4,
   "metadata": {
    "collapsed": true
   },
   "outputs": [],
   "source": [
    "browser.get('https://www.dianxiaomi.com/')"
   ]
  },
  {
   "cell_type": "code",
   "execution_count": 5,
   "metadata": {},
   "outputs": [
    {
     "data": {
      "text/plain": [
       "11"
      ]
     },
     "execution_count": 5,
     "metadata": {},
     "output_type": "execute_result"
    }
   ],
   "source": [
    "acc_password_input_elem = browser.find_elements_by_css_selector('.form-control')\n",
    "len(acc_password_input_elem)"
   ]
  },
  {
   "cell_type": "code",
   "execution_count": 6,
   "metadata": {
    "collapsed": true
   },
   "outputs": [],
   "source": [
    "# 输入账户密码登录\n",
    "acc_password_input_elem[0].click()\n",
    "acc_password_input_elem[0].send_keys('enzolife')\n",
    "acc_password_input_elem[1].click()\n",
    "acc_password_input_elem[1].send_keys('enzo81037997')\n",
    "time.sleep(10)"
   ]
  },
  {
   "cell_type": "code",
   "execution_count": 7,
   "metadata": {
    "collapsed": true
   },
   "outputs": [],
   "source": [
    "# 点击登录\n",
    "log_in_button = browser.find_element_by_css_selector('.loginbnt.btn.btn-info.btn-denglu.btn-block')\n",
    "log_in_button.click()\n",
    "time.sleep(10)"
   ]
  },
  {
   "cell_type": "code",
   "execution_count": 8,
   "metadata": {
    "collapsed": true
   },
   "outputs": [],
   "source": [
    "# 重新刷新页面，去掉广告\n",
    "browser.get('https://www.dianxiaomi.com/')"
   ]
  },
  {
   "cell_type": "code",
   "execution_count": 9,
   "metadata": {},
   "outputs": [
    {
     "name": "stdout",
     "output_type": "stream",
     "text": [
      "Can't find any.\n",
      "Can't find any.\n",
      "Can't find any.\n",
      "Can't find any.\n",
      "Can't find any.\n"
     ]
    }
   ],
   "source": [
    "# 关闭提示窗\n",
    "i = 1\n",
    "while i <= 5:\n",
    "    time.sleep(5)\n",
    "    i += 1\n",
    "    try:\n",
    "        close_button = browser.find_element_by_css_selector('.btn.btn-determine')\n",
    "        close_button.click()\n",
    "    except:\n",
    "        print(\"Can't find any.\")"
   ]
  },
  {
   "cell_type": "code",
   "execution_count": 13,
   "metadata": {
    "collapsed": true
   },
   "outputs": [],
   "source": [
    "# 点击订单处理\n",
    "time.sleep(10)\n",
    "browser.get('https://www.dianxiaomi.com/order/index.htm')\n",
    "time.sleep(5)"
   ]
  },
  {
   "cell_type": "code",
   "execution_count": 14,
   "metadata": {
    "collapsed": true
   },
   "outputs": [],
   "source": [
    "# 点击全部订单\n",
    "all_order = browser.find_elements_by_css_selector('.pLeft10.pRight10')[0]\n",
    "all_order.click()\n",
    "time.sleep(5)"
   ]
  },
  {
   "cell_type": "code",
   "execution_count": 16,
   "metadata": {},
   "outputs": [],
   "source": [
    "# 点击导出订单\n",
    "export_order = browser.find_elements_by_css_selector('.btn.btn-primary.dropdown-toggle')[-1]\n",
    "export_order.click()\n",
    "time.sleep(5)"
   ]
  },
  {
   "cell_type": "code",
   "execution_count": 17,
   "metadata": {
    "collapsed": true
   },
   "outputs": [],
   "source": [
    "# 点击导出所有页订单\n",
    "export_all_order = browser.find_element_by_link_text('导出全部页订单')\n",
    "export_all_order.click()\n",
    "time.sleep(5)"
   ]
  },
  {
   "cell_type": "code",
   "execution_count": 18,
   "metadata": {
    "collapsed": true
   },
   "outputs": [],
   "source": [
    "# 点击按订单导出\n",
    "export_all_order = browser.find_elements_by_name('isMaster')[1]\n",
    "export_all_order.click()\n",
    "time.sleep(5)"
   ]
  },
  {
   "cell_type": "code",
   "execution_count": 19,
   "metadata": {
    "collapsed": true
   },
   "outputs": [],
   "source": [
    "# 选择模板\n",
    "export_template = browser.find_element_by_xpath('//select[@id=\"exportTemplateSelect\"]/option[text()=\"Enzo\\'s所有订单信息导出\"]')\n",
    "export_template.click()\n",
    "time.sleep(5)"
   ]
  },
  {
   "cell_type": "code",
   "execution_count": 20,
   "metadata": {
    "collapsed": true
   },
   "outputs": [],
   "source": [
    "# 点击导出，等待30s\n",
    "export_start = browser.find_element_by_id('exportOrderBtn')\n",
    "export_start.click()\n",
    "time.sleep(30)"
   ]
  },
  {
   "cell_type": "code",
   "execution_count": 21,
   "metadata": {
    "collapsed": true
   },
   "outputs": [],
   "source": [
    "# 点击下载\n",
    "download_button = browser.find_elements_by_css_selector('.btn.dropdown-toggle.btn-primary')\n",
    "download_button[-1].click()\n",
    "# 点击高速下载\n",
    "highspeed_download = browser.find_element_by_link_text('高速下载地址')\n",
    "highspeed_download.click()\n",
    "time.sleep(5)"
   ]
  },
  {
   "cell_type": "code",
   "execution_count": 22,
   "metadata": {},
   "outputs": [
    {
     "data": {
      "text/plain": [
       "'D://Program Files (x86)//百度云同步盘//Dropbox//-E·J- 2014.5.1//2016.12.15 店小秘数据分析//店小秘订单列表.xlsx'"
      ]
     },
     "execution_count": 22,
     "metadata": {},
     "output_type": "execute_result"
    }
   ],
   "source": [
    "# 查找文件夹里面的ZIP file\n",
    "# zip_file_folder = \"D://Program Files (x86)//百度云同步盘//Dropbox//-E·J- 2014.5.1//2016.12.15 店小秘数据分析//\"\n",
    "# for filename in os.listdir(zip_file_folder):\n",
    "#     if filename.endswith('.zip'):\n",
    "#         filepath = os.path.join(zip_file_folder, filename)\n",
    "#         z = zipfile.ZipFile(filepath)\n",
    "#         z.extract('订单列表1.xlsx', zip_file_folder)\n",
    "#         shutil.move(os.path.join(zip_file_folder, \"订单列表1.xlsx\"), os.path.join(zip_file_folder, \"店小秘订单列表.xlsx\"))\n",
    "#         z.close()\n",
    "#         os.unlink(filepath)\n",
    "\n",
    "import glob\n",
    "\n",
    "# 替换文件\n",
    "download_file_folder = \"D://Program Files (x86)//百度云同步盘//Dropbox//-E·J- 2014.5.1//2016.12.15 店小秘数据分析//\"\n",
    "download_file_type = '*.xlsx'\n",
    "download_files = glob.glob(download_file_folder + download_file_type)\n",
    "max_download_file = max(download_files, key=os.path.getctime)\n",
    "\n",
    "# 查找当前文件夹最新文件\n",
    "shutil.move(max_download_file, os.path.join(download_file_folder, \"店小秘订单列表.xlsx\"))\n",
    "# max_download_file"
   ]
  },
  {
   "cell_type": "code",
   "execution_count": 23,
   "metadata": {
    "collapsed": true
   },
   "outputs": [],
   "source": [
    "# 点击订单处理\n",
    "browser.get('https://www.dianxiaomi.com/order/index.htm')\n",
    "time.sleep(20)"
   ]
  },
  {
   "cell_type": "code",
   "execution_count": 24,
   "metadata": {
    "collapsed": true
   },
   "outputs": [],
   "source": [
    "# 点击全部订单\n",
    "all_order = browser.find_elements_by_css_selector('.pLeft10.pRight10')[0]\n",
    "all_order.click()\n",
    "time.sleep(5)"
   ]
  },
  {
   "cell_type": "code",
   "execution_count": 26,
   "metadata": {},
   "outputs": [],
   "source": [
    "# 点击导出订单\n",
    "export_order = browser.find_elements_by_css_selector('.btn.btn-primary.dropdown-toggle')[-1]\n",
    "export_order.click()\n",
    "time.sleep(5)"
   ]
  },
  {
   "cell_type": "code",
   "execution_count": 27,
   "metadata": {
    "collapsed": true
   },
   "outputs": [],
   "source": [
    "# 点击导出所有页订单\n",
    "export_all_order = browser.find_element_by_link_text('导出全部页订单')\n",
    "export_all_order.click()\n",
    "time.sleep(5)"
   ]
  },
  {
   "cell_type": "code",
   "execution_count": 28,
   "metadata": {
    "collapsed": true
   },
   "outputs": [],
   "source": [
    "# 点击按产品导出\n",
    "export_all_order = browser.find_elements_by_name('isMaster')[2]\n",
    "export_all_order.click()\n",
    "time.sleep(5)"
   ]
  },
  {
   "cell_type": "code",
   "execution_count": 29,
   "metadata": {
    "collapsed": true
   },
   "outputs": [],
   "source": [
    "# 选择模板\n",
    "export_template = browser.find_element_by_xpath('//select[@id=\"exportTemplateSelect\"]/option[text()=\"Enzo\\'s所有订单信息导出\"]')\n",
    "export_template.click()\n",
    "time.sleep(5)"
   ]
  },
  {
   "cell_type": "code",
   "execution_count": 30,
   "metadata": {
    "collapsed": true
   },
   "outputs": [],
   "source": [
    "# 点击导出，等待30s\n",
    "export_start = browser.find_element_by_id('exportOrderBtn')\n",
    "export_start.click()\n",
    "time.sleep(30)"
   ]
  },
  {
   "cell_type": "code",
   "execution_count": 31,
   "metadata": {
    "collapsed": true
   },
   "outputs": [],
   "source": [
    "# 点击下载\n",
    "download_button = browser.find_elements_by_css_selector('.btn.dropdown-toggle.btn-primary')\n",
    "download_button[-1].click()\n",
    "time.sleep(5)\n",
    "# 点击高速下载\n",
    "highspeed_download = browser.find_element_by_link_text('高速下载地址')\n",
    "highspeed_download.click()\n",
    "time.sleep(30)"
   ]
  },
  {
   "cell_type": "code",
   "execution_count": 32,
   "metadata": {},
   "outputs": [
    {
     "data": {
      "text/plain": [
       "'D://Program Files (x86)//百度云同步盘//Dropbox//-E·J- 2014.5.1//2016.12.15 店小秘数据分析//店小秘订单列表（商品维度）.xlsx'"
      ]
     },
     "execution_count": 32,
     "metadata": {},
     "output_type": "execute_result"
    }
   ],
   "source": [
    "# 查找文件夹里面的ZIP file\n",
    "# zip_file_folder = \"D://Program Files (x86)//百度云同步盘//Dropbox//-E·J- 2014.5.1//2016.12.15 店小秘数据分析//\"\n",
    "# for filename in os.listdir(zip_file_folder):\n",
    "#     if filename.endswith('.zip'):\n",
    "#         filepath = os.path.join(zip_file_folder, filename)\n",
    "#         z = zipfile.ZipFile(filepath)\n",
    "#         z.extract('订单列表1.xlsx', zip_file_folder)\n",
    "#         shutil.move(os.path.join(zip_file_folder, \"订单列表1.xlsx\"), os.path.join(zip_file_folder, \"店小秘订单列表（商品维度）.xlsx\"))\n",
    "#         z.close()\n",
    "#         os.unlink(filepath)\n",
    "\n",
    "# 替换文件\n",
    "download_file_folder = \"D://Program Files (x86)//百度云同步盘//Dropbox//-E·J- 2014.5.1//2016.12.15 店小秘数据分析//\"\n",
    "download_file_type = '*.xlsx'\n",
    "download_files = glob.glob(download_file_folder + download_file_type)\n",
    "max_download_file = max(download_files, key=os.path.getctime)\n",
    "\n",
    "# 查找当前文件夹最新文件\n",
    "shutil.move(max_download_file, os.path.join(download_file_folder, \"店小秘订单列表（商品维度）.xlsx\"))"
   ]
  },
  {
   "cell_type": "code",
   "execution_count": 33,
   "metadata": {
    "collapsed": true
   },
   "outputs": [],
   "source": [
    "# 点击物流跟踪\n",
    "# browser.get('https://www.dianxiaomi.com/tracking/index.htm')\n",
    "# time.sleep(5)"
   ]
  },
  {
   "cell_type": "code",
   "execution_count": 34,
   "metadata": {
    "collapsed": true
   },
   "outputs": [],
   "source": [
    "# 点击导出记录，按条件导出\n",
    "# export_order = browser.find_elements_by_css_selector('.button.btn-determine.dropdown-toggle')[0]\n",
    "# export_order.click()\n",
    "# time.sleep(5)"
   ]
  },
  {
   "cell_type": "code",
   "execution_count": 35,
   "metadata": {
    "collapsed": true
   },
   "outputs": [],
   "source": [
    "# export_selected_order = browser.find_elements_by_xpath('//ul[@class=\"menu in-modal\"]/li[@role=\"presentation\"]/a[@role=\"menuitem\"]')[0]"
   ]
  },
  {
   "cell_type": "code",
   "execution_count": 36,
   "metadata": {
    "collapsed": true
   },
   "outputs": [],
   "source": [
    "# export_selected_order.click()\n",
    "# time.sleep(5)"
   ]
  },
  {
   "cell_type": "code",
   "execution_count": 37,
   "metadata": {
    "collapsed": true
   },
   "outputs": [],
   "source": [
    "# 选择运输状态\n",
    "# export_tracking_status = browser.find_element_by_xpath('//div[@class=\"pull-left cargoStatusCon\"][0]/label[@class=\"mRight10\"]/input[@id=\"selectAll\"]')[0]\n",
    "# export_tracking_status.click()\n",
    "# time.sleep(5)"
   ]
  },
  {
   "cell_type": "code",
   "execution_count": 38,
   "metadata": {
    "collapsed": true
   },
   "outputs": [],
   "source": [
    "# 选择全部时间\n",
    "# export_tracking_range = browser.find_elements_by_link_text('全部')[-2]\n",
    "# export_tracking_range.click()"
   ]
  },
  {
   "cell_type": "code",
   "execution_count": 39,
   "metadata": {
    "collapsed": true
   },
   "outputs": [],
   "source": [
    "# 点击确认\n",
    "# confirm_download = browser.find_elements_by_xpath('//button[@onclick=\"exportTrackingOrder();\"]')[0]\n",
    "# confirm_download.click()\n",
    "# time.sleep(180)"
   ]
  },
  {
   "cell_type": "code",
   "execution_count": 40,
   "metadata": {
    "collapsed": true
   },
   "outputs": [],
   "source": [
    "# 点击下载\n",
    "# download_button = browser.find_elements_by_css_selector('.btn.dropdown-toggle.btn-primary')\n",
    "# download_button[-1].click()\n",
    "# 点击高速下载\n",
    "# highspeed_download = browser.find_element_by_link_text('高速下载地址')\n",
    "# highspeed_download.click()\n",
    "# time.sleep(5)"
   ]
  },
  {
   "cell_type": "code",
   "execution_count": 41,
   "metadata": {
    "collapsed": true
   },
   "outputs": [],
   "source": [
    "# 查找文件夹里面的ZIP file\n",
    "# xls_file_folder = \"D://Program Files (x86)//百度云同步盘//Dropbox//-E·J- 2014.5.1//2016.12.15 店小秘数据分析//\"\n",
    "# for filename in os.listdir(xls_file_folder):\n",
    "#     if filename.startswith('M'):\n",
    "#         filepath = os.path.join(xls_file_folder, filename)\n",
    "#         shutil.move(filepath, os.path.join(zip_file_folder, \"店小秘物流跟踪列表.xlsx\"))"
   ]
  },
  {
   "cell_type": "code",
   "execution_count": 42,
   "metadata": {
    "collapsed": true
   },
   "outputs": [],
   "source": [
    "# 点击导出全部订单\n",
    "browser.get('https://www.dianxiaomi.com/order/index.htm')\n",
    "time.sleep(5)"
   ]
  },
  {
   "cell_type": "code",
   "execution_count": 43,
   "metadata": {
    "collapsed": true
   },
   "outputs": [],
   "source": [
    "# 点击全部订单\n",
    "all_order = browser.find_elements_by_css_selector('.pLeft10.pRight10')[0]\n",
    "all_order.click()\n",
    "time.sleep(5)"
   ]
  },
  {
   "cell_type": "code",
   "execution_count": 44,
   "metadata": {
    "collapsed": true
   },
   "outputs": [],
   "source": [
    "# 点击历史订单\n",
    "all_his_order = browser.find_elements_by_css_selector('.liBtn')[1]\n",
    "all_his_order.click()\n",
    "time.sleep(5)"
   ]
  },
  {
   "cell_type": "code",
   "execution_count": 45,
   "metadata": {
    "collapsed": true
   },
   "outputs": [],
   "source": [
    "# 点击导出订单\n",
    "export_order = browser.find_elements_by_css_selector('.btn.btn-primary.dropdown-toggle')[-1]\n",
    "export_order.click()\n",
    "time.sleep(5)"
   ]
  },
  {
   "cell_type": "code",
   "execution_count": 46,
   "metadata": {
    "collapsed": true
   },
   "outputs": [],
   "source": [
    "# 点击导出所有页订单\n",
    "export_all_order = browser.find_element_by_link_text('导出全部页订单')\n",
    "export_all_order.click()\n",
    "time.sleep(5)"
   ]
  },
  {
   "cell_type": "code",
   "execution_count": 47,
   "metadata": {
    "collapsed": true
   },
   "outputs": [],
   "source": [
    "# 点击按订单导出\n",
    "export_all_order = browser.find_elements_by_name('isMaster')[1]\n",
    "export_all_order.click()\n",
    "time.sleep(5)"
   ]
  },
  {
   "cell_type": "code",
   "execution_count": 48,
   "metadata": {
    "collapsed": true
   },
   "outputs": [],
   "source": [
    "# 选择模板\n",
    "export_template = browser.find_element_by_xpath('//select[@id=\"exportTemplateSelect\"]/option[text()=\"Enzo\\'s所有订单信息导出\"]')\n",
    "export_template.click()\n",
    "time.sleep(5)"
   ]
  },
  {
   "cell_type": "code",
   "execution_count": 49,
   "metadata": {
    "collapsed": true
   },
   "outputs": [],
   "source": [
    "# 点击导出，等待\n",
    "export_start = browser.find_element_by_id('exportOrderBtn')\n",
    "export_start.click()\n",
    "time.sleep(500)"
   ]
  },
  {
   "cell_type": "code",
   "execution_count": 50,
   "metadata": {
    "collapsed": true
   },
   "outputs": [],
   "source": [
    "# 查找有多少份文件\n",
    "to_export_zip = browser.find_elements_by_xpath('//div[@id=\"upDownloadbox\"]/span[@class=\"inline-block\"]')\n",
    "\n",
    "for i in range(0, len(to_export_zip)):\n",
    "    to_export_zip[i].click()\n",
    "    time.sleep(10)"
   ]
  },
  {
   "cell_type": "code",
   "execution_count": 51,
   "metadata": {
    "collapsed": true
   },
   "outputs": [],
   "source": [
    "# 把下载的文件解压、合并\n",
    "# 需要注意，最后一份文件不是zip而是xlsx\n",
    "\n",
    "all_his_order_list = []\n",
    "\n",
    "# 查找文件夹里面的ZIP file\n",
    "zip_file_folder = \"D://Program Files (x86)//百度云同步盘//Dropbox//-E·J- 2014.5.1//2016.12.15 店小秘数据分析//\"\n",
    "for filename in os.listdir(zip_file_folder):\n",
    "    if filename.endswith('.zip'):\n",
    "        filepath = os.path.join(zip_file_folder, filename)\n",
    "        z = zipfile.ZipFile(filepath)\n",
    "#         z.extract('订单列表1.xlsx', zip_file_folder)\n",
    "        z.extractall(zip_file_folder)\n",
    "        \n",
    "#         all_his_order = pd.read_excel(os.path.join(zip_file_folder, '订单列表1.xlsx'))\n",
    "#         all_his_order_list.append(all_his_order)\n",
    "#         shutil.move(os.path.join(zip_file_folder, \"订单列表1.xlsx\"), os.path.join(zip_file_folder, \"店小秘订单列表（商品维度）.xlsx\"))\n",
    "        z.close()\n",
    "        os.remove(filepath)"
   ]
  },
  {
   "cell_type": "code",
   "execution_count": 52,
   "metadata": {},
   "outputs": [
    {
     "data": {
      "text/html": [
       "<div>\n",
       "<table border=\"1\" class=\"dataframe\">\n",
       "  <thead>\n",
       "    <tr style=\"text-align: right;\">\n",
       "      <th></th>\n",
       "      <th>订单号</th>\n",
       "      <th>交易号</th>\n",
       "      <th>订单状态</th>\n",
       "      <th>SKU</th>\n",
       "      <th>平台</th>\n",
       "      <th>买家账号</th>\n",
       "      <th>买家姓名</th>\n",
       "      <th>产品名称</th>\n",
       "      <th>产品数量</th>\n",
       "      <th>币种缩写</th>\n",
       "      <th>...</th>\n",
       "      <th>店铺名称</th>\n",
       "      <th>指定商品SKU</th>\n",
       "      <th>商品名称</th>\n",
       "      <th>库存量</th>\n",
       "      <th>货架位</th>\n",
       "      <th>仓库</th>\n",
       "      <th>称重重量(g)</th>\n",
       "      <th>危险运输品</th>\n",
       "      <th>商品采购价</th>\n",
       "      <th>退款时间</th>\n",
       "    </tr>\n",
       "  </thead>\n",
       "  <tbody>\n",
       "    <tr>\n",
       "      <th>0</th>\n",
       "      <td>406-7684672-2449902</td>\n",
       "      <td>NaN</td>\n",
       "      <td>已发货</td>\n",
       "      <td>32597758635</td>\n",
       "      <td>Amazon订单</td>\n",
       "      <td>NaN</td>\n",
       "      <td>NaN</td>\n",
       "      <td>Woli 18.5V 19V 19.5V 20V 4.74A 90W Cargador de...</td>\n",
       "      <td>1</td>\n",
       "      <td>EUR</td>\n",
       "      <td>...</td>\n",
       "      <td>Amazon店铺（欧盟）</td>\n",
       "      <td>32597758635</td>\n",
       "      <td>18.5V 19V 19.5V 20V 4.74A 90W Universal Power ...</td>\n",
       "      <td>99924</td>\n",
       "      <td>无货架位</td>\n",
       "      <td>默认仓库</td>\n",
       "      <td>0</td>\n",
       "      <td>无</td>\n",
       "      <td>25.0</td>\n",
       "      <td>NaN</td>\n",
       "    </tr>\n",
       "    <tr>\n",
       "      <th>1</th>\n",
       "      <td>404-7380205-7530717</td>\n",
       "      <td>NaN</td>\n",
       "      <td>已发货</td>\n",
       "      <td>32297837238</td>\n",
       "      <td>Amazon订单</td>\n",
       "      <td>NaN</td>\n",
       "      <td>NaN</td>\n",
       "      <td>Woli 19V 4.74A 90W AC Chargeur Adaptateur Sect...</td>\n",
       "      <td>1</td>\n",
       "      <td>EUR</td>\n",
       "      <td>...</td>\n",
       "      <td>Amazon店铺（欧盟）</td>\n",
       "      <td>32297837238</td>\n",
       "      <td>19V 4.74A 90W Ac Laptop Power Adapter Charger ...</td>\n",
       "      <td>804</td>\n",
       "      <td>无货架位</td>\n",
       "      <td>默认仓库</td>\n",
       "      <td>0</td>\n",
       "      <td>无</td>\n",
       "      <td>23.0</td>\n",
       "      <td>NaN</td>\n",
       "    </tr>\n",
       "    <tr>\n",
       "      <th>2</th>\n",
       "      <td>249-4570411-1877468</td>\n",
       "      <td>NaN</td>\n",
       "      <td>已发货</td>\n",
       "      <td>32298664354</td>\n",
       "      <td>Amazon订单</td>\n",
       "      <td>NaN</td>\n",
       "      <td>NaN</td>\n",
       "      <td>22.5V 1.25A 30W Power Adapter Charger for IRob...</td>\n",
       "      <td>1</td>\n",
       "      <td>AUD</td>\n",
       "      <td>...</td>\n",
       "      <td>Amazon店铺（澳大利亚）</td>\n",
       "      <td>32298664354</td>\n",
       "      <td>22.5V 1.25A 30W Power Adapter Charger For IRob...</td>\n",
       "      <td>9792</td>\n",
       "      <td>无货架位</td>\n",
       "      <td>默认仓库</td>\n",
       "      <td>0</td>\n",
       "      <td>无</td>\n",
       "      <td>27.0</td>\n",
       "      <td>NaN</td>\n",
       "    </tr>\n",
       "    <tr>\n",
       "      <th>3</th>\n",
       "      <td>403-3745308-8177967</td>\n",
       "      <td>NaN</td>\n",
       "      <td>已发货</td>\n",
       "      <td>32597758635</td>\n",
       "      <td>Amazon订单</td>\n",
       "      <td>NaN</td>\n",
       "      <td>NaN</td>\n",
       "      <td>Woli 18.5V 19V 19.5V 20V 4.74A 90W Chargeur Ad...</td>\n",
       "      <td>1</td>\n",
       "      <td>EUR</td>\n",
       "      <td>...</td>\n",
       "      <td>Amazon店铺（欧盟）</td>\n",
       "      <td>32597758635</td>\n",
       "      <td>18.5V 19V 19.5V 20V 4.74A 90W Universal Power ...</td>\n",
       "      <td>99924</td>\n",
       "      <td>无货架位</td>\n",
       "      <td>默认仓库</td>\n",
       "      <td>0</td>\n",
       "      <td>无</td>\n",
       "      <td>25.0</td>\n",
       "      <td>NaN</td>\n",
       "    </tr>\n",
       "    <tr>\n",
       "      <th>4</th>\n",
       "      <td>405-3185061-0901114</td>\n",
       "      <td>NaN</td>\n",
       "      <td>已发货</td>\n",
       "      <td>32597758635</td>\n",
       "      <td>Amazon订单</td>\n",
       "      <td>NaN</td>\n",
       "      <td>NaN</td>\n",
       "      <td>Woli 18.5V 19V 19.5V 20V 4.74A 90W Chargeur Ad...</td>\n",
       "      <td>1</td>\n",
       "      <td>EUR</td>\n",
       "      <td>...</td>\n",
       "      <td>Amazon店铺（欧盟）</td>\n",
       "      <td>32597758635</td>\n",
       "      <td>18.5V 19V 19.5V 20V 4.74A 90W Universal Power ...</td>\n",
       "      <td>99924</td>\n",
       "      <td>无货架位</td>\n",
       "      <td>默认仓库</td>\n",
       "      <td>0</td>\n",
       "      <td>无</td>\n",
       "      <td>25.0</td>\n",
       "      <td>NaN</td>\n",
       "    </tr>\n",
       "  </tbody>\n",
       "</table>\n",
       "<p>5 rows × 55 columns</p>\n",
       "</div>"
      ],
      "text/plain": [
       "                   订单号  交易号 订单状态          SKU        平台 买家账号 买家姓名  \\\n",
       "0  406-7684672-2449902  NaN  已发货  32597758635  Amazon订单  NaN  NaN   \n",
       "1  404-7380205-7530717  NaN  已发货  32297837238  Amazon订单  NaN  NaN   \n",
       "2  249-4570411-1877468  NaN  已发货  32298664354  Amazon订单  NaN  NaN   \n",
       "3  403-3745308-8177967  NaN  已发货  32597758635  Amazon订单  NaN  NaN   \n",
       "4  405-3185061-0901114  NaN  已发货  32597758635  Amazon订单  NaN  NaN   \n",
       "\n",
       "                                                产品名称  产品数量 币种缩写 ...   \\\n",
       "0  Woli 18.5V 19V 19.5V 20V 4.74A 90W Cargador de...     1  EUR ...    \n",
       "1  Woli 19V 4.74A 90W AC Chargeur Adaptateur Sect...     1  EUR ...    \n",
       "2  22.5V 1.25A 30W Power Adapter Charger for IRob...     1  AUD ...    \n",
       "3  Woli 18.5V 19V 19.5V 20V 4.74A 90W Chargeur Ad...     1  EUR ...    \n",
       "4  Woli 18.5V 19V 19.5V 20V 4.74A 90W Chargeur Ad...     1  EUR ...    \n",
       "\n",
       "             店铺名称      指定商品SKU  \\\n",
       "0    Amazon店铺（欧盟）  32597758635   \n",
       "1    Amazon店铺（欧盟）  32297837238   \n",
       "2  Amazon店铺（澳大利亚）  32298664354   \n",
       "3    Amazon店铺（欧盟）  32597758635   \n",
       "4    Amazon店铺（欧盟）  32597758635   \n",
       "\n",
       "                                                商品名称    库存量   货架位    仓库  \\\n",
       "0  18.5V 19V 19.5V 20V 4.74A 90W Universal Power ...  99924  无货架位  默认仓库   \n",
       "1  19V 4.74A 90W Ac Laptop Power Adapter Charger ...    804  无货架位  默认仓库   \n",
       "2  22.5V 1.25A 30W Power Adapter Charger For IRob...   9792  无货架位  默认仓库   \n",
       "3  18.5V 19V 19.5V 20V 4.74A 90W Universal Power ...  99924  无货架位  默认仓库   \n",
       "4  18.5V 19V 19.5V 20V 4.74A 90W Universal Power ...  99924  无货架位  默认仓库   \n",
       "\n",
       "  称重重量(g) 危险运输品 商品采购价 退款时间  \n",
       "0       0     无  25.0  NaN  \n",
       "1       0     无  23.0  NaN  \n",
       "2       0     无  27.0  NaN  \n",
       "3       0     无  25.0  NaN  \n",
       "4       0     无  25.0  NaN  \n",
       "\n",
       "[5 rows x 55 columns]"
      ]
     },
     "execution_count": 52,
     "metadata": {},
     "output_type": "execute_result"
    }
   ],
   "source": [
    "# 查找文件夹里面订单列表\n",
    "# zip_file_folder = \"D://Program Files (x86)//百度云同步盘//Dropbox//-E·J- 2014.5.1//2016.12.15 店小秘数据分析//\"\n",
    "for filename in os.listdir(zip_file_folder):\n",
    "#     if (filename.startswith('M') or filename.startswith('订单列表')) and filename.endswith('.xlsx'):\n",
    "    if filename.startswith('order_') and filename.endswith('.xlsx'):\n",
    "        filepath = os.path.join(zip_file_folder, filename)\n",
    "        last_his_order = pd.read_excel(filepath)\n",
    "        all_his_order_list.append(last_his_order)\n",
    "        os.unlink(filepath)\n",
    "        time.sleep(10)\n",
    "        \n",
    "all_his_order_final = pd.concat(all_his_order_list)\n",
    "all_his_order_final.head()"
   ]
  },
  {
   "cell_type": "code",
   "execution_count": 53,
   "metadata": {},
   "outputs": [
    {
     "data": {
      "text/html": [
       "<div>\n",
       "<table border=\"1\" class=\"dataframe\">\n",
       "  <thead>\n",
       "    <tr style=\"text-align: right;\">\n",
       "      <th></th>\n",
       "      <th>产品数量</th>\n",
       "      <th>订单金额</th>\n",
       "      <th>物流费用</th>\n",
       "      <th>报关重量(g)</th>\n",
       "      <th>称重重量(g)</th>\n",
       "    </tr>\n",
       "  </thead>\n",
       "  <tbody>\n",
       "    <tr>\n",
       "      <th>count</th>\n",
       "      <td>64301.000000</td>\n",
       "      <td>64301.000000</td>\n",
       "      <td>64301.000000</td>\n",
       "      <td>64301.000000</td>\n",
       "      <td>64301.0</td>\n",
       "    </tr>\n",
       "    <tr>\n",
       "      <th>mean</th>\n",
       "      <td>1.163574</td>\n",
       "      <td>97.781946</td>\n",
       "      <td>4.994786</td>\n",
       "      <td>346.763332</td>\n",
       "      <td>0.0</td>\n",
       "    </tr>\n",
       "    <tr>\n",
       "      <th>std</th>\n",
       "      <td>4.215648</td>\n",
       "      <td>2871.959960</td>\n",
       "      <td>328.942977</td>\n",
       "      <td>77.679666</td>\n",
       "      <td>0.0</td>\n",
       "    </tr>\n",
       "    <tr>\n",
       "      <th>min</th>\n",
       "      <td>0.000000</td>\n",
       "      <td>0.000000</td>\n",
       "      <td>0.000000</td>\n",
       "      <td>0.000000</td>\n",
       "      <td>0.0</td>\n",
       "    </tr>\n",
       "    <tr>\n",
       "      <th>25%</th>\n",
       "      <td>1.000000</td>\n",
       "      <td>10.800000</td>\n",
       "      <td>0.000000</td>\n",
       "      <td>350.000000</td>\n",
       "      <td>0.0</td>\n",
       "    </tr>\n",
       "    <tr>\n",
       "      <th>50%</th>\n",
       "      <td>1.000000</td>\n",
       "      <td>13.800000</td>\n",
       "      <td>0.000000</td>\n",
       "      <td>350.000000</td>\n",
       "      <td>0.0</td>\n",
       "    </tr>\n",
       "    <tr>\n",
       "      <th>75%</th>\n",
       "      <td>1.000000</td>\n",
       "      <td>16.000000</td>\n",
       "      <td>0.000000</td>\n",
       "      <td>350.000000</td>\n",
       "      <td>0.0</td>\n",
       "    </tr>\n",
       "    <tr>\n",
       "      <th>max</th>\n",
       "      <td>1000.000000</td>\n",
       "      <td>278056.000000</td>\n",
       "      <td>54000.000000</td>\n",
       "      <td>3150.000000</td>\n",
       "      <td>0.0</td>\n",
       "    </tr>\n",
       "  </tbody>\n",
       "</table>\n",
       "</div>"
      ],
      "text/plain": [
       "               产品数量           订单金额          物流费用       报关重量(g)  称重重量(g)\n",
       "count  64301.000000   64301.000000  64301.000000  64301.000000  64301.0\n",
       "mean       1.163574      97.781946      4.994786    346.763332      0.0\n",
       "std        4.215648    2871.959960    328.942977     77.679666      0.0\n",
       "min        0.000000       0.000000      0.000000      0.000000      0.0\n",
       "25%        1.000000      10.800000      0.000000    350.000000      0.0\n",
       "50%        1.000000      13.800000      0.000000    350.000000      0.0\n",
       "75%        1.000000      16.000000      0.000000    350.000000      0.0\n",
       "max     1000.000000  278056.000000  54000.000000   3150.000000      0.0"
      ]
     },
     "execution_count": 53,
     "metadata": {},
     "output_type": "execute_result"
    }
   ],
   "source": [
    "all_his_order_final.describe()"
   ]
  },
  {
   "cell_type": "code",
   "execution_count": 54,
   "metadata": {
    "collapsed": true
   },
   "outputs": [],
   "source": [
    "all_his_order_final.to_excel(os.path.join(download_file_folder, '店小秘订单列表（全部订单）.xlsx'))"
   ]
  },
  {
   "cell_type": "code",
   "execution_count": 55,
   "metadata": {
    "collapsed": true
   },
   "outputs": [],
   "source": [
    "# 点击导出全部订单\n",
    "browser.get('https://www.dianxiaomi.com/order/index.htm')\n",
    "time.sleep(5)"
   ]
  },
  {
   "cell_type": "code",
   "execution_count": 56,
   "metadata": {
    "collapsed": true
   },
   "outputs": [],
   "source": [
    "# 点击全部订单\n",
    "all_order = browser.find_elements_by_css_selector('.pLeft10.pRight10')[0]\n",
    "all_order.click()\n",
    "time.sleep(5)"
   ]
  },
  {
   "cell_type": "code",
   "execution_count": 57,
   "metadata": {
    "collapsed": true
   },
   "outputs": [],
   "source": [
    "# 点击历史订单\n",
    "all_his_order = browser.find_elements_by_css_selector('.liBtn')[1]\n",
    "all_his_order.click()\n",
    "time.sleep(5)"
   ]
  },
  {
   "cell_type": "code",
   "execution_count": 58,
   "metadata": {
    "collapsed": true
   },
   "outputs": [],
   "source": [
    "# 点击导出订单\n",
    "export_order = browser.find_elements_by_css_selector('.btn.btn-primary.dropdown-toggle')[-1]\n",
    "export_order.click()\n",
    "time.sleep(5)"
   ]
  },
  {
   "cell_type": "code",
   "execution_count": 59,
   "metadata": {
    "collapsed": true
   },
   "outputs": [],
   "source": [
    "# 点击导出所有页订单\n",
    "export_all_order = browser.find_element_by_link_text('导出全部页订单')\n",
    "export_all_order.click()\n",
    "time.sleep(5)"
   ]
  },
  {
   "cell_type": "code",
   "execution_count": 60,
   "metadata": {
    "collapsed": true
   },
   "outputs": [],
   "source": [
    "# 点击按产品导出\n",
    "export_all_order = browser.find_elements_by_name('isMaster')[2]\n",
    "export_all_order.click()\n",
    "time.sleep(5)"
   ]
  },
  {
   "cell_type": "code",
   "execution_count": 61,
   "metadata": {
    "collapsed": true
   },
   "outputs": [],
   "source": [
    "# 选择模板\n",
    "export_template = browser.find_element_by_xpath('//select[@id=\"exportTemplateSelect\"]/option[text()=\"Enzo\\'s所有订单信息导出\"]')\n",
    "export_template.click()\n",
    "time.sleep(5)"
   ]
  },
  {
   "cell_type": "code",
   "execution_count": 62,
   "metadata": {
    "collapsed": true
   },
   "outputs": [],
   "source": [
    "# 点击导出，等待\n",
    "export_start = browser.find_element_by_id('exportOrderBtn')\n",
    "export_start.click()\n",
    "time.sleep(500)"
   ]
  },
  {
   "cell_type": "code",
   "execution_count": 63,
   "metadata": {
    "collapsed": true
   },
   "outputs": [],
   "source": [
    "# 查找有多少份文件\n",
    "to_export_zip = browser.find_elements_by_xpath('//div[@id=\"upDownloadbox\"]/span[@class=\"inline-block\"]')\n",
    "\n",
    "for i in range(0, len(to_export_zip)):\n",
    "    to_export_zip[i].click()\n",
    "    time.sleep(10)"
   ]
  },
  {
   "cell_type": "code",
   "execution_count": 64,
   "metadata": {
    "collapsed": true
   },
   "outputs": [],
   "source": [
    "# 把下载的文件解压、合并\n",
    "# 需要注意，最后一份文件不是zip而是xlsx\n",
    "\n",
    "all_his_order_list = []\n",
    "\n",
    "# 查找文件夹里面的ZIP file\n",
    "zip_file_folder = \"D://Program Files (x86)//百度云同步盘//Dropbox//-E·J- 2014.5.1//2016.12.15 店小秘数据分析//\"\n",
    "for filename in os.listdir(zip_file_folder):\n",
    "    if filename.endswith('.zip'):\n",
    "        filepath = os.path.join(zip_file_folder, filename)\n",
    "        z = zipfile.ZipFile(filepath)\n",
    "#         z.extract('订单列表1.xlsx', zip_file_folder)\n",
    "        z.extractall(zip_file_folder)\n",
    "        \n",
    "#         all_his_order = pd.read_excel(os.path.join(zip_file_folder, '订单列表1.xlsx'))\n",
    "#         all_his_order_list.append(all_his_order)\n",
    "#         shutil.move(os.path.join(zip_file_folder, \"订单列表1.xlsx\"), os.path.join(zip_file_folder, \"店小秘订单列表（商品维度）.xlsx\"))\n",
    "        z.close()\n",
    "        os.remove(filepath)\n",
    "\n",
    "time.sleep(10)"
   ]
  },
  {
   "cell_type": "code",
   "execution_count": 65,
   "metadata": {},
   "outputs": [
    {
     "data": {
      "text/html": [
       "<div>\n",
       "<table border=\"1\" class=\"dataframe\">\n",
       "  <thead>\n",
       "    <tr style=\"text-align: right;\">\n",
       "      <th></th>\n",
       "      <th>订单号</th>\n",
       "      <th>交易号</th>\n",
       "      <th>订单状态</th>\n",
       "      <th>SKU</th>\n",
       "      <th>平台</th>\n",
       "      <th>买家账号</th>\n",
       "      <th>买家姓名</th>\n",
       "      <th>产品名称</th>\n",
       "      <th>产品数量</th>\n",
       "      <th>币种缩写</th>\n",
       "      <th>...</th>\n",
       "      <th>店铺名称</th>\n",
       "      <th>指定商品SKU</th>\n",
       "      <th>商品名称</th>\n",
       "      <th>库存量</th>\n",
       "      <th>货架位</th>\n",
       "      <th>仓库</th>\n",
       "      <th>称重重量(g)</th>\n",
       "      <th>危险运输品</th>\n",
       "      <th>商品采购价</th>\n",
       "      <th>退款时间</th>\n",
       "    </tr>\n",
       "  </thead>\n",
       "  <tbody>\n",
       "    <tr>\n",
       "      <th>0</th>\n",
       "      <td>406-7684672-2449902</td>\n",
       "      <td>NaN</td>\n",
       "      <td>已发货</td>\n",
       "      <td>32597758635</td>\n",
       "      <td>Amazon订单</td>\n",
       "      <td>NaN</td>\n",
       "      <td>NaN</td>\n",
       "      <td>Woli 18.5V 19V 19.5V 20V 4.74A 90W Cargador de...</td>\n",
       "      <td>1</td>\n",
       "      <td>EUR</td>\n",
       "      <td>...</td>\n",
       "      <td>Amazon店铺（欧盟）</td>\n",
       "      <td>3.25978e+10</td>\n",
       "      <td>18.5V 19V 19.5V 20V 4.74A 90W Universal Power ...</td>\n",
       "      <td>99924.0</td>\n",
       "      <td>无货架位</td>\n",
       "      <td>默认仓库</td>\n",
       "      <td>0</td>\n",
       "      <td>无</td>\n",
       "      <td>25.0</td>\n",
       "      <td>NaN</td>\n",
       "    </tr>\n",
       "    <tr>\n",
       "      <th>1</th>\n",
       "      <td>404-7380205-7530717</td>\n",
       "      <td>NaN</td>\n",
       "      <td>已发货</td>\n",
       "      <td>32297837238</td>\n",
       "      <td>Amazon订单</td>\n",
       "      <td>NaN</td>\n",
       "      <td>NaN</td>\n",
       "      <td>Woli 19V 4.74A 90W AC Chargeur Adaptateur Sect...</td>\n",
       "      <td>1</td>\n",
       "      <td>EUR</td>\n",
       "      <td>...</td>\n",
       "      <td>Amazon店铺（欧盟）</td>\n",
       "      <td>3.22978e+10</td>\n",
       "      <td>19V 4.74A 90W Ac Laptop Power Adapter Charger ...</td>\n",
       "      <td>804.0</td>\n",
       "      <td>无货架位</td>\n",
       "      <td>默认仓库</td>\n",
       "      <td>0</td>\n",
       "      <td>无</td>\n",
       "      <td>23.0</td>\n",
       "      <td>NaN</td>\n",
       "    </tr>\n",
       "    <tr>\n",
       "      <th>2</th>\n",
       "      <td>249-4570411-1877468</td>\n",
       "      <td>NaN</td>\n",
       "      <td>已发货</td>\n",
       "      <td>32298664354</td>\n",
       "      <td>Amazon订单</td>\n",
       "      <td>NaN</td>\n",
       "      <td>NaN</td>\n",
       "      <td>22.5V 1.25A 30W Power Adapter Charger for IRob...</td>\n",
       "      <td>1</td>\n",
       "      <td>AUD</td>\n",
       "      <td>...</td>\n",
       "      <td>Amazon店铺（澳大利亚）</td>\n",
       "      <td>3.22987e+10</td>\n",
       "      <td>22.5V 1.25A 30W Power Adapter Charger For IRob...</td>\n",
       "      <td>9792.0</td>\n",
       "      <td>无货架位</td>\n",
       "      <td>默认仓库</td>\n",
       "      <td>0</td>\n",
       "      <td>无</td>\n",
       "      <td>27.0</td>\n",
       "      <td>NaN</td>\n",
       "    </tr>\n",
       "    <tr>\n",
       "      <th>3</th>\n",
       "      <td>403-3745308-8177967</td>\n",
       "      <td>NaN</td>\n",
       "      <td>已发货</td>\n",
       "      <td>32597758635</td>\n",
       "      <td>Amazon订单</td>\n",
       "      <td>NaN</td>\n",
       "      <td>NaN</td>\n",
       "      <td>Woli 18.5V 19V 19.5V 20V 4.74A 90W Chargeur Ad...</td>\n",
       "      <td>1</td>\n",
       "      <td>EUR</td>\n",
       "      <td>...</td>\n",
       "      <td>Amazon店铺（欧盟）</td>\n",
       "      <td>3.25978e+10</td>\n",
       "      <td>18.5V 19V 19.5V 20V 4.74A 90W Universal Power ...</td>\n",
       "      <td>99924.0</td>\n",
       "      <td>无货架位</td>\n",
       "      <td>默认仓库</td>\n",
       "      <td>0</td>\n",
       "      <td>无</td>\n",
       "      <td>25.0</td>\n",
       "      <td>NaN</td>\n",
       "    </tr>\n",
       "    <tr>\n",
       "      <th>4</th>\n",
       "      <td>405-3185061-0901114</td>\n",
       "      <td>NaN</td>\n",
       "      <td>已发货</td>\n",
       "      <td>32597758635</td>\n",
       "      <td>Amazon订单</td>\n",
       "      <td>NaN</td>\n",
       "      <td>NaN</td>\n",
       "      <td>Woli 18.5V 19V 19.5V 20V 4.74A 90W Chargeur Ad...</td>\n",
       "      <td>1</td>\n",
       "      <td>EUR</td>\n",
       "      <td>...</td>\n",
       "      <td>Amazon店铺（欧盟）</td>\n",
       "      <td>3.25978e+10</td>\n",
       "      <td>18.5V 19V 19.5V 20V 4.74A 90W Universal Power ...</td>\n",
       "      <td>99924.0</td>\n",
       "      <td>无货架位</td>\n",
       "      <td>默认仓库</td>\n",
       "      <td>0</td>\n",
       "      <td>无</td>\n",
       "      <td>25.0</td>\n",
       "      <td>NaN</td>\n",
       "    </tr>\n",
       "  </tbody>\n",
       "</table>\n",
       "<p>5 rows × 55 columns</p>\n",
       "</div>"
      ],
      "text/plain": [
       "                   订单号  交易号 订单状态          SKU        平台 买家账号 买家姓名  \\\n",
       "0  406-7684672-2449902  NaN  已发货  32597758635  Amazon订单  NaN  NaN   \n",
       "1  404-7380205-7530717  NaN  已发货  32297837238  Amazon订单  NaN  NaN   \n",
       "2  249-4570411-1877468  NaN  已发货  32298664354  Amazon订单  NaN  NaN   \n",
       "3  403-3745308-8177967  NaN  已发货  32597758635  Amazon订单  NaN  NaN   \n",
       "4  405-3185061-0901114  NaN  已发货  32597758635  Amazon订单  NaN  NaN   \n",
       "\n",
       "                                                产品名称  产品数量 币种缩写 ...   \\\n",
       "0  Woli 18.5V 19V 19.5V 20V 4.74A 90W Cargador de...     1  EUR ...    \n",
       "1  Woli 19V 4.74A 90W AC Chargeur Adaptateur Sect...     1  EUR ...    \n",
       "2  22.5V 1.25A 30W Power Adapter Charger for IRob...     1  AUD ...    \n",
       "3  Woli 18.5V 19V 19.5V 20V 4.74A 90W Chargeur Ad...     1  EUR ...    \n",
       "4  Woli 18.5V 19V 19.5V 20V 4.74A 90W Chargeur Ad...     1  EUR ...    \n",
       "\n",
       "             店铺名称      指定商品SKU  \\\n",
       "0    Amazon店铺（欧盟）  3.25978e+10   \n",
       "1    Amazon店铺（欧盟）  3.22978e+10   \n",
       "2  Amazon店铺（澳大利亚）  3.22987e+10   \n",
       "3    Amazon店铺（欧盟）  3.25978e+10   \n",
       "4    Amazon店铺（欧盟）  3.25978e+10   \n",
       "\n",
       "                                                商品名称      库存量   货架位    仓库  \\\n",
       "0  18.5V 19V 19.5V 20V 4.74A 90W Universal Power ...  99924.0  无货架位  默认仓库   \n",
       "1  19V 4.74A 90W Ac Laptop Power Adapter Charger ...    804.0  无货架位  默认仓库   \n",
       "2  22.5V 1.25A 30W Power Adapter Charger For IRob...   9792.0  无货架位  默认仓库   \n",
       "3  18.5V 19V 19.5V 20V 4.74A 90W Universal Power ...  99924.0  无货架位  默认仓库   \n",
       "4  18.5V 19V 19.5V 20V 4.74A 90W Universal Power ...  99924.0  无货架位  默认仓库   \n",
       "\n",
       "  称重重量(g) 危险运输品 商品采购价 退款时间  \n",
       "0       0     无  25.0  NaN  \n",
       "1       0     无  23.0  NaN  \n",
       "2       0     无  27.0  NaN  \n",
       "3       0     无  25.0  NaN  \n",
       "4       0     无  25.0  NaN  \n",
       "\n",
       "[5 rows x 55 columns]"
      ]
     },
     "execution_count": 65,
     "metadata": {},
     "output_type": "execute_result"
    }
   ],
   "source": [
    "# 查找文件夹里面订单列表\n",
    "# zip_file_folder = \"D://Program Files (x86)//百度云同步盘//Dropbox//-E·J- 2014.5.1//2016.12.15 店小秘数据分析//\"\n",
    "for filename in os.listdir(zip_file_folder):\n",
    "#     if (filename.startswith('M') or filename.startswith('订单列表')) and filename.endswith('.xlsx'):\n",
    "    if filename.startswith('order_') and filename.endswith('.xlsx'):\n",
    "        filepath = os.path.join(zip_file_folder, filename)\n",
    "        last_his_order = pd.read_excel(filepath)\n",
    "        all_his_order_list.append(last_his_order)\n",
    "        os.unlink(filepath)\n",
    "        time.sleep(10)\n",
    "        \n",
    "all_his_order_final = pd.concat(all_his_order_list)\n",
    "all_his_order_final.head()"
   ]
  },
  {
   "cell_type": "code",
   "execution_count": 66,
   "metadata": {
    "collapsed": true
   },
   "outputs": [],
   "source": [
    "all_his_order_final.to_excel(os.path.join(download_file_folder, '店小秘订单列表（全部订单；商品粒度）.xlsx'))"
   ]
  },
  {
   "cell_type": "code",
   "execution_count": 67,
   "metadata": {
    "collapsed": true
   },
   "outputs": [],
   "source": [
    "# 关闭\n",
    "browser.quit()"
   ]
  },
  {
   "cell_type": "markdown",
   "metadata": {},
   "source": [
    "## 下载母婴店的数据"
   ]
  },
  {
   "cell_type": "code",
   "execution_count": 68,
   "metadata": {
    "collapsed": true
   },
   "outputs": [],
   "source": [
    "# 屏幕最大化，且指定下载目录\n",
    "options = webdriver.ChromeOptions()\n",
    "options.add_argument(\"--start-maximized\")\n",
    "\n",
    "prefs = {\"profile.default_content_settings.popups\": 0,\n",
    "         \"download.default_directory\": r\"D:\\Program Files (x86)\\百度云同步盘\\Dropbox\\-E·J- 2014.5.1\\2016.12.15 店小秘数据分析\\2021.10.31 母婴店数据\", # IMPORTANT - ENDING SLASH V IMPORTANT\n",
    "         \"directory_upgrade\": True}\n",
    "options.add_experimental_option(\"prefs\", prefs)"
   ]
  },
  {
   "cell_type": "code",
   "execution_count": 69,
   "metadata": {
    "collapsed": true
   },
   "outputs": [],
   "source": [
    "# 使用chromedriver才可以用开发者权限\n",
    "chrome_driver_path = \".//chrome_driver//chromedriver.exe\"\n",
    "browser = webdriver.Chrome(chrome_driver_path, chrome_options=options)"
   ]
  },
  {
   "cell_type": "code",
   "execution_count": 70,
   "metadata": {
    "collapsed": true
   },
   "outputs": [],
   "source": [
    "infant_shop_acc_psw = {\n",
    "    'wzh1880': 'jalwarwoo1880',\n",
    "    'qianjiaozi': '13750494053'}"
   ]
  },
  {
   "cell_type": "code",
   "execution_count": 71,
   "metadata": {},
   "outputs": [
    {
     "name": "stdout",
     "output_type": "stream",
     "text": [
      "Can't find any.\n",
      "Can't find any.\n",
      "Can't find any.\n",
      "Can't find any.\n",
      "Can't find any.\n"
     ]
    },
    {
     "ename": "IndexError",
     "evalue": "list index out of range",
     "output_type": "error",
     "traceback": [
      "\u001b[0;31m---------------------------------------------------------------------------\u001b[0m",
      "\u001b[0;31mIndexError\u001b[0m                                Traceback (most recent call last)",
      "\u001b[0;32m<ipython-input-71-106c4d99717b>\u001b[0m in \u001b[0;36m<module>\u001b[0;34m()\u001b[0m\n\u001b[1;32m     42\u001b[0m \u001b[1;33m\u001b[0m\u001b[0m\n\u001b[1;32m     43\u001b[0m         \u001b[1;31m# 点击全部订单\u001b[0m\u001b[1;33m\u001b[0m\u001b[1;33m\u001b[0m\u001b[0m\n\u001b[0;32m---> 44\u001b[0;31m         \u001b[0mall_order\u001b[0m \u001b[1;33m=\u001b[0m \u001b[0mbrowser\u001b[0m\u001b[1;33m.\u001b[0m\u001b[0mfind_elements_by_css_selector\u001b[0m\u001b[1;33m(\u001b[0m\u001b[1;34m'.pLeft10.pRight10'\u001b[0m\u001b[1;33m)\u001b[0m\u001b[1;33m[\u001b[0m\u001b[1;36m0\u001b[0m\u001b[1;33m]\u001b[0m\u001b[1;33m\u001b[0m\u001b[0m\n\u001b[0m\u001b[1;32m     45\u001b[0m         \u001b[0mall_order\u001b[0m\u001b[1;33m.\u001b[0m\u001b[0mclick\u001b[0m\u001b[1;33m(\u001b[0m\u001b[1;33m)\u001b[0m\u001b[1;33m\u001b[0m\u001b[0m\n\u001b[1;32m     46\u001b[0m         \u001b[0mtime\u001b[0m\u001b[1;33m.\u001b[0m\u001b[0msleep\u001b[0m\u001b[1;33m(\u001b[0m\u001b[1;36m5\u001b[0m\u001b[1;33m)\u001b[0m\u001b[1;33m\u001b[0m\u001b[0m\n",
      "\u001b[0;31mIndexError\u001b[0m: list index out of range"
     ]
    }
   ],
   "source": [
    "import glob\n",
    "\n",
    "# 逐个店铺手动下载\n",
    "selected_key = 'wzh1880'\n",
    "# selected_key = 'qianjiaozi'\n",
    "\n",
    "for key, value in infant_shop_acc_psw.items():\n",
    "    if key == selected_key:\n",
    "        browser.get('https://www.dianxiaomi.com/')\n",
    "        acc_password_input_elem = browser.find_elements_by_css_selector('.form-control')\n",
    "\n",
    "        # 输入账户密码登录\n",
    "        acc_password_input_elem[0].click()\n",
    "        acc_password_input_elem[0].send_keys(key)\n",
    "        acc_password_input_elem[1].click()\n",
    "        acc_password_input_elem[1].send_keys(value)\n",
    "        time.sleep(10)\n",
    "\n",
    "        # 点击登录\n",
    "        log_in_button = browser.find_element_by_css_selector('.loginbnt.btn.btn-info.btn-denglu.btn-block')\n",
    "        log_in_button.click()\n",
    "        time.sleep(10)\n",
    "\n",
    "        # 重新刷新页面，去掉广告\n",
    "        browser.get('https://www.dianxiaomi.com/')\n",
    "\n",
    "        # 关闭提示窗\n",
    "        i = 1\n",
    "        while i <= 5:\n",
    "            time.sleep(5)\n",
    "            i += 1\n",
    "            try:\n",
    "                close_button = browser.find_element_by_css_selector('.btn.btn-determine')\n",
    "                close_button.click()\n",
    "            except:\n",
    "                print(\"Can't find any.\")\n",
    "\n",
    "        # 点击订单处理\n",
    "        time.sleep(10)\n",
    "        browser.get('https://www.dianxiaomi.com/order/index.htm')\n",
    "        time.sleep(5)\n",
    "\n",
    "        # 点击全部订单\n",
    "        all_order = browser.find_elements_by_css_selector('.pLeft10.pRight10')[0]\n",
    "        all_order.click()\n",
    "        time.sleep(5)\n",
    "\n",
    "        # 点击导出订单\n",
    "        export_order = browser.find_elements_by_css_selector('.btn.btn-primary.dropdown-toggle')[-1]\n",
    "        export_order.click()\n",
    "        time.sleep(5)\n",
    "\n",
    "        # 点击导出所有页订单\n",
    "        export_all_order = browser.find_element_by_link_text('导出全部页订单')\n",
    "        export_all_order.click()\n",
    "        time.sleep(5)\n",
    "\n",
    "        # 点击按订单导出\n",
    "        export_all_order = browser.find_elements_by_name('isMaster')[1]\n",
    "        export_all_order.click()\n",
    "        time.sleep(5)\n",
    "\n",
    "        # 选择模板\n",
    "        export_template = browser.find_element_by_xpath('//select[@id=\"exportTemplateSelect\"]/option[text()=\"所有订单信息导出\"]')\n",
    "        export_template.click()\n",
    "        time.sleep(5)\n",
    "\n",
    "        # 点击导出，等待300s\n",
    "        export_start = browser.find_element_by_id('exportOrderBtn')\n",
    "        export_start.click()\n",
    "        time.sleep(300)\n",
    "\n",
    "        # 查找有多少份文件\n",
    "        to_export_zip = browser.find_elements_by_xpath('//div[@id=\"upDownloadbox\"]/span[@class=\"inline-block\"]')\n",
    "\n",
    "        # 假设是个小文件，就不需要这么大费周章了\n",
    "        if len(to_export_zip)>0:\n",
    "            for i in range(0, len(to_export_zip)):\n",
    "                to_export_zip[i].click()\n",
    "                time.sleep(10)\n",
    "\n",
    "            # 把下载的文件解压、合并\n",
    "            # 需要注意，最后一份文件不是zip而是xlsx\n",
    "\n",
    "            all_his_order_list = []\n",
    "\n",
    "            # 查找文件夹里面的ZIP file\n",
    "            zip_file_folder = \"D://Program Files (x86)//百度云同步盘//Dropbox//-E·J- 2014.5.1//2016.12.15 店小秘数据分析//2021.10.31 母婴店数据\"\n",
    "            for filename in os.listdir(zip_file_folder):\n",
    "                if filename.endswith('.zip'):\n",
    "                    filepath = os.path.join(zip_file_folder, filename)\n",
    "                    z = zipfile.ZipFile(filepath)\n",
    "            #         z.extract('订单列表1.xlsx', zip_file_folder)\n",
    "                    z.extractall(zip_file_folder)\n",
    "\n",
    "            #         all_his_order = pd.read_excel(os.path.join(zip_file_folder, '订单列表1.xlsx'))\n",
    "            #         all_his_order_list.append(all_his_order)\n",
    "            #         shutil.move(os.path.join(zip_file_folder, \"订单列表1.xlsx\"), os.path.join(zip_file_folder, \"店小秘订单列表（商品维度）.xlsx\"))\n",
    "                    z.close()\n",
    "                    os.remove(filepath)\n",
    "\n",
    "            # 查找文件夹里面订单列表\n",
    "            # zip_file_folder = \"D://Program Files (x86)//百度云同步盘//Dropbox//-E·J- 2014.5.1//2016.12.15 店小秘数据分析//\"\n",
    "            for filename in os.listdir(zip_file_folder):\n",
    "            #     if (filename.startswith('M') or filename.startswith('订单列表')) and filename.endswith('.xlsx'):\n",
    "                if filename.startswith('order_') and filename.endswith('.xlsx'):\n",
    "                    filepath = os.path.join(zip_file_folder, filename)\n",
    "                    last_his_order = pd.read_excel(filepath)\n",
    "                    all_his_order_list.append(last_his_order)\n",
    "                    os.unlink(filepath)\n",
    "                    time.sleep(10)\n",
    "\n",
    "            all_his_order_final = pd.concat(all_his_order_list)\n",
    "\n",
    "            all_his_order_final.to_excel(os.path.join(download_file_folder, str(key) + '_店小秘订单列表（全部订单）.xlsx'))\n",
    "        else:\n",
    "            # 点击下载\n",
    "            download_button = browser.find_elements_by_css_selector('.btn.dropdown-toggle.btn-primary')\n",
    "            download_button[-1].click()\n",
    "            time.sleep(5)\n",
    "            # 点击高速下载\n",
    "            highspeed_download = browser.find_element_by_link_text('高速下载地址')\n",
    "            highspeed_download.click()\n",
    "            time.sleep(30)\n",
    "            \n",
    "            try:\n",
    "                download_file_folder = \"D://Program Files (x86)//百度云同步盘//Dropbox//-E·J- 2014.5.1//2016.12.15 店小秘数据分析//2021.10.31 母婴店数据\"\n",
    "                download_file_type = '*.xlsx'\n",
    "                download_files = glob.glob(download_file_folder + download_file_type)\n",
    "                max_download_file = max(download_files, key=os.path.getctime)\n",
    "\n",
    "                # 查找当前文件夹最新文件\n",
    "                shutil.move(max_download_file, os.path.join(download_file_folder, str(key) + \"_店小秘订单列表.xlsx\"))\n",
    "            except:\n",
    "                all_his_order_list = []\n",
    "\n",
    "                # 查找文件夹里面的ZIP file\n",
    "                zip_file_folder = \"D://Program Files (x86)//百度云同步盘//Dropbox//-E·J- 2014.5.1//2016.12.15 店小秘数据分析//2021.10.31 母婴店数据\"\n",
    "                for filename in os.listdir(zip_file_folder):\n",
    "                    if filename.endswith('.zip'):\n",
    "                        filepath = os.path.join(zip_file_folder, filename)\n",
    "                        z = zipfile.ZipFile(filepath)\n",
    "                #         z.extract('订单列表1.xlsx', zip_file_folder)\n",
    "                        z.extractall(zip_file_folder)\n",
    "\n",
    "                #         all_his_order = pd.read_excel(os.path.join(zip_file_folder, '订单列表1.xlsx'))\n",
    "                #         all_his_order_list.append(all_his_order)\n",
    "                #         shutil.move(os.path.join(zip_file_folder, \"订单列表1.xlsx\"), os.path.join(zip_file_folder, \"店小秘订单列表（商品维度）.xlsx\"))\n",
    "                        z.close()\n",
    "                        os.remove(filepath)\n",
    "\n",
    "                # 查找文件夹里面订单列表\n",
    "                # zip_file_folder = \"D://Program Files (x86)//百度云同步盘//Dropbox//-E·J- 2014.5.1//2016.12.15 店小秘数据分析//\"\n",
    "                for filename in os.listdir(zip_file_folder):\n",
    "                #     if (filename.startswith('M') or filename.startswith('订单列表')) and filename.endswith('.xlsx'):\n",
    "                    if filename.startswith('order_') and filename.endswith('.xlsx'):\n",
    "                        filepath = os.path.join(zip_file_folder, filename)\n",
    "                        last_his_order = pd.read_excel(filepath)\n",
    "                        all_his_order_list.append(last_his_order)\n",
    "                        os.unlink(filepath)\n",
    "                        time.sleep(10)\n",
    "\n",
    "                all_his_order_final = pd.concat(all_his_order_list)\n",
    "\n",
    "                all_his_order_final.to_excel(os.path.join(download_file_folder, str(key) + '_店小秘订单列表.xlsx'))\n",
    "            \n",
    "        # max_download_file\n",
    "\n",
    "        # 点击订单处理\n",
    "        browser.get('https://www.dianxiaomi.com/order/index.htm')\n",
    "        time.sleep(20)\n",
    "\n",
    "        # 点击全部订单\n",
    "        all_order = browser.find_elements_by_css_selector('.pLeft10.pRight10')[0]\n",
    "        all_order.click()\n",
    "        time.sleep(5)\n",
    "\n",
    "        # 点击导出订单\n",
    "        export_order = browser.find_elements_by_css_selector('.btn.btn-primary.dropdown-toggle')[-1]\n",
    "        export_order.click()\n",
    "        time.sleep(5)\n",
    "\n",
    "        # 点击导出所有页订单\n",
    "        export_all_order = browser.find_element_by_link_text('导出全部页订单')\n",
    "        export_all_order.click()\n",
    "        time.sleep(5)\n",
    "\n",
    "        # 点击按产品导出\n",
    "        export_all_order = browser.find_elements_by_name('isMaster')[2]\n",
    "        export_all_order.click()\n",
    "        time.sleep(5)\n",
    "\n",
    "        # 选择模板\n",
    "        export_template = browser.find_element_by_xpath('//select[@id=\"exportTemplateSelect\"]/option[text()=\"所有订单信息导出\"]')\n",
    "        export_template.click()\n",
    "        time.sleep(5)\n",
    "\n",
    "        # 点击导出，等待300s\n",
    "        export_start = browser.find_element_by_id('exportOrderBtn')\n",
    "        export_start.click()\n",
    "        time.sleep(300)\n",
    "\n",
    "        # 查找有多少份文件\n",
    "        to_export_zip = browser.find_elements_by_xpath('//div[@id=\"upDownloadbox\"]/span[@class=\"inline-block\"]')\n",
    "\n",
    "        # 假设是个小文件，就不需要这么大费周章了\n",
    "        if len(to_export_zip)>0:\n",
    "            for i in range(0, len(to_export_zip)):\n",
    "                to_export_zip[i].click()\n",
    "                time.sleep(10)\n",
    "\n",
    "            # 把下载的文件解压、合并\n",
    "            # 需要注意，最后一份文件不是zip而是xlsx\n",
    "\n",
    "            all_his_order_list = []\n",
    "\n",
    "            # 查找文件夹里面的ZIP file\n",
    "            zip_file_folder = \"D://Program Files (x86)//百度云同步盘//Dropbox//-E·J- 2014.5.1//2016.12.15 店小秘数据分析//2021.10.31 母婴店数据\"\n",
    "            for filename in os.listdir(zip_file_folder):\n",
    "                if filename.endswith('.zip'):\n",
    "                    filepath = os.path.join(zip_file_folder, filename)\n",
    "                    z = zipfile.ZipFile(filepath)\n",
    "            #         z.extract('订单列表1.xlsx', zip_file_folder)\n",
    "                    z.extractall(zip_file_folder)\n",
    "\n",
    "            #         all_his_order = pd.read_excel(os.path.join(zip_file_folder, '订单列表1.xlsx'))\n",
    "            #         all_his_order_list.append(all_his_order)\n",
    "            #         shutil.move(os.path.join(zip_file_folder, \"订单列表1.xlsx\"), os.path.join(zip_file_folder, \"店小秘订单列表（商品维度）.xlsx\"))\n",
    "                    z.close()\n",
    "                    os.remove(filepath)\n",
    "\n",
    "            # 查找文件夹里面订单列表\n",
    "            # zip_file_folder = \"D://Program Files (x86)//百度云同步盘//Dropbox//-E·J- 2014.5.1//2016.12.15 店小秘数据分析//\"\n",
    "            for filename in os.listdir(zip_file_folder):\n",
    "            #     if (filename.startswith('M') or filename.startswith('订单列表')) and filename.endswith('.xlsx'):\n",
    "                if filename.startswith('order_') and filename.endswith('.xlsx'):\n",
    "                    filepath = os.path.join(zip_file_folder, filename)\n",
    "                    last_his_order = pd.read_excel(filepath)\n",
    "                    all_his_order_list.append(last_his_order)\n",
    "                    os.unlink(filepath)\n",
    "                    time.sleep(10)\n",
    "\n",
    "            all_his_order_final = pd.concat(all_his_order_list)\n",
    "\n",
    "            all_his_order_final.to_excel(os.path.join(download_file_folder, str(key) + '_店小秘订单列表（全部订单）.xlsx'))\n",
    "        else:\n",
    "            # 点击下载\n",
    "            download_button = browser.find_elements_by_css_selector('.btn.dropdown-toggle.btn-primary')\n",
    "            download_button[-1].click()\n",
    "            time.sleep(5)\n",
    "            # 点击高速下载\n",
    "            highspeed_download = browser.find_element_by_link_text('高速下载地址')\n",
    "            highspeed_download.click()\n",
    "            time.sleep(30)\n",
    "            \n",
    "            try:\n",
    "                download_file_folder = \"D://Program Files (x86)//百度云同步盘//Dropbox//-E·J- 2014.5.1//2016.12.15 店小秘数据分析//2021.10.31 母婴店数据\"\n",
    "                download_file_type = '*.xlsx'\n",
    "                download_files = glob.glob(download_file_folder + download_file_type)\n",
    "                max_download_file = max(download_files, key=os.path.getctime)\n",
    "\n",
    "                # 查找当前文件夹最新文件\n",
    "                shutil.move(max_download_file, os.path.join(download_file_folder, str(key) + \"_店小秘订单列表（商品维度）.xlsx\"))\n",
    "            except:\n",
    "                all_his_order_list = []\n",
    "\n",
    "                # 查找文件夹里面的ZIP file\n",
    "                zip_file_folder = \"D://Program Files (x86)//百度云同步盘//Dropbox//-E·J- 2014.5.1//2016.12.15 店小秘数据分析//2021.10.31 母婴店数据\"\n",
    "                for filename in os.listdir(zip_file_folder):\n",
    "                    if filename.endswith('.zip'):\n",
    "                        filepath = os.path.join(zip_file_folder, filename)\n",
    "                        z = zipfile.ZipFile(filepath)\n",
    "                #         z.extract('订单列表1.xlsx', zip_file_folder)\n",
    "                        z.extractall(zip_file_folder)\n",
    "\n",
    "                #         all_his_order = pd.read_excel(os.path.join(zip_file_folder, '订单列表1.xlsx'))\n",
    "                #         all_his_order_list.append(all_his_order)\n",
    "                #         shutil.move(os.path.join(zip_file_folder, \"订单列表1.xlsx\"), os.path.join(zip_file_folder, \"店小秘订单列表（商品维度）.xlsx\"))\n",
    "                        z.close()\n",
    "                        os.remove(filepath)\n",
    "\n",
    "                # 查找文件夹里面订单列表\n",
    "                # zip_file_folder = \"D://Program Files (x86)//百度云同步盘//Dropbox//-E·J- 2014.5.1//2016.12.15 店小秘数据分析//\"\n",
    "                for filename in os.listdir(zip_file_folder):\n",
    "                #     if (filename.startswith('M') or filename.startswith('订单列表')) and filename.endswith('.xlsx'):\n",
    "                    if filename.startswith('order_') and filename.endswith('.xlsx'):\n",
    "                        filepath = os.path.join(zip_file_folder, filename)\n",
    "                        last_his_order = pd.read_excel(filepath)\n",
    "                        all_his_order_list.append(last_his_order)\n",
    "                        os.unlink(filepath)\n",
    "                        time.sleep(10)\n",
    "\n",
    "                all_his_order_final = pd.concat(all_his_order_list)\n",
    "\n",
    "                all_his_order_final.to_excel(os.path.join(download_file_folder, str(key) + '_店小秘订单列表（商品维度）.xlsx'))\n",
    "            \n",
    "\n",
    "        # 点击导出全部订单\n",
    "        browser.get('https://www.dianxiaomi.com/order/index.htm')\n",
    "        time.sleep(5)\n",
    "\n",
    "        # 点击全部订单\n",
    "        all_order = browser.find_elements_by_css_selector('.pLeft10.pRight10')[0]\n",
    "        all_order.click()\n",
    "        time.sleep(5)\n",
    "\n",
    "        # 点击历史订单\n",
    "        all_his_order = browser.find_elements_by_css_selector('.liBtn')[1]\n",
    "        all_his_order.click()\n",
    "        time.sleep(5)\n",
    "\n",
    "        # 点击导出订单\n",
    "        export_order = browser.find_elements_by_css_selector('.btn.btn-primary.dropdown-toggle')[-1]\n",
    "        export_order.click()\n",
    "        time.sleep(5)\n",
    "\n",
    "        # 点击导出所有页订单\n",
    "        export_all_order = browser.find_element_by_link_text('导出全部页订单')\n",
    "        export_all_order.click()\n",
    "        time.sleep(5)\n",
    "\n",
    "        # 点击按订单导出\n",
    "        export_all_order = browser.find_elements_by_name('isMaster')[1]\n",
    "        export_all_order.click()\n",
    "        time.sleep(5)\n",
    "\n",
    "        # 选择模板\n",
    "        export_template = browser.find_element_by_xpath('//select[@id=\"exportTemplateSelect\"]/option[text()=\"所有订单信息导出\"]')\n",
    "        export_template.click()\n",
    "        time.sleep(5)\n",
    "\n",
    "        # 点击导出，等待\n",
    "        export_start = browser.find_element_by_id('exportOrderBtn')\n",
    "        export_start.click()\n",
    "        time.sleep(500)\n",
    "\n",
    "        # 查找有多少份文件\n",
    "        to_export_zip = browser.find_elements_by_xpath('//div[@id=\"upDownloadbox\"]/span[@class=\"inline-block\"]')\n",
    "\n",
    "        # 假设是个小文件，就不需要这么大费周章了\n",
    "        if len(to_export_zip)>0:\n",
    "            for i in range(0, len(to_export_zip)):\n",
    "                to_export_zip[i].click()\n",
    "                time.sleep(10)\n",
    "\n",
    "            # 把下载的文件解压、合并\n",
    "            # 需要注意，最后一份文件不是zip而是xlsx\n",
    "\n",
    "            all_his_order_list = []\n",
    "\n",
    "            # 查找文件夹里面的ZIP file\n",
    "            zip_file_folder = \"D://Program Files (x86)//百度云同步盘//Dropbox//-E·J- 2014.5.1//2016.12.15 店小秘数据分析//2021.10.31 母婴店数据\"\n",
    "            for filename in os.listdir(zip_file_folder):\n",
    "                if filename.endswith('.zip'):\n",
    "                    filepath = os.path.join(zip_file_folder, filename)\n",
    "                    z = zipfile.ZipFile(filepath)\n",
    "            #         z.extract('订单列表1.xlsx', zip_file_folder)\n",
    "                    z.extractall(zip_file_folder)\n",
    "\n",
    "            #         all_his_order = pd.read_excel(os.path.join(zip_file_folder, '订单列表1.xlsx'))\n",
    "            #         all_his_order_list.append(all_his_order)\n",
    "            #         shutil.move(os.path.join(zip_file_folder, \"订单列表1.xlsx\"), os.path.join(zip_file_folder, \"店小秘订单列表（商品维度）.xlsx\"))\n",
    "                    z.close()\n",
    "                    os.remove(filepath)\n",
    "\n",
    "            # 查找文件夹里面订单列表\n",
    "            # zip_file_folder = \"D://Program Files (x86)//百度云同步盘//Dropbox//-E·J- 2014.5.1//2016.12.15 店小秘数据分析//\"\n",
    "            for filename in os.listdir(zip_file_folder):\n",
    "            #     if (filename.startswith('M') or filename.startswith('订单列表')) and filename.endswith('.xlsx'):\n",
    "                if filename.startswith('order_') and filename.endswith('.xlsx'):\n",
    "                    filepath = os.path.join(zip_file_folder, filename)\n",
    "                    last_his_order = pd.read_excel(filepath)\n",
    "                    all_his_order_list.append(last_his_order)\n",
    "                    os.unlink(filepath)\n",
    "                    time.sleep(10)\n",
    "\n",
    "            all_his_order_final = pd.concat(all_his_order_list)\n",
    "\n",
    "            all_his_order_final.to_excel(os.path.join(download_file_folder, str(key) + '_店小秘订单列表（全部订单）.xlsx'))\n",
    "        else:\n",
    "            # 点击下载\n",
    "            download_button = browser.find_elements_by_css_selector('.btn.dropdown-toggle.btn-primary')\n",
    "            download_button[-1].click()\n",
    "            time.sleep(5)\n",
    "            # 点击高速下载\n",
    "            highspeed_download = browser.find_element_by_link_text('高速下载地址')\n",
    "            highspeed_download.click()\n",
    "            time.sleep(30)\n",
    "            \n",
    "            try:\n",
    "                download_file_folder = \"D://Program Files (x86)//百度云同步盘//Dropbox//-E·J- 2014.5.1//2016.12.15 店小秘数据分析//2021.10.31 母婴店数据\"\n",
    "                download_file_type = '*.xlsx'\n",
    "                download_files = glob.glob(download_file_folder + download_file_type)\n",
    "                max_download_file = max(download_files, key=os.path.getctime)\n",
    "\n",
    "                # 查找当前文件夹最新文件\n",
    "                shutil.move(max_download_file, os.path.join(download_file_folder, str(key) + \"_店小秘订单列表（全部订单）.xlsx\"))\n",
    "            except:\n",
    "                all_his_order_list = []\n",
    "\n",
    "                # 查找文件夹里面的ZIP file\n",
    "                zip_file_folder = \"D://Program Files (x86)//百度云同步盘//Dropbox//-E·J- 2014.5.1//2016.12.15 店小秘数据分析//2021.10.31 母婴店数据\"\n",
    "                for filename in os.listdir(zip_file_folder):\n",
    "                    if filename.endswith('.zip'):\n",
    "                        filepath = os.path.join(zip_file_folder, filename)\n",
    "                        z = zipfile.ZipFile(filepath)\n",
    "                #         z.extract('订单列表1.xlsx', zip_file_folder)\n",
    "                        z.extractall(zip_file_folder)\n",
    "\n",
    "                #         all_his_order = pd.read_excel(os.path.join(zip_file_folder, '订单列表1.xlsx'))\n",
    "                #         all_his_order_list.append(all_his_order)\n",
    "                #         shutil.move(os.path.join(zip_file_folder, \"订单列表1.xlsx\"), os.path.join(zip_file_folder, \"店小秘订单列表（商品维度）.xlsx\"))\n",
    "                        z.close()\n",
    "                        os.remove(filepath)\n",
    "\n",
    "                # 查找文件夹里面订单列表\n",
    "                # zip_file_folder = \"D://Program Files (x86)//百度云同步盘//Dropbox//-E·J- 2014.5.1//2016.12.15 店小秘数据分析//\"\n",
    "                for filename in os.listdir(zip_file_folder):\n",
    "                #     if (filename.startswith('M') or filename.startswith('订单列表')) and filename.endswith('.xlsx'):\n",
    "                    if filename.startswith('order_') and filename.endswith('.xlsx'):\n",
    "                        filepath = os.path.join(zip_file_folder, filename)\n",
    "                        last_his_order = pd.read_excel(filepath)\n",
    "                        all_his_order_list.append(last_his_order)\n",
    "                        os.unlink(filepath)\n",
    "                        time.sleep(10)\n",
    "\n",
    "                all_his_order_final = pd.concat(all_his_order_list)\n",
    "\n",
    "                all_his_order_final.to_excel(os.path.join(download_file_folder, str(key) + '_店小秘订单列表（全部订单）.xlsx'))\n",
    "            \n",
    "\n",
    "        # 点击导出全部订单\n",
    "        browser.get('https://www.dianxiaomi.com/order/index.htm')\n",
    "        time.sleep(5)\n",
    "\n",
    "        # 点击全部订单\n",
    "        all_order = browser.find_elements_by_css_selector('.pLeft10.pRight10')[0]\n",
    "        all_order.click()\n",
    "        time.sleep(5)\n",
    "\n",
    "        # 点击历史订单\n",
    "        all_his_order = browser.find_elements_by_css_selector('.liBtn')[1]\n",
    "        all_his_order.click()\n",
    "        time.sleep(5)\n",
    "\n",
    "        # 点击导出订单\n",
    "        export_order = browser.find_elements_by_css_selector('.btn.btn-primary.dropdown-toggle')[-1]\n",
    "        export_order.click()\n",
    "        time.sleep(5)\n",
    "\n",
    "\n",
    "        # 点击导出所有页订单\n",
    "        export_all_order = browser.find_element_by_link_text('导出全部页订单')\n",
    "        export_all_order.click()\n",
    "        time.sleep(5)\n",
    "\n",
    "\n",
    "        # 点击按产品导出\n",
    "        export_all_order = browser.find_elements_by_name('isMaster')[2]\n",
    "        export_all_order.click()\n",
    "        time.sleep(5)\n",
    "\n",
    "        # 选择模板\n",
    "        export_template = browser.find_element_by_xpath('//select[@id=\"exportTemplateSelect\"]/option[text()=\"所有订单信息导出\"]')\n",
    "        export_template.click()\n",
    "        time.sleep(5)\n",
    "\n",
    "        # 点击导出，等待\n",
    "        export_start = browser.find_element_by_id('exportOrderBtn')\n",
    "        export_start.click()\n",
    "        time.sleep(500)\n",
    "\n",
    "        # 查找有多少份文件\n",
    "        to_export_zip = browser.find_elements_by_xpath('//div[@id=\"upDownloadbox\"]/span[@class=\"inline-block\"]')\n",
    "\n",
    "        # 假设是个小文件，就不需要这么大费周章了\n",
    "        if len(to_export_zip)>0:\n",
    "            for i in range(0, len(to_export_zip)):\n",
    "                to_export_zip[i].click()\n",
    "                time.sleep(10)\n",
    "\n",
    "            # 把下载的文件解压、合并\n",
    "            # 需要注意，最后一份文件不是zip而是xlsx\n",
    "\n",
    "            all_his_order_list = []\n",
    "\n",
    "            # 查找文件夹里面的ZIP file\n",
    "            zip_file_folder = \"D://Program Files (x86)//百度云同步盘//Dropbox//-E·J- 2014.5.1//2016.12.15 店小秘数据分析//2021.10.31 母婴店数据\"\n",
    "            for filename in os.listdir(zip_file_folder):\n",
    "                if filename.endswith('.zip'):\n",
    "                    filepath = os.path.join(zip_file_folder, filename)\n",
    "                    z = zipfile.ZipFile(filepath)\n",
    "            #         z.extract('订单列表1.xlsx', zip_file_folder)\n",
    "                    z.extractall(zip_file_folder)\n",
    "\n",
    "            #         all_his_order = pd.read_excel(os.path.join(zip_file_folder, '订单列表1.xlsx'))\n",
    "            #         all_his_order_list.append(all_his_order)\n",
    "            #         shutil.move(os.path.join(zip_file_folder, \"订单列表1.xlsx\"), os.path.join(zip_file_folder, \"店小秘订单列表（商品维度）.xlsx\"))\n",
    "                    z.close()\n",
    "                    os.remove(filepath)\n",
    "\n",
    "            # 查找文件夹里面订单列表\n",
    "            # zip_file_folder = \"D://Program Files (x86)//百度云同步盘//Dropbox//-E·J- 2014.5.1//2016.12.15 店小秘数据分析//\"\n",
    "            for filename in os.listdir(zip_file_folder):\n",
    "            #     if (filename.startswith('M') or filename.startswith('订单列表')) and filename.endswith('.xlsx'):\n",
    "                if filename.startswith('order_') and filename.endswith('.xlsx'):\n",
    "                    filepath = os.path.join(zip_file_folder, filename)\n",
    "                    last_his_order = pd.read_excel(filepath)\n",
    "                    all_his_order_list.append(last_his_order)\n",
    "                    os.unlink(filepath)\n",
    "                    time.sleep(10)\n",
    "\n",
    "            all_his_order_final = pd.concat(all_his_order_list)\n",
    "\n",
    "            all_his_order_final.to_excel(os.path.join(download_file_folder, str(key) + '_店小秘订单列表（全部订单；商品粒度）.xlsx'))\n",
    "        else:\n",
    "            # 点击下载\n",
    "            download_button = browser.find_elements_by_css_selector('.btn.dropdown-toggle.btn-primary')\n",
    "            download_button[-1].click()\n",
    "            time.sleep(5)\n",
    "            # 点击高速下载\n",
    "            highspeed_download = browser.find_element_by_link_text('高速下载地址')\n",
    "            highspeed_download.click()\n",
    "            time.sleep(30)\n",
    "            \n",
    "            try:\n",
    "                download_file_folder = \"D://Program Files (x86)//百度云同步盘//Dropbox//-E·J- 2014.5.1//2016.12.15 店小秘数据分析//2021.10.31 母婴店数据\"\n",
    "                download_file_type = '*.xlsx'\n",
    "                download_files = glob.glob(download_file_folder + download_file_type)\n",
    "                max_download_file = max(download_files, key=os.path.getctime)\n",
    "\n",
    "                # 查找当前文件夹最新文件\n",
    "                shutil.move(max_download_file, os.path.join(download_file_folder, str(key) + \"_店小秘订单列表（全部订单；商品粒度）.xlsx\"))\n",
    "            except:\n",
    "                all_his_order_list = []\n",
    "\n",
    "                # 查找文件夹里面的ZIP file\n",
    "                zip_file_folder = \"D://Program Files (x86)//百度云同步盘//Dropbox//-E·J- 2014.5.1//2016.12.15 店小秘数据分析//2021.10.31 母婴店数据\"\n",
    "                for filename in os.listdir(zip_file_folder):\n",
    "                    if filename.endswith('.zip'):\n",
    "                        filepath = os.path.join(zip_file_folder, filename)\n",
    "                        z = zipfile.ZipFile(filepath)\n",
    "                #         z.extract('订单列表1.xlsx', zip_file_folder)\n",
    "                        z.extractall(zip_file_folder)\n",
    "\n",
    "                #         all_his_order = pd.read_excel(os.path.join(zip_file_folder, '订单列表1.xlsx'))\n",
    "                #         all_his_order_list.append(all_his_order)\n",
    "                #         shutil.move(os.path.join(zip_file_folder, \"订单列表1.xlsx\"), os.path.join(zip_file_folder, \"店小秘订单列表（商品维度）.xlsx\"))\n",
    "                        z.close()\n",
    "                        os.remove(filepath)\n",
    "\n",
    "                # 查找文件夹里面订单列表\n",
    "                # zip_file_folder = \"D://Program Files (x86)//百度云同步盘//Dropbox//-E·J- 2014.5.1//2016.12.15 店小秘数据分析//\"\n",
    "                for filename in os.listdir(zip_file_folder):\n",
    "                #     if (filename.startswith('M') or filename.startswith('订单列表')) and filename.endswith('.xlsx'):\n",
    "                    if filename.startswith('order_') and filename.endswith('.xlsx'):\n",
    "                        filepath = os.path.join(zip_file_folder, filename)\n",
    "                        last_his_order = pd.read_excel(filepath)\n",
    "                        all_his_order_list.append(last_his_order)\n",
    "                        os.unlink(filepath)\n",
    "                        time.sleep(10)\n",
    "\n",
    "                all_his_order_final = pd.concat(all_his_order_list)\n",
    "\n",
    "                all_his_order_final.to_excel(os.path.join(download_file_folder, str(key) + '_店小秘订单列表（全部订单；商品粒度）.xlsx'))\n",
    "\n",
    "        # 关闭\n",
    "        browser.quit()"
   ]
  },
  {
   "cell_type": "code",
   "execution_count": null,
   "metadata": {
    "collapsed": true
   },
   "outputs": [],
   "source": []
  }
 ],
 "metadata": {
  "anaconda-cloud": {},
  "kernelspec": {
   "display_name": "Python [default]",
   "language": "python",
   "name": "python3"
  },
  "language_info": {
   "codemirror_mode": {
    "name": "ipython",
    "version": 3
   },
   "file_extension": ".py",
   "mimetype": "text/x-python",
   "name": "python",
   "nbconvert_exporter": "python",
   "pygments_lexer": "ipython3",
   "version": "3.5.2"
  }
 },
 "nbformat": 4,
 "nbformat_minor": 1
}
