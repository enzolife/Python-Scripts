{
 "cells": [
  {
   "cell_type": "code",
   "execution_count": 1,
   "metadata": {},
   "outputs": [],
   "source": [
    "from selenium import webdriver\n",
    "import pandas as pd\n",
    "import time\n",
    "import os\n",
    "import zipfile\n",
    "import shutil"
   ]
  },
  {
   "cell_type": "code",
   "execution_count": 2,
   "metadata": {},
   "outputs": [],
   "source": [
    "# 屏幕最大化，且指定下载目录\n",
    "options = webdriver.ChromeOptions()\n",
    "options.add_argument(\"--start-maximized\")\n",
    "\n",
    "prefs = {\"profile.default_content_settings.popups\": 0,\n",
    "         \"download.default_directory\": r\"D:\\Program Files (x86)\\百度云同步盘\\Dropbox\\-E·J- 2014.5.1\\2016.12.15 店小秘数据分析\\\\\", # IMPORTANT - ENDING SLASH V IMPORTANT\n",
    "         \"directory_upgrade\": True}\n",
    "options.add_experimental_option(\"prefs\", prefs)"
   ]
  },
  {
   "cell_type": "code",
   "execution_count": 3,
   "metadata": {},
   "outputs": [],
   "source": [
    "# 使用chromedriver才可以用开发者权限\n",
    "chrome_driver_path = \".//chrome_driver//chromedriver.exe\"\n",
    "browser = webdriver.Chrome(chrome_driver_path, chrome_options=options)"
   ]
  },
  {
   "cell_type": "code",
   "execution_count": 4,
   "metadata": {},
   "outputs": [],
   "source": [
    "browser.get('https://www.dianxiaomi.com/')"
   ]
  },
  {
   "cell_type": "code",
   "execution_count": 5,
   "metadata": {},
   "outputs": [],
   "source": [
    "acc_password_input_elem = browser.find_elements_by_css_selector('.form-control')"
   ]
  },
  {
   "cell_type": "code",
   "execution_count": 6,
   "metadata": {},
   "outputs": [],
   "source": [
    "# 输入账户密码登录\n",
    "acc_password_input_elem[-3].click()\n",
    "acc_password_input_elem[-3].send_keys('enzolife')\n",
    "acc_password_input_elem[-2].click()\n",
    "acc_password_input_elem[-2].send_keys('enzo81037997')\n",
    "time.sleep(10)"
   ]
  },
  {
   "cell_type": "code",
   "execution_count": 7,
   "metadata": {},
   "outputs": [],
   "source": [
    "# 点击登录\n",
    "log_in_button = browser.find_element_by_css_selector('.loginbnt.btn.btn-info.btn-denglu.btn-block')\n",
    "log_in_button.click()\n",
    "time.sleep(10)"
   ]
  },
  {
   "cell_type": "code",
   "execution_count": 8,
   "metadata": {},
   "outputs": [],
   "source": [
    "# 重新刷新页面，去掉广告\n",
    "browser.get('https://www.dianxiaomi.com/')"
   ]
  },
  {
   "cell_type": "code",
   "execution_count": 9,
   "metadata": {},
   "outputs": [
    {
     "name": "stdout",
     "output_type": "stream",
     "text": [
      "Can't find any.\n",
      "Can't find any.\n",
      "Can't find any.\n",
      "Can't find any.\n",
      "Can't find any.\n"
     ]
    }
   ],
   "source": [
    "# 关闭提示窗\n",
    "i = 1\n",
    "while i <= 5:\n",
    "    time.sleep(5)\n",
    "    i += 1\n",
    "    try:\n",
    "        close_button = browser.find_element_by_css_selector('.btn.btn-determine')\n",
    "        close_button.click()\n",
    "    except:\n",
    "        print(\"Can't find any.\")"
   ]
  },
  {
   "cell_type": "code",
   "execution_count": 10,
   "metadata": {},
   "outputs": [],
   "source": [
    "# 点击订单处理\n",
    "time.sleep(10)\n",
    "browser.get('https://www.dianxiaomi.com/order/index.htm')\n",
    "time.sleep(5)"
   ]
  },
  {
   "cell_type": "code",
   "execution_count": 11,
   "metadata": {},
   "outputs": [],
   "source": [
    "# 点击全部订单\n",
    "all_order = browser.find_elements_by_css_selector('.pLeft10.pRight10')[0]\n",
    "all_order.click()\n",
    "time.sleep(5)"
   ]
  },
  {
   "cell_type": "code",
   "execution_count": 12,
   "metadata": {},
   "outputs": [],
   "source": [
    "# 点击导出订单\n",
    "export_order = browser.find_elements_by_css_selector('.btn.btn-primary.dropdown-toggle')[1]\n",
    "export_order.click()\n",
    "time.sleep(5)"
   ]
  },
  {
   "cell_type": "code",
   "execution_count": 13,
   "metadata": {},
   "outputs": [],
   "source": [
    "# 点击导出所有页订单\n",
    "export_all_order = browser.find_element_by_link_text('导出全部页订单')\n",
    "export_all_order.click()\n",
    "time.sleep(5)"
   ]
  },
  {
   "cell_type": "code",
   "execution_count": 14,
   "metadata": {},
   "outputs": [],
   "source": [
    "# 点击按订单导出\n",
    "export_all_order = browser.find_elements_by_name('isMaster')[1]\n",
    "export_all_order.click()\n",
    "time.sleep(5)"
   ]
  },
  {
   "cell_type": "code",
   "execution_count": 15,
   "metadata": {},
   "outputs": [],
   "source": [
    "# 选择模板\n",
    "export_template = browser.find_element_by_xpath('//select[@id=\"exportTemplateSelect\"]/option[text()=\"Enzo\\'s所有订单信息导出\"]')\n",
    "export_template.click()\n",
    "time.sleep(5)"
   ]
  },
  {
   "cell_type": "code",
   "execution_count": 16,
   "metadata": {},
   "outputs": [],
   "source": [
    "# 点击导出，等待10分钟\n",
    "export_start = browser.find_element_by_id('exportOrderBtn')\n",
    "export_start.click()\n",
    "time.sleep(600)"
   ]
  },
  {
   "cell_type": "code",
   "execution_count": 17,
   "metadata": {},
   "outputs": [],
   "source": [
    "# 点击下载\n",
    "download_button = browser.find_elements_by_css_selector('.btn.dropdown-toggle.btn-primary')\n",
    "download_button[-1].click()\n",
    "# 点击高速下载\n",
    "highspeed_download = browser.find_element_by_link_text('高速下载地址')\n",
    "highspeed_download.click()\n",
    "time.sleep(5)"
   ]
  },
  {
   "cell_type": "code",
   "execution_count": 18,
   "metadata": {},
   "outputs": [],
   "source": [
    "# 查找文件夹里面的ZIP file\n",
    "zip_file_folder = \"D://Program Files (x86)//百度云同步盘//Dropbox//-E·J- 2014.5.1//2016.12.15 店小秘数据分析//\"\n",
    "for filename in os.listdir(zip_file_folder):\n",
    "    if filename.endswith('.zip'):\n",
    "        filepath = os.path.join(zip_file_folder, filename)\n",
    "        z = zipfile.ZipFile(filepath)\n",
    "        z.extract('订单列表.xlsx', zip_file_folder)\n",
    "        shutil.move(os.path.join(zip_file_folder, \"订单列表.xlsx\"), os.path.join(zip_file_folder, \"店小秘订单列表.xls\"))\n",
    "        z.close()\n",
    "        os.unlink(filepath)"
   ]
  },
  {
   "cell_type": "code",
   "execution_count": 19,
   "metadata": {},
   "outputs": [],
   "source": [
    "# 点击订单处理\n",
    "browser.get('https://www.dianxiaomi.com/order/index.htm')\n",
    "time.sleep(20)"
   ]
  },
  {
   "cell_type": "code",
   "execution_count": 20,
   "metadata": {},
   "outputs": [],
   "source": [
    "# 点击全部订单\n",
    "all_order = browser.find_elements_by_css_selector('.pLeft10.pRight10')[0]\n",
    "all_order.click()\n",
    "time.sleep(5)"
   ]
  },
  {
   "cell_type": "code",
   "execution_count": 21,
   "metadata": {},
   "outputs": [],
   "source": [
    "# 点击导出订单\n",
    "export_order = browser.find_elements_by_css_selector('.btn.btn-primary.dropdown-toggle')[1]\n",
    "export_order.click()\n",
    "time.sleep(5)"
   ]
  },
  {
   "cell_type": "code",
   "execution_count": 22,
   "metadata": {},
   "outputs": [],
   "source": [
    "# 点击导出所有页订单\n",
    "export_all_order = browser.find_element_by_link_text('导出全部页订单')\n",
    "export_all_order.click()\n",
    "time.sleep(5)"
   ]
  },
  {
   "cell_type": "code",
   "execution_count": 23,
   "metadata": {},
   "outputs": [],
   "source": [
    "# 点击按产品导出\n",
    "export_all_order = browser.find_elements_by_name('isMaster')[2]\n",
    "export_all_order.click()\n",
    "time.sleep(5)"
   ]
  },
  {
   "cell_type": "code",
   "execution_count": 24,
   "metadata": {},
   "outputs": [],
   "source": [
    "# 选择模板\n",
    "export_template = browser.find_element_by_xpath('//select[@id=\"exportTemplateSelect\"]/option[text()=\"Enzo\\'s所有订单信息导出\"]')\n",
    "export_template.click()\n",
    "time.sleep(5)"
   ]
  },
  {
   "cell_type": "code",
   "execution_count": 25,
   "metadata": {},
   "outputs": [],
   "source": [
    "# 点击导出，等待10分钟\n",
    "export_start = browser.find_element_by_id('exportOrderBtn')\n",
    "export_start.click()\n",
    "time.sleep(600)"
   ]
  },
  {
   "cell_type": "code",
   "execution_count": 26,
   "metadata": {},
   "outputs": [],
   "source": [
    "# 点击下载\n",
    "download_button = browser.find_elements_by_css_selector('.btn.dropdown-toggle.btn-primary')\n",
    "download_button[-1].click()\n",
    "# 点击高速下载\n",
    "highspeed_download = browser.find_element_by_link_text('高速下载地址')\n",
    "highspeed_download.click()\n",
    "time.sleep(30)"
   ]
  },
  {
   "cell_type": "code",
   "execution_count": 27,
   "metadata": {},
   "outputs": [],
   "source": [
    "# 查找文件夹里面的ZIP file\n",
    "zip_file_folder = \"D://Program Files (x86)//百度云同步盘//Dropbox//-E·J- 2014.5.1//2016.12.15 店小秘数据分析//\"\n",
    "for filename in os.listdir(zip_file_folder):\n",
    "    if filename.endswith('.zip'):\n",
    "        filepath = os.path.join(zip_file_folder, filename)\n",
    "        z = zipfile.ZipFile(filepath)\n",
    "        z.extract('订单列表.xlsx', zip_file_folder)\n",
    "        shutil.move(os.path.join(zip_file_folder, \"订单列表.xlsx\"), os.path.join(zip_file_folder, \"店小秘订单列表（商品维度）.xls\"))\n",
    "        z.close()\n",
    "        os.unlink(filepath)"
   ]
  },
  {
   "cell_type": "code",
   "execution_count": 28,
   "metadata": {},
   "outputs": [],
   "source": [
    "# 点击物流跟踪\n",
    "browser.get('https://www.dianxiaomi.com/tracking/index.htm')\n",
    "time.sleep(5)"
   ]
  },
  {
   "cell_type": "code",
   "execution_count": 29,
   "metadata": {},
   "outputs": [],
   "source": [
    "# 点击导出记录，按条件导出\n",
    "export_order = browser.find_elements_by_css_selector('.btn.btn-primary.dropdown-toggle')[0]\n",
    "export_order.click()\n",
    "time.sleep(5)"
   ]
  },
  {
   "cell_type": "code",
   "execution_count": 30,
   "metadata": {},
   "outputs": [],
   "source": [
    "export_selected_order = browser.find_element_by_link_text('按条件导出')\n",
    "export_selected_order.click()\n",
    "time.sleep(5)"
   ]
  },
  {
   "cell_type": "code",
   "execution_count": 31,
   "metadata": {},
   "outputs": [],
   "source": [
    "# 选择运输状态\n",
    "export_tracking_status = browser.find_elements_by_id('selectAll')\n",
    "export_tracking_status[1].click()\n",
    "time.sleep(5)"
   ]
  },
  {
   "cell_type": "code",
   "execution_count": 32,
   "metadata": {},
   "outputs": [],
   "source": [
    "# 选择全部时间\n",
    "export_tracking_range = browser.find_elements_by_link_text('全部')[-2]\n",
    "export_tracking_range.click()"
   ]
  },
  {
   "cell_type": "code",
   "execution_count": 33,
   "metadata": {},
   "outputs": [],
   "source": [
    "# 点击确认\n",
    "confirm_download = browser.find_elements_by_css_selector('.btn.btn-primary')\n",
    "confirm_download[33].click()\n",
    "time.sleep(600)"
   ]
  },
  {
   "cell_type": "code",
   "execution_count": 34,
   "metadata": {},
   "outputs": [],
   "source": [
    "# 点击下载\n",
    "download_button = browser.find_elements_by_css_selector('.btn.dropdown-toggle.btn-primary')\n",
    "download_button[-1].click()\n",
    "# 点击高速下载\n",
    "highspeed_download = browser.find_element_by_link_text('高速下载地址')\n",
    "highspeed_download.click()\n",
    "time.sleep(5)"
   ]
  },
  {
   "cell_type": "code",
   "execution_count": 35,
   "metadata": {},
   "outputs": [],
   "source": [
    "# 查找文件夹里面的ZIP file\n",
    "xls_file_folder = \"D://Program Files (x86)//百度云同步盘//Dropbox//-E·J- 2014.5.1//2016.12.15 店小秘数据分析//\"\n",
    "for filename in os.listdir(xls_file_folder):\n",
    "    if filename.startswith('M'):\n",
    "        filepath = os.path.join(xls_file_folder, filename)\n",
    "        shutil.move(filepath, os.path.join(zip_file_folder, \"店小秘物流跟踪列表.xlsx\"))"
   ]
  },
  {
   "cell_type": "code",
   "execution_count": 36,
   "metadata": {},
   "outputs": [],
   "source": [
    "# 关闭\n",
    "browser.quit()"
   ]
  }
 ],
 "metadata": {
  "anaconda-cloud": {},
  "kernelspec": {
   "display_name": "Python 3",
   "language": "python",
   "name": "python3"
  },
  "language_info": {
   "codemirror_mode": {
    "name": "ipython",
    "version": 3
   },
   "file_extension": ".py",
   "mimetype": "text/x-python",
   "name": "python",
   "nbconvert_exporter": "python",
   "pygments_lexer": "ipython3",
   "version": "3.5.6"
  }
 },
 "nbformat": 4,
 "nbformat_minor": 0
}
