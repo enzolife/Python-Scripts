{
 "cells": [
  {
   "cell_type": "code",
   "execution_count": 38,
   "metadata": {
    "collapsed": true
   },
   "outputs": [],
   "source": [
    "from selenium import webdriver\n",
    "import pandas as pd\n",
    "import time\n",
    "import os\n",
    "import zipfile\n",
    "import shutil"
   ]
  },
  {
   "cell_type": "code",
   "execution_count": 39,
   "metadata": {
    "collapsed": true
   },
   "outputs": [],
   "source": [
    "# 屏幕最大化，且指定下载目录\n",
    "options = webdriver.ChromeOptions()\n",
    "options.add_argument(\"--start-maximized\")\n",
    "\n",
    "prefs = {\"profile.default_content_settings.popups\": 0,\n",
    "         \"download.default_directory\": r\"D:\\Program Files (x86)\\百度云同步盘\\Dropbox\\-E·J- 2014.5.1\\2016.12.15 店小秘数据分析\\\\\", # IMPORTANT - ENDING SLASH V IMPORTANT\n",
    "         \"directory_upgrade\": True}\n",
    "options.add_experimental_option(\"prefs\", prefs)"
   ]
  },
  {
   "cell_type": "code",
   "execution_count": 40,
   "metadata": {
    "collapsed": true
   },
   "outputs": [],
   "source": [
    "# 使用chromedriver才可以用开发者权限\n",
    "chrome_driver_path = \".//chrome_driver//chromedriver.exe\"\n",
    "browser = webdriver.Chrome(chrome_driver_path, chrome_options=options)"
   ]
  },
  {
   "cell_type": "code",
   "execution_count": 41,
   "metadata": {
    "collapsed": true
   },
   "outputs": [],
   "source": [
    "browser.get('https://www.dianxiaomi.com/')"
   ]
  },
  {
   "cell_type": "code",
   "execution_count": 42,
   "metadata": {
    "collapsed": true
   },
   "outputs": [],
   "source": [
    "acc_password_input_elem = browser.find_elements_by_css_selector('.form-control')"
   ]
  },
  {
   "cell_type": "code",
   "execution_count": 43,
   "metadata": {
    "collapsed": true
   },
   "outputs": [],
   "source": [
    "# 输入账户密码登录\n",
    "acc_password_input_elem[-3].click()\n",
    "acc_password_input_elem[-3].send_keys('enzolife')\n",
    "acc_password_input_elem[-2].click()\n",
    "acc_password_input_elem[-2].send_keys('enzo81037997')\n",
    "time.sleep(10)"
   ]
  },
  {
   "cell_type": "code",
   "execution_count": 44,
   "metadata": {
    "collapsed": true
   },
   "outputs": [],
   "source": [
    "# 点击登录\n",
    "log_in_button = browser.find_element_by_css_selector('.loginbnt.btn.btn-info.btn-denglu.btn-block')\n",
    "log_in_button.click()\n",
    "time.sleep(10)"
   ]
  },
  {
   "cell_type": "code",
   "execution_count": 45,
   "metadata": {
    "collapsed": true
   },
   "outputs": [],
   "source": [
    "# 重新刷新页面，去掉广告\n",
    "browser.get('https://www.dianxiaomi.com/')"
   ]
  },
  {
   "cell_type": "code",
   "execution_count": 46,
   "metadata": {},
   "outputs": [
    {
     "name": "stdout",
     "output_type": "stream",
     "text": [
      "Can't find any.\n",
      "Can't find any.\n",
      "Can't find any.\n",
      "Can't find any.\n",
      "Can't find any.\n"
     ]
    }
   ],
   "source": [
    "# 关闭提示窗\n",
    "i = 1\n",
    "while i <= 5:\n",
    "    time.sleep(5)\n",
    "    i += 1\n",
    "    try:\n",
    "        close_button = browser.find_element_by_css_selector('.btn.btn-determine')\n",
    "        close_button.click()\n",
    "    except:\n",
    "        print(\"Can't find any.\")"
   ]
  },
  {
   "cell_type": "code",
   "execution_count": 47,
   "metadata": {
    "collapsed": true
   },
   "outputs": [],
   "source": [
    "# 点击订单处理\n",
    "time.sleep(10)\n",
    "browser.get('https://www.dianxiaomi.com/order/index.htm')\n",
    "time.sleep(5)"
   ]
  },
  {
   "cell_type": "code",
   "execution_count": 48,
   "metadata": {
    "collapsed": true
   },
   "outputs": [],
   "source": [
    "# 点击全部订单\n",
    "all_order = browser.find_elements_by_css_selector('.pLeft10.pRight10')[0]\n",
    "all_order.click()\n",
    "time.sleep(5)"
   ]
  },
  {
   "cell_type": "code",
   "execution_count": 49,
   "metadata": {
    "collapsed": true
   },
   "outputs": [],
   "source": [
    "# 点击导出订单\n",
    "export_order = browser.find_elements_by_css_selector('.btn.btn-primary.dropdown-toggle')[1]\n",
    "export_order.click()\n",
    "time.sleep(5)"
   ]
  },
  {
   "cell_type": "code",
   "execution_count": 50,
   "metadata": {
    "collapsed": true
   },
   "outputs": [],
   "source": [
    "# 点击导出所有页订单\n",
    "export_all_order = browser.find_element_by_link_text('导出全部页订单')\n",
    "export_all_order.click()\n",
    "time.sleep(5)"
   ]
  },
  {
   "cell_type": "code",
   "execution_count": 51,
   "metadata": {
    "collapsed": true
   },
   "outputs": [],
   "source": [
    "# 点击按订单导出\n",
    "export_all_order = browser.find_elements_by_name('isMaster')[1]\n",
    "export_all_order.click()\n",
    "time.sleep(5)"
   ]
  },
  {
   "cell_type": "code",
   "execution_count": 52,
   "metadata": {
    "collapsed": true
   },
   "outputs": [],
   "source": [
    "# 选择模板\n",
    "export_template = browser.find_element_by_xpath('//select[@id=\"exportTemplateSelect\"]/option[text()=\"Enzo\\'s所有订单信息导出\"]')\n",
    "export_template.click()\n",
    "time.sleep(5)"
   ]
  },
  {
   "cell_type": "code",
   "execution_count": 53,
   "metadata": {
    "collapsed": true
   },
   "outputs": [],
   "source": [
    "# 点击导出，等待5分钟\n",
    "export_start = browser.find_element_by_id('exportOrderBtn')\n",
    "export_start.click()\n",
    "time.sleep(300)"
   ]
  },
  {
   "cell_type": "code",
   "execution_count": 54,
   "metadata": {
    "collapsed": true
   },
   "outputs": [],
   "source": [
    "# 点击下载\n",
    "download_button = browser.find_elements_by_css_selector('.btn.dropdown-toggle.btn-primary')\n",
    "download_button[-1].click()\n",
    "# 点击高速下载\n",
    "highspeed_download = browser.find_element_by_link_text('高速下载地址')\n",
    "highspeed_download.click()\n",
    "time.sleep(5)"
   ]
  },
  {
   "cell_type": "code",
   "execution_count": 55,
   "metadata": {
    "collapsed": true
   },
   "outputs": [],
   "source": [
    "# 查找文件夹里面的ZIP file\n",
    "zip_file_folder = \"D://Program Files (x86)//百度云同步盘//Dropbox//-E·J- 2014.5.1//2016.12.15 店小秘数据分析//\"\n",
    "for filename in os.listdir(zip_file_folder):\n",
    "    if filename.endswith('.zip'):\n",
    "        filepath = os.path.join(zip_file_folder, filename)\n",
    "        z = zipfile.ZipFile(filepath)\n",
    "        z.extract('订单列表1.xlsx', zip_file_folder)\n",
    "        shutil.move(os.path.join(zip_file_folder, \"订单列表1.xlsx\"), os.path.join(zip_file_folder, \"店小秘订单列表.xls\"))\n",
    "        z.close()\n",
    "        os.unlink(filepath)"
   ]
  },
  {
   "cell_type": "code",
   "execution_count": 56,
   "metadata": {
    "collapsed": true
   },
   "outputs": [],
   "source": [
    "# 点击订单处理\n",
    "browser.get('https://www.dianxiaomi.com/order/index.htm')\n",
    "time.sleep(20)"
   ]
  },
  {
   "cell_type": "code",
   "execution_count": 57,
   "metadata": {
    "collapsed": true
   },
   "outputs": [],
   "source": [
    "# 点击全部订单\n",
    "all_order = browser.find_elements_by_css_selector('.pLeft10.pRight10')[0]\n",
    "all_order.click()\n",
    "time.sleep(5)"
   ]
  },
  {
   "cell_type": "code",
   "execution_count": 58,
   "metadata": {
    "collapsed": true
   },
   "outputs": [],
   "source": [
    "# 点击导出订单\n",
    "export_order = browser.find_elements_by_css_selector('.btn.btn-primary.dropdown-toggle')[1]\n",
    "export_order.click()\n",
    "time.sleep(5)"
   ]
  },
  {
   "cell_type": "code",
   "execution_count": 59,
   "metadata": {
    "collapsed": true
   },
   "outputs": [],
   "source": [
    "# 点击导出所有页订单\n",
    "export_all_order = browser.find_element_by_link_text('导出全部页订单')\n",
    "export_all_order.click()\n",
    "time.sleep(5)"
   ]
  },
  {
   "cell_type": "code",
   "execution_count": 60,
   "metadata": {
    "collapsed": true
   },
   "outputs": [],
   "source": [
    "# 点击按产品导出\n",
    "export_all_order = browser.find_elements_by_name('isMaster')[2]\n",
    "export_all_order.click()\n",
    "time.sleep(5)"
   ]
  },
  {
   "cell_type": "code",
   "execution_count": 61,
   "metadata": {
    "collapsed": true
   },
   "outputs": [],
   "source": [
    "# 选择模板\n",
    "export_template = browser.find_element_by_xpath('//select[@id=\"exportTemplateSelect\"]/option[text()=\"Enzo\\'s所有订单信息导出\"]')\n",
    "export_template.click()\n",
    "time.sleep(5)"
   ]
  },
  {
   "cell_type": "code",
   "execution_count": 62,
   "metadata": {
    "collapsed": true
   },
   "outputs": [],
   "source": [
    "# 点击导出，等待5分钟\n",
    "export_start = browser.find_element_by_id('exportOrderBtn')\n",
    "export_start.click()\n",
    "time.sleep(300)"
   ]
  },
  {
   "cell_type": "code",
   "execution_count": 63,
   "metadata": {
    "collapsed": true
   },
   "outputs": [],
   "source": [
    "# 点击下载\n",
    "download_button = browser.find_elements_by_css_selector('.btn.dropdown-toggle.btn-primary')\n",
    "download_button[-1].click()\n",
    "# 点击高速下载\n",
    "highspeed_download = browser.find_element_by_link_text('高速下载地址')\n",
    "highspeed_download.click()\n",
    "time.sleep(30)"
   ]
  },
  {
   "cell_type": "code",
   "execution_count": 64,
   "metadata": {
    "collapsed": true
   },
   "outputs": [],
   "source": [
    "# 查找文件夹里面的ZIP file\n",
    "zip_file_folder = \"D://Program Files (x86)//百度云同步盘//Dropbox//-E·J- 2014.5.1//2016.12.15 店小秘数据分析//\"\n",
    "for filename in os.listdir(zip_file_folder):\n",
    "    if filename.endswith('.zip'):\n",
    "        filepath = os.path.join(zip_file_folder, filename)\n",
    "        z = zipfile.ZipFile(filepath)\n",
    "        z.extract('订单列表1.xlsx', zip_file_folder)\n",
    "        shutil.move(os.path.join(zip_file_folder, \"订单列表1.xlsx\"), os.path.join(zip_file_folder, \"店小秘订单列表（商品维度）.xls\"))\n",
    "        z.close()\n",
    "        os.unlink(filepath)"
   ]
  },
  {
   "cell_type": "code",
   "execution_count": 65,
   "metadata": {
    "collapsed": true
   },
   "outputs": [],
   "source": [
    "# 点击物流跟踪\n",
    "browser.get('https://www.dianxiaomi.com/tracking/index.htm')\n",
    "time.sleep(5)"
   ]
  },
  {
   "cell_type": "code",
   "execution_count": 66,
   "metadata": {
    "collapsed": true
   },
   "outputs": [],
   "source": [
    "# 点击导出记录，按条件导出\n",
    "export_order = browser.find_elements_by_css_selector('.btn.btn-primary.dropdown-toggle')[0]\n",
    "export_order.click()\n",
    "time.sleep(5)"
   ]
  },
  {
   "cell_type": "code",
   "execution_count": 67,
   "metadata": {
    "collapsed": true
   },
   "outputs": [],
   "source": [
    "export_selected_order = browser.find_element_by_link_text('按条件导出')\n",
    "export_selected_order.click()\n",
    "time.sleep(5)"
   ]
  },
  {
   "cell_type": "code",
   "execution_count": 68,
   "metadata": {
    "collapsed": true
   },
   "outputs": [],
   "source": [
    "# 选择运输状态\n",
    "export_tracking_status = browser.find_elements_by_id('selectAll')\n",
    "export_tracking_status[1].click()\n",
    "time.sleep(5)"
   ]
  },
  {
   "cell_type": "code",
   "execution_count": 69,
   "metadata": {
    "collapsed": true
   },
   "outputs": [],
   "source": [
    "# 选择全部时间\n",
    "export_tracking_range = browser.find_elements_by_link_text('全部')[-2]\n",
    "export_tracking_range.click()"
   ]
  },
  {
   "cell_type": "code",
   "execution_count": 70,
   "metadata": {
    "collapsed": true
   },
   "outputs": [],
   "source": [
    "# 点击确认\n",
    "confirm_download = browser.find_elements_by_css_selector('.btn.btn-primary')\n",
    "confirm_download[35].click()\n",
    "time.sleep(180)"
   ]
  },
  {
   "cell_type": "code",
   "execution_count": 71,
   "metadata": {},
   "outputs": [
    {
     "ename": "WebDriverException",
     "evalue": "Message: chrome not reachable\n  (Session info: chrome=77.0.3865.90)\n",
     "output_type": "error",
     "traceback": [
      "\u001b[0;31m---------------------------------------------------------------------------\u001b[0m",
      "\u001b[0;31mWebDriverException\u001b[0m                        Traceback (most recent call last)",
      "\u001b[0;32m<ipython-input-71-c5029a6ecaa2>\u001b[0m in \u001b[0;36m<module>\u001b[0;34m()\u001b[0m\n\u001b[1;32m      1\u001b[0m \u001b[1;31m# 点击下载\u001b[0m\u001b[1;33m\u001b[0m\u001b[1;33m\u001b[0m\u001b[0m\n\u001b[0;32m----> 2\u001b[0;31m \u001b[0mdownload_button\u001b[0m \u001b[1;33m=\u001b[0m \u001b[0mbrowser\u001b[0m\u001b[1;33m.\u001b[0m\u001b[0mfind_elements_by_css_selector\u001b[0m\u001b[1;33m(\u001b[0m\u001b[1;34m'.btn.dropdown-toggle.btn-primary'\u001b[0m\u001b[1;33m)\u001b[0m\u001b[1;33m\u001b[0m\u001b[0m\n\u001b[0m\u001b[1;32m      3\u001b[0m \u001b[0mdownload_button\u001b[0m\u001b[1;33m[\u001b[0m\u001b[1;33m-\u001b[0m\u001b[1;36m1\u001b[0m\u001b[1;33m]\u001b[0m\u001b[1;33m.\u001b[0m\u001b[0mclick\u001b[0m\u001b[1;33m(\u001b[0m\u001b[1;33m)\u001b[0m\u001b[1;33m\u001b[0m\u001b[0m\n\u001b[1;32m      4\u001b[0m \u001b[1;31m# 点击高速下载\u001b[0m\u001b[1;33m\u001b[0m\u001b[1;33m\u001b[0m\u001b[0m\n\u001b[1;32m      5\u001b[0m \u001b[0mhighspeed_download\u001b[0m \u001b[1;33m=\u001b[0m \u001b[0mbrowser\u001b[0m\u001b[1;33m.\u001b[0m\u001b[0mfind_element_by_link_text\u001b[0m\u001b[1;33m(\u001b[0m\u001b[1;34m'高速下载地址'\u001b[0m\u001b[1;33m)\u001b[0m\u001b[1;33m\u001b[0m\u001b[0m\n",
      "\u001b[0;32mC:\\Users\\kuang\\Anaconda3\\lib\\site-packages\\selenium\\webdriver\\remote\\webdriver.py\u001b[0m in \u001b[0;36mfind_elements_by_css_selector\u001b[0;34m(self, css_selector)\u001b[0m\n\u001b[1;32m    522\u001b[0m             \u001b[0mdriver\u001b[0m\u001b[1;33m.\u001b[0m\u001b[0mfind_elements_by_css_selector\u001b[0m\u001b[1;33m(\u001b[0m\u001b[1;34m'.foo'\u001b[0m\u001b[1;33m)\u001b[0m\u001b[1;33m\u001b[0m\u001b[0m\n\u001b[1;32m    523\u001b[0m         \"\"\"\n\u001b[0;32m--> 524\u001b[0;31m         \u001b[1;32mreturn\u001b[0m \u001b[0mself\u001b[0m\u001b[1;33m.\u001b[0m\u001b[0mfind_elements\u001b[0m\u001b[1;33m(\u001b[0m\u001b[0mby\u001b[0m\u001b[1;33m=\u001b[0m\u001b[0mBy\u001b[0m\u001b[1;33m.\u001b[0m\u001b[0mCSS_SELECTOR\u001b[0m\u001b[1;33m,\u001b[0m \u001b[0mvalue\u001b[0m\u001b[1;33m=\u001b[0m\u001b[0mcss_selector\u001b[0m\u001b[1;33m)\u001b[0m\u001b[1;33m\u001b[0m\u001b[0m\n\u001b[0m\u001b[1;32m    525\u001b[0m \u001b[1;33m\u001b[0m\u001b[0m\n\u001b[1;32m    526\u001b[0m     \u001b[1;32mdef\u001b[0m \u001b[0mexecute_script\u001b[0m\u001b[1;33m(\u001b[0m\u001b[0mself\u001b[0m\u001b[1;33m,\u001b[0m \u001b[0mscript\u001b[0m\u001b[1;33m,\u001b[0m \u001b[1;33m*\u001b[0m\u001b[0margs\u001b[0m\u001b[1;33m)\u001b[0m\u001b[1;33m:\u001b[0m\u001b[1;33m\u001b[0m\u001b[0m\n",
      "\u001b[0;32mC:\\Users\\kuang\\Anaconda3\\lib\\site-packages\\selenium\\webdriver\\remote\\webdriver.py\u001b[0m in \u001b[0;36mfind_elements\u001b[0;34m(self, by, value)\u001b[0m\n\u001b[1;32m    884\u001b[0m         return self.execute(Command.FIND_ELEMENTS, {\n\u001b[1;32m    885\u001b[0m             \u001b[1;34m'using'\u001b[0m\u001b[1;33m:\u001b[0m \u001b[0mby\u001b[0m\u001b[1;33m,\u001b[0m\u001b[1;33m\u001b[0m\u001b[0m\n\u001b[0;32m--> 886\u001b[0;31m             'value': value})['value'] or []\n\u001b[0m\u001b[1;32m    887\u001b[0m \u001b[1;33m\u001b[0m\u001b[0m\n\u001b[1;32m    888\u001b[0m     \u001b[1;33m@\u001b[0m\u001b[0mproperty\u001b[0m\u001b[1;33m\u001b[0m\u001b[0m\n",
      "\u001b[0;32mC:\\Users\\kuang\\Anaconda3\\lib\\site-packages\\selenium\\webdriver\\remote\\webdriver.py\u001b[0m in \u001b[0;36mexecute\u001b[0;34m(self, driver_command, params)\u001b[0m\n\u001b[1;32m    309\u001b[0m         \u001b[0mresponse\u001b[0m \u001b[1;33m=\u001b[0m \u001b[0mself\u001b[0m\u001b[1;33m.\u001b[0m\u001b[0mcommand_executor\u001b[0m\u001b[1;33m.\u001b[0m\u001b[0mexecute\u001b[0m\u001b[1;33m(\u001b[0m\u001b[0mdriver_command\u001b[0m\u001b[1;33m,\u001b[0m \u001b[0mparams\u001b[0m\u001b[1;33m)\u001b[0m\u001b[1;33m\u001b[0m\u001b[0m\n\u001b[1;32m    310\u001b[0m         \u001b[1;32mif\u001b[0m \u001b[0mresponse\u001b[0m\u001b[1;33m:\u001b[0m\u001b[1;33m\u001b[0m\u001b[0m\n\u001b[0;32m--> 311\u001b[0;31m             \u001b[0mself\u001b[0m\u001b[1;33m.\u001b[0m\u001b[0merror_handler\u001b[0m\u001b[1;33m.\u001b[0m\u001b[0mcheck_response\u001b[0m\u001b[1;33m(\u001b[0m\u001b[0mresponse\u001b[0m\u001b[1;33m)\u001b[0m\u001b[1;33m\u001b[0m\u001b[0m\n\u001b[0m\u001b[1;32m    312\u001b[0m             response['value'] = self._unwrap_value(\n\u001b[1;32m    313\u001b[0m                 response.get('value', None))\n",
      "\u001b[0;32mC:\\Users\\kuang\\Anaconda3\\lib\\site-packages\\selenium\\webdriver\\remote\\errorhandler.py\u001b[0m in \u001b[0;36mcheck_response\u001b[0;34m(self, response)\u001b[0m\n\u001b[1;32m    235\u001b[0m         \u001b[1;32melif\u001b[0m \u001b[0mexception_class\u001b[0m \u001b[1;33m==\u001b[0m \u001b[0mUnexpectedAlertPresentException\u001b[0m \u001b[1;32mand\u001b[0m \u001b[1;34m'alert'\u001b[0m \u001b[1;32min\u001b[0m \u001b[0mvalue\u001b[0m\u001b[1;33m:\u001b[0m\u001b[1;33m\u001b[0m\u001b[0m\n\u001b[1;32m    236\u001b[0m             \u001b[1;32mraise\u001b[0m \u001b[0mexception_class\u001b[0m\u001b[1;33m(\u001b[0m\u001b[0mmessage\u001b[0m\u001b[1;33m,\u001b[0m \u001b[0mscreen\u001b[0m\u001b[1;33m,\u001b[0m \u001b[0mstacktrace\u001b[0m\u001b[1;33m,\u001b[0m \u001b[0mvalue\u001b[0m\u001b[1;33m[\u001b[0m\u001b[1;34m'alert'\u001b[0m\u001b[1;33m]\u001b[0m\u001b[1;33m.\u001b[0m\u001b[0mget\u001b[0m\u001b[1;33m(\u001b[0m\u001b[1;34m'text'\u001b[0m\u001b[1;33m)\u001b[0m\u001b[1;33m)\u001b[0m\u001b[1;33m\u001b[0m\u001b[0m\n\u001b[0;32m--> 237\u001b[0;31m         \u001b[1;32mraise\u001b[0m \u001b[0mexception_class\u001b[0m\u001b[1;33m(\u001b[0m\u001b[0mmessage\u001b[0m\u001b[1;33m,\u001b[0m \u001b[0mscreen\u001b[0m\u001b[1;33m,\u001b[0m \u001b[0mstacktrace\u001b[0m\u001b[1;33m)\u001b[0m\u001b[1;33m\u001b[0m\u001b[0m\n\u001b[0m\u001b[1;32m    238\u001b[0m \u001b[1;33m\u001b[0m\u001b[0m\n\u001b[1;32m    239\u001b[0m     \u001b[1;32mdef\u001b[0m \u001b[0m_value_or_default\u001b[0m\u001b[1;33m(\u001b[0m\u001b[0mself\u001b[0m\u001b[1;33m,\u001b[0m \u001b[0mobj\u001b[0m\u001b[1;33m,\u001b[0m \u001b[0mkey\u001b[0m\u001b[1;33m,\u001b[0m \u001b[0mdefault\u001b[0m\u001b[1;33m)\u001b[0m\u001b[1;33m:\u001b[0m\u001b[1;33m\u001b[0m\u001b[0m\n",
      "\u001b[0;31mWebDriverException\u001b[0m: Message: chrome not reachable\n  (Session info: chrome=77.0.3865.90)\n"
     ]
    }
   ],
   "source": [
    "# 点击下载\n",
    "download_button = browser.find_elements_by_css_selector('.btn.dropdown-toggle.btn-primary')\n",
    "download_button[-1].click()\n",
    "# 点击高速下载\n",
    "highspeed_download = browser.find_element_by_link_text('高速下载地址')\n",
    "highspeed_download.click()\n",
    "time.sleep(5)"
   ]
  },
  {
   "cell_type": "code",
   "execution_count": null,
   "metadata": {
    "collapsed": true
   },
   "outputs": [],
   "source": [
    "# 查找文件夹里面的ZIP file\n",
    "xls_file_folder = \"D://Program Files (x86)//百度云同步盘//Dropbox//-E·J- 2014.5.1//2016.12.15 店小秘数据分析//\"\n",
    "for filename in os.listdir(xls_file_folder):\n",
    "    if filename.startswith('M'):\n",
    "        filepath = os.path.join(xls_file_folder, filename)\n",
    "        shutil.move(filepath, os.path.join(zip_file_folder, \"店小秘物流跟踪列表.xlsx\"))"
   ]
  },
  {
   "cell_type": "code",
   "execution_count": null,
   "metadata": {
    "collapsed": true
   },
   "outputs": [],
   "source": [
    "# 关闭\n",
    "browser.quit()"
   ]
  }
 ],
 "metadata": {
  "anaconda-cloud": {},
  "kernelspec": {
   "display_name": "Python [default]",
   "language": "python",
   "name": "python3"
  },
  "language_info": {
   "codemirror_mode": {
    "name": "ipython",
    "version": 3
   },
   "file_extension": ".py",
   "mimetype": "text/x-python",
   "name": "python",
   "nbconvert_exporter": "python",
   "pygments_lexer": "ipython3",
   "version": "3.5.2"
  }
 },
 "nbformat": 4,
 "nbformat_minor": 1
}
