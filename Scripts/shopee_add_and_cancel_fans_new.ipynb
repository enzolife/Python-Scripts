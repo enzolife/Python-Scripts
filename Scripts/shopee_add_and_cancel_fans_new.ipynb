{
 "cells": [
  {
   "cell_type": "code",
   "execution_count": 1,
   "metadata": {},
   "outputs": [],
   "source": [
    "from selenium import webdriver\n",
    "from selenium.webdriver.common.keys import Keys\n",
    "import pandas as pd\n",
    "import time\n",
    "import datetime\n",
    "import logging\n",
    "import os"
   ]
  },
  {
   "cell_type": "code",
   "execution_count": 2,
   "metadata": {},
   "outputs": [],
   "source": [
    "# 获取脚本的当前路径，避免计划执行时路径出错\n",
    "home_dir = os.path.dirname(os.path.realpath(__file__))\n",
    "# 更换workding directory\n",
    "working_directory = home_dir\n",
    "os.chdir(working_directory)"
   ]
  },
  {
   "cell_type": "code",
   "execution_count": 3,
   "metadata": {
    "collapsed": true
   },
   "outputs": [],
   "source": [
    "# pip install selenium"
   ]
  },
  {
   "cell_type": "code",
   "execution_count": 4,
   "metadata": {
    "collapsed": true
   },
   "outputs": [],
   "source": [
    "# Date\n",
    "today_date = datetime.date.today() + datetime.timedelta(days=0)\n",
    "yesterday_date = datetime.date.today() + datetime.timedelta(days=-1)\n",
    "seven_days_before_date = datetime.date.today() + datetime.timedelta(days=-7)\n",
    "\n",
    "today_date_string = today_date.strftime('%Y_%m_%d')"
   ]
  },
  {
   "cell_type": "code",
   "execution_count": 5,
   "metadata": {
    "collapsed": true
   },
   "outputs": [],
   "source": [
    "# os.getcwd()"
   ]
  },
  {
   "cell_type": "code",
   "execution_count": 6,
   "metadata": {
    "collapsed": true
   },
   "outputs": [],
   "source": [
    "log_file_name = 'shopee_add_and_cancel_fans_log\\\\shopee_add_and_cancel_fans_log_' + today_date_string + '.txt'\n",
    "\n",
    "# logging.basicConfig(filename=log_file_name, level=logging.INFO, format='%(asctime)s - %(levelname)s - %(message)s')\n",
    "\n",
    "logging.basicConfig(level=logging.INFO, format='%(asctime)s - %(levelname)s - %(message)s')"
   ]
  },
  {
   "cell_type": "code",
   "execution_count": 7,
   "metadata": {
    "collapsed": true
   },
   "outputs": [],
   "source": [
    "# 屏幕最大化，且指定下载目录\n",
    "options = webdriver.ChromeOptions()\n",
    "options.add_argument(\"--start-maximized\")\n",
    "\n",
    "prefs = {\"profile.default_content_settings.popups\": 0,\n",
    "         \"directory_upgrade\": True,\n",
    "         \"profile.default_content_setting_values.notifications\" : 2}\n",
    "options.add_experimental_option(\"prefs\", prefs)"
   ]
  },
  {
   "cell_type": "code",
   "execution_count": 8,
   "metadata": {
    "collapsed": true
   },
   "outputs": [],
   "source": [
    "# 使用chromedriver才可以用开发者权限\n",
    "chrome_driver_path = \".//chrome_driver//chromedriver.exe\"\n",
    "# browser = webdriver.Chrome(chrome_driver_path, chrome_options=options)"
   ]
  },
  {
   "cell_type": "code",
   "execution_count": 9,
   "metadata": {
    "collapsed": true,
    "scrolled": true
   },
   "outputs": [],
   "source": [
    "# 所需参数\n",
    "# 站点；站点后缀；账户；密码；站点top卖家shopid；top卖家username（方便识别）\n",
    "# shop_list = [['tw', 'tw', 23070969, 'poweradapter.tw', 'kuangyiqiao1991', 9469128, 'alonso.tw'],\n",
    "#              ['tw', 'tw', 25482220, 'tengus.tw', 'tengus1803', 23068230, 'iu.tw'],\n",
    "#              ['tw', 'tw', 58707738, 'qianjiaozi', 'qianjiaozi888', 26513957, 'beibei.tw'],\n",
    "#              ['tw', 'tw', 66377809, 'qianjiaozi1', 'qianjiaozi888', 23068230, 'iu.tw'],\n",
    "#              ['tw', 'tw', 62416366, 'tengus1.tw', 'tengus1803', 23068230, 'iu.tw'],\n",
    "#              ['tw', 'tw', 62416544, 'tengus2.tw', 'tengus1803', 23068230, 'iu.tw'],\n",
    "#              ['tw', 'tw', 63534861, 'qianjiaozitw1', 'tengus1803', 23068230, 'iu.tw'],\n",
    "#              ['tw', 'tw', 62887142, 'yilanlu.tw', 'yilanlu888', 23481977, 'huoyi.tw'],\n",
    "#              ['my', 'com.my', 53580963, 'qianjiaozi.my', 'tengus1803', 10891137, 'winners.my'],\n",
    "#              ['my', 'com.my', 59848325, 'tengus.my', 'tengus1803', 10891137, 'winners.my'],\n",
    "#              ['my', 'com.my', 62418141, 'tengus1.my', 'tengus1803', 10891137, 'winners.my'],\n",
    "#              ['my', 'com.my', 62418493, 'tengus2.my', 'tengus1803', 10891137, 'winners.my'],\n",
    "#              ['id', 'co.id', 59846508, 'tengus.id', 'tengus1803', 28135012, 'sunnyfun.id'],\n",
    "#              ['id', 'co.id', 62417386, 'tengus1.id', 'tengus1803', 28135012, 'sunnyfun.id'],\n",
    "#              ['id', 'co.id', 62417551, 'tengus2.id', 'tengus1803', 28135012, 'sunnyfun.id']]\n",
    "\n",
    "# shop_list = [['tw', 'tw', 23070969, 'poweradapter.tw', 'kuangyiqiao1991', 9469128, 'alonso.tw'],\n",
    "#              ['th', 'co.th', 117213614, 'tengus.th', 'tengus1803', 25926687, 'xiaozhainv']]\n",
    "\n",
    "shop_list = [['th', 'co.th', 117213614, 'tengus.th', 'tengus1803', 25926687, 'xiaozhainv'],\n",
    "             ['sg', 'sg', 182539921, 'tengus1.sg', 'tengus1803', 11918, 'shopeesg']]\n",
    "\n",
    "# shop_list = [['sg', 'sg', 182539921, 'tengus1.sg', 'tengus1803', 11918, 'shopeesg']]"
   ]
  },
  {
   "cell_type": "code",
   "execution_count": 10,
   "metadata": {
    "collapsed": true
   },
   "outputs": [],
   "source": [
    "# 转换为dataframe\n",
    "shop_df_columns = ['site', 'site_suffix', 'shopid', 'acc', 'pwd', 'top_shop_id', 'top_shop_username']\n",
    "shop_df = pd.DataFrame(shop_list, columns=shop_df_columns)"
   ]
  },
  {
   "cell_type": "code",
   "execution_count": 11,
   "metadata": {
    "collapsed": true
   },
   "outputs": [],
   "source": [
    "# 关注及关注中多语言\n",
    "following_language = ['关注中', '關注中', 'Following', 'Mengikuti', 'กำลังติดตาม']\n",
    "not_following_language = ['+ 关注', '+ 關注', '+ Follow', '+ Ikuti', \"+ ติดตาม\"]"
   ]
  },
  {
   "cell_type": "code",
   "execution_count": 12,
   "metadata": {
    "collapsed": true
   },
   "outputs": [],
   "source": [
    "# 取关后关注函数\n",
    "def add_and_cancel_fans(site, site_suffix, shopid, acc, pwd, top_shop_id, top_shop_username):\n",
    "    # 打开浏览器\n",
    "    logging.info('Open the browser.')\n",
    "    browser = webdriver.Chrome(chrome_driver_path, chrome_options=options)\n",
    "    \n",
    "    # main page\n",
    "    main_page_url = \"http://shopee.\" + site_suffix\n",
    "    browser.get(main_page_url)\n",
    "    time.sleep(10)\n",
    "    \n",
    "    # remove ads, refresh again\n",
    "    browser.refresh()\n",
    "    time.sleep(10)\n",
    "    browser.refresh()\n",
    "    time.sleep(10)\n",
    "\n",
    "    # if the shop is on my site, should press the button to choose language\n",
    "    if site == 'my':\n",
    "        language_selector = browser.find_elements_by_css_selector('.shopee-button-outline.shopee-button-outline--primary-reverse')\n",
    "        language_selector[2].click()\n",
    "        logging.info('Choose Chinese as language.')\n",
    "        time.sleep(10)\n",
    "    \n",
    "    # login\n",
    "    logging.info('Start to login.')\n",
    "    LoginElem = browser.find_elements_by_css_selector('.navbar__link.navbar__link--account.navbar__link--tappable.navbar__link--hoverable.navbar__link-text.navbar__link-text--medium')\n",
    "    \n",
    "    # 点击登入，弹出账户密码输入框\n",
    "    LoginElem[1].click()\n",
    "    time.sleep(10)\n",
    "    \n",
    "    # 输入\n",
    "    acc_password_input_elem = browser.find_elements_by_css_selector('._2QBp41._1b-IZR')\n",
    "    try:\n",
    "        acc_password_input_elem[0].click()\n",
    "        acc_password_input_elem[0].send_keys(acc)\n",
    "        acc_password_input_elem[1].click()\n",
    "        acc_password_input_elem[1].send_keys(pwd)\n",
    "    except:\n",
    "        time.sleep(30)\n",
    "        acc_password_input_elem = browser.find_elements_by_css_selector('._2QBp41._1b-IZR')\n",
    "        acc_password_input_elem[0].click()\n",
    "        acc_password_input_elem[0].send_keys(acc)\n",
    "        acc_password_input_elem[1].click()\n",
    "        acc_password_input_elem[1].send_keys(pwd)\n",
    "    time.sleep(10)\n",
    "    \n",
    "    # 点击提交\n",
    "    Login_button_elem = browser.find_elements_by_css_selector('._2DvX7K._3j9-lD._3ddytl.SjORHu')\n",
    "    Login_button_elem[0].click()\n",
    "    logging.info('Login completed.')\n",
    "    time.sleep(10)\n",
    "    \n",
    "    # switch to my following list\n",
    "    logging.info('Switch to my following list.')\n",
    "    my_fans_list_page = 'https://shopee.' + site_suffix + '/shop/' + str(shopid) + '/following/?__classic__=1'\n",
    "    browser.get(my_fans_list_page)\n",
    "    \n",
    "    # cancel certain number of following fans\n",
    "    to_cancel_num_of_following = 400\n",
    "    num_of_following_display = len(browser.find_elements_by_css_selector('.clickable_area.middle-centered-div'))\n",
    "    \n",
    "    # in case the following number is not greater than 500\n",
    "    max_roll_time = 100\n",
    "    roll_time = 0\n",
    "    \n",
    "    # page down until we get at least 500 fans to cancel\n",
    "    while num_of_following_display <= 500 and roll_time <= max_roll_time:\n",
    "        body = browser.find_element_by_css_selector('body')\n",
    "        body.send_keys(Keys.END)\n",
    "        time.sleep(2)\n",
    "        num_of_following_display = len(browser.find_elements_by_css_selector('.clickable_area.middle-centered-div'))\n",
    "        logging.info(str(num_of_following_display) + ' following on the list.')\n",
    "        roll_time += 1\n",
    "        logging.info('Roll the page for ' + str(roll_time) + ' time.')\n",
    "    following_buttons = browser.find_elements_by_css_selector('.btn-follow.active.follow.L14')\n",
    "    \n",
    "    # actual following to cancel\n",
    "    to_cancel_num_of_following = min(num_of_following_display, to_cancel_num_of_following)\n",
    "    \n",
    "    # page up to the top\n",
    "    scroll_to_the_top = browser.find_element_by_css_selector('body').send_keys(Keys.CONTROL + Keys.HOME)\n",
    "    \n",
    "    # start to cancel following\n",
    "    logging.info('Start to cancel following.')\n",
    "    i = 0\n",
    "    total_cancel_num_of_following = to_cancel_num_of_following\n",
    "    while i <= total_cancel_num_of_following - 1:\n",
    "        while to_cancel_num_of_following > 0:\n",
    "            logging.info('Now run the ' + str(i + 1) + ' time.')\n",
    "            if following_buttons[i].text in following_language:\n",
    "                buyer_shopid = following_buttons[i].get_attribute('shopid')\n",
    "                following_buttons[i].click()\n",
    "                time.sleep(1)\n",
    "                to_cancel_num_of_following -= 1\n",
    "                i += 1\n",
    "                logging.info(acc + ': ' + str(buyer_shopid) + ' is not following now, ' + str(to_cancel_num_of_following) + ' following remains.')\n",
    "    \n",
    "    # add fans from Top Seller's followers\n",
    "    logging.info('Switch to top seller follower page.')\n",
    "    top_shop_url = 'https://shopee.' + site_suffix + '/shop/' + str(top_shop_id) + '/followers/?__classic__=1'\n",
    "    browser.get(top_shop_url)\n",
    "    \n",
    "    # add certain number of fans\n",
    "    to_add_num_of_following = 400\n",
    "    num_of_following_display = len(browser.find_elements_by_css_selector('.clickable_area.middle-centered-div'))\n",
    "    \n",
    "    # page down until we get at least 400 fans to cancel\n",
    "    logging.info('Start to roll down.')\n",
    "    while num_of_following_display <= 1000:\n",
    "        body = browser.find_element_by_css_selector('body')\n",
    "        # body.send_keys(Keys.PAGE_DOWN)\n",
    "        body.send_keys(Keys.END)\n",
    "        time.sleep(2)\n",
    "        num_of_following_display = len(browser.find_elements_by_css_selector('.clickable_area.middle-centered-div'))\n",
    "    following_buttons = browser.find_elements_by_css_selector('.btn-follow.follow.L14')\n",
    "    \n",
    "    # start to follow buyers from top shop\n",
    "    logging.info('Start to follow buyers.')\n",
    "    i = 0\n",
    "    total_add_num_of_following = to_add_num_of_following\n",
    "    scroll_to_the_top = browser.find_element_by_css_selector('body').send_keys(Keys.CONTROL + Keys.HOME)\n",
    "\n",
    "    while i <= total_add_num_of_following - 1:  \n",
    "        while to_add_num_of_following > 0:\n",
    "            logging.info('Now run the ' + str(i + 1) + ' time.')\n",
    "            if following_buttons[i].text in not_following_language:\n",
    "                # print(following_buttons[i].text)\n",
    "                buyer_shopid = following_buttons[i].get_attribute('shopid')\n",
    "                following_buttons[i].click()\n",
    "                time.sleep(1)\n",
    "                to_add_num_of_following -= 1\n",
    "                logging.info(acc + ': ' + str(buyer_shopid) + ' is following now, ' + str(to_add_num_of_following) + ' following remains.')\n",
    "            else:\n",
    "                logging.info('Skip this one. It\\'s following already.')\n",
    "            i += 1    \n",
    "    \n",
    "    # 关闭\n",
    "    browser.quit()"
   ]
  },
  {
   "cell_type": "code",
   "execution_count": 13,
   "metadata": {
    "scrolled": true
   },
   "outputs": [
    {
     "name": "stderr",
     "output_type": "stream",
     "text": [
      "2019-10-19 22:52:52,668 - INFO - Now it's running the script on tengus1.sg.\n",
      "2019-10-19 22:52:52,669 - INFO - Open the browser.\n",
      "2019-10-19 22:55:31,713 - INFO - Start to login.\n",
      "2019-10-19 22:55:52,734 - INFO - Login completed.\n",
      "2019-10-19 22:56:02,736 - INFO - Switch to my following list.\n",
      "2019-10-19 22:56:12,067 - INFO - 1 following on the list.\n",
      "2019-10-19 22:56:12,068 - INFO - Roll the page for 1 time.\n",
      "2019-10-19 22:56:14,108 - INFO - 1 following on the list.\n",
      "2019-10-19 22:56:14,110 - INFO - Roll the page for 2 time.\n",
      "2019-10-19 22:56:16,145 - INFO - 1 following on the list.\n",
      "2019-10-19 22:56:16,146 - INFO - Roll the page for 3 time.\n",
      "2019-10-19 22:56:18,181 - INFO - 1 following on the list.\n",
      "2019-10-19 22:56:18,182 - INFO - Roll the page for 4 time.\n",
      "2019-10-19 22:56:20,225 - INFO - 1 following on the list.\n",
      "2019-10-19 22:56:20,226 - INFO - Roll the page for 5 time.\n",
      "2019-10-19 22:56:22,280 - INFO - 1 following on the list.\n",
      "2019-10-19 22:56:22,280 - INFO - Roll the page for 6 time.\n",
      "2019-10-19 22:56:24,320 - INFO - 1 following on the list.\n",
      "2019-10-19 22:56:24,321 - INFO - Roll the page for 7 time.\n",
      "2019-10-19 22:56:26,359 - INFO - 1 following on the list.\n",
      "2019-10-19 22:56:26,360 - INFO - Roll the page for 8 time.\n",
      "2019-10-19 22:56:28,392 - INFO - 1 following on the list.\n",
      "2019-10-19 22:56:28,393 - INFO - Roll the page for 9 time.\n",
      "2019-10-19 22:56:30,432 - INFO - 1 following on the list.\n",
      "2019-10-19 22:56:30,433 - INFO - Roll the page for 10 time.\n",
      "2019-10-19 22:56:32,471 - INFO - 1 following on the list.\n",
      "2019-10-19 22:56:32,472 - INFO - Roll the page for 11 time.\n",
      "2019-10-19 22:56:34,514 - INFO - 1 following on the list.\n",
      "2019-10-19 22:56:34,515 - INFO - Roll the page for 12 time.\n",
      "2019-10-19 22:56:36,569 - INFO - 1 following on the list.\n",
      "2019-10-19 22:56:36,573 - INFO - Roll the page for 13 time.\n",
      "2019-10-19 22:56:38,618 - INFO - 1 following on the list.\n",
      "2019-10-19 22:56:38,619 - INFO - Roll the page for 14 time.\n",
      "2019-10-19 22:56:40,659 - INFO - 1 following on the list.\n",
      "2019-10-19 22:56:40,661 - INFO - Roll the page for 15 time.\n",
      "2019-10-19 22:56:42,701 - INFO - 1 following on the list.\n",
      "2019-10-19 22:56:42,702 - INFO - Roll the page for 16 time.\n",
      "2019-10-19 22:56:44,740 - INFO - 1 following on the list.\n",
      "2019-10-19 22:56:44,740 - INFO - Roll the page for 17 time.\n",
      "2019-10-19 22:56:46,777 - INFO - 1 following on the list.\n",
      "2019-10-19 22:56:46,778 - INFO - Roll the page for 18 time.\n",
      "2019-10-19 22:56:48,817 - INFO - 1 following on the list.\n",
      "2019-10-19 22:56:48,817 - INFO - Roll the page for 19 time.\n",
      "2019-10-19 22:56:50,855 - INFO - 1 following on the list.\n",
      "2019-10-19 22:56:50,855 - INFO - Roll the page for 20 time.\n",
      "2019-10-19 22:56:52,895 - INFO - 1 following on the list.\n",
      "2019-10-19 22:56:52,896 - INFO - Roll the page for 21 time.\n",
      "2019-10-19 22:56:54,933 - INFO - 1 following on the list.\n",
      "2019-10-19 22:56:54,934 - INFO - Roll the page for 22 time.\n",
      "2019-10-19 22:56:56,970 - INFO - 1 following on the list.\n",
      "2019-10-19 22:56:56,970 - INFO - Roll the page for 23 time.\n",
      "2019-10-19 22:56:59,009 - INFO - 1 following on the list.\n",
      "2019-10-19 22:56:59,010 - INFO - Roll the page for 24 time.\n",
      "2019-10-19 22:57:01,048 - INFO - 1 following on the list.\n",
      "2019-10-19 22:57:01,048 - INFO - Roll the page for 25 time.\n",
      "2019-10-19 22:57:03,085 - INFO - 1 following on the list.\n",
      "2019-10-19 22:57:03,086 - INFO - Roll the page for 26 time.\n",
      "2019-10-19 22:57:05,124 - INFO - 1 following on the list.\n",
      "2019-10-19 22:57:05,124 - INFO - Roll the page for 27 time.\n",
      "2019-10-19 22:57:07,163 - INFO - 1 following on the list.\n",
      "2019-10-19 22:57:07,163 - INFO - Roll the page for 28 time.\n",
      "2019-10-19 22:57:09,201 - INFO - 1 following on the list.\n",
      "2019-10-19 22:57:09,201 - INFO - Roll the page for 29 time.\n",
      "2019-10-19 22:57:11,238 - INFO - 1 following on the list.\n",
      "2019-10-19 22:57:11,239 - INFO - Roll the page for 30 time.\n",
      "2019-10-19 22:57:13,275 - INFO - 1 following on the list.\n",
      "2019-10-19 22:57:13,276 - INFO - Roll the page for 31 time.\n",
      "2019-10-19 22:57:15,314 - INFO - 1 following on the list.\n",
      "2019-10-19 22:57:15,314 - INFO - Roll the page for 32 time.\n",
      "2019-10-19 22:57:17,350 - INFO - 1 following on the list.\n",
      "2019-10-19 22:57:17,351 - INFO - Roll the page for 33 time.\n",
      "2019-10-19 22:57:19,389 - INFO - 1 following on the list.\n",
      "2019-10-19 22:57:19,390 - INFO - Roll the page for 34 time.\n",
      "2019-10-19 22:57:21,429 - INFO - 1 following on the list.\n",
      "2019-10-19 22:57:21,430 - INFO - Roll the page for 35 time.\n",
      "2019-10-19 22:57:23,465 - INFO - 1 following on the list.\n",
      "2019-10-19 22:57:23,466 - INFO - Roll the page for 36 time.\n",
      "2019-10-19 22:57:25,504 - INFO - 1 following on the list.\n",
      "2019-10-19 22:57:25,504 - INFO - Roll the page for 37 time.\n",
      "2019-10-19 22:57:27,543 - INFO - 1 following on the list.\n",
      "2019-10-19 22:57:27,544 - INFO - Roll the page for 38 time.\n",
      "2019-10-19 22:57:29,581 - INFO - 1 following on the list.\n",
      "2019-10-19 22:57:29,582 - INFO - Roll the page for 39 time.\n",
      "2019-10-19 22:57:31,618 - INFO - 1 following on the list.\n",
      "2019-10-19 22:57:31,619 - INFO - Roll the page for 40 time.\n",
      "2019-10-19 22:57:33,653 - INFO - 1 following on the list.\n",
      "2019-10-19 22:57:33,654 - INFO - Roll the page for 41 time.\n",
      "2019-10-19 22:57:35,695 - INFO - 1 following on the list.\n",
      "2019-10-19 22:57:35,695 - INFO - Roll the page for 42 time.\n",
      "2019-10-19 22:57:37,732 - INFO - 1 following on the list.\n",
      "2019-10-19 22:57:37,734 - INFO - Roll the page for 43 time.\n",
      "2019-10-19 22:57:39,773 - INFO - 1 following on the list.\n",
      "2019-10-19 22:57:39,774 - INFO - Roll the page for 44 time.\n",
      "2019-10-19 22:57:41,811 - INFO - 1 following on the list.\n",
      "2019-10-19 22:57:41,812 - INFO - Roll the page for 45 time.\n",
      "2019-10-19 22:57:43,851 - INFO - 1 following on the list.\n",
      "2019-10-19 22:57:43,852 - INFO - Roll the page for 46 time.\n",
      "2019-10-19 22:57:45,895 - INFO - 1 following on the list.\n",
      "2019-10-19 22:57:45,895 - INFO - Roll the page for 47 time.\n",
      "2019-10-19 22:57:47,931 - INFO - 1 following on the list.\n",
      "2019-10-19 22:57:47,932 - INFO - Roll the page for 48 time.\n",
      "2019-10-19 22:57:49,973 - INFO - 1 following on the list.\n",
      "2019-10-19 22:57:49,973 - INFO - Roll the page for 49 time.\n",
      "2019-10-19 22:57:52,012 - INFO - 1 following on the list.\n",
      "2019-10-19 22:57:52,012 - INFO - Roll the page for 50 time.\n",
      "2019-10-19 22:57:54,049 - INFO - 1 following on the list.\n",
      "2019-10-19 22:57:54,050 - INFO - Roll the page for 51 time.\n",
      "2019-10-19 22:57:56,090 - INFO - 1 following on the list.\n",
      "2019-10-19 22:57:56,090 - INFO - Roll the page for 52 time.\n",
      "2019-10-19 22:57:58,130 - INFO - 1 following on the list.\n",
      "2019-10-19 22:57:58,131 - INFO - Roll the page for 53 time.\n",
      "2019-10-19 22:58:00,165 - INFO - 1 following on the list.\n",
      "2019-10-19 22:58:00,166 - INFO - Roll the page for 54 time.\n",
      "2019-10-19 22:58:02,204 - INFO - 1 following on the list.\n",
      "2019-10-19 22:58:02,205 - INFO - Roll the page for 55 time.\n",
      "2019-10-19 22:58:04,245 - INFO - 1 following on the list.\n",
      "2019-10-19 22:58:04,246 - INFO - Roll the page for 56 time.\n",
      "2019-10-19 22:58:06,283 - INFO - 1 following on the list.\n",
      "2019-10-19 22:58:06,285 - INFO - Roll the page for 57 time.\n",
      "2019-10-19 22:58:08,324 - INFO - 1 following on the list.\n",
      "2019-10-19 22:58:08,325 - INFO - Roll the page for 58 time.\n",
      "2019-10-19 22:58:10,364 - INFO - 1 following on the list.\n",
      "2019-10-19 22:58:10,365 - INFO - Roll the page for 59 time.\n",
      "2019-10-19 22:58:12,406 - INFO - 1 following on the list.\n",
      "2019-10-19 22:58:12,406 - INFO - Roll the page for 60 time.\n",
      "2019-10-19 22:58:14,449 - INFO - 1 following on the list.\n",
      "2019-10-19 22:58:14,449 - INFO - Roll the page for 61 time.\n",
      "2019-10-19 22:58:16,506 - INFO - 1 following on the list.\n",
      "2019-10-19 22:58:16,506 - INFO - Roll the page for 62 time.\n",
      "2019-10-19 22:58:18,547 - INFO - 1 following on the list.\n",
      "2019-10-19 22:58:18,548 - INFO - Roll the page for 63 time.\n",
      "2019-10-19 22:58:20,589 - INFO - 1 following on the list.\n",
      "2019-10-19 22:58:20,589 - INFO - Roll the page for 64 time.\n",
      "2019-10-19 22:58:22,629 - INFO - 1 following on the list.\n",
      "2019-10-19 22:58:22,630 - INFO - Roll the page for 65 time.\n",
      "2019-10-19 22:58:24,670 - INFO - 1 following on the list.\n",
      "2019-10-19 22:58:24,671 - INFO - Roll the page for 66 time.\n",
      "2019-10-19 22:58:26,711 - INFO - 1 following on the list.\n",
      "2019-10-19 22:58:26,711 - INFO - Roll the page for 67 time.\n",
      "2019-10-19 22:58:28,755 - INFO - 1 following on the list.\n"
     ]
    },
    {
     "name": "stderr",
     "output_type": "stream",
     "text": [
      "2019-10-19 22:58:28,756 - INFO - Roll the page for 68 time.\n",
      "2019-10-19 22:58:30,796 - INFO - 1 following on the list.\n",
      "2019-10-19 22:58:30,797 - INFO - Roll the page for 69 time.\n",
      "2019-10-19 22:58:46,847 - INFO - An exception occurred: Message: chrome not reachable\n",
      "  (Session info: chrome=77.0.3865.90)\n",
      ".\n"
     ]
    }
   ],
   "source": [
    "# 历遍所有shop\n",
    "for index, my_shop in shop_df.iterrows():\n",
    "    site = my_shop[0]\n",
    "    site_suffix = my_shop[1]\n",
    "    shopid = my_shop[2]\n",
    "    acc = my_shop[3]\n",
    "    pwd = my_shop[4]\n",
    "    top_shop_id = my_shop[5]\n",
    "    top_shop_username = my_shop[6]\n",
    "    \n",
    "    # 执行\n",
    "    try:\n",
    "        logging.info('Now it\\'s running the script on ' + acc + '.')\n",
    "        add_and_cancel_fans(site, site_suffix, shopid, acc, pwd, top_shop_id, top_shop_username)\n",
    "        logging.info('Finished running the script on ' + acc + '.')\n",
    "    except Exception as err:\n",
    "        logging.info('An exception occurred: ' + str(err) + '.')"
   ]
  },
  {
   "cell_type": "code",
   "execution_count": 14,
   "metadata": {
    "collapsed": true
   },
   "outputs": [],
   "source": [
    "# browser = webdriver.Chrome(chrome_driver_path, chrome_options=options)"
   ]
  },
  {
   "cell_type": "code",
   "execution_count": 15,
   "metadata": {
    "collapsed": true
   },
   "outputs": [],
   "source": [
    "# browser.get('https://shopee.com.my')"
   ]
  },
  {
   "cell_type": "code",
   "execution_count": 16,
   "metadata": {
    "collapsed": true
   },
   "outputs": [],
   "source": [
    "# language_selector = browser.find_elements_by_css_selector('.shopee-button-outline.shopee-button-outline--primary-reverse')\n",
    "# len(language_selector)"
   ]
  },
  {
   "cell_type": "code",
   "execution_count": 17,
   "metadata": {
    "collapsed": true
   },
   "outputs": [],
   "source": [
    "#language_selector[2].click()"
   ]
  }
 ],
 "metadata": {
  "anaconda-cloud": {},
  "kernelspec": {
   "display_name": "Python [default]",
   "language": "python",
   "name": "python3"
  },
  "language_info": {
   "codemirror_mode": {
    "name": "ipython",
    "version": 3
   },
   "file_extension": ".py",
   "mimetype": "text/x-python",
   "name": "python",
   "nbconvert_exporter": "python",
   "pygments_lexer": "ipython3",
   "version": "3.5.2"
  }
 },
 "nbformat": 4,
 "nbformat_minor": 1
}
