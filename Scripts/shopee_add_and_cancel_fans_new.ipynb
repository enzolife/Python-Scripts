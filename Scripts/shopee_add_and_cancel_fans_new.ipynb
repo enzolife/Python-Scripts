{
 "cells": [
  {
   "cell_type": "code",
   "execution_count": 18,
   "metadata": {},
   "outputs": [],
   "source": [
    "from selenium import webdriver\n",
    "from selenium.webdriver.common.keys import Keys\n",
    "import pandas as pd\n",
    "import time\n",
    "import datetime\n",
    "import logging\n",
    "import os"
   ]
  },
  {
   "cell_type": "code",
   "execution_count": 19,
   "metadata": {},
   "outputs": [],
   "source": [
    "# 获取脚本的当前路径，避免计划执行时路径出错\n",
    "home_dir = os.path.dirname(os.path.realpath(__file__))\n",
    "# 更换workding directory\n",
    "working_directory = home_dir\n",
    "os.chdir(working_directory)"
   ]
  },
  {
   "cell_type": "code",
   "execution_count": 20,
   "metadata": {},
   "outputs": [],
   "source": [
    "# pip install selenium"
   ]
  },
  {
   "cell_type": "code",
   "execution_count": 21,
   "metadata": {},
   "outputs": [],
   "source": [
    "# Date\n",
    "today_date = datetime.date.today() + datetime.timedelta(days=0)\n",
    "yesterday_date = datetime.date.today() + datetime.timedelta(days=-1)\n",
    "seven_days_before_date = datetime.date.today() + datetime.timedelta(days=-7)\n",
    "\n",
    "today_date_string = today_date.strftime('%Y_%m_%d')"
   ]
  },
  {
   "cell_type": "code",
   "execution_count": 22,
   "metadata": {},
   "outputs": [],
   "source": [
    "# os.getcwd()"
   ]
  },
  {
   "cell_type": "code",
   "execution_count": 23,
   "metadata": {},
   "outputs": [],
   "source": [
    "log_file_name = 'shopee_add_and_cancel_fans_log\\\\shopee_add_and_cancel_fans_log_' + today_date_string + '.txt'\n",
    "\n",
    "# logging.basicConfig(filename=log_file_name, level=logging.INFO, format='%(asctime)s - %(levelname)s - %(message)s')\n",
    "\n",
    "logging.basicConfig(level=logging.INFO, format='%(asctime)s - %(levelname)s - %(message)s')"
   ]
  },
  {
   "cell_type": "code",
   "execution_count": 24,
   "metadata": {},
   "outputs": [],
   "source": [
    "# 屏幕最大化，且指定下载目录\n",
    "options = webdriver.ChromeOptions()\n",
    "options.add_argument(\"--start-maximized\")\n",
    "# 添加翻墙配置\n",
    "# 参考 https://www.codetd.com/article/4692519\n",
    "options.add_argument('--proxy-server=socks5://127.0.0.1:1080')\n",
    "\n",
    "prefs = {\"profile.default_content_settings.popups\": 0,\n",
    "         \"directory_upgrade\": True,\n",
    "         \"profile.default_content_setting_values.notifications\" : 2}\n",
    "options.add_experimental_option(\"prefs\", prefs)"
   ]
  },
  {
   "cell_type": "code",
   "execution_count": 25,
   "metadata": {},
   "outputs": [
    {
     "name": "stderr",
     "output_type": "stream",
     "text": [
      "C:\\ProgramData\\Anaconda3\\lib\\site-packages\\ipykernel_launcher.py:3: DeprecationWarning: use options instead of chrome_options\n",
      "  This is separate from the ipykernel package so we can avoid doing imports until\n"
     ]
    }
   ],
   "source": [
    "# 使用chromedriver才可以用开发者权限\n",
    "chrome_driver_path = \".//chrome_driver//chromedriver.exe\"\n",
    "# browser = webdriver.Chrome(chrome_driver_path, chrome_options=options)"
   ]
  },
  {
   "cell_type": "code",
   "execution_count": 23,
   "metadata": {
    "scrolled": true
   },
   "outputs": [],
   "source": [
    "# 所需参数\n",
    "# 站点；站点后缀；账户；密码；站点top卖家shopid；top卖家username（方便识别）\n",
    "# shop_list = [['tw', 'tw', 23070969, 'poweradapter.tw', 'kuangyiqiao1991', 9469128, 'alonso.tw'],\n",
    "#              ['tw', 'tw', 25482220, 'tengus.tw', 'tengus1803', 23068230, 'iu.tw'],\n",
    "#              ['tw', 'tw', 58707738, 'qianjiaozi', 'qianjiaozi888', 26513957, 'beibei.tw'],\n",
    "#              ['tw', 'tw', 66377809, 'qianjiaozi1', 'qianjiaozi888', 23068230, 'iu.tw'],\n",
    "#              ['tw', 'tw', 62416366, 'tengus1.tw', 'tengus1803', 23068230, 'iu.tw'],\n",
    "#              ['tw', 'tw', 62416544, 'tengus2.tw', 'tengus1803', 23068230, 'iu.tw'],\n",
    "#              ['tw', 'tw', 63534861, 'qianjiaozitw1', 'tengus1803', 23068230, 'iu.tw'],\n",
    "#              ['tw', 'tw', 62887142, 'yilanlu.tw', 'yilanlu888', 23481977, 'huoyi.tw'],\n",
    "#              ['my', 'com.my', 53580963, 'qianjiaozi.my', 'tengus1803', 10891137, 'winners.my'],\n",
    "#              ['my', 'com.my', 59848325, 'tengus.my', 'tengus1803', 10891137, 'winners.my'],\n",
    "#              ['my', 'com.my', 62418141, 'tengus1.my', 'tengus1803', 10891137, 'winners.my'],\n",
    "#              ['my', 'com.my', 62418493, 'tengus2.my', 'tengus1803', 10891137, 'winners.my'],\n",
    "#              ['id', 'co.id', 59846508, 'tengus.id', 'tengus1803', 145423, 'Shopee Mamak],\n",
    "#              ['id', 'co.id', 62417386, 'tengus1.id', 'tengus1803', 28135012, 'sunnyfun.id'],\n",
    "#              ['id', 'co.id', 62417551, 'tengus2.id', 'tengus1803', 28135012, 'sunnyfun.id']]\n",
    "\n",
    "# shop_list = [['tw', 'tw', 23070969, 'poweradapter.tw', 'kuangyiqiao1991', 9469128, 'alonso.tw'],\n",
    "#              ['th', 'co.th', 117213614, 'tengus.th', 'tengus1803', 25926687, 'xiaozhainv']]\n",
    "\n",
    "shop_list = [['th', 'co.th', 117213614, 'tengus.th', 'tengus1803', 25926687, 'xiaozhainv'],\n",
    "             ['tw', 'tw', 23070969, 'poweradapter.tw', 'kuangyiqiao1991', 9469128, 'alonso.tw'],\n",
    "             ['sg', 'sg', 182539921, 'tengus1.sg', 'tengus1803', 11918, 'shopeesg'],\n",
    "             ['ph', 'ph', 182539050, 'tengus.ph', 'tengus1803', 2215148, 'YAZI FASHION ACCESSORIES INC.'],\n",
    "             ['id', 'co.id', 59846508, 'tengus.id', 'tengus1803', 11184349, 'Shopee Mamak']]\n",
    "\n",
    "# shop_list = [['sg', 'sg', 182539921, 'tengus1.sg', 'tengus1803', 11918, 'shopeesg']]\n",
    "# shop_list = [['ph', 'ph', 182539050, 'tengus.ph', 'tengus1803', 3256461, 'YAZI FASHION ACCESSORIES INC.']]"
   ]
  },
  {
   "cell_type": "code",
   "execution_count": 24,
   "metadata": {},
   "outputs": [],
   "source": [
    "# 转换为dataframe\n",
    "shop_df_columns = ['site', 'site_suffix', 'shopid', 'acc', 'pwd', 'top_shop_id', 'top_shop_username']\n",
    "shop_df = pd.DataFrame(shop_list, columns=shop_df_columns)"
   ]
  },
  {
   "cell_type": "code",
   "execution_count": 25,
   "metadata": {},
   "outputs": [],
   "source": [
    "# 关注及关注中多语言\n",
    "following_language = ['关注中', '關注中', 'Following', 'Mengikuti', 'กำลังติดตาม']\n",
    "not_following_language = ['+ 关注', '+ 關注', '+ Follow', '+ Ikuti', \"+ ติดตาม\"]"
   ]
  },
  {
   "cell_type": "code",
   "execution_count": 26,
   "metadata": {},
   "outputs": [],
   "source": [
    "# 重刷页面的脚本\n",
    "def open_page(browser, page_url):\n",
    "    i = 0\n",
    "    while i == 0:\n",
    "        try:\n",
    "            # browser = webdriver.Chrome(chrome_driver_path, chrome_options=options)\n",
    "            browser.get(page_url)\n",
    "            time.sleep(10)\n",
    "            i = 1\n",
    "        except:\n",
    "            pass\n",
    "        \n",
    "# 刷新\n",
    "def refresh_page(browser):\n",
    "    i = 0\n",
    "    while i == 0:\n",
    "        try:\n",
    "            # browser = webdriver.Chrome(chrome_driver_path, chrome_options=options)\n",
    "            browser.refresh()\n",
    "            time.sleep(10)\n",
    "            i = 1\n",
    "        except:\n",
    "            pass"
   ]
  },
  {
   "cell_type": "code",
   "execution_count": 27,
   "metadata": {},
   "outputs": [],
   "source": [
    "# 取关后关注函数\n",
    "def add_and_cancel_fans(site, site_suffix, shopid, acc, pwd, top_shop_id, top_shop_username):\n",
    "    # 打开浏览器\n",
    "    logging.info('Open the browser.')\n",
    "    browser = webdriver.Chrome(chrome_driver_path, chrome_options=options)\n",
    "    \n",
    "    # main page\n",
    "    main_page_url = \"http://shopee.\" + site_suffix\n",
    "    # browser.get(main_page_url)\n",
    "    # time.sleep(10)\n",
    "    open_page(browser, main_page_url)\n",
    "    \n",
    "    # remove ads, refresh again\n",
    "    for i in range(5):\n",
    "        # browser.refresh()\n",
    "        # time.sleep(10)\n",
    "        refresh_page(browser)\n",
    "\n",
    "    # if the shop is on my site, should press the button to choose language\n",
    "    if site == 'my':\n",
    "        language_selector = browser.find_elements_by_css_selector('.shopee-button-outline.shopee-button-outline--primary-reverse')\n",
    "        language_selector[2].click()\n",
    "        logging.info('Choose Chinese as language.')\n",
    "        time.sleep(10)\n",
    "    \n",
    "    # login\n",
    "    logging.info('Start to login.')\n",
    "    LoginElem = browser.find_elements_by_css_selector('.navbar__link.navbar__link--account.navbar__link--tappable.navbar__link--hoverable.navbar__link-text.navbar__link-text--medium')\n",
    "    \n",
    "    # 点击登入，弹出账户密码输入框\n",
    "    LoginElem[1].click()\n",
    "    time.sleep(10)\n",
    "    \n",
    "    # 输入\n",
    "    acc_password_input_elem = browser.find_elements_by_css_selector('._2QBp41._1b-IZR')\n",
    "    try:\n",
    "        acc_password_input_elem[0].click()\n",
    "        acc_password_input_elem[0].send_keys(acc)\n",
    "        acc_password_input_elem[1].click()\n",
    "        acc_password_input_elem[1].send_keys(pwd)\n",
    "    except:\n",
    "        time.sleep(30)\n",
    "        acc_password_input_elem = browser.find_elements_by_css_selector('._2QBp41._1b-IZR')\n",
    "        acc_password_input_elem[0].click()\n",
    "        acc_password_input_elem[0].send_keys(acc)\n",
    "        acc_password_input_elem[1].click()\n",
    "        acc_password_input_elem[1].send_keys(pwd)\n",
    "    time.sleep(10)\n",
    "    \n",
    "    # 点击提交\n",
    "    Login_button_elem = browser.find_elements_by_css_selector('._2DvX7K._3j9-lD._3ddytl.SjORHu')\n",
    "    Login_button_elem[0].click()\n",
    "    logging.info('Login completed.')\n",
    "    time.sleep(10)\n",
    "    \n",
    "    # switch to my following list\n",
    "    logging.info('Switch to my following list.')\n",
    "    my_fans_list_page = 'https://shopee.' + site_suffix + '/shop/' + str(shopid) + '/following/?__classic__=1'\n",
    "    # browser.get(my_fans_list_page)\n",
    "    open_page(browser, my_fans_list_page)\n",
    "    \n",
    "    # cancel certain number of following fans\n",
    "    to_cancel_num_of_following = 400\n",
    "    num_of_following_display = len(browser.find_elements_by_css_selector('.clickable_area.middle-centered-div'))\n",
    "    \n",
    "    # in case the following number is not greater than 500\n",
    "    max_roll_time = 100\n",
    "    roll_time = 0\n",
    "    \n",
    "    # page down until we get at least 500 fans to cancel\n",
    "    while num_of_following_display <= 500 and roll_time <= max_roll_time:\n",
    "        body = browser.find_element_by_css_selector('body')\n",
    "        body.send_keys(Keys.END)\n",
    "        time.sleep(2)\n",
    "        num_of_following_display = len(browser.find_elements_by_css_selector('.clickable_area.middle-centered-div'))\n",
    "        logging.info(str(num_of_following_display) + ' following on the list.')\n",
    "        roll_time += 1\n",
    "        logging.info('Roll the page for ' + str(roll_time) + ' time.')\n",
    "    following_buttons = browser.find_elements_by_css_selector('.btn-follow.active.follow.L14')\n",
    "    \n",
    "    # actual following to cancel\n",
    "    to_cancel_num_of_following = min(num_of_following_display, to_cancel_num_of_following)\n",
    "    \n",
    "    # page up to the top\n",
    "    scroll_to_the_top = browser.find_element_by_css_selector('body').send_keys(Keys.CONTROL + Keys.HOME)\n",
    "    \n",
    "    # start to cancel following\n",
    "    logging.info('Start to cancel following.')\n",
    "    i = 0\n",
    "    total_cancel_num_of_following = to_cancel_num_of_following\n",
    "    while i <= total_cancel_num_of_following - 1:\n",
    "        while to_cancel_num_of_following > 0:\n",
    "            logging.info('Now run the ' + str(i + 1) + ' time.')\n",
    "            if following_buttons[i].text in following_language:\n",
    "                buyer_shopid = following_buttons[i].get_attribute('shopid')\n",
    "                following_buttons[i].click()\n",
    "                time.sleep(1)\n",
    "                to_cancel_num_of_following -= 1\n",
    "                i += 1\n",
    "                logging.info(acc + ': ' + str(buyer_shopid) + ' is not following now, ' + str(to_cancel_num_of_following) + ' following remains.')\n",
    "    \n",
    "    # add fans from Top Seller's followers\n",
    "    logging.info('Switch to top seller follower page.')\n",
    "    top_shop_url = 'https://shopee.' + site_suffix + '/shop/' + str(top_shop_id) + '/followers/?__classic__=1'\n",
    "    open_page(browser, top_shop_url)\n",
    "    \n",
    "    # add certain number of fans\n",
    "    to_add_num_of_following = 400\n",
    "    num_of_following_display = len(browser.find_elements_by_css_selector('.clickable_area.middle-centered-div'))\n",
    "    \n",
    "    # page down until we get at least 400 fans to cancel\n",
    "    logging.info('Start to roll down.')\n",
    "    while num_of_following_display <= 1000:\n",
    "        body = browser.find_element_by_css_selector('body')\n",
    "        # body.send_keys(Keys.PAGE_DOWN)\n",
    "        body.send_keys(Keys.END)\n",
    "        time.sleep(2)\n",
    "        num_of_following_display = len(browser.find_elements_by_css_selector('.clickable_area.middle-centered-div'))\n",
    "    following_buttons = browser.find_elements_by_css_selector('.btn-follow.follow.L14')\n",
    "    \n",
    "    # start to follow buyers from top shop\n",
    "    logging.info('Start to follow buyers.')\n",
    "    i = 0\n",
    "    total_add_num_of_following = to_add_num_of_following\n",
    "    scroll_to_the_top = browser.find_element_by_css_selector('body').send_keys(Keys.CONTROL + Keys.HOME)\n",
    "\n",
    "    while i <= total_add_num_of_following - 1:  \n",
    "        while to_add_num_of_following > 0:\n",
    "            logging.info('Now run the ' + str(i + 1) + ' time.')\n",
    "            if following_buttons[i].text in not_following_language:\n",
    "                # print(following_buttons[i].text)\n",
    "                buyer_shopid = following_buttons[i].get_attribute('shopid')\n",
    "                following_buttons[i].click()\n",
    "                time.sleep(1)\n",
    "                to_add_num_of_following -= 1\n",
    "                logging.info(acc + ': ' + str(buyer_shopid) + ' is following now, ' + str(to_add_num_of_following) + ' following remains.')\n",
    "            else:\n",
    "                logging.info('Skip this one. It\\'s following already.')\n",
    "            i += 1    \n",
    "    \n",
    "    # 关闭\n",
    "    browser.quit()"
   ]
  },
  {
   "cell_type": "code",
   "execution_count": null,
   "metadata": {
    "scrolled": true
   },
   "outputs": [
    {
     "name": "stderr",
     "output_type": "stream",
     "text": [
      "2019-11-25 22:58:30,596 - INFO - Now it's running the script on tengus.th.\n",
      "2019-11-25 22:58:30,613 - INFO - Open the browser.\n",
      "C:\\ProgramData\\Anaconda3\\lib\\site-packages\\ipykernel_launcher.py:5: DeprecationWarning: use options instead of chrome_options\n",
      "  \"\"\"\n",
      "2019-11-25 22:58:49,779 - INFO - An exception occurred: refresh_page() missing 1 required positional argument: 'browser'.\n",
      "2019-11-25 22:58:49,784 - INFO - Now it's running the script on poweradapter.tw.\n",
      "2019-11-25 22:58:49,784 - INFO - Open the browser.\n",
      "2019-11-25 22:59:24,280 - INFO - An exception occurred: refresh_page() missing 1 required positional argument: 'browser'.\n",
      "2019-11-25 22:59:24,293 - INFO - Now it's running the script on tengus1.sg.\n",
      "2019-11-25 22:59:24,299 - INFO - Open the browser.\n",
      "2019-11-25 22:59:43,150 - INFO - An exception occurred: refresh_page() missing 1 required positional argument: 'browser'.\n",
      "2019-11-25 22:59:43,155 - INFO - Now it's running the script on tengus.ph.\n",
      "2019-11-25 22:59:43,156 - INFO - Open the browser.\n"
     ]
    }
   ],
   "source": [
    "# 历遍所有shop\n",
    "for index, my_shop in shop_df.iterrows():\n",
    "    site = my_shop[0]\n",
    "    site_suffix = my_shop[1]\n",
    "    shopid = my_shop[2]\n",
    "    acc = my_shop[3]\n",
    "    pwd = my_shop[4]\n",
    "    top_shop_id = my_shop[5]\n",
    "    top_shop_username = my_shop[6]\n",
    "    \n",
    "    # 执行\n",
    "    try:\n",
    "        logging.info('Now it\\'s running the script on ' + acc + '.')\n",
    "        add_and_cancel_fans(site, site_suffix, shopid, acc, pwd, top_shop_id, top_shop_username)\n",
    "        logging.info('Finished running the script on ' + acc + '.')\n",
    "    except Exception as err:\n",
    "        logging.info('An exception occurred: ' + str(err) + '.')"
   ]
  },
  {
   "cell_type": "code",
   "execution_count": null,
   "metadata": {},
   "outputs": [],
   "source": [
    "# browser = webdriver.Chrome(chrome_driver_path, chrome_options=options)"
   ]
  },
  {
   "cell_type": "code",
   "execution_count": null,
   "metadata": {},
   "outputs": [],
   "source": [
    "# browser.get('https://shopee.com.my')"
   ]
  },
  {
   "cell_type": "code",
   "execution_count": null,
   "metadata": {},
   "outputs": [],
   "source": [
    "# language_selector = browser.find_elements_by_css_selector('.shopee-button-outline.shopee-button-outline--primary-reverse')\n",
    "# len(language_selector)"
   ]
  },
  {
   "cell_type": "code",
   "execution_count": null,
   "metadata": {},
   "outputs": [],
   "source": [
    "#language_selector[2].click()"
   ]
  }
 ],
 "metadata": {
  "anaconda-cloud": {},
  "kernelspec": {
   "display_name": "Python 3",
   "language": "python",
   "name": "python3"
  },
  "language_info": {
   "codemirror_mode": {
    "name": "ipython",
    "version": 3
   },
   "file_extension": ".py",
   "mimetype": "text/x-python",
   "name": "python",
   "nbconvert_exporter": "python",
   "pygments_lexer": "ipython3",
   "version": "3.7.3"
  }
 },
 "nbformat": 4,
 "nbformat_minor": 1
}
