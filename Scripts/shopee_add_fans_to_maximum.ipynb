{
 "cells": [
  {
   "cell_type": "code",
   "execution_count": 1,
   "metadata": {
    "collapsed": true
   },
   "outputs": [],
   "source": [
    "from selenium import webdriver\n",
    "from selenium.webdriver.common.keys import Keys\n",
    "import pandas as pd\n",
    "import time\n",
    "import logging"
   ]
  },
  {
   "cell_type": "code",
   "execution_count": 2,
   "metadata": {
    "collapsed": true
   },
   "outputs": [],
   "source": [
    "logging.basicConfig(level=logging.INFO, format=' %(asctime)s - %(levelname)s - %(message)s')"
   ]
  },
  {
   "cell_type": "code",
   "execution_count": 3,
   "metadata": {
    "collapsed": true
   },
   "outputs": [],
   "source": [
    "# 屏幕最大化，且指定下载目录\n",
    "options = webdriver.ChromeOptions()\n",
    "options.add_argument(\"--start-maximized\")\n",
    "\n",
    "prefs = {\"profile.default_content_settings.popups\": 0,\n",
    "         \"directory_upgrade\": True}\n",
    "options.add_experimental_option(\"prefs\", prefs)"
   ]
  },
  {
   "cell_type": "code",
   "execution_count": 4,
   "metadata": {
    "collapsed": true
   },
   "outputs": [],
   "source": [
    "# 使用chromedriver才可以用开发者权限\n",
    "chrome_driver_path = \".//chrome_driver//chromedriver.exe\"\n",
    "browser = webdriver.Chrome(chrome_driver_path, chrome_options=options)"
   ]
  },
  {
   "cell_type": "code",
   "execution_count": 5,
   "metadata": {
    "collapsed": true
   },
   "outputs": [],
   "source": [
    "# main page\n",
    "main_page_url = \"http://shopee.sg\"\n",
    "browser.get(main_page_url)\n",
    "\n",
    "# remove ads, refresh again\n",
    "browser.get(main_page_url)\n",
    "time.sleep(10)\n",
    "browser.get(main_page_url)\n",
    "time.sleep(10)\n",
    "browser.get(main_page_url)\n",
    "time.sleep(10)"
   ]
  },
  {
   "cell_type": "code",
   "execution_count": 6,
   "metadata": {
    "collapsed": true
   },
   "outputs": [],
   "source": [
    "# login\n",
    "LoginElem = browser.find_elements_by_css_selector('.navbar__link.navbar__link--account.navbar__link--tappable.navbar__link--hoverable.navbar__link-text.navbar__link-text--medium')\n",
    "'''\n",
    "有关Selenium Compound class names not permitted的错误\n",
    "可以参考https://stackoverflow.com/questions/37771604/selenium-compound-class-names-not-permitted\n",
    "使用css_selector解决即可\n",
    "'''\n",
    "# 点击登入，弹出账户密码输入框\n",
    "LoginElem[1].click()\n",
    "time.sleep(10)"
   ]
  },
  {
   "cell_type": "code",
   "execution_count": 7,
   "metadata": {
    "collapsed": true
   },
   "outputs": [],
   "source": [
    "acc_password_input_elem = browser.find_elements_by_css_selector('._2QBp41._1b-IZR')\n",
    "try:\n",
    "    acc_password_input_elem[0].click()\n",
    "    acc_password_input_elem[0].send_keys('tengus1.sg')\n",
    "    acc_password_input_elem[1].click()\n",
    "    acc_password_input_elem[1].send_keys('tengus1803')\n",
    "except:\n",
    "    time.sleep(30)\n",
    "    acc_password_input_elem = browser.find_elements_by_css_selector('._2QBp41._1b-IZR')\n",
    "    acc_password_input_elem[0].click()\n",
    "    acc_password_input_elem[0].send_keys('tengus1.sg')\n",
    "    acc_password_input_elem[1].click()\n",
    "    acc_password_input_elem[1].send_keys('tengus1803')\n",
    "time.sleep(10)"
   ]
  },
  {
   "cell_type": "code",
   "execution_count": 8,
   "metadata": {
    "collapsed": true
   },
   "outputs": [],
   "source": [
    "Login_button_elem = browser.find_elements_by_css_selector('._2DvX7K._3j9-lD._3ddytl.SjORHu')\n",
    "time.sleep(10)\n",
    "Login_button_elem[0].click()\n",
    "time.sleep(10)"
   ]
  },
  {
   "cell_type": "code",
   "execution_count": 9,
   "metadata": {
    "collapsed": true
   },
   "outputs": [],
   "source": [
    "# change current tab size\n",
    "# browser.set_window_size(400, 862)    "
   ]
  },
  {
   "cell_type": "code",
   "execution_count": 10,
   "metadata": {
    "collapsed": true
   },
   "outputs": [],
   "source": [
    "# add fans from Top Seller's shop\n",
    "top_shop_id = 11918\n",
    "top_shop_url = 'https://shopee.sg/shop/' + str(top_shop_id) + '/followers/?__classic__=1'\n",
    "browser.get(top_shop_url)"
   ]
  },
  {
   "cell_type": "code",
   "execution_count": 11,
   "metadata": {
    "collapsed": true
   },
   "outputs": [],
   "source": [
    "# add certain number of fans\n",
    "to_add_num_of_following = 400\n",
    "num_of_following_display = len(browser.find_elements_by_css_selector('.clickable_area.middle-centered-div'))"
   ]
  },
  {
   "cell_type": "code",
   "execution_count": 12,
   "metadata": {
    "collapsed": true
   },
   "outputs": [],
   "source": [
    "# page down until we get at least 400 fans to cancel\n",
    "# while num_of_following_display <= 1000:\n",
    "    # body = browser.find_element_by_css_selector('body')\n",
    "    # body.send_keys(Keys.PAGE_DOWN)\n",
    "    # body.send_keys(Keys.END)\n",
    "    # time.sleep(5)\n",
    "    # num_of_following_display = len(browser.find_elements_by_css_selector('.clickable_area.middle-centered-div'))\n",
    "    \n",
    "# num_of_following_display"
   ]
  },
  {
   "cell_type": "code",
   "execution_count": 13,
   "metadata": {
    "collapsed": true
   },
   "outputs": [],
   "source": [
    "following_buttons = browser.find_elements_by_css_selector('.btn-follow.follow.L14')\n",
    "# len(following_buttons)"
   ]
  },
  {
   "cell_type": "code",
   "execution_count": 37,
   "metadata": {
    "collapsed": true
   },
   "outputs": [],
   "source": [
    "i = 0\n",
    "total_add_num_of_following = to_add_num_of_following"
   ]
  },
  {
   "cell_type": "code",
   "execution_count": 38,
   "metadata": {
    "collapsed": true
   },
   "outputs": [],
   "source": [
    "browser.find_element_by_css_selector('body').send_keys(Keys.CONTROL + Keys.HOME)"
   ]
  },
  {
   "cell_type": "code",
   "execution_count": 39,
   "metadata": {
    "scrolled": true
   },
   "outputs": [
    {
     "name": "stderr",
     "output_type": "stream",
     "text": [
      " 2019-10-20 00:20:18,939 - INFO - Now we have 20 following buttons on the screen.\n",
      " 2019-10-20 00:20:18,940 - INFO - Now run the 1 time.\n",
      " 2019-10-20 00:20:24,050 - INFO - 189953859 is following now, 43 following remains.\n",
      " 2019-10-20 00:20:24,060 - INFO - Now we have 40 following buttons on the screen.\n",
      " 2019-10-20 00:20:24,061 - INFO - Now run the 2 time.\n",
      " 2019-10-20 00:20:29,129 - INFO - 189953808 is following now, 42 following remains.\n",
      " 2019-10-20 00:20:29,139 - INFO - Now we have 40 following buttons on the screen.\n",
      " 2019-10-20 00:20:29,141 - INFO - Now run the 3 time.\n",
      " 2019-10-20 00:20:34,217 - INFO - 189953800 is following now, 41 following remains.\n",
      " 2019-10-20 00:20:34,238 - INFO - Now we have 40 following buttons on the screen.\n",
      " 2019-10-20 00:20:34,239 - INFO - Now run the 4 time.\n",
      " 2019-10-20 00:20:39,318 - INFO - 189953759 is following now, 40 following remains.\n",
      " 2019-10-20 00:20:39,331 - INFO - Now we have 40 following buttons on the screen.\n",
      " 2019-10-20 00:20:39,332 - INFO - Now run the 5 time.\n",
      " 2019-10-20 00:20:44,411 - INFO - 189953695 is following now, 39 following remains.\n",
      " 2019-10-20 00:20:44,424 - INFO - Now we have 40 following buttons on the screen.\n",
      " 2019-10-20 00:20:44,425 - INFO - Now run the 6 time.\n",
      " 2019-10-20 00:20:49,509 - INFO - 189953521 is following now, 38 following remains.\n",
      " 2019-10-20 00:20:49,518 - INFO - Now we have 40 following buttons on the screen.\n",
      " 2019-10-20 00:20:49,519 - INFO - Now run the 7 time.\n",
      " 2019-10-20 00:20:54,591 - INFO - 189953344 is following now, 37 following remains.\n",
      " 2019-10-20 00:20:54,603 - INFO - Now we have 40 following buttons on the screen.\n",
      " 2019-10-20 00:20:54,604 - INFO - Now run the 8 time.\n",
      " 2019-10-20 00:20:59,680 - INFO - 189953261 is following now, 36 following remains.\n",
      " 2019-10-20 00:20:59,691 - INFO - Now we have 40 following buttons on the screen.\n",
      " 2019-10-20 00:20:59,692 - INFO - Now run the 9 time.\n",
      " 2019-10-20 00:21:04,766 - INFO - 189953145 is following now, 35 following remains.\n",
      " 2019-10-20 00:21:04,776 - INFO - Now we have 40 following buttons on the screen.\n",
      " 2019-10-20 00:21:04,777 - INFO - Now run the 10 time.\n",
      " 2019-10-20 00:21:09,848 - INFO - 189953074 is following now, 34 following remains.\n",
      " 2019-10-20 00:21:09,858 - INFO - Now we have 40 following buttons on the screen.\n",
      " 2019-10-20 00:21:09,859 - INFO - Now run the 11 time.\n",
      " 2019-10-20 00:21:09,876 - WARNING - Skip this one. It's following already.\n",
      " 2019-10-20 00:21:09,886 - INFO - Now we have 40 following buttons on the screen.\n",
      " 2019-10-20 00:21:09,886 - INFO - Now run the 12 time.\n",
      " 2019-10-20 00:21:09,905 - WARNING - Skip this one. It's following already.\n",
      " 2019-10-20 00:21:09,914 - INFO - Now we have 40 following buttons on the screen.\n",
      " 2019-10-20 00:21:09,915 - INFO - Now run the 13 time.\n",
      " 2019-10-20 00:21:09,931 - WARNING - Skip this one. It's following already.\n",
      " 2019-10-20 00:21:09,942 - INFO - Now we have 40 following buttons on the screen.\n",
      " 2019-10-20 00:21:09,943 - INFO - Now run the 14 time.\n",
      " 2019-10-20 00:21:09,958 - WARNING - Skip this one. It's following already.\n",
      " 2019-10-20 00:21:09,968 - INFO - Now we have 40 following buttons on the screen.\n",
      " 2019-10-20 00:21:09,969 - INFO - Now run the 15 time.\n",
      " 2019-10-20 00:21:09,983 - WARNING - Skip this one. It's following already.\n",
      " 2019-10-20 00:21:09,992 - INFO - Now we have 40 following buttons on the screen.\n",
      " 2019-10-20 00:21:09,993 - INFO - Now run the 16 time.\n",
      " 2019-10-20 00:21:10,007 - WARNING - Skip this one. It's following already.\n",
      " 2019-10-20 00:21:10,016 - INFO - Now we have 40 following buttons on the screen.\n",
      " 2019-10-20 00:21:10,016 - INFO - Now run the 17 time.\n",
      " 2019-10-20 00:21:10,031 - WARNING - Skip this one. It's following already.\n",
      " 2019-10-20 00:21:10,040 - INFO - Now we have 40 following buttons on the screen.\n",
      " 2019-10-20 00:21:10,041 - INFO - Now run the 18 time.\n",
      " 2019-10-20 00:21:10,057 - WARNING - Skip this one. It's following already.\n",
      " 2019-10-20 00:21:10,067 - INFO - Now we have 40 following buttons on the screen.\n",
      " 2019-10-20 00:21:10,068 - INFO - Now run the 19 time.\n",
      " 2019-10-20 00:21:10,082 - WARNING - Skip this one. It's following already.\n",
      " 2019-10-20 00:21:10,090 - INFO - Now we have 40 following buttons on the screen.\n",
      " 2019-10-20 00:21:10,091 - INFO - Now run the 20 time.\n",
      " 2019-10-20 00:21:10,106 - WARNING - Skip this one. It's following already.\n",
      " 2019-10-20 00:21:10,121 - INFO - Now we have 40 following buttons on the screen.\n",
      " 2019-10-20 00:21:10,121 - INFO - Now run the 21 time.\n",
      " 2019-10-20 00:21:10,139 - WARNING - Skip this one. It's following already.\n",
      " 2019-10-20 00:21:10,153 - INFO - Now we have 40 following buttons on the screen.\n",
      " 2019-10-20 00:21:10,154 - INFO - Now run the 22 time.\n",
      " 2019-10-20 00:21:10,169 - WARNING - Skip this one. It's following already.\n",
      " 2019-10-20 00:21:10,179 - INFO - Now we have 40 following buttons on the screen.\n",
      " 2019-10-20 00:21:10,179 - INFO - Now run the 23 time.\n",
      " 2019-10-20 00:21:10,194 - WARNING - Skip this one. It's following already.\n",
      " 2019-10-20 00:21:10,203 - INFO - Now we have 40 following buttons on the screen.\n",
      " 2019-10-20 00:21:10,204 - INFO - Now run the 24 time.\n",
      " 2019-10-20 00:21:10,219 - WARNING - Skip this one. It's following already.\n",
      " 2019-10-20 00:21:10,228 - INFO - Now we have 40 following buttons on the screen.\n",
      " 2019-10-20 00:21:10,229 - INFO - Now run the 25 time.\n",
      " 2019-10-20 00:21:10,244 - WARNING - Skip this one. It's following already.\n",
      " 2019-10-20 00:21:10,253 - INFO - Now we have 40 following buttons on the screen.\n",
      " 2019-10-20 00:21:10,254 - INFO - Now run the 26 time.\n",
      " 2019-10-20 00:21:10,269 - WARNING - Skip this one. It's following already.\n",
      " 2019-10-20 00:21:10,278 - INFO - Now we have 40 following buttons on the screen.\n",
      " 2019-10-20 00:21:10,278 - INFO - Now run the 27 time.\n",
      " 2019-10-20 00:21:10,294 - WARNING - Skip this one. It's following already.\n",
      " 2019-10-20 00:21:10,304 - INFO - Now we have 40 following buttons on the screen.\n",
      " 2019-10-20 00:21:10,305 - INFO - Now run the 28 time.\n",
      " 2019-10-20 00:21:10,320 - WARNING - Skip this one. It's following already.\n",
      " 2019-10-20 00:21:10,331 - INFO - Now we have 40 following buttons on the screen.\n",
      " 2019-10-20 00:21:10,332 - INFO - Now run the 29 time.\n",
      " 2019-10-20 00:21:10,348 - WARNING - Skip this one. It's following already.\n",
      " 2019-10-20 00:21:10,357 - INFO - Now we have 40 following buttons on the screen.\n",
      " 2019-10-20 00:21:10,358 - INFO - Now run the 30 time.\n",
      " 2019-10-20 00:21:10,372 - WARNING - Skip this one. It's following already.\n",
      " 2019-10-20 00:21:10,382 - INFO - Now we have 40 following buttons on the screen.\n",
      " 2019-10-20 00:21:10,383 - INFO - Now run the 31 time.\n",
      " 2019-10-20 00:21:10,398 - WARNING - Skip this one. It's following already.\n",
      " 2019-10-20 00:21:10,409 - INFO - Now we have 40 following buttons on the screen.\n",
      " 2019-10-20 00:21:10,409 - INFO - Now run the 32 time.\n",
      " 2019-10-20 00:21:10,425 - WARNING - Skip this one. It's following already.\n",
      " 2019-10-20 00:21:10,434 - INFO - Now we have 40 following buttons on the screen.\n",
      " 2019-10-20 00:21:10,435 - INFO - Now run the 33 time.\n",
      " 2019-10-20 00:21:10,452 - WARNING - Skip this one. It's following already.\n",
      " 2019-10-20 00:21:10,462 - INFO - Now we have 40 following buttons on the screen.\n",
      " 2019-10-20 00:21:10,462 - INFO - Now run the 34 time.\n",
      " 2019-10-20 00:21:10,478 - WARNING - Skip this one. It's following already.\n",
      " 2019-10-20 00:21:10,487 - INFO - Now we have 40 following buttons on the screen.\n",
      " 2019-10-20 00:21:10,488 - INFO - Now run the 35 time.\n",
      " 2019-10-20 00:21:10,505 - WARNING - Skip this one. It's following already.\n",
      " 2019-10-20 00:21:10,514 - INFO - Now we have 40 following buttons on the screen.\n",
      " 2019-10-20 00:21:10,515 - INFO - Now run the 36 time.\n",
      " 2019-10-20 00:21:10,534 - WARNING - Skip this one. It's following already.\n",
      " 2019-10-20 00:21:10,544 - INFO - Now we have 40 following buttons on the screen.\n",
      " 2019-10-20 00:21:10,545 - INFO - Now run the 37 time.\n",
      " 2019-10-20 00:21:10,560 - WARNING - Skip this one. It's following already.\n",
      " 2019-10-20 00:21:10,570 - INFO - Now we have 40 following buttons on the screen.\n",
      " 2019-10-20 00:21:10,571 - INFO - Now run the 38 time.\n",
      " 2019-10-20 00:21:10,589 - WARNING - Skip this one. It's following already.\n",
      " 2019-10-20 00:21:10,598 - INFO - Now we have 40 following buttons on the screen.\n"
     ]
    },
    {
     "name": "stderr",
     "output_type": "stream",
     "text": [
      " 2019-10-20 00:21:10,599 - INFO - Now run the 39 time.\n",
      " 2019-10-20 00:21:10,615 - WARNING - Skip this one. It's following already.\n",
      " 2019-10-20 00:21:10,625 - INFO - Now we have 40 following buttons on the screen.\n",
      " 2019-10-20 00:21:10,625 - INFO - Now run the 40 time.\n",
      " 2019-10-20 00:21:10,641 - WARNING - Skip this one. It's following already.\n",
      " 2019-10-20 00:21:20,697 - INFO - Now we have 40 following buttons on the screen.\n",
      " 2019-10-20 00:21:20,697 - INFO - Now run the 41 time.\n"
     ]
    },
    {
     "ename": "IndexError",
     "evalue": "list index out of range",
     "output_type": "error",
     "traceback": [
      "\u001b[0;31m---------------------------------------------------------------------------\u001b[0m",
      "\u001b[0;31mIndexError\u001b[0m                                Traceback (most recent call last)",
      "\u001b[0;32m<ipython-input-39-d7cb49e77711>\u001b[0m in \u001b[0;36m<module>\u001b[0;34m()\u001b[0m\n\u001b[1;32m     10\u001b[0m         \u001b[1;31m# if following_buttons[i].text == '+ 關注':\u001b[0m\u001b[1;33m\u001b[0m\u001b[1;33m\u001b[0m\u001b[0m\n\u001b[1;32m     11\u001b[0m         \u001b[1;31m# if following_buttons[i].text == '+ ติดตาม':\u001b[0m\u001b[1;33m\u001b[0m\u001b[1;33m\u001b[0m\u001b[0m\n\u001b[0;32m---> 12\u001b[0;31m         \u001b[1;32mif\u001b[0m \u001b[0mfollowing_buttons\u001b[0m\u001b[1;33m[\u001b[0m\u001b[0mi\u001b[0m\u001b[1;33m]\u001b[0m\u001b[1;33m.\u001b[0m\u001b[0mtext\u001b[0m \u001b[1;33m==\u001b[0m \u001b[1;34m'+ Follow'\u001b[0m\u001b[1;33m:\u001b[0m\u001b[1;33m\u001b[0m\u001b[0m\n\u001b[0m\u001b[1;32m     13\u001b[0m             \u001b[1;31m# print(following_buttons[i].text)\u001b[0m\u001b[1;33m\u001b[0m\u001b[1;33m\u001b[0m\u001b[0m\n\u001b[1;32m     14\u001b[0m             \u001b[0mshopid\u001b[0m \u001b[1;33m=\u001b[0m \u001b[0mfollowing_buttons\u001b[0m\u001b[1;33m[\u001b[0m\u001b[0mi\u001b[0m\u001b[1;33m]\u001b[0m\u001b[1;33m.\u001b[0m\u001b[0mget_attribute\u001b[0m\u001b[1;33m(\u001b[0m\u001b[1;34m'shopid'\u001b[0m\u001b[1;33m)\u001b[0m\u001b[1;33m\u001b[0m\u001b[0m\n",
      "\u001b[0;31mIndexError\u001b[0m: list index out of range"
     ]
    }
   ],
   "source": [
    "while i <= total_add_num_of_following - 1:  \n",
    "    while to_add_num_of_following > 0:\n",
    "        if i + 1 > len(following_buttons):\n",
    "            browser.find_element_by_css_selector('body').send_keys(Keys.PAGE_DOWN)\n",
    "            time.sleep(10)\n",
    "        \n",
    "        following_buttons = browser.find_elements_by_css_selector('.btn-follow.follow.L14')\n",
    "        logging.info('Now we have ' + str(len(following_buttons)) + ' following buttons on the screen.')\n",
    "        logging.info('Now run the ' + str(i + 1) + ' time.')\n",
    "        # if following_buttons[i].text == '+ 關注':\n",
    "        # if following_buttons[i].text == '+ ติดตาม':\n",
    "        if following_buttons[i].text == '+ Follow':\n",
    "            # print(following_buttons[i].text)\n",
    "            shopid = following_buttons[i].get_attribute('shopid')\n",
    "            following_buttons[i].click()\n",
    "            time.sleep(5)\n",
    "            to_add_num_of_following -= 1\n",
    "            logging.info(str(shopid) + ' is following now, ' + str(to_add_num_of_following) + ' following remains.')\n",
    "        else:\n",
    "            logging.warning('Skip this one. It\\'s following already.')\n",
    "        i += 1"
   ]
  },
  {
   "cell_type": "code",
   "execution_count": null,
   "metadata": {
    "collapsed": true
   },
   "outputs": [],
   "source": [
    "# 关闭\n",
    "browser.quit()"
   ]
  }
 ],
 "metadata": {
  "anaconda-cloud": {},
  "kernelspec": {
   "display_name": "Python [default]",
   "language": "python",
   "name": "python3"
  },
  "language_info": {
   "codemirror_mode": {
    "name": "ipython",
    "version": 3
   },
   "file_extension": ".py",
   "mimetype": "text/x-python",
   "name": "python",
   "nbconvert_exporter": "python",
   "pygments_lexer": "ipython3",
   "version": "3.5.2"
  }
 },
 "nbformat": 4,
 "nbformat_minor": 1
}
