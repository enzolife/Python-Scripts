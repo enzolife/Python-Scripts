{
 "cells": [
  {
   "cell_type": "code",
   "execution_count": 71,
   "metadata": {
    "collapsed": true
   },
   "outputs": [],
   "source": [
    "from selenium import webdriver\n",
    "from selenium.webdriver.common.keys import Keys\n",
    "import pandas as pd\n",
    "import time\n",
    "import logging"
   ]
  },
  {
   "cell_type": "code",
   "execution_count": 72,
   "metadata": {
    "collapsed": true
   },
   "outputs": [],
   "source": [
    "logging.basicConfig(level=logging.INFO, format=' %(asctime)s - %(levelname)s - %(message)s')"
   ]
  },
  {
   "cell_type": "code",
   "execution_count": 73,
   "metadata": {
    "collapsed": true
   },
   "outputs": [],
   "source": [
    "# 屏幕最大化，且指定下载目录\n",
    "options = webdriver.ChromeOptions()\n",
    "options.add_argument(\"--start-maximized\")\n",
    "\n",
    "prefs = {\"profile.default_content_settings.popups\": 0,\n",
    "         \"directory_upgrade\": True}\n",
    "options.add_experimental_option(\"prefs\", prefs)"
   ]
  },
  {
   "cell_type": "code",
   "execution_count": null,
   "metadata": {},
   "outputs": [],
   "source": [
    "# 使用chromedriver才可以用开发者权限\n",
    "chrome_driver_path = \".//chrome_driver//chromedriver.exe\"\n",
    "browser = webdriver.Chrome(chrome_driver_path, chrome_options=options)"
   ]
  },
  {
   "cell_type": "code",
   "execution_count": null,
   "metadata": {
    "collapsed": true
   },
   "outputs": [],
   "source": [
    "# main page\n",
    "main_page_url = \"http://shopee.sg\"\n",
    "browser.get(main_page_url)\n",
    "\n",
    "# remove ads, refresh again\n",
    "browser.get(main_page_url)\n",
    "time.sleep(10)\n",
    "browser.get(main_page_url)\n",
    "time.sleep(10)\n",
    "browser.get(main_page_url)\n",
    "time.sleep(10)"
   ]
  },
  {
   "cell_type": "code",
   "execution_count": null,
   "metadata": {},
   "outputs": [],
   "source": [
    "# login\n",
    "LoginElem = browser.find_elements_by_css_selector('.navbar__link.navbar__link--account.navbar__link--tappable.navbar__link--hoverable.navbar__link-text.navbar__link-text--medium')\n",
    "'''\n",
    "有关Selenium Compound class names not permitted的错误\n",
    "可以参考https://stackoverflow.com/questions/37771604/selenium-compound-class-names-not-permitted\n",
    "使用css_selector解决即可\n",
    "'''\n",
    "# 点击登入，弹出账户密码输入框\n",
    "LoginElem[1].click()\n",
    "time.sleep(10)"
   ]
  },
  {
   "cell_type": "code",
   "execution_count": null,
   "metadata": {
    "collapsed": true
   },
   "outputs": [],
   "source": [
    "acc_password_input_elem = browser.find_elements_by_css_selector('._2QBp41._1b-IZR')\n",
    "try:\n",
    "    acc_password_input_elem[0].click()\n",
    "    acc_password_input_elem[0].send_keys('tengus1.sg')\n",
    "    acc_password_input_elem[1].click()\n",
    "    acc_password_input_elem[1].send_keys('tengus1803')\n",
    "except:\n",
    "    time.sleep(30)\n",
    "    acc_password_input_elem = browser.find_elements_by_css_selector('._2QBp41._1b-IZR')\n",
    "    acc_password_input_elem[0].click()\n",
    "    acc_password_input_elem[0].send_keys('tengus1.sg')\n",
    "    acc_password_input_elem[1].click()\n",
    "    acc_password_input_elem[1].send_keys('tengus1803')\n",
    "time.sleep(10)"
   ]
  },
  {
   "cell_type": "code",
   "execution_count": null,
   "metadata": {
    "collapsed": true
   },
   "outputs": [],
   "source": [
    "Login_button_elem = browser.find_elements_by_css_selector('._2DvX7K._3j9-lD._3ddytl.SjORHu')\n",
    "time.sleep(10)\n",
    "Login_button_elem[0].click()\n",
    "time.sleep(10)"
   ]
  },
  {
   "cell_type": "code",
   "execution_count": null,
   "metadata": {
    "collapsed": true
   },
   "outputs": [],
   "source": [
    "# change current tab size\n",
    "# browser.set_window_size(400, 862)    "
   ]
  },
  {
   "cell_type": "code",
   "execution_count": null,
   "metadata": {
    "collapsed": true
   },
   "outputs": [],
   "source": [
    "# add fans from Top Seller's shop\n",
    "top_shop_id = 11918\n",
    "top_shop_url = 'https://shopee.sg/shop/' + str(top_shop_id) + '/followers/?__classic__=1'\n",
    "browser.get(top_shop_url)"
   ]
  },
  {
   "cell_type": "code",
   "execution_count": null,
   "metadata": {
    "collapsed": true
   },
   "outputs": [],
   "source": [
    "# add certain number of fans\n",
    "to_add_num_of_following = 400\n",
    "num_of_following_display = len(browser.find_elements_by_css_selector('.clickable_area.middle-centered-div'))"
   ]
  },
  {
   "cell_type": "code",
   "execution_count": null,
   "metadata": {
    "collapsed": true
   },
   "outputs": [],
   "source": [
    "# page down until we get at least 400 fans to cancel\n",
    "# while num_of_following_display <= 1000:\n",
    "    # body = browser.find_element_by_css_selector('body')\n",
    "    # body.send_keys(Keys.PAGE_DOWN)\n",
    "    # body.send_keys(Keys.END)\n",
    "    # time.sleep(5)\n",
    "    # num_of_following_display = len(browser.find_elements_by_css_selector('.clickable_area.middle-centered-div'))\n",
    "    \n",
    "# num_of_following_display"
   ]
  },
  {
   "cell_type": "code",
   "execution_count": null,
   "metadata": {
    "collapsed": true
   },
   "outputs": [],
   "source": [
    "following_buttons = browser.find_elements_by_css_selector('.btn-follow.follow.L14')\n",
    "# len(following_buttons)"
   ]
  },
  {
   "cell_type": "code",
   "execution_count": null,
   "metadata": {
    "collapsed": true
   },
   "outputs": [],
   "source": [
    "i = 0\n",
    "total_add_num_of_following = to_add_num_of_following"
   ]
  },
  {
   "cell_type": "code",
   "execution_count": null,
   "metadata": {
    "collapsed": true
   },
   "outputs": [],
   "source": [
    "browser.find_element_by_css_selector('body').send_keys(Keys.CONTROL + Keys.HOME)"
   ]
  },
  {
   "cell_type": "code",
   "execution_count": null,
   "metadata": {
    "scrolled": true
   },
   "outputs": [],
   "source": [
    "while i <= total_add_num_of_following - 1:  \n",
    "    while to_add_num_of_following > 0:\n",
    "        if i + 1 > len(following_buttons):\n",
    "            browser.find_element_by_css_selector('body').send_keys(Keys.PAGE_DOWN)\n",
    "            time.sleep(10)\n",
    "        \n",
    "        following_buttons = browser.find_elements_by_css_selector('.btn-follow.follow.L14')\n",
    "        logging.info('Now we have ' + str(len(following_buttons)) + ' following buttons on the screen.')\n",
    "        logging.info('Now run the ' + str(i + 1) + ' time.')\n",
    "        # if following_buttons[i].text == '+ 關注':\n",
    "        # if following_buttons[i].text == '+ ติดตาม':\n",
    "        if following_buttons[i].text == '+ Follow':\n",
    "            # print(following_buttons[i].text)\n",
    "            shopid = following_buttons[i].get_attribute('shopid')\n",
    "            following_buttons[i].click()\n",
    "            time.sleep(5)\n",
    "            to_add_num_of_following -= 1\n",
    "            logging.info(str(shopid) + ' is following now, ' + str(to_add_num_of_following) + ' following remains.')\n",
    "        else:\n",
    "            logging.warning('Skip this one. It\\'s following already.')\n",
    "        i += 1"
   ]
  },
  {
   "cell_type": "code",
   "execution_count": null,
   "metadata": {
    "collapsed": true
   },
   "outputs": [],
   "source": [
    "# 关闭\n",
    "browser.quit()"
   ]
  }
 ],
 "metadata": {
  "anaconda-cloud": {},
  "kernelspec": {
   "display_name": "Python [default]",
   "language": "python",
   "name": "python3"
  },
  "language_info": {
   "codemirror_mode": {
    "name": "ipython",
    "version": 3
   },
   "file_extension": ".py",
   "mimetype": "text/x-python",
   "name": "python",
   "nbconvert_exporter": "python",
   "pygments_lexer": "ipython3",
   "version": "3.5.2"
  }
 },
 "nbformat": 4,
 "nbformat_minor": 1
}
