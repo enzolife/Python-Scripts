{
 "cells": [
  {
   "cell_type": "code",
   "execution_count": 166,
   "metadata": {
    "collapsed": false
   },
   "outputs": [],
   "source": [
    "import requests\n",
    "import time\n",
    "import datetime\n",
    "\n",
    "import hashlib\n",
    "import hmac\n",
    "import base64\n",
    "\n",
    "import json\n",
    "\n",
    "from pprint import pprint "
   ]
  },
  {
   "cell_type": "code",
   "execution_count": 167,
   "metadata": {
    "collapsed": true
   },
   "outputs": [],
   "source": [
    "# Current time stamp\n",
    "timestamp = int(time.time())"
   ]
  },
  {
   "cell_type": "code",
   "execution_count": 168,
   "metadata": {
    "collapsed": false
   },
   "outputs": [
    {
     "data": {
      "text/plain": [
       "1509465600"
      ]
     },
     "execution_count": 168,
     "metadata": {},
     "output_type": "execute_result"
    }
   ],
   "source": [
    "# Date\n",
    "today_date = datetime.date.today() + datetime.timedelta(days=0)\n",
    "yesterday_date = datetime.date.today() + datetime.timedelta(days=-1)\n",
    "seven_days_before_date = datetime.date.today() + datetime.timedelta(days=-7)\n",
    "\n",
    "# Selector\n",
    "create_time_from = int(time.mktime(time.strptime('2017-11-01 00:00:00', '%Y-%m-%d %H:%M:%S')))\n",
    "create_time_to = int(time.mktime(time.strptime('2017-11-07 23:59:59', '%Y-%m-%d %H:%M:%S')))\n",
    "\n",
    "create_time_from"
   ]
  },
  {
   "cell_type": "code",
   "execution_count": 169,
   "metadata": {
    "collapsed": false
   },
   "outputs": [],
   "source": [
    "payload = {\"partner_id\":12155,\"shopid\":23070969,\"timestamp\":timestamp,\"create_time_from\":create_time_from, \"create_time_to\":create_time_to}"
   ]
  },
  {
   "cell_type": "code",
   "execution_count": 170,
   "metadata": {
    "collapsed": false
   },
   "outputs": [
    {
     "name": "stdout",
     "output_type": "stream",
     "text": [
      "{'partner_id': 12155, 'shopid': 23070969, 'timestamp': 1511239879, 'create_time_from': 1509465600, 'create_time_to': 1510070399}\n"
     ]
    }
   ],
   "source": [
    "print(payload)"
   ]
  },
  {
   "cell_type": "code",
   "execution_count": 171,
   "metadata": {
    "collapsed": false
   },
   "outputs": [
    {
     "data": {
      "text/plain": [
       "'https://partner.shopeemobile.com/api/v1/orders/basics|{\"partner_id\": 12155, \"shopid\": 23070969, \"timestamp\": 1511239879, \"create_time_from\": 1509465600, \"create_time_to\": 1510070399}'"
      ]
     },
     "execution_count": 171,
     "metadata": {},
     "output_type": "execute_result"
    }
   ],
   "source": [
    "shopee_secret = 'de5e924b8ed680bc9b22a6c402058154340333ff05641a38069f2856a2f3e24e'\n",
    "post_message = 'https://partner.shopeemobile.com/api/v1/orders/basics|' +  json.dumps(payload)\n",
    "post_message"
   ]
  },
  {
   "cell_type": "code",
   "execution_count": 172,
   "metadata": {
    "collapsed": false
   },
   "outputs": [
    {
     "data": {
      "text/plain": [
       "'4c62256b7a2bb55ee2d0e8247529a5ae5118bbaf65a5fb2ee95dd455ba364127'"
      ]
     },
     "execution_count": 172,
     "metadata": {},
     "output_type": "execute_result"
    }
   ],
   "source": [
    "message = bytes(post_message, 'utf-8')\n",
    "secret = bytes(shopee_secret, 'utf-8')\n",
    "\n",
    "hash = hmac.new(secret, message, hashlib.sha256)\n",
    "Auth_signature = hash.hexdigest()\n",
    "Auth_signature"
   ]
  },
  {
   "cell_type": "code",
   "execution_count": 173,
   "metadata": {
    "collapsed": false
   },
   "outputs": [
    {
     "name": "stdout",
     "output_type": "stream",
     "text": [
      "{\"partner_id\": 12155, \"shopid\": 23070969, \"timestamp\": 1511239879, \"create_time_from\": 1509465600, \"create_time_to\": 1510070399}\n"
     ]
    }
   ],
   "source": [
    "headers = {\"Host\": \"partner.shopeemobile.com\",\n",
    "            \"Content-Type\": \"application/json\",\n",
    "            \"Content-Length\": \"89\",\n",
    "            \"Authorization\": Auth_signature}\n",
    "\n",
    "payload = json.dumps(payload)\n",
    "\n",
    "print(payload)\n",
    "\n",
    "r = requests.post(\"https://partner.shopeemobile.com/api/v1/orders/basics\", data=payload, headers=headers)"
   ]
  },
  {
   "cell_type": "code",
   "execution_count": 174,
   "metadata": {
    "collapsed": false
   },
   "outputs": [
    {
     "name": "stdout",
     "output_type": "stream",
     "text": [
      "{\"orders\":[{\"ordersn\":\"171101210990QNA\",\"order_status\":\"COMPLETED\",\"update_time\":1510762545},{\"ordersn\":\"17110313539VCXX\",\"order_status\":\"COMPLETED\",\"update_time\":1510763555}],\"more\":false}\n"
     ]
    }
   ],
   "source": [
    "print(r.text)"
   ]
  },
  {
   "cell_type": "code",
   "execution_count": null,
   "metadata": {
    "collapsed": true
   },
   "outputs": [],
   "source": []
  }
 ],
 "metadata": {
  "kernelspec": {
   "display_name": "Python 3",
   "language": "python",
   "name": "python3"
  },
  "language_info": {
   "codemirror_mode": {
    "name": "ipython",
    "version": 3
   },
   "file_extension": ".py",
   "mimetype": "text/x-python",
   "name": "python",
   "nbconvert_exporter": "python",
   "pygments_lexer": "ipython3",
   "version": "3.6.0"
  }
 },
 "nbformat": 4,
 "nbformat_minor": 2
}
