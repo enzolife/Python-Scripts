{
 "cells": [
  {
   "cell_type": "code",
   "execution_count": 1,
   "metadata": {
    "collapsed": false
   },
   "outputs": [],
   "source": [
    "from selenium import webdriver\n",
    "import pandas as pd\n",
    "import time"
   ]
  },
  {
   "cell_type": "code",
   "execution_count": 2,
   "metadata": {
    "collapsed": false
   },
   "outputs": [],
   "source": [
    "# 使用chromedriver才可以用开发者权限\n",
    "chrome_driver_path = \"D://Program Files (x86)//百度云同步盘//我的软件//chromedriver.exe\"\n",
    "browser = webdriver.Chrome(chrome_driver_path)"
   ]
  },
  {
   "cell_type": "code",
   "execution_count": 3,
   "metadata": {
    "collapsed": false
   },
   "outputs": [
    {
     "data": {
      "text/plain": [
       "selenium.webdriver.chrome.webdriver.WebDriver"
      ]
     },
     "execution_count": 3,
     "metadata": {},
     "output_type": "execute_result"
    }
   ],
   "source": [
    "type(browser)"
   ]
  },
  {
   "cell_type": "code",
   "execution_count": 4,
   "metadata": {
    "collapsed": false,
    "scrolled": false
   },
   "outputs": [],
   "source": [
    "browser.get('http://shopee.tw/yu001157')"
   ]
  },
  {
   "cell_type": "code",
   "execution_count": 5,
   "metadata": {
    "collapsed": false
   },
   "outputs": [
    {
     "data": {
      "text/plain": [
       "'登入'"
      ]
     },
     "execution_count": 5,
     "metadata": {},
     "output_type": "execute_result"
    }
   ],
   "source": [
    "LoginElem = browser.find_elements_by_css_selector('.navbar__link.navbar__link--account.navbar__link--tappable.navbar__link--hoverable.navbar__link-text.navbar__link-text--medium')\n",
    "'''\n",
    "有关Selenium Compound class names not permitted的错误\n",
    "可以参考https://stackoverflow.com/questions/37771604/selenium-compound-class-names-not-permitted\n",
    "使用css_selector解决即可\n",
    "'''\n",
    "LoginElem[1].text"
   ]
  },
  {
   "cell_type": "code",
   "execution_count": 6,
   "metadata": {
    "collapsed": false
   },
   "outputs": [],
   "source": [
    "# 点击登入，弹出账户密码输入框\n",
    "LoginElem[1].click()"
   ]
  },
  {
   "cell_type": "code",
   "execution_count": 7,
   "metadata": {
    "collapsed": false
   },
   "outputs": [],
   "source": [
    "acc_password_input_elem = browser.find_elements_by_class_name('input-with-status__input')\n",
    "try:\n",
    "    acc_password_input_elem[0].send_keys('poweradapter.tw')\n",
    "    acc_password_input_elem[1].send_keys('kuangyiqiao1991')\n",
    "except:\n",
    "    time.sleep(30)\n",
    "    acc_password_input_elem = browser.find_elements_by_class_name('input-with-status__input')\n",
    "    acc_password_input_elem[0].send_keys('poweradapter.tw')\n",
    "    acc_password_input_elem[1].send_keys('kuangyiqiao1991')"
   ]
  },
  {
   "cell_type": "code",
   "execution_count": 8,
   "metadata": {
    "collapsed": false
   },
   "outputs": [
    {
     "data": {
      "text/plain": [
       "'登入'"
      ]
     },
     "execution_count": 8,
     "metadata": {},
     "output_type": "execute_result"
    }
   ],
   "source": [
    "Login_buttom_elem = browser.find_elements_by_css_selector('.shopee-button-solid.shopee-button-solid--primary')\n",
    "Login_buttom_elem[1].text"
   ]
  },
  {
   "cell_type": "code",
   "execution_count": 9,
   "metadata": {
    "collapsed": true
   },
   "outputs": [],
   "source": [
    "Login_buttom_elem[1].click()"
   ]
  },
  {
   "cell_type": "code",
   "execution_count": 10,
   "metadata": {
    "collapsed": true
   },
   "outputs": [],
   "source": [
    "# browser.get('https://shopee.tw/%E5%AC%B0%E5%B9%BC%E7%AB%A5%E8%88%87%E6%AF%8D%E8%A6%AA-cat.100?categoryName=%E5%AC%B0%E5%B9%BC%E7%AB%A5%E8%88%87%E6%AF%8D%E8%A6%AA&page=0&sortBy=sales')"
   ]
  },
  {
   "cell_type": "code",
   "execution_count": 11,
   "metadata": {
    "collapsed": false
   },
   "outputs": [],
   "source": [
    "search_page_max = 10\n",
    "search_page_url_part1 = 'https://shopee.tw/3C%E7%9B%B8%E9%97%9C-cat.69?categoryName=3C%E7%9B%B8%E9%97%9C&page='\n",
    "search_page_url_part3 = '&sortBy=sales'\n",
    "\n",
    "# column_name = ['product_names', 'product_url', 'product_price', 'product_sold', 'product_rating']\n",
    "# product_info_data_frame = pd.DataFrame()\n",
    "# print(product_info_data_frame)"
   ]
  },
  {
   "cell_type": "code",
   "execution_count": 12,
   "metadata": {
    "collapsed": false,
    "scrolled": false
   },
   "outputs": [],
   "source": [
    "product_info_list = []\n",
    "\n",
    "for i in range(1, search_page_max + 1):\n",
    "    search_page_url = search_page_url_part1 + str(i) + search_page_url_part3\n",
    "    # 打开搜索列表页\n",
    "    browser.get(search_page_url)\n",
    "    \n",
    "    # 查找关键元素\n",
    "    product_names = browser.find_elements_by_css_selector('.shopee-item-card__text-name')\n",
    "    product_urls = browser.find_elements_by_css_selector('.shopee-item-card--link')\n",
    "    product_prices = browser.find_elements_by_css_selector('.shopee-item-card__section-price')\n",
    "    product_solds = browser.find_elements_by_css_selector('.shopee-item-card__label-sold-count')\n",
    "    product_ratings = browser.find_elements_by_css_selector('.shopee-item-card__btn-comments')\n",
    "    # product_main_images = browser.find_elements_by_css_selector('.shopee-item-card__cover-img')\n",
    "\n",
    "    # 创建空的list\n",
    "    product_name_list = []\n",
    "    product_url_list = []\n",
    "    product_price_list = []\n",
    "    product_sold_list = []\n",
    "    product_rating_list = []\n",
    "    \n",
    "    # 获取元素\n",
    "    for product_name in product_names:\n",
    "        product_name_list.append(product_name.text)\n",
    "\n",
    "    for product_url in product_urls:\n",
    "        product_url_list.append(product_url.get_attribute('href'))\n",
    "\n",
    "    for product_price in product_prices:\n",
    "        product_price_list.append(product_price.text)\n",
    "\n",
    "    for product_sold in product_solds:\n",
    "        product_sold_list.append(product_sold.text)\n",
    "\n",
    "    for product_rating in product_ratings:\n",
    "        product_rating_list.append(product_rating.text)\n",
    "\n",
    "    product_info = pd.DataFrame({'product_names': product_name_list,\n",
    "                                'product_url': product_url_list,\n",
    "                                'product_price': product_price_list,\n",
    "                                'product_sold': product_sold_list,\n",
    "                                'product_rating': product_rating_list})\n",
    "    product_info_list.append(product_info)"
   ]
  },
  {
   "cell_type": "code",
   "execution_count": 13,
   "metadata": {
    "collapsed": false
   },
   "outputs": [],
   "source": [
    "product_info_data_frame = pd.concat(product_info_list)\n",
    "product_info_data_frame.to_csv(\"D://shopee_product_list.csv\", sep=',')"
   ]
  }
 ],
 "metadata": {
  "kernelspec": {
   "display_name": "Python 3",
   "language": "python",
   "name": "python3"
  },
  "language_info": {
   "codemirror_mode": {
    "name": "ipython",
    "version": 3
   },
   "file_extension": ".py",
   "mimetype": "text/x-python",
   "name": "python",
   "nbconvert_exporter": "python",
   "pygments_lexer": "ipython3",
   "version": "3.6.0"
  }
 },
 "nbformat": 4,
 "nbformat_minor": 2
}
