{
 "cells": [
  {
   "cell_type": "code",
   "execution_count": 3,
   "metadata": {},
   "outputs": [],
   "source": [
    "import pandas as pd\n",
    "import os\n",
    "import time\n",
    "import logging\n",
    "from datetime import date"
   ]
  },
  {
   "cell_type": "code",
   "execution_count": 4,
   "metadata": {},
   "outputs": [],
   "source": [
    "# # 获取脚本的当前路径，避免计划执行时路径出错\n",
    "# home_dir = os.path.dirname(os.path.realpath(__file__))\n",
    "# # 更换workding directory\n",
    "# working_directory = home_dir\n",
    "# os.chdir(working_directory)"
   ]
  },
  {
   "cell_type": "code",
   "execution_count": 5,
   "metadata": {},
   "outputs": [],
   "source": [
    "logging.basicConfig(level=logging.INFO, format=' %(asctime)s - %(levelname)s - %(message)s')"
   ]
  },
  {
   "cell_type": "code",
   "execution_count": 6,
   "metadata": {},
   "outputs": [],
   "source": [
    "folder_path = '../shopee_product_translation/'\n",
    "tw_site_product_list = pd.read_excel(os.path.join(folder_path, 'tengus_tw_product_list.xlsx'))\n",
    "# tw_site_product_list = pd.read_excel(os.path.join(folder_path, 'translated_product_2019_10_19.xlsx'))\n",
    "# tw_site_product_list = tw_site_product_list[tw_site_product_list['是否翻译'] == 'no']\n",
    "# tw_site_product_list.head(5)"
   ]
  },
  {
   "cell_type": "code",
   "execution_count": 7,
   "metadata": {},
   "outputs": [],
   "source": [
    "# tw_site_product_list.columns"
   ]
  },
  {
   "cell_type": "code",
   "execution_count": 8,
   "metadata": {},
   "outputs": [],
   "source": [
    "# tw_site# 获取脚本的当前路径，避免计划执行时路径出错\n",
    "# home_dir = os.path.dirname(os.path.realpath(__file__))\n",
    "# # 更换workding directory\n",
    "# working_directory = home_dir\n",
    "# os.chdir(working_directory)_product_list = tw_site_product_list[tw_site_product_list['产品id'] == 2496637042]"
   ]
  },
  {
   "cell_type": "code",
   "execution_count": 9,
   "metadata": {
    "scrolled": false
   },
   "outputs": [],
   "source": [
    "# top_cat_in_tw = tw_site_product_list[['分类ID', '产品id']].groupby('分类ID').agg({'产品id': 'nunique'}).reset_index().sort_values(by='产品id', ascending=False).reset_index().head(5)\n",
    "# top_cat_in_tw"
   ]
  },
  {
   "cell_type": "code",
   "execution_count": 10,
   "metadata": {},
   "outputs": [],
   "source": [
    "# top_cat_id = top_cat_in_tw['分类ID'][0]\n",
    "# top_cat_id"
   ]
  },
  {
   "cell_type": "code",
   "execution_count": 11,
   "metadata": {},
   "outputs": [],
   "source": [
    "output_excel_columns = [\n",
    "                        '变种名称',\n",
    "                        '变种属性名称一',\n",
    "                        '变种属性名称二',\n",
    "                        '变种属性值一',\n",
    "                        '变种属性值二',\n",
    "                        '*价格（必填）',\n",
    "                        '*库存（必填）',\n",
    "                        '*重量(kg)(必填）',\n",
    "                        '*主图（URL）地址（必填）',\n",
    "                        '附图1',\n",
    "                        '附图2',\n",
    "                        '附图3',\n",
    "                        '附图4',\n",
    "                        '附图5',\n",
    "                        '附图6',\n",
    "                        '附图7',\n",
    "                        '附图8',\n",
    "                        '变种图',\n",
    "                        '长(cm)',\n",
    "                        '宽(cm)',\n",
    "                        '高(cm)',\n",
    "                        '发货期',\n",
    "                        '来源URL',\n",
    "                        '尺码图'\n",
    "]"
   ]
  },
  {
   "cell_type": "code",
   "execution_count": 12,
   "metadata": {},
   "outputs": [],
   "source": [
    "tw_site_product_list_selected_columns = ['分类ID', '产品属性', 'Parent SKU', '产品标题', '产品描述', 'sku', '变种名称', '变种属性名称一',\n",
    "       '变种属性名称二', '变种属性值一', '变种属性值二', '价格', '库存', '重量', '主图（URL）地址', '附图1',\n",
    "       '附图2', '附图3', '附图4', '附图5', '附图6', '附图7', '附图8地址', '变种图', '长（cm）',\n",
    "       '宽（cm）', '高（cm）', '发货期', '来源URL', '尺码图']"
   ]
  },
  {
   "cell_type": "code",
   "execution_count": 13,
   "metadata": {},
   "outputs": [],
   "source": [
    "tw_site_product_list_with_selected_columns = tw_site_product_list[tw_site_product_list_selected_columns]\n",
    "# tw_site_product_list_with_selected_columns.head(5)"
   ]
  },
  {
   "cell_type": "code",
   "execution_count": 14,
   "metadata": {},
   "outputs": [],
   "source": [
    "# tw_site_product_list_with_selected_columns = tw_site_product_list_with_selected_columns[tw_site_product_list_with_selected_columns['分类ID'] == top_cat_id].reset_index()\n",
    "# tw_site_product_list_with_selected_columns"
   ]
  },
  {
   "cell_type": "code",
   "execution_count": 15,
   "metadata": {},
   "outputs": [
    {
     "name": "stderr",
     "output_type": "stream",
     "text": [
      "C:\\ProgramData\\Anaconda3\\lib\\site-packages\\ipykernel_launcher.py:2: SettingWithCopyWarning: \n",
      "A value is trying to be set on a copy of a slice from a DataFrame.\n",
      "Try using .loc[row_indexer,col_indexer] = value instead\n",
      "\n",
      "See the caveats in the documentation: http://pandas.pydata.org/pandas-docs/stable/user_guide/indexing.html#returning-a-view-versus-a-copy\n",
      "  \n"
     ]
    }
   ],
   "source": [
    "# 把1688的来源url拆出来，把productid填充为parent sku\n",
    "tw_site_product_list_with_selected_columns['Parent SKU'] = tw_site_product_list_with_selected_columns['来源URL'].str.split(\"/\", n = 4, expand = True)[4].str.split(\".\", n = 1, expand=True)[0]\n",
    "# tw_site_product_list_with_selected_columns.head(5)"
   ]
  },
  {
   "cell_type": "code",
   "execution_count": 16,
   "metadata": {},
   "outputs": [],
   "source": [
    "# remove emoji\n",
    "import re\n",
    "\n",
    "emoji_pattern = re.compile(\n",
    "                u'['\n",
    "                u'\\U0001F300-\\U0001F64F'\n",
    "                u'\\U0001F680-\\U0001F6FF'\n",
    "                u'\\u2600-\\u2B55'\n",
    "                u'\\u23cf'\n",
    "                u'\\u23e9'\n",
    "                u'\\u231a'\n",
    "                u'\\u3030'\n",
    "                u'\\ufe0f'\n",
    "                u\"\\U0001F600-\\U0001F64F\"  # emoticons\n",
    "                u\"\\U0001F300-\\U0001F5FF\"  # symbols & pictographs\n",
    "                u'\\U00010000-\\U0010ffff'\n",
    "                u'\\U0001F1E0-\\U0001F1FF'  # flags (iOS)\n",
    "                u'\\U00002702-\\U000027B0]+', flags=re.UNICODE)\n",
    "\n",
    "def remove_emoji(text):\n",
    "    return emoji_pattern.sub(r'', text)\n",
    "\n",
    "# remove_emoji('ins爆款 🥕胡蘿卜🥕寶寶針織竹節棉爬服 嬰兒兔裝 嬰兒連身衣 寶寶包屁衣連身衣 中間開襟包屁衣 寶寶連體衣哈衣爬服')"
   ]
  },
  {
   "cell_type": "code",
   "execution_count": 17,
   "metadata": {},
   "outputs": [
    {
     "name": "stderr",
     "output_type": "stream",
     "text": [
      "C:\\ProgramData\\Anaconda3\\lib\\site-packages\\ipykernel_launcher.py:1: SettingWithCopyWarning: \n",
      "A value is trying to be set on a copy of a slice from a DataFrame.\n",
      "Try using .loc[row_indexer,col_indexer] = value instead\n",
      "\n",
      "See the caveats in the documentation: http://pandas.pydata.org/pandas-docs/stable/user_guide/indexing.html#returning-a-view-versus-a-copy\n",
      "  \"\"\"Entry point for launching an IPython kernel.\n",
      "C:\\ProgramData\\Anaconda3\\lib\\site-packages\\ipykernel_launcher.py:2: SettingWithCopyWarning: \n",
      "A value is trying to be set on a copy of a slice from a DataFrame.\n",
      "Try using .loc[row_indexer,col_indexer] = value instead\n",
      "\n",
      "See the caveats in the documentation: http://pandas.pydata.org/pandas-docs/stable/user_guide/indexing.html#returning-a-view-versus-a-copy\n",
      "  \n"
     ]
    }
   ],
   "source": [
    "tw_site_product_list_with_selected_columns['产品标题'] = [remove_emoji(x) for x in tw_site_product_list_with_selected_columns['产品标题']]\n",
    "tw_site_product_list_with_selected_columns['产品描述'] = [remove_emoji(x) for x in tw_site_product_list_with_selected_columns['产品描述']]"
   ]
  },
  {
   "cell_type": "code",
   "execution_count": 18,
   "metadata": {},
   "outputs": [
    {
     "name": "stderr",
     "output_type": "stream",
     "text": [
      "C:\\ProgramData\\Anaconda3\\lib\\site-packages\\ipykernel_launcher.py:1: SettingWithCopyWarning: \n",
      "A value is trying to be set on a copy of a slice from a DataFrame.\n",
      "Try using .loc[row_indexer,col_indexer] = value instead\n",
      "\n",
      "See the caveats in the documentation: http://pandas.pydata.org/pandas-docs/stable/user_guide/indexing.html#returning-a-view-versus-a-copy\n",
      "  \"\"\"Entry point for launching an IPython kernel.\n",
      "C:\\ProgramData\\Anaconda3\\lib\\site-packages\\ipykernel_launcher.py:2: SettingWithCopyWarning: \n",
      "A value is trying to be set on a copy of a slice from a DataFrame.\n",
      "Try using .loc[row_indexer,col_indexer] = value instead\n",
      "\n",
      "See the caveats in the documentation: http://pandas.pydata.org/pandas-docs/stable/user_guide/indexing.html#returning-a-view-versus-a-copy\n",
      "  \n",
      "C:\\ProgramData\\Anaconda3\\lib\\site-packages\\ipykernel_launcher.py:3: SettingWithCopyWarning: \n",
      "A value is trying to be set on a copy of a slice from a DataFrame.\n",
      "Try using .loc[row_indexer,col_indexer] = value instead\n",
      "\n",
      "See the caveats in the documentation: http://pandas.pydata.org/pandas-docs/stable/user_guide/indexing.html#returning-a-view-versus-a-copy\n",
      "  This is separate from the ipykernel package so we can avoid doing imports until\n",
      "C:\\ProgramData\\Anaconda3\\lib\\site-packages\\ipykernel_launcher.py:4: SettingWithCopyWarning: \n",
      "A value is trying to be set on a copy of a slice from a DataFrame.\n",
      "Try using .loc[row_indexer,col_indexer] = value instead\n",
      "\n",
      "See the caveats in the documentation: http://pandas.pydata.org/pandas-docs/stable/user_guide/indexing.html#returning-a-view-versus-a-copy\n",
      "  after removing the cwd from sys.path.\n"
     ]
    }
   ],
   "source": [
    "tw_site_product_list_with_selected_columns['长（cm）'] = tw_site_product_list_with_selected_columns['长（cm）'].fillna(18)\n",
    "tw_site_product_list_with_selected_columns['宽（cm）'] = tw_site_product_list_with_selected_columns['宽（cm）'].fillna(13)\n",
    "tw_site_product_list_with_selected_columns['高（cm）'] = tw_site_product_list_with_selected_columns['高（cm）'].fillna(5)\n",
    "tw_site_product_list_with_selected_columns['发货期'] = tw_site_product_list_with_selected_columns['发货期'].fillna(2)"
   ]
  },
  {
   "cell_type": "code",
   "execution_count": 19,
   "metadata": {},
   "outputs": [
    {
     "name": "stderr",
     "output_type": "stream",
     "text": [
      "C:\\ProgramData\\Anaconda3\\lib\\site-packages\\ipykernel_launcher.py:3: SettingWithCopyWarning: \n",
      "A value is trying to be set on a copy of a slice from a DataFrame.\n",
      "Try using .loc[row_indexer,col_indexer] = value instead\n",
      "\n",
      "See the caveats in the documentation: http://pandas.pydata.org/pandas-docs/stable/user_guide/indexing.html#returning-a-view-versus-a-copy\n",
      "  This is separate from the ipykernel package so we can avoid doing imports until\n"
     ]
    }
   ],
   "source": [
    "translate_currency = 458.61\n",
    "profit_rate = 1.2\n",
    "tw_site_product_list_with_selected_columns['价格'] = tw_site_product_list_with_selected_columns['价格'] * translate_currency / profit_rate"
   ]
  },
  {
   "cell_type": "code",
   "execution_count": 20,
   "metadata": {},
   "outputs": [],
   "source": [
    "# tw_site_product_list_with_selected_columns.head(5)"
   ]
  },
  {
   "cell_type": "code",
   "execution_count": 21,
   "metadata": {},
   "outputs": [],
   "source": [
    "from googletrans import Translator"
   ]
  },
  {
   "cell_type": "code",
   "execution_count": 22,
   "metadata": {},
   "outputs": [],
   "source": [
    "translator = Translator(service_urls=[\n",
    "      'translate.google.com',\n",
    "      'translate.google.co.kr',\n",
    "    ])\n",
    "# translator.translate('韩国', dest='ko').text"
   ]
  },
  {
   "cell_type": "code",
   "execution_count": 23,
   "metadata": {},
   "outputs": [],
   "source": [
    "# translations = translator.translate(['The quick brown fox', 'jumps over', 'the lazy dog'], dest='ko')\n",
    "# for translation in translations:\n",
    "#     print(translation.origin, ' -> ', translation.text)"
   ]
  },
  {
   "cell_type": "code",
   "execution_count": 24,
   "metadata": {},
   "outputs": [],
   "source": [
    "translate_columns = ['产品标题', '产品描述', '变种名称', '变种属性名称一', '变种属性名称二', '变种属性值一', '变种属性值二']\n",
    "# translate_columns = ['产品标题']\n",
    "# translate_columns = ['产品描述', '变种名称', '变种属性名称一', '变种属性名称二', '变种属性值一', '变种属性值二']"
   ]
  },
  {
   "cell_type": "code",
   "execution_count": 25,
   "metadata": {},
   "outputs": [
    {
     "name": "stderr",
     "output_type": "stream",
     "text": [
      "C:\\ProgramData\\Anaconda3\\lib\\site-packages\\pandas\\core\\frame.py:3494: SettingWithCopyWarning: \n",
      "A value is trying to be set on a copy of a slice from a DataFrame.\n",
      "Try using .loc[row_indexer,col_indexer] = value instead\n",
      "\n",
      "See the caveats in the documentation: http://pandas.pydata.org/pandas-docs/stable/user_guide/indexing.html#returning-a-view-versus-a-copy\n",
      "  self[k1] = value[k2]\n"
     ]
    }
   ],
   "source": [
    "# 把空值填充为string格式\n",
    "tw_site_product_list_with_selected_columns[translate_columns] = tw_site_product_list_with_selected_columns[translate_columns].fillna(value='不需翻译')"
   ]
  },
  {
   "cell_type": "code",
   "execution_count": 26,
   "metadata": {},
   "outputs": [
    {
     "name": "stderr",
     "output_type": "stream",
     "text": [
      " 2019-10-29 00:00:20,748 - INFO - variation list: {'規格', '尺碼', '不需翻译', '尺寸', '適合身高', 'Color', 'Variation', '顏色', '款式', '童襪尺碼'}\n"
     ]
    }
   ],
   "source": [
    "# 把variation_name做一些删减\n",
    "variation_list = set(list(tw_site_product_list_with_selected_columns['变种属性名称一'].unique()) + list(tw_site_product_list_with_selected_columns['变种属性名称二'].unique()))\n",
    "logging.info('variation list: ' + str(variation_list))"
   ]
  },
  {
   "cell_type": "code",
   "execution_count": 27,
   "metadata": {},
   "outputs": [
    {
     "name": "stderr",
     "output_type": "stream",
     "text": [
      "C:\\ProgramData\\Anaconda3\\lib\\site-packages\\ipykernel_launcher.py:2: SettingWithCopyWarning: \n",
      "A value is trying to be set on a copy of a slice from a DataFrame.\n",
      "Try using .loc[row_indexer,col_indexer] = value instead\n",
      "\n",
      "See the caveats in the documentation: http://pandas.pydata.org/pandas-docs/stable/user_guide/indexing.html#returning-a-view-versus-a-copy\n",
      "  \n",
      "C:\\ProgramData\\Anaconda3\\lib\\site-packages\\ipykernel_launcher.py:3: SettingWithCopyWarning: \n",
      "A value is trying to be set on a copy of a slice from a DataFrame.\n",
      "Try using .loc[row_indexer,col_indexer] = value instead\n",
      "\n",
      "See the caveats in the documentation: http://pandas.pydata.org/pandas-docs/stable/user_guide/indexing.html#returning-a-view-versus-a-copy\n",
      "  This is separate from the ipykernel package so we can avoid doing imports until\n"
     ]
    }
   ],
   "source": [
    "variation_rename = {'适合身高': '身高', '童袜尺码': '尺码', '不需翻译': 'not set'}\n",
    "tw_site_product_list_with_selected_columns['变种属性名称一'] = tw_site_product_list_with_selected_columns['变种属性名称一'].apply(lambda x: variation_rename[x] if x in variation_rename else x)\n",
    "tw_site_product_list_with_selected_columns['变种属性名称二'] = tw_site_product_list_with_selected_columns['变种属性名称二'].apply(lambda x: variation_rename[x] if x in variation_rename else x)"
   ]
  },
  {
   "cell_type": "code",
   "execution_count": 28,
   "metadata": {},
   "outputs": [],
   "source": [
    "# 对variation_value做一些删减\n",
    "# variation_value_list = set(list(tw_site_product_list_with_selected_columns['变种属性值一'].unique()) + list(tw_site_product_list_with_selected_columns['变种属性值一'].unique()))\n",
    "# logging.info('variation value list: ' + str(variation_value_list))"
   ]
  },
  {
   "cell_type": "code",
   "execution_count": 29,
   "metadata": {},
   "outputs": [],
   "source": [
    "# tw_site_product_list_with_selected_columns = tw_site_product_list_with_selected_columns[:5]\n",
    "# # tw_site_product_list_with_selected_columns"
   ]
  },
  {
   "cell_type": "code",
   "execution_count": 30,
   "metadata": {},
   "outputs": [],
   "source": [
    "today = date.today()\n",
    "d1 = today.strftime(\"%Y_%m_%d\")"
   ]
  },
  {
   "cell_type": "code",
   "execution_count": 31,
   "metadata": {
    "scrolled": true
   },
   "outputs": [],
   "source": [
    "# for index, row in tw_site_product_list_with_selected_columns.iterrows():\n",
    "#     try:\n",
    "#         list_to_translate = []\n",
    "#         for i, value in enumerate(translate_columns):\n",
    "#             list_to_translate.append(row[translate_columns[i]])\n",
    "        \n",
    "#         translate_language = 'en'\n",
    "#         translator = Translator(service_urls=['translate.google.com'])\n",
    "#         list_be_translated = translator.translate(list_to_translate, dest=translate_language, src='zh-CN')\n",
    "#         # list_be_translated = translator.translate(list_to_translate, dest=translate_language)\n",
    "#         time.sleep(10)\n",
    "        \n",
    "#         i = 0\n",
    "#         for translate_language in list_be_translated:\n",
    "#             tw_site_product_list_with_selected_columns.at[index, translate_columns[i]] = translate_language.text\n",
    "#             i += 1\n",
    "        \n",
    "#         if (index + 1) % 5 == 0:\n",
    "#             logging.info(str(index + 1) + ' rows have been translated.')\n",
    "            \n",
    "#         tw_site_product_list_with_selected_columns.to_excel(os.path.join(folder_path, 'translated_product_' + d1 + '.xlsx'), index=False)\n",
    "#     except Exception as err:\n",
    "#         logging.warning(str(index + 1) + ' rows have not been translated. Error message: ' + str(err))\n",
    "#         pass"
   ]
  },
  {
   "cell_type": "code",
   "execution_count": null,
   "metadata": {
    "scrolled": true
   },
   "outputs": [
    {
     "name": "stderr",
     "output_type": "stream",
     "text": [
      "C:\\ProgramData\\Anaconda3\\lib\\site-packages\\xlsxwriter\\worksheet.py:915: UserWarning: Ignoring URL 'https://detail.tmall.com/item.htm?spm=a220o.1000855.1998025129.3.1a0a7be9n6xDqA&pvid=eac401b5-d6ce-48c9-b88a-5db1336fb158&pos=3&acm=03054.1003.1.2768562&id=599735496483&scm=1007.16862.95220.23864_0_0&utparam=%7B%22x_hestia_source%22:%2223864%22,%22x_object_type%22:%22item%22,%22x_mt%22:0,%22x_src%22:%2223864%22,%22x_pos%22:3,%22x_pvid%22:%22eac401b5-d6ce-48c9-b88a-5db1336fb158%22,%22x_object_id%22:599735496483%7D&sku_properties=1627207:28340' with link or location/anchor > 255 characters since it exceeds Excel's limit for URLS\n",
      "  force_unicode(url))\n",
      "C:\\ProgramData\\Anaconda3\\lib\\site-packages\\xlsxwriter\\worksheet.py:915: UserWarning: Ignoring URL 'https://detail.tmall.com/item.htm?spm=a220o.1000855.1998025129.2.57146b77TgQpGd&pvid=073c6d3a-95d5-460f-ad02-33dad1f933df&pos=2&acm=03054.1003.1.2768562&id=557417227413&scm=1007.16862.95220.23864_0_0&utparam=%7B%22x_hestia_source%22:%2223864%22,%22x_object_type%22:%22item%22,%22x_mt%22:5,%22x_src%22:%2223864%22,%22x_pos%22:2,%22x_pvid%22:%22073c6d3a-95d5-460f-ad02-33dad1f933df%22,%22x_object_id%22:557417227413%7D&sku_properties=1627207:60092' with link or location/anchor > 255 characters since it exceeds Excel's limit for URLS\n",
      "  force_unicode(url))\n",
      "C:\\ProgramData\\Anaconda3\\lib\\site-packages\\xlsxwriter\\worksheet.py:915: UserWarning: Ignoring URL 'https://detail.tmall.com/item.htm?spm=a220o.1000855.1998025129.11.2edf6936BAbelQ&pvid=7c6f5018-e94d-4f80-bc5b-4e7a6918bb09&pos=11&acm=03054.1003.1.2768562&id=547708396300&scm=1007.16862.95220.23864_0_0&utparam=%7B%22x_hestia_source%22:%2223864%22,%22x_object_type%22:%22item%22,%22x_mt%22:0,%22x_src%22:%2223864%22,%22x_pos%22:11,%22x_pvid%22:%227c6f5018-e94d-4f80-bc5b-4e7a6918bb09%22,%22x_object_id' with link or location/anchor > 255 characters since it exceeds Excel's limit for URLS\n",
      "  force_unicode(url))\n",
      "C:\\ProgramData\\Anaconda3\\lib\\site-packages\\xlsxwriter\\worksheet.py:915: UserWarning: Ignoring URL 'https://detail.tmall.com/item.htm?spm=a220o.1000855.1998025129.3.62df2af2RKDdqZ&pvid=ed451d41-cb03-4449-840e-7bcddc8e3ce7&pos=3&acm=03054.1003.1.2768562&id=557429048458&scm=1007.16862.95220.23864_0&utparam={%22x_hestia_source%22:%2223864%22,%22x_object_type%22:%22item%22,%22x_mt%22:0,%22x_src%22:%2223864%22,%22x_pos%22:3,%22x_pvid%22:%22ed451d41-cb03-4449-840e-7bcddc8e3ce7%22,%22x_object_id%22:557' with link or location/anchor > 255 characters since it exceeds Excel's limit for URLS\n",
      "  force_unicode(url))\n",
      "C:\\ProgramData\\Anaconda3\\lib\\site-packages\\xlsxwriter\\worksheet.py:915: UserWarning: Ignoring URL 'https://item.taobao.com/item.htm?id=565101721266&price=15.3&sourceType=item&sourceType=item&suid=cd117c07-225e-4a8e-9943-91a9b86a599b&ut_sk=1.WoQy2hlI9PcDAPyNEHrOlvgE_21646297_1535854138621.Copy.1&un=ad439f160e96fcfe8a195baaa22d8f6a&share_crt_v=1&sp_tk=4oKscmgyS2JXM0k1RDTigqw=&cpp=1&shareurl=true&spm=a313p.22.1hl.968176658300&short_name=h.3fEKYmB&app=chrome' with link or location/anchor > 255 characters since it exceeds Excel's limit for URLS\n",
      "  force_unicode(url))\n",
      " 2019-10-29 00:35:12,439 - INFO - 100 rows have been translated.\n",
      " 2019-10-29 01:10:06,045 - INFO - 200 rows have been translated.\n",
      " 2019-10-29 01:45:13,654 - INFO - 300 rows have been translated.\n",
      " 2019-10-29 02:20:08,174 - INFO - 400 rows have been translated.\n",
      " 2019-10-29 02:55:03,638 - INFO - 500 rows have been translated.\n",
      " 2019-10-29 03:30:05,345 - INFO - 600 rows have been translated.\n",
      " 2019-10-29 04:05:07,346 - INFO - 700 rows have been translated.\n",
      " 2019-10-29 04:39:58,177 - INFO - 800 rows have been translated.\n",
      " 2019-10-29 05:15:00,244 - INFO - 900 rows have been translated.\n",
      " 2019-10-29 05:49:56,744 - INFO - 1000 rows have been translated.\n",
      " 2019-10-29 06:24:56,044 - INFO - 1100 rows have been translated.\n",
      " 2019-10-29 06:29:20,842 - WARNING - 1113 rows have not been translated. Error message: HTTPSConnectionPool(host='translate.google.com', port=443): Max retries exceeded with url: / (Caused by SSLError(SSLError(\"bad handshake: SysCallError(-1, 'Unexpected EOF')\"))), try again.\n",
      " 2019-10-29 06:59:54,580 - INFO - 1200 rows have been translated.\n",
      " 2019-10-29 07:34:45,220 - INFO - 1300 rows have been translated.\n",
      " 2019-10-29 08:09:35,029 - INFO - 1400 rows have been translated.\n",
      " 2019-10-29 08:44:26,263 - INFO - 1500 rows have been translated.\n",
      " 2019-10-29 09:19:13,209 - INFO - 1600 rows have been translated.\n",
      " 2019-10-29 09:53:59,959 - INFO - 1700 rows have been translated.\n"
     ]
    }
   ],
   "source": [
    "for index, row in tw_site_product_list_with_selected_columns.iterrows():\n",
    "    translated = 0\n",
    "    while translated == 0:\n",
    "        try:\n",
    "            list_to_translate = []\n",
    "            for i, value in enumerate(translate_columns):\n",
    "                list_to_translate.append(row[translate_columns[i]])\n",
    "\n",
    "            translate_language = 'id'\n",
    "            translator = Translator(service_urls=['translate.google.com'])\n",
    "            list_be_translated = translator.translate(list_to_translate, dest=translate_language, src='zh-CN')\n",
    "            # list_be_translated = translator.translate(list_to_translate, dest=translate_language)\n",
    "            time.sleep(10)\n",
    "\n",
    "            i = 0\n",
    "            for translate_language in list_be_translated:\n",
    "                tw_site_product_list_with_selected_columns.at[index, translate_columns[i]] = translate_language.text\n",
    "                i += 1\n",
    "\n",
    "            if (index + 1) % 100 == 0:\n",
    "                logging.info(str(index + 1) + ' rows have been translated.')\n",
    "\n",
    "            tw_site_product_list_with_selected_columns.to_excel(os.path.join(folder_path, 'translated_product_id_' + d1 + '.xlsx'), index=False)\n",
    "            translated = 1\n",
    "        except Exception as err:\n",
    "            logging.warning(str(index + 1) + ' rows have not been translated. Error message: ' + str(err) + ', try again.')\n",
    "            pass        "
   ]
  },
  {
   "cell_type": "code",
   "execution_count": null,
   "metadata": {
    "scrolled": true
   },
   "outputs": [],
   "source": [
    "# for translate_column in translate_columns:\n",
    "#     # tw_site_product_list_with_selected_columns[translate_column] = tw_site_product_list_with_selected_columns[translate_column].fillna(0)\n",
    "#     # tw_site_product_list_with_selected_columns[translate_column]  = [translator.translate(x, dest=translate_language).text \n",
    "#                                                                      # for x in tw_site_product_list_with_selected_columns[translate_column]]\n",
    "#     for index, row in tw_site_product_list_with_selected_columns.iterrows():\n",
    "#         try:\n",
    "#             orginal_text = tw_site_product_list_with_selected_columns.at[index, translate_column]\n",
    "#             tw_site_product_list_with_selected_columns.at[index, translate_column] = translator.translate(row[translate_column], dest=translate_language).text\n",
    "#             # print(row[translate_column])\n",
    "#             logging.info(translate_column + ' - ' + str(index + 1) + ' rows have been translated.')\n",
    "#             # logging.info(orginal_text + ' -> ' + tw_site_product_list_with_selected_columns.at[index, translate_column])\n",
    "#             time.sleep(5)\n",
    "#         except:\n",
    "#             logging.warning(translate_column + ' - ' + str(index + 1) + ' rows have not been translated.')\n",
    "#             pass\n",
    "        \n",
    "#     # print(tw_site_product_list_with_selected_columns.head(5))\n",
    "    \n",
    "#     tw_site_product_list_with_selected_columns.to_excel(os.path.join(folder_path, 'tw_translated_product(1).xlsx'), index=False)\n",
    "#     logging.info(str(translate_column) + ' is done.')"
   ]
  }
 ],
 "metadata": {
  "anaconda-cloud": {},
  "kernelspec": {
   "display_name": "Python 3",
   "language": "python",
   "name": "python3"
  },
  "language_info": {
   "codemirror_mode": {
    "name": "ipython",
    "version": 3
   },
   "file_extension": ".py",
   "mimetype": "text/x-python",
   "name": "python",
   "nbconvert_exporter": "python",
   "pygments_lexer": "ipython3",
   "version": "3.7.3"
  }
 },
 "nbformat": 4,
 "nbformat_minor": 1
}
