{
 "cells": [
  {
   "cell_type": "code",
   "execution_count": 31,
   "metadata": {
    "collapsed": true
   },
   "outputs": [],
   "source": [
    "import pandas as pd\n",
    "import os\n",
    "import time\n",
    "import logging\n",
    "from datetime import date"
   ]
  },
  {
   "cell_type": "code",
   "execution_count": 32,
   "metadata": {
    "collapsed": true
   },
   "outputs": [],
   "source": [
    "# # 获取脚本的当前路径，避免计划执行时路径出错\n",
    "# home_dir = os.path.dirname(os.path.realpath(__file__))\n",
    "# # 更换workding directory\n",
    "# working_directory = home_dir\n",
    "# os.chdir(working_directory)"
   ]
  },
  {
   "cell_type": "code",
   "execution_count": 33,
   "metadata": {
    "collapsed": true
   },
   "outputs": [],
   "source": [
    "logging.basicConfig(level=logging.INFO, format=' %(asctime)s - %(levelname)s - %(message)s')"
   ]
  },
  {
   "cell_type": "code",
   "execution_count": 34,
   "metadata": {
    "collapsed": true
   },
   "outputs": [],
   "source": [
    "folder_path = '../shopee_product_translation/'\n",
    "# tw_site_product_list = pd.read_excel(os.path.join(folder_path, 'tengus_tw_product_list.xlsx'))\n",
    "tw_site_product_list = pd.read_excel(os.path.join(folder_path, 'translated_product_2019_10_19.xlsx'))\n",
    "tw_site_product_list = tw_site_product_list[tw_site_product_list['是否翻译'] == 'no']\n",
    "# tw_site_product_list.head(5)"
   ]
  },
  {
   "cell_type": "code",
   "execution_count": 35,
   "metadata": {
    "collapsed": true
   },
   "outputs": [],
   "source": [
    "# tw_site_product_list.columns"
   ]
  },
  {
   "cell_type": "code",
   "execution_count": 36,
   "metadata": {
    "collapsed": true
   },
   "outputs": [],
   "source": [
    "# tw_site_product_list = tw_site_product_list[tw_site_product_list['产品id'] == 2496637042]"
   ]
  },
  {
   "cell_type": "code",
   "execution_count": 37,
   "metadata": {
    "collapsed": true,
    "scrolled": false
   },
   "outputs": [],
   "source": [
    "# top_cat_in_tw = tw_site_product_list[['分类ID', '产品id']].groupby('分类ID').agg({'产品id': 'nunique'}).reset_index().sort_values(by='产品id', ascending=False).reset_index().head(5)\n",
    "# top_cat_in_tw"
   ]
  },
  {
   "cell_type": "code",
   "execution_count": 38,
   "metadata": {
    "collapsed": true
   },
   "outputs": [],
   "source": [
    "# top_cat_id = top_cat_in_tw['分类ID'][0]\n",
    "# top_cat_id"
   ]
  },
  {
   "cell_type": "code",
   "execution_count": 39,
   "metadata": {
    "collapsed": true
   },
   "outputs": [],
   "source": [
    "output_excel_columns = [\n",
    "                        '原有行',\n",
    "                        '是否翻译',\n",
    "                        '变种名称',\n",
    "                        '变种属性名称一',\n",
    "                        '变种属性名称二',\n",
    "                        '变种属性值一',\n",
    "                        '变种属性值二',\n",
    "                        '*价格（必填）',\n",
    "                        '*库存（必填）',\n",
    "                        '*重量(kg)(必填）',\n",
    "                        '*主图（URL）地址（必填）',\n",
    "                        '附图1',\n",
    "                        '附图2',\n",
    "                        '附图3',\n",
    "                        '附图4',\n",
    "                        '附图5',\n",
    "                        '附图6',\n",
    "                        '附图7',\n",
    "                        '附图8',\n",
    "                        '变种图',\n",
    "                        '长(cm)',\n",
    "                        '宽(cm)',\n",
    "                        '高(cm)',\n",
    "                        '发货期',\n",
    "                        '来源URL',\n",
    "                        '尺码图'\n",
    "]"
   ]
  },
  {
   "cell_type": "code",
   "execution_count": 40,
   "metadata": {
    "collapsed": true
   },
   "outputs": [],
   "source": [
    "tw_site_product_list_selected_columns = ['原有行', '是否翻译', '分类ID', '产品属性', 'Parent SKU', '产品标题', '产品描述', 'sku', '变种名称', '变种属性名称一',\n",
    "       '变种属性名称二', '变种属性值一', '变种属性值二', '价格', '库存', '重量', '主图（URL）地址', '附图1',\n",
    "       '附图2', '附图3', '附图4', '附图5', '附图6', '附图7', '附图8地址', '变种图', '长（cm）',\n",
    "       '宽（cm）', '高（cm）', '发货期', '来源URL', '尺码图']"
   ]
  },
  {
   "cell_type": "code",
   "execution_count": 41,
   "metadata": {},
   "outputs": [
    {
     "data": {
      "text/html": [
       "<div>\n",
       "<table border=\"1\" class=\"dataframe\">\n",
       "  <thead>\n",
       "    <tr style=\"text-align: right;\">\n",
       "      <th></th>\n",
       "      <th>原有行</th>\n",
       "      <th>是否翻译</th>\n",
       "      <th>分类ID</th>\n",
       "      <th>产品属性</th>\n",
       "      <th>Parent SKU</th>\n",
       "      <th>产品标题</th>\n",
       "      <th>产品描述</th>\n",
       "      <th>sku</th>\n",
       "      <th>变种名称</th>\n",
       "      <th>变种属性名称一</th>\n",
       "      <th>...</th>\n",
       "      <th>附图6</th>\n",
       "      <th>附图7</th>\n",
       "      <th>附图8地址</th>\n",
       "      <th>变种图</th>\n",
       "      <th>长（cm）</th>\n",
       "      <th>宽（cm）</th>\n",
       "      <th>高（cm）</th>\n",
       "      <th>发货期</th>\n",
       "      <th>来源URL</th>\n",
       "      <th>尺码图</th>\n",
       "    </tr>\n",
       "  </thead>\n",
       "  <tbody>\n",
       "    <tr>\n",
       "      <th>0</th>\n",
       "      <td>5935</td>\n",
       "      <td>no</td>\n",
       "      <td>8315</td>\n",
       "      <td>[{\"mandatory\":true,\"attribute_id\":9502,\"attrib...</td>\n",
       "      <td>5.737442e+11</td>\n",
       "      <td>【限時特價】現貨 兒童糖果色打底褲 純棉長褲 男女童睡褲 女寶秋褲 長褲 兒童內搭褲 男童條...</td>\n",
       "      <td>款號：5440\\n材質：100%純棉\\n特點：吸濕透氣，柔軟舒適\\n\\n【貼心小叮嚀】 \\n...</td>\n",
       "      <td>5440-顏色備註-80cm</td>\n",
       "      <td>顏色備註-80cm</td>\n",
       "      <td>Variation</td>\n",
       "      <td>...</td>\n",
       "      <td>https://s-cf-tw.shopeesz.com/file/e77e203a9980...</td>\n",
       "      <td>https://s-cf-tw.shopeesz.com/file/5d94bef9ace4...</td>\n",
       "      <td>https://s-cf-tw.shopeesz.com/file/925b5a2f71da...</td>\n",
       "      <td>NaN</td>\n",
       "      <td>18</td>\n",
       "      <td>13</td>\n",
       "      <td>5</td>\n",
       "      <td>2</td>\n",
       "      <td>https://detail.1688.com/offer/573744240242.htm...</td>\n",
       "      <td>NaN</td>\n",
       "    </tr>\n",
       "    <tr>\n",
       "      <th>1</th>\n",
       "      <td>5936</td>\n",
       "      <td>no</td>\n",
       "      <td>8315</td>\n",
       "      <td>[{\"mandatory\":true,\"attribute_id\":9502,\"attrib...</td>\n",
       "      <td>5.737442e+11</td>\n",
       "      <td>【限時特價】現貨 兒童糖果色打底褲 純棉長褲 男女童睡褲 女寶秋褲 長褲 兒童內搭褲 男童條...</td>\n",
       "      <td>款號：5440\\n材質：100%純棉\\n特點：吸濕透氣，柔軟舒適\\n\\n【貼心小叮嚀】 \\n...</td>\n",
       "      <td>5440-顏色備註-90cm</td>\n",
       "      <td>顏色備註-90cm</td>\n",
       "      <td>Variation</td>\n",
       "      <td>...</td>\n",
       "      <td>https://s-cf-tw.shopeesz.com/file/e77e203a9980...</td>\n",
       "      <td>https://s-cf-tw.shopeesz.com/file/5d94bef9ace4...</td>\n",
       "      <td>https://s-cf-tw.shopeesz.com/file/925b5a2f71da...</td>\n",
       "      <td>NaN</td>\n",
       "      <td>18</td>\n",
       "      <td>13</td>\n",
       "      <td>5</td>\n",
       "      <td>2</td>\n",
       "      <td>https://detail.1688.com/offer/573744240242.htm...</td>\n",
       "      <td>NaN</td>\n",
       "    </tr>\n",
       "    <tr>\n",
       "      <th>2</th>\n",
       "      <td>5937</td>\n",
       "      <td>no</td>\n",
       "      <td>8315</td>\n",
       "      <td>[{\"mandatory\":true,\"attribute_id\":9502,\"attrib...</td>\n",
       "      <td>5.737442e+11</td>\n",
       "      <td>【限時特價】現貨 兒童糖果色打底褲 純棉長褲 男女童睡褲 女寶秋褲 長褲 兒童內搭褲 男童條...</td>\n",
       "      <td>款號：5440\\n材質：100%純棉\\n特點：吸濕透氣，柔軟舒適\\n\\n【貼心小叮嚀】 \\n...</td>\n",
       "      <td>5440-顏色備註--100cm</td>\n",
       "      <td>顏色備註-100cm</td>\n",
       "      <td>Variation</td>\n",
       "      <td>...</td>\n",
       "      <td>https://s-cf-tw.shopeesz.com/file/e77e203a9980...</td>\n",
       "      <td>https://s-cf-tw.shopeesz.com/file/5d94bef9ace4...</td>\n",
       "      <td>https://s-cf-tw.shopeesz.com/file/925b5a2f71da...</td>\n",
       "      <td>NaN</td>\n",
       "      <td>18</td>\n",
       "      <td>13</td>\n",
       "      <td>5</td>\n",
       "      <td>2</td>\n",
       "      <td>https://detail.1688.com/offer/573744240242.htm...</td>\n",
       "      <td>NaN</td>\n",
       "    </tr>\n",
       "    <tr>\n",
       "      <th>3</th>\n",
       "      <td>5938</td>\n",
       "      <td>no</td>\n",
       "      <td>8315</td>\n",
       "      <td>[{\"mandatory\":true,\"attribute_id\":9502,\"attrib...</td>\n",
       "      <td>5.737442e+11</td>\n",
       "      <td>【限時特價】現貨 兒童糖果色打底褲 純棉長褲 男女童睡褲 女寶秋褲 長褲 兒童內搭褲 男童條...</td>\n",
       "      <td>款號：5440\\n材質：100%純棉\\n特點：吸濕透氣，柔軟舒適\\n\\n【貼心小叮嚀】 \\n...</td>\n",
       "      <td>5440-顏色備註--110cm</td>\n",
       "      <td>顏色備註-110cm</td>\n",
       "      <td>Variation</td>\n",
       "      <td>...</td>\n",
       "      <td>https://s-cf-tw.shopeesz.com/file/e77e203a9980...</td>\n",
       "      <td>https://s-cf-tw.shopeesz.com/file/5d94bef9ace4...</td>\n",
       "      <td>https://s-cf-tw.shopeesz.com/file/925b5a2f71da...</td>\n",
       "      <td>NaN</td>\n",
       "      <td>18</td>\n",
       "      <td>13</td>\n",
       "      <td>5</td>\n",
       "      <td>2</td>\n",
       "      <td>https://detail.1688.com/offer/573744240242.htm...</td>\n",
       "      <td>NaN</td>\n",
       "    </tr>\n",
       "    <tr>\n",
       "      <th>4</th>\n",
       "      <td>5939</td>\n",
       "      <td>no</td>\n",
       "      <td>8315</td>\n",
       "      <td>[{\"mandatory\":true,\"attribute_id\":9502,\"attrib...</td>\n",
       "      <td>5.737442e+11</td>\n",
       "      <td>【限時特價】現貨 兒童糖果色打底褲 純棉長褲 男女童睡褲 女寶秋褲 長褲 兒童內搭褲 男童條...</td>\n",
       "      <td>款號：5440\\n材質：100%純棉\\n特點：吸濕透氣，柔軟舒適\\n\\n【貼心小叮嚀】 \\n...</td>\n",
       "      <td>5440-顏色備註--120cm</td>\n",
       "      <td>顏色備註-120cm</td>\n",
       "      <td>Variation</td>\n",
       "      <td>...</td>\n",
       "      <td>https://s-cf-tw.shopeesz.com/file/e77e203a9980...</td>\n",
       "      <td>https://s-cf-tw.shopeesz.com/file/5d94bef9ace4...</td>\n",
       "      <td>https://s-cf-tw.shopeesz.com/file/925b5a2f71da...</td>\n",
       "      <td>NaN</td>\n",
       "      <td>18</td>\n",
       "      <td>13</td>\n",
       "      <td>5</td>\n",
       "      <td>2</td>\n",
       "      <td>https://detail.1688.com/offer/573744240242.htm...</td>\n",
       "      <td>NaN</td>\n",
       "    </tr>\n",
       "  </tbody>\n",
       "</table>\n",
       "<p>5 rows × 32 columns</p>\n",
       "</div>"
      ],
      "text/plain": [
       "    原有行 是否翻译  分类ID                                               产品属性  \\\n",
       "0  5935   no  8315  [{\"mandatory\":true,\"attribute_id\":9502,\"attrib...   \n",
       "1  5936   no  8315  [{\"mandatory\":true,\"attribute_id\":9502,\"attrib...   \n",
       "2  5937   no  8315  [{\"mandatory\":true,\"attribute_id\":9502,\"attrib...   \n",
       "3  5938   no  8315  [{\"mandatory\":true,\"attribute_id\":9502,\"attrib...   \n",
       "4  5939   no  8315  [{\"mandatory\":true,\"attribute_id\":9502,\"attrib...   \n",
       "\n",
       "     Parent SKU                                               产品标题  \\\n",
       "0  5.737442e+11  【限時特價】現貨 兒童糖果色打底褲 純棉長褲 男女童睡褲 女寶秋褲 長褲 兒童內搭褲 男童條...   \n",
       "1  5.737442e+11  【限時特價】現貨 兒童糖果色打底褲 純棉長褲 男女童睡褲 女寶秋褲 長褲 兒童內搭褲 男童條...   \n",
       "2  5.737442e+11  【限時特價】現貨 兒童糖果色打底褲 純棉長褲 男女童睡褲 女寶秋褲 長褲 兒童內搭褲 男童條...   \n",
       "3  5.737442e+11  【限時特價】現貨 兒童糖果色打底褲 純棉長褲 男女童睡褲 女寶秋褲 長褲 兒童內搭褲 男童條...   \n",
       "4  5.737442e+11  【限時特價】現貨 兒童糖果色打底褲 純棉長褲 男女童睡褲 女寶秋褲 長褲 兒童內搭褲 男童條...   \n",
       "\n",
       "                                                产品描述               sku  \\\n",
       "0  款號：5440\\n材質：100%純棉\\n特點：吸濕透氣，柔軟舒適\\n\\n【貼心小叮嚀】 \\n...    5440-顏色備註-80cm   \n",
       "1  款號：5440\\n材質：100%純棉\\n特點：吸濕透氣，柔軟舒適\\n\\n【貼心小叮嚀】 \\n...    5440-顏色備註-90cm   \n",
       "2  款號：5440\\n材質：100%純棉\\n特點：吸濕透氣，柔軟舒適\\n\\n【貼心小叮嚀】 \\n...  5440-顏色備註--100cm   \n",
       "3  款號：5440\\n材質：100%純棉\\n特點：吸濕透氣，柔軟舒適\\n\\n【貼心小叮嚀】 \\n...  5440-顏色備註--110cm   \n",
       "4  款號：5440\\n材質：100%純棉\\n特點：吸濕透氣，柔軟舒適\\n\\n【貼心小叮嚀】 \\n...  5440-顏色備註--120cm   \n",
       "\n",
       "         变种名称    变种属性名称一 ...  \\\n",
       "0   顏色備註-80cm  Variation ...   \n",
       "1   顏色備註-90cm  Variation ...   \n",
       "2  顏色備註-100cm  Variation ...   \n",
       "3  顏色備註-110cm  Variation ...   \n",
       "4  顏色備註-120cm  Variation ...   \n",
       "\n",
       "                                                 附图6  \\\n",
       "0  https://s-cf-tw.shopeesz.com/file/e77e203a9980...   \n",
       "1  https://s-cf-tw.shopeesz.com/file/e77e203a9980...   \n",
       "2  https://s-cf-tw.shopeesz.com/file/e77e203a9980...   \n",
       "3  https://s-cf-tw.shopeesz.com/file/e77e203a9980...   \n",
       "4  https://s-cf-tw.shopeesz.com/file/e77e203a9980...   \n",
       "\n",
       "                                                 附图7  \\\n",
       "0  https://s-cf-tw.shopeesz.com/file/5d94bef9ace4...   \n",
       "1  https://s-cf-tw.shopeesz.com/file/5d94bef9ace4...   \n",
       "2  https://s-cf-tw.shopeesz.com/file/5d94bef9ace4...   \n",
       "3  https://s-cf-tw.shopeesz.com/file/5d94bef9ace4...   \n",
       "4  https://s-cf-tw.shopeesz.com/file/5d94bef9ace4...   \n",
       "\n",
       "                                               附图8地址  变种图  长（cm）  宽（cm） 高（cm）  \\\n",
       "0  https://s-cf-tw.shopeesz.com/file/925b5a2f71da...  NaN     18     13     5   \n",
       "1  https://s-cf-tw.shopeesz.com/file/925b5a2f71da...  NaN     18     13     5   \n",
       "2  https://s-cf-tw.shopeesz.com/file/925b5a2f71da...  NaN     18     13     5   \n",
       "3  https://s-cf-tw.shopeesz.com/file/925b5a2f71da...  NaN     18     13     5   \n",
       "4  https://s-cf-tw.shopeesz.com/file/925b5a2f71da...  NaN     18     13     5   \n",
       "\n",
       "  发货期                                              来源URL 尺码图  \n",
       "0   2  https://detail.1688.com/offer/573744240242.htm... NaN  \n",
       "1   2  https://detail.1688.com/offer/573744240242.htm... NaN  \n",
       "2   2  https://detail.1688.com/offer/573744240242.htm... NaN  \n",
       "3   2  https://detail.1688.com/offer/573744240242.htm... NaN  \n",
       "4   2  https://detail.1688.com/offer/573744240242.htm... NaN  \n",
       "\n",
       "[5 rows x 32 columns]"
      ]
     },
     "execution_count": 41,
     "metadata": {},
     "output_type": "execute_result"
    }
   ],
   "source": [
    "tw_site_product_list_with_selected_columns = tw_site_product_list[tw_site_product_list_selected_columns]\n",
    "tw_site_product_list_with_selected_columns.head(5)"
   ]
  },
  {
   "cell_type": "code",
   "execution_count": 42,
   "metadata": {
    "collapsed": true
   },
   "outputs": [],
   "source": [
    "# tw_site_product_list_with_selected_columns = tw_site_product_list_with_selected_columns[tw_site_product_list_with_selected_columns['分类ID'] == top_cat_id].reset_index()\n",
    "# tw_site_product_list_with_selected_columns"
   ]
  },
  {
   "cell_type": "code",
   "execution_count": 43,
   "metadata": {
    "collapsed": true
   },
   "outputs": [],
   "source": [
    "# 把1688的来源url拆出来，把productid填充为parent sku\n",
    "tw_site_product_list_with_selected_columns['Parent SKU'] = tw_site_product_list_with_selected_columns['来源URL'].str.split(\"/\", n = 4, expand = True)[4].str.split(\".\", n = 1, expand=True)[0]\n",
    "# tw_site_product_list_with_selected_columns.head(5)"
   ]
  },
  {
   "cell_type": "code",
   "execution_count": 44,
   "metadata": {},
   "outputs": [
    {
     "data": {
      "text/plain": [
       "'ins爆款 胡蘿卜寶寶針織竹節棉爬服 嬰兒兔裝 嬰兒連身衣 寶寶包屁衣連身衣 中間開襟包屁衣 寶寶連體衣哈衣爬服'"
      ]
     },
     "execution_count": 44,
     "metadata": {},
     "output_type": "execute_result"
    }
   ],
   "source": [
    "# remove emoji\n",
    "import re\n",
    "\n",
    "emoji_pattern = re.compile(\n",
    "                u'['\n",
    "                u'\\U0001F300-\\U0001F64F'\n",
    "                u'\\U0001F680-\\U0001F6FF'\n",
    "                u'\\u2600-\\u2B55'\n",
    "                u'\\u23cf'\n",
    "                u'\\u23e9'\n",
    "                u'\\u231a'\n",
    "                u'\\u3030'\n",
    "                u'\\ufe0f'\n",
    "                u\"\\U0001F600-\\U0001F64F\"  # emoticons\n",
    "                u\"\\U0001F300-\\U0001F5FF\"  # symbols & pictographs\n",
    "                u'\\U00010000-\\U0010ffff'\n",
    "                u'\\U0001F1E0-\\U0001F1FF'  # flags (iOS)\n",
    "                u'\\U00002702-\\U000027B0]+', flags=re.UNICODE)\n",
    "\n",
    "def remove_emoji(text):\n",
    "    return emoji_pattern.sub(r'', text)\n",
    "\n",
    "remove_emoji('ins爆款 🥕胡蘿卜🥕寶寶針織竹節棉爬服 嬰兒兔裝 嬰兒連身衣 寶寶包屁衣連身衣 中間開襟包屁衣 寶寶連體衣哈衣爬服')"
   ]
  },
  {
   "cell_type": "code",
   "execution_count": 45,
   "metadata": {
    "collapsed": true
   },
   "outputs": [],
   "source": [
    "tw_site_product_list_with_selected_columns['产品标题'] = [remove_emoji(x) for x in tw_site_product_list_with_selected_columns['产品标题']]\n",
    "tw_site_product_list_with_selected_columns['产品描述'] = [remove_emoji(x) for x in tw_site_product_list_with_selected_columns['产品描述']]"
   ]
  },
  {
   "cell_type": "code",
   "execution_count": 46,
   "metadata": {
    "collapsed": true
   },
   "outputs": [],
   "source": [
    "tw_site_product_list_with_selected_columns['长（cm）'] = tw_site_product_list_with_selected_columns['长（cm）'].fillna(18)\n",
    "tw_site_product_list_with_selected_columns['宽（cm）'] = tw_site_product_list_with_selected_columns['宽（cm）'].fillna(13)\n",
    "tw_site_product_list_with_selected_columns['高（cm）'] = tw_site_product_list_with_selected_columns['高（cm）'].fillna(5)\n",
    "tw_site_product_list_with_selected_columns['发货期'] = tw_site_product_list_with_selected_columns['发货期'].fillna(2)"
   ]
  },
  {
   "cell_type": "code",
   "execution_count": 47,
   "metadata": {
    "collapsed": true
   },
   "outputs": [],
   "source": [
    "translate_currency = 0.045\n",
    "profit_rate = 1.2\n",
    "tw_site_product_list_with_selected_columns['价格'] = tw_site_product_list_with_selected_columns['价格'] * translate_currency / profit_rate"
   ]
  },
  {
   "cell_type": "code",
   "execution_count": 48,
   "metadata": {
    "collapsed": true
   },
   "outputs": [],
   "source": [
    "# tw_site_product_list_with_selected_columns.head(5)"
   ]
  },
  {
   "cell_type": "code",
   "execution_count": 49,
   "metadata": {
    "collapsed": true
   },
   "outputs": [],
   "source": [
    "from googletrans import Translator"
   ]
  },
  {
   "cell_type": "code",
   "execution_count": 50,
   "metadata": {},
   "outputs": [
    {
     "data": {
      "text/plain": [
       "'한국'"
      ]
     },
     "execution_count": 50,
     "metadata": {},
     "output_type": "execute_result"
    }
   ],
   "source": [
    "translator = Translator(service_urls=[\n",
    "      'translate.google.com',\n",
    "      'translate.google.co.kr',\n",
    "    ])\n",
    "translator.translate('韩国', dest='ko').text"
   ]
  },
  {
   "cell_type": "code",
   "execution_count": 51,
   "metadata": {
    "collapsed": true
   },
   "outputs": [],
   "source": [
    "# translations = translator.translate(['The quick brown fox', 'jumps over', 'the lazy dog'], dest='ko')\n",
    "# for translation in translations:\n",
    "#     print(translation.origin, ' -> ', translation.text)"
   ]
  },
  {
   "cell_type": "code",
   "execution_count": 52,
   "metadata": {
    "collapsed": true
   },
   "outputs": [],
   "source": [
    "translate_columns = ['产品标题', '产品描述', '变种名称', '变种属性名称一', '变种属性名称二', '变种属性值一', '变种属性值二']\n",
    "# translate_columns = ['产品标题']\n",
    "# translate_columns = ['产品描述', '变种名称', '变种属性名称一', '变种属性名称二', '变种属性值一', '变种属性值二']"
   ]
  },
  {
   "cell_type": "code",
   "execution_count": 53,
   "metadata": {
    "collapsed": true
   },
   "outputs": [],
   "source": [
    "# 把空值填充为string格式\n",
    "tw_site_product_list_with_selected_columns[translate_columns] = tw_site_product_list_with_selected_columns[translate_columns].fillna(value='不需翻译')"
   ]
  },
  {
   "cell_type": "code",
   "execution_count": 54,
   "metadata": {},
   "outputs": [
    {
     "name": "stderr",
     "output_type": "stream",
     "text": [
      " 2019-10-19 15:11:10,780 - INFO - variation list: {'not set', '尺碼', '款式', 'Variation'}\n"
     ]
    }
   ],
   "source": [
    "# 把variation_name做一些删减\n",
    "variation_list = set(list(tw_site_product_list_with_selected_columns['变种属性名称一'].unique()) + list(tw_site_product_list_with_selected_columns['变种属性名称二'].unique()))\n",
    "logging.info('variation list: ' + str(variation_list))"
   ]
  },
  {
   "cell_type": "code",
   "execution_count": 55,
   "metadata": {
    "collapsed": true
   },
   "outputs": [],
   "source": [
    "variation_rename = {'适合身高': '身高', '童袜尺码': '尺码', '不需翻译': 'not set'}\n",
    "tw_site_product_list_with_selected_columns['变种属性名称一'] = tw_site_product_list_with_selected_columns['变种属性名称一'].apply(lambda x: variation_rename[x] if x in variation_rename else x)\n",
    "tw_site_product_list_with_selected_columns['变种属性名称二'] = tw_site_product_list_with_selected_columns['变种属性名称二'].apply(lambda x: variation_rename[x] if x in variation_rename else x)"
   ]
  },
  {
   "cell_type": "code",
   "execution_count": 56,
   "metadata": {
    "collapsed": true
   },
   "outputs": [],
   "source": [
    "# 对variation_value做一些删减\n",
    "# variation_value_list = set(list(tw_site_product_list_with_selected_columns['变种属性值一'].unique()) + list(tw_site_product_list_with_selected_columns['变种属性值一'].unique()))\n",
    "# logging.info('variation value list: ' + str(variation_value_list))"
   ]
  },
  {
   "cell_type": "code",
   "execution_count": 57,
   "metadata": {
    "collapsed": true
   },
   "outputs": [],
   "source": [
    "# tw_site_product_list_with_selected_columns = tw_site_product_list_with_selected_columns[:5]\n",
    "# # tw_site_product_list_with_selected_columns"
   ]
  },
  {
   "cell_type": "code",
   "execution_count": 58,
   "metadata": {
    "collapsed": true
   },
   "outputs": [],
   "source": [
    "today = date.today()\n",
    "d1 = today.strftime(\"%Y_%m_%d\")"
   ]
  },
  {
   "cell_type": "code",
   "execution_count": 59,
   "metadata": {
    "scrolled": true
   },
   "outputs": [],
   "source": [
    "# for index, row in tw_site_product_list_with_selected_columns.iterrows():\n",
    "#     try:\n",
    "#         list_to_translate = []\n",
    "#         for i, value in enumerate(translate_columns):\n",
    "#             list_to_translate.append(row[translate_columns[i]])\n",
    "        \n",
    "#         translate_language = 'en'\n",
    "#         translator = Translator(service_urls=['translate.google.com'])\n",
    "#         list_be_translated = translator.translate(list_to_translate, dest=translate_language, src='zh-CN')\n",
    "#         # list_be_translated = translator.translate(list_to_translate, dest=translate_language)\n",
    "#         time.sleep(10)\n",
    "        \n",
    "#         i = 0\n",
    "#         for translate_language in list_be_translated:\n",
    "#             tw_site_product_list_with_selected_columns.at[index, translate_columns[i]] = translate_language.text\n",
    "#             i += 1\n",
    "        \n",
    "#         if (index + 1) % 5 == 0:\n",
    "#             logging.info(str(index + 1) + ' rows have been translated.')\n",
    "            \n",
    "#         tw_site_product_list_with_selected_columns.to_excel(os.path.join(folder_path, 'translated_product_' + d1 + '.xlsx'), index=False)\n",
    "#     except Exception as err:\n",
    "#         logging.warning(str(index + 1) + ' rows have not been translated. Error message: ' + str(err))\n",
    "#         pass"
   ]
  },
  {
   "cell_type": "code",
   "execution_count": 60,
   "metadata": {
    "scrolled": true
   },
   "outputs": [
    {
     "name": "stderr",
     "output_type": "stream",
     "text": [
      " 2019-10-19 15:12:27,856 - INFO - 5 rows have been translated.\n",
      " 2019-10-19 15:13:48,878 - INFO - 10 rows have been translated.\n",
      " 2019-10-19 15:15:09,942 - INFO - 330 rows have been translated.\n",
      " 2019-10-19 15:16:27,816 - INFO - 335 rows have been translated.\n",
      " 2019-10-19 15:17:46,509 - INFO - 340 rows have been translated.\n",
      " 2019-10-19 15:19:06,806 - INFO - 345 rows have been translated.\n",
      " 2019-10-19 15:20:22,958 - INFO - 350 rows have been translated.\n",
      " 2019-10-19 15:21:42,385 - INFO - 355 rows have been translated.\n",
      " 2019-10-19 15:23:01,913 - INFO - 360 rows have been translated.\n",
      " 2019-10-19 15:24:20,256 - INFO - 365 rows have been translated.\n",
      " 2019-10-19 15:25:40,552 - INFO - 370 rows have been translated.\n",
      " 2019-10-19 15:27:03,184 - INFO - 375 rows have been translated.\n",
      " 2019-10-19 15:28:23,512 - INFO - 380 rows have been translated.\n",
      " 2019-10-19 15:29:43,255 - INFO - 385 rows have been translated.\n",
      " 2019-10-19 15:31:03,664 - INFO - 390 rows have been translated.\n",
      " 2019-10-19 15:32:23,751 - INFO - 395 rows have been translated.\n",
      " 2019-10-19 15:33:43,108 - INFO - 400 rows have been translated.\n",
      " 2019-10-19 15:35:05,266 - INFO - 405 rows have been translated.\n",
      " 2019-10-19 15:36:23,900 - INFO - 410 rows have been translated.\n",
      " 2019-10-19 15:37:43,658 - INFO - 415 rows have been translated.\n",
      " 2019-10-19 15:39:00,632 - INFO - 420 rows have been translated.\n",
      " 2019-10-19 15:40:17,493 - INFO - 425 rows have been translated.\n",
      " 2019-10-19 15:41:35,667 - INFO - 430 rows have been translated.\n",
      " 2019-10-19 15:42:55,423 - INFO - 435 rows have been translated.\n",
      " 2019-10-19 15:44:16,324 - INFO - 440 rows have been translated.\n",
      " 2019-10-19 15:45:36,435 - INFO - 445 rows have been translated.\n",
      " 2019-10-19 15:46:54,439 - INFO - 450 rows have been translated.\n",
      " 2019-10-19 15:48:11,402 - INFO - 455 rows have been translated.\n",
      " 2019-10-19 15:49:27,865 - INFO - 460 rows have been translated.\n",
      " 2019-10-19 15:50:44,183 - INFO - 465 rows have been translated.\n",
      " 2019-10-19 15:52:02,283 - INFO - 470 rows have been translated.\n",
      " 2019-10-19 15:53:18,108 - INFO - 475 rows have been translated.\n",
      " 2019-10-19 15:54:37,130 - INFO - 480 rows have been translated.\n",
      " 2019-10-19 15:55:58,838 - INFO - 485 rows have been translated.\n",
      " 2019-10-19 15:57:16,800 - INFO - 490 rows have been translated.\n",
      " 2019-10-19 15:58:34,871 - INFO - 495 rows have been translated.\n",
      " 2019-10-19 15:59:51,165 - INFO - 500 rows have been translated.\n",
      " 2019-10-19 16:01:09,011 - INFO - 505 rows have been translated.\n",
      " 2019-10-19 16:02:25,944 - INFO - 510 rows have been translated.\n",
      " 2019-10-19 16:03:46,602 - INFO - 515 rows have been translated.\n",
      " 2019-10-19 16:05:09,208 - INFO - 520 rows have been translated.\n",
      " 2019-10-19 16:06:29,589 - INFO - 525 rows have been translated.\n",
      " 2019-10-19 16:07:53,315 - INFO - 530 rows have been translated.\n",
      " 2019-10-19 16:09:11,217 - INFO - 535 rows have been translated.\n",
      " 2019-10-19 16:10:29,498 - INFO - 540 rows have been translated.\n",
      " 2019-10-19 16:11:48,301 - INFO - 545 rows have been translated.\n",
      " 2019-10-19 16:13:05,726 - INFO - 550 rows have been translated.\n",
      " 2019-10-19 16:14:23,174 - INFO - 555 rows have been translated.\n",
      " 2019-10-19 16:15:42,591 - INFO - 560 rows have been translated.\n",
      " 2019-10-19 16:17:01,203 - INFO - 565 rows have been translated.\n",
      " 2019-10-19 16:18:19,084 - INFO - 570 rows have been translated.\n",
      " 2019-10-19 16:19:34,869 - INFO - 575 rows have been translated.\n",
      " 2019-10-19 16:20:52,539 - INFO - 580 rows have been translated.\n",
      " 2019-10-19 16:22:10,352 - INFO - 585 rows have been translated.\n",
      " 2019-10-19 16:23:28,275 - INFO - 590 rows have been translated.\n",
      " 2019-10-19 16:24:46,805 - INFO - 595 rows have been translated.\n",
      " 2019-10-19 16:26:04,005 - INFO - 600 rows have been translated.\n",
      " 2019-10-19 16:27:21,120 - INFO - 605 rows have been translated.\n",
      " 2019-10-19 16:28:40,157 - INFO - 610 rows have been translated.\n",
      " 2019-10-19 16:29:59,425 - INFO - 615 rows have been translated.\n",
      " 2019-10-19 16:31:19,201 - INFO - 620 rows have been translated.\n",
      " 2019-10-19 16:32:37,958 - INFO - 625 rows have been translated.\n",
      " 2019-10-19 16:33:56,126 - INFO - 630 rows have been translated.\n",
      " 2019-10-19 16:35:14,083 - INFO - 635 rows have been translated.\n",
      " 2019-10-19 16:36:31,813 - INFO - 640 rows have been translated.\n",
      " 2019-10-19 16:37:51,726 - INFO - 645 rows have been translated.\n",
      " 2019-10-19 16:39:08,952 - INFO - 650 rows have been translated.\n",
      " 2019-10-19 16:40:26,963 - INFO - 655 rows have been translated.\n",
      " 2019-10-19 16:41:43,034 - INFO - 660 rows have been translated.\n",
      " 2019-10-19 16:42:59,804 - INFO - 665 rows have been translated.\n",
      " 2019-10-19 16:44:18,314 - INFO - 670 rows have been translated.\n",
      " 2019-10-19 16:45:38,291 - INFO - 675 rows have been translated.\n",
      " 2019-10-19 16:46:55,715 - INFO - 680 rows have been translated.\n",
      " 2019-10-19 16:48:14,138 - INFO - 685 rows have been translated.\n",
      " 2019-10-19 16:49:32,790 - INFO - 690 rows have been translated.\n",
      " 2019-10-19 16:50:52,130 - INFO - 695 rows have been translated.\n",
      " 2019-10-19 16:52:11,156 - INFO - 700 rows have been translated.\n",
      " 2019-10-19 16:53:27,706 - INFO - 705 rows have been translated.\n",
      " 2019-10-19 16:54:46,392 - INFO - 710 rows have been translated.\n",
      " 2019-10-19 16:56:04,514 - INFO - 715 rows have been translated.\n"
     ]
    }
   ],
   "source": [
    "for index, row in tw_site_product_list_with_selected_columns.iterrows():\n",
    "    translated = 0\n",
    "    while translated == 0:\n",
    "        try:\n",
    "            list_to_translate = []\n",
    "            for i, value in enumerate(translate_columns):\n",
    "                list_to_translate.append(row[translate_columns[i]])\n",
    "\n",
    "            translate_language = 'en'\n",
    "            translator = Translator(service_urls=['translate.google.com'])\n",
    "            list_be_translated = translator.translate(list_to_translate, dest=translate_language, src='zh-CN')\n",
    "            # list_be_translated = translator.translate(list_to_translate, dest=translate_language)\n",
    "            time.sleep(10)\n",
    "\n",
    "            i = 0\n",
    "            for translate_language in list_be_translated:\n",
    "                tw_site_product_list_with_selected_columns.at[index, translate_columns[i]] = translate_language.text\n",
    "                i += 1\n",
    "\n",
    "            if (index + 1) % 5 == 0:\n",
    "                logging.info(str(index + 1) + ' rows have been translated.')\n",
    "\n",
    "            tw_site_product_list_with_selected_columns.to_excel(os.path.join(folder_path, 'translated_product_' + d1 + '(1).xlsx'), index=False)\n",
    "            translated = 1\n",
    "        except Exception as err:\n",
    "            logging.warning(str(index + 1) + ' rows have not been translated. Error message: ' + str(err) + ', try again.')\n",
    "            pass        "
   ]
  },
  {
   "cell_type": "code",
   "execution_count": 61,
   "metadata": {
    "collapsed": true,
    "scrolled": true
   },
   "outputs": [],
   "source": [
    "# for translate_column in translate_columns:\n",
    "#     # tw_site_product_list_with_selected_columns[translate_column] = tw_site_product_list_with_selected_columns[translate_column].fillna(0)\n",
    "#     # tw_site_product_list_with_selected_columns[translate_column]  = [translator.translate(x, dest=translate_language).text \n",
    "#                                                                      # for x in tw_site_product_list_with_selected_columns[translate_column]]\n",
    "#     for index, row in tw_site_product_list_with_selected_columns.iterrows():\n",
    "#         try:\n",
    "#             orginal_text = tw_site_product_list_with_selected_columns.at[index, translate_column]\n",
    "#             tw_site_product_list_with_selected_columns.at[index, translate_column] = translator.translate(row[translate_column], dest=translate_language).text\n",
    "#             # print(row[translate_column])\n",
    "#             logging.info(translate_column + ' - ' + str(index + 1) + ' rows have been translated.')\n",
    "#             # logging.info(orginal_text + ' -> ' + tw_site_product_list_with_selected_columns.at[index, translate_column])\n",
    "#             time.sleep(5)\n",
    "#         except:\n",
    "#             logging.warning(translate_column + ' - ' + str(index + 1) + ' rows have not been translated.')\n",
    "#             pass\n",
    "        \n",
    "#     # print(tw_site_product_list_with_selected_columns.head(5))\n",
    "    \n",
    "#     tw_site_product_list_with_selected_columns.to_excel(os.path.join(folder_path, 'tw_translated_product(1).xlsx'), index=False)\n",
    "#     logging.info(str(translate_column) + ' is done.')"
   ]
  }
 ],
 "metadata": {
  "anaconda-cloud": {},
  "kernelspec": {
   "display_name": "Python [default]",
   "language": "python",
   "name": "python3"
  },
  "language_info": {
   "codemirror_mode": {
    "name": "ipython",
    "version": 3
   },
   "file_extension": ".py",
   "mimetype": "text/x-python",
   "name": "python",
   "nbconvert_exporter": "python",
   "pygments_lexer": "ipython3",
   "version": "3.5.2"
  }
 },
 "nbformat": 4,
 "nbformat_minor": 1
}
