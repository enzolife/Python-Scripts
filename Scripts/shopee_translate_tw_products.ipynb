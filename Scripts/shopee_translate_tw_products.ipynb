{
 "cells": [
  {
   "cell_type": "code",
   "execution_count": 29,
   "metadata": {
    "collapsed": true
   },
   "outputs": [],
   "source": [
    "import pandas as pd\n",
    "import os\n",
    "import time\n",
    "import logging"
   ]
  },
  {
   "cell_type": "code",
   "execution_count": 30,
   "metadata": {
    "collapsed": true
   },
   "outputs": [],
   "source": [
    "logging.basicConfig(level=logging.INFO, format=' %(asctime)s - %(levelname)s - %(message)s')"
   ]
  },
  {
   "cell_type": "code",
   "execution_count": 31,
   "metadata": {
    "collapsed": true
   },
   "outputs": [],
   "source": [
    "folder_path = 'D:\\\\Program Files (x86)\\\\百度云同步盘\\\\Dropbox\\\\-E·J- 2014.5.1\\\\2019.7.24 tengus产品迁移\\\\'\n",
    "tw_site_product_list = pd.read_excel(os.path.join(folder_path, 'tengus台湾站产品.xlsx'))"
   ]
  },
  {
   "cell_type": "code",
   "execution_count": 32,
   "metadata": {
    "collapsed": true
   },
   "outputs": [],
   "source": [
    "# tw_site_product_list.columns"
   ]
  },
  {
   "cell_type": "code",
   "execution_count": 33,
   "metadata": {
    "collapsed": true
   },
   "outputs": [],
   "source": [
    "# tw_site_product_list = tw_site_product_list[tw_site_product_list['产品id'] == 2496637042]"
   ]
  },
  {
   "cell_type": "code",
   "execution_count": 34,
   "metadata": {
    "collapsed": true,
    "scrolled": false
   },
   "outputs": [],
   "source": [
    "# top_cat_in_tw = tw_site_product_list[['分类ID', '产品id']].groupby('分类ID').agg({'产品id': 'nunique'}).reset_index().sort_values(by='产品id', ascending=False).reset_index().head(5)\n",
    "# top_cat_in_tw"
   ]
  },
  {
   "cell_type": "code",
   "execution_count": 35,
   "metadata": {
    "collapsed": true
   },
   "outputs": [],
   "source": [
    "# top_cat_id = top_cat_in_tw['分类ID'][0]\n",
    "# top_cat_id"
   ]
  },
  {
   "cell_type": "code",
   "execution_count": 36,
   "metadata": {
    "collapsed": true
   },
   "outputs": [],
   "source": [
    "output_excel_columns = ['变种名称',\n",
    "                        '变种属性名称一',\n",
    "                        '变种属性名称二',\n",
    "                        '变种属性值一',\n",
    "                        '变种属性值二',\n",
    "                        '*价格（必填）',\n",
    "                        '*库存（必填）',\n",
    "                        '*重量(kg)(必填）',\n",
    "                        '*主图（URL）地址（必填）',\n",
    "                        '附图1',\n",
    "                        '附图2',\n",
    "                        '附图3',\n",
    "                        '附图4',\n",
    "                        '附图5',\n",
    "                        '附图6',\n",
    "                        '附图7',\n",
    "                        '附图8',\n",
    "                        '变种图',\n",
    "                        '长(cm)',\n",
    "                        '宽(cm)',\n",
    "                        '高(cm)',\n",
    "                        '发货期',\n",
    "                        '来源URL',\n",
    "                        '尺码图'\n",
    "]"
   ]
  },
  {
   "cell_type": "code",
   "execution_count": 37,
   "metadata": {
    "collapsed": true
   },
   "outputs": [],
   "source": [
    "tw_site_product_list_selected_columns = ['分类ID', '产品属性', 'Parent SKU', '产品标题', '产品描述', 'sku', '变种名称', '变种属性名称一',\n",
    "       '变种属性名称二', '变种属性值一', '变种属性值二', '价格', '库存', '重量', '主图（URL）地址', '附图1',\n",
    "       '附图2', '附图3', '附图4', '附图5', '附图6', '附图7', '附图8地址', '变种图', '长（cm）',\n",
    "       '宽（cm）', '高（cm）', '发货期', '来源URL', '尺码图']"
   ]
  },
  {
   "cell_type": "code",
   "execution_count": 38,
   "metadata": {},
   "outputs": [
    {
     "data": {
      "text/html": [
       "<div>\n",
       "<table border=\"1\" class=\"dataframe\">\n",
       "  <thead>\n",
       "    <tr style=\"text-align: right;\">\n",
       "      <th></th>\n",
       "      <th>分类ID</th>\n",
       "      <th>产品属性</th>\n",
       "      <th>Parent SKU</th>\n",
       "      <th>产品标题</th>\n",
       "      <th>产品描述</th>\n",
       "      <th>sku</th>\n",
       "      <th>变种名称</th>\n",
       "      <th>变种属性名称一</th>\n",
       "      <th>变种属性名称二</th>\n",
       "      <th>变种属性值一</th>\n",
       "      <th>...</th>\n",
       "      <th>附图6</th>\n",
       "      <th>附图7</th>\n",
       "      <th>附图8地址</th>\n",
       "      <th>变种图</th>\n",
       "      <th>长（cm）</th>\n",
       "      <th>宽（cm）</th>\n",
       "      <th>高（cm）</th>\n",
       "      <th>发货期</th>\n",
       "      <th>来源URL</th>\n",
       "      <th>尺码图</th>\n",
       "    </tr>\n",
       "  </thead>\n",
       "  <tbody>\n",
       "    <tr>\n",
       "      <th>0</th>\n",
       "      <td>9587</td>\n",
       "      <td>NaN</td>\n",
       "      <td>NaN</td>\n",
       "      <td>DANROL婴儿肩扣长袖纯棉三角哈衣纯净色包屁衣连体爬宝宝连体衣</td>\n",
       "      <td>货源类别:现货\\n颜色:浅蓝色,黑色,白色,红色,灰色,宝蓝,粉色\\n产品类别:连身衣、爬服...</td>\n",
       "      <td>浅蓝色3M（59cm）</td>\n",
       "      <td>浅蓝色3M（59cm）</td>\n",
       "      <td>颜色</td>\n",
       "      <td>适合身高</td>\n",
       "      <td>浅蓝色</td>\n",
       "      <td>...</td>\n",
       "      <td>https://cbu01.alicdn.com/img/ibank/2019/184/09...</td>\n",
       "      <td>https://cbu01.alicdn.com/img/ibank/2019/302/29...</td>\n",
       "      <td>https://cbu01.alicdn.com/img/ibank/2019/775/95...</td>\n",
       "      <td>https://cbu01.alicdn.com/img/ibank/2019/554/86...</td>\n",
       "      <td>NaN</td>\n",
       "      <td>NaN</td>\n",
       "      <td>NaN</td>\n",
       "      <td>NaN</td>\n",
       "      <td>https://detail.1688.com/offer/564351575101.htm...</td>\n",
       "      <td>NaN</td>\n",
       "    </tr>\n",
       "    <tr>\n",
       "      <th>1</th>\n",
       "      <td>9587</td>\n",
       "      <td>NaN</td>\n",
       "      <td>NaN</td>\n",
       "      <td>DANROL婴儿肩扣长袖纯棉三角哈衣纯净色包屁衣连体爬宝宝连体衣</td>\n",
       "      <td>货源类别:现货\\n颜色:浅蓝色,黑色,白色,红色,灰色,宝蓝,粉色\\n产品类别:连身衣、爬服...</td>\n",
       "      <td>浅蓝色6M（66cm）</td>\n",
       "      <td>浅蓝色6M（66cm）</td>\n",
       "      <td>颜色</td>\n",
       "      <td>适合身高</td>\n",
       "      <td>浅蓝色</td>\n",
       "      <td>...</td>\n",
       "      <td>https://cbu01.alicdn.com/img/ibank/2019/184/09...</td>\n",
       "      <td>https://cbu01.alicdn.com/img/ibank/2019/302/29...</td>\n",
       "      <td>https://cbu01.alicdn.com/img/ibank/2019/775/95...</td>\n",
       "      <td>https://cbu01.alicdn.com/img/ibank/2019/554/86...</td>\n",
       "      <td>NaN</td>\n",
       "      <td>NaN</td>\n",
       "      <td>NaN</td>\n",
       "      <td>NaN</td>\n",
       "      <td>https://detail.1688.com/offer/564351575101.htm...</td>\n",
       "      <td>NaN</td>\n",
       "    </tr>\n",
       "    <tr>\n",
       "      <th>2</th>\n",
       "      <td>9587</td>\n",
       "      <td>NaN</td>\n",
       "      <td>NaN</td>\n",
       "      <td>DANROL婴儿肩扣长袖纯棉三角哈衣纯净色包屁衣连体爬宝宝连体衣</td>\n",
       "      <td>货源类别:现货\\n颜色:浅蓝色,黑色,白色,红色,灰色,宝蓝,粉色\\n产品类别:连身衣、爬服...</td>\n",
       "      <td>浅蓝色9M（73cm）</td>\n",
       "      <td>浅蓝色9M（73cm）</td>\n",
       "      <td>颜色</td>\n",
       "      <td>适合身高</td>\n",
       "      <td>浅蓝色</td>\n",
       "      <td>...</td>\n",
       "      <td>https://cbu01.alicdn.com/img/ibank/2019/184/09...</td>\n",
       "      <td>https://cbu01.alicdn.com/img/ibank/2019/302/29...</td>\n",
       "      <td>https://cbu01.alicdn.com/img/ibank/2019/775/95...</td>\n",
       "      <td>https://cbu01.alicdn.com/img/ibank/2019/554/86...</td>\n",
       "      <td>NaN</td>\n",
       "      <td>NaN</td>\n",
       "      <td>NaN</td>\n",
       "      <td>NaN</td>\n",
       "      <td>https://detail.1688.com/offer/564351575101.htm...</td>\n",
       "      <td>NaN</td>\n",
       "    </tr>\n",
       "    <tr>\n",
       "      <th>3</th>\n",
       "      <td>9587</td>\n",
       "      <td>NaN</td>\n",
       "      <td>NaN</td>\n",
       "      <td>DANROL婴儿肩扣长袖纯棉三角哈衣纯净色包屁衣连体爬宝宝连体衣</td>\n",
       "      <td>货源类别:现货\\n颜色:浅蓝色,黑色,白色,红色,灰色,宝蓝,粉色\\n产品类别:连身衣、爬服...</td>\n",
       "      <td>浅蓝色12M（80cm）</td>\n",
       "      <td>浅蓝色12M（80cm）</td>\n",
       "      <td>颜色</td>\n",
       "      <td>适合身高</td>\n",
       "      <td>浅蓝色</td>\n",
       "      <td>...</td>\n",
       "      <td>https://cbu01.alicdn.com/img/ibank/2019/184/09...</td>\n",
       "      <td>https://cbu01.alicdn.com/img/ibank/2019/302/29...</td>\n",
       "      <td>https://cbu01.alicdn.com/img/ibank/2019/775/95...</td>\n",
       "      <td>https://cbu01.alicdn.com/img/ibank/2019/554/86...</td>\n",
       "      <td>NaN</td>\n",
       "      <td>NaN</td>\n",
       "      <td>NaN</td>\n",
       "      <td>NaN</td>\n",
       "      <td>https://detail.1688.com/offer/564351575101.htm...</td>\n",
       "      <td>NaN</td>\n",
       "    </tr>\n",
       "    <tr>\n",
       "      <th>4</th>\n",
       "      <td>9587</td>\n",
       "      <td>NaN</td>\n",
       "      <td>NaN</td>\n",
       "      <td>DANROL婴儿肩扣长袖纯棉三角哈衣纯净色包屁衣连体爬宝宝连体衣</td>\n",
       "      <td>货源类别:现货\\n颜色:浅蓝色,黑色,白色,红色,灰色,宝蓝,粉色\\n产品类别:连身衣、爬服...</td>\n",
       "      <td>浅蓝色18M（85cm）</td>\n",
       "      <td>浅蓝色18M（85cm）</td>\n",
       "      <td>颜色</td>\n",
       "      <td>适合身高</td>\n",
       "      <td>浅蓝色</td>\n",
       "      <td>...</td>\n",
       "      <td>https://cbu01.alicdn.com/img/ibank/2019/184/09...</td>\n",
       "      <td>https://cbu01.alicdn.com/img/ibank/2019/302/29...</td>\n",
       "      <td>https://cbu01.alicdn.com/img/ibank/2019/775/95...</td>\n",
       "      <td>https://cbu01.alicdn.com/img/ibank/2019/554/86...</td>\n",
       "      <td>NaN</td>\n",
       "      <td>NaN</td>\n",
       "      <td>NaN</td>\n",
       "      <td>NaN</td>\n",
       "      <td>https://detail.1688.com/offer/564351575101.htm...</td>\n",
       "      <td>NaN</td>\n",
       "    </tr>\n",
       "  </tbody>\n",
       "</table>\n",
       "<p>5 rows × 30 columns</p>\n",
       "</div>"
      ],
      "text/plain": [
       "   分类ID  产品属性  Parent SKU                              产品标题  \\\n",
       "0  9587   NaN         NaN  DANROL婴儿肩扣长袖纯棉三角哈衣纯净色包屁衣连体爬宝宝连体衣   \n",
       "1  9587   NaN         NaN  DANROL婴儿肩扣长袖纯棉三角哈衣纯净色包屁衣连体爬宝宝连体衣   \n",
       "2  9587   NaN         NaN  DANROL婴儿肩扣长袖纯棉三角哈衣纯净色包屁衣连体爬宝宝连体衣   \n",
       "3  9587   NaN         NaN  DANROL婴儿肩扣长袖纯棉三角哈衣纯净色包屁衣连体爬宝宝连体衣   \n",
       "4  9587   NaN         NaN  DANROL婴儿肩扣长袖纯棉三角哈衣纯净色包屁衣连体爬宝宝连体衣   \n",
       "\n",
       "                                                产品描述           sku  \\\n",
       "0  货源类别:现货\\n颜色:浅蓝色,黑色,白色,红色,灰色,宝蓝,粉色\\n产品类别:连身衣、爬服...   浅蓝色3M（59cm）   \n",
       "1  货源类别:现货\\n颜色:浅蓝色,黑色,白色,红色,灰色,宝蓝,粉色\\n产品类别:连身衣、爬服...   浅蓝色6M（66cm）   \n",
       "2  货源类别:现货\\n颜色:浅蓝色,黑色,白色,红色,灰色,宝蓝,粉色\\n产品类别:连身衣、爬服...   浅蓝色9M（73cm）   \n",
       "3  货源类别:现货\\n颜色:浅蓝色,黑色,白色,红色,灰色,宝蓝,粉色\\n产品类别:连身衣、爬服...  浅蓝色12M（80cm）   \n",
       "4  货源类别:现货\\n颜色:浅蓝色,黑色,白色,红色,灰色,宝蓝,粉色\\n产品类别:连身衣、爬服...  浅蓝色18M（85cm）   \n",
       "\n",
       "           变种名称 变种属性名称一 变种属性名称二 变种属性值一 ...  \\\n",
       "0   浅蓝色3M（59cm）      颜色    适合身高    浅蓝色 ...   \n",
       "1   浅蓝色6M（66cm）      颜色    适合身高    浅蓝色 ...   \n",
       "2   浅蓝色9M（73cm）      颜色    适合身高    浅蓝色 ...   \n",
       "3  浅蓝色12M（80cm）      颜色    适合身高    浅蓝色 ...   \n",
       "4  浅蓝色18M（85cm）      颜色    适合身高    浅蓝色 ...   \n",
       "\n",
       "                                                 附图6  \\\n",
       "0  https://cbu01.alicdn.com/img/ibank/2019/184/09...   \n",
       "1  https://cbu01.alicdn.com/img/ibank/2019/184/09...   \n",
       "2  https://cbu01.alicdn.com/img/ibank/2019/184/09...   \n",
       "3  https://cbu01.alicdn.com/img/ibank/2019/184/09...   \n",
       "4  https://cbu01.alicdn.com/img/ibank/2019/184/09...   \n",
       "\n",
       "                                                 附图7  \\\n",
       "0  https://cbu01.alicdn.com/img/ibank/2019/302/29...   \n",
       "1  https://cbu01.alicdn.com/img/ibank/2019/302/29...   \n",
       "2  https://cbu01.alicdn.com/img/ibank/2019/302/29...   \n",
       "3  https://cbu01.alicdn.com/img/ibank/2019/302/29...   \n",
       "4  https://cbu01.alicdn.com/img/ibank/2019/302/29...   \n",
       "\n",
       "                                               附图8地址  \\\n",
       "0  https://cbu01.alicdn.com/img/ibank/2019/775/95...   \n",
       "1  https://cbu01.alicdn.com/img/ibank/2019/775/95...   \n",
       "2  https://cbu01.alicdn.com/img/ibank/2019/775/95...   \n",
       "3  https://cbu01.alicdn.com/img/ibank/2019/775/95...   \n",
       "4  https://cbu01.alicdn.com/img/ibank/2019/775/95...   \n",
       "\n",
       "                                                 变种图 长（cm） 宽（cm） 高（cm） 发货期  \\\n",
       "0  https://cbu01.alicdn.com/img/ibank/2019/554/86...   NaN   NaN   NaN NaN   \n",
       "1  https://cbu01.alicdn.com/img/ibank/2019/554/86...   NaN   NaN   NaN NaN   \n",
       "2  https://cbu01.alicdn.com/img/ibank/2019/554/86...   NaN   NaN   NaN NaN   \n",
       "3  https://cbu01.alicdn.com/img/ibank/2019/554/86...   NaN   NaN   NaN NaN   \n",
       "4  https://cbu01.alicdn.com/img/ibank/2019/554/86...   NaN   NaN   NaN NaN   \n",
       "\n",
       "                                               来源URL 尺码图  \n",
       "0  https://detail.1688.com/offer/564351575101.htm... NaN  \n",
       "1  https://detail.1688.com/offer/564351575101.htm... NaN  \n",
       "2  https://detail.1688.com/offer/564351575101.htm... NaN  \n",
       "3  https://detail.1688.com/offer/564351575101.htm... NaN  \n",
       "4  https://detail.1688.com/offer/564351575101.htm... NaN  \n",
       "\n",
       "[5 rows x 30 columns]"
      ]
     },
     "execution_count": 38,
     "metadata": {},
     "output_type": "execute_result"
    }
   ],
   "source": [
    "tw_site_product_list_with_selected_columns = tw_site_product_list[tw_site_product_list_selected_columns]\n",
    "tw_site_product_list_with_selected_columns.head(5)"
   ]
  },
  {
   "cell_type": "code",
   "execution_count": 39,
   "metadata": {
    "collapsed": true
   },
   "outputs": [],
   "source": [
    "# tw_site_product_list_with_selected_columns = tw_site_product_list_with_selected_columns[tw_site_product_list_with_selected_columns['分类ID'] == top_cat_id].reset_index()\n",
    "# tw_site_product_list_with_selected_columns"
   ]
  },
  {
   "cell_type": "code",
   "execution_count": 40,
   "metadata": {},
   "outputs": [
    {
     "name": "stderr",
     "output_type": "stream",
     "text": [
      "C:\\Users\\kuang\\Anaconda3\\lib\\site-packages\\ipykernel\\__main__.py:2: SettingWithCopyWarning: \n",
      "A value is trying to be set on a copy of a slice from a DataFrame.\n",
      "Try using .loc[row_indexer,col_indexer] = value instead\n",
      "\n",
      "See the caveats in the documentation: http://pandas.pydata.org/pandas-docs/stable/indexing.html#indexing-view-versus-copy\n",
      "  from ipykernel import kernelapp as app\n"
     ]
    }
   ],
   "source": [
    "# 把1688的来源url拆出来，把productid填充为parent sku\n",
    "tw_site_product_list_with_selected_columns['Parent SKU'] = tw_site_product_list_with_selected_columns['来源URL'].str.split(\"/\", n = 4, expand = True)[4].str.split(\".\", n = 1, expand=True)[0]\n",
    "# tw_site_product_list_with_selected_columns.head(5)"
   ]
  },
  {
   "cell_type": "code",
   "execution_count": 41,
   "metadata": {},
   "outputs": [
    {
     "data": {
      "text/plain": [
       "'ins爆款 胡蘿卜寶寶針織竹節棉爬服 嬰兒兔裝 嬰兒連身衣 寶寶包屁衣連身衣 中間開襟包屁衣 寶寶連體衣哈衣爬服'"
      ]
     },
     "execution_count": 41,
     "metadata": {},
     "output_type": "execute_result"
    }
   ],
   "source": [
    "# remove emoji\n",
    "import re\n",
    "\n",
    "emoji_pattern = re.compile(\n",
    "                u'['\n",
    "                u'\\U0001F300-\\U0001F64F'\n",
    "                u'\\U0001F680-\\U0001F6FF'\n",
    "                u'\\u2600-\\u2B55'\n",
    "                u'\\u23cf'\n",
    "                u'\\u23e9'\n",
    "                u'\\u231a'\n",
    "                u'\\u3030'\n",
    "                u'\\ufe0f'\n",
    "                u\"\\U0001F600-\\U0001F64F\"  # emoticons\n",
    "                u\"\\U0001F300-\\U0001F5FF\"  # symbols & pictographs\n",
    "                u'\\U00010000-\\U0010ffff'\n",
    "                u'\\U0001F1E0-\\U0001F1FF'  # flags (iOS)\n",
    "                u'\\U00002702-\\U000027B0]+', flags=re.UNICODE)\n",
    "\n",
    "def remove_emoji(text):\n",
    "    return emoji_pattern.sub(r'', text)\n",
    "\n",
    "remove_emoji('ins爆款 🥕胡蘿卜🥕寶寶針織竹節棉爬服 嬰兒兔裝 嬰兒連身衣 寶寶包屁衣連身衣 中間開襟包屁衣 寶寶連體衣哈衣爬服')"
   ]
  },
  {
   "cell_type": "code",
   "execution_count": 42,
   "metadata": {},
   "outputs": [
    {
     "name": "stderr",
     "output_type": "stream",
     "text": [
      "C:\\Users\\kuang\\Anaconda3\\lib\\site-packages\\ipykernel\\__main__.py:1: SettingWithCopyWarning: \n",
      "A value is trying to be set on a copy of a slice from a DataFrame.\n",
      "Try using .loc[row_indexer,col_indexer] = value instead\n",
      "\n",
      "See the caveats in the documentation: http://pandas.pydata.org/pandas-docs/stable/indexing.html#indexing-view-versus-copy\n",
      "  if __name__ == '__main__':\n",
      "C:\\Users\\kuang\\Anaconda3\\lib\\site-packages\\ipykernel\\__main__.py:2: SettingWithCopyWarning: \n",
      "A value is trying to be set on a copy of a slice from a DataFrame.\n",
      "Try using .loc[row_indexer,col_indexer] = value instead\n",
      "\n",
      "See the caveats in the documentation: http://pandas.pydata.org/pandas-docs/stable/indexing.html#indexing-view-versus-copy\n",
      "  from ipykernel import kernelapp as app\n"
     ]
    }
   ],
   "source": [
    "tw_site_product_list_with_selected_columns['产品标题'] = [remove_emoji(x) for x in tw_site_product_list_with_selected_columns['产品标题']]\n",
    "tw_site_product_list_with_selected_columns['产品描述'] = [remove_emoji(x) for x in tw_site_product_list_with_selected_columns['产品描述']]"
   ]
  },
  {
   "cell_type": "code",
   "execution_count": 43,
   "metadata": {},
   "outputs": [
    {
     "name": "stderr",
     "output_type": "stream",
     "text": [
      "C:\\Users\\kuang\\Anaconda3\\lib\\site-packages\\ipykernel\\__main__.py:1: SettingWithCopyWarning: \n",
      "A value is trying to be set on a copy of a slice from a DataFrame.\n",
      "Try using .loc[row_indexer,col_indexer] = value instead\n",
      "\n",
      "See the caveats in the documentation: http://pandas.pydata.org/pandas-docs/stable/indexing.html#indexing-view-versus-copy\n",
      "  if __name__ == '__main__':\n",
      "C:\\Users\\kuang\\Anaconda3\\lib\\site-packages\\ipykernel\\__main__.py:2: SettingWithCopyWarning: \n",
      "A value is trying to be set on a copy of a slice from a DataFrame.\n",
      "Try using .loc[row_indexer,col_indexer] = value instead\n",
      "\n",
      "See the caveats in the documentation: http://pandas.pydata.org/pandas-docs/stable/indexing.html#indexing-view-versus-copy\n",
      "  from ipykernel import kernelapp as app\n",
      "C:\\Users\\kuang\\Anaconda3\\lib\\site-packages\\ipykernel\\__main__.py:3: SettingWithCopyWarning: \n",
      "A value is trying to be set on a copy of a slice from a DataFrame.\n",
      "Try using .loc[row_indexer,col_indexer] = value instead\n",
      "\n",
      "See the caveats in the documentation: http://pandas.pydata.org/pandas-docs/stable/indexing.html#indexing-view-versus-copy\n",
      "  app.launch_new_instance()\n",
      "C:\\Users\\kuang\\Anaconda3\\lib\\site-packages\\ipykernel\\__main__.py:4: SettingWithCopyWarning: \n",
      "A value is trying to be set on a copy of a slice from a DataFrame.\n",
      "Try using .loc[row_indexer,col_indexer] = value instead\n",
      "\n",
      "See the caveats in the documentation: http://pandas.pydata.org/pandas-docs/stable/indexing.html#indexing-view-versus-copy\n"
     ]
    }
   ],
   "source": [
    "tw_site_product_list_with_selected_columns['长（cm）'] = tw_site_product_list_with_selected_columns['长（cm）'].fillna(18)\n",
    "tw_site_product_list_with_selected_columns['宽（cm）'] = tw_site_product_list_with_selected_columns['宽（cm）'].fillna(13)\n",
    "tw_site_product_list_with_selected_columns['高（cm）'] = tw_site_product_list_with_selected_columns['高（cm）'].fillna(5)\n",
    "tw_site_product_list_with_selected_columns['发货期'] = tw_site_product_list_with_selected_columns['发货期'].fillna(2)"
   ]
  },
  {
   "cell_type": "code",
   "execution_count": 44,
   "metadata": {},
   "outputs": [
    {
     "name": "stderr",
     "output_type": "stream",
     "text": [
      "C:\\Users\\kuang\\Anaconda3\\lib\\site-packages\\ipykernel\\__main__.py:3: SettingWithCopyWarning: \n",
      "A value is trying to be set on a copy of a slice from a DataFrame.\n",
      "Try using .loc[row_indexer,col_indexer] = value instead\n",
      "\n",
      "See the caveats in the documentation: http://pandas.pydata.org/pandas-docs/stable/indexing.html#indexing-view-versus-copy\n",
      "  app.launch_new_instance()\n"
     ]
    }
   ],
   "source": [
    "translate_currency = 1\n",
    "profit_rate = 1.1\n",
    "tw_site_product_list_with_selected_columns['价格'] = tw_site_product_list_with_selected_columns['价格'] * translate_currency / profit_rate"
   ]
  },
  {
   "cell_type": "code",
   "execution_count": 45,
   "metadata": {
    "collapsed": true
   },
   "outputs": [],
   "source": [
    "# tw_site_product_list_with_selected_columns.head(5)"
   ]
  },
  {
   "cell_type": "code",
   "execution_count": 46,
   "metadata": {
    "collapsed": true
   },
   "outputs": [],
   "source": [
    "from googletrans import Translator"
   ]
  },
  {
   "cell_type": "code",
   "execution_count": 47,
   "metadata": {},
   "outputs": [
    {
     "data": {
      "text/plain": [
       "'한국'"
      ]
     },
     "execution_count": 47,
     "metadata": {},
     "output_type": "execute_result"
    }
   ],
   "source": [
    "translator = Translator(service_urls=[\n",
    "      'translate.google.com',\n",
    "      'translate.google.co.kr',\n",
    "    ])\n",
    "translator.translate('韩国', dest='ko').text"
   ]
  },
  {
   "cell_type": "code",
   "execution_count": 48,
   "metadata": {
    "collapsed": true
   },
   "outputs": [],
   "source": [
    "# translations = translator.translate(['The quick brown fox', 'jumps over', 'the lazy dog'], dest='ko')\n",
    "# for translation in translations:\n",
    "#     print(translation.origin, ' -> ', translation.text)"
   ]
  },
  {
   "cell_type": "code",
   "execution_count": 49,
   "metadata": {
    "collapsed": true
   },
   "outputs": [],
   "source": [
    "translate_columns = ['产品标题', '产品描述', '变种名称', '变种属性名称一', '变种属性名称二', '变种属性值一', '变种属性值二']\n",
    "# translate_columns = ['产品标题']\n",
    "# translate_columns = ['产品描述', '变种名称', '变种属性名称一', '变种属性名称二', '变种属性值一', '变种属性值二']"
   ]
  },
  {
   "cell_type": "code",
   "execution_count": 50,
   "metadata": {},
   "outputs": [
    {
     "name": "stderr",
     "output_type": "stream",
     "text": [
      "C:\\Users\\kuang\\Anaconda3\\lib\\site-packages\\pandas\\core\\frame.py:2378: SettingWithCopyWarning: \n",
      "A value is trying to be set on a copy of a slice from a DataFrame.\n",
      "Try using .loc[row_indexer,col_indexer] = value instead\n",
      "\n",
      "See the caveats in the documentation: http://pandas.pydata.org/pandas-docs/stable/indexing.html#indexing-view-versus-copy\n",
      "  self[k1] = value[k2]\n"
     ]
    }
   ],
   "source": [
    "# 把空值填充为string格式\n",
    "tw_site_product_list_with_selected_columns[translate_columns] = tw_site_product_list_with_selected_columns[translate_columns].fillna(value='不需翻译')"
   ]
  },
  {
   "cell_type": "code",
   "execution_count": 51,
   "metadata": {},
   "outputs": [
    {
     "name": "stderr",
     "output_type": "stream",
     "text": [
      " 2019-08-31 23:24:38,008 - INFO - variation list: {'规格', '颜色', '童袜尺码', '文胸尺码', '规格（长*宽cm）', 'สเปค', '不需翻译', '尺码', '尺寸', '适合身高', 'สี'}\n"
     ]
    }
   ],
   "source": [
    "# 把variation_name做一些删减\n",
    "variation_list = set(list(tw_site_product_list_with_selected_columns['变种属性名称一'].unique()) + list(tw_site_product_list_with_selected_columns['变种属性名称二'].unique()))\n",
    "logging.info('variation list: ' + str(variation_list))"
   ]
  },
  {
   "cell_type": "code",
   "execution_count": 52,
   "metadata": {},
   "outputs": [
    {
     "name": "stderr",
     "output_type": "stream",
     "text": [
      "C:\\Users\\kuang\\Anaconda3\\lib\\site-packages\\ipykernel\\__main__.py:2: SettingWithCopyWarning: \n",
      "A value is trying to be set on a copy of a slice from a DataFrame.\n",
      "Try using .loc[row_indexer,col_indexer] = value instead\n",
      "\n",
      "See the caveats in the documentation: http://pandas.pydata.org/pandas-docs/stable/indexing.html#indexing-view-versus-copy\n",
      "  from ipykernel import kernelapp as app\n",
      "C:\\Users\\kuang\\Anaconda3\\lib\\site-packages\\ipykernel\\__main__.py:3: SettingWithCopyWarning: \n",
      "A value is trying to be set on a copy of a slice from a DataFrame.\n",
      "Try using .loc[row_indexer,col_indexer] = value instead\n",
      "\n",
      "See the caveats in the documentation: http://pandas.pydata.org/pandas-docs/stable/indexing.html#indexing-view-versus-copy\n",
      "  app.launch_new_instance()\n"
     ]
    }
   ],
   "source": [
    "variation_rename = {'适合身高': '身高', '童袜尺码': '尺码', '不需翻译': 'not set'}\n",
    "tw_site_product_list_with_selected_columns['变种属性名称一'] = tw_site_product_list_with_selected_columns['变种属性名称一'].apply(lambda x: variation_rename[x] if x in variation_rename else x)\n",
    "tw_site_product_list_with_selected_columns['变种属性名称二'] = tw_site_product_list_with_selected_columns['变种属性名称二'].apply(lambda x: variation_rename[x] if x in variation_rename else x)"
   ]
  },
  {
   "cell_type": "code",
   "execution_count": 53,
   "metadata": {
    "collapsed": true
   },
   "outputs": [],
   "source": [
    "# 对variation_value做一些删减\n",
    "# variation_value_list = set(list(tw_site_product_list_with_selected_columns['变种属性值一'].unique()) + list(tw_site_product_list_with_selected_columns['变种属性值一'].unique()))\n",
    "# logging.info('variation value list: ' + str(variation_value_list))"
   ]
  },
  {
   "cell_type": "code",
   "execution_count": 54,
   "metadata": {
    "collapsed": true
   },
   "outputs": [],
   "source": [
    "tw_site_product_list_with_selected_columns = tw_site_product_list_with_selected_columns[1589:]\n",
    "# # tw_site_product_list_with_selected_columns"
   ]
  },
  {
   "cell_type": "code",
   "execution_count": 55,
   "metadata": {
    "scrolled": true
   },
   "outputs": [
    {
     "name": "stderr",
     "output_type": "stream",
     "text": [
      " 2019-08-31 23:24:52,250 - INFO - 1590 rows have been translated.\n",
      " 2019-08-31 23:26:16,460 - INFO - 1595 rows have been translated.\n",
      " 2019-08-31 23:27:37,759 - INFO - 1600 rows have been translated.\n",
      " 2019-08-31 23:33:38,040 - WARNING - 1604 rows have not been translated. Error message: ('Connection broken: IncompleteRead(7614 bytes read, 2626 more expected)', IncompleteRead(7614 bytes read, 2626 more expected))\n",
      " 2019-08-31 23:33:58,340 - INFO - 1605 rows have been translated.\n",
      " 2019-08-31 23:35:50,337 - INFO - 1610 rows have been translated.\n",
      " 2019-08-31 23:37:08,276 - INFO - 1615 rows have been translated.\n",
      " 2019-08-31 23:38:28,028 - INFO - 1620 rows have been translated.\n",
      " 2019-08-31 23:39:48,191 - INFO - 1625 rows have been translated.\n",
      " 2019-08-31 23:41:04,265 - INFO - 1630 rows have been translated.\n",
      " 2019-08-31 23:42:30,979 - INFO - 1635 rows have been translated.\n",
      " 2019-08-31 23:43:58,219 - INFO - 1640 rows have been translated.\n",
      " 2019-08-31 23:45:21,831 - INFO - 1645 rows have been translated.\n",
      " 2019-08-31 23:46:38,610 - INFO - 1650 rows have been translated.\n",
      " 2019-08-31 23:47:57,279 - INFO - 1655 rows have been translated.\n",
      " 2019-08-31 23:49:16,241 - INFO - 1660 rows have been translated.\n",
      " 2019-08-31 23:50:41,272 - INFO - 1665 rows have been translated.\n",
      " 2019-08-31 23:51:57,474 - INFO - 1670 rows have been translated.\n",
      " 2019-08-31 23:53:21,712 - INFO - 1675 rows have been translated.\n",
      " 2019-08-31 23:54:41,818 - INFO - 1680 rows have been translated.\n",
      " 2019-08-31 23:56:02,433 - INFO - 1685 rows have been translated.\n",
      " 2019-08-31 23:57:20,795 - INFO - 1690 rows have been translated.\n",
      " 2019-08-31 23:58:43,956 - INFO - 1695 rows have been translated.\n",
      " 2019-09-01 00:00:01,791 - INFO - 1700 rows have been translated.\n",
      " 2019-09-01 00:01:28,314 - INFO - 1705 rows have been translated.\n",
      " 2019-09-01 00:02:45,758 - INFO - 1710 rows have been translated.\n",
      " 2019-09-01 00:04:10,864 - INFO - 1715 rows have been translated.\n",
      " 2019-09-01 00:05:29,589 - INFO - 1720 rows have been translated.\n",
      " 2019-09-01 00:06:47,300 - INFO - 1725 rows have been translated.\n",
      " 2019-09-01 00:08:06,037 - INFO - 1730 rows have been translated.\n",
      " 2019-09-01 00:09:22,064 - INFO - 1735 rows have been translated.\n",
      " 2019-09-01 00:10:39,614 - INFO - 1740 rows have been translated.\n",
      " 2019-09-01 00:12:00,225 - INFO - 1745 rows have been translated.\n",
      " 2019-09-01 00:13:17,645 - INFO - 1750 rows have been translated.\n",
      " 2019-09-01 00:14:36,264 - INFO - 1755 rows have been translated.\n",
      " 2019-09-01 00:15:58,024 - INFO - 1760 rows have been translated.\n",
      " 2019-09-01 00:17:16,767 - INFO - 1765 rows have been translated.\n",
      " 2019-09-01 00:18:35,330 - INFO - 1770 rows have been translated.\n",
      " 2019-09-01 00:19:58,435 - INFO - 1775 rows have been translated.\n",
      " 2019-09-01 00:21:14,335 - INFO - 1780 rows have been translated.\n",
      " 2019-09-01 00:22:29,215 - INFO - 1785 rows have been translated.\n",
      " 2019-09-01 00:23:44,349 - INFO - 1790 rows have been translated.\n",
      " 2019-09-01 00:24:58,509 - INFO - 1795 rows have been translated.\n",
      " 2019-09-01 00:26:18,148 - INFO - 1800 rows have been translated.\n",
      " 2019-09-01 00:27:37,790 - INFO - 1805 rows have been translated.\n",
      " 2019-09-01 00:28:53,374 - INFO - 1810 rows have been translated.\n",
      " 2019-09-01 00:30:15,234 - INFO - 1815 rows have been translated.\n",
      " 2019-09-01 00:31:31,703 - INFO - 1820 rows have been translated.\n",
      " 2019-09-01 00:32:45,539 - INFO - 1825 rows have been translated.\n",
      " 2019-09-01 00:34:02,865 - INFO - 1830 rows have been translated.\n",
      " 2019-09-01 00:35:14,923 - INFO - 1835 rows have been translated.\n",
      " 2019-09-01 00:36:29,353 - INFO - 1840 rows have been translated.\n",
      " 2019-09-01 00:37:42,516 - INFO - 1845 rows have been translated.\n",
      " 2019-09-01 00:38:58,621 - INFO - 1850 rows have been translated.\n",
      " 2019-09-01 00:40:11,497 - INFO - 1855 rows have been translated.\n",
      " 2019-09-01 00:41:29,415 - INFO - 1860 rows have been translated.\n",
      " 2019-09-01 00:42:42,290 - INFO - 1865 rows have been translated.\n",
      " 2019-09-01 00:43:56,288 - INFO - 1870 rows have been translated.\n",
      " 2019-09-01 00:45:11,373 - INFO - 1875 rows have been translated.\n",
      " 2019-09-01 00:46:24,466 - INFO - 1880 rows have been translated.\n",
      " 2019-09-01 00:47:37,626 - INFO - 1885 rows have been translated.\n",
      " 2019-09-01 00:48:50,677 - INFO - 1890 rows have been translated.\n",
      " 2019-09-01 00:50:08,024 - INFO - 1895 rows have been translated.\n",
      " 2019-09-01 00:51:22,576 - INFO - 1900 rows have been translated.\n",
      " 2019-09-01 00:52:41,493 - INFO - 1905 rows have been translated.\n",
      " 2019-09-01 00:53:54,244 - INFO - 1910 rows have been translated.\n",
      " 2019-09-01 00:55:07,721 - INFO - 1915 rows have been translated.\n",
      " 2019-09-01 00:56:22,428 - INFO - 1920 rows have been translated.\n",
      " 2019-09-01 00:57:34,435 - INFO - 1925 rows have been translated.\n",
      " 2019-09-01 00:58:50,998 - INFO - 1930 rows have been translated.\n",
      " 2019-09-01 01:00:05,269 - INFO - 1935 rows have been translated.\n",
      " 2019-09-01 01:01:17,453 - INFO - 1940 rows have been translated.\n",
      " 2019-09-01 01:02:32,906 - INFO - 1945 rows have been translated.\n",
      " 2019-09-01 01:03:45,245 - INFO - 1950 rows have been translated.\n",
      " 2019-09-01 01:04:56,529 - INFO - 1955 rows have been translated.\n",
      " 2019-09-01 01:06:10,139 - INFO - 1960 rows have been translated.\n",
      " 2019-09-01 01:07:22,706 - INFO - 1965 rows have been translated.\n",
      " 2019-09-01 01:08:35,822 - INFO - 1970 rows have been translated.\n",
      " 2019-09-01 01:09:48,103 - INFO - 1975 rows have been translated.\n",
      " 2019-09-01 01:11:00,748 - INFO - 1980 rows have been translated.\n",
      " 2019-09-01 01:12:14,821 - INFO - 1985 rows have been translated.\n",
      " 2019-09-01 01:13:27,427 - INFO - 1990 rows have been translated.\n",
      " 2019-09-01 01:14:51,506 - INFO - 1995 rows have been translated.\n",
      " 2019-09-01 01:16:08,066 - INFO - 2000 rows have been translated.\n",
      " 2019-09-01 01:17:22,278 - INFO - 2005 rows have been translated.\n",
      " 2019-09-01 01:18:35,848 - INFO - 2010 rows have been translated.\n",
      " 2019-09-01 01:19:48,284 - INFO - 2015 rows have been translated.\n",
      " 2019-09-01 01:21:03,005 - INFO - 2020 rows have been translated.\n",
      " 2019-09-01 01:22:15,378 - INFO - 2025 rows have been translated.\n",
      " 2019-09-01 01:23:27,489 - INFO - 2030 rows have been translated.\n",
      " 2019-09-01 01:24:40,497 - INFO - 2035 rows have been translated.\n",
      " 2019-09-01 01:25:51,807 - INFO - 2040 rows have been translated.\n",
      " 2019-09-01 01:27:05,407 - INFO - 2045 rows have been translated.\n",
      " 2019-09-01 01:28:18,394 - INFO - 2050 rows have been translated.\n",
      " 2019-09-01 01:29:31,380 - INFO - 2055 rows have been translated.\n",
      " 2019-09-01 01:30:45,554 - INFO - 2060 rows have been translated.\n",
      " 2019-09-01 01:31:56,459 - INFO - 2065 rows have been translated.\n",
      " 2019-09-01 01:33:10,067 - INFO - 2070 rows have been translated.\n",
      " 2019-09-01 01:34:23,149 - INFO - 2075 rows have been translated.\n",
      " 2019-09-01 01:35:38,753 - INFO - 2080 rows have been translated.\n",
      " 2019-09-01 01:36:53,500 - INFO - 2085 rows have been translated.\n",
      " 2019-09-01 01:38:08,992 - INFO - 2090 rows have been translated.\n",
      " 2019-09-01 01:39:23,830 - INFO - 2095 rows have been translated.\n",
      " 2019-09-01 01:40:41,270 - INFO - 2100 rows have been translated.\n",
      " 2019-09-01 01:41:56,768 - INFO - 2105 rows have been translated.\n",
      " 2019-09-01 01:43:11,426 - INFO - 2110 rows have been translated.\n",
      " 2019-09-01 01:44:27,147 - INFO - 2115 rows have been translated.\n",
      " 2019-09-01 01:45:42,941 - INFO - 2120 rows have been translated.\n",
      " 2019-09-01 01:46:56,843 - INFO - 2125 rows have been translated.\n",
      " 2019-09-01 01:48:13,790 - INFO - 2130 rows have been translated.\n",
      " 2019-09-01 01:49:29,214 - INFO - 2135 rows have been translated.\n",
      " 2019-09-01 01:50:45,275 - INFO - 2140 rows have been translated.\n"
     ]
    }
   ],
   "source": [
    "for index, row in tw_site_product_list_with_selected_columns.iterrows():\n",
    "    try:\n",
    "        list_to_translate = []\n",
    "        for i, value in enumerate(translate_columns):\n",
    "            list_to_translate.append(row[translate_columns[i]])\n",
    "        \n",
    "        translate_language = 'th'\n",
    "        # translator = Translator(service_urls=['translate.google.com'])\n",
    "        list_be_translated = translator.translate(list_to_translate, dest=translate_language, src='zh-CN')\n",
    "        time.sleep(10)\n",
    "        \n",
    "        i = 0\n",
    "        for translate_language in list_be_translated:\n",
    "            tw_site_product_list_with_selected_columns.at[index, translate_columns[i]] = translate_language.text\n",
    "            i += 1\n",
    "        \n",
    "        if (index + 1) % 5 == 0:\n",
    "            logging.info(str(index + 1) + ' rows have been translated.')\n",
    "            \n",
    "        tw_site_product_list_with_selected_columns.to_excel(os.path.join(folder_path, 'tw_translated_product_20190824（3）.xlsx'), index=False)\n",
    "    except Exception as err:\n",
    "        logging.warning(str(index + 1) + ' rows have not been translated. Error message: ' + str(err))\n",
    "        pass"
   ]
  },
  {
   "cell_type": "code",
   "execution_count": 56,
   "metadata": {
    "collapsed": true,
    "scrolled": true
   },
   "outputs": [],
   "source": [
    "# for translate_column in translate_columns:\n",
    "#     # tw_site_product_list_with_selected_columns[translate_column] = tw_site_product_list_with_selected_columns[translate_column].fillna(0)\n",
    "#     # tw_site_product_list_with_selected_columns[translate_column]  = [translator.translate(x, dest=translate_language).text \n",
    "#                                                                      # for x in tw_site_product_list_with_selected_columns[translate_column]]\n",
    "#     for index, row in tw_site_product_list_with_selected_columns.iterrows():\n",
    "#         try:\n",
    "#             orginal_text = tw_site_product_list_with_selected_columns.at[index, translate_column]\n",
    "#             tw_site_product_list_with_selected_columns.at[index, translate_column] = translator.translate(row[translate_column], dest=translate_language).text\n",
    "#             # print(row[translate_column])\n",
    "#             logging.info(translate_column + ' - ' + str(index + 1) + ' rows have been translated.')\n",
    "#             # logging.info(orginal_text + ' -> ' + tw_site_product_list_with_selected_columns.at[index, translate_column])\n",
    "#             time.sleep(5)\n",
    "#         except:\n",
    "#             logging.warning(translate_column + ' - ' + str(index + 1) + ' rows have not been translated.')\n",
    "#             pass\n",
    "        \n",
    "#     # print(tw_site_product_list_with_selected_columns.head(5))\n",
    "    \n",
    "#     tw_site_product_list_with_selected_columns.to_excel(os.path.join(folder_path, 'tw_translated_product(1).xlsx'), index=False)\n",
    "#     logging.info(str(translate_column) + ' is done.')"
   ]
  }
 ],
 "metadata": {
  "anaconda-cloud": {},
  "kernelspec": {
   "display_name": "Python [conda env:Anaconda3]",
   "language": "python",
   "name": "conda-env-Anaconda3-py"
  },
  "language_info": {
   "codemirror_mode": {
    "name": "ipython",
    "version": 3
   },
   "file_extension": ".py",
   "mimetype": "text/x-python",
   "name": "python",
   "nbconvert_exporter": "python",
   "pygments_lexer": "ipython3",
   "version": "3.5.2"
  }
 },
 "nbformat": 4,
 "nbformat_minor": 1
}
