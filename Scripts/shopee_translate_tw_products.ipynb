{
 "cells": [
  {
   "cell_type": "code",
   "execution_count": 30,
   "metadata": {
    "collapsed": true
   },
   "outputs": [],
   "source": [
    "import pandas as pd\n",
    "import os\n",
    "import time\n",
    "import logging"
   ]
  },
  {
   "cell_type": "code",
   "execution_count": 31,
   "metadata": {
    "collapsed": true
   },
   "outputs": [],
   "source": [
    "logging.basicConfig(level=logging.INFO, format=' %(asctime)s - %(levelname)s - %(message)s')"
   ]
  },
  {
   "cell_type": "code",
   "execution_count": 32,
   "metadata": {
    "collapsed": true
   },
   "outputs": [],
   "source": [
    "folder_path = 'D:\\\\Program Files (x86)\\\\百度云同步盘\\\\Dropbox\\\\-E·J- 2014.5.1\\\\2019.7.24 tengus产品迁移\\\\'\n",
    "tw_site_product_list = pd.read_excel(os.path.join(folder_path, 'tengus台湾站产品.xlsx'))"
   ]
  },
  {
   "cell_type": "code",
   "execution_count": 33,
   "metadata": {
    "collapsed": true
   },
   "outputs": [],
   "source": [
    "# tw_site_product_list.columns"
   ]
  },
  {
   "cell_type": "code",
   "execution_count": 34,
   "metadata": {
    "collapsed": true
   },
   "outputs": [],
   "source": [
    "# tw_site_product_list = tw_site_product_list[tw_site_product_list['产品id'] == 2496637042]"
   ]
  },
  {
   "cell_type": "code",
   "execution_count": 35,
   "metadata": {
    "collapsed": true,
    "scrolled": false
   },
   "outputs": [],
   "source": [
    "top_cat_in_tw = tw_site_product_list[['分类ID', '产品id']].groupby('分类ID').agg({'产品id': 'nunique'}).reset_index().sort_values(by='产品id', ascending=False).reset_index().head(5)\n",
    "# top_cat_in_tw"
   ]
  },
  {
   "cell_type": "code",
   "execution_count": 36,
   "metadata": {},
   "outputs": [
    {
     "data": {
      "text/plain": [
       "0"
      ]
     },
     "execution_count": 36,
     "metadata": {},
     "output_type": "execute_result"
    }
   ],
   "source": [
    "top_cat_id = top_cat_in_tw['分类ID'][0]\n",
    "top_cat_id"
   ]
  },
  {
   "cell_type": "code",
   "execution_count": 37,
   "metadata": {
    "collapsed": true
   },
   "outputs": [],
   "source": [
    "output_excel_columns = ['变种名称',\n",
    "                        '变种属性名称一',\n",
    "                        '变种属性名称二',\n",
    "                        '变种属性值一',\n",
    "                        '变种属性值二',\n",
    "                        '*价格（必填）',\n",
    "                        '*库存（必填）',\n",
    "                        '*重量(kg)(必填）',\n",
    "                        '*主图（URL）地址（必填）',\n",
    "                        '附图1',\n",
    "                        '附图2',\n",
    "                        '附图3',\n",
    "                        '附图4',\n",
    "                        '附图5',\n",
    "                        '附图6',\n",
    "                        '附图7',\n",
    "                        '附图8',\n",
    "                        '变种图',\n",
    "                        '长(cm)',\n",
    "                        '宽(cm)',\n",
    "                        '高(cm)',\n",
    "                        '发货期',\n",
    "                        '来源URL',\n",
    "                        '尺码图'\n",
    "]"
   ]
  },
  {
   "cell_type": "code",
   "execution_count": 38,
   "metadata": {
    "collapsed": true
   },
   "outputs": [],
   "source": [
    "tw_site_product_list_selected_columns = ['分类ID', '产品属性', 'Parent SKU', '产品标题', '产品描述', 'sku', '变种名称', '变种属性名称一',\n",
    "       '变种属性名称二', '变种属性值一', '变种属性值二', '价格', '库存', '重量', '主图（URL）地址', '附图1',\n",
    "       '附图2', '附图3', '附图4', '附图5', '附图6', '附图7', '附图8地址', '变种图', '长（cm）',\n",
    "       '宽（cm）', '高（cm）', '发货期', '来源URL', '尺码图']"
   ]
  },
  {
   "cell_type": "code",
   "execution_count": 39,
   "metadata": {},
   "outputs": [
    {
     "data": {
      "text/html": [
       "<div>\n",
       "<table border=\"1\" class=\"dataframe\">\n",
       "  <thead>\n",
       "    <tr style=\"text-align: right;\">\n",
       "      <th></th>\n",
       "      <th>分类ID</th>\n",
       "      <th>产品属性</th>\n",
       "      <th>Parent SKU</th>\n",
       "      <th>产品标题</th>\n",
       "      <th>产品描述</th>\n",
       "      <th>sku</th>\n",
       "      <th>变种名称</th>\n",
       "      <th>变种属性名称一</th>\n",
       "      <th>变种属性名称二</th>\n",
       "      <th>变种属性值一</th>\n",
       "      <th>...</th>\n",
       "      <th>附图6</th>\n",
       "      <th>附图7</th>\n",
       "      <th>附图8地址</th>\n",
       "      <th>变种图</th>\n",
       "      <th>长（cm）</th>\n",
       "      <th>宽（cm）</th>\n",
       "      <th>高（cm）</th>\n",
       "      <th>发货期</th>\n",
       "      <th>来源URL</th>\n",
       "      <th>尺码图</th>\n",
       "    </tr>\n",
       "  </thead>\n",
       "  <tbody>\n",
       "    <tr>\n",
       "      <th>0</th>\n",
       "      <td>5304</td>\n",
       "      <td>NaN</td>\n",
       "      <td>NaN</td>\n",
       "      <td>婴儿背带多功能轻便四季通用单凳保暖防风抱宝宝腰带坐背凳腰凳</td>\n",
       "      <td>货号:A6612\\n品牌:爱儿宝\\n产品类别:抱婴腰带\\n颜色:粉色,红色,绿色,蓝色,淡紫...</td>\n",
       "      <td>Pink</td>\n",
       "      <td>Pink</td>\n",
       "      <td>颜色</td>\n",
       "      <td>不需翻译</td>\n",
       "      <td>粉色</td>\n",
       "      <td>...</td>\n",
       "      <td>https://cbu01.alicdn.com/img/ibank/2017/383/32...</td>\n",
       "      <td>https://cbu01.alicdn.com/img/ibank/2017/906/78...</td>\n",
       "      <td>https://cbu01.alicdn.com/img/ibank/2017/822/92...</td>\n",
       "      <td>https://cbu01.alicdn.com/img/ibank/2017/207/72...</td>\n",
       "      <td>18</td>\n",
       "      <td>13</td>\n",
       "      <td>5</td>\n",
       "      <td>NaN</td>\n",
       "      <td>https://detail.1688.com/offer/563488078208.htm...</td>\n",
       "      <td>NaN</td>\n",
       "    </tr>\n",
       "    <tr>\n",
       "      <th>1</th>\n",
       "      <td>5304</td>\n",
       "      <td>NaN</td>\n",
       "      <td>NaN</td>\n",
       "      <td>婴儿背带多功能轻便四季通用单凳保暖防风抱宝宝腰带坐背凳腰凳</td>\n",
       "      <td>货号:A6612\\n品牌:爱儿宝\\n产品类别:抱婴腰带\\n颜色:粉色,红色,绿色,蓝色,淡紫...</td>\n",
       "      <td>Red</td>\n",
       "      <td>Red</td>\n",
       "      <td>颜色</td>\n",
       "      <td>不需翻译</td>\n",
       "      <td>红色</td>\n",
       "      <td>...</td>\n",
       "      <td>https://cbu01.alicdn.com/img/ibank/2017/383/32...</td>\n",
       "      <td>https://cbu01.alicdn.com/img/ibank/2017/906/78...</td>\n",
       "      <td>https://cbu01.alicdn.com/img/ibank/2017/822/92...</td>\n",
       "      <td>https://cbu01.alicdn.com/img/ibank/2017/383/32...</td>\n",
       "      <td>18</td>\n",
       "      <td>13</td>\n",
       "      <td>5</td>\n",
       "      <td>NaN</td>\n",
       "      <td>https://detail.1688.com/offer/563488078208.htm...</td>\n",
       "      <td>NaN</td>\n",
       "    </tr>\n",
       "    <tr>\n",
       "      <th>2</th>\n",
       "      <td>5304</td>\n",
       "      <td>NaN</td>\n",
       "      <td>NaN</td>\n",
       "      <td>婴儿背带多功能轻便四季通用单凳保暖防风抱宝宝腰带坐背凳腰凳</td>\n",
       "      <td>货号:A6612\\n品牌:爱儿宝\\n产品类别:抱婴腰带\\n颜色:粉色,红色,绿色,蓝色,淡紫...</td>\n",
       "      <td>Green</td>\n",
       "      <td>Green</td>\n",
       "      <td>颜色</td>\n",
       "      <td>不需翻译</td>\n",
       "      <td>绿色</td>\n",
       "      <td>...</td>\n",
       "      <td>https://cbu01.alicdn.com/img/ibank/2017/383/32...</td>\n",
       "      <td>https://cbu01.alicdn.com/img/ibank/2017/906/78...</td>\n",
       "      <td>https://cbu01.alicdn.com/img/ibank/2017/822/92...</td>\n",
       "      <td>https://cbu01.alicdn.com/img/ibank/2017/906/78...</td>\n",
       "      <td>18</td>\n",
       "      <td>13</td>\n",
       "      <td>5</td>\n",
       "      <td>NaN</td>\n",
       "      <td>https://detail.1688.com/offer/563488078208.htm...</td>\n",
       "      <td>NaN</td>\n",
       "    </tr>\n",
       "    <tr>\n",
       "      <th>3</th>\n",
       "      <td>5304</td>\n",
       "      <td>NaN</td>\n",
       "      <td>NaN</td>\n",
       "      <td>婴儿背带多功能轻便四季通用单凳保暖防风抱宝宝腰带坐背凳腰凳</td>\n",
       "      <td>货号:A6612\\n品牌:爱儿宝\\n产品类别:抱婴腰带\\n颜色:粉色,红色,绿色,蓝色,淡紫...</td>\n",
       "      <td>Blue</td>\n",
       "      <td>Blue</td>\n",
       "      <td>颜色</td>\n",
       "      <td>不需翻译</td>\n",
       "      <td>蓝色</td>\n",
       "      <td>...</td>\n",
       "      <td>https://cbu01.alicdn.com/img/ibank/2017/383/32...</td>\n",
       "      <td>https://cbu01.alicdn.com/img/ibank/2017/906/78...</td>\n",
       "      <td>https://cbu01.alicdn.com/img/ibank/2017/822/92...</td>\n",
       "      <td>https://cbu01.alicdn.com/img/ibank/2017/822/92...</td>\n",
       "      <td>18</td>\n",
       "      <td>13</td>\n",
       "      <td>5</td>\n",
       "      <td>NaN</td>\n",
       "      <td>https://detail.1688.com/offer/563488078208.htm...</td>\n",
       "      <td>NaN</td>\n",
       "    </tr>\n",
       "    <tr>\n",
       "      <th>4</th>\n",
       "      <td>5304</td>\n",
       "      <td>NaN</td>\n",
       "      <td>NaN</td>\n",
       "      <td>婴儿背带多功能轻便四季通用单凳保暖防风抱宝宝腰带坐背凳腰凳</td>\n",
       "      <td>货号:A6612\\n品牌:爱儿宝\\n产品类别:抱婴腰带\\n颜色:粉色,红色,绿色,蓝色,淡紫...</td>\n",
       "      <td>淡紫色</td>\n",
       "      <td>淡紫色</td>\n",
       "      <td>颜色</td>\n",
       "      <td>不需翻译</td>\n",
       "      <td>淡紫色</td>\n",
       "      <td>...</td>\n",
       "      <td>https://cbu01.alicdn.com/img/ibank/2017/383/32...</td>\n",
       "      <td>https://cbu01.alicdn.com/img/ibank/2017/906/78...</td>\n",
       "      <td>https://cbu01.alicdn.com/img/ibank/2017/822/92...</td>\n",
       "      <td>https://cbu01.alicdn.com/img/ibank/2019/550/04...</td>\n",
       "      <td>18</td>\n",
       "      <td>13</td>\n",
       "      <td>5</td>\n",
       "      <td>NaN</td>\n",
       "      <td>https://detail.1688.com/offer/563488078208.htm...</td>\n",
       "      <td>NaN</td>\n",
       "    </tr>\n",
       "  </tbody>\n",
       "</table>\n",
       "<p>5 rows × 30 columns</p>\n",
       "</div>"
      ],
      "text/plain": [
       "   分类ID  产品属性  Parent SKU                           产品标题  \\\n",
       "0  5304   NaN         NaN  婴儿背带多功能轻便四季通用单凳保暖防风抱宝宝腰带坐背凳腰凳   \n",
       "1  5304   NaN         NaN  婴儿背带多功能轻便四季通用单凳保暖防风抱宝宝腰带坐背凳腰凳   \n",
       "2  5304   NaN         NaN  婴儿背带多功能轻便四季通用单凳保暖防风抱宝宝腰带坐背凳腰凳   \n",
       "3  5304   NaN         NaN  婴儿背带多功能轻便四季通用单凳保暖防风抱宝宝腰带坐背凳腰凳   \n",
       "4  5304   NaN         NaN  婴儿背带多功能轻便四季通用单凳保暖防风抱宝宝腰带坐背凳腰凳   \n",
       "\n",
       "                                                产品描述    sku   变种名称 变种属性名称一  \\\n",
       "0  货号:A6612\\n品牌:爱儿宝\\n产品类别:抱婴腰带\\n颜色:粉色,红色,绿色,蓝色,淡紫...   Pink   Pink      颜色   \n",
       "1  货号:A6612\\n品牌:爱儿宝\\n产品类别:抱婴腰带\\n颜色:粉色,红色,绿色,蓝色,淡紫...    Red    Red      颜色   \n",
       "2  货号:A6612\\n品牌:爱儿宝\\n产品类别:抱婴腰带\\n颜色:粉色,红色,绿色,蓝色,淡紫...  Green  Green      颜色   \n",
       "3  货号:A6612\\n品牌:爱儿宝\\n产品类别:抱婴腰带\\n颜色:粉色,红色,绿色,蓝色,淡紫...   Blue   Blue      颜色   \n",
       "4  货号:A6612\\n品牌:爱儿宝\\n产品类别:抱婴腰带\\n颜色:粉色,红色,绿色,蓝色,淡紫...    淡紫色    淡紫色      颜色   \n",
       "\n",
       "  变种属性名称二 变种属性值一 ...                                                附图6  \\\n",
       "0    不需翻译     粉色 ...  https://cbu01.alicdn.com/img/ibank/2017/383/32...   \n",
       "1    不需翻译     红色 ...  https://cbu01.alicdn.com/img/ibank/2017/383/32...   \n",
       "2    不需翻译     绿色 ...  https://cbu01.alicdn.com/img/ibank/2017/383/32...   \n",
       "3    不需翻译     蓝色 ...  https://cbu01.alicdn.com/img/ibank/2017/383/32...   \n",
       "4    不需翻译    淡紫色 ...  https://cbu01.alicdn.com/img/ibank/2017/383/32...   \n",
       "\n",
       "                                                 附图7  \\\n",
       "0  https://cbu01.alicdn.com/img/ibank/2017/906/78...   \n",
       "1  https://cbu01.alicdn.com/img/ibank/2017/906/78...   \n",
       "2  https://cbu01.alicdn.com/img/ibank/2017/906/78...   \n",
       "3  https://cbu01.alicdn.com/img/ibank/2017/906/78...   \n",
       "4  https://cbu01.alicdn.com/img/ibank/2017/906/78...   \n",
       "\n",
       "                                               附图8地址  \\\n",
       "0  https://cbu01.alicdn.com/img/ibank/2017/822/92...   \n",
       "1  https://cbu01.alicdn.com/img/ibank/2017/822/92...   \n",
       "2  https://cbu01.alicdn.com/img/ibank/2017/822/92...   \n",
       "3  https://cbu01.alicdn.com/img/ibank/2017/822/92...   \n",
       "4  https://cbu01.alicdn.com/img/ibank/2017/822/92...   \n",
       "\n",
       "                                                 变种图 长（cm） 宽（cm） 高（cm） 发货期  \\\n",
       "0  https://cbu01.alicdn.com/img/ibank/2017/207/72...    18    13     5 NaN   \n",
       "1  https://cbu01.alicdn.com/img/ibank/2017/383/32...    18    13     5 NaN   \n",
       "2  https://cbu01.alicdn.com/img/ibank/2017/906/78...    18    13     5 NaN   \n",
       "3  https://cbu01.alicdn.com/img/ibank/2017/822/92...    18    13     5 NaN   \n",
       "4  https://cbu01.alicdn.com/img/ibank/2019/550/04...    18    13     5 NaN   \n",
       "\n",
       "                                               来源URL 尺码图  \n",
       "0  https://detail.1688.com/offer/563488078208.htm... NaN  \n",
       "1  https://detail.1688.com/offer/563488078208.htm... NaN  \n",
       "2  https://detail.1688.com/offer/563488078208.htm... NaN  \n",
       "3  https://detail.1688.com/offer/563488078208.htm... NaN  \n",
       "4  https://detail.1688.com/offer/563488078208.htm... NaN  \n",
       "\n",
       "[5 rows x 30 columns]"
      ]
     },
     "execution_count": 39,
     "metadata": {},
     "output_type": "execute_result"
    }
   ],
   "source": [
    "tw_site_product_list_with_selected_columns = tw_site_product_list[tw_site_product_list_selected_columns]\n",
    "tw_site_product_list_with_selected_columns.head(5)"
   ]
  },
  {
   "cell_type": "code",
   "execution_count": 40,
   "metadata": {
    "collapsed": true
   },
   "outputs": [],
   "source": [
    "# tw_site_product_list_with_selected_columns = tw_site_product_list_with_selected_columns[tw_site_product_list_with_selected_columns['分类ID'] == top_cat_id].reset_index()\n",
    "# tw_site_product_list_with_selected_columns"
   ]
  },
  {
   "cell_type": "code",
   "execution_count": 41,
   "metadata": {},
   "outputs": [
    {
     "name": "stderr",
     "output_type": "stream",
     "text": [
      "C:\\Users\\kuang\\Anaconda3\\lib\\site-packages\\ipykernel\\__main__.py:2: SettingWithCopyWarning: \n",
      "A value is trying to be set on a copy of a slice from a DataFrame.\n",
      "Try using .loc[row_indexer,col_indexer] = value instead\n",
      "\n",
      "See the caveats in the documentation: http://pandas.pydata.org/pandas-docs/stable/indexing.html#indexing-view-versus-copy\n",
      "  from ipykernel import kernelapp as app\n"
     ]
    }
   ],
   "source": [
    "# 把1688的来源url拆出来，把productid填充为parent sku\n",
    "tw_site_product_list_with_selected_columns['Parent SKU'] = tw_site_product_list_with_selected_columns['来源URL'].str.split(\"/\", n = 4, expand = True)[4].str.split(\".\", n = 1, expand=True)[0]\n",
    "# tw_site_product_list_with_selected_columns.head(5)"
   ]
  },
  {
   "cell_type": "code",
   "execution_count": 42,
   "metadata": {},
   "outputs": [
    {
     "data": {
      "text/plain": [
       "'ins爆款 胡蘿卜寶寶針織竹節棉爬服 嬰兒兔裝 嬰兒連身衣 寶寶包屁衣連身衣 中間開襟包屁衣 寶寶連體衣哈衣爬服'"
      ]
     },
     "execution_count": 42,
     "metadata": {},
     "output_type": "execute_result"
    }
   ],
   "source": [
    "# remove emoji\n",
    "import re\n",
    "\n",
    "emoji_pattern = re.compile(\n",
    "                u'['\n",
    "                u'\\U0001F300-\\U0001F64F'\n",
    "                u'\\U0001F680-\\U0001F6FF'\n",
    "                u'\\u2600-\\u2B55'\n",
    "                u'\\u23cf'\n",
    "                u'\\u23e9'\n",
    "                u'\\u231a'\n",
    "                u'\\u3030'\n",
    "                u'\\ufe0f'\n",
    "                u\"\\U0001F600-\\U0001F64F\"  # emoticons\n",
    "                u\"\\U0001F300-\\U0001F5FF\"  # symbols & pictographs\n",
    "                u'\\U00010000-\\U0010ffff'\n",
    "                u'\\U0001F1E0-\\U0001F1FF'  # flags (iOS)\n",
    "                u'\\U00002702-\\U000027B0]+', flags=re.UNICODE)\n",
    "\n",
    "def remove_emoji(text):\n",
    "    return emoji_pattern.sub(r'', text)\n",
    "\n",
    "remove_emoji('ins爆款 🥕胡蘿卜🥕寶寶針織竹節棉爬服 嬰兒兔裝 嬰兒連身衣 寶寶包屁衣連身衣 中間開襟包屁衣 寶寶連體衣哈衣爬服')"
   ]
  },
  {
   "cell_type": "code",
   "execution_count": 43,
   "metadata": {},
   "outputs": [
    {
     "name": "stderr",
     "output_type": "stream",
     "text": [
      "C:\\Users\\kuang\\Anaconda3\\lib\\site-packages\\ipykernel\\__main__.py:1: SettingWithCopyWarning: \n",
      "A value is trying to be set on a copy of a slice from a DataFrame.\n",
      "Try using .loc[row_indexer,col_indexer] = value instead\n",
      "\n",
      "See the caveats in the documentation: http://pandas.pydata.org/pandas-docs/stable/indexing.html#indexing-view-versus-copy\n",
      "  if __name__ == '__main__':\n",
      "C:\\Users\\kuang\\Anaconda3\\lib\\site-packages\\ipykernel\\__main__.py:2: SettingWithCopyWarning: \n",
      "A value is trying to be set on a copy of a slice from a DataFrame.\n",
      "Try using .loc[row_indexer,col_indexer] = value instead\n",
      "\n",
      "See the caveats in the documentation: http://pandas.pydata.org/pandas-docs/stable/indexing.html#indexing-view-versus-copy\n",
      "  from ipykernel import kernelapp as app\n"
     ]
    }
   ],
   "source": [
    "tw_site_product_list_with_selected_columns['产品标题'] = [remove_emoji(x) for x in tw_site_product_list_with_selected_columns['产品标题']]\n",
    "tw_site_product_list_with_selected_columns['产品描述'] = [remove_emoji(x) for x in tw_site_product_list_with_selected_columns['产品描述']]"
   ]
  },
  {
   "cell_type": "code",
   "execution_count": 44,
   "metadata": {},
   "outputs": [
    {
     "name": "stderr",
     "output_type": "stream",
     "text": [
      "C:\\Users\\kuang\\Anaconda3\\lib\\site-packages\\ipykernel\\__main__.py:1: SettingWithCopyWarning: \n",
      "A value is trying to be set on a copy of a slice from a DataFrame.\n",
      "Try using .loc[row_indexer,col_indexer] = value instead\n",
      "\n",
      "See the caveats in the documentation: http://pandas.pydata.org/pandas-docs/stable/indexing.html#indexing-view-versus-copy\n",
      "  if __name__ == '__main__':\n",
      "C:\\Users\\kuang\\Anaconda3\\lib\\site-packages\\ipykernel\\__main__.py:2: SettingWithCopyWarning: \n",
      "A value is trying to be set on a copy of a slice from a DataFrame.\n",
      "Try using .loc[row_indexer,col_indexer] = value instead\n",
      "\n",
      "See the caveats in the documentation: http://pandas.pydata.org/pandas-docs/stable/indexing.html#indexing-view-versus-copy\n",
      "  from ipykernel import kernelapp as app\n",
      "C:\\Users\\kuang\\Anaconda3\\lib\\site-packages\\ipykernel\\__main__.py:3: SettingWithCopyWarning: \n",
      "A value is trying to be set on a copy of a slice from a DataFrame.\n",
      "Try using .loc[row_indexer,col_indexer] = value instead\n",
      "\n",
      "See the caveats in the documentation: http://pandas.pydata.org/pandas-docs/stable/indexing.html#indexing-view-versus-copy\n",
      "  app.launch_new_instance()\n",
      "C:\\Users\\kuang\\Anaconda3\\lib\\site-packages\\ipykernel\\__main__.py:4: SettingWithCopyWarning: \n",
      "A value is trying to be set on a copy of a slice from a DataFrame.\n",
      "Try using .loc[row_indexer,col_indexer] = value instead\n",
      "\n",
      "See the caveats in the documentation: http://pandas.pydata.org/pandas-docs/stable/indexing.html#indexing-view-versus-copy\n"
     ]
    }
   ],
   "source": [
    "tw_site_product_list_with_selected_columns['长（cm）'] = tw_site_product_list_with_selected_columns['长（cm）'].fillna(18)\n",
    "tw_site_product_list_with_selected_columns['宽（cm）'] = tw_site_product_list_with_selected_columns['宽（cm）'].fillna(13)\n",
    "tw_site_product_list_with_selected_columns['高（cm）'] = tw_site_product_list_with_selected_columns['高（cm）'].fillna(5)\n",
    "tw_site_product_list_with_selected_columns['发货期'] = tw_site_product_list_with_selected_columns['发货期'].fillna(2)"
   ]
  },
  {
   "cell_type": "code",
   "execution_count": 45,
   "metadata": {},
   "outputs": [
    {
     "name": "stderr",
     "output_type": "stream",
     "text": [
      "C:\\Users\\kuang\\Anaconda3\\lib\\site-packages\\ipykernel\\__main__.py:2: SettingWithCopyWarning: \n",
      "A value is trying to be set on a copy of a slice from a DataFrame.\n",
      "Try using .loc[row_indexer,col_indexer] = value instead\n",
      "\n",
      "See the caveats in the documentation: http://pandas.pydata.org/pandas-docs/stable/indexing.html#indexing-view-versus-copy\n",
      "  from ipykernel import kernelapp as app\n"
     ]
    }
   ],
   "source": [
    "translate_currency = 1\n",
    "tw_site_product_list_with_selected_columns['价格'] = tw_site_product_list_with_selected_columns['价格'] * translate_currency"
   ]
  },
  {
   "cell_type": "code",
   "execution_count": 46,
   "metadata": {
    "collapsed": true
   },
   "outputs": [],
   "source": [
    "# tw_site_product_list_with_selected_columns.head(5)"
   ]
  },
  {
   "cell_type": "code",
   "execution_count": null,
   "metadata": {
    "collapsed": true
   },
   "outputs": [],
   "source": [
    "from googletrans import Translator"
   ]
  },
  {
   "cell_type": "code",
   "execution_count": null,
   "metadata": {},
   "outputs": [],
   "source": [
    "translator = Translator(service_urls=[\n",
    "      'translate.google.com',\n",
    "      'translate.google.co.kr',\n",
    "    ])\n",
    "translator.translate('韩国', dest='ko').text"
   ]
  },
  {
   "cell_type": "code",
   "execution_count": null,
   "metadata": {
    "collapsed": true
   },
   "outputs": [],
   "source": [
    "# translations = translator.translate(['The quick brown fox', 'jumps over', 'the lazy dog'], dest='ko')\n",
    "# for translation in translations:\n",
    "#     print(translation.origin, ' -> ', translation.text)"
   ]
  },
  {
   "cell_type": "code",
   "execution_count": null,
   "metadata": {
    "collapsed": true
   },
   "outputs": [],
   "source": [
    "translate_columns = ['产品标题', '产品描述', '变种名称', '变种属性名称一', '变种属性名称二', '变种属性值一', '变种属性值二']\n",
    "# translate_columns = ['产品标题']\n",
    "# translate_columns = ['产品描述', '变种名称', '变种属性名称一', '变种属性名称二', '变种属性值一', '变种属性值二']"
   ]
  },
  {
   "cell_type": "code",
   "execution_count": null,
   "metadata": {},
   "outputs": [],
   "source": [
    "# 把空值填充为string格式\n",
    "tw_site_product_list_with_selected_columns[translate_columns] = tw_site_product_list_with_selected_columns[translate_columns].fillna(value='不需翻译')"
   ]
  },
  {
   "cell_type": "code",
   "execution_count": null,
   "metadata": {
    "collapsed": true
   },
   "outputs": [],
   "source": [
    "# tw_site_product_list_with_selected_columns = tw_site_product_list_with_selected_columns[13:20]\n",
    "# tw_site_product_list_with_selected_columns"
   ]
  },
  {
   "cell_type": "code",
   "execution_count": null,
   "metadata": {
    "scrolled": true
   },
   "outputs": [],
   "source": [
    "for index, row in tw_site_product_list_with_selected_columns.iterrows():\n",
    "    try:\n",
    "        list_to_translate = []\n",
    "        for i, value in enumerate(translate_columns):\n",
    "            list_to_translate.append(row[translate_columns[i]])\n",
    "        \n",
    "        translate_language = 'th'\n",
    "        # translator = Translator(service_urls=['translate.google.com'])\n",
    "        list_be_translated = translator.translate(list_to_translate, dest=translate_language, src='zh-CN')\n",
    "        time.sleep(20)\n",
    "        \n",
    "        i = 0\n",
    "        for translate_language in list_be_translated:\n",
    "            tw_site_product_list_with_selected_columns.at[index, translate_columns[i]] = translate_language.text\n",
    "            i += 1\n",
    "        \n",
    "        if (index + 1) % 5 == 0:\n",
    "            logging.info(str(index + 1) + ' rows have been translated.')\n",
    "            \n",
    "        tw_site_product_list_with_selected_columns.to_excel(os.path.join(folder_path, 'tw_translated_product(4).xlsx'), index=False)\n",
    "    except Exception as err:\n",
    "        logging.warning(str(index + 1) + ' rows have not been translated. Error message: ' + str(err))\n",
    "        pass"
   ]
  },
  {
   "cell_type": "code",
   "execution_count": null,
   "metadata": {
    "collapsed": true,
    "scrolled": true
   },
   "outputs": [],
   "source": [
    "# for translate_column in translate_columns:\n",
    "#     # tw_site_product_list_with_selected_columns[translate_column] = tw_site_product_list_with_selected_columns[translate_column].fillna(0)\n",
    "#     # tw_site_product_list_with_selected_columns[translate_column]  = [translator.translate(x, dest=translate_language).text \n",
    "#                                                                      # for x in tw_site_product_list_with_selected_columns[translate_column]]\n",
    "#     for index, row in tw_site_product_list_with_selected_columns.iterrows():\n",
    "#         try:\n",
    "#             orginal_text = tw_site_product_list_with_selected_columns.at[index, translate_column]\n",
    "#             tw_site_product_list_with_selected_columns.at[index, translate_column] = translator.translate(row[translate_column], dest=translate_language).text\n",
    "#             # print(row[translate_column])\n",
    "#             logging.info(translate_column + ' - ' + str(index + 1) + ' rows have been translated.')\n",
    "#             # logging.info(orginal_text + ' -> ' + tw_site_product_list_with_selected_columns.at[index, translate_column])\n",
    "#             time.sleep(5)\n",
    "#         except:\n",
    "#             logging.warning(translate_column + ' - ' + str(index + 1) + ' rows have not been translated.')\n",
    "#             pass\n",
    "        \n",
    "#     # print(tw_site_product_list_with_selected_columns.head(5))\n",
    "    \n",
    "#     tw_site_product_list_with_selected_columns.to_excel(os.path.join(folder_path, 'tw_translated_product(1).xlsx'), index=False)\n",
    "#     logging.info(str(translate_column) + ' is done.')"
   ]
  }
 ],
 "metadata": {
  "anaconda-cloud": {},
  "kernelspec": {
   "display_name": "Python [conda env:Anaconda3]",
   "language": "python",
   "name": "conda-env-Anaconda3-py"
  },
  "language_info": {
   "codemirror_mode": {
    "name": "ipython",
    "version": 3
   },
   "file_extension": ".py",
   "mimetype": "text/x-python",
   "name": "python",
   "nbconvert_exporter": "python",
   "pygments_lexer": "ipython3",
   "version": "3.5.2"
  }
 },
 "nbformat": 4,
 "nbformat_minor": 1
}
