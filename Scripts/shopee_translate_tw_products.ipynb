{
 "cells": [
  {
   "cell_type": "code",
   "execution_count": 29,
   "metadata": {
    "collapsed": true
   },
   "outputs": [],
   "source": [
    "import pandas as pd\n",
    "import os\n",
    "import time\n",
    "import logging"
   ]
  },
  {
   "cell_type": "code",
   "execution_count": 30,
   "metadata": {
    "collapsed": true
   },
   "outputs": [],
   "source": [
    "logging.basicConfig(level=logging.INFO, format=' %(asctime)s - %(levelname)s - %(message)s')"
   ]
  },
  {
   "cell_type": "code",
   "execution_count": 31,
   "metadata": {
    "collapsed": true
   },
   "outputs": [],
   "source": [
    "folder_path = 'D:\\\\Program Files (x86)\\\\百度云同步盘\\\\Dropbox\\\\-E·J- 2014.5.1\\\\2019.7.24 tengus产品迁移\\\\'\n",
    "tw_site_product_list = pd.read_excel(os.path.join(folder_path, 'tengus泰国站产品.xlsx'))"
   ]
  },
  {
   "cell_type": "code",
   "execution_count": 32,
   "metadata": {
    "collapsed": true
   },
   "outputs": [],
   "source": [
    "# tw_site_product_list.columns"
   ]
  },
  {
   "cell_type": "code",
   "execution_count": 33,
   "metadata": {
    "collapsed": true
   },
   "outputs": [],
   "source": [
    "# tw_site_product_list = tw_site_product_list[tw_site_product_list['产品id'] == 2496637042]"
   ]
  },
  {
   "cell_type": "code",
   "execution_count": 34,
   "metadata": {
    "collapsed": true,
    "scrolled": false
   },
   "outputs": [],
   "source": [
    "# top_cat_in_tw = tw_site_product_list[['分类ID', '产品id']].groupby('分类ID').agg({'产品id': 'nunique'}).reset_index().sort_values(by='产品id', ascending=False).reset_index().head(5)\n",
    "# top_cat_in_tw"
   ]
  },
  {
   "cell_type": "code",
   "execution_count": 35,
   "metadata": {
    "collapsed": true
   },
   "outputs": [],
   "source": [
    "# top_cat_id = top_cat_in_tw['分类ID'][0]\n",
    "# top_cat_id"
   ]
  },
  {
   "cell_type": "code",
   "execution_count": 36,
   "metadata": {
    "collapsed": true
   },
   "outputs": [],
   "source": [
    "output_excel_columns = ['变种名称',\n",
    "                        '变种属性名称一',\n",
    "                        '变种属性名称二',\n",
    "                        '变种属性值一',\n",
    "                        '变种属性值二',\n",
    "                        '*价格（必填）',\n",
    "                        '*库存（必填）',\n",
    "                        '*重量(kg)(必填）',\n",
    "                        '*主图（URL）地址（必填）',\n",
    "                        '附图1',\n",
    "                        '附图2',\n",
    "                        '附图3',\n",
    "                        '附图4',\n",
    "                        '附图5',\n",
    "                        '附图6',\n",
    "                        '附图7',\n",
    "                        '附图8',\n",
    "                        '变种图',\n",
    "                        '长(cm)',\n",
    "                        '宽(cm)',\n",
    "                        '高(cm)',\n",
    "                        '发货期',\n",
    "                        '来源URL',\n",
    "                        '尺码图'\n",
    "]"
   ]
  },
  {
   "cell_type": "code",
   "execution_count": 37,
   "metadata": {
    "collapsed": true
   },
   "outputs": [],
   "source": [
    "tw_site_product_list_selected_columns = ['分类ID', '产品属性', 'Parent SKU', '产品标题', '产品描述', 'sku', '变种名称', '变种属性名称一',\n",
    "       '变种属性名称二', '变种属性值一', '变种属性值二', '价格', '库存', '重量', '主图（URL）地址', '附图1',\n",
    "       '附图2', '附图3', '附图4', '附图5', '附图6', '附图7', '附图8地址', '变种图', '长（cm）',\n",
    "       '宽（cm）', '高（cm）', '发货期', '来源URL', '尺码图']"
   ]
  },
  {
   "cell_type": "code",
   "execution_count": 38,
   "metadata": {},
   "outputs": [
    {
     "data": {
      "text/html": [
       "<div>\n",
       "<table border=\"1\" class=\"dataframe\">\n",
       "  <thead>\n",
       "    <tr style=\"text-align: right;\">\n",
       "      <th></th>\n",
       "      <th>分类ID</th>\n",
       "      <th>产品属性</th>\n",
       "      <th>Parent SKU</th>\n",
       "      <th>产品标题</th>\n",
       "      <th>产品描述</th>\n",
       "      <th>sku</th>\n",
       "      <th>变种名称</th>\n",
       "      <th>变种属性名称一</th>\n",
       "      <th>变种属性名称二</th>\n",
       "      <th>变种属性值一</th>\n",
       "      <th>...</th>\n",
       "      <th>附图6</th>\n",
       "      <th>附图7</th>\n",
       "      <th>附图8地址</th>\n",
       "      <th>变种图</th>\n",
       "      <th>长（cm）</th>\n",
       "      <th>宽（cm）</th>\n",
       "      <th>高（cm）</th>\n",
       "      <th>发货期</th>\n",
       "      <th>来源URL</th>\n",
       "      <th>尺码图</th>\n",
       "    </tr>\n",
       "  </thead>\n",
       "  <tbody>\n",
       "    <tr>\n",
       "      <th>0</th>\n",
       "      <td>10746</td>\n",
       "      <td>[{\"mandatory\":true,\"attribute_id\":9013,\"attrib...</td>\n",
       "      <td>592217528861</td>\n",
       "      <td>กางเกงขาสั้นผ้าฝ้ายเด็กทารกแรกเกิดในช่วงฤดูร้อ...</td>\n",
       "      <td>รูปแบบ: สีทึบ\\nหมวดที่มา: สปอต\\nสี: สีเหลืองสี...</td>\n",
       "      <td>Yellow80cm</td>\n",
       "      <td>สีเหลือง,80cm</td>\n",
       "      <td>สี</td>\n",
       "      <td>ความสูง</td>\n",
       "      <td>สีเหลือง</td>\n",
       "      <td>...</td>\n",
       "      <td>NaN</td>\n",
       "      <td>NaN</td>\n",
       "      <td>NaN</td>\n",
       "      <td>https://cf.shopee.co.th/file/bd9a5bcbcaee13ff9...</td>\n",
       "      <td>18.0</td>\n",
       "      <td>13.0</td>\n",
       "      <td>5.0</td>\n",
       "      <td>NaN</td>\n",
       "      <td>https://detail.1688.com/offer/592217528861.htm...</td>\n",
       "      <td>NaN</td>\n",
       "    </tr>\n",
       "    <tr>\n",
       "      <th>1</th>\n",
       "      <td>10746</td>\n",
       "      <td>[{\"mandatory\":true,\"attribute_id\":9013,\"attrib...</td>\n",
       "      <td>592217528861</td>\n",
       "      <td>กางเกงขาสั้นผ้าฝ้ายเด็กทารกแรกเกิดในช่วงฤดูร้อ...</td>\n",
       "      <td>รูปแบบ: สีทึบ\\nหมวดที่มา: สปอต\\nสี: สีเหลืองสี...</td>\n",
       "      <td>Yellow90cm</td>\n",
       "      <td>สีเหลือง,90cm</td>\n",
       "      <td>สี</td>\n",
       "      <td>ความสูง</td>\n",
       "      <td>สีเหลือง</td>\n",
       "      <td>...</td>\n",
       "      <td>NaN</td>\n",
       "      <td>NaN</td>\n",
       "      <td>NaN</td>\n",
       "      <td>https://cf.shopee.co.th/file/bd9a5bcbcaee13ff9...</td>\n",
       "      <td>18.0</td>\n",
       "      <td>13.0</td>\n",
       "      <td>5.0</td>\n",
       "      <td>NaN</td>\n",
       "      <td>https://detail.1688.com/offer/592217528861.htm...</td>\n",
       "      <td>NaN</td>\n",
       "    </tr>\n",
       "    <tr>\n",
       "      <th>2</th>\n",
       "      <td>10746</td>\n",
       "      <td>[{\"mandatory\":true,\"attribute_id\":9013,\"attrib...</td>\n",
       "      <td>592217528861</td>\n",
       "      <td>กางเกงขาสั้นผ้าฝ้ายเด็กทารกแรกเกิดในช่วงฤดูร้อ...</td>\n",
       "      <td>รูปแบบ: สีทึบ\\nหมวดที่มา: สปอต\\nสี: สีเหลืองสี...</td>\n",
       "      <td>Yellow66</td>\n",
       "      <td>สีเหลือง,66cm</td>\n",
       "      <td>สี</td>\n",
       "      <td>ความสูง</td>\n",
       "      <td>สีเหลือง</td>\n",
       "      <td>...</td>\n",
       "      <td>NaN</td>\n",
       "      <td>NaN</td>\n",
       "      <td>NaN</td>\n",
       "      <td>https://cf.shopee.co.th/file/bd9a5bcbcaee13ff9...</td>\n",
       "      <td>18.0</td>\n",
       "      <td>13.0</td>\n",
       "      <td>5.0</td>\n",
       "      <td>NaN</td>\n",
       "      <td>https://detail.1688.com/offer/592217528861.htm...</td>\n",
       "      <td>NaN</td>\n",
       "    </tr>\n",
       "    <tr>\n",
       "      <th>3</th>\n",
       "      <td>10746</td>\n",
       "      <td>[{\"mandatory\":true,\"attribute_id\":9013,\"attrib...</td>\n",
       "      <td>592217528861</td>\n",
       "      <td>กางเกงขาสั้นผ้าฝ้ายเด็กทารกแรกเกิดในช่วงฤดูร้อ...</td>\n",
       "      <td>รูปแบบ: สีทึบ\\nหมวดที่มา: สปอต\\nสี: สีเหลืองสี...</td>\n",
       "      <td>Yellow73</td>\n",
       "      <td>สีเหลือง,73cm</td>\n",
       "      <td>สี</td>\n",
       "      <td>ความสูง</td>\n",
       "      <td>สีเหลือง</td>\n",
       "      <td>...</td>\n",
       "      <td>NaN</td>\n",
       "      <td>NaN</td>\n",
       "      <td>NaN</td>\n",
       "      <td>https://cf.shopee.co.th/file/bd9a5bcbcaee13ff9...</td>\n",
       "      <td>18.0</td>\n",
       "      <td>13.0</td>\n",
       "      <td>5.0</td>\n",
       "      <td>NaN</td>\n",
       "      <td>https://detail.1688.com/offer/592217528861.htm...</td>\n",
       "      <td>NaN</td>\n",
       "    </tr>\n",
       "    <tr>\n",
       "      <th>4</th>\n",
       "      <td>10746</td>\n",
       "      <td>[{\"mandatory\":true,\"attribute_id\":9013,\"attrib...</td>\n",
       "      <td>592217528861</td>\n",
       "      <td>กางเกงขาสั้นผ้าฝ้ายเด็กทารกแรกเกิดในช่วงฤดูร้อ...</td>\n",
       "      <td>รูปแบบ: สีทึบ\\nหมวดที่มา: สปอต\\nสี: สีเหลืองสี...</td>\n",
       "      <td>Red80cm</td>\n",
       "      <td>สีแดง,80cm</td>\n",
       "      <td>สี</td>\n",
       "      <td>ความสูง</td>\n",
       "      <td>สีแดง</td>\n",
       "      <td>...</td>\n",
       "      <td>NaN</td>\n",
       "      <td>NaN</td>\n",
       "      <td>NaN</td>\n",
       "      <td>https://cf.shopee.co.th/file/8f5add8d6e6313244...</td>\n",
       "      <td>18.0</td>\n",
       "      <td>13.0</td>\n",
       "      <td>5.0</td>\n",
       "      <td>NaN</td>\n",
       "      <td>https://detail.1688.com/offer/592217528861.htm...</td>\n",
       "      <td>NaN</td>\n",
       "    </tr>\n",
       "  </tbody>\n",
       "</table>\n",
       "<p>5 rows × 30 columns</p>\n",
       "</div>"
      ],
      "text/plain": [
       "    分类ID                                               产品属性    Parent SKU  \\\n",
       "0  10746  [{\"mandatory\":true,\"attribute_id\":9013,\"attrib...  592217528861   \n",
       "1  10746  [{\"mandatory\":true,\"attribute_id\":9013,\"attrib...  592217528861   \n",
       "2  10746  [{\"mandatory\":true,\"attribute_id\":9013,\"attrib...  592217528861   \n",
       "3  10746  [{\"mandatory\":true,\"attribute_id\":9013,\"attrib...  592217528861   \n",
       "4  10746  [{\"mandatory\":true,\"attribute_id\":9013,\"attrib...  592217528861   \n",
       "\n",
       "                                                产品标题  \\\n",
       "0  กางเกงขาสั้นผ้าฝ้ายเด็กทารกแรกเกิดในช่วงฤดูร้อ...   \n",
       "1  กางเกงขาสั้นผ้าฝ้ายเด็กทารกแรกเกิดในช่วงฤดูร้อ...   \n",
       "2  กางเกงขาสั้นผ้าฝ้ายเด็กทารกแรกเกิดในช่วงฤดูร้อ...   \n",
       "3  กางเกงขาสั้นผ้าฝ้ายเด็กทารกแรกเกิดในช่วงฤดูร้อ...   \n",
       "4  กางเกงขาสั้นผ้าฝ้ายเด็กทารกแรกเกิดในช่วงฤดูร้อ...   \n",
       "\n",
       "                                                产品描述         sku  \\\n",
       "0  รูปแบบ: สีทึบ\\nหมวดที่มา: สปอต\\nสี: สีเหลืองสี...  Yellow80cm   \n",
       "1  รูปแบบ: สีทึบ\\nหมวดที่มา: สปอต\\nสี: สีเหลืองสี...  Yellow90cm   \n",
       "2  รูปแบบ: สีทึบ\\nหมวดที่มา: สปอต\\nสี: สีเหลืองสี...    Yellow66   \n",
       "3  รูปแบบ: สีทึบ\\nหมวดที่มา: สปอต\\nสี: สีเหลืองสี...    Yellow73   \n",
       "4  รูปแบบ: สีทึบ\\nหมวดที่มา: สปอต\\nสี: สีเหลืองสี...     Red80cm   \n",
       "\n",
       "            变种名称 变种属性名称一  变种属性名称二    变种属性值一 ...   附图6  附图7  附图8地址  \\\n",
       "0  สีเหลือง,80cm      สี  ความสูง  สีเหลือง ...   NaN  NaN    NaN   \n",
       "1  สีเหลือง,90cm      สี  ความสูง  สีเหลือง ...   NaN  NaN    NaN   \n",
       "2  สีเหลือง,66cm      สี  ความสูง  สีเหลือง ...   NaN  NaN    NaN   \n",
       "3  สีเหลือง,73cm      สี  ความสูง  สีเหลือง ...   NaN  NaN    NaN   \n",
       "4     สีแดง,80cm      สี  ความสูง     สีแดง ...   NaN  NaN    NaN   \n",
       "\n",
       "                                                 变种图 长（cm） 宽（cm） 高（cm） 发货期  \\\n",
       "0  https://cf.shopee.co.th/file/bd9a5bcbcaee13ff9...  18.0  13.0   5.0 NaN   \n",
       "1  https://cf.shopee.co.th/file/bd9a5bcbcaee13ff9...  18.0  13.0   5.0 NaN   \n",
       "2  https://cf.shopee.co.th/file/bd9a5bcbcaee13ff9...  18.0  13.0   5.0 NaN   \n",
       "3  https://cf.shopee.co.th/file/bd9a5bcbcaee13ff9...  18.0  13.0   5.0 NaN   \n",
       "4  https://cf.shopee.co.th/file/8f5add8d6e6313244...  18.0  13.0   5.0 NaN   \n",
       "\n",
       "                                               来源URL  尺码图  \n",
       "0  https://detail.1688.com/offer/592217528861.htm...  NaN  \n",
       "1  https://detail.1688.com/offer/592217528861.htm...  NaN  \n",
       "2  https://detail.1688.com/offer/592217528861.htm...  NaN  \n",
       "3  https://detail.1688.com/offer/592217528861.htm...  NaN  \n",
       "4  https://detail.1688.com/offer/592217528861.htm...  NaN  \n",
       "\n",
       "[5 rows x 30 columns]"
      ]
     },
     "execution_count": 38,
     "metadata": {},
     "output_type": "execute_result"
    }
   ],
   "source": [
    "tw_site_product_list_with_selected_columns = tw_site_product_list[tw_site_product_list_selected_columns]\n",
    "tw_site_product_list_with_selected_columns.head(5)"
   ]
  },
  {
   "cell_type": "code",
   "execution_count": 39,
   "metadata": {
    "collapsed": true
   },
   "outputs": [],
   "source": [
    "# tw_site_product_list_with_selected_columns = tw_site_product_list_with_selected_columns[tw_site_product_list_with_selected_columns['分类ID'] == top_cat_id].reset_index()\n",
    "# tw_site_product_list_with_selected_columns"
   ]
  },
  {
   "cell_type": "code",
   "execution_count": 40,
   "metadata": {},
   "outputs": [
    {
     "name": "stderr",
     "output_type": "stream",
     "text": [
      "C:\\Users\\kuang\\Anaconda3\\lib\\site-packages\\ipykernel\\__main__.py:2: SettingWithCopyWarning: \n",
      "A value is trying to be set on a copy of a slice from a DataFrame.\n",
      "Try using .loc[row_indexer,col_indexer] = value instead\n",
      "\n",
      "See the caveats in the documentation: http://pandas.pydata.org/pandas-docs/stable/indexing.html#indexing-view-versus-copy\n",
      "  from ipykernel import kernelapp as app\n"
     ]
    }
   ],
   "source": [
    "# 把1688的来源url拆出来，把productid填充为parent sku\n",
    "tw_site_product_list_with_selected_columns['Parent SKU'] = tw_site_product_list_with_selected_columns['来源URL'].str.split(\"/\", n = 4, expand = True)[4].str.split(\".\", n = 1, expand=True)[0]\n",
    "# tw_site_product_list_with_selected_columns.head(5)"
   ]
  },
  {
   "cell_type": "code",
   "execution_count": 41,
   "metadata": {},
   "outputs": [
    {
     "data": {
      "text/plain": [
       "'ins爆款 胡蘿卜寶寶針織竹節棉爬服 嬰兒兔裝 嬰兒連身衣 寶寶包屁衣連身衣 中間開襟包屁衣 寶寶連體衣哈衣爬服'"
      ]
     },
     "execution_count": 41,
     "metadata": {},
     "output_type": "execute_result"
    }
   ],
   "source": [
    "# remove emoji\n",
    "import re\n",
    "\n",
    "emoji_pattern = re.compile(\n",
    "                u'['\n",
    "                u'\\U0001F300-\\U0001F64F'\n",
    "                u'\\U0001F680-\\U0001F6FF'\n",
    "                u'\\u2600-\\u2B55'\n",
    "                u'\\u23cf'\n",
    "                u'\\u23e9'\n",
    "                u'\\u231a'\n",
    "                u'\\u3030'\n",
    "                u'\\ufe0f'\n",
    "                u\"\\U0001F600-\\U0001F64F\"  # emoticons\n",
    "                u\"\\U0001F300-\\U0001F5FF\"  # symbols & pictographs\n",
    "                u'\\U00010000-\\U0010ffff'\n",
    "                u'\\U0001F1E0-\\U0001F1FF'  # flags (iOS)\n",
    "                u'\\U00002702-\\U000027B0]+', flags=re.UNICODE)\n",
    "\n",
    "def remove_emoji(text):\n",
    "    return emoji_pattern.sub(r'', text)\n",
    "\n",
    "remove_emoji('ins爆款 🥕胡蘿卜🥕寶寶針織竹節棉爬服 嬰兒兔裝 嬰兒連身衣 寶寶包屁衣連身衣 中間開襟包屁衣 寶寶連體衣哈衣爬服')"
   ]
  },
  {
   "cell_type": "code",
   "execution_count": 42,
   "metadata": {},
   "outputs": [
    {
     "name": "stderr",
     "output_type": "stream",
     "text": [
      "C:\\Users\\kuang\\Anaconda3\\lib\\site-packages\\ipykernel\\__main__.py:1: SettingWithCopyWarning: \n",
      "A value is trying to be set on a copy of a slice from a DataFrame.\n",
      "Try using .loc[row_indexer,col_indexer] = value instead\n",
      "\n",
      "See the caveats in the documentation: http://pandas.pydata.org/pandas-docs/stable/indexing.html#indexing-view-versus-copy\n",
      "  if __name__ == '__main__':\n",
      "C:\\Users\\kuang\\Anaconda3\\lib\\site-packages\\ipykernel\\__main__.py:2: SettingWithCopyWarning: \n",
      "A value is trying to be set on a copy of a slice from a DataFrame.\n",
      "Try using .loc[row_indexer,col_indexer] = value instead\n",
      "\n",
      "See the caveats in the documentation: http://pandas.pydata.org/pandas-docs/stable/indexing.html#indexing-view-versus-copy\n",
      "  from ipykernel import kernelapp as app\n"
     ]
    }
   ],
   "source": [
    "tw_site_product_list_with_selected_columns['产品标题'] = [remove_emoji(x) for x in tw_site_product_list_with_selected_columns['产品标题']]\n",
    "tw_site_product_list_with_selected_columns['产品描述'] = [remove_emoji(x) for x in tw_site_product_list_with_selected_columns['产品描述']]"
   ]
  },
  {
   "cell_type": "code",
   "execution_count": 43,
   "metadata": {},
   "outputs": [
    {
     "name": "stderr",
     "output_type": "stream",
     "text": [
      "C:\\Users\\kuang\\Anaconda3\\lib\\site-packages\\ipykernel\\__main__.py:1: SettingWithCopyWarning: \n",
      "A value is trying to be set on a copy of a slice from a DataFrame.\n",
      "Try using .loc[row_indexer,col_indexer] = value instead\n",
      "\n",
      "See the caveats in the documentation: http://pandas.pydata.org/pandas-docs/stable/indexing.html#indexing-view-versus-copy\n",
      "  if __name__ == '__main__':\n",
      "C:\\Users\\kuang\\Anaconda3\\lib\\site-packages\\ipykernel\\__main__.py:2: SettingWithCopyWarning: \n",
      "A value is trying to be set on a copy of a slice from a DataFrame.\n",
      "Try using .loc[row_indexer,col_indexer] = value instead\n",
      "\n",
      "See the caveats in the documentation: http://pandas.pydata.org/pandas-docs/stable/indexing.html#indexing-view-versus-copy\n",
      "  from ipykernel import kernelapp as app\n",
      "C:\\Users\\kuang\\Anaconda3\\lib\\site-packages\\ipykernel\\__main__.py:3: SettingWithCopyWarning: \n",
      "A value is trying to be set on a copy of a slice from a DataFrame.\n",
      "Try using .loc[row_indexer,col_indexer] = value instead\n",
      "\n",
      "See the caveats in the documentation: http://pandas.pydata.org/pandas-docs/stable/indexing.html#indexing-view-versus-copy\n",
      "  app.launch_new_instance()\n",
      "C:\\Users\\kuang\\Anaconda3\\lib\\site-packages\\ipykernel\\__main__.py:4: SettingWithCopyWarning: \n",
      "A value is trying to be set on a copy of a slice from a DataFrame.\n",
      "Try using .loc[row_indexer,col_indexer] = value instead\n",
      "\n",
      "See the caveats in the documentation: http://pandas.pydata.org/pandas-docs/stable/indexing.html#indexing-view-versus-copy\n"
     ]
    }
   ],
   "source": [
    "tw_site_product_list_with_selected_columns['长（cm）'] = tw_site_product_list_with_selected_columns['长（cm）'].fillna(18)\n",
    "tw_site_product_list_with_selected_columns['宽（cm）'] = tw_site_product_list_with_selected_columns['宽（cm）'].fillna(13)\n",
    "tw_site_product_list_with_selected_columns['高（cm）'] = tw_site_product_list_with_selected_columns['高（cm）'].fillna(5)\n",
    "tw_site_product_list_with_selected_columns['发货期'] = tw_site_product_list_with_selected_columns['发货期'].fillna(2)"
   ]
  },
  {
   "cell_type": "code",
   "execution_count": 44,
   "metadata": {},
   "outputs": [
    {
     "name": "stderr",
     "output_type": "stream",
     "text": [
      "C:\\Users\\kuang\\Anaconda3\\lib\\site-packages\\ipykernel\\__main__.py:3: SettingWithCopyWarning: \n",
      "A value is trying to be set on a copy of a slice from a DataFrame.\n",
      "Try using .loc[row_indexer,col_indexer] = value instead\n",
      "\n",
      "See the caveats in the documentation: http://pandas.pydata.org/pandas-docs/stable/indexing.html#indexing-view-versus-copy\n",
      "  app.launch_new_instance()\n"
     ]
    }
   ],
   "source": [
    "translate_currency = 0.045\n",
    "profit_rate = 1.2\n",
    "tw_site_product_list_with_selected_columns['价格'] = tw_site_product_list_with_selected_columns['价格'] * translate_currency / profit_rate"
   ]
  },
  {
   "cell_type": "code",
   "execution_count": 45,
   "metadata": {
    "collapsed": true
   },
   "outputs": [],
   "source": [
    "# tw_site_product_list_with_selected_columns.head(5)"
   ]
  },
  {
   "cell_type": "code",
   "execution_count": 46,
   "metadata": {
    "collapsed": true
   },
   "outputs": [],
   "source": [
    "from googletrans import Translator"
   ]
  },
  {
   "cell_type": "code",
   "execution_count": 47,
   "metadata": {},
   "outputs": [
    {
     "data": {
      "text/plain": [
       "'한국'"
      ]
     },
     "execution_count": 47,
     "metadata": {},
     "output_type": "execute_result"
    }
   ],
   "source": [
    "translator = Translator(service_urls=[\n",
    "      'translate.google.com',\n",
    "      'translate.google.co.kr',\n",
    "    ])\n",
    "translator.translate('韩国', dest='ko').text"
   ]
  },
  {
   "cell_type": "code",
   "execution_count": 48,
   "metadata": {
    "collapsed": true
   },
   "outputs": [],
   "source": [
    "# translations = translator.translate(['The quick brown fox', 'jumps over', 'the lazy dog'], dest='ko')\n",
    "# for translation in translations:\n",
    "#     print(translation.origin, ' -> ', translation.text)"
   ]
  },
  {
   "cell_type": "code",
   "execution_count": 49,
   "metadata": {
    "collapsed": true
   },
   "outputs": [],
   "source": [
    "translate_columns = ['产品标题', '产品描述', '变种名称', '变种属性名称一', '变种属性名称二', '变种属性值一', '变种属性值二']\n",
    "# translate_columns = ['产品标题']\n",
    "# translate_columns = ['产品描述', '变种名称', '变种属性名称一', '变种属性名称二', '变种属性值一', '变种属性值二']"
   ]
  },
  {
   "cell_type": "code",
   "execution_count": 50,
   "metadata": {},
   "outputs": [
    {
     "name": "stderr",
     "output_type": "stream",
     "text": [
      "C:\\Users\\kuang\\Anaconda3\\lib\\site-packages\\pandas\\core\\frame.py:2378: SettingWithCopyWarning: \n",
      "A value is trying to be set on a copy of a slice from a DataFrame.\n",
      "Try using .loc[row_indexer,col_indexer] = value instead\n",
      "\n",
      "See the caveats in the documentation: http://pandas.pydata.org/pandas-docs/stable/indexing.html#indexing-view-versus-copy\n",
      "  self[k1] = value[k2]\n"
     ]
    }
   ],
   "source": [
    "# 把空值填充为string格式\n",
    "tw_site_product_list_with_selected_columns[translate_columns] = tw_site_product_list_with_selected_columns[translate_columns].fillna(value='不需翻译')"
   ]
  },
  {
   "cell_type": "code",
   "execution_count": 51,
   "metadata": {},
   "outputs": [
    {
     "name": "stderr",
     "output_type": "stream",
     "text": [
      " 2019-10-12 00:13:38,887 - INFO - variation list: {'不需翻译', 'age', '颜色', 'Number', 'ความสูง', 'สเปค', 'เดือน', 'no size', 'size', 'สี', 'color', 'Color', 'Variation', 'การเปลี่ยนแปลง', 'ขนาด', 'ไม่ได้ตั้งค่า', 'Size'}\n"
     ]
    }
   ],
   "source": [
    "# 把variation_name做一些删减\n",
    "variation_list = set(list(tw_site_product_list_with_selected_columns['变种属性名称一'].unique()) + list(tw_site_product_list_with_selected_columns['变种属性名称二'].unique()))\n",
    "logging.info('variation list: ' + str(variation_list))"
   ]
  },
  {
   "cell_type": "code",
   "execution_count": 52,
   "metadata": {},
   "outputs": [
    {
     "name": "stderr",
     "output_type": "stream",
     "text": [
      "C:\\Users\\kuang\\Anaconda3\\lib\\site-packages\\ipykernel\\__main__.py:2: SettingWithCopyWarning: \n",
      "A value is trying to be set on a copy of a slice from a DataFrame.\n",
      "Try using .loc[row_indexer,col_indexer] = value instead\n",
      "\n",
      "See the caveats in the documentation: http://pandas.pydata.org/pandas-docs/stable/indexing.html#indexing-view-versus-copy\n",
      "  from ipykernel import kernelapp as app\n",
      "C:\\Users\\kuang\\Anaconda3\\lib\\site-packages\\ipykernel\\__main__.py:3: SettingWithCopyWarning: \n",
      "A value is trying to be set on a copy of a slice from a DataFrame.\n",
      "Try using .loc[row_indexer,col_indexer] = value instead\n",
      "\n",
      "See the caveats in the documentation: http://pandas.pydata.org/pandas-docs/stable/indexing.html#indexing-view-versus-copy\n",
      "  app.launch_new_instance()\n"
     ]
    }
   ],
   "source": [
    "variation_rename = {'适合身高': '身高', '童袜尺码': '尺码', '不需翻译': 'not set'}\n",
    "tw_site_product_list_with_selected_columns['变种属性名称一'] = tw_site_product_list_with_selected_columns['变种属性名称一'].apply(lambda x: variation_rename[x] if x in variation_rename else x)\n",
    "tw_site_product_list_with_selected_columns['变种属性名称二'] = tw_site_product_list_with_selected_columns['变种属性名称二'].apply(lambda x: variation_rename[x] if x in variation_rename else x)"
   ]
  },
  {
   "cell_type": "code",
   "execution_count": 53,
   "metadata": {
    "collapsed": true
   },
   "outputs": [],
   "source": [
    "# 对variation_value做一些删减\n",
    "# variation_value_list = set(list(tw_site_product_list_with_selected_columns['变种属性值一'].unique()) + list(tw_site_product_list_with_selected_columns['变种属性值一'].unique()))\n",
    "# logging.info('variation value list: ' + str(variation_value_list))"
   ]
  },
  {
   "cell_type": "code",
   "execution_count": null,
   "metadata": {
    "collapsed": true
   },
   "outputs": [],
   "source": [
    "# tw_site_product_list_with_selected_columns = tw_site_product_list_with_selected_columns[:5]\n",
    "# # tw_site_product_list_with_selected_columns"
   ]
  },
  {
   "cell_type": "code",
   "execution_count": null,
   "metadata": {},
   "outputs": [
    {
     "name": "stderr",
     "output_type": "stream",
     "text": [
      " 2019-10-12 00:15:27,873 - INFO - 5 rows have been translated.\n",
      " 2019-10-12 00:17:09,938 - INFO - 10 rows have been translated.\n",
      " 2019-10-12 00:18:50,666 - INFO - 15 rows have been translated.\n",
      " 2019-10-12 00:20:31,730 - INFO - 20 rows have been translated.\n",
      " 2019-10-12 00:22:19,511 - INFO - 25 rows have been translated.\n",
      " 2019-10-12 00:24:01,295 - INFO - 30 rows have been translated.\n",
      " 2019-10-12 00:25:42,271 - INFO - 35 rows have been translated.\n",
      " 2019-10-12 00:27:22,553 - INFO - 40 rows have been translated.\n",
      " 2019-10-12 00:29:02,241 - INFO - 45 rows have been translated.\n",
      " 2019-10-12 00:30:42,218 - INFO - 50 rows have been translated.\n",
      " 2019-10-12 00:32:20,357 - INFO - 55 rows have been translated.\n",
      " 2019-10-12 00:33:58,834 - INFO - 60 rows have been translated.\n",
      " 2019-10-12 00:35:37,513 - INFO - 65 rows have been translated.\n",
      " 2019-10-12 00:37:16,248 - INFO - 70 rows have been translated.\n",
      " 2019-10-12 00:38:53,612 - INFO - 75 rows have been translated.\n",
      " 2019-10-12 00:40:31,320 - INFO - 80 rows have been translated.\n",
      " 2019-10-12 00:42:09,143 - INFO - 85 rows have been translated.\n",
      " 2019-10-12 00:43:45,615 - INFO - 90 rows have been translated.\n",
      " 2019-10-12 00:45:22,775 - INFO - 95 rows have been translated.\n",
      " 2019-10-12 00:47:00,076 - INFO - 100 rows have been translated.\n",
      " 2019-10-12 00:48:40,831 - INFO - 105 rows have been translated.\n",
      " 2019-10-12 00:50:19,169 - INFO - 110 rows have been translated.\n",
      " 2019-10-12 00:51:58,343 - INFO - 115 rows have been translated.\n",
      " 2019-10-12 00:53:36,525 - INFO - 120 rows have been translated.\n",
      " 2019-10-12 00:55:13,785 - INFO - 125 rows have been translated.\n",
      " 2019-10-12 00:56:50,694 - INFO - 130 rows have been translated.\n",
      " 2019-10-12 00:58:29,361 - INFO - 135 rows have been translated.\n",
      " 2019-10-12 01:00:07,473 - INFO - 140 rows have been translated.\n",
      " 2019-10-12 01:01:46,910 - INFO - 145 rows have been translated.\n",
      " 2019-10-12 01:03:23,559 - INFO - 150 rows have been translated.\n",
      " 2019-10-12 01:05:04,324 - INFO - 155 rows have been translated.\n",
      " 2019-10-12 01:06:41,797 - INFO - 160 rows have been translated.\n",
      " 2019-10-12 01:08:19,047 - INFO - 165 rows have been translated.\n",
      " 2019-10-12 01:09:58,861 - INFO - 170 rows have been translated.\n",
      " 2019-10-12 01:11:40,886 - INFO - 175 rows have been translated.\n",
      " 2019-10-12 01:13:19,938 - INFO - 180 rows have been translated.\n",
      " 2019-10-12 01:15:02,509 - INFO - 185 rows have been translated.\n",
      " 2019-10-12 01:16:40,320 - INFO - 190 rows have been translated.\n",
      " 2019-10-12 01:18:18,164 - INFO - 195 rows have been translated.\n",
      " 2019-10-12 01:19:59,922 - INFO - 200 rows have been translated.\n",
      " 2019-10-12 01:21:38,224 - INFO - 205 rows have been translated.\n",
      " 2019-10-12 01:23:17,366 - INFO - 210 rows have been translated.\n",
      " 2019-10-12 01:24:56,437 - INFO - 215 rows have been translated.\n",
      " 2019-10-12 01:26:38,928 - INFO - 220 rows have been translated.\n",
      " 2019-10-12 01:28:20,728 - INFO - 225 rows have been translated.\n",
      " 2019-10-12 01:30:01,936 - INFO - 230 rows have been translated.\n",
      " 2019-10-12 01:31:43,186 - INFO - 235 rows have been translated.\n",
      " 2019-10-12 01:33:22,888 - INFO - 240 rows have been translated.\n",
      " 2019-10-12 01:35:03,761 - INFO - 245 rows have been translated.\n",
      " 2019-10-12 01:36:46,669 - INFO - 250 rows have been translated.\n",
      " 2019-10-12 01:38:26,725 - INFO - 255 rows have been translated.\n",
      " 2019-10-12 01:40:11,592 - INFO - 260 rows have been translated.\n",
      " 2019-10-12 01:41:53,624 - INFO - 265 rows have been translated.\n",
      " 2019-10-12 01:43:35,421 - INFO - 270 rows have been translated.\n",
      " 2019-10-12 01:45:19,579 - INFO - 275 rows have been translated.\n",
      " 2019-10-12 01:47:01,296 - INFO - 280 rows have been translated.\n",
      " 2019-10-12 01:48:44,175 - INFO - 285 rows have been translated.\n",
      " 2019-10-12 01:50:27,554 - INFO - 290 rows have been translated.\n",
      " 2019-10-12 01:52:11,004 - INFO - 295 rows have been translated.\n",
      " 2019-10-12 01:53:54,961 - INFO - 300 rows have been translated.\n",
      " 2019-10-12 01:55:38,186 - INFO - 305 rows have been translated.\n",
      " 2019-10-12 01:57:21,773 - INFO - 310 rows have been translated.\n",
      " 2019-10-12 01:59:02,855 - INFO - 315 rows have been translated.\n",
      " 2019-10-12 02:00:45,165 - INFO - 320 rows have been translated.\n",
      " 2019-10-12 02:02:24,442 - INFO - 325 rows have been translated.\n",
      " 2019-10-12 02:04:04,644 - INFO - 330 rows have been translated.\n",
      " 2019-10-12 02:05:44,050 - INFO - 335 rows have been translated.\n",
      " 2019-10-12 02:07:23,391 - INFO - 340 rows have been translated.\n",
      " 2019-10-12 02:09:02,351 - INFO - 345 rows have been translated.\n",
      " 2019-10-12 02:10:42,941 - INFO - 350 rows have been translated.\n",
      " 2019-10-12 02:12:27,719 - INFO - 355 rows have been translated.\n",
      " 2019-10-12 02:14:10,597 - INFO - 360 rows have been translated.\n",
      " 2019-10-12 02:15:49,442 - INFO - 365 rows have been translated.\n",
      " 2019-10-12 02:17:27,927 - INFO - 370 rows have been translated.\n",
      " 2019-10-12 02:19:03,844 - INFO - 375 rows have been translated.\n",
      " 2019-10-12 02:20:40,549 - INFO - 380 rows have been translated.\n",
      " 2019-10-12 02:22:19,510 - INFO - 385 rows have been translated.\n",
      " 2019-10-12 02:23:55,327 - INFO - 390 rows have been translated.\n",
      " 2019-10-12 02:25:02,140 - WARNING - 394 rows have not been translated. Error message: ('Connection broken: IncompleteRead(6147 bytes read, 1373 more expected)', IncompleteRead(6147 bytes read, 1373 more expected))\n",
      " 2019-10-12 02:25:02,182 - WARNING - 395 rows have not been translated. Error message: (\"bad handshake: SysCallError(-1, 'Unexpected EOF')\",)\n",
      " 2019-10-12 02:25:02,230 - WARNING - 396 rows have not been translated. Error message: HTTPSConnectionPool(host='translate.google.co.kr', port=443): Max retries exceeded with url: /translate_a/single?q=12+%E0%B8%8A%E0%B8%B4%E0%B9%89%E0%B8%99+%E0%B9%83%E0%B8%AB%E0%B8%A1%E0%B9%88%E0%B9%80%E0%B8%94%E0%B9%87%E0%B8%81%E0%B9%83%E0%B8%AB%E0%B8%8D%E0%B9%88%E0%B9%80%E0%B8%94%E0%B9%87%E0%B8%81%E0%B9%80%E0%B8%94%E0%B9%87%E0%B8%81%E0%B8%8A%E0%B8%B8%E0%B8%94%E0%B8%8A%E0%B8%B1%E0%B9%89%E0%B8%99%E0%B9%83%E0%B8%99%E0%B8%8A%E0%B8%B8%E0%B8%94%E0%B8%8A%E0%B8%B1%E0%B9%89%E0%B8%99%E0%B9%83%E0%B8%99%E0%B8%9C%E0%B8%B9%E0%B9%89%E0%B8%AB%E0%B8%8D%E0%B8%B4%E0%B8%87%E0%B8%9C%E0%B9%89%E0%B8%B2%E0%B8%9D%E0%B9%89%E0%B8%B2%E0%B8%A2%E0%B8%81%E0%B8%B2%E0%B8%A3%E0%B9%8C%E0%B8%95%E0%B8%B9%E0%B8%99%E0%B8%81%E0%B8%B2%E0%B8%87%E0%B9%80%E0%B8%81%E0%B8%87%E0%B9%83%E0%B8%99%E0%B9%80%E0%B8%94%E0%B9%87%E0%B8%81%E0%B9%82%E0%B8%A3%E0%B8%87%E0%B8%87%E0%B8%B2%E0%B8%99%E0%B8%82%E0%B8%B2%E0%B8%A2%E0%B8%AA%E0%B9%88%E0%B8%87&tsel=0&tk=864534.760164&ssel=0&dt=at&dt=bd&dt=ex&dt=ld&dt=md&dt=qca&dt=rw&dt=rm&dt=ss&dt=t&oe=UTF-8&otf=1&hl=en&client=t&ie=UTF-8&tl=en&sl=auto (Caused by ProxyError('Cannot connect to proxy.', RemoteDisconnected('Remote end closed connection without response',)))\n",
      " 2019-10-12 02:25:02,264 - WARNING - 397 rows have not been translated. Error message: (\"bad handshake: SysCallError(-1, 'Unexpected EOF')\",)\n",
      " 2019-10-12 02:25:02,301 - WARNING - 398 rows have not been translated. Error message: (\"bad handshake: SysCallError(-1, 'Unexpected EOF')\",)\n",
      " 2019-10-12 02:25:02,344 - WARNING - 399 rows have not been translated. Error message: (\"bad handshake: SysCallError(-1, 'Unexpected EOF')\",)\n",
      " 2019-10-12 02:25:02,390 - WARNING - 400 rows have not been translated. Error message: (\"bad handshake: SysCallError(-1, 'Unexpected EOF')\",)\n",
      " 2019-10-12 02:25:02,434 - WARNING - 401 rows have not been translated. Error message: (\"bad handshake: SysCallError(-1, 'Unexpected EOF')\",)\n",
      " 2019-10-12 02:25:02,472 - WARNING - 402 rows have not been translated. Error message: (\"bad handshake: SysCallError(-1, 'Unexpected EOF')\",)\n",
      " 2019-10-12 02:25:02,506 - WARNING - 403 rows have not been translated. Error message: (\"bad handshake: SysCallError(-1, 'Unexpected EOF')\",)\n",
      " 2019-10-12 02:25:02,548 - WARNING - 404 rows have not been translated. Error message: (\"bad handshake: SysCallError(-1, 'Unexpected EOF')\",)\n",
      " 2019-10-12 02:25:02,598 - WARNING - 405 rows have not been translated. Error message: (\"bad handshake: SysCallError(-1, 'Unexpected EOF')\",)\n",
      " 2019-10-12 02:25:02,638 - WARNING - 406 rows have not been translated. Error message: (\"bad handshake: SysCallError(-1, 'Unexpected EOF')\",)\n",
      " 2019-10-12 02:25:02,678 - WARNING - 407 rows have not been translated. Error message: (\"bad handshake: SysCallError(-1, 'Unexpected EOF')\",)\n"
     ]
    },
    {
     "name": "stderr",
     "output_type": "stream",
     "text": [
      " 2019-10-12 02:25:02,727 - WARNING - 408 rows have not been translated. Error message: (\"bad handshake: SysCallError(-1, 'Unexpected EOF')\",)\n",
      " 2019-10-12 02:25:02,768 - WARNING - 409 rows have not been translated. Error message: (\"bad handshake: SysCallError(-1, 'Unexpected EOF')\",)\n",
      " 2019-10-12 02:25:02,807 - WARNING - 410 rows have not been translated. Error message: (\"bad handshake: SysCallError(-1, 'Unexpected EOF')\",)\n",
      " 2019-10-12 02:25:02,850 - WARNING - 411 rows have not been translated. Error message: (\"bad handshake: SysCallError(-1, 'Unexpected EOF')\",)\n",
      " 2019-10-12 02:25:02,891 - WARNING - 412 rows have not been translated. Error message: (\"bad handshake: SysCallError(-1, 'Unexpected EOF')\",)\n",
      " 2019-10-12 02:25:02,932 - WARNING - 413 rows have not been translated. Error message: (\"bad handshake: SysCallError(-1, 'Unexpected EOF')\",)\n",
      " 2019-10-12 02:25:02,975 - WARNING - 414 rows have not been translated. Error message: (\"bad handshake: SysCallError(-1, 'Unexpected EOF')\",)\n",
      " 2019-10-12 02:25:03,018 - WARNING - 415 rows have not been translated. Error message: (\"bad handshake: SysCallError(-1, 'Unexpected EOF')\",)\n",
      " 2019-10-12 02:25:03,058 - WARNING - 416 rows have not been translated. Error message: (\"bad handshake: SysCallError(-1, 'Unexpected EOF')\",)\n",
      " 2019-10-12 02:25:03,106 - WARNING - 417 rows have not been translated. Error message: (\"bad handshake: SysCallError(-1, 'Unexpected EOF')\",)\n",
      " 2019-10-12 02:25:03,144 - WARNING - 418 rows have not been translated. Error message: (\"bad handshake: SysCallError(-1, 'Unexpected EOF')\",)\n",
      " 2019-10-12 02:25:03,186 - WARNING - 419 rows have not been translated. Error message: (\"bad handshake: SysCallError(-1, 'Unexpected EOF')\",)\n",
      " 2019-10-12 02:25:03,226 - WARNING - 420 rows have not been translated. Error message: (\"bad handshake: SysCallError(-1, 'Unexpected EOF')\",)\n",
      " 2019-10-12 02:25:03,277 - WARNING - 421 rows have not been translated. Error message: (\"bad handshake: SysCallError(-1, 'Unexpected EOF')\",)\n",
      " 2019-10-12 02:25:03,314 - WARNING - 422 rows have not been translated. Error message: (\"bad handshake: SysCallError(-1, 'Unexpected EOF')\",)\n",
      " 2019-10-12 02:25:03,354 - WARNING - 423 rows have not been translated. Error message: (\"bad handshake: SysCallError(-1, 'Unexpected EOF')\",)\n",
      " 2019-10-12 08:22:37,450 - INFO - 3065 rows have been translated.\n",
      " 2019-10-12 08:24:12,912 - WARNING - 3069 rows have not been translated. Error message: [Errno 13] Permission denied: 'D:\\\\Program Files (x86)\\\\百度云同步盘\\\\Dropbox\\\\-E·J- 2014.5.1\\\\2019.7.24 tengus产品迁移\\\\sg_translated_product_20191012.xlsx'\n",
      " 2019-10-12 08:24:26,409 - INFO - 3070 rows have been translated.\n",
      " 2019-10-12 08:24:32,883 - WARNING - 3070 rows have not been translated. Error message: [Errno 13] Permission denied: 'D:\\\\Program Files (x86)\\\\百度云同步盘\\\\Dropbox\\\\-E·J- 2014.5.1\\\\2019.7.24 tengus产品迁移\\\\sg_translated_product_20191012.xlsx'\n",
      " 2019-10-12 08:26:07,331 - INFO - 3075 rows have been translated.\n",
      " 2019-10-12 08:27:50,993 - INFO - 3080 rows have been translated.\n",
      " 2019-10-12 08:29:30,370 - INFO - 3085 rows have been translated.\n",
      " 2019-10-12 08:31:08,109 - INFO - 3090 rows have been translated.\n",
      " 2019-10-12 08:32:43,794 - INFO - 3095 rows have been translated.\n",
      " 2019-10-12 08:34:20,528 - INFO - 3100 rows have been translated.\n",
      " 2019-10-12 08:35:57,916 - INFO - 3105 rows have been translated.\n",
      " 2019-10-12 08:37:38,701 - INFO - 3110 rows have been translated.\n",
      " 2019-10-12 08:39:16,894 - INFO - 3115 rows have been translated.\n",
      " 2019-10-12 08:40:55,440 - INFO - 3120 rows have been translated.\n",
      " 2019-10-12 08:42:33,494 - INFO - 3125 rows have been translated.\n",
      " 2019-10-12 08:44:11,159 - INFO - 3130 rows have been translated.\n",
      " 2019-10-12 08:45:48,042 - INFO - 3135 rows have been translated.\n",
      " 2019-10-12 08:47:23,738 - INFO - 3140 rows have been translated.\n",
      " 2019-10-12 08:49:01,649 - INFO - 3145 rows have been translated.\n",
      " 2019-10-12 08:50:40,534 - INFO - 3150 rows have been translated.\n",
      " 2019-10-12 08:52:17,705 - INFO - 3155 rows have been translated.\n",
      " 2019-10-12 08:53:54,276 - INFO - 3160 rows have been translated.\n",
      " 2019-10-12 08:55:32,270 - INFO - 3165 rows have been translated.\n",
      " 2019-10-12 08:57:10,113 - INFO - 3170 rows have been translated.\n",
      " 2019-10-12 08:58:47,017 - INFO - 3175 rows have been translated.\n",
      " 2019-10-12 09:00:27,302 - INFO - 3180 rows have been translated.\n",
      " 2019-10-12 09:02:03,490 - INFO - 3185 rows have been translated.\n",
      " 2019-10-12 09:03:40,403 - INFO - 3190 rows have been translated.\n",
      " 2019-10-12 09:05:17,896 - INFO - 3195 rows have been translated.\n",
      " 2019-10-12 09:06:56,030 - INFO - 3200 rows have been translated.\n",
      " 2019-10-12 09:08:34,392 - INFO - 3205 rows have been translated.\n",
      " 2019-10-12 09:10:12,999 - INFO - 3210 rows have been translated.\n",
      " 2019-10-12 09:11:49,867 - INFO - 3215 rows have been translated.\n",
      " 2019-10-12 09:13:28,221 - INFO - 3220 rows have been translated.\n",
      " 2019-10-12 09:15:04,937 - INFO - 3225 rows have been translated.\n",
      " 2019-10-12 09:16:42,436 - INFO - 3230 rows have been translated.\n",
      " 2019-10-12 09:18:19,178 - INFO - 3235 rows have been translated.\n",
      " 2019-10-12 09:19:57,198 - INFO - 3240 rows have been translated.\n",
      " 2019-10-12 09:21:35,830 - INFO - 3245 rows have been translated.\n",
      " 2019-10-12 09:23:12,294 - INFO - 3250 rows have been translated.\n",
      " 2019-10-12 09:24:49,461 - INFO - 3255 rows have been translated.\n",
      " 2019-10-12 09:26:25,937 - INFO - 3260 rows have been translated.\n",
      " 2019-10-12 09:28:03,223 - INFO - 3265 rows have been translated.\n",
      " 2019-10-12 09:29:42,761 - INFO - 3270 rows have been translated.\n",
      " 2019-10-12 09:31:19,529 - INFO - 3275 rows have been translated.\n",
      " 2019-10-12 09:32:55,616 - INFO - 3280 rows have been translated.\n",
      " 2019-10-12 09:34:33,126 - INFO - 3285 rows have been translated.\n",
      " 2019-10-12 09:36:11,412 - INFO - 3290 rows have been translated.\n",
      " 2019-10-12 09:37:49,565 - INFO - 3295 rows have been translated.\n",
      " 2019-10-12 09:39:27,598 - INFO - 3300 rows have been translated.\n",
      " 2019-10-12 09:41:04,026 - INFO - 3305 rows have been translated.\n",
      " 2019-10-12 09:42:40,617 - INFO - 3310 rows have been translated.\n",
      " 2019-10-12 09:44:17,486 - INFO - 3315 rows have been translated.\n",
      " 2019-10-12 09:45:53,961 - INFO - 3320 rows have been translated.\n",
      " 2019-10-12 09:47:33,146 - INFO - 3325 rows have been translated.\n",
      " 2019-10-12 09:49:12,103 - INFO - 3330 rows have been translated.\n",
      " 2019-10-12 09:50:47,815 - INFO - 3335 rows have been translated.\n",
      " 2019-10-12 09:52:24,967 - INFO - 3340 rows have been translated.\n",
      " 2019-10-12 09:54:02,187 - INFO - 3345 rows have been translated.\n",
      " 2019-10-12 09:55:41,714 - INFO - 3350 rows have been translated.\n",
      " 2019-10-12 09:57:20,792 - INFO - 3355 rows have been translated.\n",
      " 2019-10-12 09:58:59,578 - INFO - 3360 rows have been translated.\n",
      " 2019-10-12 10:00:42,527 - INFO - 3365 rows have been translated.\n",
      " 2019-10-12 10:02:21,210 - INFO - 3370 rows have been translated.\n",
      " 2019-10-12 10:04:01,272 - INFO - 3375 rows have been translated.\n",
      " 2019-10-12 10:05:41,001 - INFO - 3380 rows have been translated.\n",
      " 2019-10-12 10:07:20,399 - INFO - 3385 rows have been translated.\n",
      " 2019-10-12 10:09:00,055 - INFO - 3390 rows have been translated.\n",
      " 2019-10-12 10:10:38,585 - INFO - 3395 rows have been translated.\n",
      " 2019-10-12 10:12:18,285 - INFO - 3400 rows have been translated.\n",
      " 2019-10-12 10:13:57,222 - INFO - 3405 rows have been translated.\n",
      " 2019-10-12 10:15:36,939 - INFO - 3410 rows have been translated.\n",
      " 2019-10-12 10:17:16,161 - INFO - 3415 rows have been translated.\n",
      " 2019-10-12 10:18:55,054 - INFO - 3420 rows have been translated.\n",
      " 2019-10-12 10:20:34,171 - INFO - 3425 rows have been translated.\n",
      " 2019-10-12 10:22:13,275 - INFO - 3430 rows have been translated.\n",
      " 2019-10-12 10:23:52,749 - INFO - 3435 rows have been translated.\n",
      " 2019-10-12 10:25:34,057 - INFO - 3440 rows have been translated.\n",
      " 2019-10-12 10:27:14,264 - INFO - 3445 rows have been translated.\n",
      " 2019-10-12 10:28:51,008 - INFO - 3450 rows have been translated.\n",
      " 2019-10-12 10:30:27,029 - INFO - 3455 rows have been translated.\n",
      " 2019-10-12 10:32:03,327 - INFO - 3460 rows have been translated.\n",
      " 2019-10-12 10:33:39,013 - INFO - 3465 rows have been translated.\n",
      " 2019-10-12 10:35:15,191 - INFO - 3470 rows have been translated.\n",
      " 2019-10-12 10:36:51,099 - INFO - 3475 rows have been translated.\n"
     ]
    },
    {
     "name": "stderr",
     "output_type": "stream",
     "text": [
      " 2019-10-12 10:38:26,552 - INFO - 3480 rows have been translated.\n",
      " 2019-10-12 10:40:02,732 - INFO - 3485 rows have been translated.\n",
      " 2019-10-12 10:41:39,580 - INFO - 3490 rows have been translated.\n",
      " 2019-10-12 10:43:15,951 - INFO - 3495 rows have been translated.\n",
      " 2019-10-12 10:44:51,875 - INFO - 3500 rows have been translated.\n",
      " 2019-10-12 10:46:29,139 - INFO - 3505 rows have been translated.\n",
      " 2019-10-12 10:48:04,593 - INFO - 3510 rows have been translated.\n",
      " 2019-10-12 10:49:39,579 - INFO - 3515 rows have been translated.\n",
      " 2019-10-12 10:51:16,109 - INFO - 3520 rows have been translated.\n",
      " 2019-10-12 10:52:50,996 - INFO - 3525 rows have been translated.\n",
      " 2019-10-12 10:54:27,700 - INFO - 3530 rows have been translated.\n",
      " 2019-10-12 10:56:03,014 - INFO - 3535 rows have been translated.\n",
      " 2019-10-12 10:57:40,080 - INFO - 3540 rows have been translated.\n",
      " 2019-10-12 10:59:17,699 - INFO - 3545 rows have been translated.\n",
      " 2019-10-12 11:00:53,565 - INFO - 3550 rows have been translated.\n",
      " 2019-10-12 11:02:28,972 - INFO - 3555 rows have been translated.\n",
      " 2019-10-12 11:04:05,183 - INFO - 3560 rows have been translated.\n",
      " 2019-10-12 11:05:41,867 - INFO - 3565 rows have been translated.\n",
      " 2019-10-12 11:07:16,822 - INFO - 3570 rows have been translated.\n",
      " 2019-10-12 11:08:52,609 - INFO - 3575 rows have been translated.\n",
      " 2019-10-12 11:10:30,869 - INFO - 3580 rows have been translated.\n",
      " 2019-10-12 11:12:08,125 - INFO - 3585 rows have been translated.\n",
      " 2019-10-12 11:13:44,574 - INFO - 3590 rows have been translated.\n",
      " 2019-10-12 11:15:22,704 - INFO - 3595 rows have been translated.\n",
      " 2019-10-12 11:17:01,392 - INFO - 3600 rows have been translated.\n",
      " 2019-10-12 11:18:40,955 - INFO - 3605 rows have been translated.\n",
      " 2019-10-12 11:20:19,535 - INFO - 3610 rows have been translated.\n",
      " 2019-10-12 11:21:57,223 - INFO - 3615 rows have been translated.\n",
      " 2019-10-12 11:23:36,741 - INFO - 3620 rows have been translated.\n",
      " 2019-10-12 11:25:15,284 - INFO - 3625 rows have been translated.\n",
      " 2019-10-12 11:26:54,891 - INFO - 3630 rows have been translated.\n",
      " 2019-10-12 11:28:34,878 - INFO - 3635 rows have been translated.\n",
      " 2019-10-12 11:30:12,533 - INFO - 3640 rows have been translated.\n",
      " 2019-10-12 11:31:49,217 - INFO - 3645 rows have been translated.\n",
      " 2019-10-12 11:33:26,630 - INFO - 3650 rows have been translated.\n",
      " 2019-10-12 11:35:02,807 - INFO - 3655 rows have been translated.\n",
      " 2019-10-12 11:36:39,749 - INFO - 3660 rows have been translated.\n",
      " 2019-10-12 11:38:18,547 - INFO - 3665 rows have been translated.\n",
      " 2019-10-12 11:39:53,970 - INFO - 3670 rows have been translated.\n",
      " 2019-10-12 11:41:33,541 - INFO - 3675 rows have been translated.\n",
      " 2019-10-12 11:43:12,840 - INFO - 3680 rows have been translated.\n",
      " 2019-10-12 11:44:51,150 - INFO - 3685 rows have been translated.\n",
      " 2019-10-12 11:46:30,254 - INFO - 3690 rows have been translated.\n",
      " 2019-10-12 11:48:08,894 - INFO - 3695 rows have been translated.\n",
      " 2019-10-12 11:49:48,298 - INFO - 3700 rows have been translated.\n",
      " 2019-10-12 11:51:28,929 - INFO - 3705 rows have been translated.\n",
      " 2019-10-12 11:53:07,835 - INFO - 3710 rows have been translated.\n",
      " 2019-10-12 11:54:47,106 - INFO - 3715 rows have been translated.\n",
      " 2019-10-12 11:56:26,806 - INFO - 3720 rows have been translated.\n",
      " 2019-10-12 11:58:05,971 - INFO - 3725 rows have been translated.\n",
      " 2019-10-12 11:59:44,313 - INFO - 3730 rows have been translated.\n",
      " 2019-10-12 12:01:24,696 - INFO - 3735 rows have been translated.\n",
      " 2019-10-12 12:03:03,165 - INFO - 3740 rows have been translated.\n",
      " 2019-10-12 12:04:43,015 - INFO - 3745 rows have been translated.\n",
      " 2019-10-12 12:06:23,024 - INFO - 3750 rows have been translated.\n",
      " 2019-10-12 12:08:02,107 - INFO - 3755 rows have been translated.\n",
      " 2019-10-12 12:09:41,892 - INFO - 3760 rows have been translated.\n",
      " 2019-10-12 12:11:21,510 - INFO - 3765 rows have been translated.\n",
      " 2019-10-12 12:13:00,440 - INFO - 3770 rows have been translated.\n",
      " 2019-10-12 12:14:41,267 - INFO - 3775 rows have been translated.\n",
      " 2019-10-12 12:16:22,311 - INFO - 3780 rows have been translated.\n",
      " 2019-10-12 12:18:00,852 - INFO - 3785 rows have been translated.\n",
      " 2019-10-12 14:39:24,950 - INFO - 4220 rows have been translated.\n",
      " 2019-10-12 14:41:07,616 - INFO - 4225 rows have been translated.\n",
      " 2019-10-12 14:42:50,124 - INFO - 4230 rows have been translated.\n",
      " 2019-10-12 14:44:48,079 - INFO - 4235 rows have been translated.\n",
      " 2019-10-12 14:46:48,786 - INFO - 4240 rows have been translated.\n",
      " 2019-10-12 14:48:46,764 - INFO - 4245 rows have been translated.\n",
      " 2019-10-12 14:50:49,922 - INFO - 4250 rows have been translated.\n",
      " 2019-10-12 14:52:28,747 - INFO - 4255 rows have been translated.\n",
      " 2019-10-12 14:54:25,896 - INFO - 4260 rows have been translated.\n",
      " 2019-10-12 14:56:07,811 - INFO - 4265 rows have been translated.\n",
      " 2019-10-12 14:57:56,161 - INFO - 4270 rows have been translated.\n",
      " 2019-10-12 15:00:01,921 - INFO - 4275 rows have been translated.\n",
      " 2019-10-12 15:01:57,207 - INFO - 4280 rows have been translated.\n",
      " 2019-10-12 15:03:36,681 - INFO - 4285 rows have been translated.\n",
      " 2019-10-12 15:05:20,250 - INFO - 4290 rows have been translated.\n",
      " 2019-10-12 15:07:11,548 - INFO - 4295 rows have been translated.\n",
      " 2019-10-12 15:08:51,464 - INFO - 4300 rows have been translated.\n",
      " 2019-10-12 15:10:30,865 - INFO - 4305 rows have been translated.\n",
      " 2019-10-12 15:12:08,637 - INFO - 4310 rows have been translated.\n",
      " 2019-10-12 15:13:46,009 - INFO - 4315 rows have been translated.\n",
      " 2019-10-12 15:15:22,984 - INFO - 4320 rows have been translated.\n",
      " 2019-10-12 15:17:00,983 - INFO - 4325 rows have been translated.\n",
      " 2019-10-12 15:18:40,170 - INFO - 4330 rows have been translated.\n",
      " 2019-10-12 15:20:18,057 - INFO - 4335 rows have been translated.\n",
      " 2019-10-12 15:21:56,476 - INFO - 4340 rows have been translated.\n",
      " 2019-10-12 15:23:35,546 - INFO - 4345 rows have been translated.\n",
      " 2019-10-12 15:25:14,881 - INFO - 4350 rows have been translated.\n",
      " 2019-10-12 15:26:53,258 - INFO - 4355 rows have been translated.\n",
      " 2019-10-12 15:28:32,273 - INFO - 4360 rows have been translated.\n",
      " 2019-10-12 15:30:10,269 - INFO - 4365 rows have been translated.\n",
      " 2019-10-12 15:31:46,406 - INFO - 4370 rows have been translated.\n",
      " 2019-10-12 15:33:21,402 - INFO - 4375 rows have been translated.\n",
      " 2019-10-12 15:34:57,795 - INFO - 4380 rows have been translated.\n",
      " 2019-10-12 15:36:34,743 - INFO - 4385 rows have been translated.\n",
      " 2019-10-12 15:38:11,636 - INFO - 4390 rows have been translated.\n",
      " 2019-10-12 15:39:48,865 - INFO - 4395 rows have been translated.\n",
      " 2019-10-12 15:41:24,912 - INFO - 4400 rows have been translated.\n",
      " 2019-10-12 15:43:01,145 - INFO - 4405 rows have been translated.\n"
     ]
    }
   ],
   "source": [
    "for index, row in tw_site_product_list_with_selected_columns.iterrows():\n",
    "    try:\n",
    "        list_to_translate = []\n",
    "        for i, value in enumerate(translate_columns):\n",
    "            list_to_translate.append(row[translate_columns[i]])\n",
    "        \n",
    "        translate_language = 'en'\n",
    "        # translator = Translator(service_urls=['translate.google.com'])\n",
    "        # list_be_translated = translator.translate(list_to_translate, dest=translate_language, src='zh-CN')\n",
    "        list_be_translated = translator.translate(list_to_translate, dest=translate_language)\n",
    "        time.sleep(10)\n",
    "        \n",
    "        i = 0\n",
    "        for translate_language in list_be_translated:\n",
    "            tw_site_product_list_with_selected_columns.at[index, translate_columns[i]] = translate_language.text\n",
    "            i += 1\n",
    "        \n",
    "        if (index + 1) % 5 == 0:\n",
    "            logging.info(str(index + 1) + ' rows have been translated.')\n",
    "            \n",
    "        tw_site_product_list_with_selected_columns.to_excel(os.path.join(folder_path, 'sg_translated_product_20191012.xlsx'), index=False)\n",
    "    except Exception as err:\n",
    "        logging.warning(str(index + 1) + ' rows have not been translated. Error message: ' + str(err))\n",
    "        pass"
   ]
  },
  {
   "cell_type": "code",
   "execution_count": null,
   "metadata": {
    "collapsed": true,
    "scrolled": true
   },
   "outputs": [],
   "source": [
    "# for translate_column in translate_columns:\n",
    "#     # tw_site_product_list_with_selected_columns[translate_column] = tw_site_product_list_with_selected_columns[translate_column].fillna(0)\n",
    "#     # tw_site_product_list_with_selected_columns[translate_column]  = [translator.translate(x, dest=translate_language).text \n",
    "#                                                                      # for x in tw_site_product_list_with_selected_columns[translate_column]]\n",
    "#     for index, row in tw_site_product_list_with_selected_columns.iterrows():\n",
    "#         try:\n",
    "#             orginal_text = tw_site_product_list_with_selected_columns.at[index, translate_column]\n",
    "#             tw_site_product_list_with_selected_columns.at[index, translate_column] = translator.translate(row[translate_column], dest=translate_language).text\n",
    "#             # print(row[translate_column])\n",
    "#             logging.info(translate_column + ' - ' + str(index + 1) + ' rows have been translated.')\n",
    "#             # logging.info(orginal_text + ' -> ' + tw_site_product_list_with_selected_columns.at[index, translate_column])\n",
    "#             time.sleep(5)\n",
    "#         except:\n",
    "#             logging.warning(translate_column + ' - ' + str(index + 1) + ' rows have not been translated.')\n",
    "#             pass\n",
    "        \n",
    "#     # print(tw_site_product_list_with_selected_columns.head(5))\n",
    "    \n",
    "#     tw_site_product_list_with_selected_columns.to_excel(os.path.join(folder_path, 'tw_translated_product(1).xlsx'), index=False)\n",
    "#     logging.info(str(translate_column) + ' is done.')"
   ]
  }
 ],
 "metadata": {
  "anaconda-cloud": {},
  "kernelspec": {
   "display_name": "Python [conda env:Anaconda3]",
   "language": "python",
   "name": "conda-env-Anaconda3-py"
  },
  "language_info": {
   "codemirror_mode": {
    "name": "ipython",
    "version": 3
   },
   "file_extension": ".py",
   "mimetype": "text/x-python",
   "name": "python",
   "nbconvert_exporter": "python",
   "pygments_lexer": "ipython3",
   "version": "3.5.2"
  }
 },
 "nbformat": 4,
 "nbformat_minor": 1
}
