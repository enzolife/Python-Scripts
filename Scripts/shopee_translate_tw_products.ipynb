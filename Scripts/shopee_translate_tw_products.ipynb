{
 "cells": [
  {
   "cell_type": "code",
   "execution_count": 1,
   "metadata": {
    "collapsed": true
   },
   "outputs": [],
   "source": [
    "import pandas as pd\n",
    "import os\n",
    "import time\n",
    "import logging"
   ]
  },
  {
   "cell_type": "code",
   "execution_count": 2,
   "metadata": {
    "collapsed": true
   },
   "outputs": [],
   "source": [
    "logging.basicConfig(level=logging.INFO, format=' %(asctime)s - %(levelname)s - %(message)s')"
   ]
  },
  {
   "cell_type": "code",
   "execution_count": 3,
   "metadata": {
    "collapsed": true
   },
   "outputs": [],
   "source": [
    "folder_path = 'D:\\\\Program Files (x86)\\\\百度云同步盘\\\\Dropbox\\\\-E·J- 2014.5.1\\\\2019.7.24 tengus产品迁移\\\\'\n",
    "tw_site_product_list = pd.read_excel(os.path.join(folder_path, 'tengus台湾站产品.xlsx'))"
   ]
  },
  {
   "cell_type": "code",
   "execution_count": 4,
   "metadata": {
    "collapsed": true
   },
   "outputs": [],
   "source": [
    "# tw_site_product_list.columns"
   ]
  },
  {
   "cell_type": "code",
   "execution_count": 5,
   "metadata": {
    "collapsed": true
   },
   "outputs": [],
   "source": [
    "# tw_site_product_list = tw_site_product_list[tw_site_product_list['产品id'] == 2496637042]"
   ]
  },
  {
   "cell_type": "code",
   "execution_count": 6,
   "metadata": {
    "collapsed": true,
    "scrolled": false
   },
   "outputs": [],
   "source": [
    "# top_cat_in_tw = tw_site_product_list[['分类ID', '产品id']].groupby('分类ID').agg({'产品id': 'nunique'}).reset_index().sort_values(by='产品id', ascending=False).reset_index().head(5)\n",
    "# top_cat_in_tw"
   ]
  },
  {
   "cell_type": "code",
   "execution_count": 7,
   "metadata": {
    "collapsed": true
   },
   "outputs": [],
   "source": [
    "# top_cat_id = top_cat_in_tw['分类ID'][0]\n",
    "# top_cat_id"
   ]
  },
  {
   "cell_type": "code",
   "execution_count": 8,
   "metadata": {
    "collapsed": true
   },
   "outputs": [],
   "source": [
    "output_excel_columns = ['变种名称',\n",
    "                        '变种属性名称一',\n",
    "                        '变种属性名称二',\n",
    "                        '变种属性值一',\n",
    "                        '变种属性值二',\n",
    "                        '*价格（必填）',\n",
    "                        '*库存（必填）',\n",
    "                        '*重量(kg)(必填）',\n",
    "                        '*主图（URL）地址（必填）',\n",
    "                        '附图1',\n",
    "                        '附图2',\n",
    "                        '附图3',\n",
    "                        '附图4',\n",
    "                        '附图5',\n",
    "                        '附图6',\n",
    "                        '附图7',\n",
    "                        '附图8',\n",
    "                        '变种图',\n",
    "                        '长(cm)',\n",
    "                        '宽(cm)',\n",
    "                        '高(cm)',\n",
    "                        '发货期',\n",
    "                        '来源URL',\n",
    "                        '尺码图'\n",
    "]"
   ]
  },
  {
   "cell_type": "code",
   "execution_count": 9,
   "metadata": {
    "collapsed": true
   },
   "outputs": [],
   "source": [
    "tw_site_product_list_selected_columns = ['分类ID', '产品属性', 'Parent SKU', '产品标题', '产品描述', 'sku', '变种名称', '变种属性名称一',\n",
    "       '变种属性名称二', '变种属性值一', '变种属性值二', '价格', '库存', '重量', '主图（URL）地址', '附图1',\n",
    "       '附图2', '附图3', '附图4', '附图5', '附图6', '附图7', '附图8地址', '变种图', '长（cm）',\n",
    "       '宽（cm）', '高（cm）', '发货期', '来源URL', '尺码图']"
   ]
  },
  {
   "cell_type": "code",
   "execution_count": 10,
   "metadata": {},
   "outputs": [
    {
     "data": {
      "text/html": [
       "<div>\n",
       "<table border=\"1\" class=\"dataframe\">\n",
       "  <thead>\n",
       "    <tr style=\"text-align: right;\">\n",
       "      <th></th>\n",
       "      <th>分类ID</th>\n",
       "      <th>产品属性</th>\n",
       "      <th>Parent SKU</th>\n",
       "      <th>产品标题</th>\n",
       "      <th>产品描述</th>\n",
       "      <th>sku</th>\n",
       "      <th>变种名称</th>\n",
       "      <th>变种属性名称一</th>\n",
       "      <th>变种属性名称二</th>\n",
       "      <th>变种属性值一</th>\n",
       "      <th>...</th>\n",
       "      <th>附图6</th>\n",
       "      <th>附图7</th>\n",
       "      <th>附图8地址</th>\n",
       "      <th>变种图</th>\n",
       "      <th>长（cm）</th>\n",
       "      <th>宽（cm）</th>\n",
       "      <th>高（cm）</th>\n",
       "      <th>发货期</th>\n",
       "      <th>来源URL</th>\n",
       "      <th>尺码图</th>\n",
       "    </tr>\n",
       "  </thead>\n",
       "  <tbody>\n",
       "    <tr>\n",
       "      <th>0</th>\n",
       "      <td>9164</td>\n",
       "      <td>NaN</td>\n",
       "      <td>NaN</td>\n",
       "      <td>2019夏季新款儿童短袖套装纯棉宝宝韩版男女童婴儿中小童t恤批发</td>\n",
       "      <td>图案:卡通,纯色\\n货源类别:现货\\n是否外贸:否\\n颜色:B60,B61,B66,B70,...</td>\n",
       "      <td>B6073CM</td>\n",
       "      <td>B6073CM</td>\n",
       "      <td>颜色</td>\n",
       "      <td>适合身高</td>\n",
       "      <td>B60</td>\n",
       "      <td>...</td>\n",
       "      <td>https://cbu01.alicdn.com/img/ibank/2019/854/97...</td>\n",
       "      <td>https://cbu01.alicdn.com/img/ibank/2019/783/74...</td>\n",
       "      <td>https://cbu01.alicdn.com/img/ibank/2019/228/76...</td>\n",
       "      <td>https://cbu01.alicdn.com/img/ibank/2019/476/13...</td>\n",
       "      <td>NaN</td>\n",
       "      <td>NaN</td>\n",
       "      <td>NaN</td>\n",
       "      <td>NaN</td>\n",
       "      <td>https://detail.1688.com/offer/548949123379.html</td>\n",
       "      <td>NaN</td>\n",
       "    </tr>\n",
       "    <tr>\n",
       "      <th>1</th>\n",
       "      <td>9164</td>\n",
       "      <td>NaN</td>\n",
       "      <td>NaN</td>\n",
       "      <td>2019夏季新款儿童短袖套装纯棉宝宝韩版男女童婴儿中小童t恤批发</td>\n",
       "      <td>图案:卡通,纯色\\n货源类别:现货\\n是否外贸:否\\n颜色:B60,B61,B66,B70,...</td>\n",
       "      <td>B6080CM</td>\n",
       "      <td>B6080CM</td>\n",
       "      <td>颜色</td>\n",
       "      <td>适合身高</td>\n",
       "      <td>B60</td>\n",
       "      <td>...</td>\n",
       "      <td>https://cbu01.alicdn.com/img/ibank/2019/854/97...</td>\n",
       "      <td>https://cbu01.alicdn.com/img/ibank/2019/783/74...</td>\n",
       "      <td>https://cbu01.alicdn.com/img/ibank/2019/228/76...</td>\n",
       "      <td>https://cbu01.alicdn.com/img/ibank/2019/476/13...</td>\n",
       "      <td>NaN</td>\n",
       "      <td>NaN</td>\n",
       "      <td>NaN</td>\n",
       "      <td>NaN</td>\n",
       "      <td>https://detail.1688.com/offer/548949123379.html</td>\n",
       "      <td>NaN</td>\n",
       "    </tr>\n",
       "    <tr>\n",
       "      <th>2</th>\n",
       "      <td>9164</td>\n",
       "      <td>NaN</td>\n",
       "      <td>NaN</td>\n",
       "      <td>2019夏季新款儿童短袖套装纯棉宝宝韩版男女童婴儿中小童t恤批发</td>\n",
       "      <td>图案:卡通,纯色\\n货源类别:现货\\n是否外贸:否\\n颜色:B60,B61,B66,B70,...</td>\n",
       "      <td>B6090CM</td>\n",
       "      <td>B6090CM</td>\n",
       "      <td>颜色</td>\n",
       "      <td>适合身高</td>\n",
       "      <td>B60</td>\n",
       "      <td>...</td>\n",
       "      <td>https://cbu01.alicdn.com/img/ibank/2019/854/97...</td>\n",
       "      <td>https://cbu01.alicdn.com/img/ibank/2019/783/74...</td>\n",
       "      <td>https://cbu01.alicdn.com/img/ibank/2019/228/76...</td>\n",
       "      <td>https://cbu01.alicdn.com/img/ibank/2019/476/13...</td>\n",
       "      <td>NaN</td>\n",
       "      <td>NaN</td>\n",
       "      <td>NaN</td>\n",
       "      <td>NaN</td>\n",
       "      <td>https://detail.1688.com/offer/548949123379.html</td>\n",
       "      <td>NaN</td>\n",
       "    </tr>\n",
       "    <tr>\n",
       "      <th>3</th>\n",
       "      <td>9164</td>\n",
       "      <td>NaN</td>\n",
       "      <td>NaN</td>\n",
       "      <td>2019夏季新款儿童短袖套装纯棉宝宝韩版男女童婴儿中小童t恤批发</td>\n",
       "      <td>图案:卡通,纯色\\n货源类别:现货\\n是否外贸:否\\n颜色:B60,B61,B66,B70,...</td>\n",
       "      <td>B60100CM</td>\n",
       "      <td>B60100CM</td>\n",
       "      <td>颜色</td>\n",
       "      <td>适合身高</td>\n",
       "      <td>B60</td>\n",
       "      <td>...</td>\n",
       "      <td>https://cbu01.alicdn.com/img/ibank/2019/854/97...</td>\n",
       "      <td>https://cbu01.alicdn.com/img/ibank/2019/783/74...</td>\n",
       "      <td>https://cbu01.alicdn.com/img/ibank/2019/228/76...</td>\n",
       "      <td>https://cbu01.alicdn.com/img/ibank/2019/476/13...</td>\n",
       "      <td>NaN</td>\n",
       "      <td>NaN</td>\n",
       "      <td>NaN</td>\n",
       "      <td>NaN</td>\n",
       "      <td>https://detail.1688.com/offer/548949123379.html</td>\n",
       "      <td>NaN</td>\n",
       "    </tr>\n",
       "    <tr>\n",
       "      <th>4</th>\n",
       "      <td>9164</td>\n",
       "      <td>NaN</td>\n",
       "      <td>NaN</td>\n",
       "      <td>2019夏季新款儿童短袖套装纯棉宝宝韩版男女童婴儿中小童t恤批发</td>\n",
       "      <td>图案:卡通,纯色\\n货源类别:现货\\n是否外贸:否\\n颜色:B60,B61,B66,B70,...</td>\n",
       "      <td>B60110CM</td>\n",
       "      <td>B60110CM</td>\n",
       "      <td>颜色</td>\n",
       "      <td>适合身高</td>\n",
       "      <td>B60</td>\n",
       "      <td>...</td>\n",
       "      <td>https://cbu01.alicdn.com/img/ibank/2019/854/97...</td>\n",
       "      <td>https://cbu01.alicdn.com/img/ibank/2019/783/74...</td>\n",
       "      <td>https://cbu01.alicdn.com/img/ibank/2019/228/76...</td>\n",
       "      <td>https://cbu01.alicdn.com/img/ibank/2019/476/13...</td>\n",
       "      <td>NaN</td>\n",
       "      <td>NaN</td>\n",
       "      <td>NaN</td>\n",
       "      <td>NaN</td>\n",
       "      <td>https://detail.1688.com/offer/548949123379.html</td>\n",
       "      <td>NaN</td>\n",
       "    </tr>\n",
       "  </tbody>\n",
       "</table>\n",
       "<p>5 rows × 30 columns</p>\n",
       "</div>"
      ],
      "text/plain": [
       "   分类ID  产品属性  Parent SKU                              产品标题  \\\n",
       "0  9164   NaN         NaN  2019夏季新款儿童短袖套装纯棉宝宝韩版男女童婴儿中小童t恤批发   \n",
       "1  9164   NaN         NaN  2019夏季新款儿童短袖套装纯棉宝宝韩版男女童婴儿中小童t恤批发   \n",
       "2  9164   NaN         NaN  2019夏季新款儿童短袖套装纯棉宝宝韩版男女童婴儿中小童t恤批发   \n",
       "3  9164   NaN         NaN  2019夏季新款儿童短袖套装纯棉宝宝韩版男女童婴儿中小童t恤批发   \n",
       "4  9164   NaN         NaN  2019夏季新款儿童短袖套装纯棉宝宝韩版男女童婴儿中小童t恤批发   \n",
       "\n",
       "                                                产品描述       sku      变种名称  \\\n",
       "0  图案:卡通,纯色\\n货源类别:现货\\n是否外贸:否\\n颜色:B60,B61,B66,B70,...   B6073CM   B6073CM   \n",
       "1  图案:卡通,纯色\\n货源类别:现货\\n是否外贸:否\\n颜色:B60,B61,B66,B70,...   B6080CM   B6080CM   \n",
       "2  图案:卡通,纯色\\n货源类别:现货\\n是否外贸:否\\n颜色:B60,B61,B66,B70,...   B6090CM   B6090CM   \n",
       "3  图案:卡通,纯色\\n货源类别:现货\\n是否外贸:否\\n颜色:B60,B61,B66,B70,...  B60100CM  B60100CM   \n",
       "4  图案:卡通,纯色\\n货源类别:现货\\n是否外贸:否\\n颜色:B60,B61,B66,B70,...  B60110CM  B60110CM   \n",
       "\n",
       "  变种属性名称一 变种属性名称二 变种属性值一 ...  \\\n",
       "0      颜色    适合身高    B60 ...   \n",
       "1      颜色    适合身高    B60 ...   \n",
       "2      颜色    适合身高    B60 ...   \n",
       "3      颜色    适合身高    B60 ...   \n",
       "4      颜色    适合身高    B60 ...   \n",
       "\n",
       "                                                 附图6  \\\n",
       "0  https://cbu01.alicdn.com/img/ibank/2019/854/97...   \n",
       "1  https://cbu01.alicdn.com/img/ibank/2019/854/97...   \n",
       "2  https://cbu01.alicdn.com/img/ibank/2019/854/97...   \n",
       "3  https://cbu01.alicdn.com/img/ibank/2019/854/97...   \n",
       "4  https://cbu01.alicdn.com/img/ibank/2019/854/97...   \n",
       "\n",
       "                                                 附图7  \\\n",
       "0  https://cbu01.alicdn.com/img/ibank/2019/783/74...   \n",
       "1  https://cbu01.alicdn.com/img/ibank/2019/783/74...   \n",
       "2  https://cbu01.alicdn.com/img/ibank/2019/783/74...   \n",
       "3  https://cbu01.alicdn.com/img/ibank/2019/783/74...   \n",
       "4  https://cbu01.alicdn.com/img/ibank/2019/783/74...   \n",
       "\n",
       "                                               附图8地址  \\\n",
       "0  https://cbu01.alicdn.com/img/ibank/2019/228/76...   \n",
       "1  https://cbu01.alicdn.com/img/ibank/2019/228/76...   \n",
       "2  https://cbu01.alicdn.com/img/ibank/2019/228/76...   \n",
       "3  https://cbu01.alicdn.com/img/ibank/2019/228/76...   \n",
       "4  https://cbu01.alicdn.com/img/ibank/2019/228/76...   \n",
       "\n",
       "                                                 变种图 长（cm） 宽（cm） 高（cm） 发货期  \\\n",
       "0  https://cbu01.alicdn.com/img/ibank/2019/476/13...   NaN   NaN   NaN NaN   \n",
       "1  https://cbu01.alicdn.com/img/ibank/2019/476/13...   NaN   NaN   NaN NaN   \n",
       "2  https://cbu01.alicdn.com/img/ibank/2019/476/13...   NaN   NaN   NaN NaN   \n",
       "3  https://cbu01.alicdn.com/img/ibank/2019/476/13...   NaN   NaN   NaN NaN   \n",
       "4  https://cbu01.alicdn.com/img/ibank/2019/476/13...   NaN   NaN   NaN NaN   \n",
       "\n",
       "                                             来源URL 尺码图  \n",
       "0  https://detail.1688.com/offer/548949123379.html NaN  \n",
       "1  https://detail.1688.com/offer/548949123379.html NaN  \n",
       "2  https://detail.1688.com/offer/548949123379.html NaN  \n",
       "3  https://detail.1688.com/offer/548949123379.html NaN  \n",
       "4  https://detail.1688.com/offer/548949123379.html NaN  \n",
       "\n",
       "[5 rows x 30 columns]"
      ]
     },
     "execution_count": 10,
     "metadata": {},
     "output_type": "execute_result"
    }
   ],
   "source": [
    "tw_site_product_list_with_selected_columns = tw_site_product_list[tw_site_product_list_selected_columns]\n",
    "tw_site_product_list_with_selected_columns.head(5)"
   ]
  },
  {
   "cell_type": "code",
   "execution_count": 11,
   "metadata": {
    "collapsed": true
   },
   "outputs": [],
   "source": [
    "# tw_site_product_list_with_selected_columns = tw_site_product_list_with_selected_columns[tw_site_product_list_with_selected_columns['分类ID'] == top_cat_id].reset_index()\n",
    "# tw_site_product_list_with_selected_columns"
   ]
  },
  {
   "cell_type": "code",
   "execution_count": 12,
   "metadata": {},
   "outputs": [
    {
     "name": "stderr",
     "output_type": "stream",
     "text": [
      "C:\\Users\\kuang\\Anaconda3\\lib\\site-packages\\ipykernel\\__main__.py:2: SettingWithCopyWarning: \n",
      "A value is trying to be set on a copy of a slice from a DataFrame.\n",
      "Try using .loc[row_indexer,col_indexer] = value instead\n",
      "\n",
      "See the caveats in the documentation: http://pandas.pydata.org/pandas-docs/stable/indexing.html#indexing-view-versus-copy\n",
      "  from ipykernel import kernelapp as app\n"
     ]
    }
   ],
   "source": [
    "# 把1688的来源url拆出来，把productid填充为parent sku\n",
    "tw_site_product_list_with_selected_columns['Parent SKU'] = tw_site_product_list_with_selected_columns['来源URL'].str.split(\"/\", n = 4, expand = True)[4].str.split(\".\", n = 1, expand=True)[0]\n",
    "# tw_site_product_list_with_selected_columns.head(5)"
   ]
  },
  {
   "cell_type": "code",
   "execution_count": 13,
   "metadata": {},
   "outputs": [
    {
     "data": {
      "text/plain": [
       "'ins爆款 胡蘿卜寶寶針織竹節棉爬服 嬰兒兔裝 嬰兒連身衣 寶寶包屁衣連身衣 中間開襟包屁衣 寶寶連體衣哈衣爬服'"
      ]
     },
     "execution_count": 13,
     "metadata": {},
     "output_type": "execute_result"
    }
   ],
   "source": [
    "# remove emoji\n",
    "import re\n",
    "\n",
    "emoji_pattern = re.compile(\n",
    "                u'['\n",
    "                u'\\U0001F300-\\U0001F64F'\n",
    "                u'\\U0001F680-\\U0001F6FF'\n",
    "                u'\\u2600-\\u2B55'\n",
    "                u'\\u23cf'\n",
    "                u'\\u23e9'\n",
    "                u'\\u231a'\n",
    "                u'\\u3030'\n",
    "                u'\\ufe0f'\n",
    "                u\"\\U0001F600-\\U0001F64F\"  # emoticons\n",
    "                u\"\\U0001F300-\\U0001F5FF\"  # symbols & pictographs\n",
    "                u'\\U00010000-\\U0010ffff'\n",
    "                u'\\U0001F1E0-\\U0001F1FF'  # flags (iOS)\n",
    "                u'\\U00002702-\\U000027B0]+', flags=re.UNICODE)\n",
    "\n",
    "def remove_emoji(text):\n",
    "    return emoji_pattern.sub(r'', text)\n",
    "\n",
    "remove_emoji('ins爆款 🥕胡蘿卜🥕寶寶針織竹節棉爬服 嬰兒兔裝 嬰兒連身衣 寶寶包屁衣連身衣 中間開襟包屁衣 寶寶連體衣哈衣爬服')"
   ]
  },
  {
   "cell_type": "code",
   "execution_count": 14,
   "metadata": {},
   "outputs": [
    {
     "name": "stderr",
     "output_type": "stream",
     "text": [
      "C:\\Users\\kuang\\Anaconda3\\lib\\site-packages\\ipykernel\\__main__.py:1: SettingWithCopyWarning: \n",
      "A value is trying to be set on a copy of a slice from a DataFrame.\n",
      "Try using .loc[row_indexer,col_indexer] = value instead\n",
      "\n",
      "See the caveats in the documentation: http://pandas.pydata.org/pandas-docs/stable/indexing.html#indexing-view-versus-copy\n",
      "  if __name__ == '__main__':\n",
      "C:\\Users\\kuang\\Anaconda3\\lib\\site-packages\\ipykernel\\__main__.py:2: SettingWithCopyWarning: \n",
      "A value is trying to be set on a copy of a slice from a DataFrame.\n",
      "Try using .loc[row_indexer,col_indexer] = value instead\n",
      "\n",
      "See the caveats in the documentation: http://pandas.pydata.org/pandas-docs/stable/indexing.html#indexing-view-versus-copy\n",
      "  from ipykernel import kernelapp as app\n"
     ]
    }
   ],
   "source": [
    "tw_site_product_list_with_selected_columns['产品标题'] = [remove_emoji(x) for x in tw_site_product_list_with_selected_columns['产品标题']]\n",
    "tw_site_product_list_with_selected_columns['产品描述'] = [remove_emoji(x) for x in tw_site_product_list_with_selected_columns['产品描述']]"
   ]
  },
  {
   "cell_type": "code",
   "execution_count": 15,
   "metadata": {},
   "outputs": [
    {
     "name": "stderr",
     "output_type": "stream",
     "text": [
      "C:\\Users\\kuang\\Anaconda3\\lib\\site-packages\\ipykernel\\__main__.py:1: SettingWithCopyWarning: \n",
      "A value is trying to be set on a copy of a slice from a DataFrame.\n",
      "Try using .loc[row_indexer,col_indexer] = value instead\n",
      "\n",
      "See the caveats in the documentation: http://pandas.pydata.org/pandas-docs/stable/indexing.html#indexing-view-versus-copy\n",
      "  if __name__ == '__main__':\n",
      "C:\\Users\\kuang\\Anaconda3\\lib\\site-packages\\ipykernel\\__main__.py:2: SettingWithCopyWarning: \n",
      "A value is trying to be set on a copy of a slice from a DataFrame.\n",
      "Try using .loc[row_indexer,col_indexer] = value instead\n",
      "\n",
      "See the caveats in the documentation: http://pandas.pydata.org/pandas-docs/stable/indexing.html#indexing-view-versus-copy\n",
      "  from ipykernel import kernelapp as app\n",
      "C:\\Users\\kuang\\Anaconda3\\lib\\site-packages\\ipykernel\\__main__.py:3: SettingWithCopyWarning: \n",
      "A value is trying to be set on a copy of a slice from a DataFrame.\n",
      "Try using .loc[row_indexer,col_indexer] = value instead\n",
      "\n",
      "See the caveats in the documentation: http://pandas.pydata.org/pandas-docs/stable/indexing.html#indexing-view-versus-copy\n",
      "  app.launch_new_instance()\n",
      "C:\\Users\\kuang\\Anaconda3\\lib\\site-packages\\ipykernel\\__main__.py:4: SettingWithCopyWarning: \n",
      "A value is trying to be set on a copy of a slice from a DataFrame.\n",
      "Try using .loc[row_indexer,col_indexer] = value instead\n",
      "\n",
      "See the caveats in the documentation: http://pandas.pydata.org/pandas-docs/stable/indexing.html#indexing-view-versus-copy\n"
     ]
    }
   ],
   "source": [
    "tw_site_product_list_with_selected_columns['长（cm）'] = tw_site_product_list_with_selected_columns['长（cm）'].fillna(18)\n",
    "tw_site_product_list_with_selected_columns['宽（cm）'] = tw_site_product_list_with_selected_columns['宽（cm）'].fillna(13)\n",
    "tw_site_product_list_with_selected_columns['高（cm）'] = tw_site_product_list_with_selected_columns['高（cm）'].fillna(5)\n",
    "tw_site_product_list_with_selected_columns['发货期'] = tw_site_product_list_with_selected_columns['发货期'].fillna(2)"
   ]
  },
  {
   "cell_type": "code",
   "execution_count": 16,
   "metadata": {},
   "outputs": [
    {
     "name": "stderr",
     "output_type": "stream",
     "text": [
      "C:\\Users\\kuang\\Anaconda3\\lib\\site-packages\\ipykernel\\__main__.py:3: SettingWithCopyWarning: \n",
      "A value is trying to be set on a copy of a slice from a DataFrame.\n",
      "Try using .loc[row_indexer,col_indexer] = value instead\n",
      "\n",
      "See the caveats in the documentation: http://pandas.pydata.org/pandas-docs/stable/indexing.html#indexing-view-versus-copy\n",
      "  app.launch_new_instance()\n"
     ]
    }
   ],
   "source": [
    "translate_currency = 1\n",
    "profit_rate = 1.1\n",
    "tw_site_product_list_with_selected_columns['价格'] = tw_site_product_list_with_selected_columns['价格'] * translate_currency / profit_rate"
   ]
  },
  {
   "cell_type": "code",
   "execution_count": 17,
   "metadata": {
    "collapsed": true
   },
   "outputs": [],
   "source": [
    "# tw_site_product_list_with_selected_columns.head(5)"
   ]
  },
  {
   "cell_type": "code",
   "execution_count": 18,
   "metadata": {
    "collapsed": true
   },
   "outputs": [],
   "source": [
    "from googletrans import Translator"
   ]
  },
  {
   "cell_type": "code",
   "execution_count": 19,
   "metadata": {},
   "outputs": [
    {
     "data": {
      "text/plain": [
       "'한국'"
      ]
     },
     "execution_count": 19,
     "metadata": {},
     "output_type": "execute_result"
    }
   ],
   "source": [
    "translator = Translator(service_urls=[\n",
    "      'translate.google.com',\n",
    "      'translate.google.co.kr',\n",
    "    ])\n",
    "translator.translate('韩国', dest='ko').text"
   ]
  },
  {
   "cell_type": "code",
   "execution_count": 20,
   "metadata": {
    "collapsed": true
   },
   "outputs": [],
   "source": [
    "# translations = translator.translate(['The quick brown fox', 'jumps over', 'the lazy dog'], dest='ko')\n",
    "# for translation in translations:\n",
    "#     print(translation.origin, ' -> ', translation.text)"
   ]
  },
  {
   "cell_type": "code",
   "execution_count": 21,
   "metadata": {
    "collapsed": true
   },
   "outputs": [],
   "source": [
    "translate_columns = ['产品标题', '产品描述', '变种名称', '变种属性名称一', '变种属性名称二', '变种属性值一', '变种属性值二']\n",
    "# translate_columns = ['产品标题']\n",
    "# translate_columns = ['产品描述', '变种名称', '变种属性名称一', '变种属性名称二', '变种属性值一', '变种属性值二']"
   ]
  },
  {
   "cell_type": "code",
   "execution_count": 22,
   "metadata": {},
   "outputs": [
    {
     "name": "stderr",
     "output_type": "stream",
     "text": [
      "C:\\Users\\kuang\\Anaconda3\\lib\\site-packages\\pandas\\core\\frame.py:2378: SettingWithCopyWarning: \n",
      "A value is trying to be set on a copy of a slice from a DataFrame.\n",
      "Try using .loc[row_indexer,col_indexer] = value instead\n",
      "\n",
      "See the caveats in the documentation: http://pandas.pydata.org/pandas-docs/stable/indexing.html#indexing-view-versus-copy\n",
      "  self[k1] = value[k2]\n"
     ]
    }
   ],
   "source": [
    "# 把空值填充为string格式\n",
    "tw_site_product_list_with_selected_columns[translate_columns] = tw_site_product_list_with_selected_columns[translate_columns].fillna(value='不需翻译')"
   ]
  },
  {
   "cell_type": "code",
   "execution_count": 23,
   "metadata": {},
   "outputs": [
    {
     "name": "stderr",
     "output_type": "stream",
     "text": [
      " 2019-09-09 23:21:59,765 - INFO - variation list: {'颜色', '适合身高'}\n"
     ]
    }
   ],
   "source": [
    "# 把variation_name做一些删减\n",
    "variation_list = set(list(tw_site_product_list_with_selected_columns['变种属性名称一'].unique()) + list(tw_site_product_list_with_selected_columns['变种属性名称二'].unique()))\n",
    "logging.info('variation list: ' + str(variation_list))"
   ]
  },
  {
   "cell_type": "code",
   "execution_count": 24,
   "metadata": {},
   "outputs": [
    {
     "name": "stderr",
     "output_type": "stream",
     "text": [
      "C:\\Users\\kuang\\Anaconda3\\lib\\site-packages\\ipykernel\\__main__.py:2: SettingWithCopyWarning: \n",
      "A value is trying to be set on a copy of a slice from a DataFrame.\n",
      "Try using .loc[row_indexer,col_indexer] = value instead\n",
      "\n",
      "See the caveats in the documentation: http://pandas.pydata.org/pandas-docs/stable/indexing.html#indexing-view-versus-copy\n",
      "  from ipykernel import kernelapp as app\n",
      "C:\\Users\\kuang\\Anaconda3\\lib\\site-packages\\ipykernel\\__main__.py:3: SettingWithCopyWarning: \n",
      "A value is trying to be set on a copy of a slice from a DataFrame.\n",
      "Try using .loc[row_indexer,col_indexer] = value instead\n",
      "\n",
      "See the caveats in the documentation: http://pandas.pydata.org/pandas-docs/stable/indexing.html#indexing-view-versus-copy\n",
      "  app.launch_new_instance()\n"
     ]
    }
   ],
   "source": [
    "variation_rename = {'适合身高': '身高', '童袜尺码': '尺码', '不需翻译': 'not set'}\n",
    "tw_site_product_list_with_selected_columns['变种属性名称一'] = tw_site_product_list_with_selected_columns['变种属性名称一'].apply(lambda x: variation_rename[x] if x in variation_rename else x)\n",
    "tw_site_product_list_with_selected_columns['变种属性名称二'] = tw_site_product_list_with_selected_columns['变种属性名称二'].apply(lambda x: variation_rename[x] if x in variation_rename else x)"
   ]
  },
  {
   "cell_type": "code",
   "execution_count": 25,
   "metadata": {
    "collapsed": true
   },
   "outputs": [],
   "source": [
    "# 对variation_value做一些删减\n",
    "# variation_value_list = set(list(tw_site_product_list_with_selected_columns['变种属性值一'].unique()) + list(tw_site_product_list_with_selected_columns['变种属性值一'].unique()))\n",
    "# logging.info('variation value list: ' + str(variation_value_list))"
   ]
  },
  {
   "cell_type": "code",
   "execution_count": 26,
   "metadata": {
    "collapsed": true
   },
   "outputs": [],
   "source": [
    "# tw_site_product_list_with_selected_columns = tw_site_product_list_with_selected_columns[1589:]\n",
    "# # tw_site_product_list_with_selected_columns"
   ]
  },
  {
   "cell_type": "code",
   "execution_count": 27,
   "metadata": {
    "scrolled": true
   },
   "outputs": [
    {
     "name": "stderr",
     "output_type": "stream",
     "text": [
      " 2019-09-09 23:23:13,443 - INFO - 5 rows have been translated.\n",
      " 2019-09-09 23:24:25,544 - INFO - 10 rows have been translated.\n",
      " 2019-09-09 23:25:34,716 - INFO - 15 rows have been translated.\n",
      " 2019-09-09 23:26:45,354 - INFO - 20 rows have been translated.\n",
      " 2019-09-09 23:27:55,610 - INFO - 25 rows have been translated.\n",
      " 2019-09-09 23:29:05,969 - INFO - 30 rows have been translated.\n",
      " 2019-09-09 23:30:15,763 - INFO - 35 rows have been translated.\n",
      " 2019-09-09 23:31:26,271 - INFO - 40 rows have been translated.\n",
      " 2019-09-09 23:32:36,699 - INFO - 45 rows have been translated.\n",
      " 2019-09-09 23:33:47,155 - INFO - 50 rows have been translated.\n",
      " 2019-09-09 23:34:57,953 - INFO - 55 rows have been translated.\n",
      " 2019-09-09 23:36:08,204 - INFO - 60 rows have been translated.\n",
      " 2019-09-09 23:37:18,739 - INFO - 65 rows have been translated.\n",
      " 2019-09-09 23:38:28,431 - INFO - 70 rows have been translated.\n",
      " 2019-09-09 23:39:38,164 - INFO - 75 rows have been translated.\n",
      " 2019-09-09 23:40:50,040 - INFO - 80 rows have been translated.\n",
      " 2019-09-09 23:42:01,869 - INFO - 85 rows have been translated.\n",
      " 2019-09-09 23:43:15,782 - INFO - 90 rows have been translated.\n",
      " 2019-09-09 23:44:30,215 - INFO - 95 rows have been translated.\n",
      " 2019-09-09 23:45:42,288 - INFO - 100 rows have been translated.\n",
      " 2019-09-09 23:46:53,495 - INFO - 105 rows have been translated.\n",
      " 2019-09-09 23:48:05,019 - INFO - 110 rows have been translated.\n",
      " 2019-09-09 23:49:17,223 - INFO - 115 rows have been translated.\n",
      " 2019-09-09 23:50:27,041 - INFO - 120 rows have been translated.\n",
      " 2019-09-09 23:51:39,120 - INFO - 125 rows have been translated.\n",
      " 2019-09-09 23:52:50,250 - INFO - 130 rows have been translated.\n",
      " 2019-09-09 23:54:03,224 - INFO - 135 rows have been translated.\n",
      " 2019-09-09 23:55:14,632 - INFO - 140 rows have been translated.\n",
      " 2019-09-09 23:56:29,622 - INFO - 145 rows have been translated.\n",
      " 2019-09-09 23:57:42,878 - INFO - 150 rows have been translated.\n",
      " 2019-09-09 23:58:54,976 - INFO - 155 rows have been translated.\n",
      " 2019-09-10 00:00:07,046 - INFO - 160 rows have been translated.\n",
      " 2019-09-10 00:01:18,655 - INFO - 165 rows have been translated.\n",
      " 2019-09-10 00:02:28,824 - INFO - 170 rows have been translated.\n",
      " 2019-09-10 00:03:40,136 - INFO - 175 rows have been translated.\n",
      " 2019-09-10 00:04:51,702 - INFO - 180 rows have been translated.\n",
      " 2019-09-10 00:06:01,873 - INFO - 185 rows have been translated.\n",
      " 2019-09-10 00:07:14,495 - INFO - 190 rows have been translated.\n",
      " 2019-09-10 00:08:25,649 - INFO - 195 rows have been translated.\n",
      " 2019-09-10 00:09:37,966 - INFO - 200 rows have been translated.\n",
      " 2019-09-10 00:10:50,408 - INFO - 205 rows have been translated.\n",
      " 2019-09-10 00:12:01,845 - INFO - 210 rows have been translated.\n",
      " 2019-09-10 00:13:14,815 - INFO - 215 rows have been translated.\n",
      " 2019-09-10 00:14:27,216 - INFO - 220 rows have been translated.\n",
      " 2019-09-10 00:15:37,671 - INFO - 225 rows have been translated.\n",
      " 2019-09-10 00:16:49,580 - INFO - 230 rows have been translated.\n",
      " 2019-09-10 00:18:00,693 - INFO - 235 rows have been translated.\n",
      " 2019-09-10 00:19:11,968 - INFO - 240 rows have been translated.\n",
      " 2019-09-10 00:20:24,977 - INFO - 245 rows have been translated.\n",
      " 2019-09-10 00:21:37,302 - INFO - 250 rows have been translated.\n",
      " 2019-09-10 00:22:50,397 - INFO - 255 rows have been translated.\n",
      " 2019-09-10 00:24:04,486 - INFO - 260 rows have been translated.\n",
      " 2019-09-10 00:25:17,694 - INFO - 265 rows have been translated.\n",
      " 2019-09-10 00:26:30,398 - INFO - 270 rows have been translated.\n",
      " 2019-09-10 00:27:43,963 - INFO - 275 rows have been translated.\n",
      " 2019-09-10 00:28:59,764 - INFO - 280 rows have been translated.\n",
      " 2019-09-10 00:30:14,975 - INFO - 285 rows have been translated.\n",
      " 2019-09-10 00:31:28,125 - INFO - 290 rows have been translated.\n",
      " 2019-09-10 00:32:41,512 - INFO - 295 rows have been translated.\n",
      " 2019-09-10 00:33:53,788 - INFO - 300 rows have been translated.\n",
      " 2019-09-10 00:35:05,156 - INFO - 305 rows have been translated.\n"
     ]
    }
   ],
   "source": [
    "for index, row in tw_site_product_list_with_selected_columns.iterrows():\n",
    "    try:\n",
    "        list_to_translate = []\n",
    "        for i, value in enumerate(translate_columns):\n",
    "            list_to_translate.append(row[translate_columns[i]])\n",
    "        \n",
    "        translate_language = 'th'\n",
    "        # translator = Translator(service_urls=['translate.google.com'])\n",
    "        list_be_translated = translator.translate(list_to_translate, dest=translate_language, src='zh-CN')\n",
    "        time.sleep(10)\n",
    "        \n",
    "        i = 0\n",
    "        for translate_language in list_be_translated:\n",
    "            tw_site_product_list_with_selected_columns.at[index, translate_columns[i]] = translate_language.text\n",
    "            i += 1\n",
    "        \n",
    "        if (index + 1) % 5 == 0:\n",
    "            logging.info(str(index + 1) + ' rows have been translated.')\n",
    "            \n",
    "        tw_site_product_list_with_selected_columns.to_excel(os.path.join(folder_path, 'tw_translated_product_20190909.xlsx'), index=False)\n",
    "    except Exception as err:\n",
    "        logging.warning(str(index + 1) + ' rows have not been translated. Error message: ' + str(err))\n",
    "        pass"
   ]
  },
  {
   "cell_type": "code",
   "execution_count": 28,
   "metadata": {
    "collapsed": true,
    "scrolled": true
   },
   "outputs": [],
   "source": [
    "# for translate_column in translate_columns:\n",
    "#     # tw_site_product_list_with_selected_columns[translate_column] = tw_site_product_list_with_selected_columns[translate_column].fillna(0)\n",
    "#     # tw_site_product_list_with_selected_columns[translate_column]  = [translator.translate(x, dest=translate_language).text \n",
    "#                                                                      # for x in tw_site_product_list_with_selected_columns[translate_column]]\n",
    "#     for index, row in tw_site_product_list_with_selected_columns.iterrows():\n",
    "#         try:\n",
    "#             orginal_text = tw_site_product_list_with_selected_columns.at[index, translate_column]\n",
    "#             tw_site_product_list_with_selected_columns.at[index, translate_column] = translator.translate(row[translate_column], dest=translate_language).text\n",
    "#             # print(row[translate_column])\n",
    "#             logging.info(translate_column + ' - ' + str(index + 1) + ' rows have been translated.')\n",
    "#             # logging.info(orginal_text + ' -> ' + tw_site_product_list_with_selected_columns.at[index, translate_column])\n",
    "#             time.sleep(5)\n",
    "#         except:\n",
    "#             logging.warning(translate_column + ' - ' + str(index + 1) + ' rows have not been translated.')\n",
    "#             pass\n",
    "        \n",
    "#     # print(tw_site_product_list_with_selected_columns.head(5))\n",
    "    \n",
    "#     tw_site_product_list_with_selected_columns.to_excel(os.path.join(folder_path, 'tw_translated_product(1).xlsx'), index=False)\n",
    "#     logging.info(str(translate_column) + ' is done.')"
   ]
  }
 ],
 "metadata": {
  "anaconda-cloud": {},
  "kernelspec": {
   "display_name": "Python [conda env:Anaconda3]",
   "language": "python",
   "name": "conda-env-Anaconda3-py"
  },
  "language_info": {
   "codemirror_mode": {
    "name": "ipython",
    "version": 3
   },
   "file_extension": ".py",
   "mimetype": "text/x-python",
   "name": "python",
   "nbconvert_exporter": "python",
   "pygments_lexer": "ipython3",
   "version": "3.5.2"
  }
 },
 "nbformat": 4,
 "nbformat_minor": 1
}
