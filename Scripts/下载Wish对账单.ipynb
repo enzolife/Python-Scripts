{
 "cells": [
  {
   "cell_type": "code",
   "execution_count": 43,
   "metadata": {
    "collapsed": true
   },
   "outputs": [],
   "source": [
    "from selenium import webdriver\n",
    "import pandas as pd\n",
    "import time\n",
    "import os\n",
    "import zipfile\n",
    "import shutil"
   ]
  },
  {
   "cell_type": "code",
   "execution_count": 44,
   "metadata": {
    "collapsed": true
   },
   "outputs": [],
   "source": [
    "# 屏幕最大化，且指定下载目录\n",
    "options = webdriver.ChromeOptions()\n",
    "options.add_argument(\"--start-maximized\")\n",
    "\n",
    "prefs = {\"profile.default_content_settings.popups\": 0,\n",
    "         \"download.default_directory\": r\"D:\\Program Files (x86)\\百度云同步盘\\Dropbox\\-E·J- 2014.5.1\\2016.12.15 店小秘数据分析\\2021.11.12 账单信息\", # IMPORTANT - ENDING SLASH V IMPORTANT\n",
    "         \"directory_upgrade\": True}\n",
    "options.add_experimental_option(\"prefs\", prefs)"
   ]
  },
  {
   "cell_type": "code",
   "execution_count": 45,
   "metadata": {
    "collapsed": true
   },
   "outputs": [],
   "source": [
    "# 使用chromedriver才可以用开发者权限\n",
    "chrome_driver_path = \".//chrome_driver//chromedriver.exe\"\n",
    "browser = webdriver.Chrome(chrome_driver_path, chrome_options=options)"
   ]
  },
  {
   "cell_type": "code",
   "execution_count": 46,
   "metadata": {},
   "outputs": [
    {
     "ename": "TimeoutException",
     "evalue": "Message: timeout: Timed out receiving message from renderer: 299.136\n  (Session info: chrome=96.0.4664.93)\n",
     "output_type": "error",
     "traceback": [
      "\u001b[0;31m---------------------------------------------------------------------------\u001b[0m",
      "\u001b[0;31mTimeoutException\u001b[0m                          Traceback (most recent call last)",
      "\u001b[0;32m<ipython-input-46-665b59b1a71a>\u001b[0m in \u001b[0;36m<module>\u001b[0;34m()\u001b[0m\n\u001b[0;32m----> 1\u001b[0;31m \u001b[0mbrowser\u001b[0m\u001b[1;33m.\u001b[0m\u001b[0mget\u001b[0m\u001b[1;33m(\u001b[0m\u001b[1;34m'https://china-merchant.wish.com/v2-login?'\u001b[0m\u001b[1;33m)\u001b[0m\u001b[1;33m\u001b[0m\u001b[0m\n\u001b[0m\u001b[1;32m      2\u001b[0m \u001b[0mtime\u001b[0m\u001b[1;33m.\u001b[0m\u001b[0msleep\u001b[0m\u001b[1;33m(\u001b[0m\u001b[1;36m120\u001b[0m\u001b[1;33m)\u001b[0m\u001b[1;33m\u001b[0m\u001b[0m\n",
      "\u001b[0;32mC:\\Users\\kuang\\Anaconda3\\lib\\site-packages\\selenium\\webdriver\\remote\\webdriver.py\u001b[0m in \u001b[0;36mget\u001b[0;34m(self, url)\u001b[0m\n\u001b[1;32m    321\u001b[0m         \u001b[0mLoads\u001b[0m \u001b[0ma\u001b[0m \u001b[0mweb\u001b[0m \u001b[0mpage\u001b[0m \u001b[1;32min\u001b[0m \u001b[0mthe\u001b[0m \u001b[0mcurrent\u001b[0m \u001b[0mbrowser\u001b[0m \u001b[0msession\u001b[0m\u001b[1;33m.\u001b[0m\u001b[1;33m\u001b[0m\u001b[0m\n\u001b[1;32m    322\u001b[0m         \"\"\"\n\u001b[0;32m--> 323\u001b[0;31m         \u001b[0mself\u001b[0m\u001b[1;33m.\u001b[0m\u001b[0mexecute\u001b[0m\u001b[1;33m(\u001b[0m\u001b[0mCommand\u001b[0m\u001b[1;33m.\u001b[0m\u001b[0mGET\u001b[0m\u001b[1;33m,\u001b[0m \u001b[1;33m{\u001b[0m\u001b[1;34m'url'\u001b[0m\u001b[1;33m:\u001b[0m \u001b[0murl\u001b[0m\u001b[1;33m}\u001b[0m\u001b[1;33m)\u001b[0m\u001b[1;33m\u001b[0m\u001b[0m\n\u001b[0m\u001b[1;32m    324\u001b[0m \u001b[1;33m\u001b[0m\u001b[0m\n\u001b[1;32m    325\u001b[0m     \u001b[1;33m@\u001b[0m\u001b[0mproperty\u001b[0m\u001b[1;33m\u001b[0m\u001b[0m\n",
      "\u001b[0;32mC:\\Users\\kuang\\Anaconda3\\lib\\site-packages\\selenium\\webdriver\\remote\\webdriver.py\u001b[0m in \u001b[0;36mexecute\u001b[0;34m(self, driver_command, params)\u001b[0m\n\u001b[1;32m    309\u001b[0m         \u001b[0mresponse\u001b[0m \u001b[1;33m=\u001b[0m \u001b[0mself\u001b[0m\u001b[1;33m.\u001b[0m\u001b[0mcommand_executor\u001b[0m\u001b[1;33m.\u001b[0m\u001b[0mexecute\u001b[0m\u001b[1;33m(\u001b[0m\u001b[0mdriver_command\u001b[0m\u001b[1;33m,\u001b[0m \u001b[0mparams\u001b[0m\u001b[1;33m)\u001b[0m\u001b[1;33m\u001b[0m\u001b[0m\n\u001b[1;32m    310\u001b[0m         \u001b[1;32mif\u001b[0m \u001b[0mresponse\u001b[0m\u001b[1;33m:\u001b[0m\u001b[1;33m\u001b[0m\u001b[0m\n\u001b[0;32m--> 311\u001b[0;31m             \u001b[0mself\u001b[0m\u001b[1;33m.\u001b[0m\u001b[0merror_handler\u001b[0m\u001b[1;33m.\u001b[0m\u001b[0mcheck_response\u001b[0m\u001b[1;33m(\u001b[0m\u001b[0mresponse\u001b[0m\u001b[1;33m)\u001b[0m\u001b[1;33m\u001b[0m\u001b[0m\n\u001b[0m\u001b[1;32m    312\u001b[0m             response['value'] = self._unwrap_value(\n\u001b[1;32m    313\u001b[0m                 response.get('value', None))\n",
      "\u001b[0;32mC:\\Users\\kuang\\Anaconda3\\lib\\site-packages\\selenium\\webdriver\\remote\\errorhandler.py\u001b[0m in \u001b[0;36mcheck_response\u001b[0;34m(self, response)\u001b[0m\n\u001b[1;32m    235\u001b[0m         \u001b[1;32melif\u001b[0m \u001b[0mexception_class\u001b[0m \u001b[1;33m==\u001b[0m \u001b[0mUnexpectedAlertPresentException\u001b[0m \u001b[1;32mand\u001b[0m \u001b[1;34m'alert'\u001b[0m \u001b[1;32min\u001b[0m \u001b[0mvalue\u001b[0m\u001b[1;33m:\u001b[0m\u001b[1;33m\u001b[0m\u001b[0m\n\u001b[1;32m    236\u001b[0m             \u001b[1;32mraise\u001b[0m \u001b[0mexception_class\u001b[0m\u001b[1;33m(\u001b[0m\u001b[0mmessage\u001b[0m\u001b[1;33m,\u001b[0m \u001b[0mscreen\u001b[0m\u001b[1;33m,\u001b[0m \u001b[0mstacktrace\u001b[0m\u001b[1;33m,\u001b[0m \u001b[0mvalue\u001b[0m\u001b[1;33m[\u001b[0m\u001b[1;34m'alert'\u001b[0m\u001b[1;33m]\u001b[0m\u001b[1;33m.\u001b[0m\u001b[0mget\u001b[0m\u001b[1;33m(\u001b[0m\u001b[1;34m'text'\u001b[0m\u001b[1;33m)\u001b[0m\u001b[1;33m)\u001b[0m\u001b[1;33m\u001b[0m\u001b[0m\n\u001b[0;32m--> 237\u001b[0;31m         \u001b[1;32mraise\u001b[0m \u001b[0mexception_class\u001b[0m\u001b[1;33m(\u001b[0m\u001b[0mmessage\u001b[0m\u001b[1;33m,\u001b[0m \u001b[0mscreen\u001b[0m\u001b[1;33m,\u001b[0m \u001b[0mstacktrace\u001b[0m\u001b[1;33m)\u001b[0m\u001b[1;33m\u001b[0m\u001b[0m\n\u001b[0m\u001b[1;32m    238\u001b[0m \u001b[1;33m\u001b[0m\u001b[0m\n\u001b[1;32m    239\u001b[0m     \u001b[1;32mdef\u001b[0m \u001b[0m_value_or_default\u001b[0m\u001b[1;33m(\u001b[0m\u001b[0mself\u001b[0m\u001b[1;33m,\u001b[0m \u001b[0mobj\u001b[0m\u001b[1;33m,\u001b[0m \u001b[0mkey\u001b[0m\u001b[1;33m,\u001b[0m \u001b[0mdefault\u001b[0m\u001b[1;33m)\u001b[0m\u001b[1;33m:\u001b[0m\u001b[1;33m\u001b[0m\u001b[0m\n",
      "\u001b[0;31mTimeoutException\u001b[0m: Message: timeout: Timed out receiving message from renderer: 299.136\n  (Session info: chrome=96.0.4664.93)\n"
     ]
    }
   ],
   "source": [
    "browser.get('https://china-merchant.wish.com/v2-login?')\n",
    "time.sleep(120)"
   ]
  },
  {
   "cell_type": "code",
   "execution_count": 47,
   "metadata": {},
   "outputs": [],
   "source": [
    "# 打开payment history\n",
    "browser.get('https://china-merchant.wish.com/payment-history')"
   ]
  },
  {
   "cell_type": "code",
   "execution_count": 48,
   "metadata": {
    "collapsed": true
   },
   "outputs": [],
   "source": [
    "# 数当前有多少个Payment ID\n",
    "# payment_ids = browser.find_elements_by_xpath('//div[@id=\"payment-history-list\"]/table[@class=\"table table-hover\"]/tbody/tr[@class=\" expand-row\"]')\n",
    "\n",
    "# payment_id_html_list = []\n",
    "# for payment_id in payment_ids:\n",
    "#     payment_id_html = 'https://china-merchant.wish.com/payment-detail/' + str(payment_id.get_attribute('payment_id'))\n",
    "#     payment_id_html_list.append(payment_id_html)\n",
    "    \n",
    "# payment_id_html_list"
   ]
  },
  {
   "cell_type": "code",
   "execution_count": 49,
   "metadata": {
    "collapsed": true
   },
   "outputs": [],
   "source": [
    "# 点击下一页\n",
    "# payment_next_page = browser.find_elements_by_css_selector('.pagination.next')[0]\n",
    "# payment_next_page.click()"
   ]
  },
  {
   "cell_type": "code",
   "execution_count": 50,
   "metadata": {},
   "outputs": [
    {
     "data": {
      "text/plain": [
       "185"
      ]
     },
     "execution_count": 50,
     "metadata": {},
     "output_type": "execute_result"
    }
   ],
   "source": [
    "# 翻页+取payment_id\n",
    "payment_id_html_list = []\n",
    "try:\n",
    "    payment_ids = browser.find_elements_by_xpath('//div[@id=\"payment-history-list\"]/table[@class=\"table table-hover\"]/tbody/tr[@class=\" expand-row\"]')\n",
    "\n",
    "    for payment_id in payment_ids:\n",
    "        payment_id_html = 'https://china-merchant.wish.com/payment-detail/' + str(payment_id.get_attribute('payment_id'))\n",
    "        payment_id_html_list.append(payment_id_html)\n",
    "    \n",
    "    for i in range(20):\n",
    "        payment_next_page = browser.find_elements_by_css_selector('.pagination.next')[0]\n",
    "        payment_next_page.click()\n",
    "        time.sleep(15)\n",
    "        \n",
    "        payment_ids = browser.find_elements_by_xpath('//div[@id=\"payment-history-list\"]/table[@class=\"table table-hover\"]/tbody/tr[@class=\" expand-row\"]')\n",
    "        \n",
    "        for payment_id in payment_ids:\n",
    "            payment_id_html = 'https://china-merchant.wish.com/payment-detail/' + str(payment_id.get_attribute('payment_id'))\n",
    "            payment_id_html_list.append(payment_id_html)\n",
    "except:\n",
    "    pass\n",
    "\n",
    "len(payment_id_html_list)"
   ]
  },
  {
   "cell_type": "code",
   "execution_count": 51,
   "metadata": {},
   "outputs": [
    {
     "data": {
      "text/plain": [
       "['https://china-merchant.wish.com/payment-detail/556c36a16fa88c4745d2e3ca',\n",
       " 'https://china-merchant.wish.com/payment-detail/5e6dfc07badcdf5c0f853825',\n",
       " 'https://china-merchant.wish.com/payment-detail/5e8467ca5ac47f005e1aba28',\n",
       " 'https://china-merchant.wish.com/payment-detail/5f9e9fbefada620cc0a26cc6',\n",
       " 'https://china-merchant.wish.com/payment-detail/56703c266fa88c3ce5d75842',\n",
       " 'https://china-merchant.wish.com/payment-detail/557ea0f36fa88c5d86bc48c6',\n",
       " 'https://china-merchant.wish.com/payment-detail/616960f2a848eddcdade5f2d',\n",
       " 'https://china-merchant.wish.com/payment-detail/5f37baa45a89d845d9c6d77a',\n",
       " 'https://china-merchant.wish.com/payment-detail/5d19ca80fbce313a64a98991',\n",
       " 'https://china-merchant.wish.com/payment-detail/5788ae61b4bfca3f86a1a4ef',\n",
       " 'https://china-merchant.wish.com/payment-detail/5cf23e4d40de925cbd15ce25',\n",
       " 'https://china-merchant.wish.com/payment-detail/5fd8a1617d638f174a435dfe',\n",
       " 'https://china-merchant.wish.com/payment-detail/60b63452281d7569ff001b12',\n",
       " 'https://china-merchant.wish.com/payment-detail/565db3186fa88c0dfd6cec9c',\n",
       " 'https://china-merchant.wish.com/payment-detail/5818d8c56c85306a01e226d1',\n",
       " 'https://china-merchant.wish.com/payment-detail/5cb4884b2538a00329a38096',\n",
       " 'https://china-merchant.wish.com/payment-detail/5761d7dba67ad069c1c5f48c',\n",
       " 'https://china-merchant.wish.com/payment-detail/5a9872f68c1f496fba678594',\n",
       " 'https://china-merchant.wish.com/payment-detail/61a734cbf033ecc51a496d2b',\n",
       " 'https://china-merchant.wish.com/payment-detail/5d9350ed43456b619a73b44a',\n",
       " 'https://china-merchant.wish.com/payment-detail/5d42aadfb2acdf72c05d2e73',\n",
       " 'https://china-merchant.wish.com/payment-detail/5a731daa26c2911cb42747a9',\n",
       " 'https://china-merchant.wish.com/payment-detail/5bdb48afe60ca1164da05af5',\n",
       " 'https://china-merchant.wish.com/payment-detail/552e2d8a6fa88c3b01879099',\n",
       " 'https://china-merchant.wish.com/payment-detail/5b23d46e5fdd3316a3d990eb',\n",
       " 'https://china-merchant.wish.com/payment-detail/5710ba86d9beed5e0c154aed',\n",
       " 'https://china-merchant.wish.com/payment-detail/5a216d0d905c5b43a4a68680',\n",
       " 'https://china-merchant.wish.com/payment-detail/5c14dc2e7e37e81077727e7d',\n",
       " 'https://china-merchant.wish.com/payment-detail/5b4b6154ad5978173c94ff51',\n",
       " 'https://china-merchant.wish.com/payment-detail/5b38ed717f5f1d16af95f2e7',\n",
       " 'https://china-merchant.wish.com/payment-detail/5c3ded24a7621139a8148659',\n",
       " 'https://china-merchant.wish.com/payment-detail/5f75acfde75b9bee5a97152c',\n",
       " 'https://china-merchant.wish.com/payment-detail/5f609a23f93c960059a0cab6',\n",
       " 'https://china-merchant.wish.com/payment-detail/5f880a18872e6700587abb01',\n",
       " 'https://china-merchant.wish.com/payment-detail/5d7e29c4e620977e08ccc004',\n",
       " 'https://china-merchant.wish.com/payment-detail/587b5dec2e7ac2768f40039d',\n",
       " 'https://china-merchant.wish.com/payment-detail/60f0317ccbbb1a686d24113f',\n",
       " 'https://china-merchant.wish.com/payment-detail/5f4f937effaa3e3bfbfe0874',\n",
       " 'https://china-merchant.wish.com/payment-detail/5bb272da93a1d215e37fc371',\n",
       " 'https://china-merchant.wish.com/payment-detail/60dda182a42daadd7459f89a',\n",
       " 'https://china-merchant.wish.com/payment-detail/59bba26c43d6ca16089ad87b',\n",
       " 'https://china-merchant.wish.com/payment-detail/5ee749e7d2726800f014157c',\n",
       " 'https://china-merchant.wish.com/payment-detail/58c91fc3115feb048bb03799',\n",
       " 'https://china-merchant.wish.com/payment-detail/5ca218a4578256263d6231a0',\n",
       " 'https://china-merchant.wish.com/payment-detail/5992d20a70e400160a65afbf',\n",
       " 'https://china-merchant.wish.com/payment-detail/5a5cbb952a6fe06f5c705fad',\n",
       " 'https://china-merchant.wish.com/payment-detail/58df7e8ff490fe5db7e6b607',\n",
       " 'https://china-merchant.wish.com/payment-detail/60017bad3e99530058f7e902',\n",
       " 'https://china-merchant.wish.com/payment-detail/59f9bb44db425a56fbb4c3ab',\n",
       " 'https://china-merchant.wish.com/payment-detail/609f88885b5f16005f3b9f32',\n",
       " 'https://china-merchant.wish.com/payment-detail/5e0c6cca64e7ff404f0d0897',\n",
       " 'https://china-merchant.wish.com/payment-detail/56d596cb9af27a3c63a98065',\n",
       " 'https://china-merchant.wish.com/payment-detail/5c02d0a932c0ba156e713c4f',\n",
       " 'https://china-merchant.wish.com/payment-detail/6118dcd8b2dd9a0a24c826ba',\n",
       " 'https://china-merchant.wish.com/payment-detail/57daa1f0a8f4177ab8094f97',\n",
       " 'https://china-merchant.wish.com/payment-detail/5f880a19872e6700587abb06',\n",
       " 'https://china-merchant.wish.com/payment-detail/59a93ac7f04b5b404e25b90c',\n",
       " 'https://china-merchant.wish.com/payment-detail/5e1edb321708bf028e4036db',\n",
       " 'https://china-merchant.wish.com/payment-detail/56e82325c0672d12d4036108',\n",
       " 'https://china-merchant.wish.com/payment-detail/5593cd276fa88c777a6c34c0',\n",
       " 'https://china-merchant.wish.com/payment-detail/590711ecedf41c375d63289f',\n",
       " 'https://china-merchant.wish.com/payment-detail/5d6b8cc6b969e504ffc1da60',\n",
       " 'https://china-merchant.wish.com/payment-detail/560d2a366fa88c4a756c2e0b',\n",
       " 'https://china-merchant.wish.com/payment-detail/5b8a9f5db129411672fa38e3',\n",
       " 'https://china-merchant.wish.com/payment-detail/6065ab79fcda67eb994fcbce',\n",
       " 'https://china-merchant.wish.com/payment-detail/5a85a56ab627883a2e5f5f91',\n",
       " 'https://china-merchant.wish.com/payment-detail/612f6ca6622cba2249183b1e',\n",
       " 'https://china-merchant.wish.com/payment-detail/5e47b7723f877b0312094f53',\n",
       " 'https://china-merchant.wish.com/payment-detail/54e071786fa88c4fb73b955d',\n",
       " 'https://china-merchant.wish.com/payment-detail/5635fde76fa88c462c472d67',\n",
       " 'https://china-merchant.wish.com/payment-detail/603ca456e6de10cf5e4e72f9',\n",
       " 'https://china-merchant.wish.com/payment-detail/61924fb9ac298551f2b78e36',\n",
       " 'https://china-merchant.wish.com/payment-detail/5d5518449fa3d723904dea75',\n",
       " 'https://china-merchant.wish.com/payment-detail/5cc99c2b1dd99a5f4ec8e3db',\n",
       " 'https://china-merchant.wish.com/payment-detail/58024fdeeff440368b87c780',\n",
       " 'https://china-merchant.wish.com/payment-detail/5a4a3ff14fcc176edfe5af35',\n",
       " 'https://china-merchant.wish.com/payment-detail/55054e496fa88c0b5d2438f7',\n",
       " 'https://china-merchant.wish.com/payment-detail/55cf13c76fa88c52f4790bb2',\n",
       " 'https://china-merchant.wish.com/payment-detail/5ed51a807adc5400577396af',\n",
       " 'https://china-merchant.wish.com/payment-detail/5fef0c87668d1713864c2e02',\n",
       " 'https://china-merchant.wish.com/payment-detail/5df609adcd10862b0a0b6b66',\n",
       " 'https://china-merchant.wish.com/payment-detail/5ad30acaa081877f592bbf3f',\n",
       " 'https://china-merchant.wish.com/payment-detail/5c554c70ed513934b4b9fc90',\n",
       " 'https://china-merchant.wish.com/payment-detail/5dbc0c80c25f830b89944a30',\n",
       " 'https://china-merchant.wish.com/payment-detail/6141d8f7c6300aeadc3498ff',\n",
       " 'https://china-merchant.wish.com/payment-detail/5ebe607000efc90e91acc2e2',\n",
       " 'https://china-merchant.wish.com/payment-detail/5f0ed46603ae081d803e8834',\n",
       " 'https://china-merchant.wish.com/payment-detail/59199aeef8ed533934a05f33',\n",
       " 'https://china-merchant.wish.com/payment-detail/5f75acfde75b9bee5a971530',\n",
       " 'https://china-merchant.wish.com/payment-detail/6017cb79b9b4e4272c46681f',\n",
       " 'https://china-merchant.wish.com/payment-detail/55a6336c6fa88c256b66e97e',\n",
       " 'https://china-merchant.wish.com/payment-detail/5efc63e952ceb9005c525d13',\n",
       " 'https://china-merchant.wish.com/payment-detail/5725caf0fe7b2c267f45e14b',\n",
       " 'https://china-merchant.wish.com/payment-detail/58f1f996c7bf691c9dd34dc6',\n",
       " 'https://china-merchant.wish.com/payment-detail/5eabdeb155b3830a5622640c',\n",
       " 'https://china-merchant.wish.com/payment-detail/5fb0e2f9e05db336bec158ed',\n",
       " 'https://china-merchant.wish.com/payment-detail/5ae826d9b5d91c1de9482315',\n",
       " 'https://china-merchant.wish.com/payment-detail/5a33e5e70cdf253b806d1bb9',\n",
       " 'https://china-merchant.wish.com/payment-detail/5555be4d6fa88c60ac4c5534',\n",
       " 'https://china-merchant.wish.com/payment-detail/592fedb808a3005cd709b182',\n",
       " 'https://china-merchant.wish.com/payment-detail/5d04b905835704365c946c33',\n",
       " 'https://china-merchant.wish.com/payment-detail/5e5b92163d8b7005eff68415',\n",
       " 'https://china-merchant.wish.com/payment-detail/5b61ca040e4cf40d3a296597',\n",
       " 'https://china-merchant.wish.com/payment-detail/5b9df101ffe045161559cd8c',\n",
       " 'https://china-merchant.wish.com/payment-detail/60781d3237fa6f009de1901c',\n",
       " 'https://china-merchant.wish.com/payment-detail/598059c383d6b223babcd52d',\n",
       " 'https://china-merchant.wish.com/payment-detail/569904636fa88c41a89db4e3',\n",
       " 'https://china-merchant.wish.com/payment-detail/5686a23c6fa88c45e8b022ca',\n",
       " 'https://china-merchant.wish.com/payment-detail/5aaa2fea6797557f37c512a7',\n",
       " 'https://china-merchant.wish.com/payment-detail/56fe3b1d0b80bb12bab96930',\n",
       " 'https://china-merchant.wish.com/payment-detail/574eab50fe7b2c121e5306a9',\n",
       " 'https://china-merchant.wish.com/payment-detail/5afa9ab2f0a584151c507b27',\n",
       " 'https://china-merchant.wish.com/payment-detail/55bc9e8a6fa88c0bf10b9dc5',\n",
       " 'https://china-merchant.wish.com/payment-detail/608d1f88185b3749f702ef98',\n",
       " 'https://china-merchant.wish.com/payment-detail/5f253bbb520d82ee673fb0f2',\n",
       " 'https://china-merchant.wish.com/payment-detail/617fb6510c3bc9fd5e6f46cd',\n",
       " 'https://china-merchant.wish.com/payment-detail/59426691b2534d1564b6bab2',\n",
       " 'https://china-merchant.wish.com/payment-detail/5e354e74edab8e0608881852',\n",
       " 'https://china-merchant.wish.com/payment-detail/6156ea54ae4320139baeb42a',\n",
       " 'https://china-merchant.wish.com/payment-detail/604f1fed233ba34297fd1382',\n",
       " 'https://china-merchant.wish.com/payment-detail/602a338ebfe15e114d5b6918',\n",
       " 'https://china-merchant.wish.com/payment-detail/55f7ff4b6fa88c2b42c1446a',\n",
       " 'https://china-merchant.wish.com/payment-detail/5c2bfc6aa165b5228ab3bae8',\n",
       " 'https://china-merchant.wish.com/payment-detail/57c81254a50be94bb058b2e2',\n",
       " 'https://china-merchant.wish.com/payment-detail/5bedb2a1f82dba15fe2b5b07',\n",
       " 'https://china-merchant.wish.com/payment-detail/59d0c09fbccc82775cb9710c',\n",
       " 'https://china-merchant.wish.com/payment-detail/579f4550a5b3883b39077bfd',\n",
       " 'https://china-merchant.wish.com/payment-detail/59577438502917487c01491f',\n",
       " 'https://china-merchant.wish.com/payment-detail/5de38b7448593734a36fc733',\n",
       " 'https://china-merchant.wish.com/payment-detail/577638767546917fc4bea471',\n",
       " 'https://china-merchant.wish.com/payment-detail/5da59b9c68bf363612eb4265',\n",
       " 'https://china-merchant.wish.com/payment-detail/5cdbd4af4322bc5132f97b98',\n",
       " 'https://china-merchant.wish.com/payment-detail/55e585f66fa88c11493a8107',\n",
       " 'https://china-merchant.wish.com/payment-detail/5738401aa5ff903995ad7bc2',\n",
       " 'https://china-merchant.wish.com/payment-detail/5e96ce76bd98aa1021eaeb20',\n",
       " 'https://china-merchant.wish.com/payment-detail/56af59b49928bc5f940cabe0',\n",
       " 'https://china-merchant.wish.com/payment-detail/58b6ad314676ab37b6f48fd3',\n",
       " 'https://china-merchant.wish.com/payment-detail/6107146774910f8df5a9d27c',\n",
       " 'https://china-merchant.wish.com/payment-detail/58a4370d2b448a0a98ed86d8',\n",
       " 'https://china-merchant.wish.com/payment-detail/5ac096370de1cc7f1e37ab51',\n",
       " 'https://china-merchant.wish.com/payment-detail/5fc60384c5b591565033d1d5',\n",
       " 'https://china-merchant.wish.com/payment-detail/56c1ced5ff66d457f07f72cb',\n",
       " 'https://china-merchant.wish.com/payment-detail/5fc60384c5b591565033d1d9',\n",
       " 'https://china-merchant.wish.com/payment-detail/5b7447a8c910f0214962eef6',\n",
       " 'https://china-merchant.wish.com/payment-detail/59e33484f568795c91106cf4',\n",
       " 'https://china-merchant.wish.com/payment-detail/57b1a18cfe7b2c692a0e93f6',\n",
       " 'https://china-merchant.wish.com/payment-detail/5f609a24f93c960059a0cabb',\n",
       " 'https://china-merchant.wish.com/payment-detail/56489b8f6fa88c0dba06ba0d',\n",
       " 'https://china-merchant.wish.com/payment-detail/5f9e9fbefada620cc0a26cc8',\n",
       " 'https://china-merchant.wish.com/payment-detail/5fb0e2fae05db336bec158ef',\n",
       " 'https://china-merchant.wish.com/payment-detail/5b118f9303bd7624a811754e',\n",
       " 'https://china-merchant.wish.com/payment-detail/57efaf177e31bd096f4f974f',\n",
       " 'https://china-merchant.wish.com/payment-detail/5c689b19ad4f9d25dee8c85b',\n",
       " 'https://china-merchant.wish.com/payment-detail/5c8bfe7d062b51766b3b15c4',\n",
       " 'https://china-merchant.wish.com/payment-detail/584014db11868e164d9724ba',\n",
       " 'https://china-merchant.wish.com/payment-detail/5d2c427c48e3b67e850ace99',\n",
       " 'https://china-merchant.wish.com/payment-detail/5dce76f1d34913005b2a7796',\n",
       " 'https://china-merchant.wish.com/payment-detail/582af513eff440289b0cbea9',\n",
       " 'https://china-merchant.wish.com/payment-detail/5969f20b1c25eb4866496825',\n",
       " 'https://china-merchant.wish.com/payment-detail/58529f7a6fa88c45a6f1086b',\n",
       " 'https://china-merchant.wish.com/payment-detail/60c8618b543d8f838ee9f280',\n",
       " 'https://china-merchant.wish.com/payment-detail/5c7b49a657387c79961607ee',\n",
       " 'https://china-merchant.wish.com/payment-detail/5868e78e910c085e534dfeeb',\n",
       " 'https://china-merchant.wish.com/payment-detail/561f97456fa88c49ea2a352a',\n",
       " 'https://china-merchant.wish.com/payment-detail/5bc50106a060df1624fc89ac',\n",
       " 'https://china-merchant.wish.com/payment-detail/5a0c46ed731abb14b7d0c0ba',\n",
       " 'https://china-merchant.wish.com/payment-detail/5891bff21239ec01932870bb']"
      ]
     },
     "execution_count": 51,
     "metadata": {},
     "output_type": "execute_result"
    }
   ],
   "source": [
    "# 去重\n",
    "payment_id_html_list_unique = list(set(payment_id_html_list))\n",
    "payment_id_html_list_unique"
   ]
  },
  {
   "cell_type": "code",
   "execution_count": 52,
   "metadata": {
    "scrolled": true
   },
   "outputs": [
    {
     "data": {
      "text/plain": [
       "167"
      ]
     },
     "execution_count": 52,
     "metadata": {},
     "output_type": "execute_result"
    }
   ],
   "source": [
    "len(payment_id_html_list_unique)"
   ]
  },
  {
   "cell_type": "code",
   "execution_count": 36,
   "metadata": {
    "collapsed": true
   },
   "outputs": [],
   "source": [
    "# 打开一个payment_id\n",
    "# browser.get('https://china-merchant.wish.com/payment-detail/617fb6510c3bc9fd5e6f46cd')"
   ]
  },
  {
   "cell_type": "code",
   "execution_count": 37,
   "metadata": {
    "collapsed": true
   },
   "outputs": [],
   "source": [
    "# 下载list\n",
    "# download_list = browser.find_elements_by_css_selector('.pull-left.payment-breakdown')\n",
    "# print(download_list[0].get_attribute('data-original-title'))\n",
    "# len(download_list)"
   ]
  },
  {
   "cell_type": "code",
   "execution_count": 38,
   "metadata": {
    "collapsed": true
   },
   "outputs": [],
   "source": [
    "# download_list[0].click()"
   ]
  },
  {
   "cell_type": "code",
   "execution_count": null,
   "metadata": {
    "scrolled": true
   },
   "outputs": [
    {
     "name": "stdout",
     "output_type": "stream",
     "text": [
      "https://china-merchant.wish.com/payment-detail/556c36a16fa88c4745d2e3ca is completed.\n",
      "https://china-merchant.wish.com/payment-detail/5e6dfc07badcdf5c0f853825 is completed.\n",
      "https://china-merchant.wish.com/payment-detail/5e8467ca5ac47f005e1aba28 is completed.\n",
      "https://china-merchant.wish.com/payment-detail/5f9e9fbefada620cc0a26cc6 is completed.\n",
      "https://china-merchant.wish.com/payment-detail/56703c266fa88c3ce5d75842 is completed.\n",
      "https://china-merchant.wish.com/payment-detail/557ea0f36fa88c5d86bc48c6 is completed.\n",
      "https://china-merchant.wish.com/payment-detail/616960f2a848eddcdade5f2d is completed.\n",
      "https://china-merchant.wish.com/payment-detail/5f37baa45a89d845d9c6d77a is completed.\n",
      "https://china-merchant.wish.com/payment-detail/5d19ca80fbce313a64a98991 is completed.\n",
      "https://china-merchant.wish.com/payment-detail/5788ae61b4bfca3f86a1a4ef is completed.\n",
      "https://china-merchant.wish.com/payment-detail/5cf23e4d40de925cbd15ce25 is completed.\n",
      "https://china-merchant.wish.com/payment-detail/5fd8a1617d638f174a435dfe is completed.\n",
      "https://china-merchant.wish.com/payment-detail/60b63452281d7569ff001b12 is completed.\n",
      "https://china-merchant.wish.com/payment-detail/565db3186fa88c0dfd6cec9c is completed.\n",
      "https://china-merchant.wish.com/payment-detail/5818d8c56c85306a01e226d1 is completed.\n",
      "https://china-merchant.wish.com/payment-detail/5cb4884b2538a00329a38096 is completed.\n",
      "https://china-merchant.wish.com/payment-detail/5761d7dba67ad069c1c5f48c is completed.\n",
      "https://china-merchant.wish.com/payment-detail/5a9872f68c1f496fba678594 is completed.\n",
      "https://china-merchant.wish.com/payment-detail/61a734cbf033ecc51a496d2b is completed.\n",
      "https://china-merchant.wish.com/payment-detail/5d9350ed43456b619a73b44a is completed.\n",
      "https://china-merchant.wish.com/payment-detail/5d42aadfb2acdf72c05d2e73 is completed.\n",
      "https://china-merchant.wish.com/payment-detail/5a731daa26c2911cb42747a9 is completed.\n",
      "https://china-merchant.wish.com/payment-detail/5bdb48afe60ca1164da05af5 is completed.\n",
      "https://china-merchant.wish.com/payment-detail/552e2d8a6fa88c3b01879099 is completed.\n",
      "https://china-merchant.wish.com/payment-detail/5b23d46e5fdd3316a3d990eb is completed.\n",
      "https://china-merchant.wish.com/payment-detail/5710ba86d9beed5e0c154aed is completed.\n",
      "https://china-merchant.wish.com/payment-detail/5a216d0d905c5b43a4a68680 is completed.\n",
      "https://china-merchant.wish.com/payment-detail/5c14dc2e7e37e81077727e7d is completed.\n",
      "https://china-merchant.wish.com/payment-detail/5b4b6154ad5978173c94ff51 is completed.\n",
      "https://china-merchant.wish.com/payment-detail/5b38ed717f5f1d16af95f2e7 is completed.\n",
      "https://china-merchant.wish.com/payment-detail/5c3ded24a7621139a8148659 is completed.\n",
      "https://china-merchant.wish.com/payment-detail/5f75acfde75b9bee5a97152c is completed.\n",
      "https://china-merchant.wish.com/payment-detail/5f609a23f93c960059a0cab6 is completed.\n",
      "https://china-merchant.wish.com/payment-detail/5f880a18872e6700587abb01 is completed.\n",
      "https://china-merchant.wish.com/payment-detail/5d7e29c4e620977e08ccc004 is completed.\n",
      "https://china-merchant.wish.com/payment-detail/587b5dec2e7ac2768f40039d is completed.\n",
      "https://china-merchant.wish.com/payment-detail/60f0317ccbbb1a686d24113f is completed.\n",
      "https://china-merchant.wish.com/payment-detail/5f4f937effaa3e3bfbfe0874 is completed.\n",
      "https://china-merchant.wish.com/payment-detail/5bb272da93a1d215e37fc371 is completed.\n",
      "https://china-merchant.wish.com/payment-detail/60dda182a42daadd7459f89a is completed.\n",
      "https://china-merchant.wish.com/payment-detail/59bba26c43d6ca16089ad87b is completed.\n",
      "https://china-merchant.wish.com/payment-detail/5ee749e7d2726800f014157c is completed.\n",
      "https://china-merchant.wish.com/payment-detail/58c91fc3115feb048bb03799 is completed.\n",
      "https://china-merchant.wish.com/payment-detail/5ca218a4578256263d6231a0 is completed.\n",
      "https://china-merchant.wish.com/payment-detail/5992d20a70e400160a65afbf is completed.\n",
      "https://china-merchant.wish.com/payment-detail/5a5cbb952a6fe06f5c705fad is completed.\n",
      "https://china-merchant.wish.com/payment-detail/58df7e8ff490fe5db7e6b607 is completed.\n",
      "https://china-merchant.wish.com/payment-detail/60017bad3e99530058f7e902 is completed.\n",
      "https://china-merchant.wish.com/payment-detail/59f9bb44db425a56fbb4c3ab is completed.\n",
      "https://china-merchant.wish.com/payment-detail/609f88885b5f16005f3b9f32 is completed.\n",
      "https://china-merchant.wish.com/payment-detail/5e0c6cca64e7ff404f0d0897 is completed.\n",
      "https://china-merchant.wish.com/payment-detail/56d596cb9af27a3c63a98065 is completed.\n"
     ]
    }
   ],
   "source": [
    "# 遍历payment_id_html，取账单信息\n",
    "for payment_id_html in payment_id_html_list_unique:\n",
    "    browser.switch_to_window(browser.window_handles[0])\n",
    "    # browser.get(payment_id_html)\n",
    "    js = 'window.open(\"' + payment_id_html + '\")'\n",
    "    browser.execute_script(js)\n",
    "    time.sleep(20)\n",
    "    \n",
    "    download_list = browser.find_elements_by_css_selector('.pull-left.payment-breakdown')\n",
    "    i = 0\n",
    "    for i in range(len(download_list)):\n",
    "        try:\n",
    "            download_list[i].click()\n",
    "            time.sleep(5)\n",
    "        except:\n",
    "            pass\n",
    "    print(payment_id_html + ' is completed.')\n",
    "    \n",
    "    browser.close()\n",
    "    browser.switch_to_window(browser.window_handles[0])\n",
    "    \n",
    "# browser.close()"
   ]
  },
  {
   "cell_type": "code",
   "execution_count": 40,
   "metadata": {},
   "outputs": [
    {
     "name": "stdout",
     "output_type": "stream",
     "text": [
      "No objects to concatenate\n",
      "No objects to concatenate\n",
      "No objects to concatenate\n",
      "No objects to concatenate\n",
      "No objects to concatenate\n",
      "No objects to concatenate\n"
     ]
    }
   ],
   "source": [
    "# 合并文档\n",
    "# 使用变量命名dataframe、list的方法\n",
    "# https://stackoverflow.com/questions/40482738/how-to-name-dataframe-with-variables-in-pandas\n",
    "variables = locals()\n",
    "\n",
    "file_types = ['Fees', 'Fines', 'invoice', 'Paid-Others', 'Paid-Transactions', 'Refunded-Transactions']\n",
    "fees_df, fines_df, invoice_df, paid_others_df, paid_transactions_df, refunded_transaction_df = pd.DataFrame(),pd.DataFrame(),pd.DataFrame(),pd.DataFrame(),pd.DataFrame(),pd.DataFrame()\n",
    "fees_df_list, fines_df_list, invoice_df_list, paid_others_df_list, paid_transactions_df_list, refunded_transaction_df_list = [], [], [], [], [], []\n",
    "file_types_dict = {\n",
    "    'Fees': ['fees_df_list', 'fees_df'],\n",
    "    'Fines': ['fines_df_list', 'fines_df'],\n",
    "    'invoice': ['invoice_df_list', 'invoice_df'],\n",
    "    'Paid-Others': ['paid_others_df_list', 'paid_others_df'],\n",
    "    'Paid-Transactions': ['paid_transactions_df_list', 'paid_transactions_df'],\n",
    "    'Refunded-Transactions': ['refunded_transaction_df_list', 'refunded_transaction_df']\n",
    "}\n",
    "\n",
    "folder_path = 'D:\\\\Program Files (x86)\\\\百度云同步盘\\\\Dropbox\\\\-E·J- 2014.5.1\\\\2016.12.15 店小秘数据分析\\\\2021.11.12 账单信息'\n",
    "\n",
    "\n",
    "for key, value in file_types_dict.items():\n",
    "    to_read_list = value[0]\n",
    "    to_read_df = value[1]\n",
    "    try:\n",
    "        for filename in os.listdir(folder_path):\n",
    "#             if key in filename and filename.endswith('.csv'):\n",
    "            if key in filename and filename.endswith('.csv') and '604f1fed233ba34297fd1382' in filename:\n",
    "                file_type_df = pd.read_csv(os.path.join(folder_path, filename))\n",
    "                variables[\"{0}\".format(to_read_list)].append(file_type_df)\n",
    "            \n",
    "        variables[\"{0}\".format(to_read_df)] = pd.concat(variables[\"{0}\".format(to_read_list)])\n",
    "    except Exception as err:\n",
    "        print(err)\n",
    "# refunded_transaction_df.head()"
   ]
  },
  {
   "cell_type": "code",
   "execution_count": 41,
   "metadata": {},
   "outputs": [
    {
     "data": {
      "text/html": [
       "<div>\n",
       "<table border=\"1\" class=\"dataframe\">\n",
       "  <thead>\n",
       "    <tr style=\"text-align: right;\">\n",
       "      <th></th>\n",
       "    </tr>\n",
       "  </thead>\n",
       "  <tbody>\n",
       "  </tbody>\n",
       "</table>\n",
       "</div>"
      ],
      "text/plain": [
       "Empty DataFrame\n",
       "Columns: []\n",
       "Index: []"
      ]
     },
     "execution_count": 41,
     "metadata": {},
     "output_type": "execute_result"
    }
   ],
   "source": [
    "fees_df.head()"
   ]
  },
  {
   "cell_type": "code",
   "execution_count": 42,
   "metadata": {},
   "outputs": [
    {
     "ename": "KeyError",
     "evalue": "'Amount'",
     "output_type": "error",
     "traceback": [
      "\u001b[0;31m---------------------------------------------------------------------------\u001b[0m",
      "\u001b[0;31mKeyError\u001b[0m                                  Traceback (most recent call last)",
      "\u001b[0;32mC:\\Users\\kuang\\Anaconda3\\lib\\site-packages\\pandas\\indexes\\base.py\u001b[0m in \u001b[0;36mget_loc\u001b[0;34m(self, key, method, tolerance)\u001b[0m\n\u001b[1;32m   1944\u001b[0m             \u001b[1;32mtry\u001b[0m\u001b[1;33m:\u001b[0m\u001b[1;33m\u001b[0m\u001b[0m\n\u001b[0;32m-> 1945\u001b[0;31m                 \u001b[1;32mreturn\u001b[0m \u001b[0mself\u001b[0m\u001b[1;33m.\u001b[0m\u001b[0m_engine\u001b[0m\u001b[1;33m.\u001b[0m\u001b[0mget_loc\u001b[0m\u001b[1;33m(\u001b[0m\u001b[0mkey\u001b[0m\u001b[1;33m)\u001b[0m\u001b[1;33m\u001b[0m\u001b[0m\n\u001b[0m\u001b[1;32m   1946\u001b[0m             \u001b[1;32mexcept\u001b[0m \u001b[0mKeyError\u001b[0m\u001b[1;33m:\u001b[0m\u001b[1;33m\u001b[0m\u001b[0m\n",
      "\u001b[0;32mpandas\\index.pyx\u001b[0m in \u001b[0;36mpandas.index.IndexEngine.get_loc (pandas\\index.c:4154)\u001b[0;34m()\u001b[0m\n",
      "\u001b[0;32mpandas\\index.pyx\u001b[0m in \u001b[0;36mpandas.index.IndexEngine.get_loc (pandas\\index.c:4018)\u001b[0;34m()\u001b[0m\n",
      "\u001b[0;32mpandas\\hashtable.pyx\u001b[0m in \u001b[0;36mpandas.hashtable.PyObjectHashTable.get_item (pandas\\hashtable.c:12368)\u001b[0;34m()\u001b[0m\n",
      "\u001b[0;32mpandas\\hashtable.pyx\u001b[0m in \u001b[0;36mpandas.hashtable.PyObjectHashTable.get_item (pandas\\hashtable.c:12322)\u001b[0;34m()\u001b[0m\n",
      "\u001b[0;31mKeyError\u001b[0m: 'Amount'",
      "\nDuring handling of the above exception, another exception occurred:\n",
      "\u001b[0;31mKeyError\u001b[0m                                  Traceback (most recent call last)",
      "\u001b[0;32m<ipython-input-42-0bc20006d573>\u001b[0m in \u001b[0;36m<module>\u001b[0;34m()\u001b[0m\n\u001b[0;32m----> 1\u001b[0;31m \u001b[0mfees_df\u001b[0m\u001b[1;33m[\u001b[0m\u001b[1;34m'Amount'\u001b[0m\u001b[1;33m]\u001b[0m\u001b[1;33m.\u001b[0m\u001b[0msum\u001b[0m\u001b[1;33m(\u001b[0m\u001b[1;33m)\u001b[0m\u001b[1;33m\u001b[0m\u001b[0m\n\u001b[0m",
      "\u001b[0;32mC:\\Users\\kuang\\Anaconda3\\lib\\site-packages\\pandas\\core\\frame.py\u001b[0m in \u001b[0;36m__getitem__\u001b[0;34m(self, key)\u001b[0m\n\u001b[1;32m   1995\u001b[0m             \u001b[1;32mreturn\u001b[0m \u001b[0mself\u001b[0m\u001b[1;33m.\u001b[0m\u001b[0m_getitem_multilevel\u001b[0m\u001b[1;33m(\u001b[0m\u001b[0mkey\u001b[0m\u001b[1;33m)\u001b[0m\u001b[1;33m\u001b[0m\u001b[0m\n\u001b[1;32m   1996\u001b[0m         \u001b[1;32melse\u001b[0m\u001b[1;33m:\u001b[0m\u001b[1;33m\u001b[0m\u001b[0m\n\u001b[0;32m-> 1997\u001b[0;31m             \u001b[1;32mreturn\u001b[0m \u001b[0mself\u001b[0m\u001b[1;33m.\u001b[0m\u001b[0m_getitem_column\u001b[0m\u001b[1;33m(\u001b[0m\u001b[0mkey\u001b[0m\u001b[1;33m)\u001b[0m\u001b[1;33m\u001b[0m\u001b[0m\n\u001b[0m\u001b[1;32m   1998\u001b[0m \u001b[1;33m\u001b[0m\u001b[0m\n\u001b[1;32m   1999\u001b[0m     \u001b[1;32mdef\u001b[0m \u001b[0m_getitem_column\u001b[0m\u001b[1;33m(\u001b[0m\u001b[0mself\u001b[0m\u001b[1;33m,\u001b[0m \u001b[0mkey\u001b[0m\u001b[1;33m)\u001b[0m\u001b[1;33m:\u001b[0m\u001b[1;33m\u001b[0m\u001b[0m\n",
      "\u001b[0;32mC:\\Users\\kuang\\Anaconda3\\lib\\site-packages\\pandas\\core\\frame.py\u001b[0m in \u001b[0;36m_getitem_column\u001b[0;34m(self, key)\u001b[0m\n\u001b[1;32m   2002\u001b[0m         \u001b[1;31m# get column\u001b[0m\u001b[1;33m\u001b[0m\u001b[1;33m\u001b[0m\u001b[0m\n\u001b[1;32m   2003\u001b[0m         \u001b[1;32mif\u001b[0m \u001b[0mself\u001b[0m\u001b[1;33m.\u001b[0m\u001b[0mcolumns\u001b[0m\u001b[1;33m.\u001b[0m\u001b[0mis_unique\u001b[0m\u001b[1;33m:\u001b[0m\u001b[1;33m\u001b[0m\u001b[0m\n\u001b[0;32m-> 2004\u001b[0;31m             \u001b[1;32mreturn\u001b[0m \u001b[0mself\u001b[0m\u001b[1;33m.\u001b[0m\u001b[0m_get_item_cache\u001b[0m\u001b[1;33m(\u001b[0m\u001b[0mkey\u001b[0m\u001b[1;33m)\u001b[0m\u001b[1;33m\u001b[0m\u001b[0m\n\u001b[0m\u001b[1;32m   2005\u001b[0m \u001b[1;33m\u001b[0m\u001b[0m\n\u001b[1;32m   2006\u001b[0m         \u001b[1;31m# duplicate columns & possible reduce dimensionality\u001b[0m\u001b[1;33m\u001b[0m\u001b[1;33m\u001b[0m\u001b[0m\n",
      "\u001b[0;32mC:\\Users\\kuang\\Anaconda3\\lib\\site-packages\\pandas\\core\\generic.py\u001b[0m in \u001b[0;36m_get_item_cache\u001b[0;34m(self, item)\u001b[0m\n\u001b[1;32m   1348\u001b[0m         \u001b[0mres\u001b[0m \u001b[1;33m=\u001b[0m \u001b[0mcache\u001b[0m\u001b[1;33m.\u001b[0m\u001b[0mget\u001b[0m\u001b[1;33m(\u001b[0m\u001b[0mitem\u001b[0m\u001b[1;33m)\u001b[0m\u001b[1;33m\u001b[0m\u001b[0m\n\u001b[1;32m   1349\u001b[0m         \u001b[1;32mif\u001b[0m \u001b[0mres\u001b[0m \u001b[1;32mis\u001b[0m \u001b[1;32mNone\u001b[0m\u001b[1;33m:\u001b[0m\u001b[1;33m\u001b[0m\u001b[0m\n\u001b[0;32m-> 1350\u001b[0;31m             \u001b[0mvalues\u001b[0m \u001b[1;33m=\u001b[0m \u001b[0mself\u001b[0m\u001b[1;33m.\u001b[0m\u001b[0m_data\u001b[0m\u001b[1;33m.\u001b[0m\u001b[0mget\u001b[0m\u001b[1;33m(\u001b[0m\u001b[0mitem\u001b[0m\u001b[1;33m)\u001b[0m\u001b[1;33m\u001b[0m\u001b[0m\n\u001b[0m\u001b[1;32m   1351\u001b[0m             \u001b[0mres\u001b[0m \u001b[1;33m=\u001b[0m \u001b[0mself\u001b[0m\u001b[1;33m.\u001b[0m\u001b[0m_box_item_values\u001b[0m\u001b[1;33m(\u001b[0m\u001b[0mitem\u001b[0m\u001b[1;33m,\u001b[0m \u001b[0mvalues\u001b[0m\u001b[1;33m)\u001b[0m\u001b[1;33m\u001b[0m\u001b[0m\n\u001b[1;32m   1352\u001b[0m             \u001b[0mcache\u001b[0m\u001b[1;33m[\u001b[0m\u001b[0mitem\u001b[0m\u001b[1;33m]\u001b[0m \u001b[1;33m=\u001b[0m \u001b[0mres\u001b[0m\u001b[1;33m\u001b[0m\u001b[0m\n",
      "\u001b[0;32mC:\\Users\\kuang\\Anaconda3\\lib\\site-packages\\pandas\\core\\internals.py\u001b[0m in \u001b[0;36mget\u001b[0;34m(self, item, fastpath)\u001b[0m\n\u001b[1;32m   3288\u001b[0m \u001b[1;33m\u001b[0m\u001b[0m\n\u001b[1;32m   3289\u001b[0m             \u001b[1;32mif\u001b[0m \u001b[1;32mnot\u001b[0m \u001b[0misnull\u001b[0m\u001b[1;33m(\u001b[0m\u001b[0mitem\u001b[0m\u001b[1;33m)\u001b[0m\u001b[1;33m:\u001b[0m\u001b[1;33m\u001b[0m\u001b[0m\n\u001b[0;32m-> 3290\u001b[0;31m                 \u001b[0mloc\u001b[0m \u001b[1;33m=\u001b[0m \u001b[0mself\u001b[0m\u001b[1;33m.\u001b[0m\u001b[0mitems\u001b[0m\u001b[1;33m.\u001b[0m\u001b[0mget_loc\u001b[0m\u001b[1;33m(\u001b[0m\u001b[0mitem\u001b[0m\u001b[1;33m)\u001b[0m\u001b[1;33m\u001b[0m\u001b[0m\n\u001b[0m\u001b[1;32m   3291\u001b[0m             \u001b[1;32melse\u001b[0m\u001b[1;33m:\u001b[0m\u001b[1;33m\u001b[0m\u001b[0m\n\u001b[1;32m   3292\u001b[0m                 \u001b[0mindexer\u001b[0m \u001b[1;33m=\u001b[0m \u001b[0mnp\u001b[0m\u001b[1;33m.\u001b[0m\u001b[0marange\u001b[0m\u001b[1;33m(\u001b[0m\u001b[0mlen\u001b[0m\u001b[1;33m(\u001b[0m\u001b[0mself\u001b[0m\u001b[1;33m.\u001b[0m\u001b[0mitems\u001b[0m\u001b[1;33m)\u001b[0m\u001b[1;33m)\u001b[0m\u001b[1;33m[\u001b[0m\u001b[0misnull\u001b[0m\u001b[1;33m(\u001b[0m\u001b[0mself\u001b[0m\u001b[1;33m.\u001b[0m\u001b[0mitems\u001b[0m\u001b[1;33m)\u001b[0m\u001b[1;33m]\u001b[0m\u001b[1;33m\u001b[0m\u001b[0m\n",
      "\u001b[0;32mC:\\Users\\kuang\\Anaconda3\\lib\\site-packages\\pandas\\indexes\\base.py\u001b[0m in \u001b[0;36mget_loc\u001b[0;34m(self, key, method, tolerance)\u001b[0m\n\u001b[1;32m   1945\u001b[0m                 \u001b[1;32mreturn\u001b[0m \u001b[0mself\u001b[0m\u001b[1;33m.\u001b[0m\u001b[0m_engine\u001b[0m\u001b[1;33m.\u001b[0m\u001b[0mget_loc\u001b[0m\u001b[1;33m(\u001b[0m\u001b[0mkey\u001b[0m\u001b[1;33m)\u001b[0m\u001b[1;33m\u001b[0m\u001b[0m\n\u001b[1;32m   1946\u001b[0m             \u001b[1;32mexcept\u001b[0m \u001b[0mKeyError\u001b[0m\u001b[1;33m:\u001b[0m\u001b[1;33m\u001b[0m\u001b[0m\n\u001b[0;32m-> 1947\u001b[0;31m                 \u001b[1;32mreturn\u001b[0m \u001b[0mself\u001b[0m\u001b[1;33m.\u001b[0m\u001b[0m_engine\u001b[0m\u001b[1;33m.\u001b[0m\u001b[0mget_loc\u001b[0m\u001b[1;33m(\u001b[0m\u001b[0mself\u001b[0m\u001b[1;33m.\u001b[0m\u001b[0m_maybe_cast_indexer\u001b[0m\u001b[1;33m(\u001b[0m\u001b[0mkey\u001b[0m\u001b[1;33m)\u001b[0m\u001b[1;33m)\u001b[0m\u001b[1;33m\u001b[0m\u001b[0m\n\u001b[0m\u001b[1;32m   1948\u001b[0m \u001b[1;33m\u001b[0m\u001b[0m\n\u001b[1;32m   1949\u001b[0m         \u001b[0mindexer\u001b[0m \u001b[1;33m=\u001b[0m \u001b[0mself\u001b[0m\u001b[1;33m.\u001b[0m\u001b[0mget_indexer\u001b[0m\u001b[1;33m(\u001b[0m\u001b[1;33m[\u001b[0m\u001b[0mkey\u001b[0m\u001b[1;33m]\u001b[0m\u001b[1;33m,\u001b[0m \u001b[0mmethod\u001b[0m\u001b[1;33m=\u001b[0m\u001b[0mmethod\u001b[0m\u001b[1;33m,\u001b[0m \u001b[0mtolerance\u001b[0m\u001b[1;33m=\u001b[0m\u001b[0mtolerance\u001b[0m\u001b[1;33m)\u001b[0m\u001b[1;33m\u001b[0m\u001b[0m\n",
      "\u001b[0;32mpandas\\index.pyx\u001b[0m in \u001b[0;36mpandas.index.IndexEngine.get_loc (pandas\\index.c:4154)\u001b[0;34m()\u001b[0m\n",
      "\u001b[0;32mpandas\\index.pyx\u001b[0m in \u001b[0;36mpandas.index.IndexEngine.get_loc (pandas\\index.c:4018)\u001b[0;34m()\u001b[0m\n",
      "\u001b[0;32mpandas\\hashtable.pyx\u001b[0m in \u001b[0;36mpandas.hashtable.PyObjectHashTable.get_item (pandas\\hashtable.c:12368)\u001b[0;34m()\u001b[0m\n",
      "\u001b[0;32mpandas\\hashtable.pyx\u001b[0m in \u001b[0;36mpandas.hashtable.PyObjectHashTable.get_item (pandas\\hashtable.c:12322)\u001b[0;34m()\u001b[0m\n",
      "\u001b[0;31mKeyError\u001b[0m: 'Amount'"
     ]
    }
   ],
   "source": [
    "fees_df['Amount'].sum()"
   ]
  },
  {
   "cell_type": "code",
   "execution_count": null,
   "metadata": {
    "collapsed": true
   },
   "outputs": [],
   "source": [
    "fines_df.head()"
   ]
  },
  {
   "cell_type": "code",
   "execution_count": null,
   "metadata": {
    "collapsed": true
   },
   "outputs": [],
   "source": [
    "fines_df['Amount'].sum()"
   ]
  },
  {
   "cell_type": "code",
   "execution_count": null,
   "metadata": {
    "collapsed": true
   },
   "outputs": [],
   "source": [
    "invoice_df.head()"
   ]
  },
  {
   "cell_type": "code",
   "execution_count": null,
   "metadata": {
    "collapsed": true
   },
   "outputs": [],
   "source": [
    "paid_others_df.head()"
   ]
  },
  {
   "cell_type": "code",
   "execution_count": null,
   "metadata": {
    "collapsed": true
   },
   "outputs": [],
   "source": [
    "paid_transactions_df.head()"
   ]
  },
  {
   "cell_type": "code",
   "execution_count": null,
   "metadata": {
    "collapsed": true
   },
   "outputs": [],
   "source": [
    "paid_transactions_df.columns"
   ]
  },
  {
   "cell_type": "code",
   "execution_count": null,
   "metadata": {
    "collapsed": true
   },
   "outputs": [],
   "source": [
    "paid_transactions_df['Paid Amount formmated'] = paid_transactions_df['Paid Amount'].apply(lambda x: x[1:]).astype('float')\n",
    "# paid_transactions_df['Total Cost']\n",
    "paid_transactions_df['Paid Amount formmated'].sum()"
   ]
  },
  {
   "cell_type": "code",
   "execution_count": null,
   "metadata": {
    "collapsed": true
   },
   "outputs": [],
   "source": [
    "refunded_transaction_df.head()"
   ]
  },
  {
   "cell_type": "code",
   "execution_count": null,
   "metadata": {
    "collapsed": true
   },
   "outputs": [],
   "source": [
    "refunded_transaction_df.columns"
   ]
  },
  {
   "cell_type": "code",
   "execution_count": null,
   "metadata": {
    "collapsed": true
   },
   "outputs": [],
   "source": [
    "refunded_transaction_df['Deducted Amount formmated'] = refunded_transaction_df['Deducted Amount'].apply(lambda x: x[2:]).astype('float')\n",
    "# refunded_transaction_df['Deducted Amount']\n",
    "refunded_transaction_df['Deducted Amount formmated'].sum()"
   ]
  }
 ],
 "metadata": {
  "anaconda-cloud": {},
  "kernelspec": {
   "display_name": "Python [conda env:Anaconda3]",
   "language": "python",
   "name": "conda-env-Anaconda3-py"
  },
  "language_info": {
   "codemirror_mode": {
    "name": "ipython",
    "version": 3
   },
   "file_extension": ".py",
   "mimetype": "text/x-python",
   "name": "python",
   "nbconvert_exporter": "python",
   "pygments_lexer": "ipython3",
   "version": "3.5.2"
  }
 },
 "nbformat": 4,
 "nbformat_minor": 1
}
