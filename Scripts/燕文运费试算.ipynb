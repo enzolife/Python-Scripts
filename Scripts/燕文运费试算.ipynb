{
 "cells": [
  {
   "cell_type": "code",
   "execution_count": 1,
   "metadata": {
    "collapsed": true
   },
   "outputs": [],
   "source": [
    "from selenium import webdriver\n",
    "from selenium.webdriver.common.keys import Keys\n",
    "import pandas as pd\n",
    "import time\n",
    "import os\n",
    "import zipfile\n",
    "import shutil"
   ]
  },
  {
   "cell_type": "code",
   "execution_count": 2,
   "metadata": {
    "collapsed": true
   },
   "outputs": [],
   "source": [
    "# 屏幕最大化，且指定下载目录\n",
    "options = webdriver.ChromeOptions()\n",
    "options.add_argument(\"--start-maximized\")\n",
    "\n",
    "prefs = {\"profile.default_content_settings.popups\": 0,\n",
    "         \"download.default_directory\": r\"D:\\Program Files (x86)\\百度云同步盘\\Dropbox\\-E·J- 2014.5.1\\2016.12.15 店小秘数据分析\\2017.10.24 各渠道运费明细\\燕文\\\\\", # IMPORTANT - ENDING SLASH V IMPORTANT\n",
    "         \"directory_upgrade\": True}\n",
    "options.add_experimental_option(\"prefs\", prefs)"
   ]
  },
  {
   "cell_type": "code",
   "execution_count": 3,
   "metadata": {
    "collapsed": true
   },
   "outputs": [],
   "source": [
    "# 使用chromedriver才可以用开发者权限\n",
    "chrome_driver_path = \".//chrome_driver//chromedriver.exe\"\n",
    "browser = webdriver.Chrome(chrome_driver_path, chrome_options=options)"
   ]
  },
  {
   "cell_type": "code",
   "execution_count": 4,
   "metadata": {
    "collapsed": true
   },
   "outputs": [],
   "source": [
    "browser.get('http://portal.yw56.com.cn/login')"
   ]
  },
  {
   "cell_type": "code",
   "execution_count": 5,
   "metadata": {
    "collapsed": true
   },
   "outputs": [],
   "source": [
    "yw_account = 401614\n",
    "yw_psw = 'enzo123456'"
   ]
  },
  {
   "cell_type": "code",
   "execution_count": 6,
   "metadata": {
    "collapsed": true
   },
   "outputs": [],
   "source": [
    "def find_elements_by_css_selector(class_name, order_num):\n",
    "    class_name = class_name.replace(\" \", \".\")\n",
    "    class_name = '.' + class_name\n",
    "    return browser.find_elements_by_css_selector(class_name)[order_num]"
   ]
  },
  {
   "cell_type": "code",
   "execution_count": 7,
   "metadata": {
    "collapsed": true
   },
   "outputs": [],
   "source": [
    "time.sleep(5)\n",
    "yw_account_input = find_elements_by_css_selector('ant-input ant-input-lg', 0)\n",
    "yw_psw_input = find_elements_by_css_selector('ant-input ant-input-lg', 1)"
   ]
  },
  {
   "cell_type": "code",
   "execution_count": 8,
   "metadata": {
    "collapsed": true
   },
   "outputs": [],
   "source": [
    "# 输入账户密码登录\n",
    "yw_account_input.click()\n",
    "yw_account_input.send_keys(yw_account)\n",
    "yw_psw_input.click()\n",
    "yw_psw_input.send_keys(yw_psw)\n",
    "time.sleep(10)"
   ]
  },
  {
   "cell_type": "code",
   "execution_count": 24,
   "metadata": {
    "collapsed": true
   },
   "outputs": [],
   "source": [
    "# 点击运费试算\n",
    "# browser.get('https://portal.yw56.com.cn/myBill/freightTrial')\n",
    "# time.sleep(5)"
   ]
  },
  {
   "cell_type": "code",
   "execution_count": 25,
   "metadata": {
    "collapsed": true
   },
   "outputs": [],
   "source": [
    "# 输入目的地国家\n",
    "# destination_country = find_elements_by_css_selector('ant-input ant-select-search__field', 0)\n",
    "# destination_country.send_keys('美国')\n",
    "# time.sleep(5)\n",
    "# browser.find_element_by_xpath(\"//ul[@class='ant-select-dropdown-menu  ant-select-dropdown-menu-root ant-select-dropdown-menu-vertical']/li[text()='账单']\").click()"
   ]
  },
  {
   "cell_type": "code",
   "execution_count": 26,
   "metadata": {
    "collapsed": true
   },
   "outputs": [],
   "source": [
    "# 输入重量\n",
    "# product_weight = find_elements_by_css_selector('ant-input', 1)\n",
    "# product_weight.send_keys(350)"
   ]
  },
  {
   "cell_type": "code",
   "execution_count": 27,
   "metadata": {
    "collapsed": true
   },
   "outputs": [],
   "source": [
    "# 点击查询\n",
    "# click_query = find_elements_by_css_selector('ant-btn ant-btn-primary', 0)\n",
    "# click_query.click()\n",
    "# time.sleep(5)"
   ]
  },
  {
   "cell_type": "code",
   "execution_count": 28,
   "metadata": {},
   "outputs": [],
   "source": [
    "# 查找查询出来的第一位\n",
    "# top_query_name = browser.find_element_by_xpath(\"//tr[@class='ant-table-row ant-table-row-level-0']/td\")\n",
    "# top_query_name.text"
   ]
  },
  {
   "cell_type": "code",
   "execution_count": 29,
   "metadata": {
    "collapsed": true
   },
   "outputs": [],
   "source": [
    "# 价格升序\n",
    "# sort_price = find_elements_by_css_selector('anticon anticon-caret-down ant-table-column-sorter-down off', 1)\n",
    "# sort_price.click()"
   ]
  },
  {
   "cell_type": "code",
   "execution_count": 30,
   "metadata": {},
   "outputs": [],
   "source": [
    "# 查找查询出来的价格\n",
    "# top_query_price = browser.find_element_by_xpath(\"//tr[@class='ant-table-row ant-table-row-level-0']/td[@class='ant-table-column-has-actions ant-table-column-has-sorters'][2]\")\n",
    "# top_query_price.text"
   ]
  },
  {
   "cell_type": "code",
   "execution_count": 31,
   "metadata": {
    "collapsed": true
   },
   "outputs": [],
   "source": [
    "# 批量查询\n",
    "country_list = [\n",
    "    '法国',\n",
    "    '西班牙',\n",
    "    '美国',\n",
    "    '加拿大',\n",
    "    '俄罗斯',\n",
    "    '以色列',\n",
    "    '比利时',\n",
    "    '荷兰',\n",
    "    '英国',\n",
    "    '约旦',\n",
    "    '匈牙利',\n",
    "    '澳大利亚',\n",
    "    '波兰',\n",
    "    '沙特阿拉伯',\n",
    "    '瑞士',\n",
    "    '德国',\n",
    "    '爱尔兰',\n",
    "    '黎巴嫩',\n",
    "    '格鲁吉亚',\n",
    "    '日本',\n",
    "    '马耳他',\n",
    "    '罗马尼亚',\n",
    "    '墨西哥',\n",
    "    '爱沙尼亚',\n",
    "    '新加坡',\n",
    "    '希腊',\n",
    "    '印度',\n",
    "    '葡萄牙',\n",
    "    '新西兰',\n",
    "    '奥地利'\n",
    "]"
   ]
  },
  {
   "cell_type": "code",
   "execution_count": 32,
   "metadata": {},
   "outputs": [
    {
     "name": "stdout",
     "output_type": "stream",
     "text": [
      "正在跑法国\n",
      "正在跑西班牙\n",
      "正在跑美国\n",
      "正在跑加拿大\n",
      "正在跑俄罗斯\n",
      "正在跑以色列\n",
      "正在跑比利时\n",
      "正在跑荷兰\n",
      "正在跑英国\n",
      "正在跑约旦\n",
      "正在跑匈牙利\n",
      "正在跑澳大利亚\n",
      "正在跑波兰\n",
      "正在跑沙特阿拉伯\n",
      "正在跑瑞士\n",
      "正在跑德国\n",
      "正在跑爱尔兰\n",
      "正在跑黎巴嫩\n",
      "正在跑格鲁吉亚\n",
      "正在跑日本\n",
      "正在跑马耳他\n",
      "正在跑罗马尼亚\n",
      "正在跑墨西哥\n",
      "正在跑爱沙尼亚\n",
      "正在跑新加坡\n",
      "正在跑希腊\n",
      "正在跑印度\n",
      "正在跑葡萄牙\n",
      "正在跑新西兰\n",
      "正在跑奥地利\n"
     ]
    },
    {
     "data": {
      "text/html": [
       "<div>\n",
       "<table border=\"1\" class=\"dataframe\">\n",
       "  <thead>\n",
       "    <tr style=\"text-align: right;\">\n",
       "      <th></th>\n",
       "      <th>国家</th>\n",
       "      <th>重量</th>\n",
       "      <th>最低运费渠道</th>\n",
       "      <th>最低运费</th>\n",
       "    </tr>\n",
       "  </thead>\n",
       "  <tbody>\n",
       "    <tr>\n",
       "      <th>0</th>\n",
       "      <td>法国</td>\n",
       "      <td>50.0</td>\n",
       "      <td>燕文专线平邮小包-普货</td>\n",
       "      <td>12.53</td>\n",
       "    </tr>\n",
       "    <tr>\n",
       "      <th>1</th>\n",
       "      <td>西班牙</td>\n",
       "      <td>50.0</td>\n",
       "      <td>燕文专线平邮小包-普货</td>\n",
       "      <td>13.38</td>\n",
       "    </tr>\n",
       "    <tr>\n",
       "      <th>2</th>\n",
       "      <td>美国</td>\n",
       "      <td>50.0</td>\n",
       "      <td>燕文航空经济小包-普货</td>\n",
       "      <td>14.75</td>\n",
       "    </tr>\n",
       "    <tr>\n",
       "      <th>3</th>\n",
       "      <td>加拿大</td>\n",
       "      <td>50.0</td>\n",
       "      <td>燕文航空经济小包-普货</td>\n",
       "      <td>17.1</td>\n",
       "    </tr>\n",
       "    <tr>\n",
       "      <th>4</th>\n",
       "      <td>俄罗斯</td>\n",
       "      <td>50.0</td>\n",
       "      <td>燕文航空经济小包-特货</td>\n",
       "      <td>11.5</td>\n",
       "    </tr>\n",
       "  </tbody>\n",
       "</table>\n",
       "</div>"
      ],
      "text/plain": [
       "    国家    重量       最低运费渠道   最低运费\n",
       "0   法国  50.0  燕文专线平邮小包-普货  12.53\n",
       "1  西班牙  50.0  燕文专线平邮小包-普货  13.38\n",
       "2   美国  50.0  燕文航空经济小包-普货  14.75\n",
       "3  加拿大  50.0  燕文航空经济小包-普货   17.1\n",
       "4  俄罗斯  50.0  燕文航空经济小包-特货   11.5"
      ]
     },
     "execution_count": 32,
     "metadata": {},
     "output_type": "execute_result"
    }
   ],
   "source": [
    "product_weight_number = 50\n",
    "shipping_fee_df = pd.DataFrame(columns=['国家', '重量', '最低运费渠道', '最低运费'])\n",
    "\n",
    "for country in country_list:\n",
    "    # 国家\n",
    "    print('正在跑' + str(country))\n",
    "    # 点击运费试算\n",
    "    browser.get('https://portal.yw56.com.cn/myBill/freightTrial')\n",
    "    time.sleep(5)\n",
    "    # 输入目的地国家\n",
    "    destination_country = find_elements_by_css_selector('ant-input ant-select-search__field', 0)\n",
    "    destination_country.send_keys(country)\n",
    "    # 输入重量\n",
    "    product_weight = find_elements_by_css_selector('ant-input', 1)\n",
    "    product_weight.send_keys(product_weight_number)\n",
    "    # 点击查询\n",
    "    click_query = find_elements_by_css_selector('ant-btn ant-btn-primary', 0)\n",
    "    click_query.click()\n",
    "    time.sleep(10)\n",
    "    # 价格升序\n",
    "    sort_price = find_elements_by_css_selector('anticon anticon-caret-down ant-table-column-sorter-down off', 1)\n",
    "    sort_price.click()\n",
    "    # 查找查询出来的第一位\n",
    "    top_query_name = browser.find_element_by_xpath(\"//tr[@class='ant-table-row ant-table-row-level-0']/td\")\n",
    "    # print(top_query_name.text)\n",
    "    # 查找查询出来的价格\n",
    "    top_query_price = browser.find_element_by_xpath(\"//tr[@class='ant-table-row ant-table-row-level-0']/td[@class='ant-table-column-has-actions ant-table-column-has-sorters'][2]\")\n",
    "    # print(top_query_price.text)\n",
    "    \n",
    "    # 添加到dataframe\n",
    "    shipping_fee_df = shipping_fee_df.append({\n",
    "        '国家': country,\n",
    "        '重量': product_weight_number,\n",
    "        '最低运费渠道': top_query_name.text,\n",
    "        '最低运费': top_query_price.text\n",
    "    }, ignore_index=True)\n",
    "    \n",
    "shipping_fee_df.head()"
   ]
  },
  {
   "cell_type": "code",
   "execution_count": 33,
   "metadata": {
    "collapsed": true
   },
   "outputs": [],
   "source": [
    "# 输出\n",
    "output_path = 'D:\\\\Program Files (x86)\\\\百度云同步盘\\Dropbox\\\\-E·J- 2014.5.1\\\\2015.9.26 燕文'\n",
    "shipping_fee_df.to_csv(os.path.join(output_path, str(product_weight_number) + 'g产品运费试算（平邮）.csv'), encoding='gb18030')"
   ]
  }
 ],
 "metadata": {
  "anaconda-cloud": {},
  "kernelspec": {
   "display_name": "Python [conda env:Anaconda3]",
   "language": "python",
   "name": "conda-env-Anaconda3-py"
  },
  "language_info": {
   "codemirror_mode": {
    "name": "ipython",
    "version": 3
   },
   "file_extension": ".py",
   "mimetype": "text/x-python",
   "name": "python",
   "nbconvert_exporter": "python",
   "pygments_lexer": "ipython3",
   "version": "3.5.2"
  }
 },
 "nbformat": 4,
 "nbformat_minor": 1
}
