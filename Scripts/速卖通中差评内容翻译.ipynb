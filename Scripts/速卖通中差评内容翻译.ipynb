{
 "cells": [
  {
   "cell_type": "code",
   "execution_count": 1,
   "metadata": {
    "collapsed": true
   },
   "outputs": [],
   "source": [
    "import pandas as pd"
   ]
  },
  {
   "cell_type": "code",
   "execution_count": 2,
   "metadata": {
    "scrolled": true
   },
   "outputs": [
    {
     "data": {
      "text/html": [
       "<div>\n",
       "<table border=\"1\" class=\"dataframe\">\n",
       "  <thead>\n",
       "    <tr style=\"text-align: right;\">\n",
       "      <th></th>\n",
       "      <th>content</th>\n",
       "    </tr>\n",
       "  </thead>\n",
       "  <tbody>\n",
       "    <tr>\n",
       "      <th>0</th>\n",
       "      <td>DONT BUT THIS OR YOUR RISKING IN BURNING YOUR ...</td>\n",
       "    </tr>\n",
       "    <tr>\n",
       "      <th>1</th>\n",
       "      <td>Durou nem 2 horas ligado e já queimou.porcaria</td>\n",
       "    </tr>\n",
       "    <tr>\n",
       "      <th>2</th>\n",
       "      <td>I didn't receive the product at all.</td>\n",
       "    </tr>\n",
       "    <tr>\n",
       "      <th>3</th>\n",
       "      <td>jamais reçu</td>\n",
       "    </tr>\n",
       "    <tr>\n",
       "      <th>4</th>\n",
       "      <td>no corresponde</td>\n",
       "    </tr>\n",
       "    <tr>\n",
       "      <th>5</th>\n",
       "      <td>no me gusto</td>\n",
       "    </tr>\n",
       "    <tr>\n",
       "      <th>6</th>\n",
       "      <td>Замовлення не отримав, гроші повернули.</td>\n",
       "    </tr>\n",
       "    <tr>\n",
       "      <th>7</th>\n",
       "      <td>Не получил((</td>\n",
       "    </tr>\n",
       "    <tr>\n",
       "      <th>8</th>\n",
       "      <td>товар не соответствует описанию, переходники п...</td>\n",
       "    </tr>\n",
       "    <tr>\n",
       "      <th>9</th>\n",
       "      <td>ATTENTION! Fake product. It doesn't work. And ...</td>\n",
       "    </tr>\n",
       "    <tr>\n",
       "      <th>10</th>\n",
       "      <td>Charger is not working at all. not able to cha...</td>\n",
       "    </tr>\n",
       "    <tr>\n",
       "      <th>11</th>\n",
       "      <td>el envio bien aunque no puedes confiar en que ...</td>\n",
       "    </tr>\n",
       "    <tr>\n",
       "      <th>12</th>\n",
       "      <td>Le produit n'est pas compatible avec pc lenovo...</td>\n",
       "    </tr>\n",
       "    <tr>\n",
       "      <th>13</th>\n",
       "      <td>manque le câble secteur EU</td>\n",
       "    </tr>\n",
       "    <tr>\n",
       "      <th>14</th>\n",
       "      <td>nul</td>\n",
       "    </tr>\n",
       "    <tr>\n",
       "      <th>15</th>\n",
       "      <td>ok</td>\n",
       "    </tr>\n",
       "    <tr>\n",
       "      <th>16</th>\n",
       "      <td>The Charger-Adapter works, but it gets very ho...</td>\n",
       "    </tr>\n",
       "    <tr>\n",
       "      <th>17</th>\n",
       "      <td>This adapter is NOT 90W. It may say that on th...</td>\n",
       "    </tr>\n",
       "    <tr>\n",
       "      <th>18</th>\n",
       "      <td>Aucun embout ne fonctionne pour mon HP portabl...</td>\n",
       "    </tr>\n",
       "    <tr>\n",
       "      <th>19</th>\n",
       "      <td>commande non livrée j'attends un retour du ven...</td>\n",
       "    </tr>\n",
       "    <tr>\n",
       "      <th>20</th>\n",
       "      <td>Falta instrucciones para su uso</td>\n",
       "    </tr>\n",
       "    <tr>\n",
       "      <th>21</th>\n",
       "      <td>j'ai bien reç deu l'article mais je n'ai pas l...</td>\n",
       "    </tr>\n",
       "    <tr>\n",
       "      <th>22</th>\n",
       "      <td>Le chargeur n a fonctionner qu'une fois . Ça f...</td>\n",
       "    </tr>\n",
       "    <tr>\n",
       "      <th>23</th>\n",
       "      <td>never came</td>\n",
       "    </tr>\n",
       "    <tr>\n",
       "      <th>24</th>\n",
       "      <td>Pas spécifié qui y a pas le cordon</td>\n",
       "    </tr>\n",
       "    <tr>\n",
       "      <th>25</th>\n",
       "      <td>The delivery was very speedy which was amazing...</td>\n",
       "    </tr>\n",
       "    <tr>\n",
       "      <th>26</th>\n",
       "      <td>לא עובד עם מחשב dell insprion 14 המוכר לא עשה ...</td>\n",
       "    </tr>\n",
       "    <tr>\n",
       "      <th>27</th>\n",
       "      <td>dommage le fil qui va à la prise n est pas liv...</td>\n",
       "    </tr>\n",
       "    <tr>\n",
       "      <th>28</th>\n",
       "      <td>este artículo no es que ha perdido no tiene ca...</td>\n",
       "    </tr>\n",
       "    <tr>\n",
       "      <th>29</th>\n",
       "      <td>Hello - I did not receive this order - What sh...</td>\n",
       "    </tr>\n",
       "    <tr>\n",
       "      <th>...</th>\n",
       "      <td>...</td>\n",
       "    </tr>\n",
       "    <tr>\n",
       "      <th>41</th>\n",
       "      <td>Péssimo não recebi o produto nem o reembolso</td>\n",
       "    </tr>\n",
       "    <tr>\n",
       "      <th>42</th>\n",
       "      <td>the charger have burn after 30 min</td>\n",
       "    </tr>\n",
       "    <tr>\n",
       "      <th>43</th>\n",
       "      <td>заказ до сих пор не получила верните деньги</td>\n",
       "    </tr>\n",
       "    <tr>\n",
       "      <th>44</th>\n",
       "      <td>לא מתאים לhp</td>\n",
       "    </tr>\n",
       "    <tr>\n",
       "      <th>45</th>\n",
       "      <td>4.5mm hp nicht vorhanden</td>\n",
       "    </tr>\n",
       "    <tr>\n",
       "      <th>46</th>\n",
       "      <td>doesn't work with my N71Jv :/ but ok with my l...</td>\n",
       "    </tr>\n",
       "    <tr>\n",
       "      <th>47</th>\n",
       "      <td>El producto no es compatible con portatil HP</td>\n",
       "    </tr>\n",
       "    <tr>\n",
       "      <th>48</th>\n",
       "      <td>J'aimerais bien donner mon avis si je l'avais ...</td>\n",
       "    </tr>\n",
       "    <tr>\n",
       "      <th>49</th>\n",
       "      <td>Le falta el cable de alimentación de la corriente</td>\n",
       "    </tr>\n",
       "    <tr>\n",
       "      <th>50</th>\n",
       "      <td>Not compatible with HP omen. Bad election</td>\n",
       "    </tr>\n",
       "    <tr>\n",
       "      <th>51</th>\n",
       "      <td>Не дошла посылка,жду возврата денег☹</td>\n",
       "    </tr>\n",
       "    <tr>\n",
       "      <th>52</th>\n",
       "      <td>Нет сетевого кабеля, нужно докупать отдельно.</td>\n",
       "    </tr>\n",
       "    <tr>\n",
       "      <th>53</th>\n",
       "      <td>לא מתאים למחשב HP . אף אחד מהם לא התאים</td>\n",
       "    </tr>\n",
       "    <tr>\n",
       "      <th>54</th>\n",
       "      <td>Cable is little lose on connection and no othe...</td>\n",
       "    </tr>\n",
       "    <tr>\n",
       "      <th>55</th>\n",
       "      <td>Do not charge my laptop</td>\n",
       "    </tr>\n",
       "    <tr>\n",
       "      <th>56</th>\n",
       "      <td>El producto salio defectuoso y no sirve y porf...</td>\n",
       "    </tr>\n",
       "    <tr>\n",
       "      <th>57</th>\n",
       "      <td>Faut être sure de l’achat parce que moi ça ne ...</td>\n",
       "    </tr>\n",
       "    <tr>\n",
       "      <th>58</th>\n",
       "      <td>I've been waiting since June....</td>\n",
       "    </tr>\n",
       "    <tr>\n",
       "      <th>59</th>\n",
       "      <td>Nicht gut</td>\n",
       "    </tr>\n",
       "    <tr>\n",
       "      <th>60</th>\n",
       "      <td>The item broke the first minute i used it.</td>\n",
       "    </tr>\n",
       "    <tr>\n",
       "      <th>61</th>\n",
       "      <td>Покупал для монитора. Монитор с ним мигает, ра...</td>\n",
       "    </tr>\n",
       "    <tr>\n",
       "      <th>62</th>\n",
       "      <td>Посылка не пришла, к сожалению</td>\n",
       "    </tr>\n",
       "    <tr>\n",
       "      <th>63</th>\n",
       "      <td>Думал нормальный блок питания, всё с виду крас...</td>\n",
       "    </tr>\n",
       "    <tr>\n",
       "      <th>64</th>\n",
       "      <td>article non utilisable, car je me rends compte...</td>\n",
       "    </tr>\n",
       "    <tr>\n",
       "      <th>65</th>\n",
       "      <td>No vale para HP. mal</td>\n",
       "    </tr>\n",
       "    <tr>\n",
       "      <th>66</th>\n",
       "      <td>très bon produit</td>\n",
       "    </tr>\n",
       "    <tr>\n",
       "      <th>67</th>\n",
       "      <td>It got burned in the first 10 minutes of opera...</td>\n",
       "    </tr>\n",
       "    <tr>\n",
       "      <th>68</th>\n",
       "      <td>Adapter not working.. I want to return back</td>\n",
       "    </tr>\n",
       "    <tr>\n",
       "      <th>69</th>\n",
       "      <td>El paquete nunca lo mandaron, el vendedor jama...</td>\n",
       "    </tr>\n",
       "    <tr>\n",
       "      <th>70</th>\n",
       "      <td>not get this</td>\n",
       "    </tr>\n",
       "  </tbody>\n",
       "</table>\n",
       "<p>71 rows × 1 columns</p>\n",
       "</div>"
      ],
      "text/plain": [
       "                                              content\n",
       "0   DONT BUT THIS OR YOUR RISKING IN BURNING YOUR ...\n",
       "1      Durou nem 2 horas ligado e já queimou.porcaria\n",
       "2                I didn't receive the product at all.\n",
       "3                                         jamais reçu\n",
       "4                                      no corresponde\n",
       "5                                         no me gusto\n",
       "6             Замовлення не отримав, гроші повернули.\n",
       "7                                        Не получил((\n",
       "8   товар не соответствует описанию, переходники п...\n",
       "9   ATTENTION! Fake product. It doesn't work. And ...\n",
       "10  Charger is not working at all. not able to cha...\n",
       "11  el envio bien aunque no puedes confiar en que ...\n",
       "12  Le produit n'est pas compatible avec pc lenovo...\n",
       "13                         manque le câble secteur EU\n",
       "14                                                nul\n",
       "15                                                 ok\n",
       "16  The Charger-Adapter works, but it gets very ho...\n",
       "17  This adapter is NOT 90W. It may say that on th...\n",
       "18  Aucun embout ne fonctionne pour mon HP portabl...\n",
       "19  commande non livrée j'attends un retour du ven...\n",
       "20                    Falta instrucciones para su uso\n",
       "21  j'ai bien reç deu l'article mais je n'ai pas l...\n",
       "22  Le chargeur n a fonctionner qu'une fois . Ça f...\n",
       "23                                         never came\n",
       "24                 Pas spécifié qui y a pas le cordon\n",
       "25  The delivery was very speedy which was amazing...\n",
       "26  לא עובד עם מחשב dell insprion 14 המוכר לא עשה ...\n",
       "27  dommage le fil qui va à la prise n est pas liv...\n",
       "28  este artículo no es que ha perdido no tiene ca...\n",
       "29  Hello - I did not receive this order - What sh...\n",
       "..                                                ...\n",
       "41       Péssimo não recebi o produto nem o reembolso\n",
       "42                 the charger have burn after 30 min\n",
       "43        заказ до сих пор не получила верните деньги\n",
       "44                                       לא מתאים לhp\n",
       "45                           4.5mm hp nicht vorhanden\n",
       "46  doesn't work with my N71Jv :/ but ok with my l...\n",
       "47       El producto no es compatible con portatil HP\n",
       "48  J'aimerais bien donner mon avis si je l'avais ...\n",
       "49  Le falta el cable de alimentación de la corriente\n",
       "50          Not compatible with HP omen. Bad election\n",
       "51               Не дошла посылка,жду возврата денег☹\n",
       "52      Нет сетевого кабеля, нужно докупать отдельно.\n",
       "53            לא מתאים למחשב HP . אף אחד מהם לא התאים\n",
       "54  Cable is little lose on connection and no othe...\n",
       "55                            Do not charge my laptop\n",
       "56  El producto salio defectuoso y no sirve y porf...\n",
       "57  Faut être sure de l’achat parce que moi ça ne ...\n",
       "58                   I've been waiting since June....\n",
       "59                                          Nicht gut\n",
       "60         The item broke the first minute i used it.\n",
       "61  Покупал для монитора. Монитор с ним мигает, ра...\n",
       "62                     Посылка не пришла, к сожалению\n",
       "63  Думал нормальный блок питания, всё с виду крас...\n",
       "64  article non utilisable, car je me rends compte...\n",
       "65                               No vale para HP. mal\n",
       "66                                   très bon produit\n",
       "67  It got burned in the first 10 minutes of opera...\n",
       "68        Adapter not working.. I want to return back\n",
       "69  El paquete nunca lo mandaron, el vendedor jama...\n",
       "70                                       not get this\n",
       "\n",
       "[71 rows x 1 columns]"
      ]
     },
     "execution_count": 2,
     "metadata": {},
     "output_type": "execute_result"
    }
   ],
   "source": [
    "df_med_rating = pd.read_excel(open('速卖通多用电源中差评内容.xlsx', 'rb'), sheetname=1)\n",
    "df_med_rating"
   ]
  },
  {
   "cell_type": "code",
   "execution_count": 3,
   "metadata": {},
   "outputs": [
    {
     "data": {
      "text/html": [
       "<div>\n",
       "<table border=\"1\" class=\"dataframe\">\n",
       "  <thead>\n",
       "    <tr style=\"text-align: right;\">\n",
       "      <th></th>\n",
       "      <th>content</th>\n",
       "      <th>type</th>\n",
       "    </tr>\n",
       "  </thead>\n",
       "  <tbody>\n",
       "    <tr>\n",
       "      <th>0</th>\n",
       "      <td>DONT BUT THIS OR YOUR RISKING IN BURNING YOUR ...</td>\n",
       "      <td>中评</td>\n",
       "    </tr>\n",
       "    <tr>\n",
       "      <th>1</th>\n",
       "      <td>Durou nem 2 horas ligado e já queimou.porcaria</td>\n",
       "      <td>中评</td>\n",
       "    </tr>\n",
       "    <tr>\n",
       "      <th>2</th>\n",
       "      <td>I didn't receive the product at all.</td>\n",
       "      <td>中评</td>\n",
       "    </tr>\n",
       "    <tr>\n",
       "      <th>3</th>\n",
       "      <td>jamais reçu</td>\n",
       "      <td>中评</td>\n",
       "    </tr>\n",
       "    <tr>\n",
       "      <th>4</th>\n",
       "      <td>no corresponde</td>\n",
       "      <td>中评</td>\n",
       "    </tr>\n",
       "  </tbody>\n",
       "</table>\n",
       "</div>"
      ],
      "text/plain": [
       "                                             content type\n",
       "0  DONT BUT THIS OR YOUR RISKING IN BURNING YOUR ...   中评\n",
       "1     Durou nem 2 horas ligado e já queimou.porcaria   中评\n",
       "2               I didn't receive the product at all.   中评\n",
       "3                                        jamais reçu   中评\n",
       "4                                     no corresponde   中评"
      ]
     },
     "execution_count": 3,
     "metadata": {},
     "output_type": "execute_result"
    }
   ],
   "source": [
    "df_med_rating['type'] = '中评'\n",
    "df_med_rating.head()"
   ]
  },
  {
   "cell_type": "code",
   "execution_count": 4,
   "metadata": {
    "scrolled": true
   },
   "outputs": [
    {
     "data": {
      "text/html": [
       "<div>\n",
       "<table border=\"1\" class=\"dataframe\">\n",
       "  <thead>\n",
       "    <tr style=\"text-align: right;\">\n",
       "      <th></th>\n",
       "      <th>content</th>\n",
       "    </tr>\n",
       "  </thead>\n",
       "  <tbody>\n",
       "    <tr>\n",
       "      <th>0</th>\n",
       "      <td>DONT BUT THIS OR YOUR RISKING IN BURNING YOUR ...</td>\n",
       "    </tr>\n",
       "    <tr>\n",
       "      <th>1</th>\n",
       "      <td>Durou nem 2 horas ligado e já queimou.porcaria</td>\n",
       "    </tr>\n",
       "    <tr>\n",
       "      <th>2</th>\n",
       "      <td>I didn't receive the product at all.</td>\n",
       "    </tr>\n",
       "    <tr>\n",
       "      <th>3</th>\n",
       "      <td>jamais reçu</td>\n",
       "    </tr>\n",
       "    <tr>\n",
       "      <th>4</th>\n",
       "      <td>no corresponde</td>\n",
       "    </tr>\n",
       "    <tr>\n",
       "      <th>5</th>\n",
       "      <td>no me gusto</td>\n",
       "    </tr>\n",
       "    <tr>\n",
       "      <th>6</th>\n",
       "      <td>Замовлення не отримав, гроші повернули.</td>\n",
       "    </tr>\n",
       "    <tr>\n",
       "      <th>7</th>\n",
       "      <td>Не получил((</td>\n",
       "    </tr>\n",
       "    <tr>\n",
       "      <th>8</th>\n",
       "      <td>товар не соответствует описанию, переходники п...</td>\n",
       "    </tr>\n",
       "    <tr>\n",
       "      <th>9</th>\n",
       "      <td>ATTENTION! Fake product. It doesn't work. And ...</td>\n",
       "    </tr>\n",
       "    <tr>\n",
       "      <th>10</th>\n",
       "      <td>Charger is not working at all. not able to cha...</td>\n",
       "    </tr>\n",
       "    <tr>\n",
       "      <th>11</th>\n",
       "      <td>el envio bien aunque no puedes confiar en que ...</td>\n",
       "    </tr>\n",
       "    <tr>\n",
       "      <th>12</th>\n",
       "      <td>Le produit n'est pas compatible avec pc lenovo...</td>\n",
       "    </tr>\n",
       "    <tr>\n",
       "      <th>13</th>\n",
       "      <td>manque le câble secteur EU</td>\n",
       "    </tr>\n",
       "    <tr>\n",
       "      <th>14</th>\n",
       "      <td>nul</td>\n",
       "    </tr>\n",
       "    <tr>\n",
       "      <th>15</th>\n",
       "      <td>ok</td>\n",
       "    </tr>\n",
       "    <tr>\n",
       "      <th>16</th>\n",
       "      <td>The Charger-Adapter works, but it gets very ho...</td>\n",
       "    </tr>\n",
       "    <tr>\n",
       "      <th>17</th>\n",
       "      <td>This adapter is NOT 90W. It may say that on th...</td>\n",
       "    </tr>\n",
       "    <tr>\n",
       "      <th>18</th>\n",
       "      <td>Aucun embout ne fonctionne pour mon HP portabl...</td>\n",
       "    </tr>\n",
       "    <tr>\n",
       "      <th>19</th>\n",
       "      <td>commande non livrée j'attends un retour du ven...</td>\n",
       "    </tr>\n",
       "    <tr>\n",
       "      <th>20</th>\n",
       "      <td>Falta instrucciones para su uso</td>\n",
       "    </tr>\n",
       "    <tr>\n",
       "      <th>21</th>\n",
       "      <td>j'ai bien reç deu l'article mais je n'ai pas l...</td>\n",
       "    </tr>\n",
       "    <tr>\n",
       "      <th>22</th>\n",
       "      <td>Le chargeur n a fonctionner qu'une fois . Ça f...</td>\n",
       "    </tr>\n",
       "    <tr>\n",
       "      <th>23</th>\n",
       "      <td>never came</td>\n",
       "    </tr>\n",
       "    <tr>\n",
       "      <th>24</th>\n",
       "      <td>Pas spécifié qui y a pas le cordon</td>\n",
       "    </tr>\n",
       "    <tr>\n",
       "      <th>25</th>\n",
       "      <td>The delivery was very speedy which was amazing...</td>\n",
       "    </tr>\n",
       "    <tr>\n",
       "      <th>26</th>\n",
       "      <td>לא עובד עם מחשב dell insprion 14 המוכר לא עשה ...</td>\n",
       "    </tr>\n",
       "    <tr>\n",
       "      <th>27</th>\n",
       "      <td>dommage le fil qui va à la prise n est pas liv...</td>\n",
       "    </tr>\n",
       "    <tr>\n",
       "      <th>28</th>\n",
       "      <td>este artículo no es que ha perdido no tiene ca...</td>\n",
       "    </tr>\n",
       "    <tr>\n",
       "      <th>29</th>\n",
       "      <td>Hello - I did not receive this order - What sh...</td>\n",
       "    </tr>\n",
       "    <tr>\n",
       "      <th>...</th>\n",
       "      <td>...</td>\n",
       "    </tr>\n",
       "    <tr>\n",
       "      <th>41</th>\n",
       "      <td>Péssimo não recebi o produto nem o reembolso</td>\n",
       "    </tr>\n",
       "    <tr>\n",
       "      <th>42</th>\n",
       "      <td>the charger have burn after 30 min</td>\n",
       "    </tr>\n",
       "    <tr>\n",
       "      <th>43</th>\n",
       "      <td>заказ до сих пор не получила верните деньги</td>\n",
       "    </tr>\n",
       "    <tr>\n",
       "      <th>44</th>\n",
       "      <td>לא מתאים לhp</td>\n",
       "    </tr>\n",
       "    <tr>\n",
       "      <th>45</th>\n",
       "      <td>4.5mm hp nicht vorhanden</td>\n",
       "    </tr>\n",
       "    <tr>\n",
       "      <th>46</th>\n",
       "      <td>doesn't work with my N71Jv :/ but ok with my l...</td>\n",
       "    </tr>\n",
       "    <tr>\n",
       "      <th>47</th>\n",
       "      <td>El producto no es compatible con portatil HP</td>\n",
       "    </tr>\n",
       "    <tr>\n",
       "      <th>48</th>\n",
       "      <td>J'aimerais bien donner mon avis si je l'avais ...</td>\n",
       "    </tr>\n",
       "    <tr>\n",
       "      <th>49</th>\n",
       "      <td>Le falta el cable de alimentación de la corriente</td>\n",
       "    </tr>\n",
       "    <tr>\n",
       "      <th>50</th>\n",
       "      <td>Not compatible with HP omen. Bad election</td>\n",
       "    </tr>\n",
       "    <tr>\n",
       "      <th>51</th>\n",
       "      <td>Не дошла посылка,жду возврата денег☹</td>\n",
       "    </tr>\n",
       "    <tr>\n",
       "      <th>52</th>\n",
       "      <td>Нет сетевого кабеля, нужно докупать отдельно.</td>\n",
       "    </tr>\n",
       "    <tr>\n",
       "      <th>53</th>\n",
       "      <td>לא מתאים למחשב HP . אף אחד מהם לא התאים</td>\n",
       "    </tr>\n",
       "    <tr>\n",
       "      <th>54</th>\n",
       "      <td>Cable is little lose on connection and no othe...</td>\n",
       "    </tr>\n",
       "    <tr>\n",
       "      <th>55</th>\n",
       "      <td>Do not charge my laptop</td>\n",
       "    </tr>\n",
       "    <tr>\n",
       "      <th>56</th>\n",
       "      <td>El producto salio defectuoso y no sirve y porf...</td>\n",
       "    </tr>\n",
       "    <tr>\n",
       "      <th>57</th>\n",
       "      <td>Faut être sure de l’achat parce que moi ça ne ...</td>\n",
       "    </tr>\n",
       "    <tr>\n",
       "      <th>58</th>\n",
       "      <td>I've been waiting since June....</td>\n",
       "    </tr>\n",
       "    <tr>\n",
       "      <th>59</th>\n",
       "      <td>Nicht gut</td>\n",
       "    </tr>\n",
       "    <tr>\n",
       "      <th>60</th>\n",
       "      <td>The item broke the first minute i used it.</td>\n",
       "    </tr>\n",
       "    <tr>\n",
       "      <th>61</th>\n",
       "      <td>Покупал для монитора. Монитор с ним мигает, ра...</td>\n",
       "    </tr>\n",
       "    <tr>\n",
       "      <th>62</th>\n",
       "      <td>Посылка не пришла, к сожалению</td>\n",
       "    </tr>\n",
       "    <tr>\n",
       "      <th>63</th>\n",
       "      <td>Думал нормальный блок питания, всё с виду крас...</td>\n",
       "    </tr>\n",
       "    <tr>\n",
       "      <th>64</th>\n",
       "      <td>article non utilisable, car je me rends compte...</td>\n",
       "    </tr>\n",
       "    <tr>\n",
       "      <th>65</th>\n",
       "      <td>No vale para HP. mal</td>\n",
       "    </tr>\n",
       "    <tr>\n",
       "      <th>66</th>\n",
       "      <td>très bon produit</td>\n",
       "    </tr>\n",
       "    <tr>\n",
       "      <th>67</th>\n",
       "      <td>It got burned in the first 10 minutes of opera...</td>\n",
       "    </tr>\n",
       "    <tr>\n",
       "      <th>68</th>\n",
       "      <td>Adapter not working.. I want to return back</td>\n",
       "    </tr>\n",
       "    <tr>\n",
       "      <th>69</th>\n",
       "      <td>El paquete nunca lo mandaron, el vendedor jama...</td>\n",
       "    </tr>\n",
       "    <tr>\n",
       "      <th>70</th>\n",
       "      <td>not get this</td>\n",
       "    </tr>\n",
       "  </tbody>\n",
       "</table>\n",
       "<p>71 rows × 1 columns</p>\n",
       "</div>"
      ],
      "text/plain": [
       "                                              content\n",
       "0   DONT BUT THIS OR YOUR RISKING IN BURNING YOUR ...\n",
       "1      Durou nem 2 horas ligado e já queimou.porcaria\n",
       "2                I didn't receive the product at all.\n",
       "3                                         jamais reçu\n",
       "4                                      no corresponde\n",
       "5                                         no me gusto\n",
       "6             Замовлення не отримав, гроші повернули.\n",
       "7                                        Не получил((\n",
       "8   товар не соответствует описанию, переходники п...\n",
       "9   ATTENTION! Fake product. It doesn't work. And ...\n",
       "10  Charger is not working at all. not able to cha...\n",
       "11  el envio bien aunque no puedes confiar en que ...\n",
       "12  Le produit n'est pas compatible avec pc lenovo...\n",
       "13                         manque le câble secteur EU\n",
       "14                                                nul\n",
       "15                                                 ok\n",
       "16  The Charger-Adapter works, but it gets very ho...\n",
       "17  This adapter is NOT 90W. It may say that on th...\n",
       "18  Aucun embout ne fonctionne pour mon HP portabl...\n",
       "19  commande non livrée j'attends un retour du ven...\n",
       "20                    Falta instrucciones para su uso\n",
       "21  j'ai bien reç deu l'article mais je n'ai pas l...\n",
       "22  Le chargeur n a fonctionner qu'une fois . Ça f...\n",
       "23                                         never came\n",
       "24                 Pas spécifié qui y a pas le cordon\n",
       "25  The delivery was very speedy which was amazing...\n",
       "26  לא עובד עם מחשב dell insprion 14 המוכר לא עשה ...\n",
       "27  dommage le fil qui va à la prise n est pas liv...\n",
       "28  este artículo no es que ha perdido no tiene ca...\n",
       "29  Hello - I did not receive this order - What sh...\n",
       "..                                                ...\n",
       "41       Péssimo não recebi o produto nem o reembolso\n",
       "42                 the charger have burn after 30 min\n",
       "43        заказ до сих пор не получила верните деньги\n",
       "44                                       לא מתאים לhp\n",
       "45                           4.5mm hp nicht vorhanden\n",
       "46  doesn't work with my N71Jv :/ but ok with my l...\n",
       "47       El producto no es compatible con portatil HP\n",
       "48  J'aimerais bien donner mon avis si je l'avais ...\n",
       "49  Le falta el cable de alimentación de la corriente\n",
       "50          Not compatible with HP omen. Bad election\n",
       "51               Не дошла посылка,жду возврата денег☹\n",
       "52      Нет сетевого кабеля, нужно докупать отдельно.\n",
       "53            לא מתאים למחשב HP . אף אחד מהם לא התאים\n",
       "54  Cable is little lose on connection and no othe...\n",
       "55                            Do not charge my laptop\n",
       "56  El producto salio defectuoso y no sirve y porf...\n",
       "57  Faut être sure de l’achat parce que moi ça ne ...\n",
       "58                   I've been waiting since June....\n",
       "59                                          Nicht gut\n",
       "60         The item broke the first minute i used it.\n",
       "61  Покупал для монитора. Монитор с ним мигает, ра...\n",
       "62                     Посылка не пришла, к сожалению\n",
       "63  Думал нормальный блок питания, всё с виду крас...\n",
       "64  article non utilisable, car je me rends compte...\n",
       "65                               No vale para HP. mal\n",
       "66                                   très bon produit\n",
       "67  It got burned in the first 10 minutes of opera...\n",
       "68        Adapter not working.. I want to return back\n",
       "69  El paquete nunca lo mandaron, el vendedor jama...\n",
       "70                                       not get this\n",
       "\n",
       "[71 rows x 1 columns]"
      ]
     },
     "execution_count": 4,
     "metadata": {},
     "output_type": "execute_result"
    }
   ],
   "source": [
    "df_bad_rating = pd.read_excel(open('速卖通多用电源中差评内容.xlsx','rb'), sheetname=1)\n",
    "df_bad_rating"
   ]
  },
  {
   "cell_type": "code",
   "execution_count": 5,
   "metadata": {},
   "outputs": [
    {
     "data": {
      "text/html": [
       "<div>\n",
       "<table border=\"1\" class=\"dataframe\">\n",
       "  <thead>\n",
       "    <tr style=\"text-align: right;\">\n",
       "      <th></th>\n",
       "      <th>content</th>\n",
       "      <th>type</th>\n",
       "    </tr>\n",
       "  </thead>\n",
       "  <tbody>\n",
       "    <tr>\n",
       "      <th>0</th>\n",
       "      <td>DONT BUT THIS OR YOUR RISKING IN BURNING YOUR ...</td>\n",
       "      <td>差评</td>\n",
       "    </tr>\n",
       "    <tr>\n",
       "      <th>1</th>\n",
       "      <td>Durou nem 2 horas ligado e já queimou.porcaria</td>\n",
       "      <td>差评</td>\n",
       "    </tr>\n",
       "    <tr>\n",
       "      <th>2</th>\n",
       "      <td>I didn't receive the product at all.</td>\n",
       "      <td>差评</td>\n",
       "    </tr>\n",
       "    <tr>\n",
       "      <th>3</th>\n",
       "      <td>jamais reçu</td>\n",
       "      <td>差评</td>\n",
       "    </tr>\n",
       "    <tr>\n",
       "      <th>4</th>\n",
       "      <td>no corresponde</td>\n",
       "      <td>差评</td>\n",
       "    </tr>\n",
       "  </tbody>\n",
       "</table>\n",
       "</div>"
      ],
      "text/plain": [
       "                                             content type\n",
       "0  DONT BUT THIS OR YOUR RISKING IN BURNING YOUR ...   差评\n",
       "1     Durou nem 2 horas ligado e já queimou.porcaria   差评\n",
       "2               I didn't receive the product at all.   差评\n",
       "3                                        jamais reçu   差评\n",
       "4                                     no corresponde   差评"
      ]
     },
     "execution_count": 5,
     "metadata": {},
     "output_type": "execute_result"
    }
   ],
   "source": [
    "df_bad_rating['type'] = '差评'\n",
    "df_bad_rating.head()"
   ]
  },
  {
   "cell_type": "code",
   "execution_count": 6,
   "metadata": {
    "scrolled": true
   },
   "outputs": [
    {
     "data": {
      "text/html": [
       "<div>\n",
       "<table border=\"1\" class=\"dataframe\">\n",
       "  <thead>\n",
       "    <tr style=\"text-align: right;\">\n",
       "      <th></th>\n",
       "      <th>content</th>\n",
       "      <th>type</th>\n",
       "    </tr>\n",
       "  </thead>\n",
       "  <tbody>\n",
       "    <tr>\n",
       "      <th>0</th>\n",
       "      <td>DONT BUT THIS OR YOUR RISKING IN BURNING YOUR ...</td>\n",
       "      <td>中评</td>\n",
       "    </tr>\n",
       "    <tr>\n",
       "      <th>1</th>\n",
       "      <td>Durou nem 2 horas ligado e já queimou.porcaria</td>\n",
       "      <td>中评</td>\n",
       "    </tr>\n",
       "    <tr>\n",
       "      <th>2</th>\n",
       "      <td>I didn't receive the product at all.</td>\n",
       "      <td>中评</td>\n",
       "    </tr>\n",
       "    <tr>\n",
       "      <th>3</th>\n",
       "      <td>jamais reçu</td>\n",
       "      <td>中评</td>\n",
       "    </tr>\n",
       "    <tr>\n",
       "      <th>4</th>\n",
       "      <td>no corresponde</td>\n",
       "      <td>中评</td>\n",
       "    </tr>\n",
       "  </tbody>\n",
       "</table>\n",
       "</div>"
      ],
      "text/plain": [
       "                                             content type\n",
       "0  DONT BUT THIS OR YOUR RISKING IN BURNING YOUR ...   中评\n",
       "1     Durou nem 2 horas ligado e já queimou.porcaria   中评\n",
       "2               I didn't receive the product at all.   中评\n",
       "3                                        jamais reçu   中评\n",
       "4                                     no corresponde   中评"
      ]
     },
     "execution_count": 6,
     "metadata": {},
     "output_type": "execute_result"
    }
   ],
   "source": [
    "df_merge = pd.concat([df_med_rating, df_bad_rating])\n",
    "df_merge.head()"
   ]
  },
  {
   "cell_type": "code",
   "execution_count": 7,
   "metadata": {
    "collapsed": true
   },
   "outputs": [],
   "source": [
    "# 翻译\n",
    "from googletrans import Translator\n",
    "import os\n",
    "import time\n",
    "import logging\n",
    "\n",
    "from google_trans_new import google_translator  "
   ]
  },
  {
   "cell_type": "code",
   "execution_count": 8,
   "metadata": {
    "collapsed": true
   },
   "outputs": [],
   "source": [
    "proxy = 'http://127.0.0.1:1080'\n",
    "os.environ['http_proxy'] = proxy \n",
    "os.environ['HTTP_PROXY'] = proxy\n",
    "os.environ['https_proxy'] = proxy\n",
    "os.environ['HTTPS_PROXY'] = proxy"
   ]
  },
  {
   "cell_type": "code",
   "execution_count": 9,
   "metadata": {
    "collapsed": true
   },
   "outputs": [],
   "source": [
    "logging.basicConfig(level=logging.INFO, format=' %(asctime)s - %(levelname)s - %(message)s')"
   ]
  },
  {
   "cell_type": "code",
   "execution_count": 10,
   "metadata": {
    "collapsed": true
   },
   "outputs": [],
   "source": [
    "# translator = Translator(service_urls=[\n",
    "#       'translate.google.com',\n",
    "#       'translate.google.co.kr',\n",
    "#     ])\n",
    "# # translator.translate('韩国', dest='ko').text\n",
    "\n",
    "translator = google_translator()\n",
    "# translator.translate('韩国', dest='ko').text"
   ]
  },
  {
   "cell_type": "code",
   "execution_count": 17,
   "metadata": {},
   "outputs": [
    {
     "name": "stderr",
     "output_type": "stream",
     "text": [
      "C:\\Users\\kuang\\Anaconda3\\lib\\site-packages\\requests\\packages\\urllib3\\connectionpool.py:852: InsecureRequestWarning: Unverified HTTPS request is being made. Adding certificate verification is strongly advised. See: https://urllib3.readthedocs.io/en/latest/advanced-usage.html#ssl-warnings\n",
      "  InsecureRequestWarning)\n"
     ]
    },
    {
     "data": {
      "text/plain": [
       "'Hello '"
      ]
     },
     "execution_count": 17,
     "metadata": {},
     "output_type": "execute_result"
    }
   ],
   "source": [
    "translated_content = translator.translate('你好', lang_tgt='en')\n",
    "translated_content"
   ]
  },
  {
   "cell_type": "code",
   "execution_count": 12,
   "metadata": {},
   "outputs": [
    {
     "name": "stdout",
     "output_type": "stream",
     "text": [
      "Hello Chinese \n"
     ]
    },
    {
     "name": "stderr",
     "output_type": "stream",
     "text": [
      "C:\\Users\\kuang\\Anaconda3\\lib\\site-packages\\requests\\packages\\urllib3\\connectionpool.py:852: InsecureRequestWarning: Unverified HTTPS request is being made. Adding certificate verification is strongly advised. See: https://urllib3.readthedocs.io/en/latest/advanced-usage.html#ssl-warnings\n",
      "  InsecureRequestWarning)\n"
     ]
    }
   ],
   "source": [
    "# from google_trans_new import google_translator  \n",
    "  \n",
    "# translator = google_translator()  \n",
    "# translate_text = translator.translate('สวัสดีจีน',lang_tgt='en')  \n",
    "# print(translate_text)"
   ]
  },
  {
   "cell_type": "code",
   "execution_count": 19,
   "metadata": {},
   "outputs": [
    {
     "name": "stdout",
     "output_type": "stream",
     "text": [
      "DONT BUT THIS OR YOUR RISKING IN BURNING YOUR HARDWARE. low quality, melted in my unit die to shitty adapters ALIEXPRESS AND SELLER DONT GIVE A F**K ABOUT YOU dont ruin you stuff for free!\n"
     ]
    },
    {
     "name": "stderr",
     "output_type": "stream",
     "text": [
      "C:\\Users\\kuang\\Anaconda3\\lib\\site-packages\\requests\\packages\\urllib3\\connectionpool.py:852: InsecureRequestWarning: Unverified HTTPS request is being made. Adding certificate verification is strongly advised. See: https://urllib3.readthedocs.io/en/latest/advanced-usage.html#ssl-warnings\n",
      "  InsecureRequestWarning)\n",
      " 2021-08-09 00:10:40,227 - WARNING - 1 rows have been translated. Translated content: DONT BUT THIS OR YOUR RISKING IN BURNING YOUR HARDWARE. low quality, melted in my unit die to shitty adapters ALIEXPRESS AND SELLER DONT GIVE A F**K ABOUT YOU dont ruin you stuff for free! \n"
     ]
    },
    {
     "name": "stdout",
     "output_type": "stream",
     "text": [
      "Durou nem 2 horas ligado e já queimou.porcaria\n"
     ]
    },
    {
     "name": "stderr",
     "output_type": "stream",
     "text": [
      "C:\\Users\\kuang\\Anaconda3\\lib\\site-packages\\requests\\packages\\urllib3\\connectionpool.py:852: InsecureRequestWarning: Unverified HTTPS request is being made. Adding certificate verification is strongly advised. See: https://urllib3.readthedocs.io/en/latest/advanced-usage.html#ssl-warnings\n",
      "  InsecureRequestWarning)\n",
      " 2021-08-09 00:10:50,625 - WARNING - 2 rows have been translated. Translated content: It lasted neither 2 hours connected and already burned.Porria \n"
     ]
    },
    {
     "name": "stdout",
     "output_type": "stream",
     "text": [
      "I didn't receive the product at all.\n"
     ]
    },
    {
     "name": "stderr",
     "output_type": "stream",
     "text": [
      "C:\\Users\\kuang\\Anaconda3\\lib\\site-packages\\requests\\packages\\urllib3\\connectionpool.py:852: InsecureRequestWarning: Unverified HTTPS request is being made. Adding certificate verification is strongly advised. See: https://urllib3.readthedocs.io/en/latest/advanced-usage.html#ssl-warnings\n",
      "  InsecureRequestWarning)\n",
      " 2021-08-09 00:11:01,035 - WARNING - 3 rows have been translated. Translated content: I didn't receive the product at all. \n"
     ]
    },
    {
     "name": "stdout",
     "output_type": "stream",
     "text": [
      "jamais reçu\n"
     ]
    },
    {
     "name": "stderr",
     "output_type": "stream",
     "text": [
      "C:\\Users\\kuang\\Anaconda3\\lib\\site-packages\\requests\\packages\\urllib3\\connectionpool.py:852: InsecureRequestWarning: Unverified HTTPS request is being made. Adding certificate verification is strongly advised. See: https://urllib3.readthedocs.io/en/latest/advanced-usage.html#ssl-warnings\n",
      "  InsecureRequestWarning)\n",
      " 2021-08-09 00:11:11,446 - WARNING - 4 rows have been translated. Translated content: never received \n"
     ]
    },
    {
     "name": "stdout",
     "output_type": "stream",
     "text": [
      "no corresponde\n"
     ]
    },
    {
     "name": "stderr",
     "output_type": "stream",
     "text": [
      "C:\\Users\\kuang\\Anaconda3\\lib\\site-packages\\requests\\packages\\urllib3\\connectionpool.py:852: InsecureRequestWarning: Unverified HTTPS request is being made. Adding certificate verification is strongly advised. See: https://urllib3.readthedocs.io/en/latest/advanced-usage.html#ssl-warnings\n",
      "  InsecureRequestWarning)\n",
      " 2021-08-09 00:11:21,976 - WARNING - 5 rows have been translated. Translated content: Does not appropriate \n"
     ]
    },
    {
     "name": "stdout",
     "output_type": "stream",
     "text": [
      "no me gusto\n"
     ]
    },
    {
     "name": "stderr",
     "output_type": "stream",
     "text": [
      "C:\\Users\\kuang\\Anaconda3\\lib\\site-packages\\requests\\packages\\urllib3\\connectionpool.py:852: InsecureRequestWarning: Unverified HTTPS request is being made. Adding certificate verification is strongly advised. See: https://urllib3.readthedocs.io/en/latest/advanced-usage.html#ssl-warnings\n",
      "  InsecureRequestWarning)\n",
      " 2021-08-09 00:11:32,468 - WARNING - 6 rows have been translated. Translated content: I did not like \n"
     ]
    },
    {
     "name": "stdout",
     "output_type": "stream",
     "text": [
      "Замовлення не отримав, гроші повернули.\n"
     ]
    },
    {
     "name": "stderr",
     "output_type": "stream",
     "text": [
      "C:\\Users\\kuang\\Anaconda3\\lib\\site-packages\\requests\\packages\\urllib3\\connectionpool.py:852: InsecureRequestWarning: Unverified HTTPS request is being made. Adding certificate verification is strongly advised. See: https://urllib3.readthedocs.io/en/latest/advanced-usage.html#ssl-warnings\n",
      "  InsecureRequestWarning)\n",
      " 2021-08-09 00:11:42,976 - WARNING - 7 rows have been translated. Translated content: The order has not received, the money turned. \n"
     ]
    },
    {
     "name": "stdout",
     "output_type": "stream",
     "text": [
      "Не получил((\n"
     ]
    },
    {
     "name": "stderr",
     "output_type": "stream",
     "text": [
      "C:\\Users\\kuang\\Anaconda3\\lib\\site-packages\\requests\\packages\\urllib3\\connectionpool.py:852: InsecureRequestWarning: Unverified HTTPS request is being made. Adding certificate verification is strongly advised. See: https://urllib3.readthedocs.io/en/latest/advanced-usage.html#ssl-warnings\n",
      "  InsecureRequestWarning)\n",
      " 2021-08-09 00:11:53,460 - WARNING - 8 rows have been translated. Translated content: Not received(( \n"
     ]
    },
    {
     "name": "stdout",
     "output_type": "stream",
     "text": [
      "товар не соответствует описанию, переходники плохо держатся, не советую\n"
     ]
    },
    {
     "name": "stderr",
     "output_type": "stream",
     "text": [
      "C:\\Users\\kuang\\Anaconda3\\lib\\site-packages\\requests\\packages\\urllib3\\connectionpool.py:852: InsecureRequestWarning: Unverified HTTPS request is being made. Adding certificate verification is strongly advised. See: https://urllib3.readthedocs.io/en/latest/advanced-usage.html#ssl-warnings\n",
      "  InsecureRequestWarning)\n",
      " 2021-08-09 00:12:03,960 - WARNING - 9 rows have been translated. Translated content: The goods do not correspond to the description, adapters are bad, I do not advise \n"
     ]
    },
    {
     "name": "stdout",
     "output_type": "stream",
     "text": [
      "ATTENTION! Fake product. It doesn't work. And you must proof that with the video... If the seller will be satisfied, you can return your money. Don't. buy from this seller!\n"
     ]
    },
    {
     "name": "stderr",
     "output_type": "stream",
     "text": [
      "C:\\Users\\kuang\\Anaconda3\\lib\\site-packages\\requests\\packages\\urllib3\\connectionpool.py:852: InsecureRequestWarning: Unverified HTTPS request is being made. Adding certificate verification is strongly advised. See: https://urllib3.readthedocs.io/en/latest/advanced-usage.html#ssl-warnings\n",
      "  InsecureRequestWarning)\n",
      " 2021-08-09 00:12:14,385 - WARNING - 10 rows have been translated. Translated content: ATTENTION! Fake product. It doesn't work. And you must proof that with the video... If the seller will be satisfied, you can return your money. Don't. buy from this seller! \n"
     ]
    },
    {
     "name": "stdout",
     "output_type": "stream",
     "text": [
      "Charger is not working at all. not able to charge my Dell laptop.\n"
     ]
    },
    {
     "name": "stderr",
     "output_type": "stream",
     "text": [
      "C:\\Users\\kuang\\Anaconda3\\lib\\site-packages\\requests\\packages\\urllib3\\connectionpool.py:852: InsecureRequestWarning: Unverified HTTPS request is being made. Adding certificate verification is strongly advised. See: https://urllib3.readthedocs.io/en/latest/advanced-usage.html#ssl-warnings\n",
      "  InsecureRequestWarning)\n",
      " 2021-08-09 00:12:24,821 - WARNING - 11 rows have been translated. Translated content: Charger is not working at all. not able to charge my Dell laptop. \n"
     ]
    },
    {
     "name": "stdout",
     "output_type": "stream",
     "text": [
      "el envio bien aunque no puedes confiar en que sea universal pues a mi no me valio ninguna clavija\n"
     ]
    },
    {
     "name": "stderr",
     "output_type": "stream",
     "text": [
      "C:\\Users\\kuang\\Anaconda3\\lib\\site-packages\\requests\\packages\\urllib3\\connectionpool.py:852: InsecureRequestWarning: Unverified HTTPS request is being made. Adding certificate verification is strongly advised. See: https://urllib3.readthedocs.io/en/latest/advanced-usage.html#ssl-warnings\n",
      "  InsecureRequestWarning)\n",
      " 2021-08-09 00:12:35,407 - WARNING - 12 rows have been translated. Translated content: the shipping well although you can not trust that it is universal because it was not worth any plug \n"
     ]
    },
    {
     "name": "stdout",
     "output_type": "stream",
     "text": [
      "Le produit n'est pas compatible avec pc lenovo. Tres dessus.....\n"
     ]
    },
    {
     "name": "stderr",
     "output_type": "stream",
     "text": [
      "C:\\Users\\kuang\\Anaconda3\\lib\\site-packages\\requests\\packages\\urllib3\\connectionpool.py:852: InsecureRequestWarning: Unverified HTTPS request is being made. Adding certificate verification is strongly advised. See: https://urllib3.readthedocs.io/en/latest/advanced-usage.html#ssl-warnings\n",
      "  InsecureRequestWarning)\n",
      " 2021-08-09 00:12:45,953 - WARNING - 13 rows have been translated. Translated content: The product is not compatible with PC Lenovo. Very on ..... \n"
     ]
    },
    {
     "name": "stdout",
     "output_type": "stream",
     "text": [
      "manque le câble secteur EU\n"
     ]
    },
    {
     "name": "stderr",
     "output_type": "stream",
     "text": [
      "C:\\Users\\kuang\\Anaconda3\\lib\\site-packages\\requests\\packages\\urllib3\\connectionpool.py:852: InsecureRequestWarning: Unverified HTTPS request is being made. Adding certificate verification is strongly advised. See: https://urllib3.readthedocs.io/en/latest/advanced-usage.html#ssl-warnings\n",
      "  InsecureRequestWarning)\n",
      " 2021-08-09 00:12:56,419 - WARNING - 14 rows have been translated. Translated content: Lacks the EU mains cable \n"
     ]
    },
    {
     "name": "stdout",
     "output_type": "stream",
     "text": [
      "nul\n"
     ]
    },
    {
     "name": "stderr",
     "output_type": "stream",
     "text": [
      "C:\\Users\\kuang\\Anaconda3\\lib\\site-packages\\requests\\packages\\urllib3\\connectionpool.py:852: InsecureRequestWarning: Unverified HTTPS request is being made. Adding certificate verification is strongly advised. See: https://urllib3.readthedocs.io/en/latest/advanced-usage.html#ssl-warnings\n",
      "  InsecureRequestWarning)\n",
      " 2021-08-09 00:13:06,899 - WARNING - 15 rows have been translated. Translated content: no \n"
     ]
    },
    {
     "name": "stdout",
     "output_type": "stream",
     "text": [
      "ok\n"
     ]
    },
    {
     "name": "stderr",
     "output_type": "stream",
     "text": [
      "C:\\Users\\kuang\\Anaconda3\\lib\\site-packages\\requests\\packages\\urllib3\\connectionpool.py:852: InsecureRequestWarning: Unverified HTTPS request is being made. Adding certificate verification is strongly advised. See: https://urllib3.readthedocs.io/en/latest/advanced-usage.html#ssl-warnings\n",
      "  InsecureRequestWarning)\n",
      " 2021-08-09 00:13:17,306 - WARNING - 16 rows have been translated. Translated content: ok \n"
     ]
    },
    {
     "name": "stdout",
     "output_type": "stream",
     "text": [
      "The Charger-Adapter works, but it gets very hot. I am worried about the long life of the adapter. The included adapter does not work with Dell (does not charge). With another adapter, the charger itself works.\n"
     ]
    },
    {
     "name": "stderr",
     "output_type": "stream",
     "text": [
      "C:\\Users\\kuang\\Anaconda3\\lib\\site-packages\\requests\\packages\\urllib3\\connectionpool.py:852: InsecureRequestWarning: Unverified HTTPS request is being made. Adding certificate verification is strongly advised. See: https://urllib3.readthedocs.io/en/latest/advanced-usage.html#ssl-warnings\n",
      "  InsecureRequestWarning)\n",
      " 2021-08-09 00:13:27,733 - WARNING - 17 rows have been translated. Translated content: The Charger-Adapter works, but it gets very hot. I am worried about the long life of the adapter. The included adapter does not work with Dell (does not charge). With another adapter, the charger itself works. \n"
     ]
    },
    {
     "name": "stdout",
     "output_type": "stream",
     "text": [
      "This adapter is NOT 90W. It may say that on the label, but it will overheat and break in a few minutes if you actually charge at 90W. This adapter made an explosion sound, and blew out my fuse! It was VERY HOT, which I guess caused a component to break and cause a short circuit. DO NOT BUY. This thing is a fire hazard. Seller also stated he would issue a refund, but then in the dispute said he needed evidence. What evidence can I give? It still looks the same, but it is broken, and I don't want to plug it in again and risk damaging my device!\n"
     ]
    },
    {
     "name": "stderr",
     "output_type": "stream",
     "text": [
      "C:\\Users\\kuang\\Anaconda3\\lib\\site-packages\\requests\\packages\\urllib3\\connectionpool.py:852: InsecureRequestWarning: Unverified HTTPS request is being made. Adding certificate verification is strongly advised. See: https://urllib3.readthedocs.io/en/latest/advanced-usage.html#ssl-warnings\n",
      "  InsecureRequestWarning)\n",
      " 2021-08-09 00:13:38,139 - WARNING - 18 rows have been translated. Translated content: This adapter is NOT 90W. It may say that on the label, but it will overheat and break in a few minutes if you actually charge at 90W. This adapter made an explosion sound, and blew out my fuse! It was VERY HOT, which I guess caused a component to break and cause a short circuit. DO NOT BUY. This thing is a fire hazard. Seller also stated he would issue a refund, but then in the dispute said he needed evidence. What evidence can I give? It still looks the same, but it is broken, and I don't want to plug it in again and risk damaging my device! \n"
     ]
    },
    {
     "name": "stdout",
     "output_type": "stream",
     "text": [
      "Aucun embout ne fonctionne pour mon HP portable. Après un essai sur un autre PC portable, le boîtier fait un claquement en continu. Cette avis ne tient cas mon cas, pas du tout satisfait de cette achat.\n"
     ]
    },
    {
     "name": "stderr",
     "output_type": "stream",
     "text": [
      "C:\\Users\\kuang\\Anaconda3\\lib\\site-packages\\requests\\packages\\urllib3\\connectionpool.py:852: InsecureRequestWarning: Unverified HTTPS request is being made. Adding certificate verification is strongly advised. See: https://urllib3.readthedocs.io/en/latest/advanced-usage.html#ssl-warnings\n",
      "  InsecureRequestWarning)\n",
      " 2021-08-09 00:13:48,653 - WARNING - 19 rows have been translated. Translated content: No tip works for my portable HP. After a test on another laptop, the housing makes a continuous snap. This notice does not have a case, not at all satisfied with this purchase. \n"
     ]
    },
    {
     "name": "stdout",
     "output_type": "stream",
     "text": [
      "commande non livrée j'attends un retour du vendeur\n"
     ]
    },
    {
     "name": "stderr",
     "output_type": "stream",
     "text": [
      "C:\\Users\\kuang\\Anaconda3\\lib\\site-packages\\requests\\packages\\urllib3\\connectionpool.py:852: InsecureRequestWarning: Unverified HTTPS request is being made. Adding certificate verification is strongly advised. See: https://urllib3.readthedocs.io/en/latest/advanced-usage.html#ssl-warnings\n",
      "  InsecureRequestWarning)\n",
      " 2021-08-09 00:13:59,162 - WARNING - 20 rows have been translated. Translated content: orders not delivered I wait for a return of the seller \n"
     ]
    },
    {
     "name": "stdout",
     "output_type": "stream",
     "text": [
      "Falta instrucciones para su uso\n"
     ]
    },
    {
     "name": "stderr",
     "output_type": "stream",
     "text": [
      "C:\\Users\\kuang\\Anaconda3\\lib\\site-packages\\requests\\packages\\urllib3\\connectionpool.py:852: InsecureRequestWarning: Unverified HTTPS request is being made. Adding certificate verification is strongly advised. See: https://urllib3.readthedocs.io/en/latest/advanced-usage.html#ssl-warnings\n",
      "  InsecureRequestWarning)\n",
      " 2021-08-09 00:14:09,668 - WARNING - 21 rows have been translated. Translated content: Missing instructions for use \n"
     ]
    },
    {
     "name": "stdout",
     "output_type": "stream",
     "text": [
      "j'ai bien reç deu l'article mais je n'ai pas le câble d'alimentation pour le secteur est ce que vous l'avez . Décu reçu deux articles et je ne suis pas dépanné dans l'attente d'une réponse favorable veuillez agréer Monsieur l'expression de mes sentiments distingués.\n"
     ]
    },
    {
     "name": "stderr",
     "output_type": "stream",
     "text": [
      "C:\\Users\\kuang\\Anaconda3\\lib\\site-packages\\requests\\packages\\urllib3\\connectionpool.py:852: InsecureRequestWarning: Unverified HTTPS request is being made. Adding certificate verification is strongly advised. See: https://urllib3.readthedocs.io/en/latest/advanced-usage.html#ssl-warnings\n",
      "  InsecureRequestWarning)\n",
      " 2021-08-09 00:14:20,195 - WARNING - 22 rows have been translated. Translated content: I have received the article, but I do not have the power cable for the area is what you have it. Decou received two items and I am not troubled waiting for a favorable response, please accept the expression of my distinguished feelings. \n"
     ]
    },
    {
     "name": "stdout",
     "output_type": "stream",
     "text": [
      "Le chargeur n a fonctionner qu'une fois . Ça fait cher le chargeur j'aurais dû rajouter 10e et le prendre en france pour avoir la garantie.\n"
     ]
    },
    {
     "name": "stderr",
     "output_type": "stream",
     "text": [
      "C:\\Users\\kuang\\Anaconda3\\lib\\site-packages\\requests\\packages\\urllib3\\connectionpool.py:852: InsecureRequestWarning: Unverified HTTPS request is being made. Adding certificate verification is strongly advised. See: https://urllib3.readthedocs.io/en/latest/advanced-usage.html#ssl-warnings\n",
      "  InsecureRequestWarning)\n",
      " 2021-08-09 00:14:30,707 - WARNING - 23 rows have been translated. Translated content: The charger is only working once. It's expensive the charger I should have added 10th and take it in France to get the guarantee. \n"
     ]
    },
    {
     "name": "stdout",
     "output_type": "stream",
     "text": [
      "never came\n"
     ]
    },
    {
     "name": "stderr",
     "output_type": "stream",
     "text": [
      "C:\\Users\\kuang\\Anaconda3\\lib\\site-packages\\requests\\packages\\urllib3\\connectionpool.py:852: InsecureRequestWarning: Unverified HTTPS request is being made. Adding certificate verification is strongly advised. See: https://urllib3.readthedocs.io/en/latest/advanced-usage.html#ssl-warnings\n",
      "  InsecureRequestWarning)\n",
      " 2021-08-09 00:14:41,146 - WARNING - 24 rows have been translated. Translated content: never came \n"
     ]
    },
    {
     "name": "stdout",
     "output_type": "stream",
     "text": [
      "Pas spécifié qui y a pas le cordon\n"
     ]
    },
    {
     "name": "stderr",
     "output_type": "stream",
     "text": [
      "C:\\Users\\kuang\\Anaconda3\\lib\\site-packages\\requests\\packages\\urllib3\\connectionpool.py:852: InsecureRequestWarning: Unverified HTTPS request is being made. Adding certificate verification is strongly advised. See: https://urllib3.readthedocs.io/en/latest/advanced-usage.html#ssl-warnings\n",
      "  InsecureRequestWarning)\n",
      " 2021-08-09 00:14:51,629 - WARNING - 25 rows have been translated. Translated content: Not specified that is not the cord \n"
     ]
    },
    {
     "name": "stdout",
     "output_type": "stream",
     "text": [
      "The delivery was very speedy which was amazing. However: The different adapter ends which go into your laptop are NOT the same as the ones on the picture themselves. I specifically was hoping that I would get the blue one which wasn't included, alongside some changes to others. Very disappointed.\n"
     ]
    },
    {
     "name": "stderr",
     "output_type": "stream",
     "text": [
      "C:\\Users\\kuang\\Anaconda3\\lib\\site-packages\\requests\\packages\\urllib3\\connectionpool.py:852: InsecureRequestWarning: Unverified HTTPS request is being made. Adding certificate verification is strongly advised. See: https://urllib3.readthedocs.io/en/latest/advanced-usage.html#ssl-warnings\n",
      "  InsecureRequestWarning)\n",
      " 2021-08-09 00:15:02,025 - WARNING - 26 rows have been translated. Translated content: The delivery was very speedy which was amazing. However: The different adapter ends which go into your laptop are NOT the same as the ones on the picture themselves. I specifically was hoping that I would get the blue one which wasn't included, alongside some changes to others. Very disappointed. \n"
     ]
    },
    {
     "name": "stdout",
     "output_type": "stream",
     "text": [
      "לא עובד עם מחשב dell insprion 14 המוכר לא עשה החזר כספי למרות שהבטיח לעשות זאת. לא ממולץ לקנות. להתרחק ממנו. עדיף לקנות ממקום אחר.\n"
     ]
    },
    {
     "name": "stderr",
     "output_type": "stream",
     "text": [
      "C:\\Users\\kuang\\Anaconda3\\lib\\site-packages\\requests\\packages\\urllib3\\connectionpool.py:852: InsecureRequestWarning: Unverified HTTPS request is being made. Adding certificate verification is strongly advised. See: https://urllib3.readthedocs.io/en/latest/advanced-usage.html#ssl-warnings\n",
      "  InsecureRequestWarning)\n",
      " 2021-08-09 00:15:12,611 - WARNING - 27 rows have been translated. Translated content: Does not work with Dell Insprion 14 seller not made refund even though he promised to do so. Not contaminated to buy. Stay away from him. It is better to buy from another place. \n"
     ]
    },
    {
     "name": "stdout",
     "output_type": "stream",
     "text": [
      "dommage le fil qui va à la prise n est pas livré avec dessus\n"
     ]
    },
    {
     "name": "stderr",
     "output_type": "stream",
     "text": [
      "C:\\Users\\kuang\\Anaconda3\\lib\\site-packages\\requests\\packages\\urllib3\\connectionpool.py:852: InsecureRequestWarning: Unverified HTTPS request is being made. Adding certificate verification is strongly advised. See: https://urllib3.readthedocs.io/en/latest/advanced-usage.html#ssl-warnings\n",
      "  InsecureRequestWarning)\n",
      " 2021-08-09 00:15:23,130 - WARNING - 28 rows have been translated. Translated content: Too bad the thread that goes to the socket is not delivered with above \n"
     ]
    },
    {
     "name": "stdout",
     "output_type": "stream",
     "text": [
      "este artículo no es que ha perdido no tiene cable para enchufarlo\n"
     ]
    },
    {
     "name": "stderr",
     "output_type": "stream",
     "text": [
      "C:\\Users\\kuang\\Anaconda3\\lib\\site-packages\\requests\\packages\\urllib3\\connectionpool.py:852: InsecureRequestWarning: Unverified HTTPS request is being made. Adding certificate verification is strongly advised. See: https://urllib3.readthedocs.io/en/latest/advanced-usage.html#ssl-warnings\n",
      "  InsecureRequestWarning)\n",
      " 2021-08-09 00:15:33,663 - WARNING - 29 rows have been translated. Translated content: This article is not that it has lost it has no cable to plug it up \n"
     ]
    },
    {
     "name": "stdout",
     "output_type": "stream",
     "text": [
      "Hello - I did not receive this order - What should I do?\n"
     ]
    },
    {
     "name": "stderr",
     "output_type": "stream",
     "text": [
      "C:\\Users\\kuang\\Anaconda3\\lib\\site-packages\\requests\\packages\\urllib3\\connectionpool.py:852: InsecureRequestWarning: Unverified HTTPS request is being made. Adding certificate verification is strongly advised. See: https://urllib3.readthedocs.io/en/latest/advanced-usage.html#ssl-warnings\n",
      "  InsecureRequestWarning)\n",
      " 2021-08-09 00:15:44,102 - WARNING - 30 rows have been translated. Translated content: Hello - I did not receive this order - What should I do? \n"
     ]
    },
    {
     "name": "stdout",
     "output_type": "stream",
     "text": [
      "No le sirve a mi portátil hp ninguna de las clavijas\n"
     ]
    },
    {
     "name": "stderr",
     "output_type": "stream",
     "text": [
      "C:\\Users\\kuang\\Anaconda3\\lib\\site-packages\\requests\\packages\\urllib3\\connectionpool.py:852: InsecureRequestWarning: Unverified HTTPS request is being made. Adding certificate verification is strongly advised. See: https://urllib3.readthedocs.io/en/latest/advanced-usage.html#ssl-warnings\n",
      "  InsecureRequestWarning)\n",
      " 2021-08-09 00:15:54,617 - WARNING - 31 rows have been translated. Translated content: It does not serve my HP laptop any of the pegs \n"
     ]
    },
    {
     "name": "stdout",
     "output_type": "stream",
     "text": [
      "No trae el cableado para poder usarlo\n"
     ]
    },
    {
     "name": "stderr",
     "output_type": "stream",
     "text": [
      "C:\\Users\\kuang\\Anaconda3\\lib\\site-packages\\requests\\packages\\urllib3\\connectionpool.py:852: InsecureRequestWarning: Unverified HTTPS request is being made. Adding certificate verification is strongly advised. See: https://urllib3.readthedocs.io/en/latest/advanced-usage.html#ssl-warnings\n",
      "  InsecureRequestWarning)\n",
      " 2021-08-09 00:16:05,103 - WARNING - 32 rows have been translated. Translated content: Does not bring the wiring to be able to use it \n"
     ]
    },
    {
     "name": "stdout",
     "output_type": "stream",
     "text": [
      "The description of the product not inform about the power 220cord is not in the package. This is absolutely unacceptable. You can't use it.\n"
     ]
    },
    {
     "name": "stderr",
     "output_type": "stream",
     "text": [
      "C:\\Users\\kuang\\Anaconda3\\lib\\site-packages\\requests\\packages\\urllib3\\connectionpool.py:852: InsecureRequestWarning: Unverified HTTPS request is being made. Adding certificate verification is strongly advised. See: https://urllib3.readthedocs.io/en/latest/advanced-usage.html#ssl-warnings\n",
      "  InsecureRequestWarning)\n",
      " 2021-08-09 00:16:15,524 - WARNING - 33 rows have been translated. Translated content: The description of the product not inform about the power 220cord is not in the package. This is absolutely unacceptable. You can't use it. \n"
     ]
    },
    {
     "name": "stdout",
     "output_type": "stream",
     "text": [
      "this product is a danger for your home. hopefully my electric installation is resilient. it just blow the fuse as it causes a short circuit. if you have any doubt, the power cable is used elsewhere without issues at all a detail to picture it : do you remember the smell of a melt plastic ? if so, you know exactly what I just witness.\n"
     ]
    },
    {
     "name": "stderr",
     "output_type": "stream",
     "text": [
      "C:\\Users\\kuang\\Anaconda3\\lib\\site-packages\\requests\\packages\\urllib3\\connectionpool.py:852: InsecureRequestWarning: Unverified HTTPS request is being made. Adding certificate verification is strongly advised. See: https://urllib3.readthedocs.io/en/latest/advanced-usage.html#ssl-warnings\n",
      "  InsecureRequestWarning)\n",
      " 2021-08-09 00:16:25,953 - WARNING - 34 rows have been translated. Translated content: this product is a danger for your home. hopefully my electric installation is resilient. it just blow the fuse as it causes a short circuit. if you have any doubt, the power cable is used elsewhere without issues at all a detail to picture it : do you remember the smell of a melt plastic ? if so, you know exactly what I just witness. \n"
     ]
    },
    {
     "name": "stdout",
     "output_type": "stream",
     "text": [
      "В комплекте нет коннектора для Asus M570 M570D M570DD,K570 K570Z K570ZD,Q547 Q547F Q547FD,ZenBook 15 UX534FT UX534FTC, нужен сonnector size:4.5*3.0mm Все коннекторы имеют свои названия, неужели трудно в описании перечислить то что есть в этом комплекте? Я сильно разочарован, продавец на вопрос не отвечает.\n"
     ]
    },
    {
     "name": "stderr",
     "output_type": "stream",
     "text": [
      "C:\\Users\\kuang\\Anaconda3\\lib\\site-packages\\requests\\packages\\urllib3\\connectionpool.py:852: InsecureRequestWarning: Unverified HTTPS request is being made. Adding certificate verification is strongly advised. See: https://urllib3.readthedocs.io/en/latest/advanced-usage.html#ssl-warnings\n",
      "  InsecureRequestWarning)\n",
      " 2021-08-09 00:16:36,636 - WARNING - 35 rows have been translated. Translated content: Includes no connector for ASUS M570 M570D M570DD, K570 K570D K570ZD, Q547 Q547F Q547FD, Zenbook 15 UX534FT UX534FTC, you need Sonnector Size: 4.5 * 3.0mm All connectors have their own names, is it really difficult to list what is in this set? I am very disappointed, the seller does not answer the question. \n"
     ]
    },
    {
     "name": "stdout",
     "output_type": "stream",
     "text": [
      "отсутствует кабель на 220 вольт\n"
     ]
    },
    {
     "name": "stderr",
     "output_type": "stream",
     "text": [
      "C:\\Users\\kuang\\Anaconda3\\lib\\site-packages\\requests\\packages\\urllib3\\connectionpool.py:852: InsecureRequestWarning: Unverified HTTPS request is being made. Adding certificate verification is strongly advised. See: https://urllib3.readthedocs.io/en/latest/advanced-usage.html#ssl-warnings\n",
      "  InsecureRequestWarning)\n",
      " 2021-08-09 00:16:47,104 - WARNING - 36 rows have been translated. Translated content: There is no 220 volt cable \n"
     ]
    },
    {
     "name": "stdout",
     "output_type": "stream",
     "text": [
      "Aucun sérieux du vendeur! Objet recu défectueux et aucune réponse du vendeur et renvoi à mes frais d’apres aliexpress donc j’ai abandonner vu le montant du renvoi colis postal!!! Le double du prix d’achat ....je ne conseil pas!!!\n"
     ]
    },
    {
     "name": "stderr",
     "output_type": "stream",
     "text": [
      "C:\\Users\\kuang\\Anaconda3\\lib\\site-packages\\requests\\packages\\urllib3\\connectionpool.py:852: InsecureRequestWarning: Unverified HTTPS request is being made. Adding certificate verification is strongly advised. See: https://urllib3.readthedocs.io/en/latest/advanced-usage.html#ssl-warnings\n",
      "  InsecureRequestWarning)\n",
      " 2021-08-09 00:16:57,725 - WARNING - 37 rows have been translated. Translated content: No seriousness of the seller! Object received defective and no reply from the seller and reference to my expenses after Aliexpress so I have abandoned the amount of the return Postal parcel !!! Double the purchase price .... I do not advice !!! \n"
     ]
    },
    {
     "name": "stdout",
     "output_type": "stream",
     "text": [
      "Does not work on my dell computer\n"
     ]
    },
    {
     "name": "stderr",
     "output_type": "stream",
     "text": [
      "C:\\Users\\kuang\\Anaconda3\\lib\\site-packages\\requests\\packages\\urllib3\\connectionpool.py:852: InsecureRequestWarning: Unverified HTTPS request is being made. Adding certificate verification is strongly advised. See: https://urllib3.readthedocs.io/en/latest/advanced-usage.html#ssl-warnings\n",
      "  InsecureRequestWarning)\n",
      " 2021-08-09 00:17:08,135 - WARNING - 38 rows have been translated. Translated content: Does not work on my dell computer \n"
     ]
    },
    {
     "name": "stdout",
     "output_type": "stream",
     "text": [
      "Dommage il n'y pas de câble secteur qui va avec\n"
     ]
    },
    {
     "name": "stderr",
     "output_type": "stream",
     "text": [
      "C:\\Users\\kuang\\Anaconda3\\lib\\site-packages\\requests\\packages\\urllib3\\connectionpool.py:852: InsecureRequestWarning: Unverified HTTPS request is being made. Adding certificate verification is strongly advised. See: https://urllib3.readthedocs.io/en/latest/advanced-usage.html#ssl-warnings\n",
      "  InsecureRequestWarning)\n",
      " 2021-08-09 00:17:18,652 - WARNING - 39 rows have been translated. Translated content: Pity there is no power cable that goes with \n"
     ]
    },
    {
     "name": "stdout",
     "output_type": "stream",
     "text": [
      "item is non-functional.\n"
     ]
    },
    {
     "name": "stderr",
     "output_type": "stream",
     "text": [
      "C:\\Users\\kuang\\Anaconda3\\lib\\site-packages\\requests\\packages\\urllib3\\connectionpool.py:852: InsecureRequestWarning: Unverified HTTPS request is being made. Adding certificate verification is strongly advised. See: https://urllib3.readthedocs.io/en/latest/advanced-usage.html#ssl-warnings\n",
      "  InsecureRequestWarning)\n",
      " 2021-08-09 00:17:29,070 - WARNING - 40 rows have been translated. Translated content: item is non-functional. \n"
     ]
    },
    {
     "name": "stdout",
     "output_type": "stream",
     "text": [
      "never got the parcel, seller refunded me\n"
     ]
    },
    {
     "name": "stderr",
     "output_type": "stream",
     "text": [
      "C:\\Users\\kuang\\Anaconda3\\lib\\site-packages\\requests\\packages\\urllib3\\connectionpool.py:852: InsecureRequestWarning: Unverified HTTPS request is being made. Adding certificate verification is strongly advised. See: https://urllib3.readthedocs.io/en/latest/advanced-usage.html#ssl-warnings\n",
      "  InsecureRequestWarning)\n",
      " 2021-08-09 00:17:39,455 - WARNING - 41 rows have been translated. Translated content: never got the parcel, seller refunded me \n"
     ]
    },
    {
     "name": "stdout",
     "output_type": "stream",
     "text": [
      "Péssimo não recebi o produto nem o reembolso\n"
     ]
    },
    {
     "name": "stderr",
     "output_type": "stream",
     "text": [
      "C:\\Users\\kuang\\Anaconda3\\lib\\site-packages\\requests\\packages\\urllib3\\connectionpool.py:852: InsecureRequestWarning: Unverified HTTPS request is being made. Adding certificate verification is strongly advised. See: https://urllib3.readthedocs.io/en/latest/advanced-usage.html#ssl-warnings\n",
      "  InsecureRequestWarning)\n",
      " 2021-08-09 00:17:49,959 - WARNING - 42 rows have been translated. Translated content: Bad I did not receive the product nor the refund \n"
     ]
    },
    {
     "name": "stdout",
     "output_type": "stream",
     "text": [
      "the charger have burn after 30 min\n"
     ]
    },
    {
     "name": "stderr",
     "output_type": "stream",
     "text": [
      "C:\\Users\\kuang\\Anaconda3\\lib\\site-packages\\requests\\packages\\urllib3\\connectionpool.py:852: InsecureRequestWarning: Unverified HTTPS request is being made. Adding certificate verification is strongly advised. See: https://urllib3.readthedocs.io/en/latest/advanced-usage.html#ssl-warnings\n",
      "  InsecureRequestWarning)\n",
      " 2021-08-09 00:18:00,366 - WARNING - 43 rows have been translated. Translated content: the charger have burn after 30 min \n"
     ]
    },
    {
     "name": "stdout",
     "output_type": "stream",
     "text": [
      "заказ до сих пор не получила верните деньги\n"
     ]
    },
    {
     "name": "stderr",
     "output_type": "stream",
     "text": [
      "C:\\Users\\kuang\\Anaconda3\\lib\\site-packages\\requests\\packages\\urllib3\\connectionpool.py:852: InsecureRequestWarning: Unverified HTTPS request is being made. Adding certificate verification is strongly advised. See: https://urllib3.readthedocs.io/en/latest/advanced-usage.html#ssl-warnings\n",
      "  InsecureRequestWarning)\n",
      " 2021-08-09 00:18:11,069 - WARNING - 44 rows have been translated. Translated content: the order has not yet received return the money \n"
     ]
    },
    {
     "name": "stdout",
     "output_type": "stream",
     "text": [
      "לא מתאים לhp\n"
     ]
    },
    {
     "name": "stderr",
     "output_type": "stream",
     "text": [
      "C:\\Users\\kuang\\Anaconda3\\lib\\site-packages\\requests\\packages\\urllib3\\connectionpool.py:852: InsecureRequestWarning: Unverified HTTPS request is being made. Adding certificate verification is strongly advised. See: https://urllib3.readthedocs.io/en/latest/advanced-usage.html#ssl-warnings\n",
      "  InsecureRequestWarning)\n",
      " 2021-08-09 00:18:21,553 - WARNING - 45 rows have been translated. Translated content: Not suitable for HP \n"
     ]
    },
    {
     "name": "stdout",
     "output_type": "stream",
     "text": [
      "4.5mm hp nicht vorhanden\n"
     ]
    },
    {
     "name": "stderr",
     "output_type": "stream",
     "text": [
      "C:\\Users\\kuang\\Anaconda3\\lib\\site-packages\\requests\\packages\\urllib3\\connectionpool.py:852: InsecureRequestWarning: Unverified HTTPS request is being made. Adding certificate verification is strongly advised. See: https://urllib3.readthedocs.io/en/latest/advanced-usage.html#ssl-warnings\n",
      "  InsecureRequestWarning)\n",
      " 2021-08-09 00:18:32,044 - WARNING - 46 rows have been translated. Translated content: 4.5mm HP not available \n"
     ]
    },
    {
     "name": "stdout",
     "output_type": "stream",
     "text": [
      "doesn't work with my N71Jv :/ but ok with my lattitude\n"
     ]
    },
    {
     "name": "stderr",
     "output_type": "stream",
     "text": [
      "C:\\Users\\kuang\\Anaconda3\\lib\\site-packages\\requests\\packages\\urllib3\\connectionpool.py:852: InsecureRequestWarning: Unverified HTTPS request is being made. Adding certificate verification is strongly advised. See: https://urllib3.readthedocs.io/en/latest/advanced-usage.html#ssl-warnings\n",
      "  InsecureRequestWarning)\n",
      " 2021-08-09 00:18:42,446 - WARNING - 47 rows have been translated. Translated content: doesn't work with my N71Jv :/ but ok with my latitude \n"
     ]
    },
    {
     "name": "stdout",
     "output_type": "stream",
     "text": [
      "El producto no es compatible con portatil HP\n"
     ]
    },
    {
     "name": "stderr",
     "output_type": "stream",
     "text": [
      "C:\\Users\\kuang\\Anaconda3\\lib\\site-packages\\requests\\packages\\urllib3\\connectionpool.py:852: InsecureRequestWarning: Unverified HTTPS request is being made. Adding certificate verification is strongly advised. See: https://urllib3.readthedocs.io/en/latest/advanced-usage.html#ssl-warnings\n",
      "  InsecureRequestWarning)\n",
      " 2021-08-09 00:18:52,930 - WARNING - 48 rows have been translated. Translated content: The product is not compatible with HP portable \n"
     ]
    },
    {
     "name": "stdout",
     "output_type": "stream",
     "text": [
      "J'aimerais bien donner mon avis si je l'avais reçu. Il y a de cela plus 100 jours.\n"
     ]
    },
    {
     "name": "stderr",
     "output_type": "stream",
     "text": [
      "C:\\Users\\kuang\\Anaconda3\\lib\\site-packages\\requests\\packages\\urllib3\\connectionpool.py:852: InsecureRequestWarning: Unverified HTTPS request is being made. Adding certificate verification is strongly advised. See: https://urllib3.readthedocs.io/en/latest/advanced-usage.html#ssl-warnings\n",
      "  InsecureRequestWarning)\n",
      " 2021-08-09 00:19:03,449 - WARNING - 49 rows have been translated. Translated content: I would like to give my opinion if I had received it. There is more 100 days. \n"
     ]
    },
    {
     "name": "stdout",
     "output_type": "stream",
     "text": [
      "Le falta el cable de alimentación de la corriente\n"
     ]
    },
    {
     "name": "stderr",
     "output_type": "stream",
     "text": [
      "C:\\Users\\kuang\\Anaconda3\\lib\\site-packages\\requests\\packages\\urllib3\\connectionpool.py:852: InsecureRequestWarning: Unverified HTTPS request is being made. Adding certificate verification is strongly advised. See: https://urllib3.readthedocs.io/en/latest/advanced-usage.html#ssl-warnings\n",
      "  InsecureRequestWarning)\n",
      " 2021-08-09 00:19:14,129 - WARNING - 50 rows have been translated. Translated content: The power cord is missing from the power \n"
     ]
    },
    {
     "name": "stdout",
     "output_type": "stream",
     "text": [
      "Not compatible with HP omen. Bad election\n"
     ]
    },
    {
     "name": "stderr",
     "output_type": "stream",
     "text": [
      "C:\\Users\\kuang\\Anaconda3\\lib\\site-packages\\requests\\packages\\urllib3\\connectionpool.py:852: InsecureRequestWarning: Unverified HTTPS request is being made. Adding certificate verification is strongly advised. See: https://urllib3.readthedocs.io/en/latest/advanced-usage.html#ssl-warnings\n",
      "  InsecureRequestWarning)\n",
      " 2021-08-09 00:19:24,536 - WARNING - 51 rows have been translated. Translated content: Not compatible with HP omen. Bad election \n"
     ]
    },
    {
     "name": "stdout",
     "output_type": "stream",
     "text": [
      "Не дошла посылка,жду возврата денег☹\n"
     ]
    },
    {
     "name": "stderr",
     "output_type": "stream",
     "text": [
      "C:\\Users\\kuang\\Anaconda3\\lib\\site-packages\\requests\\packages\\urllib3\\connectionpool.py:852: InsecureRequestWarning: Unverified HTTPS request is being made. Adding certificate verification is strongly advised. See: https://urllib3.readthedocs.io/en/latest/advanced-usage.html#ssl-warnings\n",
      "  InsecureRequestWarning)\n",
      " 2021-08-09 00:19:35,006 - WARNING - 52 rows have been translated. Translated content: Did not reach the parcel, waiting for the return of money \n"
     ]
    },
    {
     "name": "stdout",
     "output_type": "stream",
     "text": [
      "Нет сетевого кабеля, нужно докупать отдельно.\n"
     ]
    },
    {
     "name": "stderr",
     "output_type": "stream",
     "text": [
      "C:\\Users\\kuang\\Anaconda3\\lib\\site-packages\\requests\\packages\\urllib3\\connectionpool.py:852: InsecureRequestWarning: Unverified HTTPS request is being made. Adding certificate verification is strongly advised. See: https://urllib3.readthedocs.io/en/latest/advanced-usage.html#ssl-warnings\n",
      "  InsecureRequestWarning)\n",
      " 2021-08-09 00:19:45,548 - WARNING - 53 rows have been translated. Translated content: No network cable, you need to buy separately. \n"
     ]
    },
    {
     "name": "stdout",
     "output_type": "stream",
     "text": [
      "לא מתאים למחשב HP . אף אחד מהם לא התאים\n"
     ]
    },
    {
     "name": "stderr",
     "output_type": "stream",
     "text": [
      "C:\\Users\\kuang\\Anaconda3\\lib\\site-packages\\requests\\packages\\urllib3\\connectionpool.py:852: InsecureRequestWarning: Unverified HTTPS request is being made. Adding certificate verification is strongly advised. See: https://urllib3.readthedocs.io/en/latest/advanced-usage.html#ssl-warnings\n",
      "  InsecureRequestWarning)\n",
      " 2021-08-09 00:19:56,031 - WARNING - 54 rows have been translated. Translated content: Not suitable for HP PC. None of them cells \n"
     ]
    },
    {
     "name": "stdout",
     "output_type": "stream",
     "text": [
      "Cable is little lose on connection and no other part of the cable which goes to power.\n"
     ]
    },
    {
     "name": "stderr",
     "output_type": "stream",
     "text": [
      "C:\\Users\\kuang\\Anaconda3\\lib\\site-packages\\requests\\packages\\urllib3\\connectionpool.py:852: InsecureRequestWarning: Unverified HTTPS request is being made. Adding certificate verification is strongly advised. See: https://urllib3.readthedocs.io/en/latest/advanced-usage.html#ssl-warnings\n",
      "  InsecureRequestWarning)\n",
      " 2021-08-09 00:20:06,466 - WARNING - 55 rows have been translated. Translated content: Cable is little lose on connection and no other part of the cable which goes to power. \n"
     ]
    },
    {
     "name": "stdout",
     "output_type": "stream",
     "text": [
      "Do not charge my laptop\n"
     ]
    },
    {
     "name": "stderr",
     "output_type": "stream",
     "text": [
      "C:\\Users\\kuang\\Anaconda3\\lib\\site-packages\\requests\\packages\\urllib3\\connectionpool.py:852: InsecureRequestWarning: Unverified HTTPS request is being made. Adding certificate verification is strongly advised. See: https://urllib3.readthedocs.io/en/latest/advanced-usage.html#ssl-warnings\n",
      "  InsecureRequestWarning)\n",
      " 2021-08-09 00:20:16,882 - WARNING - 56 rows have been translated. Translated content: Do not charge my laptop \n"
     ]
    },
    {
     "name": "stdout",
     "output_type": "stream",
     "text": [
      "El producto salio defectuoso y no sirve y porfavor quiero que mereenbolcen el dinero gracias\n"
     ]
    },
    {
     "name": "stderr",
     "output_type": "stream",
     "text": [
      "C:\\Users\\kuang\\Anaconda3\\lib\\site-packages\\requests\\packages\\urllib3\\connectionpool.py:852: InsecureRequestWarning: Unverified HTTPS request is being made. Adding certificate verification is strongly advised. See: https://urllib3.readthedocs.io/en/latest/advanced-usage.html#ssl-warnings\n",
      "  InsecureRequestWarning)\n",
      " 2021-08-09 00:20:27,433 - WARNING - 57 rows have been translated. Translated content: The product came out defective and it does not serve and please I want you to mereen the money thanks \n"
     ]
    },
    {
     "name": "stdout",
     "output_type": "stream",
     "text": [
      "Faut être sure de l’achat parce que moi ça ne marche pas j’ai envoyé un message pour un échange ou un remboursement et ils ne répondent jamais faites très attention mauvais vendeur\n"
     ]
    },
    {
     "name": "stderr",
     "output_type": "stream",
     "text": [
      "C:\\Users\\kuang\\Anaconda3\\lib\\site-packages\\requests\\packages\\urllib3\\connectionpool.py:852: InsecureRequestWarning: Unverified HTTPS request is being made. Adding certificate verification is strongly advised. See: https://urllib3.readthedocs.io/en/latest/advanced-usage.html#ssl-warnings\n",
      "  InsecureRequestWarning)\n",
      " 2021-08-09 00:20:38,034 - WARNING - 58 rows have been translated. Translated content: Must be sure of buying because I do not work I sent a message for an exchange or a refund and they never answer very care badly bad seller \n"
     ]
    },
    {
     "name": "stdout",
     "output_type": "stream",
     "text": [
      "I've been waiting since June....\n"
     ]
    },
    {
     "name": "stderr",
     "output_type": "stream",
     "text": [
      "C:\\Users\\kuang\\Anaconda3\\lib\\site-packages\\requests\\packages\\urllib3\\connectionpool.py:852: InsecureRequestWarning: Unverified HTTPS request is being made. Adding certificate verification is strongly advised. See: https://urllib3.readthedocs.io/en/latest/advanced-usage.html#ssl-warnings\n",
      "  InsecureRequestWarning)\n",
      " 2021-08-09 00:20:48,431 - WARNING - 59 rows have been translated. Translated content: I've been waiting since June.... \n"
     ]
    },
    {
     "name": "stdout",
     "output_type": "stream",
     "text": [
      "Nicht gut\n"
     ]
    },
    {
     "name": "stderr",
     "output_type": "stream",
     "text": [
      "C:\\Users\\kuang\\Anaconda3\\lib\\site-packages\\requests\\packages\\urllib3\\connectionpool.py:852: InsecureRequestWarning: Unverified HTTPS request is being made. Adding certificate verification is strongly advised. See: https://urllib3.readthedocs.io/en/latest/advanced-usage.html#ssl-warnings\n",
      "  InsecureRequestWarning)\n",
      " 2021-08-09 00:20:58,907 - WARNING - 60 rows have been translated. Translated content: not good \n"
     ]
    },
    {
     "name": "stdout",
     "output_type": "stream",
     "text": [
      "The item broke the first minute i used it.\n"
     ]
    },
    {
     "name": "stderr",
     "output_type": "stream",
     "text": [
      "C:\\Users\\kuang\\Anaconda3\\lib\\site-packages\\requests\\packages\\urllib3\\connectionpool.py:852: InsecureRequestWarning: Unverified HTTPS request is being made. Adding certificate verification is strongly advised. See: https://urllib3.readthedocs.io/en/latest/advanced-usage.html#ssl-warnings\n",
      "  InsecureRequestWarning)\n",
      " 2021-08-09 00:21:09,315 - WARNING - 61 rows have been translated. Translated content: The item broke the first minute i used it. \n"
     ]
    },
    {
     "name": "stdout",
     "output_type": "stream",
     "text": [
      "Покупал для монитора. Монитор с ним мигает, работать невозможно. Для чего-то другого он может и сгодится\n"
     ]
    },
    {
     "name": "stderr",
     "output_type": "stream",
     "text": [
      "C:\\Users\\kuang\\Anaconda3\\lib\\site-packages\\requests\\packages\\urllib3\\connectionpool.py:852: InsecureRequestWarning: Unverified HTTPS request is being made. Adding certificate verification is strongly advised. See: https://urllib3.readthedocs.io/en/latest/advanced-usage.html#ssl-warnings\n",
      "  InsecureRequestWarning)\n",
      " 2021-08-09 00:21:20,145 - WARNING - 62 rows have been translated. Translated content: Bought for the monitor. The monitor flashes with it, it is impossible to work. For something else, he can fit \n"
     ]
    },
    {
     "name": "stdout",
     "output_type": "stream",
     "text": [
      "Посылка не пришла, к сожалению\n"
     ]
    },
    {
     "name": "stderr",
     "output_type": "stream",
     "text": [
      "C:\\Users\\kuang\\Anaconda3\\lib\\site-packages\\requests\\packages\\urllib3\\connectionpool.py:852: InsecureRequestWarning: Unverified HTTPS request is being made. Adding certificate verification is strongly advised. See: https://urllib3.readthedocs.io/en/latest/advanced-usage.html#ssl-warnings\n",
      "  InsecureRequestWarning)\n",
      " 2021-08-09 00:21:30,648 - WARNING - 63 rows have been translated. Translated content: The parcel did not come, unfortunately \n"
     ]
    },
    {
     "name": "stdout",
     "output_type": "stream",
     "text": [
      "Думал нормальный блок питания, всё с виду красиво, об отсутствии штекера 220v уже был предупреждён заранее. Посылка отслеживалась до порога, вопросов нет. Вскрыв его я был в шоке, это какой-то испанский стыд. Ему цена 500₽ вместе с переходниками. Распайка только с 1 стороны платы, smd на другой стороне вообще нет, дроссели и другие компоненты отсутствуют для удешевления и облегчения производства. До этого брал с AliExpress другой универсальный блок питания бренда \"noname\", фотка ниже, у него были примерно такие же компоненты на плате, за исключением переключателя напряжения, при работе был запах пластика и в итоге за 1.5 часа сгорел. В этом я вообще не уверен. Припаял другое гнездо на вилку 220v, наделал дырок, под радиатор термопасту нанёс, в итоге греется как чёрт, весь! Блоку питания ничем не помочь, вообще. Греется даже трансформатор! Прошу вас, остерегайтесь этой модели ZH-65-258. Там есть только 1 предохранитель, если он не сработает, то блок или убьёт ваш ноутбук или сгорит.\n"
     ]
    },
    {
     "name": "stderr",
     "output_type": "stream",
     "text": [
      "C:\\Users\\kuang\\Anaconda3\\lib\\site-packages\\requests\\packages\\urllib3\\connectionpool.py:852: InsecureRequestWarning: Unverified HTTPS request is being made. Adding certificate verification is strongly advised. See: https://urllib3.readthedocs.io/en/latest/advanced-usage.html#ssl-warnings\n",
      "  InsecureRequestWarning)\n",
      " 2021-08-09 00:21:41,491 - WARNING - 64 rows have been translated. Translated content: I thought a normal power supply, everything looks beautiful, about the absence of a plug of 220V was already warned in advance. The parcel was tracked to the threshold, there are no questions. I was in shock with a shock, this is some kind of Spanish shame. It is the price of 500₽ along with adapters. Spacking only with 1 side of the board, SMD on the other side is generally no, chokes and other components are absent for cheaper and facilitate production. Prior to that, he took with the Aliexpress other universal power supply of the \"Noname\" brand, the photo below, he had about the same components on the board, with the exception of the voltage switch, the smell of plastic was the smell of plastic and in the end of 1.5 hours burned down. I'm not sure about this. Speed ​​another nest on the plug 220V, endowed holes, under the radiator the thermal fever, in the end heels like a damn, all! The power supply does not help anything, in general. Even a transformer is heated! I ask you, beware of this model ZH-65-258. There is only 1 fuse if it does not work, the block or kills your laptop or burns. \n"
     ]
    },
    {
     "name": "stdout",
     "output_type": "stream",
     "text": [
      "article non utilisable, car je me rends compte qu'il est vendu sans la partie câble qui se branche à une prise électrique. Je le renvoie au vendeur.\n"
     ]
    },
    {
     "name": "stderr",
     "output_type": "stream",
     "text": [
      "C:\\Users\\kuang\\Anaconda3\\lib\\site-packages\\requests\\packages\\urllib3\\connectionpool.py:852: InsecureRequestWarning: Unverified HTTPS request is being made. Adding certificate verification is strongly advised. See: https://urllib3.readthedocs.io/en/latest/advanced-usage.html#ssl-warnings\n",
      "  InsecureRequestWarning)\n",
      " 2021-08-09 00:21:52,025 - WARNING - 65 rows have been translated. Translated content: Article not usable because I realize that it is sold without the cable part that plugs into an electrical outlet. I send it back to the seller. \n"
     ]
    },
    {
     "name": "stdout",
     "output_type": "stream",
     "text": [
      "No vale para HP. mal\n"
     ]
    },
    {
     "name": "stderr",
     "output_type": "stream",
     "text": [
      "C:\\Users\\kuang\\Anaconda3\\lib\\site-packages\\requests\\packages\\urllib3\\connectionpool.py:852: InsecureRequestWarning: Unverified HTTPS request is being made. Adding certificate verification is strongly advised. See: https://urllib3.readthedocs.io/en/latest/advanced-usage.html#ssl-warnings\n",
      "  InsecureRequestWarning)\n",
      " 2021-08-09 00:22:02,633 - WARNING - 66 rows have been translated. Translated content: It is not worth HP. evil \n"
     ]
    },
    {
     "name": "stdout",
     "output_type": "stream",
     "text": [
      "très bon produit\n"
     ]
    },
    {
     "name": "stderr",
     "output_type": "stream",
     "text": [
      "C:\\Users\\kuang\\Anaconda3\\lib\\site-packages\\requests\\packages\\urllib3\\connectionpool.py:852: InsecureRequestWarning: Unverified HTTPS request is being made. Adding certificate verification is strongly advised. See: https://urllib3.readthedocs.io/en/latest/advanced-usage.html#ssl-warnings\n",
      "  InsecureRequestWarning)\n",
      " 2021-08-09 00:22:13,105 - WARNING - 67 rows have been translated. Translated content: very good product \n"
     ]
    },
    {
     "name": "stdout",
     "output_type": "stream",
     "text": [
      "It got burned in the first 10 minutes of operation\n"
     ]
    },
    {
     "name": "stderr",
     "output_type": "stream",
     "text": [
      "C:\\Users\\kuang\\Anaconda3\\lib\\site-packages\\requests\\packages\\urllib3\\connectionpool.py:852: InsecureRequestWarning: Unverified HTTPS request is being made. Adding certificate verification is strongly advised. See: https://urllib3.readthedocs.io/en/latest/advanced-usage.html#ssl-warnings\n",
      "  InsecureRequestWarning)\n",
      " 2021-08-09 00:22:23,494 - WARNING - 68 rows have been translated. Translated content: It got burned in the first 10 minutes of operation \n"
     ]
    },
    {
     "name": "stdout",
     "output_type": "stream",
     "text": [
      "Adapter not working.. I want to return back\n"
     ]
    },
    {
     "name": "stderr",
     "output_type": "stream",
     "text": [
      "C:\\Users\\kuang\\Anaconda3\\lib\\site-packages\\requests\\packages\\urllib3\\connectionpool.py:852: InsecureRequestWarning: Unverified HTTPS request is being made. Adding certificate verification is strongly advised. See: https://urllib3.readthedocs.io/en/latest/advanced-usage.html#ssl-warnings\n",
      "  InsecureRequestWarning)\n",
      " 2021-08-09 00:22:33,898 - WARNING - 69 rows have been translated. Translated content: Adapter not working.. I want to return back \n"
     ]
    },
    {
     "name": "stdout",
     "output_type": "stream",
     "text": [
      "El paquete nunca lo mandaron, el vendedor jamas contestó a mis dudas y preguntas, lo desaconsejo total mente. Lo bueno que aliexpres me reembolso todo el importe.\n"
     ]
    },
    {
     "name": "stderr",
     "output_type": "stream",
     "text": [
      "C:\\Users\\kuang\\Anaconda3\\lib\\site-packages\\requests\\packages\\urllib3\\connectionpool.py:852: InsecureRequestWarning: Unverified HTTPS request is being made. Adding certificate verification is strongly advised. See: https://urllib3.readthedocs.io/en/latest/advanced-usage.html#ssl-warnings\n",
      "  InsecureRequestWarning)\n",
      " 2021-08-09 00:22:44,490 - WARNING - 70 rows have been translated. Translated content: The package never sent him, the seller never answered my doubts and questions, I discourage him totally mind. The good thing that Aliexpres will refund me all the amount. \n"
     ]
    },
    {
     "name": "stdout",
     "output_type": "stream",
     "text": [
      "not get this\n"
     ]
    },
    {
     "name": "stderr",
     "output_type": "stream",
     "text": [
      "C:\\Users\\kuang\\Anaconda3\\lib\\site-packages\\requests\\packages\\urllib3\\connectionpool.py:852: InsecureRequestWarning: Unverified HTTPS request is being made. Adding certificate verification is strongly advised. See: https://urllib3.readthedocs.io/en/latest/advanced-usage.html#ssl-warnings\n",
      "  InsecureRequestWarning)\n",
      " 2021-08-09 00:22:54,878 - WARNING - 71 rows have been translated. Translated content: not get this \n"
     ]
    },
    {
     "name": "stdout",
     "output_type": "stream",
     "text": [
      "DONT BUT THIS OR YOUR RISKING IN BURNING YOUR HARDWARE. low quality, melted in my unit die to shitty adapters ALIEXPRESS AND SELLER DONT GIVE A F**K ABOUT YOU dont ruin you stuff for free!\n"
     ]
    },
    {
     "name": "stderr",
     "output_type": "stream",
     "text": [
      "C:\\Users\\kuang\\Anaconda3\\lib\\site-packages\\requests\\packages\\urllib3\\connectionpool.py:852: InsecureRequestWarning: Unverified HTTPS request is being made. Adding certificate verification is strongly advised. See: https://urllib3.readthedocs.io/en/latest/advanced-usage.html#ssl-warnings\n",
      "  InsecureRequestWarning)\n",
      " 2021-08-09 00:23:05,317 - WARNING - 1 rows have been translated. Translated content: DONT BUT THIS OR YOUR RISKING IN BURNING YOUR HARDWARE. low quality, melted in my unit die to shitty adapters ALIEXPRESS AND SELLER DONT GIVE A F**K ABOUT YOU dont ruin you stuff for free! \n"
     ]
    },
    {
     "name": "stdout",
     "output_type": "stream",
     "text": [
      "Durou nem 2 horas ligado e já queimou.porcaria\n"
     ]
    },
    {
     "name": "stderr",
     "output_type": "stream",
     "text": [
      "C:\\Users\\kuang\\Anaconda3\\lib\\site-packages\\requests\\packages\\urllib3\\connectionpool.py:852: InsecureRequestWarning: Unverified HTTPS request is being made. Adding certificate verification is strongly advised. See: https://urllib3.readthedocs.io/en/latest/advanced-usage.html#ssl-warnings\n",
      "  InsecureRequestWarning)\n",
      " 2021-08-09 00:23:15,708 - WARNING - 2 rows have been translated. Translated content: It lasted neither 2 hours connected and already burned.Porria \n"
     ]
    },
    {
     "name": "stdout",
     "output_type": "stream",
     "text": [
      "I didn't receive the product at all.\n"
     ]
    },
    {
     "name": "stderr",
     "output_type": "stream",
     "text": [
      "C:\\Users\\kuang\\Anaconda3\\lib\\site-packages\\requests\\packages\\urllib3\\connectionpool.py:852: InsecureRequestWarning: Unverified HTTPS request is being made. Adding certificate verification is strongly advised. See: https://urllib3.readthedocs.io/en/latest/advanced-usage.html#ssl-warnings\n",
      "  InsecureRequestWarning)\n",
      " 2021-08-09 00:23:26,098 - WARNING - 3 rows have been translated. Translated content: I didn't receive the product at all. \n"
     ]
    },
    {
     "name": "stdout",
     "output_type": "stream",
     "text": [
      "jamais reçu\n"
     ]
    },
    {
     "name": "stderr",
     "output_type": "stream",
     "text": [
      "C:\\Users\\kuang\\Anaconda3\\lib\\site-packages\\requests\\packages\\urllib3\\connectionpool.py:852: InsecureRequestWarning: Unverified HTTPS request is being made. Adding certificate verification is strongly advised. See: https://urllib3.readthedocs.io/en/latest/advanced-usage.html#ssl-warnings\n",
      "  InsecureRequestWarning)\n",
      " 2021-08-09 00:23:36,506 - WARNING - 4 rows have been translated. Translated content: never received \n"
     ]
    },
    {
     "name": "stdout",
     "output_type": "stream",
     "text": [
      "no corresponde\n"
     ]
    },
    {
     "name": "stderr",
     "output_type": "stream",
     "text": [
      "C:\\Users\\kuang\\Anaconda3\\lib\\site-packages\\requests\\packages\\urllib3\\connectionpool.py:852: InsecureRequestWarning: Unverified HTTPS request is being made. Adding certificate verification is strongly advised. See: https://urllib3.readthedocs.io/en/latest/advanced-usage.html#ssl-warnings\n",
      "  InsecureRequestWarning)\n",
      " 2021-08-09 00:23:46,924 - WARNING - 5 rows have been translated. Translated content: Does not appropriate \n"
     ]
    },
    {
     "name": "stdout",
     "output_type": "stream",
     "text": [
      "no me gusto\n"
     ]
    },
    {
     "name": "stderr",
     "output_type": "stream",
     "text": [
      "C:\\Users\\kuang\\Anaconda3\\lib\\site-packages\\requests\\packages\\urllib3\\connectionpool.py:852: InsecureRequestWarning: Unverified HTTPS request is being made. Adding certificate verification is strongly advised. See: https://urllib3.readthedocs.io/en/latest/advanced-usage.html#ssl-warnings\n",
      "  InsecureRequestWarning)\n",
      " 2021-08-09 00:23:57,331 - WARNING - 6 rows have been translated. Translated content: I did not like \n"
     ]
    },
    {
     "name": "stdout",
     "output_type": "stream",
     "text": [
      "Замовлення не отримав, гроші повернули.\n"
     ]
    },
    {
     "name": "stderr",
     "output_type": "stream",
     "text": [
      "C:\\Users\\kuang\\Anaconda3\\lib\\site-packages\\requests\\packages\\urllib3\\connectionpool.py:852: InsecureRequestWarning: Unverified HTTPS request is being made. Adding certificate verification is strongly advised. See: https://urllib3.readthedocs.io/en/latest/advanced-usage.html#ssl-warnings\n",
      "  InsecureRequestWarning)\n",
      " 2021-08-09 00:24:07,739 - WARNING - 7 rows have been translated. Translated content: The order has not received, the money turned. \n"
     ]
    },
    {
     "name": "stdout",
     "output_type": "stream",
     "text": [
      "Не получил((\n"
     ]
    },
    {
     "name": "stderr",
     "output_type": "stream",
     "text": [
      "C:\\Users\\kuang\\Anaconda3\\lib\\site-packages\\requests\\packages\\urllib3\\connectionpool.py:852: InsecureRequestWarning: Unverified HTTPS request is being made. Adding certificate verification is strongly advised. See: https://urllib3.readthedocs.io/en/latest/advanced-usage.html#ssl-warnings\n",
      "  InsecureRequestWarning)\n",
      " 2021-08-09 00:24:18,117 - WARNING - 8 rows have been translated. Translated content: Not received(( \n"
     ]
    },
    {
     "name": "stdout",
     "output_type": "stream",
     "text": [
      "товар не соответствует описанию, переходники плохо держатся, не советую\n"
     ]
    },
    {
     "name": "stderr",
     "output_type": "stream",
     "text": [
      "C:\\Users\\kuang\\Anaconda3\\lib\\site-packages\\requests\\packages\\urllib3\\connectionpool.py:852: InsecureRequestWarning: Unverified HTTPS request is being made. Adding certificate verification is strongly advised. See: https://urllib3.readthedocs.io/en/latest/advanced-usage.html#ssl-warnings\n",
      "  InsecureRequestWarning)\n",
      " 2021-08-09 00:24:28,526 - WARNING - 9 rows have been translated. Translated content: The goods do not correspond to the description, adapters are bad, I do not advise \n"
     ]
    },
    {
     "name": "stdout",
     "output_type": "stream",
     "text": [
      "ATTENTION! Fake product. It doesn't work. And you must proof that with the video... If the seller will be satisfied, you can return your money. Don't. buy from this seller!\n"
     ]
    },
    {
     "name": "stderr",
     "output_type": "stream",
     "text": [
      "C:\\Users\\kuang\\Anaconda3\\lib\\site-packages\\requests\\packages\\urllib3\\connectionpool.py:852: InsecureRequestWarning: Unverified HTTPS request is being made. Adding certificate verification is strongly advised. See: https://urllib3.readthedocs.io/en/latest/advanced-usage.html#ssl-warnings\n",
      "  InsecureRequestWarning)\n",
      " 2021-08-09 00:24:38,935 - WARNING - 10 rows have been translated. Translated content: ATTENTION! Fake product. It doesn't work. And you must proof that with the video... If the seller will be satisfied, you can return your money. Don't. buy from this seller! \n"
     ]
    },
    {
     "name": "stdout",
     "output_type": "stream",
     "text": [
      "Charger is not working at all. not able to charge my Dell laptop.\n"
     ]
    },
    {
     "name": "stderr",
     "output_type": "stream",
     "text": [
      "C:\\Users\\kuang\\Anaconda3\\lib\\site-packages\\requests\\packages\\urllib3\\connectionpool.py:852: InsecureRequestWarning: Unverified HTTPS request is being made. Adding certificate verification is strongly advised. See: https://urllib3.readthedocs.io/en/latest/advanced-usage.html#ssl-warnings\n",
      "  InsecureRequestWarning)\n",
      " 2021-08-09 00:24:49,345 - WARNING - 11 rows have been translated. Translated content: Charger is not working at all. not able to charge my Dell laptop. \n"
     ]
    },
    {
     "name": "stdout",
     "output_type": "stream",
     "text": [
      "el envio bien aunque no puedes confiar en que sea universal pues a mi no me valio ninguna clavija\n"
     ]
    },
    {
     "name": "stderr",
     "output_type": "stream",
     "text": [
      "C:\\Users\\kuang\\Anaconda3\\lib\\site-packages\\requests\\packages\\urllib3\\connectionpool.py:852: InsecureRequestWarning: Unverified HTTPS request is being made. Adding certificate verification is strongly advised. See: https://urllib3.readthedocs.io/en/latest/advanced-usage.html#ssl-warnings\n",
      "  InsecureRequestWarning)\n",
      " 2021-08-09 00:24:59,753 - WARNING - 12 rows have been translated. Translated content: the shipping well although you can not trust that it is universal because it was not worth any plug \n"
     ]
    },
    {
     "name": "stdout",
     "output_type": "stream",
     "text": [
      "Le produit n'est pas compatible avec pc lenovo. Tres dessus.....\n"
     ]
    },
    {
     "name": "stderr",
     "output_type": "stream",
     "text": [
      "C:\\Users\\kuang\\Anaconda3\\lib\\site-packages\\requests\\packages\\urllib3\\connectionpool.py:852: InsecureRequestWarning: Unverified HTTPS request is being made. Adding certificate verification is strongly advised. See: https://urllib3.readthedocs.io/en/latest/advanced-usage.html#ssl-warnings\n",
      "  InsecureRequestWarning)\n",
      " 2021-08-09 00:25:10,170 - WARNING - 13 rows have been translated. Translated content: The product is not compatible with PC Lenovo. Very on ..... \n"
     ]
    },
    {
     "name": "stdout",
     "output_type": "stream",
     "text": [
      "manque le câble secteur EU\n"
     ]
    },
    {
     "name": "stderr",
     "output_type": "stream",
     "text": [
      "C:\\Users\\kuang\\Anaconda3\\lib\\site-packages\\requests\\packages\\urllib3\\connectionpool.py:852: InsecureRequestWarning: Unverified HTTPS request is being made. Adding certificate verification is strongly advised. See: https://urllib3.readthedocs.io/en/latest/advanced-usage.html#ssl-warnings\n",
      "  InsecureRequestWarning)\n",
      " 2021-08-09 00:25:20,568 - WARNING - 14 rows have been translated. Translated content: Lacks the EU mains cable \n"
     ]
    },
    {
     "name": "stdout",
     "output_type": "stream",
     "text": [
      "nul\n"
     ]
    },
    {
     "name": "stderr",
     "output_type": "stream",
     "text": [
      "C:\\Users\\kuang\\Anaconda3\\lib\\site-packages\\requests\\packages\\urllib3\\connectionpool.py:852: InsecureRequestWarning: Unverified HTTPS request is being made. Adding certificate verification is strongly advised. See: https://urllib3.readthedocs.io/en/latest/advanced-usage.html#ssl-warnings\n",
      "  InsecureRequestWarning)\n",
      " 2021-08-09 00:25:31,006 - WARNING - 15 rows have been translated. Translated content: no \n"
     ]
    },
    {
     "name": "stdout",
     "output_type": "stream",
     "text": [
      "ok\n"
     ]
    },
    {
     "name": "stderr",
     "output_type": "stream",
     "text": [
      "C:\\Users\\kuang\\Anaconda3\\lib\\site-packages\\requests\\packages\\urllib3\\connectionpool.py:852: InsecureRequestWarning: Unverified HTTPS request is being made. Adding certificate verification is strongly advised. See: https://urllib3.readthedocs.io/en/latest/advanced-usage.html#ssl-warnings\n",
      "  InsecureRequestWarning)\n",
      " 2021-08-09 00:25:41,415 - WARNING - 16 rows have been translated. Translated content: ok \n"
     ]
    },
    {
     "name": "stdout",
     "output_type": "stream",
     "text": [
      "The Charger-Adapter works, but it gets very hot. I am worried about the long life of the adapter. The included adapter does not work with Dell (does not charge). With another adapter, the charger itself works.\n"
     ]
    },
    {
     "name": "stderr",
     "output_type": "stream",
     "text": [
      "C:\\Users\\kuang\\Anaconda3\\lib\\site-packages\\requests\\packages\\urllib3\\connectionpool.py:852: InsecureRequestWarning: Unverified HTTPS request is being made. Adding certificate verification is strongly advised. See: https://urllib3.readthedocs.io/en/latest/advanced-usage.html#ssl-warnings\n",
      "  InsecureRequestWarning)\n",
      " 2021-08-09 00:25:51,783 - WARNING - 17 rows have been translated. Translated content: The Charger-Adapter works, but it gets very hot. I am worried about the long life of the adapter. The included adapter does not work with Dell (does not charge). With another adapter, the charger itself works. \n"
     ]
    },
    {
     "name": "stdout",
     "output_type": "stream",
     "text": [
      "This adapter is NOT 90W. It may say that on the label, but it will overheat and break in a few minutes if you actually charge at 90W. This adapter made an explosion sound, and blew out my fuse! It was VERY HOT, which I guess caused a component to break and cause a short circuit. DO NOT BUY. This thing is a fire hazard. Seller also stated he would issue a refund, but then in the dispute said he needed evidence. What evidence can I give? It still looks the same, but it is broken, and I don't want to plug it in again and risk damaging my device!\n"
     ]
    },
    {
     "name": "stderr",
     "output_type": "stream",
     "text": [
      "C:\\Users\\kuang\\Anaconda3\\lib\\site-packages\\requests\\packages\\urllib3\\connectionpool.py:852: InsecureRequestWarning: Unverified HTTPS request is being made. Adding certificate verification is strongly advised. See: https://urllib3.readthedocs.io/en/latest/advanced-usage.html#ssl-warnings\n",
      "  InsecureRequestWarning)\n",
      " 2021-08-09 00:26:02,165 - WARNING - 18 rows have been translated. Translated content: This adapter is NOT 90W. It may say that on the label, but it will overheat and break in a few minutes if you actually charge at 90W. This adapter made an explosion sound, and blew out my fuse! It was VERY HOT, which I guess caused a component to break and cause a short circuit. DO NOT BUY. This thing is a fire hazard. Seller also stated he would issue a refund, but then in the dispute said he needed evidence. What evidence can I give? It still looks the same, but it is broken, and I don't want to plug it in again and risk damaging my device! \n"
     ]
    },
    {
     "name": "stdout",
     "output_type": "stream",
     "text": [
      "Aucun embout ne fonctionne pour mon HP portable. Après un essai sur un autre PC portable, le boîtier fait un claquement en continu. Cette avis ne tient cas mon cas, pas du tout satisfait de cette achat.\n"
     ]
    },
    {
     "name": "stderr",
     "output_type": "stream",
     "text": [
      "C:\\Users\\kuang\\Anaconda3\\lib\\site-packages\\requests\\packages\\urllib3\\connectionpool.py:852: InsecureRequestWarning: Unverified HTTPS request is being made. Adding certificate verification is strongly advised. See: https://urllib3.readthedocs.io/en/latest/advanced-usage.html#ssl-warnings\n",
      "  InsecureRequestWarning)\n",
      " 2021-08-09 00:26:12,556 - WARNING - 19 rows have been translated. Translated content: No tip works for my portable HP. After a test on another laptop, the housing makes a continuous snap. This notice does not have a case, not at all satisfied with this purchase. \n"
     ]
    },
    {
     "name": "stdout",
     "output_type": "stream",
     "text": [
      "commande non livrée j'attends un retour du vendeur\n"
     ]
    },
    {
     "name": "stderr",
     "output_type": "stream",
     "text": [
      "C:\\Users\\kuang\\Anaconda3\\lib\\site-packages\\requests\\packages\\urllib3\\connectionpool.py:852: InsecureRequestWarning: Unverified HTTPS request is being made. Adding certificate verification is strongly advised. See: https://urllib3.readthedocs.io/en/latest/advanced-usage.html#ssl-warnings\n",
      "  InsecureRequestWarning)\n",
      " 2021-08-09 00:26:22,953 - WARNING - 20 rows have been translated. Translated content: orders not delivered I wait for a return of the seller \n"
     ]
    },
    {
     "name": "stdout",
     "output_type": "stream",
     "text": [
      "Falta instrucciones para su uso\n"
     ]
    },
    {
     "name": "stderr",
     "output_type": "stream",
     "text": [
      "C:\\Users\\kuang\\Anaconda3\\lib\\site-packages\\requests\\packages\\urllib3\\connectionpool.py:852: InsecureRequestWarning: Unverified HTTPS request is being made. Adding certificate verification is strongly advised. See: https://urllib3.readthedocs.io/en/latest/advanced-usage.html#ssl-warnings\n",
      "  InsecureRequestWarning)\n",
      " 2021-08-09 00:26:33,354 - WARNING - 21 rows have been translated. Translated content: Missing instructions for use \n"
     ]
    },
    {
     "name": "stdout",
     "output_type": "stream",
     "text": [
      "j'ai bien reç deu l'article mais je n'ai pas le câble d'alimentation pour le secteur est ce que vous l'avez . Décu reçu deux articles et je ne suis pas dépanné dans l'attente d'une réponse favorable veuillez agréer Monsieur l'expression de mes sentiments distingués.\n"
     ]
    },
    {
     "name": "stderr",
     "output_type": "stream",
     "text": [
      "C:\\Users\\kuang\\Anaconda3\\lib\\site-packages\\requests\\packages\\urllib3\\connectionpool.py:852: InsecureRequestWarning: Unverified HTTPS request is being made. Adding certificate verification is strongly advised. See: https://urllib3.readthedocs.io/en/latest/advanced-usage.html#ssl-warnings\n",
      "  InsecureRequestWarning)\n",
      " 2021-08-09 00:26:43,783 - WARNING - 22 rows have been translated. Translated content: I have received the article, but I do not have the power cable for the area is what you have it. Decou received two items and I am not troubled waiting for a favorable response, please accept the expression of my distinguished feelings. \n"
     ]
    },
    {
     "name": "stdout",
     "output_type": "stream",
     "text": [
      "Le chargeur n a fonctionner qu'une fois . Ça fait cher le chargeur j'aurais dû rajouter 10e et le prendre en france pour avoir la garantie.\n"
     ]
    },
    {
     "name": "stderr",
     "output_type": "stream",
     "text": [
      "C:\\Users\\kuang\\Anaconda3\\lib\\site-packages\\requests\\packages\\urllib3\\connectionpool.py:852: InsecureRequestWarning: Unverified HTTPS request is being made. Adding certificate verification is strongly advised. See: https://urllib3.readthedocs.io/en/latest/advanced-usage.html#ssl-warnings\n",
      "  InsecureRequestWarning)\n",
      " 2021-08-09 00:26:54,197 - WARNING - 23 rows have been translated. Translated content: The charger is only working once. It's expensive the charger I should have added 10th and take it in France to get the guarantee. \n"
     ]
    },
    {
     "name": "stdout",
     "output_type": "stream",
     "text": [
      "never came\n"
     ]
    },
    {
     "name": "stderr",
     "output_type": "stream",
     "text": [
      "C:\\Users\\kuang\\Anaconda3\\lib\\site-packages\\requests\\packages\\urllib3\\connectionpool.py:852: InsecureRequestWarning: Unverified HTTPS request is being made. Adding certificate verification is strongly advised. See: https://urllib3.readthedocs.io/en/latest/advanced-usage.html#ssl-warnings\n",
      "  InsecureRequestWarning)\n",
      " 2021-08-09 00:27:04,577 - WARNING - 24 rows have been translated. Translated content: never came \n"
     ]
    },
    {
     "name": "stdout",
     "output_type": "stream",
     "text": [
      "Pas spécifié qui y a pas le cordon\n"
     ]
    },
    {
     "name": "stderr",
     "output_type": "stream",
     "text": [
      "C:\\Users\\kuang\\Anaconda3\\lib\\site-packages\\requests\\packages\\urllib3\\connectionpool.py:852: InsecureRequestWarning: Unverified HTTPS request is being made. Adding certificate verification is strongly advised. See: https://urllib3.readthedocs.io/en/latest/advanced-usage.html#ssl-warnings\n",
      "  InsecureRequestWarning)\n",
      " 2021-08-09 00:27:15,013 - WARNING - 25 rows have been translated. Translated content: Not specified that is not the cord \n"
     ]
    },
    {
     "name": "stdout",
     "output_type": "stream",
     "text": [
      "The delivery was very speedy which was amazing. However: The different adapter ends which go into your laptop are NOT the same as the ones on the picture themselves. I specifically was hoping that I would get the blue one which wasn't included, alongside some changes to others. Very disappointed.\n"
     ]
    },
    {
     "name": "stderr",
     "output_type": "stream",
     "text": [
      "C:\\Users\\kuang\\Anaconda3\\lib\\site-packages\\requests\\packages\\urllib3\\connectionpool.py:852: InsecureRequestWarning: Unverified HTTPS request is being made. Adding certificate verification is strongly advised. See: https://urllib3.readthedocs.io/en/latest/advanced-usage.html#ssl-warnings\n",
      "  InsecureRequestWarning)\n",
      " 2021-08-09 00:27:25,406 - WARNING - 26 rows have been translated. Translated content: The delivery was very speedy which was amazing. However: The different adapter ends which go into your laptop are NOT the same as the ones on the picture themselves. I specifically was hoping that I would get the blue one which wasn't included, alongside some changes to others. Very disappointed. \n"
     ]
    },
    {
     "name": "stdout",
     "output_type": "stream",
     "text": [
      "לא עובד עם מחשב dell insprion 14 המוכר לא עשה החזר כספי למרות שהבטיח לעשות זאת. לא ממולץ לקנות. להתרחק ממנו. עדיף לקנות ממקום אחר.\n"
     ]
    },
    {
     "name": "stderr",
     "output_type": "stream",
     "text": [
      "C:\\Users\\kuang\\Anaconda3\\lib\\site-packages\\requests\\packages\\urllib3\\connectionpool.py:852: InsecureRequestWarning: Unverified HTTPS request is being made. Adding certificate verification is strongly advised. See: https://urllib3.readthedocs.io/en/latest/advanced-usage.html#ssl-warnings\n",
      "  InsecureRequestWarning)\n",
      " 2021-08-09 00:27:35,793 - WARNING - 27 rows have been translated. Translated content: Does not work with Dell Insprion 14 seller not made refund even though he promised to do so. Not contaminated to buy. Stay away from him. It is better to buy from another place. \n"
     ]
    },
    {
     "name": "stdout",
     "output_type": "stream",
     "text": [
      "dommage le fil qui va à la prise n est pas livré avec dessus\n"
     ]
    },
    {
     "name": "stderr",
     "output_type": "stream",
     "text": [
      "C:\\Users\\kuang\\Anaconda3\\lib\\site-packages\\requests\\packages\\urllib3\\connectionpool.py:852: InsecureRequestWarning: Unverified HTTPS request is being made. Adding certificate verification is strongly advised. See: https://urllib3.readthedocs.io/en/latest/advanced-usage.html#ssl-warnings\n",
      "  InsecureRequestWarning)\n",
      " 2021-08-09 00:27:46,216 - WARNING - 28 rows have been translated. Translated content: Too bad the thread that goes to the socket is not delivered with above \n"
     ]
    },
    {
     "name": "stdout",
     "output_type": "stream",
     "text": [
      "este artículo no es que ha perdido no tiene cable para enchufarlo\n"
     ]
    },
    {
     "name": "stderr",
     "output_type": "stream",
     "text": [
      "C:\\Users\\kuang\\Anaconda3\\lib\\site-packages\\requests\\packages\\urllib3\\connectionpool.py:852: InsecureRequestWarning: Unverified HTTPS request is being made. Adding certificate verification is strongly advised. See: https://urllib3.readthedocs.io/en/latest/advanced-usage.html#ssl-warnings\n",
      "  InsecureRequestWarning)\n",
      " 2021-08-09 00:27:56,637 - WARNING - 29 rows have been translated. Translated content: This article is not that it has lost it has no cable to plug it up \n"
     ]
    },
    {
     "name": "stdout",
     "output_type": "stream",
     "text": [
      "Hello - I did not receive this order - What should I do?\n"
     ]
    },
    {
     "name": "stderr",
     "output_type": "stream",
     "text": [
      "C:\\Users\\kuang\\Anaconda3\\lib\\site-packages\\requests\\packages\\urllib3\\connectionpool.py:852: InsecureRequestWarning: Unverified HTTPS request is being made. Adding certificate verification is strongly advised. See: https://urllib3.readthedocs.io/en/latest/advanced-usage.html#ssl-warnings\n",
      "  InsecureRequestWarning)\n",
      " 2021-08-09 00:28:07,075 - WARNING - 30 rows have been translated. Translated content: Hello - I did not receive this order - What should I do? \n"
     ]
    },
    {
     "name": "stdout",
     "output_type": "stream",
     "text": [
      "No le sirve a mi portátil hp ninguna de las clavijas\n"
     ]
    },
    {
     "name": "stderr",
     "output_type": "stream",
     "text": [
      "C:\\Users\\kuang\\Anaconda3\\lib\\site-packages\\requests\\packages\\urllib3\\connectionpool.py:852: InsecureRequestWarning: Unverified HTTPS request is being made. Adding certificate verification is strongly advised. See: https://urllib3.readthedocs.io/en/latest/advanced-usage.html#ssl-warnings\n",
      "  InsecureRequestWarning)\n",
      " 2021-08-09 00:28:17,472 - WARNING - 31 rows have been translated. Translated content: It does not serve my HP laptop any of the pegs \n"
     ]
    },
    {
     "name": "stdout",
     "output_type": "stream",
     "text": [
      "No trae el cableado para poder usarlo\n"
     ]
    },
    {
     "name": "stderr",
     "output_type": "stream",
     "text": [
      "C:\\Users\\kuang\\Anaconda3\\lib\\site-packages\\requests\\packages\\urllib3\\connectionpool.py:852: InsecureRequestWarning: Unverified HTTPS request is being made. Adding certificate verification is strongly advised. See: https://urllib3.readthedocs.io/en/latest/advanced-usage.html#ssl-warnings\n",
      "  InsecureRequestWarning)\n",
      " 2021-08-09 00:28:27,892 - WARNING - 32 rows have been translated. Translated content: Does not bring the wiring to be able to use it \n"
     ]
    },
    {
     "name": "stdout",
     "output_type": "stream",
     "text": [
      "The description of the product not inform about the power 220cord is not in the package. This is absolutely unacceptable. You can't use it.\n"
     ]
    },
    {
     "name": "stderr",
     "output_type": "stream",
     "text": [
      "C:\\Users\\kuang\\Anaconda3\\lib\\site-packages\\requests\\packages\\urllib3\\connectionpool.py:852: InsecureRequestWarning: Unverified HTTPS request is being made. Adding certificate verification is strongly advised. See: https://urllib3.readthedocs.io/en/latest/advanced-usage.html#ssl-warnings\n",
      "  InsecureRequestWarning)\n",
      " 2021-08-09 00:28:38,319 - WARNING - 33 rows have been translated. Translated content: The description of the product not inform about the power 220cord is not in the package. This is absolutely unacceptable. You can't use it. \n"
     ]
    },
    {
     "name": "stdout",
     "output_type": "stream",
     "text": [
      "this product is a danger for your home. hopefully my electric installation is resilient. it just blow the fuse as it causes a short circuit. if you have any doubt, the power cable is used elsewhere without issues at all a detail to picture it : do you remember the smell of a melt plastic ? if so, you know exactly what I just witness.\n"
     ]
    },
    {
     "name": "stderr",
     "output_type": "stream",
     "text": [
      "C:\\Users\\kuang\\Anaconda3\\lib\\site-packages\\requests\\packages\\urllib3\\connectionpool.py:852: InsecureRequestWarning: Unverified HTTPS request is being made. Adding certificate verification is strongly advised. See: https://urllib3.readthedocs.io/en/latest/advanced-usage.html#ssl-warnings\n",
      "  InsecureRequestWarning)\n",
      " 2021-08-09 00:28:48,730 - WARNING - 34 rows have been translated. Translated content: this product is a danger for your home. hopefully my electric installation is resilient. it just blow the fuse as it causes a short circuit. if you have any doubt, the power cable is used elsewhere without issues at all a detail to picture it : do you remember the smell of a melt plastic ? if so, you know exactly what I just witness. \n"
     ]
    },
    {
     "name": "stdout",
     "output_type": "stream",
     "text": [
      "В комплекте нет коннектора для Asus M570 M570D M570DD,K570 K570Z K570ZD,Q547 Q547F Q547FD,ZenBook 15 UX534FT UX534FTC, нужен сonnector size:4.5*3.0mm Все коннекторы имеют свои названия, неужели трудно в описании перечислить то что есть в этом комплекте? Я сильно разочарован, продавец на вопрос не отвечает.\n"
     ]
    },
    {
     "name": "stderr",
     "output_type": "stream",
     "text": [
      "C:\\Users\\kuang\\Anaconda3\\lib\\site-packages\\requests\\packages\\urllib3\\connectionpool.py:852: InsecureRequestWarning: Unverified HTTPS request is being made. Adding certificate verification is strongly advised. See: https://urllib3.readthedocs.io/en/latest/advanced-usage.html#ssl-warnings\n",
      "  InsecureRequestWarning)\n",
      " 2021-08-09 00:28:59,131 - WARNING - 35 rows have been translated. Translated content: Includes no connector for ASUS M570 M570D M570DD, K570 K570D K570ZD, Q547 Q547F Q547FD, Zenbook 15 UX534FT UX534FTC, you need Sonnector Size: 4.5 * 3.0mm All connectors have their own names, is it really difficult to list what is in this set? I am very disappointed, the seller does not answer the question. \n"
     ]
    },
    {
     "name": "stdout",
     "output_type": "stream",
     "text": [
      "отсутствует кабель на 220 вольт\n"
     ]
    },
    {
     "name": "stderr",
     "output_type": "stream",
     "text": [
      "C:\\Users\\kuang\\Anaconda3\\lib\\site-packages\\requests\\packages\\urllib3\\connectionpool.py:852: InsecureRequestWarning: Unverified HTTPS request is being made. Adding certificate verification is strongly advised. See: https://urllib3.readthedocs.io/en/latest/advanced-usage.html#ssl-warnings\n",
      "  InsecureRequestWarning)\n",
      " 2021-08-09 00:29:09,549 - WARNING - 36 rows have been translated. Translated content: There is no 220 volt cable \n"
     ]
    },
    {
     "name": "stdout",
     "output_type": "stream",
     "text": [
      "Aucun sérieux du vendeur! Objet recu défectueux et aucune réponse du vendeur et renvoi à mes frais d’apres aliexpress donc j’ai abandonner vu le montant du renvoi colis postal!!! Le double du prix d’achat ....je ne conseil pas!!!\n"
     ]
    },
    {
     "name": "stderr",
     "output_type": "stream",
     "text": [
      "C:\\Users\\kuang\\Anaconda3\\lib\\site-packages\\requests\\packages\\urllib3\\connectionpool.py:852: InsecureRequestWarning: Unverified HTTPS request is being made. Adding certificate verification is strongly advised. See: https://urllib3.readthedocs.io/en/latest/advanced-usage.html#ssl-warnings\n",
      "  InsecureRequestWarning)\n",
      " 2021-08-09 00:29:19,933 - WARNING - 37 rows have been translated. Translated content: No seriousness of the seller! Object received defective and no reply from the seller and reference to my expenses after Aliexpress so I have abandoned the amount of the return Postal parcel !!! Double the purchase price .... I do not advice !!! \n"
     ]
    },
    {
     "name": "stdout",
     "output_type": "stream",
     "text": [
      "Does not work on my dell computer\n"
     ]
    },
    {
     "name": "stderr",
     "output_type": "stream",
     "text": [
      "C:\\Users\\kuang\\Anaconda3\\lib\\site-packages\\requests\\packages\\urllib3\\connectionpool.py:852: InsecureRequestWarning: Unverified HTTPS request is being made. Adding certificate verification is strongly advised. See: https://urllib3.readthedocs.io/en/latest/advanced-usage.html#ssl-warnings\n",
      "  InsecureRequestWarning)\n",
      " 2021-08-09 00:29:30,314 - WARNING - 38 rows have been translated. Translated content: Does not work on my dell computer \n"
     ]
    },
    {
     "name": "stdout",
     "output_type": "stream",
     "text": [
      "Dommage il n'y pas de câble secteur qui va avec\n"
     ]
    },
    {
     "name": "stderr",
     "output_type": "stream",
     "text": [
      "C:\\Users\\kuang\\Anaconda3\\lib\\site-packages\\requests\\packages\\urllib3\\connectionpool.py:852: InsecureRequestWarning: Unverified HTTPS request is being made. Adding certificate verification is strongly advised. See: https://urllib3.readthedocs.io/en/latest/advanced-usage.html#ssl-warnings\n",
      "  InsecureRequestWarning)\n",
      " 2021-08-09 00:29:40,719 - WARNING - 39 rows have been translated. Translated content: Pity there is no power cable that goes with \n"
     ]
    },
    {
     "name": "stdout",
     "output_type": "stream",
     "text": [
      "item is non-functional.\n"
     ]
    },
    {
     "name": "stderr",
     "output_type": "stream",
     "text": [
      "C:\\Users\\kuang\\Anaconda3\\lib\\site-packages\\requests\\packages\\urllib3\\connectionpool.py:852: InsecureRequestWarning: Unverified HTTPS request is being made. Adding certificate verification is strongly advised. See: https://urllib3.readthedocs.io/en/latest/advanced-usage.html#ssl-warnings\n",
      "  InsecureRequestWarning)\n",
      " 2021-08-09 00:29:51,141 - WARNING - 40 rows have been translated. Translated content: item is non-functional. \n"
     ]
    },
    {
     "name": "stdout",
     "output_type": "stream",
     "text": [
      "never got the parcel, seller refunded me\n"
     ]
    },
    {
     "name": "stderr",
     "output_type": "stream",
     "text": [
      "C:\\Users\\kuang\\Anaconda3\\lib\\site-packages\\requests\\packages\\urllib3\\connectionpool.py:852: InsecureRequestWarning: Unverified HTTPS request is being made. Adding certificate verification is strongly advised. See: https://urllib3.readthedocs.io/en/latest/advanced-usage.html#ssl-warnings\n",
      "  InsecureRequestWarning)\n",
      " 2021-08-09 00:30:01,581 - WARNING - 41 rows have been translated. Translated content: never got the parcel, seller refunded me \n"
     ]
    },
    {
     "name": "stdout",
     "output_type": "stream",
     "text": [
      "Péssimo não recebi o produto nem o reembolso\n"
     ]
    },
    {
     "name": "stderr",
     "output_type": "stream",
     "text": [
      "C:\\Users\\kuang\\Anaconda3\\lib\\site-packages\\requests\\packages\\urllib3\\connectionpool.py:852: InsecureRequestWarning: Unverified HTTPS request is being made. Adding certificate verification is strongly advised. See: https://urllib3.readthedocs.io/en/latest/advanced-usage.html#ssl-warnings\n",
      "  InsecureRequestWarning)\n",
      " 2021-08-09 00:30:11,989 - WARNING - 42 rows have been translated. Translated content: Bad I did not receive the product nor the refund \n"
     ]
    },
    {
     "name": "stdout",
     "output_type": "stream",
     "text": [
      "the charger have burn after 30 min\n"
     ]
    },
    {
     "name": "stderr",
     "output_type": "stream",
     "text": [
      "C:\\Users\\kuang\\Anaconda3\\lib\\site-packages\\requests\\packages\\urllib3\\connectionpool.py:852: InsecureRequestWarning: Unverified HTTPS request is being made. Adding certificate verification is strongly advised. See: https://urllib3.readthedocs.io/en/latest/advanced-usage.html#ssl-warnings\n",
      "  InsecureRequestWarning)\n",
      " 2021-08-09 00:30:22,396 - WARNING - 43 rows have been translated. Translated content: the charger have burn after 30 min \n"
     ]
    },
    {
     "name": "stdout",
     "output_type": "stream",
     "text": [
      "заказ до сих пор не получила верните деньги\n"
     ]
    },
    {
     "name": "stderr",
     "output_type": "stream",
     "text": [
      "C:\\Users\\kuang\\Anaconda3\\lib\\site-packages\\requests\\packages\\urllib3\\connectionpool.py:852: InsecureRequestWarning: Unverified HTTPS request is being made. Adding certificate verification is strongly advised. See: https://urllib3.readthedocs.io/en/latest/advanced-usage.html#ssl-warnings\n",
      "  InsecureRequestWarning)\n",
      " 2021-08-09 00:30:32,816 - WARNING - 44 rows have been translated. Translated content: the order has not yet received return the money \n"
     ]
    },
    {
     "name": "stdout",
     "output_type": "stream",
     "text": [
      "לא מתאים לhp\n"
     ]
    },
    {
     "name": "stderr",
     "output_type": "stream",
     "text": [
      "C:\\Users\\kuang\\Anaconda3\\lib\\site-packages\\requests\\packages\\urllib3\\connectionpool.py:852: InsecureRequestWarning: Unverified HTTPS request is being made. Adding certificate verification is strongly advised. See: https://urllib3.readthedocs.io/en/latest/advanced-usage.html#ssl-warnings\n",
      "  InsecureRequestWarning)\n",
      " 2021-08-09 00:30:43,226 - WARNING - 45 rows have been translated. Translated content: Not suitable for HP \n"
     ]
    },
    {
     "name": "stdout",
     "output_type": "stream",
     "text": [
      "4.5mm hp nicht vorhanden\n"
     ]
    },
    {
     "name": "stderr",
     "output_type": "stream",
     "text": [
      "C:\\Users\\kuang\\Anaconda3\\lib\\site-packages\\requests\\packages\\urllib3\\connectionpool.py:852: InsecureRequestWarning: Unverified HTTPS request is being made. Adding certificate verification is strongly advised. See: https://urllib3.readthedocs.io/en/latest/advanced-usage.html#ssl-warnings\n",
      "  InsecureRequestWarning)\n",
      " 2021-08-09 00:30:53,677 - WARNING - 46 rows have been translated. Translated content: 4.5mm HP not available \n"
     ]
    },
    {
     "name": "stdout",
     "output_type": "stream",
     "text": [
      "doesn't work with my N71Jv :/ but ok with my lattitude\n"
     ]
    },
    {
     "name": "stderr",
     "output_type": "stream",
     "text": [
      "C:\\Users\\kuang\\Anaconda3\\lib\\site-packages\\requests\\packages\\urllib3\\connectionpool.py:852: InsecureRequestWarning: Unverified HTTPS request is being made. Adding certificate verification is strongly advised. See: https://urllib3.readthedocs.io/en/latest/advanced-usage.html#ssl-warnings\n",
      "  InsecureRequestWarning)\n",
      " 2021-08-09 00:31:04,071 - WARNING - 47 rows have been translated. Translated content: doesn't work with my N71Jv :/ but ok with my latitude \n"
     ]
    },
    {
     "name": "stdout",
     "output_type": "stream",
     "text": [
      "El producto no es compatible con portatil HP\n"
     ]
    },
    {
     "name": "stderr",
     "output_type": "stream",
     "text": [
      "C:\\Users\\kuang\\Anaconda3\\lib\\site-packages\\requests\\packages\\urllib3\\connectionpool.py:852: InsecureRequestWarning: Unverified HTTPS request is being made. Adding certificate verification is strongly advised. See: https://urllib3.readthedocs.io/en/latest/advanced-usage.html#ssl-warnings\n",
      "  InsecureRequestWarning)\n",
      " 2021-08-09 00:31:14,485 - WARNING - 48 rows have been translated. Translated content: The product is not compatible with HP portable \n"
     ]
    },
    {
     "name": "stdout",
     "output_type": "stream",
     "text": [
      "J'aimerais bien donner mon avis si je l'avais reçu. Il y a de cela plus 100 jours.\n"
     ]
    },
    {
     "name": "stderr",
     "output_type": "stream",
     "text": [
      "C:\\Users\\kuang\\Anaconda3\\lib\\site-packages\\requests\\packages\\urllib3\\connectionpool.py:852: InsecureRequestWarning: Unverified HTTPS request is being made. Adding certificate verification is strongly advised. See: https://urllib3.readthedocs.io/en/latest/advanced-usage.html#ssl-warnings\n",
      "  InsecureRequestWarning)\n",
      " 2021-08-09 00:31:24,927 - WARNING - 49 rows have been translated. Translated content: I would like to give my opinion if I had received it. There is more 100 days. \n"
     ]
    },
    {
     "name": "stdout",
     "output_type": "stream",
     "text": [
      "Le falta el cable de alimentación de la corriente\n"
     ]
    },
    {
     "name": "stderr",
     "output_type": "stream",
     "text": [
      "C:\\Users\\kuang\\Anaconda3\\lib\\site-packages\\requests\\packages\\urllib3\\connectionpool.py:852: InsecureRequestWarning: Unverified HTTPS request is being made. Adding certificate verification is strongly advised. See: https://urllib3.readthedocs.io/en/latest/advanced-usage.html#ssl-warnings\n",
      "  InsecureRequestWarning)\n",
      " 2021-08-09 00:31:35,329 - WARNING - 50 rows have been translated. Translated content: The power cord is missing from the power \n"
     ]
    },
    {
     "name": "stdout",
     "output_type": "stream",
     "text": [
      "Not compatible with HP omen. Bad election\n"
     ]
    },
    {
     "name": "stderr",
     "output_type": "stream",
     "text": [
      "C:\\Users\\kuang\\Anaconda3\\lib\\site-packages\\requests\\packages\\urllib3\\connectionpool.py:852: InsecureRequestWarning: Unverified HTTPS request is being made. Adding certificate verification is strongly advised. See: https://urllib3.readthedocs.io/en/latest/advanced-usage.html#ssl-warnings\n",
      "  InsecureRequestWarning)\n",
      " 2021-08-09 00:31:45,716 - WARNING - 51 rows have been translated. Translated content: Not compatible with HP omen. Bad election \n"
     ]
    },
    {
     "name": "stdout",
     "output_type": "stream",
     "text": [
      "Не дошла посылка,жду возврата денег☹\n"
     ]
    },
    {
     "name": "stderr",
     "output_type": "stream",
     "text": [
      "C:\\Users\\kuang\\Anaconda3\\lib\\site-packages\\requests\\packages\\urllib3\\connectionpool.py:852: InsecureRequestWarning: Unverified HTTPS request is being made. Adding certificate verification is strongly advised. See: https://urllib3.readthedocs.io/en/latest/advanced-usage.html#ssl-warnings\n",
      "  InsecureRequestWarning)\n",
      " 2021-08-09 00:31:56,122 - WARNING - 52 rows have been translated. Translated content: Did not reach the parcel, waiting for the return of money \n"
     ]
    },
    {
     "name": "stdout",
     "output_type": "stream",
     "text": [
      "Нет сетевого кабеля, нужно докупать отдельно.\n"
     ]
    },
    {
     "name": "stderr",
     "output_type": "stream",
     "text": [
      "C:\\Users\\kuang\\Anaconda3\\lib\\site-packages\\requests\\packages\\urllib3\\connectionpool.py:852: InsecureRequestWarning: Unverified HTTPS request is being made. Adding certificate verification is strongly advised. See: https://urllib3.readthedocs.io/en/latest/advanced-usage.html#ssl-warnings\n",
      "  InsecureRequestWarning)\n",
      " 2021-08-09 00:32:06,536 - WARNING - 53 rows have been translated. Translated content: No network cable, you need to buy separately. \n"
     ]
    },
    {
     "name": "stdout",
     "output_type": "stream",
     "text": [
      "לא מתאים למחשב HP . אף אחד מהם לא התאים\n"
     ]
    },
    {
     "name": "stderr",
     "output_type": "stream",
     "text": [
      "C:\\Users\\kuang\\Anaconda3\\lib\\site-packages\\requests\\packages\\urllib3\\connectionpool.py:852: InsecureRequestWarning: Unverified HTTPS request is being made. Adding certificate verification is strongly advised. See: https://urllib3.readthedocs.io/en/latest/advanced-usage.html#ssl-warnings\n",
      "  InsecureRequestWarning)\n",
      " 2021-08-09 00:32:16,977 - WARNING - 54 rows have been translated. Translated content: Not suitable for HP PC. None of them cells \n"
     ]
    },
    {
     "name": "stdout",
     "output_type": "stream",
     "text": [
      "Cable is little lose on connection and no other part of the cable which goes to power.\n"
     ]
    },
    {
     "name": "stderr",
     "output_type": "stream",
     "text": [
      "C:\\Users\\kuang\\Anaconda3\\lib\\site-packages\\requests\\packages\\urllib3\\connectionpool.py:852: InsecureRequestWarning: Unverified HTTPS request is being made. Adding certificate verification is strongly advised. See: https://urllib3.readthedocs.io/en/latest/advanced-usage.html#ssl-warnings\n",
      "  InsecureRequestWarning)\n",
      " 2021-08-09 00:32:27,356 - WARNING - 55 rows have been translated. Translated content: Cable is little lose on connection and no other part of the cable which goes to power. \n"
     ]
    },
    {
     "name": "stdout",
     "output_type": "stream",
     "text": [
      "Do not charge my laptop\n"
     ]
    },
    {
     "name": "stderr",
     "output_type": "stream",
     "text": [
      "C:\\Users\\kuang\\Anaconda3\\lib\\site-packages\\requests\\packages\\urllib3\\connectionpool.py:852: InsecureRequestWarning: Unverified HTTPS request is being made. Adding certificate verification is strongly advised. See: https://urllib3.readthedocs.io/en/latest/advanced-usage.html#ssl-warnings\n",
      "  InsecureRequestWarning)\n",
      " 2021-08-09 00:32:37,768 - WARNING - 56 rows have been translated. Translated content: Do not charge my laptop \n"
     ]
    },
    {
     "name": "stdout",
     "output_type": "stream",
     "text": [
      "El producto salio defectuoso y no sirve y porfavor quiero que mereenbolcen el dinero gracias\n"
     ]
    },
    {
     "name": "stderr",
     "output_type": "stream",
     "text": [
      "C:\\Users\\kuang\\Anaconda3\\lib\\site-packages\\requests\\packages\\urllib3\\connectionpool.py:852: InsecureRequestWarning: Unverified HTTPS request is being made. Adding certificate verification is strongly advised. See: https://urllib3.readthedocs.io/en/latest/advanced-usage.html#ssl-warnings\n",
      "  InsecureRequestWarning)\n",
      " 2021-08-09 00:32:48,191 - WARNING - 57 rows have been translated. Translated content: The product came out defective and it does not serve and please I want you to mereen the money thanks \n"
     ]
    },
    {
     "name": "stdout",
     "output_type": "stream",
     "text": [
      "Faut être sure de l’achat parce que moi ça ne marche pas j’ai envoyé un message pour un échange ou un remboursement et ils ne répondent jamais faites très attention mauvais vendeur\n"
     ]
    },
    {
     "name": "stderr",
     "output_type": "stream",
     "text": [
      "C:\\Users\\kuang\\Anaconda3\\lib\\site-packages\\requests\\packages\\urllib3\\connectionpool.py:852: InsecureRequestWarning: Unverified HTTPS request is being made. Adding certificate verification is strongly advised. See: https://urllib3.readthedocs.io/en/latest/advanced-usage.html#ssl-warnings\n",
      "  InsecureRequestWarning)\n",
      " 2021-08-09 00:32:58,594 - WARNING - 58 rows have been translated. Translated content: Must be sure of buying because I do not work I sent a message for an exchange or a refund and they never answer very care badly bad seller \n"
     ]
    },
    {
     "name": "stdout",
     "output_type": "stream",
     "text": [
      "I've been waiting since June....\n"
     ]
    },
    {
     "name": "stderr",
     "output_type": "stream",
     "text": [
      "C:\\Users\\kuang\\Anaconda3\\lib\\site-packages\\requests\\packages\\urllib3\\connectionpool.py:852: InsecureRequestWarning: Unverified HTTPS request is being made. Adding certificate verification is strongly advised. See: https://urllib3.readthedocs.io/en/latest/advanced-usage.html#ssl-warnings\n",
      "  InsecureRequestWarning)\n",
      " 2021-08-09 00:33:08,993 - WARNING - 59 rows have been translated. Translated content: I've been waiting since June.... \n"
     ]
    },
    {
     "name": "stdout",
     "output_type": "stream",
     "text": [
      "Nicht gut\n"
     ]
    },
    {
     "name": "stderr",
     "output_type": "stream",
     "text": [
      "C:\\Users\\kuang\\Anaconda3\\lib\\site-packages\\requests\\packages\\urllib3\\connectionpool.py:852: InsecureRequestWarning: Unverified HTTPS request is being made. Adding certificate verification is strongly advised. See: https://urllib3.readthedocs.io/en/latest/advanced-usage.html#ssl-warnings\n",
      "  InsecureRequestWarning)\n",
      " 2021-08-09 00:33:19,387 - WARNING - 60 rows have been translated. Translated content: not good \n"
     ]
    },
    {
     "name": "stdout",
     "output_type": "stream",
     "text": [
      "The item broke the first minute i used it.\n"
     ]
    },
    {
     "name": "stderr",
     "output_type": "stream",
     "text": [
      "C:\\Users\\kuang\\Anaconda3\\lib\\site-packages\\requests\\packages\\urllib3\\connectionpool.py:852: InsecureRequestWarning: Unverified HTTPS request is being made. Adding certificate verification is strongly advised. See: https://urllib3.readthedocs.io/en/latest/advanced-usage.html#ssl-warnings\n",
      "  InsecureRequestWarning)\n",
      " 2021-08-09 00:33:29,787 - WARNING - 61 rows have been translated. Translated content: The item broke the first minute i used it. \n"
     ]
    },
    {
     "name": "stdout",
     "output_type": "stream",
     "text": [
      "Покупал для монитора. Монитор с ним мигает, работать невозможно. Для чего-то другого он может и сгодится\n"
     ]
    },
    {
     "name": "stderr",
     "output_type": "stream",
     "text": [
      "C:\\Users\\kuang\\Anaconda3\\lib\\site-packages\\requests\\packages\\urllib3\\connectionpool.py:852: InsecureRequestWarning: Unverified HTTPS request is being made. Adding certificate verification is strongly advised. See: https://urllib3.readthedocs.io/en/latest/advanced-usage.html#ssl-warnings\n",
      "  InsecureRequestWarning)\n",
      " 2021-08-09 00:33:40,192 - WARNING - 62 rows have been translated. Translated content: Bought for the monitor. The monitor flashes with it, it is impossible to work. For something else, he can fit \n"
     ]
    },
    {
     "name": "stdout",
     "output_type": "stream",
     "text": [
      "Посылка не пришла, к сожалению\n"
     ]
    },
    {
     "name": "stderr",
     "output_type": "stream",
     "text": [
      "C:\\Users\\kuang\\Anaconda3\\lib\\site-packages\\requests\\packages\\urllib3\\connectionpool.py:852: InsecureRequestWarning: Unverified HTTPS request is being made. Adding certificate verification is strongly advised. See: https://urllib3.readthedocs.io/en/latest/advanced-usage.html#ssl-warnings\n",
      "  InsecureRequestWarning)\n",
      " 2021-08-09 00:33:50,592 - WARNING - 63 rows have been translated. Translated content: The parcel did not come, unfortunately \n"
     ]
    },
    {
     "name": "stdout",
     "output_type": "stream",
     "text": [
      "Думал нормальный блок питания, всё с виду красиво, об отсутствии штекера 220v уже был предупреждён заранее. Посылка отслеживалась до порога, вопросов нет. Вскрыв его я был в шоке, это какой-то испанский стыд. Ему цена 500₽ вместе с переходниками. Распайка только с 1 стороны платы, smd на другой стороне вообще нет, дроссели и другие компоненты отсутствуют для удешевления и облегчения производства. До этого брал с AliExpress другой универсальный блок питания бренда \"noname\", фотка ниже, у него были примерно такие же компоненты на плате, за исключением переключателя напряжения, при работе был запах пластика и в итоге за 1.5 часа сгорел. В этом я вообще не уверен. Припаял другое гнездо на вилку 220v, наделал дырок, под радиатор термопасту нанёс, в итоге греется как чёрт, весь! Блоку питания ничем не помочь, вообще. Греется даже трансформатор! Прошу вас, остерегайтесь этой модели ZH-65-258. Там есть только 1 предохранитель, если он не сработает, то блок или убьёт ваш ноутбук или сгорит.\n"
     ]
    },
    {
     "name": "stderr",
     "output_type": "stream",
     "text": [
      "C:\\Users\\kuang\\Anaconda3\\lib\\site-packages\\requests\\packages\\urllib3\\connectionpool.py:852: InsecureRequestWarning: Unverified HTTPS request is being made. Adding certificate verification is strongly advised. See: https://urllib3.readthedocs.io/en/latest/advanced-usage.html#ssl-warnings\n",
      "  InsecureRequestWarning)\n",
      " 2021-08-09 00:34:01,044 - WARNING - 64 rows have been translated. Translated content: I thought a normal power supply, everything looks beautiful, about the absence of a plug of 220V was already warned in advance. The parcel was tracked to the threshold, there are no questions. I was in shock with a shock, this is some kind of Spanish shame. It is the price of 500₽ along with adapters. Spacking only with 1 side of the board, SMD on the other side is generally no, chokes and other components are absent for cheaper and facilitate production. Prior to that, he took with the Aliexpress other universal power supply of the \"Noname\" brand, the photo below, he had about the same components on the board, with the exception of the voltage switch, the smell of plastic was the smell of plastic and in the end of 1.5 hours burned down. I'm not sure about this. Speed ​​another nest on the plug 220V, endowed holes, under the radiator the thermal fever, in the end heels like a damn, all! The power supply does not help anything, in general. Even a transformer is heated! I ask you, beware of this model ZH-65-258. There is only 1 fuse if it does not work, the block or kills your laptop or burns. \n"
     ]
    },
    {
     "name": "stdout",
     "output_type": "stream",
     "text": [
      "article non utilisable, car je me rends compte qu'il est vendu sans la partie câble qui se branche à une prise électrique. Je le renvoie au vendeur.\n"
     ]
    },
    {
     "name": "stderr",
     "output_type": "stream",
     "text": [
      "C:\\Users\\kuang\\Anaconda3\\lib\\site-packages\\requests\\packages\\urllib3\\connectionpool.py:852: InsecureRequestWarning: Unverified HTTPS request is being made. Adding certificate verification is strongly advised. See: https://urllib3.readthedocs.io/en/latest/advanced-usage.html#ssl-warnings\n",
      "  InsecureRequestWarning)\n",
      " 2021-08-09 00:34:11,433 - WARNING - 65 rows have been translated. Translated content: Article not usable because I realize that it is sold without the cable part that plugs into an electrical outlet. I send it back to the seller. \n"
     ]
    },
    {
     "name": "stdout",
     "output_type": "stream",
     "text": [
      "No vale para HP. mal\n"
     ]
    },
    {
     "name": "stderr",
     "output_type": "stream",
     "text": [
      "C:\\Users\\kuang\\Anaconda3\\lib\\site-packages\\requests\\packages\\urllib3\\connectionpool.py:852: InsecureRequestWarning: Unverified HTTPS request is being made. Adding certificate verification is strongly advised. See: https://urllib3.readthedocs.io/en/latest/advanced-usage.html#ssl-warnings\n",
      "  InsecureRequestWarning)\n",
      " 2021-08-09 00:34:21,858 - WARNING - 66 rows have been translated. Translated content: It is not worth HP. evil \n"
     ]
    },
    {
     "name": "stdout",
     "output_type": "stream",
     "text": [
      "très bon produit\n"
     ]
    },
    {
     "name": "stderr",
     "output_type": "stream",
     "text": [
      "C:\\Users\\kuang\\Anaconda3\\lib\\site-packages\\requests\\packages\\urllib3\\connectionpool.py:852: InsecureRequestWarning: Unverified HTTPS request is being made. Adding certificate verification is strongly advised. See: https://urllib3.readthedocs.io/en/latest/advanced-usage.html#ssl-warnings\n",
      "  InsecureRequestWarning)\n",
      " 2021-08-09 00:34:32,243 - WARNING - 67 rows have been translated. Translated content: very good product \n"
     ]
    },
    {
     "name": "stdout",
     "output_type": "stream",
     "text": [
      "It got burned in the first 10 minutes of operation\n"
     ]
    },
    {
     "name": "stderr",
     "output_type": "stream",
     "text": [
      "C:\\Users\\kuang\\Anaconda3\\lib\\site-packages\\requests\\packages\\urllib3\\connectionpool.py:852: InsecureRequestWarning: Unverified HTTPS request is being made. Adding certificate verification is strongly advised. See: https://urllib3.readthedocs.io/en/latest/advanced-usage.html#ssl-warnings\n",
      "  InsecureRequestWarning)\n",
      " 2021-08-09 00:34:42,649 - WARNING - 68 rows have been translated. Translated content: It got burned in the first 10 minutes of operation \n"
     ]
    },
    {
     "name": "stdout",
     "output_type": "stream",
     "text": [
      "Adapter not working.. I want to return back\n"
     ]
    },
    {
     "name": "stderr",
     "output_type": "stream",
     "text": [
      "C:\\Users\\kuang\\Anaconda3\\lib\\site-packages\\requests\\packages\\urllib3\\connectionpool.py:852: InsecureRequestWarning: Unverified HTTPS request is being made. Adding certificate verification is strongly advised. See: https://urllib3.readthedocs.io/en/latest/advanced-usage.html#ssl-warnings\n",
      "  InsecureRequestWarning)\n",
      " 2021-08-09 00:34:53,066 - WARNING - 69 rows have been translated. Translated content: Adapter not working.. I want to return back \n"
     ]
    },
    {
     "name": "stdout",
     "output_type": "stream",
     "text": [
      "El paquete nunca lo mandaron, el vendedor jamas contestó a mis dudas y preguntas, lo desaconsejo total mente. Lo bueno que aliexpres me reembolso todo el importe.\n"
     ]
    },
    {
     "name": "stderr",
     "output_type": "stream",
     "text": [
      "C:\\Users\\kuang\\Anaconda3\\lib\\site-packages\\requests\\packages\\urllib3\\connectionpool.py:852: InsecureRequestWarning: Unverified HTTPS request is being made. Adding certificate verification is strongly advised. See: https://urllib3.readthedocs.io/en/latest/advanced-usage.html#ssl-warnings\n",
      "  InsecureRequestWarning)\n",
      " 2021-08-09 00:35:03,517 - WARNING - 70 rows have been translated. Translated content: The package never sent him, the seller never answered my doubts and questions, I discourage him totally mind. The good thing that Aliexpres will refund me all the amount. \n"
     ]
    },
    {
     "name": "stdout",
     "output_type": "stream",
     "text": [
      "not get this\n"
     ]
    },
    {
     "name": "stderr",
     "output_type": "stream",
     "text": [
      "C:\\Users\\kuang\\Anaconda3\\lib\\site-packages\\requests\\packages\\urllib3\\connectionpool.py:852: InsecureRequestWarning: Unverified HTTPS request is being made. Adding certificate verification is strongly advised. See: https://urllib3.readthedocs.io/en/latest/advanced-usage.html#ssl-warnings\n",
      "  InsecureRequestWarning)\n",
      " 2021-08-09 00:35:13,925 - WARNING - 71 rows have been translated. Translated content: not get this \n"
     ]
    },
    {
     "data": {
      "text/html": [
       "<div>\n",
       "<table border=\"1\" class=\"dataframe\">\n",
       "  <thead>\n",
       "    <tr style=\"text-align: right;\">\n",
       "      <th></th>\n",
       "      <th>content</th>\n",
       "      <th>type</th>\n",
       "      <th>another</th>\n",
       "    </tr>\n",
       "  </thead>\n",
       "  <tbody>\n",
       "    <tr>\n",
       "      <th>0</th>\n",
       "      <td>DONT BUT THIS OR YOUR RISKING IN BURNING YOUR ...</td>\n",
       "      <td>中评</td>\n",
       "      <td>DONT BUT THIS OR YOUR RISKING IN BURNING YOUR ...</td>\n",
       "    </tr>\n",
       "    <tr>\n",
       "      <th>1</th>\n",
       "      <td>Durou nem 2 horas ligado e já queimou.porcaria</td>\n",
       "      <td>中评</td>\n",
       "      <td>It lasted neither 2 hours connected and alread...</td>\n",
       "    </tr>\n",
       "    <tr>\n",
       "      <th>2</th>\n",
       "      <td>I didn't receive the product at all.</td>\n",
       "      <td>中评</td>\n",
       "      <td>I didn't receive the product at all.</td>\n",
       "    </tr>\n",
       "    <tr>\n",
       "      <th>3</th>\n",
       "      <td>jamais reçu</td>\n",
       "      <td>中评</td>\n",
       "      <td>never received</td>\n",
       "    </tr>\n",
       "    <tr>\n",
       "      <th>4</th>\n",
       "      <td>no corresponde</td>\n",
       "      <td>中评</td>\n",
       "      <td>Does not appropriate</td>\n",
       "    </tr>\n",
       "  </tbody>\n",
       "</table>\n",
       "</div>"
      ],
      "text/plain": [
       "                                             content type  \\\n",
       "0  DONT BUT THIS OR YOUR RISKING IN BURNING YOUR ...   中评   \n",
       "1     Durou nem 2 horas ligado e já queimou.porcaria   中评   \n",
       "2               I didn't receive the product at all.   中评   \n",
       "3                                        jamais reçu   中评   \n",
       "4                                     no corresponde   中评   \n",
       "\n",
       "                                             another  \n",
       "0  DONT BUT THIS OR YOUR RISKING IN BURNING YOUR ...  \n",
       "1  It lasted neither 2 hours connected and alread...  \n",
       "2              I didn't receive the product at all.   \n",
       "3                                    never received   \n",
       "4                              Does not appropriate   "
      ]
     },
     "execution_count": 19,
     "metadata": {},
     "output_type": "execute_result"
    }
   ],
   "source": [
    "for index, row in df_merge.iterrows():\n",
    "    translated = 0\n",
    "    while translated == 0:\n",
    "        try:\n",
    "            to_be_translated = row['content']\n",
    "            print(row['content'])\n",
    "            translated_content = translator.translate(to_be_translated, lang_tgt='en')\n",
    "            df_merge.at[index, 'another'] = translated_content\n",
    "            logging.warning(str(index + 1) + ' rows have been translated. Translated content: ' + str(translated_content))\n",
    "            time.sleep(10)\n",
    "            \n",
    "            translated = 1\n",
    "        except Exception as err:\n",
    "            logging.warning(str(index + 1) + ' rows have not been translated. Error message: ' + str(err) + ', try again.')\n",
    "            pass\n",
    "\n",
    "df_merge.head()"
   ]
  },
  {
   "cell_type": "code",
   "execution_count": 20,
   "metadata": {
    "collapsed": true
   },
   "outputs": [],
   "source": [
    "df_merge.to_csv('速卖通多用电源中差评内容（翻译后）.csv')"
   ]
  }
 ],
 "metadata": {
  "anaconda-cloud": {},
  "kernelspec": {
   "display_name": "Python [conda env:Anaconda3]",
   "language": "python",
   "name": "conda-env-Anaconda3-py"
  },
  "language_info": {
   "codemirror_mode": {
    "name": "ipython",
    "version": 3
   },
   "file_extension": ".py",
   "mimetype": "text/x-python",
   "name": "python",
   "nbconvert_exporter": "python",
   "pygments_lexer": "ipython3",
   "version": "3.5.2"
  }
 },
 "nbformat": 4,
 "nbformat_minor": 1
}
