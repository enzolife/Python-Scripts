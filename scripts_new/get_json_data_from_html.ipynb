{
 "cells": [
  {
   "cell_type": "code",
   "execution_count": 1,
   "metadata": {
    "collapsed": false
   },
   "outputs": [],
   "source": [
    "from urllib.request import urlopen\n",
    "from bs4 import BeautifulSoup\n",
    "from datetime import datetime\n",
    "import pandas as pd\n",
    "import re\n",
    "import json\n",
    "import requests"
   ]
  },
  {
   "cell_type": "code",
   "execution_count": 27,
   "metadata": {
    "collapsed": false,
    "scrolled": true
   },
   "outputs": [
    {
     "name": "stdout",
     "output_type": "stream",
     "text": [
      "<class 'str'> <class 'str'>\n"
     ]
    },
    {
     "name": "stderr",
     "output_type": "stream",
     "text": [
      "C:\\Users\\Enzo.kuang\\Anaconda3\\lib\\site-packages\\requests\\packages\\urllib3\\connectionpool.py:843: InsecureRequestWarning: Unverified HTTPS request is being made. Adding certificate verification is strongly advised. See: https://urllib3.readthedocs.io/en/latest/advanced-usage.html#ssl-warnings\n",
      "  InsecureRequestWarning)\n"
     ]
    }
   ],
   "source": [
    "url = 'https://feedback.aliexpress.com/display/evaluationProductDetailAjaxService.htm?callback=jQuery18307810853061944567_1505355496624&productId=32326661278&type=default&page=1&_=1505355583786'\n",
    "htmlContent = requests.get(url, verify=False)\n",
    "data = htmlContent.text\n",
    "# print(\"data\",data)\n",
    "jsonD = json.dumps(htmlContent.text)\n",
    "jsonL = json.loads(jsonD)\n",
    "print(type(jsonL), type(jsonD))"
   ]
  },
  {
   "cell_type": "code",
   "execution_count": 28,
   "metadata": {
    "collapsed": true
   },
   "outputs": [],
   "source": [
    "order_record_column = ['order_id', 'purchased_time']\n",
    "order_record_list = pd.DataFrame(columns=order_record_column)"
   ]
  },
  {
   "cell_type": "code",
   "execution_count": 29,
   "metadata": {
    "collapsed": false,
    "scrolled": false
   },
   "outputs": [
    {
     "name": "stdout",
     "output_type": "stream",
     "text": [
      "An exception happended: 'str' object has no attribute 'get'\n",
      "An exception happended: 'str' object has no attribute 'get'\n",
      "An exception happended: 'str' object has no attribute 'get'\n",
      "An exception happended: 'str' object has no attribute 'get'\n",
      "An exception happended: 'str' object has no attribute 'get'\n",
      "An exception happended: 'str' object has no attribute 'get'\n",
      "An exception happended: 'str' object has no attribute 'get'\n",
      "Empty DataFrame\n",
      "Columns: [order_id, purchased_time]\n",
      "Index: []\n"
     ]
    }
   ],
   "source": [
    "i = 1\n",
    "while i <= 7:\n",
    "    try:\n",
    "        # print(jsonL.get('records')[i].get('id'))\n",
    "        # print(datetime.strptime(jsonL.get('records')[i].get('date'),'%d %b %Y %H:%M'))\n",
    "        order_id = jsonL.get('records')[i].get('id')\n",
    "        purchased_time = datetime.strptime(jsonL.get('records')[i].get('date'),'%d %b %Y %H:%M')\n",
    "        order_record_list.set_value(i, 'order_id', order_id)\n",
    "        order_record_list.set_value(i, 'purchased_time', purchased_time)\n",
    "    except Exception as err:\n",
    "        print('An exception happended: ' + str(err))\n",
    "    i = i + 1\n",
    "print(order_record_list)"
   ]
  }
 ],
 "metadata": {
  "kernelspec": {
   "display_name": "Python 3",
   "language": "python",
   "name": "python3"
  },
  "language_info": {
   "codemirror_mode": {
    "name": "ipython",
    "version": 3
   },
   "file_extension": ".py",
   "mimetype": "text/x-python",
   "name": "python",
   "nbconvert_exporter": "python",
   "pygments_lexer": "ipython3",
   "version": "3.6.0"
  }
 },
 "nbformat": 4,
 "nbformat_minor": 0
}
