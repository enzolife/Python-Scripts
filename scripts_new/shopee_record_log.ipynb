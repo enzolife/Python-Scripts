{
 "cells": [
  {
   "cell_type": "code",
   "execution_count": 3,
   "metadata": {
    "collapsed": false
   },
   "outputs": [
    {
     "name": "stderr",
     "output_type": "stream",
     "text": [
      "2018-05-07 18:52:03,515 - scope.name - ERROR - Error message\n",
      "2018-05-07 18:52:03,515 - scope.name - ERROR - Error message\n",
      "2018-05-07 18:52:03,515 - scope.name - ERROR - Error message\n"
     ]
    }
   ],
   "source": [
    "import logging\n",
    "\n",
    "logger = logging.getLogger('scope.name')\n",
    "\n",
    "file_log_handler = logging.FileHandler('logfile.log')\n",
    "logger.addHandler(file_log_handler)\n",
    "\n",
    "stderr_log_handler = logging.StreamHandler()\n",
    "logger.addHandler(stderr_log_handler)\n",
    "\n",
    "# nice output format\n",
    "formatter = logging.Formatter('%(asctime)s - %(name)s - %(levelname)s - %(message)s')\n",
    "file_log_handler.setFormatter(formatter)\n",
    "stderr_log_handler.setFormatter(formatter)\n",
    "\n",
    "logger.info('Info message')\n",
    "logger.error('Error message')"
   ]
  },
  {
   "cell_type": "code",
   "execution_count": 4,
   "metadata": {
    "collapsed": true
   },
   "outputs": [],
   "source": [
    "logging.basicConfig(filename='shopee_schedule_run_log.txt',\n",
    "                    level=logging.INFO,\n",
    "                    format=' %(asctime)s - %(levelname)s - %(message)s')\n",
    "logging.info('Start of program.')"
   ]
  }
 ],
 "metadata": {
  "kernelspec": {
   "display_name": "Python 3",
   "language": "python",
   "name": "python3"
  },
  "language_info": {
   "codemirror_mode": {
    "name": "ipython",
    "version": 3
   },
   "file_extension": ".py",
   "mimetype": "text/x-python",
   "name": "python",
   "nbconvert_exporter": "python",
   "pygments_lexer": "ipython3",
   "version": "3.6.0"
  }
 },
 "nbformat": 4,
 "nbformat_minor": 2
}
